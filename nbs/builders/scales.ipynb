{
 "cells": [
  {
   "cell_type": "markdown",
   "id": "5129d398-3f7b-4b8a-a771-81339384d4e9",
   "metadata": {},
   "source": [
    "# scales\n",
    "\n",
    "> Named scale support for DaisyUI components"
   ]
  },
  {
   "cell_type": "code",
   "execution_count": null,
   "id": "c458d90a-1357-4102-ac7a-d951d1499406",
   "metadata": {},
   "outputs": [],
   "source": [
    "#| default_exp builders.scales"
   ]
  },
  {
   "cell_type": "code",
   "execution_count": null,
   "id": "a71c0cda-5a6f-4755-a7ef-e1bc4de7a3ba",
   "metadata": {},
   "outputs": [],
   "source": [
    "#| hide\n",
    "from nbdev.showdoc import *"
   ]
  },
  {
   "cell_type": "code",
   "execution_count": null,
   "id": "d623facf-9df1-4c99-83ad-5f1bddf5b1a4",
   "metadata": {},
   "outputs": [],
   "source": [
    "#| export\n",
    "from enum import Enum\n",
    "from cjm_fasthtml_tailwind.core.base import NamedScale"
   ]
  },
  {
   "cell_type": "code",
   "execution_count": null,
   "id": "d2efef36-db47-43b6-8e13-b782f83e47f1",
   "metadata": {},
   "outputs": [],
   "source": []
  },
  {
   "cell_type": "code",
   "execution_count": null,
   "id": "c68bbfdc-4b73-4a94-9e5a-6f567da4b7c9",
   "metadata": {},
   "outputs": [],
   "source": [
    "#| export\n",
    "# DaisyUI names sizes\n",
    "class DaisyUINamedSize(str, Enum):\n",
    "    XS = \"xs\"\n",
    "    SM = \"sm\"\n",
    "    MD = \"md\"\n",
    "    LG = \"lg\"\n",
    "    XL = \"xl\""
   ]
  },
  {
   "cell_type": "code",
   "execution_count": null,
   "id": "ef55f8b7-ec27-473d-9126-65fd71918b8f",
   "metadata": {},
   "outputs": [],
   "source": [
    "from cjm_fasthtml_tailwind.builders.scales import enums_to_simple_factory\n",
    "\n",
    "btn_sizes = enums_to_simple_factory(\"btn\", [DaisyUINamedSize], \"Button size variants from extra small to extra large\")\n",
    "\n",
    "assert str(btn_sizes.xs) == \"btn-xs\"\n",
    "assert str(btn_sizes.sm) == \"btn-sm\"\n",
    "assert str(btn_sizes.md) == \"btn-md\"\n",
    "assert str(btn_sizes.lg) == \"btn-lg\"\n",
    "assert str(btn_sizes.xl) == \"btn-xl\"\n",
    "\n",
    "assert str(btn_sizes.md.hover) == \"hover:btn-md\""
   ]
  },
  {
   "cell_type": "code",
   "execution_count": null,
   "id": "8cfca8c4-7e84-4de0-8ed2-367b59505973",
   "metadata": {},
   "outputs": [],
   "source": []
  },
  {
   "cell_type": "code",
   "execution_count": null,
   "id": "37388951-137b-49f0-b665-f60ed3ba454d",
   "metadata": {},
   "outputs": [],
   "source": []
  },
  {
   "cell_type": "code",
   "execution_count": null,
   "id": "069e354c-6f3f-4a3e-b711-90c94850cf44",
   "metadata": {},
   "outputs": [],
   "source": []
  },
  {
   "cell_type": "code",
   "execution_count": null,
   "id": "b1a62df8-fe2f-4615-b3cb-1963e4464a76",
   "metadata": {},
   "outputs": [],
   "source": []
  },
  {
   "cell_type": "code",
   "execution_count": null,
   "id": "2f4bb19b-0225-468e-8400-5ed65c344b78",
   "metadata": {},
   "outputs": [],
   "source": []
  },
  {
   "cell_type": "code",
   "execution_count": null,
   "id": "132a4c29-c0ed-46e6-9844-1e9325022b8b",
   "metadata": {},
   "outputs": [],
   "source": []
  },
  {
   "cell_type": "code",
   "execution_count": null,
   "id": "3d09b2b7-d129-42c4-a9a1-526035c7c943",
   "metadata": {},
   "outputs": [],
   "source": [
    "#| hide\n",
    "import nbdev; nbdev.nbdev_export()"
   ]
  }
 ],
 "metadata": {
  "kernelspec": {
   "display_name": "python3",
   "language": "python",
   "name": "python3"
  }
 },
 "nbformat": 4,
 "nbformat_minor": 5
}
