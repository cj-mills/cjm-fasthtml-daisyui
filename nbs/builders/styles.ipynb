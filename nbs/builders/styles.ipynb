{
 "cells": [
  {
   "cell_type": "markdown",
   "id": "15dfb351-4012-455a-88f8-892796090f3b",
   "metadata": {},
   "source": [
    "# styles\n",
    "\n",
    "> Named style support for daisyUI components"
   ]
  },
  {
   "cell_type": "code",
   "execution_count": null,
   "id": "08a1168c-b937-4d00-82a9-c714b52eece6",
   "metadata": {},
   "outputs": [],
   "source": [
    "#| default_exp builders.styles"
   ]
  },
  {
   "cell_type": "code",
   "execution_count": null,
   "id": "0ddd9333-7d68-42aa-b0fe-8aadd1f1cd80",
   "metadata": {},
   "outputs": [],
   "source": [
    "#| export\n",
    "from enum import Enum"
   ]
  },
  {
   "cell_type": "markdown",
   "id": "384a5da5-d894-4d2e-9e22-8740ab8aad9b",
   "metadata": {},
   "source": [
    "## Named Style Enum\n",
    "\n",
    "Define enum for the style names used by daisyUI:"
   ]
  },
  {
   "cell_type": "code",
   "execution_count": null,
   "id": "5e7d6efb-f496-4894-a74d-d11afcdc6194",
   "metadata": {},
   "outputs": [],
   "source": [
    "#| export\n",
    "class OutlineStyle(str, Enum):\n",
    "    \"\"\"daisyUI style names.\"\"\"\n",
    "    OUTLINE = \"outline\""
   ]
  },
  {
   "cell_type": "code",
   "execution_count": null,
   "id": "ec44258a-d4d1-4911-8672-33a9c79890cd",
   "metadata": {},
   "outputs": [],
   "source": [
    "#| export\n",
    "class DashStyle(str, Enum):\n",
    "    \"\"\"daisyUI style names.\"\"\"\n",
    "    DASH = \"dash\""
   ]
  },
  {
   "cell_type": "code",
   "execution_count": null,
   "id": "045a5fe6-d775-4a77-915e-d42364bf36f6",
   "metadata": {},
   "outputs": [],
   "source": [
    "#| export\n",
    "class SoftStyle(str, Enum):\n",
    "    \"\"\"daisyUI style names.\"\"\"\n",
    "    SOFT = \"soft\""
   ]
  },
  {
   "cell_type": "code",
   "execution_count": null,
   "id": "b9b8cf5b-d1b5-4cc0-bd99-ff210cd4cd13",
   "metadata": {},
   "outputs": [],
   "source": [
    "#| export\n",
    "class GhostStyle(str, Enum):\n",
    "    \"\"\"daisyUI style names.\"\"\"\n",
    "    GHOST = \"ghost\""
   ]
  },
  {
   "cell_type": "code",
   "execution_count": null,
   "id": "246a9d78-696e-4193-aa56-befd683ea881",
   "metadata": {},
   "outputs": [],
   "source": [
    "#| export\n",
    "class BorderStyle(str, Enum):\n",
    "    \"\"\"daisyUI style names.\"\"\"\n",
    "    BORDER = \"border\""
   ]
  },
  {
   "cell_type": "code",
   "execution_count": null,
   "id": "bc57ef88-6c8a-487c-995e-a805a4fce2ee",
   "metadata": {},
   "outputs": [],
   "source": [
    "#| export\n",
    "class HoverStyle(str, Enum):\n",
    "    \"\"\"daisyUI style names.\"\"\"\n",
    "    HOVER = \"hover\""
   ]
  },
  {
   "cell_type": "code",
   "execution_count": null,
   "id": "4c845bf1-cab3-4fc7-9f10-da3ce4ab814c",
   "metadata": {},
   "outputs": [],
   "source": []
  },
  {
   "cell_type": "code",
   "execution_count": null,
   "id": "5b875fbe-6fbd-4294-aa50-cbd472ea3d66",
   "metadata": {},
   "outputs": [],
   "source": [
    "from cjm_fasthtml_tailwind.builders.scales import enums_to_simple_factory\n",
    "badge_styles = enums_to_simple_factory(\"badge\", [OutlineStyle, DashStyle, SoftStyle, GhostStyle])\n",
    "\n",
    "assert str(badge_styles.outline) == \"badge-outline\"\n",
    "assert str(badge_styles.dash) == \"badge-dash\"\n",
    "assert str(badge_styles.soft) == \"badge-soft\"\n",
    "assert str(badge_styles.ghost) == \"badge-ghost\"\n",
    "\n",
    "assert str(badge_styles.ghost.hover) == \"hover:badge-ghost\""
   ]
  },
  {
   "cell_type": "code",
   "execution_count": null,
   "id": "95ba9e60-0fe7-46f7-87d3-91484a7d53a4",
   "metadata": {},
   "outputs": [],
   "source": []
  },
  {
   "cell_type": "code",
   "execution_count": null,
   "id": "db540c35-84a0-4599-b8c3-e493c72978dd",
   "metadata": {},
   "outputs": [],
   "source": []
  },
  {
   "cell_type": "code",
   "execution_count": null,
   "id": "e27b301b-8a0f-46a7-be12-d98175d9abda",
   "metadata": {},
   "outputs": [],
   "source": []
  },
  {
   "cell_type": "code",
   "execution_count": null,
   "id": "82b5db99-0701-45bc-bb46-b83421226ccd",
   "metadata": {},
   "outputs": [],
   "source": [
    "#| hide\n",
    "import nbdev; nbdev.nbdev_export()"
   ]
  }
 ],
 "metadata": {
  "kernelspec": {
   "display_name": "python3",
   "language": "python",
   "name": "python3"
  }
 },
 "nbformat": 4,
 "nbformat_minor": 5
}
