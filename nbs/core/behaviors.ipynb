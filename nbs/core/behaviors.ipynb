{
 "cells": [
  {
   "cell_type": "markdown",
   "id": "a42de578-75a7-4bcd-aae8-76cb41340c82",
   "metadata": {},
   "source": [
    "# Behavior States\n",
    "\n",
    "> Mixin for components with behavior states (active, disabled, loading)"
   ]
  },
  {
   "cell_type": "code",
   "execution_count": null,
   "id": "6fe1c05a-c9d9-47fb-ac54-c378aa449907",
   "metadata": {},
   "outputs": [],
   "source": [
    "#| default_exp core.behaviors"
   ]
  },
  {
   "cell_type": "code",
   "execution_count": null,
   "id": "3b7a2c0d-2478-4ec1-8c12-3e553ca7939f",
   "metadata": {},
   "outputs": [],
   "source": [
    "#| hide\n",
    "from nbdev.showdoc import *"
   ]
  },
  {
   "cell_type": "code",
   "execution_count": null,
   "id": "93e8c7d7-b9f0-47a1-8069-7d4d88270eea",
   "metadata": {},
   "outputs": [],
   "source": [
    "#| export\n",
    "from typing import List, Dict, Any, Optional"
   ]
  },
  {
   "cell_type": "markdown",
   "id": "4921d133-0f8a-4054-ba26-937ec9fb49ba",
   "metadata": {},
   "source": [
    "## HasBehaviors Mixin\n",
    "\n",
    "Mixin for components with interactive behavior states."
   ]
  },
  {
   "cell_type": "code",
   "execution_count": null,
   "id": "5f6fcb8a-d2e0-418c-a214-14f9ca5bbd32",
   "metadata": {},
   "outputs": [],
   "source": [
    "#| export\n",
    "class HasBehaviors:\n",
    "    \"\"\"Mixin for components with behavior states.\n",
    "    \n",
    "    This mixin provides functionality for interactive components\n",
    "    that can be active, disabled, loading, etc.\n",
    "    \"\"\"\n",
    "    \n",
    "    # Behavior states\n",
    "    active: bool = False\n",
    "    disabled: bool = False\n",
    "    loading: bool = False\n",
    "    open: bool = False  # For modals, dropdowns, etc.\n",
    "    checked: bool = False  # For checkboxes, toggles, etc.\n",
    "    \n",
    "    def behavior_classes(\n",
    "        self\n",
    "    ) -> List[str]:  # TODO: Add return description\n",
    "        \"\"\"Return behavior state classes.\"\"\"\n",
    "        classes = []\n",
    "        base = self.component_class()\n",
    "        \n",
    "        if self.active and self.supports_active():\n",
    "            classes.append(f\"{base}-active\")\n",
    "            \n",
    "        if self.disabled and self.supports_disabled():\n",
    "            classes.append(f\"{base}-disabled\")\n",
    "            \n",
    "        if self.loading and self.supports_loading():\n",
    "            # Some components use a general 'loading' class\n",
    "            if self.loading_uses_base_class():\n",
    "                classes.append(\"loading\")\n",
    "            else:\n",
    "                classes.append(f\"{base}-loading\")\n",
    "                \n",
    "        if self.open and hasattr(self, 'supports_open') and self.supports_open():\n",
    "            classes.append(f\"{base}-open\")\n",
    "            \n",
    "        if self.checked and hasattr(self, 'supports_checked') and self.supports_checked():\n",
    "            # Some components need the checked state as a class\n",
    "            classes.append(f\"{base}-checked\")\n",
    "            \n",
    "        return classes\n",
    "    \n",
    "    def supports_active(\n",
    "        self\n",
    "    ) -> bool:  # TODO: Add return description\n",
    "        \"\"\"Whether this component supports active state.\"\"\"\n",
    "        return False\n",
    "        \n",
    "    def supports_disabled(\n",
    "        self\n",
    "    ) -> bool:  # TODO: Add return description\n",
    "        \"\"\"Whether this component supports disabled state.\"\"\"\n",
    "        return False\n",
    "        \n",
    "    def supports_loading(\n",
    "        self\n",
    "    ) -> bool:  # TODO: Add return description\n",
    "        \"\"\"Whether this component supports loading state.\"\"\"\n",
    "        return False\n",
    "        \n",
    "    def loading_uses_base_class(\n",
    "        self\n",
    "    ) -> bool:  # TODO: Add return description\n",
    "        \"\"\"Whether loading state uses 'loading' instead of '{component}-loading'.\"\"\"\n",
    "        return True\n",
    "    \n",
    "    def behavior_attrs(\n",
    "        self\n",
    "    ) -> Dict[str, Any]:  # TODO: Add return description\n",
    "        \"\"\"Return HTML attributes for behavior states.\"\"\"\n",
    "        attrs = {}\n",
    "        \n",
    "        if self.disabled and self.supports_disabled():\n",
    "            # Add appropriate attributes based on element type\n",
    "            attrs[\"disabled\"] = True\n",
    "            attrs[\"aria-disabled\"] = \"true\"\n",
    "            \n",
    "        if self.open and hasattr(self, 'supports_open') and self.supports_open():\n",
    "            # For dialog elements\n",
    "            if hasattr(self, 'uses_dialog') and self.uses_dialog():\n",
    "                attrs[\"open\"] = True\n",
    "                \n",
    "        if self.checked and hasattr(self, 'supports_checked') and self.supports_checked():\n",
    "            attrs[\"checked\"] = True\n",
    "            \n",
    "        return attrs"
   ]
  },
  {
   "cell_type": "markdown",
   "id": "671bb8c3-2e8f-4528-a1e4-b2ebc7c14f86",
   "metadata": {},
   "source": [
    "## InteractiveMixin\n",
    "\n",
    "Extended mixin for form controls and interactive elements."
   ]
  },
  {
   "cell_type": "code",
   "execution_count": null,
   "id": "5807a879-e8ef-4532-be7a-caa5f14b5c8d",
   "metadata": {},
   "outputs": [],
   "source": [
    "#| export\n",
    "class InteractiveMixin(HasBehaviors):\n",
    "    \"\"\"Extended mixin for interactive components.\n",
    "    \n",
    "    This combines HasBehaviors with additional interactive properties\n",
    "    commonly needed for buttons, inputs, and other interactive elements.\n",
    "    \"\"\"\n",
    "    \n",
    "    # Additional interactive properties\n",
    "    focus: bool = False\n",
    "    hover: bool = False\n",
    "    \n",
    "    def interactive_classes(\n",
    "        self\n",
    "    ) -> List[str]:  # TODO: Add return description\n",
    "        \"\"\"Return all interactive state classes.\"\"\"\n",
    "        classes = self.behavior_classes()\n",
    "        base = self.component_class()\n",
    "        \n",
    "        if self.focus and hasattr(self, 'supports_focus') and self.supports_focus():\n",
    "            classes.append(f\"{base}-focus\")\n",
    "            \n",
    "        if self.hover and hasattr(self, 'supports_hover') and self.supports_hover():\n",
    "            classes.append(f\"{base}-hover\")\n",
    "            \n",
    "        return classes"
   ]
  },
  {
   "cell_type": "markdown",
   "id": "2e54f878-97c2-444b-a142-09e0d2c538f3",
   "metadata": {},
   "source": [
    "## FormControlMixin\n",
    "\n",
    "Mixin for form control components."
   ]
  },
  {
   "cell_type": "code",
   "execution_count": null,
   "id": "779373cc-cb8f-4a35-8c6d-bb8a6ea12291",
   "metadata": {},
   "outputs": [],
   "source": [
    "#| export\n",
    "class FormControlMixin:\n",
    "    \"\"\"Mixin for form control components.\n",
    "    \n",
    "    This mixin provides common properties and methods for\n",
    "    form elements like inputs, selects, textareas, etc.\n",
    "    \"\"\"\n",
    "    \n",
    "    # Form control properties\n",
    "    name: Optional[str] = None\n",
    "    value: Optional[str] = None\n",
    "    placeholder: Optional[str] = None\n",
    "    required: bool = False\n",
    "    readonly: bool = False\n",
    "    autofocus: bool = False\n",
    "    \n",
    "    def form_attrs(\n",
    "        self\n",
    "    ) -> Dict[str, Any]:  # TODO: Add return description\n",
    "        \"\"\"Return form-related HTML attributes.\"\"\"\n",
    "        attrs = {}\n",
    "        \n",
    "        if self.name:\n",
    "            attrs[\"name\"] = self.name\n",
    "            \n",
    "        if self.value is not None:\n",
    "            attrs[\"value\"] = self.value\n",
    "            \n",
    "        if self.placeholder:\n",
    "            attrs[\"placeholder\"] = self.placeholder\n",
    "            \n",
    "        if self.required:\n",
    "            attrs[\"required\"] = True\n",
    "            \n",
    "        if self.readonly:\n",
    "            attrs[\"readonly\"] = True\n",
    "            \n",
    "        if self.autofocus:\n",
    "            attrs[\"autofocus\"] = True\n",
    "            \n",
    "        return attrs"
   ]
  },
  {
   "cell_type": "code",
   "execution_count": null,
   "id": "d96c6f27-5aef-439c-af44-f47e522b4717",
   "metadata": {},
   "outputs": [],
   "source": []
  },
  {
   "cell_type": "code",
   "execution_count": null,
   "id": "ac79fb53-9815-4821-be60-ea6df3e2fad3",
   "metadata": {},
   "outputs": [],
   "source": []
  },
  {
   "cell_type": "code",
   "execution_count": null,
   "id": "efb65d44-8175-4952-9407-7498aeb6835b",
   "metadata": {},
   "outputs": [],
   "source": []
  },
  {
   "cell_type": "code",
   "execution_count": null,
   "id": "3ef87238-b41c-471a-bdd9-02d6a9da8bd1",
   "metadata": {},
   "outputs": [],
   "source": []
  },
  {
   "cell_type": "code",
   "execution_count": null,
   "id": "db91716d-6ddf-4082-81d4-5fe75e505c07",
   "metadata": {},
   "outputs": [],
   "source": []
  },
  {
   "cell_type": "code",
   "execution_count": null,
   "id": "d7ceb976-dde7-4370-b849-afcf0e54e1a2",
   "metadata": {},
   "outputs": [],
   "source": []
  },
  {
   "cell_type": "code",
   "execution_count": null,
   "id": "31c9aff4-b839-4b9b-a319-e15d016044cb",
   "metadata": {},
   "outputs": [],
   "source": []
  },
  {
   "cell_type": "code",
   "execution_count": null,
   "id": "b374e4f9-975a-49a0-a650-61aba07d87e5",
   "metadata": {},
   "outputs": [],
   "source": []
  },
  {
   "cell_type": "code",
   "execution_count": null,
   "id": "0ab3d4b4-03dc-4aa9-bfe3-506957c32833",
   "metadata": {},
   "outputs": [],
   "source": []
  },
  {
   "cell_type": "code",
   "execution_count": null,
   "id": "77ac2271-96e3-40e0-933f-599762248ed0",
   "metadata": {},
   "outputs": [],
   "source": []
  },
  {
   "cell_type": "code",
   "execution_count": null,
   "id": "17907a08-f3de-4bca-8b28-e7f79eec85c4",
   "metadata": {},
   "outputs": [],
   "source": []
  },
  {
   "cell_type": "code",
   "execution_count": null,
   "id": "70484719-f0a9-48dd-ade8-4b75657c58d5",
   "metadata": {},
   "outputs": [],
   "source": [
    "#| hide\n",
    "import nbdev; nbdev.nbdev_export()"
   ]
  }
 ],
 "metadata": {
  "kernelspec": {
   "display_name": "python3",
   "language": "python",
   "name": "python3"
  }
 },
 "nbformat": 4,
 "nbformat_minor": 5
}
