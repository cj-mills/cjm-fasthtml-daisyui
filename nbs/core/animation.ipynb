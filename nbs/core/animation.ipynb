{
 "cells": [
  {
   "cell_type": "markdown",
   "id": "83b7148b",
   "metadata": {},
   "source": [
    "# Animation & Transitions\n",
    "\n",
    "> Support for component animations and transitions"
   ]
  },
  {
   "cell_type": "code",
   "execution_count": null,
   "id": "75a3598a",
   "metadata": {},
   "outputs": [],
   "source": [
    "#| default_exp core.animation"
   ]
  },
  {
   "cell_type": "code",
   "execution_count": null,
   "id": "a75cd63d",
   "metadata": {},
   "outputs": [],
   "source": [
    "#| hide\n",
    "from nbdev.showdoc import *"
   ]
  },
  {
   "cell_type": "code",
   "execution_count": null,
   "id": "423e9b76",
   "metadata": {},
   "outputs": [],
   "source": [
    "#| export\n",
    "from typing import Optional, List, Dict, Any\n",
    "from enum import Enum\n",
    "from cjm_tailwind_utils.all import TailwindBuilder\n",
    "from cjm_fasthtml_daisyui.core.types import CSSContributor, CSSClasses"
   ]
  },
  {
   "cell_type": "markdown",
   "id": "2d4360f7",
   "metadata": {},
   "source": [
    "## Animation Types\n",
    "\n",
    "Common animation patterns in daisyUI."
   ]
  },
  {
   "cell_type": "code",
   "execution_count": null,
   "id": "51806516-d514-4753-b9cc-6dc7304fb17a",
   "metadata": {},
   "outputs": [],
   "source": [
    "#| export\n",
    "class AnimationType(str, Enum):\n",
    "    \"\"\"Common animation types.\"\"\"\n",
    "    SPIN = \"spin\"\n",
    "    PING = \"ping\"\n",
    "    PULSE = \"pulse\"\n",
    "    BOUNCE = \"bounce\""
   ]
  },
  {
   "cell_type": "code",
   "execution_count": null,
   "id": "b2bfce4c-89a9-4e84-8d8f-9c062a021cd4",
   "metadata": {},
   "outputs": [],
   "source": [
    "#| export\n",
    "class TransitionProperty(str, Enum):\n",
    "    \"\"\"Transition properties.\"\"\"\n",
    "    ALL = \"all\"\n",
    "    COLORS = \"colors\"\n",
    "    OPACITY = \"opacity\"\n",
    "    SHADOW = \"shadow\"\n",
    "    TRANSFORM = \"transform\""
   ]
  },
  {
   "cell_type": "markdown",
   "id": "54921417",
   "metadata": {},
   "source": [
    "## HasAnimation Mixin\n",
    "\n",
    "Mixin for components that support animations."
   ]
  },
  {
   "cell_type": "code",
   "execution_count": null,
   "id": "fe39cd42",
   "metadata": {},
   "outputs": [],
   "source": [
    "#| export\n",
    "class HasAnimation(CSSContributor):\n",
    "    \"\"\"Mixin for components with animation support.\n",
    "    \n",
    "    This provides animation and transition utilities for components.\n",
    "    \"\"\"\n",
    "    \n",
    "    # Animation properties\n",
    "    animate: Optional[AnimationType] = None\n",
    "    transition: Optional[TransitionProperty] = None\n",
    "    duration: Optional[int] = None  # Duration in ms\n",
    "    delay: Optional[int] = None  # Delay in ms\n",
    "    \n",
    "    def get_css_classes(self) -> CSSClasses:\n",
    "        \"\"\"Get animation-related classes.\n",
    "        \n",
    "        Returns:\n",
    "            List of CSS class strings for animations\n",
    "        \"\"\"\n",
    "        tb = TailwindBuilder()\n",
    "        \n",
    "        # Add animation\n",
    "        if self.animate:\n",
    "            tb.animate(self.animate.value)\n",
    "            \n",
    "        # Add transition\n",
    "        if self.transition:\n",
    "            if self.transition == TransitionProperty.ALL:\n",
    "                tb.add_class(\"transition-all\")\n",
    "            else:\n",
    "                tb.add_class(f\"transition-{self.transition.value}\")\n",
    "                \n",
    "        # Add duration\n",
    "        if self.duration is not None:\n",
    "            tb.add_class(f\"duration-{self.duration}\")\n",
    "            \n",
    "        # Add delay\n",
    "        if self.delay is not None:\n",
    "            tb.add_class(f\"delay-{self.delay}\")\n",
    "            \n",
    "        # Build and return as list\n",
    "        result = tb.build()\n",
    "        return result.split() if result else []\n",
    "    \n",
    "    def with_animation(self, \n",
    "                      animate: Optional[AnimationType] = None,  # TODO: Add description\n",
    "                      transition: Optional[TransitionProperty] = None,  # TODO: Add description\n",
    "                      duration: Optional[int] = None,  # TODO: Add description\n",
    "                      delay: Optional[int] = None) -> 'HasAnimation':\n",
    "        \"\"\"Configure animation and return self for chaining.\"\"\"\n",
    "        if animate is not None:\n",
    "            self.animate = animate\n",
    "        if transition is not None:\n",
    "            self.transition = transition\n",
    "        if duration is not None:\n",
    "            self.duration = duration\n",
    "        if delay is not None:\n",
    "            self.delay = delay\n",
    "        return self"
   ]
  },
  {
   "cell_type": "markdown",
   "id": "a1fe17da",
   "metadata": {},
   "source": [
    "## Component-Specific Animations\n",
    "\n",
    "Special animations for specific components."
   ]
  },
  {
   "cell_type": "code",
   "execution_count": null,
   "id": "c55de233-cd52-45c8-a742-57bfba3c288c",
   "metadata": {},
   "outputs": [],
   "source": [
    "#| export\n",
    "class LoadingAnimation:\n",
    "    \"\"\"Animation patterns for loading states.\"\"\"\n",
    "    \n",
    "    @staticmethod\n",
    "    def spinner(\n",
    "    ) -> List[str]:  # TODO: Add return description\n",
    "        \"\"\"Spinning loader animation.\"\"\"\n",
    "        return [\"animate-spin\"]\n",
    "    \n",
    "    @staticmethod\n",
    "    def dots(\n",
    "    ) -> List[str]:  # TODO: Add return description\n",
    "        \"\"\"Pulsing dots animation.\"\"\"\n",
    "        return [\"animate-pulse\"]\n",
    "    \n",
    "    @staticmethod\n",
    "    def skeleton(\n",
    "    ) -> List[str]:  # TODO: Add return description\n",
    "        \"\"\"Skeleton loading animation.\"\"\"\n",
    "        return [\"animate-pulse\", \"bg-base-200\"]"
   ]
  },
  {
   "cell_type": "code",
   "execution_count": null,
   "id": "cab97685-7f94-451b-b996-3f0adaacdffd",
   "metadata": {},
   "outputs": [],
   "source": [
    "#| export\n",
    "class SwapAnimation:\n",
    "    \"\"\"Animation patterns for swap components.\"\"\"\n",
    "    \n",
    "    @staticmethod\n",
    "    def rotate(\n",
    "    ) -> Dict[str, Any]:  # TODO: Add return description\n",
    "        \"\"\"Rotation swap animation.\"\"\"\n",
    "        return {\n",
    "            \"on_classes\": [\"swap-rotate\"],\n",
    "            \"off_classes\": []\n",
    "        }\n",
    "    \n",
    "    @staticmethod\n",
    "    def flip(\n",
    "    ) -> Dict[str, Any]:  # TODO: Add return description\n",
    "        \"\"\"Flip swap animation.\"\"\"\n",
    "        return {\n",
    "            \"on_classes\": [\"swap-flip\"],\n",
    "            \"off_classes\": []\n",
    "        }"
   ]
  },
  {
   "cell_type": "code",
   "execution_count": null,
   "id": "a1b12703",
   "metadata": {},
   "outputs": [],
   "source": [
    "#| hide\n",
    "import nbdev; nbdev.nbdev_export()"
   ]
  }
 ],
 "metadata": {
  "kernelspec": {
   "display_name": "python3",
   "language": "python",
   "name": "python3"
  }
 },
 "nbformat": 4,
 "nbformat_minor": 5
}
