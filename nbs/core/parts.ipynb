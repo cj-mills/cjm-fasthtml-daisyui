{
 "cells": [
  {
   "cell_type": "markdown",
   "id": "sy48xeqfe3g",
   "metadata": {},
   "source": [
    "# Component Parts\n",
    "\n",
    "> System for handling component parts (e.g., card-body, modal-box)"
   ]
  },
  {
   "cell_type": "code",
   "execution_count": null,
   "id": "xv61klwrhg",
   "metadata": {},
   "outputs": [],
   "source": [
    "#| default_exp core.parts"
   ]
  },
  {
   "cell_type": "code",
   "execution_count": null,
   "id": "a42de578-75a7-4bcd-aae8-76cb41340c82",
   "metadata": {},
   "outputs": [],
   "source": [
    "#| hide\n",
    "from nbdev.showdoc import *"
   ]
  },
  {
   "cell_type": "code",
   "execution_count": null,
   "id": "6fe1c05a-c9d9-47fb-ac54-c378aa449907",
   "metadata": {},
   "outputs": [],
   "source": [
    "#| export\n",
    "from typing import Dict, Any, Optional, List\n",
    "from dataclasses import dataclass, field\n",
    "from fasthtml.common import *\n",
    "from cjm_tailwind_utils.core import tw"
   ]
  },
  {
   "cell_type": "markdown",
   "id": "3b7a2c0d-2478-4ec1-8c12-3e553ca7939f",
   "metadata": {},
   "source": [
    "## Component Part Definition\n",
    "\n",
    "A component part represents a child element of a daisyUI component."
   ]
  },
  {
   "cell_type": "code",
   "execution_count": null,
   "id": "93e8c7d7-b9f0-47a1-8069-7d4d88270eea",
   "metadata": {},
   "outputs": [],
   "source": [
    "#| export\n",
    "@dataclass\n",
    "class ComponentPart:\n",
    "    \"\"\"Represents a part of a component (e.g., card-body, modal-box).\n",
    "    \n",
    "    Component parts are child elements that have specific styling\n",
    "    within their parent component context.\n",
    "    \"\"\"\n",
    "    name: str  # Part name (e.g., 'body', 'title', 'actions')\n",
    "    parent_component: str  # Parent component name (e.g., 'card', 'modal')\n",
    "    required: bool = False  # Whether this part is required\n",
    "    tag: str = \"div\"  # Default HTML tag for this part\n",
    "    \n",
    "    def class_name(\n",
    "        self\n",
    "    ) -> str:  # TODO: Add return description\n",
    "        \"\"\"Return the full class name for this part.\"\"\"\n",
    "        return f\"{self.parent_component}-{self.name}\""
   ]
  },
  {
   "cell_type": "markdown",
   "id": "4921d133-0f8a-4054-ba26-937ec9fb49ba",
   "metadata": {},
   "source": [
    "## HasParts Mixin\n",
    "\n",
    "Mixin class for components that have child parts."
   ]
  },
  {
   "cell_type": "code",
   "execution_count": null,
   "id": "5f6fcb8a-d2e0-418c-a214-14f9ca5bbd32",
   "metadata": {},
   "outputs": [],
   "source": [
    "#| export\n",
    "class HasParts:\n",
    "    \"\"\"Mixin for components that have child parts.\n",
    "    \n",
    "    This mixin provides functionality for components like cards, modals,\n",
    "    and other complex components that have defined child elements.\n",
    "    \"\"\"\n",
    "    \n",
    "    @classmethod\n",
    "    def parts(\n",
    "        cls  # TODO: Add type hint and description\n",
    "    ) -> Dict[str, ComponentPart]:  # TODO: Add return description\n",
    "        \"\"\"Return all available parts for this component.\n",
    "        \n",
    "        Subclasses should override this to define their parts.\n",
    "        \"\"\"\n",
    "        return {}\n",
    "    \n",
    "    def part(\n",
    "        self,\n",
    "        name: str,  # TODO: Add description\n",
    "        *children,\n",
    "        **attrs\n",
    "    ) -> Any:  # TODO: Add return description\n",
    "        \"\"\"Create a component part element.\n",
    "        \n",
    "        Args:\n",
    "            name: The part name (must be defined in parts())\n",
    "            *children: Child elements for this part\n",
    "            **attrs: HTML attributes for the part\n",
    "            \n",
    "        Returns:\n",
    "            FastHTML element with the appropriate part classes\n",
    "        \"\"\"\n",
    "        parts = self.parts()\n",
    "        if name not in parts:\n",
    "            raise ValueError(f\"Unknown part '{name}' for {self.__class__.__name__}\")\n",
    "            \n",
    "        part = parts[name]\n",
    "        \n",
    "        # Extract and merge classes\n",
    "        cls = attrs.pop(\"cls\", \"\")\n",
    "        attrs[\"class\"] = tw.merge(part.class_name(), cls) if cls else part.class_name()\n",
    "        \n",
    "        # Get the tag to use\n",
    "        tag = attrs.pop(\"tag\", part.tag)\n",
    "        \n",
    "        # Create the appropriate FastHTML element\n",
    "        if tag.lower() == \"div\":\n",
    "            return Div(*children, **attrs)\n",
    "        elif tag.lower() == \"span\":\n",
    "            return Span(*children, **attrs)\n",
    "        elif tag.lower() == \"section\":\n",
    "            return Section(*children, **attrs)\n",
    "        elif tag.lower() == \"figure\":\n",
    "            return Figure(*children, **attrs)\n",
    "        elif tag.lower() == \"h1\":\n",
    "            return H1(*children, **attrs)\n",
    "        elif tag.lower() == \"h2\":\n",
    "            return H2(*children, **attrs)\n",
    "        elif tag.lower() == \"h3\":\n",
    "            return H3(*children, **attrs)\n",
    "        elif tag.lower() == \"h4\":\n",
    "            return H4(*children, **attrs)\n",
    "        elif tag.lower() == \"h5\":\n",
    "            return H5(*children, **attrs)\n",
    "        elif tag.lower() == \"h6\":\n",
    "            return H6(*children, **attrs)\n",
    "        elif tag.lower() == \"p\":\n",
    "            return P(*children, **attrs)\n",
    "        elif tag.lower() == \"ul\":\n",
    "            return Ul(*children, **attrs)\n",
    "        elif tag.lower() == \"li\":\n",
    "            return Li(*children, **attrs)\n",
    "        else:\n",
    "            # For any other tag, use eval (be careful with this)\n",
    "            return eval(tag.title())(*children, **attrs)"
   ]
  },
  {
   "cell_type": "code",
   "execution_count": null,
   "id": "671bb8c3-2e8f-4528-a1e4-b2ebc7c14f86",
   "metadata": {},
   "outputs": [],
   "source": []
  },
  {
   "cell_type": "code",
   "execution_count": null,
   "id": "5807a879-e8ef-4532-be7a-caa5f14b5c8d",
   "metadata": {},
   "outputs": [],
   "source": []
  },
  {
   "cell_type": "code",
   "execution_count": null,
   "id": "2e54f878-97c2-444b-a142-09e0d2c538f3",
   "metadata": {},
   "outputs": [],
   "source": []
  },
  {
   "cell_type": "code",
   "execution_count": null,
   "id": "779373cc-cb8f-4a35-8c6d-bb8a6ea12291",
   "metadata": {},
   "outputs": [],
   "source": []
  },
  {
   "cell_type": "code",
   "execution_count": null,
   "id": "d96c6f27-5aef-439c-af44-f47e522b4717",
   "metadata": {},
   "outputs": [],
   "source": []
  },
  {
   "cell_type": "code",
   "execution_count": null,
   "id": "ac79fb53-9815-4821-be60-ea6df3e2fad3",
   "metadata": {},
   "outputs": [],
   "source": []
  },
  {
   "cell_type": "code",
   "execution_count": null,
   "id": "efb65d44-8175-4952-9407-7498aeb6835b",
   "metadata": {},
   "outputs": [],
   "source": []
  },
  {
   "cell_type": "code",
   "execution_count": null,
   "id": "3ef87238-b41c-471a-bdd9-02d6a9da8bd1",
   "metadata": {},
   "outputs": [],
   "source": []
  },
  {
   "cell_type": "code",
   "execution_count": null,
   "id": "db91716d-6ddf-4082-81d4-5fe75e505c07",
   "metadata": {},
   "outputs": [],
   "source": []
  },
  {
   "cell_type": "code",
   "execution_count": null,
   "id": "d7ceb976-dde7-4370-b849-afcf0e54e1a2",
   "metadata": {},
   "outputs": [],
   "source": []
  },
  {
   "cell_type": "code",
   "execution_count": null,
   "id": "70484719-f0a9-48dd-ade8-4b75657c58d5",
   "metadata": {},
   "outputs": [],
   "source": [
    "#| hide\n",
    "import nbdev; nbdev.nbdev_export()"
   ]
  }
 ],
 "metadata": {
  "kernelspec": {
   "display_name": "python3",
   "language": "python",
   "name": "python3"
  }
 },
 "nbformat": 4,
 "nbformat_minor": 5
}
