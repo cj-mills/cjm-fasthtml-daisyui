{
 "cells": [
  {
   "cell_type": "markdown",
   "id": "sy48xeqfe3g",
   "metadata": {},
   "source": [
    "# Component Parts\n",
    "\n",
    "> System for handling component parts (e.g., card-body, modal-box)"
   ]
  },
  {
   "cell_type": "code",
   "execution_count": null,
   "id": "xv61klwrhg",
   "metadata": {},
   "outputs": [],
   "source": [
    "#| default_exp core.parts"
   ]
  },
  {
   "cell_type": "code",
   "execution_count": null,
   "id": "a42de578-75a7-4bcd-aae8-76cb41340c82",
   "metadata": {},
   "outputs": [],
   "source": [
    "#| hide\n",
    "from nbdev.showdoc import *"
   ]
  },
  {
   "cell_type": "code",
   "execution_count": null,
   "id": "6fe1c05a-c9d9-47fb-ac54-c378aa449907",
   "metadata": {},
   "outputs": [],
   "source": [
    "#| export\n",
    "from typing import Dict, Any, Optional, List, Union\n",
    "from dataclasses import dataclass, field\n",
    "from fasthtml.common import *\n",
    "from cjm_tailwind_utils.all import TailwindBuilder\n",
    "from cjm_fasthtml_daisyui.core.elements import create_element\n",
    "from cjm_fasthtml_daisyui.core.types import (\n",
    "    DaisyComponentType,\n",
    "    ComponentProtocol, CSSContributor\n",
    ")"
   ]
  },
  {
   "cell_type": "markdown",
   "id": "3b7a2c0d-2478-4ec1-8c12-3e553ca7939f",
   "metadata": {},
   "source": [
    "## Component Part Definition\n",
    "\n",
    "A component part represents a child element of a daisyUI component."
   ]
  },
  {
   "cell_type": "code",
   "execution_count": null,
   "id": "93e8c7d7-b9f0-47a1-8069-7d4d88270eea",
   "metadata": {},
   "outputs": [],
   "source": [
    "#| export\n",
    "@dataclass\n",
    "class ComponentPart:\n",
    "    \"\"\"Represents a part of a component (e.g., card-body, modal-box).\n",
    "    \n",
    "    Component parts are child elements that have specific styling\n",
    "    within their parent component context.\n",
    "    \"\"\"\n",
    "    name: str  # Part name (e.g., 'body', 'title', 'actions')\n",
    "    parent_component: Union[str, DaisyComponentType]  # Parent component name or enum\n",
    "    required: bool = False  # Whether this part is required\n",
    "    tag: str = \"div\"  # Default HTML tag for this part\n",
    "    \n",
    "    def __post_init__(self):\n",
    "        \"\"\"Validate parent_component if it's a string.\"\"\"\n",
    "        if isinstance(self.parent_component, str):\n",
    "            # Check if the string matches any DaisyComponentType value\n",
    "            valid_values = {comp.value for comp in DaisyComponentType}\n",
    "            if self.parent_component not in valid_values:\n",
    "                # It might be a valid component name that doesn't match the enum value\n",
    "                # For now, we'll allow it but could add stricter validation later\n",
    "                pass\n",
    "    \n",
    "    def class_name(\n",
    "        self\n",
    "    ) -> str:  # The complete class name for this part (e.g., 'card-body')\n",
    "        \"\"\"Return the full class name for this part.\"\"\"\n",
    "        # Handle both string and enum types\n",
    "        parent_name = (\n",
    "            self.parent_component.value \n",
    "            if isinstance(self.parent_component, DaisyComponentType) \n",
    "            else self.parent_component\n",
    "        )\n",
    "        return f\"{parent_name}-{self.name}\""
   ]
  },
  {
   "cell_type": "markdown",
   "id": "4921d133-0f8a-4054-ba26-937ec9fb49ba",
   "metadata": {},
   "source": [
    "## HasParts Mixin\n",
    "\n",
    "Mixin class for components that have child parts."
   ]
  },
  {
   "cell_type": "code",
   "execution_count": null,
   "id": "5f6fcb8a-d2e0-418c-a214-14f9ca5bbd32",
   "metadata": {},
   "outputs": [],
   "source": [
    "#| export\n",
    "class HasParts:\n",
    "    \"\"\"Mixin for components that have child parts.\n",
    "    \n",
    "    This mixin provides functionality for components like cards, modals,\n",
    "    and other complex components that have defined child elements.\n",
    "    \n",
    "    Note: Classes using this mixin should typically also implement the\n",
    "    ComponentProtocol to ensure they provide the full component interface.\n",
    "    Components that contribute CSS classes should also implement CSSContributor.\n",
    "    \"\"\"\n",
    "    \n",
    "    @classmethod\n",
    "    def parts(\n",
    "        cls  # The class implementing HasParts\n",
    "    ) -> Dict[str, ComponentPart]:  # Dictionary mapping part names to ComponentPart objects\n",
    "        \"\"\"Return all available parts for this component.\n",
    "        \n",
    "        Subclasses should override this to define their parts.\n",
    "        \"\"\"\n",
    "        return {}\n",
    "    \n",
    "    def part(\n",
    "        self,\n",
    "        name: str,  # The part name (must be defined in parts())\n",
    "        *children: FT,  # Child elements for this part\n",
    "        **attrs: Any  # HTML attributes for the part\n",
    "    ) -> FT:  # FastHTML element configured as the specified part\n",
    "        \"\"\"Create a component part element.\"\"\"\n",
    "        parts = self.parts()\n",
    "        if name not in parts:\n",
    "            raise ValueError(f\"Unknown part '{name}' for {self.__class__.__name__}\")\n",
    "            \n",
    "        part = parts[name]\n",
    "        \n",
    "        # Extract and merge classes\n",
    "        cls: str = attrs.pop(\"cls\", \"\")\n",
    "        if cls:\n",
    "            # Use TailwindBuilder to merge classes\n",
    "            tb = TailwindBuilder()\n",
    "            tb.merge(part.class_name(), cls)\n",
    "            attrs[\"class\"] = tb.build()\n",
    "        else:\n",
    "            attrs[\"class\"] = part.class_name()\n",
    "        \n",
    "        # Get the tag to use\n",
    "        tag: str = attrs.pop(\"tag\", part.tag)\n",
    "        \n",
    "        # Use the shared create_element utility\n",
    "        return create_element(tag, *children, **attrs)"
   ]
  },
  {
   "cell_type": "code",
   "execution_count": null,
   "id": "671bb8c3-2e8f-4528-a1e4-b2ebc7c14f86",
   "metadata": {},
   "outputs": [],
   "source": []
  },
  {
   "cell_type": "markdown",
   "id": "hz0wo3ipj1",
   "metadata": {},
   "source": [
    "## Usage Examples\n",
    "\n",
    "Examples showing how to use ComponentPart with proper type safety:"
   ]
  },
  {
   "cell_type": "code",
   "execution_count": null,
   "id": "4nicep23yad",
   "metadata": {},
   "outputs": [
    {
     "name": "stdout",
     "output_type": "stream",
     "text": [
      "Card body class: card-body\n",
      "Modal box class: modal-box\n"
     ]
    }
   ],
   "source": [
    "# Example: Creating component parts with DaisyComponentType enum\n",
    "card_body = ComponentPart(\n",
    "    name=\"body\",\n",
    "    parent_component=DaisyComponentType.CARD,\n",
    "    required=False,\n",
    "    tag=\"div\"\n",
    ")\n",
    "\n",
    "# The class name is generated correctly from the enum\n",
    "print(f\"Card body class: {card_body.class_name()}\")\n",
    "\n",
    "# Example: Creating parts with string (for backwards compatibility)\n",
    "modal_box = ComponentPart(\n",
    "    name=\"box\",\n",
    "    parent_component=\"modal\",  # Still works with strings\n",
    "    required=True,\n",
    "    tag=\"div\"\n",
    ")\n",
    "\n",
    "print(f\"Modal box class: {modal_box.class_name()}\")"
   ]
  },
  {
   "cell_type": "code",
   "execution_count": null,
   "id": "j2ny326zsef",
   "metadata": {},
   "outputs": [],
   "source": [
    "# Example: Using HasParts mixin with proper typing\n",
    "class ExampleCard(HasParts):\n",
    "    \"\"\"Example card component demonstrating HasParts usage.\"\"\"\n",
    "    \n",
    "    @classmethod\n",
    "    def parts(cls) -> Dict[str, ComponentPart]:\n",
    "        \"\"\"Define the parts for a card component.\"\"\"\n",
    "        return {\n",
    "            \"body\": ComponentPart(\n",
    "                name=\"body\",\n",
    "                parent_component=DaisyComponentType.CARD,\n",
    "                required=False,\n",
    "                tag=\"div\"\n",
    "            ),\n",
    "            \"title\": ComponentPart(\n",
    "                name=\"title\",\n",
    "                parent_component=DaisyComponentType.CARD,\n",
    "                required=False,\n",
    "                tag=\"h2\"\n",
    "            ),\n",
    "            \"actions\": ComponentPart(\n",
    "                name=\"actions\",\n",
    "                parent_component=DaisyComponentType.CARD,\n",
    "                required=False,\n",
    "                tag=\"div\"\n",
    "            )\n",
    "        }\n",
    "    \n",
    "    def render(self) -> FT:\n",
    "        \"\"\"Render the card with typed parts.\"\"\"\n",
    "        return Div(\n",
    "            self.part(\"title\", \"Card Title\"),\n",
    "            self.part(\"body\", \"Card content goes here\"),\n",
    "            self.part(\"actions\", \n",
    "                Button(\"Save\", cls=\"btn-primary\"),\n",
    "                Button(\"Cancel\", cls=\"btn-ghost\")\n",
    "            ),\n",
    "            cls=\"card\"\n",
    "        )\n",
    "\n",
    "# Create and demonstrate the card\n",
    "card = ExampleCard()\n",
    "# This would render the card structure with proper part classes"
   ]
  },
  {
   "cell_type": "code",
   "execution_count": null,
   "id": "5807a879-e8ef-4532-be7a-caa5f14b5c8d",
   "metadata": {},
   "outputs": [],
   "source": []
  },
  {
   "cell_type": "code",
   "execution_count": null,
   "id": "2e54f878-97c2-444b-a142-09e0d2c538f3",
   "metadata": {},
   "outputs": [],
   "source": []
  },
  {
   "cell_type": "code",
   "execution_count": null,
   "id": "779373cc-cb8f-4a35-8c6d-bb8a6ea12291",
   "metadata": {},
   "outputs": [],
   "source": []
  },
  {
   "cell_type": "code",
   "execution_count": null,
   "id": "d96c6f27-5aef-439c-af44-f47e522b4717",
   "metadata": {},
   "outputs": [],
   "source": []
  },
  {
   "cell_type": "code",
   "execution_count": null,
   "id": "ac79fb53-9815-4821-be60-ea6df3e2fad3",
   "metadata": {},
   "outputs": [],
   "source": []
  },
  {
   "cell_type": "code",
   "execution_count": null,
   "id": "efb65d44-8175-4952-9407-7498aeb6835b",
   "metadata": {},
   "outputs": [],
   "source": []
  },
  {
   "cell_type": "code",
   "execution_count": null,
   "id": "3ef87238-b41c-471a-bdd9-02d6a9da8bd1",
   "metadata": {},
   "outputs": [],
   "source": []
  },
  {
   "cell_type": "code",
   "execution_count": null,
   "id": "db91716d-6ddf-4082-81d4-5fe75e505c07",
   "metadata": {},
   "outputs": [],
   "source": []
  },
  {
   "cell_type": "code",
   "execution_count": null,
   "id": "d7ceb976-dde7-4370-b849-afcf0e54e1a2",
   "metadata": {},
   "outputs": [],
   "source": []
  },
  {
   "cell_type": "code",
   "execution_count": null,
   "id": "70484719-f0a9-48dd-ade8-4b75657c58d5",
   "metadata": {},
   "outputs": [],
   "source": [
    "#| hide\n",
    "import nbdev; nbdev.nbdev_export()"
   ]
  }
 ],
 "metadata": {
  "kernelspec": {
   "display_name": "python3",
   "language": "python",
   "name": "python3"
  }
 },
 "nbformat": 4,
 "nbformat_minor": 5
}
