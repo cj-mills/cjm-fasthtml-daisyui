{
 "cells": [
  {
   "cell_type": "markdown",
   "id": "11995b33-ce84-4a20-b03c-cbfc4cb4518e",
   "metadata": {},
   "source": [
    "# Resources\n",
    "\n",
    "> Managing daisyUI and Tailwind CSS resources for FastHTML projects"
   ]
  },
  {
   "cell_type": "code",
   "execution_count": null,
   "id": "b0e56415-80bb-4d58-81d1-ba28f9abb747",
   "metadata": {},
   "outputs": [],
   "source": [
    "#| default_exp core.resources"
   ]
  },
  {
   "cell_type": "code",
   "execution_count": null,
   "id": "3f984eac-084d-44ae-9f64-a1fbe7c6629b",
   "metadata": {},
   "outputs": [],
   "source": [
    "#| export\n",
    "from typing import List, Optional, Dict, Union\n",
    "from enum import Enum\n",
    "from dataclasses import dataclass, field\n",
    "from fasthtml.common import Script, Link, Style, FT\n",
    "from cjm_fasthtml_daisyui.core.types import CDNProvider"
   ]
  },
  {
   "cell_type": "markdown",
   "id": "2e164f6b-247a-469c-897a-fb676f085391",
   "metadata": {},
   "source": [
    "## Resource Management\n",
    "\n",
    "The `DaisyUIResources` class provides flexible options for including daisyUI and Tailwind CSS in FastHTML projects. It supports:\n",
    "\n",
    "1. **CDN delivery** - Quick setup for development and prototyping\n",
    "2. **Local delivery** - Production-ready with compiled CSS\n",
    "3. **Inline configuration** - Dynamic daisyUI configuration\n",
    "4. **Version management** - Control specific versions of dependencies"
   ]
  },
  {
   "cell_type": "code",
   "execution_count": null,
   "id": "9b97415d-61db-409b-a056-bd35c6b6ac5b",
   "metadata": {},
   "outputs": [],
   "source": []
  },
  {
   "cell_type": "code",
   "execution_count": null,
   "id": "a402f480-75af-4d88-93a1-68046b7a0537",
   "metadata": {},
   "outputs": [],
   "source": [
    "#| export\n",
    "@dataclass\n",
    "class ResourceVersions:\n",
    "    \"\"\"Version management for daisyUI and Tailwind CSS\"\"\"\n",
    "    daisyui: str = \"5\"\n",
    "    tailwind: str = \"4\"\n",
    "    \n",
    "    def get_daisyui_url(\n",
    "        self,\n",
    "        provider: CDNProvider = CDNProvider.JSDELIVR  # CDN provider to use for fetching resources\n",
    "    ) -> str:  # Full CDN URL for daisyUI CSS\n",
    "        \"\"\"Get the full CDN URL for daisyUI\"\"\"\n",
    "        base = provider.get_base_url()\n",
    "        if provider == CDNProvider.JSDELIVR:\n",
    "            return f\"{base}/daisyui@{self.daisyui}\"\n",
    "        elif provider == CDNProvider.UNPKG:\n",
    "            return f\"{base}/daisyui@{self.daisyui}/dist/daisyui.css\"\n",
    "        else:\n",
    "            # CDNJS doesn't host daisyUI, fallback to jsdelivr\n",
    "            return CDNProvider.JSDELIVR.get_base_url() + f\"/daisyui@{self.daisyui}\"\n",
    "\n",
    "    def get_daisyui_themes_url(\n",
    "        self,\n",
    "        provider: CDNProvider = CDNProvider.JSDELIVR  # CDN provider to use for fetching resources\n",
    "    ) -> str:  # Full CDN URL for daisyUI themes CSS\n",
    "        \"\"\"Get the full CDN URL for daisyUI themes\"\"\"\n",
    "        base = provider.get_base_url()\n",
    "        if provider == CDNProvider.JSDELIVR:\n",
    "            return f\"{base}/daisyui@{self.daisyui}/themes.css\"\n",
    "        elif provider == CDNProvider.UNPKG:\n",
    "            return f\"{base}/daisyui@{self.daisyui}/dist/themes.css\"\n",
    "        else:\n",
    "            # CDNJS doesn't host daisyUI, fallback to jsdelivr\n",
    "            return CDNProvider.JSDELIVR.get_base_url() + f\"/daisyui@{self.daisyui}/themes.css\"\n",
    "    \n",
    "    def get_tailwind_url(\n",
    "        self,\n",
    "        provider: CDNProvider = CDNProvider.JSDELIVR  # CDN provider to use for fetching resources\n",
    "    ) -> str:  # Full CDN URL for Tailwind CSS browser JavaScript\n",
    "        \"\"\"Get the full CDN URL for Tailwind CSS browser version\"\"\"\n",
    "        base = provider.get_base_url()\n",
    "        if provider == CDNProvider.JSDELIVR:\n",
    "            return f\"{base}/@tailwindcss/browser@{self.tailwind}\"\n",
    "        elif provider == CDNProvider.UNPKG:\n",
    "            return f\"{base}/@tailwindcss/browser@{self.tailwind}/browser.js\"\n",
    "        else:\n",
    "            # CDNJS doesn't host Tailwind v4 browser version, fallback to jsdelivr\n",
    "            return CDNProvider.JSDELIVR.get_base_url() + f\"/@tailwindcss/browser@{self.tailwind}\""
   ]
  },
  {
   "cell_type": "code",
   "execution_count": null,
   "id": "27ea4764-7f79-4a36-aad0-679a690c7d8a",
   "metadata": {},
   "outputs": [],
   "source": [
    "#| export\n",
    "class DaisyUIResources:\n",
    "    \"\"\"Manages daisyUI and Tailwind CSS resources for FastHTML projects\"\"\"\n",
    "    \n",
    "    @staticmethod\n",
    "    def cdn_headers(\n",
    "        versions: Optional[ResourceVersions] = None,  # Version configuration for daisyUI and Tailwind\n",
    "        provider: CDNProvider = CDNProvider.JSDELIVR,  # CDN provider to use for fetching resources\n",
    "        include_tailwind: bool = True,  # Whether to include Tailwind CSS browser JavaScript\n",
    "        additional_css: Optional[List[str]] = None,  # List of additional CSS URLs to include\n",
    "        additional_js: Optional[List[str]] = None  # List of additional JavaScript URLs to include\n",
    "    ) -> List[FT]:  # List of FastHTML elements (Link and Script tags)\n",
    "        \"\"\"CDN-based resources for quick testing and development\"\"\"\n",
    "        versions = versions or ResourceVersions()\n",
    "        headers = []\n",
    "        \n",
    "        # Add daisyUI CSS\n",
    "        headers.append(\n",
    "            Link(rel=\"stylesheet\", href=versions.get_daisyui_url(provider))\n",
    "        )\n",
    "        headers.append(\n",
    "            Link(rel=\"stylesheet\", href=versions.get_daisyui_themes_url(provider))\n",
    "        )\n",
    "        \n",
    "        # Add Tailwind CSS browser version\n",
    "        if include_tailwind:\n",
    "            headers.append(\n",
    "                Script(src=versions.get_tailwind_url(provider))\n",
    "            )\n",
    "        \n",
    "        # Add any additional CSS files\n",
    "        if additional_css:\n",
    "            for css_url in additional_css:\n",
    "                headers.append(Link(rel=\"stylesheet\", href=css_url))\n",
    "        \n",
    "        # Add any additional JS files\n",
    "        if additional_js:\n",
    "            for js_url in additional_js:\n",
    "                headers.append(Script(src=js_url))\n",
    "        \n",
    "        return headers\n",
    "\n",
    "    @staticmethod\n",
    "    def local_headers(\n",
    "        css_path: str = \"/static/styles.css\",  # Path to compiled CSS file\n",
    "        js_paths: Optional[List[str]] = None,  # List of paths to JavaScript files\n",
    "        additional_css: Optional[List[str]] = None,  # List of additional CSS paths\n",
    "        additional_js: Optional[List[str]] = None  # List of additional JavaScript paths\n",
    "    ) -> List[FT]:  # List of FastHTML elements (Link and Script tags)\n",
    "        \"\"\"Local file-based resources for production use\"\"\"\n",
    "        headers = []\n",
    "        \n",
    "        # Add main compiled CSS\n",
    "        headers.append(Link(rel=\"stylesheet\", href=css_path))\n",
    "        \n",
    "        # Add any JavaScript files\n",
    "        if js_paths:\n",
    "            for js_path in js_paths:\n",
    "                headers.append(Script(src=js_path))\n",
    "        \n",
    "        # Add any additional CSS files\n",
    "        if additional_css:\n",
    "            for css_url in additional_css:\n",
    "                headers.append(Link(rel=\"stylesheet\", href=css_url))\n",
    "        \n",
    "        # Add any additional JS files\n",
    "        if additional_js:\n",
    "            for js_url in additional_js:\n",
    "                headers.append(Script(src=js_url))\n",
    "        \n",
    "        return headers\n",
    "\n",
    "    @staticmethod\n",
    "    def inline_css(\n",
    "        content: str,  # CSS content to embed inline\n",
    "        id: Optional[str] = None  # Optional ID attribute for the style element\n",
    "    ) -> Style:  # FastHTML Style element\n",
    "        \"\"\"Create an inline CSS style element\"\"\"\n",
    "        attrs = {\"id\": id} if id else {}\n",
    "        return Style(content, **attrs)\n",
    "\n",
    "    @staticmethod\n",
    "    def minimal_css(\n",
    "    ) -> str:  # Minimal CSS string with Tailwind and daisyUI imports\n",
    "        \"\"\"Get minimal CSS for Tailwind v4 with daisyUI plugin\"\"\"\n",
    "        return '''@import \"tailwindcss\";\n",
    "@plugin \"daisyui\";'''"
   ]
  },
  {
   "cell_type": "markdown",
   "id": "722270a9-4c66-44f7-b7c2-f0f0b7c4c2ae",
   "metadata": {},
   "source": [
    "## Resource Presets\n",
    "\n",
    "Common resource configurations for different use cases:"
   ]
  },
  {
   "cell_type": "code",
   "execution_count": null,
   "id": "b5dc8f93-ff08-4247-89e1-afcfc727b1b1",
   "metadata": {},
   "outputs": [],
   "source": [
    "#| export\n",
    "class ResourcePresets:\n",
    "    \"\"\"Common resource configurations\"\"\"\n",
    "    \n",
    "    @staticmethod\n",
    "    def development(\n",
    "    ) -> List[FT]:  # List of FastHTML header elements for development\n",
    "        \"\"\"Quick development setup with CDN resources\"\"\"\n",
    "        return DaisyUIResources.cdn_headers()\n",
    "    \n",
    "    @staticmethod\n",
    "    def production(\n",
    "        css_path: str = \"/static/styles.css\"  # Path to compiled production CSS file\n",
    "    ) -> List[FT]:  # List of FastHTML header elements for production\n",
    "        \"\"\"Production setup with compiled CSS\"\"\"\n",
    "        return DaisyUIResources.local_headers(css_path=css_path)\n",
    "    \n",
    "    @staticmethod\n",
    "    def testing(\n",
    "    ) -> List[FT]:  # List of FastHTML header elements for testing\n",
    "        \"\"\"Testing setup with fast CDN and no caching\"\"\"\n",
    "        headers = DaisyUIResources.cdn_headers()\n",
    "        # Add cache-busting meta tag\n",
    "        headers.append(\n",
    "            Link(rel=\"preload\", href=\"https://cdn.jsdelivr.net/npm/daisyui@5\", as_=\"style\")\n",
    "        )\n",
    "        return headers\n",
    "    \n",
    "    @staticmethod\n",
    "    def offline(\n",
    "        css_path: str = \"/static/daisyui.css\",  # Path to local daisyUI CSS file\n",
    "        tailwind_path: str = \"/static/tailwind.js\"  # Path to local Tailwind browser JavaScript\n",
    "    ) -> List[FT]:  # List of FastHTML header elements for offline use\n",
    "        \"\"\"Completely offline setup with local files\"\"\"\n",
    "        return [\n",
    "            Link(rel=\"stylesheet\", href=css_path),\n",
    "            Script(src=tailwind_path)\n",
    "        ]"
   ]
  },
  {
   "cell_type": "markdown",
   "id": "e877d9dc-195e-43f1-8459-d662aa4fa132",
   "metadata": {},
   "source": [
    "## Usage Examples\n",
    "\n",
    "Here are common usage patterns for including daisyUI resources in FastHTML projects:"
   ]
  },
  {
   "cell_type": "markdown",
   "id": "f5831f52-1ab3-457a-bcd1-b25bfc94065a",
   "metadata": {},
   "source": [
    "### Basic Development Setup"
   ]
  },
  {
   "cell_type": "code",
   "execution_count": null,
   "id": "09c725ba-b91b-4779-92b3-3d6136e0a4ed",
   "metadata": {},
   "outputs": [],
   "source": [
    "from fasthtml.common import fast_app\n",
    "\n",
    "# Quick development setup\n",
    "app, rt = fast_app(\n",
    "    pico=False,  # Disable Pico CSS since we're using daisyUI\n",
    "    hdrs=ResourcePresets.development()\n",
    ")\n",
    "\n",
    "# Or with explicit CDN configuration\n",
    "app, rt = fast_app(\n",
    "    pico=False,\n",
    "    hdrs=DaisyUIResources.cdn_headers()\n",
    ")"
   ]
  },
  {
   "cell_type": "markdown",
   "id": "3c37746c-a147-469d-a6cf-700f3d221f8f",
   "metadata": {},
   "source": [
    "### Custom Version Control"
   ]
  },
  {
   "cell_type": "code",
   "execution_count": null,
   "id": "efb6d332-02fc-4c73-aeed-e8964e491d93",
   "metadata": {},
   "outputs": [],
   "source": [
    "# Use specific versions\n",
    "versions = ResourceVersions(daisyui=\"5.0.0\", tailwind=\"4.0.0-alpha.25\")\n",
    "\n",
    "app, rt = fast_app(\n",
    "    pico=False,\n",
    "    hdrs=DaisyUIResources.cdn_headers(versions=versions)\n",
    ")\n",
    "\n",
    "# Or use a different CDN provider\n",
    "app, rt = fast_app(\n",
    "    pico=False,\n",
    "    hdrs=DaisyUIResources.cdn_headers(\n",
    "        provider=CDNProvider.UNPKG,\n",
    "        versions=versions\n",
    "    )\n",
    ")"
   ]
  },
  {
   "cell_type": "markdown",
   "id": "62163e71-71ac-4c96-9439-a22e96705323",
   "metadata": {},
   "source": [
    "### Production Setup"
   ]
  },
  {
   "cell_type": "code",
   "execution_count": null,
   "id": "d95a408f-6254-41c9-b683-b11f36a534b1",
   "metadata": {},
   "outputs": [],
   "source": [
    "# Production with compiled CSS\n",
    "app, rt = fast_app(\n",
    "    pico=False,\n",
    "    hdrs=ResourcePresets.production(css_path=\"/static/compiled.css\")\n",
    ")\n",
    "\n",
    "# Production with additional resources\n",
    "app, rt = fast_app(\n",
    "    pico=False,\n",
    "    hdrs=DaisyUIResources.local_headers(\n",
    "        css_path=\"/static/main.css\",\n",
    "        js_paths=[\"/static/app.js\"],\n",
    "        additional_css=[\"/static/animations.css\"]\n",
    "    )\n",
    ")"
   ]
  },
  {
   "cell_type": "markdown",
   "id": "0123357c-c515-46a7-b573-24d01ba56cda",
   "metadata": {},
   "source": [
    "### Hybrid Approach with Inline Configuration"
   ]
  },
  {
   "cell_type": "code",
   "execution_count": null,
   "id": "27438cff-39bb-4682-86b2-f0b14da25929",
   "metadata": {},
   "outputs": [],
   "source": [
    "# This will be implemented in config.ipynb\n",
    "# from cjm_fasthtml_daisyui.core.config import DaisyUIConfig\n",
    "\n",
    "# For now, show the pattern:\n",
    "custom_css = \"\"\"\n",
    "@import \"tailwindcss\";\n",
    "@plugin \"daisyui\" {\n",
    "  themes: cupcake --default, dark --prefersdark;\n",
    "}\n",
    "\"\"\"\n",
    "\n",
    "app, rt = fast_app(\n",
    "    pico=False,\n",
    "    hdrs=[\n",
    "        DaisyUIResources.inline_css(custom_css),\n",
    "        *DaisyUIResources.cdn_headers(include_tailwind=False)\n",
    "    ]\n",
    ")"
   ]
  },
  {
   "cell_type": "markdown",
   "id": "f8bd3c05-52a2-41c7-8b0e-410c5ef2f324",
   "metadata": {},
   "source": [
    "## Advanced Features"
   ]
  },
  {
   "cell_type": "code",
   "execution_count": null,
   "id": "c5061d98-2e15-433c-a160-4c2f583478ed",
   "metadata": {},
   "outputs": [],
   "source": [
    "#| export\n",
    "@dataclass\n",
    "class ResourceOptimization:\n",
    "    \"\"\"Advanced resource optimization options\"\"\"\n",
    "    preload: bool = True\n",
    "    prefetch: bool = False\n",
    "    async_load: bool = False\n",
    "    defer: bool = False\n",
    "    integrity: Optional[str] = None\n",
    "    crossorigin: Optional[str] = \"anonymous\"\n",
    "    \n",
    "    def apply_to_link(\n",
    "        self,\n",
    "        link_attrs: Dict[str, str]  # Dictionary of link element attributes\n",
    "    ) -> Dict[str, str]:  # Updated dictionary with optimization attributes applied\n",
    "        \"\"\"Apply optimization attributes to a link element\"\"\"\n",
    "        if self.preload:\n",
    "            link_attrs[\"rel\"] = \"preload\"\n",
    "            link_attrs[\"as\"] = \"style\"\n",
    "        elif self.prefetch:\n",
    "            link_attrs[\"rel\"] = \"prefetch\"\n",
    "        \n",
    "        if self.integrity:\n",
    "            link_attrs[\"integrity\"] = self.integrity\n",
    "        \n",
    "        if self.crossorigin:\n",
    "            link_attrs[\"crossorigin\"] = self.crossorigin\n",
    "            \n",
    "        return link_attrs\n",
    "    \n",
    "    def apply_to_script(\n",
    "        self,\n",
    "        script_attrs: Dict[str, str]  # Dictionary of script element attributes\n",
    "    ) -> Dict[str, str]:  # Updated dictionary with optimization attributes applied\n",
    "        \"\"\"Apply optimization attributes to a script element\"\"\"\n",
    "        if self.async_load:\n",
    "            script_attrs[\"async\"] = \"true\"\n",
    "        elif self.defer:\n",
    "            script_attrs[\"defer\"] = \"true\"\n",
    "        \n",
    "        if self.integrity:\n",
    "            script_attrs[\"integrity\"] = self.integrity\n",
    "        \n",
    "        if self.crossorigin:\n",
    "            script_attrs[\"crossorigin\"] = self.crossorigin\n",
    "            \n",
    "        return script_attrs"
   ]
  },
  {
   "cell_type": "code",
   "execution_count": null,
   "id": "cb8d3f4e-9751-47c6-ad85-3537f084a253",
   "metadata": {},
   "outputs": [],
   "source": [
    "#| export\n",
    "class ResourceManager:\n",
    "    \"\"\"\n",
    "    Advanced resource manager with caching and optimization\n",
    "    \"\"\"\n",
    "    def __init__(self):\n",
    "        \"\"\"Initialize resource manager with cache and default optimization settings\"\"\"\n",
    "        self._cache: Dict[str, List[FT]] = {}\n",
    "        self._optimization = ResourceOptimization()\n",
    "    \n",
    "    def get_optimized_headers(\n",
    "        self,\n",
    "        key: str = \"default\",  # Cache key to use for storing/retrieving headers\n",
    "        force_refresh: bool = False  # Whether to bypass cache and rebuild headers\n",
    "    ) -> List[FT]:  # List of cached or newly built FastHTML header elements\n",
    "        \"\"\"Get cached headers with optimization\"\"\"\n",
    "        if key not in self._cache or force_refresh:\n",
    "            self._cache[key] = self._build_optimized_headers()\n",
    "        return self._cache[key]\n",
    "    \n",
    "    def _build_optimized_headers(\n",
    "        self\n",
    "    ) -> List[FT]:  # List of optimized FastHTML header elements\n",
    "        \"\"\"Build optimized headers\"\"\"\n",
    "        # This would be implemented based on specific needs\n",
    "        return DaisyUIResources.cdn_headers()\n",
    "    \n",
    "    def clear_cache(\n",
    "        self\n",
    "    ) -> None:\n",
    "        \"\"\"Clear the resource cache\"\"\"\n",
    "        self._cache.clear()"
   ]
  },
  {
   "cell_type": "markdown",
   "id": "e4f4cfe8-37e7-4658-8f02-7da210140a66",
   "metadata": {},
   "source": [
    "## Best Practices\n",
    "\n",
    "1. **Development**: Use CDN resources for quick iteration\n",
    "2. **Production**: Compile CSS with only used utilities for optimal performance\n",
    "3. **Testing**: Use consistent versions to ensure reproducibility\n",
    "4. **Offline**: Download and serve files locally for environments without internet"
   ]
  },
  {
   "cell_type": "markdown",
   "id": "f07629bb-8dc8-47c3-acd0-74b970a2fff4",
   "metadata": {},
   "source": [
    "## Testing the Resources"
   ]
  },
  {
   "cell_type": "code",
   "execution_count": null,
   "id": "db33ef7a-56d7-4c58-9515-91ebf968539d",
   "metadata": {},
   "outputs": [
    {
     "name": "stdout",
     "output_type": "stream",
     "text": [
      "Generated 3 headers:\n",
      "  - <link rel=\"stylesheet\" href=\"https://cdn.jsdelivr.net/npm/daisyui@5\">\n",
      "  - <link rel=\"stylesheet\" href=\"https://cdn.jsdelivr.net/npm/daisyui@5/themes.css\">\n",
      "  - <script src=\"https://cdn.jsdelivr.net/npm/@tailwindcss/browser@4\"></script>\n",
      "\n",
      "Custom version headers: 3\n"
     ]
    }
   ],
   "source": [
    "# Test CDN header generation\n",
    "cdn_headers = DaisyUIResources.cdn_headers()\n",
    "print(f\"Generated {len(cdn_headers)} headers:\")\n",
    "for header in cdn_headers:\n",
    "    print(f\"  - {header}\")\n",
    "\n",
    "# Test with specific versions\n",
    "custom_headers = DaisyUIResources.cdn_headers(\n",
    "    versions=ResourceVersions(daisyui=\"5.1.0\", tailwind=\"4.0.0-beta.1\")\n",
    ")\n",
    "print(f\"\\nCustom version headers: {len(custom_headers)}\")"
   ]
  },
  {
   "cell_type": "code",
   "execution_count": null,
   "id": "5afee64c-e67a-4477-9b75-f0689c91a62d",
   "metadata": {},
   "outputs": [
    {
     "name": "stdout",
     "output_type": "stream",
     "text": [
      "Development: 3 headers\n",
      "Production: 1 headers\n",
      "Testing: 4 headers\n"
     ]
    }
   ],
   "source": [
    "# Test resource presets\n",
    "dev_headers = ResourcePresets.development()\n",
    "prod_headers = ResourcePresets.production()\n",
    "test_headers = ResourcePresets.testing()\n",
    "\n",
    "print(f\"Development: {len(dev_headers)} headers\")\n",
    "print(f\"Production: {len(prod_headers)} headers\")\n",
    "print(f\"Testing: {len(test_headers)} headers\")"
   ]
  },
  {
   "cell_type": "code",
   "execution_count": null,
   "id": "6ca9f0b0-7e21-45fe-975b-41385e6e096b",
   "metadata": {},
   "outputs": [
    {
     "name": "stdout",
     "output_type": "stream",
     "text": [
      "Minimal CSS:\n",
      "@import \"tailwindcss\";\n",
      "@plugin \"daisyui\";\n"
     ]
    }
   ],
   "source": [
    "# Test minimal CSS generation\n",
    "minimal = DaisyUIResources.minimal_css()\n",
    "print(\"Minimal CSS:\")\n",
    "print(minimal)"
   ]
  },
  {
   "cell_type": "code",
   "execution_count": null,
   "id": "0769542e-efe4-418e-ba57-bc0968f088ab",
   "metadata": {},
   "outputs": [],
   "source": [
    "#| hide\n",
    "import nbdev; nbdev.nbdev_export()"
   ]
  }
 ],
 "metadata": {
  "kernelspec": {
   "display_name": "python3",
   "language": "python",
   "name": "python3"
  }
 },
 "nbformat": 4,
 "nbformat_minor": 5
}
