{
 "cells": [
  {
   "cell_type": "markdown",
   "id": "b8112c96-3d6b-4fba-b4a9-3bd5e1f03d50",
   "metadata": {},
   "source": [
    "# resources\n",
    "\n",
    "> CDN resources and headers for daisyUI and Tailwind CSS"
   ]
  },
  {
   "cell_type": "code",
   "execution_count": null,
   "id": "6c35da8c-e325-4006-94d7-594824917ad1",
   "metadata": {},
   "outputs": [],
   "source": [
    "#| default_exp core.resources"
   ]
  },
  {
   "cell_type": "code",
   "execution_count": null,
   "id": "1ab90f3f-8458-40f4-9d26-1eaf67a3ab38",
   "metadata": {},
   "outputs": [],
   "source": [
    "#| hide\n",
    "from nbdev.showdoc import *"
   ]
  },
  {
   "cell_type": "code",
   "execution_count": null,
   "id": "c1492984-a083-4abc-867e-e78b1555613e",
   "metadata": {},
   "outputs": [],
   "source": [
    "#| export\n",
    "from fasthtml.common import Link, Script, Style\n",
    "from typing import List, Optional, Union, Literal\n",
    "from pathlib import Path"
   ]
  },
  {
   "cell_type": "markdown",
   "id": "74a1384d-01d3-4216-a350-f1da96cd799b",
   "metadata": {},
   "source": [
    "## Core CDN Resources\n",
    "\n",
    "The library provides pre-configured CDN headers for daisyUI v5 and Tailwind CSS v4:"
   ]
  },
  {
   "cell_type": "code",
   "execution_count": null,
   "id": "8346827c-d65e-4e07-954d-81a557f94dcf",
   "metadata": {},
   "outputs": [],
   "source": [
    "#| export\n",
    "# Core daisyUI and Tailwind CSS CDN resources\n",
    "DAISYUI_CDN = \"https://cdn.jsdelivr.net/npm/daisyui@5\"\n",
    "DAISYUI_THEMES_CDN = \"https://cdn.jsdelivr.net/npm/daisyui@5/themes.css\"\n",
    "DAISYUI_COLOR_PROPERTIES = \"https://cdn.jsdelivr.net/npm/daisyui@5/colors/properties.css\"\n",
    "DAISYUI_COLOR_PROPERTIES_EXT = \"https://cdn.jsdelivr.net/npm/daisyui@5/colors/properties-extended.css\"\n",
    "TAILWIND_CDN = \"https://cdn.jsdelivr.net/npm/@tailwindcss/browser@4\""
   ]
  },
  {
   "cell_type": "code",
   "execution_count": null,
   "id": "57878aed-5923-4cd3-afc9-9bfe0f96a309",
   "metadata": {},
   "outputs": [],
   "source": [
    "#| export\n",
    "def get_daisyui_headers(\n",
    "    include_themes: bool = True  # Include the daisyUI themes CSS file\n",
    ") -> List[Union[Link, Script]]:  # List of Link and Script elements for daisyUI and Tailwind CSS\n",
    "    \"\"\"Get the standard daisyUI and Tailwind CSS CDN headers.\"\"\"\n",
    "    headers = [\n",
    "        Link(rel=\"stylesheet\", href=DAISYUI_CDN, type=\"text/css\"),\n",
    "        Link(rel=\"stylesheet\", href=DAISYUI_COLOR_PROPERTIES, type=\"text/css\"),\n",
    "        Link(rel=\"stylesheet\", href=DAISYUI_COLOR_PROPERTIES_EXT, type=\"text/css\"),\n",
    "        Script(src=TAILWIND_CDN)\n",
    "    ]\n",
    "    \n",
    "    if include_themes:\n",
    "        headers.insert(1, Link(rel=\"stylesheet\", href=DAISYUI_THEMES_CDN, type=\"text/css\"))\n",
    "    \n",
    "    return headers"
   ]
  },
  {
   "cell_type": "code",
   "execution_count": null,
   "id": "4ad0a4c5-3853-408b-96b2-d08461b6f449",
   "metadata": {},
   "outputs": [
    {
     "data": {
      "text/plain": [
       "[link((),{'rel': 'stylesheet', 'href': 'https://cdn.jsdelivr.net/npm/daisyui@5', 'type': 'text/css'}),\n",
       " link((),{'rel': 'stylesheet', 'href': 'https://cdn.jsdelivr.net/npm/daisyui@5/themes.css', 'type': 'text/css'}),\n",
       " link((),{'rel': 'stylesheet', 'href': 'https://cdn.jsdelivr.net/npm/daisyui@5/colors/properties.css', 'type': 'text/css'}),\n",
       " link((),{'rel': 'stylesheet', 'href': 'https://cdn.jsdelivr.net/npm/daisyui@5/colors/properties-extended.css', 'type': 'text/css'}),\n",
       " script(('',),{'src': 'https://cdn.jsdelivr.net/npm/@tailwindcss/browser@4'})]"
      ]
     },
     "execution_count": null,
     "metadata": {},
     "output_type": "execute_result"
    }
   ],
   "source": [
    "get_daisyui_headers()"
   ]
  },
  {
   "cell_type": "markdown",
   "id": "49aaf7b6-197b-471b-b999-320b1ce55aa8",
   "metadata": {},
   "source": [
    "Example usage:"
   ]
  },
  {
   "cell_type": "code",
   "execution_count": null,
   "id": "1f61677a-79d6-4bcb-aaf1-80465cb7331d",
   "metadata": {},
   "outputs": [
    {
     "name": "stdout",
     "output_type": "stream",
     "text": [
      "Number of headers: 5\n",
      "<link rel=\"stylesheet\" href=\"https://cdn.jsdelivr.net/npm/daisyui@5\" type=\"text/css\">\n",
      "<link rel=\"stylesheet\" href=\"https://cdn.jsdelivr.net/npm/daisyui@5/themes.css\" type=\"text/css\">\n",
      "<link rel=\"stylesheet\" href=\"https://cdn.jsdelivr.net/npm/daisyui@5/colors/properties.css\" type=\"text/css\">\n",
      "<link rel=\"stylesheet\" href=\"https://cdn.jsdelivr.net/npm/daisyui@5/colors/properties-extended.css\" type=\"text/css\">\n",
      "<script src=\"https://cdn.jsdelivr.net/npm/@tailwindcss/browser@4\"></script>\n"
     ]
    }
   ],
   "source": [
    "# Get all headers including themes\n",
    "headers = get_daisyui_headers()\n",
    "print(f\"Number of headers: {len(headers)}\")\n",
    "for h in headers:\n",
    "    print(h)"
   ]
  },
  {
   "cell_type": "code",
   "execution_count": null,
   "id": "75382808-301e-4766-92fa-4b207a3be2ea",
   "metadata": {},
   "outputs": [
    {
     "name": "stdout",
     "output_type": "stream",
     "text": [
      "Number of headers without themes: 4\n",
      "<link rel=\"stylesheet\" href=\"https://cdn.jsdelivr.net/npm/daisyui@5\" type=\"text/css\">\n",
      "<link rel=\"stylesheet\" href=\"https://cdn.jsdelivr.net/npm/daisyui@5/colors/properties.css\" type=\"text/css\">\n",
      "<link rel=\"stylesheet\" href=\"https://cdn.jsdelivr.net/npm/daisyui@5/colors/properties-extended.css\" type=\"text/css\">\n",
      "<script src=\"https://cdn.jsdelivr.net/npm/@tailwindcss/browser@4\"></script>\n"
     ]
    }
   ],
   "source": [
    "# Get headers without themes (for custom theme usage)\n",
    "headers_no_themes = get_daisyui_headers(include_themes=False)\n",
    "print(f\"Number of headers without themes: {len(headers_no_themes)}\")\n",
    "for h in headers_no_themes:\n",
    "    print(h)"
   ]
  },
  {
   "cell_type": "markdown",
   "id": "9c2b5ac1-95f4-4e9c-8b8d-973afa755003",
   "metadata": {},
   "source": [
    "## Custom Resources\n",
    "\n",
    "For adding custom CSS files, JavaScript libraries, or local theme files:"
   ]
  },
  {
   "cell_type": "code",
   "execution_count": null,
   "id": "d52d7f05-326c-4b6b-9fb0-5d8a98b10db7",
   "metadata": {},
   "outputs": [],
   "source": [
    "#| export\n",
    "def create_css_link(\n",
    "    href: str,  # URL or path to CSS file\n",
    "    media: Optional[str] = None,  # Media query (e.g., \"screen\", \"print\")\n",
    "    crossorigin: Optional[Literal[\"anonymous\", \"use-credentials\"]] = None\n",
    ") -> Link:  # Link element for CSS stylesheet\n",
    "    \"\"\"Create a CSS link element with optional attributes.\"\"\"\n",
    "    attrs = {\"rel\": \"stylesheet\", \"href\": href, \"type\": \"text/css\"}\n",
    "    \n",
    "    if media:\n",
    "        attrs[\"media\"] = media\n",
    "    if crossorigin:\n",
    "        attrs[\"crossorigin\"] = crossorigin\n",
    "        \n",
    "    return Link(**attrs)"
   ]
  },
  {
   "cell_type": "code",
   "execution_count": null,
   "id": "71bfc4a7-0265-4833-b3a1-f08e8a530281",
   "metadata": {},
   "outputs": [],
   "source": [
    "#| export\n",
    "def create_js_script(\n",
    "    src: str,  # URL or path to JavaScript file\n",
    "    async_: bool = False,  # Load script asynchronously\n",
    "    defer: bool = False,  # Defer script execution\n",
    "    module: bool = False,  # ES6 module\n",
    "    crossorigin: Optional[Literal[\"anonymous\", \"use-credentials\"]] = None\n",
    ") -> Script:  # Script element for JavaScript file\n",
    "    \"\"\"Create a JavaScript script element with optional attributes.\"\"\"\n",
    "    attrs = {\"src\": src}\n",
    "    \n",
    "    if async_:\n",
    "        attrs[\"async\"] = \"\"\n",
    "    if defer:\n",
    "        attrs[\"defer\"] = \"\"\n",
    "    if module:\n",
    "        attrs[\"type\"] = \"module\"\n",
    "    if crossorigin:\n",
    "        attrs[\"crossorigin\"] = crossorigin\n",
    "        \n",
    "    return Script(**attrs)"
   ]
  },
  {
   "cell_type": "markdown",
   "id": "64d1dc63-5406-41f7-a9f4-28f1da9ae4cf",
   "metadata": {},
   "source": [
    "## Combined Header Builder\n",
    "\n",
    "A comprehensive function to build all headers with custom resources:"
   ]
  },
  {
   "cell_type": "code",
   "execution_count": null,
   "id": "766f84ed-313a-4b37-a1e9-adf32ebdb53a",
   "metadata": {},
   "outputs": [],
   "source": [
    "#| export\n",
    "def build_headers(\n",
    "    include_themes: bool = True,  # Include daisyUI themes\n",
    "    custom_css: Optional[List[Union[str, Link]]] = None,  # Additional CSS files\n",
    "    custom_js: Optional[List[Union[str, Script]]] = None,  # Additional JS files\n",
    "    custom_theme_css: Optional[str] = None,  # Custom theme CSS as a string\n",
    "    custom_theme_paths: Optional[List[Union[str, Path]]] = None  # List of paths to custom theme CSS files\n",
    ") -> List[Union[Link, Script, Style]]:  # List of Link, Script, and Style elements for complete app headers\n",
    "    \"\"\"\n",
    "    Build a complete set of headers for a FastHTML app with daisyUI and Tailwind.\n",
    "    \n",
    "    The order of headers is:\n",
    "    1. daisyUI CSS\n",
    "    2. daisyUI themes CSS (if included)\n",
    "    3. Custom theme CSS (if provided as string)\n",
    "    4. Custom theme CSS files (if provided as Path objects)\n",
    "    5. Custom CSS files\n",
    "    6. Tailwind CSS JavaScript\n",
    "    7. Custom JavaScript files\n",
    "    \"\"\"\n",
    "    headers = []\n",
    "    \n",
    "    # Core daisyUI CSS\n",
    "    headers.append(Link(rel=\"stylesheet\", href=DAISYUI_CDN, type=\"text/css\"))\n",
    "    headers.append(Link(rel=\"stylesheet\", href=DAISYUI_COLOR_PROPERTIES_EXT, type=\"text/css\"))\n",
    "    \n",
    "    # daisyUI themes\n",
    "    if include_themes:\n",
    "        headers.append(Link(rel=\"stylesheet\", href=DAISYUI_THEMES_CDN, type=\"text/css\"))\n",
    "    \n",
    "    # Custom theme CSS as inline style\n",
    "    if custom_theme_css:\n",
    "        headers.append(Style(custom_theme_css))\n",
    "    \n",
    "    # Custom theme paths - load CSS content as Style elements\n",
    "    if custom_theme_paths:\n",
    "        for theme_path in custom_theme_paths:\n",
    "            path = Path(theme_path)\n",
    "            if path.exists() and path.is_file():\n",
    "                with open(path, 'r', encoding='utf-8') as f:\n",
    "                    headers.append(Style(f.read()))\n",
    "    \n",
    "    # Custom CSS files\n",
    "    if custom_css:\n",
    "        for css in custom_css:\n",
    "            if isinstance(css, str):\n",
    "                headers.append(create_css_link(css))\n",
    "            else:\n",
    "                headers.append(css)\n",
    "    \n",
    "    # Tailwind CSS (must come after daisyUI for proper initialization)\n",
    "    headers.append(Script(src=TAILWIND_CDN))\n",
    "    \n",
    "    # Custom JavaScript files\n",
    "    if custom_js:\n",
    "        for js in custom_js:\n",
    "            if isinstance(js, str):\n",
    "                headers.append(create_js_script(js))\n",
    "            else:\n",
    "                headers.append(js)\n",
    "    \n",
    "    return headers"
   ]
  },
  {
   "cell_type": "markdown",
   "id": "92c8cf9b-33d8-4537-bc8b-fd02f7e60e5d",
   "metadata": {},
   "source": [
    "Example with custom resources:"
   ]
  },
  {
   "cell_type": "code",
   "execution_count": null,
   "id": "1294fb50-8592-4f4e-8161-b5269c88ae69",
   "metadata": {},
   "outputs": [
    {
     "name": "stdout",
     "output_type": "stream",
     "text": [
      "Total headers: 9\n",
      "1. <link rel=\"stylesheet\" href=\"https://cdn.jsdelivr.net/npm/daisyui@5\" type=\"text/css\">\n",
      "2. <link rel=\"stylesheet\" href=\"https://cdn.jsdelivr.net/npm/daisyui@5/colors/properties-extended.css\" type=\"text/css\">\n",
      "3. <link rel=\"stylesheet\" href=\"https://cdn.jsdelivr.net/npm/daisyui@5/themes.css\" type=\"text/css\">\n",
      "4. <style>:root:has(input.theme-controller[value=custom_light_theme]:checked),[data-theme=\"custom_light_theme\"] {\n",
      "  color-scheme: light;\n",
      "  --color-base-100: oklch(98% 0.005 220);\n",
      "  --color-base-200: oklch(96% 0.008 215);\n",
      "  --color-base-300: oklch(92% 0.012 210);\n",
      "  --color-base-content: oklch(18% 0.015 230);\n",
      "  --color-primary: oklch(55% 0.18 260);\n",
      "  --color-primary-content: oklch(98% 0.005 260);\n",
      "  --color-secondary: oklch(45% 0.12 340);\n",
      "  --color-secondary-content: oklch(98% 0.005 340);\n",
      "  --color-accent: oklch(65% 0.15 180);\n",
      "  --color-accent-content: oklch(15% 0.01 180);\n",
      "  --color-neutral: oklch(25% 0.01 240);\n",
      "  --color-neutral-content: oklch(95% 0.005 240);\n",
      "  --color-info: oklch(60% 0.16 230);\n",
      "  --color-info-content: oklch(98% 0.005 230);\n",
      "  --color-success: oklch(58% 0.14 150);\n",
      "  --color-success-content: oklch(98% 0.005 150);\n",
      "  --color-warning: oklch(72% 0.16 85);\n",
      "  --color-warning-content: oklch(18% 0.01 85);\n",
      "  --color-error: oklch(55% 0.20 15);\n",
      "  --color-error-content: oklch(98% 0.005 15);\n",
      "  --radius-selector: 0.5rem;\n",
      "  --radius-field: 0.75rem;\n",
      "  --radius-box: 1.25rem;\n",
      "  --size-selector: 0.375rem;\n",
      "  --size-field: 0.375rem;\n",
      "  --border: 1.5px;\n",
      "  --depth: 2;\n",
      "  --noise: 1;\n",
      "}</style>\n",
      "5. <link rel=\"stylesheet\" href=\"/static/custom.css\" type=\"text/css\">\n",
      "6. <link rel=\"stylesheet\" href=\"https://cdn.example.com/fonts.css\" type=\"text/css\">\n",
      "7. <script src=\"https://cdn.jsdelivr.net/npm/@tailwindcss/browser@4\"></script>\n",
      "8. <script src=\"/static/app.js\"></script>\n",
      "9. <script src=\"https://cdn.example.com/analytics.js\"></script>\n"
     ]
    }
   ],
   "source": [
    "# Build headers with custom resources\n",
    "from nbdev.config import get_config\n",
    "cfg = get_config()\n",
    "project_dir = cfg.config_path\n",
    "\n",
    "custom_headers = build_headers(\n",
    "    include_themes=True,\n",
    "    custom_css=[\n",
    "        \"/static/custom.css\",\n",
    "        \"https://cdn.example.com/fonts.css\"\n",
    "    ],\n",
    "    custom_js=[\n",
    "        create_js_script(\"/static/app.js\", defer=True),\n",
    "        \"https://cdn.example.com/analytics.js\"\n",
    "    ],\n",
    "    custom_theme_paths=[project_dir / \"css\" / \"custom_light_theme.css\"]\n",
    ")\n",
    "\n",
    "print(f\"Total headers: {len(custom_headers)}\")\n",
    "for i, h in enumerate(custom_headers):\n",
    "    print(f\"{i+1}. {h}\")"
   ]
  },
  {
   "cell_type": "code",
   "execution_count": null,
   "id": "ac69b974-eba9-446b-8e05-a7e05029e4ba",
   "metadata": {},
   "outputs": [],
   "source": []
  },
  {
   "cell_type": "markdown",
   "id": "1729c6d1-a053-4a2e-98f8-8086c7235d38",
   "metadata": {},
   "source": [
    "### Creating CSS Links with Media and CORS\n",
    "\n",
    "The `create_css_link()` function supports media queries and CORS settings:"
   ]
  },
  {
   "cell_type": "code",
   "execution_count": null,
   "id": "cji6701z5nm",
   "metadata": {},
   "outputs": [
    {
     "name": "stdout",
     "output_type": "stream",
     "text": [
      "Basic CSS link:\n",
      "<link rel=\"stylesheet\" href=\"/static/styles.css\" type=\"text/css\">\n",
      "\n",
      "Print-only CSS link:\n",
      "<link rel=\"stylesheet\" href=\"/static/print.css\" type=\"text/css\" media=\"print\">\n",
      "\n",
      "Dark mode CSS link:\n",
      "<link rel=\"stylesheet\" href=\"/static/dark-theme.css\" type=\"text/css\" media=\"(prefers-color-scheme: dark)\">\n",
      "\n",
      "External font CSS with CORS:\n",
      "<link rel=\"stylesheet\" href=\"https://fonts.googleapis.com/css2?family=Inter:wght@400;600;700&amp;display=swap\" type=\"text/css\" crossorigin=\"anonymous\">\n",
      "\n",
      "Desktop-only CSS link:\n",
      "<link rel=\"stylesheet\" href=\"/static/desktop.css\" type=\"text/css\" media=\"screen and (min-width: 1024px)\">\n"
     ]
    }
   ],
   "source": [
    "# Basic CSS link\n",
    "basic_css = create_css_link(\"/static/styles.css\")\n",
    "print(\"Basic CSS link:\")\n",
    "print(basic_css)\n",
    "\n",
    "# CSS link with media query for print styles\n",
    "print_css = create_css_link(\n",
    "    href=\"/static/print.css\",\n",
    "    media=\"print\"\n",
    ")\n",
    "print(\"\\nPrint-only CSS link:\")\n",
    "print(print_css)\n",
    "\n",
    "# CSS link for dark mode with media query\n",
    "dark_mode_css = create_css_link(\n",
    "    href=\"/static/dark-theme.css\",\n",
    "    media=\"(prefers-color-scheme: dark)\"\n",
    ")\n",
    "print(\"\\nDark mode CSS link:\")\n",
    "print(dark_mode_css)\n",
    "\n",
    "# External CSS with CORS enabled (for fonts from CDN)\n",
    "font_css = create_css_link(\n",
    "    href=\"https://fonts.googleapis.com/css2?family=Inter:wght@400;600;700&display=swap\",\n",
    "    crossorigin=\"anonymous\"\n",
    ")\n",
    "print(\"\\nExternal font CSS with CORS:\")\n",
    "print(font_css)\n",
    "\n",
    "# CSS for large screens only\n",
    "desktop_css = create_css_link(\n",
    "    href=\"/static/desktop.css\",\n",
    "    media=\"screen and (min-width: 1024px)\"\n",
    ")\n",
    "print(\"\\nDesktop-only CSS link:\")\n",
    "print(desktop_css)"
   ]
  },
  {
   "cell_type": "markdown",
   "id": "6610570f-61d9-42e9-b8d3-300d20cb49aa",
   "metadata": {},
   "source": [
    "### Creating JavaScript Scripts with Attributes\n",
    "\n",
    "Similarly, `create_js_script()` supports various loading strategies:"
   ]
  },
  {
   "cell_type": "code",
   "execution_count": null,
   "id": "ff66xmj37kc",
   "metadata": {},
   "outputs": [
    {
     "name": "stdout",
     "output_type": "stream",
     "text": [
      "Complete headers with media queries and CORS (11 total):\n",
      "\n",
      "1. <link rel=\"stylesheet\" href=\"https://cdn.jsdelivr.net/npm/daisyui@5\" type=\"text/css\">\n",
      "2. <link rel=\"stylesheet\" href=\"https://cdn.jsdelivr.net/npm/daisyui@5/colors/properties-extended.css\" type=\"text/css\">\n",
      "3. <link rel=\"stylesheet\" href=\"https://cdn.jsdelivr.net/npm/daisyui@5/themes.css\" type=\"text/css\">\n",
      "4. <link rel=\"stylesheet\" href=\"/static/base.css\" type=\"text/css\">\n",
      "5. <link rel=\"stylesheet\" href=\"/static/print.css\" type=\"text/css\" media=\"print\">\n",
      "6. <link rel=\"stylesheet\" href=\"https://fonts.googleapis.com/css2?family=Roboto:wght@300;400;700\" type=\"text/css\" crossorigin=\"anonymous\">\n",
      "7. <link rel=\"stylesheet\" href=\"/static/mobile.css\" type=\"text/css\" media=\"screen and (max-width: 768px)\">\n",
      "8. <script src=\"https://cdn.jsdelivr.net/npm/@tailwindcss/browser@4\"></script>\n",
      "9. <script src=\"/static/app.js\"></script>\n",
      "10. <script src=\"/static/analytics.js\"></script>\n",
      "11. <script src=\"https://cdn.jsdelivr.net/npm/alpinejs@3.x.x/dist/cdn.min.js\" crossorigin=\"anonymous\"></script>\n"
     ]
    }
   ],
   "source": [
    "# Example: Building a complete set of headers with media queries and CORS\n",
    "complete_headers = build_headers(\n",
    "    include_themes=True,\n",
    "    custom_css=[\n",
    "        create_css_link(\"/static/base.css\"),\n",
    "        create_css_link(\"/static/print.css\", media=\"print\"),\n",
    "        create_css_link(\n",
    "            \"https://fonts.googleapis.com/css2?family=Roboto:wght@300;400;700\",\n",
    "            crossorigin=\"anonymous\"\n",
    "        ),\n",
    "        create_css_link(\n",
    "            \"/static/mobile.css\", \n",
    "            media=\"screen and (max-width: 768px)\"\n",
    "        )\n",
    "    ],\n",
    "    custom_js=[\n",
    "        create_js_script(\"/static/app.js\", defer=True),\n",
    "        create_js_script(\"/static/analytics.js\", async_=True),\n",
    "        create_js_script(\n",
    "            \"https://cdn.jsdelivr.net/npm/alpinejs@3.x.x/dist/cdn.min.js\",\n",
    "            defer=True,\n",
    "            crossorigin=\"anonymous\"\n",
    "        )\n",
    "    ]\n",
    ")\n",
    "\n",
    "print(f\"Complete headers with media queries and CORS ({len(complete_headers)} total):\\n\")\n",
    "for i, header in enumerate(complete_headers, 1):\n",
    "    print(f\"{i}. {header}\")"
   ]
  },
  {
   "cell_type": "code",
   "execution_count": null,
   "id": "34a3d5f6-82e3-40d0-885f-517026dee08e",
   "metadata": {},
   "outputs": [],
   "source": []
  },
  {
   "cell_type": "code",
   "execution_count": null,
   "id": "e4d61b2b-64e9-4454-a04d-88c11c8bc286",
   "metadata": {},
   "outputs": [],
   "source": []
  },
  {
   "cell_type": "code",
   "execution_count": null,
   "id": "eed93a24-f9b4-4692-93a8-f7af1dc8aedb",
   "metadata": {},
   "outputs": [],
   "source": []
  },
  {
   "cell_type": "code",
   "execution_count": null,
   "id": "c6836416-1a09-4a3a-9669-1c39e418f921",
   "metadata": {},
   "outputs": [],
   "source": []
  },
  {
   "cell_type": "code",
   "execution_count": null,
   "id": "6a580520-1916-413f-876e-2bcb7580f5c2",
   "metadata": {},
   "outputs": [],
   "source": []
  },
  {
   "cell_type": "code",
   "execution_count": null,
   "id": "bda7ba48-09aa-4e86-ac42-8aa16cf1a63e",
   "metadata": {},
   "outputs": [],
   "source": []
  },
  {
   "cell_type": "code",
   "execution_count": null,
   "id": "2d11aede-bb94-495e-b974-b9d3dc9f3644",
   "metadata": {},
   "outputs": [],
   "source": []
  },
  {
   "cell_type": "code",
   "execution_count": null,
   "id": "bb17e366-e320-49a7-8c6f-0b46cebd4b94",
   "metadata": {},
   "outputs": [],
   "source": []
  },
  {
   "cell_type": "code",
   "execution_count": null,
   "id": "10504f48-913f-4a27-a3e8-cedacef2cff5",
   "metadata": {},
   "outputs": [],
   "source": []
  },
  {
   "cell_type": "code",
   "execution_count": null,
   "id": "73900f78-63b7-4c6b-9421-98f367fcf0d7",
   "metadata": {},
   "outputs": [],
   "source": []
  },
  {
   "cell_type": "code",
   "execution_count": null,
   "id": "21109319-4974-4910-b805-0ce31b55dbdd",
   "metadata": {},
   "outputs": [],
   "source": []
  },
  {
   "cell_type": "code",
   "execution_count": null,
   "id": "4d36f728-5e31-457b-94d6-aa7e280ec826",
   "metadata": {},
   "outputs": [],
   "source": []
  },
  {
   "cell_type": "code",
   "execution_count": null,
   "id": "f739562a-e1d6-4e05-919f-1540637f0fcb",
   "metadata": {},
   "outputs": [],
   "source": []
  },
  {
   "cell_type": "code",
   "execution_count": null,
   "id": "5ad319ac-464e-48ba-b941-9cdab0c5d6d4",
   "metadata": {},
   "outputs": [],
   "source": []
  },
  {
   "cell_type": "code",
   "execution_count": null,
   "id": "88d40b55-f1df-4ad5-ba0e-d543808cb709",
   "metadata": {},
   "outputs": [],
   "source": []
  },
  {
   "cell_type": "markdown",
   "id": "9d951124-1802-465a-ab16-8f08fbf5304a",
   "metadata": {},
   "source": [
    "## Export"
   ]
  },
  {
   "cell_type": "code",
   "execution_count": null,
   "id": "45bddeae-fb1f-4072-9495-753210158102",
   "metadata": {},
   "outputs": [],
   "source": [
    "#| hide\n",
    "import nbdev; nbdev.nbdev_export()"
   ]
  }
 ],
 "metadata": {
  "kernelspec": {
   "display_name": "python3",
   "language": "python",
   "name": "python3"
  }
 },
 "nbformat": 4,
 "nbformat_minor": 5
}
