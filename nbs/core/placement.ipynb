{
 "cells": [
  {
   "cell_type": "markdown",
   "id": "a42de578-75a7-4bcd-aae8-76cb41340c82",
   "metadata": {},
   "source": [
    "# Placement & Direction\n",
    "\n",
    "> Mixins for component placement and direction options"
   ]
  },
  {
   "cell_type": "code",
   "execution_count": null,
   "id": "6fe1c05a-c9d9-47fb-ac54-c378aa449907",
   "metadata": {},
   "outputs": [],
   "source": [
    "#| default_exp core.placement"
   ]
  },
  {
   "cell_type": "code",
   "execution_count": null,
   "id": "3b7a2c0d-2478-4ec1-8c12-3e553ca7939f",
   "metadata": {},
   "outputs": [],
   "source": [
    "#| hide\n",
    "from nbdev.showdoc import *"
   ]
  },
  {
   "cell_type": "code",
   "execution_count": null,
   "id": "93e8c7d7-b9f0-47a1-8069-7d4d88270eea",
   "metadata": {},
   "outputs": [],
   "source": [
    "#| export\n",
    "from typing import Optional, List, Literal, Union\n",
    "from dataclasses import dataclass\n",
    "from cjm_fasthtml_daisyui.core.types import (\n",
    "    CSSContributor, CSSClasses, DaisyPosition, \n",
    "    PlacementType, DirectionType\n",
    ")"
   ]
  },
  {
   "cell_type": "markdown",
   "id": "4921d133-0f8a-4054-ba26-937ec9fb49ba",
   "metadata": {},
   "source": [
    "## HasPlacement Mixin\n",
    "\n",
    "Mixin for components with placement options."
   ]
  },
  {
   "cell_type": "code",
   "execution_count": null,
   "id": "5f6fcb8a-d2e0-418c-a214-14f9ca5bbd32",
   "metadata": {},
   "outputs": [],
   "source": [
    "#| export\n",
    "@dataclass\n",
    "class HasPlacement(CSSContributor):\n",
    "    \"\"\"Mixin for components with placement options.\n",
    "    \n",
    "    This mixin provides functionality for components that can be\n",
    "    positioned in different locations (start, center, end, top, bottom, etc.).\n",
    "    \"\"\"\n",
    "    \n",
    "    placement: Optional[Union[DaisyPosition, PlacementType, str]] = None\n",
    "    \n",
    "    def get_css_classes(\n",
    "        self\n",
    "    ) -> CSSClasses:  # Returns list of placement CSS classes\n",
    "        \"\"\"Get placement classes.\"\"\"\n",
    "        if not self.placement:\n",
    "            return []\n",
    "            \n",
    "        base = self.component_class()\n",
    "        \n",
    "        # Convert enum to string if needed\n",
    "        placement_str = self.placement.value if isinstance(self.placement, DaisyPosition) else str(self.placement)\n",
    "        \n",
    "        # Check if component uses standard placement pattern\n",
    "        if self.uses_standard_placement():\n",
    "            return [f\"{base}-{placement_str}\"]\n",
    "        else:\n",
    "            # Some components might have custom placement patterns\n",
    "            return self.custom_placement_classes()\n",
    "    \n",
    "    def uses_standard_placement(\n",
    "        self\n",
    "    ) -> bool:  # Returns True if standard pattern, False otherwise\n",
    "        \"\"\"Whether component uses standard '{component}-{placement}' pattern.\"\"\"\n",
    "        return True\n",
    "    \n",
    "    def custom_placement_classes(\n",
    "        self\n",
    "    ) -> List[str]:  # Returns list of custom CSS classes\n",
    "        \"\"\"Override for custom placement class patterns.\"\"\"\n",
    "        return []\n",
    "    \n",
    "    def valid_placements(\n",
    "        self\n",
    "    ) -> List[Union[DaisyPosition, str]]:  # Returns list of valid placement positions\n",
    "        \"\"\"Return list of valid placement values for this component.\"\"\"\n",
    "        # Subclasses should override to specify valid placements\n",
    "        # Return common positions by default\n",
    "        return [\n",
    "            DaisyPosition.START,\n",
    "            DaisyPosition.CENTER,\n",
    "            DaisyPosition.END,\n",
    "            DaisyPosition.TOP,\n",
    "            DaisyPosition.MIDDLE,\n",
    "            DaisyPosition.BOTTOM,\n",
    "            DaisyPosition.LEFT,\n",
    "            DaisyPosition.RIGHT\n",
    "        ]"
   ]
  },
  {
   "cell_type": "markdown",
   "id": "671bb8c3-2e8f-4528-a1e4-b2ebc7c14f86",
   "metadata": {},
   "source": [
    "## HasDirection Mixin\n",
    "\n",
    "Mixin for components with direction options."
   ]
  },
  {
   "cell_type": "code",
   "execution_count": null,
   "id": "5807a879-e8ef-4532-be7a-caa5f14b5c8d",
   "metadata": {},
   "outputs": [],
   "source": [
    "#| export\n",
    "@dataclass\n",
    "class HasDirection(CSSContributor):\n",
    "    \"\"\"Mixin for components with direction options.\n",
    "    \n",
    "    This mixin provides functionality for components that can have\n",
    "    different directional layouts (horizontal, vertical).\n",
    "    \"\"\"\n",
    "    \n",
    "    direction: Optional[DirectionType] = None\n",
    "    \n",
    "    def get_css_classes(\n",
    "        self\n",
    "    ) -> CSSClasses:  # Returns list of direction CSS classes\n",
    "        \"\"\"Get direction classes.\"\"\"\n",
    "        if not self.direction:\n",
    "            return []\n",
    "            \n",
    "        base = self.component_class()\n",
    "        return [f\"{base}-{self.direction}\"]\n",
    "    \n",
    "    def is_horizontal(\n",
    "        self\n",
    "    ) -> bool:  # Returns True if direction is horizontal\n",
    "        \"\"\"Check if component is horizontal.\"\"\"\n",
    "        return self.direction == \"horizontal\"\n",
    "    \n",
    "    def is_vertical(\n",
    "        self\n",
    "    ) -> bool:  # Returns True if direction is vertical\n",
    "        \"\"\"Check if component is vertical.\"\"\"\n",
    "        return self.direction == \"vertical\""
   ]
  },
  {
   "cell_type": "markdown",
   "id": "2e54f878-97c2-444b-a142-09e0d2c538f3",
   "metadata": {},
   "source": [
    "## Combined Placement and Direction Mixin\n",
    "\n",
    "Mixin that combines both placement and direction."
   ]
  },
  {
   "cell_type": "code",
   "execution_count": null,
   "id": "779373cc-cb8f-4a35-8c6d-bb8a6ea12291",
   "metadata": {},
   "outputs": [],
   "source": [
    "#| export\n",
    "@dataclass\n",
    "class HasPlacementAndDirection(HasPlacement, HasDirection):\n",
    "    \"\"\"Combined mixin for components with both placement and direction.\n",
    "    \n",
    "    This is useful for components like toast, divider, etc. that\n",
    "    support both placement and direction options.\n",
    "    \"\"\"\n",
    "    \n",
    "    def get_css_classes(\n",
    "        self\n",
    "    ) -> CSSClasses:  # Returns combined placement and direction CSS classes\n",
    "        \"\"\"Get combined placement and direction classes.\"\"\"\n",
    "        classes = []\n",
    "        # Call parent classes' get_css_classes methods\n",
    "        placement_classes = HasPlacement.get_css_classes(self)\n",
    "        direction_classes = HasDirection.get_css_classes(self)\n",
    "        classes.extend(placement_classes)\n",
    "        classes.extend(direction_classes)\n",
    "        return classes"
   ]
  },
  {
   "cell_type": "markdown",
   "id": "d96c6f27-5aef-439c-af44-f47e522b4717",
   "metadata": {},
   "source": [
    "## Usage Examples\n",
    "\n",
    "Examples of using the placement and direction mixins with proper type safety:"
   ]
  },
  {
   "cell_type": "code",
   "execution_count": null,
   "id": "ac79fb53-9815-4821-be60-ea6df3e2fad3",
   "metadata": {},
   "outputs": [
    {
     "name": "stdout",
     "output_type": "stream",
     "text": [
      "With enum: ['example-top']\n",
      "With literal: ['example-center']\n",
      "Valid placements: ['start', 'center', 'end', 'top', 'middle', 'bottom', 'left', 'right']\n"
     ]
    }
   ],
   "source": [
    "# Example: Using type-safe placement\n",
    "@dataclass\n",
    "class ExamplePlacementComponent(HasPlacement):\n",
    "    \"\"\"Example component with placement support.\"\"\"\n",
    "    \n",
    "    def component_class(self) -> str:\n",
    "        return \"example\"\n",
    "\n",
    "# Using DaisyPosition enum for type safety\n",
    "comp1 = ExamplePlacementComponent(placement=DaisyPosition.TOP)\n",
    "print(f\"With enum: {comp1.get_css_classes()}\")\n",
    "\n",
    "# Using string literal (still type-safe with PlacementType)\n",
    "comp2 = ExamplePlacementComponent(placement=\"center\")\n",
    "print(f\"With literal: {comp2.get_css_classes()}\")\n",
    "\n",
    "# Check valid placements\n",
    "print(f\"Valid placements: {[p.value if isinstance(p, DaisyPosition) else p for p in comp1.valid_placements()]}\")"
   ]
  },
  {
   "cell_type": "code",
   "execution_count": null,
   "id": "efb65d44-8175-4952-9407-7498aeb6835b",
   "metadata": {},
   "outputs": [
    {
     "name": "stdout",
     "output_type": "stream",
     "text": [
      "Horizontal: ['divider-horizontal'], is_horizontal=True\n",
      "Vertical: ['divider-vertical'], is_vertical=True\n"
     ]
    }
   ],
   "source": [
    "# Example: Using type-safe direction\n",
    "@dataclass\n",
    "class ExampleDirectionComponent(HasDirection):\n",
    "    \"\"\"Example component with direction support.\"\"\"\n",
    "    \n",
    "    def component_class(self) -> str:\n",
    "        return \"divider\"\n",
    "\n",
    "# Using DirectionType literal\n",
    "comp_h = ExampleDirectionComponent(direction=\"horizontal\")\n",
    "comp_v = ExampleDirectionComponent(direction=\"vertical\")\n",
    "\n",
    "print(f\"Horizontal: {comp_h.get_css_classes()}, is_horizontal={comp_h.is_horizontal()}\")\n",
    "print(f\"Vertical: {comp_v.get_css_classes()}, is_vertical={comp_v.is_vertical()}\")"
   ]
  },
  {
   "cell_type": "code",
   "execution_count": null,
   "id": "3ef87238-b41c-471a-bdd9-02d6a9da8bd1",
   "metadata": {},
   "outputs": [],
   "source": []
  },
  {
   "cell_type": "code",
   "execution_count": null,
   "id": "db91716d-6ddf-4082-81d4-5fe75e505c07",
   "metadata": {},
   "outputs": [],
   "source": []
  },
  {
   "cell_type": "code",
   "execution_count": null,
   "id": "d7ceb976-dde7-4370-b849-afcf0e54e1a2",
   "metadata": {},
   "outputs": [],
   "source": []
  },
  {
   "cell_type": "code",
   "execution_count": null,
   "id": "31c9aff4-b839-4b9b-a319-e15d016044cb",
   "metadata": {},
   "outputs": [],
   "source": []
  },
  {
   "cell_type": "code",
   "execution_count": null,
   "id": "b374e4f9-975a-49a0-a650-61aba07d87e5",
   "metadata": {},
   "outputs": [],
   "source": []
  },
  {
   "cell_type": "code",
   "execution_count": null,
   "id": "0ab3d4b4-03dc-4aa9-bfe3-506957c32833",
   "metadata": {},
   "outputs": [],
   "source": []
  },
  {
   "cell_type": "code",
   "execution_count": null,
   "id": "70484719-f0a9-48dd-ade8-4b75657c58d5",
   "metadata": {},
   "outputs": [],
   "source": [
    "#| hide\n",
    "import nbdev; nbdev.nbdev_export()"
   ]
  }
 ],
 "metadata": {
  "kernelspec": {
   "display_name": "python3",
   "language": "python",
   "name": "python3"
  }
 },
 "nbformat": 4,
 "nbformat_minor": 5
}
