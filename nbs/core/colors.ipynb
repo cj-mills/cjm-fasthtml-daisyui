{
 "cells": [
  {
   "cell_type": "markdown",
   "id": "11995b33-ce84-4a20-b03c-cbfc4cb4518e",
   "metadata": {},
   "source": [
    "# Colors\n",
    "\n",
    "> Semantic color system for daisyUI components"
   ]
  },
  {
   "cell_type": "code",
   "execution_count": null,
   "id": "b0e56415-80bb-4d58-81d1-ba28f9abb747",
   "metadata": {},
   "outputs": [],
   "source": [
    "#| default_exp core.colors"
   ]
  },
  {
   "cell_type": "code",
   "execution_count": null,
   "id": "3f984eac-084d-44ae-9f64-a1fbe7c6629b",
   "metadata": {},
   "outputs": [],
   "source": [
    "#| export\n",
    "from typing import Union, Optional, List, Dict, Tuple, Literal\n",
    "from enum import Enum\n",
    "from dataclasses import dataclass\n",
    "from functools import lru_cache\n",
    "from cjm_fasthtml_daisyui.core.types import CSSContributor, SemanticColor, ColorUtility, OpacityLevel, BaseColor"
   ]
  },
  {
   "cell_type": "markdown",
   "id": "27ea4764-7f79-4a36-aad0-679a690c7d8a",
   "metadata": {},
   "source": [
    "## Color Builder\n",
    "\n",
    "Helper class for building color-related CSS classes:"
   ]
  },
  {
   "cell_type": "code",
   "execution_count": null,
   "id": "7f715583-98a8-4959-be10-147869fd321e",
   "metadata": {},
   "outputs": [],
   "source": [
    "#| export\n",
    "@dataclass\n",
    "class ColorClasses:\n",
    "    \"\"\"Container for color-related CSS classes\"\"\"\n",
    "    background: Optional[str] = None\n",
    "    text: Optional[str] = None\n",
    "    border: Optional[str] = None\n",
    "    ring: Optional[str] = None\n",
    "    \n",
    "    def to_list(\n",
    "        self\n",
    "    ) -> List[str]:  # List of class names\n",
    "        \"\"\"Convert to list of class names\"\"\"\n",
    "        classes = []\n",
    "        if self.background:\n",
    "            classes.append(self.background)\n",
    "        if self.text:\n",
    "            classes.append(self.text)\n",
    "        if self.border:\n",
    "            classes.append(self.border)\n",
    "        if self.ring:\n",
    "            classes.append(self.ring)\n",
    "        return classes\n",
    "    \n",
    "    def to_string(\n",
    "        self\n",
    "    ) -> str:  # Space-separated string\n",
    "        \"\"\"Convert to space-separated string\"\"\"\n",
    "        return \" \".join(self.to_list())"
   ]
  },
  {
   "cell_type": "code",
   "execution_count": null,
   "id": "c83c952b-4e4e-4f1a-b02f-39217903ae8e",
   "metadata": {},
   "outputs": [],
   "source": [
    "#| export\n",
    "class ColorBuilder:\n",
    "    \"\"\"\n",
    "    Builder for semantic color classes\n",
    "    \n",
    "    Provides a fluent API for building color-related CSS classes\n",
    "    with daisyUI semantic colors.\n",
    "    \"\"\"\n",
    "    \n",
    "    def __init__(self):\n",
    "        \"Initialize a new ColorBuilder with empty color classes\"\n",
    "        self._classes = ColorClasses()\n",
    "    \n",
    "    def bg(\n",
    "        self,\n",
    "        color: Union[SemanticColor, str]  # background color\n",
    "    ) -> \"ColorBuilder\":  # Self for method chaining\n",
    "        \"\"\"Set background color\"\"\"\n",
    "        self._classes.background = ColorUtility.BACKGROUND.with_color(color)\n",
    "        return self\n",
    "    \n",
    "    def text(\n",
    "        self,\n",
    "        color: Union[SemanticColor, str]  # text color\n",
    "    ) -> \"ColorBuilder\":  # Self for method chaining\n",
    "        \"\"\"Set text color\"\"\"\n",
    "        self._classes.text = ColorUtility.TEXT.with_color(color)\n",
    "        return self\n",
    "    \n",
    "    def border(\n",
    "        self,\n",
    "        color: Union[SemanticColor, str]  # Border color\n",
    "    ) -> \"ColorBuilder\":  # Self for method chaining\n",
    "        \"\"\"Set border color\"\"\"\n",
    "        self._classes.border = ColorUtility.BORDER.with_color(color)\n",
    "        return self\n",
    "    \n",
    "    def ring(\n",
    "        self,\n",
    "        color: Union[SemanticColor, str]  # Ring color\n",
    "    ) -> \"ColorBuilder\":  # Self for method chaining\n",
    "        \"\"\"Set ring color\"\"\"\n",
    "        self._classes.ring = ColorUtility.RING.with_color(color)\n",
    "        return self\n",
    "    \n",
    "    def brand_primary(\n",
    "        self\n",
    "    ) -> \"ColorBuilder\":  # Self for method chaining\n",
    "        \"\"\"Apply primary brand colors (background + appropriate text)\"\"\"\n",
    "        self._classes.background = ColorUtility.BACKGROUND.with_color(SemanticColor.PRIMARY)\n",
    "        self._classes.text = ColorUtility.TEXT.with_color(SemanticColor.PRIMARY_CONTENT)\n",
    "        return self\n",
    "    \n",
    "    def brand_secondary(\n",
    "        self\n",
    "    ) -> \"ColorBuilder\":  # Self for method chaining\n",
    "        \"\"\"Apply secondary brand colors\"\"\"\n",
    "        self._classes.background = ColorUtility.BACKGROUND.with_color(SemanticColor.SECONDARY)\n",
    "        self._classes.text = ColorUtility.TEXT.with_color(SemanticColor.SECONDARY_CONTENT)\n",
    "        return self\n",
    "    \n",
    "    def brand_accent(\n",
    "        self\n",
    "    ) -> \"ColorBuilder\":  # Self for method chaining\n",
    "        \"\"\"Apply accent brand colors\"\"\"\n",
    "        self._classes.background = ColorUtility.BACKGROUND.with_color(SemanticColor.ACCENT)\n",
    "        self._classes.text = ColorUtility.TEXT.with_color(SemanticColor.ACCENT_CONTENT)\n",
    "        return self\n",
    "    \n",
    "    def state_info(\n",
    "        self\n",
    "    ) -> \"ColorBuilder\":  # Self for method chaining\n",
    "        \"\"\"Apply info state colors\"\"\"\n",
    "        self._classes.background = ColorUtility.BACKGROUND.with_color(SemanticColor.INFO)\n",
    "        self._classes.text = ColorUtility.TEXT.with_color(SemanticColor.INFO_CONTENT)\n",
    "        return self\n",
    "    \n",
    "    def state_success(\n",
    "        self\n",
    "    ) -> \"ColorBuilder\":  # Self for method chaining\n",
    "        \"\"\"Apply success state colors\"\"\"\n",
    "        self._classes.background = ColorUtility.BACKGROUND.with_color(SemanticColor.SUCCESS)\n",
    "        self._classes.text = ColorUtility.TEXT.with_color(SemanticColor.SUCCESS_CONTENT)\n",
    "        return self\n",
    "    \n",
    "    def state_warning(\n",
    "        self\n",
    "    ) -> \"ColorBuilder\":  # Self for method chaining\n",
    "        \"\"\"Apply warning state colors\"\"\"\n",
    "        self._classes.background = ColorUtility.BACKGROUND.with_color(SemanticColor.WARNING)\n",
    "        self._classes.text = ColorUtility.TEXT.with_color(SemanticColor.WARNING_CONTENT)\n",
    "        return self\n",
    "    \n",
    "    def state_error(\n",
    "        self\n",
    "    ) -> \"ColorBuilder\":  # Self for method chaining\n",
    "        \"\"\"Apply error state colors\"\"\"\n",
    "        self._classes.background = ColorUtility.BACKGROUND.with_color(SemanticColor.ERROR)\n",
    "        self._classes.text = ColorUtility.TEXT.with_color(SemanticColor.ERROR_CONTENT)\n",
    "        return self\n",
    "    \n",
    "    def surface_base(\n",
    "        self,\n",
    "        level: BaseColor = 100  # Base level\n",
    "    ) -> \"ColorBuilder\":   # Self for method chaining\n",
    "        \"\"\"Apply base surface colors\"\"\"\n",
    "        base_color = {\n",
    "            100: SemanticColor.BASE_100,\n",
    "            200: SemanticColor.BASE_200,\n",
    "            300: SemanticColor.BASE_300,\n",
    "        }[level]\n",
    "        self._classes.background = ColorUtility.BACKGROUND.with_color(base_color)\n",
    "        self._classes.text = ColorUtility.TEXT.with_color(SemanticColor.BASE_CONTENT)\n",
    "        return self\n",
    "    \n",
    "    def build(\n",
    "        self\n",
    "    ) -> str:  # Final class string\n",
    "        \"\"\"Build the final class string\"\"\"\n",
    "        return self._classes.to_string()\n",
    "    \n",
    "    def build_list(\n",
    "        self\n",
    "    ) -> List[str]:  # List of classes\n",
    "        \"\"\"Build as a list of classes\"\"\"\n",
    "        return self._classes.to_list()\n",
    "    \n",
    "    def reset(\n",
    "        self\n",
    "    ) -> \"ColorBuilder\":   # Self for method chaining\n",
    "        \"\"\"Reset the builder\"\"\"\n",
    "        self._classes = ColorClasses()\n",
    "        return self"
   ]
  },
  {
   "cell_type": "markdown",
   "id": "0ccb05ee-b7bd-4785-92d5-a9a50844040c",
   "metadata": {},
   "source": [
    "## Color Utilities\n",
    "\n",
    "Helper functions for working with semantic colors:"
   ]
  },
  {
   "cell_type": "code",
   "execution_count": null,
   "id": "722270a9-4c66-44f7-b7c2-f0f0b7c4c2ae",
   "metadata": {},
   "outputs": [],
   "source": [
    "#| export\n",
    "@lru_cache(maxsize=128)\n",
    "def get_color_classes(\n",
    "    color: Union[SemanticColor, str],\n",
    "    utilities: List[ColorUtility] = None  # List of utilities to generate (defaults to bg and text)\n",
    ") -> List[str]:  # List of CSS class names\n",
    "    \"Generate color utility classes for a semantic color\"\n",
    "    if utilities is None:\n",
    "        utilities = [ColorUtility.BACKGROUND, ColorUtility.TEXT]\n",
    "    \n",
    "    return [utility.with_color(color) for utility in utilities]"
   ]
  },
  {
   "cell_type": "code",
   "execution_count": null,
   "id": "b5dc8f93-ff08-4247-89e1-afcfc727b1b1",
   "metadata": {},
   "outputs": [],
   "source": [
    "#| export\n",
    "def apply_semantic_colors(\n",
    "    bg: Optional[Union[SemanticColor, str]] = None,\n",
    "    text: Optional[Union[SemanticColor, str]] = None,\n",
    "    border: Optional[Union[SemanticColor, str]] = None,\n",
    "    auto_content: bool = True  # Automatically select appropriate text color for background\n",
    ") -> str:  # Space-separated CSS classes\n",
    "    \"Apply semantic colors with automatic content color selection\"\n",
    "    classes = []\n",
    "    \n",
    "    # Add background\n",
    "    if bg:\n",
    "        classes.append(ColorUtility.BACKGROUND.with_color(bg))\n",
    "        \n",
    "        # Auto-select text color if needed\n",
    "        if auto_content and not text and isinstance(bg, SemanticColor):\n",
    "            if not bg.is_content_color():\n",
    "                content_color = bg.with_content()\n",
    "                classes.append(ColorUtility.TEXT.with_color(content_color))\n",
    "    \n",
    "    # Add explicit text color\n",
    "    if text:\n",
    "        classes.append(ColorUtility.TEXT.with_color(text))\n",
    "    \n",
    "    # Add border\n",
    "    if border:\n",
    "        classes.append(ColorUtility.BORDER.with_color(border))\n",
    "    \n",
    "    return \" \".join(classes)"
   ]
  },
  {
   "cell_type": "markdown",
   "id": "09c725ba-b91b-4779-92b3-3d6136e0a4ed",
   "metadata": {},
   "source": [
    "## Opacity Support\n",
    "\n",
    "Support for opacity modifiers with semantic colors:"
   ]
  },
  {
   "cell_type": "code",
   "execution_count": null,
   "id": "efb6d332-02fc-4c73-aeed-e8964e491d93",
   "metadata": {},
   "outputs": [],
   "source": [
    "#| export\n",
    "def with_opacity(\n",
    "    color_class: str,  # The color utility class (e.g., \"bg-primary\")\n",
    "    opacity: Union[OpacityLevel, int]\n",
    ") -> str:  # Color class with opacity modifier\n",
    "    \"Add opacity modifier to a color class\"\n",
    "    opacity_value = opacity.value if isinstance(opacity, OpacityLevel) else opacity\n",
    "    return f\"{color_class}/{opacity_value}\""
   ]
  },
  {
   "cell_type": "markdown",
   "id": "62163e71-71ac-4c96-9439-a22e96705323",
   "metadata": {},
   "source": [
    "## Usage Examples\n",
    "\n",
    "Examples of using the semantic color system:"
   ]
  },
  {
   "cell_type": "markdown",
   "id": "d95a408f-6254-41c9-b683-b11f36a534b1",
   "metadata": {},
   "source": [
    "### Using Semantic Colors"
   ]
  },
  {
   "cell_type": "code",
   "execution_count": null,
   "id": "0123357c-c515-46a7-b573-24d01ba56cda",
   "metadata": {},
   "outputs": [
    {
     "name": "stdout",
     "output_type": "stream",
     "text": [
      "Primary background: bg-primary\n",
      "Primary with auto text: bg-primary text-primary-content\n",
      "Custom colors: bg-base-200 text-base-content border-neutral\n"
     ]
    }
   ],
   "source": [
    "# Basic usage\n",
    "primary_bg = ColorUtility.BACKGROUND.with_color(SemanticColor.PRIMARY)\n",
    "print(f\"Primary background: {primary_bg}\")\n",
    "\n",
    "# Get both background and text colors\n",
    "primary_classes = apply_semantic_colors(bg=SemanticColor.PRIMARY)\n",
    "print(f\"Primary with auto text: {primary_classes}\")\n",
    "\n",
    "# Manual color selection\n",
    "custom_classes = apply_semantic_colors(\n",
    "    bg=SemanticColor.BASE_200,\n",
    "    text=SemanticColor.BASE_CONTENT,\n",
    "    border=SemanticColor.NEUTRAL\n",
    ")\n",
    "print(f\"Custom colors: {custom_classes}\")"
   ]
  },
  {
   "cell_type": "markdown",
   "id": "27438cff-39bb-4682-86b2-f0b14da25929",
   "metadata": {},
   "source": [
    "### Using Color Builder"
   ]
  },
  {
   "cell_type": "code",
   "execution_count": null,
   "id": "f8bd3c05-52a2-41c7-8b0e-410c5ef2f324",
   "metadata": {},
   "outputs": [
    {
     "name": "stdout",
     "output_type": "stream",
     "text": [
      "Primary button classes: bg-primary text-primary-content border-primary\n",
      "Error alert classes: bg-error text-error-content\n",
      "Card surface classes: bg-base-200 text-base-content\n"
     ]
    }
   ],
   "source": [
    "# Build color classes fluently\n",
    "builder = ColorBuilder()\n",
    "\n",
    "# Brand colors\n",
    "primary_button = builder.brand_primary().border(SemanticColor.PRIMARY).build()\n",
    "print(f\"Primary button classes: {primary_button}\")\n",
    "\n",
    "# State colors\n",
    "error_alert = builder.reset().state_error().build()\n",
    "print(f\"Error alert classes: {error_alert}\")\n",
    "\n",
    "# Surface colors\n",
    "card_surface = builder.reset().surface_base(200).build()\n",
    "print(f\"Card surface classes: {card_surface}\")"
   ]
  },
  {
   "cell_type": "markdown",
   "id": "e4f4cfe8-37e7-4658-8f02-7da210140a66",
   "metadata": {},
   "source": [
    "### Using Opacity"
   ]
  },
  {
   "cell_type": "code",
   "execution_count": null,
   "id": "f07629bb-8dc8-47c3-acd0-74b970a2fff4",
   "metadata": {},
   "outputs": [
    {
     "name": "stdout",
     "output_type": "stream",
     "text": [
      "Primary with 50% opacity: bg-primary/50\n",
      "Error text at OpacityLevel.OPACITY_10%: text-error/10\n",
      "Error text at OpacityLevel.OPACITY_50%: text-error/50\n",
      "Error text at OpacityLevel.OPACITY_90%: text-error/90\n"
     ]
    }
   ],
   "source": [
    "# Add opacity to colors\n",
    "bg_primary = ColorUtility.BACKGROUND.with_color(SemanticColor.PRIMARY)\n",
    "bg_primary_50 = with_opacity(bg_primary, OpacityLevel.OPACITY_50)\n",
    "print(f\"Primary with 50% opacity: {bg_primary_50}\")\n",
    "\n",
    "# Different opacity levels\n",
    "opacities = [OpacityLevel.OPACITY_10, OpacityLevel.OPACITY_50, OpacityLevel.OPACITY_90]\n",
    "for opacity in opacities:\n",
    "    class_with_opacity = with_opacity(\"text-error\", opacity)\n",
    "    print(f\"Error text at {opacity}%: {class_with_opacity}\")"
   ]
  },
  {
   "cell_type": "markdown",
   "id": "db33ef7a-56d7-4c58-9515-91ebf968539d",
   "metadata": {},
   "source": [
    "## Integration with Components\n",
    "\n",
    "The color system will be integrated into the base component system:"
   ]
  },
  {
   "cell_type": "code",
   "execution_count": null,
   "id": "5afee64c-e67a-4477-9b75-f0689c91a62d",
   "metadata": {},
   "outputs": [],
   "source": [
    "#| export\n",
    "class ColorMixin(CSSContributor):\n",
    "    \"\"\"\n",
    "    Mixin to add semantic color support to components\n",
    "    \n",
    "    This will be used by DaisyComponent to provide color methods.\n",
    "    \"\"\"\n",
    "    \n",
    "    def with_color(\n",
    "        self,\n",
    "        color: Union[SemanticColor, str],\n",
    "        apply_to: List[ColorUtility] = None  # Utilities to apply color to (defaults to bg and text)\n",
    "    ) -> \"ColorMixin\":  # Self for method chaining\n",
    "        \"\"\"Apply a semantic color to the component\"\"\"\n",
    "        if not hasattr(self, '_color_classes'):\n",
    "            self._color_classes = []\n",
    "        \n",
    "        utilities = apply_to or [ColorUtility.BACKGROUND, ColorUtility.TEXT]\n",
    "        for utility in utilities:\n",
    "            self._color_classes.append(utility.with_color(color))\n",
    "        \n",
    "        return self\n",
    "    \n",
    "    def with_brand_colors(\n",
    "        self,\n",
    "        brand: Literal[\"primary\", \"secondary\", \"accent\", \"neutral\"]\n",
    "    ) -> \"ColorMixin\":  # Self for method chaining\n",
    "        \"\"\"Apply brand colors with appropriate text color\"\"\"\n",
    "        color_map = {\n",
    "            \"primary\": (SemanticColor.PRIMARY, SemanticColor.PRIMARY_CONTENT),\n",
    "            \"secondary\": (SemanticColor.SECONDARY, SemanticColor.SECONDARY_CONTENT),\n",
    "            \"accent\": (SemanticColor.ACCENT, SemanticColor.ACCENT_CONTENT),\n",
    "            \"neutral\": (SemanticColor.NEUTRAL, SemanticColor.NEUTRAL_CONTENT),\n",
    "        }\n",
    "        \n",
    "        if brand in color_map:\n",
    "            bg_color, text_color = color_map[brand]\n",
    "            self.with_color(bg_color, [ColorUtility.BACKGROUND])\n",
    "            self.with_color(text_color, [ColorUtility.TEXT])\n",
    "        \n",
    "        return self\n",
    "    \n",
    "    def with_state_colors(\n",
    "        self,\n",
    "        state: Literal[\"info\", \"success\", \"warning\", \"error\"]\n",
    "    ) -> \"ColorMixin\":  # Self for method chaining\n",
    "        \"\"\"Apply state colors with appropriate text color\"\"\"\n",
    "        color_map = {\n",
    "            \"info\": (SemanticColor.INFO, SemanticColor.INFO_CONTENT),\n",
    "            \"success\": (SemanticColor.SUCCESS, SemanticColor.SUCCESS_CONTENT),\n",
    "            \"warning\": (SemanticColor.WARNING, SemanticColor.WARNING_CONTENT),\n",
    "            \"error\": (SemanticColor.ERROR, SemanticColor.ERROR_CONTENT),\n",
    "        }\n",
    "        \n",
    "        if state in color_map:\n",
    "            bg_color, text_color = color_map[state]\n",
    "            self.with_color(bg_color, [ColorUtility.BACKGROUND])\n",
    "            self.with_color(text_color, [ColorUtility.TEXT])\n",
    "        \n",
    "        return self\n",
    "    \n",
    "    def get_css_classes(\n",
    "        self\n",
    "    ) -> List[str]:  # List of CSS class strings for colors\n",
    "        \"\"\"Get all color classes applied to this component\n",
    "        \n",
    "        Returns:\n",
    "            List of CSS class strings for colors\n",
    "        \"\"\"\n",
    "        return getattr(self, '_color_classes', [])"
   ]
  },
  {
   "cell_type": "markdown",
   "id": "6ca9f0b0-7e21-45fe-975b-41385e6e096b",
   "metadata": {},
   "source": [
    "## Best Practices\n",
    "\n",
    "1. **Use Semantic Colors**: Always prefer semantic colors over hardcoded Tailwind colors\n",
    "2. **Auto Content Colors**: Let the system automatically select appropriate text colors\n",
    "3. **Theme Awareness**: Semantic colors adapt to the current theme automatically\n",
    "4. **Accessibility**: Content colors are designed to meet contrast requirements\n",
    "5. **Consistency**: Use the color mappings for consistent state representation"
   ]
  },
  {
   "cell_type": "code",
   "execution_count": null,
   "id": "0769542e-efe4-418e-ba57-bc0968f088ab",
   "metadata": {},
   "outputs": [],
   "source": [
    "#| hide\n",
    "import nbdev; nbdev.nbdev_export()"
   ]
  }
 ],
 "metadata": {
  "kernelspec": {
   "display_name": "python3",
   "language": "python",
   "name": "python3"
  }
 },
 "nbformat": 4,
 "nbformat_minor": 5
}
