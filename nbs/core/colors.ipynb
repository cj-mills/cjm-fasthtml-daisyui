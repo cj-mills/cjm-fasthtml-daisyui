{
 "cells": [
  {
   "cell_type": "markdown",
   "id": "758b25b8-c5de-4374-8526-8f7090432f5a",
   "metadata": {},
   "source": [
    "# colors\n",
    "\n",
    "> Type-safe semantic color management for daisyUI"
   ]
  },
  {
   "cell_type": "code",
   "execution_count": null,
   "id": "b375f6a7-7544-483c-93c1-142caf290306",
   "metadata": {},
   "outputs": [],
   "source": [
    "#| default_exp core.colors"
   ]
  },
  {
   "cell_type": "code",
   "execution_count": null,
   "id": "f3606425-f359-4a2a-b545-641d191cb676",
   "metadata": {},
   "outputs": [],
   "source": [
    "#| hide\n",
    "from nbdev.showdoc import *"
   ]
  },
  {
   "cell_type": "code",
   "execution_count": null,
   "id": "1af1c5d5-6862-40e0-9008-c4d499b6c3ee",
   "metadata": {},
   "outputs": [],
   "source": [
    "#| export\n",
    "from enum import Enum\n",
    "from typing import Union, Optional, Literal, overload\n",
    "from fasthtml.common import Div\n",
    "from cjm_tailwind_utils.all import TailwindBuilder"
   ]
  },
  {
   "cell_type": "markdown",
   "id": "0c654826-9a3b-413a-bc8e-4c35a16a02b0",
   "metadata": {},
   "source": [
    "## Semantic Color Enums\n",
    "\n",
    "daisyUI uses semantic color names that adapt to different themes automatically. This module provides type-safe enums for all daisyUI semantic colors."
   ]
  },
  {
   "cell_type": "code",
   "execution_count": null,
   "id": "15288f44-08d4-417c-baa7-23107150ed61",
   "metadata": {},
   "outputs": [],
   "source": [
    "#| export\n",
    "class DaisyUIColor(str, Enum):\n",
    "    \"\"\"All daisyUI semantic color names.\n",
    "    \n",
    "    These colors automatically adapt based on the active theme and provide\n",
    "    consistent semantic meaning across your application.\n",
    "    \"\"\"\n",
    "    # Brand colors\n",
    "    PRIMARY = \"primary\"\n",
    "    PRIMARY_CONTENT = \"primary-content\"\n",
    "    SECONDARY = \"secondary\"\n",
    "    SECONDARY_CONTENT = \"secondary-content\"\n",
    "    ACCENT = \"accent\"\n",
    "    ACCENT_CONTENT = \"accent-content\"\n",
    "    NEUTRAL = \"neutral\"\n",
    "    NEUTRAL_CONTENT = \"neutral-content\"\n",
    "    \n",
    "    # Base colors\n",
    "    BASE_100 = \"base-100\"\n",
    "    BASE_200 = \"base-200\"\n",
    "    BASE_300 = \"base-300\"\n",
    "    BASE_CONTENT = \"base-content\"\n",
    "    \n",
    "    # Semantic colors\n",
    "    INFO = \"info\"\n",
    "    INFO_CONTENT = \"info-content\"\n",
    "    SUCCESS = \"success\"\n",
    "    SUCCESS_CONTENT = \"success-content\"\n",
    "    WARNING = \"warning\"\n",
    "    WARNING_CONTENT = \"warning-content\"\n",
    "    ERROR = \"error\"\n",
    "    ERROR_CONTENT = \"error-content\""
   ]
  },
  {
   "cell_type": "markdown",
   "id": "732a0f96-e0e2-4172-aaf8-3bc957683726",
   "metadata": {},
   "source": [
    "## Color Helper Functions\n",
    "\n",
    "Utility functions for working with semantic colors."
   ]
  },
  {
   "cell_type": "code",
   "execution_count": null,
   "id": "d41fe71c-b17c-4fe5-b93e-bb2ec1cb3581",
   "metadata": {},
   "outputs": [],
   "source": [
    "#| export\n",
    "def semantic_color(\n",
    "    color: Union[DaisyUIColor, str],  # Color enum or string\n",
    "    opacity: Optional[int] = None     # Optional opacity value (0-100)\n",
    ") -> str:  # Color string with optional opacity modifier\n",
    "    \"\"\"Build semantic color string with optional opacity modifier.\n",
    "    \n",
    "    This function handles both DaisyUIColor enums and string values,\n",
    "    allowing flexibility while maintaining type safety.\n",
    "    \n",
    "    Examples:\n",
    "        semantic_color(DaisyUIColor.PRIMARY) -> \"primary\"\n",
    "        semantic_color(DaisyUIColor.BASE_100, 50) -> \"base-100/50\"\n",
    "        semantic_color(\"primary\", 75) -> \"primary/75\"\n",
    "    \"\"\"\n",
    "    color_str = color.value if isinstance(color, DaisyUIColor) else color\n",
    "    return f\"{color_str}/{opacity}\" if opacity is not None else color_str"
   ]
  },
  {
   "cell_type": "code",
   "execution_count": null,
   "id": "9f22d68e-3ee4-4113-8f16-99894ee11ef4",
   "metadata": {},
   "outputs": [],
   "source": [
    "#| export\n",
    "def is_content_color(\n",
    "    color: Union[DaisyUIColor, str]  # Color to check\n",
    ") -> bool:  # True if color is a content variant\n",
    "    \"\"\"Check if a color is a content variant (ends with -content).\n",
    "    \n",
    "    Content colors are designed to be used as foreground colors\n",
    "    on their corresponding background colors.\n",
    "    \"\"\"\n",
    "    color_str = color.value if isinstance(color, DaisyUIColor) else color\n",
    "    return color_str.endswith(\"-content\")"
   ]
  },
  {
   "cell_type": "markdown",
   "id": "0c835c37-6315-4d84-be80-74b59491ed2e",
   "metadata": {},
   "source": [
    "## TailwindBuilder Extensions\n",
    "\n",
    "Extend TailwindBuilder with semantic color methods for better integration."
   ]
  },
  {
   "cell_type": "code",
   "execution_count": null,
   "id": "52a6b8bc-9e4b-460f-92d6-4f6ab79e9146",
   "metadata": {},
   "outputs": [],
   "source": [
    "#| export\n",
    "# Extend TailwindBuilder with semantic color methods\n",
    "def bg_semantic(\n",
    "    self: TailwindBuilder, \n",
    "    color: Union[DaisyUIColor, str], \n",
    "    opacity: Optional[int] = None\n",
    ") -> TailwindBuilder:\n",
    "    \"\"\"Add semantic background color with optional opacity.\n",
    "    \n",
    "    Examples:\n",
    "        TailwindBuilder().bg_semantic(DaisyUIColor.PRIMARY)\n",
    "        TailwindBuilder().bg_semantic(DaisyUIColor.BASE_100, 50)\n",
    "    \"\"\"\n",
    "    return self.bg(semantic_color(color, opacity), validate=False)\n",
    "\n",
    "def text_semantic(\n",
    "    self: TailwindBuilder, \n",
    "    color: Union[DaisyUIColor, str], \n",
    "    opacity: Optional[int] = None\n",
    ") -> TailwindBuilder:\n",
    "    \"\"\"Add semantic text color with optional opacity.\n",
    "    \n",
    "    Examples:\n",
    "        TailwindBuilder().text_semantic(DaisyUIColor.PRIMARY_CONTENT)\n",
    "        TailwindBuilder().text_semantic(DaisyUIColor.BASE_CONTENT, 70)\n",
    "    \"\"\"\n",
    "    return self.text(color=semantic_color(color, opacity))\n",
    "\n",
    "def border_semantic(\n",
    "    self: TailwindBuilder, \n",
    "    color: Union[DaisyUIColor, str], \n",
    "    opacity: Optional[int] = None\n",
    ") -> TailwindBuilder:\n",
    "    \"\"\"Add semantic border color with optional opacity.\n",
    "    \n",
    "    Examples:\n",
    "        TailwindBuilder().border_semantic(DaisyUIColor.PRIMARY)\n",
    "        TailwindBuilder().border_semantic(DaisyUIColor.BASE_300, 50)\n",
    "    \"\"\"\n",
    "    return self.border(style=semantic_color(color, opacity))\n",
    "\n",
    "# Monkey-patch the methods onto TailwindBuilder\n",
    "TailwindBuilder.bg_semantic = bg_semantic\n",
    "TailwindBuilder.text_semantic = text_semantic\n",
    "TailwindBuilder.border_semantic = border_semantic"
   ]
  },
  {
   "cell_type": "markdown",
   "id": "695e6419-0a36-44e6-a664-e058d12dbecd",
   "metadata": {},
   "source": [
    "## Usage Examples\n",
    "\n",
    "Here are some examples of how to use the semantic color system:"
   ]
  },
  {
   "cell_type": "code",
   "execution_count": null,
   "id": "cdbc0953-1333-4072-a9ae-3c242de422b9",
   "metadata": {},
   "outputs": [
    {
     "name": "stdout",
     "output_type": "stream",
     "text": [
      "Primary color: primary\n",
      "Base 100 color: base-100\n",
      "Error color: error\n"
     ]
    }
   ],
   "source": [
    "# Basic color usage\n",
    "print(f\"Primary color: {DaisyUIColor.PRIMARY.value}\")\n",
    "print(f\"Base 100 color: {DaisyUIColor.BASE_100.value}\")\n",
    "print(f\"Error color: {DaisyUIColor.ERROR.value}\")"
   ]
  },
  {
   "cell_type": "code",
   "execution_count": null,
   "id": "10431f37-6c52-4e58-a00a-685b3224ca67",
   "metadata": {},
   "outputs": [
    {
     "name": "stdout",
     "output_type": "stream",
     "text": [
      "Primary with opacity: primary/50\n",
      "String color: secondary/75\n",
      "Base content: base-content\n"
     ]
    }
   ],
   "source": [
    "# Using semantic_color function\n",
    "print(f\"Primary with opacity: {semantic_color(DaisyUIColor.PRIMARY, 50)}\")\n",
    "print(f\"String color: {semantic_color('secondary', 75)}\")\n",
    "print(f\"Base content: {semantic_color(DaisyUIColor.BASE_CONTENT)}\")"
   ]
  },
  {
   "cell_type": "code",
   "execution_count": null,
   "id": "6d0efac3-d716-47b1-9f4c-3c949890f5b5",
   "metadata": {},
   "outputs": [
    {
     "name": "stdout",
     "output_type": "stream",
     "text": [
      "Is PRIMARY_CONTENT a content color? True\n",
      "Is PRIMARY a content color? False\n",
      "Is 'base-content' a content color? True\n"
     ]
    }
   ],
   "source": [
    "# Check if colors are content variants\n",
    "print(f\"Is PRIMARY_CONTENT a content color? {is_content_color(DaisyUIColor.PRIMARY_CONTENT)}\")\n",
    "print(f\"Is PRIMARY a content color? {is_content_color(DaisyUIColor.PRIMARY)}\")\n",
    "print(f\"Is 'base-content' a content color? {is_content_color('base-content')}\")"
   ]
  },
  {
   "cell_type": "code",
   "execution_count": null,
   "id": "edc74483-be9d-41f2-80af-532395e87334",
   "metadata": {},
   "outputs": [
    {
     "name": "stdout",
     "output_type": "stream",
     "text": [
      "Primary background: bg-primary\n",
      "Base 100 with 50% opacity: bg-base-100/50\n",
      "Multiple colors: bg-secondary border border-accent text-secondary-content\n"
     ]
    }
   ],
   "source": [
    "# Using TailwindBuilder with semantic colors\n",
    "# Simple background color\n",
    "builder1 = TailwindBuilder().bg_semantic(DaisyUIColor.PRIMARY)\n",
    "print(f\"Primary background: {builder1.build()}\")\n",
    "\n",
    "# Background with opacity\n",
    "builder2 = TailwindBuilder().bg_semantic(DaisyUIColor.BASE_100, 50)\n",
    "print(f\"Base 100 with 50% opacity: {builder2.build()}\")\n",
    "\n",
    "# Multiple semantic colors\n",
    "builder3 = (\n",
    "    TailwindBuilder()\n",
    "    .bg_semantic(DaisyUIColor.SECONDARY)\n",
    "    .text_semantic(DaisyUIColor.SECONDARY_CONTENT)\n",
    "    .border_semantic(DaisyUIColor.ACCENT)\n",
    ")\n",
    "print(f\"Multiple colors: {builder3.build()}\")"
   ]
  },
  {
   "cell_type": "markdown",
   "id": "a134acb6-00e3-41f9-9418-55dfe5539bde",
   "metadata": {},
   "source": [
    "## Color Groups\n",
    "\n",
    "For convenience, here are the semantic colors grouped by their purpose:"
   ]
  },
  {
   "cell_type": "code",
   "execution_count": null,
   "id": "7111e45b-fea8-4cd5-9248-318e12557d7e",
   "metadata": {},
   "outputs": [
    {
     "name": "stdout",
     "output_type": "stream",
     "text": [
      "Brand colors: ['primary', 'secondary', 'accent', 'neutral']\n",
      "Base colors: ['base-100', 'base-200', 'base-300', 'base-content']\n",
      "Semantic colors: ['info', 'success', 'warning', 'error']\n",
      "Content colors (9): ['primary-content', 'secondary-content', 'accent-content', 'neutral-content'] ...\n"
     ]
    }
   ],
   "source": [
    "# Brand colors (for primary UI elements)\n",
    "brand_colors = [\n",
    "    DaisyUIColor.PRIMARY,\n",
    "    DaisyUIColor.SECONDARY,\n",
    "    DaisyUIColor.ACCENT,\n",
    "    DaisyUIColor.NEUTRAL\n",
    "]\n",
    "\n",
    "# Base colors (for backgrounds and surfaces)\n",
    "base_colors = [\n",
    "    DaisyUIColor.BASE_100,  # Main background\n",
    "    DaisyUIColor.BASE_200,  # Slightly darker\n",
    "    DaisyUIColor.BASE_300,  # Even darker\n",
    "    DaisyUIColor.BASE_CONTENT  # Text on base colors\n",
    "]\n",
    "\n",
    "# Semantic colors (for states and messages)\n",
    "semantic_colors = [\n",
    "    DaisyUIColor.INFO,\n",
    "    DaisyUIColor.SUCCESS,\n",
    "    DaisyUIColor.WARNING,\n",
    "    DaisyUIColor.ERROR\n",
    "]\n",
    "\n",
    "# Content colors (for text on colored backgrounds)\n",
    "content_colors = [c for c in DaisyUIColor if c.value.endswith('-content')]\n",
    "\n",
    "print(\"Brand colors:\", [c.value for c in brand_colors])\n",
    "print(\"Base colors:\", [c.value for c in base_colors])\n",
    "print(\"Semantic colors:\", [c.value for c in semantic_colors])\n",
    "print(f\"Content colors ({len(content_colors)}):\", [c.value for c in content_colors[:4]], \"...\")"
   ]
  },
  {
   "cell_type": "markdown",
   "id": "905a5717-f2de-464e-9163-e93fbf3f154d",
   "metadata": {},
   "source": [
    "## Integration with TailwindBuilder\n",
    "\n",
    "The semantic color methods integrate seamlessly with the existing TailwindBuilder pattern:"
   ]
  },
  {
   "cell_type": "code",
   "execution_count": null,
   "id": "67e3af3d-3cd2-46c8-9cfc-397b423ade8b",
   "metadata": {},
   "outputs": [
    {
     "name": "stdout",
     "output_type": "stream",
     "text": [
      "Card classes: bg-base-100 border border-base-300 p-6 rounded-lg shadow-xl text-base-content\n",
      "Button classes: bg-primary bg-primary/90 font-[semibold] px-2 px-4 rounded-md text-primary-content transition-colors\n",
      "Alert classes: bg-warning/10 border border-l-4 border-warning p-4 rounded text-warning-content\n"
     ]
    }
   ],
   "source": [
    "# Complex example combining semantic colors with other Tailwind utilities\n",
    "card_classes = (\n",
    "    TailwindBuilder()\n",
    "    .bg_semantic(DaisyUIColor.BASE_100)\n",
    "    .text_semantic(DaisyUIColor.BASE_CONTENT)\n",
    "    .border_semantic(DaisyUIColor.BASE_300)\n",
    "    .border()\n",
    "    .rounded(\"lg\")\n",
    "    .shadow(\"xl\")\n",
    "    .p(6)\n",
    "    .build()\n",
    ")\n",
    "print(f\"Card classes: {card_classes}\")\n",
    "\n",
    "# Button with hover state\n",
    "button_classes = (\n",
    "    TailwindBuilder()\n",
    "    .bg_semantic(DaisyUIColor.PRIMARY)\n",
    "    .text_semantic(DaisyUIColor.PRIMARY_CONTENT)\n",
    "    .hover().bg_semantic(DaisyUIColor.PRIMARY, 90)\n",
    "    .rounded(\"md\")\n",
    "    .p(2, \"x\")\n",
    "    .p(4, \"x\")\n",
    "    .font(\"semibold\")\n",
    "    .transition(\"colors\")\n",
    "    .build()\n",
    ")\n",
    "print(f\"Button classes: {button_classes}\")\n",
    "\n",
    "# Alert with semantic state color\n",
    "alert_classes = (\n",
    "    TailwindBuilder()\n",
    "    .bg_semantic(DaisyUIColor.WARNING, 10)\n",
    "    .text_semantic(DaisyUIColor.WARNING_CONTENT)\n",
    "    .border_semantic(DaisyUIColor.WARNING)\n",
    "    .border()\n",
    "    .border(4,\"l\")\n",
    "    .p(4)\n",
    "    .rounded()\n",
    "    .build()\n",
    ")\n",
    "print(f\"Alert classes: {alert_classes}\")"
   ]
  },
  {
   "cell_type": "markdown",
   "id": "710deb3b-70e6-45ab-a43f-6c67c14edeab",
   "metadata": {},
   "source": [
    "## Summary\n",
    "\n",
    "This module provides:\n",
    "\n",
    "1. **Type-safe semantic colors** - Use `DaisyUIColor` enum for IDE autocomplete and type checking\n",
    "2. **Opacity support** - Add opacity modifiers to any semantic color  \n",
    "3. **TailwindBuilder integration** - Use `bg_semantic()`, `text_semantic()`, and `border_semantic()` methods\n",
    "4. **Flexibility** - Accept both enum values and strings for gradual migration\n",
    "\n",
    "The semantic color system ensures your UI automatically adapts to different themes while maintaining consistent meaning and accessibility."
   ]
  },
  {
   "cell_type": "markdown",
   "id": "kzhfln8rmha",
   "metadata": {},
   "source": [
    "## Gradient Support for Semantic Colors\n",
    "\n",
    "When using Tailwind CSS v4 browser version with semantic color gradients, you need to ensure Tailwind's JIT compiler recognizes the gradient patterns:"
   ]
  },
  {
   "cell_type": "code",
   "execution_count": null,
   "id": "64fdrkr2t1i",
   "metadata": {},
   "outputs": [],
   "source": [
    "#| export\n",
    "def enable_semantic_gradients() -> Div:\n",
    "    \"\"\"Include hidden element to enable Tailwind JIT compilation of semantic color gradients.\n",
    "    \n",
    "    Tailwind CSS v4 browser version needs to \"see\" gradient patterns in the HTML\n",
    "    to include them in its JIT compilation.\n",
    "    \n",
    "    Usage:\n",
    "        Add this to your page/app to enable gradients with semantic colors:\n",
    "        \n",
    "        app, rt = create_test_app()\n",
    "        \n",
    "        @rt\n",
    "        def index():\n",
    "            return Div(\n",
    "                enable_semantic_gradients(),  # Add this line\n",
    "                # Your actual content here...\n",
    "            )\n",
    "    \n",
    "    Note: This is only needed when using gradient utilities (bg-gradient-to-*, from-*, to-*)\n",
    "    with daisyUI semantic colors. Regular color usage doesn't require this.\n",
    "    \"\"\"\n",
    "    \n",
    "    return Div(cls=\"hidden from-[--p] to-[--s]\")"
   ]
  },
  {
   "cell_type": "code",
   "execution_count": null,
   "id": "tvk35dhtjwo",
   "metadata": {},
   "outputs": [
    {
     "name": "stdout",
     "output_type": "stream",
     "text": [
      "Gradient classes generated:\n",
      "hidden from-[--p] to-[--s]\n"
     ]
    }
   ],
   "source": [
    "# Example: Using semantic color gradients\n",
    "from fasthtml.common import Div\n",
    "\n",
    "# Create a gradient div\n",
    "gradient_div = Div(\n",
    "    \"Beautiful gradient background\",\n",
    "    cls=\"bg-gradient-to-r from-primary to-secondary p-8 text-white rounded-lg\"\n",
    ")\n",
    "\n",
    "# To make this work properly, include the gradient enabler:\n",
    "page_content = Div(\n",
    "    enable_semantic_gradients(),  # This enables gradient support\n",
    "    gradient_div\n",
    ")\n",
    "\n",
    "print(\"Gradient classes generated:\")\n",
    "print(enable_semantic_gradients().attrs['class'])"
   ]
  },
  {
   "cell_type": "markdown",
   "id": "42c0b5be-b5b2-4f63-94ad-8e1a308d7450",
   "metadata": {},
   "source": [
    "## Export"
   ]
  },
  {
   "cell_type": "code",
   "execution_count": null,
   "id": "4f9212cb-b6eb-4501-b3b8-f631eff1cfdc",
   "metadata": {},
   "outputs": [],
   "source": [
    "#| hide\n",
    "import nbdev; nbdev.nbdev_export()"
   ]
  },
  {
   "cell_type": "code",
   "execution_count": null,
   "id": "44d6e818-dabd-4da5-8010-b93b9c41a9ee",
   "metadata": {},
   "outputs": [],
   "source": []
  },
  {
   "cell_type": "code",
   "execution_count": null,
   "id": "dccb6014-a2fe-45a6-abc8-e5059300fdb9",
   "metadata": {},
   "outputs": [],
   "source": []
  },
  {
   "cell_type": "code",
   "execution_count": null,
   "id": "65a5afd9-a60e-4949-b370-44d5773d6390",
   "metadata": {},
   "outputs": [],
   "source": []
  },
  {
   "cell_type": "code",
   "execution_count": null,
   "id": "0c512900-0dba-46cb-b9a0-56ceebb88286",
   "metadata": {},
   "outputs": [],
   "source": []
  },
  {
   "cell_type": "code",
   "execution_count": null,
   "id": "9764117c-588a-478f-b7b4-bf1cee740392",
   "metadata": {},
   "outputs": [],
   "source": []
  },
  {
   "cell_type": "code",
   "execution_count": null,
   "id": "9d1444a0-ea90-4395-83c6-00d5a232230a",
   "metadata": {},
   "outputs": [],
   "source": []
  },
  {
   "cell_type": "code",
   "execution_count": null,
   "id": "cc68d4c8-0bcb-40b5-a7d5-b032cc165313",
   "metadata": {},
   "outputs": [],
   "source": []
  },
  {
   "cell_type": "code",
   "execution_count": null,
   "id": "ff18005e-f3de-4d76-b317-be9dc0a8aa9b",
   "metadata": {},
   "outputs": [],
   "source": []
  },
  {
   "cell_type": "code",
   "execution_count": null,
   "id": "bab5b4ec-50fa-4652-9565-d340639903fd",
   "metadata": {},
   "outputs": [],
   "source": []
  },
  {
   "cell_type": "code",
   "execution_count": null,
   "id": "ef961fee-ea22-46ac-b594-d3f93a30a0a7",
   "metadata": {},
   "outputs": [],
   "source": []
  },
  {
   "cell_type": "code",
   "execution_count": null,
   "id": "b43a976d-db62-4066-adce-b330d0e7f553",
   "metadata": {},
   "outputs": [],
   "source": []
  },
  {
   "cell_type": "code",
   "execution_count": null,
   "id": "3010f46b-94a2-44ff-813a-0d95a48d7c47",
   "metadata": {},
   "outputs": [],
   "source": []
  },
  {
   "cell_type": "code",
   "execution_count": null,
   "id": "ceee283e-9b3e-46f3-b7ea-ae2af6f49545",
   "metadata": {},
   "outputs": [],
   "source": []
  },
  {
   "cell_type": "code",
   "execution_count": null,
   "id": "c4ef5039-742e-4e94-9a7f-c617b607f6af",
   "metadata": {},
   "outputs": [],
   "source": []
  },
  {
   "cell_type": "code",
   "execution_count": null,
   "id": "9ec66634-3e0b-4fba-8195-502a4ce09709",
   "metadata": {},
   "outputs": [],
   "source": []
  }
 ],
 "metadata": {
  "kernelspec": {
   "display_name": "python3",
   "language": "python",
   "name": "python3"
  }
 },
 "nbformat": 4,
 "nbformat_minor": 5
}
