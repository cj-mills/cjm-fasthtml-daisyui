{
 "cells": [
  {
   "cell_type": "markdown",
   "id": "bd710be2",
   "metadata": {},
   "source": [
    "# Variant System\n",
    "\n",
    "> System for handling component variants and states"
   ]
  },
  {
   "cell_type": "code",
   "execution_count": null,
   "id": "76453839",
   "metadata": {},
   "outputs": [],
   "source": [
    "#| default_exp core.variants"
   ]
  },
  {
   "cell_type": "code",
   "execution_count": null,
   "id": "64cf6abe",
   "metadata": {},
   "outputs": [],
   "source": [
    "#| hide\n",
    "from nbdev.showdoc import *"
   ]
  },
  {
   "cell_type": "code",
   "execution_count": null,
   "id": "079add06",
   "metadata": {},
   "outputs": [],
   "source": [
    "#| export\n",
    "from typing import Dict, List, Optional, Any, Union\n",
    "from dataclasses import dataclass, field\n",
    "from enum import Enum\n",
    "from cjm_fasthtml_daisyui.core.types import CSSContributor, CSSClasses"
   ]
  },
  {
   "cell_type": "markdown",
   "id": "07adec3f",
   "metadata": {},
   "source": [
    "## Variant Definition\n",
    "\n",
    "A variant represents a set of classes that can be applied based on conditions."
   ]
  },
  {
   "cell_type": "code",
   "execution_count": null,
   "id": "2kmsvr6gt5z",
   "metadata": {},
   "outputs": [],
   "source": [
    "#| export\n",
    "class StyleType(str, Enum):\n",
    "    \"\"\"Common style modifiers across components.\n",
    "    \n",
    "    These were previously in modifiers.ipynb but are now part of the\n",
    "    unified variant system.\n",
    "    \"\"\"\n",
    "    OUTLINE = \"outline\"\n",
    "    GHOST = \"ghost\"\n",
    "    SOFT = \"soft\"\n",
    "    DASH = \"dash\"\n",
    "    BORDER = \"border\"\n",
    "    LINK = \"link\"\n",
    "    GLASS = \"glass\""
   ]
  },
  {
   "cell_type": "markdown",
   "id": "o94yyoj2k2",
   "metadata": {},
   "source": [
    "## Glass Effect Mixin\n",
    "\n",
    "Mixin for components that support the glass morphism effect."
   ]
  },
  {
   "cell_type": "code",
   "execution_count": null,
   "id": "33z8lkysn5l",
   "metadata": {},
   "outputs": [],
   "source": [
    "#| export\n",
    "@dataclass\n",
    "class HasGlass(CSSContributor):\n",
    "    \"\"\"Mixin for components that support glass morphism effect.\n",
    "    \n",
    "    This mixin provides the glass effect styling for daisyUI components.\n",
    "    The glass effect creates a frosted glass appearance.\n",
    "    \"\"\"\n",
    "    \n",
    "    # Glass effect property\n",
    "    glass: bool = False\n",
    "    \n",
    "    def get_css_classes(self) -> CSSClasses:\n",
    "        \"\"\"Get glass effect CSS classes.\n",
    "        \n",
    "        Returns:\n",
    "            List of CSS class strings for glass effect\n",
    "        \"\"\"\n",
    "        if self.glass:\n",
    "            return [\"glass\"]\n",
    "        return []"
   ]
  },
  {
   "cell_type": "code",
   "execution_count": null,
   "id": "f0c02a61",
   "metadata": {},
   "outputs": [],
   "source": [
    "#| export\n",
    "@dataclass\n",
    "class Variant:\n",
    "    \"\"\"Represents a component variant.\n",
    "    \n",
    "    Variants allow components to have different appearances based on props.\n",
    "    Inspired by CVA (Class Variance Authority) pattern.\n",
    "    \"\"\"\n",
    "    name: str  # Variant name (e.g., 'intent', 'size')\n",
    "    options: Dict[str, Union[str, List[str]]]  # Option -> classes mapping\n",
    "    default: Optional[str] = None  # Default option\n",
    "    \n",
    "    def get_classes(\n",
    "        self,\n",
    "        value: Optional[str]  # TODO: Add description\n",
    "    ) -> List[str]:  # TODO: Add return description\n",
    "        \"\"\"Get classes for a variant value.\"\"\"\n",
    "        if value is None:\n",
    "            value = self.default\n",
    "            \n",
    "        if value is None or value not in self.options:\n",
    "            return []\n",
    "            \n",
    "        classes = self.options[value]\n",
    "        if isinstance(classes, str):\n",
    "            return classes.split()\n",
    "        return classes"
   ]
  },
  {
   "cell_type": "markdown",
   "id": "92f2dab8",
   "metadata": {},
   "source": [
    "## HasVariants Mixin\n",
    "\n",
    "Mixin for components that use the variant system."
   ]
  },
  {
   "cell_type": "code",
   "execution_count": null,
   "id": "85784319",
   "metadata": {},
   "outputs": [],
   "source": [
    "#| export\n",
    "class HasVariants(CSSContributor):\n",
    "    \"\"\"Mixin for components with variant support.\n",
    "    \n",
    "    This provides a more flexible alternative to individual boolean flags\n",
    "    for component variations.\n",
    "    \"\"\"\n",
    "    \n",
    "    # Variant values (set by subclasses)\n",
    "    variant_values: Dict[str, Optional[str]] = field(default_factory=dict)\n",
    "    \n",
    "    @classmethod\n",
    "    def variants(\n",
    "        cls  # TODO: Add type hint and description\n",
    "    ) -> Dict[str, Variant]:  # TODO: Add return description\n",
    "        \"\"\"Define available variants.\n",
    "        \n",
    "        Subclasses should override this to define their variants.\n",
    "        \"\"\"\n",
    "        return {}\n",
    "    \n",
    "    def get_css_classes(self) -> CSSClasses:\n",
    "        \"\"\"Get all classes from variants.\n",
    "        \n",
    "        Returns:\n",
    "            List of CSS class strings from variants\n",
    "        \"\"\"\n",
    "        classes = []\n",
    "        variants = self.variants()\n",
    "        \n",
    "        for variant_name, variant in variants.items():\n",
    "            value = self.variant_values.get(variant_name)\n",
    "            classes.extend(variant.get_classes(value))\n",
    "            \n",
    "        return classes\n",
    "    \n",
    "    def set_variant(\n",
    "        self,\n",
    "        name: str,  # TODO: Add description\n",
    "        value: str  # TODO: Add description\n",
    "    ) -> 'HasVariants':  # TODO: Add return description\n",
    "        \"\"\"Set a variant value and return self for chaining.\"\"\"\n",
    "        self.variant_values[name] = value\n",
    "        return self"
   ]
  },
  {
   "cell_type": "markdown",
   "id": "9fbeeb7b",
   "metadata": {},
   "source": [
    "## Compound Variants\n",
    "\n",
    "Support for variants that depend on combinations of other variants."
   ]
  },
  {
   "cell_type": "code",
   "execution_count": null,
   "id": "372d47f3",
   "metadata": {},
   "outputs": [],
   "source": [
    "#| export\n",
    "@dataclass\n",
    "class CompoundVariant:\n",
    "    \"\"\"Represents a compound variant that depends on multiple conditions.\"\"\"\n",
    "    conditions: Dict[str, str]  # variant_name -> required_value\n",
    "    classes: Union[str, List[str]]  # Classes to apply when conditions met\n",
    "    \n",
    "    def matches(\n",
    "        self,\n",
    "        variant_values: Dict[str, Optional[str]]  # TODO: Add description\n",
    "    ) -> bool:  # TODO: Add return description\n",
    "        \"\"\"Check if all conditions are met.\"\"\"\n",
    "        for variant_name, required_value in self.conditions.items():\n",
    "            if variant_values.get(variant_name) != required_value:\n",
    "                return False\n",
    "        return True\n",
    "    \n",
    "    def get_classes(\n",
    "        self\n",
    "    ) -> List[str]:  # TODO: Add return description\n",
    "        \"\"\"Get classes for this compound variant.\"\"\"\n",
    "        if isinstance(self.classes, str):\n",
    "            return self.classes.split()\n",
    "        return self.classes"
   ]
  },
  {
   "cell_type": "code",
   "execution_count": null,
   "id": "33398bf5",
   "metadata": {},
   "outputs": [],
   "source": [
    "#| export\n",
    "class HasCompoundVariants(HasVariants):\n",
    "    \"\"\"Extended mixin that supports compound variants.\"\"\"\n",
    "    \n",
    "    @classmethod\n",
    "    def compound_variants(\n",
    "        cls  # TODO: Add type hint and description\n",
    "    ) -> List[CompoundVariant]:  # TODO: Add return description\n",
    "        \"\"\"Define compound variants.\n",
    "        \n",
    "        Subclasses should override this to define compound variants.\n",
    "        \"\"\"\n",
    "        return []\n",
    "    \n",
    "    def get_css_classes(self) -> CSSClasses:\n",
    "        \"\"\"Get all classes from variants including compound variants.\n",
    "        \n",
    "        Returns:\n",
    "            List of CSS class strings from variants and compound variants\n",
    "        \"\"\"\n",
    "        classes = super().get_css_classes()\n",
    "        \n",
    "        # Check compound variants\n",
    "        for compound in self.compound_variants():\n",
    "            if compound.matches(self.variant_values):\n",
    "                classes.extend(compound.get_classes())\n",
    "                \n",
    "        return classes"
   ]
  },
  {
   "cell_type": "markdown",
   "id": "z4oxmbvdkeb",
   "metadata": {},
   "source": [
    "## Predefined Variants\n",
    "\n",
    "Common variants that can be reused across components."
   ]
  },
  {
   "cell_type": "code",
   "execution_count": null,
   "id": "fgdjyaiyxpn",
   "metadata": {},
   "outputs": [],
   "source": [
    "#| export\n",
    "# Predefined style variant that can be used by components\n",
    "STYLE_VARIANT = Variant(\n",
    "    name=\"style\",\n",
    "    options={\n",
    "        StyleType.OUTLINE.value: \"outline\",\n",
    "        StyleType.GHOST.value: \"ghost\",\n",
    "        StyleType.SOFT.value: \"soft\",\n",
    "        StyleType.LINK.value: \"link\",\n",
    "        StyleType.GLASS.value: \"glass\",\n",
    "        StyleType.DASH.value: \"dash\",\n",
    "        StyleType.BORDER.value: \"border\"\n",
    "    },\n",
    "    default=None\n",
    ")\n",
    "\n",
    "# Helper function to create style variant for a specific component\n",
    "def create_style_variant(component_prefix: str) -> Variant:\n",
    "    \"\"\"Create a style variant with component-specific class names.\n",
    "    \n",
    "    Args:\n",
    "        component_prefix: The component prefix (e.g., 'btn', 'badge')\n",
    "        \n",
    "    Returns:\n",
    "        Variant with component-specific style classes\n",
    "    \"\"\"\n",
    "    return Variant(\n",
    "        name=\"style\",\n",
    "        options={\n",
    "            style.value: f\"{component_prefix}-{style.value}\"\n",
    "            for style in StyleType\n",
    "        },\n",
    "        default=None\n",
    "    )"
   ]
  },
  {
   "cell_type": "code",
   "execution_count": null,
   "id": "a06ef41d",
   "metadata": {},
   "outputs": [],
   "source": [
    "#| hide\n",
    "import nbdev; nbdev.nbdev_export()"
   ]
  }
 ],
 "metadata": {
  "kernelspec": {
   "display_name": "python3",
   "language": "python",
   "name": "python3"
  }
 },
 "nbformat": 4,
 "nbformat_minor": 5
}
