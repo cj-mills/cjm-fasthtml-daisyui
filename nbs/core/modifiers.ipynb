{
 "cells": [
  {
   "cell_type": "markdown",
   "id": "a42de578-75a7-4bcd-aae8-76cb41340c82",
   "metadata": {},
   "source": [
    "# Style Modifiers\n",
    "\n",
    "> System for handling style modifiers (outline, ghost, soft, etc.)"
   ]
  },
  {
   "cell_type": "code",
   "execution_count": null,
   "id": "6fe1c05a-c9d9-47fb-ac54-c378aa449907",
   "metadata": {},
   "outputs": [],
   "source": [
    "#| default_exp core.modifiers"
   ]
  },
  {
   "cell_type": "code",
   "execution_count": null,
   "id": "3b7a2c0d-2478-4ec1-8c12-3e553ca7939f",
   "metadata": {},
   "outputs": [],
   "source": [
    "#| hide\n",
    "from nbdev.showdoc import *"
   ]
  },
  {
   "cell_type": "code",
   "execution_count": null,
   "id": "93e8c7d7-b9f0-47a1-8069-7d4d88270eea",
   "metadata": {},
   "outputs": [],
   "source": [
    "#| export\n",
    "from typing import Dict, Optional, List, Union\n",
    "from dataclasses import dataclass, field\n",
    "from enum import Enum"
   ]
  },
  {
   "cell_type": "markdown",
   "id": "4921d133-0f8a-4054-ba26-937ec9fb49ba",
   "metadata": {},
   "source": [
    "## Style Modifier Definition\n",
    "\n",
    "A style modifier represents a visual variant of a component."
   ]
  },
  {
   "cell_type": "code",
   "execution_count": null,
   "id": "6c810aff-bcb3-4742-b2c6-53a18a908b37",
   "metadata": {},
   "outputs": [],
   "source": [
    "#| export\n",
    "class StyleType(str, Enum):\n",
    "    \"\"\"Common style modifiers across components.\"\"\"\n",
    "    OUTLINE = \"outline\"\n",
    "    GHOST = \"ghost\"\n",
    "    SOFT = \"soft\"\n",
    "    DASH = \"dash\"\n",
    "    BORDER = \"border\"\n",
    "    LINK = \"link\"\n",
    "    GLASS = \"glass\""
   ]
  },
  {
   "cell_type": "code",
   "execution_count": null,
   "id": "4b9475cd-3942-4ad2-8b3e-65f25f89ae3f",
   "metadata": {},
   "outputs": [],
   "source": [
    "#| export\n",
    "class CardModifier(str, Enum):\n",
    "    \"\"\"Card-specific modifiers.\"\"\"\n",
    "    SIDE = \"side\"\n",
    "    IMAGE_FULL = \"image-full\"\n",
    "    COMPACT = \"compact\""
   ]
  },
  {
   "cell_type": "code",
   "execution_count": null,
   "id": "07be48e3-ae4a-48ff-9e4c-c748c50eeff6",
   "metadata": {},
   "outputs": [],
   "source": [
    "#| export    \n",
    "class InputModifier(str, Enum):\n",
    "    \"\"\"Input-specific modifiers.\"\"\"\n",
    "    BORDERED = \"bordered\"\n",
    "    FLOATING = \"floating\""
   ]
  },
  {
   "cell_type": "code",
   "execution_count": null,
   "id": "5f6fcb8a-d2e0-418c-a214-14f9ca5bbd32",
   "metadata": {},
   "outputs": [],
   "source": [
    "#| export\n",
    "@dataclass\n",
    "class StyleModifier:\n",
    "    \"\"\"Represents a style modifier (outline, ghost, soft, etc.).\n",
    "    \n",
    "    Style modifiers change the visual appearance of a component\n",
    "    while maintaining its core functionality.\n",
    "    \"\"\"\n",
    "    name: str  # Modifier name (e.g., 'outline', 'ghost', 'soft')\n",
    "    component: str  # Component this applies to (e.g., 'btn', 'badge')\n",
    "    conflicts_with: List[str] = field(default_factory=list)  # Other styles this conflicts with\n",
    "    description: Optional[str] = None  # Optional description\n",
    "    \n",
    "    def class_name(\n",
    "        self\n",
    "    ) -> str:  # TODO: Add return description\n",
    "        \"\"\"Return the full class name for this modifier.\"\"\"\n",
    "        return f\"{self.component}-{self.name}\""
   ]
  },
  {
   "cell_type": "markdown",
   "id": "671bb8c3-2e8f-4528-a1e4-b2ebc7c14f86",
   "metadata": {},
   "source": [
    "## HasStyles Mixin\n",
    "\n",
    "Mixin for components that support style variants."
   ]
  },
  {
   "cell_type": "code",
   "execution_count": null,
   "id": "5807a879-e8ef-4532-be7a-caa5f14b5c8d",
   "metadata": {},
   "outputs": [],
   "source": [
    "#| export\n",
    "class HasStyles:\n",
    "    \"\"\"Mixin for components with style variants.\n",
    "    \n",
    "    This mixin provides functionality for components that have\n",
    "    different visual styles like outline, ghost, soft, etc.\n",
    "    \"\"\"\n",
    "    \n",
    "    style: Optional[str] = None\n",
    "    \n",
    "    @classmethod\n",
    "    def styles(\n",
    "        cls  # TODO: Add type hint and description\n",
    "    ) -> Dict[str, StyleModifier]:  # TODO: Add return description\n",
    "        \"\"\"Return available style modifiers.\n",
    "        \n",
    "        Subclasses should override this to define their styles.\n",
    "        \"\"\"\n",
    "        return {}\n",
    "    \n",
    "    def style_classes(\n",
    "        self\n",
    "    ) -> List[str]:  # TODO: Add return description\n",
    "        \"\"\"Return style modifier classes.\"\"\"\n",
    "        if not self.style:\n",
    "            return []\n",
    "            \n",
    "        styles = self.styles()\n",
    "        if self.style not in styles:\n",
    "            # If style is not predefined, assume it's a custom style class\n",
    "            return [f\"{self.component_class()}-{self.style}\"]\n",
    "            \n",
    "        return [styles[self.style].class_name()]\n",
    "    \n",
    "    def has_conflicting_styles(\n",
    "        self\n",
    "    ) -> bool:  # TODO: Add return description\n",
    "        \"\"\"Check if the current style conflicts with others.\"\"\"\n",
    "        if not self.style:\n",
    "            return False\n",
    "            \n",
    "        styles = self.styles()\n",
    "        if self.style in styles:\n",
    "            style_mod = styles[self.style]\n",
    "            # Check if any other set styles conflict\n",
    "            for other_style in styles:\n",
    "                if other_style != self.style and hasattr(self, other_style):\n",
    "                    if other_style in style_mod.conflicts_with:\n",
    "                        return True\n",
    "        return False"
   ]
  },
  {
   "cell_type": "code",
   "execution_count": null,
   "id": "2e54f878-97c2-444b-a142-09e0d2c538f3",
   "metadata": {},
   "outputs": [],
   "source": []
  },
  {
   "cell_type": "code",
   "execution_count": null,
   "id": "779373cc-cb8f-4a35-8c6d-bb8a6ea12291",
   "metadata": {},
   "outputs": [],
   "source": []
  },
  {
   "cell_type": "code",
   "execution_count": null,
   "id": "d96c6f27-5aef-439c-af44-f47e522b4717",
   "metadata": {},
   "outputs": [],
   "source": []
  },
  {
   "cell_type": "code",
   "execution_count": null,
   "id": "ac79fb53-9815-4821-be60-ea6df3e2fad3",
   "metadata": {},
   "outputs": [],
   "source": []
  },
  {
   "cell_type": "code",
   "execution_count": null,
   "id": "efb65d44-8175-4952-9407-7498aeb6835b",
   "metadata": {},
   "outputs": [],
   "source": []
  },
  {
   "cell_type": "code",
   "execution_count": null,
   "id": "3ef87238-b41c-471a-bdd9-02d6a9da8bd1",
   "metadata": {},
   "outputs": [],
   "source": []
  },
  {
   "cell_type": "code",
   "execution_count": null,
   "id": "db91716d-6ddf-4082-81d4-5fe75e505c07",
   "metadata": {},
   "outputs": [],
   "source": []
  },
  {
   "cell_type": "code",
   "execution_count": null,
   "id": "d7ceb976-dde7-4370-b849-afcf0e54e1a2",
   "metadata": {},
   "outputs": [],
   "source": []
  },
  {
   "cell_type": "code",
   "execution_count": null,
   "id": "31c9aff4-b839-4b9b-a319-e15d016044cb",
   "metadata": {},
   "outputs": [],
   "source": []
  },
  {
   "cell_type": "code",
   "execution_count": null,
   "id": "b374e4f9-975a-49a0-a650-61aba07d87e5",
   "metadata": {},
   "outputs": [],
   "source": []
  },
  {
   "cell_type": "code",
   "execution_count": null,
   "id": "70484719-f0a9-48dd-ade8-4b75657c58d5",
   "metadata": {},
   "outputs": [],
   "source": [
    "#| hide\n",
    "import nbdev; nbdev.nbdev_export()"
   ]
  }
 ],
 "metadata": {
  "kernelspec": {
   "display_name": "python3",
   "language": "python",
   "name": "python3"
  }
 },
 "nbformat": 4,
 "nbformat_minor": 5
}
