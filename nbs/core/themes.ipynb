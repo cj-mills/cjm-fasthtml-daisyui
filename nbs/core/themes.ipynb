{
 "cells": [
  {
   "cell_type": "markdown",
   "id": "b8112c96-3d6b-4fba-b4a9-3bd5e1f03d50",
   "metadata": {},
   "source": [
    "# themes\n",
    "\n",
    "> Theme management for daisyUI"
   ]
  },
  {
   "cell_type": "code",
   "execution_count": null,
   "id": "6c35da8c-e325-4006-94d7-594824917ad1",
   "metadata": {},
   "outputs": [],
   "source": [
    "#| default_exp core.themes"
   ]
  },
  {
   "cell_type": "code",
   "execution_count": null,
   "id": "1ab90f3f-8458-40f4-9d26-1eaf67a3ab38",
   "metadata": {},
   "outputs": [],
   "source": [
    "#| hide\n",
    "from nbdev.showdoc import *"
   ]
  },
  {
   "cell_type": "code",
   "execution_count": null,
   "id": "c1492984-a083-4abc-867e-e78b1555613e",
   "metadata": {},
   "outputs": [],
   "source": [
    "#| export\n",
    "from typing import Literal, Dict, Optional, TypedDict, Union\n",
    "from enum import Enum\n",
    "from pathlib import Path\n",
    "import json\n",
    "from fasthtml.core import Style"
   ]
  },
  {
   "cell_type": "markdown",
   "id": "74a1384d-01d3-4216-a350-f1da96cd799b",
   "metadata": {},
   "source": [
    "## Built-in Themes\n",
    "\n",
    "daisyUI provides 35 built-in themes:"
   ]
  },
  {
   "cell_type": "code",
   "execution_count": null,
   "id": "8346827c-d65e-4e07-954d-81a557f94dcf",
   "metadata": {},
   "outputs": [],
   "source": [
    "#| export\n",
    "class DaisyUITheme(str, Enum):\n",
    "    \"\"\"All built-in daisyUI themes.\"\"\"\n",
    "    LIGHT = \"light\"\n",
    "    DARK = \"dark\"\n",
    "    CUPCAKE = \"cupcake\"\n",
    "    BUMBLEBEE = \"bumblebee\"\n",
    "    EMERALD = \"emerald\"\n",
    "    CORPORATE = \"corporate\"\n",
    "    SYNTHWAVE = \"synthwave\"\n",
    "    RETRO = \"retro\"\n",
    "    CYBERPUNK = \"cyberpunk\"\n",
    "    VALENTINE = \"valentine\"\n",
    "    HALLOWEEN = \"halloween\"\n",
    "    GARDEN = \"garden\"\n",
    "    FOREST = \"forest\"\n",
    "    AQUA = \"aqua\"\n",
    "    LOFI = \"lofi\"\n",
    "    PASTEL = \"pastel\"\n",
    "    FANTASY = \"fantasy\"\n",
    "    WIREFRAME = \"wireframe\"\n",
    "    BLACK = \"black\"\n",
    "    LUXURY = \"luxury\"\n",
    "    DRACULA = \"dracula\"\n",
    "    CMYK = \"cmyk\"\n",
    "    AUTUMN = \"autumn\"\n",
    "    BUSINESS = \"business\"\n",
    "    ACID = \"acid\"\n",
    "    LEMONADE = \"lemonade\"\n",
    "    NIGHT = \"night\"\n",
    "    COFFEE = \"coffee\"\n",
    "    WINTER = \"winter\"\n",
    "    DIM = \"dim\"\n",
    "    NORD = \"nord\"\n",
    "    SUNSET = \"sunset\"\n",
    "    CARAMELLATTE = \"caramellatte\"\n",
    "    ABYSS = \"abyss\"\n",
    "    SILK = \"silk\""
   ]
  },
  {
   "cell_type": "code",
   "execution_count": null,
   "id": "57878aed-5923-4cd3-afc9-9bfe0f96a309",
   "metadata": {},
   "outputs": [
    {
     "name": "stdout",
     "output_type": "stream",
     "text": [
      "Total themes: 35\n",
      "Themes: ['light', 'dark', 'cupcake', 'bumblebee', 'emerald', 'corporate', 'synthwave', 'retro', 'cyberpunk', 'valentine', 'halloween', 'garden', 'forest', 'aqua', 'lofi', 'pastel', 'fantasy', 'wireframe', 'black', 'luxury', 'dracula', 'cmyk', 'autumn', 'business', 'acid', 'lemonade', 'night', 'coffee', 'winter', 'dim', 'nord', 'sunset', 'caramellatte', 'abyss', 'silk']\n"
     ]
    }
   ],
   "source": [
    "# List all available themes\n",
    "print(f\"Total themes: {len(DaisyUITheme)}\")\n",
    "print(\"Themes:\", [theme.value for theme in DaisyUITheme])"
   ]
  },
  {
   "cell_type": "code",
   "execution_count": null,
   "id": "4ad0a4c5-3853-408b-96b2-d08461b6f449",
   "metadata": {},
   "outputs": [
    {
     "name": "stdout",
     "output_type": "stream",
     "text": [
      "Light theme: light\n",
      "Dark theme: dark\n",
      "Cupcake theme: cupcake\n"
     ]
    }
   ],
   "source": [
    "# Theme access\n",
    "print(f\"Light theme: {DaisyUITheme.LIGHT.value}\")\n",
    "print(f\"Dark theme: {DaisyUITheme.DARK.value}\")\n",
    "print(f\"Cupcake theme: {DaisyUITheme.CUPCAKE.value}\")"
   ]
  },
  {
   "cell_type": "markdown",
   "id": "49aaf7b6-197b-471b-b999-320b1ce55aa8",
   "metadata": {},
   "source": [
    "## Theme Selection\n",
    "\n",
    "Helper functions for working with themes:"
   ]
  },
  {
   "cell_type": "code",
   "execution_count": null,
   "id": "1f61677a-79d6-4bcb-aaf1-80465cb7331d",
   "metadata": {},
   "outputs": [],
   "source": [
    "#| export\n",
    "def get_theme_value(\n",
    "    theme: Union[DaisyUITheme, str],  # The theme to validate (DaisyUITheme enum or string)\n",
    "    allow_custom: bool = False  # If True, allows any string value for custom themes\n",
    ") -> str:  # The validated theme name as a string\n",
    "    \"Get the string value of a theme, supporting both enum and string inputs. This allows flexibility in how themes are specified while maintaining type safety.\"\n",
    "    if isinstance(theme, DaisyUITheme):\n",
    "        return theme.value\n",
    "    elif isinstance(theme, str):\n",
    "        # If custom themes are allowed, return any string\n",
    "        if allow_custom:\n",
    "            return theme\n",
    "            \n",
    "        # Otherwise validate against built-in themes\n",
    "        valid_themes = {t.value for t in DaisyUITheme}\n",
    "        if theme not in valid_themes:\n",
    "            raise ValueError(f\"'{theme}' is not a valid daisyUI theme. Valid themes are: {', '.join(sorted(valid_themes))}\")\n",
    "        return theme\n",
    "    else:\n",
    "        raise TypeError(f\"Theme must be a DaisyUITheme enum or string, got {type(theme)}\")"
   ]
  },
  {
   "cell_type": "code",
   "execution_count": null,
   "id": "75382808-301e-4766-92fa-4b207a3be2ea",
   "metadata": {},
   "outputs": [
    {
     "name": "stdout",
     "output_type": "stream",
     "text": [
      "light\n",
      "dark\n",
      "Error: 'invalid-theme' is not a valid daisyUI theme. Valid themes are: abyss, acid, aqua, autumn, black, bumblebee, business, caramellatte, cmyk, coffee, corporate, cupcake, cyberpunk, dark, dim, dracula, emerald, fantasy, forest, garden, halloween, lemonade, light, lofi, luxury, night, nord, pastel, retro, silk, sunset, synthwave, valentine, winter, wireframe\n"
     ]
    }
   ],
   "source": [
    "# Test theme value getter\n",
    "print(get_theme_value(DaisyUITheme.LIGHT))\n",
    "print(get_theme_value(\"dark\"))\n",
    "\n",
    "# Test invalid theme\n",
    "try:\n",
    "    get_theme_value(\"invalid-theme\")\n",
    "except ValueError as e:\n",
    "    print(f\"Error: {e}\")"
   ]
  },
  {
   "cell_type": "code",
   "execution_count": null,
   "id": "si4ehx5yz7i",
   "metadata": {},
   "outputs": [
    {
     "name": "stdout",
     "output_type": "stream",
     "text": [
      "Testing custom theme names:\n",
      "Custom theme 'my-custom-theme': my-custom-theme\n",
      "Custom theme 'neon_nights': neon_nights\n",
      "\n",
      "Custom theme rejected (expected): 'my-custom-theme' is not a valid daisyUI theme. Valid themes are: abyss, acid, aqua, autumn, black, bumblebee, business, caramellatte, cmyk, coffee, corporate, cupcake, cyberpunk, dark, dim, dracula, emerald, fantasy, forest, garden, halloween, lemonade, light, lofi, luxury, night, nord, pastel, retro, silk, sunset, synthwave, valentine, winter, wireframe\n"
     ]
    }
   ],
   "source": [
    "# Test with custom theme names (allow_custom=True)\n",
    "print(\"Testing custom theme names:\")\n",
    "print(f\"Custom theme 'my-custom-theme': {get_theme_value('my-custom-theme', allow_custom=True)}\")\n",
    "print(f\"Custom theme 'neon_nights': {get_theme_value('neon_nights', allow_custom=True)}\")\n",
    "\n",
    "# Verify that custom themes are rejected when allow_custom=False\n",
    "try:\n",
    "    get_theme_value(\"my-custom-theme\", allow_custom=False)\n",
    "except ValueError as e:\n",
    "    print(f\"\\nCustom theme rejected (expected): {e}\")"
   ]
  },
  {
   "cell_type": "markdown",
   "id": "9c2b5ac1-95f4-4e9c-8b8d-973afa755003",
   "metadata": {},
   "source": [
    "## Custom Theme Creation\n",
    "\n",
    "For creating custom themes with full Python abstraction:"
   ]
  },
  {
   "cell_type": "code",
   "execution_count": null,
   "id": "d52d7f05-326c-4b6b-9fb0-5d8a98b10db7",
   "metadata": {},
   "outputs": [],
   "source": [
    "#| export\n",
    "class ThemeColors(TypedDict, total=False):\n",
    "    \"\"\"Color definitions for a daisyUI theme using OKLCH color space.\"\"\"\n",
    "    # Base colors\n",
    "    base_100: str  # Base color of page\n",
    "    base_200: str  # Base color for secondary elements\n",
    "    base_300: str  # Base color for tertiary elements\n",
    "    base_content: str  # Text color on base colors\n",
    "    \n",
    "    # Primary colors\n",
    "    primary: str  # Primary color\n",
    "    primary_content: str  # Text color on primary\n",
    "    \n",
    "    # Secondary colors\n",
    "    secondary: str  # Secondary color\n",
    "    secondary_content: str  # Text color on secondary\n",
    "    \n",
    "    # Accent colors\n",
    "    accent: str  # Accent color\n",
    "    accent_content: str  # Text color on accent\n",
    "    \n",
    "    # Neutral colors\n",
    "    neutral: str  # Neutral color\n",
    "    neutral_content: str  # Text color on neutral\n",
    "    \n",
    "    # Semantic colors\n",
    "    info: str  # Info color\n",
    "    info_content: str  # Text color on info\n",
    "    \n",
    "    success: str  # Success color\n",
    "    success_content: str  # Text color on success\n",
    "    \n",
    "    warning: str  # Warning color\n",
    "    warning_content: str  # Text color on warning\n",
    "    \n",
    "    error: str  # Error color\n",
    "    error_content: str  # Text color on error"
   ]
  },
  {
   "cell_type": "code",
   "execution_count": null,
   "id": "71bfc4a7-0265-4833-b3a1-f08e8a530281",
   "metadata": {},
   "outputs": [],
   "source": [
    "#| export\n",
    "class ThemeConfig(TypedDict, total=False):\n",
    "    \"\"\"Complete configuration for a custom daisyUI theme.\"\"\"\n",
    "    name: str  # Theme name\n",
    "    default: bool  # Set as default theme\n",
    "    prefersdark: bool  # Set as default dark mode theme\n",
    "    color_scheme: Literal[\"light\", \"dark\"]  # Browser UI color scheme\n",
    "    \n",
    "    colors: ThemeColors  # Color definitions\n",
    "    \n",
    "    # Border radius\n",
    "    radius_selector: str  # Radius for selectors\n",
    "    radius_field: str  # Radius for input fields\n",
    "    radius_box: str  # Radius for boxes\n",
    "    \n",
    "    # Base sizes\n",
    "    size_selector: str  # Size for selectors\n",
    "    size_field: str  # Size for fields\n",
    "    \n",
    "    # Border\n",
    "    border: str  # Border width\n",
    "    \n",
    "    # Effects\n",
    "    depth: float  # Depth effect (0-1)\n",
    "    noise: float  # Noise effect (0-1)"
   ]
  },
  {
   "cell_type": "code",
   "execution_count": null,
   "id": "64d1dc63-5406-41f7-a9f4-28f1da9ae4cf",
   "metadata": {},
   "outputs": [],
   "source": [
    "#| export\n",
    "def create_theme_css(\n",
    "    theme: ThemeConfig  # Theme configuration with colors, sizes, and effects\n",
    ") -> str:  # CSS string with theme variables\n",
    "    \"\"\"\n",
    "    Generate CSS for a custom daisyUI theme.\n",
    "    \n",
    "    This creates the CSS variables needed for a custom theme when using the CDN approach.\n",
    "    \"\"\"\n",
    "    theme_name = theme[\"name\"]\n",
    "    css_lines = [f':root:has(input.theme-controller[value={theme_name}]:checked),[data-theme=\"{theme_name}\"] {{']\n",
    "    \n",
    "    # Add color scheme\n",
    "    if \"color_scheme\" in theme:\n",
    "        css_lines.append(f'  color-scheme: {theme[\"color_scheme\"]};')\n",
    "    \n",
    "    # Add colors\n",
    "    if \"colors\" in theme:\n",
    "        for color_key, color_value in theme[\"colors\"].items():\n",
    "            css_var = f\"--color-{color_key.replace('_', '-')}\"\n",
    "            css_lines.append(f'  {css_var}: {color_value};')\n",
    "    \n",
    "    # Add border radius\n",
    "    if \"radius_selector\" in theme:\n",
    "        css_lines.append(f'  --radius-selector: {theme[\"radius_selector\"]};')\n",
    "    if \"radius_field\" in theme:\n",
    "        css_lines.append(f'  --radius-field: {theme[\"radius_field\"]};')\n",
    "    if \"radius_box\" in theme:\n",
    "        css_lines.append(f'  --radius-box: {theme[\"radius_box\"]};')\n",
    "    \n",
    "    # Add sizes\n",
    "    if \"size_selector\" in theme:\n",
    "        css_lines.append(f'  --size-selector: {theme[\"size_selector\"]};')\n",
    "    if \"size_field\" in theme:\n",
    "        css_lines.append(f'  --size-field: {theme[\"size_field\"]};')\n",
    "    \n",
    "    # Add border\n",
    "    if \"border\" in theme:\n",
    "        css_lines.append(f'  --border: {theme[\"border\"]};')\n",
    "    \n",
    "    # Add effects\n",
    "    if \"depth\" in theme:\n",
    "        css_lines.append(f'  --depth: {theme[\"depth\"]};')\n",
    "    if \"noise\" in theme:\n",
    "        css_lines.append(f'  --noise: {theme[\"noise\"]};')\n",
    "    \n",
    "    css_lines.append('}')\n",
    "    \n",
    "    return '\\n'.join(css_lines)"
   ]
  },
  {
   "cell_type": "markdown",
   "id": "766f84ed-313a-4b37-a1e9-adf32ebdb53a",
   "metadata": {},
   "source": [
    "Example custom theme:"
   ]
  },
  {
   "cell_type": "code",
   "execution_count": null,
   "id": "92c8cf9b-33d8-4537-bc8b-fd02f7e60e5d",
   "metadata": {},
   "outputs": [
    {
     "name": "stdout",
     "output_type": "stream",
     "text": [
      ":root:has(input.theme-controller[value=custom_light_theme]:checked),[data-theme=\"custom_light_theme\"] {\n",
      "  color-scheme: light;\n",
      "  --color-base-100: oklch(98% 0.005 220);\n",
      "  --color-base-200: oklch(96% 0.008 215);\n",
      "  --color-base-300: oklch(92% 0.012 210);\n",
      "  --color-base-content: oklch(18% 0.015 230);\n",
      "  --color-primary: oklch(55% 0.18 260);\n",
      "  --color-primary-content: oklch(98% 0.005 260);\n",
      "  --color-secondary: oklch(45% 0.12 340);\n",
      "  --color-secondary-content: oklch(98% 0.005 340);\n",
      "  --color-accent: oklch(65% 0.15 180);\n",
      "  --color-accent-content: oklch(15% 0.01 180);\n",
      "  --color-neutral: oklch(25% 0.01 240);\n",
      "  --color-neutral-content: oklch(95% 0.005 240);\n",
      "  --color-info: oklch(60% 0.16 230);\n",
      "  --color-info-content: oklch(98% 0.005 230);\n",
      "  --color-success: oklch(58% 0.14 150);\n",
      "  --color-success-content: oklch(98% 0.005 150);\n",
      "  --color-warning: oklch(72% 0.16 85);\n",
      "  --color-warning-content: oklch(18% 0.01 85);\n",
      "  --color-error: oklch(55% 0.20 15);\n",
      "  --color-error-content: oklch(98% 0.005 15);\n",
      "  --radius-selector: 0.5rem;\n",
      "  --radius-field: 0.75rem;\n",
      "  --radius-box: 1.25rem;\n",
      "  --size-selector: 0.375rem;\n",
      "  --size-field: 0.375rem;\n",
      "  --border: 1.5px;\n",
      "  --depth: 2;\n",
      "  --noise: 1;\n",
      "}\n"
     ]
    }
   ],
   "source": [
    "# Create a custom theme configuration\n",
    "custom_light_theme: ThemeConfig = {\n",
    "    \"name\": \"custom_light_theme\",\n",
    "    \"default\": False,\n",
    "    \"prefersdark\": False,\n",
    "    \"color_scheme\": \"light\",\n",
    "    \"colors\": {\n",
    "        \"base_100\": \"oklch(98% 0.005 220)\",\n",
    "        \"base_200\": \"oklch(96% 0.008 215)\",\n",
    "        \"base_300\": \"oklch(92% 0.012 210)\",\n",
    "        \"base_content\": \"oklch(18% 0.015 230)\",\n",
    "        \"primary\": \"oklch(55% 0.18 260)\",\n",
    "        \"primary_content\": \"oklch(98% 0.005 260)\",\n",
    "        \"secondary\": \"oklch(45% 0.12 340)\",\n",
    "        \"secondary_content\": \"oklch(98% 0.005 340)\",\n",
    "        \"accent\": \"oklch(65% 0.15 180)\",\n",
    "        \"accent_content\": \"oklch(15% 0.01 180)\",\n",
    "        \"neutral\": \"oklch(25% 0.01 240)\",\n",
    "        \"neutral_content\": \"oklch(95% 0.005 240)\",\n",
    "        \"info\": \"oklch(60% 0.16 230)\",\n",
    "        \"info_content\": \"oklch(98% 0.005 230)\",\n",
    "        \"success\": \"oklch(58% 0.14 150)\",\n",
    "        \"success_content\": \"oklch(98% 0.005 150)\",\n",
    "        \"warning\": \"oklch(72% 0.16 85)\",\n",
    "        \"warning_content\": \"oklch(18% 0.01 85)\",\n",
    "        \"error\": \"oklch(55% 0.20 15)\",\n",
    "        \"error_content\": \"oklch(98% 0.005 15)\"\n",
    "    },\n",
    "    \"radius_selector\": \"0.5rem\",\n",
    "    \"radius_field\": \"0.75rem\",\n",
    "    \"radius_box\": \"1.25rem\",\n",
    "    \"size_selector\": \"0.375rem\",\n",
    "    \"size_field\": \"0.375rem\",\n",
    "    \"border\": \"1.5px\",\n",
    "    \"depth\": 2,\n",
    "    \"noise\": 1\n",
    "}\n",
    "\n",
    "# Generate the CSS\n",
    "css = create_theme_css(custom_light_theme)\n",
    "print(css)"
   ]
  },
  {
   "cell_type": "markdown",
   "id": "1294fb50-8592-4f4e-8161-b5269c88ae69",
   "metadata": {},
   "source": [
    "## Theme File Management\n",
    "\n",
    "Functions for saving and loading theme configurations:"
   ]
  },
  {
   "cell_type": "code",
   "execution_count": null,
   "id": "09c309d1-1e2d-4d66-b879-02a6b27ab25b",
   "metadata": {},
   "outputs": [],
   "source": [
    "#| export\n",
    "def save_theme_css(\n",
    "    theme: ThemeConfig,  # Theme configuration to convert to CSS\n",
    "    path: Union[str, Path]  # File path where CSS will be saved\n",
    ") -> None:  # None\n",
    "    \"\"\"Save a theme configuration as a CSS file.\"\"\"\n",
    "    css = create_theme_css(theme)\n",
    "    Path(path).write_text(css, encoding='utf-8')"
   ]
  },
  {
   "cell_type": "code",
   "execution_count": null,
   "id": "45bddeae-fb1f-4072-9495-753210158102",
   "metadata": {},
   "outputs": [],
   "source": [
    "#| export\n",
    "def save_theme_json(\n",
    "    theme: ThemeConfig,  # Theme configuration to save\n",
    "    path: Union[str, Path]  # File path where JSON will be saved\n",
    ") -> None:  # None\n",
    "    \"\"\"Save a theme configuration as a JSON file for reuse.\"\"\"\n",
    "    Path(path).write_text(json.dumps(theme, indent=2), encoding='utf-8')"
   ]
  },
  {
   "cell_type": "code",
   "execution_count": null,
   "id": "ac69b974-eba9-446b-8e05-a7e05029e4ba",
   "metadata": {},
   "outputs": [],
   "source": [
    "#| export\n",
    "def load_theme_json(\n",
    "    path: Union[str, Path]  # Path to JSON file containing theme configuration\n",
    ") -> ThemeConfig:  # Theme configuration dictionary\n",
    "    \"\"\"Load a theme configuration from a JSON file.\"\"\"\n",
    "    return json.loads(Path(path).read_text(encoding='utf-8'))"
   ]
  },
  {
   "cell_type": "code",
   "execution_count": null,
   "id": "9f502f51-3f44-414c-87b3-dcd555998c30",
   "metadata": {},
   "outputs": [],
   "source": [
    "#| export\n",
    "def load_style_css(\n",
    "    path: Union[str, Path]  # Path to CSS file containing theme configuration\n",
    ") -> Style:  # FasthHTML Style element\n",
    "    \"\"\"Load a theme configuration from a CSS file to a FasthHTML Style element.\"\"\"\n",
    "    with open(path, 'r') as f:\n",
    "        return Style(f.read())"
   ]
  },
  {
   "cell_type": "code",
   "execution_count": null,
   "id": "148fffd7-ed77-409f-b864-d1b1c3d646cf",
   "metadata": {},
   "outputs": [],
   "source": [
    "from nbdev.config import get_config\n",
    "cfg = get_config()"
   ]
  },
  {
   "cell_type": "code",
   "execution_count": null,
   "id": "bd929254-2fb8-411d-882c-3f109aaa00bc",
   "metadata": {},
   "outputs": [],
   "source": [
    "project_dir = cfg.config_path\n",
    "css_dir = project_dir/\"css\"\n",
    "css_dir.mkdir(exist_ok=True, parents=True)"
   ]
  },
  {
   "cell_type": "code",
   "execution_count": null,
   "id": "25048270-44c7-406a-b272-8d697c1a1631",
   "metadata": {},
   "outputs": [],
   "source": [
    "save_path = css_dir/f\"{custom_light_theme['name']}.css\"\n",
    "save_theme_css(custom_light_theme, save_path)"
   ]
  },
  {
   "cell_type": "code",
   "execution_count": null,
   "id": "ced2a30c-6e4e-439c-8f23-8439c674b55e",
   "metadata": {},
   "outputs": [
    {
     "data": {
      "text/markdown": [
       "```html\n",
       "<style>:root:has(input.theme-controller[value=custom_light_theme]:checked),[data-theme=&quot;custom_light_theme&quot;] {\n",
       "  color-scheme: light;\n",
       "  --color-base-100: oklch(98% 0.005 220);\n",
       "  --color-base-200: oklch(96% 0.008 215);\n",
       "  --color-base-300: oklch(92% 0.012 210);\n",
       "  --color-base-content: oklch(18% 0.015 230);\n",
       "  --color-primary: oklch(55% 0.18 260);\n",
       "  --color-primary-content: oklch(98% 0.005 260);\n",
       "  --color-secondary: oklch(45% 0.12 340);\n",
       "  --color-secondary-content: oklch(98% 0.005 340);\n",
       "  --color-accent: oklch(65% 0.15 180);\n",
       "  --color-accent-content: oklch(15% 0.01 180);\n",
       "  --color-neutral: oklch(25% 0.01 240);\n",
       "  --color-neutral-content: oklch(95% 0.005 240);\n",
       "  --color-info: oklch(60% 0.16 230);\n",
       "  --color-info-content: oklch(98% 0.005 230);\n",
       "  --color-success: oklch(58% 0.14 150);\n",
       "  --color-success-content: oklch(98% 0.005 150);\n",
       "  --color-warning: oklch(72% 0.16 85);\n",
       "  --color-warning-content: oklch(18% 0.01 85);\n",
       "  --color-error: oklch(55% 0.20 15);\n",
       "  --color-error-content: oklch(98% 0.005 15);\n",
       "  --radius-selector: 0.5rem;\n",
       "  --radius-field: 0.75rem;\n",
       "  --radius-box: 1.25rem;\n",
       "  --size-selector: 0.375rem;\n",
       "  --size-field: 0.375rem;\n",
       "  --border: 1.5px;\n",
       "  --depth: 2;\n",
       "  --noise: 1;\n",
       "}</style>\n",
       "\n",
       "```"
      ],
      "text/plain": [
       "style((':root:has(input.theme-controller[value=custom_light_theme]:checked),[data-theme=\"custom_light_theme\"] {\\n  color-scheme: light;\\n  --color-base-100: oklch(98% 0.005 220);\\n  --color-base-200: oklch(96% 0.008 215);\\n  --color-base-300: oklch(92% 0.012 210);\\n  --color-base-content: oklch(18% 0.015 230);\\n  --color-primary: oklch(55% 0.18 260);\\n  --color-primary-content: oklch(98% 0.005 260);\\n  --color-secondary: oklch(45% 0.12 340);\\n  --color-secondary-content: oklch(98% 0.005 340);\\n  --color-accent: oklch(65% 0.15 180);\\n  --color-accent-content: oklch(15% 0.01 180);\\n  --color-neutral: oklch(25% 0.01 240);\\n  --color-neutral-content: oklch(95% 0.005 240);\\n  --color-info: oklch(60% 0.16 230);\\n  --color-info-content: oklch(98% 0.005 230);\\n  --color-success: oklch(58% 0.14 150);\\n  --color-success-content: oklch(98% 0.005 150);\\n  --color-warning: oklch(72% 0.16 85);\\n  --color-warning-content: oklch(18% 0.01 85);\\n  --color-error: oklch(55% 0.20 15);\\n  --color-error-content: oklch(98% 0.005 15);\\n  --radius-selector: 0.5rem;\\n  --radius-field: 0.75rem;\\n  --radius-box: 1.25rem;\\n  --size-selector: 0.375rem;\\n  --size-field: 0.375rem;\\n  --border: 1.5px;\\n  --depth: 2;\\n  --noise: 1;\\n}',),{})"
      ]
     },
     "execution_count": null,
     "metadata": {},
     "output_type": "execute_result"
    }
   ],
   "source": [
    "load_style_css(save_path)"
   ]
  },
  {
   "cell_type": "markdown",
   "id": "b9aaf9auth9",
   "metadata": {},
   "source": [
    "## Theme JSON Persistence\n",
    "\n",
    "Save and load theme configurations as JSON files for easy reuse and sharing:"
   ]
  },
  {
   "cell_type": "code",
   "execution_count": null,
   "id": "bgk8o628iqo",
   "metadata": {},
   "outputs": [
    {
     "name": "stdout",
     "output_type": "stream",
     "text": [
      "Saved theme to: /mnt/SN850X_8TB_EXT4/Projects/GitHub/cj-mills/cjm-fasthtml-daisyui/css/neon_nights.json\n",
      "\n",
      "JSON file contents:\n",
      "{\n",
      "  \"name\": \"neon_nights\",\n",
      "  \"default\": false,\n",
      "  \"prefersdark\": true,\n",
      "  \"color_scheme\": \"dark\",\n",
      "  \"colors\": {\n",
      "    \"base_100\": \"oklch(10% 0.02 260)\",\n",
      "    \"base_200\": \"oklch(8% 0.02 260)\",\n",
      "    \"base_300\": \"oklch(6% 0.02 260)\",\n",
      "    \"base_content\": \"oklch(85% 0.15 320)\",\n",
      "    \"primary\": \"oklch(70% 0.25 320)\",\n",
      "    \"primary_content\": \"oklch(10% 0.02 320)\",\n",
      "    \"secondary\": \"oklch(60% 0.22 180)\",\n",
      "    \"secondary_content\": \"oklch(10% 0.02 180)\",\n",
      "    \"accent\": \"oklch(75% 0.28 90)\",\n",
      "    \"accent_content\": \"o...\n"
     ]
    }
   ],
   "source": [
    "# Create a new custom theme for JSON save/load demonstration\n",
    "neon_theme: ThemeConfig = {\n",
    "    \"name\": \"neon_nights\",\n",
    "    \"default\": False,\n",
    "    \"prefersdark\": True,\n",
    "    \"color_scheme\": \"dark\",\n",
    "    \"colors\": {\n",
    "        \"base_100\": \"oklch(10% 0.02 260)\",\n",
    "        \"base_200\": \"oklch(8% 0.02 260)\",\n",
    "        \"base_300\": \"oklch(6% 0.02 260)\",\n",
    "        \"base_content\": \"oklch(85% 0.15 320)\",\n",
    "        \"primary\": \"oklch(70% 0.25 320)\",\n",
    "        \"primary_content\": \"oklch(10% 0.02 320)\",\n",
    "        \"secondary\": \"oklch(60% 0.22 180)\",\n",
    "        \"secondary_content\": \"oklch(10% 0.02 180)\",\n",
    "        \"accent\": \"oklch(75% 0.28 90)\",\n",
    "        \"accent_content\": \"oklch(10% 0.02 90)\",\n",
    "        \"neutral\": \"oklch(20% 0.03 260)\",\n",
    "        \"neutral_content\": \"oklch(80% 0.10 320)\",\n",
    "        \"info\": \"oklch(65% 0.20 220)\",\n",
    "        \"info_content\": \"oklch(10% 0.02 220)\",\n",
    "        \"success\": \"oklch(65% 0.22 150)\",\n",
    "        \"success_content\": \"oklch(10% 0.02 150)\",\n",
    "        \"warning\": \"oklch(72% 0.25 60)\",\n",
    "        \"warning_content\": \"oklch(10% 0.02 60)\",\n",
    "        \"error\": \"oklch(68% 0.25 15)\",\n",
    "        \"error_content\": \"oklch(10% 0.02 15)\"\n",
    "    },\n",
    "    \"radius_selector\": \"0.25rem\",\n",
    "    \"radius_field\": \"0.125rem\",\n",
    "    \"radius_box\": \"0.5rem\",\n",
    "    \"size_selector\": \"0.25rem\",\n",
    "    \"size_field\": \"0.25rem\",\n",
    "    \"border\": \"2px\",\n",
    "    \"depth\": 0.5,\n",
    "    \"noise\": 0.2\n",
    "}\n",
    "\n",
    "# Save the theme as JSON\n",
    "json_path = css_dir / f\"{neon_theme['name']}.json\"\n",
    "save_theme_json(neon_theme, json_path)\n",
    "print(f\"Saved theme to: {json_path}\")\n",
    "\n",
    "# Verify the JSON file was created\n",
    "print(f\"\\nJSON file contents:\")\n",
    "with open(json_path, 'r') as f:\n",
    "    print(f.read()[:500] + \"...\")  # Show first 500 chars"
   ]
  },
  {
   "cell_type": "code",
   "execution_count": null,
   "id": "387kgv3fvij",
   "metadata": {},
   "outputs": [
    {
     "name": "stdout",
     "output_type": "stream",
     "text": [
      "Loaded theme name: neon_nights\n",
      "Color scheme: dark\n",
      "Primary color: oklch(70% 0.25 320)\n",
      "Border radius (box): 0.5rem\n",
      "\n",
      "Generated CSS from loaded theme (first 500 chars):\n",
      ":root:has(input.theme-controller[value=neon_nights]:checked),[data-theme=\"neon_nights\"] {\n",
      "  color-scheme: dark;\n",
      "  --color-base-100: oklch(10% 0.02 260);\n",
      "  --color-base-200: oklch(8% 0.02 260);\n",
      "  --color-base-300: oklch(6% 0.02 260);\n",
      "  --color-base-content: oklch(85% 0.15 320);\n",
      "  --color-primary: oklch(70% 0.25 320);\n",
      "  --color-primary-content: oklch(10% 0.02 320);\n",
      "  --color-secondary: oklch(60% 0.22 180);\n",
      "  --color-secondary-content: oklch(10% 0.02 180);\n",
      "  --color-accent: oklch(75% 0.28 90);\n",
      "  --...\n"
     ]
    }
   ],
   "source": [
    "# Load the theme back from JSON\n",
    "loaded_theme = load_theme_json(json_path)\n",
    "\n",
    "# Verify it loaded correctly\n",
    "print(f\"Loaded theme name: {loaded_theme['name']}\")\n",
    "print(f\"Color scheme: {loaded_theme['color_scheme']}\")\n",
    "print(f\"Primary color: {loaded_theme['colors']['primary']}\")\n",
    "print(f\"Border radius (box): {loaded_theme['radius_box']}\")\n",
    "\n",
    "# Convert the loaded theme to CSS\n",
    "loaded_css = create_theme_css(loaded_theme)\n",
    "print(f\"\\nGenerated CSS from loaded theme (first 500 chars):\")\n",
    "print(loaded_css[:500] + \"...\")"
   ]
  },
  {
   "cell_type": "code",
   "execution_count": null,
   "id": "7g116mbf6uf",
   "metadata": {},
   "outputs": [
    {
     "name": "stdout",
     "output_type": "stream",
     "text": [
      "CSS files match: True\n",
      "\n",
      "Workflow complete:\n",
      "1. Created theme configuration in Python\n",
      "2. Saved to JSON: /mnt/SN850X_8TB_EXT4/Projects/GitHub/cj-mills/cjm-fasthtml-daisyui/css/neon_nights.json\n",
      "3. Loaded from JSON\n",
      "4. Generated CSS from loaded theme\n",
      "5. Saved CSS: /mnt/SN850X_8TB_EXT4/Projects/GitHub/cj-mills/cjm-fasthtml-daisyui/css/neon_nights_from_json.css\n"
     ]
    }
   ],
   "source": [
    "# Save the loaded theme as CSS to demonstrate the full workflow\n",
    "css_from_json_path = css_dir / f\"{loaded_theme['name']}_from_json.css\"\n",
    "save_theme_css(loaded_theme, css_from_json_path)\n",
    "\n",
    "# Verify both CSS files have the same content\n",
    "original_css = create_theme_css(neon_theme)\n",
    "loaded_and_saved_css = Path(css_from_json_path).read_text()\n",
    "\n",
    "print(f\"CSS files match: {original_css == loaded_and_saved_css}\")\n",
    "print(f\"\\nWorkflow complete:\")\n",
    "print(f\"1. Created theme configuration in Python\")\n",
    "print(f\"2. Saved to JSON: {json_path}\")\n",
    "print(f\"3. Loaded from JSON\")\n",
    "print(f\"4. Generated CSS from loaded theme\")\n",
    "print(f\"5. Saved CSS: {css_from_json_path}\")"
   ]
  },
  {
   "cell_type": "code",
   "execution_count": null,
   "id": "6d557859-d405-45c9-99f8-7196b73118ce",
   "metadata": {},
   "outputs": [],
   "source": []
  },
  {
   "cell_type": "code",
   "execution_count": null,
   "id": "9ab0088a-2322-4f2c-ba1d-a5a0889fcfe1",
   "metadata": {},
   "outputs": [],
   "source": []
  },
  {
   "cell_type": "code",
   "execution_count": null,
   "id": "8db17d04-278f-463e-8eae-f97015e2021e",
   "metadata": {},
   "outputs": [],
   "source": []
  },
  {
   "cell_type": "code",
   "execution_count": null,
   "id": "eed93a24-f9b4-4692-93a8-f7af1dc8aedb",
   "metadata": {},
   "outputs": [],
   "source": []
  },
  {
   "cell_type": "code",
   "execution_count": null,
   "id": "c6836416-1a09-4a3a-9669-1c39e418f921",
   "metadata": {},
   "outputs": [],
   "source": []
  },
  {
   "cell_type": "code",
   "execution_count": null,
   "id": "6a580520-1916-413f-876e-2bcb7580f5c2",
   "metadata": {},
   "outputs": [],
   "source": []
  },
  {
   "cell_type": "code",
   "execution_count": null,
   "id": "bda7ba48-09aa-4e86-ac42-8aa16cf1a63e",
   "metadata": {},
   "outputs": [],
   "source": []
  },
  {
   "cell_type": "code",
   "execution_count": null,
   "id": "2d11aede-bb94-495e-b974-b9d3dc9f3644",
   "metadata": {},
   "outputs": [],
   "source": []
  },
  {
   "cell_type": "code",
   "execution_count": null,
   "id": "bb17e366-e320-49a7-8c6f-0b46cebd4b94",
   "metadata": {},
   "outputs": [],
   "source": []
  },
  {
   "cell_type": "code",
   "execution_count": null,
   "id": "10504f48-913f-4a27-a3e8-cedacef2cff5",
   "metadata": {},
   "outputs": [],
   "source": []
  },
  {
   "cell_type": "code",
   "execution_count": null,
   "id": "73900f78-63b7-4c6b-9421-98f367fcf0d7",
   "metadata": {},
   "outputs": [],
   "source": []
  },
  {
   "cell_type": "code",
   "execution_count": null,
   "id": "21109319-4974-4910-b805-0ce31b55dbdd",
   "metadata": {},
   "outputs": [],
   "source": []
  },
  {
   "cell_type": "code",
   "execution_count": null,
   "id": "4d36f728-5e31-457b-94d6-aa7e280ec826",
   "metadata": {},
   "outputs": [],
   "source": []
  },
  {
   "cell_type": "code",
   "execution_count": null,
   "id": "f739562a-e1d6-4e05-919f-1540637f0fcb",
   "metadata": {},
   "outputs": [],
   "source": []
  },
  {
   "cell_type": "code",
   "execution_count": null,
   "id": "5ad319ac-464e-48ba-b941-9cdab0c5d6d4",
   "metadata": {},
   "outputs": [],
   "source": []
  },
  {
   "cell_type": "code",
   "execution_count": null,
   "id": "88d40b55-f1df-4ad5-ba0e-d543808cb709",
   "metadata": {},
   "outputs": [],
   "source": []
  },
  {
   "cell_type": "markdown",
   "id": "6aab1330-6851-4d38-84eb-0235972c6f82",
   "metadata": {},
   "source": [
    "## Export"
   ]
  },
  {
   "cell_type": "code",
   "execution_count": null,
   "id": "e4d61b2b-64e9-4454-a04d-88c11c8bc286",
   "metadata": {},
   "outputs": [],
   "source": [
    "#| hide\n",
    "import nbdev; nbdev.nbdev_export()"
   ]
  }
 ],
 "metadata": {
  "kernelspec": {
   "display_name": "python3",
   "language": "python",
   "name": "python3"
  }
 },
 "nbformat": 4,
 "nbformat_minor": 5
}
