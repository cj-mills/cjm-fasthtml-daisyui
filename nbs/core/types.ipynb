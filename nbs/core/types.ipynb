{
 "cells": [
  {
   "cell_type": "markdown",
   "id": "1bb74513",
   "metadata": {},
   "source": [
    "# Types\n",
    "\n",
    "> Common types and type aliases for daisyUI components"
   ]
  },
  {
   "cell_type": "code",
   "execution_count": null,
   "id": "d84e6c03",
   "metadata": {},
   "outputs": [],
   "source": [
    "#| default_exp core.types"
   ]
  },
  {
   "cell_type": "code",
   "execution_count": null,
   "id": "0f356c0a",
   "metadata": {},
   "outputs": [],
   "source": [
    "#| hide\n",
    "from nbdev.showdoc import *"
   ]
  },
  {
   "cell_type": "code",
   "execution_count": null,
   "id": "f8186ede",
   "metadata": {},
   "outputs": [],
   "source": [
    "#| export\n",
    "from typing import (\n",
    "    Dict, List, Optional, Union, Any, Tuple, Set,\n",
    "    Literal, Callable, Type, Protocol,\n",
    "    TYPE_CHECKING\n",
    ")\n",
    "from dataclasses import dataclass, field\n",
    "from enum import Enum\n",
    "from fasthtml.common import FT\n",
    "\n",
    "# Note: These imports are for use within this module.\n",
    "# Other modules should import typing utilities directly from typing,\n",
    "# and only import our custom types, protocols, and utilities from here."
   ]
  },
  {
   "cell_type": "markdown",
   "id": "8ba707c8",
   "metadata": {},
   "source": [
    "## Type Aliases\n",
    "\n",
    "Common type aliases used throughout the library."
   ]
  },
  {
   "cell_type": "code",
   "execution_count": null,
   "id": "85665ebe",
   "metadata": {},
   "outputs": [],
   "source": [
    "#| export\n",
    "# CSS-related types\n",
    "CSSClasses = List[str]\n",
    "CSSClass = str\n",
    "HTMLAttrs = Dict[str, Any]\n",
    "\n",
    "# Component-related types\n",
    "Children = List[FT]\n",
    "ComponentProps = Dict[str, Any]\n",
    "ResponsiveDict = Dict[str, str]\n",
    "\n",
    "# Color types\n",
    "ColorValue = Union[str, 'SemanticColor']  # Forward reference\n",
    "SizeValue = Union[str, 'DaisySize']  # Forward reference\n",
    "\n",
    "# Callback types\n",
    "EventHandler = Callable[..., Any]\n",
    "ComponentFactory = Callable[..., FT]\n",
    "\n",
    "# HTMX types\n",
    "HTMXValue = Union[str, bool, Dict[str, Any]]"
   ]
  },
  {
   "cell_type": "markdown",
   "id": "7542fc7a",
   "metadata": {},
   "source": [
    "## Protocol Definitions\n",
    "\n",
    "Protocols for standardizing interfaces across mixins."
   ]
  },
  {
   "cell_type": "code",
   "execution_count": null,
   "id": "89aa9052",
   "metadata": {},
   "outputs": [],
   "source": [
    "#| export\n",
    "class CSSContributor(Protocol):\n",
    "    \"\"\"Protocol for mixins that contribute CSS classes.\n",
    "    \n",
    "    This standardizes the interface for all mixins that add CSS classes\n",
    "    to components, replacing the various `*_classes()` methods.\n",
    "    \"\"\"\n",
    "    \n",
    "    def get_css_classes(self) -> CSSClasses:\n",
    "        \"\"\"Return CSS classes from this contributor.\n",
    "        \n",
    "        Returns:\n",
    "            List of CSS class strings\n",
    "        \"\"\"\n",
    "        ..."
   ]
  },
  {
   "cell_type": "code",
   "execution_count": null,
   "id": "7feeab6f",
   "metadata": {},
   "outputs": [],
   "source": [
    "#| export\n",
    "class FeatureSupport(Protocol):\n",
    "    \"\"\"Protocol for components with feature support.\n",
    "    \n",
    "    This standardizes the pattern of checking what features\n",
    "    a component supports (color, size, glass, etc.).\n",
    "    \"\"\"\n",
    "    \n",
    "    def get_supported_features(self) -> Dict[str, bool]:\n",
    "        \"\"\"Return dictionary of supported features.\n",
    "        \n",
    "        Returns:\n",
    "            Dictionary mapping feature names to support status\n",
    "            \n",
    "        Example:\n",
    "            {\n",
    "                'color': True,\n",
    "                'size': True,\n",
    "                'glass': False,\n",
    "                'active': True,\n",
    "                'disabled': True,\n",
    "                'loading': False\n",
    "            }\n",
    "        \"\"\"\n",
    "        ..."
   ]
  },
  {
   "cell_type": "code",
   "execution_count": null,
   "id": "176caed7",
   "metadata": {},
   "outputs": [],
   "source": [
    "#| export\n",
    "class ComponentProtocol(Protocol):\n",
    "    \"\"\"Base protocol for all daisyUI components.\n",
    "    \n",
    "    Defines the minimum interface that all components must implement.\n",
    "    \"\"\"\n",
    "    \n",
    "    def component_class(self) -> str:\n",
    "        \"\"\"Return the base component class name.\"\"\"\n",
    "        ...\n",
    "    \n",
    "    def build_classes(self) -> str:\n",
    "        \"\"\"Build complete class string.\"\"\"\n",
    "        ...\n",
    "    \n",
    "    def render_attrs(self) -> HTMLAttrs:\n",
    "        \"\"\"Build all HTML attributes for rendering.\"\"\"\n",
    "        ..."
   ]
  },
  {
   "cell_type": "markdown",
   "id": "a60c55e0",
   "metadata": {},
   "source": [
    "## Literal Types\n",
    "\n",
    "Common literal types used across components."
   ]
  },
  {
   "cell_type": "code",
   "execution_count": null,
   "id": "ac6401da",
   "metadata": {},
   "outputs": [],
   "source": [
    "#| export\n",
    "# Direction literals\n",
    "DirectionType = Literal[\"horizontal\", \"vertical\"]\n",
    "\n",
    "# Placement literals\n",
    "PlacementType = Literal[\"start\", \"center\", \"end\", \"top\", \"middle\", \"bottom\", \"left\", \"right\"]\n",
    "\n",
    "# HTTP method literals\n",
    "HTTPMethod = Literal[\"get\", \"post\", \"put\", \"patch\", \"delete\"]\n",
    "\n",
    "# Theme color scheme\n",
    "ColorSchemeType = Literal[\"light\", \"dark\"]\n",
    "\n",
    "# Brand types\n",
    "BrandType = Literal[\"primary\", \"secondary\", \"accent\", \"neutral\"]\n",
    "\n",
    "# State types  \n",
    "StateType = Literal[\"info\", \"success\", \"warning\", \"error\"]\n",
    "\n",
    "# Size types (commonly used)\n",
    "CommonSizeType = Literal[\"xs\", \"sm\", \"md\", \"lg\", \"xl\"]"
   ]
  },
  {
   "cell_type": "markdown",
   "id": "116ffb01",
   "metadata": {},
   "source": [
    "## Utility Functions\n",
    "\n",
    "Common utility functions for type checking and conversion."
   ]
  },
  {
   "cell_type": "code",
   "execution_count": null,
   "id": "538c150e",
   "metadata": {},
   "outputs": [],
   "source": [
    "#| export\n",
    "def ensure_list(value: Union[str, List[str]]) -> List[str]:\n",
    "    \"\"\"Ensure a value is a list of strings.\n",
    "    \n",
    "    Args:\n",
    "        value: String or list of strings\n",
    "        \n",
    "    Returns:\n",
    "        List of strings\n",
    "    \"\"\"\n",
    "    if isinstance(value, str):\n",
    "        return value.split() if ' ' in value else [value]\n",
    "    return value if value else []\n",
    "\n",
    "\n",
    "def ensure_dict(value: Union[str, Dict[str, Any]]) -> Dict[str, Any]:\n",
    "    \"\"\"Ensure a value is a dictionary.\n",
    "    \n",
    "    Args:\n",
    "        value: String (JSON) or dictionary\n",
    "        \n",
    "    Returns:\n",
    "        Dictionary\n",
    "    \"\"\"\n",
    "    if isinstance(value, str):\n",
    "        import json\n",
    "        try:\n",
    "            return json.loads(value)\n",
    "        except json.JSONDecodeError:\n",
    "            return {}\n",
    "    return value if value else {}"
   ]
  },
  {
   "cell_type": "markdown",
   "id": "fcd92cf3",
   "metadata": {},
   "source": [
    "## Usage Examples\n",
    "\n",
    "Examples of using the common types module:"
   ]
  },
  {
   "cell_type": "code",
   "execution_count": null,
   "id": "875a6a69",
   "metadata": {},
   "outputs": [
    {
     "name": "stdout",
     "output_type": "stream",
     "text": [
      "Processed classes: btn btn-primary btn-lg\n"
     ]
    }
   ],
   "source": [
    "# Example: Using type aliases\n",
    "def process_classes(classes: CSSClasses) -> CSSClass:\n",
    "    \"\"\"Process a list of CSS classes into a single string.\"\"\"\n",
    "    return \" \".join(classes)\n",
    "\n",
    "# Example usage\n",
    "result = process_classes([\"btn\", \"btn-primary\", \"btn-lg\"])\n",
    "print(f\"Processed classes: {result}\")"
   ]
  },
  {
   "cell_type": "code",
   "execution_count": null,
   "id": "f0a85d7a",
   "metadata": {},
   "outputs": [
    {
     "name": "stdout",
     "output_type": "stream",
     "text": [
      "Mixin classes: ['active', 'size-lg']\n"
     ]
    }
   ],
   "source": [
    "# Example: Implementing CSSContributor protocol\n",
    "class ExampleMixin:\n",
    "    \"\"\"Example mixin that implements CSSContributor.\"\"\"\n",
    "    \n",
    "    def __init__(self):\n",
    "        self.active = True\n",
    "        self.size = \"lg\"\n",
    "    \n",
    "    def get_css_classes(self) -> CSSClasses:\n",
    "        \"\"\"Return CSS classes from this mixin.\"\"\"\n",
    "        classes = []\n",
    "        if self.active:\n",
    "            classes.append(\"active\")\n",
    "        if self.size:\n",
    "            classes.append(f\"size-{self.size}\")\n",
    "        return classes\n",
    "\n",
    "# Test the implementation\n",
    "mixin = ExampleMixin()\n",
    "print(f\"Mixin classes: {mixin.get_css_classes()}\")"
   ]
  },
  {
   "cell_type": "code",
   "execution_count": null,
   "id": "d1c98995",
   "metadata": {},
   "outputs": [
    {
     "name": "stdout",
     "output_type": "stream",
     "text": [
      "String to list: ['btn', 'btn-primary']\n",
      "List stays list: ['btn', 'btn-secondary']\n",
      "JSON to dict: {'theme': 'dark', 'size': 'lg'}\n",
      "Dict stays dict: {'theme': 'light'}\n"
     ]
    }
   ],
   "source": [
    "# Example: Using utility functions\n",
    "# String to list\n",
    "classes1 = ensure_list(\"btn btn-primary\")\n",
    "print(f\"String to list: {classes1}\")\n",
    "\n",
    "# Already a list\n",
    "classes2 = ensure_list([\"btn\", \"btn-secondary\"])\n",
    "print(f\"List stays list: {classes2}\")\n",
    "\n",
    "# JSON string to dict\n",
    "config1 = ensure_dict('{\"theme\": \"dark\", \"size\": \"lg\"}')\n",
    "print(f\"JSON to dict: {config1}\")\n",
    "\n",
    "# Already a dict\n",
    "config2 = ensure_dict({\"theme\": \"light\"})\n",
    "print(f\"Dict stays dict: {config2}\")"
   ]
  },
  {
   "cell_type": "code",
   "execution_count": null,
   "id": "c9a91433",
   "metadata": {},
   "outputs": [],
   "source": [
    "#| hide\n",
    "import nbdev; nbdev.nbdev_export()"
   ]
  }
 ],
 "metadata": {
  "kernelspec": {
   "display_name": "python3",
   "language": "python",
   "name": "python3"
  }
 },
 "nbformat": 4,
 "nbformat_minor": 5
}
