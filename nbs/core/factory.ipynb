{
 "cells": [
  {
   "cell_type": "markdown",
   "id": "a42de578-75a7-4bcd-aae8-76cb41340c82",
   "metadata": {},
   "source": [
    "# Component Factory\n",
    "\n",
    "> Factory functions for creating daisyUI components"
   ]
  },
  {
   "cell_type": "code",
   "execution_count": null,
   "id": "6fe1c05a-c9d9-47fb-ac54-c378aa449907",
   "metadata": {},
   "outputs": [],
   "source": [
    "#| default_exp core.factory"
   ]
  },
  {
   "cell_type": "code",
   "execution_count": null,
   "id": "3b7a2c0d-2478-4ec1-8c12-3e553ca7939f",
   "metadata": {},
   "outputs": [],
   "source": [
    "#| hide\n",
    "from nbdev.showdoc import *"
   ]
  },
  {
   "cell_type": "code",
   "execution_count": null,
   "id": "93e8c7d7-b9f0-47a1-8069-7d4d88270eea",
   "metadata": {},
   "outputs": [],
   "source": [
    "#| export\n",
    "from typing import Type, Dict, Any, Optional, Callable\n",
    "from fasthtml.common import *\n",
    "from cjm_tailwind_utils.core import tw\n",
    "from cjm_fasthtml_daisyui.core.base import DaisyComponent"
   ]
  },
  {
   "cell_type": "markdown",
   "id": "4921d133-0f8a-4054-ba26-937ec9fb49ba",
   "metadata": {},
   "source": [
    "## Simple Component Factory\n",
    "\n",
    "Factory for creating simple daisyUI components."
   ]
  },
  {
   "cell_type": "code",
   "execution_count": null,
   "id": "5f6fcb8a-d2e0-418c-a214-14f9ca5bbd32",
   "metadata": {},
   "outputs": [],
   "source": [
    "#| export\n",
    "def create_simple_component(\n",
    "    component_name: str,    # The daisyUI class name (e.g., 'badge', 'kbd')\n",
    "    tag: str = \"div\",    # HTML tag to use (default: 'div')\n",
    "    supports_color: bool = False,    # Whether component supports color modifiers\n",
    "    supports_size: bool = False,    # Whether component supports size modifiers\n",
    "    default_attrs: Optional[Dict[str, Any]] = None,\n",
    "    class_name: Optional[str] = None    # Optional class name (defaults to PascalCase of component_name)\n",
    ") -> Type[DaisyComponent]:  # A DaisyComponent subclass\n",
    "    \"Factory for creating simple daisyUI components. This factory creates a component class for simple daisyUI components that don't require complex logic.\"\n",
    "    \n",
    "    # Generate class name if not provided\n",
    "    if not class_name:\n",
    "        # Convert component-name to ComponentName\n",
    "        parts = component_name.split('-')\n",
    "        class_name = ''.join(part.capitalize() for part in parts)\n",
    "    \n",
    "    class SimpleComponent(DaisyComponent):\n",
    "        \"TODO: Add class description\"\n",
    "        def component_class(\n",
    "            self\n",
    "        ) -> str:  # TODO: Add return description\n",
    "            \"TODO: Add function description\"\n",
    "            return component_name\n",
    "            \n",
    "        def supports_color(\n",
    "            self\n",
    "        ) -> bool:  # TODO: Add return description\n",
    "            \"TODO: Add function description\"\n",
    "            return supports_color\n",
    "            \n",
    "        def supports_size(\n",
    "            self\n",
    "        ) -> bool:  # TODO: Add return description\n",
    "            \"TODO: Add function description\"\n",
    "            return supports_size\n",
    "            \n",
    "        def render(\n",
    "            self,\n",
    "            *children,\n",
    "            **kwargs\n",
    "        ): # TODO: Add type hint\n",
    "            \"\"\"Render the component.\"\"\"\n",
    "            attrs = self.render_attrs()\n",
    "            attrs.update(kwargs)\n",
    "            \n",
    "            # Apply default attributes\n",
    "            if default_attrs:\n",
    "                for k, v in default_attrs.items():\n",
    "                    attrs.setdefault(k, v)\n",
    "            \n",
    "            # Create the appropriate element\n",
    "            if tag.lower() == \"div\":\n",
    "                return Div(*children, **attrs)\n",
    "            elif tag.lower() == \"span\":\n",
    "                return Span(*children, **attrs)\n",
    "            elif tag.lower() == \"button\":\n",
    "                return Button(*children, **attrs)\n",
    "            elif tag.lower() == \"a\":\n",
    "                return A(*children, **attrs)\n",
    "            elif tag.lower() == \"label\":\n",
    "                return Label(*children, **attrs)\n",
    "            elif tag.lower() == \"ul\":\n",
    "                return Ul(*children, **attrs)\n",
    "            elif tag.lower() == \"li\":\n",
    "                return Li(*children, **attrs)\n",
    "            elif tag.lower() == \"section\":\n",
    "                return Section(*children, **attrs)\n",
    "            elif tag.lower() == \"article\":\n",
    "                return Article(*children, **attrs)\n",
    "            elif tag.lower() == \"nav\":\n",
    "                return Nav(*children, **attrs)\n",
    "            elif tag.lower() == \"header\":\n",
    "                return Header(*children, **attrs)\n",
    "            elif tag.lower() == \"footer\":\n",
    "                return Footer(*children, **attrs)\n",
    "            else:\n",
    "                # For other tags, use eval\n",
    "                return eval(tag.title())(*children, **attrs)\n",
    "    \n",
    "    # Set the class name\n",
    "    SimpleComponent.__name__ = class_name\n",
    "    SimpleComponent.__qualname__ = class_name\n",
    "    \n",
    "    return SimpleComponent"
   ]
  },
  {
   "cell_type": "code",
   "execution_count": null,
   "id": "671bb8c3-2e8f-4528-a1e4-b2ebc7c14f86",
   "metadata": {},
   "outputs": [],
   "source": []
  },
  {
   "cell_type": "code",
   "execution_count": null,
   "id": "5807a879-e8ef-4532-be7a-caa5f14b5c8d",
   "metadata": {},
   "outputs": [],
   "source": []
  },
  {
   "cell_type": "code",
   "execution_count": null,
   "id": "2e54f878-97c2-444b-a142-09e0d2c538f3",
   "metadata": {},
   "outputs": [],
   "source": []
  },
  {
   "cell_type": "code",
   "execution_count": null,
   "id": "779373cc-cb8f-4a35-8c6d-bb8a6ea12291",
   "metadata": {},
   "outputs": [],
   "source": []
  },
  {
   "cell_type": "code",
   "execution_count": null,
   "id": "d96c6f27-5aef-439c-af44-f47e522b4717",
   "metadata": {},
   "outputs": [],
   "source": []
  },
  {
   "cell_type": "code",
   "execution_count": null,
   "id": "ac79fb53-9815-4821-be60-ea6df3e2fad3",
   "metadata": {},
   "outputs": [],
   "source": []
  },
  {
   "cell_type": "code",
   "execution_count": null,
   "id": "efb65d44-8175-4952-9407-7498aeb6835b",
   "metadata": {},
   "outputs": [],
   "source": []
  },
  {
   "cell_type": "code",
   "execution_count": null,
   "id": "3ef87238-b41c-471a-bdd9-02d6a9da8bd1",
   "metadata": {},
   "outputs": [],
   "source": []
  },
  {
   "cell_type": "code",
   "execution_count": null,
   "id": "db91716d-6ddf-4082-81d4-5fe75e505c07",
   "metadata": {},
   "outputs": [],
   "source": []
  },
  {
   "cell_type": "code",
   "execution_count": null,
   "id": "d7ceb976-dde7-4370-b849-afcf0e54e1a2",
   "metadata": {},
   "outputs": [],
   "source": []
  },
  {
   "cell_type": "code",
   "execution_count": null,
   "id": "31c9aff4-b839-4b9b-a319-e15d016044cb",
   "metadata": {},
   "outputs": [],
   "source": []
  },
  {
   "cell_type": "code",
   "execution_count": null,
   "id": "b374e4f9-975a-49a0-a650-61aba07d87e5",
   "metadata": {},
   "outputs": [],
   "source": []
  },
  {
   "cell_type": "code",
   "execution_count": null,
   "id": "0ab3d4b4-03dc-4aa9-bfe3-506957c32833",
   "metadata": {},
   "outputs": [],
   "source": []
  },
  {
   "cell_type": "code",
   "execution_count": null,
   "id": "77ac2271-96e3-40e0-933f-599762248ed0",
   "metadata": {},
   "outputs": [],
   "source": []
  },
  {
   "cell_type": "code",
   "execution_count": null,
   "id": "17907a08-f3de-4bca-8b28-e7f79eec85c4",
   "metadata": {},
   "outputs": [],
   "source": []
  },
  {
   "cell_type": "code",
   "execution_count": null,
   "id": "f04f9016-a02a-47fd-9e0e-2f204e48c2c8",
   "metadata": {},
   "outputs": [],
   "source": []
  },
  {
   "cell_type": "code",
   "execution_count": null,
   "id": "90f58659-826a-439b-ad62-5a06500ad5c8",
   "metadata": {},
   "outputs": [],
   "source": []
  },
  {
   "cell_type": "code",
   "execution_count": null,
   "id": "63c6a4ee-2c59-4cc3-88c7-f68833dbfec0",
   "metadata": {},
   "outputs": [],
   "source": []
  },
  {
   "cell_type": "code",
   "execution_count": null,
   "id": "6ce399c8-af96-4ed2-b189-42c6922c68fc",
   "metadata": {},
   "outputs": [],
   "source": []
  },
  {
   "cell_type": "code",
   "execution_count": null,
   "id": "3db15d1d-bdc9-416e-a038-f35da3d41fbb",
   "metadata": {},
   "outputs": [],
   "source": []
  },
  {
   "cell_type": "code",
   "execution_count": null,
   "id": "bbd296fc-ec51-4622-8d18-b0d40cd0fcae",
   "metadata": {},
   "outputs": [],
   "source": []
  },
  {
   "cell_type": "code",
   "execution_count": null,
   "id": "ebca2e4c-fa1a-41ed-9b66-a0a39ff3603f",
   "metadata": {},
   "outputs": [],
   "source": []
  },
  {
   "cell_type": "code",
   "execution_count": null,
   "id": "f365ffb8-04ff-4b44-94dc-efca4793d093",
   "metadata": {},
   "outputs": [],
   "source": []
  },
  {
   "cell_type": "code",
   "execution_count": null,
   "id": "a31a29f5-53d4-4878-945f-196d7d481161",
   "metadata": {},
   "outputs": [],
   "source": []
  },
  {
   "cell_type": "code",
   "execution_count": null,
   "id": "a9660346-f6c0-43b6-844a-37c873b06ba3",
   "metadata": {},
   "outputs": [],
   "source": []
  },
  {
   "cell_type": "code",
   "execution_count": null,
   "id": "8058ad23-660d-494f-b5ab-019fdeb2b539",
   "metadata": {},
   "outputs": [],
   "source": []
  },
  {
   "cell_type": "code",
   "execution_count": null,
   "id": "6bcd9205-30e2-4d4f-b32a-6a89100d30f2",
   "metadata": {},
   "outputs": [],
   "source": []
  },
  {
   "cell_type": "code",
   "execution_count": null,
   "id": "54b5f9da-c5ab-4e7a-a0d9-38fcdd971958",
   "metadata": {},
   "outputs": [],
   "source": []
  },
  {
   "cell_type": "code",
   "execution_count": null,
   "id": "b15dd139-6fa7-4702-8a33-108e67cd6e27",
   "metadata": {},
   "outputs": [],
   "source": []
  },
  {
   "cell_type": "code",
   "execution_count": null,
   "id": "e1d497f8-9320-4c9c-a371-6f737e8ff104",
   "metadata": {},
   "outputs": [],
   "source": []
  },
  {
   "cell_type": "code",
   "execution_count": null,
   "id": "14085bea-7ed1-4381-bdb9-c54ea668fb6c",
   "metadata": {},
   "outputs": [],
   "source": []
  },
  {
   "cell_type": "code",
   "execution_count": null,
   "id": "6f432174-1844-4e70-a471-09d7a3f477b9",
   "metadata": {},
   "outputs": [],
   "source": []
  },
  {
   "cell_type": "code",
   "execution_count": null,
   "id": "cb34ac0e-0210-49b3-b5ce-57771347f7bf",
   "metadata": {},
   "outputs": [],
   "source": []
  },
  {
   "cell_type": "code",
   "execution_count": null,
   "id": "f4bce43c-b690-4cec-a793-984bd4991675",
   "metadata": {},
   "outputs": [],
   "source": []
  },
  {
   "cell_type": "code",
   "execution_count": null,
   "id": "6fe2dc53-5af4-4b90-b13d-34577afdf2d3",
   "metadata": {},
   "outputs": [],
   "source": []
  },
  {
   "cell_type": "code",
   "execution_count": null,
   "id": "7d7c5123-b70d-44e4-8852-2bf9cbf3e160",
   "metadata": {},
   "outputs": [],
   "source": []
  },
  {
   "cell_type": "code",
   "execution_count": null,
   "id": "807873d3-1a3b-4937-893b-5ca438fcd371",
   "metadata": {},
   "outputs": [],
   "source": []
  },
  {
   "cell_type": "code",
   "execution_count": null,
   "id": "1fad6f99-2792-44fc-b906-99b1f1179737",
   "metadata": {},
   "outputs": [],
   "source": []
  },
  {
   "cell_type": "code",
   "execution_count": null,
   "id": "793cb46c-5ca2-47fb-9346-ea0849908606",
   "metadata": {},
   "outputs": [],
   "source": []
  },
  {
   "cell_type": "code",
   "execution_count": null,
   "id": "bc9dcff1-72da-4a58-bba0-c1204f09ebaa",
   "metadata": {},
   "outputs": [],
   "source": []
  },
  {
   "cell_type": "code",
   "execution_count": null,
   "id": "e07c255d-dbe9-4e08-90ed-8eb200e749c8",
   "metadata": {},
   "outputs": [],
   "source": []
  },
  {
   "cell_type": "code",
   "execution_count": null,
   "id": "1c6d599d-93a5-4772-bd85-2806bc6a3961",
   "metadata": {},
   "outputs": [],
   "source": []
  },
  {
   "cell_type": "code",
   "execution_count": null,
   "id": "80c53b03-77e1-4a0f-be8e-5cf21eb22c08",
   "metadata": {},
   "outputs": [],
   "source": []
  },
  {
   "cell_type": "code",
   "execution_count": null,
   "id": "b0d5b164-fddb-4bdc-a431-d25845736e2b",
   "metadata": {},
   "outputs": [],
   "source": []
  },
  {
   "cell_type": "code",
   "execution_count": null,
   "id": "27c7d23a-a2e5-4181-848d-45deb12533d0",
   "metadata": {},
   "outputs": [],
   "source": []
  },
  {
   "cell_type": "code",
   "execution_count": null,
   "id": "c061b6df-7b21-41df-9919-e0a8d5f9c10d",
   "metadata": {},
   "outputs": [],
   "source": []
  },
  {
   "cell_type": "code",
   "execution_count": null,
   "id": "1097c667-d399-4ee0-a757-1a9aec99b3c6",
   "metadata": {},
   "outputs": [],
   "source": []
  },
  {
   "cell_type": "code",
   "execution_count": null,
   "id": "622ef123-4852-4bf0-af41-994b215d7d3f",
   "metadata": {},
   "outputs": [],
   "source": []
  },
  {
   "cell_type": "code",
   "execution_count": null,
   "id": "d75eb168-c28a-423d-99eb-ea63a8967cd4",
   "metadata": {},
   "outputs": [],
   "source": []
  },
  {
   "cell_type": "code",
   "execution_count": null,
   "id": "0813baad-f1fa-4663-af76-c61d1d9683a1",
   "metadata": {},
   "outputs": [],
   "source": []
  },
  {
   "cell_type": "code",
   "execution_count": null,
   "id": "70484719-f0a9-48dd-ade8-4b75657c58d5",
   "metadata": {},
   "outputs": [],
   "source": [
    "#| hide\n",
    "import nbdev; nbdev.nbdev_export()"
   ]
  }
 ],
 "metadata": {
  "kernelspec": {
   "display_name": "python3",
   "language": "python",
   "name": "python3"
  }
 },
 "nbformat": 4,
 "nbformat_minor": 5
}
