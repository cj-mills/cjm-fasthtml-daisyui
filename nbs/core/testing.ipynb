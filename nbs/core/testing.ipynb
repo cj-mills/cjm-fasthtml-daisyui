{
 "cells": [
  {
   "cell_type": "markdown",
   "id": "b8112c96-3d6b-4fba-b4a9-3bd5e1f03d50",
   "metadata": {},
   "source": [
    "# testing\n",
    "\n",
    "> Standardized test page creation for Jupyter notebooks with FastHTML"
   ]
  },
  {
   "cell_type": "code",
   "execution_count": null,
   "id": "6c35da8c-e325-4006-94d7-594824917ad1",
   "metadata": {},
   "outputs": [],
   "source": [
    "#| default_exp core.testing"
   ]
  },
  {
   "cell_type": "code",
   "execution_count": null,
   "id": "1ab90f3f-8458-40f4-9d26-1eaf67a3ab38",
   "metadata": {},
   "outputs": [],
   "source": [
    "#| hide\n",
    "from nbdev.showdoc import *"
   ]
  },
  {
   "cell_type": "code",
   "execution_count": null,
   "id": "c1492984-a083-4abc-867e-e78b1555613e",
   "metadata": {},
   "outputs": [],
   "source": [
    "#| export\n",
    "from fasthtml.common import *\n",
    "from fasthtml.jupyter import JupyUvi, HTMX\n",
    "from typing import Optional, Union, List, Callable\n",
    "from pathlib import Path\n",
    "\n",
    "# Import our modules\n",
    "from cjm_fasthtml_daisyui.core.resources import build_headers, get_daisyui_headers\n",
    "from cjm_fasthtml_daisyui.core.themes import DaisyUITheme, get_theme_value\n",
    "from cjm_fasthtml_daisyui.core.colors import DaisyUIColor, enable_semantic_gradients\n",
    "\n",
    "# Import TailwindBuilder with recommended pattern\n",
    "from cjm_tailwind_utils.all import TailwindBuilder"
   ]
  },
  {
   "cell_type": "code",
   "execution_count": null,
   "id": "716524d0-5e5b-4393-b71a-2b615c693e04",
   "metadata": {},
   "outputs": [],
   "source": []
  },
  {
   "cell_type": "markdown",
   "id": "74a1384d-01d3-4216-a350-f1da96cd799b",
   "metadata": {},
   "source": [
    "## Test App Creation\n",
    "\n",
    "A standardized way to create test apps in Jupyter notebooks:"
   ]
  },
  {
   "cell_type": "code",
   "execution_count": null,
   "id": "8346827c-d65e-4e07-954d-81a557f94dcf",
   "metadata": {},
   "outputs": [],
   "source": [
    "#| export\n",
    "def create_test_app(\n",
    "    theme: Union[DaisyUITheme, str] = DaisyUITheme.LIGHT,  # Default theme\n",
    "    include_theme_selector: bool = True,  # Include theme selector in app\n",
    "    custom_css: Optional[List[Union[str, Link]]] = None,  # Additional CSS\n",
    "    custom_js: Optional[List[Union[str, Script]]] = None,  # Additional JS\n",
    "    custom_theme_css: Optional[str] = None,  # Custom theme CSS as string\n",
    "    custom_theme_paths: Optional[List[Union[str, Path]]] = None,  # List of paths to custom theme CSS files\n",
    "    custom_theme_names: Optional[List[str]] = None,  # Names of custom themes to include in selector\n",
    "    debug: bool = True  # Enable debug mode\n",
    ") -> tuple: # Tuple containing (app, rt) - FastHTML app instance and route decorator\n",
    "    \"\"\"\n",
    "    Create a standardized test app for Jupyter notebooks with daisyUI and Tailwind.\n",
    "    \"\"\"\n",
    "    # Get theme value - allow custom themes when custom CSS, paths or names are provided\n",
    "    theme_value = get_theme_value(theme, allow_custom=bool(custom_theme_paths or custom_theme_css or custom_theme_names))\n",
    "    \n",
    "    # Build headers\n",
    "    headers = build_headers(\n",
    "        include_themes=True,\n",
    "        custom_css=custom_css,\n",
    "        custom_js=custom_js,\n",
    "        custom_theme_css=custom_theme_css,\n",
    "        custom_theme_paths=custom_theme_paths\n",
    "    )\n",
    "    \n",
    "    # Create app with daisyUI configuration\n",
    "    app, rt = fast_app(\n",
    "        pico=False,  # Disable pico since we're using daisyUI\n",
    "        hdrs=headers,\n",
    "        htmlkw={'data-theme': theme_value},\n",
    "        debug=debug\n",
    "    )\n",
    "    \n",
    "    # Add theme selector route if requested\n",
    "    if include_theme_selector:\n",
    "        @rt('/theme-selector')\n",
    "        def theme_selector(\n",
    "        ) -> Div: # Theme selector dropdown component\n",
    "            \"Route handler that returns the theme selector dropdown component\"\n",
    "            return create_theme_selector(custom_themes=custom_theme_names)\n",
    "    \n",
    "    return app, rt"
   ]
  },
  {
   "cell_type": "markdown",
   "id": "57878aed-5923-4cd3-afc9-9bfe0f96a309",
   "metadata": {},
   "source": [
    "## Theme Selector Component\n",
    "\n",
    "A reusable theme selector for testing:"
   ]
  },
  {
   "cell_type": "code",
   "execution_count": null,
   "id": "4ad0a4c5-3853-408b-96b2-d08461b6f449",
   "metadata": {},
   "outputs": [],
   "source": [
    "#| export\n",
    "def create_theme_selector(\n",
    "    custom_themes: Optional[List[str]] = None  # Optional list of custom theme names to include\n",
    ") -> Div:  # Div containing theme selector dropdown with theme-change script\n",
    "    \"Create a daisyUI theme selector dropdown component. Uses theme-change library to persist theme selection in localStorage.\"\n",
    "    # Build classes using TailwindBuilder for better readability and type safety\n",
    "    dropdown_classes = \"dropdown dropdown-end\"\n",
    "    button_classes = \"btn btn-ghost btn-circle\"\n",
    "    \n",
    "    # Use TailwindBuilder for layout/spacing utilities with method chaining\n",
    "    # Note: rounded-box is a daisyUI utility, kept as raw string\n",
    "    dropdown_content_classes = (\n",
    "        TailwindBuilder()\n",
    "        .z(10)\n",
    "        .p(2)\n",
    "        .shadow(\"2xl\")\n",
    "        .w(52)\n",
    "        .bg_semantic(DaisyUIColor.BASE_100)\n",
    "        .util(\"dropdown-content\", \"rounded-box\")\n",
    "        .build()\n",
    "    )\n",
    "    \n",
    "    menu_classes = \"menu menu-xs menu-dropdown-toggle\"\n",
    "    \n",
    "    # Build theme options\n",
    "    theme_options = []\n",
    "    \n",
    "    # Add custom themes first if provided\n",
    "    if custom_themes:\n",
    "        for theme_name in custom_themes:\n",
    "            theme_options.append(Li(\n",
    "                Input(\n",
    "                    type=\"radio\",\n",
    "                    name=\"theme-dropdown\",\n",
    "                    cls=\"theme-controller btn btn-sm btn-block btn-ghost justify-start\",\n",
    "                    aria_label=f\"{theme_name.title()}\",\n",
    "                    value=theme_name\n",
    "                )\n",
    "            ))\n",
    "            \n",
    "        # Add a divider between custom and built-in themes\n",
    "        if custom_themes:\n",
    "            theme_options.append(Li(Div(cls=\"divider my-0\")))\n",
    "    \n",
    "    # Add built-in themes\n",
    "    for theme in DaisyUITheme:\n",
    "        theme_options.append(Li(\n",
    "            Input(\n",
    "                type=\"radio\",\n",
    "                name=\"theme-dropdown\",\n",
    "                cls=\"theme-controller btn btn-sm btn-block btn-ghost justify-start\",\n",
    "                aria_label=theme.value.title(),\n",
    "                value=theme.value\n",
    "            )\n",
    "        ))\n",
    "    \n",
    "    return Div(\n",
    "        # Theme selector dropdown\n",
    "        Div(\n",
    "            Label(\n",
    "                \"🎨\",\n",
    "                tabindex=\"0\",\n",
    "                cls=button_classes\n",
    "            ),\n",
    "            Ul(\n",
    "                *theme_options,\n",
    "                tabindex=\"0\",\n",
    "                cls=dropdown_content_classes + \" \" + menu_classes\n",
    "            ),\n",
    "            cls=dropdown_classes\n",
    "        ),\n",
    "        # Theme change script\n",
    "        Script(src=\"https://cdn.jsdelivr.net/npm/theme-change@2.0.2/index.min.js\"),\n",
    "        Script(\"document.addEventListener('DOMContentLoaded', () => themeChange());\")\n",
    "    )"
   ]
  },
  {
   "cell_type": "markdown",
   "id": "49aaf7b6-197b-471b-b999-320b1ce55aa8",
   "metadata": {},
   "source": [
    "## Test Page Wrapper\n",
    "\n",
    "A wrapper for creating consistent test pages:"
   ]
  },
  {
   "cell_type": "code",
   "execution_count": null,
   "id": "1f61677a-79d6-4bcb-aaf1-80465cb7331d",
   "metadata": {},
   "outputs": [],
   "source": [
    "#| export\n",
    "def create_test_page(\n",
    "    title: str,  # Page title\n",
    "    *content,  # Page content elements\n",
    "    include_theme_selector: bool = True,  # Include theme selector\n",
    "    container: bool = True,  # Wrap in container\n",
    "    custom_theme_names: Optional[List[str]] = None  # Custom themes for selector\n",
    ") -> Div:  # Div containing complete page layout with navbar and content\n",
    "    \"\"\"\n",
    "    Create a standardized test page layout with optional theme selector.\n",
    "    \"\"\"\n",
    "    # Build navbar with proper structure using TailwindBuilder\n",
    "    navbar = Div(\n",
    "        # Container for navbar content with flex layout\n",
    "        Div(\n",
    "            # Left section (empty for now)\n",
    "            Div(cls=TailwindBuilder().flex(1).build()),\n",
    "            \n",
    "            # Center section with title\n",
    "            Div(\n",
    "                H1(title, cls=TailwindBuilder().text(\"2xl\").font(\"bold\").build()),\n",
    "                cls=TailwindBuilder().flex(None).build()\n",
    "            ),\n",
    "            \n",
    "            # Right section with theme selector\n",
    "            Div(\n",
    "                create_theme_selector(custom_themes=custom_theme_names) if include_theme_selector else \"\",\n",
    "                cls=TailwindBuilder().flex().justify(\"end\").flex(1).build()\n",
    "            ),\n",
    "            cls=(\n",
    "                TailwindBuilder()\n",
    "                .container()\n",
    "                .m(\"auto\", \"x\")\n",
    "                .flex()\n",
    "                .items(\"center\")\n",
    "                .build()\n",
    "            )\n",
    "        ),\n",
    "        cls=TailwindBuilder().util(\"navbar\").bg_semantic(DaisyUIColor.BASE_100).shadow(\"lg\").build()\n",
    "    )\n",
    "    \n",
    "    # Build main content classes with TailwindBuilder\n",
    "    main_builder = TailwindBuilder()\n",
    "    if container:\n",
    "        main_builder = main_builder.container().m(\"auto\", \"x\")\n",
    "    main_classes = main_builder.p(4, \"x\").p(8, \"y\").build()\n",
    "    \n",
    "    return Div(\n",
    "        navbar,\n",
    "        Main(\n",
    "            *content,\n",
    "            cls=main_classes\n",
    "        )\n",
    "    )"
   ]
  },
  {
   "cell_type": "markdown",
   "id": "75382808-301e-4766-92fa-4b207a3be2ea",
   "metadata": {},
   "source": [
    "## Jupyter Notebook Utilities\n",
    "\n",
    "Helper functions for working with FastHTML in Jupyter:"
   ]
  },
  {
   "cell_type": "code",
   "execution_count": null,
   "id": "9c2b5ac1-95f4-4e9c-8b8d-973afa755003",
   "metadata": {},
   "outputs": [],
   "source": [
    "#| export\n",
    "def start_test_server(\n",
    "    app: FastHTML,    # FastHTML app instance created by create_test_app or fast_app\n",
    "    port: int = 8000,  # Port\n",
    ") -> JupyUvi:  # JupyUvi server instance for Jupyter notebook testing\n",
    "    \"\"\"\n",
    "    Start a test server and return the JupyUvi instance.\n",
    "    \n",
    "    Usage:\n",
    "        server = start_test_server(app)\n",
    "        HTMX()  # Display the app\n",
    "        \n",
    "        # Later, in another cell:\n",
    "        server.stop()\n",
    "    \"\"\"\n",
    "    return JupyUvi(app, port=port)"
   ]
  },
  {
   "cell_type": "markdown",
   "id": "d52d7f05-326c-4b6b-9fb0-5d8a98b10db7",
   "metadata": {},
   "source": [
    "## Example Usage\n",
    "\n",
    "Here's how to use the testing utilities in a notebook:"
   ]
  },
  {
   "cell_type": "code",
   "execution_count": null,
   "id": "71bfc4a7-0265-4833-b3a1-f08e8a530281",
   "metadata": {},
   "outputs": [
    {
     "data": {
      "text/html": [
       "\n",
       "<script>\n",
       "document.body.addEventListener('htmx:configRequest', (event) => {\n",
       "    if(event.detail.path.includes('://')) return;\n",
       "    htmx.config.selfRequestsOnly=false;\n",
       "    event.detail.path = `${location.protocol}//${location.hostname}:8000${event.detail.path}`;\n",
       "});\n",
       "</script>"
      ],
      "text/plain": [
       "<IPython.core.display.HTML object>"
      ]
     },
     "metadata": {},
     "output_type": "display_data"
    },
    {
     "data": {
      "text/html": [
       "<iframe src=\"http://localhost:8000/\" style=\"width: 100%; height: auto; border: none;\" onload=\"{\n",
       "        let frame = this;\n",
       "        window.addEventListener('message', function(e) {\n",
       "            if (e.source !== frame.contentWindow) return; // Only proceed if the message is from this iframe\n",
       "            if (e.data.height) frame.style.height = (e.data.height+1) + 'px';\n",
       "        }, false);\n",
       "    }\" allow=\"accelerometer; autoplay; camera; clipboard-read; clipboard-write; display-capture; encrypted-media; fullscreen; gamepad; geolocation; gyroscope; hid; identity-credentials-get; idle-detection; magnetometer; microphone; midi; payment; picture-in-picture; publickey-credentials-get; screen-wake-lock; serial; usb; web-share; xr-spatial-tracking\"></iframe> "
      ],
      "text/plain": [
       "<IPython.core.display.HTML object>"
      ]
     },
     "execution_count": null,
     "metadata": {},
     "output_type": "execute_result"
    }
   ],
   "source": [
    "#| eval: false\n",
    "# Create a test app with default settings\n",
    "app, rt = create_test_app(theme=DaisyUITheme.LIGHT)\n",
    "\n",
    "# Define a test route\n",
    "@rt\n",
    "def index():\n",
    "    return create_test_page(\n",
    "        \"Component Test Page\",\n",
    "        Div(\n",
    "            H2(\"Test Components\", cls=TailwindBuilder().text(\"2xl\").m(4, side='b').build()),\n",
    "            P(\"This is a test page for daisyUI components.\", cls=TailwindBuilder().text_semantic(DaisyUIColor.BASE_CONTENT).build()),\n",
    "            Div(\n",
    "                Button(\"Primary\", cls=\"btn btn-primary\"),\n",
    "                Button(\"Secondary\", cls=\"btn btn-secondary\"),\n",
    "                Button(\"Accent\", cls=\"btn btn-accent\"),\n",
    "                cls=TailwindBuilder().space(1, \"x\").build()\n",
    "            )\n",
    "        )\n",
    "    )\n",
    "\n",
    "# Start the server\n",
    "server = start_test_server(app)\n",
    "HTMX()"
   ]
  },
  {
   "cell_type": "code",
   "execution_count": null,
   "id": "64d1dc63-5406-41f7-a9f4-28f1da9ae4cf",
   "metadata": {},
   "outputs": [],
   "source": [
    "#| eval: false\n",
    "# Stop the server when done\n",
    "server.stop()"
   ]
  },
  {
   "cell_type": "code",
   "execution_count": null,
   "id": "1294fb50-8592-4f4e-8161-b5269c88ae69",
   "metadata": {},
   "outputs": [],
   "source": []
  },
  {
   "cell_type": "code",
   "execution_count": null,
   "id": "45bddeae-fb1f-4072-9495-753210158102",
   "metadata": {},
   "outputs": [],
   "source": []
  },
  {
   "cell_type": "markdown",
   "id": "k2ja4pap1j9",
   "metadata": {},
   "source": [
    "## Loading Custom Themes from CSS Files\n",
    "\n",
    "You can also load custom themes from CSS files using Path objects:"
   ]
  },
  {
   "cell_type": "code",
   "execution_count": null,
   "id": "czr3s6mbpoj",
   "metadata": {},
   "outputs": [
    {
     "name": "stdout",
     "output_type": "stream",
     "text": [
      "Created theme files in: /mnt/SN850X_8TB_EXT4/Projects/GitHub/cj-mills/cjm-fasthtml-daisyui/css\n"
     ]
    }
   ],
   "source": [
    "#| eval: false\n",
    "# First, let's create a second custom theme and save it to a CSS file\n",
    "from cjm_fasthtml_daisyui.core.themes import ThemeConfig, save_theme_css\n",
    "from nbdev.config import get_config\n",
    "\n",
    "# Get project directory\n",
    "cfg = get_config()\n",
    "project_dir = cfg.config_path\n",
    "css_dir = project_dir / \"css\"\n",
    "css_dir.mkdir(exist_ok=True, parents=True)\n",
    "\n",
    "# Create a theme\n",
    "custom_theme: ThemeConfig = {\n",
    "    \"name\": \"netwatch_cyberpunk\",\n",
    "    \"default\": False,\n",
    "    \"prefersdark\": True,\n",
    "    \"color_scheme\": \"dark\",\n",
    "    \"colors\": {\n",
    "        \"base_100\": \"oklch(6.72% 0.000 0)\",\n",
    "        \"base_200\": \"oklch(12% 0.005 240)\",\n",
    "        \"base_300\": \"oklch(8% 0.01 235)\",\n",
    "        \"base_content\": \"oklch(79.82% 0.136 184.06)\",\n",
    "        \"primary\": \"oklch(61.39% 0.244 12.03)\",\n",
    "        \"primary_content\": \"oklch(6.72% 0.000 0)\",\n",
    "        \"secondary\": \"oklch(46.40% 0.184 10.98)\",\n",
    "        \"secondary_content\": \"oklch(79.82% 0.136 184.06)\",\n",
    "        \"accent\": \"oklch(25.77% 0.075 12.95)\",\n",
    "        \"accent_content\": \"oklch(79.82% 0.136 184.06)\",\n",
    "        \"neutral\": \"oklch(20% 0.01 240)\",\n",
    "        \"neutral_content\": \"oklch(79.82% 0.136 184.06)\",\n",
    "        \"info\": \"oklch(79.82% 0.136 184.06)\",\n",
    "        \"info_content\": \"oklch(6.72% 0.000 0)\",\n",
    "        \"success\": \"oklch(62% 0.20 140)\",\n",
    "        \"success_content\": \"oklch(6.72% 0.000 0)\",\n",
    "        \"warning\": \"oklch(75% 0.25 60)\",\n",
    "        \"warning_content\": \"oklch(6.72% 0.000 0)\",\n",
    "        \"error\": \"oklch(61.39% 0.244 12.03)\",\n",
    "        \"error_content\": \"oklch(6.72% 0.000 0)\"\n",
    "    },\n",
    "    \"radius_selector\": \"0rem\",\n",
    "    \"radius_field\": \"0rem\",\n",
    "    \"radius_box\": \"0rem\",\n",
    "    \"size_selector\": \"0.125rem\",\n",
    "    \"size_field\": \"0.125rem\",\n",
    "    \"border\": \"1px\",\n",
    "    \"depth\": 0,\n",
    "    \"noise\": 0\n",
    "}\n",
    "\n",
    "# Save themes to CSS files\n",
    "save_theme_css(custom_theme, css_dir / f\"{custom_theme['name']}.css\")\n",
    "\n",
    "print(f\"Created theme files in: {css_dir}\")"
   ]
  },
  {
   "cell_type": "code",
   "execution_count": null,
   "id": "y6byd98j2ek",
   "metadata": {},
   "outputs": [
    {
     "data": {
      "text/html": [
       "\n",
       "<script>\n",
       "document.body.addEventListener('htmx:configRequest', (event) => {\n",
       "    if(event.detail.path.includes('://')) return;\n",
       "    htmx.config.selfRequestsOnly=false;\n",
       "    event.detail.path = `${location.protocol}//${location.hostname}:8000${event.detail.path}`;\n",
       "});\n",
       "</script>"
      ],
      "text/plain": [
       "<IPython.core.display.HTML object>"
      ]
     },
     "metadata": {},
     "output_type": "display_data"
    },
    {
     "data": {
      "text/html": [
       "<iframe src=\"http://localhost:8000/\" style=\"width: 100%; height: auto; border: none;\" onload=\"{\n",
       "        let frame = this;\n",
       "        window.addEventListener('message', function(e) {\n",
       "            if (e.source !== frame.contentWindow) return; // Only proceed if the message is from this iframe\n",
       "            if (e.data.height) frame.style.height = (e.data.height+1) + 'px';\n",
       "        }, false);\n",
       "    }\" allow=\"accelerometer; autoplay; camera; clipboard-read; clipboard-write; display-capture; encrypted-media; fullscreen; gamepad; geolocation; gyroscope; hid; identity-credentials-get; idle-detection; magnetometer; microphone; midi; payment; picture-in-picture; publickey-credentials-get; screen-wake-lock; serial; usb; web-share; xr-spatial-tracking\"></iframe> "
      ],
      "text/plain": [
       "<IPython.core.display.HTML object>"
      ]
     },
     "execution_count": null,
     "metadata": {},
     "output_type": "execute_result"
    }
   ],
   "source": [
    "#| eval: false\n",
    "# Now create an app that loads custom themes from CSS files\n",
    "custom_theme_paths=list(css_dir.glob(\"*.css\"))\n",
    "\n",
    "custom_theme_names=[theme.stem for theme in custom_theme_paths]\n",
    "custom_theme_names.sort()\n",
    "\n",
    "app, rt = create_test_app(\n",
    "    theme=custom_theme_names[0],  # Use one of our custom themes as default\n",
    "    custom_theme_paths=custom_theme_paths,\n",
    "    custom_theme_names=custom_theme_names,  # Add both custom themes to selector\n",
    "    include_theme_selector=True\n",
    ")\n",
    "\n",
    "# Create a test page showcasing both custom themes\n",
    "@rt\n",
    "def index():\n",
    "    return create_test_page(\n",
    "        \"Custom Themes from CSS Files\",\n",
    "        Div(\n",
    "            # Info card\n",
    "            Div(\n",
    "                H2(\"Loading Themes from Files\", cls=\"card-title\"),\n",
    "                P(\"This example demonstrates loading custom themes from CSS files using Path objects.\"),\n",
    "                P(\"The themes are loaded as Style elements in the page header, making them available throughout the app.\"),\n",
    "                P(\"Switch between 'test_theme' and 'dark_custom' themes using the selector above!\"),\n",
    "                cls=(\n",
    "                    TailwindBuilder()\n",
    "                    .util(\"card\")\n",
    "                    .bg_semantic(DaisyUIColor.BASE_200)\n",
    "                    .shadow(\"xl\")\n",
    "                    .p(6)\n",
    "                    .m(8, side='b')\n",
    "                    .build()\n",
    "                )\n",
    "            ),\n",
    "            \n",
    "            # Components showcase\n",
    "            H3(\"Theme Components\", cls=TailwindBuilder().text(\"xl\").font(\"bold\").m(4, side='b').build()),\n",
    "            \n",
    "            # Buttons\n",
    "            Div(\n",
    "                H4(\"Buttons\", cls=TailwindBuilder().font(\"semibold\").m(2, side='b').build()),\n",
    "                Div(\n",
    "                    Button(\"Primary\", cls=\"btn btn-primary\"),\n",
    "                    Button(\"Secondary\", cls=\"btn btn-secondary\"),\n",
    "                    Button(\"Accent\", cls=\"btn btn-accent\"),\n",
    "                    Button(\"Neutral\", cls=\"btn btn-neutral\"),\n",
    "                    cls=TailwindBuilder().space(2, \"x\").build()\n",
    "                ),\n",
    "                cls=TailwindBuilder().m(6, side='b').build()\n",
    "            ),\n",
    "            \n",
    "            # Cards\n",
    "            Div(\n",
    "                H4(\"Cards\", cls=TailwindBuilder().font(\"semibold\").m(2, side='b').build()),\n",
    "                Div(\n",
    "                    Div(\n",
    "                        H3(\"Base 100 Card\", cls=\"card-title\"),\n",
    "                        P(\"This card uses the base-100 background color\"),\n",
    "                        cls=(\n",
    "                            TailwindBuilder()\n",
    "                            .util(\"card\")\n",
    "                            .bg_semantic(DaisyUIColor.BASE_100)\n",
    "                            .shadow()\n",
    "                            .p(4)\n",
    "                            .build()\n",
    "                        )\n",
    "                    ),\n",
    "                    Div(\n",
    "                        H3(\"Base 200 Card\", cls=\"card-title\"),\n",
    "                        P(\"This card uses the base-200 background color\"),\n",
    "                        cls=(\n",
    "                            TailwindBuilder()\n",
    "                            .util(\"card\")\n",
    "                            .bg_semantic(DaisyUIColor.BASE_200)\n",
    "                            .shadow()\n",
    "                            .p(4)\n",
    "                            .build()\n",
    "                        )\n",
    "                    ),\n",
    "                    Div(\n",
    "                        H3(\"Base 300 Card\", cls=\"card-title\"),\n",
    "                        P(\"This card uses the base-300 background color\"),\n",
    "                        cls=(\n",
    "                            TailwindBuilder()\n",
    "                            .util(\"card\")\n",
    "                            .bg_semantic(DaisyUIColor.BASE_300)\n",
    "                            .shadow()\n",
    "                            .p(4)\n",
    "                            .build()\n",
    "                        )\n",
    "                    ),\n",
    "                    cls=TailwindBuilder().grid(cols=3).gap(4).build()\n",
    "                ),\n",
    "                cls=TailwindBuilder().m(6, side='b').build()\n",
    "            ),\n",
    "            \n",
    "            # Alerts\n",
    "            Div(\n",
    "                H4(\"Alerts\", cls=TailwindBuilder().font(\"semibold\").m(2, side='b').build()),\n",
    "                Div(\n",
    "                    Div(\"Info alert message\", cls=\"alert alert-info\"),\n",
    "                    Div(\"Success alert message\", cls=\"alert alert-success\"),\n",
    "                    Div(\"Warning alert message\", cls=\"alert alert-warning\"),\n",
    "                    Div(\"Error alert message\", cls=\"alert alert-error\"),\n",
    "                    cls=TailwindBuilder().space(2, \"y\").build()\n",
    "                )\n",
    "            )\n",
    "        ),\n",
    "        custom_theme_names=custom_theme_names\n",
    "    )\n",
    "\n",
    "# Start the server\n",
    "server = start_test_server(app, port=8000)\n",
    "HTMX()"
   ]
  },
  {
   "cell_type": "code",
   "execution_count": null,
   "id": "urb6dkbv5fp",
   "metadata": {},
   "outputs": [],
   "source": [
    "#| eval: false\n",
    "# Stop the server when done\n",
    "server.stop()"
   ]
  },
  {
   "cell_type": "markdown",
   "id": "zjd76mxa74",
   "metadata": {},
   "source": [
    "## Custom JavaScript Support\n",
    "\n",
    "You can include custom JavaScript files and inline scripts in your test app:"
   ]
  },
  {
   "cell_type": "code",
   "execution_count": null,
   "id": "qkv6d7s47cc",
   "metadata": {},
   "outputs": [
    {
     "data": {
      "text/html": [
       "\n",
       "<script>\n",
       "document.body.addEventListener('htmx:configRequest', (event) => {\n",
       "    if(event.detail.path.includes('://')) return;\n",
       "    htmx.config.selfRequestsOnly=false;\n",
       "    event.detail.path = `${location.protocol}//${location.hostname}:8000${event.detail.path}`;\n",
       "});\n",
       "</script>"
      ],
      "text/plain": [
       "<IPython.core.display.HTML object>"
      ]
     },
     "metadata": {},
     "output_type": "display_data"
    },
    {
     "data": {
      "text/html": [
       "<iframe src=\"http://localhost:8000/\" style=\"width: 100%; height: auto; border: none;\" onload=\"{\n",
       "        let frame = this;\n",
       "        window.addEventListener('message', function(e) {\n",
       "            if (e.source !== frame.contentWindow) return; // Only proceed if the message is from this iframe\n",
       "            if (e.data.height) frame.style.height = (e.data.height+1) + 'px';\n",
       "        }, false);\n",
       "    }\" allow=\"accelerometer; autoplay; camera; clipboard-read; clipboard-write; display-capture; encrypted-media; fullscreen; gamepad; geolocation; gyroscope; hid; identity-credentials-get; idle-detection; magnetometer; microphone; midi; payment; picture-in-picture; publickey-credentials-get; screen-wake-lock; serial; usb; web-share; xr-spatial-tracking\"></iframe> "
      ],
      "text/plain": [
       "<IPython.core.display.HTML object>"
      ]
     },
     "execution_count": null,
     "metadata": {},
     "output_type": "execute_result"
    }
   ],
   "source": [
    "#| eval: false\n",
    "# Create a test app with custom JavaScript\n",
    "from cjm_fasthtml_daisyui.core.resources import create_js_script\n",
    "\n",
    "# Create inline custom JavaScript that adds interactivity\n",
    "custom_js_inline = Script(\"\"\"\n",
    "// Custom JavaScript to add click counter functionality\n",
    "document.addEventListener('DOMContentLoaded', function() {\n",
    "    let clickCount = 0;\n",
    "    const counterElement = document.getElementById('click-counter');\n",
    "    const resetButton = document.getElementById('reset-counter');\n",
    "    \n",
    "    // Add click listener to all buttons with 'count-click' class\n",
    "    document.querySelectorAll('.count-click').forEach(button => {\n",
    "        button.addEventListener('click', function() {\n",
    "            clickCount++;\n",
    "            if (counterElement) {\n",
    "                counterElement.textContent = clickCount;\n",
    "                \n",
    "                // Add visual feedback\n",
    "                counterElement.classList.add('text-primary', 'font-bold');\n",
    "                setTimeout(() => {\n",
    "                    counterElement.classList.remove('text-primary');\n",
    "                }, 300);\n",
    "            }\n",
    "        });\n",
    "    });\n",
    "    \n",
    "    // Reset counter functionality\n",
    "    if (resetButton) {\n",
    "        resetButton.addEventListener('click', function() {\n",
    "            clickCount = 0;\n",
    "            if (counterElement) {\n",
    "                counterElement.textContent = clickCount;\n",
    "            }\n",
    "        });\n",
    "    }\n",
    "    \n",
    "    // Log to console to verify script is loaded\n",
    "    console.log('Custom JavaScript loaded successfully!');\n",
    "});\n",
    "\"\"\")\n",
    "\n",
    "# Create a custom external JavaScript reference (example using a CDN library)\n",
    "# In this case, we'll use confetti for visual effects\n",
    "confetti_js = create_js_script(\n",
    "    src=\"https://cdn.jsdelivr.net/npm/canvas-confetti@1.9.2/dist/confetti.browser.min.js\",\n",
    "    defer=True\n",
    ")\n",
    "\n",
    "# Create app with custom JavaScript\n",
    "app, rt = create_test_app(\n",
    "    theme=DaisyUITheme.CUPCAKE,\n",
    "    custom_js=[confetti_js, custom_js_inline],\n",
    "    include_theme_selector=True\n",
    ")\n",
    "\n",
    "# Create a test page that uses the custom JavaScript\n",
    "@rt\n",
    "def index():\n",
    "    return create_test_page(\n",
    "        \"Custom JavaScript Test\",\n",
    "        Div(\n",
    "            # Info card\n",
    "            Div(\n",
    "                H2(\"JavaScript Integration\", cls=\"card-title\"),\n",
    "                P(\"This example demonstrates custom JavaScript support in test apps.\"),\n",
    "                P(\"Click the buttons below to see the click counter in action!\"),\n",
    "                Div(\n",
    "                    \"Total clicks: \",\n",
    "                    Span(\"0\", id=\"click-counter\", cls=\"text-2xl font-bold\"),\n",
    "                    cls=TailwindBuilder().text(\"lg\").m(4, side='t').build()\n",
    "                ),\n",
    "                cls=(\n",
    "                    TailwindBuilder()\n",
    "                    .util(\"card\")\n",
    "                    .bg_semantic(DaisyUIColor.BASE_200)\n",
    "                    .shadow(\"xl\")\n",
    "                    .p(6)\n",
    "                    .m(8, side='b')\n",
    "                    .build()\n",
    "                )\n",
    "            ),\n",
    "            \n",
    "            # Interactive buttons\n",
    "            Div(\n",
    "                H3(\"Click Counter Demo\", cls=TailwindBuilder().text(\"xl\").font(\"bold\").m(4, side='b').build()),\n",
    "                Div(\n",
    "                    Button(\"Click Me!\", cls=\"btn btn-primary count-click\"),\n",
    "                    Button(\"Me Too!\", cls=\"btn btn-secondary count-click\"),\n",
    "                    Button(\"And Me!\", cls=\"btn btn-accent count-click\"),\n",
    "                    Button(\"Reset Counter\", id=\"reset-counter\", cls=\"btn btn-neutral\"),\n",
    "                    cls=TailwindBuilder().space(2, \"x\").build()\n",
    "                ),\n",
    "                cls=TailwindBuilder().m(6, side='b').build()\n",
    "            ),\n",
    "            \n",
    "            # Confetti button\n",
    "            Div(\n",
    "                H3(\"Visual Effects Demo\", cls=TailwindBuilder().text(\"xl\").font(\"bold\").m(4, side='b').build()),\n",
    "                P(\"Using an external JavaScript library (canvas-confetti):\"),\n",
    "                Button(\n",
    "                    \"🎉 Celebrate!\",\n",
    "                    cls=\"btn btn-lg btn-primary\",\n",
    "                    onclick=\"confetti({particleCount: 100, spread: 70, origin: { y: 0.6 }})\"\n",
    "                ),\n",
    "                cls=TailwindBuilder().m(6, side='b').build()\n",
    "            ),\n",
    "            \n",
    "            # Console message\n",
    "            Div(\n",
    "                P(\"💡 Open your browser's developer console to see the custom JavaScript log message.\"),\n",
    "                cls=(\n",
    "                    TailwindBuilder()\n",
    "                    .util(\"alert\", \"alert-info\")\n",
    "                    .m(4, side='t')\n",
    "                    .build()\n",
    "                )\n",
    "            )\n",
    "        )\n",
    "    )\n",
    "\n",
    "# Start the server\n",
    "server = start_test_server(app, port=8000)\n",
    "HTMX()"
   ]
  },
  {
   "cell_type": "code",
   "execution_count": null,
   "id": "8o6wrph0qca",
   "metadata": {},
   "outputs": [],
   "source": [
    "#| eval: false\n",
    "# Stop the server when done\n",
    "server.stop()"
   ]
  },
  {
   "cell_type": "markdown",
   "id": "uvon34bm48a",
   "metadata": {},
   "source": [
    "## Debug Mode and String Theme Names\n",
    "\n",
    "You can disable debug mode and use theme names as strings instead of enum values:"
   ]
  },
  {
   "cell_type": "code",
   "execution_count": null,
   "id": "xmu7ssiamyh",
   "metadata": {},
   "outputs": [
    {
     "data": {
      "text/html": [
       "\n",
       "<script>\n",
       "document.body.addEventListener('htmx:configRequest', (event) => {\n",
       "    if(event.detail.path.includes('://')) return;\n",
       "    htmx.config.selfRequestsOnly=false;\n",
       "    event.detail.path = `${location.protocol}//${location.hostname}:8003${event.detail.path}`;\n",
       "});\n",
       "</script>"
      ],
      "text/plain": [
       "<IPython.core.display.HTML object>"
      ]
     },
     "metadata": {},
     "output_type": "display_data"
    },
    {
     "data": {
      "text/html": [
       "<iframe src=\"http://localhost:8003/\" style=\"width: 100%; height: auto; border: none;\" onload=\"{\n",
       "        let frame = this;\n",
       "        window.addEventListener('message', function(e) {\n",
       "            if (e.source !== frame.contentWindow) return; // Only proceed if the message is from this iframe\n",
       "            if (e.data.height) frame.style.height = (e.data.height+1) + 'px';\n",
       "        }, false);\n",
       "    }\" allow=\"accelerometer; autoplay; camera; clipboard-read; clipboard-write; display-capture; encrypted-media; fullscreen; gamepad; geolocation; gyroscope; hid; identity-credentials-get; idle-detection; magnetometer; microphone; midi; payment; picture-in-picture; publickey-credentials-get; screen-wake-lock; serial; usb; web-share; xr-spatial-tracking\"></iframe> "
      ],
      "text/plain": [
       "<IPython.core.display.HTML object>"
      ]
     },
     "execution_count": null,
     "metadata": {},
     "output_type": "execute_result"
    }
   ],
   "source": [
    "#| eval: false\n",
    "# Create app with debug=False and string theme name\n",
    "app, rt = create_test_app(\n",
    "    theme=\"cyberpunk\",  # Using string instead of DaisyUITheme.CYBERPUNK\n",
    "    debug=False,  # Disable debug mode for production-like behavior\n",
    "    include_theme_selector=True\n",
    ")\n",
    "\n",
    "# Create a simple test page to verify the configuration\n",
    "@rt\n",
    "def index():\n",
    "    return create_test_page(\n",
    "        \"Production Mode Test\",\n",
    "        Div(\n",
    "            # Info card\n",
    "            Div(\n",
    "                H2(\"Testing Production Settings\", cls=\"card-title\"),\n",
    "                P(\"This app demonstrates:\"),\n",
    "                Ul(\n",
    "                    Li(\"✓ Debug mode disabled (debug=False)\"),\n",
    "                    Li(\"✓ Theme specified as string ('cyberpunk') instead of enum\"),\n",
    "                    Li(\"✓ No debug error pages or hot reloading\"),\n",
    "                    cls=TailwindBuilder().util(\"list-disc\").m(6, side='l').space(1, \"y\").build()\n",
    "                ),\n",
    "                cls=(\n",
    "                    TailwindBuilder()\n",
    "                    .util(\"card\")\n",
    "                    .bg_semantic(DaisyUIColor.BASE_200)\n",
    "                    .shadow(\"xl\")\n",
    "                    .p(6)\n",
    "                    .m(8, side='b')\n",
    "                    .build()\n",
    "                )\n",
    "            ),\n",
    "            \n",
    "            # Visual test of cyberpunk theme\n",
    "            Div(\n",
    "                H3(\"Cyberpunk Theme Elements\", cls=TailwindBuilder().text(\"xl\").font(\"bold\").m(4, side='b').build()),\n",
    "                P(\"The cyberpunk theme features sharp edges and high contrast:\"),\n",
    "                Div(\n",
    "                    Button(\"Primary\", cls=\"btn btn-primary\"),\n",
    "                    Button(\"Secondary\", cls=\"btn btn-secondary\"),\n",
    "                    Button(\"Accent\", cls=\"btn btn-accent\"),\n",
    "                    Input(type=\"text\", placeholder=\"Cyberpunk input\", cls=\"input input-bordered\"),\n",
    "                    cls=TailwindBuilder().space(2, \"x\").items(\"center\").flex().build()\n",
    "                )\n",
    "            )\n",
    "        )\n",
    "    )\n",
    "\n",
    "# Start the server\n",
    "server = start_test_server(app, port=8003)\n",
    "HTMX(port=8003)"
   ]
  },
  {
   "cell_type": "code",
   "execution_count": null,
   "id": "d40o4tr9toi",
   "metadata": {},
   "outputs": [],
   "source": [
    "#| eval: false\n",
    "# Stop the server when done\n",
    "server.stop()"
   ]
  },
  {
   "cell_type": "markdown",
   "id": "5wjj01ueuv2",
   "metadata": {},
   "source": [
    "## Full-Width Layout (No Container)\n",
    "\n",
    "Use `container=False` to create full-width layouts without the container constraint:"
   ]
  },
  {
   "cell_type": "code",
   "execution_count": null,
   "id": "gdf9t824e2t",
   "metadata": {},
   "outputs": [
    {
     "data": {
      "text/html": [
       "\n",
       "<script>\n",
       "document.body.addEventListener('htmx:configRequest', (event) => {\n",
       "    if(event.detail.path.includes('://')) return;\n",
       "    htmx.config.selfRequestsOnly=false;\n",
       "    event.detail.path = `${location.protocol}//${location.hostname}:8004${event.detail.path}`;\n",
       "});\n",
       "</script>"
      ],
      "text/plain": [
       "<IPython.core.display.HTML object>"
      ]
     },
     "metadata": {},
     "output_type": "display_data"
    },
    {
     "data": {
      "text/html": [
       "<iframe src=\"http://localhost:8004/\" style=\"width: 100%; height: auto; border: none;\" onload=\"{\n",
       "        let frame = this;\n",
       "        window.addEventListener('message', function(e) {\n",
       "            if (e.source !== frame.contentWindow) return; // Only proceed if the message is from this iframe\n",
       "            if (e.data.height) frame.style.height = (e.data.height+1) + 'px';\n",
       "        }, false);\n",
       "    }\" allow=\"accelerometer; autoplay; camera; clipboard-read; clipboard-write; display-capture; encrypted-media; fullscreen; gamepad; geolocation; gyroscope; hid; identity-credentials-get; idle-detection; magnetometer; microphone; midi; payment; picture-in-picture; publickey-credentials-get; screen-wake-lock; serial; usb; web-share; xr-spatial-tracking\"></iframe> "
      ],
      "text/plain": [
       "<IPython.core.display.HTML object>"
      ]
     },
     "execution_count": null,
     "metadata": {},
     "output_type": "execute_result"
    }
   ],
   "source": [
    "#| eval: false\n",
    "# Create app with a full-width layout example\n",
    "app, rt = create_test_app(theme=DaisyUITheme.BUSINESS)\n",
    "\n",
    "# Create routes to demonstrate both container and non-container layouts\n",
    "@rt\n",
    "def index():\n",
    "    return create_test_page(\n",
    "        \"Full-Width Layout Demo\",\n",
    "        Div(\n",
    "            # Hero section that spans full width\n",
    "            Div(\n",
    "                enable_semantic_gradients(),  # Enable gradient support for semantic colors\n",
    "                Div(\n",
    "                    H2(\"Full-Width Hero Section\", cls=\"text-5xl font-bold text-white\"),\n",
    "                    P(\"This layout uses container=False for edge-to-edge content\", cls=\"text-xl text-white/80 mt-4\"),\n",
    "                    cls=TailwindBuilder().text(\"center\").p(20, side='y').p(4, side='x').build()\n",
    "                ),\n",
    "                cls=(\n",
    "                    TailwindBuilder()\n",
    "                    .util(\"bg-gradient-to-r\", \"from-primary\", \"to-secondary\")\n",
    "                    .m(4, side='b')\n",
    "                    .build()\n",
    "                )\n",
    "            ),\n",
    "            \n",
    "            # Content grid that spans full width\n",
    "            Div(\n",
    "                # Stats across full width\n",
    "                Div(\n",
    "                    Div(\"100%\", H3(\"Width\", cls=\"text-sm opacity-60\"), cls=TailwindBuilder().util(\"stat-value\").text_semantic(DaisyUIColor.PRIMARY).build()),\n",
    "                    cls=\"stat place-items-center\"\n",
    "                ),\n",
    "                Div(\n",
    "                    Div(\"Edge\", H3(\"To Edge\", cls=\"text-sm opacity-60\"), cls=TailwindBuilder().util(\"stat-value\").text_semantic(DaisyUIColor.SECONDARY).build()),\n",
    "                    cls=\"stat place-items-center\"\n",
    "                ),\n",
    "                Div(\n",
    "                    Div(\"No\", H3(\"Container\", cls=\"text-sm opacity-60\"), cls=TailwindBuilder().util(\"stat-value\").text_semantic(DaisyUIColor.ACCENT).build()),\n",
    "                    cls=\"stat place-items-center\"\n",
    "                ),\n",
    "                cls=(\n",
    "                    TailwindBuilder()\n",
    "                    .util(\"stats\", \"shadow\")\n",
    "                    .bg_semantic(DaisyUIColor.BASE_200)\n",
    "                    .w(\"full\")\n",
    "                    .build()\n",
    "                )\n",
    "            ),\n",
    "            \n",
    "            # Feature cards in a full-width grid\n",
    "            Div(\n",
    "                H3(\"Full-Width Grid Layout\", cls=TailwindBuilder().text(\"2xl\").font(\"bold\").m(8, side='b').p(4, side='x').build()),\n",
    "                Div(\n",
    "                    *[Div(\n",
    "                        H4(f\"Feature {i+1}\", cls=\"card-title\"),\n",
    "                        P(\"This card is part of a full-width responsive grid layout\"),\n",
    "                        cls=(\n",
    "                            TailwindBuilder()\n",
    "                            .util(\"card\", \"shadow-xl\")\n",
    "                            .bg_semantic(DaisyUIColor.BASE_100)\n",
    "                            .p(6)\n",
    "                            .build()\n",
    "                        )\n",
    "                    ) for i in range(6)],\n",
    "                    cls=(\n",
    "                        TailwindBuilder()\n",
    "                        .grid()\n",
    "                        .grid(cols=1)\n",
    "                        .md().grid(cols=2)\n",
    "                        .lg().grid(cols=3)\n",
    "                        .gap(4)\n",
    "                        .p(4, side='x')\n",
    "                        .build()\n",
    "                    )\n",
    "                )\n",
    "            )\n",
    "        ),\n",
    "        container=False,  # Disable container constraint\n",
    "        include_theme_selector=True\n",
    "    )\n",
    "\n",
    "# Comparison route with container=True (default)\n",
    "@rt('/with-container')\n",
    "def with_container():\n",
    "    return create_test_page(\n",
    "        \"Container Layout Demo\",\n",
    "        Div(\n",
    "            Div(\n",
    "                H2(\"Container-Constrained Layout\", cls=\"text-3xl font-bold mb-4\"),\n",
    "                P(\"This page uses the default container=True setting, which centers content and limits max width.\"),\n",
    "                Div(\n",
    "                    \"The container utility applies responsive max-widths and centers the content horizontally.\",\n",
    "                    cls=\"alert alert-info mt-4\"\n",
    "                ),\n",
    "                cls=\"mb-8\"\n",
    "            ),\n",
    "            \n",
    "            # Same stats component but within container\n",
    "            Div(\n",
    "                Div(\"Limited\", H3(\"Width\", cls=\"text-sm opacity-60\"), cls=TailwindBuilder().util(\"stat-value\").text_semantic(DaisyUIColor.PRIMARY).build()),\n",
    "                cls=\"stat place-items-center\"\n",
    "            ),\n",
    "            Div(\n",
    "                Div(\"Centered\", H3(\"Content\", cls=\"text-sm opacity-60\"), cls=TailwindBuilder().util(\"stat-value\").text_semantic(DaisyUIColor.SECONDARY).build()),\n",
    "                cls=\"stat place-items-center\"\n",
    "            ),\n",
    "            Div(\n",
    "                Div(\"Yes\", H3(\"Container\", cls=\"text-sm opacity-60\"), cls=TailwindBuilder().util(\"stat-value\").text_semantic(DaisyUIColor.ACCENT).build()),\n",
    "                cls=\"stat place-items-center\"\n",
    "            ),\n",
    "            cls=TailwindBuilder().util(\"stats\", \"shadow\").bg_semantic(DaisyUIColor.BASE_200).build()\n",
    "        ),\n",
    "        container=True  # This is the default, shown explicitly for clarity\n",
    "    )\n",
    "\n",
    "# Start the server\n",
    "server = start_test_server(app, port=8004)\n",
    "HTMX(port=8004)"
   ]
  },
  {
   "cell_type": "code",
   "execution_count": null,
   "id": "3czfqrz3y7h",
   "metadata": {},
   "outputs": [],
   "source": [
    "#| eval: false\n",
    "# Stop the server when done\n",
    "server.stop()"
   ]
  },
  {
   "cell_type": "code",
   "execution_count": null,
   "id": "ba80237a-9945-42f1-91c9-dda88b6093b9",
   "metadata": {},
   "outputs": [],
   "source": []
  },
  {
   "cell_type": "code",
   "execution_count": null,
   "id": "18341f29-770b-4689-b8d2-7290ef5e967b",
   "metadata": {},
   "outputs": [],
   "source": []
  },
  {
   "cell_type": "code",
   "execution_count": null,
   "id": "291eb564-8cac-4763-bc6b-791aea7f2a12",
   "metadata": {},
   "outputs": [
    {
     "data": {
      "text/plain": [
       "'bg-gradient-to-r from-primary mb-4 to-secondary'"
      ]
     },
     "execution_count": null,
     "metadata": {},
     "output_type": "execute_result"
    }
   ],
   "source": [
    "TailwindBuilder().util(\"bg-gradient-to-r\", f\"from-{DaisyUIColor.PRIMARY.value}\", f\"to-{DaisyUIColor.SECONDARY.value}\").m(4, side='b').build()"
   ]
  },
  {
   "cell_type": "code",
   "execution_count": null,
   "id": "0c08f4ab-1234-467e-a61c-26495fe9b1a6",
   "metadata": {},
   "outputs": [
    {
     "data": {
      "text/plain": [
       "'primary'"
      ]
     },
     "execution_count": null,
     "metadata": {},
     "output_type": "execute_result"
    }
   ],
   "source": [
    "DaisyUIColor.PRIMARY.value"
   ]
  },
  {
   "cell_type": "code",
   "execution_count": null,
   "id": "ea96d130-6978-4b85-8ef7-868d2ca63510",
   "metadata": {},
   "outputs": [],
   "source": []
  },
  {
   "cell_type": "code",
   "execution_count": null,
   "id": "b1a9392f-5a0f-4e65-ba66-0770070bbda9",
   "metadata": {},
   "outputs": [],
   "source": []
  },
  {
   "cell_type": "code",
   "execution_count": null,
   "id": "801969b9-79f8-4f82-a9ff-a107347acf11",
   "metadata": {},
   "outputs": [],
   "source": []
  },
  {
   "cell_type": "code",
   "execution_count": null,
   "id": "b39f06b4-17b0-41f3-825e-09ec7abe7c23",
   "metadata": {},
   "outputs": [],
   "source": []
  },
  {
   "cell_type": "code",
   "execution_count": null,
   "id": "258536c5-3377-492b-b40b-3f04a771d9ca",
   "metadata": {},
   "outputs": [],
   "source": []
  },
  {
   "cell_type": "code",
   "execution_count": null,
   "id": "701be50e-313e-4d36-82c5-c95aeab67110",
   "metadata": {},
   "outputs": [],
   "source": []
  },
  {
   "cell_type": "code",
   "execution_count": null,
   "id": "5cdf1665-3101-433e-b58d-3df1c14d5ddf",
   "metadata": {},
   "outputs": [],
   "source": []
  },
  {
   "cell_type": "code",
   "execution_count": null,
   "id": "e467f86d-82a9-497f-8116-f4753da5ac48",
   "metadata": {},
   "outputs": [],
   "source": []
  },
  {
   "cell_type": "code",
   "execution_count": null,
   "id": "ffd4256b-8d7f-4266-be29-b0f9b7adde74",
   "metadata": {},
   "outputs": [],
   "source": []
  },
  {
   "cell_type": "code",
   "execution_count": null,
   "id": "4e7b951b-13eb-4fa2-8e90-5e0510e35c01",
   "metadata": {},
   "outputs": [],
   "source": []
  },
  {
   "cell_type": "code",
   "execution_count": null,
   "id": "92fec0c7-1670-48dd-9b8d-524d3ae02d70",
   "metadata": {},
   "outputs": [],
   "source": []
  },
  {
   "cell_type": "code",
   "execution_count": null,
   "id": "6dcf7a3f-1683-4ab0-b5d6-574a70171224",
   "metadata": {},
   "outputs": [],
   "source": []
  },
  {
   "cell_type": "code",
   "execution_count": null,
   "id": "6db0a149-6008-46b1-b112-9a850122f9df",
   "metadata": {},
   "outputs": [],
   "source": []
  },
  {
   "cell_type": "code",
   "execution_count": null,
   "id": "c6bdf032-7199-4a18-a918-34525e08346b",
   "metadata": {},
   "outputs": [],
   "source": []
  },
  {
   "cell_type": "code",
   "execution_count": null,
   "id": "fd33ba52-5964-4a73-a75c-54e91a38aa44",
   "metadata": {},
   "outputs": [],
   "source": []
  },
  {
   "cell_type": "code",
   "execution_count": null,
   "id": "4551d8b8-b45a-4b7b-ad0e-2b6b099e932c",
   "metadata": {},
   "outputs": [],
   "source": []
  },
  {
   "cell_type": "code",
   "execution_count": null,
   "id": "828bf3f5-4a26-4bfc-84be-415b3bbb6671",
   "metadata": {},
   "outputs": [],
   "source": []
  },
  {
   "cell_type": "code",
   "execution_count": null,
   "id": "62348bc2-5249-4415-8aac-61f6c5cafeef",
   "metadata": {},
   "outputs": [],
   "source": []
  },
  {
   "cell_type": "code",
   "execution_count": null,
   "id": "0524a226-a9d0-4f79-a278-35e87e3a9167",
   "metadata": {},
   "outputs": [],
   "source": []
  },
  {
   "cell_type": "code",
   "execution_count": null,
   "id": "77798551-41dd-4ac1-bed3-0d00f84fa08f",
   "metadata": {},
   "outputs": [],
   "source": []
  },
  {
   "cell_type": "code",
   "execution_count": null,
   "id": "d59cc1af-3042-42bc-8f58-4549274b936f",
   "metadata": {},
   "outputs": [],
   "source": []
  },
  {
   "cell_type": "code",
   "execution_count": null,
   "id": "15649921-c92b-467b-9eab-5ecdf77870c6",
   "metadata": {},
   "outputs": [],
   "source": []
  },
  {
   "cell_type": "code",
   "execution_count": null,
   "id": "edffc764-ad82-407b-a5a4-88e4fe6e8ea1",
   "metadata": {},
   "outputs": [],
   "source": []
  },
  {
   "cell_type": "code",
   "execution_count": null,
   "id": "beaf881c-acef-4d1d-b61d-09f09f4d6e9c",
   "metadata": {},
   "outputs": [],
   "source": []
  },
  {
   "cell_type": "code",
   "execution_count": null,
   "id": "5dd83505-e0fb-4c98-869e-248af5e64523",
   "metadata": {},
   "outputs": [],
   "source": []
  },
  {
   "cell_type": "markdown",
   "id": "27d8bf0f-5696-4a97-b1cb-b67104ee7495",
   "metadata": {},
   "source": [
    "## Export"
   ]
  },
  {
   "cell_type": "code",
   "execution_count": null,
   "id": "92c8cf9b-33d8-4537-bc8b-fd02f7e60e5d",
   "metadata": {},
   "outputs": [],
   "source": [
    "#| hide\n",
    "import nbdev; nbdev.nbdev_export()"
   ]
  }
 ],
 "metadata": {
  "kernelspec": {
   "display_name": "python3",
   "language": "python",
   "name": "python3"
  }
 },
 "nbformat": 4,
 "nbformat_minor": 5
}
