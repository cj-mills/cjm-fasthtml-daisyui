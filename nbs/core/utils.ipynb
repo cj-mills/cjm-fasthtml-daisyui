{
 "cells": [
  {
   "cell_type": "markdown",
   "id": "8f693de7",
   "metadata": {},
   "source": [
    "# Utilities\n",
    "\n",
    "> Shared utility functions for daisyUI components"
   ]
  },
  {
   "cell_type": "code",
   "execution_count": null,
   "id": "e7863ef8",
   "metadata": {},
   "outputs": [],
   "source": [
    "#| default_exp core.utils"
   ]
  },
  {
   "cell_type": "code",
   "execution_count": null,
   "id": "0bec328a",
   "metadata": {},
   "outputs": [],
   "source": [
    "#| hide\n",
    "from nbdev.showdoc import *"
   ]
  },
  {
   "cell_type": "code",
   "execution_count": null,
   "id": "4c7ea06f",
   "metadata": {},
   "outputs": [],
   "source": [
    "#| export\n",
    "from typing import Any\n",
    "from fasthtml.common import *"
   ]
  },
  {
   "cell_type": "markdown",
   "id": "c670442f",
   "metadata": {},
   "source": [
    "## HTML Element Creation\n",
    "\n",
    "Shared utility for creating FastHTML elements from tag names."
   ]
  },
  {
   "cell_type": "code",
   "execution_count": null,
   "id": "ba91598f",
   "metadata": {},
   "outputs": [],
   "source": [
    "#| export\n",
    "def create_element(\n",
    "    tag: str,  # HTML tag name (e.g., 'div', 'span', 'button')\n",
    "    *children,  # Child elements\n",
    "    **attrs  # HTML attributes\n",
    ") -> FT:  # FastHTML element\n",
    "    \"\"\"Create a FastHTML element from a tag name.\n",
    "    \n",
    "    This function provides a centralized way to create HTML elements,\n",
    "    avoiding duplication across modules.\n",
    "    \n",
    "    Args:\n",
    "        tag: The HTML tag name (case-insensitive)\n",
    "        *children: Child elements to include\n",
    "        **attrs: HTML attributes for the element\n",
    "        \n",
    "    Returns:\n",
    "        A FastHTML element of the specified type\n",
    "        \n",
    "    Examples:\n",
    "        >>> create_element('div', 'Hello', cls='container')\n",
    "        >>> create_element('button', 'Click me', type='submit')\n",
    "    \"\"\"\n",
    "    tag_lower = tag.lower()\n",
    "    \n",
    "    # Common HTML elements mapping\n",
    "    element_map = {\n",
    "        # Container elements\n",
    "        'div': Div,\n",
    "        'span': Span,\n",
    "        'section': Section,\n",
    "        'article': Article,\n",
    "        'nav': Nav,\n",
    "        'header': Header,\n",
    "        'footer': Footer,\n",
    "        'main': Main,\n",
    "        'aside': Aside,\n",
    "        'figure': Figure,\n",
    "        'figcaption': Figcaption,\n",
    "        \n",
    "        # Text elements\n",
    "        'p': P,\n",
    "        'h1': H1,\n",
    "        'h2': H2,\n",
    "        'h3': H3,\n",
    "        'h4': H4,\n",
    "        'h5': H5,\n",
    "        'h6': H6,\n",
    "        'strong': Strong,\n",
    "        'em': Em,\n",
    "        'small': Small,\n",
    "        'mark': Mark,\n",
    "        'del': Del,\n",
    "        'ins': Ins,\n",
    "        'sub': Sub,\n",
    "        'sup': Sup,\n",
    "        'code': Code,\n",
    "        'pre': Pre,\n",
    "        'blockquote': Blockquote,\n",
    "        \n",
    "        # List elements\n",
    "        'ul': Ul,\n",
    "        'ol': Ol,\n",
    "        'li': Li,\n",
    "        'dl': Dl,\n",
    "        'dt': Dt,\n",
    "        'dd': Dd,\n",
    "        \n",
    "        # Form elements\n",
    "        'form': Form,\n",
    "        'input': Input,\n",
    "        'button': Button,\n",
    "        'select': Select,\n",
    "        'option': Option,\n",
    "        'textarea': Textarea,\n",
    "        'label': Label,\n",
    "        'fieldset': Fieldset,\n",
    "        'legend': Legend,\n",
    "        'datalist': Datalist,\n",
    "        'output': Output,\n",
    "        'progress': Progress,\n",
    "        'meter': Meter,\n",
    "        \n",
    "        # Table elements\n",
    "        'table': Table,\n",
    "        'thead': Thead,\n",
    "        'tbody': Tbody,\n",
    "        'tfoot': Tfoot,\n",
    "        'tr': Tr,\n",
    "        'th': Th,\n",
    "        'td': Td,\n",
    "        'caption': Caption,\n",
    "        'colgroup': Colgroup,\n",
    "        'col': Col,\n",
    "        \n",
    "        # Media elements\n",
    "        'img': Img,\n",
    "        'video': Video,\n",
    "        'audio': Audio,\n",
    "        'source': Source,\n",
    "        'track': Track,\n",
    "        'embed': Embed,\n",
    "        'object': Object,\n",
    "        'param': Param,\n",
    "        'picture': Picture,\n",
    "        \n",
    "        # Interactive elements\n",
    "        'a': A,\n",
    "        'details': Details,\n",
    "        'summary': Summary,\n",
    "        'dialog': Dialog,\n",
    "        'menu': Menu,\n",
    "        \n",
    "        # Other elements\n",
    "        'hr': Hr,\n",
    "        'br': Br,\n",
    "        'wbr': Wbr,\n",
    "        'canvas': Canvas,\n",
    "        'iframe': Iframe,\n",
    "        'script': Script,\n",
    "        'noscript': Noscript,\n",
    "        'style': Style,\n",
    "        'link': Link,\n",
    "        'meta': Meta,\n",
    "        'base': Base,\n",
    "        'title': Title,\n",
    "    }\n",
    "    \n",
    "    # Get the element constructor\n",
    "    element_constructor = element_map.get(tag_lower)\n",
    "    \n",
    "    if element_constructor:\n",
    "        return element_constructor(*children, **attrs)\n",
    "    else:\n",
    "        # For any tag not in the map, try to use eval as a fallback\n",
    "        # This maintains backward compatibility but should be used cautiously\n",
    "        try:\n",
    "            element_constructor = eval(tag.title())\n",
    "            return element_constructor(*children, **attrs)\n",
    "        except (NameError, AttributeError):\n",
    "            # If the tag doesn't exist in FastHTML, create a generic element\n",
    "            # This could be useful for custom elements or future HTML tags\n",
    "            raise ValueError(f\"Unknown HTML tag: {tag}\")"
   ]
  },
  {
   "cell_type": "markdown",
   "id": "ce0090f2",
   "metadata": {},
   "source": [
    "## Usage Examples\n",
    "\n",
    "Examples of using the shared utilities:"
   ]
  },
  {
   "cell_type": "code",
   "execution_count": null,
   "id": "f4fce98a",
   "metadata": {},
   "outputs": [
    {
     "name": "stdout",
     "output_type": "stream",
     "text": [
      "Div element: <div class=\"container\">Hello World</div>\n",
      "Button element: <button type=\"submit\" class=\"btn btn-primary\">Click me</button>\n",
      "List element: <ul class=\"menu\"><li>Item 1</li><li>Item 2</li><li>Item 3</li></ul>\n"
     ]
    }
   ],
   "source": [
    "# Example: Create various elements\n",
    "div_element = create_element('div', 'Hello World', cls='container')\n",
    "print(f\"Div element: {div_element}\")\n",
    "\n",
    "button_element = create_element('button', 'Click me', type='submit', cls='btn btn-primary')\n",
    "print(f\"Button element: {button_element}\")\n",
    "\n",
    "# Nested elements\n",
    "list_element = create_element(\n",
    "    'ul',\n",
    "    create_element('li', 'Item 1'),\n",
    "    create_element('li', 'Item 2'),\n",
    "    create_element('li', 'Item 3'),\n",
    "    cls='menu'\n",
    ")\n",
    "print(f\"List element: {list_element}\")"
   ]
  },
  {
   "cell_type": "code",
   "execution_count": null,
   "id": "f92de142",
   "metadata": {},
   "outputs": [
    {
     "name": "stdout",
     "output_type": "stream",
     "text": [
      "Form element: <form enctype=\"multipart/form-data\" method=\"post\" class=\"space-y-4\"><label>Username:<input type=\"text\" name=\"username\" class=\"input input-bordered\"></label><label>Email:<input type=\"email\" name=\"email\" class=\"input input-bordered\"></label><button type=\"submit\" class=\"btn btn-primary\">Submit</button></form>\n"
     ]
    }
   ],
   "source": [
    "# Example: Create form elements\n",
    "form = create_element(\n",
    "    'form',\n",
    "    create_element(\n",
    "        'label',\n",
    "        'Username:',\n",
    "        create_element('input', type='text', name='username', cls='input input-bordered')\n",
    "    ),\n",
    "    create_element(\n",
    "        'label', \n",
    "        'Email:',\n",
    "        create_element('input', type='email', name='email', cls='input input-bordered')\n",
    "    ),\n",
    "    create_element('button', 'Submit', type='submit', cls='btn btn-primary'),\n",
    "    method='post',\n",
    "    cls='space-y-4'\n",
    ")\n",
    "print(f\"Form element: {form}\")"
   ]
  },
  {
   "cell_type": "code",
   "execution_count": null,
   "id": "ff5f91cd",
   "metadata": {},
   "outputs": [
    {
     "name": "stdout",
     "output_type": "stream",
     "text": [
      "Error: Unknown HTML tag: unknown-tag\n"
     ]
    }
   ],
   "source": [
    "# Example: Error handling\n",
    "try:\n",
    "    # This should raise an error for unknown tag\n",
    "    unknown_element = create_element('unknown-tag', 'Content')\n",
    "except ValueError as e:\n",
    "    print(f\"Error: {e}\")"
   ]
  },
  {
   "cell_type": "code",
   "execution_count": null,
   "id": "3dc47d74",
   "metadata": {},
   "outputs": [],
   "source": [
    "#| hide\n",
    "import nbdev; nbdev.nbdev_export()"
   ]
  }
 ],
 "metadata": {
  "kernelspec": {
   "display_name": "python3",
   "language": "python",
   "name": "python3"
  }
 },
 "nbformat": 4,
 "nbformat_minor": 5
}
