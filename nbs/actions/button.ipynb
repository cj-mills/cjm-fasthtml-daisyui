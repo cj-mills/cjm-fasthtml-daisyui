{
 "cells": [
  {
   "cell_type": "markdown",
   "id": "11618e7d-2892-4c17-a42a-a04b54707e44",
   "metadata": {},
   "source": [
    "# Button\n",
    "\n",
    "> [Buttons](https://daisyui.com/components/button/) allow the user to take actions or make choices."
   ]
  },
  {
   "cell_type": "code",
   "execution_count": null,
   "id": "91569882-d367-4495-823c-d53bd1052918",
   "metadata": {},
   "outputs": [],
   "source": [
    "#| default_exp actions.button"
   ]
  },
  {
   "cell_type": "code",
   "execution_count": null,
   "id": "5522051e-e0a7-47ee-9889-635450403515",
   "metadata": {},
   "outputs": [],
   "source": [
    "#| hide\n",
    "from nbdev.showdoc import *"
   ]
  },
  {
   "cell_type": "code",
   "execution_count": null,
   "id": "d84bc32c-0a0e-43cf-8883-40f49a0a59d6",
   "metadata": {},
   "outputs": [],
   "source": [
    "#| export\n",
    "from typing import Optional, Union, List, Any, Literal\n",
    "from enum import Enum\n",
    "from dataclasses import dataclass, field\n",
    "from fasthtml.common import *\n",
    "from cjm_tailwind_utils.all import TailwindBuilder\n",
    "from cjm_fasthtml_daisyui.core.base import DaisyComponent, DaisySize\n",
    "from cjm_fasthtml_daisyui.core.colors import (\n",
    "    SemanticColor, ColorUtility, ColorBuilder, apply_semantic_colors\n",
    ")\n",
    "from cjm_fasthtml_daisyui.core.behaviors import InteractiveMixin, FormControlMixin\n",
    "from cjm_fasthtml_daisyui.core.variants import HasVariants, StyleType, create_style_variant\n",
    "from cjm_fasthtml_daisyui.core.htmx import HTMXComponent, HTMXAttrs"
   ]
  },
  {
   "cell_type": "markdown",
   "id": "189eb275-cd7d-4731-a73b-3e25cd8f61a0",
   "metadata": {},
   "source": [
    "## Button Component\n",
    "\n",
    "The Button component is one of the most versatile components in daisyUI, supporting:\n",
    "- Multiple color variants (primary, secondary, accent, etc.)\n",
    "- Multiple styles (solid, outline, ghost, link, etc.)\n",
    "- Size variations (xs to xl)\n",
    "- Shape modifiers (square, circle, wide, block)\n",
    "- States (active, disabled, loading)\n",
    "- Icons and content composition"
   ]
  },
  {
   "cell_type": "code",
   "execution_count": null,
   "id": "5e9a91d6-fc4e-41f2-8306-8be082d4e3c5",
   "metadata": {},
   "outputs": [],
   "source": [
    "#| export\n",
    "class ButtonShape(str, Enum):\n",
    "    \"\"\"Button shape modifiers\"\"\"\n",
    "    DEFAULT = \"\"\n",
    "    WIDE = \"wide\"      # Extra horizontal padding\n",
    "    BLOCK = \"block\"    # Full width button\n",
    "    SQUARE = \"square\"  # Square button (equal width/height)\n",
    "    CIRCLE = \"circle\"  # Circular button"
   ]
  },
  {
   "cell_type": "code",
   "execution_count": null,
   "id": "664cc9a0-b25c-4253-a6da-ee714dcbeeab",
   "metadata": {},
   "outputs": [],
   "source": [
    "#| export\n",
    "@dataclass\n",
    "class Btn(HTMXComponent, HasVariants, InteractiveMixin, FormControlMixin):\n",
    "    \"\"\"\n",
    "    daisyUI Button component with full feature support.\n",
    "    \n",
    "    Supports all button variants, styles, sizes, shapes, and states.\n",
    "    Can be used as a regular button, submit button, or link button.\n",
    "    \n",
    "    Examples:\n",
    "        Basic button:\n",
    "            Btn(\"Click me\", color=SemanticColor.PRIMARY)\n",
    "        \n",
    "        Icon button:\n",
    "            Btn(Icon(\"heart\"), shape=ButtonShape.CIRCLE, style=StyleType.GHOST)\n",
    "        \n",
    "        Loading button:\n",
    "            Btn(\"Submit\", loading=True, disabled=True)\n",
    "    \"\"\"\n",
    "    \n",
    "    # Content\n",
    "    children: List[Any] = field(default_factory=list)\n",
    "    \n",
    "    # Button specific\n",
    "    shape: Optional[ButtonShape] = None\n",
    "    no_animation: bool = False  # Disable click animation\n",
    "    \n",
    "    # Icon support\n",
    "    icon_start: Optional[FT] = None\n",
    "    icon_end: Optional[FT] = None\n",
    "    \n",
    "    # Link button support\n",
    "    href: Optional[str] = None\n",
    "    target: Optional[str] = None\n",
    "    \n",
    "    # Form button properties\n",
    "    type: Optional[str] = None\n",
    "    form: Optional[str] = None\n",
    "    \n",
    "    # Style property for convenient access\n",
    "    style: Optional[Union[StyleType, str]] = None\n",
    "    \n",
    "    def __init__(self, *children, **kwargs):\n",
    "        \"TODO: Add function description\"\n",
    "        # Extract children from args\n",
    "        self.children = list(children)\n",
    "        \n",
    "        # Extract button-specific attributes before parent init\n",
    "        self.icon_start = kwargs.pop('icon_start', None)\n",
    "        self.icon_end = kwargs.pop('icon_end', None)\n",
    "        self.shape = kwargs.pop('shape', None)\n",
    "        self.no_animation = kwargs.pop('no_animation', False)\n",
    "        self.href = kwargs.pop('href', None)\n",
    "        self.target = kwargs.pop('target', None)\n",
    "        \n",
    "        # Extract style and handle variant\n",
    "        self.style = kwargs.pop('style', None)\n",
    "        \n",
    "        # Initialize variant values for HasVariants\n",
    "        self.variant_values = kwargs.pop('variant_values', {})\n",
    "        \n",
    "        # Extract InteractiveMixin properties\n",
    "        self.active = kwargs.pop('active', False)\n",
    "        self.disabled = kwargs.pop('disabled', False)\n",
    "        self.loading = kwargs.pop('loading', False)\n",
    "        self.open = kwargs.pop('open', False)\n",
    "        self.checked = kwargs.pop('checked', False)\n",
    "        self.focus = kwargs.pop('focus', False)\n",
    "        self.hover = kwargs.pop('hover', False)\n",
    "        \n",
    "        # Extract FormControlMixin properties\n",
    "        self.name = kwargs.pop('name', None)\n",
    "        self.value = kwargs.pop('value', None)\n",
    "        self.placeholder = kwargs.pop('placeholder', None)\n",
    "        self.required = kwargs.pop('required', False)\n",
    "        self.readonly = kwargs.pop('readonly', False)\n",
    "        self.autofocus = kwargs.pop('autofocus', False)\n",
    "        self.type = kwargs.pop('type', None)\n",
    "        self.form = kwargs.pop('form', None)\n",
    "        \n",
    "        # Initialize parent classes\n",
    "        super().__init__(**kwargs)\n",
    "        \n",
    "        # Set the style variant if provided\n",
    "        if self.style:\n",
    "            style_value = self.style.value if isinstance(self.style, StyleType) else self.style\n",
    "            self.set_variant(\"style\", style_value)\n",
    "    \n",
    "    @classmethod\n",
    "    def variants(cls) -> Dict[str, Any]:\n",
    "        \"\"\"Define available variants for buttons.\n",
    "        \n",
    "        Returns:\n",
    "            Dictionary of variant definitions\n",
    "        \"\"\"\n",
    "        return {\n",
    "            \"style\": create_style_variant(\"btn\")\n",
    "        }\n",
    "    \n",
    "    def component_class(\n",
    "        self\n",
    "    ) -> str:  # TODO: Add return description\n",
    "        \"TODO: Add function description\"\n",
    "        return \"btn\"\n",
    "    \n",
    "    def supports_color(\n",
    "        self\n",
    "    ) -> bool:  # TODO: Add return description\n",
    "        \"TODO: Add function description\"\n",
    "        return True\n",
    "    \n",
    "    def supports_size(\n",
    "        self\n",
    "    ) -> bool:  # TODO: Add return description\n",
    "        \"TODO: Add function description\"\n",
    "        return True\n",
    "    \n",
    "    def supports_glass(\n",
    "        self\n",
    "    ) -> bool:  # TODO: Add return description\n",
    "        \"TODO: Add function description\"\n",
    "        return True\n",
    "    \n",
    "    def supports_active(\n",
    "        self\n",
    "    ) -> bool:  # TODO: Add return description\n",
    "        \"TODO: Add function description\"\n",
    "        return True\n",
    "    \n",
    "    def supports_disabled(\n",
    "        self\n",
    "    ) -> bool:  # TODO: Add return description\n",
    "        \"TODO: Add function description\"\n",
    "        return True\n",
    "    \n",
    "    def supports_loading(\n",
    "        self\n",
    "    ) -> bool:  # TODO: Add return description\n",
    "        \"TODO: Add function description\"\n",
    "        return True\n",
    "    \n",
    "    def modifier_classes(\n",
    "        self\n",
    "    ) -> List[str]:  # TODO: Add return description\n",
    "        \"\"\"Build all modifier classes\"\"\"\n",
    "        classes = super().modifier_classes()\n",
    "        \n",
    "        # Add shape modifier\n",
    "        if self.shape and self.shape != ButtonShape.DEFAULT:\n",
    "            classes.append(f\"btn-{self.shape.value}\")\n",
    "        \n",
    "        # Add behavior classes from InteractiveMixin\n",
    "        # Note: These are now handled by get_css_classes() from InteractiveMixin\n",
    "        \n",
    "        # Add no-animation\n",
    "        if self.no_animation:\n",
    "            classes.append(\"no-animation\")\n",
    "        \n",
    "        return classes\n",
    "    \n",
    "    def render_content(\n",
    "        self\n",
    "    ) -> List[FT]:  # TODO: Add return description\n",
    "        \"\"\"Render button content with icons\"\"\"\n",
    "        content = []\n",
    "        \n",
    "        # Add start icon\n",
    "        if self.icon_start:\n",
    "            content.append(self.icon_start)\n",
    "        \n",
    "        # Add main content\n",
    "        content.extend(self.children)\n",
    "        \n",
    "        # Add loading spinner if needed\n",
    "        if self.loading:\n",
    "            content.append(Span(cls=\"loading loading-spinner\"))\n",
    "        \n",
    "        # Add end icon\n",
    "        if self.icon_end:\n",
    "            content.append(self.icon_end)\n",
    "        \n",
    "        return content\n",
    "    \n",
    "    def render_attrs(\n",
    "        self\n",
    "    ) -> Dict[str, Any]:  # TODO: Add return description\n",
    "        \"\"\"Build all HTML attributes including form and behavior attrs.\"\"\"\n",
    "        attrs = super().render_attrs()\n",
    "        \n",
    "        # Add behavior attributes\n",
    "        attrs.update(self.behavior_attrs())\n",
    "        \n",
    "        # Add form attributes\n",
    "        if hasattr(self, 'form_attrs'):\n",
    "            attrs.update(self.form_attrs())\n",
    "        \n",
    "        return attrs\n",
    "    \n",
    "    def render(\n",
    "        self\n",
    "    ) -> FT:  # TODO: Add return description\n",
    "        \"\"\"Render the button element\"\"\"\n",
    "        attrs = self.render_attrs()\n",
    "        content = self.render_content()\n",
    "        \n",
    "        # Determine element type\n",
    "        if self.href:\n",
    "            # Link button\n",
    "            attrs['href'] = self.href\n",
    "            if self.target:\n",
    "                attrs['target'] = self.target\n",
    "            if self.disabled:\n",
    "                attrs['tabindex'] = '-1'\n",
    "                attrs['role'] = 'button'\n",
    "                attrs['aria-disabled'] = 'true'\n",
    "            return A(*content, **attrs)\n",
    "        else:\n",
    "            # Regular or form button\n",
    "            if self.type:\n",
    "                attrs['type'] = self.type\n",
    "            else:\n",
    "                attrs['type'] = 'button'  # Default to prevent form submission\n",
    "                \n",
    "            if self.name:\n",
    "                attrs['name'] = self.name\n",
    "            if self.value:\n",
    "                attrs['value'] = self.value\n",
    "            if self.form:\n",
    "                attrs['form'] = self.form\n",
    "                \n",
    "            # Use FastHTML's Button element\n",
    "            return Button(*content, **attrs)\n",
    "    \n",
    "    # Convenience methods for common patterns\n",
    "    @classmethod\n",
    "    def primary(\n",
    "        cls,  # TODO: Add type hint and description\n",
    "        *children,\n",
    "        **kwargs\n",
    "    ) -> 'Btn':  # TODO: Add return description\n",
    "        \"\"\"Create a primary button\"\"\"\n",
    "        return cls(*children, color=SemanticColor.PRIMARY, **kwargs)\n",
    "    \n",
    "    @classmethod\n",
    "    def secondary(\n",
    "        cls,  # TODO: Add type hint and description\n",
    "        *children,\n",
    "        **kwargs\n",
    "    ) -> 'Btn':  # TODO: Add return description\n",
    "        \"\"\"Create a secondary button\"\"\"\n",
    "        return cls(*children, color=SemanticColor.SECONDARY, **kwargs)\n",
    "    \n",
    "    @classmethod\n",
    "    def accent(\n",
    "        cls,  # TODO: Add type hint and description\n",
    "        *children,\n",
    "        **kwargs\n",
    "    ) -> 'Btn':  # TODO: Add return description\n",
    "        \"\"\"Create an accent button\"\"\"\n",
    "        return cls(*children, color=SemanticColor.ACCENT, **kwargs)\n",
    "    \n",
    "    @classmethod\n",
    "    def success(\n",
    "        cls,  # TODO: Add type hint and description\n",
    "        *children,\n",
    "        **kwargs\n",
    "    ) -> 'Btn':  # TODO: Add return description\n",
    "        \"\"\"Create a success button\"\"\"\n",
    "        return cls(*children, color=SemanticColor.SUCCESS, **kwargs)\n",
    "    \n",
    "    @classmethod\n",
    "    def error(\n",
    "        cls,  # TODO: Add type hint and description\n",
    "        *children,\n",
    "        **kwargs\n",
    "    ) -> 'Btn':  # TODO: Add return description\n",
    "        \"\"\"Create an error/danger button\"\"\"\n",
    "        return cls(*children, color=SemanticColor.ERROR, **kwargs)\n",
    "    \n",
    "    @classmethod\n",
    "    def warning(\n",
    "        cls,  # TODO: Add type hint and description\n",
    "        *children,\n",
    "        **kwargs\n",
    "    ) -> 'Btn':  # TODO: Add return description\n",
    "        \"\"\"Create a warning button\"\"\"\n",
    "        return cls(*children, color=SemanticColor.WARNING, **kwargs)\n",
    "    \n",
    "    @classmethod\n",
    "    def info(\n",
    "        cls,  # TODO: Add type hint and description\n",
    "        *children,\n",
    "        **kwargs\n",
    "    ) -> 'Btn':  # TODO: Add return description\n",
    "        \"\"\"Create an info button\"\"\"\n",
    "        return cls(*children, color=SemanticColor.INFO, **kwargs)\n",
    "    \n",
    "    @classmethod\n",
    "    def ghost(\n",
    "        cls,  # TODO: Add type hint and description\n",
    "        *children,\n",
    "        **kwargs\n",
    "    ) -> 'Btn':  # TODO: Add return description\n",
    "        \"\"\"Create a ghost button\"\"\"\n",
    "        kwargs['style'] = StyleType.GHOST\n",
    "        return cls(*children, **kwargs)\n",
    "    \n",
    "    @classmethod\n",
    "    def link(\n",
    "        cls,  # TODO: Add type hint and description\n",
    "        *children,\n",
    "        href: str,\n",
    "        **kwargs\n",
    "    ) -> 'Btn':  # TODO: Add return description\n",
    "        \"\"\"Create a link-styled button\"\"\"\n",
    "        kwargs['style'] = StyleType.LINK\n",
    "        kwargs['href'] = href\n",
    "        return cls(*children, **kwargs)\n",
    "    \n",
    "    @classmethod\n",
    "    def outline(\n",
    "        cls,  # TODO: Add type hint and description\n",
    "        *children,\n",
    "        **kwargs\n",
    "    ) -> 'Btn':  # TODO: Add return description\n",
    "        \"\"\"Create an outline button\"\"\"\n",
    "        kwargs['style'] = StyleType.OUTLINE\n",
    "        return cls(*children, **kwargs)\n",
    "    \n",
    "    @classmethod\n",
    "    def icon(\n",
    "        cls,  # TODO: Add type hint and description\n",
    "        icon: FT,  # TODO: Add description\n",
    "        **kwargs\n",
    "    ) -> 'Btn':  # TODO: Add return description\n",
    "        \"\"\"Create an icon-only button (typically square or circle)\"\"\"\n",
    "        kwargs.setdefault('shape', ButtonShape.SQUARE)\n",
    "        return cls(icon, **kwargs)\n",
    "    \n",
    "    @classmethod\n",
    "    def submit(\n",
    "        cls,  # TODO: Add type hint and description\n",
    "        text: str = \"Submit\",  # TODO: Add description\n",
    "        **kwargs\n",
    "    ) -> 'Btn':  # TODO: Add return description\n",
    "        \"\"\"Create a submit button\"\"\"\n",
    "        return cls(text, type=\"submit\", color=SemanticColor.PRIMARY, **kwargs)\n",
    "    \n",
    "    @classmethod\n",
    "    def cancel(\n",
    "        cls,  # TODO: Add type hint and description\n",
    "        text: str = \"Cancel\",  # TODO: Add description\n",
    "        **kwargs\n",
    "    ) -> 'Btn':  # TODO: Add return description\n",
    "        \"\"\"Create a cancel button\"\"\"\n",
    "        kwargs['style'] = StyleType.GHOST\n",
    "        return cls(text, **kwargs)"
   ]
  },
  {
   "cell_type": "markdown",
   "id": "8e20cade-cff4-4a95-9250-7d21e56afe68",
   "metadata": {},
   "source": [
    "## Usage Examples\n",
    "\n",
    "Let's test the Button component with various configurations."
   ]
  },
  {
   "cell_type": "markdown",
   "id": "5e062c5e-3a51-4dbe-af6c-ec3653cf53e8",
   "metadata": {},
   "source": [
    "### Basic Setup"
   ]
  },
  {
   "cell_type": "code",
   "execution_count": null,
   "id": "dbd648a9-a47c-4384-90e8-98215b8f1a4a",
   "metadata": {},
   "outputs": [],
   "source": [
    "#|eval: false\n",
    "from cjm_fasthtml_daisyui.core.testing import ComponentTester, theme_test\n",
    "from cjm_fasthtml_daisyui.core.config import DaisyUITheme\n",
    "from fasthtml.common import Div, H3\n",
    "from fasthtml.jupyter import HTMX"
   ]
  },
  {
   "cell_type": "markdown",
   "id": "ca6e931f-7545-4336-823a-59fa98e0a636",
   "metadata": {},
   "source": [
    "### Color Variants"
   ]
  },
  {
   "cell_type": "code",
   "execution_count": null,
   "id": "38cd9015-8ca8-420c-99b7-b26356425110",
   "metadata": {},
   "outputs": [
    {
     "data": {
      "text/html": [
       "\n",
       "<script>\n",
       "document.body.addEventListener('htmx:configRequest', (event) => {\n",
       "    if(event.detail.path.includes('://')) return;\n",
       "    htmx.config.selfRequestsOnly=false;\n",
       "    event.detail.path = `${location.protocol}//${location.hostname}:8000${event.detail.path}`;\n",
       "});\n",
       "</script>"
      ],
      "text/plain": [
       "<IPython.core.display.HTML object>"
      ]
     },
     "metadata": {},
     "output_type": "display_data"
    },
    {
     "data": {
      "text/html": [
       "<iframe src=\"http://localhost:8000/\" style=\"width: 100%; height: auto; border: none;\" onload=\"{\n",
       "        let frame = this;\n",
       "        window.addEventListener('message', function(e) {\n",
       "            if (e.source !== frame.contentWindow) return; // Only proceed if the message is from this iframe\n",
       "            if (e.data.height) frame.style.height = (e.data.height+1) + 'px';\n",
       "        }, false);\n",
       "    }\" allow=\"accelerometer; autoplay; camera; clipboard-read; clipboard-write; display-capture; encrypted-media; fullscreen; gamepad; geolocation; gyroscope; hid; identity-credentials-get; idle-detection; magnetometer; microphone; midi; payment; picture-in-picture; publickey-credentials-get; screen-wake-lock; serial; usb; web-share; xr-spatial-tracking\"></iframe> "
      ],
      "text/plain": [
       "<IPython.core.display.HTML object>"
      ]
     },
     "execution_count": null,
     "metadata": {},
     "output_type": "execute_result"
    }
   ],
   "source": [
    "#|eval: false\n",
    "# Test color variants\n",
    "tester = ComponentTester(\"Button Color Variants\")\n",
    "\n",
    "# Using convenience methods\n",
    "tester.add(\n",
    "    Div(\n",
    "        Btn.primary(\"Primary\").render(),\n",
    "        Btn.secondary(\"Secondary\").render(),\n",
    "        Btn.accent(\"Accent\").render(),\n",
    "        Btn.success(\"Success\").render(),\n",
    "        Btn.warning(\"Warning\").render(),\n",
    "        Btn.error(\"Error\").render(),\n",
    "        Btn.info(\"Info\").render(),\n",
    "        Btn(\"Neutral\", color=SemanticColor.NEUTRAL).render(),\n",
    "        cls=TailwindBuilder().flex(wrap=\"wrap\").gap(2).build()\n",
    "    ),\n",
    "    title=\"Color Variants\",\n",
    "    description=\"All semantic color options for buttons\"\n",
    ")\n",
    "\n",
    "tester.start()\n",
    "HTMX()"
   ]
  },
  {
   "cell_type": "code",
   "execution_count": null,
   "id": "d32e2a99-4816-4775-aff8-6f6e64dea705",
   "metadata": {},
   "outputs": [],
   "source": [
    "#|eval: false\n",
    "tester.stop()"
   ]
  },
  {
   "cell_type": "markdown",
   "id": "d1fdd401-15c7-4ad6-a1d5-8b8ff0931195",
   "metadata": {},
   "source": [
    "### Style Modifiers"
   ]
  },
  {
   "cell_type": "code",
   "execution_count": null,
   "id": "5692af33-36ca-4e54-927e-ed406603f7c6",
   "metadata": {},
   "outputs": [
    {
     "data": {
      "text/html": [
       "\n",
       "<script>\n",
       "document.body.addEventListener('htmx:configRequest', (event) => {\n",
       "    if(event.detail.path.includes('://')) return;\n",
       "    htmx.config.selfRequestsOnly=false;\n",
       "    event.detail.path = `${location.protocol}//${location.hostname}:8000${event.detail.path}`;\n",
       "});\n",
       "</script>"
      ],
      "text/plain": [
       "<IPython.core.display.HTML object>"
      ]
     },
     "metadata": {},
     "output_type": "display_data"
    },
    {
     "data": {
      "text/html": [
       "<iframe src=\"http://localhost:8000/\" style=\"width: 100%; height: auto; border: none;\" onload=\"{\n",
       "        let frame = this;\n",
       "        window.addEventListener('message', function(e) {\n",
       "            if (e.source !== frame.contentWindow) return; // Only proceed if the message is from this iframe\n",
       "            if (e.data.height) frame.style.height = (e.data.height+1) + 'px';\n",
       "        }, false);\n",
       "    }\" allow=\"accelerometer; autoplay; camera; clipboard-read; clipboard-write; display-capture; encrypted-media; fullscreen; gamepad; geolocation; gyroscope; hid; identity-credentials-get; idle-detection; magnetometer; microphone; midi; payment; picture-in-picture; publickey-credentials-get; screen-wake-lock; serial; usb; web-share; xr-spatial-tracking\"></iframe> "
      ],
      "text/plain": [
       "<IPython.core.display.HTML object>"
      ]
     },
     "execution_count": null,
     "metadata": {},
     "output_type": "execute_result"
    }
   ],
   "source": [
    "#|eval: false\n",
    "# Test style modifiers\n",
    "tester2 = ComponentTester(\"Button Style Modifiers\")\n",
    "\n",
    "# Different styles with primary color\n",
    "tester2.add(\n",
    "    Div(\n",
    "        Btn(\"Default\", color=SemanticColor.PRIMARY).render(),\n",
    "        Btn.outline(\"Outline\", color=SemanticColor.PRIMARY).render(),\n",
    "        Btn(\"Dash\", color=SemanticColor.PRIMARY, style=StyleType.DASH).render(),\n",
    "        Btn(\"Soft\", color=SemanticColor.PRIMARY, style=StyleType.SOFT).render(),\n",
    "        Btn.ghost(\"Ghost\", color=SemanticColor.PRIMARY).render(),\n",
    "        Btn.link(\"Link\", href=\"#\", color=SemanticColor.PRIMARY).render(),\n",
    "        cls=TailwindBuilder().flex(wrap=\"wrap\").gap(2).build()\n",
    "    ),\n",
    "    title=\"Style Modifiers\",\n",
    "    description=\"Different button styles available\",\n",
    "    code='''Button(\"Default\", color=SemanticColor.PRIMARY)\n",
    "Button.outline(\"Outline\", color=SemanticColor.PRIMARY)\n",
    "Button(\"Dash\", color=SemanticColor.PRIMARY, style=StyleType.DASH)\n",
    "Button(\"Soft\", color=SemanticColor.PRIMARY, style=StyleType.SOFT)\n",
    "Button.ghost(\"Ghost\", color=SemanticColor.PRIMARY)\n",
    "Button.link(\"Link\", href=\"#\", color=SemanticColor.PRIMARY)'''\n",
    ")\n",
    "\n",
    "tester2.start()  # Uncomment to run\n",
    "HTMX()"
   ]
  },
  {
   "cell_type": "code",
   "execution_count": null,
   "id": "c640df70-2d19-4df5-af1e-97482367418a",
   "metadata": {},
   "outputs": [],
   "source": [
    "#|eval: false\n",
    "tester2.stop()"
   ]
  },
  {
   "cell_type": "code",
   "execution_count": null,
   "id": "3c21d145-2e73-4ffb-a314-5b3d5f86962b",
   "metadata": {},
   "outputs": [],
   "source": []
  },
  {
   "cell_type": "markdown",
   "id": "0ce2a115-0af9-4e71-9653-af6c19ba3ca0",
   "metadata": {},
   "source": [
    "### Sizes and Shapes"
   ]
  },
  {
   "cell_type": "code",
   "execution_count": null,
   "id": "fe986b32-a385-4f58-a010-73826386d2ae",
   "metadata": {},
   "outputs": [
    {
     "data": {
      "text/html": [
       "\n",
       "<script>\n",
       "document.body.addEventListener('htmx:configRequest', (event) => {\n",
       "    if(event.detail.path.includes('://')) return;\n",
       "    htmx.config.selfRequestsOnly=false;\n",
       "    event.detail.path = `${location.protocol}//${location.hostname}:8000${event.detail.path}`;\n",
       "});\n",
       "</script>"
      ],
      "text/plain": [
       "<IPython.core.display.HTML object>"
      ]
     },
     "metadata": {},
     "output_type": "display_data"
    },
    {
     "data": {
      "text/html": [
       "<iframe src=\"http://localhost:8000/\" style=\"width: 100%; height: auto; border: none;\" onload=\"{\n",
       "        let frame = this;\n",
       "        window.addEventListener('message', function(e) {\n",
       "            if (e.source !== frame.contentWindow) return; // Only proceed if the message is from this iframe\n",
       "            if (e.data.height) frame.style.height = (e.data.height+1) + 'px';\n",
       "        }, false);\n",
       "    }\" allow=\"accelerometer; autoplay; camera; clipboard-read; clipboard-write; display-capture; encrypted-media; fullscreen; gamepad; geolocation; gyroscope; hid; identity-credentials-get; idle-detection; magnetometer; microphone; midi; payment; picture-in-picture; publickey-credentials-get; screen-wake-lock; serial; usb; web-share; xr-spatial-tracking\"></iframe> "
      ],
      "text/plain": [
       "<IPython.core.display.HTML object>"
      ]
     },
     "execution_count": null,
     "metadata": {},
     "output_type": "execute_result"
    }
   ],
   "source": [
    "#|eval: false\n",
    "# Test sizes and shapes\n",
    "tester3 = ComponentTester(\"Button Sizes and Shapes\")\n",
    "\n",
    "# Size variations\n",
    "tester3.add(\n",
    "    Div(\n",
    "        Btn(\"XS\", size=DaisySize.XS).render(),\n",
    "        Btn(\"SM\", size=DaisySize.SM).render(),\n",
    "        Btn(\"MD\", size=DaisySize.MD).render(),\n",
    "        Btn(\"LG\", size=DaisySize.LG).render(),\n",
    "        Btn(\"XL\", size=DaisySize.XL).render(),\n",
    "        cls=TailwindBuilder().flex().items(\"center\").gap(2).build()\n",
    "    ),\n",
    "    title=\"Size Variations\"\n",
    ")\n",
    "\n",
    "# Shape variations\n",
    "tester3.add(\n",
    "    Div(\n",
    "        Btn(\"Default\").render(),\n",
    "        Btn(\"Wide\", shape=ButtonShape.WIDE).render(),\n",
    "        Btn.icon(\"□\", shape=ButtonShape.SQUARE).render(),\n",
    "        Btn.icon(\"●\", shape=ButtonShape.CIRCLE).render(),\n",
    "        cls=TailwindBuilder().flex().items(\"center\").gap(2).build()\n",
    "    ),\n",
    "    title=\"Shape Variations\"\n",
    ")\n",
    "\n",
    "# Block button\n",
    "tester3.add(\n",
    "    Btn(\"Block Button (Full Width)\", shape=ButtonShape.BLOCK).render(),\n",
    "    title=\"Block Button\"\n",
    ")\n",
    "\n",
    "tester3.start()  # Uncomment to run\n",
    "HTMX()"
   ]
  },
  {
   "cell_type": "code",
   "execution_count": null,
   "id": "bcf68d17-13fb-4245-802b-9c815491193f",
   "metadata": {},
   "outputs": [],
   "source": [
    "#|eval: false\n",
    "tester3.stop()"
   ]
  },
  {
   "cell_type": "markdown",
   "id": "211cb3a1-ea81-42fd-b2c8-3da07885b77a",
   "metadata": {},
   "source": [
    "### States and Behaviors"
   ]
  },
  {
   "cell_type": "code",
   "execution_count": null,
   "id": "1ccf7f12-aa54-428e-8a95-08280469c025",
   "metadata": {},
   "outputs": [
    {
     "data": {
      "text/html": [
       "\n",
       "<script>\n",
       "document.body.addEventListener('htmx:configRequest', (event) => {\n",
       "    if(event.detail.path.includes('://')) return;\n",
       "    htmx.config.selfRequestsOnly=false;\n",
       "    event.detail.path = `${location.protocol}//${location.hostname}:8000${event.detail.path}`;\n",
       "});\n",
       "</script>"
      ],
      "text/plain": [
       "<IPython.core.display.HTML object>"
      ]
     },
     "metadata": {},
     "output_type": "display_data"
    },
    {
     "data": {
      "text/html": [
       "<iframe src=\"http://localhost:8000/\" style=\"width: 100%; height: auto; border: none;\" onload=\"{\n",
       "        let frame = this;\n",
       "        window.addEventListener('message', function(e) {\n",
       "            if (e.source !== frame.contentWindow) return; // Only proceed if the message is from this iframe\n",
       "            if (e.data.height) frame.style.height = (e.data.height+1) + 'px';\n",
       "        }, false);\n",
       "    }\" allow=\"accelerometer; autoplay; camera; clipboard-read; clipboard-write; display-capture; encrypted-media; fullscreen; gamepad; geolocation; gyroscope; hid; identity-credentials-get; idle-detection; magnetometer; microphone; midi; payment; picture-in-picture; publickey-credentials-get; screen-wake-lock; serial; usb; web-share; xr-spatial-tracking\"></iframe> "
      ],
      "text/plain": [
       "<IPython.core.display.HTML object>"
      ]
     },
     "execution_count": null,
     "metadata": {},
     "output_type": "execute_result"
    }
   ],
   "source": [
    "#|eval: false\n",
    "# Test states\n",
    "tester4 = ComponentTester(\"Button States\")\n",
    "\n",
    "# Interactive states\n",
    "tester4.add(\n",
    "    Div(\n",
    "        Btn(\"Normal\").render(),\n",
    "        Btn(\"Active\", active=True).render(),\n",
    "        Btn(\"Disabled\", disabled=True).render(),\n",
    "        Btn(\"Loading\", loading=True).render(),\n",
    "        Btn(\"No Animation\", no_animation=True).render(),\n",
    "        cls=TailwindBuilder().flex(wrap=\"wrap\").gap(2).build()\n",
    "    ),\n",
    "    title=\"Button States\"\n",
    ")\n",
    "\n",
    "# Glass effect\n",
    "tester4.add(\n",
    "    Div(\n",
    "        Btn(\"Glass Effect\", glass=True, color=SemanticColor.PRIMARY).render(),\n",
    "        Btn(\"Glass Ghost\", glass=True, style=StyleType.GHOST).render(),\n",
    "        cls=TailwindBuilder().flex().gap(2).build()\n",
    "    ),\n",
    "    title=\"Glass Effect\",\n",
    "    description=\"Buttons with glass morphism effect\"\n",
    ")\n",
    "\n",
    "tester4.start()  # Uncomment to run\n",
    "HTMX()"
   ]
  },
  {
   "cell_type": "code",
   "execution_count": null,
   "id": "cbbfbd31-13b5-400f-b003-345788d3b828",
   "metadata": {},
   "outputs": [],
   "source": [
    "#|eval: false\n",
    "tester4.stop()"
   ]
  },
  {
   "cell_type": "markdown",
   "id": "c49dce3c-c2db-4452-9700-52b6888b5574",
   "metadata": {},
   "source": [
    "### Buttons with Icons"
   ]
  },
  {
   "cell_type": "code",
   "execution_count": null,
   "id": "ecccb38b-2715-4910-a0bd-fff5f85dea9b",
   "metadata": {},
   "outputs": [
    {
     "data": {
      "text/html": [
       "\n",
       "<script>\n",
       "document.body.addEventListener('htmx:configRequest', (event) => {\n",
       "    if(event.detail.path.includes('://')) return;\n",
       "    htmx.config.selfRequestsOnly=false;\n",
       "    event.detail.path = `${location.protocol}//${location.hostname}:8000${event.detail.path}`;\n",
       "});\n",
       "</script>"
      ],
      "text/plain": [
       "<IPython.core.display.HTML object>"
      ]
     },
     "metadata": {},
     "output_type": "display_data"
    },
    {
     "data": {
      "text/html": [
       "<iframe src=\"http://localhost:8000/\" style=\"width: 100%; height: auto; border: none;\" onload=\"{\n",
       "        let frame = this;\n",
       "        window.addEventListener('message', function(e) {\n",
       "            if (e.source !== frame.contentWindow) return; // Only proceed if the message is from this iframe\n",
       "            if (e.data.height) frame.style.height = (e.data.height+1) + 'px';\n",
       "        }, false);\n",
       "    }\" allow=\"accelerometer; autoplay; camera; clipboard-read; clipboard-write; display-capture; encrypted-media; fullscreen; gamepad; geolocation; gyroscope; hid; identity-credentials-get; idle-detection; magnetometer; microphone; midi; payment; picture-in-picture; publickey-credentials-get; screen-wake-lock; serial; usb; web-share; xr-spatial-tracking\"></iframe> "
      ],
      "text/plain": [
       "<IPython.core.display.HTML object>"
      ]
     },
     "execution_count": null,
     "metadata": {},
     "output_type": "execute_result"
    }
   ],
   "source": [
    "#|eval: false\n",
    "# Test buttons with icons\n",
    "# Note: Using simple text icons for demo - in real apps use SVG icons\n",
    "tester5 = ComponentTester(\"Buttons with Icons\")\n",
    "\n",
    "# Icon positions\n",
    "tester5.add(\n",
    "    Div(\n",
    "        Btn(\"Download\", icon_start=\"⬇\").render(),\n",
    "        Btn(\"Upload\", icon_end=\"⬆\").render(),\n",
    "        Btn(\"Settings\", icon_start=\"⚙\", icon_end=\"▶\").render(),\n",
    "        cls=TailwindBuilder().flex().gap(2).build()\n",
    "    ),\n",
    "    title=\"Icon Positions\"\n",
    ")\n",
    "\n",
    "# Icon-only buttons\n",
    "tester5.add(\n",
    "    Div(\n",
    "        Btn.icon(\"❤\", color=SemanticColor.ERROR).render(),\n",
    "        Btn.icon(\"⭐\", shape=ButtonShape.CIRCLE, color=SemanticColor.WARNING).render(),\n",
    "        Btn.icon(\"🔧\", shape=ButtonShape.SQUARE, style=StyleType.GHOST).render(),\n",
    "        Btn.icon(\"✖\", shape=ButtonShape.CIRCLE, size=DaisySize.SM, style=StyleType.OUTLINE).render(),\n",
    "        cls=TailwindBuilder().flex().gap(2).build()\n",
    "    ),\n",
    "    title=\"Icon-Only Buttons\"\n",
    ")\n",
    "\n",
    "tester5.start()  # Uncomment to run\n",
    "HTMX()"
   ]
  },
  {
   "cell_type": "code",
   "execution_count": null,
   "id": "a669ccb8-d589-4905-9130-fff80072a4d7",
   "metadata": {},
   "outputs": [],
   "source": [
    "#|eval: false\n",
    "tester5.stop()"
   ]
  },
  {
   "cell_type": "markdown",
   "id": "be4403a7-6df3-4c45-afe1-ebbbf1781b56",
   "metadata": {},
   "source": [
    "### HTMX Integration"
   ]
  },
  {
   "cell_type": "code",
   "execution_count": null,
   "id": "d29b827f-d23f-4c47-b427-5e9b30842060",
   "metadata": {},
   "outputs": [
    {
     "data": {
      "text/html": [
       "\n",
       "<script>\n",
       "document.body.addEventListener('htmx:configRequest', (event) => {\n",
       "    if(event.detail.path.includes('://')) return;\n",
       "    htmx.config.selfRequestsOnly=false;\n",
       "    event.detail.path = `${location.protocol}//${location.hostname}:8000${event.detail.path}`;\n",
       "});\n",
       "</script>"
      ],
      "text/plain": [
       "<IPython.core.display.HTML object>"
      ]
     },
     "metadata": {},
     "output_type": "display_data"
    },
    {
     "data": {
      "text/html": [
       "<iframe src=\"http://localhost:8000/\" style=\"width: 100%; height: auto; border: none;\" onload=\"{\n",
       "        let frame = this;\n",
       "        window.addEventListener('message', function(e) {\n",
       "            if (e.source !== frame.contentWindow) return; // Only proceed if the message is from this iframe\n",
       "            if (e.data.height) frame.style.height = (e.data.height+1) + 'px';\n",
       "        }, false);\n",
       "    }\" allow=\"accelerometer; autoplay; camera; clipboard-read; clipboard-write; display-capture; encrypted-media; fullscreen; gamepad; geolocation; gyroscope; hid; identity-credentials-get; idle-detection; magnetometer; microphone; midi; payment; picture-in-picture; publickey-credentials-get; screen-wake-lock; serial; usb; web-share; xr-spatial-tracking\"></iframe> "
      ],
      "text/plain": [
       "<IPython.core.display.HTML object>"
      ]
     },
     "execution_count": null,
     "metadata": {},
     "output_type": "execute_result"
    }
   ],
   "source": [
    "#|eval: false\n",
    "# Test HTMX features\n",
    "tester7 = ComponentTester(\"HTMX Button Examples\")\n",
    "\n",
    "# HTMX-enabled button\n",
    "htmx_btn = Btn(\"Load Data\", color=SemanticColor.PRIMARY)\n",
    "htmx_btn.with_htmx(\n",
    "    get=\"/api/data\",\n",
    "    target=\"#results\",\n",
    "    swap=\"innerHTML\"\n",
    ").with_loading(\"loading-indicator\")\n",
    "\n",
    "# Better approach using the color system\n",
    "tb_results = TailwindBuilder()\n",
    "tb_results.m(4, \"t\").p(4).rounded()\n",
    "# Add semantic colors properly\n",
    "tb_results.add_class(apply_semantic_colors(bg=SemanticColor.BASE_200))\n",
    "\n",
    "tester7.add(\n",
    "    Div(\n",
    "        htmx_btn.render(),\n",
    "        Div(id=\"results\", cls=tb_results.build()),\n",
    "        Div(id=\"loading-indicator\", cls=\"htmx-indicator\", children=[\"Loading...\"])\n",
    "    ),\n",
    "    title=\"HTMX Button\",\n",
    "    description=\"Button that loads data via HTMX\",\n",
    "    code='''htmx_btn = Button(\"Load Data\", color=SemanticColor.PRIMARY)\n",
    "htmx_btn.with_htmx(\n",
    "    get=\"/api/data\",\n",
    "    target=\"#results\",\n",
    "    swap=\"innerHTML\"\n",
    ").with_loading(\"loading-indicator\")'''\n",
    ")\n",
    "\n",
    "# Form submission button\n",
    "submit_btn = Btn.submit(\"Submit Form\")\n",
    "submit_btn.with_htmx(\n",
    "    post=\"/api/submit\",\n",
    "    trigger=\"click\",\n",
    "    include=\"form\"\n",
    ").with_confirmation(\"Are you sure you want to submit?\")\n",
    "\n",
    "tester7.add(\n",
    "    submit_btn.render(),\n",
    "    title=\"HTMX Form Submit\",\n",
    "    description=\"Submit button with confirmation\"\n",
    ")\n",
    "\n",
    "tester7.start()  # Uncomment to run\n",
    "HTMX()"
   ]
  },
  {
   "cell_type": "code",
   "execution_count": null,
   "id": "e4888d73-2908-432e-82a4-133022429f2d",
   "metadata": {},
   "outputs": [],
   "source": [
    "#|eval: false\n",
    "tester7.stop()"
   ]
  },
  {
   "cell_type": "markdown",
   "id": "6060d4ef-f532-436b-83c9-992a6613431c",
   "metadata": {},
   "source": [
    "### Responsive Buttons"
   ]
  },
  {
   "cell_type": "code",
   "execution_count": null,
   "id": "9aaaaf47-a9fb-4905-98b5-58cc8408dd3d",
   "metadata": {},
   "outputs": [
    {
     "data": {
      "text/html": [
       "\n",
       "<script>\n",
       "document.body.addEventListener('htmx:configRequest', (event) => {\n",
       "    if(event.detail.path.includes('://')) return;\n",
       "    htmx.config.selfRequestsOnly=false;\n",
       "    event.detail.path = `${location.protocol}//${location.hostname}:8000${event.detail.path}`;\n",
       "});\n",
       "</script>"
      ],
      "text/plain": [
       "<IPython.core.display.HTML object>"
      ]
     },
     "metadata": {},
     "output_type": "display_data"
    },
    {
     "data": {
      "text/html": [
       "<iframe src=\"http://localhost:8000/\" style=\"width: 100%; height: auto; border: none;\" onload=\"{\n",
       "        let frame = this;\n",
       "        window.addEventListener('message', function(e) {\n",
       "            if (e.source !== frame.contentWindow) return; // Only proceed if the message is from this iframe\n",
       "            if (e.data.height) frame.style.height = (e.data.height+1) + 'px';\n",
       "        }, false);\n",
       "    }\" allow=\"accelerometer; autoplay; camera; clipboard-read; clipboard-write; display-capture; encrypted-media; fullscreen; gamepad; geolocation; gyroscope; hid; identity-credentials-get; idle-detection; magnetometer; microphone; midi; payment; picture-in-picture; publickey-credentials-get; screen-wake-lock; serial; usb; web-share; xr-spatial-tracking\"></iframe> "
      ],
      "text/plain": [
       "<IPython.core.display.HTML object>"
      ]
     },
     "execution_count": null,
     "metadata": {},
     "output_type": "execute_result"
    }
   ],
   "source": [
    "#|eval: false\n",
    "# Test responsive features\n",
    "tester8 = ComponentTester(\"Responsive Buttons\")\n",
    "\n",
    "# Responsive size\n",
    "responsive_btn = Btn(\n",
    "    \"Responsive Size\",\n",
    "    size=DaisySize.SM,  # Default small\n",
    "    responsive_size={\"md\": \"md\", \"lg\": \"lg\"},  # Medium on md+, large on lg+\n",
    "    color=SemanticColor.PRIMARY\n",
    ")\n",
    "\n",
    "# Responsive visibility\n",
    "mobile_btn = Btn(\n",
    "    \"Mobile Only\",\n",
    "    responsive_hide=[\"md\"],  # Hide on medium screens and up\n",
    "    color=SemanticColor.SECONDARY\n",
    ")\n",
    "\n",
    "desktop_btn = Btn(\n",
    "    \"Desktop Only\", \n",
    "    responsive_show=[\"md\"],  # Show on medium screens and up\n",
    "    cls=\"hidden\",  # Hidden by default\n",
    "    color=SemanticColor.ACCENT\n",
    ")\n",
    "\n",
    "tester8.add(\n",
    "    Div(\n",
    "        responsive_btn.render(),\n",
    "        mobile_btn.render(),\n",
    "        desktop_btn.render(),\n",
    "        cls=TailwindBuilder().flex().gap(2).build()\n",
    "    ),\n",
    "    title=\"Responsive Behaviors\",\n",
    "    description=\"Resize browser to see responsive changes\"\n",
    ")\n",
    "\n",
    "tester8.start()  # Uncomment to run\n",
    "HTMX()"
   ]
  },
  {
   "cell_type": "code",
   "execution_count": null,
   "id": "3715c96e-d33f-4a54-8aa0-26018818068e",
   "metadata": {},
   "outputs": [],
   "source": [
    "#|eval: false\n",
    "tester8.stop()"
   ]
  },
  {
   "cell_type": "markdown",
   "id": "ab38be9e-8d1e-4b10-b6eb-07ff62e6e5ce",
   "metadata": {},
   "source": [
    "### Complete Example"
   ]
  },
  {
   "cell_type": "code",
   "execution_count": null,
   "id": "9620dc8b-0dbb-4521-97ef-d1998a269b69",
   "metadata": {},
   "outputs": [
    {
     "data": {
      "text/html": [
       "\n",
       "<script>\n",
       "document.body.addEventListener('htmx:configRequest', (event) => {\n",
       "    if(event.detail.path.includes('://')) return;\n",
       "    htmx.config.selfRequestsOnly=false;\n",
       "    event.detail.path = `${location.protocol}//${location.hostname}:8000${event.detail.path}`;\n",
       "});\n",
       "</script>"
      ],
      "text/plain": [
       "<IPython.core.display.HTML object>"
      ]
     },
     "metadata": {},
     "output_type": "display_data"
    },
    {
     "data": {
      "text/html": [
       "<iframe src=\"http://localhost:8000/\" style=\"width: 100%; height: auto; border: none;\" onload=\"{\n",
       "        let frame = this;\n",
       "        window.addEventListener('message', function(e) {\n",
       "            if (e.source !== frame.contentWindow) return; // Only proceed if the message is from this iframe\n",
       "            if (e.data.height) frame.style.height = (e.data.height+1) + 'px';\n",
       "        }, false);\n",
       "    }\" allow=\"accelerometer; autoplay; camera; clipboard-read; clipboard-write; display-capture; encrypted-media; fullscreen; gamepad; geolocation; gyroscope; hid; identity-credentials-get; idle-detection; magnetometer; microphone; midi; payment; picture-in-picture; publickey-credentials-get; screen-wake-lock; serial; usb; web-share; xr-spatial-tracking\"></iframe> "
      ],
      "text/plain": [
       "<IPython.core.display.HTML object>"
      ]
     },
     "execution_count": null,
     "metadata": {},
     "output_type": "execute_result"
    }
   ],
   "source": [
    "#|eval: false\n",
    "# Complete button showcase\n",
    "with theme_test([DaisyUITheme.LIGHT, DaisyUITheme.DARK, DaisyUITheme.CUPCAKE]) as tester:\n",
    "    # Color variants section\n",
    "    tester.add(\n",
    "        Div(\n",
    "            H3(\"Color Variants\", cls=TailwindBuilder().text(size=\"lg\", weight=\"bold\").m(2, \"b\").build()),\n",
    "            Div(\n",
    "                *[Btn(color.name.title(), color=color).render() for color in SemanticColor if \"_\" not in color.name],\n",
    "                cls=TailwindBuilder().flex(wrap=\"wrap\").gap(2).build()\n",
    "            ),\n",
    "            cls=TailwindBuilder().space(2, \"y\").build()\n",
    "        ),\n",
    "        title=\"Complete Button Showcase\"\n",
    "    )\n",
    "    \n",
    "    # Styles section  \n",
    "    tester.add(\n",
    "        Div(\n",
    "            H3(\"Button Styles\", cls=TailwindBuilder().text(size=\"lg\", weight=\"bold\").m(2, \"b\").build()),\n",
    "            Div(\n",
    "                Btn(\"Default\", color=SemanticColor.PRIMARY).render(),\n",
    "                Btn(\"Outline\", color=SemanticColor.PRIMARY, style=StyleType.OUTLINE).render(),\n",
    "                Btn(\"Dash\", color=SemanticColor.PRIMARY, style=StyleType.DASH).render(),\n",
    "                Btn(\"Soft\", color=SemanticColor.PRIMARY, style=StyleType.SOFT).render(),\n",
    "                Btn(\"Ghost\", color=SemanticColor.PRIMARY, style=StyleType.GHOST).render(),\n",
    "                Btn(\"Link\", color=SemanticColor.PRIMARY, style=StyleType.LINK).render(),\n",
    "                cls=TailwindBuilder().flex(wrap=\"wrap\").gap(2).build()\n",
    "            ),\n",
    "            cls=TailwindBuilder().space(2, \"y\").m(4, \"t\").build()\n",
    "        ),\n",
    "        title=\"Style Variations\"\n",
    "    )\n",
    "    \n",
    "    # Real-world examples\n",
    "    tester.add(\n",
    "        Div(\n",
    "            H3(\"Real-World Examples\", cls=TailwindBuilder().text(size=\"lg\", weight=\"bold\").m(2, \"b\").build()),\n",
    "            # Form actions using flex layout\n",
    "            Div(\n",
    "                Btn.cancel().render(),\n",
    "                Btn.submit(\"Save Changes\").render(),\n",
    "                cls=TailwindBuilder().flex().gap(2).justify(\"end\").build()\n",
    "            ),\n",
    "            # Social buttons\n",
    "            Div(\n",
    "                Btn(\"Login with Google\", icon_start=\"🔍\", shape=ButtonShape.WIDE).render(),\n",
    "                Btn(\"Share\", icon_end=\"↗\", style=StyleType.OUTLINE).render(),\n",
    "                cls=TailwindBuilder().flex().gap(2).m(4, \"t\").build()\n",
    "            ),\n",
    "            # Loading states\n",
    "            Div(\n",
    "                Btn(\"Processing...\", loading=True, disabled=True).render(),\n",
    "                Btn(\"Download\", icon_start=\"⬇\", color=SemanticColor.SUCCESS).render(),\n",
    "                cls=TailwindBuilder().flex().gap(2).m(4, \"t\").build()\n",
    "            ),\n",
    "            cls=TailwindBuilder().space(4, \"y\").m(4, \"t\").build()\n",
    "        ),\n",
    "        title=\"Common Patterns\"\n",
    "    )\n",
    "\n",
    "# Pass the tester to start() to run the server\n",
    "# The 'with' statement will automatically call start()\n",
    "HTMX()"
   ]
  },
  {
   "cell_type": "code",
   "execution_count": null,
   "id": "567ea8e6-71da-4004-91aa-15a5caec375a",
   "metadata": {},
   "outputs": [],
   "source": [
    "#|eval: false\n",
    "tester.stop()"
   ]
  },
  {
   "cell_type": "markdown",
   "id": "5c79599a-9ad7-4280-a94f-8768539d010e",
   "metadata": {},
   "source": [
    "## Best Practices: Using Colors with TailwindBuilder\n",
    "\n",
    "When combining TailwindBuilder with daisyUI semantic colors, use the color system from `cjm_fasthtml_daisyui.core.colors`:"
   ]
  },
  {
   "cell_type": "code",
   "execution_count": null,
   "id": "dv4qc302qba",
   "metadata": {},
   "outputs": [
    {
     "name": "stdout",
     "output_type": "stream",
     "text": [
      "Standard Tailwind: bg-blue-500 text-white p-4 rounded\n",
      "Semantic colors: p-4 rounded bg-primary text-primary-content\n",
      "Complex with mixed: flex gap-2 p-4 rounded-lg bg-base-200 text-base-content border-neutral\n",
      "Button with ColorBuilder: px-2 py-1 rounded bg-primary text-primary-content border-primary\n"
     ]
    }
   ],
   "source": [
    "#|eval: false\n",
    "# Best practices for combining TailwindBuilder with daisyUI colors\n",
    "\n",
    "# 1. For standard Tailwind colors, use TailwindBuilder methods\n",
    "tb1 = TailwindBuilder()\n",
    "tb1.bg(\"blue-500\").text(\"white\").p(4).rounded()\n",
    "standard_result = tb1.build()\n",
    "print(f\"Standard Tailwind: {standard_result}\")\n",
    "\n",
    "# 2. For daisyUI semantic colors, use the color system\n",
    "from cjm_fasthtml_daisyui.core.colors import apply_semantic_colors, ColorUtility, SemanticColor\n",
    "\n",
    "tb2 = TailwindBuilder()\n",
    "tb2.p(4).rounded()\n",
    "# Add semantic colors using apply_semantic_colors\n",
    "tb2.add_class(apply_semantic_colors(bg=SemanticColor.PRIMARY))\n",
    "semantic_result = tb2.build()\n",
    "print(f\"Semantic colors: {semantic_result}\")\n",
    "\n",
    "# 3. For complex layouts with mixed colors\n",
    "tb3 = TailwindBuilder()\n",
    "tb3.flex().gap(2).p(4).rounded(\"lg\")\n",
    "# Add daisyUI surface colors\n",
    "tb3.add_class(apply_semantic_colors(\n",
    "    bg=SemanticColor.BASE_200,\n",
    "    border=SemanticColor.NEUTRAL\n",
    "))\n",
    "complex_result = tb3.build()\n",
    "print(f\"Complex with mixed: {complex_result}\")\n",
    "\n",
    "# 4. Using ColorBuilder for semantic color combinations\n",
    "from cjm_fasthtml_daisyui.core.colors import ColorBuilder\n",
    "\n",
    "color_builder = ColorBuilder()\n",
    "button_colors = color_builder.brand_primary().border(SemanticColor.PRIMARY).build()\n",
    "\n",
    "tb4 = TailwindBuilder()\n",
    "tb4.p(2, \"x\").p(1, \"y\").rounded().add_class(button_colors)\n",
    "button_result = tb4.build()\n",
    "print(f\"Button with ColorBuilder: {button_result}\")"
   ]
  },
  {
   "cell_type": "markdown",
   "id": "c9190e6b-03d2-479b-b8b6-03f60754d116",
   "metadata": {},
   "source": [
    "## FastHTML Route Examples\n",
    "\n",
    "Examples of using buttons in FastHTML applications."
   ]
  },
  {
   "cell_type": "markdown",
   "id": "3e3d9751-93ac-4199-80bd-e6a4c02aa7ad",
   "metadata": {},
   "source": [
    "```python\n",
    "from fasthtml.common import *\n",
    "from cjm_tailwind_utils.all import TailwindBuilder\n",
    "from cjm_fasthtml_daisyui.actions.button import Btn\n",
    "\n",
    "app, rt = fast_app()\n",
    "\n",
    "@rt('/')\n",
    "def index():\n",
    "    return Titled(\"Button Examples\",\n",
    "        # Basic form with buttons\n",
    "        Form(\n",
    "            Input(name=\"email\", type=\"email\", placeholder=\"Email\", cls=\"input input-bordered\"),\n",
    "            Div(\n",
    "                Btn.cancel(),\n",
    "                Btn.submit(\"Sign Up\"),\n",
    "                cls=TailwindBuilder().flex().gap(2).justify(\"end\").build()\n",
    "            ),\n",
    "            method=\"post\",\n",
    "            action=\"/signup\",\n",
    "            cls=TailwindBuilder().space(4, \"y\").max_w(\"md\").build()\n",
    "        )\n",
    "    )\n",
    "\n",
    "@rt('/signup')\n",
    "async def signup(email: str):\n",
    "    # Process signup\n",
    "    return Card(\n",
    "        P(f\"Welcome {email}!\"),\n",
    "        Btn.primary(\"Continue\", href=\"/dashboard\")\n",
    "    )\n",
    "\n",
    "@rt('/api/data')\n",
    "def load_data():\n",
    "    # HTMX endpoint\n",
    "    return Ul(\n",
    "        *[Li(f\"Item {i}\") for i in range(5)],\n",
    "        cls=TailwindBuilder().add_class(\"list-disc\").p(5, \"l\").build()\n",
    "    )\n",
    "\n",
    "serve()\n",
    "```"
   ]
  },
  {
   "cell_type": "code",
   "execution_count": null,
   "id": "652e19d8-36f6-4e1f-82cd-6a98eea3ef3d",
   "metadata": {},
   "outputs": [],
   "source": [
    "#| hide\n",
    "import nbdev; nbdev.nbdev_export()"
   ]
  }
 ],
 "metadata": {
  "kernelspec": {
   "display_name": "python3",
   "language": "python",
   "name": "python3"
  }
 },
 "nbformat": 4,
 "nbformat_minor": 5
}
