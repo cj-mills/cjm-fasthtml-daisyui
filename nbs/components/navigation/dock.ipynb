{
 "cells": [
  {
   "cell_type": "markdown",
   "id": "7c51b46b-ece1-456d-8e84-7de122e72b62",
   "metadata": {},
   "source": [
    "# dock\n",
    "\n",
    "> Dock (also know as Bottom navigation or Bottom bar) is a UI element that provides navigation options to the user. Dock sticks to the bottom of the screen."
   ]
  },
  {
   "cell_type": "code",
   "execution_count": null,
   "id": "25536bdc-e099-477f-9e2d-a5f71df5dff2",
   "metadata": {},
   "outputs": [],
   "source": [
    "#| default_exp components.navigation.dock"
   ]
  },
  {
   "cell_type": "code",
   "execution_count": null,
   "id": "2e6f21ce-7766-455a-8ebb-df2c17e7d977",
   "metadata": {},
   "outputs": [],
   "source": [
    "#| hide\n",
    "from nbdev.showdoc import *"
   ]
  },
  {
   "cell_type": "code",
   "execution_count": null,
   "id": "045c6538-403e-4222-b3bb-db20f188524d",
   "metadata": {},
   "outputs": [],
   "source": [
    "#| export\n",
    "\n",
    "from cjm_fasthtml_tailwind.core.base import (\n",
    "    SingleValueFactory, combine_classes\n",
    ")\n",
    "\n",
    "from cjm_fasthtml_tailwind.builders.scales import SimpleFactory, enums_to_simple_factory\n",
    "\n",
    "from cjm_fasthtml_daisyui.builders.sizes import DaisyUINamedSize\n",
    "\n",
    "from fasthtml.common import Div\n",
    "from fasthtml.jupyter import JupyUvi, HTMX\n",
    "from cjm_fasthtml_daisyui.core.testing import create_test_app, create_test_page, start_test_server\n",
    "from cjm_fasthtml_daisyui.core.themes import DaisyUITheme\n",
    "from IPython.display import display"
   ]
  },
  {
   "cell_type": "markdown",
   "id": "5d1e6ac5-4da2-4918-9525-83a6b5c98375",
   "metadata": {},
   "source": [
    "### Base Dock"
   ]
  },
  {
   "cell_type": "code",
   "execution_count": null,
   "id": "c802d106-49fb-4d34-ba04-5f54c88e165b",
   "metadata": {},
   "outputs": [],
   "source": [
    "#| export\n",
    "dock = SingleValueFactory(\"dock\", \"Base dock component\") # Base dock component\n",
    "dock_label = SingleValueFactory(\"dock-label\", \"Text label for Dock Item\") # Dock label"
   ]
  },
  {
   "cell_type": "markdown",
   "id": "57c25761-75b8-4f94-920d-81d8793d0e86",
   "metadata": {},
   "source": [
    "### Dock Modifiers"
   ]
  },
  {
   "cell_type": "code",
   "execution_count": null,
   "id": "636c6bcd-2176-4191-aa39-c937893243e2",
   "metadata": {},
   "outputs": [],
   "source": [
    "#| export\n",
    "dock_modifiers = SimpleFactory(\n",
    "    {\n",
    "        \"active\": \"dock-active\"\n",
    "    },\n",
    "    \"Dock modifiers (active)\"\n",
    ") # Dock modifiers"
   ]
  },
  {
   "cell_type": "markdown",
   "id": "ec1b16bd-ba1c-4ac2-a7f7-8ea53bd9a6ec",
   "metadata": {},
   "source": [
    "### Dock Sizes"
   ]
  },
  {
   "cell_type": "code",
   "execution_count": null,
   "id": "3035ff66-e4e7-410c-8b1e-86a879f66112",
   "metadata": {},
   "outputs": [],
   "source": [
    "#| export\n",
    "dock_sizes = enums_to_simple_factory(dock, [DaisyUINamedSize], \"Dock size variants from extra small to extra large\") # Dock size variants"
   ]
  },
  {
   "cell_type": "markdown",
   "id": "fbd00e7f-b1e7-4369-ba54-f71c1eaefa14",
   "metadata": {},
   "source": [
    "### Dock Test Examples"
   ]
  },
  {
   "cell_type": "code",
   "execution_count": null,
   "id": "85d72161-e718-4c66-bc59-a3569b7f7616",
   "metadata": {},
   "outputs": [],
   "source": [
    "#| export\n",
    "def test_dock_basic_examples():\n",
    "    \"\"\"Test basic dock utilities.\"\"\"\n",
    "    # Basic dock\n",
    "    assert str(dock) == \"dock\"\n",
    "    assert str(dock_label) == \"dock-label\"\n",
    "    \n",
    "    # Dock with modifiers\n",
    "    assert str(dock.hover) == \"hover:dock\"\n",
    "    assert str(dock.md) == \"md:dock\"\n",
    "    assert str(dock.dark) == \"dark:dock\"\n",
    "\n",
    "# Run the tests\n",
    "test_dock_basic_examples()"
   ]
  },
  {
   "cell_type": "code",
   "execution_count": null,
   "id": "214654cc-9758-48f9-92e2-0892029c4512",
   "metadata": {},
   "outputs": [],
   "source": [
    "#| export\n",
    "def test_dock_modifiers_examples():\n",
    "    \"\"\"Test dock modifier utilities.\"\"\"\n",
    "    assert str(dock_modifiers.active) == \"dock-active\"\n",
    "\n",
    "# Run the tests\n",
    "test_dock_modifiers_examples()"
   ]
  },
  {
   "cell_type": "code",
   "execution_count": null,
   "id": "a9d78aa3-0be8-49e6-8bfb-cb9a232ee1ee",
   "metadata": {},
   "outputs": [],
   "source": [
    "#| export\n",
    "def test_dock_sizes_examples():\n",
    "    \"\"\"Test dock size variants.\"\"\"\n",
    "    assert str(dock_sizes.xs) == \"dock-xs\"\n",
    "    assert str(dock_sizes.sm) == \"dock-sm\"\n",
    "    assert str(dock_sizes.md) == \"dock-md\"\n",
    "    assert str(dock_sizes.lg) == \"dock-lg\"\n",
    "    assert str(dock_sizes.xl) == \"dock-xl\"\n",
    "    \n",
    "    # With responsive modifiers\n",
    "    assert str(dock_sizes.xs.sm) == \"sm:dock-xs\"\n",
    "    assert str(dock_sizes.lg.md) == \"md:dock-lg\"\n",
    "\n",
    "# Run the tests\n",
    "test_dock_sizes_examples()"
   ]
  },
  {
   "cell_type": "code",
   "execution_count": null,
   "id": "01785a18-9bb0-4dbc-9eae-04addf6dede9",
   "metadata": {},
   "outputs": [],
   "source": []
  },
  {
   "cell_type": "code",
   "execution_count": null,
   "id": "43a3d5aa-4f07-48f4-b7c3-5c63612f0fb2",
   "metadata": {},
   "outputs": [],
   "source": []
  },
  {
   "cell_type": "code",
   "execution_count": null,
   "id": "248adc40-6e77-4203-9830-de838e25a00a",
   "metadata": {},
   "outputs": [],
   "source": []
  },
  {
   "cell_type": "code",
   "execution_count": null,
   "id": "a2029d6d-bf22-4e16-87e1-d609762dc867",
   "metadata": {},
   "outputs": [],
   "source": []
  },
  {
   "cell_type": "code",
   "execution_count": null,
   "id": "c9dfaad9-504c-4853-886b-2d1adb1cc3a0",
   "metadata": {},
   "outputs": [],
   "source": []
  },
  {
   "cell_type": "code",
   "execution_count": null,
   "id": "454d5b84-fc57-44ab-a6f0-3123333998cb",
   "metadata": {},
   "outputs": [],
   "source": []
  },
  {
   "cell_type": "code",
   "execution_count": null,
   "id": "d471d21b-6fe5-4c63-90be-5176c4cbd08b",
   "metadata": {},
   "outputs": [],
   "source": []
  },
  {
   "cell_type": "code",
   "execution_count": null,
   "id": "73b88b7e-0be6-4a82-9c02-f3df8af20015",
   "metadata": {},
   "outputs": [],
   "source": []
  },
  {
   "cell_type": "code",
   "execution_count": null,
   "id": "7ab8257a-c30b-45b6-a784-729b67686791",
   "metadata": {},
   "outputs": [],
   "source": [
    "#| hide\n",
    "import nbdev; nbdev.nbdev_export()"
   ]
  }
 ],
 "metadata": {
  "kernelspec": {
   "display_name": "python3",
   "language": "python",
   "name": "python3"
  }
 },
 "nbformat": 4,
 "nbformat_minor": 5
}
