{
 "cells": [
  {
   "cell_type": "markdown",
   "id": "7c51b46b-ece1-456d-8e84-7de122e72b62",
   "metadata": {},
   "source": [
    "# menu\n",
    "\n",
    "> Menu is used to display a list of links vertically or horizontally."
   ]
  },
  {
   "cell_type": "code",
   "execution_count": null,
   "id": "25536bdc-e099-477f-9e2d-a5f71df5dff2",
   "metadata": {},
   "outputs": [],
   "source": [
    "#| default_exp components.navigation.menu"
   ]
  },
  {
   "cell_type": "code",
   "execution_count": null,
   "id": "2e6f21ce-7766-455a-8ebb-df2c17e7d977",
   "metadata": {},
   "outputs": [],
   "source": [
    "#| hide\n",
    "from nbdev.showdoc import *"
   ]
  },
  {
   "cell_type": "code",
   "execution_count": null,
   "id": "045c6538-403e-4222-b3bb-db20f188524d",
   "metadata": {},
   "outputs": [],
   "source": [
    "#| export\n",
    "\n",
    "from cjm_fasthtml_tailwind.core.base import (\n",
    "    SingleValueFactory, combine_classes\n",
    ")\n",
    "from cjm_fasthtml_tailwind.builders.scales import SimpleFactory, enums_to_simple_factory\n",
    "\n",
    "from cjm_fasthtml_daisyui.builders.sizes import DaisyUINamedSize\n",
    "\n",
    "from fasthtml.common import Div\n",
    "from fasthtml.jupyter import JupyUvi, HTMX\n",
    "from cjm_fasthtml_daisyui.core.testing import create_test_app, create_test_page, start_test_server\n",
    "from cjm_fasthtml_daisyui.core.themes import DaisyUITheme\n",
    "from IPython.display import display"
   ]
  },
  {
   "cell_type": "markdown",
   "id": "fbc5b0a7-c562-4031-80b2-3accf50ac849",
   "metadata": {},
   "source": [
    "### Base Menu"
   ]
  },
  {
   "cell_type": "code",
   "execution_count": null,
   "id": "c802d106-49fb-4d34-ba04-5f54c88e165b",
   "metadata": {},
   "outputs": [],
   "source": [
    "#| export\n",
    "menu = SingleValueFactory(\"menu\", \"Base menu component for displaying a <ul> list of links vertically or horizontally\") # Base menu component\n",
    "menu_title = SingleValueFactory(\"menu-title\", \"Menu title part for styling a <li> as a title\") # Menu title part\n",
    "menu_dropdown = SingleValueFactory(\"menu-dropdown\", \"Menu dropdown part for the collapsible <ul> if you want to show it using JS\") # Menu dropdown part\n",
    "menu_dropdown_toggle = SingleValueFactory(\"menu-dropdown-toggle\", \"Menu part for the toggle to show/hide the menu-dropdown using JS\") # Menu dropdown toggle part"
   ]
  },
  {
   "cell_type": "markdown",
   "id": "4c7cdeb7-f732-4d67-8831-434a0e226fe3",
   "metadata": {},
   "source": [
    "### Menu Modifiers"
   ]
  },
  {
   "cell_type": "code",
   "execution_count": null,
   "id": "636c6bcd-2176-4191-aa39-c937893243e2",
   "metadata": {},
   "outputs": [],
   "source": [
    "#| export\n",
    "menu_modifiers = SimpleFactory(\n",
    "    {\n",
    "        \"disabled\": \"menu-disabled\",\n",
    "        \"active\": \"menu-active\",\n",
    "        \"focus\": \"menu-focus\",\n",
    "        \"dropdown-show\": \"menu-dropdown-show\"\n",
    "    },\n",
    "    \"Menu modifiers (disabled, active, focus, show dropdown)\"\n",
    ") # Menu modifiers"
   ]
  },
  {
   "cell_type": "markdown",
   "id": "e095989a-a5c9-44a1-b571-f9651c875f46",
   "metadata": {},
   "source": [
    "### Menu Sizes"
   ]
  },
  {
   "cell_type": "code",
   "execution_count": null,
   "id": "3035ff66-e4e7-410c-8b1e-86a879f66112",
   "metadata": {},
   "outputs": [],
   "source": [
    "#| export\n",
    "menu_sizes = enums_to_simple_factory(menu, [DaisyUINamedSize], \"Menu size variants from extra small to extra large\") # Menu size variants"
   ]
  },
  {
   "cell_type": "markdown",
   "id": "7d6a334f-72e8-4233-bd27-cfdb79b2a894",
   "metadata": {},
   "source": [
    "### Menu Directions"
   ]
  },
  {
   "cell_type": "code",
   "execution_count": null,
   "id": "cfd721b2-54ed-45e5-a516-42e679ec0b06",
   "metadata": {},
   "outputs": [],
   "source": [
    "#| export\n",
    "menu_directions = SimpleFactory(\n",
    "    {\n",
    "        \"vertical\": \"menu-vertical\",\n",
    "        \"horizontal\": \"menu-horizontal\",\n",
    "    },\n",
    "    \"Menu directions (vertical, horizontal)\"\n",
    ") # Menu directions"
   ]
  },
  {
   "cell_type": "markdown",
   "id": "76fa09c4-10be-4c4f-87d4-0d93f6fcb5ba",
   "metadata": {},
   "source": [
    "### Menu Test Examples"
   ]
  },
  {
   "cell_type": "code",
   "execution_count": null,
   "id": "85d72161-e718-4c66-bc59-a3569b7f7616",
   "metadata": {},
   "outputs": [],
   "source": [
    "#| export\n",
    "def test_menu_basic_examples():\n",
    "    \"\"\"Test basic menu utilities.\"\"\"\n",
    "    # Basic menu\n",
    "    assert str(menu) == \"menu\"\n",
    "    assert str(menu_title) == \"menu-title\"\n",
    "    assert str(menu_dropdown) == \"menu-dropdown\"\n",
    "    assert str(menu_dropdown_toggle) == \"menu-dropdown-toggle\"\n",
    "    \n",
    "    # menu with modifiers\n",
    "    assert str(menu.hover) == \"hover:menu\"\n",
    "    assert str(menu.md) == \"md:menu\"\n",
    "    assert str(menu.dark) == \"dark:menu\"\n",
    "\n",
    "# Run the tests\n",
    "test_menu_basic_examples()"
   ]
  },
  {
   "cell_type": "code",
   "execution_count": null,
   "id": "214654cc-9758-48f9-92e2-0892029c4512",
   "metadata": {},
   "outputs": [],
   "source": [
    "#| export\n",
    "def test_menu_modifiers_examples():\n",
    "    \"\"\"Test menu modifier utilities.\"\"\"\n",
    "    assert str(menu_modifiers.disabled) == \"menu-disabled\"\n",
    "    assert str(menu_modifiers.active) == \"menu-active\"\n",
    "    assert str(menu_modifiers.focus) == \"menu-focus\"\n",
    "    assert str(menu_modifiers.dropdown_show) == \"menu-dropdown-show\"\n",
    "\n",
    "# Run the tests\n",
    "test_menu_modifiers_examples()"
   ]
  },
  {
   "cell_type": "code",
   "execution_count": null,
   "id": "0819e760-7709-4b80-817f-a92a87359fa3",
   "metadata": {},
   "outputs": [],
   "source": [
    "#| export\n",
    "def test_menu_sizes_examples():\n",
    "    \"\"\"Test menu size variants.\"\"\"\n",
    "    assert str(menu_sizes.xs) == \"menu-xs\"\n",
    "    assert str(menu_sizes.sm) == \"menu-sm\"\n",
    "    assert str(menu_sizes.md) == \"menu-md\"\n",
    "    assert str(menu_sizes.lg) == \"menu-lg\"\n",
    "    assert str(menu_sizes.xl) == \"menu-xl\"\n",
    "    \n",
    "    # With responsive modifiers\n",
    "    assert str(menu_sizes.xs.sm) == \"sm:menu-xs\"\n",
    "    assert str(menu_sizes.lg.md) == \"md:menu-lg\"\n",
    "\n",
    "# Run the tests\n",
    "test_menu_sizes_examples()"
   ]
  },
  {
   "cell_type": "code",
   "execution_count": null,
   "id": "4c39c1f9-90e2-4ff2-a864-d57b471ef55b",
   "metadata": {},
   "outputs": [],
   "source": [
    "#| export\n",
    "def test_menu_directions_examples():\n",
    "    \"\"\"Test menu direction utilities.\"\"\"\n",
    "    assert str(menu_directions.vertical) == \"menu-vertical\"\n",
    "    assert str(menu_directions.horizontal) == \"menu-horizontal\"\n",
    "\n",
    "# Run the tests\n",
    "test_menu_directions_examples()"
   ]
  },
  {
   "cell_type": "code",
   "execution_count": null,
   "id": "a9d78aa3-0be8-49e6-8bfb-cb9a232ee1ee",
   "metadata": {},
   "outputs": [],
   "source": []
  },
  {
   "cell_type": "code",
   "execution_count": null,
   "id": "630f91db-ea23-4af7-8b35-1a5730fb7f51",
   "metadata": {},
   "outputs": [],
   "source": []
  },
  {
   "cell_type": "code",
   "execution_count": null,
   "id": "43a3d5aa-4f07-48f4-b7c3-5c63612f0fb2",
   "metadata": {},
   "outputs": [],
   "source": []
  },
  {
   "cell_type": "code",
   "execution_count": null,
   "id": "248adc40-6e77-4203-9830-de838e25a00a",
   "metadata": {},
   "outputs": [],
   "source": []
  },
  {
   "cell_type": "code",
   "execution_count": null,
   "id": "a2029d6d-bf22-4e16-87e1-d609762dc867",
   "metadata": {},
   "outputs": [],
   "source": []
  },
  {
   "cell_type": "code",
   "execution_count": null,
   "id": "c9dfaad9-504c-4853-886b-2d1adb1cc3a0",
   "metadata": {},
   "outputs": [],
   "source": []
  },
  {
   "cell_type": "code",
   "execution_count": null,
   "id": "454d5b84-fc57-44ab-a6f0-3123333998cb",
   "metadata": {},
   "outputs": [],
   "source": []
  },
  {
   "cell_type": "code",
   "execution_count": null,
   "id": "d471d21b-6fe5-4c63-90be-5176c4cbd08b",
   "metadata": {},
   "outputs": [],
   "source": []
  },
  {
   "cell_type": "code",
   "execution_count": null,
   "id": "73b88b7e-0be6-4a82-9c02-f3df8af20015",
   "metadata": {},
   "outputs": [],
   "source": []
  },
  {
   "cell_type": "code",
   "execution_count": null,
   "id": "7ab8257a-c30b-45b6-a784-729b67686791",
   "metadata": {},
   "outputs": [],
   "source": [
    "#| hide\n",
    "import nbdev; nbdev.nbdev_export()"
   ]
  }
 ],
 "metadata": {
  "kernelspec": {
   "display_name": "python3",
   "language": "python",
   "name": "python3"
  }
 },
 "nbformat": 4,
 "nbformat_minor": 5
}
