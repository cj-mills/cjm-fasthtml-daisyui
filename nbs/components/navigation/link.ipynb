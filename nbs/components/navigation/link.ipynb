{
 "cells": [
  {
   "cell_type": "markdown",
   "id": "7c51b46b-ece1-456d-8e84-7de122e72b62",
   "metadata": {},
   "source": [
    "# link\n",
    "\n",
    "> Link adds the missing underline style to links."
   ]
  },
  {
   "cell_type": "code",
   "execution_count": null,
   "id": "25536bdc-e099-477f-9e2d-a5f71df5dff2",
   "metadata": {},
   "outputs": [],
   "source": [
    "#| default_exp components.navigation.link"
   ]
  },
  {
   "cell_type": "code",
   "execution_count": null,
   "id": "2e6f21ce-7766-455a-8ebb-df2c17e7d977",
   "metadata": {},
   "outputs": [],
   "source": [
    "#| hide\n",
    "from nbdev.showdoc import *"
   ]
  },
  {
   "cell_type": "code",
   "execution_count": null,
   "id": "045c6538-403e-4222-b3bb-db20f188524d",
   "metadata": {},
   "outputs": [],
   "source": [
    "#| export\n",
    "from enum import Enum\n",
    "from cjm_fasthtml_tailwind.core.base import (\n",
    "    SingleValueFactory, combine_classes\n",
    ")\n",
    "from cjm_fasthtml_tailwind.builders.scales import SimpleFactory, enums_to_simple_factory\n",
    "\n",
    "from cjm_fasthtml_daisyui.builders.colors import SemanticColorBrand, SemanticColorStatus\n",
    "from cjm_fasthtml_daisyui.builders.sizes import DaisyUINamedSize\n",
    "\n",
    "from fasthtml.common import Div\n",
    "from fasthtml.jupyter import JupyUvi, HTMX\n",
    "from cjm_fasthtml_daisyui.core.testing import create_test_app, create_test_page, start_test_server\n",
    "from cjm_fasthtml_daisyui.core.themes import DaisyUITheme\n",
    "from IPython.display import display"
   ]
  },
  {
   "cell_type": "markdown",
   "id": "c067a2e7-8f36-40b0-aad1-b900a3ec37ee",
   "metadata": {},
   "source": [
    "### Link Component"
   ]
  },
  {
   "cell_type": "code",
   "execution_count": null,
   "id": "c802d106-49fb-4d34-ba04-5f54c88e165b",
   "metadata": {},
   "outputs": [],
   "source": [
    "#| exports\n",
    "link = SingleValueFactory(\"link\", \"Link component for adding underline style to links\") # Link component"
   ]
  },
  {
   "cell_type": "markdown",
   "id": "c42843b3-cf24-47b2-bb27-348aa7f3b72b",
   "metadata": {},
   "source": [
    "### Link Styles"
   ]
  },
  {
   "cell_type": "code",
   "execution_count": null,
   "id": "dc931da1-66e6-4c67-8179-f5a55b99b8b0",
   "metadata": {},
   "outputs": [],
   "source": [
    "#| exports\n",
    "class LinkStyle(str, Enum):\n",
    "    HOVER = \"hover\"\n",
    "\n",
    "link_styles = enums_to_simple_factory(link, [LinkStyle]) # Link style variants"
   ]
  },
  {
   "cell_type": "markdown",
   "id": "f5e0605f-e22a-4798-aae5-43faa5abad1c",
   "metadata": {},
   "source": [
    "### Link Colors"
   ]
  },
  {
   "cell_type": "code",
   "execution_count": null,
   "id": "636c6bcd-2176-4191-aa39-c937893243e2",
   "metadata": {},
   "outputs": [],
   "source": [
    "#| exports\n",
    "link_colors = enums_to_simple_factory(link, [SemanticColorBrand, SemanticColorStatus], \"Link color variants using daisyUI semantic colors\") # Link color variants"
   ]
  },
  {
   "cell_type": "markdown",
   "id": "83d382b1-b22e-40b8-8083-1efd37243990",
   "metadata": {},
   "source": [
    "### Link Test Examples"
   ]
  },
  {
   "cell_type": "code",
   "execution_count": null,
   "id": "3035ff66-e4e7-410c-8b1e-86a879f66112",
   "metadata": {},
   "outputs": [],
   "source": [
    "#|exports\n",
    "def test_link_basic_examples():\n",
    "    \"\"\"Test basic link utilities.\"\"\"\n",
    "    # Basic link\n",
    "    assert str(link) == \"link\"\n",
    "    \n",
    "    # link with modifiers\n",
    "    assert str(link.hover) == \"hover:link\"\n",
    "    assert str(link.md) == \"md:link\"\n",
    "    assert str(link.dark) == \"dark:link\"\n",
    "\n",
    "# Run the tests\n",
    "test_link_basic_examples()"
   ]
  },
  {
   "cell_type": "code",
   "execution_count": null,
   "id": "fcb6ee61-0cb5-4811-815a-7965ff2be2ac",
   "metadata": {},
   "outputs": [],
   "source": [
    "#|exports\n",
    "def test_link_styles_examples():\n",
    "    \"\"\"Test link style variants.\"\"\"\n",
    "    assert str(link_styles.hover) == \"link-hover\"\n",
    "\n",
    "# Run the tests\n",
    "test_link_styles_examples()"
   ]
  },
  {
   "cell_type": "code",
   "execution_count": null,
   "id": "4666a5a3-26bb-4d91-b5be-f941df8f9d2f",
   "metadata": {},
   "outputs": [],
   "source": [
    "#|exports\n",
    "def test_link_colors_examples():\n",
    "    \"\"\"Test link color variants.\"\"\"\n",
    "    # All color variants\n",
    "    assert str(link_colors.neutral) == \"link-neutral\"\n",
    "    assert str(link_colors.primary) == \"link-primary\"\n",
    "    assert str(link_colors.secondary) == \"link-secondary\"\n",
    "    assert str(link_colors.accent) == \"link-accent\"\n",
    "    assert str(link_colors.info) == \"link-info\"\n",
    "    assert str(link_colors.success) == \"link-success\"\n",
    "    assert str(link_colors.warning) == \"link-warning\"\n",
    "    assert str(link_colors.error) == \"link-error\"\n",
    "    \n",
    "    # With modifiers\n",
    "    assert str(link_colors.primary.hover) == \"hover:link-primary\"\n",
    "    assert str(link_colors.success.focus) == \"focus:link-success\"\n",
    "\n",
    "# Run the tests\n",
    "test_link_colors_examples()"
   ]
  },
  {
   "cell_type": "code",
   "execution_count": null,
   "id": "85d72161-e718-4c66-bc59-a3569b7f7616",
   "metadata": {},
   "outputs": [
    {
     "data": {
      "text/markdown": [
       "```html\n",
       "<div>\n",
       "<a href=\"#\" class=\"link\">Click me</a>  <p>\n",
       "Tailwind CSS resets the style of links by default.<br>Add &quot;link&quot; class to make it look like a <a href=\"#\" class=\"link\">normal link</a> again.  </p>\n",
       "</div>\n",
       "\n",
       "```"
      ],
      "text/plain": [
       "div((a(('Click me',),{'href': '#', 'class': 'link'}), p(('Tailwind CSS resets the style of links by default.', br((),{}), 'Add \"link\" class to make it look like a ', a(('normal link',),{'href': '#', 'class': 'link'}), ' again.'),{})),{})"
      ]
     },
     "execution_count": null,
     "metadata": {},
     "output_type": "execute_result"
    }
   ],
   "source": [
    "#|exports\n",
    "def test_link_basic_fasthtml_examples():\n",
    "    \"\"\"Test basic link examples from daisyUI v5 documentation.\"\"\"\n",
    "    from fasthtml.common import A, P, Br, Div\n",
    "    \n",
    "    # Basic link\n",
    "    basic_link = A(\"Click me\", cls=str(link), href=\"#\")\n",
    "    assert basic_link.tag == \"a\"\n",
    "    assert basic_link.attrs['class'] == \"link\"\n",
    "    assert basic_link.attrs['href'] == \"#\"\n",
    "    assert basic_link.children[0] == \"Click me\"\n",
    "    \n",
    "    # Link within paragraph text\n",
    "    paragraph_with_link = P(\n",
    "        \"Tailwind CSS resets the style of links by default.\",\n",
    "        Br(),\n",
    "        \"Add \\\"link\\\" class to make it look like a \",\n",
    "        A(\"normal link\", cls=str(link), href=\"#\"),\n",
    "        \" again.\"\n",
    "    )\n",
    "    assert paragraph_with_link.tag == \"p\"\n",
    "    assert paragraph_with_link.children[0] == \"Tailwind CSS resets the style of links by default.\"\n",
    "    assert paragraph_with_link.children[1].tag == \"br\"\n",
    "    assert paragraph_with_link.children[2] == \"Add \\\"link\\\" class to make it look like a \"\n",
    "    assert paragraph_with_link.children[3].tag == \"a\"\n",
    "    assert paragraph_with_link.children[3].attrs['class'] == \"link\"\n",
    "    assert paragraph_with_link.children[3].attrs['href'] == \"#\"\n",
    "    assert paragraph_with_link.children[3].children[0] == \"normal link\"\n",
    "    assert paragraph_with_link.children[4] == \" again.\"\n",
    "    \n",
    "    # Return all elements in a Div\n",
    "    return Div(\n",
    "        basic_link,\n",
    "        paragraph_with_link\n",
    "    )\n",
    "\n",
    "# Run the tests\n",
    "test_link_basic_fasthtml_examples()"
   ]
  },
  {
   "cell_type": "code",
   "execution_count": null,
   "id": "214654cc-9758-48f9-92e2-0892029c4512",
   "metadata": {},
   "outputs": [
    {
     "data": {
      "text/html": [
       "\n",
       "<script>\n",
       "document.body.addEventListener('htmx:configRequest', (event) => {\n",
       "    if(event.detail.path.includes('://')) return;\n",
       "    htmx.config.selfRequestsOnly=false;\n",
       "    event.detail.path = `${location.protocol}//${location.hostname}:8000${event.detail.path}`;\n",
       "});\n",
       "</script>"
      ],
      "text/plain": [
       "<IPython.core.display.HTML object>"
      ]
     },
     "metadata": {},
     "output_type": "display_data"
    },
    {
     "data": {
      "text/html": [
       "<iframe src=\"http://localhost:8000/\" style=\"width: 100%; height: auto; border: none;\" onload=\"{\n",
       "        let frame = this;\n",
       "        window.addEventListener('message', function(e) {\n",
       "            if (e.source !== frame.contentWindow) return; // Only proceed if the message is from this iframe\n",
       "            if (e.data.height) frame.style.height = (e.data.height+1) + 'px';\n",
       "        }, false);\n",
       "    }\" allow=\"accelerometer; autoplay; camera; clipboard-read; clipboard-write; display-capture; encrypted-media; fullscreen; gamepad; geolocation; gyroscope; hid; identity-credentials-get; idle-detection; magnetometer; microphone; midi; payment; picture-in-picture; publickey-credentials-get; screen-wake-lock; serial; usb; web-share; xr-spatial-tracking\"></iframe> "
      ],
      "text/plain": [
       "<IPython.core.display.HTML object>"
      ]
     },
     "metadata": {},
     "output_type": "display_data"
    }
   ],
   "source": [
    "#| eval: false\n",
    "#| output: false\n",
    "test_func = test_link_basic_fasthtml_examples\n",
    "app, rt = create_test_app(theme=DaisyUITheme.LIGHT)\n",
    "\n",
    "@rt\n",
    "def index():\n",
    "    return create_test_page(test_func.__doc__.title().replace('.', ''), test_func())\n",
    "server = start_test_server(app)\n",
    "display(HTMX())\n",
    "server.stop()"
   ]
  },
  {
   "cell_type": "code",
   "execution_count": null,
   "id": "a9d78aa3-0be8-49e6-8bfb-cb9a232ee1ee",
   "metadata": {},
   "outputs": [
    {
     "data": {
      "text/markdown": [
       "```html\n",
       "<div>\n",
       "<a href=\"#\" class=\"link link-primary\">Click me</a><a href=\"#\" class=\"link link-secondary\">Click me</a><a href=\"#\" class=\"link link-accent\">Click me</a><a href=\"#\" class=\"link link-neutral\">Click me</a><a href=\"#\" class=\"link link-success\">Click me</a><a href=\"#\" class=\"link link-info\">Click me</a><a href=\"#\" class=\"link link-warning\">Click me</a><a href=\"#\" class=\"link link-error\">Click me</a></div>\n",
       "\n",
       "```"
      ],
      "text/plain": [
       "div((a(('Click me',),{'href': '#', 'class': 'link link-primary'}), a(('Click me',),{'href': '#', 'class': 'link link-secondary'}), a(('Click me',),{'href': '#', 'class': 'link link-accent'}), a(('Click me',),{'href': '#', 'class': 'link link-neutral'}), a(('Click me',),{'href': '#', 'class': 'link link-success'}), a(('Click me',),{'href': '#', 'class': 'link link-info'}), a(('Click me',),{'href': '#', 'class': 'link link-warning'}), a(('Click me',),{'href': '#', 'class': 'link link-error'})),{})"
      ]
     },
     "execution_count": null,
     "metadata": {},
     "output_type": "execute_result"
    }
   ],
   "source": [
    "#|exports\n",
    "def test_link_colors_fasthtml_examples():\n",
    "    \"\"\"Test link color variations from daisyUI v5 documentation.\"\"\"\n",
    "    from fasthtml.common import A, Div\n",
    "    \n",
    "    # Primary color link\n",
    "    primary_link = A(\"Click me\", cls=combine_classes(link, link_colors.primary), href=\"#\")\n",
    "    assert primary_link.tag == \"a\"\n",
    "    assert \"link\" in primary_link.attrs['class']\n",
    "    assert \"link-primary\" in primary_link.attrs['class']\n",
    "    assert primary_link.attrs['href'] == \"#\"\n",
    "    assert primary_link.children[0] == \"Click me\"\n",
    "    \n",
    "    # Secondary color link\n",
    "    secondary_link = A(\"Click me\", cls=combine_classes(link, link_colors.secondary), href=\"#\")\n",
    "    assert \"link\" in secondary_link.attrs['class']\n",
    "    assert \"link-secondary\" in secondary_link.attrs['class']\n",
    "    assert secondary_link.children[0] == \"Click me\"\n",
    "    \n",
    "    # Accent color link\n",
    "    accent_link = A(\"Click me\", cls=combine_classes(link, link_colors.accent), href=\"#\")\n",
    "    assert \"link\" in accent_link.attrs['class']\n",
    "    assert \"link-accent\" in accent_link.attrs['class']\n",
    "    assert accent_link.children[0] == \"Click me\"\n",
    "    \n",
    "    # Neutral color link\n",
    "    neutral_link = A(\"Click me\", cls=combine_classes(link, link_colors.neutral), href=\"#\")\n",
    "    assert \"link\" in neutral_link.attrs['class']\n",
    "    assert \"link-neutral\" in neutral_link.attrs['class']\n",
    "    assert neutral_link.children[0] == \"Click me\"\n",
    "    \n",
    "    # Success color link\n",
    "    success_link = A(\"Click me\", cls=combine_classes(link, link_colors.success), href=\"#\")\n",
    "    assert \"link\" in success_link.attrs['class']\n",
    "    assert \"link-success\" in success_link.attrs['class']\n",
    "    assert success_link.children[0] == \"Click me\"\n",
    "    \n",
    "    # Info color link\n",
    "    info_link = A(\"Click me\", cls=combine_classes(link, link_colors.info), href=\"#\")\n",
    "    assert \"link\" in info_link.attrs['class']\n",
    "    assert \"link-info\" in info_link.attrs['class']\n",
    "    assert info_link.children[0] == \"Click me\"\n",
    "    \n",
    "    # Warning color link\n",
    "    warning_link = A(\"Click me\", cls=combine_classes(link, link_colors.warning), href=\"#\")\n",
    "    assert \"link\" in warning_link.attrs['class']\n",
    "    assert \"link-warning\" in warning_link.attrs['class']\n",
    "    assert warning_link.children[0] == \"Click me\"\n",
    "    \n",
    "    # Error color link\n",
    "    error_link = A(\"Click me\", cls=combine_classes(link, link_colors.error), href=\"#\")\n",
    "    assert \"link\" in error_link.attrs['class']\n",
    "    assert \"link-error\" in error_link.attrs['class']\n",
    "    assert error_link.children[0] == \"Click me\"\n",
    "    \n",
    "    # Return all color variations in a Div\n",
    "    return Div(\n",
    "        primary_link,\n",
    "        secondary_link,\n",
    "        accent_link,\n",
    "        neutral_link,\n",
    "        success_link,\n",
    "        info_link,\n",
    "        warning_link,\n",
    "        error_link\n",
    "    )\n",
    "\n",
    "# Run the tests\n",
    "test_link_colors_fasthtml_examples()"
   ]
  },
  {
   "cell_type": "code",
   "execution_count": null,
   "id": "01785a18-9bb0-4dbc-9eae-04addf6dede9",
   "metadata": {},
   "outputs": [
    {
     "data": {
      "text/html": [
       "\n",
       "<script>\n",
       "document.body.addEventListener('htmx:configRequest', (event) => {\n",
       "    if(event.detail.path.includes('://')) return;\n",
       "    htmx.config.selfRequestsOnly=false;\n",
       "    event.detail.path = `${location.protocol}//${location.hostname}:8000${event.detail.path}`;\n",
       "});\n",
       "</script>"
      ],
      "text/plain": [
       "<IPython.core.display.HTML object>"
      ]
     },
     "metadata": {},
     "output_type": "display_data"
    },
    {
     "data": {
      "text/html": [
       "<iframe src=\"http://localhost:8000/\" style=\"width: 100%; height: auto; border: none;\" onload=\"{\n",
       "        let frame = this;\n",
       "        window.addEventListener('message', function(e) {\n",
       "            if (e.source !== frame.contentWindow) return; // Only proceed if the message is from this iframe\n",
       "            if (e.data.height) frame.style.height = (e.data.height+1) + 'px';\n",
       "        }, false);\n",
       "    }\" allow=\"accelerometer; autoplay; camera; clipboard-read; clipboard-write; display-capture; encrypted-media; fullscreen; gamepad; geolocation; gyroscope; hid; identity-credentials-get; idle-detection; magnetometer; microphone; midi; payment; picture-in-picture; publickey-credentials-get; screen-wake-lock; serial; usb; web-share; xr-spatial-tracking\"></iframe> "
      ],
      "text/plain": [
       "<IPython.core.display.HTML object>"
      ]
     },
     "metadata": {},
     "output_type": "display_data"
    }
   ],
   "source": [
    "#| eval: false\n",
    "#| output: false\n",
    "test_func = test_link_colors_fasthtml_examples\n",
    "app, rt = create_test_app(theme=DaisyUITheme.LIGHT)\n",
    "\n",
    "@rt\n",
    "def index():\n",
    "    return create_test_page(test_func.__doc__.title().replace('.', ''), test_func())\n",
    "server = start_test_server(app)\n",
    "display(HTMX())\n",
    "server.stop()"
   ]
  },
  {
   "cell_type": "code",
   "execution_count": null,
   "id": "43a3d5aa-4f07-48f4-b7c3-5c63612f0fb2",
   "metadata": {},
   "outputs": [
    {
     "data": {
      "text/markdown": [
       "```html\n",
       "<div>\n",
       "<a href=\"#\" class=\"link link-hover\">Click me</a></div>\n",
       "\n",
       "```"
      ],
      "text/plain": [
       "div((a(('Click me',),{'href': '#', 'class': 'link link-hover'}),),{})"
      ]
     },
     "execution_count": null,
     "metadata": {},
     "output_type": "execute_result"
    }
   ],
   "source": [
    "#|exports\n",
    "def test_link_hover_fasthtml_examples():\n",
    "    \"\"\"Test link hover style from daisyUI v5 documentation.\"\"\"\n",
    "    from fasthtml.common import A, Div\n",
    "    \n",
    "    # Link with underline only on hover\n",
    "    hover_link = A(\"Click me\", cls=combine_classes(link, link_styles.hover), href=\"#\")\n",
    "    assert hover_link.tag == \"a\"\n",
    "    assert \"link\" in hover_link.attrs['class']\n",
    "    assert \"link-hover\" in hover_link.attrs['class']\n",
    "    assert hover_link.attrs['href'] == \"#\"\n",
    "    assert hover_link.children[0] == \"Click me\"\n",
    "    \n",
    "    # Return element in a Div\n",
    "    return Div(hover_link)\n",
    "\n",
    "# Run the tests\n",
    "test_link_hover_fasthtml_examples()"
   ]
  },
  {
   "cell_type": "code",
   "execution_count": null,
   "id": "248adc40-6e77-4203-9830-de838e25a00a",
   "metadata": {},
   "outputs": [
    {
     "data": {
      "text/html": [
       "\n",
       "<script>\n",
       "document.body.addEventListener('htmx:configRequest', (event) => {\n",
       "    if(event.detail.path.includes('://')) return;\n",
       "    htmx.config.selfRequestsOnly=false;\n",
       "    event.detail.path = `${location.protocol}//${location.hostname}:8000${event.detail.path}`;\n",
       "});\n",
       "</script>"
      ],
      "text/plain": [
       "<IPython.core.display.HTML object>"
      ]
     },
     "metadata": {},
     "output_type": "display_data"
    },
    {
     "data": {
      "text/html": [
       "<iframe src=\"http://localhost:8000/\" style=\"width: 100%; height: auto; border: none;\" onload=\"{\n",
       "        let frame = this;\n",
       "        window.addEventListener('message', function(e) {\n",
       "            if (e.source !== frame.contentWindow) return; // Only proceed if the message is from this iframe\n",
       "            if (e.data.height) frame.style.height = (e.data.height+1) + 'px';\n",
       "        }, false);\n",
       "    }\" allow=\"accelerometer; autoplay; camera; clipboard-read; clipboard-write; display-capture; encrypted-media; fullscreen; gamepad; geolocation; gyroscope; hid; identity-credentials-get; idle-detection; magnetometer; microphone; midi; payment; picture-in-picture; publickey-credentials-get; screen-wake-lock; serial; usb; web-share; xr-spatial-tracking\"></iframe> "
      ],
      "text/plain": [
       "<IPython.core.display.HTML object>"
      ]
     },
     "metadata": {},
     "output_type": "display_data"
    }
   ],
   "source": [
    "#| eval: false\n",
    "#| output: false\n",
    "test_func = test_link_hover_fasthtml_examples\n",
    "app, rt = create_test_app(theme=DaisyUITheme.LIGHT)\n",
    "\n",
    "@rt\n",
    "def index():\n",
    "    return create_test_page(test_func.__doc__.title().replace('.', ''), test_func())\n",
    "server = start_test_server(app)\n",
    "display(HTMX())\n",
    "server.stop()"
   ]
  },
  {
   "cell_type": "code",
   "execution_count": null,
   "id": "a2029d6d-bf22-4e16-87e1-d609762dc867",
   "metadata": {},
   "outputs": [],
   "source": []
  },
  {
   "cell_type": "code",
   "execution_count": null,
   "id": "c9dfaad9-504c-4853-886b-2d1adb1cc3a0",
   "metadata": {},
   "outputs": [],
   "source": []
  },
  {
   "cell_type": "code",
   "execution_count": null,
   "id": "454d5b84-fc57-44ab-a6f0-3123333998cb",
   "metadata": {},
   "outputs": [],
   "source": []
  },
  {
   "cell_type": "code",
   "execution_count": null,
   "id": "d471d21b-6fe5-4c63-90be-5176c4cbd08b",
   "metadata": {},
   "outputs": [],
   "source": []
  },
  {
   "cell_type": "code",
   "execution_count": null,
   "id": "73b88b7e-0be6-4a82-9c02-f3df8af20015",
   "metadata": {},
   "outputs": [],
   "source": []
  },
  {
   "cell_type": "code",
   "execution_count": null,
   "id": "7ab8257a-c30b-45b6-a784-729b67686791",
   "metadata": {},
   "outputs": [],
   "source": [
    "#| hide\n",
    "import nbdev; nbdev.nbdev_export()"
   ]
  }
 ],
 "metadata": {
  "kernelspec": {
   "display_name": "python3",
   "language": "python",
   "name": "python3"
  }
 },
 "nbformat": 4,
 "nbformat_minor": 5
}
