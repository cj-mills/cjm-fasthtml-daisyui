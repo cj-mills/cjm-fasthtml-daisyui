{
 "cells": [
  {
   "cell_type": "markdown",
   "id": "7c51b46b-ece1-456d-8e84-7de122e72b62",
   "metadata": {},
   "source": [
    "# tabs\n",
    "\n",
    "> Tabs can be used to show a list of links in a tabbed format."
   ]
  },
  {
   "cell_type": "code",
   "execution_count": null,
   "id": "25536bdc-e099-477f-9e2d-a5f71df5dff2",
   "metadata": {},
   "outputs": [],
   "source": [
    "#| default_exp components.navigation.tabs"
   ]
  },
  {
   "cell_type": "code",
   "execution_count": null,
   "id": "2e6f21ce-7766-455a-8ebb-df2c17e7d977",
   "metadata": {},
   "outputs": [],
   "source": [
    "#| hide\n",
    "from nbdev.showdoc import *"
   ]
  },
  {
   "cell_type": "code",
   "execution_count": null,
   "id": "045c6538-403e-4222-b3bb-db20f188524d",
   "metadata": {},
   "outputs": [],
   "source": [
    "#| export\n",
    "from enum import Enum\n",
    "from cjm_fasthtml_tailwind.core.base import (\n",
    "    SingleValueFactory, combine_classes\n",
    ")\n",
    "from cjm_fasthtml_tailwind.builders.scales import SimpleFactory, enums_to_simple_factory\n",
    "\n",
    "from cjm_fasthtml_daisyui.builders.sizes import DaisyUINamedSize\n",
    "from cjm_fasthtml_daisyui.builders.styles import BorderStyle\n",
    "\n",
    "from fasthtml.common import Div\n",
    "from fasthtml.jupyter import JupyUvi, HTMX\n",
    "from cjm_fasthtml_daisyui.core.testing import create_test_app, create_test_page, start_test_server\n",
    "from cjm_fasthtml_daisyui.core.themes import DaisyUITheme\n",
    "from IPython.display import display"
   ]
  },
  {
   "cell_type": "markdown",
   "id": "5e35210d-3455-4a1d-8f86-7e7daeeb03df",
   "metadata": {},
   "source": [
    "### Base Tabs"
   ]
  },
  {
   "cell_type": "code",
   "execution_count": null,
   "id": "c802d106-49fb-4d34-ba04-5f54c88e165b",
   "metadata": {},
   "outputs": [],
   "source": [
    "#| export\n",
    "tabs = SingleValueFactory(\"tabs\", \"Container of multiple tab items\") # Base tabs component\n",
    "tab = SingleValueFactory(\"tab\", \"A single tab button (can be button, link, div, radio input, etc)\") # tab part\n",
    "tab_content = SingleValueFactory(\"tab-content\", \"Tab content that comes immediately after a tab\") # tab content part"
   ]
  },
  {
   "cell_type": "markdown",
   "id": "8b7e7500-89da-4875-a198-1da954cbfd75",
   "metadata": {},
   "source": [
    "### Tabs Styles"
   ]
  },
  {
   "cell_type": "code",
   "execution_count": null,
   "id": "96e0f13a-d934-4f72-ba77-1483aa034125",
   "metadata": {},
   "outputs": [],
   "source": [
    "#| export\n",
    "class BoxStyle(str, Enum):\n",
    "    BOX = \"box\"\n",
    "class LiftStyle(str, Enum):\n",
    "    LIFT = \"lift\"\n",
    "\n",
    "tabs_styles = enums_to_simple_factory(tabs, [BoxStyle, BorderStyle, LiftStyle]) # Tabs style variants"
   ]
  },
  {
   "cell_type": "markdown",
   "id": "b539c11e-d1b2-41f8-85c3-6e82d241e2d7",
   "metadata": {},
   "source": [
    "### Tab Modifiers"
   ]
  },
  {
   "cell_type": "code",
   "execution_count": null,
   "id": "636c6bcd-2176-4191-aa39-c937893243e2",
   "metadata": {},
   "outputs": [],
   "source": [
    "#| export\n",
    "tab_modifiers = SimpleFactory(\n",
    "    {\n",
    "        \"disabled\": \"tab-disabled\",\n",
    "        \"active\": \"tab-active\",\n",
    "    },\n",
    "    \"Tab modifiers\"\n",
    ") # Tab modifiers"
   ]
  },
  {
   "cell_type": "markdown",
   "id": "0c4b6808-526b-4eb5-96fd-3c35992157df",
   "metadata": {},
   "source": [
    "### Tabs Placement"
   ]
  },
  {
   "cell_type": "code",
   "execution_count": null,
   "id": "3035ff66-e4e7-410c-8b1e-86a879f66112",
   "metadata": {},
   "outputs": [],
   "source": [
    "#| export\n",
    "tabs_placement = SimpleFactory(\n",
    "    {\n",
    "        \"top\": \"tabs-top\",\n",
    "        \"bottom\": \"tabs-bottom\",\n",
    "    },\n",
    "    \"tabs placement options\"\n",
    ") # tabs placement options"
   ]
  },
  {
   "cell_type": "markdown",
   "id": "17628d76-ec35-44a8-b3eb-1264cb3f7d19",
   "metadata": {},
   "source": [
    "### Tabs Sizes"
   ]
  },
  {
   "cell_type": "code",
   "execution_count": null,
   "id": "85d72161-e718-4c66-bc59-a3569b7f7616",
   "metadata": {},
   "outputs": [],
   "source": [
    "#| export\n",
    "tabs_sizes = enums_to_simple_factory(tabs, [DaisyUINamedSize], \"Tabs size variants from extra small to extra large\") # Tabs size variants"
   ]
  },
  {
   "cell_type": "markdown",
   "id": "e0c75314-0b21-492c-907f-65d812c3f426",
   "metadata": {},
   "source": [
    "### Tabs Test Examples"
   ]
  },
  {
   "cell_type": "code",
   "execution_count": null,
   "id": "a9d78aa3-0be8-49e6-8bfb-cb9a232ee1ee",
   "metadata": {},
   "outputs": [],
   "source": [
    "#| export\n",
    "def test_tabs_basic_examples():\n",
    "    \"\"\"Test basic tabs utilities.\"\"\"\n",
    "    # Basic tabs\n",
    "    assert str(tabs) == \"tabs\"\n",
    "    assert str(tab) == \"tab\"\n",
    "    assert str(tab_content) == \"tab-content\"\n",
    "    \n",
    "    # tabs with modifiers\n",
    "    assert str(tabs.hover) == \"hover:tabs\"\n",
    "    assert str(tabs.md) == \"md:tabs\"\n",
    "    assert str(tabs.dark) == \"dark:tabs\"\n",
    "\n",
    "# Run the tests\n",
    "test_tabs_basic_examples()"
   ]
  },
  {
   "cell_type": "code",
   "execution_count": null,
   "id": "01785a18-9bb0-4dbc-9eae-04addf6dede9",
   "metadata": {},
   "outputs": [],
   "source": [
    "#| export\n",
    "def test_tab_modifiers_examples():\n",
    "    \"\"\"Test tab modifier utilities.\"\"\"\n",
    "    assert str(tab_modifiers.disabled) == \"tab-disabled\"\n",
    "    assert str(tab_modifiers.active) == \"tab-active\"\n",
    "\n",
    "# Run the tests\n",
    "test_tab_modifiers_examples()"
   ]
  },
  {
   "cell_type": "code",
   "execution_count": null,
   "id": "089bf242-9183-4eec-8651-e99946f83512",
   "metadata": {},
   "outputs": [],
   "source": [
    "#| export\n",
    "def test_tab_placement_examples():\n",
    "    \"\"\"Test tab modifier utilities.\"\"\"\n",
    "    assert str(tabs_placement.top) == \"tabs-top\"\n",
    "    assert str(tabs_placement.bottom) == \"tabs-bottom\"\n",
    "\n",
    "# Run the tests\n",
    "test_tab_placement_examples()"
   ]
  },
  {
   "cell_type": "code",
   "execution_count": null,
   "id": "43a3d5aa-4f07-48f4-b7c3-5c63612f0fb2",
   "metadata": {},
   "outputs": [],
   "source": [
    "#| export\n",
    "def test_tabs_sizes_examples():\n",
    "    \"\"\"Test tabs size variants.\"\"\"\n",
    "    assert str(tabs_sizes.xs) == \"tabs-xs\"\n",
    "    assert str(tabs_sizes.sm) == \"tabs-sm\"\n",
    "    assert str(tabs_sizes.md) == \"tabs-md\"\n",
    "    assert str(tabs_sizes.lg) == \"tabs-lg\"\n",
    "    assert str(tabs_sizes.xl) == \"tabs-xl\"\n",
    "    \n",
    "    # With responsive modifiers\n",
    "    assert str(tabs_sizes.xs.sm) == \"sm:tabs-xs\"\n",
    "    assert str(tabs_sizes.lg.md) == \"md:tabs-lg\"\n",
    "\n",
    "# Run the tests\n",
    "test_tabs_sizes_examples()"
   ]
  },
  {
   "cell_type": "code",
   "execution_count": null,
   "id": "a2029d6d-bf22-4e16-87e1-d609762dc867",
   "metadata": {},
   "outputs": [],
   "source": []
  },
  {
   "cell_type": "code",
   "execution_count": null,
   "id": "c9dfaad9-504c-4853-886b-2d1adb1cc3a0",
   "metadata": {},
   "outputs": [],
   "source": []
  },
  {
   "cell_type": "code",
   "execution_count": null,
   "id": "454d5b84-fc57-44ab-a6f0-3123333998cb",
   "metadata": {},
   "outputs": [],
   "source": []
  },
  {
   "cell_type": "code",
   "execution_count": null,
   "id": "d471d21b-6fe5-4c63-90be-5176c4cbd08b",
   "metadata": {},
   "outputs": [],
   "source": []
  },
  {
   "cell_type": "code",
   "execution_count": null,
   "id": "73b88b7e-0be6-4a82-9c02-f3df8af20015",
   "metadata": {},
   "outputs": [],
   "source": []
  },
  {
   "cell_type": "code",
   "execution_count": null,
   "id": "7ab8257a-c30b-45b6-a784-729b67686791",
   "metadata": {},
   "outputs": [],
   "source": [
    "#| hide\n",
    "import nbdev; nbdev.nbdev_export()"
   ]
  }
 ],
 "metadata": {
  "kernelspec": {
   "display_name": "python3",
   "language": "python",
   "name": "python3"
  }
 },
 "nbformat": 4,
 "nbformat_minor": 5
}
