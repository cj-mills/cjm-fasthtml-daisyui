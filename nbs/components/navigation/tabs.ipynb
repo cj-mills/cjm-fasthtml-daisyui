{
 "cells": [
  {
   "cell_type": "markdown",
   "id": "7c51b46b-ece1-456d-8e84-7de122e72b62",
   "metadata": {},
   "source": [
    "# tabs\n",
    "\n",
    "> Tabs can be used to show a list of links in a tabbed format."
   ]
  },
  {
   "cell_type": "code",
   "execution_count": null,
   "id": "25536bdc-e099-477f-9e2d-a5f71df5dff2",
   "metadata": {},
   "outputs": [],
   "source": [
    "#| default_exp components.navigation.tabs"
   ]
  },
  {
   "cell_type": "code",
   "execution_count": null,
   "id": "2e6f21ce-7766-455a-8ebb-df2c17e7d977",
   "metadata": {},
   "outputs": [],
   "source": [
    "#| hide\n",
    "from nbdev.showdoc import *"
   ]
  },
  {
   "cell_type": "code",
   "execution_count": null,
   "id": "045c6538-403e-4222-b3bb-db20f188524d",
   "metadata": {},
   "outputs": [],
   "source": [
    "#| export\n",
    "from enum import Enum\n",
    "from cjm_fasthtml_tailwind.core.base import (\n",
    "    SingleValueFactory, combine_classes\n",
    ")\n",
    "from cjm_fasthtml_tailwind.builders.scales import SimpleFactory, enums_to_simple_factory\n",
    "\n",
    "from cjm_fasthtml_daisyui.builders.sizes import DaisyUINamedSize\n",
    "from cjm_fasthtml_daisyui.builders.styles import BorderStyle\n",
    "\n",
    "from fasthtml.common import Div\n",
    "from fasthtml.jupyter import JupyUvi, HTMX\n",
    "from cjm_fasthtml_daisyui.core.testing import create_test_app, create_test_page, start_test_server\n",
    "from cjm_fasthtml_daisyui.core.themes import DaisyUITheme\n",
    "from IPython.display import display"
   ]
  },
  {
   "cell_type": "markdown",
   "id": "5e35210d-3455-4a1d-8f86-7e7daeeb03df",
   "metadata": {},
   "source": [
    "### Base Tabs"
   ]
  },
  {
   "cell_type": "code",
   "execution_count": null,
   "id": "c802d106-49fb-4d34-ba04-5f54c88e165b",
   "metadata": {},
   "outputs": [],
   "source": [
    "#| exports\n",
    "tabs = SingleValueFactory(\"tabs\", \"Container of multiple tab items\") # Base tabs component\n",
    "tab = SingleValueFactory(\"tab\", \"A single tab button (can be button, link, div, radio input, etc)\") # tab part\n",
    "tab_content = SingleValueFactory(\"tab-content\", \"Tab content that comes immediately after a tab\") # tab content part"
   ]
  },
  {
   "cell_type": "markdown",
   "id": "8b7e7500-89da-4875-a198-1da954cbfd75",
   "metadata": {},
   "source": [
    "### Tabs Styles"
   ]
  },
  {
   "cell_type": "code",
   "execution_count": null,
   "id": "96e0f13a-d934-4f72-ba77-1483aa034125",
   "metadata": {},
   "outputs": [],
   "source": [
    "#| exports\n",
    "class BoxStyle(str, Enum):\n",
    "    BOX = \"box\"\n",
    "class LiftStyle(str, Enum):\n",
    "    LIFT = \"lift\"\n",
    "\n",
    "tabs_styles = enums_to_simple_factory(tabs, [BoxStyle, BorderStyle, LiftStyle]) # Tabs style variants"
   ]
  },
  {
   "cell_type": "markdown",
   "id": "b539c11e-d1b2-41f8-85c3-6e82d241e2d7",
   "metadata": {},
   "source": [
    "### Tab Modifiers"
   ]
  },
  {
   "cell_type": "code",
   "execution_count": null,
   "id": "636c6bcd-2176-4191-aa39-c937893243e2",
   "metadata": {},
   "outputs": [],
   "source": [
    "#| exports\n",
    "tab_modifiers = SimpleFactory(\n",
    "    {\n",
    "        \"disabled\": \"tab-disabled\",\n",
    "        \"active\": \"tab-active\",\n",
    "    },\n",
    "    \"Tab modifiers\"\n",
    ") # Tab modifiers"
   ]
  },
  {
   "cell_type": "markdown",
   "id": "0c4b6808-526b-4eb5-96fd-3c35992157df",
   "metadata": {},
   "source": [
    "### Tabs Placement"
   ]
  },
  {
   "cell_type": "code",
   "execution_count": null,
   "id": "3035ff66-e4e7-410c-8b1e-86a879f66112",
   "metadata": {},
   "outputs": [],
   "source": [
    "#| exports\n",
    "tabs_placement = SimpleFactory(\n",
    "    {\n",
    "        \"top\": \"tabs-top\",\n",
    "        \"bottom\": \"tabs-bottom\",\n",
    "    },\n",
    "    \"tabs placement options\"\n",
    ") # tabs placement options"
   ]
  },
  {
   "cell_type": "markdown",
   "id": "17628d76-ec35-44a8-b3eb-1264cb3f7d19",
   "metadata": {},
   "source": [
    "### Tabs Sizes"
   ]
  },
  {
   "cell_type": "code",
   "execution_count": null,
   "id": "85d72161-e718-4c66-bc59-a3569b7f7616",
   "metadata": {},
   "outputs": [],
   "source": [
    "#| exports\n",
    "tabs_sizes = enums_to_simple_factory(tabs, [DaisyUINamedSize], \"Tabs size variants from extra small to extra large\") # Tabs size variants"
   ]
  },
  {
   "cell_type": "markdown",
   "id": "e0c75314-0b21-492c-907f-65d812c3f426",
   "metadata": {},
   "source": [
    "### Tabs Test Examples"
   ]
  },
  {
   "cell_type": "code",
   "execution_count": null,
   "id": "a9d78aa3-0be8-49e6-8bfb-cb9a232ee1ee",
   "metadata": {},
   "outputs": [],
   "source": [
    "#|exports\n",
    "def test_tabs_basic_examples():\n",
    "    \"\"\"Test basic tabs utilities.\"\"\"\n",
    "    # Basic tabs\n",
    "    assert str(tabs) == \"tabs\"\n",
    "    assert str(tab) == \"tab\"\n",
    "    assert str(tab_content) == \"tab-content\"\n",
    "    \n",
    "    # tabs with modifiers\n",
    "    assert str(tabs.hover) == \"hover:tabs\"\n",
    "    assert str(tabs.md) == \"md:tabs\"\n",
    "    assert str(tabs.dark) == \"dark:tabs\"\n",
    "\n",
    "# Run the tests\n",
    "test_tabs_basic_examples()"
   ]
  },
  {
   "cell_type": "code",
   "execution_count": null,
   "id": "01785a18-9bb0-4dbc-9eae-04addf6dede9",
   "metadata": {},
   "outputs": [],
   "source": [
    "#|exports\n",
    "def test_tab_modifiers_examples():\n",
    "    \"\"\"Test tab modifier utilities.\"\"\"\n",
    "    assert str(tab_modifiers.disabled) == \"tab-disabled\"\n",
    "    assert str(tab_modifiers.active) == \"tab-active\"\n",
    "\n",
    "# Run the tests\n",
    "test_tab_modifiers_examples()"
   ]
  },
  {
   "cell_type": "code",
   "execution_count": null,
   "id": "089bf242-9183-4eec-8651-e99946f83512",
   "metadata": {},
   "outputs": [],
   "source": [
    "#|exports\n",
    "def test_tab_placement_examples():\n",
    "    \"\"\"Test tab modifier utilities.\"\"\"\n",
    "    assert str(tabs_placement.top) == \"tabs-top\"\n",
    "    assert str(tabs_placement.bottom) == \"tabs-bottom\"\n",
    "\n",
    "# Run the tests\n",
    "test_tab_placement_examples()"
   ]
  },
  {
   "cell_type": "code",
   "execution_count": null,
   "id": "43a3d5aa-4f07-48f4-b7c3-5c63612f0fb2",
   "metadata": {},
   "outputs": [],
   "source": [
    "#|exports\n",
    "def test_tabs_sizes_examples():\n",
    "    \"\"\"Test tabs size variants.\"\"\"\n",
    "    assert str(tabs_sizes.xs) == \"tabs-xs\"\n",
    "    assert str(tabs_sizes.sm) == \"tabs-sm\"\n",
    "    assert str(tabs_sizes.md) == \"tabs-md\"\n",
    "    assert str(tabs_sizes.lg) == \"tabs-lg\"\n",
    "    assert str(tabs_sizes.xl) == \"tabs-xl\"\n",
    "    \n",
    "    # With responsive modifiers\n",
    "    assert str(tabs_sizes.xs.sm) == \"sm:tabs-xs\"\n",
    "    assert str(tabs_sizes.lg.md) == \"md:tabs-lg\"\n",
    "\n",
    "# Run the tests\n",
    "test_tabs_sizes_examples()"
   ]
  },
  {
   "cell_type": "code",
   "execution_count": null,
   "id": "bc511b34-92d9-4073-92fb-de4f2861d70d",
   "metadata": {},
   "outputs": [
    {
     "data": {
      "text/markdown": [
       "```html\n",
       "<div role=\"tablist\" class=\"tabs\">\n",
       "<a href=\"#\" role=\"tab\" class=\"tab\">Tab 1</a><a href=\"#\" role=\"tab\" class=\"tab tab-active\">Tab 2</a><a href=\"#\" role=\"tab\" class=\"tab\">Tab 3</a></div>\n",
       "\n",
       "```"
      ],
      "text/plain": [
       "div((a(('Tab 1',),{'href': '#', 'role': 'tab', 'class': 'tab'}), a(('Tab 2',),{'href': '#', 'role': 'tab', 'class': 'tab tab-active'}), a(('Tab 3',),{'href': '#', 'role': 'tab', 'class': 'tab'})),{'role': 'tablist', 'class': 'tabs'})"
      ]
     },
     "execution_count": null,
     "metadata": {},
     "output_type": "execute_result"
    }
   ],
   "source": [
    "#|exports\n",
    "def test_tabs_basic_fasthtml_examples():\n",
    "    \"\"\"Test basic tabs example from daisyUI v5 documentation.\"\"\"\n",
    "    from fasthtml.common import Div, A\n",
    "    \n",
    "    # Basic tabs\n",
    "    basic_tabs = Div(\n",
    "        A(\"Tab 1\", role=\"tab\", cls=str(tab)),\n",
    "        A(\"Tab 2\", role=\"tab\", cls=combine_classes(tab, tab_modifiers.active)),\n",
    "        A(\"Tab 3\", role=\"tab\", cls=str(tab)),\n",
    "        role=\"tablist\",\n",
    "        cls=str(tabs)\n",
    "    )\n",
    "    \n",
    "    # Verify structure\n",
    "    assert basic_tabs.tag == \"div\"\n",
    "    assert basic_tabs.attrs['role'] == \"tablist\"\n",
    "    assert basic_tabs.attrs['class'] == \"tabs\"\n",
    "    \n",
    "    # Verify tabs\n",
    "    assert len(basic_tabs.children) == 3\n",
    "    \n",
    "    # First tab\n",
    "    first_tab = basic_tabs.children[0]\n",
    "    assert first_tab.tag == \"a\"\n",
    "    assert first_tab.attrs['role'] == \"tab\"\n",
    "    assert first_tab.attrs['class'] == \"tab\"\n",
    "    assert first_tab.children[0] == \"Tab 1\"\n",
    "    \n",
    "    # Second tab (active)\n",
    "    second_tab = basic_tabs.children[1]\n",
    "    assert second_tab.tag == \"a\"\n",
    "    assert second_tab.attrs['role'] == \"tab\"\n",
    "    assert \"tab\" in second_tab.attrs['class']\n",
    "    assert \"tab-active\" in second_tab.attrs['class']\n",
    "    assert second_tab.children[0] == \"Tab 2\"\n",
    "    \n",
    "    # Third tab\n",
    "    third_tab = basic_tabs.children[2]\n",
    "    assert third_tab.tag == \"a\"\n",
    "    assert third_tab.attrs['role'] == \"tab\"\n",
    "    assert third_tab.attrs['class'] == \"tab\"\n",
    "    assert third_tab.children[0] == \"Tab 3\"\n",
    "    \n",
    "    return basic_tabs\n",
    "\n",
    "# Run the tests\n",
    "test_tabs_basic_fasthtml_examples()"
   ]
  },
  {
   "cell_type": "code",
   "execution_count": null,
   "id": "70a18d6c-f000-4d7d-a4f2-605847b3c637",
   "metadata": {},
   "outputs": [
    {
     "data": {
      "text/html": [
       "\n",
       "<script>\n",
       "document.body.addEventListener('htmx:configRequest', (event) => {\n",
       "    if(event.detail.path.includes('://')) return;\n",
       "    htmx.config.selfRequestsOnly=false;\n",
       "    event.detail.path = `${location.protocol}//${location.hostname}:8000${event.detail.path}`;\n",
       "});\n",
       "</script>"
      ],
      "text/plain": [
       "<IPython.core.display.HTML object>"
      ]
     },
     "metadata": {},
     "output_type": "display_data"
    },
    {
     "data": {
      "text/html": [
       "<iframe src=\"http://localhost:8000/\" style=\"width: 100%; height: auto; border: none;\" onload=\"{\n",
       "        let frame = this;\n",
       "        window.addEventListener('message', function(e) {\n",
       "            if (e.source !== frame.contentWindow) return; // Only proceed if the message is from this iframe\n",
       "            if (e.data.height) frame.style.height = (e.data.height+1) + 'px';\n",
       "        }, false);\n",
       "    }\" allow=\"accelerometer; autoplay; camera; clipboard-read; clipboard-write; display-capture; encrypted-media; fullscreen; gamepad; geolocation; gyroscope; hid; identity-credentials-get; idle-detection; magnetometer; microphone; midi; payment; picture-in-picture; publickey-credentials-get; screen-wake-lock; serial; usb; web-share; xr-spatial-tracking\"></iframe> "
      ],
      "text/plain": [
       "<IPython.core.display.HTML object>"
      ]
     },
     "metadata": {},
     "output_type": "display_data"
    }
   ],
   "source": [
    "#| eval: false\n",
    "#| output: false\n",
    "test_func = test_tabs_basic_fasthtml_examples\n",
    "app, rt = create_test_app(theme=DaisyUITheme.LIGHT)\n",
    "\n",
    "@rt\n",
    "def index():\n",
    "    return create_test_page(test_func.__doc__.title().replace('.', ''), test_func())\n",
    "server = start_test_server(app)\n",
    "display(HTMX())\n",
    "server.stop()"
   ]
  },
  {
   "cell_type": "code",
   "execution_count": null,
   "id": "fcf6a199-c635-4a97-b436-96ccd92210c4",
   "metadata": {},
   "outputs": [
    {
     "data": {
      "text/markdown": [
       "```html\n",
       "<div>\n",
       "  <div role=\"tablist\" class=\"tabs tabs-border\">\n",
       "<a href=\"#\" role=\"tab\" class=\"tab\">Tab 1</a><a href=\"#\" role=\"tab\" class=\"tab tab-active\">Tab 2</a><a href=\"#\" role=\"tab\" class=\"tab\">Tab 3</a>  </div>\n",
       "  <div role=\"tablist\" class=\"tabs tabs-lift\">\n",
       "<a href=\"#\" role=\"tab\" class=\"tab\">Tab 1</a><a href=\"#\" role=\"tab\" class=\"tab tab-active\">Tab 2</a><a href=\"#\" role=\"tab\" class=\"tab\">Tab 3</a>  </div>\n",
       "  <div role=\"tablist\" class=\"tabs tabs-box\">\n",
       "<a href=\"#\" role=\"tab\" class=\"tab\">Tab 1</a><a href=\"#\" role=\"tab\" class=\"tab tab-active\">Tab 2</a><a href=\"#\" role=\"tab\" class=\"tab\">Tab 3</a>  </div>\n",
       "</div>\n",
       "\n",
       "```"
      ],
      "text/plain": [
       "div((div((a(('Tab 1',),{'href': '#', 'role': 'tab', 'class': 'tab'}), a(('Tab 2',),{'href': '#', 'role': 'tab', 'class': 'tab tab-active'}), a(('Tab 3',),{'href': '#', 'role': 'tab', 'class': 'tab'})),{'role': 'tablist', 'class': 'tabs tabs-border'}), div((a(('Tab 1',),{'href': '#', 'role': 'tab', 'class': 'tab'}), a(('Tab 2',),{'href': '#', 'role': 'tab', 'class': 'tab tab-active'}), a(('Tab 3',),{'href': '#', 'role': 'tab', 'class': 'tab'})),{'role': 'tablist', 'class': 'tabs tabs-lift'}), div((a(('Tab 1',),{'href': '#', 'role': 'tab', 'class': 'tab'}), a(('Tab 2',),{'href': '#', 'role': 'tab', 'class': 'tab tab-active'}), a(('Tab 3',),{'href': '#', 'role': 'tab', 'class': 'tab'})),{'role': 'tablist', 'class': 'tabs tabs-box'})),{})"
      ]
     },
     "execution_count": null,
     "metadata": {},
     "output_type": "execute_result"
    }
   ],
   "source": [
    "#|exports\n",
    "def test_tabs_styles_fasthtml_examples():\n",
    "    \"\"\"Test tabs style variations from daisyUI v5 documentation.\"\"\"\n",
    "    from fasthtml.common import Div, A\n",
    "    \n",
    "    # Tabs with border style\n",
    "    border_tabs = Div(\n",
    "        A(\"Tab 1\", role=\"tab\", cls=str(tab)),\n",
    "        A(\"Tab 2\", role=\"tab\", cls=combine_classes(tab, tab_modifiers.active)),\n",
    "        A(\"Tab 3\", role=\"tab\", cls=str(tab)),\n",
    "        role=\"tablist\",\n",
    "        cls=combine_classes(tabs, tabs_styles.border)\n",
    "    )\n",
    "    assert \"tabs\" in border_tabs.attrs['class']\n",
    "    assert \"tabs-border\" in border_tabs.attrs['class']\n",
    "    assert border_tabs.attrs['role'] == \"tablist\"\n",
    "    \n",
    "    # Tabs with lift style\n",
    "    lift_tabs = Div(\n",
    "        A(\"Tab 1\", role=\"tab\", cls=str(tab)),\n",
    "        A(\"Tab 2\", role=\"tab\", cls=combine_classes(tab, tab_modifiers.active)),\n",
    "        A(\"Tab 3\", role=\"tab\", cls=str(tab)),\n",
    "        role=\"tablist\",\n",
    "        cls=combine_classes(tabs, tabs_styles.lift)\n",
    "    )\n",
    "    assert \"tabs\" in lift_tabs.attrs['class']\n",
    "    assert \"tabs-lift\" in lift_tabs.attrs['class']\n",
    "    assert lift_tabs.attrs['role'] == \"tablist\"\n",
    "    \n",
    "    # Tabs with box style\n",
    "    box_tabs = Div(\n",
    "        A(\"Tab 1\", role=\"tab\", cls=str(tab)),\n",
    "        A(\"Tab 2\", role=\"tab\", cls=combine_classes(tab, tab_modifiers.active)),\n",
    "        A(\"Tab 3\", role=\"tab\", cls=str(tab)),\n",
    "        role=\"tablist\",\n",
    "        cls=combine_classes(tabs, tabs_styles.box)\n",
    "    )\n",
    "    assert \"tabs\" in box_tabs.attrs['class']\n",
    "    assert \"tabs-box\" in box_tabs.attrs['class']\n",
    "    assert box_tabs.attrs['role'] == \"tablist\"\n",
    "    \n",
    "    return Div(border_tabs, lift_tabs, box_tabs)\n",
    "\n",
    "# Run the tests\n",
    "test_tabs_styles_fasthtml_examples()"
   ]
  },
  {
   "cell_type": "code",
   "execution_count": null,
   "id": "d2657acf-937a-40a7-ac48-8eba7c6e80c6",
   "metadata": {},
   "outputs": [
    {
     "data": {
      "text/html": [
       "\n",
       "<script>\n",
       "document.body.addEventListener('htmx:configRequest', (event) => {\n",
       "    if(event.detail.path.includes('://')) return;\n",
       "    htmx.config.selfRequestsOnly=false;\n",
       "    event.detail.path = `${location.protocol}//${location.hostname}:8000${event.detail.path}`;\n",
       "});\n",
       "</script>"
      ],
      "text/plain": [
       "<IPython.core.display.HTML object>"
      ]
     },
     "metadata": {},
     "output_type": "display_data"
    },
    {
     "data": {
      "text/html": [
       "<iframe src=\"http://localhost:8000/\" style=\"width: 100%; height: auto; border: none;\" onload=\"{\n",
       "        let frame = this;\n",
       "        window.addEventListener('message', function(e) {\n",
       "            if (e.source !== frame.contentWindow) return; // Only proceed if the message is from this iframe\n",
       "            if (e.data.height) frame.style.height = (e.data.height+1) + 'px';\n",
       "        }, false);\n",
       "    }\" allow=\"accelerometer; autoplay; camera; clipboard-read; clipboard-write; display-capture; encrypted-media; fullscreen; gamepad; geolocation; gyroscope; hid; identity-credentials-get; idle-detection; magnetometer; microphone; midi; payment; picture-in-picture; publickey-credentials-get; screen-wake-lock; serial; usb; web-share; xr-spatial-tracking\"></iframe> "
      ],
      "text/plain": [
       "<IPython.core.display.HTML object>"
      ]
     },
     "metadata": {},
     "output_type": "display_data"
    }
   ],
   "source": [
    "#| eval: false\n",
    "#| output: false\n",
    "test_func = test_tabs_styles_fasthtml_examples\n",
    "app, rt = create_test_app(theme=DaisyUITheme.LIGHT)\n",
    "\n",
    "@rt\n",
    "def index():\n",
    "    return create_test_page(test_func.__doc__.title().replace('.', ''), test_func())\n",
    "server = start_test_server(app)\n",
    "display(HTMX())\n",
    "server.stop()"
   ]
  },
  {
   "cell_type": "code",
   "execution_count": null,
   "id": "e9799991-2255-41f2-8f8c-b60c22830b8d",
   "metadata": {},
   "outputs": [
    {
     "data": {
      "text/markdown": [
       "```html\n",
       "<div class=\"tabs tabs-box\">\n",
       "  <input type=\"radio\" name=\"my_tabs_1\" aria-label=\"Tab 1\" class=\"tab\">\n",
       "  <input type=\"radio\" name=\"my_tabs_1\" aria-label=\"Tab 2\" checked=\"checked\" class=\"tab\">\n",
       "  <input type=\"radio\" name=\"my_tabs_1\" aria-label=\"Tab 3\" class=\"tab\">\n",
       "</div>\n",
       "\n",
       "```"
      ],
      "text/plain": [
       "div((input((),{'type': 'radio', 'name': 'my_tabs_1', 'aria-label': 'Tab 1', 'class': 'tab'}), input((),{'type': 'radio', 'name': 'my_tabs_1', 'aria-label': 'Tab 2', 'checked': 'checked', 'class': 'tab'}), input((),{'type': 'radio', 'name': 'my_tabs_1', 'aria-label': 'Tab 3', 'class': 'tab'})),{'class': 'tabs tabs-box'})"
      ]
     },
     "execution_count": null,
     "metadata": {},
     "output_type": "execute_result"
    }
   ],
   "source": [
    "#|exports\n",
    "def test_tabs_radio_inputs_fasthtml_examples():\n",
    "    \"\"\"Test tabs using radio inputs from daisyUI v5 documentation.\"\"\"\n",
    "    from fasthtml.common import Div, Input\n",
    "    \n",
    "    # Tabs-box using radio inputs\n",
    "    radio_tabs = Div(\n",
    "        Input(type=\"radio\", name=\"my_tabs_1\", aria_label=\"Tab 1\", cls=str(tab)),\n",
    "        Input(type=\"radio\", name=\"my_tabs_1\", aria_label=\"Tab 2\", checked=\"checked\", cls=str(tab)),\n",
    "        Input(type=\"radio\", name=\"my_tabs_1\", aria_label=\"Tab 3\", cls=str(tab)),\n",
    "        cls=combine_classes(tabs, tabs_styles.box)\n",
    "    )\n",
    "    \n",
    "    # Verify structure\n",
    "    assert radio_tabs.tag == \"div\"\n",
    "    assert \"tabs\" in radio_tabs.attrs['class']\n",
    "    assert \"tabs-box\" in radio_tabs.attrs['class']\n",
    "    \n",
    "    # Verify radio inputs\n",
    "    assert len(radio_tabs.children) == 3\n",
    "    \n",
    "    # First radio input\n",
    "    first_input = radio_tabs.children[0]\n",
    "    assert first_input.tag == \"input\"\n",
    "    assert first_input.attrs['type'] == \"radio\"\n",
    "    assert first_input.attrs['name'] == \"my_tabs_1\"\n",
    "    assert first_input.attrs['aria-label'] == \"Tab 1\"\n",
    "    assert first_input.attrs['class'] == \"tab\"\n",
    "    assert 'checked' not in first_input.attrs\n",
    "    \n",
    "    # Second radio input (checked)\n",
    "    second_input = radio_tabs.children[1]\n",
    "    assert second_input.tag == \"input\"\n",
    "    assert second_input.attrs['type'] == \"radio\"\n",
    "    assert second_input.attrs['name'] == \"my_tabs_1\"\n",
    "    assert second_input.attrs['aria-label'] == \"Tab 2\"\n",
    "    assert second_input.attrs['class'] == \"tab\"\n",
    "    assert second_input.attrs['checked'] == \"checked\"\n",
    "    \n",
    "    # Third radio input\n",
    "    third_input = radio_tabs.children[2]\n",
    "    assert third_input.tag == \"input\"\n",
    "    assert third_input.attrs['type'] == \"radio\"\n",
    "    assert third_input.attrs['name'] == \"my_tabs_1\"\n",
    "    assert third_input.attrs['aria-label'] == \"Tab 3\"\n",
    "    assert third_input.attrs['class'] == \"tab\"\n",
    "    assert 'checked' not in third_input.attrs\n",
    "    \n",
    "    return radio_tabs\n",
    "\n",
    "# Run the tests\n",
    "test_tabs_radio_inputs_fasthtml_examples()"
   ]
  },
  {
   "cell_type": "code",
   "execution_count": null,
   "id": "a2029d6d-bf22-4e16-87e1-d609762dc867",
   "metadata": {},
   "outputs": [
    {
     "data": {
      "text/html": [
       "\n",
       "<script>\n",
       "document.body.addEventListener('htmx:configRequest', (event) => {\n",
       "    if(event.detail.path.includes('://')) return;\n",
       "    htmx.config.selfRequestsOnly=false;\n",
       "    event.detail.path = `${location.protocol}//${location.hostname}:8000${event.detail.path}`;\n",
       "});\n",
       "</script>"
      ],
      "text/plain": [
       "<IPython.core.display.HTML object>"
      ]
     },
     "metadata": {},
     "output_type": "display_data"
    },
    {
     "data": {
      "text/html": [
       "<iframe src=\"http://localhost:8000/\" style=\"width: 100%; height: auto; border: none;\" onload=\"{\n",
       "        let frame = this;\n",
       "        window.addEventListener('message', function(e) {\n",
       "            if (e.source !== frame.contentWindow) return; // Only proceed if the message is from this iframe\n",
       "            if (e.data.height) frame.style.height = (e.data.height+1) + 'px';\n",
       "        }, false);\n",
       "    }\" allow=\"accelerometer; autoplay; camera; clipboard-read; clipboard-write; display-capture; encrypted-media; fullscreen; gamepad; geolocation; gyroscope; hid; identity-credentials-get; idle-detection; magnetometer; microphone; midi; payment; picture-in-picture; publickey-credentials-get; screen-wake-lock; serial; usb; web-share; xr-spatial-tracking\"></iframe> "
      ],
      "text/plain": [
       "<IPython.core.display.HTML object>"
      ]
     },
     "metadata": {},
     "output_type": "display_data"
    }
   ],
   "source": [
    "#| eval: false\n",
    "#| output: false\n",
    "test_func = test_tabs_radio_inputs_fasthtml_examples\n",
    "app, rt = create_test_app(theme=DaisyUITheme.LIGHT)\n",
    "\n",
    "@rt\n",
    "def index():\n",
    "    return create_test_page(test_func.__doc__.title().replace('.', ''), test_func())\n",
    "server = start_test_server(app)\n",
    "display(HTMX())\n",
    "server.stop()"
   ]
  },
  {
   "cell_type": "code",
   "execution_count": null,
   "id": "7a7dd488-afbd-4f52-9829-ecb1a090c4be",
   "metadata": {},
   "outputs": [
    {
     "data": {
      "text/markdown": [
       "```html\n",
       "<div>\n",
       "  <div role=\"tablist\" class=\"tabs tabs-lift tabs-xs\">\n",
       "<a href=\"#\" role=\"tab\" class=\"tab\">Xsmall</a><a href=\"#\" role=\"tab\" class=\"tab tab-active\">Xsmall</a><a href=\"#\" role=\"tab\" class=\"tab\">Xsmall</a>  </div>\n",
       "  <div role=\"tablist\" class=\"tabs tabs-lift tabs-sm\">\n",
       "<a href=\"#\" role=\"tab\" class=\"tab\">Small</a><a href=\"#\" role=\"tab\" class=\"tab tab-active\">Small</a><a href=\"#\" role=\"tab\" class=\"tab\">Small</a>  </div>\n",
       "  <div role=\"tablist\" class=\"tabs tabs-lift\">\n",
       "<a href=\"#\" role=\"tab\" class=\"tab\">Medium</a><a href=\"#\" role=\"tab\" class=\"tab tab-active\">Medium</a><a href=\"#\" role=\"tab\" class=\"tab\">Medium</a>  </div>\n",
       "  <div role=\"tablist\" class=\"tabs tabs-lift tabs-lg\">\n",
       "<a href=\"#\" role=\"tab\" class=\"tab\">Large</a><a href=\"#\" role=\"tab\" class=\"tab tab-active\">Large</a><a href=\"#\" role=\"tab\" class=\"tab\">Large</a>  </div>\n",
       "  <div role=\"tablist\" class=\"tabs tabs-lift tabs-xl\">\n",
       "<a href=\"#\" role=\"tab\" class=\"tab\">Xlarge</a><a href=\"#\" role=\"tab\" class=\"tab tab-active\">Xlarge</a><a href=\"#\" role=\"tab\" class=\"tab\">Xlarge</a>  </div>\n",
       "</div>\n",
       "\n",
       "```"
      ],
      "text/plain": [
       "div((div((a(('Xsmall',),{'href': '#', 'role': 'tab', 'class': 'tab'}), a(('Xsmall',),{'href': '#', 'role': 'tab', 'class': 'tab tab-active'}), a(('Xsmall',),{'href': '#', 'role': 'tab', 'class': 'tab'})),{'role': 'tablist', 'class': 'tabs tabs-lift tabs-xs'}), div((a(('Small',),{'href': '#', 'role': 'tab', 'class': 'tab'}), a(('Small',),{'href': '#', 'role': 'tab', 'class': 'tab tab-active'}), a(('Small',),{'href': '#', 'role': 'tab', 'class': 'tab'})),{'role': 'tablist', 'class': 'tabs tabs-lift tabs-sm'}), div((a(('Medium',),{'href': '#', 'role': 'tab', 'class': 'tab'}), a(('Medium',),{'href': '#', 'role': 'tab', 'class': 'tab tab-active'}), a(('Medium',),{'href': '#', 'role': 'tab', 'class': 'tab'})),{'role': 'tablist', 'class': 'tabs tabs-lift'}), div((a(('Large',),{'href': '#', 'role': 'tab', 'class': 'tab'}), a(('Large',),{'href': '#', 'role': 'tab', 'class': 'tab tab-active'}), a(('Large',),{'href': '#', 'role': 'tab', 'class': 'tab'})),{'role': 'tablist', 'class': 'tabs tabs-lift tabs-lg'}), div((a(('Xlarge',),{'href': '#', 'role': 'tab', 'class': 'tab'}), a(('Xlarge',),{'href': '#', 'role': 'tab', 'class': 'tab tab-active'}), a(('Xlarge',),{'href': '#', 'role': 'tab', 'class': 'tab'})),{'role': 'tablist', 'class': 'tabs tabs-lift tabs-xl'})),{})"
      ]
     },
     "execution_count": null,
     "metadata": {},
     "output_type": "execute_result"
    }
   ],
   "source": [
    "#|exports\n",
    "def test_tabs_sizes_fasthtml_examples():\n",
    "    \"\"\"Test tabs size variations from daisyUI v5 documentation.\"\"\"\n",
    "    from fasthtml.common import Div, A\n",
    "    \n",
    "    # Extra small tabs\n",
    "    xs_tabs = Div(\n",
    "        A(\"Xsmall\", role=\"tab\", cls=str(tab)),\n",
    "        A(\"Xsmall\", role=\"tab\", cls=combine_classes(tab, tab_modifiers.active)),\n",
    "        A(\"Xsmall\", role=\"tab\", cls=str(tab)),\n",
    "        role=\"tablist\",\n",
    "        cls=combine_classes(tabs, tabs_styles.lift, tabs_sizes.xs)\n",
    "    )\n",
    "    assert \"tabs\" in xs_tabs.attrs['class']\n",
    "    assert \"tabs-lift\" in xs_tabs.attrs['class']\n",
    "    assert \"tabs-xs\" in xs_tabs.attrs['class']\n",
    "    \n",
    "    # Small tabs\n",
    "    sm_tabs = Div(\n",
    "        A(\"Small\", role=\"tab\", cls=str(tab)),\n",
    "        A(\"Small\", role=\"tab\", cls=combine_classes(tab, tab_modifiers.active)),\n",
    "        A(\"Small\", role=\"tab\", cls=str(tab)),\n",
    "        role=\"tablist\",\n",
    "        cls=combine_classes(tabs, tabs_styles.lift, tabs_sizes.sm)\n",
    "    )\n",
    "    assert \"tabs-sm\" in sm_tabs.attrs['class']\n",
    "    \n",
    "    # Medium tabs (default size)\n",
    "    md_tabs = Div(\n",
    "        A(\"Medium\", role=\"tab\", cls=str(tab)),\n",
    "        A(\"Medium\", role=\"tab\", cls=combine_classes(tab, tab_modifiers.active)),\n",
    "        A(\"Medium\", role=\"tab\", cls=str(tab)),\n",
    "        role=\"tablist\",\n",
    "        cls=combine_classes(tabs, tabs_styles.lift)\n",
    "    )\n",
    "    assert \"tabs\" in md_tabs.attrs['class']\n",
    "    assert \"tabs-lift\" in md_tabs.attrs['class']\n",
    "    # No size class for medium (default)\n",
    "    \n",
    "    # Large tabs\n",
    "    lg_tabs = Div(\n",
    "        A(\"Large\", role=\"tab\", cls=str(tab)),\n",
    "        A(\"Large\", role=\"tab\", cls=combine_classes(tab, tab_modifiers.active)),\n",
    "        A(\"Large\", role=\"tab\", cls=str(tab)),\n",
    "        role=\"tablist\",\n",
    "        cls=combine_classes(tabs, tabs_styles.lift, tabs_sizes.lg)\n",
    "    )\n",
    "    assert \"tabs-lg\" in lg_tabs.attrs['class']\n",
    "    \n",
    "    # Extra large tabs\n",
    "    xl_tabs = Div(\n",
    "        A(\"Xlarge\", role=\"tab\", cls=str(tab)),\n",
    "        A(\"Xlarge\", role=\"tab\", cls=combine_classes(tab, tab_modifiers.active)),\n",
    "        A(\"Xlarge\", role=\"tab\", cls=str(tab)),\n",
    "        role=\"tablist\",\n",
    "        cls=combine_classes(tabs, tabs_styles.lift, tabs_sizes.xl)\n",
    "    )\n",
    "    assert \"tabs-xl\" in xl_tabs.attrs['class']\n",
    "    \n",
    "    return Div(xs_tabs, sm_tabs, md_tabs, lg_tabs, xl_tabs)\n",
    "\n",
    "# Run the tests\n",
    "test_tabs_sizes_fasthtml_examples()"
   ]
  },
  {
   "cell_type": "code",
   "execution_count": null,
   "id": "3f712a88-e513-496d-bd32-ac8c1342eed5",
   "metadata": {},
   "outputs": [
    {
     "data": {
      "text/html": [
       "\n",
       "<script>\n",
       "document.body.addEventListener('htmx:configRequest', (event) => {\n",
       "    if(event.detail.path.includes('://')) return;\n",
       "    htmx.config.selfRequestsOnly=false;\n",
       "    event.detail.path = `${location.protocol}//${location.hostname}:8000${event.detail.path}`;\n",
       "});\n",
       "</script>"
      ],
      "text/plain": [
       "<IPython.core.display.HTML object>"
      ]
     },
     "metadata": {},
     "output_type": "display_data"
    },
    {
     "data": {
      "text/html": [
       "<iframe src=\"http://localhost:8000/\" style=\"width: 100%; height: auto; border: none;\" onload=\"{\n",
       "        let frame = this;\n",
       "        window.addEventListener('message', function(e) {\n",
       "            if (e.source !== frame.contentWindow) return; // Only proceed if the message is from this iframe\n",
       "            if (e.data.height) frame.style.height = (e.data.height+1) + 'px';\n",
       "        }, false);\n",
       "    }\" allow=\"accelerometer; autoplay; camera; clipboard-read; clipboard-write; display-capture; encrypted-media; fullscreen; gamepad; geolocation; gyroscope; hid; identity-credentials-get; idle-detection; magnetometer; microphone; midi; payment; picture-in-picture; publickey-credentials-get; screen-wake-lock; serial; usb; web-share; xr-spatial-tracking\"></iframe> "
      ],
      "text/plain": [
       "<IPython.core.display.HTML object>"
      ]
     },
     "metadata": {},
     "output_type": "display_data"
    }
   ],
   "source": [
    "#| eval: false\n",
    "#| output: false\n",
    "test_func = test_tabs_sizes_fasthtml_examples\n",
    "app, rt = create_test_app(theme=DaisyUITheme.LIGHT)\n",
    "\n",
    "@rt\n",
    "def index():\n",
    "    return create_test_page(test_func.__doc__.title().replace('.', ''), test_func())\n",
    "server = start_test_server(app)\n",
    "display(HTMX())\n",
    "server.stop()"
   ]
  },
  {
   "cell_type": "code",
   "execution_count": null,
   "id": "b4b9720d-4697-488d-b257-e61fcd2b0c1d",
   "metadata": {},
   "outputs": [
    {
     "data": {
      "text/markdown": [
       "```html\n",
       "<div>\n",
       "  <div class=\"tabs tabs-border\">\n",
       "    <input type=\"radio\" name=\"my_tabs_2\" aria-label=\"Tab 1\" class=\"tab\">\n",
       "    <div class=\"tab-content border-base-300 bg-base-100 p-10\">Tab content 1</div>\n",
       "    <input type=\"radio\" name=\"my_tabs_2\" aria-label=\"Tab 2\" checked=\"checked\" class=\"tab\">\n",
       "    <div class=\"tab-content border-base-300 bg-base-100 p-10\">Tab content 2</div>\n",
       "    <input type=\"radio\" name=\"my_tabs_2\" aria-label=\"Tab 3\" class=\"tab\">\n",
       "    <div class=\"tab-content border-base-300 bg-base-100 p-10\">Tab content 3</div>\n",
       "  </div>\n",
       "  <div class=\"tabs tabs-lift\">\n",
       "    <input type=\"radio\" name=\"my_tabs_3\" aria-label=\"Tab 1\" class=\"tab\">\n",
       "    <div class=\"tab-content bg-base-100 border-base-300 p-6\">Tab content 1</div>\n",
       "    <input type=\"radio\" name=\"my_tabs_3\" aria-label=\"Tab 2\" checked=\"checked\" class=\"tab\">\n",
       "    <div class=\"tab-content bg-base-100 border-base-300 p-6\">Tab content 2</div>\n",
       "    <input type=\"radio\" name=\"my_tabs_3\" aria-label=\"Tab 3\" class=\"tab\">\n",
       "    <div class=\"tab-content bg-base-100 border-base-300 p-6\">Tab content 3</div>\n",
       "  </div>\n",
       "  <div class=\"tabs tabs-box\">\n",
       "    <input type=\"radio\" name=\"my_tabs_6\" aria-label=\"Tab 1\" class=\"tab\">\n",
       "    <div class=\"tab-content bg-base-100 border-base-300 p-6\">Tab content 1</div>\n",
       "    <input type=\"radio\" name=\"my_tabs_6\" aria-label=\"Tab 2\" checked=\"checked\" class=\"tab\">\n",
       "    <div class=\"tab-content bg-base-100 border-base-300 p-6\">Tab content 2</div>\n",
       "    <input type=\"radio\" name=\"my_tabs_6\" aria-label=\"Tab 3\" class=\"tab\">\n",
       "    <div class=\"tab-content bg-base-100 border-base-300 p-6\">Tab content 3</div>\n",
       "  </div>\n",
       "</div>\n",
       "\n",
       "```"
      ],
      "text/plain": [
       "div((div((input((),{'type': 'radio', 'name': 'my_tabs_2', 'aria-label': 'Tab 1', 'class': 'tab'}), div(('Tab content 1',),{'class': 'tab-content border-base-300 bg-base-100 p-10'}), input((),{'type': 'radio', 'name': 'my_tabs_2', 'aria-label': 'Tab 2', 'checked': 'checked', 'class': 'tab'}), div(('Tab content 2',),{'class': 'tab-content border-base-300 bg-base-100 p-10'}), input((),{'type': 'radio', 'name': 'my_tabs_2', 'aria-label': 'Tab 3', 'class': 'tab'}), div(('Tab content 3',),{'class': 'tab-content border-base-300 bg-base-100 p-10'})),{'class': 'tabs tabs-border'}), div((input((),{'type': 'radio', 'name': 'my_tabs_3', 'aria-label': 'Tab 1', 'class': 'tab'}), div(('Tab content 1',),{'class': 'tab-content bg-base-100 border-base-300 p-6'}), input((),{'type': 'radio', 'name': 'my_tabs_3', 'aria-label': 'Tab 2', 'checked': 'checked', 'class': 'tab'}), div(('Tab content 2',),{'class': 'tab-content bg-base-100 border-base-300 p-6'}), input((),{'type': 'radio', 'name': 'my_tabs_3', 'aria-label': 'Tab 3', 'class': 'tab'}), div(('Tab content 3',),{'class': 'tab-content bg-base-100 border-base-300 p-6'})),{'class': 'tabs tabs-lift'}), div((input((),{'type': 'radio', 'name': 'my_tabs_6', 'aria-label': 'Tab 1', 'class': 'tab'}), div(('Tab content 1',),{'class': 'tab-content bg-base-100 border-base-300 p-6'}), input((),{'type': 'radio', 'name': 'my_tabs_6', 'aria-label': 'Tab 2', 'checked': 'checked', 'class': 'tab'}), div(('Tab content 2',),{'class': 'tab-content bg-base-100 border-base-300 p-6'}), input((),{'type': 'radio', 'name': 'my_tabs_6', 'aria-label': 'Tab 3', 'class': 'tab'}), div(('Tab content 3',),{'class': 'tab-content bg-base-100 border-base-300 p-6'})),{'class': 'tabs tabs-box'})),{})"
      ]
     },
     "execution_count": null,
     "metadata": {},
     "output_type": "execute_result"
    }
   ],
   "source": [
    "#|exports\n",
    "def test_tabs_with_content_fasthtml_examples():\n",
    "    \"\"\"Test tabs with content panels from daisyUI v5 documentation.\"\"\"\n",
    "    from fasthtml.common import Div, Input\n",
    "    from cjm_fasthtml_daisyui.core.utility_classes import bg_dui, border_dui\n",
    "    from cjm_fasthtml_tailwind.utilities.spacing import p\n",
    "    \n",
    "    # Radio tabs-border + tab content\n",
    "    border_tabs_content = Div(\n",
    "        Input(type=\"radio\", name=\"my_tabs_2\", aria_label=\"Tab 1\", cls=str(tab)),\n",
    "        Div(\n",
    "            \"Tab content 1\",\n",
    "            cls=combine_classes(tab_content, border_dui.base_300, bg_dui.base_100, p._10)\n",
    "        ),\n",
    "        Input(type=\"radio\", name=\"my_tabs_2\", aria_label=\"Tab 2\", checked=\"checked\", cls=str(tab)),\n",
    "        Div(\n",
    "            \"Tab content 2\",\n",
    "            cls=combine_classes(tab_content, border_dui.base_300, bg_dui.base_100, p._10)\n",
    "        ),\n",
    "        Input(type=\"radio\", name=\"my_tabs_2\", aria_label=\"Tab 3\", cls=str(tab)),\n",
    "        Div(\n",
    "            \"Tab content 3\",\n",
    "            cls=combine_classes(tab_content, border_dui.base_300, bg_dui.base_100, p._10)\n",
    "        ),\n",
    "        cls=combine_classes(tabs, tabs_styles.border)\n",
    "    )\n",
    "    \n",
    "    # Verify structure\n",
    "    assert \"tabs\" in border_tabs_content.attrs['class']\n",
    "    assert \"tabs-border\" in border_tabs_content.attrs['class']\n",
    "    assert len(border_tabs_content.children) == 6  # 3 tabs + 3 content panels\n",
    "    \n",
    "    # Verify first tab and content\n",
    "    assert border_tabs_content.children[0].tag == \"input\"\n",
    "    assert border_tabs_content.children[0].attrs['type'] == \"radio\"\n",
    "    assert border_tabs_content.children[1].tag == \"div\"\n",
    "    assert \"tab-content\" in border_tabs_content.children[1].attrs['class']\n",
    "    assert \"border-base-300\" in border_tabs_content.children[1].attrs['class']\n",
    "    assert \"bg-base-100\" in border_tabs_content.children[1].attrs['class']\n",
    "    assert \"p-10\" in border_tabs_content.children[1].attrs['class']\n",
    "    assert border_tabs_content.children[1].children[0] == \"Tab content 1\"\n",
    "    \n",
    "    # Radio tabs-lift + tab content\n",
    "    lift_tabs_content = Div(\n",
    "        Input(type=\"radio\", name=\"my_tabs_3\", aria_label=\"Tab 1\", cls=str(tab)),\n",
    "        Div(\n",
    "            \"Tab content 1\",\n",
    "            cls=combine_classes(tab_content, bg_dui.base_100, border_dui.base_300, p._6)\n",
    "        ),\n",
    "        Input(type=\"radio\", name=\"my_tabs_3\", aria_label=\"Tab 2\", checked=\"checked\", cls=str(tab)),\n",
    "        Div(\n",
    "            \"Tab content 2\",\n",
    "            cls=combine_classes(tab_content, bg_dui.base_100, border_dui.base_300, p._6)\n",
    "        ),\n",
    "        Input(type=\"radio\", name=\"my_tabs_3\", aria_label=\"Tab 3\", cls=str(tab)),\n",
    "        Div(\n",
    "            \"Tab content 3\",\n",
    "            cls=combine_classes(tab_content, bg_dui.base_100, border_dui.base_300, p._6)\n",
    "        ),\n",
    "        cls=combine_classes(tabs, tabs_styles.lift)\n",
    "    )\n",
    "    \n",
    "    # Verify lift tabs structure\n",
    "    assert \"tabs\" in lift_tabs_content.attrs['class']\n",
    "    assert \"tabs-lift\" in lift_tabs_content.attrs['class']\n",
    "    assert \"p-6\" in lift_tabs_content.children[1].attrs['class']\n",
    "    \n",
    "    # Radio tabs-box + tab content\n",
    "    box_tabs_content = Div(\n",
    "        Input(type=\"radio\", name=\"my_tabs_6\", aria_label=\"Tab 1\", cls=str(tab)),\n",
    "        Div(\n",
    "            \"Tab content 1\",\n",
    "            cls=combine_classes(tab_content, bg_dui.base_100, border_dui.base_300, p._6)\n",
    "        ),\n",
    "        Input(type=\"radio\", name=\"my_tabs_6\", aria_label=\"Tab 2\", checked=\"checked\", cls=str(tab)),\n",
    "        Div(\n",
    "            \"Tab content 2\",\n",
    "            cls=combine_classes(tab_content, bg_dui.base_100, border_dui.base_300, p._6)\n",
    "        ),\n",
    "        Input(type=\"radio\", name=\"my_tabs_6\", aria_label=\"Tab 3\", cls=str(tab)),\n",
    "        Div(\n",
    "            \"Tab content 3\",\n",
    "            cls=combine_classes(tab_content, bg_dui.base_100, border_dui.base_300, p._6)\n",
    "        ),\n",
    "        cls=combine_classes(tabs, tabs_styles.box)\n",
    "    )\n",
    "    \n",
    "    # Verify box tabs structure\n",
    "    assert \"tabs\" in box_tabs_content.attrs['class']\n",
    "    assert \"tabs-box\" in box_tabs_content.attrs['class']\n",
    "    \n",
    "    return Div(border_tabs_content, lift_tabs_content, box_tabs_content)\n",
    "\n",
    "# Run the tests\n",
    "test_tabs_with_content_fasthtml_examples()"
   ]
  },
  {
   "cell_type": "code",
   "execution_count": null,
   "id": "97192fbc-b5a4-470a-87c6-84eaf53ea315",
   "metadata": {},
   "outputs": [
    {
     "data": {
      "text/html": [
       "\n",
       "<script>\n",
       "document.body.addEventListener('htmx:configRequest', (event) => {\n",
       "    if(event.detail.path.includes('://')) return;\n",
       "    htmx.config.selfRequestsOnly=false;\n",
       "    event.detail.path = `${location.protocol}//${location.hostname}:8000${event.detail.path}`;\n",
       "});\n",
       "</script>"
      ],
      "text/plain": [
       "<IPython.core.display.HTML object>"
      ]
     },
     "metadata": {},
     "output_type": "display_data"
    },
    {
     "data": {
      "text/html": [
       "<iframe src=\"http://localhost:8000/\" style=\"width: 100%; height: auto; border: none;\" onload=\"{\n",
       "        let frame = this;\n",
       "        window.addEventListener('message', function(e) {\n",
       "            if (e.source !== frame.contentWindow) return; // Only proceed if the message is from this iframe\n",
       "            if (e.data.height) frame.style.height = (e.data.height+1) + 'px';\n",
       "        }, false);\n",
       "    }\" allow=\"accelerometer; autoplay; camera; clipboard-read; clipboard-write; display-capture; encrypted-media; fullscreen; gamepad; geolocation; gyroscope; hid; identity-credentials-get; idle-detection; magnetometer; microphone; midi; payment; picture-in-picture; publickey-credentials-get; screen-wake-lock; serial; usb; web-share; xr-spatial-tracking\"></iframe> "
      ],
      "text/plain": [
       "<IPython.core.display.HTML object>"
      ]
     },
     "metadata": {},
     "output_type": "display_data"
    }
   ],
   "source": [
    "#| eval: false\n",
    "#| output: false\n",
    "test_func = test_tabs_with_content_fasthtml_examples\n",
    "app, rt = create_test_app(theme=DaisyUITheme.LIGHT)\n",
    "\n",
    "@rt\n",
    "def index():\n",
    "    return create_test_page(test_func.__doc__.title().replace('.', ''), test_func())\n",
    "server = start_test_server(app)\n",
    "display(HTMX())\n",
    "server.stop()"
   ]
  },
  {
   "cell_type": "code",
   "execution_count": null,
   "id": "46f75aea-69f2-49d0-bff9-5911b2f6c5ba",
   "metadata": {},
   "outputs": [
    {
     "data": {
      "text/markdown": [
       "```html\n",
       "<div class=\"tabs tabs-lift\">\n",
       "<label class=\"tab\">    <input type=\"radio\" name=\"my_tabs_4\">\n",
       "<svg xmlns=\"http://www.w3.org/2000/svg\" viewbox=\"0 0 24 24\" fill=\"none\" stroke-width=\"1.5\" stroke=\"currentColor\" class=\"size-4 me-2\"><path d=\"M5.25 5.653c0-.856.917-1.398 1.667-.986l11.54 6.347a1.125 1.125 0 0 1 0 1.972l-11.54 6.347a1.125 1.125 0 0 1-1.667-.986V5.653Z\" stroke-linecap=\"round\" stroke-linejoin=\"round\"></path></svg>Live</label>  <div class=\"tab-content bg-base-100 border-base-300 p-6\">Tab content 1</div>\n",
       "<label class=\"tab\">    <input type=\"radio\" name=\"my_tabs_4\" checked=\"checked\">\n",
       "<svg xmlns=\"http://www.w3.org/2000/svg\" viewbox=\"0 0 24 24\" fill=\"none\" stroke-width=\"1.5\" stroke=\"currentColor\" class=\"size-4 me-2\"><path d=\"M15.182 15.182a4.5 4.5 0 0 1-6.364 0M21 12a9 9 0 1 1-18 0 9 9 0 0 1 18 0ZM9.75 9.75c0 .414-.168.75-.375.75S9 10.164 9 9.75 9.168 9 9.375 9s.375.336.375.75Zm-.375 0h.008v.015h-.008V9.75Zm5.625 0c0 .414-.168.75-.375.75s-.375-.336-.375-.75.168-.75.375-.75.375.336.375.75Zm-.375 0h.008v.015h-.008V9.75Z\" stroke-linecap=\"round\" stroke-linejoin=\"round\"></path></svg>Laugh</label>  <div class=\"tab-content bg-base-100 border-base-300 p-6\">Tab content 2</div>\n",
       "<label class=\"tab\">    <input type=\"radio\" name=\"my_tabs_4\">\n",
       "<svg xmlns=\"http://www.w3.org/2000/svg\" viewbox=\"0 0 24 24\" fill=\"none\" stroke-width=\"1.5\" stroke=\"currentColor\" class=\"size-4 me-2\"><path d=\"M21 8.25c0-2.485-2.099-4.5-4.688-4.5-1.935 0-3.597 1.126-4.312 2.733-.715-1.607-2.377-2.733-4.313-2.733C5.1 3.75 3 5.765 3 8.25c0 7.22 9 12 9 12s9-4.78 9-12Z\" stroke-linecap=\"round\" stroke-linejoin=\"round\"></path></svg>Love</label>  <div class=\"tab-content bg-base-100 border-base-300 p-6\">Tab content 3</div>\n",
       "</div>\n",
       "\n",
       "```"
      ],
      "text/plain": [
       "div((label((input((),{'type': 'radio', 'name': 'my_tabs_4'}), svg((path((),{'d': 'M5.25 5.653c0-.856.917-1.398 1.667-.986l11.54 6.347a1.125 1.125 0 0 1 0 1.972l-11.54 6.347a1.125 1.125 0 0 1-1.667-.986V5.653Z', 'stroke-linecap': 'round', 'stroke-linejoin': 'round'}),),{'xmlns': 'http://www.w3.org/2000/svg', 'viewbox': '0 0 24 24', 'fill': 'none', 'stroke-width': '1.5', 'stroke': 'currentColor', 'class': 'size-4 me-2'}), 'Live'),{'class': 'tab'}), div(('Tab content 1',),{'class': 'tab-content bg-base-100 border-base-300 p-6'}), label((input((),{'type': 'radio', 'name': 'my_tabs_4', 'checked': 'checked'}), svg((path((),{'d': 'M15.182 15.182a4.5 4.5 0 0 1-6.364 0M21 12a9 9 0 1 1-18 0 9 9 0 0 1 18 0ZM9.75 9.75c0 .414-.168.75-.375.75S9 10.164 9 9.75 9.168 9 9.375 9s.375.336.375.75Zm-.375 0h.008v.015h-.008V9.75Zm5.625 0c0 .414-.168.75-.375.75s-.375-.336-.375-.75.168-.75.375-.75.375.336.375.75Zm-.375 0h.008v.015h-.008V9.75Z', 'stroke-linecap': 'round', 'stroke-linejoin': 'round'}),),{'xmlns': 'http://www.w3.org/2000/svg', 'viewbox': '0 0 24 24', 'fill': 'none', 'stroke-width': '1.5', 'stroke': 'currentColor', 'class': 'size-4 me-2'}), 'Laugh'),{'class': 'tab'}), div(('Tab content 2',),{'class': 'tab-content bg-base-100 border-base-300 p-6'}), label((input((),{'type': 'radio', 'name': 'my_tabs_4'}), svg((path((),{'d': 'M21 8.25c0-2.485-2.099-4.5-4.688-4.5-1.935 0-3.597 1.126-4.312 2.733-.715-1.607-2.377-2.733-4.313-2.733C5.1 3.75 3 5.765 3 8.25c0 7.22 9 12 9 12s9-4.78 9-12Z', 'stroke-linecap': 'round', 'stroke-linejoin': 'round'}),),{'xmlns': 'http://www.w3.org/2000/svg', 'viewbox': '0 0 24 24', 'fill': 'none', 'stroke-width': '1.5', 'stroke': 'currentColor', 'class': 'size-4 me-2'}), 'Love'),{'class': 'tab'}), div(('Tab content 3',),{'class': 'tab-content bg-base-100 border-base-300 p-6'})),{'class': 'tabs tabs-lift'})"
      ]
     },
     "execution_count": null,
     "metadata": {},
     "output_type": "execute_result"
    }
   ],
   "source": [
    "#|exports\n",
    "def test_tabs_with_icons_fasthtml_examples():\n",
    "    \"\"\"Test tabs with icons and content from daisyUI v5 documentation.\"\"\"\n",
    "    from fasthtml.common import Div, Label, Input\n",
    "    from fasthtml.svg import Svg, Path\n",
    "    from cjm_fasthtml_tailwind.utilities.sizing import size_util\n",
    "    from cjm_fasthtml_tailwind.utilities.spacing import me, p\n",
    "    from cjm_fasthtml_daisyui.core.utility_classes import bg_dui, border_dui\n",
    "    \n",
    "    # Create reusable icon SVGs\n",
    "    play_icon = Svg(\n",
    "        Path(\n",
    "            stroke_linecap=\"round\",\n",
    "            stroke_linejoin=\"round\",\n",
    "            d=\"M5.25 5.653c0-.856.917-1.398 1.667-.986l11.54 6.347a1.125 1.125 0 0 1 0 1.972l-11.54 6.347a1.125 1.125 0 0 1-1.667-.986V5.653Z\"\n",
    "        ),\n",
    "        xmlns=\"http://www.w3.org/2000/svg\",\n",
    "        fill=\"none\",\n",
    "        viewBox=\"0 0 24 24\",\n",
    "        stroke_width=\"1.5\",\n",
    "        stroke=\"currentColor\",\n",
    "        cls=combine_classes(size_util._4, me._2)\n",
    "    )\n",
    "    \n",
    "    face_icon = Svg(\n",
    "        Path(\n",
    "            stroke_linecap=\"round\",\n",
    "            stroke_linejoin=\"round\",\n",
    "            d=\"M15.182 15.182a4.5 4.5 0 0 1-6.364 0M21 12a9 9 0 1 1-18 0 9 9 0 0 1 18 0ZM9.75 9.75c0 .414-.168.75-.375.75S9 10.164 9 9.75 9.168 9 9.375 9s.375.336.375.75Zm-.375 0h.008v.015h-.008V9.75Zm5.625 0c0 .414-.168.75-.375.75s-.375-.336-.375-.75.168-.75.375-.75.375.336.375.75Zm-.375 0h.008v.015h-.008V9.75Z\"\n",
    "        ),\n",
    "        xmlns=\"http://www.w3.org/2000/svg\",\n",
    "        fill=\"none\",\n",
    "        viewBox=\"0 0 24 24\",\n",
    "        stroke_width=\"1.5\",\n",
    "        stroke=\"currentColor\",\n",
    "        cls=combine_classes(size_util._4, me._2)\n",
    "    )\n",
    "    \n",
    "    heart_icon = Svg(\n",
    "        Path(\n",
    "            stroke_linecap=\"round\",\n",
    "            stroke_linejoin=\"round\",\n",
    "            d=\"M21 8.25c0-2.485-2.099-4.5-4.688-4.5-1.935 0-3.597 1.126-4.312 2.733-.715-1.607-2.377-2.733-4.313-2.733C5.1 3.75 3 5.765 3 8.25c0 7.22 9 12 9 12s9-4.78 9-12Z\"\n",
    "        ),\n",
    "        xmlns=\"http://www.w3.org/2000/svg\",\n",
    "        fill=\"none\",\n",
    "        viewBox=\"0 0 24 24\",\n",
    "        stroke_width=\"1.5\",\n",
    "        stroke=\"currentColor\",\n",
    "        cls=combine_classes(size_util._4, me._2)\n",
    "    )\n",
    "    \n",
    "    # Radio tabs-lift with icons + tab content\n",
    "    icon_tabs = Div(\n",
    "        Label(\n",
    "            Input(type=\"radio\", name=\"my_tabs_4\"),\n",
    "            play_icon,\n",
    "            \"Live\",\n",
    "            cls=str(tab)\n",
    "        ),\n",
    "        Div(\n",
    "            \"Tab content 1\",\n",
    "            cls=combine_classes(tab_content, bg_dui.base_100, border_dui.base_300, p._6)\n",
    "        ),\n",
    "        Label(\n",
    "            Input(type=\"radio\", name=\"my_tabs_4\", checked=\"checked\"),\n",
    "            face_icon,\n",
    "            \"Laugh\",\n",
    "            cls=str(tab)\n",
    "        ),\n",
    "        Div(\n",
    "            \"Tab content 2\",\n",
    "            cls=combine_classes(tab_content, bg_dui.base_100, border_dui.base_300, p._6)\n",
    "        ),\n",
    "        Label(\n",
    "            Input(type=\"radio\", name=\"my_tabs_4\"),\n",
    "            heart_icon,\n",
    "            \"Love\",\n",
    "            cls=str(tab)\n",
    "        ),\n",
    "        Div(\n",
    "            \"Tab content 3\",\n",
    "            cls=combine_classes(tab_content, bg_dui.base_100, border_dui.base_300, p._6)\n",
    "        ),\n",
    "        cls=combine_classes(tabs, tabs_styles.lift)\n",
    "    )\n",
    "    \n",
    "    # Verify structure\n",
    "    assert \"tabs\" in icon_tabs.attrs['class']\n",
    "    assert \"tabs-lift\" in icon_tabs.attrs['class']\n",
    "    assert len(icon_tabs.children) == 6  # 3 labels + 3 content panels\n",
    "    \n",
    "    # Verify first tab with icon\n",
    "    first_label = icon_tabs.children[0]\n",
    "    assert first_label.tag == \"label\"\n",
    "    assert first_label.attrs['class'] == \"tab\"\n",
    "    assert first_label.children[0].tag == \"input\"\n",
    "    assert first_label.children[0].attrs['type'] == \"radio\"\n",
    "    assert first_label.children[0].attrs['name'] == \"my_tabs_4\"\n",
    "    assert first_label.children[1].tag == \"svg\"  # Play icon\n",
    "    assert first_label.children[2] == \"Live\"\n",
    "    \n",
    "    # Verify second tab (checked) with icon\n",
    "    second_label = icon_tabs.children[2]\n",
    "    assert second_label.tag == \"label\"\n",
    "    assert second_label.children[0].attrs['checked'] == \"checked\"\n",
    "    assert second_label.children[1].tag == \"svg\"  # Face icon\n",
    "    assert second_label.children[2] == \"Laugh\"\n",
    "    \n",
    "    # Verify third tab with icon\n",
    "    third_label = icon_tabs.children[4]\n",
    "    assert third_label.tag == \"label\"\n",
    "    assert third_label.children[1].tag == \"svg\"  # Heart icon\n",
    "    assert third_label.children[2] == \"Love\"\n",
    "    \n",
    "    # Verify content panels\n",
    "    assert icon_tabs.children[1].tag == \"div\"\n",
    "    assert \"tab-content\" in icon_tabs.children[1].attrs['class']\n",
    "    assert icon_tabs.children[1].children[0] == \"Tab content 1\"\n",
    "    \n",
    "    return icon_tabs\n",
    "\n",
    "# Run the tests\n",
    "test_tabs_with_icons_fasthtml_examples()"
   ]
  },
  {
   "cell_type": "code",
   "execution_count": null,
   "id": "3fe0a8f5-c9b8-45f2-af08-fe8eb23cd6aa",
   "metadata": {},
   "outputs": [
    {
     "data": {
      "text/html": [
       "\n",
       "<script>\n",
       "document.body.addEventListener('htmx:configRequest', (event) => {\n",
       "    if(event.detail.path.includes('://')) return;\n",
       "    htmx.config.selfRequestsOnly=false;\n",
       "    event.detail.path = `${location.protocol}//${location.hostname}:8000${event.detail.path}`;\n",
       "});\n",
       "</script>"
      ],
      "text/plain": [
       "<IPython.core.display.HTML object>"
      ]
     },
     "metadata": {},
     "output_type": "display_data"
    },
    {
     "data": {
      "text/html": [
       "<iframe src=\"http://localhost:8000/\" style=\"width: 100%; height: auto; border: none;\" onload=\"{\n",
       "        let frame = this;\n",
       "        window.addEventListener('message', function(e) {\n",
       "            if (e.source !== frame.contentWindow) return; // Only proceed if the message is from this iframe\n",
       "            if (e.data.height) frame.style.height = (e.data.height+1) + 'px';\n",
       "        }, false);\n",
       "    }\" allow=\"accelerometer; autoplay; camera; clipboard-read; clipboard-write; display-capture; encrypted-media; fullscreen; gamepad; geolocation; gyroscope; hid; identity-credentials-get; idle-detection; magnetometer; microphone; midi; payment; picture-in-picture; publickey-credentials-get; screen-wake-lock; serial; usb; web-share; xr-spatial-tracking\"></iframe> "
      ],
      "text/plain": [
       "<IPython.core.display.HTML object>"
      ]
     },
     "metadata": {},
     "output_type": "display_data"
    }
   ],
   "source": [
    "#| eval: false\n",
    "#| output: false\n",
    "test_func = test_tabs_with_icons_fasthtml_examples\n",
    "app, rt = create_test_app(theme=DaisyUITheme.LIGHT)\n",
    "\n",
    "@rt\n",
    "def index():\n",
    "    return create_test_page(test_func.__doc__.title().replace('.', ''), test_func())\n",
    "server = start_test_server(app)\n",
    "display(HTMX())\n",
    "server.stop()"
   ]
  },
  {
   "cell_type": "code",
   "execution_count": null,
   "id": "ed20634d-8c6a-4e5e-b4c2-74fbebe8e386",
   "metadata": {},
   "outputs": [
    {
     "data": {
      "text/markdown": [
       "```html\n",
       "<div>\n",
       "  <div class=\"tabs tabs-lift tabs-bottom\">\n",
       "    <input type=\"radio\" name=\"my_tabs_5\" aria-label=\"Tab 1\" class=\"tab\">\n",
       "    <div class=\"tab-content bg-base-100 border-base-300 p-6\">Tab content 1</div>\n",
       "    <input type=\"radio\" name=\"my_tabs_5\" aria-label=\"Tab 2\" checked=\"checked\" class=\"tab\">\n",
       "    <div class=\"tab-content bg-base-100 border-base-300 p-6\">Tab content 2</div>\n",
       "    <input type=\"radio\" name=\"my_tabs_5\" aria-label=\"Tab 3\" class=\"tab\">\n",
       "    <div class=\"tab-content bg-base-100 border-base-300 p-6\">Tab content 3</div>\n",
       "  </div>\n",
       "  <div class=\"overflow-x-auto max-w-60\">\n",
       "    <div class=\"tabs-lift tabs min-w-max\">\n",
       "      <input type=\"radio\" name=\"my_tabs_7\" aria-label=\"Tab title 1\" class=\"tab z-1\">\n",
       "      <div class=\"sticky start-0 tab-content max-w-60 border-base-300 bg-base-100 p-6\">Tab content 1</div>\n",
       "      <input type=\"radio\" name=\"my_tabs_7\" aria-label=\"Tab title 2\" checked=\"checked\" class=\"tab z-1\">\n",
       "      <div class=\"sticky start-0 tab-content max-w-60 border-base-300 bg-base-100 p-6\">Tab content 2</div>\n",
       "      <input type=\"radio\" name=\"my_tabs_7\" aria-label=\"Tab title 3\" class=\"tab z-1\">\n",
       "      <div class=\"sticky start-0 tab-content max-w-60 border-base-300 bg-base-100 p-6\">Tab content 3</div>\n",
       "      <input type=\"radio\" name=\"my_tabs_7\" aria-label=\"Tab title 4\" class=\"tab z-1\">\n",
       "      <div class=\"sticky start-0 tab-content max-w-60 border-base-300 bg-base-100 p-6\">Tab content 4</div>\n",
       "    </div>\n",
       "  </div>\n",
       "  <div role=\"tablist\" class=\"tabs tabs-lift\">\n",
       "<a href=\"#\" role=\"tab\" class=\"tab\">Tab 1</a><a href=\"#\" role=\"tab\" class=\"tab tab-active text-primary\" style=\"--tab-bg:orange; --tab-border-color:red\">Tab 2</a><a href=\"#\" role=\"tab\" class=\"tab\">Tab 3</a>  </div>\n",
       "</div>\n",
       "\n",
       "```"
      ],
      "text/plain": [
       "div((div((input((),{'type': 'radio', 'name': 'my_tabs_5', 'aria-label': 'Tab 1', 'class': 'tab'}), div(('Tab content 1',),{'class': 'tab-content bg-base-100 border-base-300 p-6'}), input((),{'type': 'radio', 'name': 'my_tabs_5', 'aria-label': 'Tab 2', 'checked': 'checked', 'class': 'tab'}), div(('Tab content 2',),{'class': 'tab-content bg-base-100 border-base-300 p-6'}), input((),{'type': 'radio', 'name': 'my_tabs_5', 'aria-label': 'Tab 3', 'class': 'tab'}), div(('Tab content 3',),{'class': 'tab-content bg-base-100 border-base-300 p-6'})),{'class': 'tabs tabs-lift tabs-bottom'}), div((div((input((),{'type': 'radio', 'name': 'my_tabs_7', 'aria-label': 'Tab title 1', 'class': 'tab z-1'}), div(('Tab content 1',),{'class': 'sticky start-0 tab-content max-w-60 border-base-300 bg-base-100 p-6'}), input((),{'type': 'radio', 'name': 'my_tabs_7', 'aria-label': 'Tab title 2', 'checked': 'checked', 'class': 'tab z-1'}), div(('Tab content 2',),{'class': 'sticky start-0 tab-content max-w-60 border-base-300 bg-base-100 p-6'}), input((),{'type': 'radio', 'name': 'my_tabs_7', 'aria-label': 'Tab title 3', 'class': 'tab z-1'}), div(('Tab content 3',),{'class': 'sticky start-0 tab-content max-w-60 border-base-300 bg-base-100 p-6'}), input((),{'type': 'radio', 'name': 'my_tabs_7', 'aria-label': 'Tab title 4', 'class': 'tab z-1'}), div(('Tab content 4',),{'class': 'sticky start-0 tab-content max-w-60 border-base-300 bg-base-100 p-6'})),{'class': 'tabs-lift tabs min-w-max'}),),{'class': 'overflow-x-auto max-w-60'}), div((a(('Tab 1',),{'href': '#', 'role': 'tab', 'class': 'tab'}), a(('Tab 2',),{'href': '#', 'role': 'tab', 'class': 'tab tab-active text-primary', 'style': '--tab-bg:orange; --tab-border-color:red'}), a(('Tab 3',),{'href': '#', 'role': 'tab', 'class': 'tab'})),{'role': 'tablist', 'class': 'tabs tabs-lift'})),{})"
      ]
     },
     "execution_count": null,
     "metadata": {},
     "output_type": "execute_result"
    }
   ],
   "source": [
    "#|exports\n",
    "def test_tabs_special_fasthtml_examples():\n",
    "    \"\"\"Test special tabs variations from daisyUI v5 documentation.\"\"\"\n",
    "    from fasthtml.common import Div, Input, A\n",
    "    from cjm_fasthtml_daisyui.core.utility_classes import bg_dui, border_dui, text_dui\n",
    "    from cjm_fasthtml_tailwind.utilities.spacing import p\n",
    "    from cjm_fasthtml_tailwind.utilities.sizing import max_w, min_w\n",
    "    from cjm_fasthtml_tailwind.utilities.layout import overflow, position, z, start\n",
    "    \n",
    "    # Radio tabs-lift + tab content on bottom\n",
    "    bottom_tabs = Div(\n",
    "        Input(type=\"radio\", name=\"my_tabs_5\", aria_label=\"Tab 1\", cls=str(tab)),\n",
    "        Div(\n",
    "            \"Tab content 1\",\n",
    "            cls=combine_classes(tab_content, bg_dui.base_100, border_dui.base_300, p._6)\n",
    "        ),\n",
    "        Input(type=\"radio\", name=\"my_tabs_5\", aria_label=\"Tab 2\", checked=\"checked\", cls=str(tab)),\n",
    "        Div(\n",
    "            \"Tab content 2\",\n",
    "            cls=combine_classes(tab_content, bg_dui.base_100, border_dui.base_300, p._6)\n",
    "        ),\n",
    "        Input(type=\"radio\", name=\"my_tabs_5\", aria_label=\"Tab 3\", cls=str(tab)),\n",
    "        Div(\n",
    "            \"Tab content 3\",\n",
    "            cls=combine_classes(tab_content, bg_dui.base_100, border_dui.base_300, p._6)\n",
    "        ),\n",
    "        cls=combine_classes(tabs, tabs_styles.lift, tabs_placement.bottom)\n",
    "    )\n",
    "    \n",
    "    # Verify bottom tabs structure\n",
    "    assert \"tabs\" in bottom_tabs.attrs['class']\n",
    "    assert \"tabs-lift\" in bottom_tabs.attrs['class']\n",
    "    assert \"tabs-bottom\" in bottom_tabs.attrs['class']\n",
    "    \n",
    "    # Tabs with horizontal scroll when there's no space\n",
    "    scrollable_tabs = Div(\n",
    "        Div(\n",
    "            Input(type=\"radio\", name=\"my_tabs_7\", aria_label=\"Tab title 1\", cls=combine_classes(tab, z(1))),\n",
    "            Div(\n",
    "                \"Tab content 1\",\n",
    "                cls=combine_classes(position.sticky, start(0), tab_content, max_w._60, border_dui.base_300, bg_dui.base_100, p._6)\n",
    "            ),\n",
    "            Input(type=\"radio\", name=\"my_tabs_7\", aria_label=\"Tab title 2\", checked=\"checked\", cls=combine_classes(tab, z(1))),\n",
    "            Div(\n",
    "                \"Tab content 2\",\n",
    "                cls=combine_classes(position.sticky, start(0), tab_content, max_w._60, border_dui.base_300, bg_dui.base_100, p._6)\n",
    "            ),\n",
    "            Input(type=\"radio\", name=\"my_tabs_7\", aria_label=\"Tab title 3\", cls=combine_classes(tab, z(1))),\n",
    "            Div(\n",
    "                \"Tab content 3\",\n",
    "                cls=combine_classes(position.sticky, start(0), tab_content, max_w._60, border_dui.base_300, bg_dui.base_100, p._6)\n",
    "            ),\n",
    "            Input(type=\"radio\", name=\"my_tabs_7\", aria_label=\"Tab title 4\", cls=combine_classes(tab, z(1))),\n",
    "            Div(\n",
    "                \"Tab content 4\",\n",
    "                cls=combine_classes(position.sticky, start(0), tab_content, max_w._60, border_dui.base_300, bg_dui.base_100, p._6)\n",
    "            ),\n",
    "            cls=combine_classes(tabs_styles.lift, tabs, min_w.max)\n",
    "        ),\n",
    "        cls=combine_classes(overflow.x.auto, max_w._60)\n",
    "    )\n",
    "    \n",
    "    # Verify scrollable tabs structure\n",
    "    assert \"overflow-x-auto\" in scrollable_tabs.attrs['class']\n",
    "    assert \"max-w-60\" in scrollable_tabs.attrs['class']\n",
    "    inner_div = scrollable_tabs.children[0]\n",
    "    assert \"tabs-lift\" in inner_div.attrs['class']\n",
    "    assert \"tabs\" in inner_div.attrs['class']\n",
    "    assert \"min-w-max\" in inner_div.attrs['class']\n",
    "    assert \"z-1\" in inner_div.children[0].attrs['class']\n",
    "    assert \"sticky\" in inner_div.children[1].attrs['class']\n",
    "    assert \"start-0\" in inner_div.children[1].attrs['class']\n",
    "    \n",
    "    # Tabs with custom color\n",
    "    custom_color_tabs = Div(\n",
    "        A(\"Tab 1\", role=\"tab\", cls=str(tab)),\n",
    "        A(\n",
    "            \"Tab 2\",\n",
    "            role=\"tab\",\n",
    "            cls=combine_classes(tab, tab_modifiers.active, text_dui.primary),\n",
    "            style=\"--tab-bg:orange; --tab-border-color:red\"\n",
    "        ),\n",
    "        A(\"Tab 3\", role=\"tab\", cls=str(tab)),\n",
    "        role=\"tablist\",\n",
    "        cls=combine_classes(tabs, tabs_styles.lift)\n",
    "    )\n",
    "    \n",
    "    # Verify custom color tabs\n",
    "    assert \"tabs\" in custom_color_tabs.attrs['class']\n",
    "    assert \"tabs-lift\" in custom_color_tabs.attrs['class']\n",
    "    second_tab = custom_color_tabs.children[1]\n",
    "    assert \"tab-active\" in second_tab.attrs['class']\n",
    "    assert \"text-primary\" in second_tab.attrs['class']\n",
    "    assert second_tab.attrs['style'] == \"--tab-bg:orange; --tab-border-color:red\"\n",
    "    \n",
    "    return Div(bottom_tabs, scrollable_tabs, custom_color_tabs)\n",
    "\n",
    "# Run the tests\n",
    "test_tabs_special_fasthtml_examples()"
   ]
  },
  {
   "cell_type": "code",
   "execution_count": null,
   "id": "7f56cbb8-29d2-4ace-900a-39d420670af7",
   "metadata": {},
   "outputs": [
    {
     "data": {
      "text/html": [
       "\n",
       "<script>\n",
       "document.body.addEventListener('htmx:configRequest', (event) => {\n",
       "    if(event.detail.path.includes('://')) return;\n",
       "    htmx.config.selfRequestsOnly=false;\n",
       "    event.detail.path = `${location.protocol}//${location.hostname}:8000${event.detail.path}`;\n",
       "});\n",
       "</script>"
      ],
      "text/plain": [
       "<IPython.core.display.HTML object>"
      ]
     },
     "metadata": {},
     "output_type": "display_data"
    },
    {
     "data": {
      "text/html": [
       "<iframe src=\"http://localhost:8000/\" style=\"width: 100%; height: auto; border: none;\" onload=\"{\n",
       "        let frame = this;\n",
       "        window.addEventListener('message', function(e) {\n",
       "            if (e.source !== frame.contentWindow) return; // Only proceed if the message is from this iframe\n",
       "            if (e.data.height) frame.style.height = (e.data.height+1) + 'px';\n",
       "        }, false);\n",
       "    }\" allow=\"accelerometer; autoplay; camera; clipboard-read; clipboard-write; display-capture; encrypted-media; fullscreen; gamepad; geolocation; gyroscope; hid; identity-credentials-get; idle-detection; magnetometer; microphone; midi; payment; picture-in-picture; publickey-credentials-get; screen-wake-lock; serial; usb; web-share; xr-spatial-tracking\"></iframe> "
      ],
      "text/plain": [
       "<IPython.core.display.HTML object>"
      ]
     },
     "metadata": {},
     "output_type": "display_data"
    }
   ],
   "source": [
    "#| eval: false\n",
    "#| output: false\n",
    "test_func = test_tabs_special_fasthtml_examples\n",
    "app, rt = create_test_app(theme=DaisyUITheme.LIGHT)\n",
    "\n",
    "@rt\n",
    "def index():\n",
    "    return create_test_page(test_func.__doc__.title().replace('.', ''), test_func())\n",
    "server = start_test_server(app)\n",
    "display(HTMX())\n",
    "server.stop()"
   ]
  },
  {
   "cell_type": "code",
   "execution_count": null,
   "id": "b34b2382-bb5c-4fe0-a5b6-19621f6027dd",
   "metadata": {},
   "outputs": [],
   "source": []
  },
  {
   "cell_type": "code",
   "execution_count": null,
   "id": "bd4d3321-02e4-450c-bc0f-c5f6fb49cf14",
   "metadata": {},
   "outputs": [],
   "source": []
  },
  {
   "cell_type": "code",
   "execution_count": null,
   "id": "30ac43c3-c9c2-444f-81bf-fae6780802bc",
   "metadata": {},
   "outputs": [],
   "source": []
  },
  {
   "cell_type": "code",
   "execution_count": null,
   "id": "86ee6546-894c-425f-95cc-6181e09a9623",
   "metadata": {},
   "outputs": [],
   "source": []
  },
  {
   "cell_type": "code",
   "execution_count": null,
   "id": "b86d8cd1-8ec2-46ed-a5e9-74b7e4c72399",
   "metadata": {},
   "outputs": [],
   "source": []
  },
  {
   "cell_type": "code",
   "execution_count": null,
   "id": "7ab8257a-c30b-45b6-a784-729b67686791",
   "metadata": {},
   "outputs": [],
   "source": [
    "#| hide\n",
    "import nbdev; nbdev.nbdev_export()"
   ]
  }
 ],
 "metadata": {
  "kernelspec": {
   "display_name": "python3",
   "language": "python",
   "name": "python3"
  }
 },
 "nbformat": 4,
 "nbformat_minor": 5
}
