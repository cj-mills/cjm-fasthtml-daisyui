{
 "cells": [
  {
   "cell_type": "markdown",
   "id": "7c51b46b-ece1-456d-8e84-7de122e72b62",
   "metadata": {},
   "source": [
    "# steps\n",
    "\n",
    "> Steps can be used to show a list of steps in a process."
   ]
  },
  {
   "cell_type": "code",
   "execution_count": null,
   "id": "25536bdc-e099-477f-9e2d-a5f71df5dff2",
   "metadata": {},
   "outputs": [],
   "source": [
    "#| default_exp components.navigation.steps"
   ]
  },
  {
   "cell_type": "code",
   "execution_count": null,
   "id": "2e6f21ce-7766-455a-8ebb-df2c17e7d977",
   "metadata": {},
   "outputs": [],
   "source": [
    "#| hide\n",
    "from nbdev.showdoc import *"
   ]
  },
  {
   "cell_type": "code",
   "execution_count": null,
   "id": "045c6538-403e-4222-b3bb-db20f188524d",
   "metadata": {},
   "outputs": [],
   "source": [
    "#| export\n",
    "\n",
    "from cjm_fasthtml_tailwind.core.base import (\n",
    "    SingleValueFactory, combine_classes\n",
    ")\n",
    "from cjm_fasthtml_tailwind.builders.scales import SimpleFactory, enums_to_simple_factory\n",
    "\n",
    "from cjm_fasthtml_daisyui.builders.colors import SemanticColorBrand, SemanticColorStatus\n",
    "\n",
    "from fasthtml.common import Div\n",
    "from fasthtml.jupyter import JupyUvi, HTMX\n",
    "from cjm_fasthtml_daisyui.core.testing import create_test_app, create_test_page, start_test_server\n",
    "from cjm_fasthtml_daisyui.core.themes import DaisyUITheme\n",
    "from IPython.display import display"
   ]
  },
  {
   "cell_type": "markdown",
   "id": "bc496fda-e877-43c6-a16a-c4f0f81026a9",
   "metadata": {},
   "source": [
    "### Base Steps"
   ]
  },
  {
   "cell_type": "code",
   "execution_count": null,
   "id": "c802d106-49fb-4d34-ba04-5f54c88e165b",
   "metadata": {},
   "outputs": [],
   "source": [
    "#| export\n",
    "steps = SingleValueFactory(\"steps\", \"Container of multiple step nodes\") # Base steps component\n",
    "step = SingleValueFactory(\"step\", \"A single step node\") # step part\n",
    "step_icon = SingleValueFactory(\"step-icon\", \"For custom icon inside step\") # step icon part"
   ]
  },
  {
   "cell_type": "markdown",
   "id": "dca70a2e-52db-400f-b57d-523a86cdf23f",
   "metadata": {},
   "source": [
    "### Step Colors"
   ]
  },
  {
   "cell_type": "code",
   "execution_count": null,
   "id": "636c6bcd-2176-4191-aa39-c937893243e2",
   "metadata": {},
   "outputs": [],
   "source": [
    "#| export\n",
    "step_colors = enums_to_simple_factory(step, [SemanticColorBrand, SemanticColorStatus], \"Step color variants using daisyUI semantic colors\") # Step color variants"
   ]
  },
  {
   "cell_type": "markdown",
   "id": "37b03c4b-bf2c-4dd9-8d96-9ba691807bfa",
   "metadata": {},
   "source": [
    "### Steps Directions"
   ]
  },
  {
   "cell_type": "code",
   "execution_count": null,
   "id": "3035ff66-e4e7-410c-8b1e-86a879f66112",
   "metadata": {},
   "outputs": [],
   "source": [
    "#| export\n",
    "steps_directions = SimpleFactory(\n",
    "    {\n",
    "        \"vertical\": \"steps-vertical\",\n",
    "        \"horizontal\": \"steps-horizontal\",\n",
    "    },\n",
    "    \"steps directions (vertical, horizontal)\"\n",
    ") # steps directions"
   ]
  },
  {
   "cell_type": "markdown",
   "id": "b61837e7-64c2-4018-abb4-bc988191d25d",
   "metadata": {},
   "source": [
    "### Steps Test Examples"
   ]
  },
  {
   "cell_type": "code",
   "execution_count": null,
   "id": "85d72161-e718-4c66-bc59-a3569b7f7616",
   "metadata": {},
   "outputs": [],
   "source": [
    "#| export\n",
    "def test_steps_basic_examples():\n",
    "    \"\"\"Test basic steps utilities.\"\"\"\n",
    "    # Basic steps\n",
    "    assert str(steps) == \"steps\"\n",
    "    assert str(step) == \"step\"\n",
    "    assert str(step_icon) == \"step-icon\"\n",
    "    \n",
    "    # steps with modifiers\n",
    "    assert str(steps.hover) == \"hover:steps\"\n",
    "    assert str(steps.md) == \"md:steps\"\n",
    "    assert str(steps.dark) == \"dark:steps\"\n",
    "\n",
    "# Run the tests\n",
    "test_steps_basic_examples()"
   ]
  },
  {
   "cell_type": "code",
   "execution_count": null,
   "id": "214654cc-9758-48f9-92e2-0892029c4512",
   "metadata": {},
   "outputs": [],
   "source": [
    "#| export\n",
    "def test_step_colors_examples():\n",
    "    \"\"\"Test step color variants.\"\"\"\n",
    "    # All color variants\n",
    "    assert str(step_colors.neutral) == \"step-neutral\"\n",
    "    assert str(step_colors.primary) == \"step-primary\"\n",
    "    assert str(step_colors.secondary) == \"step-secondary\"\n",
    "    assert str(step_colors.accent) == \"step-accent\"\n",
    "    assert str(step_colors.info) == \"step-info\"\n",
    "    assert str(step_colors.success) == \"step-success\"\n",
    "    assert str(step_colors.warning) == \"step-warning\"\n",
    "    assert str(step_colors.error) == \"step-error\"\n",
    "    \n",
    "    # With modifiers\n",
    "    assert str(step_colors.primary.hover) == \"hover:step-primary\"\n",
    "    assert str(step_colors.success.focus) == \"focus:step-success\"\n",
    "\n",
    "# Run the tests\n",
    "test_step_colors_examples()"
   ]
  },
  {
   "cell_type": "code",
   "execution_count": null,
   "id": "a9d78aa3-0be8-49e6-8bfb-cb9a232ee1ee",
   "metadata": {},
   "outputs": [],
   "source": [
    "#| export\n",
    "def test_steps_directions_examples():\n",
    "    \"\"\"Test steps direction utilities.\"\"\"\n",
    "    assert str(steps_directions.vertical) == \"steps-vertical\"\n",
    "    assert str(steps_directions.horizontal) == \"steps-horizontal\"\n",
    "\n",
    "# Run the tests\n",
    "test_steps_directions_examples()"
   ]
  },
  {
   "cell_type": "code",
   "execution_count": null,
   "id": "01785a18-9bb0-4dbc-9eae-04addf6dede9",
   "metadata": {},
   "outputs": [],
   "source": []
  },
  {
   "cell_type": "code",
   "execution_count": null,
   "id": "43a3d5aa-4f07-48f4-b7c3-5c63612f0fb2",
   "metadata": {},
   "outputs": [],
   "source": []
  },
  {
   "cell_type": "code",
   "execution_count": null,
   "id": "248adc40-6e77-4203-9830-de838e25a00a",
   "metadata": {},
   "outputs": [],
   "source": []
  },
  {
   "cell_type": "code",
   "execution_count": null,
   "id": "a2029d6d-bf22-4e16-87e1-d609762dc867",
   "metadata": {},
   "outputs": [],
   "source": []
  },
  {
   "cell_type": "code",
   "execution_count": null,
   "id": "c9dfaad9-504c-4853-886b-2d1adb1cc3a0",
   "metadata": {},
   "outputs": [],
   "source": []
  },
  {
   "cell_type": "code",
   "execution_count": null,
   "id": "454d5b84-fc57-44ab-a6f0-3123333998cb",
   "metadata": {},
   "outputs": [],
   "source": []
  },
  {
   "cell_type": "code",
   "execution_count": null,
   "id": "d471d21b-6fe5-4c63-90be-5176c4cbd08b",
   "metadata": {},
   "outputs": [],
   "source": []
  },
  {
   "cell_type": "code",
   "execution_count": null,
   "id": "73b88b7e-0be6-4a82-9c02-f3df8af20015",
   "metadata": {},
   "outputs": [],
   "source": []
  },
  {
   "cell_type": "code",
   "execution_count": null,
   "id": "7ab8257a-c30b-45b6-a784-729b67686791",
   "metadata": {},
   "outputs": [],
   "source": [
    "#| hide\n",
    "import nbdev; nbdev.nbdev_export()"
   ]
  }
 ],
 "metadata": {
  "kernelspec": {
   "display_name": "python3",
   "language": "python",
   "name": "python3"
  }
 },
 "nbformat": 4,
 "nbformat_minor": 5
}
