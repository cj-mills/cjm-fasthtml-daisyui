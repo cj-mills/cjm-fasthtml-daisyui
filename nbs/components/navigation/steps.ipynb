{
 "cells": [
  {
   "cell_type": "markdown",
   "id": "7c51b46b-ece1-456d-8e84-7de122e72b62",
   "metadata": {},
   "source": [
    "# steps\n",
    "\n",
    "> Steps can be used to show a list of steps in a process."
   ]
  },
  {
   "cell_type": "code",
   "execution_count": null,
   "id": "25536bdc-e099-477f-9e2d-a5f71df5dff2",
   "metadata": {},
   "outputs": [],
   "source": [
    "#| default_exp components.navigation.steps"
   ]
  },
  {
   "cell_type": "code",
   "execution_count": null,
   "id": "2e6f21ce-7766-455a-8ebb-df2c17e7d977",
   "metadata": {},
   "outputs": [],
   "source": [
    "#| hide\n",
    "from nbdev.showdoc import *"
   ]
  },
  {
   "cell_type": "code",
   "execution_count": null,
   "id": "045c6538-403e-4222-b3bb-db20f188524d",
   "metadata": {},
   "outputs": [],
   "source": [
    "#| export\n",
    "\n",
    "from cjm_fasthtml_tailwind.core.base import (\n",
    "    SingleValueFactory, combine_classes\n",
    ")\n",
    "from cjm_fasthtml_tailwind.builders.scales import SimpleFactory, enums_to_simple_factory\n",
    "\n",
    "from cjm_fasthtml_daisyui.builders.colors import SemanticColorBrand, SemanticColorStatus\n",
    "\n",
    "from fasthtml.common import Div\n",
    "from fasthtml.jupyter import JupyUvi, HTMX\n",
    "from cjm_fasthtml_daisyui.core.testing import create_test_app, create_test_page, start_test_server\n",
    "from cjm_fasthtml_daisyui.core.themes import DaisyUITheme\n",
    "from IPython.display import display"
   ]
  },
  {
   "cell_type": "markdown",
   "id": "bc496fda-e877-43c6-a16a-c4f0f81026a9",
   "metadata": {},
   "source": [
    "### Base Steps"
   ]
  },
  {
   "cell_type": "code",
   "execution_count": null,
   "id": "c802d106-49fb-4d34-ba04-5f54c88e165b",
   "metadata": {},
   "outputs": [],
   "source": [
    "#| export\n",
    "steps = SingleValueFactory(\"steps\", \"Container of multiple step nodes\") # Base steps component\n",
    "step = SingleValueFactory(\"step\", \"A single step node\") # step part\n",
    "step_icon = SingleValueFactory(\"step-icon\", \"For custom icon inside step\") # step icon part"
   ]
  },
  {
   "cell_type": "markdown",
   "id": "dca70a2e-52db-400f-b57d-523a86cdf23f",
   "metadata": {},
   "source": [
    "### Step Colors"
   ]
  },
  {
   "cell_type": "code",
   "execution_count": null,
   "id": "636c6bcd-2176-4191-aa39-c937893243e2",
   "metadata": {},
   "outputs": [],
   "source": [
    "#| export\n",
    "step_colors = enums_to_simple_factory(step, [SemanticColorBrand, SemanticColorStatus], \"Step color variants using daisyUI semantic colors\") # Step color variants"
   ]
  },
  {
   "cell_type": "markdown",
   "id": "37b03c4b-bf2c-4dd9-8d96-9ba691807bfa",
   "metadata": {},
   "source": [
    "### Steps Directions"
   ]
  },
  {
   "cell_type": "code",
   "execution_count": null,
   "id": "3035ff66-e4e7-410c-8b1e-86a879f66112",
   "metadata": {},
   "outputs": [],
   "source": [
    "#| export\n",
    "steps_directions = SimpleFactory(\n",
    "    {\n",
    "        \"vertical\": \"steps-vertical\",\n",
    "        \"horizontal\": \"steps-horizontal\",\n",
    "    },\n",
    "    \"steps directions (vertical, horizontal)\"\n",
    ") # steps directions"
   ]
  },
  {
   "cell_type": "markdown",
   "id": "b61837e7-64c2-4018-abb4-bc988191d25d",
   "metadata": {},
   "source": [
    "### Steps Test Examples"
   ]
  },
  {
   "cell_type": "code",
   "execution_count": null,
   "id": "85d72161-e718-4c66-bc59-a3569b7f7616",
   "metadata": {},
   "outputs": [],
   "source": [
    "#| export\n",
    "def test_steps_basic_examples():\n",
    "    \"\"\"Test basic steps utilities.\"\"\"\n",
    "    # Basic steps\n",
    "    assert str(steps) == \"steps\"\n",
    "    assert str(step) == \"step\"\n",
    "    assert str(step_icon) == \"step-icon\"\n",
    "    \n",
    "    # steps with modifiers\n",
    "    assert str(steps.hover) == \"hover:steps\"\n",
    "    assert str(steps.md) == \"md:steps\"\n",
    "    assert str(steps.dark) == \"dark:steps\"\n",
    "\n",
    "# Run the tests\n",
    "test_steps_basic_examples()"
   ]
  },
  {
   "cell_type": "code",
   "execution_count": null,
   "id": "214654cc-9758-48f9-92e2-0892029c4512",
   "metadata": {},
   "outputs": [],
   "source": [
    "#| export\n",
    "def test_step_colors_examples():\n",
    "    \"\"\"Test step color variants.\"\"\"\n",
    "    # All color variants\n",
    "    assert str(step_colors.neutral) == \"step-neutral\"\n",
    "    assert str(step_colors.primary) == \"step-primary\"\n",
    "    assert str(step_colors.secondary) == \"step-secondary\"\n",
    "    assert str(step_colors.accent) == \"step-accent\"\n",
    "    assert str(step_colors.info) == \"step-info\"\n",
    "    assert str(step_colors.success) == \"step-success\"\n",
    "    assert str(step_colors.warning) == \"step-warning\"\n",
    "    assert str(step_colors.error) == \"step-error\"\n",
    "    \n",
    "    # With modifiers\n",
    "    assert str(step_colors.primary.hover) == \"hover:step-primary\"\n",
    "    assert str(step_colors.success.focus) == \"focus:step-success\"\n",
    "\n",
    "# Run the tests\n",
    "test_step_colors_examples()"
   ]
  },
  {
   "cell_type": "code",
   "execution_count": null,
   "id": "a9d78aa3-0be8-49e6-8bfb-cb9a232ee1ee",
   "metadata": {},
   "outputs": [],
   "source": [
    "#| export\n",
    "def test_steps_directions_examples():\n",
    "    \"\"\"Test steps direction utilities.\"\"\"\n",
    "    assert str(steps_directions.vertical) == \"steps-vertical\"\n",
    "    assert str(steps_directions.horizontal) == \"steps-horizontal\"\n",
    "\n",
    "# Run the tests\n",
    "test_steps_directions_examples()"
   ]
  },
  {
   "cell_type": "code",
   "execution_count": null,
   "id": "755ad634-0aca-4ded-b7d4-7b7427381eff",
   "metadata": {},
   "outputs": [
    {
     "data": {
      "text/markdown": [
       "```html\n",
       "<ul class=\"steps\">\n",
       "  <li class=\"step step-primary\">Register</li>\n",
       "  <li class=\"step step-primary\">Choose plan</li>\n",
       "  <li class=\"step\">Purchase</li>\n",
       "  <li class=\"step\">Receive Product</li>\n",
       "</ul>\n",
       "\n",
       "```"
      ],
      "text/plain": [
       "ul((li(('Register',),{'class': 'step step-primary'}), li(('Choose plan',),{'class': 'step step-primary'}), li(('Purchase',),{'class': 'step'}), li(('Receive Product',),{'class': 'step'})),{'class': 'steps'})"
      ]
     },
     "execution_count": null,
     "metadata": {},
     "output_type": "execute_result"
    }
   ],
   "source": [
    "#| export\n",
    "def test_steps_horizontal_fasthtml_examples():\n",
    "    \"\"\"Test horizontal steps from daisyUI v5 documentation.\"\"\"\n",
    "    from fasthtml.common import Ul, Li\n",
    "    \n",
    "    # Horizontal steps\n",
    "    horizontal_steps = Ul(\n",
    "        Li(\"Register\", cls=combine_classes(step, step_colors.primary)),\n",
    "        Li(\"Choose plan\", cls=combine_classes(step, step_colors.primary)),\n",
    "        Li(\"Purchase\", cls=str(step)),\n",
    "        Li(\"Receive Product\", cls=str(step)),\n",
    "        cls=str(steps)\n",
    "    )\n",
    "    \n",
    "    # Verify structure\n",
    "    assert horizontal_steps.tag == \"ul\"\n",
    "    assert horizontal_steps.attrs['class'] == \"steps\"\n",
    "    \n",
    "    # Verify li elements\n",
    "    assert len(horizontal_steps.children) == 4\n",
    "    \n",
    "    # First li - completed step\n",
    "    first_li = horizontal_steps.children[0]\n",
    "    assert first_li.tag == \"li\"\n",
    "    assert \"step\" in first_li.attrs['class']\n",
    "    assert \"step-primary\" in first_li.attrs['class']\n",
    "    assert first_li.children[0] == \"Register\"\n",
    "    \n",
    "    # Second li - completed step\n",
    "    second_li = horizontal_steps.children[1]\n",
    "    assert second_li.tag == \"li\"\n",
    "    assert \"step\" in second_li.attrs['class']\n",
    "    assert \"step-primary\" in second_li.attrs['class']\n",
    "    assert second_li.children[0] == \"Choose plan\"\n",
    "    \n",
    "    # Third li - uncompleted step\n",
    "    third_li = horizontal_steps.children[2]\n",
    "    assert third_li.tag == \"li\"\n",
    "    assert third_li.attrs['class'] == \"step\"\n",
    "    assert third_li.children[0] == \"Purchase\"\n",
    "    \n",
    "    # Fourth li - uncompleted step\n",
    "    fourth_li = horizontal_steps.children[3]\n",
    "    assert fourth_li.tag == \"li\"\n",
    "    assert fourth_li.attrs['class'] == \"step\"\n",
    "    assert fourth_li.children[0] == \"Receive Product\"\n",
    "    \n",
    "    return horizontal_steps\n",
    "\n",
    "# Run the tests\n",
    "test_steps_horizontal_fasthtml_examples()"
   ]
  },
  {
   "cell_type": "code",
   "execution_count": null,
   "id": "bd304e1c-4e70-4b75-99d3-ba119b860326",
   "metadata": {},
   "outputs": [],
   "source": []
  },
  {
   "cell_type": "code",
   "execution_count": null,
   "id": "hzw4na8n30f",
   "metadata": {},
   "outputs": [
    {
     "data": {
      "text/html": [
       "\n",
       "<script>\n",
       "document.body.addEventListener('htmx:configRequest', (event) => {\n",
       "    if(event.detail.path.includes('://')) return;\n",
       "    htmx.config.selfRequestsOnly=false;\n",
       "    event.detail.path = `${location.protocol}//${location.hostname}:8000${event.detail.path}`;\n",
       "});\n",
       "</script>"
      ],
      "text/plain": [
       "<IPython.core.display.HTML object>"
      ]
     },
     "metadata": {},
     "output_type": "display_data"
    },
    {
     "data": {
      "text/html": [
       "<iframe src=\"http://localhost:8000/\" style=\"width: 100%; height: auto; border: none;\" onload=\"{\n",
       "        let frame = this;\n",
       "        window.addEventListener('message', function(e) {\n",
       "            if (e.source !== frame.contentWindow) return; // Only proceed if the message is from this iframe\n",
       "            if (e.data.height) frame.style.height = (e.data.height+1) + 'px';\n",
       "        }, false);\n",
       "    }\" allow=\"accelerometer; autoplay; camera; clipboard-read; clipboard-write; display-capture; encrypted-media; fullscreen; gamepad; geolocation; gyroscope; hid; identity-credentials-get; idle-detection; magnetometer; microphone; midi; payment; picture-in-picture; publickey-credentials-get; screen-wake-lock; serial; usb; web-share; xr-spatial-tracking\"></iframe> "
      ],
      "text/plain": [
       "<IPython.core.display.HTML object>"
      ]
     },
     "metadata": {},
     "output_type": "display_data"
    }
   ],
   "source": [
    "#| eval: false\n",
    "test_func = test_steps_horizontal_fasthtml_examples\n",
    "app, rt = create_test_app(theme=DaisyUITheme.LIGHT)\n",
    "\n",
    "@rt\n",
    "def index():\n",
    "    return create_test_page(test_func.__doc__.title().replace('.', ''), test_func())\n",
    "server = start_test_server(app)\n",
    "display(HTMX())\n",
    "server.stop()"
   ]
  },
  {
   "cell_type": "code",
   "execution_count": null,
   "id": "15f614d1-2597-43f0-85ea-c6e20a3964c4",
   "metadata": {},
   "outputs": [
    {
     "data": {
      "text/markdown": [
       "```html\n",
       "<ul class=\"steps steps-vertical\">\n",
       "  <li class=\"step step-primary\">Register</li>\n",
       "  <li class=\"step step-primary\">Choose plan</li>\n",
       "  <li class=\"step\">Purchase</li>\n",
       "  <li class=\"step\">Receive Product</li>\n",
       "</ul>\n",
       "\n",
       "```"
      ],
      "text/plain": [
       "ul((li(('Register',),{'class': 'step step-primary'}), li(('Choose plan',),{'class': 'step step-primary'}), li(('Purchase',),{'class': 'step'}), li(('Receive Product',),{'class': 'step'})),{'class': 'steps steps-vertical'})"
      ]
     },
     "execution_count": null,
     "metadata": {},
     "output_type": "execute_result"
    }
   ],
   "source": [
    "#| export\n",
    "def test_steps_vertical_fasthtml_examples():\n",
    "    \"\"\"Test vertical steps from daisyUI v5 documentation.\"\"\"\n",
    "    from fasthtml.common import Ul, Li\n",
    "    \n",
    "    # Vertical steps\n",
    "    vertical_steps = Ul(\n",
    "        Li(\"Register\", cls=combine_classes(step, step_colors.primary)),\n",
    "        Li(\"Choose plan\", cls=combine_classes(step, step_colors.primary)),\n",
    "        Li(\"Purchase\", cls=str(step)),\n",
    "        Li(\"Receive Product\", cls=str(step)),\n",
    "        cls=combine_classes(steps, steps_directions.vertical)\n",
    "    )\n",
    "    \n",
    "    # Verify structure\n",
    "    assert vertical_steps.tag == \"ul\"\n",
    "    assert \"steps\" in vertical_steps.attrs['class']\n",
    "    assert \"steps-vertical\" in vertical_steps.attrs['class']\n",
    "    \n",
    "    # Verify li elements\n",
    "    assert len(vertical_steps.children) == 4\n",
    "    \n",
    "    # First li - completed step\n",
    "    first_li = vertical_steps.children[0]\n",
    "    assert first_li.tag == \"li\"\n",
    "    assert \"step\" in first_li.attrs['class']\n",
    "    assert \"step-primary\" in first_li.attrs['class']\n",
    "    assert first_li.children[0] == \"Register\"\n",
    "    \n",
    "    # Second li - completed step\n",
    "    second_li = vertical_steps.children[1]\n",
    "    assert second_li.tag == \"li\"\n",
    "    assert \"step\" in second_li.attrs['class']\n",
    "    assert \"step-primary\" in second_li.attrs['class']\n",
    "    assert second_li.children[0] == \"Choose plan\"\n",
    "    \n",
    "    # Third li - uncompleted step\n",
    "    third_li = vertical_steps.children[2]\n",
    "    assert third_li.tag == \"li\"\n",
    "    assert third_li.attrs['class'] == \"step\"\n",
    "    assert third_li.children[0] == \"Purchase\"\n",
    "    \n",
    "    # Fourth li - uncompleted step\n",
    "    fourth_li = vertical_steps.children[3]\n",
    "    assert fourth_li.tag == \"li\"\n",
    "    assert fourth_li.attrs['class'] == \"step\"\n",
    "    assert fourth_li.children[0] == \"Receive Product\"\n",
    "    \n",
    "    return vertical_steps\n",
    "\n",
    "# Run the tests\n",
    "test_steps_vertical_fasthtml_examples()"
   ]
  },
  {
   "cell_type": "code",
   "execution_count": null,
   "id": "60ee1e38-4b8d-4f98-af77-9810dbf6d13b",
   "metadata": {},
   "outputs": [],
   "source": []
  },
  {
   "cell_type": "code",
   "execution_count": null,
   "id": "y46qezxx3aa",
   "metadata": {},
   "outputs": [
    {
     "data": {
      "text/html": [
       "\n",
       "<script>\n",
       "document.body.addEventListener('htmx:configRequest', (event) => {\n",
       "    if(event.detail.path.includes('://')) return;\n",
       "    htmx.config.selfRequestsOnly=false;\n",
       "    event.detail.path = `${location.protocol}//${location.hostname}:8000${event.detail.path}`;\n",
       "});\n",
       "</script>"
      ],
      "text/plain": [
       "<IPython.core.display.HTML object>"
      ]
     },
     "metadata": {},
     "output_type": "display_data"
    },
    {
     "data": {
      "text/html": [
       "<iframe src=\"http://localhost:8000/\" style=\"width: 100%; height: auto; border: none;\" onload=\"{\n",
       "        let frame = this;\n",
       "        window.addEventListener('message', function(e) {\n",
       "            if (e.source !== frame.contentWindow) return; // Only proceed if the message is from this iframe\n",
       "            if (e.data.height) frame.style.height = (e.data.height+1) + 'px';\n",
       "        }, false);\n",
       "    }\" allow=\"accelerometer; autoplay; camera; clipboard-read; clipboard-write; display-capture; encrypted-media; fullscreen; gamepad; geolocation; gyroscope; hid; identity-credentials-get; idle-detection; magnetometer; microphone; midi; payment; picture-in-picture; publickey-credentials-get; screen-wake-lock; serial; usb; web-share; xr-spatial-tracking\"></iframe> "
      ],
      "text/plain": [
       "<IPython.core.display.HTML object>"
      ]
     },
     "metadata": {},
     "output_type": "display_data"
    }
   ],
   "source": [
    "#| eval: false\n",
    "test_func = test_steps_vertical_fasthtml_examples\n",
    "app, rt = create_test_app(theme=DaisyUITheme.LIGHT)\n",
    "\n",
    "@rt\n",
    "def index():\n",
    "    return create_test_page(test_func.__doc__.title().replace('.', ''), test_func())\n",
    "server = start_test_server(app)\n",
    "display(HTMX())\n",
    "server.stop()"
   ]
  },
  {
   "cell_type": "code",
   "execution_count": null,
   "id": "cad4046b-b38e-4674-87e1-f97c10a674c1",
   "metadata": {},
   "outputs": [
    {
     "data": {
      "text/markdown": [
       "```html\n",
       "<ul class=\"steps steps-vertical lg:steps-horizontal\">\n",
       "  <li class=\"step step-primary\">Register</li>\n",
       "  <li class=\"step step-primary\">Choose plan</li>\n",
       "  <li class=\"step\">Purchase</li>\n",
       "  <li class=\"step\">Receive Product</li>\n",
       "</ul>\n",
       "\n",
       "```"
      ],
      "text/plain": [
       "ul((li(('Register',),{'class': 'step step-primary'}), li(('Choose plan',),{'class': 'step step-primary'}), li(('Purchase',),{'class': 'step'}), li(('Receive Product',),{'class': 'step'})),{'class': 'steps steps-vertical lg:steps-horizontal'})"
      ]
     },
     "execution_count": null,
     "metadata": {},
     "output_type": "execute_result"
    }
   ],
   "source": [
    "#| export\n",
    "def test_steps_responsive_fasthtml_examples():\n",
    "    \"\"\"Test responsive steps (vertical on small screen, horizontal on large screen) from daisyUI v5 documentation.\"\"\"\n",
    "    from fasthtml.common import Ul, Li\n",
    "    \n",
    "    # Responsive steps - vertical on small, horizontal on large\n",
    "    responsive_steps = Ul(\n",
    "        Li(\"Register\", cls=combine_classes(step, step_colors.primary)),\n",
    "        Li(\"Choose plan\", cls=combine_classes(step, step_colors.primary)),\n",
    "        Li(\"Purchase\", cls=str(step)),\n",
    "        Li(\"Receive Product\", cls=str(step)),\n",
    "        cls=combine_classes(steps, steps_directions.vertical, steps_directions.horizontal.lg)\n",
    "    )\n",
    "    \n",
    "    # Verify structure\n",
    "    assert responsive_steps.tag == \"ul\"\n",
    "    assert \"steps\" in responsive_steps.attrs['class']\n",
    "    assert \"steps-vertical\" in responsive_steps.attrs['class']\n",
    "    assert \"lg:steps-horizontal\" in responsive_steps.attrs['class']\n",
    "    \n",
    "    # Verify li elements\n",
    "    assert len(responsive_steps.children) == 4\n",
    "    \n",
    "    # First li - completed step\n",
    "    first_li = responsive_steps.children[0]\n",
    "    assert first_li.tag == \"li\"\n",
    "    assert \"step\" in first_li.attrs['class']\n",
    "    assert \"step-primary\" in first_li.attrs['class']\n",
    "    assert first_li.children[0] == \"Register\"\n",
    "    \n",
    "    # Second li - completed step\n",
    "    second_li = responsive_steps.children[1]\n",
    "    assert second_li.tag == \"li\"\n",
    "    assert \"step\" in second_li.attrs['class']\n",
    "    assert \"step-primary\" in second_li.attrs['class']\n",
    "    assert second_li.children[0] == \"Choose plan\"\n",
    "    \n",
    "    # Third li - uncompleted step\n",
    "    third_li = responsive_steps.children[2]\n",
    "    assert third_li.tag == \"li\"\n",
    "    assert third_li.attrs['class'] == \"step\"\n",
    "    assert third_li.children[0] == \"Purchase\"\n",
    "    \n",
    "    # Fourth li - uncompleted step\n",
    "    fourth_li = responsive_steps.children[3]\n",
    "    assert fourth_li.tag == \"li\"\n",
    "    assert fourth_li.attrs['class'] == \"step\"\n",
    "    assert fourth_li.children[0] == \"Receive Product\"\n",
    "    \n",
    "    return responsive_steps\n",
    "\n",
    "# Run the tests\n",
    "test_steps_responsive_fasthtml_examples()"
   ]
  },
  {
   "cell_type": "code",
   "execution_count": null,
   "id": "436701ed-4431-4603-8ec2-1324aa7a447a",
   "metadata": {},
   "outputs": [],
   "source": []
  },
  {
   "cell_type": "code",
   "execution_count": null,
   "id": "wwkl9ua72e",
   "metadata": {},
   "outputs": [
    {
     "data": {
      "text/html": [
       "\n",
       "<script>\n",
       "document.body.addEventListener('htmx:configRequest', (event) => {\n",
       "    if(event.detail.path.includes('://')) return;\n",
       "    htmx.config.selfRequestsOnly=false;\n",
       "    event.detail.path = `${location.protocol}//${location.hostname}:8000${event.detail.path}`;\n",
       "});\n",
       "</script>"
      ],
      "text/plain": [
       "<IPython.core.display.HTML object>"
      ]
     },
     "metadata": {},
     "output_type": "display_data"
    },
    {
     "data": {
      "text/html": [
       "<iframe src=\"http://localhost:8000/\" style=\"width: 100%; height: auto; border: none;\" onload=\"{\n",
       "        let frame = this;\n",
       "        window.addEventListener('message', function(e) {\n",
       "            if (e.source !== frame.contentWindow) return; // Only proceed if the message is from this iframe\n",
       "            if (e.data.height) frame.style.height = (e.data.height+1) + 'px';\n",
       "        }, false);\n",
       "    }\" allow=\"accelerometer; autoplay; camera; clipboard-read; clipboard-write; display-capture; encrypted-media; fullscreen; gamepad; geolocation; gyroscope; hid; identity-credentials-get; idle-detection; magnetometer; microphone; midi; payment; picture-in-picture; publickey-credentials-get; screen-wake-lock; serial; usb; web-share; xr-spatial-tracking\"></iframe> "
      ],
      "text/plain": [
       "<IPython.core.display.HTML object>"
      ]
     },
     "metadata": {},
     "output_type": "display_data"
    }
   ],
   "source": [
    "#| eval: false\n",
    "test_func = test_steps_responsive_fasthtml_examples\n",
    "app, rt = create_test_app(theme=DaisyUITheme.LIGHT)\n",
    "\n",
    "@rt\n",
    "def index():\n",
    "    return create_test_page(test_func.__doc__.title().replace('.', ''), test_func())\n",
    "server = start_test_server(app)\n",
    "display(HTMX())\n",
    "server.stop()"
   ]
  },
  {
   "cell_type": "code",
   "execution_count": null,
   "id": "760fcaa5-d220-4703-acdd-f4aef03b180d",
   "metadata": {},
   "outputs": [
    {
     "data": {
      "text/markdown": [
       "```html\n",
       "<ul class=\"steps\">\n",
       "  <li class=\"step step-neutral\">\n",
       "<span class=\"step-icon\">😕</span>Step 1  </li>\n",
       "  <li class=\"step step-neutral\">\n",
       "<span class=\"step-icon\">😃</span>Step 2  </li>\n",
       "  <li class=\"step\">\n",
       "<span class=\"step-icon\">😍</span>Step 3  </li>\n",
       "</ul>\n",
       "\n",
       "```"
      ],
      "text/plain": [
       "ul((li((span(('😕',),{'class': 'step-icon'}), 'Step 1'),{'class': 'step step-neutral'}), li((span(('😃',),{'class': 'step-icon'}), 'Step 2'),{'class': 'step step-neutral'}), li((span(('😍',),{'class': 'step-icon'}), 'Step 3'),{'class': 'step'})),{'class': 'steps'})"
      ]
     },
     "execution_count": null,
     "metadata": {},
     "output_type": "execute_result"
    }
   ],
   "source": [
    "#| export\n",
    "def test_steps_with_custom_content_fasthtml_examples():\n",
    "    \"\"\"Test steps with custom content in step-icon from daisyUI v5 documentation.\"\"\"\n",
    "    from fasthtml.common import Ul, Li, Span\n",
    "    \n",
    "    # Steps with custom content in step-icon\n",
    "    custom_content_steps = Ul(\n",
    "        Li(\n",
    "            Span(\"😕\", cls=str(step_icon)),\n",
    "            \"Step 1\",\n",
    "            cls=combine_classes(step, step_colors.neutral)\n",
    "        ),\n",
    "        Li(\n",
    "            Span(\"😃\", cls=str(step_icon)),\n",
    "            \"Step 2\",\n",
    "            cls=combine_classes(step, step_colors.neutral)\n",
    "        ),\n",
    "        Li(\n",
    "            Span(\"😍\", cls=str(step_icon)),\n",
    "            \"Step 3\",\n",
    "            cls=str(step)\n",
    "        ),\n",
    "        cls=str(steps)\n",
    "    )\n",
    "    \n",
    "    # Verify structure\n",
    "    assert custom_content_steps.tag == \"ul\"\n",
    "    assert custom_content_steps.attrs['class'] == \"steps\"\n",
    "    \n",
    "    # Verify li elements\n",
    "    assert len(custom_content_steps.children) == 3\n",
    "    \n",
    "    # First li with custom icon\n",
    "    first_li = custom_content_steps.children[0]\n",
    "    assert first_li.tag == \"li\"\n",
    "    assert \"step\" in first_li.attrs['class']\n",
    "    assert \"step-neutral\" in first_li.attrs['class']\n",
    "    assert first_li.children[0].tag == \"span\"\n",
    "    assert first_li.children[0].attrs['class'] == \"step-icon\"\n",
    "    assert first_li.children[0].children[0] == \"😕\"\n",
    "    assert first_li.children[1] == \"Step 1\"\n",
    "    \n",
    "    # Second li with custom icon\n",
    "    second_li = custom_content_steps.children[1]\n",
    "    assert second_li.tag == \"li\"\n",
    "    assert \"step\" in second_li.attrs['class']\n",
    "    assert \"step-neutral\" in second_li.attrs['class']\n",
    "    assert second_li.children[0].tag == \"span\"\n",
    "    assert second_li.children[0].attrs['class'] == \"step-icon\"\n",
    "    assert second_li.children[0].children[0] == \"😃\"\n",
    "    assert second_li.children[1] == \"Step 2\"\n",
    "    \n",
    "    # Third li with custom icon\n",
    "    third_li = custom_content_steps.children[2]\n",
    "    assert third_li.tag == \"li\"\n",
    "    assert third_li.attrs['class'] == \"step\"\n",
    "    assert third_li.children[0].tag == \"span\"\n",
    "    assert third_li.children[0].attrs['class'] == \"step-icon\"\n",
    "    assert third_li.children[0].children[0] == \"😍\"\n",
    "    assert third_li.children[1] == \"Step 3\"\n",
    "    \n",
    "    return custom_content_steps\n",
    "\n",
    "# Run the tests\n",
    "test_steps_with_custom_content_fasthtml_examples()"
   ]
  },
  {
   "cell_type": "code",
   "execution_count": null,
   "id": "c1befd91-70f0-4262-af38-c5de29ea44db",
   "metadata": {},
   "outputs": [],
   "source": []
  },
  {
   "cell_type": "code",
   "execution_count": null,
   "id": "5xzl5ifpoji",
   "metadata": {},
   "outputs": [
    {
     "data": {
      "text/html": [
       "\n",
       "<script>\n",
       "document.body.addEventListener('htmx:configRequest', (event) => {\n",
       "    if(event.detail.path.includes('://')) return;\n",
       "    htmx.config.selfRequestsOnly=false;\n",
       "    event.detail.path = `${location.protocol}//${location.hostname}:8000${event.detail.path}`;\n",
       "});\n",
       "</script>"
      ],
      "text/plain": [
       "<IPython.core.display.HTML object>"
      ]
     },
     "metadata": {},
     "output_type": "display_data"
    },
    {
     "data": {
      "text/html": [
       "<iframe src=\"http://localhost:8000/\" style=\"width: 100%; height: auto; border: none;\" onload=\"{\n",
       "        let frame = this;\n",
       "        window.addEventListener('message', function(e) {\n",
       "            if (e.source !== frame.contentWindow) return; // Only proceed if the message is from this iframe\n",
       "            if (e.data.height) frame.style.height = (e.data.height+1) + 'px';\n",
       "        }, false);\n",
       "    }\" allow=\"accelerometer; autoplay; camera; clipboard-read; clipboard-write; display-capture; encrypted-media; fullscreen; gamepad; geolocation; gyroscope; hid; identity-credentials-get; idle-detection; magnetometer; microphone; midi; payment; picture-in-picture; publickey-credentials-get; screen-wake-lock; serial; usb; web-share; xr-spatial-tracking\"></iframe> "
      ],
      "text/plain": [
       "<IPython.core.display.HTML object>"
      ]
     },
     "metadata": {},
     "output_type": "display_data"
    }
   ],
   "source": [
    "#| eval: false\n",
    "test_func = test_steps_with_custom_content_fasthtml_examples\n",
    "app, rt = create_test_app(theme=DaisyUITheme.LIGHT)\n",
    "\n",
    "@rt\n",
    "def index():\n",
    "    return create_test_page(test_func.__doc__.title().replace('.', ''), test_func())\n",
    "server = start_test_server(app)\n",
    "display(HTMX())\n",
    "server.stop()"
   ]
  },
  {
   "cell_type": "code",
   "execution_count": null,
   "id": "f44c611d-2362-4f5e-8043-310b1112bffb",
   "metadata": {},
   "outputs": [
    {
     "data": {
      "text/markdown": [
       "```html\n",
       "<ul class=\"steps\">\n",
       "  <li data-content=\"?\" class=\"step step-neutral\">Step 1</li>\n",
       "  <li data-content=\"!\" class=\"step step-neutral\">Step 2</li>\n",
       "  <li data-content=\"✓\" class=\"step step-neutral\">Step 3</li>\n",
       "  <li data-content=\"✕\" class=\"step step-neutral\">Step 4</li>\n",
       "  <li data-content=\"★\" class=\"step step-neutral\">Step 5</li>\n",
       "  <li class=\"step step-neutral\">Step 6</li>\n",
       "  <li data-content=\"●\" class=\"step step-neutral\">Step 7</li>\n",
       "</ul>\n",
       "\n",
       "```"
      ],
      "text/plain": [
       "ul((li(('Step 1',),{'data-content': '?', 'class': 'step step-neutral'}), li(('Step 2',),{'data-content': '!', 'class': 'step step-neutral'}), li(('Step 3',),{'data-content': '✓', 'class': 'step step-neutral'}), li(('Step 4',),{'data-content': '✕', 'class': 'step step-neutral'}), li(('Step 5',),{'data-content': '★', 'class': 'step step-neutral'}), li(('Step 6',),{'data-content': '', 'class': 'step step-neutral'}), li(('Step 7',),{'data-content': '●', 'class': 'step step-neutral'})),{'class': 'steps'})"
      ]
     },
     "execution_count": null,
     "metadata": {},
     "output_type": "execute_result"
    }
   ],
   "source": [
    "#| export\n",
    "def test_steps_with_data_content_fasthtml_examples():\n",
    "    \"\"\"Test steps with data-content attribute from daisyUI v5 documentation.\"\"\"\n",
    "    from fasthtml.common import Ul, Li\n",
    "    \n",
    "    # Steps with data-content\n",
    "    data_content_steps = Ul(\n",
    "        Li(\"Step 1\", data_content=\"?\", cls=combine_classes(step, step_colors.neutral)),\n",
    "        Li(\"Step 2\", data_content=\"!\", cls=combine_classes(step, step_colors.neutral)),\n",
    "        Li(\"Step 3\", data_content=\"✓\", cls=combine_classes(step, step_colors.neutral)),\n",
    "        Li(\"Step 4\", data_content=\"✕\", cls=combine_classes(step, step_colors.neutral)),\n",
    "        Li(\"Step 5\", data_content=\"★\", cls=combine_classes(step, step_colors.neutral)),\n",
    "        Li(\"Step 6\", data_content=\"\", cls=combine_classes(step, step_colors.neutral)),\n",
    "        Li(\"Step 7\", data_content=\"●\", cls=combine_classes(step, step_colors.neutral)),\n",
    "        cls=str(steps)\n",
    "    )\n",
    "    \n",
    "    # Verify structure\n",
    "    assert data_content_steps.tag == \"ul\"\n",
    "    assert data_content_steps.attrs['class'] == \"steps\"\n",
    "    \n",
    "    # Verify li elements\n",
    "    assert len(data_content_steps.children) == 7\n",
    "    \n",
    "    # First li with data-content\n",
    "    first_li = data_content_steps.children[0]\n",
    "    assert first_li.tag == \"li\"\n",
    "    assert \"step\" in first_li.attrs['class']\n",
    "    assert \"step-neutral\" in first_li.attrs['class']\n",
    "    assert first_li.attrs['data-content'] == \"?\"\n",
    "    assert first_li.children[0] == \"Step 1\"\n",
    "    \n",
    "    # Second li with data-content\n",
    "    second_li = data_content_steps.children[1]\n",
    "    assert second_li.tag == \"li\"\n",
    "    assert \"step\" in second_li.attrs['class']\n",
    "    assert \"step-neutral\" in second_li.attrs['class']\n",
    "    assert second_li.attrs['data-content'] == \"!\"\n",
    "    assert second_li.children[0] == \"Step 2\"\n",
    "    \n",
    "    # Third li with data-content\n",
    "    third_li = data_content_steps.children[2]\n",
    "    assert third_li.tag == \"li\"\n",
    "    assert \"step\" in third_li.attrs['class']\n",
    "    assert \"step-neutral\" in third_li.attrs['class']\n",
    "    assert third_li.attrs['data-content'] == \"✓\"\n",
    "    assert third_li.children[0] == \"Step 3\"\n",
    "    \n",
    "    # Fourth li with data-content\n",
    "    fourth_li = data_content_steps.children[3]\n",
    "    assert fourth_li.tag == \"li\"\n",
    "    assert \"step\" in fourth_li.attrs['class']\n",
    "    assert \"step-neutral\" in fourth_li.attrs['class']\n",
    "    assert fourth_li.attrs['data-content'] == \"✕\"\n",
    "    assert fourth_li.children[0] == \"Step 4\"\n",
    "    \n",
    "    # Fifth li with data-content\n",
    "    fifth_li = data_content_steps.children[4]\n",
    "    assert fifth_li.tag == \"li\"\n",
    "    assert \"step\" in fifth_li.attrs['class']\n",
    "    assert \"step-neutral\" in fifth_li.attrs['class']\n",
    "    assert fifth_li.attrs['data-content'] == \"★\"\n",
    "    assert fifth_li.children[0] == \"Step 5\"\n",
    "    \n",
    "    # Sixth li with empty data-content\n",
    "    sixth_li = data_content_steps.children[5]\n",
    "    assert sixth_li.tag == \"li\"\n",
    "    assert \"step\" in sixth_li.attrs['class']\n",
    "    assert \"step-neutral\" in sixth_li.attrs['class']\n",
    "    assert sixth_li.attrs['data-content'] == \"\"\n",
    "    assert sixth_li.children[0] == \"Step 6\"\n",
    "    \n",
    "    # Seventh li with data-content\n",
    "    seventh_li = data_content_steps.children[6]\n",
    "    assert seventh_li.tag == \"li\"\n",
    "    assert \"step\" in seventh_li.attrs['class']\n",
    "    assert \"step-neutral\" in seventh_li.attrs['class']\n",
    "    assert seventh_li.attrs['data-content'] == \"●\"\n",
    "    assert seventh_li.children[0] == \"Step 7\"\n",
    "    \n",
    "    return data_content_steps\n",
    "\n",
    "# Run the tests\n",
    "test_steps_with_data_content_fasthtml_examples()"
   ]
  },
  {
   "cell_type": "code",
   "execution_count": null,
   "id": "c54ce4e7-a1e9-484c-ae53-bb87795acbbc",
   "metadata": {},
   "outputs": [],
   "source": []
  },
  {
   "cell_type": "code",
   "execution_count": null,
   "id": "o31z4oebuco",
   "metadata": {},
   "outputs": [
    {
     "data": {
      "text/html": [
       "\n",
       "<script>\n",
       "document.body.addEventListener('htmx:configRequest', (event) => {\n",
       "    if(event.detail.path.includes('://')) return;\n",
       "    htmx.config.selfRequestsOnly=false;\n",
       "    event.detail.path = `${location.protocol}//${location.hostname}:8000${event.detail.path}`;\n",
       "});\n",
       "</script>"
      ],
      "text/plain": [
       "<IPython.core.display.HTML object>"
      ]
     },
     "metadata": {},
     "output_type": "display_data"
    },
    {
     "data": {
      "text/html": [
       "<iframe src=\"http://localhost:8000/\" style=\"width: 100%; height: auto; border: none;\" onload=\"{\n",
       "        let frame = this;\n",
       "        window.addEventListener('message', function(e) {\n",
       "            if (e.source !== frame.contentWindow) return; // Only proceed if the message is from this iframe\n",
       "            if (e.data.height) frame.style.height = (e.data.height+1) + 'px';\n",
       "        }, false);\n",
       "    }\" allow=\"accelerometer; autoplay; camera; clipboard-read; clipboard-write; display-capture; encrypted-media; fullscreen; gamepad; geolocation; gyroscope; hid; identity-credentials-get; idle-detection; magnetometer; microphone; midi; payment; picture-in-picture; publickey-credentials-get; screen-wake-lock; serial; usb; web-share; xr-spatial-tracking\"></iframe> "
      ],
      "text/plain": [
       "<IPython.core.display.HTML object>"
      ]
     },
     "metadata": {},
     "output_type": "display_data"
    }
   ],
   "source": [
    "#| eval: false\n",
    "test_func = test_steps_with_data_content_fasthtml_examples\n",
    "app, rt = create_test_app(theme=DaisyUITheme.LIGHT)\n",
    "\n",
    "@rt\n",
    "def index():\n",
    "    return create_test_page(test_func.__doc__.title().replace('.', ''), test_func())\n",
    "server = start_test_server(app)\n",
    "display(HTMX())\n",
    "server.stop()"
   ]
  },
  {
   "cell_type": "code",
   "execution_count": null,
   "id": "01785a18-9bb0-4dbc-9eae-04addf6dede9",
   "metadata": {},
   "outputs": [
    {
     "data": {
      "text/markdown": [
       "```html\n",
       "<ul class=\"steps\">\n",
       "  <li class=\"step step-info\">Fly to moon</li>\n",
       "  <li class=\"step step-info\">Shrink the moon</li>\n",
       "  <li class=\"step step-info\">Grab the moon</li>\n",
       "  <li data-content=\"?\" class=\"step step-error\">Sit on toilet</li>\n",
       "</ul>\n",
       "\n",
       "```"
      ],
      "text/plain": [
       "ul((li(('Fly to moon',),{'class': 'step step-info'}), li(('Shrink the moon',),{'class': 'step step-info'}), li(('Grab the moon',),{'class': 'step step-info'}), li(('Sit on toilet',),{'data-content': '?', 'class': 'step step-error'})),{'class': 'steps'})"
      ]
     },
     "execution_count": null,
     "metadata": {},
     "output_type": "execute_result"
    }
   ],
   "source": [
    "#| export\n",
    "def test_steps_custom_colors_fasthtml_examples():\n",
    "    \"\"\"Test steps with custom colors from daisyUI v5 documentation.\"\"\"\n",
    "    from fasthtml.common import Ul, Li\n",
    "    \n",
    "    # Steps with custom colors\n",
    "    custom_colors_steps = Ul(\n",
    "        Li(\"Fly to moon\", cls=combine_classes(step, step_colors.info)),\n",
    "        Li(\"Shrink the moon\", cls=combine_classes(step, step_colors.info)),\n",
    "        Li(\"Grab the moon\", cls=combine_classes(step, step_colors.info)),\n",
    "        Li(\"Sit on toilet\", data_content=\"?\", cls=combine_classes(step, step_colors.error)),\n",
    "        cls=str(steps)\n",
    "    )\n",
    "    \n",
    "    # Verify structure\n",
    "    assert custom_colors_steps.tag == \"ul\"\n",
    "    assert custom_colors_steps.attrs['class'] == \"steps\"\n",
    "    \n",
    "    # Verify li elements\n",
    "    assert len(custom_colors_steps.children) == 4\n",
    "    \n",
    "    # First li with info color\n",
    "    first_li = custom_colors_steps.children[0]\n",
    "    assert first_li.tag == \"li\"\n",
    "    assert \"step\" in first_li.attrs['class']\n",
    "    assert \"step-info\" in first_li.attrs['class']\n",
    "    assert first_li.children[0] == \"Fly to moon\"\n",
    "    \n",
    "    # Second li with info color\n",
    "    second_li = custom_colors_steps.children[1]\n",
    "    assert second_li.tag == \"li\"\n",
    "    assert \"step\" in second_li.attrs['class']\n",
    "    assert \"step-info\" in second_li.attrs['class']\n",
    "    assert second_li.children[0] == \"Shrink the moon\"\n",
    "    \n",
    "    # Third li with info color\n",
    "    third_li = custom_colors_steps.children[2]\n",
    "    assert third_li.tag == \"li\"\n",
    "    assert \"step\" in third_li.attrs['class']\n",
    "    assert \"step-info\" in third_li.attrs['class']\n",
    "    assert third_li.children[0] == \"Grab the moon\"\n",
    "    \n",
    "    # Fourth li with error color and data-content\n",
    "    fourth_li = custom_colors_steps.children[3]\n",
    "    assert fourth_li.tag == \"li\"\n",
    "    assert \"step\" in fourth_li.attrs['class']\n",
    "    assert \"step-error\" in fourth_li.attrs['class']\n",
    "    assert fourth_li.attrs['data-content'] == \"?\"\n",
    "    assert fourth_li.children[0] == \"Sit on toilet\"\n",
    "    \n",
    "    return custom_colors_steps\n",
    "\n",
    "# Run the tests\n",
    "test_steps_custom_colors_fasthtml_examples()"
   ]
  },
  {
   "cell_type": "code",
   "execution_count": null,
   "id": "43a3d5aa-4f07-48f4-b7c3-5c63612f0fb2",
   "metadata": {},
   "outputs": [],
   "source": []
  },
  {
   "cell_type": "code",
   "execution_count": null,
   "id": "pryhsfd1d6",
   "metadata": {},
   "outputs": [
    {
     "data": {
      "text/html": [
       "\n",
       "<script>\n",
       "document.body.addEventListener('htmx:configRequest', (event) => {\n",
       "    if(event.detail.path.includes('://')) return;\n",
       "    htmx.config.selfRequestsOnly=false;\n",
       "    event.detail.path = `${location.protocol}//${location.hostname}:8000${event.detail.path}`;\n",
       "});\n",
       "</script>"
      ],
      "text/plain": [
       "<IPython.core.display.HTML object>"
      ]
     },
     "metadata": {},
     "output_type": "display_data"
    },
    {
     "data": {
      "text/html": [
       "<iframe src=\"http://localhost:8000/\" style=\"width: 100%; height: auto; border: none;\" onload=\"{\n",
       "        let frame = this;\n",
       "        window.addEventListener('message', function(e) {\n",
       "            if (e.source !== frame.contentWindow) return; // Only proceed if the message is from this iframe\n",
       "            if (e.data.height) frame.style.height = (e.data.height+1) + 'px';\n",
       "        }, false);\n",
       "    }\" allow=\"accelerometer; autoplay; camera; clipboard-read; clipboard-write; display-capture; encrypted-media; fullscreen; gamepad; geolocation; gyroscope; hid; identity-credentials-get; idle-detection; magnetometer; microphone; midi; payment; picture-in-picture; publickey-credentials-get; screen-wake-lock; serial; usb; web-share; xr-spatial-tracking\"></iframe> "
      ],
      "text/plain": [
       "<IPython.core.display.HTML object>"
      ]
     },
     "metadata": {},
     "output_type": "display_data"
    }
   ],
   "source": [
    "#| eval: false\n",
    "test_func = test_steps_custom_colors_fasthtml_examples\n",
    "app, rt = create_test_app(theme=DaisyUITheme.LIGHT)\n",
    "\n",
    "@rt\n",
    "def index():\n",
    "    return create_test_page(test_func.__doc__.title().replace('.', ''), test_func())\n",
    "server = start_test_server(app)\n",
    "display(HTMX())\n",
    "server.stop()"
   ]
  },
  {
   "cell_type": "code",
   "execution_count": null,
   "id": "248adc40-6e77-4203-9830-de838e25a00a",
   "metadata": {},
   "outputs": [
    {
     "data": {
      "text/markdown": [
       "```html\n",
       "<div class=\"overflow-x-auto\">\n",
       "  <ul class=\"steps\">\n",
       "    <li class=\"step\">start</li>\n",
       "    <li class=\"step step-secondary\">2</li>\n",
       "    <li class=\"step step-secondary\">3</li>\n",
       "    <li class=\"step step-secondary\">4</li>\n",
       "    <li class=\"step\">5</li>\n",
       "    <li class=\"step step-accent\">6</li>\n",
       "    <li class=\"step step-accent\">7</li>\n",
       "    <li class=\"step\">8</li>\n",
       "    <li class=\"step step-error\">9</li>\n",
       "    <li class=\"step step-error\">10</li>\n",
       "    <li class=\"step\">11</li>\n",
       "    <li class=\"step\">12</li>\n",
       "    <li class=\"step step-warning\">13</li>\n",
       "    <li class=\"step step-warning\">14</li>\n",
       "    <li class=\"step\">15</li>\n",
       "    <li class=\"step step-neutral\">16</li>\n",
       "    <li class=\"step step-neutral\">17</li>\n",
       "    <li class=\"step step-neutral\">18</li>\n",
       "    <li class=\"step step-neutral\">19</li>\n",
       "    <li class=\"step step-neutral\">20</li>\n",
       "    <li class=\"step step-neutral\">21</li>\n",
       "    <li class=\"step step-neutral\">22</li>\n",
       "    <li class=\"step step-neutral\">23</li>\n",
       "    <li class=\"step step-neutral\">end</li>\n",
       "  </ul>\n",
       "</div>\n",
       "\n",
       "```"
      ],
      "text/plain": [
       "div((ul((li(('start',),{'class': 'step'}), li(('2',),{'class': 'step step-secondary'}), li(('3',),{'class': 'step step-secondary'}), li(('4',),{'class': 'step step-secondary'}), li(('5',),{'class': 'step'}), li(('6',),{'class': 'step step-accent'}), li(('7',),{'class': 'step step-accent'}), li(('8',),{'class': 'step'}), li(('9',),{'class': 'step step-error'}), li(('10',),{'class': 'step step-error'}), li(('11',),{'class': 'step'}), li(('12',),{'class': 'step'}), li(('13',),{'class': 'step step-warning'}), li(('14',),{'class': 'step step-warning'}), li(('15',),{'class': 'step'}), li(('16',),{'class': 'step step-neutral'}), li(('17',),{'class': 'step step-neutral'}), li(('18',),{'class': 'step step-neutral'}), li(('19',),{'class': 'step step-neutral'}), li(('20',),{'class': 'step step-neutral'}), li(('21',),{'class': 'step step-neutral'}), li(('22',),{'class': 'step step-neutral'}), li(('23',),{'class': 'step step-neutral'}), li(('end',),{'class': 'step step-neutral'})),{'class': 'steps'}),),{'class': 'overflow-x-auto'})"
      ]
     },
     "execution_count": null,
     "metadata": {},
     "output_type": "execute_result"
    }
   ],
   "source": [
    "#| export\n",
    "def test_steps_with_scrollable_wrapper_fasthtml_examples():\n",
    "    \"\"\"Test steps with scrollable wrapper from daisyUI v5 documentation.\"\"\"\n",
    "    from fasthtml.common import Div, Ul, Li\n",
    "    from cjm_fasthtml_tailwind.utilities.layout import overflow\n",
    "    \n",
    "    # Steps with scrollable wrapper\n",
    "    scrollable_steps = Div(\n",
    "        Ul(\n",
    "            Li(\"start\", cls=str(step)),\n",
    "            Li(\"2\", cls=combine_classes(step, step_colors.secondary)),\n",
    "            Li(\"3\", cls=combine_classes(step, step_colors.secondary)),\n",
    "            Li(\"4\", cls=combine_classes(step, step_colors.secondary)),\n",
    "            Li(\"5\", cls=str(step)),\n",
    "            Li(\"6\", cls=combine_classes(step, step_colors.accent)),\n",
    "            Li(\"7\", cls=combine_classes(step, step_colors.accent)),\n",
    "            Li(\"8\", cls=str(step)),\n",
    "            Li(\"9\", cls=combine_classes(step, step_colors.error)),\n",
    "            Li(\"10\", cls=combine_classes(step, step_colors.error)),\n",
    "            Li(\"11\", cls=str(step)),\n",
    "            Li(\"12\", cls=str(step)),\n",
    "            Li(\"13\", cls=combine_classes(step, step_colors.warning)),\n",
    "            Li(\"14\", cls=combine_classes(step, step_colors.warning)),\n",
    "            Li(\"15\", cls=str(step)),\n",
    "            Li(\"16\", cls=combine_classes(step, step_colors.neutral)),\n",
    "            Li(\"17\", cls=combine_classes(step, step_colors.neutral)),\n",
    "            Li(\"18\", cls=combine_classes(step, step_colors.neutral)),\n",
    "            Li(\"19\", cls=combine_classes(step, step_colors.neutral)),\n",
    "            Li(\"20\", cls=combine_classes(step, step_colors.neutral)),\n",
    "            Li(\"21\", cls=combine_classes(step, step_colors.neutral)),\n",
    "            Li(\"22\", cls=combine_classes(step, step_colors.neutral)),\n",
    "            Li(\"23\", cls=combine_classes(step, step_colors.neutral)),\n",
    "            Li(\"end\", cls=combine_classes(step, step_colors.neutral)),\n",
    "            cls=str(steps)\n",
    "        ),\n",
    "        cls=str(overflow.x.auto)\n",
    "    )\n",
    "    \n",
    "    # Verify structure\n",
    "    assert scrollable_steps.tag == \"div\"\n",
    "    assert scrollable_steps.attrs['class'] == \"overflow-x-auto\"\n",
    "    \n",
    "    # Verify ul element\n",
    "    ul_element = scrollable_steps.children[0]\n",
    "    assert ul_element.tag == \"ul\"\n",
    "    assert ul_element.attrs['class'] == \"steps\"\n",
    "    \n",
    "    # Verify total number of steps\n",
    "    assert len(ul_element.children) == 24\n",
    "    \n",
    "    # Verify first step\n",
    "    first_li = ul_element.children[0]\n",
    "    assert first_li.tag == \"li\"\n",
    "    assert first_li.attrs['class'] == \"step\"\n",
    "    assert first_li.children[0] == \"start\"\n",
    "    \n",
    "    # Verify some secondary colored steps (2-4)\n",
    "    for i in range(1, 4):\n",
    "        li = ul_element.children[i]\n",
    "        assert li.tag == \"li\"\n",
    "        assert \"step\" in li.attrs['class']\n",
    "        assert \"step-secondary\" in li.attrs['class']\n",
    "        assert li.children[0] == str(i + 1)\n",
    "    \n",
    "    # Verify step 5 (no color)\n",
    "    step_5 = ul_element.children[4]\n",
    "    assert step_5.attrs['class'] == \"step\"\n",
    "    assert step_5.children[0] == \"5\"\n",
    "    \n",
    "    # Verify accent colored steps (6-7)\n",
    "    for i in range(5, 7):\n",
    "        li = ul_element.children[i]\n",
    "        assert \"step\" in li.attrs['class']\n",
    "        assert \"step-accent\" in li.attrs['class']\n",
    "        assert li.children[0] == str(i + 1)\n",
    "    \n",
    "    # Verify step 8 (no color)\n",
    "    step_8 = ul_element.children[7]\n",
    "    assert step_8.attrs['class'] == \"step\"\n",
    "    assert step_8.children[0] == \"8\"\n",
    "    \n",
    "    # Verify error colored steps (9-10)\n",
    "    for i in range(8, 10):\n",
    "        li = ul_element.children[i]\n",
    "        assert \"step\" in li.attrs['class']\n",
    "        assert \"step-error\" in li.attrs['class']\n",
    "        assert li.children[0] == str(i + 1)\n",
    "    \n",
    "    # Verify steps 11-12 (no color)\n",
    "    for i in range(10, 12):\n",
    "        li = ul_element.children[i]\n",
    "        assert li.attrs['class'] == \"step\"\n",
    "        assert li.children[0] == str(i + 1)\n",
    "    \n",
    "    # Verify warning colored steps (13-14)\n",
    "    for i in range(12, 14):\n",
    "        li = ul_element.children[i]\n",
    "        assert \"step\" in li.attrs['class']\n",
    "        assert \"step-warning\" in li.attrs['class']\n",
    "        assert li.children[0] == str(i + 1)\n",
    "    \n",
    "    # Verify step 15 (no color)\n",
    "    step_15 = ul_element.children[14]\n",
    "    assert step_15.attrs['class'] == \"step\"\n",
    "    assert step_15.children[0] == \"15\"\n",
    "    \n",
    "    # Verify neutral colored steps (16-23)\n",
    "    for i in range(15, 23):\n",
    "        li = ul_element.children[i]\n",
    "        assert \"step\" in li.attrs['class']\n",
    "        assert \"step-neutral\" in li.attrs['class']\n",
    "        assert li.children[0] == str(i + 1)\n",
    "    \n",
    "    # Verify last step\n",
    "    last_li = ul_element.children[23]\n",
    "    assert last_li.tag == \"li\"\n",
    "    assert \"step\" in last_li.attrs['class']\n",
    "    assert \"step-neutral\" in last_li.attrs['class']\n",
    "    assert last_li.children[0] == \"end\"\n",
    "    \n",
    "    return scrollable_steps\n",
    "\n",
    "# Run the tests\n",
    "test_steps_with_scrollable_wrapper_fasthtml_examples()"
   ]
  },
  {
   "cell_type": "code",
   "execution_count": null,
   "id": "a2029d6d-bf22-4e16-87e1-d609762dc867",
   "metadata": {},
   "outputs": [],
   "source": []
  },
  {
   "cell_type": "code",
   "execution_count": null,
   "id": "570ww1t02jx",
   "metadata": {},
   "outputs": [
    {
     "data": {
      "text/html": [
       "\n",
       "<script>\n",
       "document.body.addEventListener('htmx:configRequest', (event) => {\n",
       "    if(event.detail.path.includes('://')) return;\n",
       "    htmx.config.selfRequestsOnly=false;\n",
       "    event.detail.path = `${location.protocol}//${location.hostname}:8000${event.detail.path}`;\n",
       "});\n",
       "</script>"
      ],
      "text/plain": [
       "<IPython.core.display.HTML object>"
      ]
     },
     "metadata": {},
     "output_type": "display_data"
    },
    {
     "data": {
      "text/html": [
       "<iframe src=\"http://localhost:8000/\" style=\"width: 100%; height: auto; border: none;\" onload=\"{\n",
       "        let frame = this;\n",
       "        window.addEventListener('message', function(e) {\n",
       "            if (e.source !== frame.contentWindow) return; // Only proceed if the message is from this iframe\n",
       "            if (e.data.height) frame.style.height = (e.data.height+1) + 'px';\n",
       "        }, false);\n",
       "    }\" allow=\"accelerometer; autoplay; camera; clipboard-read; clipboard-write; display-capture; encrypted-media; fullscreen; gamepad; geolocation; gyroscope; hid; identity-credentials-get; idle-detection; magnetometer; microphone; midi; payment; picture-in-picture; publickey-credentials-get; screen-wake-lock; serial; usb; web-share; xr-spatial-tracking\"></iframe> "
      ],
      "text/plain": [
       "<IPython.core.display.HTML object>"
      ]
     },
     "metadata": {},
     "output_type": "display_data"
    }
   ],
   "source": [
    "#| eval: false\n",
    "test_func = test_steps_with_scrollable_wrapper_fasthtml_examples\n",
    "app, rt = create_test_app(theme=DaisyUITheme.LIGHT)\n",
    "\n",
    "@rt\n",
    "def index():\n",
    "    return create_test_page(test_func.__doc__.title().replace('.', ''), test_func())\n",
    "server = start_test_server(app)\n",
    "display(HTMX())\n",
    "server.stop()"
   ]
  },
  {
   "cell_type": "code",
   "execution_count": null,
   "id": "c9dfaad9-504c-4853-886b-2d1adb1cc3a0",
   "metadata": {},
   "outputs": [],
   "source": []
  },
  {
   "cell_type": "code",
   "execution_count": null,
   "id": "454d5b84-fc57-44ab-a6f0-3123333998cb",
   "metadata": {},
   "outputs": [],
   "source": []
  },
  {
   "cell_type": "code",
   "execution_count": null,
   "id": "d471d21b-6fe5-4c63-90be-5176c4cbd08b",
   "metadata": {},
   "outputs": [],
   "source": []
  },
  {
   "cell_type": "code",
   "execution_count": null,
   "id": "73b88b7e-0be6-4a82-9c02-f3df8af20015",
   "metadata": {},
   "outputs": [],
   "source": []
  },
  {
   "cell_type": "code",
   "execution_count": null,
   "id": "7ab8257a-c30b-45b6-a784-729b67686791",
   "metadata": {},
   "outputs": [],
   "source": [
    "#| hide\n",
    "import nbdev; nbdev.nbdev_export()"
   ]
  }
 ],
 "metadata": {
  "kernelspec": {
   "display_name": "python3",
   "language": "python",
   "name": "python3"
  }
 },
 "nbformat": 4,
 "nbformat_minor": 5
}
