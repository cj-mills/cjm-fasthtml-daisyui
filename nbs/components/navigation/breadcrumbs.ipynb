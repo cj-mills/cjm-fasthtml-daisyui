{
 "cells": [
  {
   "cell_type": "markdown",
   "id": "7c51b46b-ece1-456d-8e84-7de122e72b62",
   "metadata": {},
   "source": [
    "# breadcrumbs\n",
    "\n",
    "> Breadcrumbs helps users to navigate through the website."
   ]
  },
  {
   "cell_type": "code",
   "execution_count": null,
   "id": "25536bdc-e099-477f-9e2d-a5f71df5dff2",
   "metadata": {},
   "outputs": [],
   "source": [
    "#| default_exp components.navigation.breadcrumbs"
   ]
  },
  {
   "cell_type": "code",
   "execution_count": null,
   "id": "2e6f21ce-7766-455a-8ebb-df2c17e7d977",
   "metadata": {},
   "outputs": [],
   "source": [
    "#| hide\n",
    "from nbdev.showdoc import *"
   ]
  },
  {
   "cell_type": "code",
   "execution_count": null,
   "id": "045c6538-403e-4222-b3bb-db20f188524d",
   "metadata": {},
   "outputs": [],
   "source": [
    "#| export\n",
    "\n",
    "from cjm_fasthtml_tailwind.core.base import (\n",
    "    SingleValueFactory, combine_classes\n",
    ")\n",
    "\n",
    "from fasthtml.common import Div\n",
    "from fasthtml.jupyter import JupyUvi, HTMX\n",
    "from cjm_fasthtml_daisyui.core.testing import create_test_app, create_test_page, start_test_server\n",
    "from cjm_fasthtml_daisyui.core.themes import DaisyUITheme\n",
    "from IPython.display import display"
   ]
  },
  {
   "cell_type": "markdown",
   "id": "525225a9-bf28-4c89-a5af-8eb5cbc4ec74",
   "metadata": {},
   "source": [
    "### Breadcrumbs component"
   ]
  },
  {
   "cell_type": "code",
   "execution_count": null,
   "id": "c802d106-49fb-4d34-ba04-5f54c88e165b",
   "metadata": {},
   "outputs": [],
   "source": [
    "#| exports\n",
    "breadcrumbs = SingleValueFactory(\"breadcrumbs\", \"Breadcrumbs component for helping users navigate.\") # Breadcrumbs component"
   ]
  },
  {
   "cell_type": "markdown",
   "id": "57a368eb-0a35-4512-8f7c-5f2b690f0c07",
   "metadata": {},
   "source": [
    "### Breadcrumbs Test Examples"
   ]
  },
  {
   "cell_type": "code",
   "execution_count": null,
   "id": "636c6bcd-2176-4191-aa39-c937893243e2",
   "metadata": {},
   "outputs": [],
   "source": [
    "#|exports\n",
    "def test_breadcrumbs_basic_examples():\n",
    "    \"\"\"Test breadcrumbs utility.\"\"\"\n",
    "    # Breadcrumb\n",
    "    assert str(breadcrumbs) == \"breadcrumbs\"\n",
    "\n",
    "    # Breadcrumbs with modifiers\n",
    "    assert str(breadcrumbs.hover) == \"hover:breadcrumbs\"\n",
    "    assert str(breadcrumbs.md) == \"md:breadcrumbs\"\n",
    "    assert str(breadcrumbs.dark) == \"dark:breadcrumbs\"\n",
    "\n",
    "# Run the tests\n",
    "test_breadcrumbs_basic_examples()"
   ]
  },
  {
   "cell_type": "code",
   "execution_count": null,
   "id": "ad2d932c-79ea-4792-bdaf-5bda859340ca",
   "metadata": {},
   "outputs": [
    {
     "data": {
      "text/markdown": [
       "```html\n",
       "<div class=\"breadcrumbs text-sm\">\n",
       "  <ul>\n",
       "    <li>\n",
       "<a href=\"#\">Home</a>    </li>\n",
       "    <li>\n",
       "<a href=\"#\">Documents</a>    </li>\n",
       "    <li>Add Document</li>\n",
       "  </ul>\n",
       "</div>\n",
       "\n",
       "```"
      ],
      "text/plain": [
       "div((ul((li((a(('Home',),{'href': '#'}),),{}), li((a(('Documents',),{'href': '#'}),),{}), li(('Add Document',),{})),{}),),{'class': 'breadcrumbs text-sm'})"
      ]
     },
     "execution_count": null,
     "metadata": {},
     "output_type": "execute_result"
    }
   ],
   "source": [
    "#|exports\n",
    "def test_breadcrumbs_basic_fasthtml_examples():\n",
    "    \"\"\"Test basic breadcrumbs example from daisyUI v5 documentation.\"\"\"\n",
    "    from fasthtml.common import Div, Ul, Li, A\n",
    "    from cjm_fasthtml_tailwind.utilities.typography import font_size, font_weight, font_family, text_color\n",
    "    \n",
    "    # Basic breadcrumbs\n",
    "    basic_breadcrumbs = Div(\n",
    "        Ul(\n",
    "            Li(A(\"Home\", href=\"#\")),\n",
    "            Li(A(\"Documents\", href=\"#\")),\n",
    "            Li(\"Add Document\")\n",
    "        ),\n",
    "        cls=combine_classes(breadcrumbs, font_size.sm)\n",
    "    )\n",
    "    \n",
    "    # Verify structure\n",
    "    assert basic_breadcrumbs.tag == \"div\"\n",
    "    assert \"breadcrumbs\" in basic_breadcrumbs.attrs['class']\n",
    "    assert \"text-sm\" in basic_breadcrumbs.attrs['class']\n",
    "    \n",
    "    # Verify ul element\n",
    "    ul_element = basic_breadcrumbs.children[0]\n",
    "    assert ul_element.tag == \"ul\"\n",
    "    \n",
    "    # Verify li elements\n",
    "    assert len(ul_element.children) == 3\n",
    "    \n",
    "    # First li with link\n",
    "    first_li = ul_element.children[0]\n",
    "    assert first_li.tag == \"li\"\n",
    "    assert first_li.children[0].tag == \"a\"\n",
    "    assert first_li.children[0].attrs['href'] == \"#\"\n",
    "    assert first_li.children[0].children[0] == \"Home\"\n",
    "    \n",
    "    # Second li with link\n",
    "    second_li = ul_element.children[1]\n",
    "    assert second_li.tag == \"li\"\n",
    "    assert second_li.children[0].tag == \"a\"\n",
    "    assert second_li.children[0].attrs['href'] == \"#\"\n",
    "    assert second_li.children[0].children[0] == \"Documents\"\n",
    "    \n",
    "    # Third li without link (current page)\n",
    "    third_li = ul_element.children[2]\n",
    "    assert third_li.tag == \"li\"\n",
    "    assert third_li.children[0] == \"Add Document\"\n",
    "    \n",
    "    return basic_breadcrumbs\n",
    "\n",
    "# Run the tests\n",
    "test_breadcrumbs_basic_fasthtml_examples()"
   ]
  },
  {
   "cell_type": "code",
   "execution_count": null,
   "id": "3035ff66-e4e7-410c-8b1e-86a879f66112",
   "metadata": {},
   "outputs": [
    {
     "data": {
      "text/markdown": [
       "```html\n",
       "<div class=\"breadcrumbs text-sm\">\n",
       "  <ul>\n",
       "    <li>\n",
       "<a href=\"#\"><svg xmlns=\"http://www.w3.org/2000/svg\" viewbox=\"0 0 24 24\" fill=\"none\" class=\"h-4 w-4 stroke-current\"><path d=\"M3 7v10a2 2 0 002 2h14a2 2 0 002-2V9a2 2 0 00-2-2h-6l-2-2H5a2 2 0 00-2 2z\" stroke-width=\"2\" stroke-linecap=\"round\" stroke-linejoin=\"round\"></path></svg>Home</a>    </li>\n",
       "    <li>\n",
       "<a href=\"#\"><svg xmlns=\"http://www.w3.org/2000/svg\" viewbox=\"0 0 24 24\" fill=\"none\" class=\"h-4 w-4 stroke-current\"><path d=\"M3 7v10a2 2 0 002 2h14a2 2 0 002-2V9a2 2 0 00-2-2h-6l-2-2H5a2 2 0 00-2 2z\" stroke-width=\"2\" stroke-linecap=\"round\" stroke-linejoin=\"round\"></path></svg>Documents</a>    </li>\n",
       "    <li>\n",
       "<span class=\"inline-flex items-center gap-2\"><svg xmlns=\"http://www.w3.org/2000/svg\" viewbox=\"0 0 24 24\" fill=\"none\" class=\"h-4 w-4 stroke-current\"><path d=\"M9 13h6m-3-3v6m5 5H7a2 2 0 01-2-2V5a2 2 0 012-2h5.586a1 1 0 01.707.293l5.414 5.414a1 1 0 01.293.707V19a2 2 0 01-2 2z\" stroke-width=\"2\" stroke-linecap=\"round\" stroke-linejoin=\"round\"></path></svg>Add Document</span>    </li>\n",
       "  </ul>\n",
       "</div>\n",
       "\n",
       "```"
      ],
      "text/plain": [
       "div((ul((li((a((svg((path((),{'d': 'M3 7v10a2 2 0 002 2h14a2 2 0 002-2V9a2 2 0 00-2-2h-6l-2-2H5a2 2 0 00-2 2z', 'stroke-width': '2', 'stroke-linecap': 'round', 'stroke-linejoin': 'round'}),),{'xmlns': 'http://www.w3.org/2000/svg', 'viewbox': '0 0 24 24', 'fill': 'none', 'class': 'h-4 w-4 stroke-current'}), 'Home'),{'href': '#'}),),{}), li((a((svg((path((),{'d': 'M3 7v10a2 2 0 002 2h14a2 2 0 002-2V9a2 2 0 00-2-2h-6l-2-2H5a2 2 0 00-2 2z', 'stroke-width': '2', 'stroke-linecap': 'round', 'stroke-linejoin': 'round'}),),{'xmlns': 'http://www.w3.org/2000/svg', 'viewbox': '0 0 24 24', 'fill': 'none', 'class': 'h-4 w-4 stroke-current'}), 'Documents'),{'href': '#'}),),{}), li((span((svg((path((),{'d': 'M9 13h6m-3-3v6m5 5H7a2 2 0 01-2-2V5a2 2 0 012-2h5.586a1 1 0 01.707.293l5.414 5.414a1 1 0 01.293.707V19a2 2 0 01-2 2z', 'stroke-width': '2', 'stroke-linecap': 'round', 'stroke-linejoin': 'round'}),),{'xmlns': 'http://www.w3.org/2000/svg', 'viewbox': '0 0 24 24', 'fill': 'none', 'class': 'h-4 w-4 stroke-current'}), 'Add Document'),{'class': 'inline-flex items-center gap-2'}),),{})),{}),),{'class': 'breadcrumbs text-sm'})"
      ]
     },
     "execution_count": null,
     "metadata": {},
     "output_type": "execute_result"
    }
   ],
   "source": [
    "#|exports\n",
    "def test_breadcrumbs_with_icons_fasthtml_examples():\n",
    "    \"\"\"Test breadcrumbs with icons from daisyUI v5 documentation.\"\"\"\n",
    "    from fasthtml.common import Div, Ul, Li, A, Span\n",
    "    from fasthtml.svg import Svg, Path\n",
    "    from cjm_fasthtml_tailwind.utilities.typography import font_size, font_weight, font_family, text_color\n",
    "    from cjm_fasthtml_tailwind.utilities.sizing import h, w\n",
    "    from cjm_fasthtml_tailwind.utilities.svg import stroke\n",
    "    from cjm_fasthtml_tailwind.utilities.layout import display_tw\n",
    "    from cjm_fasthtml_tailwind.utilities.flexbox_and_grid import items, gap, flex_display\n",
    "    \n",
    "    # Create reusable folder icon SVG\n",
    "    folder_icon = Svg(\n",
    "        Path(\n",
    "            stroke_linecap=\"round\",\n",
    "            stroke_linejoin=\"round\",\n",
    "            stroke_width=\"2\",\n",
    "            d=\"M3 7v10a2 2 0 002 2h14a2 2 0 002-2V9a2 2 0 00-2-2h-6l-2-2H5a2 2 0 00-2 2z\"\n",
    "        ),\n",
    "        xmlns=\"http://www.w3.org/2000/svg\",\n",
    "        fill=\"none\",\n",
    "        viewBox=\"0 0 24 24\",\n",
    "        cls=combine_classes(h._4, w._4, stroke.current)\n",
    "    )\n",
    "    \n",
    "    # Create add document icon SVG\n",
    "    add_doc_icon = Svg(\n",
    "        Path(\n",
    "            stroke_linecap=\"round\",\n",
    "            stroke_linejoin=\"round\",\n",
    "            stroke_width=\"2\",\n",
    "            d=\"M9 13h6m-3-3v6m5 5H7a2 2 0 01-2-2V5a2 2 0 012-2h5.586a1 1 0 01.707.293l5.414 5.414a1 1 0 01.293.707V19a2 2 0 01-2 2z\"\n",
    "        ),\n",
    "        xmlns=\"http://www.w3.org/2000/svg\",\n",
    "        fill=\"none\",\n",
    "        viewBox=\"0 0 24 24\",\n",
    "        cls=combine_classes(h._4, w._4, stroke.current)\n",
    "    )\n",
    "    \n",
    "    # Breadcrumbs with icons\n",
    "    breadcrumbs_with_icons = Div(\n",
    "        Ul(\n",
    "            Li(\n",
    "                A(\n",
    "                    folder_icon,\n",
    "                    \"Home\",\n",
    "                    href=\"#\"\n",
    "                )\n",
    "            ),\n",
    "            Li(\n",
    "                A(\n",
    "                    folder_icon,\n",
    "                    \"Documents\",\n",
    "                    href=\"#\"\n",
    "                )\n",
    "            ),\n",
    "            Li(\n",
    "                Span(\n",
    "                    add_doc_icon,\n",
    "                    \"Add Document\",\n",
    "                    cls=combine_classes(flex_display.inline, items.center, gap._2)\n",
    "                )\n",
    "            )\n",
    "        ),\n",
    "        cls=combine_classes(breadcrumbs, font_size.sm)\n",
    "    )\n",
    "    \n",
    "    # Verify structure\n",
    "    assert breadcrumbs_with_icons.tag == \"div\"\n",
    "    assert \"breadcrumbs\" in breadcrumbs_with_icons.attrs['class']\n",
    "    assert \"text-sm\" in breadcrumbs_with_icons.attrs['class']\n",
    "    \n",
    "    # Verify ul element\n",
    "    ul_element = breadcrumbs_with_icons.children[0]\n",
    "    assert ul_element.tag == \"ul\"\n",
    "    assert len(ul_element.children) == 3\n",
    "    \n",
    "    # First li with icon and link\n",
    "    first_li = ul_element.children[0]\n",
    "    assert first_li.tag == \"li\"\n",
    "    assert first_li.children[0].tag == \"a\"\n",
    "    assert first_li.children[0].attrs['href'] == \"#\"\n",
    "    assert first_li.children[0].children[0].tag == \"svg\"  # Icon\n",
    "    assert first_li.children[0].children[1] == \"Home\"  # Text\n",
    "    \n",
    "    # Second li with icon and link\n",
    "    second_li = ul_element.children[1]\n",
    "    assert second_li.tag == \"li\"\n",
    "    assert second_li.children[0].tag == \"a\"\n",
    "    assert second_li.children[0].attrs['href'] == \"#\"\n",
    "    assert second_li.children[0].children[0].tag == \"svg\"  # Icon\n",
    "    assert second_li.children[0].children[1] == \"Documents\"  # Text\n",
    "    \n",
    "    # Third li with icon but no link (current page)\n",
    "    third_li = ul_element.children[2]\n",
    "    assert third_li.tag == \"li\"\n",
    "    assert third_li.children[0].tag == \"span\"\n",
    "    assert \"inline-flex\" in third_li.children[0].attrs['class']\n",
    "    assert \"items-center\" in third_li.children[0].attrs['class']\n",
    "    assert \"gap-2\" in third_li.children[0].attrs['class']\n",
    "    assert third_li.children[0].children[0].tag == \"svg\"  # Icon\n",
    "    assert third_li.children[0].children[1] == \"Add Document\"  # Text\n",
    "    \n",
    "    return breadcrumbs_with_icons\n",
    "\n",
    "# Run the tests\n",
    "test_breadcrumbs_with_icons_fasthtml_examples()"
   ]
  },
  {
   "cell_type": "code",
   "execution_count": null,
   "id": "4666a5a3-26bb-4d91-b5be-f941df8f9d2f",
   "metadata": {},
   "outputs": [
    {
     "data": {
      "text/markdown": [
       "```html\n",
       "<div class=\"breadcrumbs max-w-xs text-sm\">\n",
       "  <ul>\n",
       "    <li>Long text 1</li>\n",
       "    <li>Long text 2</li>\n",
       "    <li>Long text 3</li>\n",
       "    <li>Long text 4</li>\n",
       "    <li>Long text 5</li>\n",
       "  </ul>\n",
       "</div>\n",
       "\n",
       "```"
      ],
      "text/plain": [
       "div((ul((li(('Long text 1',),{}), li(('Long text 2',),{}), li(('Long text 3',),{}), li(('Long text 4',),{}), li(('Long text 5',),{})),{}),),{'class': 'breadcrumbs max-w-xs text-sm'})"
      ]
     },
     "execution_count": null,
     "metadata": {},
     "output_type": "execute_result"
    }
   ],
   "source": [
    "#|exports\n",
    "def test_breadcrumbs_with_max_width_fasthtml_examples():\n",
    "    \"\"\"Test breadcrumbs with max-width from daisyUI v5 documentation.\"\"\"\n",
    "    from fasthtml.common import Div, Ul, Li\n",
    "    from cjm_fasthtml_tailwind.utilities.typography import font_size, font_weight, font_family, text_color\n",
    "    from cjm_fasthtml_tailwind.utilities.sizing import max_w\n",
    "    \n",
    "    # Breadcrumbs with max-width\n",
    "    max_width_breadcrumbs = Div(\n",
    "        Ul(\n",
    "            Li(\"Long text 1\"),\n",
    "            Li(\"Long text 2\"),\n",
    "            Li(\"Long text 3\"),\n",
    "            Li(\"Long text 4\"),\n",
    "            Li(\"Long text 5\")\n",
    "        ),\n",
    "        cls=combine_classes(breadcrumbs, max_w.xs, font_size.sm)\n",
    "    )\n",
    "    \n",
    "    # Verify structure\n",
    "    assert max_width_breadcrumbs.tag == \"div\"\n",
    "    assert \"breadcrumbs\" in max_width_breadcrumbs.attrs['class']\n",
    "    assert \"max-w-xs\" in max_width_breadcrumbs.attrs['class']\n",
    "    assert \"text-sm\" in max_width_breadcrumbs.attrs['class']\n",
    "    \n",
    "    # Verify ul element\n",
    "    ul_element = max_width_breadcrumbs.children[0]\n",
    "    assert ul_element.tag == \"ul\"\n",
    "    assert len(ul_element.children) == 5\n",
    "    \n",
    "    # Verify all li elements\n",
    "    for i in range(5):\n",
    "        li = ul_element.children[i]\n",
    "        assert li.tag == \"li\"\n",
    "        assert li.children[0] == f\"Long text {i + 1}\"\n",
    "    \n",
    "    return max_width_breadcrumbs\n",
    "\n",
    "# Run the tests\n",
    "test_breadcrumbs_with_max_width_fasthtml_examples()"
   ]
  },
  {
   "cell_type": "code",
   "execution_count": null,
   "id": "85d72161-e718-4c66-bc59-a3569b7f7616",
   "metadata": {},
   "outputs": [],
   "source": []
  },
  {
   "cell_type": "code",
   "execution_count": null,
   "id": "osomfbvf8z",
   "metadata": {},
   "outputs": [
    {
     "data": {
      "text/html": [
       "\n",
       "<script>\n",
       "document.body.addEventListener('htmx:configRequest', (event) => {\n",
       "    if(event.detail.path.includes('://')) return;\n",
       "    htmx.config.selfRequestsOnly=false;\n",
       "    event.detail.path = `${location.protocol}//${location.hostname}:8000${event.detail.path}`;\n",
       "});\n",
       "</script>"
      ],
      "text/plain": [
       "<IPython.core.display.HTML object>"
      ]
     },
     "metadata": {},
     "output_type": "display_data"
    },
    {
     "data": {
      "text/html": [
       "<iframe src=\"http://localhost:8000/\" style=\"width: 100%; height: auto; border: none;\" onload=\"{\n",
       "        let frame = this;\n",
       "        window.addEventListener('message', function(e) {\n",
       "            if (e.source !== frame.contentWindow) return; // Only proceed if the message is from this iframe\n",
       "            if (e.data.height) frame.style.height = (e.data.height+1) + 'px';\n",
       "        }, false);\n",
       "    }\" allow=\"accelerometer; autoplay; camera; clipboard-read; clipboard-write; display-capture; encrypted-media; fullscreen; gamepad; geolocation; gyroscope; hid; identity-credentials-get; idle-detection; magnetometer; microphone; midi; payment; picture-in-picture; publickey-credentials-get; screen-wake-lock; serial; usb; web-share; xr-spatial-tracking\"></iframe> "
      ],
      "text/plain": [
       "<IPython.core.display.HTML object>"
      ]
     },
     "metadata": {},
     "output_type": "display_data"
    }
   ],
   "source": [
    "#| eval: false\n",
    "#| output: false\n",
    "test_func = test_breadcrumbs_basic_fasthtml_examples\n",
    "app, rt = create_test_app(theme=DaisyUITheme.LIGHT)\n",
    "\n",
    "@rt\n",
    "def index():\n",
    "    return create_test_page(test_func.__doc__.title().replace('.', ''), test_func())\n",
    "server = start_test_server(app)\n",
    "display(HTMX())\n",
    "server.stop()"
   ]
  },
  {
   "cell_type": "code",
   "execution_count": null,
   "id": "214654cc-9758-48f9-92e2-0892029c4512",
   "metadata": {},
   "outputs": [],
   "source": []
  },
  {
   "cell_type": "code",
   "execution_count": null,
   "id": "hkvm5ubhmau",
   "metadata": {},
   "outputs": [
    {
     "data": {
      "text/html": [
       "\n",
       "<script>\n",
       "document.body.addEventListener('htmx:configRequest', (event) => {\n",
       "    if(event.detail.path.includes('://')) return;\n",
       "    htmx.config.selfRequestsOnly=false;\n",
       "    event.detail.path = `${location.protocol}//${location.hostname}:8000${event.detail.path}`;\n",
       "});\n",
       "</script>"
      ],
      "text/plain": [
       "<IPython.core.display.HTML object>"
      ]
     },
     "metadata": {},
     "output_type": "display_data"
    },
    {
     "data": {
      "text/html": [
       "<iframe src=\"http://localhost:8000/\" style=\"width: 100%; height: auto; border: none;\" onload=\"{\n",
       "        let frame = this;\n",
       "        window.addEventListener('message', function(e) {\n",
       "            if (e.source !== frame.contentWindow) return; // Only proceed if the message is from this iframe\n",
       "            if (e.data.height) frame.style.height = (e.data.height+1) + 'px';\n",
       "        }, false);\n",
       "    }\" allow=\"accelerometer; autoplay; camera; clipboard-read; clipboard-write; display-capture; encrypted-media; fullscreen; gamepad; geolocation; gyroscope; hid; identity-credentials-get; idle-detection; magnetometer; microphone; midi; payment; picture-in-picture; publickey-credentials-get; screen-wake-lock; serial; usb; web-share; xr-spatial-tracking\"></iframe> "
      ],
      "text/plain": [
       "<IPython.core.display.HTML object>"
      ]
     },
     "metadata": {},
     "output_type": "display_data"
    }
   ],
   "source": [
    "#| eval: false\n",
    "#| output: false\n",
    "test_func = test_breadcrumbs_with_icons_fasthtml_examples\n",
    "app, rt = create_test_app(theme=DaisyUITheme.LIGHT)\n",
    "\n",
    "@rt\n",
    "def index():\n",
    "    return create_test_page(test_func.__doc__.title().replace('.', ''), test_func())\n",
    "server = start_test_server(app)\n",
    "display(HTMX())\n",
    "server.stop()"
   ]
  },
  {
   "cell_type": "code",
   "execution_count": null,
   "id": "a9d78aa3-0be8-49e6-8bfb-cb9a232ee1ee",
   "metadata": {},
   "outputs": [],
   "source": []
  },
  {
   "cell_type": "code",
   "execution_count": null,
   "id": "0sdjvj0ther",
   "metadata": {},
   "outputs": [
    {
     "data": {
      "text/html": [
       "\n",
       "<script>\n",
       "document.body.addEventListener('htmx:configRequest', (event) => {\n",
       "    if(event.detail.path.includes('://')) return;\n",
       "    htmx.config.selfRequestsOnly=false;\n",
       "    event.detail.path = `${location.protocol}//${location.hostname}:8000${event.detail.path}`;\n",
       "});\n",
       "</script>"
      ],
      "text/plain": [
       "<IPython.core.display.HTML object>"
      ]
     },
     "metadata": {},
     "output_type": "display_data"
    },
    {
     "data": {
      "text/html": [
       "<iframe src=\"http://localhost:8000/\" style=\"width: 100%; height: auto; border: none;\" onload=\"{\n",
       "        let frame = this;\n",
       "        window.addEventListener('message', function(e) {\n",
       "            if (e.source !== frame.contentWindow) return; // Only proceed if the message is from this iframe\n",
       "            if (e.data.height) frame.style.height = (e.data.height+1) + 'px';\n",
       "        }, false);\n",
       "    }\" allow=\"accelerometer; autoplay; camera; clipboard-read; clipboard-write; display-capture; encrypted-media; fullscreen; gamepad; geolocation; gyroscope; hid; identity-credentials-get; idle-detection; magnetometer; microphone; midi; payment; picture-in-picture; publickey-credentials-get; screen-wake-lock; serial; usb; web-share; xr-spatial-tracking\"></iframe> "
      ],
      "text/plain": [
       "<IPython.core.display.HTML object>"
      ]
     },
     "metadata": {},
     "output_type": "display_data"
    }
   ],
   "source": [
    "#| eval: false\n",
    "#| output: false\n",
    "test_func = test_breadcrumbs_with_max_width_fasthtml_examples\n",
    "app, rt = create_test_app(theme=DaisyUITheme.LIGHT)\n",
    "\n",
    "@rt\n",
    "def index():\n",
    "    return create_test_page(test_func.__doc__.title().replace('.', ''), test_func())\n",
    "server = start_test_server(app)\n",
    "display(HTMX())\n",
    "server.stop()"
   ]
  },
  {
   "cell_type": "code",
   "execution_count": null,
   "id": "01785a18-9bb0-4dbc-9eae-04addf6dede9",
   "metadata": {},
   "outputs": [],
   "source": []
  },
  {
   "cell_type": "code",
   "execution_count": null,
   "id": "43a3d5aa-4f07-48f4-b7c3-5c63612f0fb2",
   "metadata": {},
   "outputs": [],
   "source": []
  },
  {
   "cell_type": "code",
   "execution_count": null,
   "id": "248adc40-6e77-4203-9830-de838e25a00a",
   "metadata": {},
   "outputs": [],
   "source": []
  },
  {
   "cell_type": "code",
   "execution_count": null,
   "id": "a2029d6d-bf22-4e16-87e1-d609762dc867",
   "metadata": {},
   "outputs": [],
   "source": []
  },
  {
   "cell_type": "code",
   "execution_count": null,
   "id": "c9dfaad9-504c-4853-886b-2d1adb1cc3a0",
   "metadata": {},
   "outputs": [],
   "source": []
  },
  {
   "cell_type": "code",
   "execution_count": null,
   "id": "454d5b84-fc57-44ab-a6f0-3123333998cb",
   "metadata": {},
   "outputs": [],
   "source": []
  },
  {
   "cell_type": "code",
   "execution_count": null,
   "id": "d471d21b-6fe5-4c63-90be-5176c4cbd08b",
   "metadata": {},
   "outputs": [],
   "source": []
  },
  {
   "cell_type": "code",
   "execution_count": null,
   "id": "73b88b7e-0be6-4a82-9c02-f3df8af20015",
   "metadata": {},
   "outputs": [],
   "source": []
  },
  {
   "cell_type": "code",
   "execution_count": null,
   "id": "7ab8257a-c30b-45b6-a784-729b67686791",
   "metadata": {},
   "outputs": [],
   "source": [
    "#| hide\n",
    "import nbdev; nbdev.nbdev_export()"
   ]
  }
 ],
 "metadata": {
  "kernelspec": {
   "display_name": "python3",
   "language": "python",
   "name": "python3"
  }
 },
 "nbformat": 4,
 "nbformat_minor": 5
}
