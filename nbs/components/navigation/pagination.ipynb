{
 "cells": [
  {
   "cell_type": "markdown",
   "id": "7c51b46b-ece1-456d-8e84-7de122e72b62",
   "metadata": {},
   "source": [
    "# pagination\n",
    "\n",
    "> Pagination is a group of buttons that allow the user to navigate between a set of related content."
   ]
  },
  {
   "cell_type": "code",
   "execution_count": null,
   "id": "25536bdc-e099-477f-9e2d-a5f71df5dff2",
   "metadata": {},
   "outputs": [],
   "source": [
    "#| default_exp components.navigation.pagination"
   ]
  },
  {
   "cell_type": "code",
   "execution_count": null,
   "id": "2e6f21ce-7766-455a-8ebb-df2c17e7d977",
   "metadata": {},
   "outputs": [],
   "source": [
    "#| hide\n",
    "from nbdev.showdoc import *"
   ]
  },
  {
   "cell_type": "code",
   "execution_count": null,
   "id": "045c6538-403e-4222-b3bb-db20f188524d",
   "metadata": {},
   "outputs": [],
   "source": [
    "#| export\n",
    "\n",
    "from cjm_fasthtml_daisyui.components.layout.join import join, join_item, join_directions\n",
    "\n",
    "from fasthtml.common import Div\n",
    "from fasthtml.jupyter import JupyUvi, HTMX\n",
    "from cjm_fasthtml_daisyui.core.testing import create_test_app, create_test_page, start_test_server\n",
    "from cjm_fasthtml_daisyui.core.themes import DaisyUITheme\n",
    "from IPython.display import display"
   ]
  },
  {
   "cell_type": "markdown",
   "id": "d2688d8a-ae09-4342-99d6-e3f2e8c256e3",
   "metadata": {},
   "source": [
    "### Note on Pagination Components\n",
    "\n",
    "For pagination, we use `join` component to show multiple links or buttons next to each other.\n",
    "\n",
    "All `joing` utilities are already defined in the `cjm_fasthtml_daisyui.components.layout.join` module."
   ]
  },
  {
   "cell_type": "markdown",
   "id": "1541e95d-b71c-4f73-bc0f-1db40a565e63",
   "metadata": {},
   "source": [
    "### Pagination Test Examples"
   ]
  },
  {
   "cell_type": "code",
   "execution_count": null,
   "id": "cebabfd6-1d64-4c65-948d-b056dc6727c7",
   "metadata": {},
   "outputs": [],
   "source": [
    "#|exports\n",
    "def test_pagination_basic_examples():\n",
    "    \"\"\"Test basic pagination utilities.\"\"\"\n",
    "    # Basic join\n",
    "    assert str(join) == \"join\"\n",
    "    assert str(join_item) == \"join-item\"\n",
    "    \n",
    "    # Test with modifiers\n",
    "    assert str(join.hover) == \"hover:join\"\n",
    "    assert str(join.md) == \"md:join\"\n",
    "    assert str(join.dark) == \"dark:join\"\n",
    "\n",
    "    assert str(join_item.hover) == \"hover:join-item\"\n",
    "    assert str(join_item.md) == \"md:join-item\"\n",
    "    assert str(join_item.dark) == \"dark:join-item\"\n",
    "\n",
    "# Run the tests\n",
    "test_pagination_basic_examples()"
   ]
  },
  {
   "cell_type": "code",
   "execution_count": null,
   "id": "636c6bcd-2176-4191-aa39-c937893243e2",
   "metadata": {},
   "outputs": [],
   "source": [
    "#|exports\n",
    "def test_pagination_directions_examples():\n",
    "    \"\"\"Test join directions variants.\"\"\"\n",
    "    assert str(join_directions.vertical) == \"join-vertical\"\n",
    "    assert str(join_directions.horizontal) == \"join-horizontal\"\n",
    "\n",
    "# Run the tests\n",
    "test_pagination_directions_examples()"
   ]
  },
  {
   "cell_type": "code",
   "execution_count": null,
   "id": "ad2d932c-79ea-4792-bdaf-5bda859340ca",
   "metadata": {},
   "outputs": [
    {
     "data": {
      "text/markdown": [
       "```html\n",
       "<div class=\"join\">\n",
       "<button class=\"join-item btn\">1</button><button class=\"join-item btn btn-active\">2</button><button class=\"join-item btn\">3</button><button class=\"join-item btn\">4</button></div>\n",
       "\n",
       "```"
      ],
      "text/plain": [
       "div((button(('1',),{'class': 'join-item btn'}), button(('2',),{'class': 'join-item btn btn-active'}), button(('3',),{'class': 'join-item btn'}), button(('4',),{'class': 'join-item btn'})),{'class': 'join'})"
      ]
     },
     "execution_count": null,
     "metadata": {},
     "output_type": "execute_result"
    }
   ],
   "source": [
    "#|exports\n",
    "def test_pagination_basic_fasthtml_examples():\n",
    "    \"\"\"Test pagination with an active button from daisyUI v5 documentation.\"\"\"\n",
    "    from fasthtml.common import Div, Button\n",
    "    from cjm_fasthtml_tailwind.core.base import combine_classes\n",
    "    from cjm_fasthtml_daisyui.components.actions.button import btn, btn_behaviors\n",
    "    \n",
    "    # Pagination with an active button\n",
    "    pagination = Div(\n",
    "        Button(\"1\", cls=combine_classes(join_item, btn)),\n",
    "        Button(\"2\", cls=combine_classes(join_item, btn, btn_behaviors.active)),\n",
    "        Button(\"3\", cls=combine_classes(join_item, btn)),\n",
    "        Button(\"4\", cls=combine_classes(join_item, btn)),\n",
    "        cls=str(join)\n",
    "    )\n",
    "    \n",
    "    # Verify structure\n",
    "    assert pagination.tag == \"div\"\n",
    "    assert pagination.attrs['class'] == \"join\"\n",
    "    \n",
    "    # Verify buttons\n",
    "    assert len(pagination.children) == 4\n",
    "    \n",
    "    # First button (inactive)\n",
    "    first_button = pagination.children[0]\n",
    "    assert first_button.tag == \"button\"\n",
    "    assert \"join-item\" in first_button.attrs['class']\n",
    "    assert \"btn\" in first_button.attrs['class']\n",
    "    assert \"btn-active\" not in first_button.attrs['class']\n",
    "    assert first_button.children[0] == \"1\"\n",
    "    \n",
    "    # Second button (active)\n",
    "    second_button = pagination.children[1]\n",
    "    assert second_button.tag == \"button\"\n",
    "    assert \"join-item\" in second_button.attrs['class']\n",
    "    assert \"btn\" in second_button.attrs['class']\n",
    "    assert \"btn-active\" in second_button.attrs['class']\n",
    "    assert second_button.children[0] == \"2\"\n",
    "    \n",
    "    # Third button (inactive)\n",
    "    third_button = pagination.children[2]\n",
    "    assert third_button.tag == \"button\"\n",
    "    assert \"join-item\" in third_button.attrs['class']\n",
    "    assert \"btn\" in third_button.attrs['class']\n",
    "    assert \"btn-active\" not in third_button.attrs['class']\n",
    "    assert third_button.children[0] == \"3\"\n",
    "    \n",
    "    # Fourth button (inactive)\n",
    "    fourth_button = pagination.children[3]\n",
    "    assert fourth_button.tag == \"button\"\n",
    "    assert \"join-item\" in fourth_button.attrs['class']\n",
    "    assert \"btn\" in fourth_button.attrs['class']\n",
    "    assert \"btn-active\" not in fourth_button.attrs['class']\n",
    "    assert fourth_button.children[0] == \"4\"\n",
    "    \n",
    "    return pagination\n",
    "\n",
    "# Run the tests\n",
    "test_pagination_basic_fasthtml_examples()"
   ]
  },
  {
   "cell_type": "code",
   "execution_count": null,
   "id": "5g3xi0ve1bk",
   "metadata": {},
   "outputs": [
    {
     "data": {
      "text/html": [
       "\n",
       "<script>\n",
       "document.body.addEventListener('htmx:configRequest', (event) => {\n",
       "    if(event.detail.path.includes('://')) return;\n",
       "    htmx.config.selfRequestsOnly=false;\n",
       "    event.detail.path = `${location.protocol}//${location.hostname}:8000${event.detail.path}`;\n",
       "});\n",
       "</script>"
      ],
      "text/plain": [
       "<IPython.core.display.HTML object>"
      ]
     },
     "metadata": {},
     "output_type": "display_data"
    },
    {
     "data": {
      "text/html": [
       "<iframe src=\"http://localhost:8000/\" style=\"width: 100%; height: auto; border: none;\" onload=\"{\n",
       "        let frame = this;\n",
       "        window.addEventListener('message', function(e) {\n",
       "            if (e.source !== frame.contentWindow) return; // Only proceed if the message is from this iframe\n",
       "            if (e.data.height) frame.style.height = (e.data.height+1) + 'px';\n",
       "        }, false);\n",
       "    }\" allow=\"accelerometer; autoplay; camera; clipboard-read; clipboard-write; display-capture; encrypted-media; fullscreen; gamepad; geolocation; gyroscope; hid; identity-credentials-get; idle-detection; magnetometer; microphone; midi; payment; picture-in-picture; publickey-credentials-get; screen-wake-lock; serial; usb; web-share; xr-spatial-tracking\"></iframe> "
      ],
      "text/plain": [
       "<IPython.core.display.HTML object>"
      ]
     },
     "metadata": {},
     "output_type": "display_data"
    }
   ],
   "source": [
    "#| eval: false\n",
    "#| output: false\n",
    "test_func = test_pagination_basic_fasthtml_examples\n",
    "app, rt = create_test_app(theme=DaisyUITheme.LIGHT)\n",
    "\n",
    "@rt\n",
    "def index():\n",
    "    return create_test_page(test_func.__doc__.title().replace('.', ''), test_func())\n",
    "server = start_test_server(app)\n",
    "display(HTMX())\n",
    "server.stop()"
   ]
  },
  {
   "cell_type": "code",
   "execution_count": null,
   "id": "3035ff66-e4e7-410c-8b1e-86a879f66112",
   "metadata": {},
   "outputs": [
    {
     "data": {
      "text/markdown": [
       "```html\n",
       "<div>\n",
       "  <div class=\"join\">\n",
       "<button class=\"join-item btn btn-xs\">1</button><button class=\"join-item btn btn-xs btn-active\">2</button><button class=\"join-item btn btn-xs\">3</button><button class=\"join-item btn btn-xs\">4</button>  </div>\n",
       "  <div class=\"join\">\n",
       "<button class=\"join-item btn btn-sm\">1</button><button class=\"join-item btn btn-sm btn-active\">2</button><button class=\"join-item btn btn-sm\">3</button><button class=\"join-item btn btn-sm\">4</button>  </div>\n",
       "  <div class=\"join\">\n",
       "<button class=\"join-item btn btn-md\">1</button><button class=\"join-item btn btn-md btn-active\">2</button><button class=\"join-item btn btn-md\">3</button><button class=\"join-item btn btn-md\">4</button>  </div>\n",
       "  <div class=\"join\">\n",
       "<button class=\"join-item btn btn-lg\">1</button><button class=\"join-item btn btn-lg btn-active\">2</button><button class=\"join-item btn btn-lg\">3</button><button class=\"join-item btn btn-lg\">4</button>  </div>\n",
       "  <div class=\"join\">\n",
       "<button class=\"join-item btn btn-xl\">1</button><button class=\"join-item btn btn-xl btn-active\">2</button><button class=\"join-item btn btn-xl\">3</button><button class=\"join-item btn btn-xl\">4</button>  </div>\n",
       "</div>\n",
       "\n",
       "```"
      ],
      "text/plain": [
       "div((div((button(('1',),{'class': 'join-item btn btn-xs'}), button(('2',),{'class': 'join-item btn btn-xs btn-active'}), button(('3',),{'class': 'join-item btn btn-xs'}), button(('4',),{'class': 'join-item btn btn-xs'})),{'class': 'join'}), div((button(('1',),{'class': 'join-item btn btn-sm'}), button(('2',),{'class': 'join-item btn btn-sm btn-active'}), button(('3',),{'class': 'join-item btn btn-sm'}), button(('4',),{'class': 'join-item btn btn-sm'})),{'class': 'join'}), div((button(('1',),{'class': 'join-item btn btn-md'}), button(('2',),{'class': 'join-item btn btn-md btn-active'}), button(('3',),{'class': 'join-item btn btn-md'}), button(('4',),{'class': 'join-item btn btn-md'})),{'class': 'join'}), div((button(('1',),{'class': 'join-item btn btn-lg'}), button(('2',),{'class': 'join-item btn btn-lg btn-active'}), button(('3',),{'class': 'join-item btn btn-lg'}), button(('4',),{'class': 'join-item btn btn-lg'})),{'class': 'join'}), div((button(('1',),{'class': 'join-item btn btn-xl'}), button(('2',),{'class': 'join-item btn btn-xl btn-active'}), button(('3',),{'class': 'join-item btn btn-xl'}), button(('4',),{'class': 'join-item btn btn-xl'})),{'class': 'join'})),{})"
      ]
     },
     "execution_count": null,
     "metadata": {},
     "output_type": "execute_result"
    }
   ],
   "source": [
    "#|exports\n",
    "def test_pagination_sizes_fasthtml_examples():\n",
    "    \"\"\"Test pagination with different button sizes from daisyUI v5 documentation.\"\"\"\n",
    "    from fasthtml.common import Div, Button\n",
    "    from cjm_fasthtml_tailwind.core.base import combine_classes\n",
    "    from cjm_fasthtml_daisyui.components.actions.button import btn, btn_behaviors, btn_sizes\n",
    "    \n",
    "    # Extra small pagination\n",
    "    pagination_xs = Div(\n",
    "        Button(\"1\", cls=combine_classes(join_item, btn, btn_sizes.xs)),\n",
    "        Button(\"2\", cls=combine_classes(join_item, btn, btn_sizes.xs, btn_behaviors.active)),\n",
    "        Button(\"3\", cls=combine_classes(join_item, btn, btn_sizes.xs)),\n",
    "        Button(\"4\", cls=combine_classes(join_item, btn, btn_sizes.xs)),\n",
    "        cls=str(join)\n",
    "    )\n",
    "    assert pagination_xs.attrs['class'] == \"join\"\n",
    "    assert \"btn-xs\" in pagination_xs.children[0].attrs['class']\n",
    "    assert \"btn-xs\" in pagination_xs.children[1].attrs['class']\n",
    "    assert \"btn-active\" in pagination_xs.children[1].attrs['class']\n",
    "    \n",
    "    # Small pagination\n",
    "    pagination_sm = Div(\n",
    "        Button(\"1\", cls=combine_classes(join_item, btn, btn_sizes.sm)),\n",
    "        Button(\"2\", cls=combine_classes(join_item, btn, btn_sizes.sm, btn_behaviors.active)),\n",
    "        Button(\"3\", cls=combine_classes(join_item, btn, btn_sizes.sm)),\n",
    "        Button(\"4\", cls=combine_classes(join_item, btn, btn_sizes.sm)),\n",
    "        cls=str(join)\n",
    "    )\n",
    "    assert pagination_sm.attrs['class'] == \"join\"\n",
    "    assert \"btn-sm\" in pagination_sm.children[0].attrs['class']\n",
    "    assert \"btn-sm\" in pagination_sm.children[1].attrs['class']\n",
    "    assert \"btn-active\" in pagination_sm.children[1].attrs['class']\n",
    "    \n",
    "    # Medium pagination\n",
    "    pagination_md = Div(\n",
    "        Button(\"1\", cls=combine_classes(join_item, btn, btn_sizes.md)),\n",
    "        Button(\"2\", cls=combine_classes(join_item, btn, btn_sizes.md, btn_behaviors.active)),\n",
    "        Button(\"3\", cls=combine_classes(join_item, btn, btn_sizes.md)),\n",
    "        Button(\"4\", cls=combine_classes(join_item, btn, btn_sizes.md)),\n",
    "        cls=str(join)\n",
    "    )\n",
    "    assert pagination_md.attrs['class'] == \"join\"\n",
    "    assert \"btn-md\" in pagination_md.children[0].attrs['class']\n",
    "    assert \"btn-md\" in pagination_md.children[1].attrs['class']\n",
    "    assert \"btn-active\" in pagination_md.children[1].attrs['class']\n",
    "    \n",
    "    # Large pagination\n",
    "    pagination_lg = Div(\n",
    "        Button(\"1\", cls=combine_classes(join_item, btn, btn_sizes.lg)),\n",
    "        Button(\"2\", cls=combine_classes(join_item, btn, btn_sizes.lg, btn_behaviors.active)),\n",
    "        Button(\"3\", cls=combine_classes(join_item, btn, btn_sizes.lg)),\n",
    "        Button(\"4\", cls=combine_classes(join_item, btn, btn_sizes.lg)),\n",
    "        cls=str(join)\n",
    "    )\n",
    "    assert pagination_lg.attrs['class'] == \"join\"\n",
    "    assert \"btn-lg\" in pagination_lg.children[0].attrs['class']\n",
    "    assert \"btn-lg\" in pagination_lg.children[1].attrs['class']\n",
    "    assert \"btn-active\" in pagination_lg.children[1].attrs['class']\n",
    "    \n",
    "    # Extra large pagination\n",
    "    pagination_xl = Div(\n",
    "        Button(\"1\", cls=combine_classes(join_item, btn, btn_sizes.xl)),\n",
    "        Button(\"2\", cls=combine_classes(join_item, btn, btn_sizes.xl, btn_behaviors.active)),\n",
    "        Button(\"3\", cls=combine_classes(join_item, btn, btn_sizes.xl)),\n",
    "        Button(\"4\", cls=combine_classes(join_item, btn, btn_sizes.xl)),\n",
    "        cls=str(join)\n",
    "    )\n",
    "    assert pagination_xl.attrs['class'] == \"join\"\n",
    "    assert \"btn-xl\" in pagination_xl.children[0].attrs['class']\n",
    "    assert \"btn-xl\" in pagination_xl.children[1].attrs['class']\n",
    "    assert \"btn-active\" in pagination_xl.children[1].attrs['class']\n",
    "    \n",
    "    # Return all size variations\n",
    "    return Div(\n",
    "        pagination_xs,\n",
    "        pagination_sm,\n",
    "        pagination_md,\n",
    "        pagination_lg,\n",
    "        pagination_xl\n",
    "    )\n",
    "\n",
    "# Run the tests\n",
    "test_pagination_sizes_fasthtml_examples()"
   ]
  },
  {
   "cell_type": "code",
   "execution_count": null,
   "id": "5in64qlt4t8",
   "metadata": {},
   "outputs": [
    {
     "data": {
      "text/html": [
       "\n",
       "<script>\n",
       "document.body.addEventListener('htmx:configRequest', (event) => {\n",
       "    if(event.detail.path.includes('://')) return;\n",
       "    htmx.config.selfRequestsOnly=false;\n",
       "    event.detail.path = `${location.protocol}//${location.hostname}:8000${event.detail.path}`;\n",
       "});\n",
       "</script>"
      ],
      "text/plain": [
       "<IPython.core.display.HTML object>"
      ]
     },
     "metadata": {},
     "output_type": "display_data"
    },
    {
     "data": {
      "text/html": [
       "<iframe src=\"http://localhost:8000/\" style=\"width: 100%; height: auto; border: none;\" onload=\"{\n",
       "        let frame = this;\n",
       "        window.addEventListener('message', function(e) {\n",
       "            if (e.source !== frame.contentWindow) return; // Only proceed if the message is from this iframe\n",
       "            if (e.data.height) frame.style.height = (e.data.height+1) + 'px';\n",
       "        }, false);\n",
       "    }\" allow=\"accelerometer; autoplay; camera; clipboard-read; clipboard-write; display-capture; encrypted-media; fullscreen; gamepad; geolocation; gyroscope; hid; identity-credentials-get; idle-detection; magnetometer; microphone; midi; payment; picture-in-picture; publickey-credentials-get; screen-wake-lock; serial; usb; web-share; xr-spatial-tracking\"></iframe> "
      ],
      "text/plain": [
       "<IPython.core.display.HTML object>"
      ]
     },
     "metadata": {},
     "output_type": "display_data"
    }
   ],
   "source": [
    "#| eval: false\n",
    "#| output: false\n",
    "test_func = test_pagination_sizes_fasthtml_examples\n",
    "app, rt = create_test_app(theme=DaisyUITheme.LIGHT)\n",
    "\n",
    "@rt\n",
    "def index():\n",
    "    return create_test_page(test_func.__doc__.title().replace('.', ''), test_func())\n",
    "server = start_test_server(app)\n",
    "display(HTMX())\n",
    "server.stop()"
   ]
  },
  {
   "cell_type": "code",
   "execution_count": null,
   "id": "4666a5a3-26bb-4d91-b5be-f941df8f9d2f",
   "metadata": {},
   "outputs": [
    {
     "data": {
      "text/markdown": [
       "```html\n",
       "<div class=\"join\">\n",
       "<button class=\"join-item btn\">1</button><button class=\"join-item btn\">2</button><button class=\"join-item btn btn-disabled\">...</button><button class=\"join-item btn\">99</button><button class=\"join-item btn\">100</button></div>\n",
       "\n",
       "```"
      ],
      "text/plain": [
       "div((button(('1',),{'class': 'join-item btn'}), button(('2',),{'class': 'join-item btn'}), button(('...',),{'class': 'join-item btn btn-disabled'}), button(('99',),{'class': 'join-item btn'}), button(('100',),{'class': 'join-item btn'})),{'class': 'join'})"
      ]
     },
     "execution_count": null,
     "metadata": {},
     "output_type": "execute_result"
    }
   ],
   "source": [
    "#|exports\n",
    "def test_pagination_disabled_fasthtml_examples():\n",
    "    \"\"\"Test pagination with a disabled button from daisyUI v5 documentation.\"\"\"\n",
    "    from fasthtml.common import Div, Button\n",
    "    from cjm_fasthtml_tailwind.core.base import combine_classes\n",
    "    from cjm_fasthtml_daisyui.components.actions.button import btn, btn_behaviors\n",
    "    \n",
    "    # Pagination with a disabled button\n",
    "    pagination_disabled = Div(\n",
    "        Button(\"1\", cls=combine_classes(join_item, btn)),\n",
    "        Button(\"2\", cls=combine_classes(join_item, btn)),\n",
    "        Button(\"...\", cls=combine_classes(join_item, btn, btn_behaviors.disabled)),\n",
    "        Button(\"99\", cls=combine_classes(join_item, btn)),\n",
    "        Button(\"100\", cls=combine_classes(join_item, btn)),\n",
    "        cls=str(join)\n",
    "    )\n",
    "    \n",
    "    # Verify structure\n",
    "    assert pagination_disabled.tag == \"div\"\n",
    "    assert pagination_disabled.attrs['class'] == \"join\"\n",
    "    assert len(pagination_disabled.children) == 5\n",
    "    \n",
    "    # First button\n",
    "    assert pagination_disabled.children[0].tag == \"button\"\n",
    "    assert \"join-item\" in pagination_disabled.children[0].attrs['class']\n",
    "    assert \"btn\" in pagination_disabled.children[0].attrs['class']\n",
    "    assert pagination_disabled.children[0].children[0] == \"1\"\n",
    "    \n",
    "    # Second button\n",
    "    assert pagination_disabled.children[1].tag == \"button\"\n",
    "    assert \"join-item\" in pagination_disabled.children[1].attrs['class']\n",
    "    assert \"btn\" in pagination_disabled.children[1].attrs['class']\n",
    "    assert pagination_disabled.children[1].children[0] == \"2\"\n",
    "    \n",
    "    # Disabled button (...)\n",
    "    disabled_button = pagination_disabled.children[2]\n",
    "    assert disabled_button.tag == \"button\"\n",
    "    assert \"join-item\" in disabled_button.attrs['class']\n",
    "    assert \"btn\" in disabled_button.attrs['class']\n",
    "    assert \"btn-disabled\" in disabled_button.attrs['class']\n",
    "    assert disabled_button.children[0] == \"...\"\n",
    "    \n",
    "    # 99 button\n",
    "    assert pagination_disabled.children[3].tag == \"button\"\n",
    "    assert \"join-item\" in pagination_disabled.children[3].attrs['class']\n",
    "    assert \"btn\" in pagination_disabled.children[3].attrs['class']\n",
    "    assert pagination_disabled.children[3].children[0] == \"99\"\n",
    "    \n",
    "    # 100 button\n",
    "    assert pagination_disabled.children[4].tag == \"button\"\n",
    "    assert \"join-item\" in pagination_disabled.children[4].attrs['class']\n",
    "    assert \"btn\" in pagination_disabled.children[4].attrs['class']\n",
    "    assert pagination_disabled.children[4].children[0] == \"100\"\n",
    "    \n",
    "    return pagination_disabled\n",
    "\n",
    "# Run the tests\n",
    "test_pagination_disabled_fasthtml_examples()"
   ]
  },
  {
   "cell_type": "code",
   "execution_count": null,
   "id": "c6u27uysiwd",
   "metadata": {},
   "outputs": [
    {
     "data": {
      "text/html": [
       "\n",
       "<script>\n",
       "document.body.addEventListener('htmx:configRequest', (event) => {\n",
       "    if(event.detail.path.includes('://')) return;\n",
       "    htmx.config.selfRequestsOnly=false;\n",
       "    event.detail.path = `${location.protocol}//${location.hostname}:8000${event.detail.path}`;\n",
       "});\n",
       "</script>"
      ],
      "text/plain": [
       "<IPython.core.display.HTML object>"
      ]
     },
     "metadata": {},
     "output_type": "display_data"
    },
    {
     "data": {
      "text/html": [
       "<iframe src=\"http://localhost:8000/\" style=\"width: 100%; height: auto; border: none;\" onload=\"{\n",
       "        let frame = this;\n",
       "        window.addEventListener('message', function(e) {\n",
       "            if (e.source !== frame.contentWindow) return; // Only proceed if the message is from this iframe\n",
       "            if (e.data.height) frame.style.height = (e.data.height+1) + 'px';\n",
       "        }, false);\n",
       "    }\" allow=\"accelerometer; autoplay; camera; clipboard-read; clipboard-write; display-capture; encrypted-media; fullscreen; gamepad; geolocation; gyroscope; hid; identity-credentials-get; idle-detection; magnetometer; microphone; midi; payment; picture-in-picture; publickey-credentials-get; screen-wake-lock; serial; usb; web-share; xr-spatial-tracking\"></iframe> "
      ],
      "text/plain": [
       "<IPython.core.display.HTML object>"
      ]
     },
     "metadata": {},
     "output_type": "display_data"
    }
   ],
   "source": [
    "#| eval: false\n",
    "#| output: false\n",
    "test_func = test_pagination_disabled_fasthtml_examples\n",
    "app, rt = create_test_app(theme=DaisyUITheme.LIGHT)\n",
    "\n",
    "@rt\n",
    "def index():\n",
    "    return create_test_page(test_func.__doc__.title().replace('.', ''), test_func())\n",
    "server = start_test_server(app)\n",
    "display(HTMX())\n",
    "server.stop()"
   ]
  },
  {
   "cell_type": "code",
   "execution_count": null,
   "id": "85d72161-e718-4c66-bc59-a3569b7f7616",
   "metadata": {},
   "outputs": [
    {
     "data": {
      "text/markdown": [
       "```html\n",
       "<div class=\"join\">\n",
       "<button class=\"join-item btn\">«</button><button class=\"join-item btn\">Page 22</button><button class=\"join-item btn\">»</button></div>\n",
       "\n",
       "```"
      ],
      "text/plain": [
       "div((button(('«',),{'class': 'join-item btn'}), button(('Page 22',),{'class': 'join-item btn'}), button(('»',),{'class': 'join-item btn'})),{'class': 'join'})"
      ]
     },
     "execution_count": null,
     "metadata": {},
     "output_type": "execute_result"
    }
   ],
   "source": [
    "#|exports\n",
    "def test_pagination_extra_small_fasthtml_examples():\n",
    "    \"\"\"Test extra small buttons pagination from daisyUI v5 documentation.\"\"\"\n",
    "    from fasthtml.common import Div, Button\n",
    "    from cjm_fasthtml_tailwind.core.base import combine_classes\n",
    "    from cjm_fasthtml_daisyui.components.actions.button import btn\n",
    "    \n",
    "    # Extra small buttons pagination with text\n",
    "    pagination_extra_small = Div(\n",
    "        Button(\"«\", cls=combine_classes(join_item, btn)),\n",
    "        Button(\"Page 22\", cls=combine_classes(join_item, btn)),\n",
    "        Button(\"»\", cls=combine_classes(join_item, btn)),\n",
    "        cls=str(join)\n",
    "    )\n",
    "    \n",
    "    # Verify structure\n",
    "    assert pagination_extra_small.tag == \"div\"\n",
    "    assert pagination_extra_small.attrs['class'] == \"join\"\n",
    "    assert len(pagination_extra_small.children) == 3\n",
    "    \n",
    "    # Previous button («)\n",
    "    prev_button = pagination_extra_small.children[0]\n",
    "    assert prev_button.tag == \"button\"\n",
    "    assert \"join-item\" in prev_button.attrs['class']\n",
    "    assert \"btn\" in prev_button.attrs['class']\n",
    "    assert prev_button.children[0] == \"«\"\n",
    "    \n",
    "    # Page button\n",
    "    page_button = pagination_extra_small.children[1]\n",
    "    assert page_button.tag == \"button\"\n",
    "    assert \"join-item\" in page_button.attrs['class']\n",
    "    assert \"btn\" in page_button.attrs['class']\n",
    "    assert page_button.children[0] == \"Page 22\"\n",
    "    \n",
    "    # Next button (»)\n",
    "    next_button = pagination_extra_small.children[2]\n",
    "    assert next_button.tag == \"button\"\n",
    "    assert \"join-item\" in next_button.attrs['class']\n",
    "    assert \"btn\" in next_button.attrs['class']\n",
    "    assert next_button.children[0] == \"»\"\n",
    "    \n",
    "    return pagination_extra_small\n",
    "\n",
    "# Run the tests\n",
    "test_pagination_extra_small_fasthtml_examples()"
   ]
  },
  {
   "cell_type": "code",
   "execution_count": null,
   "id": "h7eriiuglne",
   "metadata": {},
   "outputs": [
    {
     "data": {
      "text/html": [
       "\n",
       "<script>\n",
       "document.body.addEventListener('htmx:configRequest', (event) => {\n",
       "    if(event.detail.path.includes('://')) return;\n",
       "    htmx.config.selfRequestsOnly=false;\n",
       "    event.detail.path = `${location.protocol}//${location.hostname}:8000${event.detail.path}`;\n",
       "});\n",
       "</script>"
      ],
      "text/plain": [
       "<IPython.core.display.HTML object>"
      ]
     },
     "metadata": {},
     "output_type": "display_data"
    },
    {
     "data": {
      "text/html": [
       "<iframe src=\"http://localhost:8000/\" style=\"width: 100%; height: auto; border: none;\" onload=\"{\n",
       "        let frame = this;\n",
       "        window.addEventListener('message', function(e) {\n",
       "            if (e.source !== frame.contentWindow) return; // Only proceed if the message is from this iframe\n",
       "            if (e.data.height) frame.style.height = (e.data.height+1) + 'px';\n",
       "        }, false);\n",
       "    }\" allow=\"accelerometer; autoplay; camera; clipboard-read; clipboard-write; display-capture; encrypted-media; fullscreen; gamepad; geolocation; gyroscope; hid; identity-credentials-get; idle-detection; magnetometer; microphone; midi; payment; picture-in-picture; publickey-credentials-get; screen-wake-lock; serial; usb; web-share; xr-spatial-tracking\"></iframe> "
      ],
      "text/plain": [
       "<IPython.core.display.HTML object>"
      ]
     },
     "metadata": {},
     "output_type": "display_data"
    }
   ],
   "source": [
    "#| eval: false\n",
    "#| output: false\n",
    "test_func = test_pagination_extra_small_fasthtml_examples\n",
    "app, rt = create_test_app(theme=DaisyUITheme.LIGHT)\n",
    "\n",
    "@rt\n",
    "def index():\n",
    "    return create_test_page(test_func.__doc__.title().replace('.', ''), test_func())\n",
    "server = start_test_server(app)\n",
    "display(HTMX())\n",
    "server.stop()"
   ]
  },
  {
   "cell_type": "code",
   "execution_count": null,
   "id": "214654cc-9758-48f9-92e2-0892029c4512",
   "metadata": {},
   "outputs": [
    {
     "data": {
      "text/markdown": [
       "```html\n",
       "<div class=\"join grid grid-cols-2\">\n",
       "<button class=\"join-item btn btn-outline\">Previous page</button><button class=\"join-item btn btn-outline\">Next</button></div>\n",
       "\n",
       "```"
      ],
      "text/plain": [
       "div((button(('Previous page',),{'class': 'join-item btn btn-outline'}), button(('Next',),{'class': 'join-item btn btn-outline'})),{'class': 'join grid grid-cols-2'})"
      ]
     },
     "execution_count": null,
     "metadata": {},
     "output_type": "execute_result"
    }
   ],
   "source": [
    "#|exports\n",
    "def test_pagination_grid_fasthtml_examples():\n",
    "    \"\"\"Test next/prev outline buttons with equal width from daisyUI v5 documentation.\"\"\"\n",
    "    from fasthtml.common import Div, Button\n",
    "    from cjm_fasthtml_tailwind.core.base import combine_classes\n",
    "    from cjm_fasthtml_tailwind.utilities.flexbox_and_grid import grid_cols\n",
    "    from cjm_fasthtml_tailwind.utilities.layout import display_tw\n",
    "    from cjm_fasthtml_daisyui.components.actions.button import btn, btn_styles\n",
    "    \n",
    "    # Next/Prev outline buttons with equal width\n",
    "    pagination_grid = Div(\n",
    "        Button(\"Previous page\", cls=combine_classes(join_item, btn, btn_styles.outline)),\n",
    "        Button(\"Next\", cls=combine_classes(join_item, btn, btn_styles.outline)),\n",
    "        cls=combine_classes(join, display_tw.grid, grid_cols._2)\n",
    "    )\n",
    "    \n",
    "    # Verify structure\n",
    "    assert pagination_grid.tag == \"div\"\n",
    "    assert \"join\" in pagination_grid.attrs['class']\n",
    "    assert \"grid\" in pagination_grid.attrs['class']\n",
    "    assert \"grid-cols-2\" in pagination_grid.attrs['class']\n",
    "    assert len(pagination_grid.children) == 2\n",
    "    \n",
    "    # Previous page button\n",
    "    prev_button = pagination_grid.children[0]\n",
    "    assert prev_button.tag == \"button\"\n",
    "    assert \"join-item\" in prev_button.attrs['class']\n",
    "    assert \"btn\" in prev_button.attrs['class']\n",
    "    assert \"btn-outline\" in prev_button.attrs['class']\n",
    "    assert prev_button.children[0] == \"Previous page\"\n",
    "    \n",
    "    # Next button\n",
    "    next_button = pagination_grid.children[1]\n",
    "    assert next_button.tag == \"button\"\n",
    "    assert \"join-item\" in next_button.attrs['class']\n",
    "    assert \"btn\" in next_button.attrs['class']\n",
    "    assert \"btn-outline\" in next_button.attrs['class']\n",
    "    assert next_button.children[0] == \"Next\"\n",
    "    \n",
    "    return pagination_grid\n",
    "\n",
    "# Run the tests\n",
    "test_pagination_grid_fasthtml_examples()"
   ]
  },
  {
   "cell_type": "code",
   "execution_count": null,
   "id": "bqao5uv3ap",
   "metadata": {},
   "outputs": [
    {
     "data": {
      "text/html": [
       "\n",
       "<script>\n",
       "document.body.addEventListener('htmx:configRequest', (event) => {\n",
       "    if(event.detail.path.includes('://')) return;\n",
       "    htmx.config.selfRequestsOnly=false;\n",
       "    event.detail.path = `${location.protocol}//${location.hostname}:8000${event.detail.path}`;\n",
       "});\n",
       "</script>"
      ],
      "text/plain": [
       "<IPython.core.display.HTML object>"
      ]
     },
     "metadata": {},
     "output_type": "display_data"
    },
    {
     "data": {
      "text/html": [
       "<iframe src=\"http://localhost:8000/\" style=\"width: 100%; height: auto; border: none;\" onload=\"{\n",
       "        let frame = this;\n",
       "        window.addEventListener('message', function(e) {\n",
       "            if (e.source !== frame.contentWindow) return; // Only proceed if the message is from this iframe\n",
       "            if (e.data.height) frame.style.height = (e.data.height+1) + 'px';\n",
       "        }, false);\n",
       "    }\" allow=\"accelerometer; autoplay; camera; clipboard-read; clipboard-write; display-capture; encrypted-media; fullscreen; gamepad; geolocation; gyroscope; hid; identity-credentials-get; idle-detection; magnetometer; microphone; midi; payment; picture-in-picture; publickey-credentials-get; screen-wake-lock; serial; usb; web-share; xr-spatial-tracking\"></iframe> "
      ],
      "text/plain": [
       "<IPython.core.display.HTML object>"
      ]
     },
     "metadata": {},
     "output_type": "display_data"
    }
   ],
   "source": [
    "#| eval: false\n",
    "#| output: false\n",
    "test_func = test_pagination_grid_fasthtml_examples\n",
    "app, rt = create_test_app(theme=DaisyUITheme.LIGHT)\n",
    "\n",
    "@rt\n",
    "def index():\n",
    "    return create_test_page(test_func.__doc__.title().replace('.', ''), test_func())\n",
    "server = start_test_server(app)\n",
    "display(HTMX())\n",
    "server.stop()"
   ]
  },
  {
   "cell_type": "code",
   "execution_count": null,
   "id": "a9d78aa3-0be8-49e6-8bfb-cb9a232ee1ee",
   "metadata": {},
   "outputs": [
    {
     "data": {
      "text/markdown": [
       "```html\n",
       "<div class=\"join\">\n",
       "  <input type=\"radio\" name=\"options\" aria-label=\"1\" checked=\"checked\" class=\"join-item btn btn-square\">\n",
       "  <input type=\"radio\" name=\"options\" aria-label=\"2\" class=\"join-item btn btn-square\">\n",
       "  <input type=\"radio\" name=\"options\" aria-label=\"3\" class=\"join-item btn btn-square\">\n",
       "  <input type=\"radio\" name=\"options\" aria-label=\"4\" class=\"join-item btn btn-square\">\n",
       "</div>\n",
       "\n",
       "```"
      ],
      "text/plain": [
       "div((input((),{'type': 'radio', 'name': 'options', 'aria-label': '1', 'checked': 'checked', 'class': 'join-item btn btn-square'}), input((),{'type': 'radio', 'name': 'options', 'aria-label': '2', 'class': 'join-item btn btn-square'}), input((),{'type': 'radio', 'name': 'options', 'aria-label': '3', 'class': 'join-item btn btn-square'}), input((),{'type': 'radio', 'name': 'options', 'aria-label': '4', 'class': 'join-item btn btn-square'})),{'class': 'join'})"
      ]
     },
     "execution_count": null,
     "metadata": {},
     "output_type": "execute_result"
    }
   ],
   "source": [
    "#|exports\n",
    "def test_pagination_radio_fasthtml_examples():\n",
    "    \"\"\"Test pagination using radio inputs from daisyUI v5 documentation.\"\"\"\n",
    "    from fasthtml.common import Div, Input\n",
    "    from cjm_fasthtml_tailwind.core.base import combine_classes\n",
    "    from cjm_fasthtml_daisyui.components.actions.button import btn, btn_modifiers\n",
    "    \n",
    "    # Pagination using radio inputs\n",
    "    pagination_radio = Div(\n",
    "        Input(\n",
    "            type=\"radio\",\n",
    "            name=\"options\",\n",
    "            aria_label=\"1\",\n",
    "            checked=\"checked\",\n",
    "            cls=combine_classes(join_item, btn, btn_modifiers.square)\n",
    "        ),\n",
    "        Input(\n",
    "            type=\"radio\",\n",
    "            name=\"options\",\n",
    "            aria_label=\"2\",\n",
    "            cls=combine_classes(join_item, btn, btn_modifiers.square)\n",
    "        ),\n",
    "        Input(\n",
    "            type=\"radio\",\n",
    "            name=\"options\",\n",
    "            aria_label=\"3\",\n",
    "            cls=combine_classes(join_item, btn, btn_modifiers.square)\n",
    "        ),\n",
    "        Input(\n",
    "            type=\"radio\",\n",
    "            name=\"options\",\n",
    "            aria_label=\"4\",\n",
    "            cls=combine_classes(join_item, btn, btn_modifiers.square)\n",
    "        ),\n",
    "        cls=str(join)\n",
    "    )\n",
    "    \n",
    "    # Verify structure\n",
    "    assert pagination_radio.tag == \"div\"\n",
    "    assert pagination_radio.attrs['class'] == \"join\"\n",
    "    assert len(pagination_radio.children) == 4\n",
    "    \n",
    "    # First radio input (checked)\n",
    "    first_radio = pagination_radio.children[0]\n",
    "    assert first_radio.tag == \"input\"\n",
    "    assert first_radio.attrs['type'] == \"radio\"\n",
    "    assert first_radio.attrs['name'] == \"options\"\n",
    "    assert first_radio.attrs['aria-label'] == \"1\"\n",
    "    assert first_radio.attrs['checked'] == \"checked\"\n",
    "    assert \"join-item\" in first_radio.attrs['class']\n",
    "    assert \"btn\" in first_radio.attrs['class']\n",
    "    assert \"btn-square\" in first_radio.attrs['class']\n",
    "    \n",
    "    # Second radio input\n",
    "    second_radio = pagination_radio.children[1]\n",
    "    assert second_radio.tag == \"input\"\n",
    "    assert second_radio.attrs['type'] == \"radio\"\n",
    "    assert second_radio.attrs['name'] == \"options\"\n",
    "    assert second_radio.attrs['aria-label'] == \"2\"\n",
    "    assert 'checked' not in second_radio.attrs\n",
    "    assert \"join-item\" in second_radio.attrs['class']\n",
    "    assert \"btn\" in second_radio.attrs['class']\n",
    "    assert \"btn-square\" in second_radio.attrs['class']\n",
    "    \n",
    "    # Third radio input\n",
    "    third_radio = pagination_radio.children[2]\n",
    "    assert third_radio.tag == \"input\"\n",
    "    assert third_radio.attrs['type'] == \"radio\"\n",
    "    assert third_radio.attrs['name'] == \"options\"\n",
    "    assert third_radio.attrs['aria-label'] == \"3\"\n",
    "    assert 'checked' not in third_radio.attrs\n",
    "    assert \"join-item\" in third_radio.attrs['class']\n",
    "    assert \"btn\" in third_radio.attrs['class']\n",
    "    assert \"btn-square\" in third_radio.attrs['class']\n",
    "    \n",
    "    # Fourth radio input\n",
    "    fourth_radio = pagination_radio.children[3]\n",
    "    assert fourth_radio.tag == \"input\"\n",
    "    assert fourth_radio.attrs['type'] == \"radio\"\n",
    "    assert fourth_radio.attrs['name'] == \"options\"\n",
    "    assert fourth_radio.attrs['aria-label'] == \"4\"\n",
    "    assert 'checked' not in fourth_radio.attrs\n",
    "    assert \"join-item\" in fourth_radio.attrs['class']\n",
    "    assert \"btn\" in fourth_radio.attrs['class']\n",
    "    assert \"btn-square\" in fourth_radio.attrs['class']\n",
    "    \n",
    "    return pagination_radio\n",
    "\n",
    "# Run the tests\n",
    "test_pagination_radio_fasthtml_examples()"
   ]
  },
  {
   "cell_type": "code",
   "execution_count": null,
   "id": "l6w8tyl4c6m",
   "metadata": {},
   "outputs": [
    {
     "data": {
      "text/html": [
       "\n",
       "<script>\n",
       "document.body.addEventListener('htmx:configRequest', (event) => {\n",
       "    if(event.detail.path.includes('://')) return;\n",
       "    htmx.config.selfRequestsOnly=false;\n",
       "    event.detail.path = `${location.protocol}//${location.hostname}:8000${event.detail.path}`;\n",
       "});\n",
       "</script>"
      ],
      "text/plain": [
       "<IPython.core.display.HTML object>"
      ]
     },
     "metadata": {},
     "output_type": "display_data"
    },
    {
     "data": {
      "text/html": [
       "<iframe src=\"http://localhost:8000/\" style=\"width: 100%; height: auto; border: none;\" onload=\"{\n",
       "        let frame = this;\n",
       "        window.addEventListener('message', function(e) {\n",
       "            if (e.source !== frame.contentWindow) return; // Only proceed if the message is from this iframe\n",
       "            if (e.data.height) frame.style.height = (e.data.height+1) + 'px';\n",
       "        }, false);\n",
       "    }\" allow=\"accelerometer; autoplay; camera; clipboard-read; clipboard-write; display-capture; encrypted-media; fullscreen; gamepad; geolocation; gyroscope; hid; identity-credentials-get; idle-detection; magnetometer; microphone; midi; payment; picture-in-picture; publickey-credentials-get; screen-wake-lock; serial; usb; web-share; xr-spatial-tracking\"></iframe> "
      ],
      "text/plain": [
       "<IPython.core.display.HTML object>"
      ]
     },
     "metadata": {},
     "output_type": "display_data"
    }
   ],
   "source": [
    "#| eval: false\n",
    "#| output: false\n",
    "test_func = test_pagination_radio_fasthtml_examples\n",
    "app, rt = create_test_app(theme=DaisyUITheme.LIGHT)\n",
    "\n",
    "@rt\n",
    "def index():\n",
    "    return create_test_page(test_func.__doc__.title().replace('.', ''), test_func())\n",
    "server = start_test_server(app)\n",
    "display(HTMX())\n",
    "server.stop()"
   ]
  },
  {
   "cell_type": "code",
   "execution_count": null,
   "id": "01785a18-9bb0-4dbc-9eae-04addf6dede9",
   "metadata": {},
   "outputs": [],
   "source": []
  },
  {
   "cell_type": "code",
   "execution_count": null,
   "id": "43a3d5aa-4f07-48f4-b7c3-5c63612f0fb2",
   "metadata": {},
   "outputs": [],
   "source": []
  },
  {
   "cell_type": "code",
   "execution_count": null,
   "id": "248adc40-6e77-4203-9830-de838e25a00a",
   "metadata": {},
   "outputs": [],
   "source": []
  },
  {
   "cell_type": "code",
   "execution_count": null,
   "id": "a2029d6d-bf22-4e16-87e1-d609762dc867",
   "metadata": {},
   "outputs": [],
   "source": []
  },
  {
   "cell_type": "code",
   "execution_count": null,
   "id": "c9dfaad9-504c-4853-886b-2d1adb1cc3a0",
   "metadata": {},
   "outputs": [],
   "source": []
  },
  {
   "cell_type": "code",
   "execution_count": null,
   "id": "7ab8257a-c30b-45b6-a784-729b67686791",
   "metadata": {},
   "outputs": [],
   "source": [
    "#| hide\n",
    "import nbdev; nbdev.nbdev_export()"
   ]
  }
 ],
 "metadata": {
  "kernelspec": {
   "display_name": "python3",
   "language": "python",
   "name": "python3"
  }
 },
 "nbformat": 4,
 "nbformat_minor": 5
}
