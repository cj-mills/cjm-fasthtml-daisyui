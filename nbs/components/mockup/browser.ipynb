{
 "cells": [
  {
   "cell_type": "markdown",
   "id": "7c51b46b-ece1-456d-8e84-7de122e72b62",
   "metadata": {},
   "source": [
    "# browser mockup\n",
    "\n",
    "> Browser mockup shows a box that looks like a browser window."
   ]
  },
  {
   "cell_type": "code",
   "execution_count": null,
   "id": "25536bdc-e099-477f-9e2d-a5f71df5dff2",
   "metadata": {},
   "outputs": [],
   "source": [
    "#| default_exp components.mockup.browser"
   ]
  },
  {
   "cell_type": "code",
   "execution_count": null,
   "id": "2e6f21ce-7766-455a-8ebb-df2c17e7d977",
   "metadata": {},
   "outputs": [],
   "source": [
    "#| hide\n",
    "from nbdev.showdoc import *"
   ]
  },
  {
   "cell_type": "code",
   "execution_count": null,
   "id": "045c6538-403e-4222-b3bb-db20f188524d",
   "metadata": {},
   "outputs": [],
   "source": [
    "#| export\n",
    "\n",
    "from cjm_fasthtml_tailwind.core.base import (\n",
    "    SingleValueFactory, combine_classes\n",
    ")\n",
    "\n",
    "from fasthtml.common import Div\n",
    "from fasthtml.jupyter import JupyUvi, HTMX\n",
    "from cjm_fasthtml_daisyui.core.testing import create_test_app, create_test_page, start_test_server\n",
    "from cjm_fasthtml_daisyui.core.themes import DaisyUITheme\n",
    "from IPython.display import display"
   ]
  },
  {
   "cell_type": "markdown",
   "id": "5ff8cb13-c3fe-40a2-88c8-7c1dec57b9b1",
   "metadata": {},
   "source": [
    "### Base Browser Mockup"
   ]
  },
  {
   "cell_type": "code",
   "execution_count": null,
   "id": "c802d106-49fb-4d34-ba04-5f54c88e165b",
   "metadata": {},
   "outputs": [],
   "source": [
    "#| exports\n",
    "mockup_browser = SingleValueFactory(\"mockup-browser\", \"Base browser mockup component\") # Base mockup browser component\n",
    "mockup_browser_toolbar = SingleValueFactory(\"mockup-browser-toolbar\", \"Toolbar part which can include addressbar, etc\") # Base mockup browser toolbar part"
   ]
  },
  {
   "cell_type": "markdown",
   "id": "5a916d20-d558-433c-aeca-e46e7d793882",
   "metadata": {},
   "source": [
    "### Browser Mockup Test Examples"
   ]
  },
  {
   "cell_type": "code",
   "execution_count": null,
   "id": "636c6bcd-2176-4191-aa39-c937893243e2",
   "metadata": {},
   "outputs": [],
   "source": [
    "#|exports\n",
    "def test_mockup_browser_basic_examples():\n",
    "    \"\"\"Test basic mockup_browser utilities.\"\"\"\n",
    "    # Basic mockup_browser\n",
    "    assert str(mockup_browser) == \"mockup-browser\"\n",
    "    assert str(mockup_browser_toolbar) == \"mockup-browser-toolbar\"\n",
    "    \n",
    "    # Test with modifiers\n",
    "    assert str(mockup_browser.hover) == \"hover:mockup-browser\"\n",
    "    assert str(mockup_browser.md) == \"md:mockup-browser\"\n",
    "    assert str(mockup_browser.dark) == \"dark:mockup-browser\"\n",
    "\n",
    "# Run the tests\n",
    "test_mockup_browser_basic_examples()"
   ]
  },
  {
   "cell_type": "code",
   "execution_count": null,
   "id": "ad2d932c-79ea-4792-bdaf-5bda859340ca",
   "metadata": {},
   "outputs": [
    {
     "data": {
      "text/markdown": [
       "```html\n",
       "<div class=\"mockup-browser border-base-300 border w-full\">\n",
       "  <div class=\"mockup-browser-toolbar\">\n",
       "    <div class=\"input\">https://daisyui.com</div>\n",
       "  </div>\n",
       "  <div class=\"grid place-content-center border-t border-base-300 h-80\">Hello!</div>\n",
       "</div>\n",
       "\n",
       "```"
      ],
      "text/plain": [
       "div((div((div(('https://daisyui.com',),{'class': 'input'}),),{'class': 'mockup-browser-toolbar'}), div(('Hello!',),{'class': 'grid place-content-center border-t border-base-300 h-80'})),{'class': 'mockup-browser border-base-300 border w-full'})"
      ]
     },
     "execution_count": null,
     "metadata": {},
     "output_type": "execute_result"
    }
   ],
   "source": [
    "#|exports\n",
    "def test_browser_mockup_with_border_fasthtml_examples():\n",
    "    \"\"\"Test browser mockup with border from daisyUI v5 documentation.\"\"\"\n",
    "    from fasthtml.common import Div\n",
    "    from cjm_fasthtml_tailwind.utilities.sizing import w, h\n",
    "    from cjm_fasthtml_tailwind.utilities.borders import border\n",
    "    from cjm_fasthtml_tailwind.utilities.layout import display_tw\n",
    "    from cjm_fasthtml_tailwind.utilities.flexbox_and_grid import place_content, grid_display\n",
    "    from cjm_fasthtml_daisyui.components.data_input.text_input import text_input\n",
    "    from cjm_fasthtml_daisyui.core.utility_classes import border_dui\n",
    "    \n",
    "    # Browser mockup with border\n",
    "    browser_with_border = Div(\n",
    "        Div(\n",
    "            Div(\"https://daisyui.com\", cls=str(text_input)),\n",
    "            cls=str(mockup_browser_toolbar)\n",
    "        ),\n",
    "        Div(\n",
    "            \"Hello!\",\n",
    "            cls=combine_classes(grid_display, place_content.center, border.t(), border_dui.base_300, h._80)\n",
    "        ),\n",
    "        cls=combine_classes(mockup_browser, border_dui.base_300, border(), w.full)\n",
    "    )\n",
    "    \n",
    "    # Verify structure\n",
    "    assert browser_with_border.tag == \"div\"\n",
    "    assert \"mockup-browser\" in browser_with_border.attrs['class']\n",
    "    assert \"border-base-300\" in browser_with_border.attrs['class']\n",
    "    assert \"border\" in browser_with_border.attrs['class']\n",
    "    assert \"w-full\" in browser_with_border.attrs['class']\n",
    "    \n",
    "    # Verify toolbar\n",
    "    toolbar = browser_with_border.children[0]\n",
    "    assert toolbar.tag == \"div\"\n",
    "    assert toolbar.attrs['class'] == \"mockup-browser-toolbar\"\n",
    "    \n",
    "    # Verify address bar (input div)\n",
    "    address_bar = toolbar.children[0]\n",
    "    assert address_bar.tag == \"div\"\n",
    "    assert address_bar.attrs['class'] == \"input\"\n",
    "    assert address_bar.children[0] == \"https://daisyui.com\"\n",
    "    \n",
    "    # Verify content area\n",
    "    content = browser_with_border.children[1]\n",
    "    assert content.tag == \"div\"\n",
    "    assert \"grid\" in content.attrs['class']\n",
    "    assert \"place-content-center\" in content.attrs['class']\n",
    "    assert \"border-t\" in content.attrs['class']\n",
    "    assert \"border-base-300\" in content.attrs['class']\n",
    "    assert \"h-80\" in content.attrs['class']\n",
    "    assert content.children[0] == \"Hello!\"\n",
    "    \n",
    "    return browser_with_border\n",
    "\n",
    "# Run the tests\n",
    "test_browser_mockup_with_border_fasthtml_examples()"
   ]
  },
  {
   "cell_type": "code",
   "execution_count": null,
   "id": "8a0c00d1-a134-400a-a43d-ce92198ba0d4",
   "metadata": {},
   "outputs": [
    {
     "data": {
      "text/html": [
       "\n",
       "<script>\n",
       "document.body.addEventListener('htmx:configRequest', (event) => {\n",
       "    if(event.detail.path.includes('://')) return;\n",
       "    htmx.config.selfRequestsOnly=false;\n",
       "    event.detail.path = `${location.protocol}//${location.hostname}:8000${event.detail.path}`;\n",
       "});\n",
       "</script>"
      ],
      "text/plain": [
       "<IPython.core.display.HTML object>"
      ]
     },
     "metadata": {},
     "output_type": "display_data"
    },
    {
     "data": {
      "text/html": [
       "<iframe src=\"http://localhost:8000/\" style=\"width: 100%; height: auto; border: none;\" onload=\"{\n",
       "        let frame = this;\n",
       "        window.addEventListener('message', function(e) {\n",
       "            if (e.source !== frame.contentWindow) return; // Only proceed if the message is from this iframe\n",
       "            if (e.data.height) frame.style.height = (e.data.height+1) + 'px';\n",
       "        }, false);\n",
       "    }\" allow=\"accelerometer; autoplay; camera; clipboard-read; clipboard-write; display-capture; encrypted-media; fullscreen; gamepad; geolocation; gyroscope; hid; identity-credentials-get; idle-detection; magnetometer; microphone; midi; payment; picture-in-picture; publickey-credentials-get; screen-wake-lock; serial; usb; web-share; xr-spatial-tracking\"></iframe> "
      ],
      "text/plain": [
       "<IPython.core.display.HTML object>"
      ]
     },
     "metadata": {},
     "output_type": "display_data"
    }
   ],
   "source": [
    "#| eval: false\n",
    "#| output: false\n",
    "test_func = test_browser_mockup_with_border_fasthtml_examples\n",
    "app, rt = create_test_app(theme=DaisyUITheme.LIGHT)\n",
    "\n",
    "@rt\n",
    "def index():\n",
    "    return create_test_page(test_func.__doc__.title().replace('.', ''), test_func())\n",
    "server = start_test_server(app)\n",
    "display(HTMX())\n",
    "server.stop()"
   ]
  },
  {
   "cell_type": "code",
   "execution_count": null,
   "id": "c09bffbc-a96f-46ec-9a12-cb8c5411862d",
   "metadata": {},
   "outputs": [
    {
     "data": {
      "text/markdown": [
       "```html\n",
       "<div class=\"mockup-browser border border-base-300 w-full\">\n",
       "  <div class=\"mockup-browser-toolbar\">\n",
       "    <div class=\"input\">https://daisyui.com</div>\n",
       "  </div>\n",
       "  <div class=\"grid place-content-center h-80\">Hello!</div>\n",
       "</div>\n",
       "\n",
       "```"
      ],
      "text/plain": [
       "div((div((div(('https://daisyui.com',),{'class': 'input'}),),{'class': 'mockup-browser-toolbar'}), div(('Hello!',),{'class': 'grid place-content-center h-80'})),{'class': 'mockup-browser border border-base-300 w-full'})"
      ]
     },
     "execution_count": null,
     "metadata": {},
     "output_type": "execute_result"
    }
   ],
   "source": [
    "#|exports\n",
    "def test_browser_mockup_with_background_fasthtml_examples():\n",
    "    \"\"\"Test browser mockup with background color from daisyUI v5 documentation.\"\"\"\n",
    "    from fasthtml.common import Div\n",
    "    from cjm_fasthtml_tailwind.utilities.sizing import w, h\n",
    "    from cjm_fasthtml_tailwind.utilities.borders import border\n",
    "    from cjm_fasthtml_tailwind.utilities.layout import display_tw\n",
    "    from cjm_fasthtml_tailwind.utilities.flexbox_and_grid import place_content, grid_display\n",
    "    from cjm_fasthtml_daisyui.components.data_input.text_input import text_input\n",
    "    from cjm_fasthtml_daisyui.core.utility_classes import border_dui\n",
    "    \n",
    "    # Browser mockup with background color (no border-t on content)\n",
    "    browser_with_background = Div(\n",
    "        Div(\n",
    "            Div(\"https://daisyui.com\", cls=str(text_input)),\n",
    "            cls=str(mockup_browser_toolbar)\n",
    "        ),\n",
    "        Div(\n",
    "            \"Hello!\",\n",
    "            cls=combine_classes(grid_display, place_content.center, h._80)\n",
    "        ),\n",
    "        cls=combine_classes(mockup_browser, border(), border_dui.base_300, w.full)\n",
    "    )\n",
    "    \n",
    "    # Verify structure\n",
    "    assert browser_with_background.tag == \"div\"\n",
    "    assert \"mockup-browser\" in browser_with_background.attrs['class']\n",
    "    assert \"border\" in browser_with_background.attrs['class']\n",
    "    assert \"border-base-300\" in browser_with_background.attrs['class']\n",
    "    assert \"w-full\" in browser_with_background.attrs['class']\n",
    "    \n",
    "    # Verify toolbar\n",
    "    toolbar = browser_with_background.children[0]\n",
    "    assert toolbar.tag == \"div\"\n",
    "    assert toolbar.attrs['class'] == \"mockup-browser-toolbar\"\n",
    "    \n",
    "    # Verify address bar (input div)\n",
    "    address_bar = toolbar.children[0]\n",
    "    assert address_bar.tag == \"div\"\n",
    "    assert address_bar.attrs['class'] == \"input\"\n",
    "    assert address_bar.children[0] == \"https://daisyui.com\"\n",
    "    \n",
    "    # Verify content area (no border-t)\n",
    "    content = browser_with_background.children[1]\n",
    "    assert content.tag == \"div\"\n",
    "    assert \"grid\" in content.attrs['class']\n",
    "    assert \"place-content-center\" in content.attrs['class']\n",
    "    assert \"h-80\" in content.attrs['class']\n",
    "    assert \"border-t\" not in content.attrs['class']  # Key difference - no border-t\n",
    "    assert content.children[0] == \"Hello!\"\n",
    "    \n",
    "    return browser_with_background\n",
    "\n",
    "# Run the tests\n",
    "test_browser_mockup_with_background_fasthtml_examples()"
   ]
  },
  {
   "cell_type": "code",
   "execution_count": null,
   "id": "750ab2b5-9768-4ada-bf06-11ea78f478aa",
   "metadata": {},
   "outputs": [
    {
     "data": {
      "text/html": [
       "\n",
       "<script>\n",
       "document.body.addEventListener('htmx:configRequest', (event) => {\n",
       "    if(event.detail.path.includes('://')) return;\n",
       "    htmx.config.selfRequestsOnly=false;\n",
       "    event.detail.path = `${location.protocol}//${location.hostname}:8000${event.detail.path}`;\n",
       "});\n",
       "</script>"
      ],
      "text/plain": [
       "<IPython.core.display.HTML object>"
      ]
     },
     "metadata": {},
     "output_type": "display_data"
    },
    {
     "data": {
      "text/html": [
       "<iframe src=\"http://localhost:8000/\" style=\"width: 100%; height: auto; border: none;\" onload=\"{\n",
       "        let frame = this;\n",
       "        window.addEventListener('message', function(e) {\n",
       "            if (e.source !== frame.contentWindow) return; // Only proceed if the message is from this iframe\n",
       "            if (e.data.height) frame.style.height = (e.data.height+1) + 'px';\n",
       "        }, false);\n",
       "    }\" allow=\"accelerometer; autoplay; camera; clipboard-read; clipboard-write; display-capture; encrypted-media; fullscreen; gamepad; geolocation; gyroscope; hid; identity-credentials-get; idle-detection; magnetometer; microphone; midi; payment; picture-in-picture; publickey-credentials-get; screen-wake-lock; serial; usb; web-share; xr-spatial-tracking\"></iframe> "
      ],
      "text/plain": [
       "<IPython.core.display.HTML object>"
      ]
     },
     "metadata": {},
     "output_type": "display_data"
    }
   ],
   "source": [
    "#| eval: false\n",
    "#| output: false\n",
    "test_func = test_browser_mockup_with_background_fasthtml_examples\n",
    "app, rt = create_test_app(theme=DaisyUITheme.LIGHT)\n",
    "\n",
    "@rt\n",
    "def index():\n",
    "    return create_test_page(test_func.__doc__.title().replace('.', ''), test_func())\n",
    "server = start_test_server(app)\n",
    "display(HTMX())\n",
    "server.stop()"
   ]
  },
  {
   "cell_type": "code",
   "execution_count": null,
   "id": "92fb9241-812e-4920-8860-5db6ea0712f7",
   "metadata": {},
   "outputs": [],
   "source": []
  },
  {
   "cell_type": "code",
   "execution_count": null,
   "id": "4e32390f-8421-4a27-b0c1-a48ce1729569",
   "metadata": {},
   "outputs": [],
   "source": []
  },
  {
   "cell_type": "code",
   "execution_count": null,
   "id": "3035ff66-e4e7-410c-8b1e-86a879f66112",
   "metadata": {},
   "outputs": [],
   "source": []
  },
  {
   "cell_type": "code",
   "execution_count": null,
   "id": "4666a5a3-26bb-4d91-b5be-f941df8f9d2f",
   "metadata": {},
   "outputs": [],
   "source": []
  },
  {
   "cell_type": "code",
   "execution_count": null,
   "id": "d471d21b-6fe5-4c63-90be-5176c4cbd08b",
   "metadata": {},
   "outputs": [],
   "source": []
  },
  {
   "cell_type": "code",
   "execution_count": null,
   "id": "73b88b7e-0be6-4a82-9c02-f3df8af20015",
   "metadata": {},
   "outputs": [],
   "source": []
  },
  {
   "cell_type": "code",
   "execution_count": null,
   "id": "7ab8257a-c30b-45b6-a784-729b67686791",
   "metadata": {},
   "outputs": [],
   "source": [
    "#| hide\n",
    "import nbdev; nbdev.nbdev_export()"
   ]
  }
 ],
 "metadata": {
  "kernelspec": {
   "display_name": "python3",
   "language": "python",
   "name": "python3"
  }
 },
 "nbformat": 4,
 "nbformat_minor": 5
}
