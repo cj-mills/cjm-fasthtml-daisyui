{
 "cells": [
  {
   "cell_type": "raw",
   "id": "c9affe27-9de3-4b85-b646-a91306c66a58",
   "metadata": {},
   "source": [
    "# window mockup\n",
    "\n",
    "> Window mockup shows a box that looks like an operating system window."
   ]
  },
  {
   "cell_type": "code",
   "execution_count": null,
   "id": "25536bdc-e099-477f-9e2d-a5f71df5dff2",
   "metadata": {},
   "outputs": [],
   "source": [
    "#| default_exp components.mockup.window"
   ]
  },
  {
   "cell_type": "code",
   "execution_count": null,
   "id": "2e6f21ce-7766-455a-8ebb-df2c17e7d977",
   "metadata": {},
   "outputs": [],
   "source": [
    "#| hide\n",
    "from nbdev.showdoc import *"
   ]
  },
  {
   "cell_type": "code",
   "execution_count": null,
   "id": "045c6538-403e-4222-b3bb-db20f188524d",
   "metadata": {},
   "outputs": [],
   "source": [
    "#| export\n",
    "\n",
    "from cjm_fasthtml_tailwind.core.base import (\n",
    "    SingleValueFactory, combine_classes\n",
    ")\n",
    "\n",
    "from fasthtml.common import Div\n",
    "from fasthtml.jupyter import JupyUvi, HTMX\n",
    "from cjm_fasthtml_daisyui.core.testing import create_test_app, create_test_page, start_test_server\n",
    "from cjm_fasthtml_daisyui.core.themes import DaisyUITheme\n",
    "from IPython.display import display"
   ]
  },
  {
   "cell_type": "markdown",
   "id": "c27822e7-8013-4690-8de8-73d047d85911",
   "metadata": {},
   "source": [
    "### Base Window Mockup"
   ]
  },
  {
   "cell_type": "code",
   "execution_count": null,
   "id": "c802d106-49fb-4d34-ba04-5f54c88e165b",
   "metadata": {},
   "outputs": [],
   "source": [
    "#| exports\n",
    "mockup_window = SingleValueFactory(\"mockup-window\", \"Base OS window mockup\") # Base mockup window component"
   ]
  },
  {
   "cell_type": "markdown",
   "id": "0d47351e-d1d3-47b2-8906-88867851f27c",
   "metadata": {},
   "source": [
    "### Window Mockup Test Examples"
   ]
  },
  {
   "cell_type": "code",
   "execution_count": null,
   "id": "636c6bcd-2176-4191-aa39-c937893243e2",
   "metadata": {},
   "outputs": [],
   "source": [
    "#|exports\n",
    "def test_mockup_window_basic_examples():\n",
    "    \"\"\"Test basic mockup_window utilities.\"\"\"\n",
    "    # Basic mockup_window\n",
    "    assert str(mockup_window) == \"mockup-window\"\n",
    "    \n",
    "    # Test with modifiers\n",
    "    assert str(mockup_window.hover) == \"hover:mockup-window\"\n",
    "    assert str(mockup_window.md) == \"md:mockup-window\"\n",
    "    assert str(mockup_window.dark) == \"dark:mockup-window\"\n",
    "\n",
    "# Run the tests\n",
    "test_mockup_window_basic_examples()"
   ]
  },
  {
   "cell_type": "code",
   "execution_count": null,
   "id": "ad2d932c-79ea-4792-bdaf-5bda859340ca",
   "metadata": {},
   "outputs": [
    {
     "data": {
      "text/markdown": [
       "```html\n",
       "<div class=\"mockup-window border border-base-300 w-full\">\n",
       "  <div class=\"grid place-content-center border-t border-base-300 h-80\">Hello!</div>\n",
       "</div>\n",
       "\n",
       "```"
      ],
      "text/plain": [
       "div((div(('Hello!',),{'class': 'grid place-content-center border-t border-base-300 h-80'}),),{'class': 'mockup-window border border-base-300 w-full'})"
      ]
     },
     "execution_count": null,
     "metadata": {},
     "output_type": "execute_result"
    }
   ],
   "source": [
    "#|exports\n",
    "def test_window_mockup_with_border_fasthtml_examples():\n",
    "    \"\"\"Test window mockup with border from daisyUI v5 documentation.\"\"\"\n",
    "    from fasthtml.common import Div\n",
    "    from cjm_fasthtml_tailwind.utilities.borders import border\n",
    "    from cjm_fasthtml_tailwind.utilities.sizing import w, h\n",
    "    from cjm_fasthtml_tailwind.utilities.layout import display_tw\n",
    "    from cjm_fasthtml_tailwind.utilities.flexbox_and_grid import place_content, grid_display\n",
    "    from cjm_fasthtml_daisyui.core.utility_classes import border_dui\n",
    "    \n",
    "    # Window mockup with border\n",
    "    window_with_border = Div(\n",
    "        Div(\n",
    "            \"Hello!\",\n",
    "            cls=combine_classes(\n",
    "                grid_display, \n",
    "                place_content.center, \n",
    "                border.t(), \n",
    "                border_dui.base_300, \n",
    "                h._80\n",
    "            )\n",
    "        ),\n",
    "        cls=combine_classes(mockup_window, border(), border_dui.base_300, w.full)\n",
    "    )\n",
    "    \n",
    "    # Verify structure\n",
    "    assert window_with_border.tag == \"div\"\n",
    "    assert \"mockup-window\" in window_with_border.attrs['class']\n",
    "    assert \"border\" in window_with_border.attrs['class']\n",
    "    assert \"border-base-300\" in window_with_border.attrs['class']\n",
    "    assert \"w-full\" in window_with_border.attrs['class']\n",
    "    \n",
    "    # Verify content div\n",
    "    content_div = window_with_border.children[0]\n",
    "    assert content_div.tag == \"div\"\n",
    "    assert \"grid\" in content_div.attrs['class']\n",
    "    assert \"place-content-center\" in content_div.attrs['class']\n",
    "    assert \"border-t\" in content_div.attrs['class']\n",
    "    assert \"border-base-300\" in content_div.attrs['class']\n",
    "    assert \"h-80\" in content_div.attrs['class']\n",
    "    assert content_div.children[0] == \"Hello!\"\n",
    "    \n",
    "    return window_with_border\n",
    "\n",
    "# Run the tests\n",
    "test_window_mockup_with_border_fasthtml_examples()"
   ]
  },
  {
   "cell_type": "code",
   "execution_count": null,
   "id": "3035ff66-e4e7-410c-8b1e-86a879f66112",
   "metadata": {},
   "outputs": [
    {
     "data": {
      "text/html": [
       "\n",
       "<script>\n",
       "document.body.addEventListener('htmx:configRequest', (event) => {\n",
       "    if(event.detail.path.includes('://')) return;\n",
       "    htmx.config.selfRequestsOnly=false;\n",
       "    event.detail.path = `${location.protocol}//${location.hostname}:8000${event.detail.path}`;\n",
       "});\n",
       "</script>"
      ],
      "text/plain": [
       "<IPython.core.display.HTML object>"
      ]
     },
     "metadata": {},
     "output_type": "display_data"
    },
    {
     "data": {
      "text/html": [
       "<iframe src=\"http://localhost:8000/\" style=\"width: 100%; height: auto; border: none;\" onload=\"{\n",
       "        let frame = this;\n",
       "        window.addEventListener('message', function(e) {\n",
       "            if (e.source !== frame.contentWindow) return; // Only proceed if the message is from this iframe\n",
       "            if (e.data.height) frame.style.height = (e.data.height+1) + 'px';\n",
       "        }, false);\n",
       "    }\" allow=\"accelerometer; autoplay; camera; clipboard-read; clipboard-write; display-capture; encrypted-media; fullscreen; gamepad; geolocation; gyroscope; hid; identity-credentials-get; idle-detection; magnetometer; microphone; midi; payment; picture-in-picture; publickey-credentials-get; screen-wake-lock; serial; usb; web-share; xr-spatial-tracking\"></iframe> "
      ],
      "text/plain": [
       "<IPython.core.display.HTML object>"
      ]
     },
     "metadata": {},
     "output_type": "display_data"
    }
   ],
   "source": [
    "#| eval: false\n",
    "#| output: false\n",
    "test_func = test_window_mockup_with_border_fasthtml_examples\n",
    "app, rt = create_test_app(theme=DaisyUITheme.LIGHT)\n",
    "\n",
    "@rt\n",
    "def index():\n",
    "    return create_test_page(test_func.__doc__.title().replace('.', ''), test_func())\n",
    "server = start_test_server(app)\n",
    "display(HTMX())\n",
    "server.stop()"
   ]
  },
  {
   "cell_type": "code",
   "execution_count": null,
   "id": "4666a5a3-26bb-4d91-b5be-f941df8f9d2f",
   "metadata": {},
   "outputs": [
    {
     "data": {
      "text/markdown": [
       "```html\n",
       "<div class=\"mockup-window bg-base-100 border border-base-300\">\n",
       "  <div class=\"grid place-content-center h-80\">Hello!</div>\n",
       "</div>\n",
       "\n",
       "```"
      ],
      "text/plain": [
       "div((div(('Hello!',),{'class': 'grid place-content-center h-80'}),),{'class': 'mockup-window bg-base-100 border border-base-300'})"
      ]
     },
     "execution_count": null,
     "metadata": {},
     "output_type": "execute_result"
    }
   ],
   "source": [
    "#|exports\n",
    "def test_window_mockup_with_background_fasthtml_examples():\n",
    "    \"\"\"Test window mockup with background color from daisyUI v5 documentation.\"\"\"\n",
    "    from fasthtml.common import Div\n",
    "    from cjm_fasthtml_tailwind.utilities.borders import border\n",
    "    from cjm_fasthtml_tailwind.utilities.sizing import h\n",
    "    from cjm_fasthtml_tailwind.utilities.layout import display_tw\n",
    "    from cjm_fasthtml_tailwind.utilities.flexbox_and_grid import place_content, grid_display\n",
    "    from cjm_fasthtml_daisyui.core.utility_classes import bg_dui, border_dui\n",
    "    \n",
    "    # Window mockup with background color\n",
    "    window_with_bg = Div(\n",
    "        Div(\n",
    "            \"Hello!\",\n",
    "            cls=combine_classes(grid_display, place_content.center, h._80)\n",
    "        ),\n",
    "        cls=combine_classes(mockup_window, bg_dui.base_100, border(), border_dui.base_300)\n",
    "    )\n",
    "    \n",
    "    # Verify structure\n",
    "    assert window_with_bg.tag == \"div\"\n",
    "    assert \"mockup-window\" in window_with_bg.attrs['class']\n",
    "    assert \"bg-base-100\" in window_with_bg.attrs['class']\n",
    "    assert \"border\" in window_with_bg.attrs['class']\n",
    "    assert \"border-base-300\" in window_with_bg.attrs['class']\n",
    "    \n",
    "    # Verify content div\n",
    "    content_div = window_with_bg.children[0]\n",
    "    assert content_div.tag == \"div\"\n",
    "    assert \"grid\" in content_div.attrs['class']\n",
    "    assert \"place-content-center\" in content_div.attrs['class']\n",
    "    assert \"h-80\" in content_div.attrs['class']\n",
    "    assert content_div.children[0] == \"Hello!\"\n",
    "    \n",
    "    return window_with_bg\n",
    "\n",
    "# Run the tests\n",
    "test_window_mockup_with_background_fasthtml_examples()"
   ]
  },
  {
   "cell_type": "code",
   "execution_count": null,
   "id": "85d72161-e718-4c66-bc59-a3569b7f7616",
   "metadata": {},
   "outputs": [
    {
     "data": {
      "text/html": [
       "\n",
       "<script>\n",
       "document.body.addEventListener('htmx:configRequest', (event) => {\n",
       "    if(event.detail.path.includes('://')) return;\n",
       "    htmx.config.selfRequestsOnly=false;\n",
       "    event.detail.path = `${location.protocol}//${location.hostname}:8000${event.detail.path}`;\n",
       "});\n",
       "</script>"
      ],
      "text/plain": [
       "<IPython.core.display.HTML object>"
      ]
     },
     "metadata": {},
     "output_type": "display_data"
    },
    {
     "data": {
      "text/html": [
       "<iframe src=\"http://localhost:8000/\" style=\"width: 100%; height: auto; border: none;\" onload=\"{\n",
       "        let frame = this;\n",
       "        window.addEventListener('message', function(e) {\n",
       "            if (e.source !== frame.contentWindow) return; // Only proceed if the message is from this iframe\n",
       "            if (e.data.height) frame.style.height = (e.data.height+1) + 'px';\n",
       "        }, false);\n",
       "    }\" allow=\"accelerometer; autoplay; camera; clipboard-read; clipboard-write; display-capture; encrypted-media; fullscreen; gamepad; geolocation; gyroscope; hid; identity-credentials-get; idle-detection; magnetometer; microphone; midi; payment; picture-in-picture; publickey-credentials-get; screen-wake-lock; serial; usb; web-share; xr-spatial-tracking\"></iframe> "
      ],
      "text/plain": [
       "<IPython.core.display.HTML object>"
      ]
     },
     "metadata": {},
     "output_type": "display_data"
    }
   ],
   "source": [
    "#| eval: false\n",
    "#| output: false\n",
    "test_func = test_window_mockup_with_background_fasthtml_examples\n",
    "app, rt = create_test_app(theme=DaisyUITheme.LIGHT)\n",
    "\n",
    "@rt\n",
    "def index():\n",
    "    return create_test_page(test_func.__doc__.title().replace('.', ''), test_func())\n",
    "server = start_test_server(app)\n",
    "display(HTMX())\n",
    "server.stop()"
   ]
  },
  {
   "cell_type": "code",
   "execution_count": null,
   "id": "214654cc-9758-48f9-92e2-0892029c4512",
   "metadata": {},
   "outputs": [],
   "source": []
  },
  {
   "cell_type": "code",
   "execution_count": null,
   "id": "a9d78aa3-0be8-49e6-8bfb-cb9a232ee1ee",
   "metadata": {},
   "outputs": [],
   "source": []
  },
  {
   "cell_type": "code",
   "execution_count": null,
   "id": "01785a18-9bb0-4dbc-9eae-04addf6dede9",
   "metadata": {},
   "outputs": [],
   "source": []
  },
  {
   "cell_type": "code",
   "execution_count": null,
   "id": "43a3d5aa-4f07-48f4-b7c3-5c63612f0fb2",
   "metadata": {},
   "outputs": [],
   "source": []
  },
  {
   "cell_type": "code",
   "execution_count": null,
   "id": "248adc40-6e77-4203-9830-de838e25a00a",
   "metadata": {},
   "outputs": [],
   "source": []
  },
  {
   "cell_type": "code",
   "execution_count": null,
   "id": "a2029d6d-bf22-4e16-87e1-d609762dc867",
   "metadata": {},
   "outputs": [],
   "source": []
  },
  {
   "cell_type": "code",
   "execution_count": null,
   "id": "c9dfaad9-504c-4853-886b-2d1adb1cc3a0",
   "metadata": {},
   "outputs": [],
   "source": []
  },
  {
   "cell_type": "code",
   "execution_count": null,
   "id": "454d5b84-fc57-44ab-a6f0-3123333998cb",
   "metadata": {},
   "outputs": [],
   "source": []
  },
  {
   "cell_type": "code",
   "execution_count": null,
   "id": "d471d21b-6fe5-4c63-90be-5176c4cbd08b",
   "metadata": {},
   "outputs": [],
   "source": []
  },
  {
   "cell_type": "code",
   "execution_count": null,
   "id": "73b88b7e-0be6-4a82-9c02-f3df8af20015",
   "metadata": {},
   "outputs": [],
   "source": []
  },
  {
   "cell_type": "code",
   "execution_count": null,
   "id": "7ab8257a-c30b-45b6-a784-729b67686791",
   "metadata": {},
   "outputs": [],
   "source": [
    "#| hide\n",
    "import nbdev; nbdev.nbdev_export()"
   ]
  }
 ],
 "metadata": {
  "kernelspec": {
   "display_name": "python3",
   "language": "python",
   "name": "python3"
  }
 },
 "nbformat": 4,
 "nbformat_minor": 5
}
