{
 "cells": [
  {
   "cell_type": "markdown",
   "id": "7c51b46b-ece1-456d-8e84-7de122e72b62",
   "metadata": {},
   "source": [
    "# code mockup\n",
    "\n",
    "> Code mockup is used to show a block of code in a box that looks like a code editor."
   ]
  },
  {
   "cell_type": "code",
   "execution_count": null,
   "id": "25536bdc-e099-477f-9e2d-a5f71df5dff2",
   "metadata": {},
   "outputs": [],
   "source": [
    "#| default_exp components.mockup.code"
   ]
  },
  {
   "cell_type": "code",
   "execution_count": null,
   "id": "2e6f21ce-7766-455a-8ebb-df2c17e7d977",
   "metadata": {},
   "outputs": [],
   "source": [
    "#| hide\n",
    "from nbdev.showdoc import *"
   ]
  },
  {
   "cell_type": "code",
   "execution_count": null,
   "id": "045c6538-403e-4222-b3bb-db20f188524d",
   "metadata": {},
   "outputs": [],
   "source": [
    "#| export\n",
    "\n",
    "from cjm_fasthtml_tailwind.core.base import (\n",
    "    SingleValueFactory, combine_classes\n",
    ")\n",
    "\n",
    "from fasthtml.common import Div\n",
    "from fasthtml.jupyter import JupyUvi, HTMX\n",
    "from cjm_fasthtml_daisyui.core.testing import create_test_app, create_test_page, start_test_server\n",
    "from cjm_fasthtml_daisyui.core.themes import DaisyUITheme\n",
    "from IPython.display import display"
   ]
  },
  {
   "cell_type": "markdown",
   "id": "eed093ee-e97e-410f-8789-88364e429735",
   "metadata": {},
   "source": [
    "### Base Code Mockup"
   ]
  },
  {
   "cell_type": "code",
   "execution_count": null,
   "id": "c802d106-49fb-4d34-ba04-5f54c88e165b",
   "metadata": {},
   "outputs": [],
   "source": [
    "#| export\n",
    "mockup_code = SingleValueFactory(\"mockup-code\", \"Base code terminal mockup\") # Base mockup code component"
   ]
  },
  {
   "cell_type": "markdown",
   "id": "73303042-b712-424e-92d3-9deefbaef364",
   "metadata": {},
   "source": [
    "### Code Mockup Test Examples"
   ]
  },
  {
   "cell_type": "code",
   "execution_count": null,
   "id": "636c6bcd-2176-4191-aa39-c937893243e2",
   "metadata": {},
   "outputs": [],
   "source": [
    "#| export\n",
    "def test_mockup_code_basic_examples():\n",
    "    \"\"\"Test basic mockup_code utilities.\"\"\"\n",
    "    # Basic mockup_code\n",
    "    assert str(mockup_code) == \"mockup-code\"\n",
    "    \n",
    "    # Test with modifiers\n",
    "    assert str(mockup_code.hover) == \"hover:mockup-code\"\n",
    "    assert str(mockup_code.md) == \"md:mockup-code\"\n",
    "    assert str(mockup_code.dark) == \"dark:mockup-code\"\n",
    "\n",
    "# Run the tests\n",
    "test_mockup_code_basic_examples()"
   ]
  },
  {
   "cell_type": "code",
   "execution_count": null,
   "id": "acf76f2c-6719-4423-9dce-e9b61666681f",
   "metadata": {},
   "outputs": [
    {
     "data": {
      "text/markdown": [
       "```html\n",
       "<div class=\"mockup-code w-full\">\n",
       "<pre><code>npm i daisyui</code></pre></div>\n",
       "\n",
       "```"
      ],
      "text/plain": [
       "div((pre((code(('npm i daisyui',),{}),),{'data-prefix': ''}),),{'class': 'mockup-code w-full'})"
      ]
     },
     "execution_count": null,
     "metadata": {},
     "output_type": "execute_result"
    }
   ],
   "source": [
    "#| export\n",
    "def test_mockup_code_with_line_prefix_fasthtml_examples():\n",
    "    \"\"\"Test mockup code with line prefix from daisyUI v5 documentation.\"\"\"\n",
    "    from fasthtml.common import Div, Pre, Code\n",
    "    from cjm_fasthtml_tailwind.utilities.sizing import w\n",
    "    \n",
    "    # Mockup code with line prefix\n",
    "    code_with_prefix = Div(\n",
    "        Pre(\n",
    "            Code(\"npm i daisyui\"),\n",
    "            data_prefix=\"\"\n",
    "        ),\n",
    "        cls=combine_classes(mockup_code, w.full)\n",
    "    )\n",
    "    \n",
    "    # Verify structure\n",
    "    assert code_with_prefix.tag == \"div\"\n",
    "    assert \"mockup-code\" in code_with_prefix.attrs['class']\n",
    "    assert \"w-full\" in code_with_prefix.attrs['class']\n",
    "    \n",
    "    # Verify pre element\n",
    "    pre_element = code_with_prefix.children[0]\n",
    "    assert pre_element.tag == \"pre\"\n",
    "    assert pre_element.attrs['data-prefix'] == \"\"\n",
    "    \n",
    "    # Verify code element\n",
    "    code_element = pre_element.children[0]\n",
    "    assert code_element.tag == \"code\"\n",
    "    assert code_element.children[0] == \"npm i daisyui\"\n",
    "    \n",
    "    return code_with_prefix\n",
    "\n",
    "# Run the tests\n",
    "test_mockup_code_with_line_prefix_fasthtml_examples()"
   ]
  },
  {
   "cell_type": "code",
   "execution_count": null,
   "id": "ba46de47-9a13-4754-9791-1fdedbac2f89",
   "metadata": {},
   "outputs": [
    {
     "data": {
      "text/html": [
       "\n",
       "<script>\n",
       "document.body.addEventListener('htmx:configRequest', (event) => {\n",
       "    if(event.detail.path.includes('://')) return;\n",
       "    htmx.config.selfRequestsOnly=false;\n",
       "    event.detail.path = `${location.protocol}//${location.hostname}:8000${event.detail.path}`;\n",
       "});\n",
       "</script>"
      ],
      "text/plain": [
       "<IPython.core.display.HTML object>"
      ]
     },
     "metadata": {},
     "output_type": "display_data"
    },
    {
     "data": {
      "text/html": [
       "<iframe src=\"http://localhost:8000/\" style=\"width: 100%; height: auto; border: none;\" onload=\"{\n",
       "        let frame = this;\n",
       "        window.addEventListener('message', function(e) {\n",
       "            if (e.source !== frame.contentWindow) return; // Only proceed if the message is from this iframe\n",
       "            if (e.data.height) frame.style.height = (e.data.height+1) + 'px';\n",
       "        }, false);\n",
       "    }\" allow=\"accelerometer; autoplay; camera; clipboard-read; clipboard-write; display-capture; encrypted-media; fullscreen; gamepad; geolocation; gyroscope; hid; identity-credentials-get; idle-detection; magnetometer; microphone; midi; payment; picture-in-picture; publickey-credentials-get; screen-wake-lock; serial; usb; web-share; xr-spatial-tracking\"></iframe> "
      ],
      "text/plain": [
       "<IPython.core.display.HTML object>"
      ]
     },
     "metadata": {},
     "output_type": "display_data"
    }
   ],
   "source": [
    "#| eval: false\n",
    "test_func = test_mockup_code_with_line_prefix_fasthtml_examples\n",
    "app, rt = create_test_app(theme=DaisyUITheme.LIGHT)\n",
    "\n",
    "@rt\n",
    "def index():\n",
    "    return create_test_page(test_func.__doc__.title().replace('.', ''), test_func())\n",
    "server = start_test_server(app)\n",
    "display(HTMX())\n",
    "server.stop()"
   ]
  },
  {
   "cell_type": "code",
   "execution_count": null,
   "id": "616bac92-72c3-4d11-9113-70268e4768af",
   "metadata": {},
   "outputs": [
    {
     "data": {
      "text/markdown": [
       "```html\n",
       "<div class=\"mockup-code w-full\">\n",
       "<pre><code>npm i daisyui</code></pre><pre data-prefix=\"&gt;\" class=\"text-warning\"><code>installing...</code></pre><pre data-prefix=\"&gt;\" class=\"text-success\"><code>Done!</code></pre></div>\n",
       "\n",
       "```"
      ],
      "text/plain": [
       "div((pre((code(('npm i daisyui',),{}),),{'data-prefix': ''}), pre((code(('installing...',),{}),),{'data-prefix': '>', 'class': 'text-warning'}), pre((code(('Done!',),{}),),{'data-prefix': '>', 'class': 'text-success'})),{'class': 'mockup-code w-full'})"
      ]
     },
     "execution_count": null,
     "metadata": {},
     "output_type": "execute_result"
    }
   ],
   "source": [
    "#| export\n",
    "def test_mockup_code_multi_line_fasthtml_examples():\n",
    "    \"\"\"Test multi-line mockup code from daisyUI v5 documentation.\"\"\"\n",
    "    from fasthtml.common import Div, Pre, Code\n",
    "    from cjm_fasthtml_tailwind.utilities.sizing import w\n",
    "    from cjm_fasthtml_daisyui.core.utility_classes import text_dui\n",
    "    \n",
    "    # Multi-line mockup code\n",
    "    multi_line_code = Div(\n",
    "        Pre(Code(\"npm i daisyui\"), data_prefix=\"\"),\n",
    "        Pre(Code(\"installing...\"), data_prefix=\">\", cls=str(text_dui.warning)),\n",
    "        Pre(Code(\"Done!\"), data_prefix=\">\", cls=str(text_dui.success)),\n",
    "        cls=combine_classes(mockup_code, w.full)\n",
    "    )\n",
    "    \n",
    "    # Verify structure\n",
    "    assert multi_line_code.tag == \"div\"\n",
    "    assert \"mockup-code\" in multi_line_code.attrs['class']\n",
    "    assert \"w-full\" in multi_line_code.attrs['class']\n",
    "    assert len(multi_line_code.children) == 3\n",
    "    \n",
    "    # Verify first pre element\n",
    "    first_pre = multi_line_code.children[0]\n",
    "    assert first_pre.tag == \"pre\"\n",
    "    assert first_pre.attrs['data-prefix'] == \"\"\n",
    "    assert first_pre.children[0].tag == \"code\"\n",
    "    assert first_pre.children[0].children[0] == \"npm i daisyui\"\n",
    "    \n",
    "    # Verify second pre element with warning color\n",
    "    second_pre = multi_line_code.children[1]\n",
    "    assert second_pre.tag == \"pre\"\n",
    "    assert second_pre.attrs['data-prefix'] == \">\"\n",
    "    assert second_pre.attrs['class'] == \"text-warning\"\n",
    "    assert second_pre.children[0].tag == \"code\"\n",
    "    assert second_pre.children[0].children[0] == \"installing...\"\n",
    "    \n",
    "    # Verify third pre element with success color\n",
    "    third_pre = multi_line_code.children[2]\n",
    "    assert third_pre.tag == \"pre\"\n",
    "    assert third_pre.attrs['data-prefix'] == \">\"\n",
    "    assert third_pre.attrs['class'] == \"text-success\"\n",
    "    assert third_pre.children[0].tag == \"code\"\n",
    "    assert third_pre.children[0].children[0] == \"Done!\"\n",
    "    \n",
    "    return multi_line_code\n",
    "\n",
    "# Run the tests\n",
    "test_mockup_code_multi_line_fasthtml_examples()"
   ]
  },
  {
   "cell_type": "code",
   "execution_count": null,
   "id": "1ab8235f-9758-4232-81e9-53ef06c776ff",
   "metadata": {},
   "outputs": [
    {
     "data": {
      "text/html": [
       "\n",
       "<script>\n",
       "document.body.addEventListener('htmx:configRequest', (event) => {\n",
       "    if(event.detail.path.includes('://')) return;\n",
       "    htmx.config.selfRequestsOnly=false;\n",
       "    event.detail.path = `${location.protocol}//${location.hostname}:8000${event.detail.path}`;\n",
       "});\n",
       "</script>"
      ],
      "text/plain": [
       "<IPython.core.display.HTML object>"
      ]
     },
     "metadata": {},
     "output_type": "display_data"
    },
    {
     "data": {
      "text/html": [
       "<iframe src=\"http://localhost:8000/\" style=\"width: 100%; height: auto; border: none;\" onload=\"{\n",
       "        let frame = this;\n",
       "        window.addEventListener('message', function(e) {\n",
       "            if (e.source !== frame.contentWindow) return; // Only proceed if the message is from this iframe\n",
       "            if (e.data.height) frame.style.height = (e.data.height+1) + 'px';\n",
       "        }, false);\n",
       "    }\" allow=\"accelerometer; autoplay; camera; clipboard-read; clipboard-write; display-capture; encrypted-media; fullscreen; gamepad; geolocation; gyroscope; hid; identity-credentials-get; idle-detection; magnetometer; microphone; midi; payment; picture-in-picture; publickey-credentials-get; screen-wake-lock; serial; usb; web-share; xr-spatial-tracking\"></iframe> "
      ],
      "text/plain": [
       "<IPython.core.display.HTML object>"
      ]
     },
     "metadata": {},
     "output_type": "display_data"
    }
   ],
   "source": [
    "#| eval: false\n",
    "test_func = test_mockup_code_multi_line_fasthtml_examples\n",
    "app, rt = create_test_app(theme=DaisyUITheme.LIGHT)\n",
    "\n",
    "@rt\n",
    "def index():\n",
    "    return create_test_page(test_func.__doc__.title().replace('.', ''), test_func())\n",
    "server = start_test_server(app)\n",
    "display(HTMX())\n",
    "server.stop()"
   ]
  },
  {
   "cell_type": "code",
   "execution_count": null,
   "id": "a95ae41a-6e3a-4025-a3bf-2ff9d79232f9",
   "metadata": {},
   "outputs": [
    {
     "data": {
      "text/markdown": [
       "```html\n",
       "<div class=\"mockup-code w-full\">\n",
       "<pre data-prefix=\"1\"><code>npm i daisyui</code></pre><pre data-prefix=\"2\"><code>installing...</code></pre><pre data-prefix=\"3\" class=\"bg-warning text-warning-content\"><code>Error!</code></pre></div>\n",
       "\n",
       "```"
      ],
      "text/plain": [
       "div((pre((code(('npm i daisyui',),{}),),{'data-prefix': '1'}), pre((code(('installing...',),{}),),{'data-prefix': '2'}), pre((code(('Error!',),{}),),{'data-prefix': '3', 'class': 'bg-warning text-warning-content'})),{'class': 'mockup-code w-full'})"
      ]
     },
     "execution_count": null,
     "metadata": {},
     "output_type": "execute_result"
    }
   ],
   "source": [
    "#| export\n",
    "def test_mockup_code_highlighted_line_fasthtml_examples():\n",
    "    \"\"\"Test mockup code with highlighted line from daisyUI v5 documentation.\"\"\"\n",
    "    from fasthtml.common import Div, Pre, Code\n",
    "    from cjm_fasthtml_tailwind.utilities.sizing import w\n",
    "    from cjm_fasthtml_daisyui.core.utility_classes import bg_dui, text_dui\n",
    "    \n",
    "    # Mockup code with highlighted line\n",
    "    highlighted_code = Div(\n",
    "        Pre(Code(\"npm i daisyui\"), data_prefix=\"1\"),\n",
    "        Pre(Code(\"installing...\"), data_prefix=\"2\"),\n",
    "        Pre(Code(\"Error!\"), data_prefix=\"3\", cls=combine_classes(bg_dui.warning, text_dui.warning_content)),\n",
    "        cls=combine_classes(mockup_code, w.full)\n",
    "    )\n",
    "    \n",
    "    # Verify structure\n",
    "    assert highlighted_code.tag == \"div\"\n",
    "    assert \"mockup-code\" in highlighted_code.attrs['class']\n",
    "    assert \"w-full\" in highlighted_code.attrs['class']\n",
    "    assert len(highlighted_code.children) == 3\n",
    "    \n",
    "    # Verify first pre element with line number\n",
    "    first_pre = highlighted_code.children[0]\n",
    "    assert first_pre.tag == \"pre\"\n",
    "    assert first_pre.attrs['data-prefix'] == \"1\"\n",
    "    assert first_pre.children[0].tag == \"code\"\n",
    "    assert first_pre.children[0].children[0] == \"npm i daisyui\"\n",
    "    \n",
    "    # Verify second pre element with line number\n",
    "    second_pre = highlighted_code.children[1]\n",
    "    assert second_pre.tag == \"pre\"\n",
    "    assert second_pre.attrs['data-prefix'] == \"2\"\n",
    "    assert second_pre.children[0].tag == \"code\"\n",
    "    assert second_pre.children[0].children[0] == \"installing...\"\n",
    "    \n",
    "    # Verify third pre element with highlighting\n",
    "    third_pre = highlighted_code.children[2]\n",
    "    assert third_pre.tag == \"pre\"\n",
    "    assert third_pre.attrs['data-prefix'] == \"3\"\n",
    "    assert \"bg-warning\" in third_pre.attrs['class']\n",
    "    assert \"text-warning-content\" in third_pre.attrs['class']\n",
    "    assert third_pre.children[0].tag == \"code\"\n",
    "    assert third_pre.children[0].children[0] == \"Error!\"\n",
    "    \n",
    "    return highlighted_code\n",
    "\n",
    "# Run the tests\n",
    "test_mockup_code_highlighted_line_fasthtml_examples()"
   ]
  },
  {
   "cell_type": "code",
   "execution_count": null,
   "id": "ad2d932c-79ea-4792-bdaf-5bda859340ca",
   "metadata": {},
   "outputs": [
    {
     "data": {
      "text/html": [
       "\n",
       "<script>\n",
       "document.body.addEventListener('htmx:configRequest', (event) => {\n",
       "    if(event.detail.path.includes('://')) return;\n",
       "    htmx.config.selfRequestsOnly=false;\n",
       "    event.detail.path = `${location.protocol}//${location.hostname}:8000${event.detail.path}`;\n",
       "});\n",
       "</script>"
      ],
      "text/plain": [
       "<IPython.core.display.HTML object>"
      ]
     },
     "metadata": {},
     "output_type": "display_data"
    },
    {
     "data": {
      "text/html": [
       "<iframe src=\"http://localhost:8000/\" style=\"width: 100%; height: auto; border: none;\" onload=\"{\n",
       "        let frame = this;\n",
       "        window.addEventListener('message', function(e) {\n",
       "            if (e.source !== frame.contentWindow) return; // Only proceed if the message is from this iframe\n",
       "            if (e.data.height) frame.style.height = (e.data.height+1) + 'px';\n",
       "        }, false);\n",
       "    }\" allow=\"accelerometer; autoplay; camera; clipboard-read; clipboard-write; display-capture; encrypted-media; fullscreen; gamepad; geolocation; gyroscope; hid; identity-credentials-get; idle-detection; magnetometer; microphone; midi; payment; picture-in-picture; publickey-credentials-get; screen-wake-lock; serial; usb; web-share; xr-spatial-tracking\"></iframe> "
      ],
      "text/plain": [
       "<IPython.core.display.HTML object>"
      ]
     },
     "metadata": {},
     "output_type": "display_data"
    }
   ],
   "source": [
    "#| eval: false\n",
    "test_func = test_mockup_code_highlighted_line_fasthtml_examples\n",
    "app, rt = create_test_app(theme=DaisyUITheme.LIGHT)\n",
    "\n",
    "@rt\n",
    "def index():\n",
    "    return create_test_page(test_func.__doc__.title().replace('.', ''), test_func())\n",
    "server = start_test_server(app)\n",
    "display(HTMX())\n",
    "server.stop()"
   ]
  },
  {
   "cell_type": "code",
   "execution_count": null,
   "id": "3035ff66-e4e7-410c-8b1e-86a879f66112",
   "metadata": {},
   "outputs": [
    {
     "data": {
      "text/markdown": [
       "```html\n",
       "<div class=\"mockup-code w-full\">\n",
       "<pre data-prefix=\"~\"><code>Magnam dolore beatae necessitatibus nemopsum itaque sit. Et porro quae qui et et dolore ratione.</code></pre></div>\n",
       "\n",
       "```"
      ],
      "text/plain": [
       "div((pre((code(('Magnam dolore beatae necessitatibus nemopsum itaque sit. Et porro quae qui et et dolore ratione.',),{}),),{'data-prefix': '~'}),),{'class': 'mockup-code w-full'})"
      ]
     },
     "execution_count": null,
     "metadata": {},
     "output_type": "execute_result"
    }
   ],
   "source": [
    "#| export\n",
    "def test_mockup_code_long_line_fasthtml_examples():\n",
    "    \"\"\"Test mockup code with long line that will scroll from daisyUI v5 documentation.\"\"\"\n",
    "    from fasthtml.common import Div, Pre, Code\n",
    "    from cjm_fasthtml_tailwind.utilities.sizing import w\n",
    "    \n",
    "    # Mockup code with long line\n",
    "    long_line_code = Div(\n",
    "        Pre(\n",
    "            Code(\"Magnam dolore beatae necessitatibus nemopsum itaque sit. Et porro quae qui et et dolore ratione.\"),\n",
    "            data_prefix=\"~\"\n",
    "        ),\n",
    "        cls=combine_classes(mockup_code, w.full)\n",
    "    )\n",
    "    \n",
    "    # Verify structure\n",
    "    assert long_line_code.tag == \"div\"\n",
    "    assert \"mockup-code\" in long_line_code.attrs['class']\n",
    "    assert \"w-full\" in long_line_code.attrs['class']\n",
    "    \n",
    "    # Verify pre element with tilde prefix\n",
    "    pre_element = long_line_code.children[0]\n",
    "    assert pre_element.tag == \"pre\"\n",
    "    assert pre_element.attrs['data-prefix'] == \"~\"\n",
    "    \n",
    "    # Verify code element with long text\n",
    "    code_element = pre_element.children[0]\n",
    "    assert code_element.tag == \"code\"\n",
    "    assert code_element.children[0] == \"Magnam dolore beatae necessitatibus nemopsum itaque sit. Et porro quae qui et et dolore ratione.\"\n",
    "    \n",
    "    return long_line_code\n",
    "\n",
    "# Run the tests\n",
    "test_mockup_code_long_line_fasthtml_examples()"
   ]
  },
  {
   "cell_type": "code",
   "execution_count": null,
   "id": "4666a5a3-26bb-4d91-b5be-f941df8f9d2f",
   "metadata": {},
   "outputs": [
    {
     "data": {
      "text/html": [
       "\n",
       "<script>\n",
       "document.body.addEventListener('htmx:configRequest', (event) => {\n",
       "    if(event.detail.path.includes('://')) return;\n",
       "    htmx.config.selfRequestsOnly=false;\n",
       "    event.detail.path = `${location.protocol}//${location.hostname}:8000${event.detail.path}`;\n",
       "});\n",
       "</script>"
      ],
      "text/plain": [
       "<IPython.core.display.HTML object>"
      ]
     },
     "metadata": {},
     "output_type": "display_data"
    },
    {
     "data": {
      "text/html": [
       "<iframe src=\"http://localhost:8000/\" style=\"width: 100%; height: auto; border: none;\" onload=\"{\n",
       "        let frame = this;\n",
       "        window.addEventListener('message', function(e) {\n",
       "            if (e.source !== frame.contentWindow) return; // Only proceed if the message is from this iframe\n",
       "            if (e.data.height) frame.style.height = (e.data.height+1) + 'px';\n",
       "        }, false);\n",
       "    }\" allow=\"accelerometer; autoplay; camera; clipboard-read; clipboard-write; display-capture; encrypted-media; fullscreen; gamepad; geolocation; gyroscope; hid; identity-credentials-get; idle-detection; magnetometer; microphone; midi; payment; picture-in-picture; publickey-credentials-get; screen-wake-lock; serial; usb; web-share; xr-spatial-tracking\"></iframe> "
      ],
      "text/plain": [
       "<IPython.core.display.HTML object>"
      ]
     },
     "metadata": {},
     "output_type": "display_data"
    }
   ],
   "source": [
    "#| eval: false\n",
    "test_func = test_mockup_code_long_line_fasthtml_examples\n",
    "app, rt = create_test_app(theme=DaisyUITheme.LIGHT)\n",
    "\n",
    "@rt\n",
    "def index():\n",
    "    return create_test_page(test_func.__doc__.title().replace('.', ''), test_func())\n",
    "server = start_test_server(app)\n",
    "display(HTMX())\n",
    "server.stop()"
   ]
  },
  {
   "cell_type": "code",
   "execution_count": null,
   "id": "85d72161-e718-4c66-bc59-a3569b7f7616",
   "metadata": {},
   "outputs": [
    {
     "data": {
      "text/markdown": [
       "```html\n",
       "<div class=\"mockup-code w-full\">\n",
       "<pre><code>without prefix</code></pre></div>\n",
       "\n",
       "```"
      ],
      "text/plain": [
       "div((pre((code(('without prefix',),{}),),{}),),{'class': 'mockup-code w-full'})"
      ]
     },
     "execution_count": null,
     "metadata": {},
     "output_type": "execute_result"
    }
   ],
   "source": [
    "#| export\n",
    "def test_mockup_code_without_prefix_fasthtml_examples():\n",
    "    \"\"\"Test mockup code without prefix from daisyUI v5 documentation.\"\"\"\n",
    "    from fasthtml.common import Div, Pre, Code\n",
    "    from cjm_fasthtml_tailwind.utilities.sizing import w\n",
    "    \n",
    "    # Mockup code without prefix\n",
    "    no_prefix_code = Div(\n",
    "        Pre(Code(\"without prefix\")),\n",
    "        cls=combine_classes(mockup_code, w.full)\n",
    "    )\n",
    "    \n",
    "    # Verify structure\n",
    "    assert no_prefix_code.tag == \"div\"\n",
    "    assert \"mockup-code\" in no_prefix_code.attrs['class']\n",
    "    assert \"w-full\" in no_prefix_code.attrs['class']\n",
    "    \n",
    "    # Verify pre element (no data-prefix attribute)\n",
    "    pre_element = no_prefix_code.children[0]\n",
    "    assert pre_element.tag == \"pre\"\n",
    "    assert 'data-prefix' not in pre_element.attrs\n",
    "    \n",
    "    # Verify code element\n",
    "    code_element = pre_element.children[0]\n",
    "    assert code_element.tag == \"code\"\n",
    "    assert code_element.children[0] == \"without prefix\"\n",
    "    \n",
    "    return no_prefix_code\n",
    "\n",
    "# Run the tests\n",
    "test_mockup_code_without_prefix_fasthtml_examples()"
   ]
  },
  {
   "cell_type": "code",
   "execution_count": null,
   "id": "214654cc-9758-48f9-92e2-0892029c4512",
   "metadata": {},
   "outputs": [
    {
     "data": {
      "text/html": [
       "\n",
       "<script>\n",
       "document.body.addEventListener('htmx:configRequest', (event) => {\n",
       "    if(event.detail.path.includes('://')) return;\n",
       "    htmx.config.selfRequestsOnly=false;\n",
       "    event.detail.path = `${location.protocol}//${location.hostname}:8000${event.detail.path}`;\n",
       "});\n",
       "</script>"
      ],
      "text/plain": [
       "<IPython.core.display.HTML object>"
      ]
     },
     "metadata": {},
     "output_type": "display_data"
    },
    {
     "data": {
      "text/html": [
       "<iframe src=\"http://localhost:8000/\" style=\"width: 100%; height: auto; border: none;\" onload=\"{\n",
       "        let frame = this;\n",
       "        window.addEventListener('message', function(e) {\n",
       "            if (e.source !== frame.contentWindow) return; // Only proceed if the message is from this iframe\n",
       "            if (e.data.height) frame.style.height = (e.data.height+1) + 'px';\n",
       "        }, false);\n",
       "    }\" allow=\"accelerometer; autoplay; camera; clipboard-read; clipboard-write; display-capture; encrypted-media; fullscreen; gamepad; geolocation; gyroscope; hid; identity-credentials-get; idle-detection; magnetometer; microphone; midi; payment; picture-in-picture; publickey-credentials-get; screen-wake-lock; serial; usb; web-share; xr-spatial-tracking\"></iframe> "
      ],
      "text/plain": [
       "<IPython.core.display.HTML object>"
      ]
     },
     "metadata": {},
     "output_type": "display_data"
    }
   ],
   "source": [
    "#| eval: false\n",
    "test_func = test_mockup_code_without_prefix_fasthtml_examples\n",
    "app, rt = create_test_app(theme=DaisyUITheme.LIGHT)\n",
    "\n",
    "@rt\n",
    "def index():\n",
    "    return create_test_page(test_func.__doc__.title().replace('.', ''), test_func())\n",
    "server = start_test_server(app)\n",
    "display(HTMX())\n",
    "server.stop()"
   ]
  },
  {
   "cell_type": "code",
   "execution_count": null,
   "id": "a9d78aa3-0be8-49e6-8bfb-cb9a232ee1ee",
   "metadata": {},
   "outputs": [
    {
     "data": {
      "text/markdown": [
       "```html\n",
       "<div class=\"mockup-code bg-primary text-primary-content w-full\">\n",
       "<pre><code>can be any color!</code></pre></div>\n",
       "\n",
       "```"
      ],
      "text/plain": [
       "div((pre((code(('can be any color!',),{}),),{}),),{'class': 'mockup-code bg-primary text-primary-content w-full'})"
      ]
     },
     "execution_count": null,
     "metadata": {},
     "output_type": "execute_result"
    }
   ],
   "source": [
    "#| export\n",
    "def test_mockup_code_with_color_fasthtml_examples():\n",
    "    \"\"\"Test mockup code with custom color from daisyUI v5 documentation.\"\"\"\n",
    "    from fasthtml.common import Div, Pre, Code\n",
    "    from cjm_fasthtml_tailwind.utilities.sizing import w\n",
    "    from cjm_fasthtml_daisyui.core.utility_classes import bg_dui, text_dui\n",
    "    \n",
    "    # Mockup code with custom color\n",
    "    colored_code = Div(\n",
    "        Pre(Code(\"can be any color!\")),\n",
    "        cls=combine_classes(mockup_code, bg_dui.primary, text_dui.primary_content, w.full)\n",
    "    )\n",
    "    \n",
    "    # Verify structure\n",
    "    assert colored_code.tag == \"div\"\n",
    "    assert \"mockup-code\" in colored_code.attrs['class']\n",
    "    assert \"bg-primary\" in colored_code.attrs['class']\n",
    "    assert \"text-primary-content\" in colored_code.attrs['class']\n",
    "    assert \"w-full\" in colored_code.attrs['class']\n",
    "    \n",
    "    # Verify pre element\n",
    "    pre_element = colored_code.children[0]\n",
    "    assert pre_element.tag == \"pre\"\n",
    "    assert 'data-prefix' not in pre_element.attrs\n",
    "    \n",
    "    # Verify code element\n",
    "    code_element = pre_element.children[0]\n",
    "    assert code_element.tag == \"code\"\n",
    "    assert code_element.children[0] == \"can be any color!\"\n",
    "    \n",
    "    return colored_code\n",
    "\n",
    "# Run the tests\n",
    "test_mockup_code_with_color_fasthtml_examples()"
   ]
  },
  {
   "cell_type": "code",
   "execution_count": null,
   "id": "01785a18-9bb0-4dbc-9eae-04addf6dede9",
   "metadata": {},
   "outputs": [
    {
     "data": {
      "text/html": [
       "\n",
       "<script>\n",
       "document.body.addEventListener('htmx:configRequest', (event) => {\n",
       "    if(event.detail.path.includes('://')) return;\n",
       "    htmx.config.selfRequestsOnly=false;\n",
       "    event.detail.path = `${location.protocol}//${location.hostname}:8000${event.detail.path}`;\n",
       "});\n",
       "</script>"
      ],
      "text/plain": [
       "<IPython.core.display.HTML object>"
      ]
     },
     "metadata": {},
     "output_type": "display_data"
    },
    {
     "data": {
      "text/html": [
       "<iframe src=\"http://localhost:8000/\" style=\"width: 100%; height: auto; border: none;\" onload=\"{\n",
       "        let frame = this;\n",
       "        window.addEventListener('message', function(e) {\n",
       "            if (e.source !== frame.contentWindow) return; // Only proceed if the message is from this iframe\n",
       "            if (e.data.height) frame.style.height = (e.data.height+1) + 'px';\n",
       "        }, false);\n",
       "    }\" allow=\"accelerometer; autoplay; camera; clipboard-read; clipboard-write; display-capture; encrypted-media; fullscreen; gamepad; geolocation; gyroscope; hid; identity-credentials-get; idle-detection; magnetometer; microphone; midi; payment; picture-in-picture; publickey-credentials-get; screen-wake-lock; serial; usb; web-share; xr-spatial-tracking\"></iframe> "
      ],
      "text/plain": [
       "<IPython.core.display.HTML object>"
      ]
     },
     "metadata": {},
     "output_type": "display_data"
    }
   ],
   "source": [
    "#| eval: false\n",
    "test_func = test_mockup_code_with_color_fasthtml_examples\n",
    "app, rt = create_test_app(theme=DaisyUITheme.LIGHT)\n",
    "\n",
    "@rt\n",
    "def index():\n",
    "    return create_test_page(test_func.__doc__.title().replace('.', ''), test_func())\n",
    "server = start_test_server(app)\n",
    "display(HTMX())\n",
    "server.stop()"
   ]
  },
  {
   "cell_type": "code",
   "execution_count": null,
   "id": "43a3d5aa-4f07-48f4-b7c3-5c63612f0fb2",
   "metadata": {},
   "outputs": [],
   "source": []
  },
  {
   "cell_type": "code",
   "execution_count": null,
   "id": "248adc40-6e77-4203-9830-de838e25a00a",
   "metadata": {},
   "outputs": [],
   "source": []
  },
  {
   "cell_type": "code",
   "execution_count": null,
   "id": "a2029d6d-bf22-4e16-87e1-d609762dc867",
   "metadata": {},
   "outputs": [],
   "source": []
  },
  {
   "cell_type": "code",
   "execution_count": null,
   "id": "c9dfaad9-504c-4853-886b-2d1adb1cc3a0",
   "metadata": {},
   "outputs": [],
   "source": []
  },
  {
   "cell_type": "code",
   "execution_count": null,
   "id": "454d5b84-fc57-44ab-a6f0-3123333998cb",
   "metadata": {},
   "outputs": [],
   "source": []
  },
  {
   "cell_type": "code",
   "execution_count": null,
   "id": "d471d21b-6fe5-4c63-90be-5176c4cbd08b",
   "metadata": {},
   "outputs": [],
   "source": []
  },
  {
   "cell_type": "code",
   "execution_count": null,
   "id": "73b88b7e-0be6-4a82-9c02-f3df8af20015",
   "metadata": {},
   "outputs": [],
   "source": []
  },
  {
   "cell_type": "code",
   "execution_count": null,
   "id": "7ab8257a-c30b-45b6-a784-729b67686791",
   "metadata": {},
   "outputs": [],
   "source": [
    "#| hide\n",
    "import nbdev; nbdev.nbdev_export()"
   ]
  }
 ],
 "metadata": {
  "kernelspec": {
   "display_name": "python3",
   "language": "python",
   "name": "python3"
  }
 },
 "nbformat": 4,
 "nbformat_minor": 5
}
