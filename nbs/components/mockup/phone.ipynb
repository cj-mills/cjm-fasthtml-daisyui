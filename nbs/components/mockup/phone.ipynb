{
 "cells": [
  {
   "cell_type": "markdown",
   "id": "7c51b46b-ece1-456d-8e84-7de122e72b62",
   "metadata": {},
   "source": [
    "# phone mockup\n",
    "\n",
    "> Phone mockup shows a mockup of an iPhone."
   ]
  },
  {
   "cell_type": "code",
   "execution_count": null,
   "id": "25536bdc-e099-477f-9e2d-a5f71df5dff2",
   "metadata": {},
   "outputs": [],
   "source": [
    "#| default_exp components.mockup.phone"
   ]
  },
  {
   "cell_type": "code",
   "execution_count": null,
   "id": "2e6f21ce-7766-455a-8ebb-df2c17e7d977",
   "metadata": {},
   "outputs": [],
   "source": [
    "#| hide\n",
    "from nbdev.showdoc import *"
   ]
  },
  {
   "cell_type": "code",
   "execution_count": null,
   "id": "045c6538-403e-4222-b3bb-db20f188524d",
   "metadata": {},
   "outputs": [],
   "source": [
    "#| export\n",
    "\n",
    "from cjm_fasthtml_tailwind.core.base import (\n",
    "    SingleValueFactory, combine_classes\n",
    ")\n",
    "\n",
    "from fasthtml.common import Div\n",
    "from fasthtml.jupyter import JupyUvi, HTMX\n",
    "from cjm_fasthtml_daisyui.core.testing import create_test_app, create_test_page, start_test_server\n",
    "from cjm_fasthtml_daisyui.core.themes import DaisyUITheme\n",
    "from IPython.display import display"
   ]
  },
  {
   "cell_type": "markdown",
   "id": "0fce972a-4ce0-4d5a-8123-6fff34a804c4",
   "metadata": {},
   "source": [
    "### Base Phone Mockup"
   ]
  },
  {
   "cell_type": "code",
   "execution_count": null,
   "id": "c802d106-49fb-4d34-ba04-5f54c88e165b",
   "metadata": {},
   "outputs": [],
   "source": [
    "#| exports\n",
    "mockup_phone = SingleValueFactory(\"mockup-phone\", \"Base phone mockup component\") # Base mockup phone component\n",
    "mockup_phone_camera = SingleValueFactory(\"mockup-phone-camera\", \"Camera part\") # Mockup phone camera part\n",
    "mockup_phone_display = SingleValueFactory(\"mockup-phone-display\", \"Display part\") # Mockup phone display part"
   ]
  },
  {
   "cell_type": "markdown",
   "id": "74352137-9cbe-4813-b642-4ff1b190252f",
   "metadata": {},
   "source": [
    "### Phone Mockup Test Examples"
   ]
  },
  {
   "cell_type": "code",
   "execution_count": null,
   "id": "636c6bcd-2176-4191-aa39-c937893243e2",
   "metadata": {},
   "outputs": [],
   "source": [
    "#|exports\n",
    "def test_mockup_phone_basic_examples():\n",
    "    \"\"\"Test basic mockup_phone utilities.\"\"\"\n",
    "    # Basic mockup_phone\n",
    "    assert str(mockup_phone) == \"mockup-phone\"\n",
    "    assert str(mockup_phone_camera) == \"mockup-phone-camera\"\n",
    "    assert str(mockup_phone_display) == \"mockup-phone-display\"\n",
    "    \n",
    "    # Test with modifiers\n",
    "    assert str(mockup_phone.hover) == \"hover:mockup-phone\"\n",
    "    assert str(mockup_phone.md) == \"md:mockup-phone\"\n",
    "    assert str(mockup_phone.dark) == \"dark:mockup-phone\"\n",
    "\n",
    "# Run the tests\n",
    "test_mockup_phone_basic_examples()"
   ]
  },
  {
   "cell_type": "code",
   "execution_count": null,
   "id": "ad2d932c-79ea-4792-bdaf-5bda859340ca",
   "metadata": {},
   "outputs": [
    {
     "data": {
      "text/markdown": [
       "```html\n",
       "<div class=\"mockup-phone\">\n",
       "  <div class=\"mockup-phone-camera\"></div>\n",
       "  <div class=\"mockup-phone-display text-white grid place-content-center\">It&#x27;s Glowtime.</div>\n",
       "</div>\n",
       "\n",
       "```"
      ],
      "text/plain": [
       "div((div((),{'class': 'mockup-phone-camera'}), div((\"It's Glowtime.\",),{'class': 'mockup-phone-display text-white grid place-content-center'})),{'class': 'mockup-phone'})"
      ]
     },
     "execution_count": null,
     "metadata": {},
     "output_type": "execute_result"
    }
   ],
   "source": [
    "#|exports\n",
    "def test_phone_mockup_basic_fasthtml_examples():\n",
    "    \"\"\"Test basic iPhone mockup from daisyUI v5 documentation.\"\"\"\n",
    "    from fasthtml.common import Div\n",
    "    from cjm_fasthtml_tailwind.utilities.typography import font_size, font_weight, font_family, text_color\n",
    "    from cjm_fasthtml_tailwind.utilities.layout import display_tw\n",
    "    from cjm_fasthtml_tailwind.utilities.flexbox_and_grid import place_content\n",
    "    \n",
    "    # iPhone mockup\n",
    "    iphone_mockup = Div(\n",
    "        Div(cls=str(mockup_phone_camera)),\n",
    "        Div(\n",
    "            \"It's Glowtime.\",\n",
    "            cls=combine_classes(mockup_phone_display, text_color.white, display_tw.grid, place_content.center)\n",
    "        ),\n",
    "        cls=str(mockup_phone)\n",
    "    )\n",
    "    \n",
    "    # Verify structure\n",
    "    assert iphone_mockup.tag == \"div\"\n",
    "    assert iphone_mockup.attrs['class'] == \"mockup-phone\"\n",
    "    assert len(iphone_mockup.children) == 2\n",
    "    \n",
    "    # Verify camera element\n",
    "    camera_element = iphone_mockup.children[0]\n",
    "    assert camera_element.tag == \"div\"\n",
    "    assert camera_element.attrs['class'] == \"mockup-phone-camera\"\n",
    "    assert camera_element.children == ()  # Empty div\n",
    "    \n",
    "    # Verify display element\n",
    "    display_element = iphone_mockup.children[1]\n",
    "    assert display_element.tag == \"div\"\n",
    "    assert \"mockup-phone-display\" in display_element.attrs['class']\n",
    "    assert \"text-white\" in display_element.attrs['class']\n",
    "    assert \"grid\" in display_element.attrs['class']\n",
    "    assert \"place-content-center\" in display_element.attrs['class']\n",
    "    assert display_element.children[0] == \"It's Glowtime.\"\n",
    "    \n",
    "    return iphone_mockup\n",
    "\n",
    "# Run the tests\n",
    "test_phone_mockup_basic_fasthtml_examples()"
   ]
  },
  {
   "cell_type": "code",
   "execution_count": null,
   "id": "3035ff66-e4e7-410c-8b1e-86a879f66112",
   "metadata": {},
   "outputs": [
    {
     "data": {
      "text/html": [
       "\n",
       "<script>\n",
       "document.body.addEventListener('htmx:configRequest', (event) => {\n",
       "    if(event.detail.path.includes('://')) return;\n",
       "    htmx.config.selfRequestsOnly=false;\n",
       "    event.detail.path = `${location.protocol}//${location.hostname}:8000${event.detail.path}`;\n",
       "});\n",
       "</script>"
      ],
      "text/plain": [
       "<IPython.core.display.HTML object>"
      ]
     },
     "metadata": {},
     "output_type": "display_data"
    },
    {
     "data": {
      "text/html": [
       "<iframe src=\"http://localhost:8000/\" style=\"width: 100%; height: auto; border: none;\" onload=\"{\n",
       "        let frame = this;\n",
       "        window.addEventListener('message', function(e) {\n",
       "            if (e.source !== frame.contentWindow) return; // Only proceed if the message is from this iframe\n",
       "            if (e.data.height) frame.style.height = (e.data.height+1) + 'px';\n",
       "        }, false);\n",
       "    }\" allow=\"accelerometer; autoplay; camera; clipboard-read; clipboard-write; display-capture; encrypted-media; fullscreen; gamepad; geolocation; gyroscope; hid; identity-credentials-get; idle-detection; magnetometer; microphone; midi; payment; picture-in-picture; publickey-credentials-get; screen-wake-lock; serial; usb; web-share; xr-spatial-tracking\"></iframe> "
      ],
      "text/plain": [
       "<IPython.core.display.HTML object>"
      ]
     },
     "metadata": {},
     "output_type": "display_data"
    }
   ],
   "source": [
    "#| eval: false\n",
    "#| output: false\n",
    "test_func = test_phone_mockup_basic_fasthtml_examples\n",
    "app, rt = create_test_app(theme=DaisyUITheme.LIGHT)\n",
    "\n",
    "@rt\n",
    "def index():\n",
    "    return create_test_page(test_func.__doc__.title().replace('.', ''), test_func())\n",
    "server = start_test_server(app)\n",
    "display(HTMX())\n",
    "server.stop()"
   ]
  },
  {
   "cell_type": "code",
   "execution_count": null,
   "id": "4666a5a3-26bb-4d91-b5be-f941df8f9d2f",
   "metadata": {},
   "outputs": [
    {
     "data": {
      "text/markdown": [
       "```html\n",
       "<div class=\"mockup-phone border-primary\">\n",
       "  <div class=\"mockup-phone-camera\"></div>\n",
       "  <div class=\"mockup-phone-display\">\n",
       "<img alt=\"wallpaper\" src=\"https://img.daisyui.com/images/stock/453966.webp\">  </div>\n",
       "</div>\n",
       "\n",
       "```"
      ],
      "text/plain": [
       "div((div((),{'class': 'mockup-phone-camera'}), div((img((),{'alt': 'wallpaper', 'src': 'https://img.daisyui.com/images/stock/453966.webp'}),),{'class': 'mockup-phone-display'})),{'class': 'mockup-phone border-primary'})"
      ]
     },
     "execution_count": null,
     "metadata": {},
     "output_type": "execute_result"
    }
   ],
   "source": [
    "#|exports\n",
    "def test_phone_mockup_with_color_and_wallpaper_fasthtml_examples():\n",
    "    \"\"\"Test phone mockup with color and wallpaper from daisyUI v5 documentation.\"\"\"\n",
    "    from fasthtml.common import Div, Img\n",
    "    from cjm_fasthtml_daisyui.core.utility_classes import border_dui\n",
    "    \n",
    "    # Phone mockup with color and wallpaper\n",
    "    phone_with_wallpaper = Div(\n",
    "        Div(cls=str(mockup_phone_camera)),\n",
    "        Div(\n",
    "            Img(\n",
    "                alt=\"wallpaper\",\n",
    "                src=\"https://img.daisyui.com/images/stock/453966.webp\"\n",
    "            ),\n",
    "            cls=str(mockup_phone_display)\n",
    "        ),\n",
    "        cls=combine_classes(mockup_phone, border_dui.primary)\n",
    "    )\n",
    "    \n",
    "    # Verify structure\n",
    "    assert phone_with_wallpaper.tag == \"div\"\n",
    "    assert \"mockup-phone\" in phone_with_wallpaper.attrs['class']\n",
    "    assert \"border-primary\" in phone_with_wallpaper.attrs['class']\n",
    "    assert len(phone_with_wallpaper.children) == 2\n",
    "    \n",
    "    # Verify camera element\n",
    "    camera_element = phone_with_wallpaper.children[0]\n",
    "    assert camera_element.tag == \"div\"\n",
    "    assert camera_element.attrs['class'] == \"mockup-phone-camera\"\n",
    "    assert camera_element.children == ()  # Empty div\n",
    "    \n",
    "    # Verify display element with image\n",
    "    display_element = phone_with_wallpaper.children[1]\n",
    "    assert display_element.tag == \"div\"\n",
    "    assert display_element.attrs['class'] == \"mockup-phone-display\"\n",
    "    assert len(display_element.children) == 1\n",
    "    \n",
    "    # Verify wallpaper image\n",
    "    wallpaper_img = display_element.children[0]\n",
    "    assert wallpaper_img.tag == \"img\"\n",
    "    assert wallpaper_img.attrs['alt'] == \"wallpaper\"\n",
    "    assert wallpaper_img.attrs['src'] == \"https://img.daisyui.com/images/stock/453966.webp\"\n",
    "    \n",
    "    return phone_with_wallpaper\n",
    "\n",
    "# Run the tests\n",
    "test_phone_mockup_with_color_and_wallpaper_fasthtml_examples()"
   ]
  },
  {
   "cell_type": "code",
   "execution_count": null,
   "id": "85d72161-e718-4c66-bc59-a3569b7f7616",
   "metadata": {},
   "outputs": [
    {
     "data": {
      "text/html": [
       "\n",
       "<script>\n",
       "document.body.addEventListener('htmx:configRequest', (event) => {\n",
       "    if(event.detail.path.includes('://')) return;\n",
       "    htmx.config.selfRequestsOnly=false;\n",
       "    event.detail.path = `${location.protocol}//${location.hostname}:8000${event.detail.path}`;\n",
       "});\n",
       "</script>"
      ],
      "text/plain": [
       "<IPython.core.display.HTML object>"
      ]
     },
     "metadata": {},
     "output_type": "display_data"
    },
    {
     "data": {
      "text/html": [
       "<iframe src=\"http://localhost:8000/\" style=\"width: 100%; height: auto; border: none;\" onload=\"{\n",
       "        let frame = this;\n",
       "        window.addEventListener('message', function(e) {\n",
       "            if (e.source !== frame.contentWindow) return; // Only proceed if the message is from this iframe\n",
       "            if (e.data.height) frame.style.height = (e.data.height+1) + 'px';\n",
       "        }, false);\n",
       "    }\" allow=\"accelerometer; autoplay; camera; clipboard-read; clipboard-write; display-capture; encrypted-media; fullscreen; gamepad; geolocation; gyroscope; hid; identity-credentials-get; idle-detection; magnetometer; microphone; midi; payment; picture-in-picture; publickey-credentials-get; screen-wake-lock; serial; usb; web-share; xr-spatial-tracking\"></iframe> "
      ],
      "text/plain": [
       "<IPython.core.display.HTML object>"
      ]
     },
     "metadata": {},
     "output_type": "display_data"
    }
   ],
   "source": [
    "#| eval: false\n",
    "#| output: false\n",
    "test_func = test_phone_mockup_with_color_and_wallpaper_fasthtml_examples\n",
    "app, rt = create_test_app(theme=DaisyUITheme.LIGHT)\n",
    "\n",
    "@rt\n",
    "def index():\n",
    "    return create_test_page(test_func.__doc__.title().replace('.', ''), test_func())\n",
    "server = start_test_server(app)\n",
    "display(HTMX())\n",
    "server.stop()"
   ]
  },
  {
   "cell_type": "code",
   "execution_count": null,
   "id": "214654cc-9758-48f9-92e2-0892029c4512",
   "metadata": {},
   "outputs": [],
   "source": []
  },
  {
   "cell_type": "code",
   "execution_count": null,
   "id": "a9d78aa3-0be8-49e6-8bfb-cb9a232ee1ee",
   "metadata": {},
   "outputs": [],
   "source": []
  },
  {
   "cell_type": "code",
   "execution_count": null,
   "id": "01785a18-9bb0-4dbc-9eae-04addf6dede9",
   "metadata": {},
   "outputs": [],
   "source": []
  },
  {
   "cell_type": "code",
   "execution_count": null,
   "id": "43a3d5aa-4f07-48f4-b7c3-5c63612f0fb2",
   "metadata": {},
   "outputs": [],
   "source": []
  },
  {
   "cell_type": "code",
   "execution_count": null,
   "id": "248adc40-6e77-4203-9830-de838e25a00a",
   "metadata": {},
   "outputs": [],
   "source": []
  },
  {
   "cell_type": "code",
   "execution_count": null,
   "id": "a2029d6d-bf22-4e16-87e1-d609762dc867",
   "metadata": {},
   "outputs": [],
   "source": []
  },
  {
   "cell_type": "code",
   "execution_count": null,
   "id": "c9dfaad9-504c-4853-886b-2d1adb1cc3a0",
   "metadata": {},
   "outputs": [],
   "source": []
  },
  {
   "cell_type": "code",
   "execution_count": null,
   "id": "454d5b84-fc57-44ab-a6f0-3123333998cb",
   "metadata": {},
   "outputs": [],
   "source": []
  },
  {
   "cell_type": "code",
   "execution_count": null,
   "id": "d471d21b-6fe5-4c63-90be-5176c4cbd08b",
   "metadata": {},
   "outputs": [],
   "source": []
  },
  {
   "cell_type": "code",
   "execution_count": null,
   "id": "73b88b7e-0be6-4a82-9c02-f3df8af20015",
   "metadata": {},
   "outputs": [],
   "source": []
  },
  {
   "cell_type": "code",
   "execution_count": null,
   "id": "7ab8257a-c30b-45b6-a784-729b67686791",
   "metadata": {},
   "outputs": [],
   "source": [
    "#| hide\n",
    "import nbdev; nbdev.nbdev_export()"
   ]
  }
 ],
 "metadata": {
  "kernelspec": {
   "display_name": "python3",
   "language": "python",
   "name": "python3"
  }
 },
 "nbformat": 4,
 "nbformat_minor": 5
}
