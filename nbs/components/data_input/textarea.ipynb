{
 "cells": [
  {
   "cell_type": "markdown",
   "id": "7c51b46b-ece1-456d-8e84-7de122e72b62",
   "metadata": {},
   "source": [
    "# textarea\n",
    "\n",
    "> Textarea allows users to enter text in multiple lines."
   ]
  },
  {
   "cell_type": "code",
   "execution_count": null,
   "id": "25536bdc-e099-477f-9e2d-a5f71df5dff2",
   "metadata": {},
   "outputs": [],
   "source": [
    "#| default_exp components.data_input.textarea"
   ]
  },
  {
   "cell_type": "code",
   "execution_count": null,
   "id": "2e6f21ce-7766-455a-8ebb-df2c17e7d977",
   "metadata": {},
   "outputs": [],
   "source": [
    "#| hide\n",
    "from nbdev.showdoc import *"
   ]
  },
  {
   "cell_type": "code",
   "execution_count": null,
   "id": "045c6538-403e-4222-b3bb-db20f188524d",
   "metadata": {},
   "outputs": [],
   "source": [
    "#| export\n",
    "\n",
    "from cjm_fasthtml_tailwind.core.base import (\n",
    "    SingleValueFactory, combine_classes\n",
    ")\n",
    "from cjm_fasthtml_tailwind.builders.scales import SimpleFactory, enums_to_simple_factory\n",
    "\n",
    "from cjm_fasthtml_daisyui.builders.colors import SemanticColorBrand, SemanticColorStatus\n",
    "from cjm_fasthtml_daisyui.builders.sizes import DaisyUINamedSize\n",
    "from cjm_fasthtml_daisyui.builders.styles import GhostStyle\n",
    "\n",
    "from fasthtml.common import Div\n",
    "from fasthtml.jupyter import JupyUvi, HTMX\n",
    "from cjm_fasthtml_daisyui.core.testing import create_test_app, create_test_page, start_test_server\n",
    "from cjm_fasthtml_daisyui.core.themes import DaisyUITheme\n",
    "from IPython.display import display"
   ]
  },
  {
   "cell_type": "markdown",
   "id": "419de994-e5bb-4d28-9784-9e06a3dd672f",
   "metadata": {},
   "source": [
    "### Base Text Area"
   ]
  },
  {
   "cell_type": "code",
   "execution_count": null,
   "id": "c802d106-49fb-4d34-ba04-5f54c88e165b",
   "metadata": {},
   "outputs": [],
   "source": [
    "#| exports\n",
    "textarea = SingleValueFactory(\"textarea\", \"Base textarea component for <textarea> element\") # Base textarea component"
   ]
  },
  {
   "cell_type": "markdown",
   "id": "19452380-8baa-4a72-9c58-ae609e8f9999",
   "metadata": {},
   "source": [
    "### Text Area Styles"
   ]
  },
  {
   "cell_type": "code",
   "execution_count": null,
   "id": "636c6bcd-2176-4191-aa39-c937893243e2",
   "metadata": {},
   "outputs": [],
   "source": [
    "#| exports\n",
    "textarea_styles = enums_to_simple_factory(textarea, [GhostStyle]) # textarea style variants"
   ]
  },
  {
   "cell_type": "markdown",
   "id": "075c6339-3434-44e3-8153-66ed381eeba6",
   "metadata": {},
   "source": [
    "### Text Area Colors"
   ]
  },
  {
   "cell_type": "code",
   "execution_count": null,
   "id": "ad2d932c-79ea-4792-bdaf-5bda859340ca",
   "metadata": {},
   "outputs": [],
   "source": [
    "#| exports\n",
    "textarea_colors = enums_to_simple_factory(textarea, [SemanticColorBrand, SemanticColorStatus], \"textarea color variants using daisyUI semantic colors\") # textarea color variants"
   ]
  },
  {
   "cell_type": "markdown",
   "id": "62ffe3d0-3f76-4e6d-aee5-67ce42db1eab",
   "metadata": {},
   "source": [
    "### Text Area Sizes"
   ]
  },
  {
   "cell_type": "code",
   "execution_count": null,
   "id": "4666a5a3-26bb-4d91-b5be-f941df8f9d2f",
   "metadata": {},
   "outputs": [],
   "source": [
    "#| exports\n",
    "textarea_sizes = enums_to_simple_factory(textarea, [DaisyUINamedSize], \"textarea size variants from extra small to extra large\") # textarea size variants"
   ]
  },
  {
   "cell_type": "markdown",
   "id": "4558a41f-ea87-4b3a-ade3-d14d59b62bbc",
   "metadata": {},
   "source": [
    "### Text Area Test Examples"
   ]
  },
  {
   "cell_type": "code",
   "execution_count": null,
   "id": "214654cc-9758-48f9-92e2-0892029c4512",
   "metadata": {},
   "outputs": [],
   "source": [
    "#|exports\n",
    "def test_textarea_basic_examples():\n",
    "    \"\"\"Test basic textarea utilities.\"\"\"\n",
    "    # Basic textarea\n",
    "    assert str(textarea) == \"textarea\"\n",
    "    \n",
    "    # Test with modifiers\n",
    "    assert str(textarea.hover) == \"hover:textarea\"\n",
    "    assert str(textarea.md) == \"md:textarea\"\n",
    "    assert str(textarea.dark) == \"dark:textarea\"\n",
    "\n",
    "# Run the tests\n",
    "test_textarea_basic_examples()"
   ]
  },
  {
   "cell_type": "code",
   "execution_count": null,
   "id": "a9d78aa3-0be8-49e6-8bfb-cb9a232ee1ee",
   "metadata": {},
   "outputs": [],
   "source": [
    "#|exports\n",
    "def test_textarea_styles_examples():\n",
    "    \"\"\"Test textarea style variants.\"\"\"\n",
    "    assert str(textarea_styles.ghost) == \"textarea-ghost\"\n",
    "\n",
    "# Run the tests\n",
    "test_textarea_styles_examples()"
   ]
  },
  {
   "cell_type": "code",
   "execution_count": null,
   "id": "01785a18-9bb0-4dbc-9eae-04addf6dede9",
   "metadata": {},
   "outputs": [],
   "source": [
    "#|exports\n",
    "def test_textarea_colors_examples():\n",
    "    \"\"\"Test textarea color variants.\"\"\"\n",
    "    # All color variants\n",
    "    assert str(textarea_colors.neutral) == \"textarea-neutral\"\n",
    "    assert str(textarea_colors.primary) == \"textarea-primary\"\n",
    "    assert str(textarea_colors.secondary) == \"textarea-secondary\"\n",
    "    assert str(textarea_colors.accent) == \"textarea-accent\"\n",
    "    assert str(textarea_colors.info) == \"textarea-info\"\n",
    "    assert str(textarea_colors.success) == \"textarea-success\"\n",
    "    assert str(textarea_colors.warning) == \"textarea-warning\"\n",
    "    assert str(textarea_colors.error) == \"textarea-error\"\n",
    "    \n",
    "    # With modifiers\n",
    "    assert str(textarea_colors.primary.hover) == \"hover:textarea-primary\"\n",
    "    assert str(textarea_colors.success.focus) == \"focus:textarea-success\"\n",
    "\n",
    "# Run the tests\n",
    "test_textarea_colors_examples()"
   ]
  },
  {
   "cell_type": "code",
   "execution_count": null,
   "id": "43a3d5aa-4f07-48f4-b7c3-5c63612f0fb2",
   "metadata": {},
   "outputs": [],
   "source": [
    "#|exports\n",
    "def test_textarea_sizes_examples():\n",
    "    \"\"\"Test textarea size variants.\"\"\"\n",
    "    assert str(textarea_sizes.xs) == \"textarea-xs\"\n",
    "    assert str(textarea_sizes.sm) == \"textarea-sm\"\n",
    "    assert str(textarea_sizes.md) == \"textarea-md\"\n",
    "    assert str(textarea_sizes.lg) == \"textarea-lg\"\n",
    "    assert str(textarea_sizes.xl) == \"textarea-xl\"\n",
    "    \n",
    "    # With responsive modifiers\n",
    "    assert str(textarea_sizes.xs.sm) == \"sm:textarea-xs\"\n",
    "    assert str(textarea_sizes.lg.md) == \"md:textarea-lg\"\n",
    "\n",
    "# Run the tests\n",
    "test_textarea_sizes_examples()"
   ]
  },
  {
   "cell_type": "code",
   "execution_count": null,
   "id": "2e3d4135-ebce-42ec-8549-81d31a913752",
   "metadata": {},
   "outputs": [
    {
     "data": {
      "text/markdown": [
       "```html\n",
       "<textarea placeholder=\"Bio\" class=\"textarea\"></textarea>\n",
       "```"
      ],
      "text/plain": [
       "textarea((),{'placeholder': 'Bio', 'class': 'textarea'})"
      ]
     },
     "execution_count": null,
     "metadata": {},
     "output_type": "execute_result"
    }
   ],
   "source": [
    "#|exports\n",
    "def test_textarea_basic_fasthtml_examples():\n",
    "    \"\"\"Test basic textarea example from daisyUI v5 documentation.\"\"\"\n",
    "    from fasthtml.common import Textarea\n",
    "    \n",
    "    # Basic textarea\n",
    "    basic_textarea = Textarea(placeholder=\"Bio\", cls=str(textarea))\n",
    "    \n",
    "    # Verify structure\n",
    "    assert basic_textarea.tag == \"textarea\"\n",
    "    assert basic_textarea.attrs['class'] == \"textarea\"\n",
    "    assert basic_textarea.attrs['placeholder'] == \"Bio\"\n",
    "    \n",
    "    return basic_textarea\n",
    "\n",
    "# Run the tests\n",
    "test_textarea_basic_fasthtml_examples()"
   ]
  },
  {
   "cell_type": "code",
   "execution_count": null,
   "id": "dc4a6afe-51fc-4097-93df-9efdec74f6bb",
   "metadata": {},
   "outputs": [],
   "source": []
  },
  {
   "cell_type": "code",
   "execution_count": null,
   "id": "rpj7w8ymq8",
   "metadata": {},
   "outputs": [
    {
     "data": {
      "text/html": [
       "\n",
       "<script>\n",
       "document.body.addEventListener('htmx:configRequest', (event) => {\n",
       "    if(event.detail.path.includes('://')) return;\n",
       "    htmx.config.selfRequestsOnly=false;\n",
       "    event.detail.path = `${location.protocol}//${location.hostname}:8000${event.detail.path}`;\n",
       "});\n",
       "</script>"
      ],
      "text/plain": [
       "<IPython.core.display.HTML object>"
      ]
     },
     "metadata": {},
     "output_type": "display_data"
    },
    {
     "data": {
      "text/html": [
       "<iframe src=\"http://localhost:8000/\" style=\"width: 100%; height: auto; border: none;\" onload=\"{\n",
       "        let frame = this;\n",
       "        window.addEventListener('message', function(e) {\n",
       "            if (e.source !== frame.contentWindow) return; // Only proceed if the message is from this iframe\n",
       "            if (e.data.height) frame.style.height = (e.data.height+1) + 'px';\n",
       "        }, false);\n",
       "    }\" allow=\"accelerometer; autoplay; camera; clipboard-read; clipboard-write; display-capture; encrypted-media; fullscreen; gamepad; geolocation; gyroscope; hid; identity-credentials-get; idle-detection; magnetometer; microphone; midi; payment; picture-in-picture; publickey-credentials-get; screen-wake-lock; serial; usb; web-share; xr-spatial-tracking\"></iframe> "
      ],
      "text/plain": [
       "<IPython.core.display.HTML object>"
      ]
     },
     "metadata": {},
     "output_type": "display_data"
    }
   ],
   "source": [
    "#| eval: false\n",
    "#| output: false\n",
    "test_func = test_textarea_basic_fasthtml_examples\n",
    "app, rt = create_test_app(theme=DaisyUITheme.LIGHT)\n",
    "\n",
    "@rt\n",
    "def index():\n",
    "    return create_test_page(test_func.__doc__.title().replace('.', ''), test_func())\n",
    "server = start_test_server(app)\n",
    "display(HTMX())\n",
    "server.stop()"
   ]
  },
  {
   "cell_type": "code",
   "execution_count": null,
   "id": "3897cee0-9df6-41ff-afc3-d95244381f86",
   "metadata": {},
   "outputs": [
    {
     "data": {
      "text/markdown": [
       "```html\n",
       "<textarea placeholder=\"Bio\" class=\"textarea textarea-ghost\"></textarea>\n",
       "```"
      ],
      "text/plain": [
       "textarea((),{'placeholder': 'Bio', 'class': 'textarea textarea-ghost'})"
      ]
     },
     "execution_count": null,
     "metadata": {},
     "output_type": "execute_result"
    }
   ],
   "source": [
    "#|exports\n",
    "def test_textarea_ghost_fasthtml_examples():\n",
    "    \"\"\"Test ghost textarea (no background) from daisyUI v5 documentation.\"\"\"\n",
    "    from fasthtml.common import Textarea\n",
    "    \n",
    "    # Ghost textarea (no background)\n",
    "    ghost_textarea = Textarea(\n",
    "        placeholder=\"Bio\",\n",
    "        cls=combine_classes(textarea, textarea_styles.ghost)\n",
    "    )\n",
    "    \n",
    "    # Verify structure\n",
    "    assert ghost_textarea.tag == \"textarea\"\n",
    "    assert \"textarea\" in ghost_textarea.attrs['class']\n",
    "    assert \"textarea-ghost\" in ghost_textarea.attrs['class']\n",
    "    assert ghost_textarea.attrs['placeholder'] == \"Bio\"\n",
    "    \n",
    "    return ghost_textarea\n",
    "\n",
    "# Run the tests\n",
    "test_textarea_ghost_fasthtml_examples()"
   ]
  },
  {
   "cell_type": "code",
   "execution_count": null,
   "id": "cf6bed2e-2332-4ac9-a619-ec369e2b2ff4",
   "metadata": {},
   "outputs": [],
   "source": []
  },
  {
   "cell_type": "code",
   "execution_count": null,
   "id": "1i5mfa12pqk",
   "metadata": {},
   "outputs": [
    {
     "data": {
      "text/html": [
       "\n",
       "<script>\n",
       "document.body.addEventListener('htmx:configRequest', (event) => {\n",
       "    if(event.detail.path.includes('://')) return;\n",
       "    htmx.config.selfRequestsOnly=false;\n",
       "    event.detail.path = `${location.protocol}//${location.hostname}:8000${event.detail.path}`;\n",
       "});\n",
       "</script>"
      ],
      "text/plain": [
       "<IPython.core.display.HTML object>"
      ]
     },
     "metadata": {},
     "output_type": "display_data"
    },
    {
     "data": {
      "text/html": [
       "<iframe src=\"http://localhost:8000/\" style=\"width: 100%; height: auto; border: none;\" onload=\"{\n",
       "        let frame = this;\n",
       "        window.addEventListener('message', function(e) {\n",
       "            if (e.source !== frame.contentWindow) return; // Only proceed if the message is from this iframe\n",
       "            if (e.data.height) frame.style.height = (e.data.height+1) + 'px';\n",
       "        }, false);\n",
       "    }\" allow=\"accelerometer; autoplay; camera; clipboard-read; clipboard-write; display-capture; encrypted-media; fullscreen; gamepad; geolocation; gyroscope; hid; identity-credentials-get; idle-detection; magnetometer; microphone; midi; payment; picture-in-picture; publickey-credentials-get; screen-wake-lock; serial; usb; web-share; xr-spatial-tracking\"></iframe> "
      ],
      "text/plain": [
       "<IPython.core.display.HTML object>"
      ]
     },
     "metadata": {},
     "output_type": "display_data"
    }
   ],
   "source": [
    "#| eval: false\n",
    "#| output: false\n",
    "test_func = test_textarea_ghost_fasthtml_examples\n",
    "app, rt = create_test_app(theme=DaisyUITheme.LIGHT)\n",
    "\n",
    "@rt\n",
    "def index():\n",
    "    return create_test_page(test_func.__doc__.title().replace('.', ''), test_func())\n",
    "server = start_test_server(app)\n",
    "display(HTMX())\n",
    "server.stop()"
   ]
  },
  {
   "cell_type": "code",
   "execution_count": null,
   "id": "c5682a5f-0a2e-495d-8c25-d17439214339",
   "metadata": {},
   "outputs": [
    {
     "data": {
      "text/markdown": [
       "```html\n",
       "<fieldset class=\"fieldset\"><legend class=\"fieldset-legend\">Your bio</legend><textarea placeholder=\"Bio\" class=\"textarea h-24\"></textarea>  <div class=\"label\">Optional</div>\n",
       "</fieldset>\n",
       "```"
      ],
      "text/plain": [
       "fieldset((legend(('Your bio',),{'class': 'fieldset-legend'}), textarea((),{'placeholder': 'Bio', 'class': 'textarea h-24'}), div(('Optional',),{'class': 'label'})),{'class': 'fieldset'})"
      ]
     },
     "execution_count": null,
     "metadata": {},
     "output_type": "execute_result"
    }
   ],
   "source": [
    "#|exports\n",
    "def test_textarea_with_form_control_fasthtml_examples():\n",
    "    \"\"\"Test textarea with form control and labels from daisyUI v5 documentation.\"\"\"\n",
    "    from fasthtml.common import Fieldset, Legend, Textarea, Div\n",
    "    from cjm_fasthtml_tailwind.utilities.sizing import h\n",
    "    from cjm_fasthtml_daisyui.components.data_input.fieldset import fieldset, fieldset_legend\n",
    "    from cjm_fasthtml_daisyui.components.data_input.label import label\n",
    "    \n",
    "    # Textarea with form control and labels\n",
    "    form_control_textarea = Fieldset(\n",
    "        Legend(\"Your bio\", cls=str(fieldset_legend)),\n",
    "        Textarea(\n",
    "            placeholder=\"Bio\",\n",
    "            cls=combine_classes(textarea, h._24)\n",
    "        ),\n",
    "        Div(\"Optional\", cls=str(label)),\n",
    "        cls=str(fieldset)\n",
    "    )\n",
    "    \n",
    "    # Verify structure\n",
    "    assert form_control_textarea.tag == \"fieldset\"\n",
    "    assert form_control_textarea.attrs['class'] == \"fieldset\"\n",
    "    \n",
    "    # Verify legend\n",
    "    legend_element = form_control_textarea.children[0]\n",
    "    assert legend_element.tag == \"legend\"\n",
    "    assert legend_element.attrs['class'] == \"fieldset-legend\"\n",
    "    assert legend_element.children[0] == \"Your bio\"\n",
    "    \n",
    "    # Verify textarea\n",
    "    textarea_element = form_control_textarea.children[1]\n",
    "    assert textarea_element.tag == \"textarea\"\n",
    "    assert \"textarea\" in textarea_element.attrs['class']\n",
    "    assert \"h-24\" in textarea_element.attrs['class']\n",
    "    assert textarea_element.attrs['placeholder'] == \"Bio\"\n",
    "    \n",
    "    # Verify label\n",
    "    label_element = form_control_textarea.children[2]\n",
    "    assert label_element.tag == \"div\"\n",
    "    assert label_element.attrs['class'] == \"label\"\n",
    "    assert label_element.children[0] == \"Optional\"\n",
    "    \n",
    "    return form_control_textarea\n",
    "\n",
    "# Run the tests\n",
    "test_textarea_with_form_control_fasthtml_examples()"
   ]
  },
  {
   "cell_type": "code",
   "execution_count": null,
   "id": "fe515f66-daa4-48b6-8ef3-21ce66623cac",
   "metadata": {},
   "outputs": [],
   "source": []
  },
  {
   "cell_type": "code",
   "execution_count": null,
   "id": "xd7fn4nib0j",
   "metadata": {},
   "outputs": [
    {
     "data": {
      "text/html": [
       "\n",
       "<script>\n",
       "document.body.addEventListener('htmx:configRequest', (event) => {\n",
       "    if(event.detail.path.includes('://')) return;\n",
       "    htmx.config.selfRequestsOnly=false;\n",
       "    event.detail.path = `${location.protocol}//${location.hostname}:8000${event.detail.path}`;\n",
       "});\n",
       "</script>"
      ],
      "text/plain": [
       "<IPython.core.display.HTML object>"
      ]
     },
     "metadata": {},
     "output_type": "display_data"
    },
    {
     "data": {
      "text/html": [
       "<iframe src=\"http://localhost:8000/\" style=\"width: 100%; height: auto; border: none;\" onload=\"{\n",
       "        let frame = this;\n",
       "        window.addEventListener('message', function(e) {\n",
       "            if (e.source !== frame.contentWindow) return; // Only proceed if the message is from this iframe\n",
       "            if (e.data.height) frame.style.height = (e.data.height+1) + 'px';\n",
       "        }, false);\n",
       "    }\" allow=\"accelerometer; autoplay; camera; clipboard-read; clipboard-write; display-capture; encrypted-media; fullscreen; gamepad; geolocation; gyroscope; hid; identity-credentials-get; idle-detection; magnetometer; microphone; midi; payment; picture-in-picture; publickey-credentials-get; screen-wake-lock; serial; usb; web-share; xr-spatial-tracking\"></iframe> "
      ],
      "text/plain": [
       "<IPython.core.display.HTML object>"
      ]
     },
     "metadata": {},
     "output_type": "display_data"
    }
   ],
   "source": [
    "#| eval: false\n",
    "#| output: false\n",
    "test_func = test_textarea_with_form_control_fasthtml_examples\n",
    "app, rt = create_test_app(theme=DaisyUITheme.LIGHT)\n",
    "\n",
    "@rt\n",
    "def index():\n",
    "    return create_test_page(test_func.__doc__.title().replace('.', ''), test_func())\n",
    "server = start_test_server(app)\n",
    "display(HTMX())\n",
    "server.stop()"
   ]
  },
  {
   "cell_type": "code",
   "execution_count": null,
   "id": "8bb66ace-b651-43b7-bf43-5f97c1849ebd",
   "metadata": {},
   "outputs": [
    {
     "data": {
      "text/markdown": [
       "```html\n",
       "<div>\n",
       "<textarea placeholder=\"Primary\" class=\"textarea textarea-primary\"></textarea><textarea placeholder=\"Secondary\" class=\"textarea textarea-secondary\"></textarea><textarea placeholder=\"Accent\" class=\"textarea textarea-accent\"></textarea><textarea placeholder=\"Neutral\" class=\"textarea textarea-neutral\"></textarea><textarea placeholder=\"Info\" class=\"textarea textarea-info\"></textarea><textarea placeholder=\"Success\" class=\"textarea textarea-success\"></textarea><textarea placeholder=\"Warning\" class=\"textarea textarea-warning\"></textarea><textarea placeholder=\"Error\" class=\"textarea textarea-error\"></textarea></div>\n",
       "\n",
       "```"
      ],
      "text/plain": [
       "div((textarea((),{'placeholder': 'Primary', 'class': 'textarea textarea-primary'}), textarea((),{'placeholder': 'Secondary', 'class': 'textarea textarea-secondary'}), textarea((),{'placeholder': 'Accent', 'class': 'textarea textarea-accent'}), textarea((),{'placeholder': 'Neutral', 'class': 'textarea textarea-neutral'}), textarea((),{'placeholder': 'Info', 'class': 'textarea textarea-info'}), textarea((),{'placeholder': 'Success', 'class': 'textarea textarea-success'}), textarea((),{'placeholder': 'Warning', 'class': 'textarea textarea-warning'}), textarea((),{'placeholder': 'Error', 'class': 'textarea textarea-error'})),{})"
      ]
     },
     "execution_count": null,
     "metadata": {},
     "output_type": "execute_result"
    }
   ],
   "source": [
    "#|exports\n",
    "def test_textarea_colors_fasthtml_examples():\n",
    "    \"\"\"Test textarea color variations from daisyUI v5 documentation.\"\"\"\n",
    "    from fasthtml.common import Textarea, Div\n",
    "    \n",
    "    # Textarea colors\n",
    "    primary_textarea = Textarea(\n",
    "        placeholder=\"Primary\",\n",
    "        cls=combine_classes(textarea, textarea_colors.primary)\n",
    "    )\n",
    "    assert \"textarea\" in primary_textarea.attrs['class']\n",
    "    assert \"textarea-primary\" in primary_textarea.attrs['class']\n",
    "    assert primary_textarea.attrs['placeholder'] == \"Primary\"\n",
    "    \n",
    "    secondary_textarea = Textarea(\n",
    "        placeholder=\"Secondary\",\n",
    "        cls=combine_classes(textarea, textarea_colors.secondary)\n",
    "    )\n",
    "    assert \"textarea-secondary\" in secondary_textarea.attrs['class']\n",
    "    assert secondary_textarea.attrs['placeholder'] == \"Secondary\"\n",
    "    \n",
    "    accent_textarea = Textarea(\n",
    "        placeholder=\"Accent\",\n",
    "        cls=combine_classes(textarea, textarea_colors.accent)\n",
    "    )\n",
    "    assert \"textarea-accent\" in accent_textarea.attrs['class']\n",
    "    assert accent_textarea.attrs['placeholder'] == \"Accent\"\n",
    "    \n",
    "    neutral_textarea = Textarea(\n",
    "        placeholder=\"Neutral\",\n",
    "        cls=combine_classes(textarea, textarea_colors.neutral)\n",
    "    )\n",
    "    assert \"textarea-neutral\" in neutral_textarea.attrs['class']\n",
    "    assert neutral_textarea.attrs['placeholder'] == \"Neutral\"\n",
    "    \n",
    "    info_textarea = Textarea(\n",
    "        placeholder=\"Info\",\n",
    "        cls=combine_classes(textarea, textarea_colors.info)\n",
    "    )\n",
    "    assert \"textarea-info\" in info_textarea.attrs['class']\n",
    "    assert info_textarea.attrs['placeholder'] == \"Info\"\n",
    "    \n",
    "    success_textarea = Textarea(\n",
    "        placeholder=\"Success\",\n",
    "        cls=combine_classes(textarea, textarea_colors.success)\n",
    "    )\n",
    "    assert \"textarea-success\" in success_textarea.attrs['class']\n",
    "    assert success_textarea.attrs['placeholder'] == \"Success\"\n",
    "    \n",
    "    warning_textarea = Textarea(\n",
    "        placeholder=\"Warning\",\n",
    "        cls=combine_classes(textarea, textarea_colors.warning)\n",
    "    )\n",
    "    assert \"textarea-warning\" in warning_textarea.attrs['class']\n",
    "    assert warning_textarea.attrs['placeholder'] == \"Warning\"\n",
    "    \n",
    "    error_textarea = Textarea(\n",
    "        placeholder=\"Error\",\n",
    "        cls=combine_classes(textarea, textarea_colors.error)\n",
    "    )\n",
    "    assert \"textarea-error\" in error_textarea.attrs['class']\n",
    "    assert error_textarea.attrs['placeholder'] == \"Error\"\n",
    "    \n",
    "    # Return all color variations\n",
    "    return Div(\n",
    "        primary_textarea,\n",
    "        secondary_textarea,\n",
    "        accent_textarea,\n",
    "        neutral_textarea,\n",
    "        info_textarea,\n",
    "        success_textarea,\n",
    "        warning_textarea,\n",
    "        error_textarea\n",
    "    )\n",
    "\n",
    "# Run the tests\n",
    "test_textarea_colors_fasthtml_examples()"
   ]
  },
  {
   "cell_type": "code",
   "execution_count": null,
   "id": "7ec70868-f0b1-4c40-a323-0e5115642daf",
   "metadata": {},
   "outputs": [],
   "source": []
  },
  {
   "cell_type": "code",
   "execution_count": null,
   "id": "npndj7z9ifr",
   "metadata": {},
   "outputs": [
    {
     "data": {
      "text/html": [
       "\n",
       "<script>\n",
       "document.body.addEventListener('htmx:configRequest', (event) => {\n",
       "    if(event.detail.path.includes('://')) return;\n",
       "    htmx.config.selfRequestsOnly=false;\n",
       "    event.detail.path = `${location.protocol}//${location.hostname}:8000${event.detail.path}`;\n",
       "});\n",
       "</script>"
      ],
      "text/plain": [
       "<IPython.core.display.HTML object>"
      ]
     },
     "metadata": {},
     "output_type": "display_data"
    },
    {
     "data": {
      "text/html": [
       "<iframe src=\"http://localhost:8000/\" style=\"width: 100%; height: auto; border: none;\" onload=\"{\n",
       "        let frame = this;\n",
       "        window.addEventListener('message', function(e) {\n",
       "            if (e.source !== frame.contentWindow) return; // Only proceed if the message is from this iframe\n",
       "            if (e.data.height) frame.style.height = (e.data.height+1) + 'px';\n",
       "        }, false);\n",
       "    }\" allow=\"accelerometer; autoplay; camera; clipboard-read; clipboard-write; display-capture; encrypted-media; fullscreen; gamepad; geolocation; gyroscope; hid; identity-credentials-get; idle-detection; magnetometer; microphone; midi; payment; picture-in-picture; publickey-credentials-get; screen-wake-lock; serial; usb; web-share; xr-spatial-tracking\"></iframe> "
      ],
      "text/plain": [
       "<IPython.core.display.HTML object>"
      ]
     },
     "metadata": {},
     "output_type": "display_data"
    }
   ],
   "source": [
    "#| eval: false\n",
    "#| output: false\n",
    "test_func = test_textarea_colors_fasthtml_examples\n",
    "app, rt = create_test_app(theme=DaisyUITheme.LIGHT)\n",
    "\n",
    "@rt\n",
    "def index():\n",
    "    return create_test_page(test_func.__doc__.title().replace('.', ''), test_func())\n",
    "server = start_test_server(app)\n",
    "display(HTMX())\n",
    "server.stop()"
   ]
  },
  {
   "cell_type": "code",
   "execution_count": null,
   "id": "24309e5c-6cac-4d0c-aa31-d61c153e8fd0",
   "metadata": {},
   "outputs": [
    {
     "data": {
      "text/markdown": [
       "```html\n",
       "<div>\n",
       "<textarea placeholder=\"Bio\" class=\"textarea textarea-xs\"></textarea><textarea placeholder=\"Bio\" class=\"textarea textarea-sm\"></textarea><textarea placeholder=\"Bio\" class=\"textarea textarea-md\"></textarea><textarea placeholder=\"Bio\" class=\"textarea textarea-lg\"></textarea><textarea placeholder=\"Bio\" class=\"textarea textarea-xl\"></textarea></div>\n",
       "\n",
       "```"
      ],
      "text/plain": [
       "div((textarea((),{'placeholder': 'Bio', 'class': 'textarea textarea-xs'}), textarea((),{'placeholder': 'Bio', 'class': 'textarea textarea-sm'}), textarea((),{'placeholder': 'Bio', 'class': 'textarea textarea-md'}), textarea((),{'placeholder': 'Bio', 'class': 'textarea textarea-lg'}), textarea((),{'placeholder': 'Bio', 'class': 'textarea textarea-xl'})),{})"
      ]
     },
     "execution_count": null,
     "metadata": {},
     "output_type": "execute_result"
    }
   ],
   "source": [
    "#|exports\n",
    "def test_textarea_sizes_fasthtml_examples():\n",
    "    \"\"\"Test textarea size variations from daisyUI v5 documentation.\"\"\"\n",
    "    from fasthtml.common import Textarea, Div\n",
    "    \n",
    "    # Textarea sizes\n",
    "    xs_textarea = Textarea(\n",
    "        placeholder=\"Bio\",\n",
    "        cls=combine_classes(textarea, textarea_sizes.xs)\n",
    "    )\n",
    "    assert \"textarea\" in xs_textarea.attrs['class']\n",
    "    assert \"textarea-xs\" in xs_textarea.attrs['class']\n",
    "    assert xs_textarea.attrs['placeholder'] == \"Bio\"\n",
    "    \n",
    "    sm_textarea = Textarea(\n",
    "        placeholder=\"Bio\",\n",
    "        cls=combine_classes(textarea, textarea_sizes.sm)\n",
    "    )\n",
    "    assert \"textarea-sm\" in sm_textarea.attrs['class']\n",
    "    \n",
    "    md_textarea = Textarea(\n",
    "        placeholder=\"Bio\",\n",
    "        cls=combine_classes(textarea, textarea_sizes.md)\n",
    "    )\n",
    "    assert \"textarea-md\" in md_textarea.attrs['class']\n",
    "    \n",
    "    lg_textarea = Textarea(\n",
    "        placeholder=\"Bio\",\n",
    "        cls=combine_classes(textarea, textarea_sizes.lg)\n",
    "    )\n",
    "    assert \"textarea-lg\" in lg_textarea.attrs['class']\n",
    "    \n",
    "    xl_textarea = Textarea(\n",
    "        placeholder=\"Bio\",\n",
    "        cls=combine_classes(textarea, textarea_sizes.xl)\n",
    "    )\n",
    "    assert \"textarea-xl\" in xl_textarea.attrs['class']\n",
    "    \n",
    "    # Return all size variations\n",
    "    return Div(\n",
    "        xs_textarea,\n",
    "        sm_textarea,\n",
    "        md_textarea,\n",
    "        lg_textarea,\n",
    "        xl_textarea\n",
    "    )\n",
    "\n",
    "# Run the tests\n",
    "test_textarea_sizes_fasthtml_examples()"
   ]
  },
  {
   "cell_type": "code",
   "execution_count": null,
   "id": "a3c5fc1c-9d67-488a-a6d9-9c07db93ba58",
   "metadata": {},
   "outputs": [],
   "source": []
  },
  {
   "cell_type": "code",
   "execution_count": null,
   "id": "e46bbgrg97n",
   "metadata": {},
   "outputs": [
    {
     "data": {
      "text/html": [
       "\n",
       "<script>\n",
       "document.body.addEventListener('htmx:configRequest', (event) => {\n",
       "    if(event.detail.path.includes('://')) return;\n",
       "    htmx.config.selfRequestsOnly=false;\n",
       "    event.detail.path = `${location.protocol}//${location.hostname}:8000${event.detail.path}`;\n",
       "});\n",
       "</script>"
      ],
      "text/plain": [
       "<IPython.core.display.HTML object>"
      ]
     },
     "metadata": {},
     "output_type": "display_data"
    },
    {
     "data": {
      "text/html": [
       "<iframe src=\"http://localhost:8000/\" style=\"width: 100%; height: auto; border: none;\" onload=\"{\n",
       "        let frame = this;\n",
       "        window.addEventListener('message', function(e) {\n",
       "            if (e.source !== frame.contentWindow) return; // Only proceed if the message is from this iframe\n",
       "            if (e.data.height) frame.style.height = (e.data.height+1) + 'px';\n",
       "        }, false);\n",
       "    }\" allow=\"accelerometer; autoplay; camera; clipboard-read; clipboard-write; display-capture; encrypted-media; fullscreen; gamepad; geolocation; gyroscope; hid; identity-credentials-get; idle-detection; magnetometer; microphone; midi; payment; picture-in-picture; publickey-credentials-get; screen-wake-lock; serial; usb; web-share; xr-spatial-tracking\"></iframe> "
      ],
      "text/plain": [
       "<IPython.core.display.HTML object>"
      ]
     },
     "metadata": {},
     "output_type": "display_data"
    }
   ],
   "source": [
    "#| eval: false\n",
    "#| output: false\n",
    "test_func = test_textarea_sizes_fasthtml_examples\n",
    "app, rt = create_test_app(theme=DaisyUITheme.LIGHT)\n",
    "\n",
    "@rt\n",
    "def index():\n",
    "    return create_test_page(test_func.__doc__.title().replace('.', ''), test_func())\n",
    "server = start_test_server(app)\n",
    "display(HTMX())\n",
    "server.stop()"
   ]
  },
  {
   "cell_type": "code",
   "execution_count": null,
   "id": "13f9763c-1e45-4ea4-b36b-71b0a0f3d6f9",
   "metadata": {},
   "outputs": [
    {
     "data": {
      "text/markdown": [
       "```html\n",
       "<textarea placeholder=\"Bio\" disabled class=\"textarea\"></textarea>\n",
       "```"
      ],
      "text/plain": [
       "textarea((),{'placeholder': 'Bio', 'disabled': True, 'class': 'textarea'})"
      ]
     },
     "execution_count": null,
     "metadata": {},
     "output_type": "execute_result"
    }
   ],
   "source": [
    "#|exports\n",
    "def test_textarea_disabled_fasthtml_examples():\n",
    "    \"\"\"Test disabled textarea from daisyUI v5 documentation.\"\"\"\n",
    "    from fasthtml.common import Textarea\n",
    "    \n",
    "    # Disabled textarea\n",
    "    disabled_textarea = Textarea(\n",
    "        placeholder=\"Bio\",\n",
    "        cls=str(textarea),\n",
    "        disabled=True\n",
    "    )\n",
    "    \n",
    "    # Verify structure\n",
    "    assert disabled_textarea.tag == \"textarea\"\n",
    "    assert disabled_textarea.attrs['class'] == \"textarea\"\n",
    "    assert disabled_textarea.attrs['placeholder'] == \"Bio\"\n",
    "    assert disabled_textarea.attrs['disabled'] == True\n",
    "    \n",
    "    return disabled_textarea\n",
    "\n",
    "# Run the tests\n",
    "test_textarea_disabled_fasthtml_examples()"
   ]
  },
  {
   "cell_type": "code",
   "execution_count": null,
   "id": "8427ddde-5dfb-45d4-8d4d-bc08ed496712",
   "metadata": {},
   "outputs": [],
   "source": []
  },
  {
   "cell_type": "code",
   "execution_count": null,
   "id": "trqo3u9soq",
   "metadata": {},
   "outputs": [
    {
     "data": {
      "text/html": [
       "\n",
       "<script>\n",
       "document.body.addEventListener('htmx:configRequest', (event) => {\n",
       "    if(event.detail.path.includes('://')) return;\n",
       "    htmx.config.selfRequestsOnly=false;\n",
       "    event.detail.path = `${location.protocol}//${location.hostname}:8000${event.detail.path}`;\n",
       "});\n",
       "</script>"
      ],
      "text/plain": [
       "<IPython.core.display.HTML object>"
      ]
     },
     "metadata": {},
     "output_type": "display_data"
    },
    {
     "data": {
      "text/html": [
       "<iframe src=\"http://localhost:8000/\" style=\"width: 100%; height: auto; border: none;\" onload=\"{\n",
       "        let frame = this;\n",
       "        window.addEventListener('message', function(e) {\n",
       "            if (e.source !== frame.contentWindow) return; // Only proceed if the message is from this iframe\n",
       "            if (e.data.height) frame.style.height = (e.data.height+1) + 'px';\n",
       "        }, false);\n",
       "    }\" allow=\"accelerometer; autoplay; camera; clipboard-read; clipboard-write; display-capture; encrypted-media; fullscreen; gamepad; geolocation; gyroscope; hid; identity-credentials-get; idle-detection; magnetometer; microphone; midi; payment; picture-in-picture; publickey-credentials-get; screen-wake-lock; serial; usb; web-share; xr-spatial-tracking\"></iframe> "
      ],
      "text/plain": [
       "<IPython.core.display.HTML object>"
      ]
     },
     "metadata": {},
     "output_type": "display_data"
    }
   ],
   "source": [
    "#| eval: false\n",
    "#| output: false\n",
    "test_func = test_textarea_disabled_fasthtml_examples\n",
    "app, rt = create_test_app(theme=DaisyUITheme.LIGHT)\n",
    "\n",
    "@rt\n",
    "def index():\n",
    "    return create_test_page(test_func.__doc__.title().replace('.', ''), test_func())\n",
    "server = start_test_server(app)\n",
    "display(HTMX())\n",
    "server.stop()"
   ]
  },
  {
   "cell_type": "code",
   "execution_count": null,
   "id": "248adc40-6e77-4203-9830-de838e25a00a",
   "metadata": {},
   "outputs": [],
   "source": []
  },
  {
   "cell_type": "code",
   "execution_count": null,
   "id": "a2029d6d-bf22-4e16-87e1-d609762dc867",
   "metadata": {},
   "outputs": [],
   "source": []
  },
  {
   "cell_type": "code",
   "execution_count": null,
   "id": "c9dfaad9-504c-4853-886b-2d1adb1cc3a0",
   "metadata": {},
   "outputs": [],
   "source": []
  },
  {
   "cell_type": "code",
   "execution_count": null,
   "id": "454d5b84-fc57-44ab-a6f0-3123333998cb",
   "metadata": {},
   "outputs": [],
   "source": []
  },
  {
   "cell_type": "code",
   "execution_count": null,
   "id": "d471d21b-6fe5-4c63-90be-5176c4cbd08b",
   "metadata": {},
   "outputs": [],
   "source": []
  },
  {
   "cell_type": "code",
   "execution_count": null,
   "id": "73b88b7e-0be6-4a82-9c02-f3df8af20015",
   "metadata": {},
   "outputs": [],
   "source": []
  },
  {
   "cell_type": "code",
   "execution_count": null,
   "id": "7ab8257a-c30b-45b6-a784-729b67686791",
   "metadata": {},
   "outputs": [],
   "source": [
    "#| hide\n",
    "import nbdev; nbdev.nbdev_export()"
   ]
  }
 ],
 "metadata": {
  "kernelspec": {
   "display_name": "python3",
   "language": "python",
   "name": "python3"
  }
 },
 "nbformat": 4,
 "nbformat_minor": 5
}
