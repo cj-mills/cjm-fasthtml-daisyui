{
 "cells": [
  {
   "cell_type": "markdown",
   "id": "7c51b46b-ece1-456d-8e84-7de122e72b62",
   "metadata": {},
   "source": [
    "# textarea\n",
    "\n",
    "> Textarea allows users to enter text in multiple lines."
   ]
  },
  {
   "cell_type": "code",
   "execution_count": null,
   "id": "25536bdc-e099-477f-9e2d-a5f71df5dff2",
   "metadata": {},
   "outputs": [],
   "source": [
    "#| default_exp components.data_input.textarea"
   ]
  },
  {
   "cell_type": "code",
   "execution_count": null,
   "id": "2e6f21ce-7766-455a-8ebb-df2c17e7d977",
   "metadata": {},
   "outputs": [],
   "source": [
    "#| hide\n",
    "from nbdev.showdoc import *"
   ]
  },
  {
   "cell_type": "code",
   "execution_count": null,
   "id": "045c6538-403e-4222-b3bb-db20f188524d",
   "metadata": {},
   "outputs": [],
   "source": [
    "#| export\n",
    "\n",
    "from cjm_fasthtml_tailwind.core.base import (\n",
    "    SingleValueFactory, combine_classes\n",
    ")\n",
    "from cjm_fasthtml_tailwind.builders.scales import SimpleFactory, enums_to_simple_factory\n",
    "\n",
    "from cjm_fasthtml_daisyui.builders.colors import SemanticColorBrand, SemanticColorStatus\n",
    "from cjm_fasthtml_daisyui.builders.sizes import DaisyUINamedSize\n",
    "from cjm_fasthtml_daisyui.builders.styles import GhostStyle\n",
    "\n",
    "from fasthtml.common import Div\n",
    "from fasthtml.jupyter import JupyUvi, HTMX\n",
    "from cjm_fasthtml_daisyui.core.testing import create_test_app, create_test_page, start_test_server\n",
    "from cjm_fasthtml_daisyui.core.themes import DaisyUITheme\n",
    "from IPython.display import display"
   ]
  },
  {
   "cell_type": "markdown",
   "id": "419de994-e5bb-4d28-9784-9e06a3dd672f",
   "metadata": {},
   "source": [
    "### Base Text Area"
   ]
  },
  {
   "cell_type": "code",
   "execution_count": null,
   "id": "c802d106-49fb-4d34-ba04-5f54c88e165b",
   "metadata": {},
   "outputs": [],
   "source": [
    "#| export\n",
    "textarea = SingleValueFactory(\"textarea\", \"Base textarea component for <textarea> element\") # Base textarea component"
   ]
  },
  {
   "cell_type": "markdown",
   "id": "19452380-8baa-4a72-9c58-ae609e8f9999",
   "metadata": {},
   "source": [
    "### Text Area Styles"
   ]
  },
  {
   "cell_type": "code",
   "execution_count": null,
   "id": "636c6bcd-2176-4191-aa39-c937893243e2",
   "metadata": {},
   "outputs": [],
   "source": [
    "#| export\n",
    "textarea_styles = enums_to_simple_factory(textarea, [GhostStyle]) # textarea style variants"
   ]
  },
  {
   "cell_type": "markdown",
   "id": "075c6339-3434-44e3-8153-66ed381eeba6",
   "metadata": {},
   "source": [
    "### Text Area Colors"
   ]
  },
  {
   "cell_type": "code",
   "execution_count": null,
   "id": "ad2d932c-79ea-4792-bdaf-5bda859340ca",
   "metadata": {},
   "outputs": [],
   "source": [
    "#| export\n",
    "textarea_colors = enums_to_simple_factory(textarea, [SemanticColorBrand, SemanticColorStatus], \"textarea color variants using daisyUI semantic colors\") # textarea color variants"
   ]
  },
  {
   "cell_type": "markdown",
   "id": "62ffe3d0-3f76-4e6d-aee5-67ce42db1eab",
   "metadata": {},
   "source": [
    "### Text Area Sizes"
   ]
  },
  {
   "cell_type": "code",
   "execution_count": null,
   "id": "4666a5a3-26bb-4d91-b5be-f941df8f9d2f",
   "metadata": {},
   "outputs": [],
   "source": [
    "#| export\n",
    "textarea_sizes = enums_to_simple_factory(textarea, [DaisyUINamedSize], \"textarea size variants from extra small to extra large\") # textarea size variants"
   ]
  },
  {
   "cell_type": "markdown",
   "id": "4558a41f-ea87-4b3a-ade3-d14d59b62bbc",
   "metadata": {},
   "source": [
    "### Text Area Test Examples"
   ]
  },
  {
   "cell_type": "code",
   "execution_count": null,
   "id": "214654cc-9758-48f9-92e2-0892029c4512",
   "metadata": {},
   "outputs": [],
   "source": [
    "#| export\n",
    "def test_textarea_basic_examples():\n",
    "    \"\"\"Test basic textarea utilities.\"\"\"\n",
    "    # Basic textarea\n",
    "    assert str(textarea) == \"textarea\"\n",
    "    \n",
    "    # Test with modifiers\n",
    "    assert str(textarea.hover) == \"hover:textarea\"\n",
    "    assert str(textarea.md) == \"md:textarea\"\n",
    "    assert str(textarea.dark) == \"dark:textarea\"\n",
    "\n",
    "# Run the tests\n",
    "test_textarea_basic_examples()"
   ]
  },
  {
   "cell_type": "code",
   "execution_count": null,
   "id": "a9d78aa3-0be8-49e6-8bfb-cb9a232ee1ee",
   "metadata": {},
   "outputs": [],
   "source": [
    "#| export\n",
    "def test_textarea_styles_examples():\n",
    "    \"\"\"Test textarea style variants.\"\"\"\n",
    "    assert str(textarea_styles.ghost) == \"textarea-ghost\"\n",
    "\n",
    "# Run the tests\n",
    "test_textarea_styles_examples()"
   ]
  },
  {
   "cell_type": "code",
   "execution_count": null,
   "id": "01785a18-9bb0-4dbc-9eae-04addf6dede9",
   "metadata": {},
   "outputs": [],
   "source": [
    "#| export\n",
    "def test_textarea_colors_examples():\n",
    "    \"\"\"Test textarea color variants.\"\"\"\n",
    "    # All color variants\n",
    "    assert str(textarea_colors.neutral) == \"textarea-neutral\"\n",
    "    assert str(textarea_colors.primary) == \"textarea-primary\"\n",
    "    assert str(textarea_colors.secondary) == \"textarea-secondary\"\n",
    "    assert str(textarea_colors.accent) == \"textarea-accent\"\n",
    "    assert str(textarea_colors.info) == \"textarea-info\"\n",
    "    assert str(textarea_colors.success) == \"textarea-success\"\n",
    "    assert str(textarea_colors.warning) == \"textarea-warning\"\n",
    "    assert str(textarea_colors.error) == \"textarea-error\"\n",
    "    \n",
    "    # With modifiers\n",
    "    assert str(textarea_colors.primary.hover) == \"hover:textarea-primary\"\n",
    "    assert str(textarea_colors.success.focus) == \"focus:textarea-success\"\n",
    "\n",
    "# Run the tests\n",
    "test_textarea_colors_examples()"
   ]
  },
  {
   "cell_type": "code",
   "execution_count": null,
   "id": "43a3d5aa-4f07-48f4-b7c3-5c63612f0fb2",
   "metadata": {},
   "outputs": [],
   "source": [
    "#| export\n",
    "def test_textarea_sizes_examples():\n",
    "    \"\"\"Test textarea size variants.\"\"\"\n",
    "    assert str(textarea_sizes.xs) == \"textarea-xs\"\n",
    "    assert str(textarea_sizes.sm) == \"textarea-sm\"\n",
    "    assert str(textarea_sizes.md) == \"textarea-md\"\n",
    "    assert str(textarea_sizes.lg) == \"textarea-lg\"\n",
    "    assert str(textarea_sizes.xl) == \"textarea-xl\"\n",
    "    \n",
    "    # With responsive modifiers\n",
    "    assert str(textarea_sizes.xs.sm) == \"sm:textarea-xs\"\n",
    "    assert str(textarea_sizes.lg.md) == \"md:textarea-lg\"\n",
    "\n",
    "# Run the tests\n",
    "test_textarea_sizes_examples()"
   ]
  },
  {
   "cell_type": "code",
   "execution_count": null,
   "id": "248adc40-6e77-4203-9830-de838e25a00a",
   "metadata": {},
   "outputs": [],
   "source": []
  },
  {
   "cell_type": "code",
   "execution_count": null,
   "id": "a2029d6d-bf22-4e16-87e1-d609762dc867",
   "metadata": {},
   "outputs": [],
   "source": []
  },
  {
   "cell_type": "code",
   "execution_count": null,
   "id": "c9dfaad9-504c-4853-886b-2d1adb1cc3a0",
   "metadata": {},
   "outputs": [],
   "source": []
  },
  {
   "cell_type": "code",
   "execution_count": null,
   "id": "454d5b84-fc57-44ab-a6f0-3123333998cb",
   "metadata": {},
   "outputs": [],
   "source": []
  },
  {
   "cell_type": "code",
   "execution_count": null,
   "id": "d471d21b-6fe5-4c63-90be-5176c4cbd08b",
   "metadata": {},
   "outputs": [],
   "source": []
  },
  {
   "cell_type": "code",
   "execution_count": null,
   "id": "73b88b7e-0be6-4a82-9c02-f3df8af20015",
   "metadata": {},
   "outputs": [],
   "source": []
  },
  {
   "cell_type": "code",
   "execution_count": null,
   "id": "7ab8257a-c30b-45b6-a784-729b67686791",
   "metadata": {},
   "outputs": [],
   "source": [
    "#| hide\n",
    "import nbdev; nbdev.nbdev_export()"
   ]
  }
 ],
 "metadata": {
  "kernelspec": {
   "display_name": "python3",
   "language": "python",
   "name": "python3"
  }
 },
 "nbformat": 4,
 "nbformat_minor": 5
}
