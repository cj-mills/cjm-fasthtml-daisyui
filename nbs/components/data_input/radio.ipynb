{
 "cells": [
  {
   "cell_type": "markdown",
   "id": "7c51b46b-ece1-456d-8e84-7de122e72b62",
   "metadata": {},
   "source": [
    "# radio\n",
    "\n",
    "> Radio buttons allow the user to select one option from a set."
   ]
  },
  {
   "cell_type": "code",
   "execution_count": null,
   "id": "25536bdc-e099-477f-9e2d-a5f71df5dff2",
   "metadata": {},
   "outputs": [],
   "source": [
    "#| default_exp components.data_input.radio"
   ]
  },
  {
   "cell_type": "code",
   "execution_count": null,
   "id": "2e6f21ce-7766-455a-8ebb-df2c17e7d977",
   "metadata": {},
   "outputs": [],
   "source": [
    "#| hide\n",
    "from nbdev.showdoc import *"
   ]
  },
  {
   "cell_type": "code",
   "execution_count": null,
   "id": "045c6538-403e-4222-b3bb-db20f188524d",
   "metadata": {},
   "outputs": [],
   "source": [
    "#| export\n",
    "\n",
    "from cjm_fasthtml_tailwind.core.base import (\n",
    "    SingleValueFactory, combine_classes\n",
    ")\n",
    "from cjm_fasthtml_tailwind.builders.scales import SimpleFactory, enums_to_simple_factory\n",
    "\n",
    "from cjm_fasthtml_daisyui.builders.colors import SemanticColorBrand, SemanticColorStatus\n",
    "from cjm_fasthtml_daisyui.builders.sizes import DaisyUINamedSize\n",
    "\n",
    "from fasthtml.common import Div\n",
    "from fasthtml.jupyter import JupyUvi, HTMX\n",
    "from cjm_fasthtml_daisyui.core.testing import create_test_app, create_test_page, start_test_server\n",
    "from cjm_fasthtml_daisyui.core.themes import DaisyUITheme\n",
    "from IPython.display import display"
   ]
  },
  {
   "cell_type": "markdown",
   "id": "8b778c04-89b3-468d-b913-a3092d7c3ef6",
   "metadata": {},
   "source": [
    "### Base Radio"
   ]
  },
  {
   "cell_type": "code",
   "execution_count": null,
   "id": "c802d106-49fb-4d34-ba04-5f54c88e165b",
   "metadata": {},
   "outputs": [],
   "source": [
    "#| export\n",
    "radio = SingleValueFactory(\"radio\", \"Base radio button component for radio input\") # Base radio component"
   ]
  },
  {
   "cell_type": "markdown",
   "id": "7f46c288-6df6-4268-b43c-e6f7918cf7e0",
   "metadata": {},
   "source": [
    "### Radio Colors"
   ]
  },
  {
   "cell_type": "code",
   "execution_count": null,
   "id": "636c6bcd-2176-4191-aa39-c937893243e2",
   "metadata": {},
   "outputs": [],
   "source": [
    "#| export\n",
    "radio_colors = enums_to_simple_factory(radio, [SemanticColorBrand, SemanticColorStatus], \"Radio color variants using daisyUI semantic colors\") # Radio color variants"
   ]
  },
  {
   "cell_type": "markdown",
   "id": "4d962002-4d0e-4f4d-8d38-cb6c45d96342",
   "metadata": {},
   "source": [
    "### Radio Sizes"
   ]
  },
  {
   "cell_type": "code",
   "execution_count": null,
   "id": "3035ff66-e4e7-410c-8b1e-86a879f66112",
   "metadata": {},
   "outputs": [],
   "source": [
    "#| export\n",
    "radio_sizes = enums_to_simple_factory(radio, [DaisyUINamedSize], \"Radio size variants from extra small to extra large\") # Radio size variants"
   ]
  },
  {
   "cell_type": "markdown",
   "id": "d9910234-3a0c-45e2-a83c-3e62750d7d58",
   "metadata": {},
   "source": [
    "### Radio Test Examples"
   ]
  },
  {
   "cell_type": "code",
   "execution_count": null,
   "id": "85d72161-e718-4c66-bc59-a3569b7f7616",
   "metadata": {},
   "outputs": [],
   "source": [
    "#| export\n",
    "def test_radio_basic_examples():\n",
    "    \"\"\"Test basic radio utilities.\"\"\"\n",
    "    # Basic radio\n",
    "    assert str(radio) == \"radio\"\n",
    "    \n",
    "    # Test with modifiers\n",
    "    assert str(radio.hover) == \"hover:radio\"\n",
    "    assert str(radio.md) == \"md:radio\"\n",
    "    assert str(radio.dark) == \"dark:radio\"\n",
    "\n",
    "# Run the tests\n",
    "test_radio_basic_examples()"
   ]
  },
  {
   "cell_type": "code",
   "execution_count": null,
   "id": "214654cc-9758-48f9-92e2-0892029c4512",
   "metadata": {},
   "outputs": [],
   "source": [
    "#| export\n",
    "def test_radio_colors_examples():\n",
    "    \"\"\"Test radio color variants.\"\"\"\n",
    "    # All color variants\n",
    "    assert str(radio_colors.neutral) == \"radio-neutral\"\n",
    "    assert str(radio_colors.primary) == \"radio-primary\"\n",
    "    assert str(radio_colors.secondary) == \"radio-secondary\"\n",
    "    assert str(radio_colors.accent) == \"radio-accent\"\n",
    "    assert str(radio_colors.info) == \"radio-info\"\n",
    "    assert str(radio_colors.success) == \"radio-success\"\n",
    "    assert str(radio_colors.warning) == \"radio-warning\"\n",
    "    assert str(radio_colors.error) == \"radio-error\"\n",
    "    \n",
    "    # With modifiers\n",
    "    assert str(radio_colors.primary.hover) == \"hover:radio-primary\"\n",
    "    assert str(radio_colors.success.focus) == \"focus:radio-success\"\n",
    "\n",
    "# Run the tests\n",
    "test_radio_colors_examples()"
   ]
  },
  {
   "cell_type": "code",
   "execution_count": null,
   "id": "a9d78aa3-0be8-49e6-8bfb-cb9a232ee1ee",
   "metadata": {},
   "outputs": [],
   "source": [
    "#| export\n",
    "def test_radio_sizes_examples():\n",
    "    \"\"\"Test radio size variants.\"\"\"\n",
    "    assert str(radio_sizes.xs) == \"radio-xs\"\n",
    "    assert str(radio_sizes.sm) == \"radio-sm\"\n",
    "    assert str(radio_sizes.md) == \"radio-md\"\n",
    "    assert str(radio_sizes.lg) == \"radio-lg\"\n",
    "    assert str(radio_sizes.xl) == \"radio-xl\"\n",
    "    \n",
    "    # With responsive modifiers\n",
    "    assert str(radio_sizes.xs.sm) == \"sm:radio-xs\"\n",
    "    assert str(radio_sizes.lg.md) == \"md:radio-lg\"\n",
    "\n",
    "# Run the tests\n",
    "test_radio_sizes_examples()"
   ]
  },
  {
   "cell_type": "code",
   "execution_count": null,
   "id": "01785a18-9bb0-4dbc-9eae-04addf6dede9",
   "metadata": {},
   "outputs": [],
   "source": []
  },
  {
   "cell_type": "code",
   "execution_count": null,
   "id": "43a3d5aa-4f07-48f4-b7c3-5c63612f0fb2",
   "metadata": {},
   "outputs": [],
   "source": []
  },
  {
   "cell_type": "code",
   "execution_count": null,
   "id": "248adc40-6e77-4203-9830-de838e25a00a",
   "metadata": {},
   "outputs": [],
   "source": []
  },
  {
   "cell_type": "code",
   "execution_count": null,
   "id": "a2029d6d-bf22-4e16-87e1-d609762dc867",
   "metadata": {},
   "outputs": [],
   "source": []
  },
  {
   "cell_type": "code",
   "execution_count": null,
   "id": "c9dfaad9-504c-4853-886b-2d1adb1cc3a0",
   "metadata": {},
   "outputs": [],
   "source": []
  },
  {
   "cell_type": "code",
   "execution_count": null,
   "id": "454d5b84-fc57-44ab-a6f0-3123333998cb",
   "metadata": {},
   "outputs": [],
   "source": []
  },
  {
   "cell_type": "code",
   "execution_count": null,
   "id": "d471d21b-6fe5-4c63-90be-5176c4cbd08b",
   "metadata": {},
   "outputs": [],
   "source": []
  },
  {
   "cell_type": "code",
   "execution_count": null,
   "id": "73b88b7e-0be6-4a82-9c02-f3df8af20015",
   "metadata": {},
   "outputs": [],
   "source": []
  },
  {
   "cell_type": "code",
   "execution_count": null,
   "id": "7ab8257a-c30b-45b6-a784-729b67686791",
   "metadata": {},
   "outputs": [],
   "source": [
    "#| hide\n",
    "import nbdev; nbdev.nbdev_export()"
   ]
  }
 ],
 "metadata": {
  "kernelspec": {
   "display_name": "python3",
   "language": "python",
   "name": "python3"
  }
 },
 "nbformat": 4,
 "nbformat_minor": 5
}
