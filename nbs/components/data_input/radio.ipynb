{
 "cells": [
  {
   "cell_type": "markdown",
   "id": "7c51b46b-ece1-456d-8e84-7de122e72b62",
   "metadata": {},
   "source": [
    "# radio\n",
    "\n",
    "> Radio buttons allow the user to select one option from a set."
   ]
  },
  {
   "cell_type": "code",
   "execution_count": null,
   "id": "25536bdc-e099-477f-9e2d-a5f71df5dff2",
   "metadata": {},
   "outputs": [],
   "source": [
    "#| default_exp components.data_input.radio"
   ]
  },
  {
   "cell_type": "code",
   "execution_count": null,
   "id": "2e6f21ce-7766-455a-8ebb-df2c17e7d977",
   "metadata": {},
   "outputs": [],
   "source": [
    "#| hide\n",
    "from nbdev.showdoc import *"
   ]
  },
  {
   "cell_type": "code",
   "execution_count": null,
   "id": "045c6538-403e-4222-b3bb-db20f188524d",
   "metadata": {},
   "outputs": [],
   "source": [
    "#| export\n",
    "\n",
    "from cjm_fasthtml_tailwind.core.base import (\n",
    "    SingleValueFactory, combine_classes\n",
    ")\n",
    "from cjm_fasthtml_tailwind.builders.scales import SimpleFactory, enums_to_simple_factory\n",
    "\n",
    "from cjm_fasthtml_daisyui.builders.colors import SemanticColorBrand, SemanticColorStatus\n",
    "from cjm_fasthtml_daisyui.builders.sizes import DaisyUINamedSize\n",
    "\n",
    "from fasthtml.common import Div\n",
    "from fasthtml.jupyter import JupyUvi, HTMX\n",
    "from cjm_fasthtml_daisyui.core.testing import create_test_app, create_test_page, start_test_server\n",
    "from cjm_fasthtml_daisyui.core.themes import DaisyUITheme\n",
    "from IPython.display import display"
   ]
  },
  {
   "cell_type": "markdown",
   "id": "8b778c04-89b3-468d-b913-a3092d7c3ef6",
   "metadata": {},
   "source": [
    "### Base Radio"
   ]
  },
  {
   "cell_type": "code",
   "execution_count": null,
   "id": "c802d106-49fb-4d34-ba04-5f54c88e165b",
   "metadata": {},
   "outputs": [],
   "source": [
    "#| export\n",
    "radio = SingleValueFactory(\"radio\", \"Base radio button component for radio input\") # Base radio component"
   ]
  },
  {
   "cell_type": "markdown",
   "id": "7f46c288-6df6-4268-b43c-e6f7918cf7e0",
   "metadata": {},
   "source": [
    "### Radio Colors"
   ]
  },
  {
   "cell_type": "code",
   "execution_count": null,
   "id": "636c6bcd-2176-4191-aa39-c937893243e2",
   "metadata": {},
   "outputs": [],
   "source": [
    "#| export\n",
    "radio_colors = enums_to_simple_factory(radio, [SemanticColorBrand, SemanticColorStatus], \"Radio color variants using daisyUI semantic colors\") # Radio color variants"
   ]
  },
  {
   "cell_type": "markdown",
   "id": "4d962002-4d0e-4f4d-8d38-cb6c45d96342",
   "metadata": {},
   "source": [
    "### Radio Sizes"
   ]
  },
  {
   "cell_type": "code",
   "execution_count": null,
   "id": "3035ff66-e4e7-410c-8b1e-86a879f66112",
   "metadata": {},
   "outputs": [],
   "source": [
    "#| export\n",
    "radio_sizes = enums_to_simple_factory(radio, [DaisyUINamedSize], \"Radio size variants from extra small to extra large\") # Radio size variants"
   ]
  },
  {
   "cell_type": "markdown",
   "id": "d9910234-3a0c-45e2-a83c-3e62750d7d58",
   "metadata": {},
   "source": [
    "### Radio Test Examples"
   ]
  },
  {
   "cell_type": "code",
   "execution_count": null,
   "id": "85d72161-e718-4c66-bc59-a3569b7f7616",
   "metadata": {},
   "outputs": [],
   "source": [
    "#| export\n",
    "def test_radio_basic_examples():\n",
    "    \"\"\"Test basic radio utilities.\"\"\"\n",
    "    # Basic radio\n",
    "    assert str(radio) == \"radio\"\n",
    "    \n",
    "    # Test with modifiers\n",
    "    assert str(radio.hover) == \"hover:radio\"\n",
    "    assert str(radio.md) == \"md:radio\"\n",
    "    assert str(radio.dark) == \"dark:radio\"\n",
    "\n",
    "# Run the tests\n",
    "test_radio_basic_examples()"
   ]
  },
  {
   "cell_type": "code",
   "execution_count": null,
   "id": "214654cc-9758-48f9-92e2-0892029c4512",
   "metadata": {},
   "outputs": [],
   "source": [
    "#| export\n",
    "def test_radio_colors_examples():\n",
    "    \"\"\"Test radio color variants.\"\"\"\n",
    "    # All color variants\n",
    "    assert str(radio_colors.neutral) == \"radio-neutral\"\n",
    "    assert str(radio_colors.primary) == \"radio-primary\"\n",
    "    assert str(radio_colors.secondary) == \"radio-secondary\"\n",
    "    assert str(radio_colors.accent) == \"radio-accent\"\n",
    "    assert str(radio_colors.info) == \"radio-info\"\n",
    "    assert str(radio_colors.success) == \"radio-success\"\n",
    "    assert str(radio_colors.warning) == \"radio-warning\"\n",
    "    assert str(radio_colors.error) == \"radio-error\"\n",
    "    \n",
    "    # With modifiers\n",
    "    assert str(radio_colors.primary.hover) == \"hover:radio-primary\"\n",
    "    assert str(radio_colors.success.focus) == \"focus:radio-success\"\n",
    "\n",
    "# Run the tests\n",
    "test_radio_colors_examples()"
   ]
  },
  {
   "cell_type": "code",
   "execution_count": null,
   "id": "a9d78aa3-0be8-49e6-8bfb-cb9a232ee1ee",
   "metadata": {},
   "outputs": [],
   "source": [
    "#| export\n",
    "def test_radio_sizes_examples():\n",
    "    \"\"\"Test radio size variants.\"\"\"\n",
    "    assert str(radio_sizes.xs) == \"radio-xs\"\n",
    "    assert str(radio_sizes.sm) == \"radio-sm\"\n",
    "    assert str(radio_sizes.md) == \"radio-md\"\n",
    "    assert str(radio_sizes.lg) == \"radio-lg\"\n",
    "    assert str(radio_sizes.xl) == \"radio-xl\"\n",
    "    \n",
    "    # With responsive modifiers\n",
    "    assert str(radio_sizes.xs.sm) == \"sm:radio-xs\"\n",
    "    assert str(radio_sizes.lg.md) == \"md:radio-lg\"\n",
    "\n",
    "# Run the tests\n",
    "test_radio_sizes_examples()"
   ]
  },
  {
   "cell_type": "code",
   "execution_count": null,
   "id": "376c79d8-b9d6-455c-9c6b-d5889c97677f",
   "metadata": {},
   "outputs": [
    {
     "data": {
      "text/markdown": [
       "```html\n",
       "<div>\n",
       "  <input type=\"radio\" name=\"radio-1\" checked=\"checked\" class=\"radio\">\n",
       "  <input type=\"radio\" name=\"radio-1\" class=\"radio\">\n",
       "</div>\n",
       "\n",
       "```"
      ],
      "text/plain": [
       "div((input((),{'type': 'radio', 'name': 'radio-1', 'checked': 'checked', 'class': 'radio'}), input((),{'type': 'radio', 'name': 'radio-1', 'class': 'radio'})),{})"
      ]
     },
     "execution_count": null,
     "metadata": {},
     "output_type": "execute_result"
    }
   ],
   "source": [
    "#| export\n",
    "def test_radio_basic_fasthtml_examples():\n",
    "    \"\"\"Test basic radio button examples from daisyUI v5 documentation.\"\"\"\n",
    "    from fasthtml.common import Input, Div\n",
    "    \n",
    "    # Basic radio buttons\n",
    "    radio1_checked = Input(\n",
    "        type=\"radio\",\n",
    "        name=\"radio-1\",\n",
    "        cls=str(radio),\n",
    "        checked=\"checked\"\n",
    "    )\n",
    "    assert radio1_checked.tag == \"input\"\n",
    "    assert radio1_checked.attrs['type'] == \"radio\"\n",
    "    assert radio1_checked.attrs['name'] == \"radio-1\"\n",
    "    assert radio1_checked.attrs['class'] == \"radio\"\n",
    "    assert radio1_checked.attrs['checked'] == \"checked\"\n",
    "    \n",
    "    radio1_unchecked = Input(\n",
    "        type=\"radio\",\n",
    "        name=\"radio-1\",\n",
    "        cls=str(radio)\n",
    "    )\n",
    "    assert radio1_unchecked.tag == \"input\"\n",
    "    assert radio1_unchecked.attrs['type'] == \"radio\"\n",
    "    assert radio1_unchecked.attrs['name'] == \"radio-1\"\n",
    "    assert radio1_unchecked.attrs['class'] == \"radio\"\n",
    "    assert 'checked' not in radio1_unchecked.attrs\n",
    "    \n",
    "    # Return both radio buttons in a Div\n",
    "    return Div(\n",
    "        radio1_checked,\n",
    "        radio1_unchecked\n",
    "    )\n",
    "\n",
    "# Run the tests\n",
    "test_radio_basic_fasthtml_examples()"
   ]
  },
  {
   "cell_type": "code",
   "execution_count": null,
   "id": "e065137d-cf8e-4bfe-9289-4693199d35f5",
   "metadata": {},
   "outputs": [
    {
     "data": {
      "text/html": [
       "\n",
       "<script>\n",
       "document.body.addEventListener('htmx:configRequest', (event) => {\n",
       "    if(event.detail.path.includes('://')) return;\n",
       "    htmx.config.selfRequestsOnly=false;\n",
       "    event.detail.path = `${location.protocol}//${location.hostname}:8000${event.detail.path}`;\n",
       "});\n",
       "</script>"
      ],
      "text/plain": [
       "<IPython.core.display.HTML object>"
      ]
     },
     "metadata": {},
     "output_type": "display_data"
    },
    {
     "data": {
      "text/html": [
       "<iframe src=\"http://localhost:8000/\" style=\"width: 100%; height: auto; border: none;\" onload=\"{\n",
       "        let frame = this;\n",
       "        window.addEventListener('message', function(e) {\n",
       "            if (e.source !== frame.contentWindow) return; // Only proceed if the message is from this iframe\n",
       "            if (e.data.height) frame.style.height = (e.data.height+1) + 'px';\n",
       "        }, false);\n",
       "    }\" allow=\"accelerometer; autoplay; camera; clipboard-read; clipboard-write; display-capture; encrypted-media; fullscreen; gamepad; geolocation; gyroscope; hid; identity-credentials-get; idle-detection; magnetometer; microphone; midi; payment; picture-in-picture; publickey-credentials-get; screen-wake-lock; serial; usb; web-share; xr-spatial-tracking\"></iframe> "
      ],
      "text/plain": [
       "<IPython.core.display.HTML object>"
      ]
     },
     "metadata": {},
     "output_type": "display_data"
    }
   ],
   "source": [
    "#| eval: false\n",
    "test_func = test_radio_basic_fasthtml_examples\n",
    "app, rt = create_test_app(theme=DaisyUITheme.LIGHT)\n",
    "\n",
    "@rt\n",
    "def index():\n",
    "    return create_test_page(test_func.__doc__.title().replace('.', ''), test_func())\n",
    "server = start_test_server(app)\n",
    "display(HTMX())\n",
    "server.stop()"
   ]
  },
  {
   "cell_type": "code",
   "execution_count": null,
   "id": "ffa0012f-9ccf-4e66-8a0a-216c8bf79987",
   "metadata": {},
   "outputs": [
    {
     "data": {
      "text/markdown": [
       "```html\n",
       "<div>\n",
       "  <input type=\"radio\" name=\"radio-2\" checked=\"checked\" class=\"radio radio-xs\">\n",
       "  <input type=\"radio\" name=\"radio-2\" checked=\"checked\" class=\"radio radio-sm\">\n",
       "  <input type=\"radio\" name=\"radio-2\" checked=\"checked\" class=\"radio radio-md\">\n",
       "  <input type=\"radio\" name=\"radio-2\" checked=\"checked\" class=\"radio radio-lg\">\n",
       "  <input type=\"radio\" name=\"radio-2\" checked=\"checked\" class=\"radio radio-xl\">\n",
       "</div>\n",
       "\n",
       "```"
      ],
      "text/plain": [
       "div((input((),{'type': 'radio', 'name': 'radio-2', 'checked': 'checked', 'class': 'radio radio-xs'}), input((),{'type': 'radio', 'name': 'radio-2', 'checked': 'checked', 'class': 'radio radio-sm'}), input((),{'type': 'radio', 'name': 'radio-2', 'checked': 'checked', 'class': 'radio radio-md'}), input((),{'type': 'radio', 'name': 'radio-2', 'checked': 'checked', 'class': 'radio radio-lg'}), input((),{'type': 'radio', 'name': 'radio-2', 'checked': 'checked', 'class': 'radio radio-xl'})),{})"
      ]
     },
     "execution_count": null,
     "metadata": {},
     "output_type": "execute_result"
    }
   ],
   "source": [
    "#| export\n",
    "def test_radio_sizes_fasthtml_examples():\n",
    "    \"\"\"Test radio button size variations from daisyUI v5 documentation.\"\"\"\n",
    "    from fasthtml.common import Input, Div\n",
    "    \n",
    "    # Radio sizes\n",
    "    xs_radio = Input(\n",
    "        type=\"radio\",\n",
    "        name=\"radio-2\",\n",
    "        cls=combine_classes(radio, radio_sizes.xs),\n",
    "        checked=\"checked\"\n",
    "    )\n",
    "    assert xs_radio.tag == \"input\"\n",
    "    assert \"radio\" in xs_radio.attrs['class']\n",
    "    assert \"radio-xs\" in xs_radio.attrs['class']\n",
    "    assert xs_radio.attrs['checked'] == \"checked\"\n",
    "    \n",
    "    sm_radio = Input(\n",
    "        type=\"radio\",\n",
    "        name=\"radio-2\",\n",
    "        cls=combine_classes(radio, radio_sizes.sm),\n",
    "        checked=\"checked\"\n",
    "    )\n",
    "    assert \"radio\" in sm_radio.attrs['class']\n",
    "    assert \"radio-sm\" in sm_radio.attrs['class']\n",
    "    \n",
    "    md_radio = Input(\n",
    "        type=\"radio\",\n",
    "        name=\"radio-2\",\n",
    "        cls=combine_classes(radio, radio_sizes.md),\n",
    "        checked=\"checked\"\n",
    "    )\n",
    "    assert \"radio\" in md_radio.attrs['class']\n",
    "    assert \"radio-md\" in md_radio.attrs['class']\n",
    "    \n",
    "    lg_radio = Input(\n",
    "        type=\"radio\",\n",
    "        name=\"radio-2\",\n",
    "        cls=combine_classes(radio, radio_sizes.lg),\n",
    "        checked=\"checked\"\n",
    "    )\n",
    "    assert \"radio\" in lg_radio.attrs['class']\n",
    "    assert \"radio-lg\" in lg_radio.attrs['class']\n",
    "    \n",
    "    xl_radio = Input(\n",
    "        type=\"radio\",\n",
    "        name=\"radio-2\",\n",
    "        cls=combine_classes(radio, radio_sizes.xl),\n",
    "        checked=\"checked\"\n",
    "    )\n",
    "    assert \"radio\" in xl_radio.attrs['class']\n",
    "    assert \"radio-xl\" in xl_radio.attrs['class']\n",
    "    \n",
    "    # Return all size variations in a Div\n",
    "    return Div(\n",
    "        xs_radio,\n",
    "        sm_radio,\n",
    "        md_radio,\n",
    "        lg_radio,\n",
    "        xl_radio\n",
    "    )\n",
    "\n",
    "# Run the tests\n",
    "test_radio_sizes_fasthtml_examples()"
   ]
  },
  {
   "cell_type": "code",
   "execution_count": null,
   "id": "de5d33a2-12cf-490a-b305-9b588ffa60c1",
   "metadata": {},
   "outputs": [
    {
     "data": {
      "text/html": [
       "\n",
       "<script>\n",
       "document.body.addEventListener('htmx:configRequest', (event) => {\n",
       "    if(event.detail.path.includes('://')) return;\n",
       "    htmx.config.selfRequestsOnly=false;\n",
       "    event.detail.path = `${location.protocol}//${location.hostname}:8000${event.detail.path}`;\n",
       "});\n",
       "</script>"
      ],
      "text/plain": [
       "<IPython.core.display.HTML object>"
      ]
     },
     "metadata": {},
     "output_type": "display_data"
    },
    {
     "data": {
      "text/html": [
       "<iframe src=\"http://localhost:8000/\" style=\"width: 100%; height: auto; border: none;\" onload=\"{\n",
       "        let frame = this;\n",
       "        window.addEventListener('message', function(e) {\n",
       "            if (e.source !== frame.contentWindow) return; // Only proceed if the message is from this iframe\n",
       "            if (e.data.height) frame.style.height = (e.data.height+1) + 'px';\n",
       "        }, false);\n",
       "    }\" allow=\"accelerometer; autoplay; camera; clipboard-read; clipboard-write; display-capture; encrypted-media; fullscreen; gamepad; geolocation; gyroscope; hid; identity-credentials-get; idle-detection; magnetometer; microphone; midi; payment; picture-in-picture; publickey-credentials-get; screen-wake-lock; serial; usb; web-share; xr-spatial-tracking\"></iframe> "
      ],
      "text/plain": [
       "<IPython.core.display.HTML object>"
      ]
     },
     "metadata": {},
     "output_type": "display_data"
    }
   ],
   "source": [
    "#| eval: false\n",
    "test_func = test_radio_sizes_fasthtml_examples\n",
    "app, rt = create_test_app(theme=DaisyUITheme.LIGHT)\n",
    "\n",
    "@rt\n",
    "def index():\n",
    "    return create_test_page(test_func.__doc__.title().replace('.', ''), test_func())\n",
    "server = start_test_server(app)\n",
    "display(HTMX())\n",
    "server.stop()"
   ]
  },
  {
   "cell_type": "code",
   "execution_count": null,
   "id": "1b3ff4c0-1c25-4628-a688-9d21432541bd",
   "metadata": {},
   "outputs": [
    {
     "data": {
      "text/markdown": [
       "```html\n",
       "<div>\n",
       "  <div>\n",
       "    <input type=\"radio\" name=\"radio-3\" checked=\"checked\" class=\"radio radio-neutral\">\n",
       "    <input type=\"radio\" name=\"radio-3\" class=\"radio radio-neutral\">\n",
       "  </div>\n",
       "  <div>\n",
       "    <input type=\"radio\" name=\"radio-4\" checked=\"checked\" class=\"radio radio-primary\">\n",
       "    <input type=\"radio\" name=\"radio-4\" class=\"radio radio-primary\">\n",
       "  </div>\n",
       "  <div>\n",
       "    <input type=\"radio\" name=\"radio-5\" checked=\"checked\" class=\"radio radio-secondary\">\n",
       "    <input type=\"radio\" name=\"radio-5\" class=\"radio radio-secondary\">\n",
       "  </div>\n",
       "  <div>\n",
       "    <input type=\"radio\" name=\"radio-6\" checked=\"checked\" class=\"radio radio-accent\">\n",
       "    <input type=\"radio\" name=\"radio-6\" class=\"radio radio-accent\">\n",
       "  </div>\n",
       "  <div>\n",
       "    <input type=\"radio\" name=\"radio-7\" checked=\"checked\" class=\"radio radio-success\">\n",
       "    <input type=\"radio\" name=\"radio-7\" class=\"radio radio-success\">\n",
       "  </div>\n",
       "  <div>\n",
       "    <input type=\"radio\" name=\"radio-8\" checked=\"checked\" class=\"radio radio-warning\">\n",
       "    <input type=\"radio\" name=\"radio-8\" class=\"radio radio-warning\">\n",
       "  </div>\n",
       "  <div>\n",
       "    <input type=\"radio\" name=\"radio-9\" checked=\"checked\" class=\"radio radio-info\">\n",
       "    <input type=\"radio\" name=\"radio-9\" class=\"radio radio-info\">\n",
       "  </div>\n",
       "  <div>\n",
       "    <input type=\"radio\" name=\"radio-10\" checked=\"checked\" class=\"radio radio-error\">\n",
       "    <input type=\"radio\" name=\"radio-10\" class=\"radio radio-error\">\n",
       "  </div>\n",
       "</div>\n",
       "\n",
       "```"
      ],
      "text/plain": [
       "div((div((input((),{'type': 'radio', 'name': 'radio-3', 'checked': 'checked', 'class': 'radio radio-neutral'}), input((),{'type': 'radio', 'name': 'radio-3', 'class': 'radio radio-neutral'})),{}), div((input((),{'type': 'radio', 'name': 'radio-4', 'checked': 'checked', 'class': 'radio radio-primary'}), input((),{'type': 'radio', 'name': 'radio-4', 'class': 'radio radio-primary'})),{}), div((input((),{'type': 'radio', 'name': 'radio-5', 'checked': 'checked', 'class': 'radio radio-secondary'}), input((),{'type': 'radio', 'name': 'radio-5', 'class': 'radio radio-secondary'})),{}), div((input((),{'type': 'radio', 'name': 'radio-6', 'checked': 'checked', 'class': 'radio radio-accent'}), input((),{'type': 'radio', 'name': 'radio-6', 'class': 'radio radio-accent'})),{}), div((input((),{'type': 'radio', 'name': 'radio-7', 'checked': 'checked', 'class': 'radio radio-success'}), input((),{'type': 'radio', 'name': 'radio-7', 'class': 'radio radio-success'})),{}), div((input((),{'type': 'radio', 'name': 'radio-8', 'checked': 'checked', 'class': 'radio radio-warning'}), input((),{'type': 'radio', 'name': 'radio-8', 'class': 'radio radio-warning'})),{}), div((input((),{'type': 'radio', 'name': 'radio-9', 'checked': 'checked', 'class': 'radio radio-info'}), input((),{'type': 'radio', 'name': 'radio-9', 'class': 'radio radio-info'})),{}), div((input((),{'type': 'radio', 'name': 'radio-10', 'checked': 'checked', 'class': 'radio radio-error'}), input((),{'type': 'radio', 'name': 'radio-10', 'class': 'radio radio-error'})),{})),{})"
      ]
     },
     "execution_count": null,
     "metadata": {},
     "output_type": "execute_result"
    }
   ],
   "source": [
    "#| export\n",
    "def test_radio_colors_fasthtml_examples():\n",
    "    \"\"\"Test radio button color variations from daisyUI v5 documentation.\"\"\"\n",
    "    from fasthtml.common import Input, Div\n",
    "    \n",
    "    # Neutral color\n",
    "    neutral_checked = Input(\n",
    "        type=\"radio\",\n",
    "        name=\"radio-3\",\n",
    "        cls=combine_classes(radio, radio_colors.neutral),\n",
    "        checked=\"checked\"\n",
    "    )\n",
    "    assert \"radio\" in neutral_checked.attrs['class']\n",
    "    assert \"radio-neutral\" in neutral_checked.attrs['class']\n",
    "    assert neutral_checked.attrs['name'] == \"radio-3\"\n",
    "    assert neutral_checked.attrs['checked'] == \"checked\"\n",
    "    \n",
    "    neutral_unchecked = Input(\n",
    "        type=\"radio\",\n",
    "        name=\"radio-3\",\n",
    "        cls=combine_classes(radio, radio_colors.neutral)\n",
    "    )\n",
    "    assert \"radio-neutral\" in neutral_unchecked.attrs['class']\n",
    "    assert 'checked' not in neutral_unchecked.attrs\n",
    "    \n",
    "    # Primary color\n",
    "    primary_checked = Input(\n",
    "        type=\"radio\",\n",
    "        name=\"radio-4\",\n",
    "        cls=combine_classes(radio, radio_colors.primary),\n",
    "        checked=\"checked\"\n",
    "    )\n",
    "    assert \"radio-primary\" in primary_checked.attrs['class']\n",
    "    assert primary_checked.attrs['name'] == \"radio-4\"\n",
    "    \n",
    "    primary_unchecked = Input(\n",
    "        type=\"radio\",\n",
    "        name=\"radio-4\",\n",
    "        cls=combine_classes(radio, radio_colors.primary)\n",
    "    )\n",
    "    assert \"radio-primary\" in primary_unchecked.attrs['class']\n",
    "    \n",
    "    # Secondary color\n",
    "    secondary_checked = Input(\n",
    "        type=\"radio\",\n",
    "        name=\"radio-5\",\n",
    "        cls=combine_classes(radio, radio_colors.secondary),\n",
    "        checked=\"checked\"\n",
    "    )\n",
    "    assert \"radio-secondary\" in secondary_checked.attrs['class']\n",
    "    assert secondary_checked.attrs['name'] == \"radio-5\"\n",
    "    \n",
    "    secondary_unchecked = Input(\n",
    "        type=\"radio\",\n",
    "        name=\"radio-5\",\n",
    "        cls=combine_classes(radio, radio_colors.secondary)\n",
    "    )\n",
    "    assert \"radio-secondary\" in secondary_unchecked.attrs['class']\n",
    "    \n",
    "    # Accent color\n",
    "    accent_checked = Input(\n",
    "        type=\"radio\",\n",
    "        name=\"radio-6\",\n",
    "        cls=combine_classes(radio, radio_colors.accent),\n",
    "        checked=\"checked\"\n",
    "    )\n",
    "    assert \"radio-accent\" in accent_checked.attrs['class']\n",
    "    assert accent_checked.attrs['name'] == \"radio-6\"\n",
    "    \n",
    "    accent_unchecked = Input(\n",
    "        type=\"radio\",\n",
    "        name=\"radio-6\",\n",
    "        cls=combine_classes(radio, radio_colors.accent)\n",
    "    )\n",
    "    assert \"radio-accent\" in accent_unchecked.attrs['class']\n",
    "    \n",
    "    # Success color\n",
    "    success_checked = Input(\n",
    "        type=\"radio\",\n",
    "        name=\"radio-7\",\n",
    "        cls=combine_classes(radio, radio_colors.success),\n",
    "        checked=\"checked\"\n",
    "    )\n",
    "    assert \"radio-success\" in success_checked.attrs['class']\n",
    "    assert success_checked.attrs['name'] == \"radio-7\"\n",
    "    \n",
    "    success_unchecked = Input(\n",
    "        type=\"radio\",\n",
    "        name=\"radio-7\",\n",
    "        cls=combine_classes(radio, radio_colors.success)\n",
    "    )\n",
    "    assert \"radio-success\" in success_unchecked.attrs['class']\n",
    "    \n",
    "    # Warning color\n",
    "    warning_checked = Input(\n",
    "        type=\"radio\",\n",
    "        name=\"radio-8\",\n",
    "        cls=combine_classes(radio, radio_colors.warning),\n",
    "        checked=\"checked\"\n",
    "    )\n",
    "    assert \"radio-warning\" in warning_checked.attrs['class']\n",
    "    assert warning_checked.attrs['name'] == \"radio-8\"\n",
    "    \n",
    "    warning_unchecked = Input(\n",
    "        type=\"radio\",\n",
    "        name=\"radio-8\",\n",
    "        cls=combine_classes(radio, radio_colors.warning)\n",
    "    )\n",
    "    assert \"radio-warning\" in warning_unchecked.attrs['class']\n",
    "    \n",
    "    # Info color\n",
    "    info_checked = Input(\n",
    "        type=\"radio\",\n",
    "        name=\"radio-9\",\n",
    "        cls=combine_classes(radio, radio_colors.info),\n",
    "        checked=\"checked\"\n",
    "    )\n",
    "    assert \"radio-info\" in info_checked.attrs['class']\n",
    "    assert info_checked.attrs['name'] == \"radio-9\"\n",
    "    \n",
    "    info_unchecked = Input(\n",
    "        type=\"radio\",\n",
    "        name=\"radio-9\",\n",
    "        cls=combine_classes(radio, radio_colors.info)\n",
    "    )\n",
    "    assert \"radio-info\" in info_unchecked.attrs['class']\n",
    "    \n",
    "    # Error color\n",
    "    error_checked = Input(\n",
    "        type=\"radio\",\n",
    "        name=\"radio-10\",\n",
    "        cls=combine_classes(radio, radio_colors.error),\n",
    "        checked=\"checked\"\n",
    "    )\n",
    "    assert \"radio-error\" in error_checked.attrs['class']\n",
    "    assert error_checked.attrs['name'] == \"radio-10\"\n",
    "    \n",
    "    error_unchecked = Input(\n",
    "        type=\"radio\",\n",
    "        name=\"radio-10\",\n",
    "        cls=combine_classes(radio, radio_colors.error)\n",
    "    )\n",
    "    assert \"radio-error\" in error_unchecked.attrs['class']\n",
    "    \n",
    "    # Return all color variations in grouped Divs\n",
    "    return Div(\n",
    "        Div(neutral_checked, neutral_unchecked),\n",
    "        Div(primary_checked, primary_unchecked),\n",
    "        Div(secondary_checked, secondary_unchecked),\n",
    "        Div(accent_checked, accent_unchecked),\n",
    "        Div(success_checked, success_unchecked),\n",
    "        Div(warning_checked, warning_unchecked),\n",
    "        Div(info_checked, info_unchecked),\n",
    "        Div(error_checked, error_unchecked)\n",
    "    )\n",
    "\n",
    "# Run the tests\n",
    "test_radio_colors_fasthtml_examples()"
   ]
  },
  {
   "cell_type": "code",
   "execution_count": null,
   "id": "60f3c829-cee1-413d-98ec-293d8454cebe",
   "metadata": {},
   "outputs": [
    {
     "data": {
      "text/html": [
       "\n",
       "<script>\n",
       "document.body.addEventListener('htmx:configRequest', (event) => {\n",
       "    if(event.detail.path.includes('://')) return;\n",
       "    htmx.config.selfRequestsOnly=false;\n",
       "    event.detail.path = `${location.protocol}//${location.hostname}:8000${event.detail.path}`;\n",
       "});\n",
       "</script>"
      ],
      "text/plain": [
       "<IPython.core.display.HTML object>"
      ]
     },
     "metadata": {},
     "output_type": "display_data"
    },
    {
     "data": {
      "text/html": [
       "<iframe src=\"http://localhost:8000/\" style=\"width: 100%; height: auto; border: none;\" onload=\"{\n",
       "        let frame = this;\n",
       "        window.addEventListener('message', function(e) {\n",
       "            if (e.source !== frame.contentWindow) return; // Only proceed if the message is from this iframe\n",
       "            if (e.data.height) frame.style.height = (e.data.height+1) + 'px';\n",
       "        }, false);\n",
       "    }\" allow=\"accelerometer; autoplay; camera; clipboard-read; clipboard-write; display-capture; encrypted-media; fullscreen; gamepad; geolocation; gyroscope; hid; identity-credentials-get; idle-detection; magnetometer; microphone; midi; payment; picture-in-picture; publickey-credentials-get; screen-wake-lock; serial; usb; web-share; xr-spatial-tracking\"></iframe> "
      ],
      "text/plain": [
       "<IPython.core.display.HTML object>"
      ]
     },
     "metadata": {},
     "output_type": "display_data"
    }
   ],
   "source": [
    "#| eval: false\n",
    "test_func = test_radio_colors_fasthtml_examples\n",
    "app, rt = create_test_app(theme=DaisyUITheme.LIGHT)\n",
    "\n",
    "@rt\n",
    "def index():\n",
    "    return create_test_page(test_func.__doc__.title().replace('.', ''), test_func())\n",
    "server = start_test_server(app)\n",
    "display(HTMX())\n",
    "server.stop()"
   ]
  },
  {
   "cell_type": "code",
   "execution_count": null,
   "id": "11a704d3-a8d9-47c2-980a-7cd3e6faa8da",
   "metadata": {},
   "outputs": [
    {
     "data": {
      "text/markdown": [
       "```html\n",
       "<div>\n",
       "  <input type=\"radio\" name=\"radio-11\" disabled checked=\"checked\" class=\"radio\">\n",
       "  <input type=\"radio\" name=\"radio-11\" disabled class=\"radio\">\n",
       "</div>\n",
       "\n",
       "```"
      ],
      "text/plain": [
       "div((input((),{'type': 'radio', 'name': 'radio-11', 'disabled': True, 'checked': 'checked', 'class': 'radio'}), input((),{'type': 'radio', 'name': 'radio-11', 'disabled': True, 'class': 'radio'})),{})"
      ]
     },
     "execution_count": null,
     "metadata": {},
     "output_type": "execute_result"
    }
   ],
   "source": [
    "#| export\n",
    "def test_radio_disabled_fasthtml_examples():\n",
    "    \"\"\"Test disabled radio button examples from daisyUI v5 documentation.\"\"\"\n",
    "    from fasthtml.common import Input, Div\n",
    "    \n",
    "    # Disabled radio buttons\n",
    "    disabled_checked = Input(\n",
    "        type=\"radio\",\n",
    "        name=\"radio-11\",\n",
    "        cls=str(radio),\n",
    "        disabled=True,\n",
    "        checked=\"checked\"\n",
    "    )\n",
    "    assert disabled_checked.tag == \"input\"\n",
    "    assert disabled_checked.attrs['type'] == \"radio\"\n",
    "    assert disabled_checked.attrs['name'] == \"radio-11\"\n",
    "    assert disabled_checked.attrs['class'] == \"radio\"\n",
    "    assert disabled_checked.attrs['disabled'] == True\n",
    "    assert disabled_checked.attrs['checked'] == \"checked\"\n",
    "    \n",
    "    disabled_unchecked = Input(\n",
    "        type=\"radio\",\n",
    "        name=\"radio-11\",\n",
    "        cls=str(radio),\n",
    "        disabled=True\n",
    "    )\n",
    "    assert disabled_unchecked.tag == \"input\"\n",
    "    assert disabled_unchecked.attrs['type'] == \"radio\"\n",
    "    assert disabled_unchecked.attrs['name'] == \"radio-11\"\n",
    "    assert disabled_unchecked.attrs['class'] == \"radio\"\n",
    "    assert disabled_unchecked.attrs['disabled'] == True\n",
    "    assert 'checked' not in disabled_unchecked.attrs\n",
    "    \n",
    "    # Return both disabled radio buttons in a Div\n",
    "    return Div(\n",
    "        disabled_checked,\n",
    "        disabled_unchecked\n",
    "    )\n",
    "\n",
    "# Run the tests\n",
    "test_radio_disabled_fasthtml_examples()"
   ]
  },
  {
   "cell_type": "code",
   "execution_count": null,
   "id": "87667221-717d-4c73-b042-b04ef8f011ed",
   "metadata": {},
   "outputs": [
    {
     "data": {
      "text/html": [
       "\n",
       "<script>\n",
       "document.body.addEventListener('htmx:configRequest', (event) => {\n",
       "    if(event.detail.path.includes('://')) return;\n",
       "    htmx.config.selfRequestsOnly=false;\n",
       "    event.detail.path = `${location.protocol}//${location.hostname}:8000${event.detail.path}`;\n",
       "});\n",
       "</script>"
      ],
      "text/plain": [
       "<IPython.core.display.HTML object>"
      ]
     },
     "metadata": {},
     "output_type": "display_data"
    },
    {
     "data": {
      "text/html": [
       "<iframe src=\"http://localhost:8000/\" style=\"width: 100%; height: auto; border: none;\" onload=\"{\n",
       "        let frame = this;\n",
       "        window.addEventListener('message', function(e) {\n",
       "            if (e.source !== frame.contentWindow) return; // Only proceed if the message is from this iframe\n",
       "            if (e.data.height) frame.style.height = (e.data.height+1) + 'px';\n",
       "        }, false);\n",
       "    }\" allow=\"accelerometer; autoplay; camera; clipboard-read; clipboard-write; display-capture; encrypted-media; fullscreen; gamepad; geolocation; gyroscope; hid; identity-credentials-get; idle-detection; magnetometer; microphone; midi; payment; picture-in-picture; publickey-credentials-get; screen-wake-lock; serial; usb; web-share; xr-spatial-tracking\"></iframe> "
      ],
      "text/plain": [
       "<IPython.core.display.HTML object>"
      ]
     },
     "metadata": {},
     "output_type": "display_data"
    }
   ],
   "source": [
    "#| eval: false\n",
    "test_func = test_radio_disabled_fasthtml_examples\n",
    "app, rt = create_test_app(theme=DaisyUITheme.LIGHT)\n",
    "\n",
    "@rt\n",
    "def index():\n",
    "    return create_test_page(test_func.__doc__.title().replace('.', ''), test_func())\n",
    "server = start_test_server(app)\n",
    "display(HTMX())\n",
    "server.stop()"
   ]
  },
  {
   "cell_type": "code",
   "execution_count": null,
   "id": "38b5c51e-b384-46cb-b674-2f333f636afe",
   "metadata": {},
   "outputs": [
    {
     "data": {
      "text/markdown": [
       "```html\n",
       "<div>\n",
       "  <input type=\"radio\" name=\"radio-12\" checked=\"checked\" class=\"radio bg-red-100 border-red-300 checked:bg-red-200 checked:text-red-600 checked:border-red-600\">\n",
       "  <input type=\"radio\" name=\"radio-12\" checked=\"checked\" class=\"radio bg-blue-100 border-blue-300 checked:bg-blue-200 checked:text-blue-600 checked:border-blue-600\">\n",
       "</div>\n",
       "\n",
       "```"
      ],
      "text/plain": [
       "div((input((),{'type': 'radio', 'name': 'radio-12', 'checked': 'checked', 'class': 'radio bg-red-100 border-red-300 checked:bg-red-200 checked:text-red-600 checked:border-red-600'}), input((),{'type': 'radio', 'name': 'radio-12', 'checked': 'checked', 'class': 'radio bg-blue-100 border-blue-300 checked:bg-blue-200 checked:text-blue-600 checked:border-blue-600'})),{})"
      ]
     },
     "execution_count": null,
     "metadata": {},
     "output_type": "execute_result"
    }
   ],
   "source": [
    "#| export\n",
    "def test_radio_custom_colors_fasthtml_examples():\n",
    "    \"\"\"Test radio buttons with custom colors from daisyUI v5 documentation.\"\"\"\n",
    "    from fasthtml.common import Input, Div\n",
    "    from cjm_fasthtml_tailwind.utilities.backgrounds import bg\n",
    "    from cjm_fasthtml_tailwind.utilities.borders import border_color\n",
    "    from cjm_fasthtml_tailwind.utilities.typography import text\n",
    "    \n",
    "    # Radio with custom red colors\n",
    "    red_radio = Input(\n",
    "        type=\"radio\",\n",
    "        name=\"radio-12\",\n",
    "        checked=\"checked\",\n",
    "        cls=combine_classes(\n",
    "            radio,\n",
    "            bg.red_100,\n",
    "            border_color.red_300,\n",
    "            bg.red_200.checked,\n",
    "            text.red_600.checked,\n",
    "            border_color.red_600.checked\n",
    "        )\n",
    "    )\n",
    "    assert red_radio.tag == \"input\"\n",
    "    assert red_radio.attrs['type'] == \"radio\"\n",
    "    assert red_radio.attrs['name'] == \"radio-12\"\n",
    "    assert red_radio.attrs['checked'] == \"checked\"\n",
    "    assert \"radio\" in red_radio.attrs['class']\n",
    "    assert \"bg-red-100\" in red_radio.attrs['class']\n",
    "    assert \"border-red-300\" in red_radio.attrs['class']\n",
    "    assert \"checked:bg-red-200\" in red_radio.attrs['class']\n",
    "    assert \"checked:text-red-600\" in red_radio.attrs['class']\n",
    "    assert \"checked:border-red-600\" in red_radio.attrs['class']\n",
    "    \n",
    "    # Radio with custom blue colors\n",
    "    blue_radio = Input(\n",
    "        type=\"radio\",\n",
    "        name=\"radio-12\",\n",
    "        checked=\"checked\",\n",
    "        cls=combine_classes(\n",
    "            radio,\n",
    "            bg.blue_100,\n",
    "            border_color.blue_300,\n",
    "            bg.blue_200.checked,\n",
    "            text.blue_600.checked,\n",
    "            border_color.blue_600.checked\n",
    "        )\n",
    "    )\n",
    "    assert blue_radio.tag == \"input\"\n",
    "    assert blue_radio.attrs['type'] == \"radio\"\n",
    "    assert blue_radio.attrs['name'] == \"radio-12\"\n",
    "    assert blue_radio.attrs['checked'] == \"checked\"\n",
    "    assert \"radio\" in blue_radio.attrs['class']\n",
    "    assert \"bg-blue-100\" in blue_radio.attrs['class']\n",
    "    assert \"border-blue-300\" in blue_radio.attrs['class']\n",
    "    assert \"checked:bg-blue-200\" in blue_radio.attrs['class']\n",
    "    assert \"checked:text-blue-600\" in blue_radio.attrs['class']\n",
    "    assert \"checked:border-blue-600\" in blue_radio.attrs['class']\n",
    "    \n",
    "    # Return both custom colored radio buttons in a Div\n",
    "    return Div(\n",
    "        red_radio,\n",
    "        blue_radio\n",
    "    )\n",
    "\n",
    "# Run the tests\n",
    "test_radio_custom_colors_fasthtml_examples()"
   ]
  },
  {
   "cell_type": "code",
   "execution_count": null,
   "id": "6edf6c04-06a5-436f-8343-065f19ede197",
   "metadata": {},
   "outputs": [
    {
     "data": {
      "text/html": [
       "\n",
       "<script>\n",
       "document.body.addEventListener('htmx:configRequest', (event) => {\n",
       "    if(event.detail.path.includes('://')) return;\n",
       "    htmx.config.selfRequestsOnly=false;\n",
       "    event.detail.path = `${location.protocol}//${location.hostname}:8000${event.detail.path}`;\n",
       "});\n",
       "</script>"
      ],
      "text/plain": [
       "<IPython.core.display.HTML object>"
      ]
     },
     "metadata": {},
     "output_type": "display_data"
    },
    {
     "data": {
      "text/html": [
       "<iframe src=\"http://localhost:8000/\" style=\"width: 100%; height: auto; border: none;\" onload=\"{\n",
       "        let frame = this;\n",
       "        window.addEventListener('message', function(e) {\n",
       "            if (e.source !== frame.contentWindow) return; // Only proceed if the message is from this iframe\n",
       "            if (e.data.height) frame.style.height = (e.data.height+1) + 'px';\n",
       "        }, false);\n",
       "    }\" allow=\"accelerometer; autoplay; camera; clipboard-read; clipboard-write; display-capture; encrypted-media; fullscreen; gamepad; geolocation; gyroscope; hid; identity-credentials-get; idle-detection; magnetometer; microphone; midi; payment; picture-in-picture; publickey-credentials-get; screen-wake-lock; serial; usb; web-share; xr-spatial-tracking\"></iframe> "
      ],
      "text/plain": [
       "<IPython.core.display.HTML object>"
      ]
     },
     "metadata": {},
     "output_type": "display_data"
    }
   ],
   "source": [
    "#| eval: false\n",
    "test_func = test_radio_custom_colors_fasthtml_examples\n",
    "app, rt = create_test_app(theme=DaisyUITheme.LIGHT)\n",
    "\n",
    "@rt\n",
    "def index():\n",
    "    return create_test_page(test_func.__doc__.title().replace('.', ''), test_func())\n",
    "server = start_test_server(app)\n",
    "display(HTMX())\n",
    "server.stop()"
   ]
  },
  {
   "cell_type": "code",
   "execution_count": null,
   "id": "49414ab5-4db6-4520-af22-5cbecac9c1dc",
   "metadata": {},
   "outputs": [],
   "source": []
  },
  {
   "cell_type": "code",
   "execution_count": null,
   "id": "cd7200da-407c-4901-93b0-7314d30ece85",
   "metadata": {},
   "outputs": [],
   "source": []
  },
  {
   "cell_type": "code",
   "execution_count": null,
   "id": "506a0486-ee5d-4413-ab33-ebbcc6d3068a",
   "metadata": {},
   "outputs": [],
   "source": []
  },
  {
   "cell_type": "code",
   "execution_count": null,
   "id": "0da51af2-8d74-4aee-91e6-3738598ba053",
   "metadata": {},
   "outputs": [],
   "source": []
  },
  {
   "cell_type": "code",
   "execution_count": null,
   "id": "a46ca0c8-8bb7-4468-a048-f267853aff34",
   "metadata": {},
   "outputs": [],
   "source": []
  },
  {
   "cell_type": "code",
   "execution_count": null,
   "id": "cc477f97-6636-4b27-974b-54c1a6c22469",
   "metadata": {},
   "outputs": [],
   "source": []
  },
  {
   "cell_type": "code",
   "execution_count": null,
   "id": "4202dba3-5692-4c0a-b4e7-357a932f0a90",
   "metadata": {},
   "outputs": [],
   "source": []
  },
  {
   "cell_type": "code",
   "execution_count": null,
   "id": "452e53b8-d750-48fb-a063-6b2405bef01b",
   "metadata": {},
   "outputs": [],
   "source": []
  },
  {
   "cell_type": "code",
   "execution_count": null,
   "id": "5a159cac-ecc8-4b77-afd1-41c67876c7e3",
   "metadata": {},
   "outputs": [],
   "source": []
  },
  {
   "cell_type": "code",
   "execution_count": null,
   "id": "49b55d2e-72db-4b6a-bec9-4b87b0475565",
   "metadata": {},
   "outputs": [],
   "source": []
  },
  {
   "cell_type": "code",
   "execution_count": null,
   "id": "01785a18-9bb0-4dbc-9eae-04addf6dede9",
   "metadata": {},
   "outputs": [],
   "source": []
  },
  {
   "cell_type": "code",
   "execution_count": null,
   "id": "43a3d5aa-4f07-48f4-b7c3-5c63612f0fb2",
   "metadata": {},
   "outputs": [],
   "source": []
  },
  {
   "cell_type": "code",
   "execution_count": null,
   "id": "248adc40-6e77-4203-9830-de838e25a00a",
   "metadata": {},
   "outputs": [],
   "source": []
  },
  {
   "cell_type": "code",
   "execution_count": null,
   "id": "a2029d6d-bf22-4e16-87e1-d609762dc867",
   "metadata": {},
   "outputs": [],
   "source": []
  },
  {
   "cell_type": "code",
   "execution_count": null,
   "id": "c9dfaad9-504c-4853-886b-2d1adb1cc3a0",
   "metadata": {},
   "outputs": [],
   "source": []
  },
  {
   "cell_type": "code",
   "execution_count": null,
   "id": "454d5b84-fc57-44ab-a6f0-3123333998cb",
   "metadata": {},
   "outputs": [],
   "source": []
  },
  {
   "cell_type": "code",
   "execution_count": null,
   "id": "d471d21b-6fe5-4c63-90be-5176c4cbd08b",
   "metadata": {},
   "outputs": [],
   "source": []
  },
  {
   "cell_type": "code",
   "execution_count": null,
   "id": "73b88b7e-0be6-4a82-9c02-f3df8af20015",
   "metadata": {},
   "outputs": [],
   "source": []
  },
  {
   "cell_type": "code",
   "execution_count": null,
   "id": "7ab8257a-c30b-45b6-a784-729b67686791",
   "metadata": {},
   "outputs": [],
   "source": [
    "#| hide\n",
    "import nbdev; nbdev.nbdev_export()"
   ]
  }
 ],
 "metadata": {
  "kernelspec": {
   "display_name": "python3",
   "language": "python",
   "name": "python3"
  }
 },
 "nbformat": 4,
 "nbformat_minor": 5
}
