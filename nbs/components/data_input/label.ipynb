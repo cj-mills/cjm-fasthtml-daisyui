{
 "cells": [
  {
   "cell_type": "markdown",
   "id": "7c51b46b-ece1-456d-8e84-7de122e72b62",
   "metadata": {},
   "source": [
    "# label\n",
    "\n",
    "> Label is used to provide a name or title for an input field. Label can be placed before or after the field."
   ]
  },
  {
   "cell_type": "code",
   "execution_count": null,
   "id": "25536bdc-e099-477f-9e2d-a5f71df5dff2",
   "metadata": {},
   "outputs": [],
   "source": [
    "#| default_exp components.data_input.label"
   ]
  },
  {
   "cell_type": "code",
   "execution_count": null,
   "id": "2e6f21ce-7766-455a-8ebb-df2c17e7d977",
   "metadata": {},
   "outputs": [],
   "source": [
    "#| hide\n",
    "from nbdev.showdoc import *"
   ]
  },
  {
   "cell_type": "code",
   "execution_count": null,
   "id": "045c6538-403e-4222-b3bb-db20f188524d",
   "metadata": {},
   "outputs": [],
   "source": [
    "#| export\n",
    "\n",
    "from cjm_fasthtml_tailwind.core.base import (\n",
    "    SingleValueFactory, combine_classes\n",
    ")\n",
    "\n",
    "from fasthtml.common import Div\n",
    "from fasthtml.jupyter import JupyUvi, HTMX\n",
    "from cjm_fasthtml_daisyui.core.testing import create_test_app, create_test_page, start_test_server\n",
    "from cjm_fasthtml_daisyui.core.themes import DaisyUITheme\n",
    "from IPython.display import display"
   ]
  },
  {
   "cell_type": "markdown",
   "id": "e8fbb176-9e65-4238-ac13-d8b067401998",
   "metadata": {},
   "source": [
    "### Base Label"
   ]
  },
  {
   "cell_type": "code",
   "execution_count": null,
   "id": "c802d106-49fb-4d34-ba04-5f54c88e165b",
   "metadata": {},
   "outputs": [],
   "source": [
    "#| exports\n",
    "label = SingleValueFactory(\"label\", \"Base label component for styling the text next to an input field (or select)\") # Base label component\n",
    "floating_label = SingleValueFactory(\"floating-label\", \"Floating label component for the parent of an input field (or select) and a span that floats above the input field when the field is focused\") # Base floating label component"
   ]
  },
  {
   "cell_type": "markdown",
   "id": "6cec2e42-f401-4168-b97d-b5e904fe435f",
   "metadata": {},
   "source": [
    "### Label Test Examples"
   ]
  },
  {
   "cell_type": "code",
   "execution_count": null,
   "id": "636c6bcd-2176-4191-aa39-c937893243e2",
   "metadata": {},
   "outputs": [],
   "source": [
    "#|exports\n",
    "def test_label_basic_examples():\n",
    "    \"\"\"Test basic label utilities.\"\"\"\n",
    "    # Basic label\n",
    "    assert str(label) == \"label\"\n",
    "    assert str(floating_label) == \"floating-label\"\n",
    "    \n",
    "    # Test with modifiers\n",
    "    assert str(label.hover) == \"hover:label\"\n",
    "    assert str(label.md) == \"md:label\"\n",
    "    assert str(label.dark) == \"dark:label\"\n",
    "\n",
    "    # Test with modifiers\n",
    "    assert str(floating_label.hover) == \"hover:floating-label\"\n",
    "    assert str(floating_label.md) == \"md:floating-label\"\n",
    "    assert str(floating_label.dark) == \"dark:floating-label\"\n",
    "\n",
    "# Run the tests\n",
    "test_label_basic_examples()"
   ]
  },
  {
   "cell_type": "code",
   "execution_count": null,
   "id": "8ea20dce-7b83-48c0-b5bd-df4531ab291c",
   "metadata": {},
   "outputs": [
    {
     "data": {
      "text/markdown": [
       "```html\n",
       "<div>\n",
       "<label class=\"input\"><span class=\"label\">https://</span>    <input type=\"text\" placeholder=\"URL\">\n",
       "</label><label class=\"input\">    <input type=\"text\" placeholder=\"domain name\">\n",
       "<span class=\"label\">.com</span></label></div>\n",
       "\n",
       "```"
      ],
      "text/plain": [
       "div((label((span(('https://',),{'class': 'label'}), input((),{'type': 'text', 'placeholder': 'URL'})),{'class': 'input'}), label((input((),{'type': 'text', 'placeholder': 'domain name'}), span(('.com',),{'class': 'label'})),{'class': 'input'})),{})"
      ]
     },
     "execution_count": null,
     "metadata": {},
     "output_type": "execute_result"
    }
   ],
   "source": [
    "#|exports\n",
    "def test_label_for_input_fasthtml_examples():\n",
    "    \"\"\"Test label for input examples from daisyUI v5 documentation.\"\"\"\n",
    "    from fasthtml.common import Label, Span, Input\n",
    "    from cjm_fasthtml_daisyui.components.data_input.text_input import text_input\n",
    "    \n",
    "    # Label for input at the start\n",
    "    label_start = Label(\n",
    "        Span(\"https://\", cls=str(label)),\n",
    "        Input(type=\"text\", placeholder=\"URL\"),\n",
    "        cls=str(text_input)\n",
    "    )\n",
    "    \n",
    "    # Verify structure\n",
    "    assert label_start.tag == \"label\"\n",
    "    assert \"input\" in label_start.attrs['class']\n",
    "    \n",
    "    # Verify span element\n",
    "    span_element = label_start.children[0]\n",
    "    assert span_element.tag == \"span\"\n",
    "    assert \"label\" in span_element.attrs['class']\n",
    "    assert span_element.children[0] == \"https://\"\n",
    "    \n",
    "    # Verify input element\n",
    "    input_element = label_start.children[1]\n",
    "    assert input_element.tag == \"input\"\n",
    "    assert input_element.attrs['type'] == \"text\"\n",
    "    assert input_element.attrs['placeholder'] == \"URL\"\n",
    "    \n",
    "    # Label for input at the end\n",
    "    label_end = Label(\n",
    "        Input(type=\"text\", placeholder=\"domain name\"),\n",
    "        Span(\".com\", cls=str(label)),\n",
    "        cls=str(text_input)\n",
    "    )\n",
    "    \n",
    "    # Verify structure\n",
    "    assert label_end.tag == \"label\"\n",
    "    assert \"input\" in label_end.attrs['class']\n",
    "    \n",
    "    # Verify input element comes first\n",
    "    input_element = label_end.children[0]\n",
    "    assert input_element.tag == \"input\"\n",
    "    assert input_element.attrs['type'] == \"text\"\n",
    "    assert input_element.attrs['placeholder'] == \"domain name\"\n",
    "    \n",
    "    # Verify span element comes second\n",
    "    span_element = label_end.children[1]\n",
    "    assert span_element.tag == \"span\"\n",
    "    assert \"label\" in span_element.attrs['class']\n",
    "    assert span_element.children[0] == \".com\"\n",
    "    \n",
    "    return Div(label_start, label_end)\n",
    "\n",
    "# Run the tests\n",
    "test_label_for_input_fasthtml_examples()"
   ]
  },
  {
   "cell_type": "code",
   "execution_count": null,
   "id": "e4fcd8ad-a6d0-48fd-a45c-c3e2500f1814",
   "metadata": {},
   "outputs": [
    {
     "data": {
      "text/html": [
       "\n",
       "<script>\n",
       "document.body.addEventListener('htmx:configRequest', (event) => {\n",
       "    if(event.detail.path.includes('://')) return;\n",
       "    htmx.config.selfRequestsOnly=false;\n",
       "    event.detail.path = `${location.protocol}//${location.hostname}:8000${event.detail.path}`;\n",
       "});\n",
       "</script>"
      ],
      "text/plain": [
       "<IPython.core.display.HTML object>"
      ]
     },
     "metadata": {},
     "output_type": "display_data"
    },
    {
     "data": {
      "text/html": [
       "<iframe src=\"http://localhost:8000/\" style=\"width: 100%; height: auto; border: none;\" onload=\"{\n",
       "        let frame = this;\n",
       "        window.addEventListener('message', function(e) {\n",
       "            if (e.source !== frame.contentWindow) return; // Only proceed if the message is from this iframe\n",
       "            if (e.data.height) frame.style.height = (e.data.height+1) + 'px';\n",
       "        }, false);\n",
       "    }\" allow=\"accelerometer; autoplay; camera; clipboard-read; clipboard-write; display-capture; encrypted-media; fullscreen; gamepad; geolocation; gyroscope; hid; identity-credentials-get; idle-detection; magnetometer; microphone; midi; payment; picture-in-picture; publickey-credentials-get; screen-wake-lock; serial; usb; web-share; xr-spatial-tracking\"></iframe> "
      ],
      "text/plain": [
       "<IPython.core.display.HTML object>"
      ]
     },
     "metadata": {},
     "output_type": "display_data"
    }
   ],
   "source": [
    "#| eval: false\n",
    "#| output: false\n",
    "test_func = test_label_for_input_fasthtml_examples\n",
    "app, rt = create_test_app(theme=DaisyUITheme.LIGHT)\n",
    "\n",
    "@rt\n",
    "def index():\n",
    "    return create_test_page(test_func.__doc__.title().replace('.', ''), test_func())\n",
    "server = start_test_server(app)\n",
    "display(HTMX())\n",
    "server.stop()"
   ]
  },
  {
   "cell_type": "code",
   "execution_count": null,
   "id": "83ebf2ff-bfa8-46f5-a8c6-2f6aeb3c058d",
   "metadata": {},
   "outputs": [
    {
     "data": {
      "text/markdown": [
       "```html\n",
       "<div>\n",
       "<label class=\"select\"><span class=\"label\">Type</span><select><option>Personal</option><option>Business</option></select></label><label class=\"input\"><span class=\"label\">Publish date</span>    <input type=\"date\">\n",
       "</label></div>\n",
       "\n",
       "```"
      ],
      "text/plain": [
       "div((label((span(('Type',),{'class': 'label'}), select((option(('Personal',),{}), option(('Business',),{})),{})),{'class': 'select'}), label((span(('Publish date',),{'class': 'label'}), input((),{'type': 'date'})),{'class': 'input'})),{})"
      ]
     },
     "execution_count": null,
     "metadata": {},
     "output_type": "execute_result"
    }
   ],
   "source": [
    "#|exports\n",
    "def test_label_for_select_and_date_fasthtml_examples():\n",
    "    \"\"\"Test label for select and date input examples from daisyUI v5 documentation.\"\"\"\n",
    "    from fasthtml.common import Label, Span, Select, Option, Input\n",
    "    from cjm_fasthtml_daisyui.components.data_input.select import select\n",
    "    from cjm_fasthtml_daisyui.components.data_input.text_input import text_input\n",
    "    \n",
    "    # Label for select\n",
    "    label_select = Label(\n",
    "        Span(\"Type\", cls=str(label)),\n",
    "        Select(\n",
    "            Option(\"Personal\"),\n",
    "            Option(\"Business\")\n",
    "        ),\n",
    "        cls=str(select)\n",
    "    )\n",
    "    \n",
    "    # Verify structure\n",
    "    assert label_select.tag == \"label\"\n",
    "    assert \"select\" in label_select.attrs['class']\n",
    "    \n",
    "    # Verify span element\n",
    "    span_element = label_select.children[0]\n",
    "    assert span_element.tag == \"span\"\n",
    "    assert \"label\" in span_element.attrs['class']\n",
    "    assert span_element.children[0] == \"Type\"\n",
    "    \n",
    "    # Verify select element\n",
    "    select_element = label_select.children[1]\n",
    "    assert select_element.tag == \"select\"\n",
    "    assert len(select_element.children) == 2\n",
    "    \n",
    "    # Verify options\n",
    "    option1 = select_element.children[0]\n",
    "    assert option1.tag == \"option\"\n",
    "    assert option1.children[0] == \"Personal\"\n",
    "    \n",
    "    option2 = select_element.children[1]\n",
    "    assert option2.tag == \"option\"\n",
    "    assert option2.children[0] == \"Business\"\n",
    "    \n",
    "    # Label for date input\n",
    "    label_date = Label(\n",
    "        Span(\"Publish date\", cls=str(label)),\n",
    "        Input(type=\"date\"),\n",
    "        cls=str(text_input)\n",
    "    )\n",
    "    \n",
    "    # Verify structure\n",
    "    assert label_date.tag == \"label\"\n",
    "    assert \"input\" in label_date.attrs['class']\n",
    "    \n",
    "    # Verify span element\n",
    "    span_element = label_date.children[0]\n",
    "    assert span_element.tag == \"span\"\n",
    "    assert \"label\" in span_element.attrs['class']\n",
    "    assert span_element.children[0] == \"Publish date\"\n",
    "    \n",
    "    # Verify input element\n",
    "    input_element = label_date.children[1]\n",
    "    assert input_element.tag == \"input\"\n",
    "    assert input_element.attrs['type'] == \"date\"\n",
    "    \n",
    "    return Div(label_select, label_date)\n",
    "\n",
    "# Run the tests\n",
    "test_label_for_select_and_date_fasthtml_examples()"
   ]
  },
  {
   "cell_type": "code",
   "execution_count": null,
   "id": "235696f1-b5bf-4920-ad09-8e3ee8d5865e",
   "metadata": {},
   "outputs": [
    {
     "data": {
      "text/html": [
       "\n",
       "<script>\n",
       "document.body.addEventListener('htmx:configRequest', (event) => {\n",
       "    if(event.detail.path.includes('://')) return;\n",
       "    htmx.config.selfRequestsOnly=false;\n",
       "    event.detail.path = `${location.protocol}//${location.hostname}:8000${event.detail.path}`;\n",
       "});\n",
       "</script>"
      ],
      "text/plain": [
       "<IPython.core.display.HTML object>"
      ]
     },
     "metadata": {},
     "output_type": "display_data"
    },
    {
     "data": {
      "text/html": [
       "<iframe src=\"http://localhost:8000/\" style=\"width: 100%; height: auto; border: none;\" onload=\"{\n",
       "        let frame = this;\n",
       "        window.addEventListener('message', function(e) {\n",
       "            if (e.source !== frame.contentWindow) return; // Only proceed if the message is from this iframe\n",
       "            if (e.data.height) frame.style.height = (e.data.height+1) + 'px';\n",
       "        }, false);\n",
       "    }\" allow=\"accelerometer; autoplay; camera; clipboard-read; clipboard-write; display-capture; encrypted-media; fullscreen; gamepad; geolocation; gyroscope; hid; identity-credentials-get; idle-detection; magnetometer; microphone; midi; payment; picture-in-picture; publickey-credentials-get; screen-wake-lock; serial; usb; web-share; xr-spatial-tracking\"></iframe> "
      ],
      "text/plain": [
       "<IPython.core.display.HTML object>"
      ]
     },
     "metadata": {},
     "output_type": "display_data"
    }
   ],
   "source": [
    "#| eval: false\n",
    "#| output: false\n",
    "test_func = test_label_for_select_and_date_fasthtml_examples\n",
    "app, rt = create_test_app(theme=DaisyUITheme.LIGHT)\n",
    "\n",
    "@rt\n",
    "def index():\n",
    "    return create_test_page(test_func.__doc__.title().replace('.', ''), test_func())\n",
    "server = start_test_server(app)\n",
    "display(HTMX())\n",
    "server.stop()"
   ]
  },
  {
   "cell_type": "code",
   "execution_count": null,
   "id": "a2379dab-ac07-4a30-ba93-34e64d03fdef",
   "metadata": {},
   "outputs": [
    {
     "data": {
      "text/markdown": [
       "```html\n",
       "<label class=\"floating-label\"><span>Your Email</span>  <input type=\"text\" placeholder=\"[email protected]\" class=\"input input-md\">\n",
       "</label>\n",
       "```"
      ],
      "text/plain": [
       "label((span(('Your Email',),{}), input((),{'type': 'text', 'placeholder': '[email protected]', 'class': 'input input-md'})),{'class': 'floating-label'})"
      ]
     },
     "execution_count": null,
     "metadata": {},
     "output_type": "execute_result"
    }
   ],
   "source": [
    "#|exports\n",
    "def test_floating_label_fasthtml_examples():\n",
    "    \"\"\"Test floating label example from daisyUI v5 documentation.\"\"\"\n",
    "    from fasthtml.common import Label, Span, Input\n",
    "    from cjm_fasthtml_daisyui.components.data_input.text_input import text_input, text_input_sizes\n",
    "    \n",
    "    # Floating Label\n",
    "    floating_label_elem = Label(\n",
    "        Span(\"Your Email\"),\n",
    "        Input(type=\"text\", placeholder=\"[email protected]\", cls=combine_classes(text_input, text_input_sizes.md)),\n",
    "        cls=str(floating_label)\n",
    "    )\n",
    "    \n",
    "    # Verify structure\n",
    "    assert floating_label_elem.tag == \"label\"\n",
    "    assert \"floating-label\" in floating_label_elem.attrs['class']\n",
    "    \n",
    "    # Verify span element (comes first in HTML, but order in FastHTML may vary)\n",
    "    span_element = floating_label_elem.children[0]\n",
    "    assert span_element.tag == \"span\"\n",
    "    assert span_element.children[0] == \"Your Email\"\n",
    "    \n",
    "    # Verify input element\n",
    "    input_element = floating_label_elem.children[1]\n",
    "    assert input_element.tag == \"input\"\n",
    "    assert input_element.attrs['type'] == \"text\"\n",
    "    assert input_element.attrs['placeholder'] == \"[email protected]\"\n",
    "    assert \"input\" in input_element.attrs['class']\n",
    "    assert \"input-md\" in input_element.attrs['class']\n",
    "    \n",
    "    return floating_label_elem\n",
    "\n",
    "# Run the tests\n",
    "test_floating_label_fasthtml_examples()"
   ]
  },
  {
   "cell_type": "code",
   "execution_count": null,
   "id": "60a5dc95-7575-4362-b926-6deab40cd387",
   "metadata": {},
   "outputs": [
    {
     "data": {
      "text/html": [
       "\n",
       "<script>\n",
       "document.body.addEventListener('htmx:configRequest', (event) => {\n",
       "    if(event.detail.path.includes('://')) return;\n",
       "    htmx.config.selfRequestsOnly=false;\n",
       "    event.detail.path = `${location.protocol}//${location.hostname}:8000${event.detail.path}`;\n",
       "});\n",
       "</script>"
      ],
      "text/plain": [
       "<IPython.core.display.HTML object>"
      ]
     },
     "metadata": {},
     "output_type": "display_data"
    },
    {
     "data": {
      "text/html": [
       "<iframe src=\"http://localhost:8000/\" style=\"width: 100%; height: auto; border: none;\" onload=\"{\n",
       "        let frame = this;\n",
       "        window.addEventListener('message', function(e) {\n",
       "            if (e.source !== frame.contentWindow) return; // Only proceed if the message is from this iframe\n",
       "            if (e.data.height) frame.style.height = (e.data.height+1) + 'px';\n",
       "        }, false);\n",
       "    }\" allow=\"accelerometer; autoplay; camera; clipboard-read; clipboard-write; display-capture; encrypted-media; fullscreen; gamepad; geolocation; gyroscope; hid; identity-credentials-get; idle-detection; magnetometer; microphone; midi; payment; picture-in-picture; publickey-credentials-get; screen-wake-lock; serial; usb; web-share; xr-spatial-tracking\"></iframe> "
      ],
      "text/plain": [
       "<IPython.core.display.HTML object>"
      ]
     },
     "metadata": {},
     "output_type": "display_data"
    }
   ],
   "source": [
    "#| eval: false\n",
    "#| output: false\n",
    "test_func = test_floating_label_fasthtml_examples\n",
    "app, rt = create_test_app(theme=DaisyUITheme.LIGHT)\n",
    "\n",
    "@rt\n",
    "def index():\n",
    "    return create_test_page(test_func.__doc__.title().replace('.', ''), test_func())\n",
    "server = start_test_server(app)\n",
    "display(HTMX())\n",
    "server.stop()"
   ]
  },
  {
   "cell_type": "code",
   "execution_count": null,
   "id": "e902276f-93e4-491e-9d39-43654c75a1dc",
   "metadata": {},
   "outputs": [
    {
     "data": {
      "text/markdown": [
       "```html\n",
       "<div>\n",
       "<label class=\"floating-label\">    <input type=\"text\" placeholder=\"Extra Small\" class=\"input input-xs\">\n",
       "<span>Extra Small</span></label><label class=\"floating-label\">    <input type=\"text\" placeholder=\"Small\" class=\"input input-sm\">\n",
       "<span>Small</span></label><label class=\"floating-label\">    <input type=\"text\" placeholder=\"Medium\" class=\"input input-md\">\n",
       "<span>Medium</span></label><label class=\"floating-label\">    <input type=\"text\" placeholder=\"Large\" class=\"input input-lg\">\n",
       "<span>Large</span></label><label class=\"floating-label\">    <input type=\"text\" placeholder=\"Extra Large\" class=\"input input-xl\">\n",
       "<span>Extra Large</span></label></div>\n",
       "\n",
       "```"
      ],
      "text/plain": [
       "div((label((input((),{'type': 'text', 'placeholder': 'Extra Small', 'class': 'input input-xs'}), span(('Extra Small',),{})),{'class': 'floating-label'}), label((input((),{'type': 'text', 'placeholder': 'Small', 'class': 'input input-sm'}), span(('Small',),{})),{'class': 'floating-label'}), label((input((),{'type': 'text', 'placeholder': 'Medium', 'class': 'input input-md'}), span(('Medium',),{})),{'class': 'floating-label'}), label((input((),{'type': 'text', 'placeholder': 'Large', 'class': 'input input-lg'}), span(('Large',),{})),{'class': 'floating-label'}), label((input((),{'type': 'text', 'placeholder': 'Extra Large', 'class': 'input input-xl'}), span(('Extra Large',),{})),{'class': 'floating-label'})),{})"
      ]
     },
     "execution_count": null,
     "metadata": {},
     "output_type": "execute_result"
    }
   ],
   "source": [
    "#|exports\n",
    "def test_floating_label_sizes_fasthtml_examples():\n",
    "    \"\"\"Test floating label with different sizes from daisyUI v5 documentation.\"\"\"\n",
    "    from fasthtml.common import Label, Span, Input, Div\n",
    "    from cjm_fasthtml_daisyui.components.data_input.text_input import text_input, text_input_sizes\n",
    "    \n",
    "    # Floating Label - Extra Small\n",
    "    floating_xs = Label(\n",
    "        Input(type=\"text\", placeholder=\"Extra Small\", cls=combine_classes(text_input, text_input_sizes.xs)),\n",
    "        Span(\"Extra Small\"),\n",
    "        cls=str(floating_label)\n",
    "    )\n",
    "    \n",
    "    # Verify extra small\n",
    "    assert floating_xs.tag == \"label\"\n",
    "    assert \"floating-label\" in floating_xs.attrs['class']\n",
    "    input_elem = floating_xs.children[0]\n",
    "    assert input_elem.tag == \"input\"\n",
    "    assert input_elem.attrs['placeholder'] == \"Extra Small\"\n",
    "    assert \"input-xs\" in input_elem.attrs['class']\n",
    "    span_elem = floating_xs.children[1]\n",
    "    assert span_elem.tag == \"span\"\n",
    "    assert span_elem.children[0] == \"Extra Small\"\n",
    "    \n",
    "    # Floating Label - Small\n",
    "    floating_sm = Label(\n",
    "        Input(type=\"text\", placeholder=\"Small\", cls=combine_classes(text_input, text_input_sizes.sm)),\n",
    "        Span(\"Small\"),\n",
    "        cls=str(floating_label)\n",
    "    )\n",
    "    \n",
    "    # Verify small\n",
    "    assert \"floating-label\" in floating_sm.attrs['class']\n",
    "    assert floating_sm.children[0].attrs['placeholder'] == \"Small\"\n",
    "    assert \"input-sm\" in floating_sm.children[0].attrs['class']\n",
    "    assert floating_sm.children[1].children[0] == \"Small\"\n",
    "    \n",
    "    # Floating Label - Medium\n",
    "    floating_md = Label(\n",
    "        Input(type=\"text\", placeholder=\"Medium\", cls=combine_classes(text_input, text_input_sizes.md)),\n",
    "        Span(\"Medium\"),\n",
    "        cls=str(floating_label)\n",
    "    )\n",
    "    \n",
    "    # Verify medium\n",
    "    assert \"floating-label\" in floating_md.attrs['class']\n",
    "    assert floating_md.children[0].attrs['placeholder'] == \"Medium\"\n",
    "    assert \"input-md\" in floating_md.children[0].attrs['class']\n",
    "    assert floating_md.children[1].children[0] == \"Medium\"\n",
    "    \n",
    "    # Floating Label - Large\n",
    "    floating_lg = Label(\n",
    "        Input(type=\"text\", placeholder=\"Large\", cls=combine_classes(text_input, text_input_sizes.lg)),\n",
    "        Span(\"Large\"),\n",
    "        cls=str(floating_label)\n",
    "    )\n",
    "    \n",
    "    # Verify large\n",
    "    assert \"floating-label\" in floating_lg.attrs['class']\n",
    "    assert floating_lg.children[0].attrs['placeholder'] == \"Large\"\n",
    "    assert \"input-lg\" in floating_lg.children[0].attrs['class']\n",
    "    assert floating_lg.children[1].children[0] == \"Large\"\n",
    "    \n",
    "    # Floating Label - Extra Large\n",
    "    floating_xl = Label(\n",
    "        Input(type=\"text\", placeholder=\"Extra Large\", cls=combine_classes(text_input, text_input_sizes.xl)),\n",
    "        Span(\"Extra Large\"),\n",
    "        cls=str(floating_label)\n",
    "    )\n",
    "    \n",
    "    # Verify extra large\n",
    "    assert \"floating-label\" in floating_xl.attrs['class']\n",
    "    assert floating_xl.children[0].attrs['placeholder'] == \"Extra Large\"\n",
    "    assert \"input-xl\" in floating_xl.children[0].attrs['class']\n",
    "    assert floating_xl.children[1].children[0] == \"Extra Large\"\n",
    "    \n",
    "    return Div(\n",
    "        floating_xs,\n",
    "        floating_sm,\n",
    "        floating_md,\n",
    "        floating_lg,\n",
    "        floating_xl\n",
    "    )\n",
    "\n",
    "# Run the tests\n",
    "test_floating_label_sizes_fasthtml_examples()"
   ]
  },
  {
   "cell_type": "code",
   "execution_count": null,
   "id": "6872f55f-4388-4819-a61f-c4c416b1386e",
   "metadata": {},
   "outputs": [
    {
     "data": {
      "text/html": [
       "\n",
       "<script>\n",
       "document.body.addEventListener('htmx:configRequest', (event) => {\n",
       "    if(event.detail.path.includes('://')) return;\n",
       "    htmx.config.selfRequestsOnly=false;\n",
       "    event.detail.path = `${location.protocol}//${location.hostname}:8000${event.detail.path}`;\n",
       "});\n",
       "</script>"
      ],
      "text/plain": [
       "<IPython.core.display.HTML object>"
      ]
     },
     "metadata": {},
     "output_type": "display_data"
    },
    {
     "data": {
      "text/html": [
       "<iframe src=\"http://localhost:8000/\" style=\"width: 100%; height: auto; border: none;\" onload=\"{\n",
       "        let frame = this;\n",
       "        window.addEventListener('message', function(e) {\n",
       "            if (e.source !== frame.contentWindow) return; // Only proceed if the message is from this iframe\n",
       "            if (e.data.height) frame.style.height = (e.data.height+1) + 'px';\n",
       "        }, false);\n",
       "    }\" allow=\"accelerometer; autoplay; camera; clipboard-read; clipboard-write; display-capture; encrypted-media; fullscreen; gamepad; geolocation; gyroscope; hid; identity-credentials-get; idle-detection; magnetometer; microphone; midi; payment; picture-in-picture; publickey-credentials-get; screen-wake-lock; serial; usb; web-share; xr-spatial-tracking\"></iframe> "
      ],
      "text/plain": [
       "<IPython.core.display.HTML object>"
      ]
     },
     "metadata": {},
     "output_type": "display_data"
    }
   ],
   "source": [
    "#| eval: false\n",
    "#| output: false\n",
    "test_func = test_floating_label_sizes_fasthtml_examples\n",
    "app, rt = create_test_app(theme=DaisyUITheme.LIGHT)\n",
    "\n",
    "@rt\n",
    "def index():\n",
    "    return create_test_page(test_func.__doc__.title().replace('.', ''), test_func())\n",
    "server = start_test_server(app)\n",
    "display(HTMX())\n",
    "server.stop()"
   ]
  },
  {
   "cell_type": "code",
   "execution_count": null,
   "id": "44a99ee7-2819-4915-812e-8d15ad4e36b4",
   "metadata": {},
   "outputs": [],
   "source": []
  },
  {
   "cell_type": "code",
   "execution_count": null,
   "id": "62604690-e7ca-4f3d-bf8c-42f2f73eefd5",
   "metadata": {},
   "outputs": [],
   "source": []
  },
  {
   "cell_type": "code",
   "execution_count": null,
   "id": "ad2d932c-79ea-4792-bdaf-5bda859340ca",
   "metadata": {},
   "outputs": [],
   "source": []
  },
  {
   "cell_type": "code",
   "execution_count": null,
   "id": "3035ff66-e4e7-410c-8b1e-86a879f66112",
   "metadata": {},
   "outputs": [],
   "source": []
  },
  {
   "cell_type": "code",
   "execution_count": null,
   "id": "4666a5a3-26bb-4d91-b5be-f941df8f9d2f",
   "metadata": {},
   "outputs": [],
   "source": []
  },
  {
   "cell_type": "code",
   "execution_count": null,
   "id": "85d72161-e718-4c66-bc59-a3569b7f7616",
   "metadata": {},
   "outputs": [],
   "source": []
  },
  {
   "cell_type": "code",
   "execution_count": null,
   "id": "214654cc-9758-48f9-92e2-0892029c4512",
   "metadata": {},
   "outputs": [],
   "source": []
  },
  {
   "cell_type": "code",
   "execution_count": null,
   "id": "a9d78aa3-0be8-49e6-8bfb-cb9a232ee1ee",
   "metadata": {},
   "outputs": [],
   "source": []
  },
  {
   "cell_type": "code",
   "execution_count": null,
   "id": "01785a18-9bb0-4dbc-9eae-04addf6dede9",
   "metadata": {},
   "outputs": [],
   "source": []
  },
  {
   "cell_type": "code",
   "execution_count": null,
   "id": "43a3d5aa-4f07-48f4-b7c3-5c63612f0fb2",
   "metadata": {},
   "outputs": [],
   "source": []
  },
  {
   "cell_type": "code",
   "execution_count": null,
   "id": "248adc40-6e77-4203-9830-de838e25a00a",
   "metadata": {},
   "outputs": [],
   "source": []
  },
  {
   "cell_type": "code",
   "execution_count": null,
   "id": "a2029d6d-bf22-4e16-87e1-d609762dc867",
   "metadata": {},
   "outputs": [],
   "source": []
  },
  {
   "cell_type": "code",
   "execution_count": null,
   "id": "c9dfaad9-504c-4853-886b-2d1adb1cc3a0",
   "metadata": {},
   "outputs": [],
   "source": []
  },
  {
   "cell_type": "code",
   "execution_count": null,
   "id": "454d5b84-fc57-44ab-a6f0-3123333998cb",
   "metadata": {},
   "outputs": [],
   "source": []
  },
  {
   "cell_type": "code",
   "execution_count": null,
   "id": "d471d21b-6fe5-4c63-90be-5176c4cbd08b",
   "metadata": {},
   "outputs": [],
   "source": []
  },
  {
   "cell_type": "code",
   "execution_count": null,
   "id": "73b88b7e-0be6-4a82-9c02-f3df8af20015",
   "metadata": {},
   "outputs": [],
   "source": []
  },
  {
   "cell_type": "code",
   "execution_count": null,
   "id": "7ab8257a-c30b-45b6-a784-729b67686791",
   "metadata": {},
   "outputs": [],
   "source": [
    "#| hide\n",
    "import nbdev; nbdev.nbdev_export()"
   ]
  }
 ],
 "metadata": {
  "kernelspec": {
   "display_name": "python3",
   "language": "python",
   "name": "python3"
  }
 },
 "nbformat": 4,
 "nbformat_minor": 5
}
