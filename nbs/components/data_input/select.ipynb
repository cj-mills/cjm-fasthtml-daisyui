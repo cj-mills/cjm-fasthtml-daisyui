{
 "cells": [
  {
   "cell_type": "markdown",
   "id": "7c51b46b-ece1-456d-8e84-7de122e72b62",
   "metadata": {},
   "source": [
    "# select\n",
    "\n",
    "> Select is used to pick a value from a list of options."
   ]
  },
  {
   "cell_type": "code",
   "execution_count": null,
   "id": "25536bdc-e099-477f-9e2d-a5f71df5dff2",
   "metadata": {},
   "outputs": [],
   "source": [
    "#| default_exp components.data_input.select"
   ]
  },
  {
   "cell_type": "code",
   "execution_count": null,
   "id": "2e6f21ce-7766-455a-8ebb-df2c17e7d977",
   "metadata": {},
   "outputs": [],
   "source": [
    "#| hide\n",
    "from nbdev.showdoc import *"
   ]
  },
  {
   "cell_type": "code",
   "execution_count": null,
   "id": "045c6538-403e-4222-b3bb-db20f188524d",
   "metadata": {},
   "outputs": [],
   "source": [
    "#| export\n",
    "\n",
    "from cjm_fasthtml_tailwind.core.base import (\n",
    "    SingleValueFactory, combine_classes\n",
    ")\n",
    "from cjm_fasthtml_tailwind.builders.scales import SimpleFactory, enums_to_simple_factory\n",
    "\n",
    "from cjm_fasthtml_daisyui.builders.colors import SemanticColorBrand, SemanticColorStatus\n",
    "from cjm_fasthtml_daisyui.builders.sizes import DaisyUINamedSize\n",
    "from cjm_fasthtml_daisyui.builders.styles import GhostStyle\n",
    "\n",
    "from fasthtml.common import Div\n",
    "from fasthtml.jupyter import JupyUvi, HTMX\n",
    "from cjm_fasthtml_daisyui.core.testing import create_test_app, create_test_page, start_test_server\n",
    "from cjm_fasthtml_daisyui.core.themes import DaisyUITheme\n",
    "from IPython.display import display"
   ]
  },
  {
   "cell_type": "markdown",
   "id": "841869c6-0912-4a6e-b1a2-15fb9f455ff6",
   "metadata": {},
   "source": [
    "### Base Select"
   ]
  },
  {
   "cell_type": "code",
   "execution_count": null,
   "id": "c802d106-49fb-4d34-ba04-5f54c88e165b",
   "metadata": {},
   "outputs": [],
   "source": [
    "#| exports\n",
    "select = SingleValueFactory(\"select\", \"Base select component for <select> element\") # Base select component"
   ]
  },
  {
   "cell_type": "markdown",
   "id": "811ddbac-2e79-40b4-ab15-eca68e1bf7b5",
   "metadata": {},
   "source": [
    "### Select Styles"
   ]
  },
  {
   "cell_type": "code",
   "execution_count": null,
   "id": "ad2d932c-79ea-4792-bdaf-5bda859340ca",
   "metadata": {},
   "outputs": [],
   "source": [
    "#| exports\n",
    "select_styles = enums_to_simple_factory(select, [GhostStyle]) # select style variants"
   ]
  },
  {
   "cell_type": "markdown",
   "id": "2f728692-43ab-4318-80a6-0c2637c26bf1",
   "metadata": {},
   "source": [
    "### Select Colors"
   ]
  },
  {
   "cell_type": "code",
   "execution_count": null,
   "id": "4666a5a3-26bb-4d91-b5be-f941df8f9d2f",
   "metadata": {},
   "outputs": [],
   "source": [
    "#| exports\n",
    "select_colors = enums_to_simple_factory(select, [SemanticColorBrand, SemanticColorStatus], \"select color variants using daisyUI semantic colors\") # select color variants"
   ]
  },
  {
   "cell_type": "markdown",
   "id": "b8a686e6-2099-4b6e-94e5-6cf9d9a5630a",
   "metadata": {},
   "source": [
    "### Select Sizes"
   ]
  },
  {
   "cell_type": "code",
   "execution_count": null,
   "id": "214654cc-9758-48f9-92e2-0892029c4512",
   "metadata": {},
   "outputs": [],
   "source": [
    "#| exports\n",
    "select_sizes = enums_to_simple_factory(select, [DaisyUINamedSize], \"select size variants from extra small to extra large\") # select size variants"
   ]
  },
  {
   "cell_type": "markdown",
   "id": "a0b716b7-4f8c-45cc-8e57-710284c92b45",
   "metadata": {},
   "source": [
    "### Select Test Examples"
   ]
  },
  {
   "cell_type": "code",
   "execution_count": null,
   "id": "01785a18-9bb0-4dbc-9eae-04addf6dede9",
   "metadata": {},
   "outputs": [],
   "source": [
    "#|exports\n",
    "def test_select_basic_examples():\n",
    "    \"\"\"Test basic select utilities.\"\"\"\n",
    "    # Basic select\n",
    "    assert str(select) == \"select\"\n",
    "    \n",
    "    # Test with modifiers\n",
    "    assert str(select.hover) == \"hover:select\"\n",
    "    assert str(select.md) == \"md:select\"\n",
    "    assert str(select.dark) == \"dark:select\"\n",
    "\n",
    "# Run the tests\n",
    "test_select_basic_examples()"
   ]
  },
  {
   "cell_type": "code",
   "execution_count": null,
   "id": "43a3d5aa-4f07-48f4-b7c3-5c63612f0fb2",
   "metadata": {},
   "outputs": [],
   "source": [
    "#|exports\n",
    "def test_select_styles_examples():\n",
    "    \"\"\"Test select style variants.\"\"\"\n",
    "    assert str(select_styles.ghost) == \"select-ghost\"\n",
    "\n",
    "# Run the tests\n",
    "test_select_styles_examples()"
   ]
  },
  {
   "cell_type": "code",
   "execution_count": null,
   "id": "248adc40-6e77-4203-9830-de838e25a00a",
   "metadata": {},
   "outputs": [],
   "source": [
    "#|exports\n",
    "def test_select_colors_examples():\n",
    "    \"\"\"Test select color variants.\"\"\"\n",
    "    # All color variants\n",
    "    assert str(select_colors.neutral) == \"select-neutral\"\n",
    "    assert str(select_colors.primary) == \"select-primary\"\n",
    "    assert str(select_colors.secondary) == \"select-secondary\"\n",
    "    assert str(select_colors.accent) == \"select-accent\"\n",
    "    assert str(select_colors.info) == \"select-info\"\n",
    "    assert str(select_colors.success) == \"select-success\"\n",
    "    assert str(select_colors.warning) == \"select-warning\"\n",
    "    assert str(select_colors.error) == \"select-error\"\n",
    "    \n",
    "    # With modifiers\n",
    "    assert str(select_colors.primary.hover) == \"hover:select-primary\"\n",
    "    assert str(select_colors.success.focus) == \"focus:select-success\"\n",
    "\n",
    "# Run the tests\n",
    "test_select_colors_examples()"
   ]
  },
  {
   "cell_type": "code",
   "execution_count": null,
   "id": "a2029d6d-bf22-4e16-87e1-d609762dc867",
   "metadata": {},
   "outputs": [],
   "source": [
    "#|exports\n",
    "def test_select_sizes_examples():\n",
    "    \"\"\"Test select size variants.\"\"\"\n",
    "    assert str(select_sizes.xs) == \"select-xs\"\n",
    "    assert str(select_sizes.sm) == \"select-sm\"\n",
    "    assert str(select_sizes.md) == \"select-md\"\n",
    "    assert str(select_sizes.lg) == \"select-lg\"\n",
    "    assert str(select_sizes.xl) == \"select-xl\"\n",
    "    \n",
    "    # With responsive modifiers\n",
    "    assert str(select_sizes.xs.sm) == \"sm:select-xs\"\n",
    "    assert str(select_sizes.lg.md) == \"md:select-lg\"\n",
    "\n",
    "# Run the tests\n",
    "test_select_sizes_examples()"
   ]
  },
  {
   "cell_type": "code",
   "execution_count": null,
   "id": "14978f3d-3bd8-4417-8aa1-43c267995ba0",
   "metadata": {},
   "outputs": [
    {
     "data": {
      "text/markdown": [
       "```html\n",
       "<select class=\"select\"><option disabled selected>Pick a color</option><option>Crimson</option><option>Amber</option><option>Velvet</option></select>\n",
       "```"
      ],
      "text/plain": [
       "select((option(('Pick a color',),{'disabled': True, 'selected': True}), option(('Crimson',),{}), option(('Amber',),{}), option(('Velvet',),{})),{'class': 'select'})"
      ]
     },
     "execution_count": null,
     "metadata": {},
     "output_type": "execute_result"
    }
   ],
   "source": [
    "#|exports\n",
    "def test_select_basic_fasthtml_examples():\n",
    "    \"\"\"Test basic select example from daisyUI v5 documentation.\"\"\"\n",
    "    from fasthtml.common import Select, Option, Div\n",
    "    \n",
    "    # Basic select\n",
    "    basic_select = Select(\n",
    "        Option(\"Pick a color\", disabled=True, selected=True),\n",
    "        Option(\"Crimson\"),\n",
    "        Option(\"Amber\"),\n",
    "        Option(\"Velvet\"),\n",
    "        cls=str(select)\n",
    "    )\n",
    "    \n",
    "    # Verify structure\n",
    "    assert basic_select.tag == \"select\"\n",
    "    assert basic_select.attrs['class'] == \"select\"\n",
    "    \n",
    "    # Verify options\n",
    "    assert len(basic_select.children) == 4\n",
    "    \n",
    "    # First option (disabled and selected)\n",
    "    first_option = basic_select.children[0]\n",
    "    assert first_option.tag == \"option\"\n",
    "    assert first_option.attrs.get('disabled') is True\n",
    "    assert first_option.attrs.get('selected') is True\n",
    "    assert first_option.children[0] == \"Pick a color\"\n",
    "    \n",
    "    # Other options\n",
    "    assert basic_select.children[1].children[0] == \"Crimson\"\n",
    "    assert basic_select.children[2].children[0] == \"Amber\"\n",
    "    assert basic_select.children[3].children[0] == \"Velvet\"\n",
    "    \n",
    "    return basic_select\n",
    "\n",
    "# Run the tests\n",
    "test_select_basic_fasthtml_examples()"
   ]
  },
  {
   "cell_type": "code",
   "execution_count": null,
   "id": "fd1be8b7-0c97-4b7f-98e1-84007a1f9d29",
   "metadata": {},
   "outputs": [
    {
     "data": {
      "text/html": [
       "\n",
       "<script>\n",
       "document.body.addEventListener('htmx:configRequest', (event) => {\n",
       "    if(event.detail.path.includes('://')) return;\n",
       "    htmx.config.selfRequestsOnly=false;\n",
       "    event.detail.path = `${location.protocol}//${location.hostname}:8000${event.detail.path}`;\n",
       "});\n",
       "</script>"
      ],
      "text/plain": [
       "<IPython.core.display.HTML object>"
      ]
     },
     "metadata": {},
     "output_type": "display_data"
    },
    {
     "data": {
      "text/html": [
       "<iframe src=\"http://localhost:8000/\" style=\"width: 100%; height: auto; border: none;\" onload=\"{\n",
       "        let frame = this;\n",
       "        window.addEventListener('message', function(e) {\n",
       "            if (e.source !== frame.contentWindow) return; // Only proceed if the message is from this iframe\n",
       "            if (e.data.height) frame.style.height = (e.data.height+1) + 'px';\n",
       "        }, false);\n",
       "    }\" allow=\"accelerometer; autoplay; camera; clipboard-read; clipboard-write; display-capture; encrypted-media; fullscreen; gamepad; geolocation; gyroscope; hid; identity-credentials-get; idle-detection; magnetometer; microphone; midi; payment; picture-in-picture; publickey-credentials-get; screen-wake-lock; serial; usb; web-share; xr-spatial-tracking\"></iframe> "
      ],
      "text/plain": [
       "<IPython.core.display.HTML object>"
      ]
     },
     "metadata": {},
     "output_type": "display_data"
    }
   ],
   "source": [
    "#| eval: false\n",
    "#| output: false\n",
    "test_func = test_select_basic_fasthtml_examples\n",
    "app, rt = create_test_app(theme=DaisyUITheme.LIGHT)\n",
    "\n",
    "@rt\n",
    "def index():\n",
    "    return create_test_page(test_func.__doc__.title().replace('.', ''), test_func())\n",
    "server = start_test_server(app)\n",
    "display(HTMX())\n",
    "server.stop()"
   ]
  },
  {
   "cell_type": "code",
   "execution_count": null,
   "id": "b2d04271-80a7-4450-8f96-4bd2be55c6ce",
   "metadata": {},
   "outputs": [
    {
     "data": {
      "text/markdown": [
       "```html\n",
       "<div>\n",
       "<select class=\"select select-primary\"><option disabled selected>Pick a text editor</option><option>VScode</option><option>VScode fork</option><option>Another VScode fork</option></select><select class=\"select select-secondary\"><option disabled selected>Pick a language</option><option>Zig</option><option>Go</option><option>Rust</option></select><select class=\"select select-accent\"><option selected disabled>Color scheme</option><option>Light mode</option><option>Dark mode</option><option>System</option></select><select class=\"select select-neutral\"><option disabled selected>Server location</option><option>North America</option><option>EU west</option><option>South East Asia</option></select><select class=\"select select-info\"><option disabled selected>Pick a Framework</option><option>React</option><option>Vue</option><option>Angular</option></select><select class=\"select select-success\"><option disabled selected>Pick a Runtime</option><option>npm</option><option>Bun</option><option>yarn</option></select><select class=\"select select-warning\"><option disabled selected>Pick an OS</option><option>Windows</option><option>MacOS</option><option>Linux</option></select><select class=\"select select-error\"><option disabled selected>Pick an AI Model</option><option>GPT-4</option><option>Claude</option><option>Llama</option></select></div>\n",
       "\n",
       "```"
      ],
      "text/plain": [
       "div((select((option(('Pick a text editor',),{'disabled': True, 'selected': True}), option(('VScode',),{}), option(('VScode fork',),{}), option(('Another VScode fork',),{})),{'class': 'select select-primary'}), select((option(('Pick a language',),{'disabled': True, 'selected': True}), option(('Zig',),{}), option(('Go',),{}), option(('Rust',),{})),{'class': 'select select-secondary'}), select((option(('Color scheme',),{'selected': True, 'disabled': True}), option(('Light mode',),{}), option(('Dark mode',),{}), option(('System',),{})),{'class': 'select select-accent'}), select((option(('Server location',),{'disabled': True, 'selected': True}), option(('North America',),{}), option(('EU west',),{}), option(('South East Asia',),{})),{'class': 'select select-neutral'}), select((option(('Pick a Framework',),{'disabled': True, 'selected': True}), option(('React',),{}), option(('Vue',),{}), option(('Angular',),{})),{'class': 'select select-info'}), select((option(('Pick a Runtime',),{'disabled': True, 'selected': True}), option(('npm',),{}), option(('Bun',),{}), option(('yarn',),{})),{'class': 'select select-success'}), select((option(('Pick an OS',),{'disabled': True, 'selected': True}), option(('Windows',),{}), option(('MacOS',),{}), option(('Linux',),{})),{'class': 'select select-warning'}), select((option(('Pick an AI Model',),{'disabled': True, 'selected': True}), option(('GPT-4',),{}), option(('Claude',),{}), option(('Llama',),{})),{'class': 'select select-error'})),{})"
      ]
     },
     "execution_count": null,
     "metadata": {},
     "output_type": "execute_result"
    }
   ],
   "source": [
    "#|exports\n",
    "def test_select_colors_fasthtml_examples():\n",
    "    \"\"\"Test select with different color variations from daisyUI v5 documentation.\"\"\"\n",
    "    from fasthtml.common import Select, Option, Div\n",
    "    \n",
    "    # Primary color\n",
    "    primary_select = Select(\n",
    "        Option(\"Pick a text editor\", disabled=True, selected=True),\n",
    "        Option(\"VScode\"),\n",
    "        Option(\"VScode fork\"),\n",
    "        Option(\"Another VScode fork\"),\n",
    "        cls=combine_classes(select, select_colors.primary)\n",
    "    )\n",
    "    assert \"select\" in primary_select.attrs['class']\n",
    "    assert \"select-primary\" in primary_select.attrs['class']\n",
    "    assert primary_select.children[0].children[0] == \"Pick a text editor\"\n",
    "    \n",
    "    # Secondary color\n",
    "    secondary_select = Select(\n",
    "        Option(\"Pick a language\", disabled=True, selected=True),\n",
    "        Option(\"Zig\"),\n",
    "        Option(\"Go\"),\n",
    "        Option(\"Rust\"),\n",
    "        cls=combine_classes(select, select_colors.secondary)\n",
    "    )\n",
    "    assert \"select-secondary\" in secondary_select.attrs['class']\n",
    "    assert secondary_select.children[0].children[0] == \"Pick a language\"\n",
    "    \n",
    "    # Accent color\n",
    "    accent_select = Select(\n",
    "        Option(\"Color scheme\", selected=True, disabled=True),\n",
    "        Option(\"Light mode\"),\n",
    "        Option(\"Dark mode\"),\n",
    "        Option(\"System\"),\n",
    "        cls=combine_classes(select, select_colors.accent)\n",
    "    )\n",
    "    assert \"select-accent\" in accent_select.attrs['class']\n",
    "    assert accent_select.children[0].children[0] == \"Color scheme\"\n",
    "    \n",
    "    # Neutral color\n",
    "    neutral_select = Select(\n",
    "        Option(\"Server location\", disabled=True, selected=True),\n",
    "        Option(\"North America\"),\n",
    "        Option(\"EU west\"),\n",
    "        Option(\"South East Asia\"),\n",
    "        cls=combine_classes(select, select_colors.neutral)\n",
    "    )\n",
    "    assert \"select-neutral\" in neutral_select.attrs['class']\n",
    "    assert neutral_select.children[0].children[0] == \"Server location\"\n",
    "    \n",
    "    # Info color\n",
    "    info_select = Select(\n",
    "        Option(\"Pick a Framework\", disabled=True, selected=True),\n",
    "        Option(\"React\"),\n",
    "        Option(\"Vue\"),\n",
    "        Option(\"Angular\"),\n",
    "        cls=combine_classes(select, select_colors.info)\n",
    "    )\n",
    "    assert \"select-info\" in info_select.attrs['class']\n",
    "    assert info_select.children[0].children[0] == \"Pick a Framework\"\n",
    "    \n",
    "    # Success color\n",
    "    success_select = Select(\n",
    "        Option(\"Pick a Runtime\", disabled=True, selected=True),\n",
    "        Option(\"npm\"),\n",
    "        Option(\"Bun\"),\n",
    "        Option(\"yarn\"),\n",
    "        cls=combine_classes(select, select_colors.success)\n",
    "    )\n",
    "    assert \"select-success\" in success_select.attrs['class']\n",
    "    assert success_select.children[0].children[0] == \"Pick a Runtime\"\n",
    "    \n",
    "    # Warning color\n",
    "    warning_select = Select(\n",
    "        Option(\"Pick an OS\", disabled=True, selected=True),\n",
    "        Option(\"Windows\"),\n",
    "        Option(\"MacOS\"),\n",
    "        Option(\"Linux\"),\n",
    "        cls=combine_classes(select, select_colors.warning)\n",
    "    )\n",
    "    assert \"select-warning\" in warning_select.attrs['class']\n",
    "    assert warning_select.children[0].children[0] == \"Pick an OS\"\n",
    "    \n",
    "    # Error color\n",
    "    error_select = Select(\n",
    "        Option(\"Pick an AI Model\", disabled=True, selected=True),\n",
    "        Option(\"GPT-4\"),\n",
    "        Option(\"Claude\"),\n",
    "        Option(\"Llama\"),\n",
    "        cls=combine_classes(select, select_colors.error)\n",
    "    )\n",
    "    assert \"select-error\" in error_select.attrs['class']\n",
    "    assert error_select.children[0].children[0] == \"Pick an AI Model\"\n",
    "    \n",
    "    # Return all elements in a Div\n",
    "    return Div(\n",
    "        primary_select,\n",
    "        secondary_select,\n",
    "        accent_select,\n",
    "        neutral_select,\n",
    "        info_select,\n",
    "        success_select,\n",
    "        warning_select,\n",
    "        error_select\n",
    "    )\n",
    "\n",
    "# Run the tests\n",
    "test_select_colors_fasthtml_examples()"
   ]
  },
  {
   "cell_type": "code",
   "execution_count": null,
   "id": "331d9ba7-d4ac-4701-8f27-f47f96ea0e61",
   "metadata": {},
   "outputs": [
    {
     "data": {
      "text/html": [
       "\n",
       "<script>\n",
       "document.body.addEventListener('htmx:configRequest', (event) => {\n",
       "    if(event.detail.path.includes('://')) return;\n",
       "    htmx.config.selfRequestsOnly=false;\n",
       "    event.detail.path = `${location.protocol}//${location.hostname}:8000${event.detail.path}`;\n",
       "});\n",
       "</script>"
      ],
      "text/plain": [
       "<IPython.core.display.HTML object>"
      ]
     },
     "metadata": {},
     "output_type": "display_data"
    },
    {
     "data": {
      "text/html": [
       "<iframe src=\"http://localhost:8000/\" style=\"width: 100%; height: auto; border: none;\" onload=\"{\n",
       "        let frame = this;\n",
       "        window.addEventListener('message', function(e) {\n",
       "            if (e.source !== frame.contentWindow) return; // Only proceed if the message is from this iframe\n",
       "            if (e.data.height) frame.style.height = (e.data.height+1) + 'px';\n",
       "        }, false);\n",
       "    }\" allow=\"accelerometer; autoplay; camera; clipboard-read; clipboard-write; display-capture; encrypted-media; fullscreen; gamepad; geolocation; gyroscope; hid; identity-credentials-get; idle-detection; magnetometer; microphone; midi; payment; picture-in-picture; publickey-credentials-get; screen-wake-lock; serial; usb; web-share; xr-spatial-tracking\"></iframe> "
      ],
      "text/plain": [
       "<IPython.core.display.HTML object>"
      ]
     },
     "metadata": {},
     "output_type": "display_data"
    }
   ],
   "source": [
    "#| eval: false\n",
    "#| output: false\n",
    "test_func = test_select_colors_fasthtml_examples\n",
    "app, rt = create_test_app(theme=DaisyUITheme.LIGHT)\n",
    "\n",
    "@rt\n",
    "def index():\n",
    "    return create_test_page(test_func.__doc__.title().replace('.', ''), test_func())\n",
    "server = start_test_server(app)\n",
    "display(HTMX())\n",
    "server.stop()"
   ]
  },
  {
   "cell_type": "code",
   "execution_count": null,
   "id": "0540ba68-889a-41a3-a79c-1184b9184466",
   "metadata": {},
   "outputs": [
    {
     "data": {
      "text/markdown": [
       "```html\n",
       "<div>\n",
       "<select class=\"select select-xs\"><option disabled selected>Xsmall</option><option>Xsmall Apple</option><option>Xsmall Orange</option><option>Xsmall Tomato</option></select><select class=\"select select-sm\"><option disabled selected>Small</option><option>Small Apple</option><option>Small Orange</option><option>Small Tomato</option></select><select class=\"select select-md\"><option disabled selected>Medium</option><option>Medium Apple</option><option>Medium Orange</option><option>Medium Tomato</option></select><select class=\"select select-lg\"><option disabled selected>Large</option><option>Large Apple</option><option>Large Orange</option><option>Large Tomato</option></select><select class=\"select select-xl\"><option disabled selected>Xlarge</option><option>Xlarge Apple</option><option>Xlarge Orange</option><option>Xlarge Tomato</option></select></div>\n",
       "\n",
       "```"
      ],
      "text/plain": [
       "div((select((option(('Xsmall',),{'disabled': True, 'selected': True}), option(('Xsmall Apple',),{}), option(('Xsmall Orange',),{}), option(('Xsmall Tomato',),{})),{'class': 'select select-xs'}), select((option(('Small',),{'disabled': True, 'selected': True}), option(('Small Apple',),{}), option(('Small Orange',),{}), option(('Small Tomato',),{})),{'class': 'select select-sm'}), select((option(('Medium',),{'disabled': True, 'selected': True}), option(('Medium Apple',),{}), option(('Medium Orange',),{}), option(('Medium Tomato',),{})),{'class': 'select select-md'}), select((option(('Large',),{'disabled': True, 'selected': True}), option(('Large Apple',),{}), option(('Large Orange',),{}), option(('Large Tomato',),{})),{'class': 'select select-lg'}), select((option(('Xlarge',),{'disabled': True, 'selected': True}), option(('Xlarge Apple',),{}), option(('Xlarge Orange',),{}), option(('Xlarge Tomato',),{})),{'class': 'select select-xl'})),{})"
      ]
     },
     "execution_count": null,
     "metadata": {},
     "output_type": "execute_result"
    }
   ],
   "source": [
    "#|exports\n",
    "def test_select_sizes_fasthtml_examples():\n",
    "    \"\"\"Test select with different sizes from daisyUI v5 documentation.\"\"\"\n",
    "    from fasthtml.common import Select, Option, Div\n",
    "    \n",
    "    # Extra small size\n",
    "    xs_select = Select(\n",
    "        Option(\"Xsmall\", disabled=True, selected=True),\n",
    "        Option(\"Xsmall Apple\"),\n",
    "        Option(\"Xsmall Orange\"),\n",
    "        Option(\"Xsmall Tomato\"),\n",
    "        cls=combine_classes(select, select_sizes.xs)\n",
    "    )\n",
    "    assert \"select\" in xs_select.attrs['class']\n",
    "    assert \"select-xs\" in xs_select.attrs['class']\n",
    "    assert xs_select.children[0].children[0] == \"Xsmall\"\n",
    "    \n",
    "    # Small size\n",
    "    sm_select = Select(\n",
    "        Option(\"Small\", disabled=True, selected=True),\n",
    "        Option(\"Small Apple\"),\n",
    "        Option(\"Small Orange\"),\n",
    "        Option(\"Small Tomato\"),\n",
    "        cls=combine_classes(select, select_sizes.sm)\n",
    "    )\n",
    "    assert \"select-sm\" in sm_select.attrs['class']\n",
    "    assert sm_select.children[0].children[0] == \"Small\"\n",
    "    \n",
    "    # Medium size\n",
    "    md_select = Select(\n",
    "        Option(\"Medium\", disabled=True, selected=True),\n",
    "        Option(\"Medium Apple\"),\n",
    "        Option(\"Medium Orange\"),\n",
    "        Option(\"Medium Tomato\"),\n",
    "        cls=combine_classes(select, select_sizes.md)\n",
    "    )\n",
    "    assert \"select-md\" in md_select.attrs['class']\n",
    "    assert md_select.children[0].children[0] == \"Medium\"\n",
    "    \n",
    "    # Large size\n",
    "    lg_select = Select(\n",
    "        Option(\"Large\", disabled=True, selected=True),\n",
    "        Option(\"Large Apple\"),\n",
    "        Option(\"Large Orange\"),\n",
    "        Option(\"Large Tomato\"),\n",
    "        cls=combine_classes(select, select_sizes.lg)\n",
    "    )\n",
    "    assert \"select-lg\" in lg_select.attrs['class']\n",
    "    assert lg_select.children[0].children[0] == \"Large\"\n",
    "    \n",
    "    # Extra large size\n",
    "    xl_select = Select(\n",
    "        Option(\"Xlarge\", disabled=True, selected=True),\n",
    "        Option(\"Xlarge Apple\"),\n",
    "        Option(\"Xlarge Orange\"),\n",
    "        Option(\"Xlarge Tomato\"),\n",
    "        cls=combine_classes(select, select_sizes.xl)\n",
    "    )\n",
    "    assert \"select-xl\" in xl_select.attrs['class']\n",
    "    assert xl_select.children[0].children[0] == \"Xlarge\"\n",
    "    \n",
    "    # Return all elements in a Div\n",
    "    return Div(\n",
    "        xs_select,\n",
    "        sm_select,\n",
    "        md_select,\n",
    "        lg_select,\n",
    "        xl_select\n",
    "    )\n",
    "\n",
    "# Run the tests\n",
    "test_select_sizes_fasthtml_examples()"
   ]
  },
  {
   "cell_type": "code",
   "execution_count": null,
   "id": "77fd5543-6a35-4eea-816c-c4df18df7401",
   "metadata": {},
   "outputs": [
    {
     "data": {
      "text/html": [
       "\n",
       "<script>\n",
       "document.body.addEventListener('htmx:configRequest', (event) => {\n",
       "    if(event.detail.path.includes('://')) return;\n",
       "    htmx.config.selfRequestsOnly=false;\n",
       "    event.detail.path = `${location.protocol}//${location.hostname}:8000${event.detail.path}`;\n",
       "});\n",
       "</script>"
      ],
      "text/plain": [
       "<IPython.core.display.HTML object>"
      ]
     },
     "metadata": {},
     "output_type": "display_data"
    },
    {
     "data": {
      "text/html": [
       "<iframe src=\"http://localhost:8000/\" style=\"width: 100%; height: auto; border: none;\" onload=\"{\n",
       "        let frame = this;\n",
       "        window.addEventListener('message', function(e) {\n",
       "            if (e.source !== frame.contentWindow) return; // Only proceed if the message is from this iframe\n",
       "            if (e.data.height) frame.style.height = (e.data.height+1) + 'px';\n",
       "        }, false);\n",
       "    }\" allow=\"accelerometer; autoplay; camera; clipboard-read; clipboard-write; display-capture; encrypted-media; fullscreen; gamepad; geolocation; gyroscope; hid; identity-credentials-get; idle-detection; magnetometer; microphone; midi; payment; picture-in-picture; publickey-credentials-get; screen-wake-lock; serial; usb; web-share; xr-spatial-tracking\"></iframe> "
      ],
      "text/plain": [
       "<IPython.core.display.HTML object>"
      ]
     },
     "metadata": {},
     "output_type": "display_data"
    }
   ],
   "source": [
    "#| eval: false\n",
    "#| output: false\n",
    "test_func = test_select_sizes_fasthtml_examples\n",
    "app, rt = create_test_app(theme=DaisyUITheme.LIGHT)\n",
    "\n",
    "@rt\n",
    "def index():\n",
    "    return create_test_page(test_func.__doc__.title().replace('.', ''), test_func())\n",
    "server = start_test_server(app)\n",
    "display(HTMX())\n",
    "server.stop()"
   ]
  },
  {
   "cell_type": "code",
   "execution_count": null,
   "id": "b9627827-476c-4abe-9170-a413047f0f47",
   "metadata": {},
   "outputs": [
    {
     "data": {
      "text/markdown": [
       "```html\n",
       "<div>\n",
       "<select class=\"select select-ghost\"><option disabled selected>Pick a font</option><option>Inter</option><option>Poppins</option><option>Raleway</option></select><fieldset class=\"fieldset\"><legend class=\"fieldset-legend\">Browsers</legend><select class=\"select\"><option disabled selected>Pick a browser</option><option>Chrome</option><option>FireFox</option><option>Safari</option></select><span class=\"label\">Optional</span></fieldset><select disabled class=\"select\"><option>You can&#x27;t touch this</option></select></div>\n",
       "\n",
       "```"
      ],
      "text/plain": [
       "div((select((option(('Pick a font',),{'disabled': True, 'selected': True}), option(('Inter',),{}), option(('Poppins',),{}), option(('Raleway',),{})),{'class': 'select select-ghost'}), fieldset((legend(('Browsers',),{'class': 'fieldset-legend'}), select((option(('Pick a browser',),{'disabled': True, 'selected': True}), option(('Chrome',),{}), option(('FireFox',),{}), option(('Safari',),{})),{'class': 'select'}), span(('Optional',),{'class': 'label'})),{'class': 'fieldset'}), select((option((\"You can't touch this\",),{}),),{'disabled': True, 'class': 'select'})),{})"
      ]
     },
     "execution_count": null,
     "metadata": {},
     "output_type": "execute_result"
    }
   ],
   "source": [
    "#|exports\n",
    "def test_select_special_fasthtml_examples():\n",
    "    \"\"\"Test select with special styles (ghost, fieldset, disabled) from daisyUI v5 documentation.\"\"\"\n",
    "    from fasthtml.common import Select, Option, Div, Fieldset, Legend, Span\n",
    "    from cjm_fasthtml_daisyui.components.data_input.fieldset import fieldset, fieldset_legend\n",
    "    from cjm_fasthtml_daisyui.components.data_input.label import label\n",
    "    \n",
    "    # Ghost style (no background)\n",
    "    ghost_select = Select(\n",
    "        Option(\"Pick a font\", disabled=True, selected=True),\n",
    "        Option(\"Inter\"),\n",
    "        Option(\"Poppins\"),\n",
    "        Option(\"Raleway\"),\n",
    "        cls=combine_classes(select, select_styles.ghost)\n",
    "    )\n",
    "    assert \"select\" in ghost_select.attrs['class']\n",
    "    assert \"select-ghost\" in ghost_select.attrs['class']\n",
    "    assert ghost_select.children[0].children[0] == \"Pick a font\"\n",
    "    assert ghost_select.children[1].children[0] == \"Inter\"\n",
    "    assert ghost_select.children[2].children[0] == \"Poppins\"\n",
    "    assert ghost_select.children[3].children[0] == \"Raleway\"\n",
    "    \n",
    "    # With fieldset and labels\n",
    "    fieldset_select = Fieldset(\n",
    "        Legend(\"Browsers\", cls=str(fieldset_legend)),\n",
    "        Select(\n",
    "            Option(\"Pick a browser\", disabled=True, selected=True),\n",
    "            Option(\"Chrome\"),\n",
    "            Option(\"FireFox\"),\n",
    "            Option(\"Safari\"),\n",
    "            cls=str(select)\n",
    "        ),\n",
    "        Span(\"Optional\", cls=str(label)),\n",
    "        cls=str(fieldset)\n",
    "    )\n",
    "    assert fieldset_select.tag == \"fieldset\"\n",
    "    assert fieldset_select.attrs['class'] == \"fieldset\"\n",
    "    assert fieldset_select.children[0].tag == \"legend\"\n",
    "    assert \"fieldset-legend\" in fieldset_select.children[0].attrs['class']\n",
    "    assert fieldset_select.children[0].children[0] == \"Browsers\"\n",
    "    assert fieldset_select.children[1].tag == \"select\"\n",
    "    assert fieldset_select.children[1].attrs['class'] == \"select\"\n",
    "    assert fieldset_select.children[1].children[0].children[0] == \"Pick a browser\"\n",
    "    assert fieldset_select.children[2].tag == \"span\"\n",
    "    assert fieldset_select.children[2].attrs['class'] == \"label\"\n",
    "    assert fieldset_select.children[2].children[0] == \"Optional\"\n",
    "    \n",
    "    # Disabled select\n",
    "    disabled_select = Select(\n",
    "        Option(\"You can't touch this\"),\n",
    "        cls=str(select),\n",
    "        disabled=True\n",
    "    )\n",
    "    assert disabled_select.tag == \"select\"\n",
    "    assert disabled_select.attrs['class'] == \"select\"\n",
    "    assert disabled_select.attrs.get('disabled') is True\n",
    "    assert disabled_select.children[0].children[0] == \"You can't touch this\"\n",
    "    \n",
    "    # Return all elements in a Div\n",
    "    return Div(\n",
    "        ghost_select,\n",
    "        fieldset_select,\n",
    "        disabled_select\n",
    "    )\n",
    "\n",
    "# Run the tests\n",
    "test_select_special_fasthtml_examples()"
   ]
  },
  {
   "cell_type": "code",
   "execution_count": null,
   "id": "ae82159f-90e6-4150-9d8b-1a8fc059376b",
   "metadata": {},
   "outputs": [
    {
     "data": {
      "text/html": [
       "\n",
       "<script>\n",
       "document.body.addEventListener('htmx:configRequest', (event) => {\n",
       "    if(event.detail.path.includes('://')) return;\n",
       "    htmx.config.selfRequestsOnly=false;\n",
       "    event.detail.path = `${location.protocol}//${location.hostname}:8000${event.detail.path}`;\n",
       "});\n",
       "</script>"
      ],
      "text/plain": [
       "<IPython.core.display.HTML object>"
      ]
     },
     "metadata": {},
     "output_type": "display_data"
    },
    {
     "data": {
      "text/html": [
       "<iframe src=\"http://localhost:8000/\" style=\"width: 100%; height: auto; border: none;\" onload=\"{\n",
       "        let frame = this;\n",
       "        window.addEventListener('message', function(e) {\n",
       "            if (e.source !== frame.contentWindow) return; // Only proceed if the message is from this iframe\n",
       "            if (e.data.height) frame.style.height = (e.data.height+1) + 'px';\n",
       "        }, false);\n",
       "    }\" allow=\"accelerometer; autoplay; camera; clipboard-read; clipboard-write; display-capture; encrypted-media; fullscreen; gamepad; geolocation; gyroscope; hid; identity-credentials-get; idle-detection; magnetometer; microphone; midi; payment; picture-in-picture; publickey-credentials-get; screen-wake-lock; serial; usb; web-share; xr-spatial-tracking\"></iframe> "
      ],
      "text/plain": [
       "<IPython.core.display.HTML object>"
      ]
     },
     "metadata": {},
     "output_type": "display_data"
    }
   ],
   "source": [
    "#| eval: false\n",
    "#| output: false\n",
    "test_func = test_select_special_fasthtml_examples\n",
    "app, rt = create_test_app(theme=DaisyUITheme.LIGHT)\n",
    "\n",
    "@rt\n",
    "def index():\n",
    "    return create_test_page(test_func.__doc__.title().replace('.', ''), test_func())\n",
    "server = start_test_server(app)\n",
    "display(HTMX())\n",
    "server.stop()"
   ]
  },
  {
   "cell_type": "code",
   "execution_count": null,
   "id": "6c5a2a31-6126-4447-905a-d018877fd321",
   "metadata": {},
   "outputs": [],
   "source": []
  },
  {
   "cell_type": "code",
   "execution_count": null,
   "id": "09f31ae0-ddd9-49ac-8cfa-703160f13839",
   "metadata": {},
   "outputs": [],
   "source": []
  },
  {
   "cell_type": "code",
   "execution_count": null,
   "id": "0d8c8ed4-86b1-4721-af7d-b7fd0623b1b4",
   "metadata": {},
   "outputs": [],
   "source": []
  },
  {
   "cell_type": "code",
   "execution_count": null,
   "id": "c9dfaad9-504c-4853-886b-2d1adb1cc3a0",
   "metadata": {},
   "outputs": [],
   "source": []
  },
  {
   "cell_type": "code",
   "execution_count": null,
   "id": "454d5b84-fc57-44ab-a6f0-3123333998cb",
   "metadata": {},
   "outputs": [],
   "source": []
  },
  {
   "cell_type": "code",
   "execution_count": null,
   "id": "d471d21b-6fe5-4c63-90be-5176c4cbd08b",
   "metadata": {},
   "outputs": [],
   "source": []
  },
  {
   "cell_type": "code",
   "execution_count": null,
   "id": "73b88b7e-0be6-4a82-9c02-f3df8af20015",
   "metadata": {},
   "outputs": [],
   "source": []
  },
  {
   "cell_type": "code",
   "execution_count": null,
   "id": "7ab8257a-c30b-45b6-a784-729b67686791",
   "metadata": {},
   "outputs": [],
   "source": [
    "#| hide\n",
    "import nbdev; nbdev.nbdev_export()"
   ]
  }
 ],
 "metadata": {
  "kernelspec": {
   "display_name": "python3",
   "language": "python",
   "name": "python3"
  }
 },
 "nbformat": 4,
 "nbformat_minor": 5
}
