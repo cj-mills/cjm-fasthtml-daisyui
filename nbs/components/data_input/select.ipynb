{
 "cells": [
  {
   "cell_type": "markdown",
   "id": "7c51b46b-ece1-456d-8e84-7de122e72b62",
   "metadata": {},
   "source": [
    "# select\n",
    "\n",
    "> Select is used to pick a value from a list of options."
   ]
  },
  {
   "cell_type": "code",
   "execution_count": null,
   "id": "25536bdc-e099-477f-9e2d-a5f71df5dff2",
   "metadata": {},
   "outputs": [],
   "source": [
    "#| default_exp components.data_input.select"
   ]
  },
  {
   "cell_type": "code",
   "execution_count": null,
   "id": "2e6f21ce-7766-455a-8ebb-df2c17e7d977",
   "metadata": {},
   "outputs": [],
   "source": [
    "#| hide\n",
    "from nbdev.showdoc import *"
   ]
  },
  {
   "cell_type": "code",
   "execution_count": null,
   "id": "045c6538-403e-4222-b3bb-db20f188524d",
   "metadata": {},
   "outputs": [],
   "source": [
    "#| export\n",
    "\n",
    "from cjm_fasthtml_tailwind.core.base import (\n",
    "    SingleValueFactory, combine_classes\n",
    ")\n",
    "from cjm_fasthtml_tailwind.builders.scales import SimpleFactory, enums_to_simple_factory\n",
    "\n",
    "from cjm_fasthtml_daisyui.builders.colors import SemanticColorBrand, SemanticColorStatus\n",
    "from cjm_fasthtml_daisyui.builders.sizes import DaisyUINamedSize\n",
    "from cjm_fasthtml_daisyui.builders.styles import GhostStyle\n",
    "\n",
    "from fasthtml.common import Div\n",
    "from fasthtml.jupyter import JupyUvi, HTMX\n",
    "from cjm_fasthtml_daisyui.core.testing import create_test_app, create_test_page, start_test_server\n",
    "from cjm_fasthtml_daisyui.core.themes import DaisyUITheme\n",
    "from IPython.display import display"
   ]
  },
  {
   "cell_type": "markdown",
   "id": "841869c6-0912-4a6e-b1a2-15fb9f455ff6",
   "metadata": {},
   "source": [
    "### Base Select"
   ]
  },
  {
   "cell_type": "code",
   "execution_count": null,
   "id": "c802d106-49fb-4d34-ba04-5f54c88e165b",
   "metadata": {},
   "outputs": [],
   "source": [
    "#| export\n",
    "select = SingleValueFactory(\"select\", \"Base select component for <select> element\") # Base select component"
   ]
  },
  {
   "cell_type": "markdown",
   "id": "811ddbac-2e79-40b4-ab15-eca68e1bf7b5",
   "metadata": {},
   "source": [
    "### Select Styles"
   ]
  },
  {
   "cell_type": "code",
   "execution_count": null,
   "id": "ad2d932c-79ea-4792-bdaf-5bda859340ca",
   "metadata": {},
   "outputs": [],
   "source": [
    "#| export\n",
    "select_styles = enums_to_simple_factory(select, [GhostStyle]) # select style variants"
   ]
  },
  {
   "cell_type": "markdown",
   "id": "2f728692-43ab-4318-80a6-0c2637c26bf1",
   "metadata": {},
   "source": [
    "### Select Colors"
   ]
  },
  {
   "cell_type": "code",
   "execution_count": null,
   "id": "4666a5a3-26bb-4d91-b5be-f941df8f9d2f",
   "metadata": {},
   "outputs": [],
   "source": [
    "#| export\n",
    "select_colors = enums_to_simple_factory(select, [SemanticColorBrand, SemanticColorStatus], \"select color variants using daisyUI semantic colors\") # select color variants"
   ]
  },
  {
   "cell_type": "markdown",
   "id": "b8a686e6-2099-4b6e-94e5-6cf9d9a5630a",
   "metadata": {},
   "source": [
    "### Select Sizes"
   ]
  },
  {
   "cell_type": "code",
   "execution_count": null,
   "id": "214654cc-9758-48f9-92e2-0892029c4512",
   "metadata": {},
   "outputs": [],
   "source": [
    "#| export\n",
    "select_sizes = enums_to_simple_factory(select, [DaisyUINamedSize], \"select size variants from extra small to extra large\") # select size variants"
   ]
  },
  {
   "cell_type": "markdown",
   "id": "a0b716b7-4f8c-45cc-8e57-710284c92b45",
   "metadata": {},
   "source": [
    "### Select Test Examples"
   ]
  },
  {
   "cell_type": "code",
   "execution_count": null,
   "id": "01785a18-9bb0-4dbc-9eae-04addf6dede9",
   "metadata": {},
   "outputs": [],
   "source": [
    "#| export\n",
    "def test_select_basic_examples():\n",
    "    \"\"\"Test basic select utilities.\"\"\"\n",
    "    # Basic select\n",
    "    assert str(select) == \"select\"\n",
    "    \n",
    "    # Test with modifiers\n",
    "    assert str(select.hover) == \"hover:select\"\n",
    "    assert str(select.md) == \"md:select\"\n",
    "    assert str(select.dark) == \"dark:select\"\n",
    "\n",
    "# Run the tests\n",
    "test_select_basic_examples()"
   ]
  },
  {
   "cell_type": "code",
   "execution_count": null,
   "id": "43a3d5aa-4f07-48f4-b7c3-5c63612f0fb2",
   "metadata": {},
   "outputs": [],
   "source": [
    "#| export\n",
    "def test_select_styles_examples():\n",
    "    \"\"\"Test select style variants.\"\"\"\n",
    "    assert str(select_styles.ghost) == \"select-ghost\"\n",
    "\n",
    "# Run the tests\n",
    "test_select_styles_examples()"
   ]
  },
  {
   "cell_type": "code",
   "execution_count": null,
   "id": "248adc40-6e77-4203-9830-de838e25a00a",
   "metadata": {},
   "outputs": [],
   "source": [
    "#| export\n",
    "def test_select_colors_examples():\n",
    "    \"\"\"Test select color variants.\"\"\"\n",
    "    # All color variants\n",
    "    assert str(select_colors.neutral) == \"select-neutral\"\n",
    "    assert str(select_colors.primary) == \"select-primary\"\n",
    "    assert str(select_colors.secondary) == \"select-secondary\"\n",
    "    assert str(select_colors.accent) == \"select-accent\"\n",
    "    assert str(select_colors.info) == \"select-info\"\n",
    "    assert str(select_colors.success) == \"select-success\"\n",
    "    assert str(select_colors.warning) == \"select-warning\"\n",
    "    assert str(select_colors.error) == \"select-error\"\n",
    "    \n",
    "    # With modifiers\n",
    "    assert str(select_colors.primary.hover) == \"hover:select-primary\"\n",
    "    assert str(select_colors.success.focus) == \"focus:select-success\"\n",
    "\n",
    "# Run the tests\n",
    "test_select_colors_examples()"
   ]
  },
  {
   "cell_type": "code",
   "execution_count": null,
   "id": "a2029d6d-bf22-4e16-87e1-d609762dc867",
   "metadata": {},
   "outputs": [],
   "source": [
    "#| export\n",
    "def test_select_sizes_examples():\n",
    "    \"\"\"Test select size variants.\"\"\"\n",
    "    assert str(select_sizes.xs) == \"select-xs\"\n",
    "    assert str(select_sizes.sm) == \"select-sm\"\n",
    "    assert str(select_sizes.md) == \"select-md\"\n",
    "    assert str(select_sizes.lg) == \"select-lg\"\n",
    "    assert str(select_sizes.xl) == \"select-xl\"\n",
    "    \n",
    "    # With responsive modifiers\n",
    "    assert str(select_sizes.xs.sm) == \"sm:select-xs\"\n",
    "    assert str(select_sizes.lg.md) == \"md:select-lg\"\n",
    "\n",
    "# Run the tests\n",
    "test_select_sizes_examples()"
   ]
  },
  {
   "cell_type": "code",
   "execution_count": null,
   "id": "c9dfaad9-504c-4853-886b-2d1adb1cc3a0",
   "metadata": {},
   "outputs": [],
   "source": []
  },
  {
   "cell_type": "code",
   "execution_count": null,
   "id": "454d5b84-fc57-44ab-a6f0-3123333998cb",
   "metadata": {},
   "outputs": [],
   "source": []
  },
  {
   "cell_type": "code",
   "execution_count": null,
   "id": "d471d21b-6fe5-4c63-90be-5176c4cbd08b",
   "metadata": {},
   "outputs": [],
   "source": []
  },
  {
   "cell_type": "code",
   "execution_count": null,
   "id": "73b88b7e-0be6-4a82-9c02-f3df8af20015",
   "metadata": {},
   "outputs": [],
   "source": []
  },
  {
   "cell_type": "code",
   "execution_count": null,
   "id": "7ab8257a-c30b-45b6-a784-729b67686791",
   "metadata": {},
   "outputs": [],
   "source": [
    "#| hide\n",
    "import nbdev; nbdev.nbdev_export()"
   ]
  }
 ],
 "metadata": {
  "kernelspec": {
   "display_name": "python3",
   "language": "python",
   "name": "python3"
  }
 },
 "nbformat": 4,
 "nbformat_minor": 5
}
