{
 "cells": [
  {
   "cell_type": "markdown",
   "id": "7c51b46b-ece1-456d-8e84-7de122e72b62",
   "metadata": {},
   "source": [
    "# checkbox\n",
    "\n",
    "> Checkboxes are used to select or deselect a value."
   ]
  },
  {
   "cell_type": "code",
   "execution_count": null,
   "id": "25536bdc-e099-477f-9e2d-a5f71df5dff2",
   "metadata": {},
   "outputs": [],
   "source": [
    "#| default_exp components.data_input.checkbox"
   ]
  },
  {
   "cell_type": "code",
   "execution_count": null,
   "id": "2e6f21ce-7766-455a-8ebb-df2c17e7d977",
   "metadata": {},
   "outputs": [],
   "source": [
    "#| hide\n",
    "from nbdev.showdoc import *"
   ]
  },
  {
   "cell_type": "code",
   "execution_count": null,
   "id": "045c6538-403e-4222-b3bb-db20f188524d",
   "metadata": {},
   "outputs": [],
   "source": [
    "#| export\n",
    "\n",
    "from cjm_fasthtml_tailwind.core.base import (\n",
    "    SingleValueFactory, combine_classes\n",
    ")\n",
    "from cjm_fasthtml_tailwind.builders.scales import SimpleFactory, enums_to_simple_factory\n",
    "\n",
    "from cjm_fasthtml_daisyui.builders.colors import SemanticColorBrand, SemanticColorStatus\n",
    "from cjm_fasthtml_daisyui.builders.sizes import DaisyUINamedSize\n",
    "\n",
    "from fasthtml.common import Div\n",
    "from fasthtml.jupyter import JupyUvi, HTMX\n",
    "from cjm_fasthtml_daisyui.core.testing import create_test_app, create_test_page, start_test_server\n",
    "from cjm_fasthtml_daisyui.core.themes import DaisyUITheme\n",
    "from IPython.display import display"
   ]
  },
  {
   "cell_type": "markdown",
   "id": "9e985750-5751-4b27-9aec-08d09063e5ea",
   "metadata": {},
   "source": [
    "### Base Checkbox"
   ]
  },
  {
   "cell_type": "code",
   "execution_count": null,
   "id": "c802d106-49fb-4d34-ba04-5f54c88e165b",
   "metadata": {},
   "outputs": [],
   "source": [
    "#| exports\n",
    "checkbox = SingleValueFactory(\"checkbox\", \"Base checkbox component\") # Base checkbox component"
   ]
  },
  {
   "cell_type": "markdown",
   "id": "4a0529d4-e0d0-4747-9088-8b12fb92ff33",
   "metadata": {},
   "source": [
    "### Checkbox Colors"
   ]
  },
  {
   "cell_type": "code",
   "execution_count": null,
   "id": "636c6bcd-2176-4191-aa39-c937893243e2",
   "metadata": {},
   "outputs": [],
   "source": [
    "#| exports\n",
    "checkbox_colors = enums_to_simple_factory(checkbox, [SemanticColorBrand, SemanticColorStatus], \"Checkbox color variants using daisyUI semantic colors\") # Checkbox color variants"
   ]
  },
  {
   "cell_type": "markdown",
   "id": "101f1c1f-20d1-4d3f-b86a-5ab4ec5a0918",
   "metadata": {},
   "source": [
    "### Checkbox Sizes"
   ]
  },
  {
   "cell_type": "code",
   "execution_count": null,
   "id": "3035ff66-e4e7-410c-8b1e-86a879f66112",
   "metadata": {},
   "outputs": [],
   "source": [
    "#| exports\n",
    "checkbox_sizes = enums_to_simple_factory(checkbox, [DaisyUINamedSize], \"Checkbox size variants from extra small to extra large\") # Checkbox size variants"
   ]
  },
  {
   "cell_type": "markdown",
   "id": "c66cdbfd-6d82-4d83-8244-1237907449c5",
   "metadata": {},
   "source": [
    "### Checkbox Test Examples"
   ]
  },
  {
   "cell_type": "code",
   "execution_count": null,
   "id": "85d72161-e718-4c66-bc59-a3569b7f7616",
   "metadata": {},
   "outputs": [],
   "source": [
    "#|exports\n",
    "def test_checkbox_basic_examples():\n",
    "    \"\"\"Test basic checkbox utilities.\"\"\"\n",
    "    # Basic checkbox\n",
    "    assert str(checkbox) == \"checkbox\"\n",
    "    \n",
    "    # Test with modifiers\n",
    "    assert str(checkbox.hover) == \"hover:checkbox\"\n",
    "    assert str(checkbox.md) == \"md:checkbox\"\n",
    "    assert str(checkbox.dark) == \"dark:checkbox\"\n",
    "\n",
    "# Run the tests\n",
    "test_checkbox_basic_examples()"
   ]
  },
  {
   "cell_type": "code",
   "execution_count": null,
   "id": "214654cc-9758-48f9-92e2-0892029c4512",
   "metadata": {},
   "outputs": [],
   "source": [
    "#|exports\n",
    "def test_checkbox_colors_examples():\n",
    "    \"\"\"Test checkbox color variants.\"\"\"\n",
    "    # All color variants\n",
    "    assert str(checkbox_colors.neutral) == \"checkbox-neutral\"\n",
    "    assert str(checkbox_colors.primary) == \"checkbox-primary\"\n",
    "    assert str(checkbox_colors.secondary) == \"checkbox-secondary\"\n",
    "    assert str(checkbox_colors.accent) == \"checkbox-accent\"\n",
    "    assert str(checkbox_colors.info) == \"checkbox-info\"\n",
    "    assert str(checkbox_colors.success) == \"checkbox-success\"\n",
    "    assert str(checkbox_colors.warning) == \"checkbox-warning\"\n",
    "    assert str(checkbox_colors.error) == \"checkbox-error\"\n",
    "    \n",
    "    # With modifiers\n",
    "    assert str(checkbox_colors.primary.hover) == \"hover:checkbox-primary\"\n",
    "    assert str(checkbox_colors.success.focus) == \"focus:checkbox-success\"\n",
    "\n",
    "# Run the tests\n",
    "test_checkbox_colors_examples()"
   ]
  },
  {
   "cell_type": "code",
   "execution_count": null,
   "id": "a9d78aa3-0be8-49e6-8bfb-cb9a232ee1ee",
   "metadata": {},
   "outputs": [],
   "source": [
    "#|exports\n",
    "def test_checkbox_sizes_examples():\n",
    "    \"\"\"Test checkbox size variants.\"\"\"\n",
    "    assert str(checkbox_sizes.xs) == \"checkbox-xs\"\n",
    "    assert str(checkbox_sizes.sm) == \"checkbox-sm\"\n",
    "    assert str(checkbox_sizes.md) == \"checkbox-md\"\n",
    "    assert str(checkbox_sizes.lg) == \"checkbox-lg\"\n",
    "    assert str(checkbox_sizes.xl) == \"checkbox-xl\"\n",
    "    \n",
    "    # With responsive modifiers\n",
    "    assert str(checkbox_sizes.xs.sm) == \"sm:checkbox-xs\"\n",
    "    assert str(checkbox_sizes.lg.md) == \"md:checkbox-lg\"\n",
    "\n",
    "# Run the tests\n",
    "test_checkbox_sizes_examples()"
   ]
  },
  {
   "cell_type": "code",
   "execution_count": null,
   "id": "01785a18-9bb0-4dbc-9eae-04addf6dede9",
   "metadata": {},
   "outputs": [
    {
     "data": {
      "text/markdown": [
       "```html\n",
       "<div>\n",
       "  <input type=\"checkbox\" checked=\"checked\" class=\"checkbox\">\n",
       "</div>\n",
       "\n",
       "```"
      ],
      "text/plain": [
       "div((input((),{'type': 'checkbox', 'checked': 'checked', 'class': 'checkbox'}),),{})"
      ]
     },
     "execution_count": null,
     "metadata": {},
     "output_type": "execute_result"
    }
   ],
   "source": [
    "#|exports\n",
    "def test_checkbox_basic_fasthtml_examples():\n",
    "    \"\"\"Test basic checkbox example from daisyUI v5 documentation.\"\"\"\n",
    "    from fasthtml.common import Input, Div\n",
    "    \n",
    "    # Basic checkbox\n",
    "    basic_checkbox = Input(\n",
    "        type=\"checkbox\",\n",
    "        checked=\"checked\",\n",
    "        cls=str(checkbox)\n",
    "    )\n",
    "    \n",
    "    # Verify attributes\n",
    "    assert basic_checkbox.tag == \"input\"\n",
    "    assert basic_checkbox.attrs['type'] == \"checkbox\"\n",
    "    assert basic_checkbox.attrs['checked'] == \"checked\"\n",
    "    assert basic_checkbox.attrs['class'] == \"checkbox\"\n",
    "    \n",
    "    return Div(basic_checkbox)\n",
    "\n",
    "# Run the tests\n",
    "test_checkbox_basic_fasthtml_examples()"
   ]
  },
  {
   "cell_type": "code",
   "execution_count": null,
   "id": "477353a4-8fce-476f-ace8-88fa9cb57a38",
   "metadata": {},
   "outputs": [
    {
     "data": {
      "text/html": [
       "\n",
       "<script>\n",
       "document.body.addEventListener('htmx:configRequest', (event) => {\n",
       "    if(event.detail.path.includes('://')) return;\n",
       "    htmx.config.selfRequestsOnly=false;\n",
       "    event.detail.path = `${location.protocol}//${location.hostname}:8000${event.detail.path}`;\n",
       "});\n",
       "</script>"
      ],
      "text/plain": [
       "<IPython.core.display.HTML object>"
      ]
     },
     "metadata": {},
     "output_type": "display_data"
    },
    {
     "data": {
      "text/html": [
       "<iframe src=\"http://localhost:8000/\" style=\"width: 100%; height: auto; border: none;\" onload=\"{\n",
       "        let frame = this;\n",
       "        window.addEventListener('message', function(e) {\n",
       "            if (e.source !== frame.contentWindow) return; // Only proceed if the message is from this iframe\n",
       "            if (e.data.height) frame.style.height = (e.data.height+1) + 'px';\n",
       "        }, false);\n",
       "    }\" allow=\"accelerometer; autoplay; camera; clipboard-read; clipboard-write; display-capture; encrypted-media; fullscreen; gamepad; geolocation; gyroscope; hid; identity-credentials-get; idle-detection; magnetometer; microphone; midi; payment; picture-in-picture; publickey-credentials-get; screen-wake-lock; serial; usb; web-share; xr-spatial-tracking\"></iframe> "
      ],
      "text/plain": [
       "<IPython.core.display.HTML object>"
      ]
     },
     "metadata": {},
     "output_type": "display_data"
    }
   ],
   "source": [
    "#| eval: false\n",
    "#| output: false\n",
    "test_func = test_checkbox_basic_fasthtml_examples\n",
    "app, rt = create_test_app(theme=DaisyUITheme.LIGHT)\n",
    "\n",
    "@rt\n",
    "def index():\n",
    "    return create_test_page(test_func.__doc__.title().replace('.', ''), test_func())\n",
    "server = start_test_server(app)\n",
    "display(HTMX())\n",
    "server.stop()"
   ]
  },
  {
   "cell_type": "code",
   "execution_count": null,
   "id": "3c0d3289-a62e-4160-b4e7-427976ccccd9",
   "metadata": {},
   "outputs": [
    {
     "data": {
      "text/markdown": [
       "```html\n",
       "<div>\n",
       "<fieldset class=\"fieldset bg-base-100 border-base-300 rounded-box w-64 &lt;cjm_fasthtml_tailwind.utilities.borders.BorderWidthFactory object at 0x76f57e6f8450&gt; p-4\"><legend class=\"fieldset-legend\">Login options</legend><label class=\"label\">      <input type=\"checkbox\" checked=\"checked\" class=\"checkbox\">\n",
       "Remember me</label></fieldset></div>\n",
       "\n",
       "```"
      ],
      "text/plain": [
       "div((fieldset((legend(('Login options',),{'class': 'fieldset-legend'}), label((input((),{'type': 'checkbox', 'checked': 'checked', 'class': 'checkbox'}), 'Remember me'),{'class': 'label'})),{'class': 'fieldset bg-base-100 border-base-300 rounded-box w-64 <cjm_fasthtml_tailwind.utilities.borders.BorderWidthFactory object> p-4'}),),{})"
      ]
     },
     "execution_count": null,
     "metadata": {},
     "output_type": "execute_result"
    }
   ],
   "source": [
    "#|exports\n",
    "def test_checkbox_with_fieldset_fasthtml_examples():\n",
    "    \"\"\"Test checkbox with fieldset and label from daisyUI v5 documentation.\"\"\"\n",
    "    from fasthtml.common import Fieldset, Legend, Label, Input, Div\n",
    "    from cjm_fasthtml_tailwind.utilities.sizing import w\n",
    "    from cjm_fasthtml_tailwind.utilities.spacing import p\n",
    "    from cjm_fasthtml_tailwind.utilities.borders import border, rounded\n",
    "    from cjm_fasthtml_daisyui.core.utility_classes import bg_dui, border_dui\n",
    "    from cjm_fasthtml_daisyui.components.data_input.fieldset import fieldset, fieldset_legend, label\n",
    "    \n",
    "    # Checkbox with fieldset and label\n",
    "    fieldset_checkbox = Fieldset(\n",
    "        Legend(\"Login options\", cls=str(fieldset_legend)),\n",
    "        Label(\n",
    "            Input(\n",
    "                type=\"checkbox\",\n",
    "                checked=\"checked\",\n",
    "                cls=str(checkbox)\n",
    "            ),\n",
    "            \"Remember me\",\n",
    "            cls=str(label)\n",
    "        ),\n",
    "        cls=combine_classes(\n",
    "            fieldset,\n",
    "            bg_dui.base_100,\n",
    "            border_dui.base_300,\n",
    "            rounded.box,\n",
    "            w._64,\n",
    "            border,\n",
    "            p._4\n",
    "        )\n",
    "    )\n",
    "    \n",
    "    # Verify fieldset structure\n",
    "    assert fieldset_checkbox.tag == \"fieldset\"\n",
    "    assert \"fieldset\" in fieldset_checkbox.attrs['class']\n",
    "    assert \"bg-base-100\" in fieldset_checkbox.attrs['class']\n",
    "    assert \"border-base-300\" in fieldset_checkbox.attrs['class']\n",
    "    assert \"rounded-box\" in fieldset_checkbox.attrs['class']\n",
    "    assert \"w-64\" in fieldset_checkbox.attrs['class']\n",
    "    assert \"border\" in fieldset_checkbox.attrs['class']\n",
    "    assert \"p-4\" in fieldset_checkbox.attrs['class']\n",
    "    \n",
    "    # Verify legend\n",
    "    legend_element = fieldset_checkbox.children[0]\n",
    "    assert legend_element.tag == \"legend\"\n",
    "    assert legend_element.attrs['class'] == \"fieldset-legend\"\n",
    "    assert legend_element.children[0] == \"Login options\"\n",
    "    \n",
    "    # Verify label\n",
    "    label_element = fieldset_checkbox.children[1]\n",
    "    assert label_element.tag == \"label\"\n",
    "    assert label_element.attrs['class'] == \"label\"\n",
    "    \n",
    "    # Verify checkbox inside label\n",
    "    checkbox_input = label_element.children[0]\n",
    "    assert checkbox_input.tag == \"input\"\n",
    "    assert checkbox_input.attrs['type'] == \"checkbox\"\n",
    "    assert checkbox_input.attrs['checked'] == \"checked\"\n",
    "    assert checkbox_input.attrs['class'] == \"checkbox\"\n",
    "    \n",
    "    # Verify label text\n",
    "    assert label_element.children[1] == \"Remember me\"\n",
    "    \n",
    "    return Div(fieldset_checkbox)\n",
    "\n",
    "# Run the tests\n",
    "test_checkbox_with_fieldset_fasthtml_examples()"
   ]
  },
  {
   "cell_type": "code",
   "execution_count": null,
   "id": "a7f2e744-076d-4cf9-8e2f-909f53476183",
   "metadata": {},
   "outputs": [
    {
     "data": {
      "text/html": [
       "\n",
       "<script>\n",
       "document.body.addEventListener('htmx:configRequest', (event) => {\n",
       "    if(event.detail.path.includes('://')) return;\n",
       "    htmx.config.selfRequestsOnly=false;\n",
       "    event.detail.path = `${location.protocol}//${location.hostname}:8000${event.detail.path}`;\n",
       "});\n",
       "</script>"
      ],
      "text/plain": [
       "<IPython.core.display.HTML object>"
      ]
     },
     "metadata": {},
     "output_type": "display_data"
    },
    {
     "data": {
      "text/html": [
       "<iframe src=\"http://localhost:8000/\" style=\"width: 100%; height: auto; border: none;\" onload=\"{\n",
       "        let frame = this;\n",
       "        window.addEventListener('message', function(e) {\n",
       "            if (e.source !== frame.contentWindow) return; // Only proceed if the message is from this iframe\n",
       "            if (e.data.height) frame.style.height = (e.data.height+1) + 'px';\n",
       "        }, false);\n",
       "    }\" allow=\"accelerometer; autoplay; camera; clipboard-read; clipboard-write; display-capture; encrypted-media; fullscreen; gamepad; geolocation; gyroscope; hid; identity-credentials-get; idle-detection; magnetometer; microphone; midi; payment; picture-in-picture; publickey-credentials-get; screen-wake-lock; serial; usb; web-share; xr-spatial-tracking\"></iframe> "
      ],
      "text/plain": [
       "<IPython.core.display.HTML object>"
      ]
     },
     "metadata": {},
     "output_type": "display_data"
    }
   ],
   "source": [
    "#| eval: false\n",
    "#| output: false\n",
    "test_func = test_checkbox_with_fieldset_fasthtml_examples\n",
    "app, rt = create_test_app(theme=DaisyUITheme.LIGHT)\n",
    "\n",
    "@rt\n",
    "def index():\n",
    "    return create_test_page(test_func.__doc__.title().replace('.', ''), test_func())\n",
    "server = start_test_server(app)\n",
    "display(HTMX())\n",
    "server.stop()"
   ]
  },
  {
   "cell_type": "code",
   "execution_count": null,
   "id": "a354fc08-3a1c-4b44-91c3-38dcccc8d697",
   "metadata": {},
   "outputs": [
    {
     "data": {
      "text/markdown": [
       "```html\n",
       "<div>\n",
       "  <input type=\"checkbox\" checked=\"checked\" class=\"checkbox checkbox-xs\">\n",
       "  <input type=\"checkbox\" checked=\"checked\" class=\"checkbox checkbox-sm\">\n",
       "  <input type=\"checkbox\" checked=\"checked\" class=\"checkbox checkbox-md\">\n",
       "  <input type=\"checkbox\" checked=\"checked\" class=\"checkbox checkbox-lg\">\n",
       "  <input type=\"checkbox\" checked=\"checked\" class=\"checkbox checkbox-xl\">\n",
       "</div>\n",
       "\n",
       "```"
      ],
      "text/plain": [
       "div((input((),{'type': 'checkbox', 'checked': 'checked', 'class': 'checkbox checkbox-xs'}), input((),{'type': 'checkbox', 'checked': 'checked', 'class': 'checkbox checkbox-sm'}), input((),{'type': 'checkbox', 'checked': 'checked', 'class': 'checkbox checkbox-md'}), input((),{'type': 'checkbox', 'checked': 'checked', 'class': 'checkbox checkbox-lg'}), input((),{'type': 'checkbox', 'checked': 'checked', 'class': 'checkbox checkbox-xl'})),{})"
      ]
     },
     "execution_count": null,
     "metadata": {},
     "output_type": "execute_result"
    }
   ],
   "source": [
    "#|exports\n",
    "def test_checkbox_sizes_fasthtml_examples():\n",
    "    \"\"\"Test checkbox size variations from daisyUI v5 documentation.\"\"\"\n",
    "    from fasthtml.common import Input, Div\n",
    "    \n",
    "    # Extra small checkbox\n",
    "    xs_checkbox = Input(\n",
    "        type=\"checkbox\",\n",
    "        checked=\"checked\",\n",
    "        cls=combine_classes(checkbox, checkbox_sizes.xs)\n",
    "    )\n",
    "    assert \"checkbox\" in xs_checkbox.attrs['class']\n",
    "    assert \"checkbox-xs\" in xs_checkbox.attrs['class']\n",
    "    \n",
    "    # Small checkbox\n",
    "    sm_checkbox = Input(\n",
    "        type=\"checkbox\",\n",
    "        checked=\"checked\",\n",
    "        cls=combine_classes(checkbox, checkbox_sizes.sm)\n",
    "    )\n",
    "    assert \"checkbox-sm\" in sm_checkbox.attrs['class']\n",
    "    \n",
    "    # Medium checkbox\n",
    "    md_checkbox = Input(\n",
    "        type=\"checkbox\",\n",
    "        checked=\"checked\",\n",
    "        cls=combine_classes(checkbox, checkbox_sizes.md)\n",
    "    )\n",
    "    assert \"checkbox-md\" in md_checkbox.attrs['class']\n",
    "    \n",
    "    # Large checkbox\n",
    "    lg_checkbox = Input(\n",
    "        type=\"checkbox\",\n",
    "        checked=\"checked\",\n",
    "        cls=combine_classes(checkbox, checkbox_sizes.lg)\n",
    "    )\n",
    "    assert \"checkbox-lg\" in lg_checkbox.attrs['class']\n",
    "    \n",
    "    # Extra large checkbox\n",
    "    xl_checkbox = Input(\n",
    "        type=\"checkbox\",\n",
    "        checked=\"checked\",\n",
    "        cls=combine_classes(checkbox, checkbox_sizes.xl)\n",
    "    )\n",
    "    assert \"checkbox-xl\" in xl_checkbox.attrs['class']\n",
    "    \n",
    "    return Div(\n",
    "        xs_checkbox,\n",
    "        sm_checkbox,\n",
    "        md_checkbox,\n",
    "        lg_checkbox,\n",
    "        xl_checkbox\n",
    "    )\n",
    "\n",
    "# Run the tests\n",
    "test_checkbox_sizes_fasthtml_examples()"
   ]
  },
  {
   "cell_type": "code",
   "execution_count": null,
   "id": "287d3057-2964-44c5-9f7f-a9d3a265b538",
   "metadata": {},
   "outputs": [
    {
     "data": {
      "text/html": [
       "\n",
       "<script>\n",
       "document.body.addEventListener('htmx:configRequest', (event) => {\n",
       "    if(event.detail.path.includes('://')) return;\n",
       "    htmx.config.selfRequestsOnly=false;\n",
       "    event.detail.path = `${location.protocol}//${location.hostname}:8000${event.detail.path}`;\n",
       "});\n",
       "</script>"
      ],
      "text/plain": [
       "<IPython.core.display.HTML object>"
      ]
     },
     "metadata": {},
     "output_type": "display_data"
    },
    {
     "data": {
      "text/html": [
       "<iframe src=\"http://localhost:8000/\" style=\"width: 100%; height: auto; border: none;\" onload=\"{\n",
       "        let frame = this;\n",
       "        window.addEventListener('message', function(e) {\n",
       "            if (e.source !== frame.contentWindow) return; // Only proceed if the message is from this iframe\n",
       "            if (e.data.height) frame.style.height = (e.data.height+1) + 'px';\n",
       "        }, false);\n",
       "    }\" allow=\"accelerometer; autoplay; camera; clipboard-read; clipboard-write; display-capture; encrypted-media; fullscreen; gamepad; geolocation; gyroscope; hid; identity-credentials-get; idle-detection; magnetometer; microphone; midi; payment; picture-in-picture; publickey-credentials-get; screen-wake-lock; serial; usb; web-share; xr-spatial-tracking\"></iframe> "
      ],
      "text/plain": [
       "<IPython.core.display.HTML object>"
      ]
     },
     "metadata": {},
     "output_type": "display_data"
    }
   ],
   "source": [
    "#| eval: false\n",
    "#| output: false\n",
    "test_func = test_checkbox_sizes_fasthtml_examples\n",
    "app, rt = create_test_app(theme=DaisyUITheme.LIGHT)\n",
    "\n",
    "@rt\n",
    "def index():\n",
    "    return create_test_page(test_func.__doc__.title().replace('.', ''), test_func())\n",
    "server = start_test_server(app)\n",
    "display(HTMX())\n",
    "server.stop()"
   ]
  },
  {
   "cell_type": "code",
   "execution_count": null,
   "id": "4e74ec07-62ba-4ae8-b29e-7984b23603be",
   "metadata": {},
   "outputs": [
    {
     "data": {
      "text/markdown": [
       "```html\n",
       "<div>\n",
       "  <input type=\"checkbox\" checked=\"checked\" class=\"checkbox checkbox-primary\">\n",
       "  <input type=\"checkbox\" checked=\"checked\" class=\"checkbox checkbox-secondary\">\n",
       "  <input type=\"checkbox\" checked=\"checked\" class=\"checkbox checkbox-accent\">\n",
       "  <input type=\"checkbox\" checked=\"checked\" class=\"checkbox checkbox-neutral\">\n",
       "  <input type=\"checkbox\" checked=\"checked\" class=\"checkbox checkbox-info\">\n",
       "  <input type=\"checkbox\" checked=\"checked\" class=\"checkbox checkbox-success\">\n",
       "  <input type=\"checkbox\" checked=\"checked\" class=\"checkbox checkbox-warning\">\n",
       "  <input type=\"checkbox\" checked=\"checked\" class=\"checkbox checkbox-error\">\n",
       "</div>\n",
       "\n",
       "```"
      ],
      "text/plain": [
       "div((input((),{'type': 'checkbox', 'checked': 'checked', 'class': 'checkbox checkbox-primary'}), input((),{'type': 'checkbox', 'checked': 'checked', 'class': 'checkbox checkbox-secondary'}), input((),{'type': 'checkbox', 'checked': 'checked', 'class': 'checkbox checkbox-accent'}), input((),{'type': 'checkbox', 'checked': 'checked', 'class': 'checkbox checkbox-neutral'}), input((),{'type': 'checkbox', 'checked': 'checked', 'class': 'checkbox checkbox-info'}), input((),{'type': 'checkbox', 'checked': 'checked', 'class': 'checkbox checkbox-success'}), input((),{'type': 'checkbox', 'checked': 'checked', 'class': 'checkbox checkbox-warning'}), input((),{'type': 'checkbox', 'checked': 'checked', 'class': 'checkbox checkbox-error'})),{})"
      ]
     },
     "execution_count": null,
     "metadata": {},
     "output_type": "execute_result"
    }
   ],
   "source": [
    "#|exports\n",
    "def test_checkbox_colors_fasthtml_examples():\n",
    "    \"\"\"Test checkbox color variations from daisyUI v5 documentation.\"\"\"\n",
    "    from fasthtml.common import Input, Div\n",
    "    \n",
    "    # Primary checkbox\n",
    "    primary_checkbox = Input(\n",
    "        type=\"checkbox\",\n",
    "        checked=\"checked\",\n",
    "        cls=combine_classes(checkbox, checkbox_colors.primary)\n",
    "    )\n",
    "    assert \"checkbox\" in primary_checkbox.attrs['class']\n",
    "    assert \"checkbox-primary\" in primary_checkbox.attrs['class']\n",
    "    \n",
    "    # Secondary checkbox\n",
    "    secondary_checkbox = Input(\n",
    "        type=\"checkbox\",\n",
    "        checked=\"checked\",\n",
    "        cls=combine_classes(checkbox, checkbox_colors.secondary)\n",
    "    )\n",
    "    assert \"checkbox-secondary\" in secondary_checkbox.attrs['class']\n",
    "    \n",
    "    # Accent checkbox\n",
    "    accent_checkbox = Input(\n",
    "        type=\"checkbox\",\n",
    "        checked=\"checked\",\n",
    "        cls=combine_classes(checkbox, checkbox_colors.accent)\n",
    "    )\n",
    "    assert \"checkbox-accent\" in accent_checkbox.attrs['class']\n",
    "    \n",
    "    # Neutral checkbox\n",
    "    neutral_checkbox = Input(\n",
    "        type=\"checkbox\",\n",
    "        checked=\"checked\",\n",
    "        cls=combine_classes(checkbox, checkbox_colors.neutral)\n",
    "    )\n",
    "    assert \"checkbox-neutral\" in neutral_checkbox.attrs['class']\n",
    "    \n",
    "    # Info checkbox\n",
    "    info_checkbox = Input(\n",
    "        type=\"checkbox\",\n",
    "        checked=\"checked\",\n",
    "        cls=combine_classes(checkbox, checkbox_colors.info)\n",
    "    )\n",
    "    assert \"checkbox-info\" in info_checkbox.attrs['class']\n",
    "    \n",
    "    # Success checkbox\n",
    "    success_checkbox = Input(\n",
    "        type=\"checkbox\",\n",
    "        checked=\"checked\",\n",
    "        cls=combine_classes(checkbox, checkbox_colors.success)\n",
    "    )\n",
    "    assert \"checkbox-success\" in success_checkbox.attrs['class']\n",
    "    \n",
    "    # Warning checkbox\n",
    "    warning_checkbox = Input(\n",
    "        type=\"checkbox\",\n",
    "        checked=\"checked\",\n",
    "        cls=combine_classes(checkbox, checkbox_colors.warning)\n",
    "    )\n",
    "    assert \"checkbox-warning\" in warning_checkbox.attrs['class']\n",
    "    \n",
    "    # Error checkbox\n",
    "    error_checkbox = Input(\n",
    "        type=\"checkbox\",\n",
    "        checked=\"checked\",\n",
    "        cls=combine_classes(checkbox, checkbox_colors.error)\n",
    "    )\n",
    "    assert \"checkbox-error\" in error_checkbox.attrs['class']\n",
    "    \n",
    "    return Div(\n",
    "        primary_checkbox,\n",
    "        secondary_checkbox,\n",
    "        accent_checkbox,\n",
    "        neutral_checkbox,\n",
    "        info_checkbox,\n",
    "        success_checkbox,\n",
    "        warning_checkbox,\n",
    "        error_checkbox\n",
    "    )\n",
    "\n",
    "# Run the tests\n",
    "test_checkbox_colors_fasthtml_examples()"
   ]
  },
  {
   "cell_type": "code",
   "execution_count": null,
   "id": "6d104a72-47b5-4680-ba5c-0c5da961d2e8",
   "metadata": {},
   "outputs": [
    {
     "data": {
      "text/html": [
       "\n",
       "<script>\n",
       "document.body.addEventListener('htmx:configRequest', (event) => {\n",
       "    if(event.detail.path.includes('://')) return;\n",
       "    htmx.config.selfRequestsOnly=false;\n",
       "    event.detail.path = `${location.protocol}//${location.hostname}:8000${event.detail.path}`;\n",
       "});\n",
       "</script>"
      ],
      "text/plain": [
       "<IPython.core.display.HTML object>"
      ]
     },
     "metadata": {},
     "output_type": "display_data"
    },
    {
     "data": {
      "text/html": [
       "<iframe src=\"http://localhost:8000/\" style=\"width: 100%; height: auto; border: none;\" onload=\"{\n",
       "        let frame = this;\n",
       "        window.addEventListener('message', function(e) {\n",
       "            if (e.source !== frame.contentWindow) return; // Only proceed if the message is from this iframe\n",
       "            if (e.data.height) frame.style.height = (e.data.height+1) + 'px';\n",
       "        }, false);\n",
       "    }\" allow=\"accelerometer; autoplay; camera; clipboard-read; clipboard-write; display-capture; encrypted-media; fullscreen; gamepad; geolocation; gyroscope; hid; identity-credentials-get; idle-detection; magnetometer; microphone; midi; payment; picture-in-picture; publickey-credentials-get; screen-wake-lock; serial; usb; web-share; xr-spatial-tracking\"></iframe> "
      ],
      "text/plain": [
       "<IPython.core.display.HTML object>"
      ]
     },
     "metadata": {},
     "output_type": "display_data"
    }
   ],
   "source": [
    "#| eval: false\n",
    "#| output: false\n",
    "test_func = test_checkbox_colors_fasthtml_examples\n",
    "app, rt = create_test_app(theme=DaisyUITheme.LIGHT)\n",
    "\n",
    "@rt\n",
    "def index():\n",
    "    return create_test_page(test_func.__doc__.title().replace('.', ''), test_func())\n",
    "server = start_test_server(app)\n",
    "display(HTMX())\n",
    "server.stop()"
   ]
  },
  {
   "cell_type": "code",
   "execution_count": null,
   "id": "c2061f09-a0a6-483d-97c0-4240f8aa7ec4",
   "metadata": {},
   "outputs": [
    {
     "data": {
      "text/markdown": [
       "```html\n",
       "<div>\n",
       "  <input type=\"checkbox\" disabled class=\"checkbox\">\n",
       "  <input type=\"checkbox\" disabled checked=\"checked\" class=\"checkbox\">\n",
       "</div>\n",
       "\n",
       "```"
      ],
      "text/plain": [
       "div((input((),{'type': 'checkbox', 'disabled': True, 'class': 'checkbox'}), input((),{'type': 'checkbox', 'disabled': True, 'checked': 'checked', 'class': 'checkbox'})),{})"
      ]
     },
     "execution_count": null,
     "metadata": {},
     "output_type": "execute_result"
    }
   ],
   "source": [
    "#|exports\n",
    "def test_checkbox_disabled_fasthtml_examples():\n",
    "    \"\"\"Test disabled checkbox variations from daisyUI v5 documentation.\"\"\"\n",
    "    from fasthtml.common import Input, Div\n",
    "    \n",
    "    # Disabled unchecked checkbox\n",
    "    disabled_unchecked = Input(\n",
    "        type=\"checkbox\",\n",
    "        cls=str(checkbox),\n",
    "        disabled=True\n",
    "    )\n",
    "    assert disabled_unchecked.tag == \"input\"\n",
    "    assert disabled_unchecked.attrs['type'] == \"checkbox\"\n",
    "    assert disabled_unchecked.attrs['class'] == \"checkbox\"\n",
    "    assert disabled_unchecked.attrs['disabled'] == True\n",
    "    assert 'checked' not in disabled_unchecked.attrs\n",
    "    \n",
    "    # Disabled checked checkbox\n",
    "    disabled_checked = Input(\n",
    "        type=\"checkbox\",\n",
    "        cls=str(checkbox),\n",
    "        disabled=True,\n",
    "        checked=\"checked\"\n",
    "    )\n",
    "    assert disabled_checked.tag == \"input\"\n",
    "    assert disabled_checked.attrs['type'] == \"checkbox\"\n",
    "    assert disabled_checked.attrs['class'] == \"checkbox\"\n",
    "    assert disabled_checked.attrs['disabled'] == True\n",
    "    assert disabled_checked.attrs['checked'] == \"checked\"\n",
    "    \n",
    "    return Div(\n",
    "        disabled_unchecked,\n",
    "        disabled_checked\n",
    "    )\n",
    "\n",
    "# Run the tests\n",
    "test_checkbox_disabled_fasthtml_examples()"
   ]
  },
  {
   "cell_type": "code",
   "execution_count": null,
   "id": "7ac430ff-ec11-4f10-a46b-7233a7046e1d",
   "metadata": {},
   "outputs": [
    {
     "data": {
      "text/html": [
       "\n",
       "<script>\n",
       "document.body.addEventListener('htmx:configRequest', (event) => {\n",
       "    if(event.detail.path.includes('://')) return;\n",
       "    htmx.config.selfRequestsOnly=false;\n",
       "    event.detail.path = `${location.protocol}//${location.hostname}:8000${event.detail.path}`;\n",
       "});\n",
       "</script>"
      ],
      "text/plain": [
       "<IPython.core.display.HTML object>"
      ]
     },
     "metadata": {},
     "output_type": "display_data"
    },
    {
     "data": {
      "text/html": [
       "<iframe src=\"http://localhost:8000/\" style=\"width: 100%; height: auto; border: none;\" onload=\"{\n",
       "        let frame = this;\n",
       "        window.addEventListener('message', function(e) {\n",
       "            if (e.source !== frame.contentWindow) return; // Only proceed if the message is from this iframe\n",
       "            if (e.data.height) frame.style.height = (e.data.height+1) + 'px';\n",
       "        }, false);\n",
       "    }\" allow=\"accelerometer; autoplay; camera; clipboard-read; clipboard-write; display-capture; encrypted-media; fullscreen; gamepad; geolocation; gyroscope; hid; identity-credentials-get; idle-detection; magnetometer; microphone; midi; payment; picture-in-picture; publickey-credentials-get; screen-wake-lock; serial; usb; web-share; xr-spatial-tracking\"></iframe> "
      ],
      "text/plain": [
       "<IPython.core.display.HTML object>"
      ]
     },
     "metadata": {},
     "output_type": "display_data"
    }
   ],
   "source": [
    "#| eval: false\n",
    "#| output: false\n",
    "test_func = test_checkbox_disabled_fasthtml_examples\n",
    "app, rt = create_test_app(theme=DaisyUITheme.LIGHT)\n",
    "\n",
    "@rt\n",
    "def index():\n",
    "    return create_test_page(test_func.__doc__.title().replace('.', ''), test_func())\n",
    "server = start_test_server(app)\n",
    "display(HTMX())\n",
    "server.stop()"
   ]
  },
  {
   "cell_type": "code",
   "execution_count": null,
   "id": "1ed5b889-623e-4084-9912-589455a58f84",
   "metadata": {},
   "outputs": [
    {
     "data": {
      "text/markdown": [
       "```html\n",
       "<div>\n",
       "<script>\n",
       "        document.getElementById(\"my-checkbox\").indeterminate = true;\n",
       "    </script>  <input type=\"checkbox\" id=\"my-checkbox\" class=\"checkbox\" name=\"my-checkbox\">\n",
       "</div>\n",
       "\n",
       "```"
      ],
      "text/plain": [
       "div((script(('\\n        document.getElementById(\"my-checkbox\").indeterminate = true;\\n    ',),{}), input((),{'type': 'checkbox', 'id': 'my-checkbox', 'class': 'checkbox', 'name': 'my-checkbox'})),{})"
      ]
     },
     "execution_count": null,
     "metadata": {},
     "output_type": "execute_result"
    }
   ],
   "source": [
    "#|exports\n",
    "def test_checkbox_indeterminate_fasthtml_examples():\n",
    "    \"\"\"Test indeterminate checkbox from daisyUI v5 documentation.\"\"\"\n",
    "    from fasthtml.common import Input, Script, Div\n",
    "    \n",
    "    # Indeterminate checkbox (requires JavaScript to set the state)\n",
    "    # Note: The indeterminate state must be set via JavaScript\n",
    "    indeterminate_checkbox = Input(\n",
    "        type=\"checkbox\",\n",
    "        cls=str(checkbox),\n",
    "        id=\"my-checkbox\"\n",
    "    )\n",
    "    \n",
    "    # JavaScript to set indeterminate state\n",
    "    indeterminate_script = Script(\"\"\"\n",
    "        document.getElementById(\"my-checkbox\").indeterminate = true;\n",
    "    \"\"\")\n",
    "    \n",
    "    # Verify checkbox attributes\n",
    "    assert indeterminate_checkbox.tag == \"input\"\n",
    "    assert indeterminate_checkbox.attrs['type'] == \"checkbox\"\n",
    "    assert indeterminate_checkbox.attrs['class'] == \"checkbox\"\n",
    "    assert indeterminate_checkbox.attrs['id'] == \"my-checkbox\"\n",
    "    \n",
    "    # Verify script element\n",
    "    assert indeterminate_script.tag == \"script\"\n",
    "    assert \"indeterminate = true\" in indeterminate_script.children[0]\n",
    "    \n",
    "    return Div(\n",
    "        indeterminate_script,\n",
    "        indeterminate_checkbox\n",
    "    )\n",
    "\n",
    "# Run the tests\n",
    "test_checkbox_indeterminate_fasthtml_examples()"
   ]
  },
  {
   "cell_type": "code",
   "execution_count": null,
   "id": "7aa32429-1325-49c8-b79f-3e1a78578c34",
   "metadata": {},
   "outputs": [
    {
     "data": {
      "text/html": [
       "\n",
       "<script>\n",
       "document.body.addEventListener('htmx:configRequest', (event) => {\n",
       "    if(event.detail.path.includes('://')) return;\n",
       "    htmx.config.selfRequestsOnly=false;\n",
       "    event.detail.path = `${location.protocol}//${location.hostname}:8000${event.detail.path}`;\n",
       "});\n",
       "</script>"
      ],
      "text/plain": [
       "<IPython.core.display.HTML object>"
      ]
     },
     "metadata": {},
     "output_type": "display_data"
    },
    {
     "data": {
      "text/html": [
       "<iframe src=\"http://localhost:8000/\" style=\"width: 100%; height: auto; border: none;\" onload=\"{\n",
       "        let frame = this;\n",
       "        window.addEventListener('message', function(e) {\n",
       "            if (e.source !== frame.contentWindow) return; // Only proceed if the message is from this iframe\n",
       "            if (e.data.height) frame.style.height = (e.data.height+1) + 'px';\n",
       "        }, false);\n",
       "    }\" allow=\"accelerometer; autoplay; camera; clipboard-read; clipboard-write; display-capture; encrypted-media; fullscreen; gamepad; geolocation; gyroscope; hid; identity-credentials-get; idle-detection; magnetometer; microphone; midi; payment; picture-in-picture; publickey-credentials-get; screen-wake-lock; serial; usb; web-share; xr-spatial-tracking\"></iframe> "
      ],
      "text/plain": [
       "<IPython.core.display.HTML object>"
      ]
     },
     "metadata": {},
     "output_type": "display_data"
    }
   ],
   "source": [
    "#| eval: false\n",
    "#| output: false\n",
    "test_func = test_checkbox_indeterminate_fasthtml_examples\n",
    "app, rt = create_test_app(theme=DaisyUITheme.LIGHT)\n",
    "\n",
    "@rt\n",
    "def index():\n",
    "    return create_test_page(test_func.__doc__.title().replace('.', ''), test_func())\n",
    "server = start_test_server(app)\n",
    "display(HTMX())\n",
    "server.stop()"
   ]
  },
  {
   "cell_type": "code",
   "execution_count": null,
   "id": "ae7fdfd8-4c33-4bb0-a702-5311e7af594b",
   "metadata": {},
   "outputs": [
    {
     "data": {
      "text/markdown": [
       "```html\n",
       "<div>\n",
       "  <input type=\"checkbox\" checked=\"checked\" class=\"checkbox border-indigo-600 bg-indigo-500 checked:border-orange-500 checked:bg-orange-400 checked:text-orange-800\">\n",
       "</div>\n",
       "\n",
       "```"
      ],
      "text/plain": [
       "div((input((),{'type': 'checkbox', 'checked': 'checked', 'class': 'checkbox border-indigo-600 bg-indigo-500 checked:border-orange-500 checked:bg-orange-400 checked:text-orange-800'}),),{})"
      ]
     },
     "execution_count": null,
     "metadata": {},
     "output_type": "execute_result"
    }
   ],
   "source": [
    "#|exports\n",
    "def test_checkbox_custom_colors_fasthtml_examples():\n",
    "    \"\"\"Test checkbox with custom colors from daisyUI v5 documentation.\"\"\"\n",
    "    from fasthtml.common import Input, Div\n",
    "    from cjm_fasthtml_tailwind.utilities.borders import border_color\n",
    "    from cjm_fasthtml_tailwind.utilities.backgrounds import bg\n",
    "    from cjm_fasthtml_tailwind.utilities.typography import font_size, font_weight, font_family, text_color\n",
    "    \n",
    "    # Checkbox with custom colors\n",
    "    custom_color_checkbox = Input(\n",
    "        type=\"checkbox\",\n",
    "        checked=\"checked\",\n",
    "        cls=combine_classes(\n",
    "            checkbox,\n",
    "            border_color.indigo._600,\n",
    "            bg.indigo._500,\n",
    "            border_color.orange._500.checked,\n",
    "            bg.orange._400.checked,\n",
    "            text_color.orange._800.checked\n",
    "        )\n",
    "    )\n",
    "    \n",
    "    # Verify attributes\n",
    "    assert custom_color_checkbox.tag == \"input\"\n",
    "    assert custom_color_checkbox.attrs['type'] == \"checkbox\"\n",
    "    assert custom_color_checkbox.attrs['checked'] == \"checked\"\n",
    "    assert \"checkbox\" in custom_color_checkbox.attrs['class']\n",
    "    assert \"border-indigo-600\" in custom_color_checkbox.attrs['class']\n",
    "    assert \"bg-indigo-500\" in custom_color_checkbox.attrs['class']\n",
    "    assert \"checked:border-orange-500\" in custom_color_checkbox.attrs['class']\n",
    "    assert \"checked:bg-orange-400\" in custom_color_checkbox.attrs['class']\n",
    "    assert \"checked:text-orange-800\" in custom_color_checkbox.attrs['class']\n",
    "    \n",
    "    return Div(custom_color_checkbox)\n",
    "\n",
    "# Run the tests\n",
    "test_checkbox_custom_colors_fasthtml_examples()"
   ]
  },
  {
   "cell_type": "code",
   "execution_count": null,
   "id": "52ba3740-59b7-49a8-a680-303bc6ecbacb",
   "metadata": {},
   "outputs": [
    {
     "data": {
      "text/html": [
       "\n",
       "<script>\n",
       "document.body.addEventListener('htmx:configRequest', (event) => {\n",
       "    if(event.detail.path.includes('://')) return;\n",
       "    htmx.config.selfRequestsOnly=false;\n",
       "    event.detail.path = `${location.protocol}//${location.hostname}:8000${event.detail.path}`;\n",
       "});\n",
       "</script>"
      ],
      "text/plain": [
       "<IPython.core.display.HTML object>"
      ]
     },
     "metadata": {},
     "output_type": "display_data"
    },
    {
     "data": {
      "text/html": [
       "<iframe src=\"http://localhost:8000/\" style=\"width: 100%; height: auto; border: none;\" onload=\"{\n",
       "        let frame = this;\n",
       "        window.addEventListener('message', function(e) {\n",
       "            if (e.source !== frame.contentWindow) return; // Only proceed if the message is from this iframe\n",
       "            if (e.data.height) frame.style.height = (e.data.height+1) + 'px';\n",
       "        }, false);\n",
       "    }\" allow=\"accelerometer; autoplay; camera; clipboard-read; clipboard-write; display-capture; encrypted-media; fullscreen; gamepad; geolocation; gyroscope; hid; identity-credentials-get; idle-detection; magnetometer; microphone; midi; payment; picture-in-picture; publickey-credentials-get; screen-wake-lock; serial; usb; web-share; xr-spatial-tracking\"></iframe> "
      ],
      "text/plain": [
       "<IPython.core.display.HTML object>"
      ]
     },
     "metadata": {},
     "output_type": "display_data"
    }
   ],
   "source": [
    "#| eval: false\n",
    "#| output: false\n",
    "test_func = test_checkbox_custom_colors_fasthtml_examples\n",
    "app, rt = create_test_app(theme=DaisyUITheme.LIGHT)\n",
    "\n",
    "@rt\n",
    "def index():\n",
    "    return create_test_page(test_func.__doc__.title().replace('.', ''), test_func())\n",
    "server = start_test_server(app)\n",
    "display(HTMX())\n",
    "server.stop()"
   ]
  },
  {
   "cell_type": "code",
   "execution_count": null,
   "id": "2d76872c-b51c-4196-a753-ad32947c9d49",
   "metadata": {},
   "outputs": [],
   "source": []
  },
  {
   "cell_type": "code",
   "execution_count": null,
   "id": "69351f43-35c9-4e39-a73b-3200dc0549c7",
   "metadata": {},
   "outputs": [],
   "source": []
  },
  {
   "cell_type": "code",
   "execution_count": null,
   "id": "43a3d5aa-4f07-48f4-b7c3-5c63612f0fb2",
   "metadata": {},
   "outputs": [],
   "source": []
  },
  {
   "cell_type": "code",
   "execution_count": null,
   "id": "248adc40-6e77-4203-9830-de838e25a00a",
   "metadata": {},
   "outputs": [],
   "source": []
  },
  {
   "cell_type": "code",
   "execution_count": null,
   "id": "a2029d6d-bf22-4e16-87e1-d609762dc867",
   "metadata": {},
   "outputs": [],
   "source": []
  },
  {
   "cell_type": "code",
   "execution_count": null,
   "id": "c9dfaad9-504c-4853-886b-2d1adb1cc3a0",
   "metadata": {},
   "outputs": [],
   "source": []
  },
  {
   "cell_type": "code",
   "execution_count": null,
   "id": "454d5b84-fc57-44ab-a6f0-3123333998cb",
   "metadata": {},
   "outputs": [],
   "source": []
  },
  {
   "cell_type": "code",
   "execution_count": null,
   "id": "d471d21b-6fe5-4c63-90be-5176c4cbd08b",
   "metadata": {},
   "outputs": [],
   "source": []
  },
  {
   "cell_type": "code",
   "execution_count": null,
   "id": "73b88b7e-0be6-4a82-9c02-f3df8af20015",
   "metadata": {},
   "outputs": [],
   "source": []
  },
  {
   "cell_type": "code",
   "execution_count": null,
   "id": "7ab8257a-c30b-45b6-a784-729b67686791",
   "metadata": {},
   "outputs": [],
   "source": [
    "#| hide\n",
    "import nbdev; nbdev.nbdev_export()"
   ]
  }
 ],
 "metadata": {
  "kernelspec": {
   "display_name": "python3",
   "language": "python",
   "name": "python3"
  }
 },
 "nbformat": 4,
 "nbformat_minor": 5
}
