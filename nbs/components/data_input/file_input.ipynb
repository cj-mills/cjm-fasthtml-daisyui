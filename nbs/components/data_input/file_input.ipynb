{
 "cells": [
  {
   "cell_type": "markdown",
   "id": "7c51b46b-ece1-456d-8e84-7de122e72b62",
   "metadata": {},
   "source": [
    "# file input\n",
    "\n",
    "> File Input is a an input field for uploading files."
   ]
  },
  {
   "cell_type": "code",
   "execution_count": null,
   "id": "25536bdc-e099-477f-9e2d-a5f71df5dff2",
   "metadata": {},
   "outputs": [],
   "source": [
    "#| default_exp components.data_input.file_input"
   ]
  },
  {
   "cell_type": "code",
   "execution_count": null,
   "id": "2e6f21ce-7766-455a-8ebb-df2c17e7d977",
   "metadata": {},
   "outputs": [],
   "source": [
    "#| hide\n",
    "from nbdev.showdoc import *"
   ]
  },
  {
   "cell_type": "code",
   "execution_count": null,
   "id": "045c6538-403e-4222-b3bb-db20f188524d",
   "metadata": {},
   "outputs": [],
   "source": [
    "#| export\n",
    "\n",
    "from typing import Optional, Dict, Any, Union\n",
    "from cjm_fasthtml_tailwind.core.base import (\n",
    "    SingleValueFactory, combine_classes\n",
    ")\n",
    "from cjm_fasthtml_tailwind.builders.scales import SimpleFactory, enums_to_simple_factory\n",
    "\n",
    "from cjm_fasthtml_daisyui.builders.colors import SemanticColorBrand, SemanticColorStatus\n",
    "from cjm_fasthtml_daisyui.builders.sizes import DaisyUINamedSize\n",
    "from cjm_fasthtml_daisyui.builders.styles import GhostStyle\n",
    "\n",
    "from fasthtml.common import Div\n",
    "from fasthtml.jupyter import JupyUvi, HTMX\n",
    "from cjm_fasthtml_daisyui.core.testing import create_test_app, create_test_page, start_test_server\n",
    "from cjm_fasthtml_daisyui.core.themes import DaisyUITheme\n",
    "from IPython.display import display"
   ]
  },
  {
   "cell_type": "markdown",
   "id": "63ebf1e7-ea2a-4873-81d0-b5948d7d208f",
   "metadata": {},
   "source": [
    "### Base File Input"
   ]
  },
  {
   "cell_type": "code",
   "execution_count": null,
   "id": "c802d106-49fb-4d34-ba04-5f54c88e165b",
   "metadata": {},
   "outputs": [],
   "source": [
    "#| export\n",
    "file_input = SingleValueFactory(\"file-input\", \"Base file input component for <input type=\\\"file\\\"> element\") # Base file input component"
   ]
  },
  {
   "cell_type": "markdown",
   "id": "a5c19905-9ebc-4c1f-9794-0ac210ee00b0",
   "metadata": {},
   "source": [
    "### File Input Styles"
   ]
  },
  {
   "cell_type": "code",
   "execution_count": null,
   "id": "ad2d932c-79ea-4792-bdaf-5bda859340ca",
   "metadata": {},
   "outputs": [],
   "source": [
    "#| export\n",
    "file_input_styles = enums_to_simple_factory(file_input, [GhostStyle]) # File input style variants"
   ]
  },
  {
   "cell_type": "markdown",
   "id": "6471365d-a404-43e8-836a-e7985e2ab72c",
   "metadata": {},
   "source": [
    "### File Input Colors"
   ]
  },
  {
   "cell_type": "code",
   "execution_count": null,
   "id": "4666a5a3-26bb-4d91-b5be-f941df8f9d2f",
   "metadata": {},
   "outputs": [],
   "source": [
    "#| export\n",
    "file_input_colors = enums_to_simple_factory(file_input, [SemanticColorBrand, SemanticColorStatus], \"File input color variants using daisyUI semantic colors\") # File input color variants"
   ]
  },
  {
   "cell_type": "markdown",
   "id": "1162331e-9085-4cd7-b75e-14c5edcc917b",
   "metadata": {},
   "source": [
    "### File Input Sizes"
   ]
  },
  {
   "cell_type": "code",
   "execution_count": null,
   "id": "214654cc-9758-48f9-92e2-0892029c4512",
   "metadata": {},
   "outputs": [],
   "source": [
    "#| export\n",
    "file_input_sizes = enums_to_simple_factory(file_input, [DaisyUINamedSize], \"File input size variants from extra small to extra large\") # File input size variants"
   ]
  },
  {
   "cell_type": "markdown",
   "id": "f6a646a3-fded-409c-b09c-498bf04b7b36",
   "metadata": {},
   "source": [
    "### File Input Test Examples"
   ]
  },
  {
   "cell_type": "code",
   "execution_count": null,
   "id": "01785a18-9bb0-4dbc-9eae-04addf6dede9",
   "metadata": {},
   "outputs": [],
   "source": [
    "#| export\n",
    "def test_file_input_basic_examples():\n",
    "    \"\"\"Test basic file_input utilities.\"\"\"\n",
    "    # Basic file_input\n",
    "    assert str(file_input) == \"file-input\"\n",
    "    \n",
    "    # Test with modifiers\n",
    "    assert str(file_input.hover) == \"hover:file-input\"\n",
    "    assert str(file_input.md) == \"md:file-input\"\n",
    "    assert str(file_input.dark) == \"dark:file-input\"\n",
    "\n",
    "# Run the tests\n",
    "test_file_input_basic_examples()"
   ]
  },
  {
   "cell_type": "code",
   "execution_count": null,
   "id": "43a3d5aa-4f07-48f4-b7c3-5c63612f0fb2",
   "metadata": {},
   "outputs": [],
   "source": [
    "#| export\n",
    "def test_file_input_styles_examples():\n",
    "    \"\"\"Test file_input style variants.\"\"\"\n",
    "    assert str(file_input_styles.ghost) == \"file-input-ghost\"\n",
    "\n",
    "# Run the tests\n",
    "test_file_input_styles_examples()"
   ]
  },
  {
   "cell_type": "code",
   "execution_count": null,
   "id": "248adc40-6e77-4203-9830-de838e25a00a",
   "metadata": {},
   "outputs": [],
   "source": [
    "#| export\n",
    "def test_file_input_colors_examples():\n",
    "    \"\"\"Test file_input color variants.\"\"\"\n",
    "    # All color variants\n",
    "    assert str(file_input_colors.neutral) == \"file-input-neutral\"\n",
    "    assert str(file_input_colors.primary) == \"file-input-primary\"\n",
    "    assert str(file_input_colors.secondary) == \"file-input-secondary\"\n",
    "    assert str(file_input_colors.accent) == \"file-input-accent\"\n",
    "    assert str(file_input_colors.info) == \"file-input-info\"\n",
    "    assert str(file_input_colors.success) == \"file-input-success\"\n",
    "    assert str(file_input_colors.warning) == \"file-input-warning\"\n",
    "    assert str(file_input_colors.error) == \"file-input-error\"\n",
    "    \n",
    "    # With modifiers\n",
    "    assert str(file_input_colors.primary.hover) == \"hover:file-input-primary\"\n",
    "    assert str(file_input_colors.success.focus) == \"focus:file-input-success\"\n",
    "\n",
    "# Run the tests\n",
    "test_file_input_colors_examples()"
   ]
  },
  {
   "cell_type": "code",
   "execution_count": null,
   "id": "a2029d6d-bf22-4e16-87e1-d609762dc867",
   "metadata": {},
   "outputs": [],
   "source": [
    "#| export\n",
    "def test_file_input_sizes_examples():\n",
    "    \"\"\"Test file_input size variants.\"\"\"\n",
    "    assert str(file_input_sizes.xs) == \"file-input-xs\"\n",
    "    assert str(file_input_sizes.sm) == \"file-input-sm\"\n",
    "    assert str(file_input_sizes.md) == \"file-input-md\"\n",
    "    assert str(file_input_sizes.lg) == \"file-input-lg\"\n",
    "    assert str(file_input_sizes.xl) == \"file-input-xl\"\n",
    "    \n",
    "    # With responsive modifiers\n",
    "    assert str(file_input_sizes.xs.sm) == \"sm:file-input-xs\"\n",
    "    assert str(file_input_sizes.lg.md) == \"md:file-input-lg\"\n",
    "\n",
    "# Run the tests\n",
    "test_file_input_sizes_examples()"
   ]
  },
  {
   "cell_type": "code",
   "execution_count": null,
   "id": "69fea8dc-6316-4015-a97f-fa60ca18dd8a",
   "metadata": {},
   "outputs": [
    {
     "data": {
      "text/markdown": [
       "```html\n",
       "<div>\n",
       "  <input type=\"file\" class=\"file-input\">\n",
       "  <input type=\"file\" class=\"file-input file-input-ghost\">\n",
       "</div>\n",
       "\n",
       "```"
      ],
      "text/plain": [
       "div((input((),{'type': 'file', 'class': 'file-input'}), input((),{'type': 'file', 'class': 'file-input file-input-ghost'})),{})"
      ]
     },
     "execution_count": null,
     "metadata": {},
     "output_type": "execute_result"
    }
   ],
   "source": [
    "#| export\n",
    "def test_file_input_basic_fasthtml_examples():\n",
    "    \"\"\"Test basic file input and ghost style from daisyUI v5 documentation.\"\"\"\n",
    "    from fasthtml.common import Input, Div\n",
    "    \n",
    "    # Basic file input\n",
    "    basic_file_input = Input(type=\"file\", cls=str(file_input))\n",
    "    assert basic_file_input.tag == \"input\"\n",
    "    assert basic_file_input.attrs['type'] == \"file\"\n",
    "    assert basic_file_input.attrs['class'] == \"file-input\"\n",
    "    \n",
    "    # File input ghost\n",
    "    ghost_file_input = Input(\n",
    "        type=\"file\", \n",
    "        cls=combine_classes(file_input, file_input_styles.ghost)\n",
    "    )\n",
    "    assert ghost_file_input.tag == \"input\"\n",
    "    assert ghost_file_input.attrs['type'] == \"file\"\n",
    "    assert \"file-input\" in ghost_file_input.attrs['class']\n",
    "    assert \"file-input-ghost\" in ghost_file_input.attrs['class']\n",
    "    \n",
    "    # Return all elements in a Div\n",
    "    return Div(\n",
    "        basic_file_input,\n",
    "        ghost_file_input\n",
    "    )\n",
    "\n",
    "# Run the tests\n",
    "test_file_input_basic_fasthtml_examples()"
   ]
  },
  {
   "cell_type": "code",
   "execution_count": null,
   "id": "cec756ad-6865-4cfc-af5f-4c65fdb20be8",
   "metadata": {},
   "outputs": [
    {
     "data": {
      "text/html": [
       "\n",
       "<script>\n",
       "document.body.addEventListener('htmx:configRequest', (event) => {\n",
       "    if(event.detail.path.includes('://')) return;\n",
       "    htmx.config.selfRequestsOnly=false;\n",
       "    event.detail.path = `${location.protocol}//${location.hostname}:8000${event.detail.path}`;\n",
       "});\n",
       "</script>"
      ],
      "text/plain": [
       "<IPython.core.display.HTML object>"
      ]
     },
     "metadata": {},
     "output_type": "display_data"
    },
    {
     "data": {
      "text/html": [
       "<iframe src=\"http://localhost:8000/\" style=\"width: 100%; height: auto; border: none;\" onload=\"{\n",
       "        let frame = this;\n",
       "        window.addEventListener('message', function(e) {\n",
       "            if (e.source !== frame.contentWindow) return; // Only proceed if the message is from this iframe\n",
       "            if (e.data.height) frame.style.height = (e.data.height+1) + 'px';\n",
       "        }, false);\n",
       "    }\" allow=\"accelerometer; autoplay; camera; clipboard-read; clipboard-write; display-capture; encrypted-media; fullscreen; gamepad; geolocation; gyroscope; hid; identity-credentials-get; idle-detection; magnetometer; microphone; midi; payment; picture-in-picture; publickey-credentials-get; screen-wake-lock; serial; usb; web-share; xr-spatial-tracking\"></iframe> "
      ],
      "text/plain": [
       "<IPython.core.display.HTML object>"
      ]
     },
     "metadata": {},
     "output_type": "display_data"
    }
   ],
   "source": [
    "#| eval: false\n",
    "test_func = test_file_input_basic_fasthtml_examples\n",
    "app, rt = create_test_app(theme=DaisyUITheme.LIGHT)\n",
    "\n",
    "@rt\n",
    "def index():\n",
    "    return create_test_page(test_func.__doc__.title().replace('.', ''), test_func())\n",
    "server = start_test_server(app)\n",
    "display(HTMX())\n",
    "server.stop()"
   ]
  },
  {
   "cell_type": "code",
   "execution_count": null,
   "id": "77a6f81d-20e2-4b49-a0f4-5abbe7652214",
   "metadata": {},
   "outputs": [
    {
     "data": {
      "text/markdown": [
       "```html\n",
       "<div>\n",
       "<fieldset class=\"fieldset\"><legend class=\"fieldset-legend\">Pick a file</legend>    <input type=\"file\" class=\"file-input\">\n",
       "<label class=\"label\">Max size 2MB</label></fieldset></div>\n",
       "\n",
       "```"
      ],
      "text/plain": [
       "div((fieldset((legend(('Pick a file',),{'class': 'fieldset-legend'}), input((),{'type': 'file', 'class': 'file-input'}), label(('Max size 2MB',),{'class': 'label'})),{'class': 'fieldset'}),),{})"
      ]
     },
     "execution_count": null,
     "metadata": {},
     "output_type": "execute_result"
    }
   ],
   "source": [
    "#| export\n",
    "def test_file_input_with_fieldset_fasthtml_examples():\n",
    "    \"\"\"Test file input with fieldset and label from daisyUI v5 documentation.\"\"\"\n",
    "    from fasthtml.common import Fieldset, Legend, Input, Label, Div\n",
    "    from cjm_fasthtml_daisyui.components.data_input.fieldset import fieldset, fieldset_legend, label\n",
    "    \n",
    "    # File input with fieldset and label\n",
    "    fieldset_file_input = Fieldset(\n",
    "        Legend(\"Pick a file\", cls=str(fieldset_legend)),\n",
    "        Input(type=\"file\", cls=str(file_input)),\n",
    "        Label(\"Max size 2MB\", cls=str(label)),\n",
    "        cls=str(fieldset)\n",
    "    )\n",
    "    \n",
    "    # Verify structure\n",
    "    assert fieldset_file_input.tag == \"fieldset\"\n",
    "    assert fieldset_file_input.attrs['class'] == \"fieldset\"\n",
    "    \n",
    "    # Verify legend\n",
    "    legend_element = fieldset_file_input.children[0]\n",
    "    assert legend_element.tag == \"legend\"\n",
    "    assert legend_element.attrs['class'] == \"fieldset-legend\"\n",
    "    assert legend_element.children[0] == \"Pick a file\"\n",
    "    \n",
    "    # Verify file input\n",
    "    file_input_element = fieldset_file_input.children[1]\n",
    "    assert file_input_element.tag == \"input\"\n",
    "    assert file_input_element.attrs['type'] == \"file\"\n",
    "    assert file_input_element.attrs['class'] == \"file-input\"\n",
    "    \n",
    "    # Verify label\n",
    "    label_element = fieldset_file_input.children[2]\n",
    "    assert label_element.tag == \"label\"\n",
    "    assert label_element.attrs['class'] == \"label\"\n",
    "    assert label_element.children[0] == \"Max size 2MB\"\n",
    "    \n",
    "    return Div(fieldset_file_input)\n",
    "\n",
    "# Run the tests\n",
    "test_file_input_with_fieldset_fasthtml_examples()"
   ]
  },
  {
   "cell_type": "code",
   "execution_count": null,
   "id": "f51d9a08-1e96-431e-893f-c829f935b182",
   "metadata": {},
   "outputs": [
    {
     "data": {
      "text/html": [
       "\n",
       "<script>\n",
       "document.body.addEventListener('htmx:configRequest', (event) => {\n",
       "    if(event.detail.path.includes('://')) return;\n",
       "    htmx.config.selfRequestsOnly=false;\n",
       "    event.detail.path = `${location.protocol}//${location.hostname}:8000${event.detail.path}`;\n",
       "});\n",
       "</script>"
      ],
      "text/plain": [
       "<IPython.core.display.HTML object>"
      ]
     },
     "metadata": {},
     "output_type": "display_data"
    },
    {
     "data": {
      "text/html": [
       "<iframe src=\"http://localhost:8000/\" style=\"width: 100%; height: auto; border: none;\" onload=\"{\n",
       "        let frame = this;\n",
       "        window.addEventListener('message', function(e) {\n",
       "            if (e.source !== frame.contentWindow) return; // Only proceed if the message is from this iframe\n",
       "            if (e.data.height) frame.style.height = (e.data.height+1) + 'px';\n",
       "        }, false);\n",
       "    }\" allow=\"accelerometer; autoplay; camera; clipboard-read; clipboard-write; display-capture; encrypted-media; fullscreen; gamepad; geolocation; gyroscope; hid; identity-credentials-get; idle-detection; magnetometer; microphone; midi; payment; picture-in-picture; publickey-credentials-get; screen-wake-lock; serial; usb; web-share; xr-spatial-tracking\"></iframe> "
      ],
      "text/plain": [
       "<IPython.core.display.HTML object>"
      ]
     },
     "metadata": {},
     "output_type": "display_data"
    }
   ],
   "source": [
    "#| eval: false\n",
    "test_func = test_file_input_with_fieldset_fasthtml_examples\n",
    "app, rt = create_test_app(theme=DaisyUITheme.LIGHT)\n",
    "\n",
    "@rt\n",
    "def index():\n",
    "    return create_test_page(test_func.__doc__.title().replace('.', ''), test_func())\n",
    "server = start_test_server(app)\n",
    "display(HTMX())\n",
    "server.stop()"
   ]
  },
  {
   "cell_type": "code",
   "execution_count": null,
   "id": "63ac0dfa-350b-494f-9da8-ce29a1e1e3a1",
   "metadata": {},
   "outputs": [
    {
     "data": {
      "text/markdown": [
       "```html\n",
       "<div>\n",
       "  <input type=\"file\" class=\"file-input file-input-xs\">\n",
       "  <input type=\"file\" class=\"file-input file-input-sm\">\n",
       "  <input type=\"file\" class=\"file-input file-input-md\">\n",
       "  <input type=\"file\" class=\"file-input file-input-lg\">\n",
       "  <input type=\"file\" class=\"file-input file-input-xl\">\n",
       "</div>\n",
       "\n",
       "```"
      ],
      "text/plain": [
       "div((input((),{'type': 'file', 'class': 'file-input file-input-xs'}), input((),{'type': 'file', 'class': 'file-input file-input-sm'}), input((),{'type': 'file', 'class': 'file-input file-input-md'}), input((),{'type': 'file', 'class': 'file-input file-input-lg'}), input((),{'type': 'file', 'class': 'file-input file-input-xl'})),{})"
      ]
     },
     "execution_count": null,
     "metadata": {},
     "output_type": "execute_result"
    }
   ],
   "source": [
    "#| export\n",
    "def test_file_input_sizes_fasthtml_examples():\n",
    "    \"\"\"Test file input size variations from daisyUI v5 documentation.\"\"\"\n",
    "    from fasthtml.common import Input, Div\n",
    "    \n",
    "    # Extra small file input\n",
    "    xs_file_input = Input(\n",
    "        type=\"file\",\n",
    "        cls=combine_classes(file_input, file_input_sizes.xs)\n",
    "    )\n",
    "    assert xs_file_input.tag == \"input\"\n",
    "    assert xs_file_input.attrs['type'] == \"file\"\n",
    "    assert \"file-input\" in xs_file_input.attrs['class']\n",
    "    assert \"file-input-xs\" in xs_file_input.attrs['class']\n",
    "    \n",
    "    # Small file input\n",
    "    sm_file_input = Input(\n",
    "        type=\"file\",\n",
    "        cls=combine_classes(file_input, file_input_sizes.sm)\n",
    "    )\n",
    "    assert \"file-input\" in sm_file_input.attrs['class']\n",
    "    assert \"file-input-sm\" in sm_file_input.attrs['class']\n",
    "    \n",
    "    # Medium file input\n",
    "    md_file_input = Input(\n",
    "        type=\"file\",\n",
    "        cls=combine_classes(file_input, file_input_sizes.md)\n",
    "    )\n",
    "    assert \"file-input\" in md_file_input.attrs['class']\n",
    "    assert \"file-input-md\" in md_file_input.attrs['class']\n",
    "    \n",
    "    # Large file input\n",
    "    lg_file_input = Input(\n",
    "        type=\"file\",\n",
    "        cls=combine_classes(file_input, file_input_sizes.lg)\n",
    "    )\n",
    "    assert \"file-input\" in lg_file_input.attrs['class']\n",
    "    assert \"file-input-lg\" in lg_file_input.attrs['class']\n",
    "    \n",
    "    # Extra large file input\n",
    "    xl_file_input = Input(\n",
    "        type=\"file\",\n",
    "        cls=combine_classes(file_input, file_input_sizes.xl)\n",
    "    )\n",
    "    assert \"file-input\" in xl_file_input.attrs['class']\n",
    "    assert \"file-input-xl\" in xl_file_input.attrs['class']\n",
    "    \n",
    "    # Return all elements in a Div\n",
    "    return Div(\n",
    "        xs_file_input,\n",
    "        sm_file_input,\n",
    "        md_file_input,\n",
    "        lg_file_input,\n",
    "        xl_file_input\n",
    "    )\n",
    "\n",
    "# Run the tests\n",
    "test_file_input_sizes_fasthtml_examples()"
   ]
  },
  {
   "cell_type": "code",
   "execution_count": null,
   "id": "c98ca35d-dc0c-46a9-af54-523d46d702c1",
   "metadata": {},
   "outputs": [
    {
     "data": {
      "text/html": [
       "\n",
       "<script>\n",
       "document.body.addEventListener('htmx:configRequest', (event) => {\n",
       "    if(event.detail.path.includes('://')) return;\n",
       "    htmx.config.selfRequestsOnly=false;\n",
       "    event.detail.path = `${location.protocol}//${location.hostname}:8000${event.detail.path}`;\n",
       "});\n",
       "</script>"
      ],
      "text/plain": [
       "<IPython.core.display.HTML object>"
      ]
     },
     "metadata": {},
     "output_type": "display_data"
    },
    {
     "data": {
      "text/html": [
       "<iframe src=\"http://localhost:8000/\" style=\"width: 100%; height: auto; border: none;\" onload=\"{\n",
       "        let frame = this;\n",
       "        window.addEventListener('message', function(e) {\n",
       "            if (e.source !== frame.contentWindow) return; // Only proceed if the message is from this iframe\n",
       "            if (e.data.height) frame.style.height = (e.data.height+1) + 'px';\n",
       "        }, false);\n",
       "    }\" allow=\"accelerometer; autoplay; camera; clipboard-read; clipboard-write; display-capture; encrypted-media; fullscreen; gamepad; geolocation; gyroscope; hid; identity-credentials-get; idle-detection; magnetometer; microphone; midi; payment; picture-in-picture; publickey-credentials-get; screen-wake-lock; serial; usb; web-share; xr-spatial-tracking\"></iframe> "
      ],
      "text/plain": [
       "<IPython.core.display.HTML object>"
      ]
     },
     "metadata": {},
     "output_type": "display_data"
    }
   ],
   "source": [
    "#| eval: false\n",
    "test_func = test_file_input_sizes_fasthtml_examples\n",
    "app, rt = create_test_app(theme=DaisyUITheme.LIGHT)\n",
    "\n",
    "@rt\n",
    "def index():\n",
    "    return create_test_page(test_func.__doc__.title().replace('.', ''), test_func())\n",
    "server = start_test_server(app)\n",
    "display(HTMX())\n",
    "server.stop()"
   ]
  },
  {
   "cell_type": "code",
   "execution_count": null,
   "id": "aa4d31af-ae04-4a5d-bde3-1277f192a6d2",
   "metadata": {},
   "outputs": [
    {
     "data": {
      "text/markdown": [
       "```html\n",
       "<div>\n",
       "  <input type=\"file\" class=\"file-input file-input-primary\">\n",
       "  <input type=\"file\" class=\"file-input file-input-secondary\">\n",
       "  <input type=\"file\" class=\"file-input file-input-accent\">\n",
       "  <input type=\"file\" class=\"file-input file-input-neutral\">\n",
       "  <input type=\"file\" class=\"file-input file-input-info\">\n",
       "  <input type=\"file\" class=\"file-input file-input-success\">\n",
       "  <input type=\"file\" class=\"file-input file-input-warning\">\n",
       "  <input type=\"file\" class=\"file-input file-input-error\">\n",
       "</div>\n",
       "\n",
       "```"
      ],
      "text/plain": [
       "div((input((),{'type': 'file', 'class': 'file-input file-input-primary'}), input((),{'type': 'file', 'class': 'file-input file-input-secondary'}), input((),{'type': 'file', 'class': 'file-input file-input-accent'}), input((),{'type': 'file', 'class': 'file-input file-input-neutral'}), input((),{'type': 'file', 'class': 'file-input file-input-info'}), input((),{'type': 'file', 'class': 'file-input file-input-success'}), input((),{'type': 'file', 'class': 'file-input file-input-warning'}), input((),{'type': 'file', 'class': 'file-input file-input-error'})),{})"
      ]
     },
     "execution_count": null,
     "metadata": {},
     "output_type": "execute_result"
    }
   ],
   "source": [
    "#| export\n",
    "def test_file_input_colors_fasthtml_examples():\n",
    "    \"\"\"Test file input color variations from daisyUI v5 documentation.\"\"\"\n",
    "    from fasthtml.common import Input, Div\n",
    "    \n",
    "    # Primary color file input\n",
    "    primary_file_input = Input(\n",
    "        type=\"file\",\n",
    "        cls=combine_classes(file_input, file_input_colors.primary)\n",
    "    )\n",
    "    assert primary_file_input.tag == \"input\"\n",
    "    assert primary_file_input.attrs['type'] == \"file\"\n",
    "    assert \"file-input\" in primary_file_input.attrs['class']\n",
    "    assert \"file-input-primary\" in primary_file_input.attrs['class']\n",
    "    \n",
    "    # Secondary color file input\n",
    "    secondary_file_input = Input(\n",
    "        type=\"file\",\n",
    "        cls=combine_classes(file_input, file_input_colors.secondary)\n",
    "    )\n",
    "    assert \"file-input\" in secondary_file_input.attrs['class']\n",
    "    assert \"file-input-secondary\" in secondary_file_input.attrs['class']\n",
    "    \n",
    "    # Accent color file input\n",
    "    accent_file_input = Input(\n",
    "        type=\"file\",\n",
    "        cls=combine_classes(file_input, file_input_colors.accent)\n",
    "    )\n",
    "    assert \"file-input\" in accent_file_input.attrs['class']\n",
    "    assert \"file-input-accent\" in accent_file_input.attrs['class']\n",
    "    \n",
    "    # Neutral color file input\n",
    "    neutral_file_input = Input(\n",
    "        type=\"file\",\n",
    "        cls=combine_classes(file_input, file_input_colors.neutral)\n",
    "    )\n",
    "    assert \"file-input\" in neutral_file_input.attrs['class']\n",
    "    assert \"file-input-neutral\" in neutral_file_input.attrs['class']\n",
    "    \n",
    "    # Info color file input\n",
    "    info_file_input = Input(\n",
    "        type=\"file\",\n",
    "        cls=combine_classes(file_input, file_input_colors.info)\n",
    "    )\n",
    "    assert \"file-input\" in info_file_input.attrs['class']\n",
    "    assert \"file-input-info\" in info_file_input.attrs['class']\n",
    "    \n",
    "    # Success color file input\n",
    "    success_file_input = Input(\n",
    "        type=\"file\",\n",
    "        cls=combine_classes(file_input, file_input_colors.success)\n",
    "    )\n",
    "    assert \"file-input\" in success_file_input.attrs['class']\n",
    "    assert \"file-input-success\" in success_file_input.attrs['class']\n",
    "    \n",
    "    # Warning color file input\n",
    "    warning_file_input = Input(\n",
    "        type=\"file\",\n",
    "        cls=combine_classes(file_input, file_input_colors.warning)\n",
    "    )\n",
    "    assert \"file-input\" in warning_file_input.attrs['class']\n",
    "    assert \"file-input-warning\" in warning_file_input.attrs['class']\n",
    "    \n",
    "    # Error color file input\n",
    "    error_file_input = Input(\n",
    "        type=\"file\",\n",
    "        cls=combine_classes(file_input, file_input_colors.error)\n",
    "    )\n",
    "    assert \"file-input\" in error_file_input.attrs['class']\n",
    "    assert \"file-input-error\" in error_file_input.attrs['class']\n",
    "    \n",
    "    # Return all elements in a Div\n",
    "    return Div(\n",
    "        primary_file_input,\n",
    "        secondary_file_input,\n",
    "        accent_file_input,\n",
    "        neutral_file_input,\n",
    "        info_file_input,\n",
    "        success_file_input,\n",
    "        warning_file_input,\n",
    "        error_file_input\n",
    "    )\n",
    "\n",
    "# Run the tests\n",
    "test_file_input_colors_fasthtml_examples()"
   ]
  },
  {
   "cell_type": "code",
   "execution_count": null,
   "id": "a6ff01ec-7d6a-4cdc-acfa-853ed7310420",
   "metadata": {},
   "outputs": [
    {
     "data": {
      "text/html": [
       "\n",
       "<script>\n",
       "document.body.addEventListener('htmx:configRequest', (event) => {\n",
       "    if(event.detail.path.includes('://')) return;\n",
       "    htmx.config.selfRequestsOnly=false;\n",
       "    event.detail.path = `${location.protocol}//${location.hostname}:8000${event.detail.path}`;\n",
       "});\n",
       "</script>"
      ],
      "text/plain": [
       "<IPython.core.display.HTML object>"
      ]
     },
     "metadata": {},
     "output_type": "display_data"
    },
    {
     "data": {
      "text/html": [
       "<iframe src=\"http://localhost:8000/\" style=\"width: 100%; height: auto; border: none;\" onload=\"{\n",
       "        let frame = this;\n",
       "        window.addEventListener('message', function(e) {\n",
       "            if (e.source !== frame.contentWindow) return; // Only proceed if the message is from this iframe\n",
       "            if (e.data.height) frame.style.height = (e.data.height+1) + 'px';\n",
       "        }, false);\n",
       "    }\" allow=\"accelerometer; autoplay; camera; clipboard-read; clipboard-write; display-capture; encrypted-media; fullscreen; gamepad; geolocation; gyroscope; hid; identity-credentials-get; idle-detection; magnetometer; microphone; midi; payment; picture-in-picture; publickey-credentials-get; screen-wake-lock; serial; usb; web-share; xr-spatial-tracking\"></iframe> "
      ],
      "text/plain": [
       "<IPython.core.display.HTML object>"
      ]
     },
     "metadata": {},
     "output_type": "display_data"
    }
   ],
   "source": [
    "#| eval: false\n",
    "test_func = test_file_input_colors_fasthtml_examples\n",
    "app, rt = create_test_app(theme=DaisyUITheme.LIGHT)\n",
    "\n",
    "@rt\n",
    "def index():\n",
    "    return create_test_page(test_func.__doc__.title().replace('.', ''), test_func())\n",
    "server = start_test_server(app)\n",
    "display(HTMX())\n",
    "server.stop()"
   ]
  },
  {
   "cell_type": "code",
   "execution_count": null,
   "id": "9fb77a5c-a54c-4cf8-86c6-db665a283d5c",
   "metadata": {},
   "outputs": [
    {
     "data": {
      "text/markdown": [
       "```html\n",
       "<div>\n",
       "  <input type=\"file\" placeholder=\"You can't touch this\" disabled class=\"file-input\">\n",
       "</div>\n",
       "\n",
       "```"
      ],
      "text/plain": [
       "div((input((),{'type': 'file', 'placeholder': \"You can't touch this\", 'disabled': True, 'class': 'file-input'}),),{})"
      ]
     },
     "execution_count": null,
     "metadata": {},
     "output_type": "execute_result"
    }
   ],
   "source": [
    "#| export\n",
    "def test_file_input_states_fasthtml_examples():\n",
    "    \"\"\"Test disabled file input from daisyUI v5 documentation.\"\"\"\n",
    "    from fasthtml.common import Input, Div\n",
    "    \n",
    "    # Disabled file input\n",
    "    disabled_file_input = Input(\n",
    "        type=\"file\",\n",
    "        placeholder=\"You can't touch this\",\n",
    "        cls=str(file_input),\n",
    "        disabled=True\n",
    "    )\n",
    "    \n",
    "    # Verify structure\n",
    "    assert disabled_file_input.tag == \"input\"\n",
    "    assert disabled_file_input.attrs['type'] == \"file\"\n",
    "    assert disabled_file_input.attrs['placeholder'] == \"You can't touch this\"\n",
    "    assert disabled_file_input.attrs['class'] == \"file-input\"\n",
    "    assert disabled_file_input.attrs['disabled'] == True\n",
    "    \n",
    "    # Return element in a Div\n",
    "    return Div(disabled_file_input)\n",
    "\n",
    "# Run the tests\n",
    "test_file_input_states_fasthtml_examples()"
   ]
  },
  {
   "cell_type": "code",
   "execution_count": null,
   "id": "8f78e372-47fa-409d-9226-28e4916ee5f3",
   "metadata": {},
   "outputs": [
    {
     "data": {
      "text/html": [
       "\n",
       "<script>\n",
       "document.body.addEventListener('htmx:configRequest', (event) => {\n",
       "    if(event.detail.path.includes('://')) return;\n",
       "    htmx.config.selfRequestsOnly=false;\n",
       "    event.detail.path = `${location.protocol}//${location.hostname}:8000${event.detail.path}`;\n",
       "});\n",
       "</script>"
      ],
      "text/plain": [
       "<IPython.core.display.HTML object>"
      ]
     },
     "metadata": {},
     "output_type": "display_data"
    },
    {
     "data": {
      "text/html": [
       "<iframe src=\"http://localhost:8000/\" style=\"width: 100%; height: auto; border: none;\" onload=\"{\n",
       "        let frame = this;\n",
       "        window.addEventListener('message', function(e) {\n",
       "            if (e.source !== frame.contentWindow) return; // Only proceed if the message is from this iframe\n",
       "            if (e.data.height) frame.style.height = (e.data.height+1) + 'px';\n",
       "        }, false);\n",
       "    }\" allow=\"accelerometer; autoplay; camera; clipboard-read; clipboard-write; display-capture; encrypted-media; fullscreen; gamepad; geolocation; gyroscope; hid; identity-credentials-get; idle-detection; magnetometer; microphone; midi; payment; picture-in-picture; publickey-credentials-get; screen-wake-lock; serial; usb; web-share; xr-spatial-tracking\"></iframe> "
      ],
      "text/plain": [
       "<IPython.core.display.HTML object>"
      ]
     },
     "metadata": {},
     "output_type": "display_data"
    }
   ],
   "source": [
    "#| eval: false\n",
    "test_func = test_file_input_states_fasthtml_examples\n",
    "app, rt = create_test_app(theme=DaisyUITheme.LIGHT)\n",
    "\n",
    "@rt\n",
    "def index():\n",
    "    return create_test_page(test_func.__doc__.title().replace('.', ''), test_func())\n",
    "server = start_test_server(app)\n",
    "display(HTMX())\n",
    "server.stop()"
   ]
  },
  {
   "cell_type": "code",
   "execution_count": null,
   "id": "8311dc86-0532-47be-bbab-7c572fe7e3fc",
   "metadata": {},
   "outputs": [],
   "source": []
  },
  {
   "cell_type": "code",
   "execution_count": null,
   "id": "5fcbfe9a-2d96-47c9-9c46-cb14aa578f50",
   "metadata": {},
   "outputs": [],
   "source": []
  },
  {
   "cell_type": "code",
   "execution_count": null,
   "id": "5b0aa2b6-44d2-428b-9b4d-44ee867b9a56",
   "metadata": {},
   "outputs": [],
   "source": []
  },
  {
   "cell_type": "code",
   "execution_count": null,
   "id": "0aeec7ed-ced8-4546-958b-06258f587814",
   "metadata": {},
   "outputs": [],
   "source": []
  },
  {
   "cell_type": "code",
   "execution_count": null,
   "id": "c1a0a08b-84d5-4138-98f7-1e44d1cfc1a5",
   "metadata": {},
   "outputs": [],
   "source": []
  },
  {
   "cell_type": "code",
   "execution_count": null,
   "id": "353ff8a1-a1e9-48ea-b1c0-6330233655e6",
   "metadata": {},
   "outputs": [],
   "source": []
  },
  {
   "cell_type": "code",
   "execution_count": null,
   "id": "86f40412-1531-4d2e-b93e-c0b989e31895",
   "metadata": {},
   "outputs": [],
   "source": []
  },
  {
   "cell_type": "code",
   "execution_count": null,
   "id": "cea3ed86-7540-4706-8372-91a1b5cda163",
   "metadata": {},
   "outputs": [],
   "source": []
  },
  {
   "cell_type": "code",
   "execution_count": null,
   "id": "c3e626ff-4d84-4a23-a44e-62d3dc9cfa88",
   "metadata": {},
   "outputs": [],
   "source": []
  },
  {
   "cell_type": "code",
   "execution_count": null,
   "id": "3b30f014-2571-4a3a-985c-e65afef09a1c",
   "metadata": {},
   "outputs": [],
   "source": []
  },
  {
   "cell_type": "code",
   "execution_count": null,
   "id": "c9dfaad9-504c-4853-886b-2d1adb1cc3a0",
   "metadata": {},
   "outputs": [],
   "source": []
  },
  {
   "cell_type": "code",
   "execution_count": null,
   "id": "454d5b84-fc57-44ab-a6f0-3123333998cb",
   "metadata": {},
   "outputs": [],
   "source": []
  },
  {
   "cell_type": "code",
   "execution_count": null,
   "id": "d471d21b-6fe5-4c63-90be-5176c4cbd08b",
   "metadata": {},
   "outputs": [],
   "source": []
  },
  {
   "cell_type": "code",
   "execution_count": null,
   "id": "73b88b7e-0be6-4a82-9c02-f3df8af20015",
   "metadata": {},
   "outputs": [],
   "source": []
  },
  {
   "cell_type": "code",
   "execution_count": null,
   "id": "7ab8257a-c30b-45b6-a784-729b67686791",
   "metadata": {},
   "outputs": [],
   "source": [
    "#| hide\n",
    "import nbdev; nbdev.nbdev_export()"
   ]
  }
 ],
 "metadata": {
  "kernelspec": {
   "display_name": "python3",
   "language": "python",
   "name": "python3"
  }
 },
 "nbformat": 4,
 "nbformat_minor": 5
}
