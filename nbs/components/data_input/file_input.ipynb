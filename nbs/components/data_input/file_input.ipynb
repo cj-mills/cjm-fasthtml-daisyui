{
 "cells": [
  {
   "cell_type": "markdown",
   "id": "7c51b46b-ece1-456d-8e84-7de122e72b62",
   "metadata": {},
   "source": [
    "# file input\n",
    "\n",
    "> File Input is a an input field for uploading files."
   ]
  },
  {
   "cell_type": "code",
   "execution_count": null,
   "id": "25536bdc-e099-477f-9e2d-a5f71df5dff2",
   "metadata": {},
   "outputs": [],
   "source": [
    "#| default_exp components.data_input.file_input"
   ]
  },
  {
   "cell_type": "code",
   "execution_count": null,
   "id": "2e6f21ce-7766-455a-8ebb-df2c17e7d977",
   "metadata": {},
   "outputs": [],
   "source": [
    "#| hide\n",
    "from nbdev.showdoc import *"
   ]
  },
  {
   "cell_type": "code",
   "execution_count": null,
   "id": "045c6538-403e-4222-b3bb-db20f188524d",
   "metadata": {},
   "outputs": [],
   "source": [
    "#| export\n",
    "\n",
    "from typing import Optional, Dict, Any, Union\n",
    "from cjm_fasthtml_tailwind.core.base import (\n",
    "    SingleValueFactory, combine_classes\n",
    ")\n",
    "from cjm_fasthtml_tailwind.builders.scales import SimpleFactory, enums_to_simple_factory\n",
    "\n",
    "from cjm_fasthtml_daisyui.builders.colors import SemanticColorBrand, SemanticColorStatus\n",
    "from cjm_fasthtml_daisyui.builders.sizes import DaisyUINamedSize\n",
    "from cjm_fasthtml_daisyui.builders.styles import GhostStyle\n",
    "\n",
    "from fasthtml.common import Div\n",
    "from fasthtml.jupyter import JupyUvi, HTMX\n",
    "from cjm_fasthtml_daisyui.core.testing import create_test_app, create_test_page, start_test_server\n",
    "from cjm_fasthtml_daisyui.core.themes import DaisyUITheme\n",
    "from IPython.display import display"
   ]
  },
  {
   "cell_type": "markdown",
   "id": "63ebf1e7-ea2a-4873-81d0-b5948d7d208f",
   "metadata": {},
   "source": [
    "### Base File Input"
   ]
  },
  {
   "cell_type": "code",
   "execution_count": null,
   "id": "c802d106-49fb-4d34-ba04-5f54c88e165b",
   "metadata": {},
   "outputs": [],
   "source": [
    "#| export\n",
    "file_input = SingleValueFactory(\"file-input\", \"Base file input component for <input type=\\\"file\\\"> element\") # Base file input component"
   ]
  },
  {
   "cell_type": "markdown",
   "id": "a5c19905-9ebc-4c1f-9794-0ac210ee00b0",
   "metadata": {},
   "source": [
    "### File Input Styles"
   ]
  },
  {
   "cell_type": "code",
   "execution_count": null,
   "id": "ad2d932c-79ea-4792-bdaf-5bda859340ca",
   "metadata": {},
   "outputs": [],
   "source": [
    "#| export\n",
    "file_input_styles = enums_to_simple_factory(file_input, [GhostStyle]) # File input style variants"
   ]
  },
  {
   "cell_type": "markdown",
   "id": "6471365d-a404-43e8-836a-e7985e2ab72c",
   "metadata": {},
   "source": [
    "### File Input Colors"
   ]
  },
  {
   "cell_type": "code",
   "execution_count": null,
   "id": "4666a5a3-26bb-4d91-b5be-f941df8f9d2f",
   "metadata": {},
   "outputs": [],
   "source": [
    "#| export\n",
    "file_input_colors = enums_to_simple_factory(file_input, [SemanticColorBrand, SemanticColorStatus], \"File input color variants using daisyUI semantic colors\") # File input color variants"
   ]
  },
  {
   "cell_type": "markdown",
   "id": "1162331e-9085-4cd7-b75e-14c5edcc917b",
   "metadata": {},
   "source": [
    "### File Input Sizes"
   ]
  },
  {
   "cell_type": "code",
   "execution_count": null,
   "id": "214654cc-9758-48f9-92e2-0892029c4512",
   "metadata": {},
   "outputs": [],
   "source": [
    "#| export\n",
    "file_input_sizes = enums_to_simple_factory(file_input, [DaisyUINamedSize], \"File input size variants from extra small to extra large\") # File input size variants"
   ]
  },
  {
   "cell_type": "markdown",
   "id": "f6a646a3-fded-409c-b09c-498bf04b7b36",
   "metadata": {},
   "source": [
    "### File Input Test Examples"
   ]
  },
  {
   "cell_type": "code",
   "execution_count": null,
   "id": "01785a18-9bb0-4dbc-9eae-04addf6dede9",
   "metadata": {},
   "outputs": [],
   "source": [
    "#| export\n",
    "def test_file_input_basic_examples():\n",
    "    \"\"\"Test basic file_input utilities.\"\"\"\n",
    "    # Basic file_input\n",
    "    assert str(file_input) == \"file-input\"\n",
    "    \n",
    "    # Test with modifiers\n",
    "    assert str(file_input.hover) == \"hover:file-input\"\n",
    "    assert str(file_input.md) == \"md:file-input\"\n",
    "    assert str(file_input.dark) == \"dark:file-input\"\n",
    "\n",
    "# Run the tests\n",
    "test_file_input_basic_examples()"
   ]
  },
  {
   "cell_type": "code",
   "execution_count": null,
   "id": "43a3d5aa-4f07-48f4-b7c3-5c63612f0fb2",
   "metadata": {},
   "outputs": [],
   "source": [
    "#| export\n",
    "def test_file_input_styles_examples():\n",
    "    \"\"\"Test file_input style variants.\"\"\"\n",
    "    assert str(file_input_styles.ghost) == \"file-input-ghost\"\n",
    "\n",
    "# Run the tests\n",
    "test_file_input_styles_examples()"
   ]
  },
  {
   "cell_type": "code",
   "execution_count": null,
   "id": "248adc40-6e77-4203-9830-de838e25a00a",
   "metadata": {},
   "outputs": [],
   "source": [
    "#| export\n",
    "def test_file_input_colors_examples():\n",
    "    \"\"\"Test file_input color variants.\"\"\"\n",
    "    # All color variants\n",
    "    assert str(file_input_colors.neutral) == \"file-input-neutral\"\n",
    "    assert str(file_input_colors.primary) == \"file-input-primary\"\n",
    "    assert str(file_input_colors.secondary) == \"file-input-secondary\"\n",
    "    assert str(file_input_colors.accent) == \"file-input-accent\"\n",
    "    assert str(file_input_colors.info) == \"file-input-info\"\n",
    "    assert str(file_input_colors.success) == \"file-input-success\"\n",
    "    assert str(file_input_colors.warning) == \"file-input-warning\"\n",
    "    assert str(file_input_colors.error) == \"file-input-error\"\n",
    "    \n",
    "    # With modifiers\n",
    "    assert str(file_input_colors.primary.hover) == \"hover:file-input-primary\"\n",
    "    assert str(file_input_colors.success.focus) == \"focus:file-input-success\"\n",
    "\n",
    "# Run the tests\n",
    "test_file_input_colors_examples()"
   ]
  },
  {
   "cell_type": "code",
   "execution_count": null,
   "id": "a2029d6d-bf22-4e16-87e1-d609762dc867",
   "metadata": {},
   "outputs": [],
   "source": [
    "#| export\n",
    "def test_file_input_sizes_examples():\n",
    "    \"\"\"Test file_input size variants.\"\"\"\n",
    "    assert str(file_input_sizes.xs) == \"file-input-xs\"\n",
    "    assert str(file_input_sizes.sm) == \"file-input-sm\"\n",
    "    assert str(file_input_sizes.md) == \"file-input-md\"\n",
    "    assert str(file_input_sizes.lg) == \"file-input-lg\"\n",
    "    assert str(file_input_sizes.xl) == \"file-input-xl\"\n",
    "    \n",
    "    # With responsive modifiers\n",
    "    assert str(file_input_sizes.xs.sm) == \"sm:file-input-xs\"\n",
    "    assert str(file_input_sizes.lg.md) == \"md:file-input-lg\"\n",
    "\n",
    "# Run the tests\n",
    "test_file_input_sizes_examples()"
   ]
  },
  {
   "cell_type": "code",
   "execution_count": null,
   "id": "c9dfaad9-504c-4853-886b-2d1adb1cc3a0",
   "metadata": {},
   "outputs": [],
   "source": []
  },
  {
   "cell_type": "code",
   "execution_count": null,
   "id": "454d5b84-fc57-44ab-a6f0-3123333998cb",
   "metadata": {},
   "outputs": [],
   "source": []
  },
  {
   "cell_type": "code",
   "execution_count": null,
   "id": "d471d21b-6fe5-4c63-90be-5176c4cbd08b",
   "metadata": {},
   "outputs": [],
   "source": []
  },
  {
   "cell_type": "code",
   "execution_count": null,
   "id": "73b88b7e-0be6-4a82-9c02-f3df8af20015",
   "metadata": {},
   "outputs": [],
   "source": []
  },
  {
   "cell_type": "code",
   "execution_count": null,
   "id": "7ab8257a-c30b-45b6-a784-729b67686791",
   "metadata": {},
   "outputs": [],
   "source": [
    "#| hide\n",
    "import nbdev; nbdev.nbdev_export()"
   ]
  }
 ],
 "metadata": {
  "kernelspec": {
   "display_name": "python3",
   "language": "python",
   "name": "python3"
  }
 },
 "nbformat": 4,
 "nbformat_minor": 5
}
