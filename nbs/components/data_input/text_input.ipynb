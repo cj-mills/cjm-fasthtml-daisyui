{
 "cells": [
  {
   "cell_type": "markdown",
   "id": "7c51b46b-ece1-456d-8e84-7de122e72b62",
   "metadata": {},
   "source": [
    "# text input\n",
    "\n",
    "> Text Input is a simple input field."
   ]
  },
  {
   "cell_type": "code",
   "execution_count": null,
   "id": "25536bdc-e099-477f-9e2d-a5f71df5dff2",
   "metadata": {},
   "outputs": [],
   "source": [
    "#| default_exp components.data_input.text_input"
   ]
  },
  {
   "cell_type": "code",
   "execution_count": null,
   "id": "2e6f21ce-7766-455a-8ebb-df2c17e7d977",
   "metadata": {},
   "outputs": [],
   "source": [
    "#| hide\n",
    "from nbdev.showdoc import *"
   ]
  },
  {
   "cell_type": "code",
   "execution_count": null,
   "id": "045c6538-403e-4222-b3bb-db20f188524d",
   "metadata": {},
   "outputs": [],
   "source": [
    "#| export\n",
    "\n",
    "from cjm_fasthtml_tailwind.core.base import (\n",
    "    SingleValueFactory, combine_classes\n",
    ")\n",
    "from cjm_fasthtml_tailwind.builders.scales import SimpleFactory, enums_to_simple_factory\n",
    "\n",
    "from cjm_fasthtml_daisyui.builders.colors import SemanticColorBrand, SemanticColorStatus\n",
    "from cjm_fasthtml_daisyui.builders.sizes import DaisyUINamedSize\n",
    "from cjm_fasthtml_daisyui.builders.styles import GhostStyle\n",
    "\n",
    "from fasthtml.common import Div\n",
    "from fasthtml.jupyter import JupyUvi, HTMX\n",
    "from cjm_fasthtml_daisyui.core.testing import create_test_app, create_test_page, start_test_server\n",
    "from cjm_fasthtml_daisyui.core.themes import DaisyUITheme\n",
    "from IPython.display import display"
   ]
  },
  {
   "cell_type": "markdown",
   "id": "b6fc4960-3395-401f-aeba-6caaac3e3151",
   "metadata": {},
   "source": [
    "### Base Text Input"
   ]
  },
  {
   "cell_type": "code",
   "execution_count": null,
   "id": "c802d106-49fb-4d34-ba04-5f54c88e165b",
   "metadata": {},
   "outputs": [],
   "source": [
    "#| export\n",
    "text_input = SingleValueFactory(\"input\", \"Base text_input component for <input type=\\\"text\\\"> tag or a wrapper of <input type=\\\"text\\\"> tag\") # Base text_input component"
   ]
  },
  {
   "cell_type": "markdown",
   "id": "a753f100-1abe-44d3-b159-2e0a7da453f6",
   "metadata": {},
   "source": [
    "### Text Input Styles"
   ]
  },
  {
   "cell_type": "code",
   "execution_count": null,
   "id": "636c6bcd-2176-4191-aa39-c937893243e2",
   "metadata": {},
   "outputs": [],
   "source": [
    "#| export\n",
    "text_input_styles = enums_to_simple_factory(text_input, [GhostStyle]) # text_input style variants"
   ]
  },
  {
   "cell_type": "markdown",
   "id": "78ab6915-11a1-47b6-9394-c00e05bd6f92",
   "metadata": {},
   "source": [
    "### Text Input Colors"
   ]
  },
  {
   "cell_type": "code",
   "execution_count": null,
   "id": "ad2d932c-79ea-4792-bdaf-5bda859340ca",
   "metadata": {},
   "outputs": [],
   "source": [
    "#| export\n",
    "text_input_colors = enums_to_simple_factory(text_input, [SemanticColorBrand, SemanticColorStatus], \"text_input color variants using daisyUI semantic colors\") # text_input color variants"
   ]
  },
  {
   "cell_type": "markdown",
   "id": "3966d038-f477-4d1c-95bb-4eaf436041b9",
   "metadata": {},
   "source": [
    "### Text Input Sizes"
   ]
  },
  {
   "cell_type": "code",
   "execution_count": null,
   "id": "3035ff66-e4e7-410c-8b1e-86a879f66112",
   "metadata": {},
   "outputs": [],
   "source": [
    "#| export\n",
    "text_input_sizes = enums_to_simple_factory(text_input, [DaisyUINamedSize], \"text_input size variants from extra small to extra large\") # text_input size variants"
   ]
  },
  {
   "cell_type": "markdown",
   "id": "25da2889-a119-4c3d-916e-6345e9cb2677",
   "metadata": {},
   "source": [
    "### Text Input Test Examples"
   ]
  },
  {
   "cell_type": "code",
   "execution_count": null,
   "id": "85d72161-e718-4c66-bc59-a3569b7f7616",
   "metadata": {},
   "outputs": [],
   "source": [
    "#| export\n",
    "def test_text_input_basic_examples():\n",
    "    \"\"\"Test basic text_input utilities.\"\"\"\n",
    "    # Basic text_input\n",
    "    assert str(text_input) == \"input\"\n",
    "    \n",
    "    # Test with modifiers\n",
    "    assert str(text_input.hover) == \"hover:input\"\n",
    "    assert str(text_input.md) == \"md:input\"\n",
    "    assert str(text_input.dark) == \"dark:input\"\n",
    "\n",
    "# Run the tests\n",
    "test_text_input_basic_examples()"
   ]
  },
  {
   "cell_type": "code",
   "execution_count": null,
   "id": "214654cc-9758-48f9-92e2-0892029c4512",
   "metadata": {},
   "outputs": [],
   "source": [
    "#| export\n",
    "def test_text_input_styles_examples():\n",
    "    \"\"\"Test text_input style variants.\"\"\"\n",
    "    assert str(text_input_styles.ghost) == \"input-ghost\"\n",
    "\n",
    "# Run the tests\n",
    "test_text_input_styles_examples()"
   ]
  },
  {
   "cell_type": "code",
   "execution_count": null,
   "id": "a9d78aa3-0be8-49e6-8bfb-cb9a232ee1ee",
   "metadata": {},
   "outputs": [],
   "source": [
    "#| export\n",
    "def test_text_input_colors_examples():\n",
    "    \"\"\"Test text_input color variants.\"\"\"\n",
    "    # All color variants\n",
    "    assert str(text_input_colors.neutral) == \"input-neutral\"\n",
    "    assert str(text_input_colors.primary) == \"input-primary\"\n",
    "    assert str(text_input_colors.secondary) == \"input-secondary\"\n",
    "    assert str(text_input_colors.accent) == \"input-accent\"\n",
    "    assert str(text_input_colors.info) == \"input-info\"\n",
    "    assert str(text_input_colors.success) == \"input-success\"\n",
    "    assert str(text_input_colors.warning) == \"input-warning\"\n",
    "    assert str(text_input_colors.error) == \"input-error\"\n",
    "    \n",
    "    # With modifiers\n",
    "    assert str(text_input_colors.primary.hover) == \"hover:input-primary\"\n",
    "    assert str(text_input_colors.success.focus) == \"focus:input-success\"\n",
    "\n",
    "# Run the tests\n",
    "test_text_input_colors_examples()"
   ]
  },
  {
   "cell_type": "code",
   "execution_count": null,
   "id": "01785a18-9bb0-4dbc-9eae-04addf6dede9",
   "metadata": {},
   "outputs": [],
   "source": [
    "#| export\n",
    "def test_text_input_sizes_examples():\n",
    "    \"\"\"Test text_input size variants.\"\"\"\n",
    "    assert str(text_input_sizes.xs) == \"input-xs\"\n",
    "    assert str(text_input_sizes.sm) == \"input-sm\"\n",
    "    assert str(text_input_sizes.md) == \"input-md\"\n",
    "    assert str(text_input_sizes.lg) == \"input-lg\"\n",
    "    assert str(text_input_sizes.xl) == \"input-xl\"\n",
    "    \n",
    "    # With responsive modifiers\n",
    "    assert str(text_input_sizes.xs.sm) == \"sm:input-xs\"\n",
    "    assert str(text_input_sizes.lg.md) == \"md:input-lg\"\n",
    "\n",
    "# Run the tests\n",
    "test_text_input_sizes_examples()"
   ]
  },
  {
   "cell_type": "code",
   "execution_count": null,
   "id": "43a3d5aa-4f07-48f4-b7c3-5c63612f0fb2",
   "metadata": {},
   "outputs": [],
   "source": []
  },
  {
   "cell_type": "code",
   "execution_count": null,
   "id": "248adc40-6e77-4203-9830-de838e25a00a",
   "metadata": {},
   "outputs": [],
   "source": []
  },
  {
   "cell_type": "code",
   "execution_count": null,
   "id": "a2029d6d-bf22-4e16-87e1-d609762dc867",
   "metadata": {},
   "outputs": [],
   "source": []
  },
  {
   "cell_type": "code",
   "execution_count": null,
   "id": "c9dfaad9-504c-4853-886b-2d1adb1cc3a0",
   "metadata": {},
   "outputs": [],
   "source": []
  },
  {
   "cell_type": "code",
   "execution_count": null,
   "id": "454d5b84-fc57-44ab-a6f0-3123333998cb",
   "metadata": {},
   "outputs": [],
   "source": []
  },
  {
   "cell_type": "code",
   "execution_count": null,
   "id": "d471d21b-6fe5-4c63-90be-5176c4cbd08b",
   "metadata": {},
   "outputs": [],
   "source": []
  },
  {
   "cell_type": "code",
   "execution_count": null,
   "id": "73b88b7e-0be6-4a82-9c02-f3df8af20015",
   "metadata": {},
   "outputs": [],
   "source": []
  },
  {
   "cell_type": "code",
   "execution_count": null,
   "id": "7ab8257a-c30b-45b6-a784-729b67686791",
   "metadata": {},
   "outputs": [],
   "source": [
    "#| hide\n",
    "import nbdev; nbdev.nbdev_export()"
   ]
  }
 ],
 "metadata": {
  "kernelspec": {
   "display_name": "python3",
   "language": "python",
   "name": "python3"
  }
 },
 "nbformat": 4,
 "nbformat_minor": 5
}
