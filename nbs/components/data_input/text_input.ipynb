{
 "cells": [
  {
   "cell_type": "markdown",
   "id": "7c51b46b-ece1-456d-8e84-7de122e72b62",
   "metadata": {},
   "source": [
    "# text input\n",
    "\n",
    "> Text Input is a simple input field."
   ]
  },
  {
   "cell_type": "code",
   "execution_count": null,
   "id": "25536bdc-e099-477f-9e2d-a5f71df5dff2",
   "metadata": {},
   "outputs": [],
   "source": [
    "#| default_exp components.data_input.text_input"
   ]
  },
  {
   "cell_type": "code",
   "execution_count": null,
   "id": "2e6f21ce-7766-455a-8ebb-df2c17e7d977",
   "metadata": {},
   "outputs": [],
   "source": [
    "#| hide\n",
    "from nbdev.showdoc import *"
   ]
  },
  {
   "cell_type": "code",
   "execution_count": null,
   "id": "045c6538-403e-4222-b3bb-db20f188524d",
   "metadata": {},
   "outputs": [],
   "source": [
    "#| export\n",
    "\n",
    "from cjm_fasthtml_tailwind.core.base import (\n",
    "    SingleValueFactory, combine_classes\n",
    ")\n",
    "from cjm_fasthtml_tailwind.builders.scales import SimpleFactory, enums_to_simple_factory\n",
    "\n",
    "from cjm_fasthtml_daisyui.builders.colors import SemanticColorBrand, SemanticColorStatus\n",
    "from cjm_fasthtml_daisyui.builders.sizes import DaisyUINamedSize\n",
    "from cjm_fasthtml_daisyui.builders.styles import GhostStyle\n",
    "\n",
    "from fasthtml.common import Div\n",
    "from fasthtml.jupyter import JupyUvi, HTMX\n",
    "from cjm_fasthtml_daisyui.core.testing import create_test_app, create_test_page, start_test_server\n",
    "from cjm_fasthtml_daisyui.core.themes import DaisyUITheme\n",
    "from IPython.display import display"
   ]
  },
  {
   "cell_type": "markdown",
   "id": "b6fc4960-3395-401f-aeba-6caaac3e3151",
   "metadata": {},
   "source": [
    "### Base Text Input"
   ]
  },
  {
   "cell_type": "code",
   "execution_count": null,
   "id": "c802d106-49fb-4d34-ba04-5f54c88e165b",
   "metadata": {},
   "outputs": [],
   "source": [
    "#| export\n",
    "text_input = SingleValueFactory(\"input\", \"Base text_input component for <input type=\\\"text\\\"> tag or a wrapper of <input type=\\\"text\\\"> tag\") # Base text_input component"
   ]
  },
  {
   "cell_type": "markdown",
   "id": "a753f100-1abe-44d3-b159-2e0a7da453f6",
   "metadata": {},
   "source": [
    "### Text Input Styles"
   ]
  },
  {
   "cell_type": "code",
   "execution_count": null,
   "id": "636c6bcd-2176-4191-aa39-c937893243e2",
   "metadata": {},
   "outputs": [],
   "source": [
    "#| export\n",
    "text_input_styles = enums_to_simple_factory(text_input, [GhostStyle]) # text_input style variants"
   ]
  },
  {
   "cell_type": "markdown",
   "id": "78ab6915-11a1-47b6-9394-c00e05bd6f92",
   "metadata": {},
   "source": [
    "### Text Input Colors"
   ]
  },
  {
   "cell_type": "code",
   "execution_count": null,
   "id": "ad2d932c-79ea-4792-bdaf-5bda859340ca",
   "metadata": {},
   "outputs": [],
   "source": [
    "#| export\n",
    "text_input_colors = enums_to_simple_factory(text_input, [SemanticColorBrand, SemanticColorStatus], \"text_input color variants using daisyUI semantic colors\") # text_input color variants"
   ]
  },
  {
   "cell_type": "markdown",
   "id": "3966d038-f477-4d1c-95bb-4eaf436041b9",
   "metadata": {},
   "source": [
    "### Text Input Sizes"
   ]
  },
  {
   "cell_type": "code",
   "execution_count": null,
   "id": "3035ff66-e4e7-410c-8b1e-86a879f66112",
   "metadata": {},
   "outputs": [],
   "source": [
    "#| export\n",
    "text_input_sizes = enums_to_simple_factory(text_input, [DaisyUINamedSize], \"text_input size variants from extra small to extra large\") # text_input size variants"
   ]
  },
  {
   "cell_type": "markdown",
   "id": "25da2889-a119-4c3d-916e-6345e9cb2677",
   "metadata": {},
   "source": [
    "### Text Input Test Examples"
   ]
  },
  {
   "cell_type": "code",
   "execution_count": null,
   "id": "85d72161-e718-4c66-bc59-a3569b7f7616",
   "metadata": {},
   "outputs": [],
   "source": [
    "#| export\n",
    "def test_text_input_basic_examples():\n",
    "    \"\"\"Test basic text_input utilities.\"\"\"\n",
    "    # Basic text_input\n",
    "    assert str(text_input) == \"input\"\n",
    "    \n",
    "    # Test with modifiers\n",
    "    assert str(text_input.hover) == \"hover:input\"\n",
    "    assert str(text_input.md) == \"md:input\"\n",
    "    assert str(text_input.dark) == \"dark:input\"\n",
    "\n",
    "# Run the tests\n",
    "test_text_input_basic_examples()"
   ]
  },
  {
   "cell_type": "code",
   "execution_count": null,
   "id": "214654cc-9758-48f9-92e2-0892029c4512",
   "metadata": {},
   "outputs": [],
   "source": [
    "#| export\n",
    "def test_text_input_styles_examples():\n",
    "    \"\"\"Test text_input style variants.\"\"\"\n",
    "    assert str(text_input_styles.ghost) == \"input-ghost\"\n",
    "\n",
    "# Run the tests\n",
    "test_text_input_styles_examples()"
   ]
  },
  {
   "cell_type": "code",
   "execution_count": null,
   "id": "a9d78aa3-0be8-49e6-8bfb-cb9a232ee1ee",
   "metadata": {},
   "outputs": [],
   "source": [
    "#| export\n",
    "def test_text_input_colors_examples():\n",
    "    \"\"\"Test text_input color variants.\"\"\"\n",
    "    # All color variants\n",
    "    assert str(text_input_colors.neutral) == \"input-neutral\"\n",
    "    assert str(text_input_colors.primary) == \"input-primary\"\n",
    "    assert str(text_input_colors.secondary) == \"input-secondary\"\n",
    "    assert str(text_input_colors.accent) == \"input-accent\"\n",
    "    assert str(text_input_colors.info) == \"input-info\"\n",
    "    assert str(text_input_colors.success) == \"input-success\"\n",
    "    assert str(text_input_colors.warning) == \"input-warning\"\n",
    "    assert str(text_input_colors.error) == \"input-error\"\n",
    "    \n",
    "    # With modifiers\n",
    "    assert str(text_input_colors.primary.hover) == \"hover:input-primary\"\n",
    "    assert str(text_input_colors.success.focus) == \"focus:input-success\"\n",
    "\n",
    "# Run the tests\n",
    "test_text_input_colors_examples()"
   ]
  },
  {
   "cell_type": "code",
   "execution_count": null,
   "id": "01785a18-9bb0-4dbc-9eae-04addf6dede9",
   "metadata": {},
   "outputs": [],
   "source": [
    "#| export\n",
    "def test_text_input_sizes_examples():\n",
    "    \"\"\"Test text_input size variants.\"\"\"\n",
    "    assert str(text_input_sizes.xs) == \"input-xs\"\n",
    "    assert str(text_input_sizes.sm) == \"input-sm\"\n",
    "    assert str(text_input_sizes.md) == \"input-md\"\n",
    "    assert str(text_input_sizes.lg) == \"input-lg\"\n",
    "    assert str(text_input_sizes.xl) == \"input-xl\"\n",
    "    \n",
    "    # With responsive modifiers\n",
    "    assert str(text_input_sizes.xs.sm) == \"sm:input-xs\"\n",
    "    assert str(text_input_sizes.lg.md) == \"md:input-lg\"\n",
    "\n",
    "# Run the tests\n",
    "test_text_input_sizes_examples()"
   ]
  },
  {
   "cell_type": "code",
   "execution_count": null,
   "id": "43a3d5aa-4f07-48f4-b7c3-5c63612f0fb2",
   "metadata": {},
   "outputs": [
    {
     "data": {
      "text/markdown": [
       "```html\n",
       "<div>\n",
       "  <input type=\"text\" placeholder=\"Type here\" class=\"input\">\n",
       "  <input type=\"text\" placeholder=\"You can't touch this\" disabled class=\"input\">\n",
       "</div>\n",
       "\n",
       "```"
      ],
      "text/plain": [
       "div((input((),{'type': 'text', 'placeholder': 'Type here', 'class': 'input'}), input((),{'type': 'text', 'placeholder': \"You can't touch this\", 'disabled': True, 'class': 'input'})),{})"
      ]
     },
     "execution_count": null,
     "metadata": {},
     "output_type": "execute_result"
    }
   ],
   "source": [
    "#| export\n",
    "def test_text_input_basic_fasthtml_examples():\n",
    "    \"\"\"Test basic text input examples from daisyUI v5 documentation.\"\"\"\n",
    "    from fasthtml.common import Input, Div\n",
    "    \n",
    "    # Basic text input\n",
    "    basic_input = Input(\n",
    "        type=\"text\",\n",
    "        placeholder=\"Type here\",\n",
    "        cls=str(text_input)\n",
    "    )\n",
    "    assert basic_input.tag == \"input\"\n",
    "    assert basic_input.attrs['type'] == \"text\"\n",
    "    assert basic_input.attrs['placeholder'] == \"Type here\"\n",
    "    assert basic_input.attrs['class'] == \"input\"\n",
    "    \n",
    "    # Disabled input\n",
    "    disabled_input = Input(\n",
    "        type=\"text\",\n",
    "        placeholder=\"You can't touch this\",\n",
    "        cls=str(text_input),\n",
    "        disabled=True\n",
    "    )\n",
    "    assert disabled_input.tag == \"input\"\n",
    "    assert disabled_input.attrs['disabled'] == True\n",
    "    assert disabled_input.attrs['placeholder'] == \"You can't touch this\"\n",
    "    assert disabled_input.attrs['class'] == \"input\"\n",
    "    \n",
    "    # Return all elements in a Div\n",
    "    return Div(\n",
    "        basic_input,\n",
    "        disabled_input\n",
    "    )\n",
    "\n",
    "# Run the tests\n",
    "test_text_input_basic_fasthtml_examples()"
   ]
  },
  {
   "cell_type": "code",
   "execution_count": null,
   "id": "2acac85c-10c8-4428-89ee-86884db7e2d5",
   "metadata": {},
   "outputs": [
    {
     "data": {
      "text/html": [
       "\n",
       "<script>\n",
       "document.body.addEventListener('htmx:configRequest', (event) => {\n",
       "    if(event.detail.path.includes('://')) return;\n",
       "    htmx.config.selfRequestsOnly=false;\n",
       "    event.detail.path = `${location.protocol}//${location.hostname}:8000${event.detail.path}`;\n",
       "});\n",
       "</script>"
      ],
      "text/plain": [
       "<IPython.core.display.HTML object>"
      ]
     },
     "metadata": {},
     "output_type": "display_data"
    },
    {
     "data": {
      "text/html": [
       "<iframe src=\"http://localhost:8000/\" style=\"width: 100%; height: auto; border: none;\" onload=\"{\n",
       "        let frame = this;\n",
       "        window.addEventListener('message', function(e) {\n",
       "            if (e.source !== frame.contentWindow) return; // Only proceed if the message is from this iframe\n",
       "            if (e.data.height) frame.style.height = (e.data.height+1) + 'px';\n",
       "        }, false);\n",
       "    }\" allow=\"accelerometer; autoplay; camera; clipboard-read; clipboard-write; display-capture; encrypted-media; fullscreen; gamepad; geolocation; gyroscope; hid; identity-credentials-get; idle-detection; magnetometer; microphone; midi; payment; picture-in-picture; publickey-credentials-get; screen-wake-lock; serial; usb; web-share; xr-spatial-tracking\"></iframe> "
      ],
      "text/plain": [
       "<IPython.core.display.HTML object>"
      ]
     },
     "metadata": {},
     "output_type": "display_data"
    }
   ],
   "source": [
    "#| eval: false\n",
    "test_func = test_text_input_basic_fasthtml_examples\n",
    "app, rt = create_test_app(theme=DaisyUITheme.LIGHT)\n",
    "\n",
    "@rt\n",
    "def index():\n",
    "    return create_test_page(test_func.__doc__.title().replace('.', ''), test_func())\n",
    "server = start_test_server(app)\n",
    "display(HTMX())\n",
    "server.stop()"
   ]
  },
  {
   "cell_type": "code",
   "execution_count": null,
   "id": "83834f3c-13ca-4fe3-b072-10f9122d2ae1",
   "metadata": {},
   "outputs": [
    {
     "data": {
      "text/markdown": [
       "```html\n",
       "<div>\n",
       "<label class=\"input\"><svg xmlns=\"http://www.w3.org/2000/svg\" viewbox=\"0 0 24 24\" class=\"h-[1em] opacity-50\"><g stroke-linejoin=\"round\" stroke-linecap=\"round\" stroke-width=\"2.5\" fill=\"none\" stroke=\"currentColor\"><circle r=\"8\" cx=\"11\" cy=\"11\"></circle><path d=\"m21 21-4.3-4.3\"></path></g></svg>    <input type=\"search\" placeholder=\"Search\" class=\"grow-1\">\n",
       "<kbd class=\"kbd kbd-sm\">⌘</kbd><kbd class=\"kbd kbd-sm\">K</kbd></label><label class=\"input\"><svg xmlns=\"http://www.w3.org/2000/svg\" viewbox=\"0 0 24 24\" class=\"h-[1em] opacity-50\"><g stroke-linejoin=\"round\" stroke-linecap=\"round\" stroke-width=\"2.5\" fill=\"none\" stroke=\"currentColor\"><path d=\"M15 2H6a2 2 0 0 0-2 2v16a2 2 0 0 0 2 2h12a2 2 0 0 0 2-2V7Z\"></path><path d=\"M14 2v4a2 2 0 0 0 2 2h4\"></path></g></svg>    <input type=\"text\" placeholder=\"index.php\" class=\"&lt;cjm_fasthtml_tailwind.utilities.flexbox_and_grid.GrowFactory object at 0x7a53884758d0&gt;\">\n",
       "</label><label class=\"input\">Path    <input type=\"text\" placeholder=\"src/app/\" class=\"&lt;cjm_fasthtml_tailwind.utilities.flexbox_and_grid.GrowFactory object at 0x7a53884758d0&gt;\">\n",
       "<span class=\"badge badge-neutral badge-xs\">Optional</span></label></div>\n",
       "\n",
       "```"
      ],
      "text/plain": [
       "div((label((svg((g((circle((),{'r': '8', 'cx': '11', 'cy': '11'}), path((),{'d': 'm21 21-4.3-4.3'})),{'stroke-linejoin': 'round', 'stroke-linecap': 'round', 'stroke-width': '2.5', 'fill': 'none', 'stroke': 'currentColor'}),),{'xmlns': 'http://www.w3.org/2000/svg', 'viewbox': '0 0 24 24', 'class': 'h-[1em] opacity-50'}), input((),{'type': 'search', 'placeholder': 'Search', 'class': 'grow-1'}), kbd(('⌘',),{'class': 'kbd kbd-sm'}), kbd(('K',),{'class': 'kbd kbd-sm'})),{'class': 'input'}), label((svg((g((path((),{'d': 'M15 2H6a2 2 0 0 0-2 2v16a2 2 0 0 0 2 2h12a2 2 0 0 0 2-2V7Z'}), path((),{'d': 'M14 2v4a2 2 0 0 0 2 2h4'})),{'stroke-linejoin': 'round', 'stroke-linecap': 'round', 'stroke-width': '2.5', 'fill': 'none', 'stroke': 'currentColor'}),),{'xmlns': 'http://www.w3.org/2000/svg', 'viewbox': '0 0 24 24', 'class': 'h-[1em] opacity-50'}), input((),{'type': 'text', 'placeholder': 'index.php', 'class': '<cjm_fasthtml_tailwind.utilities.flexbox_and_grid.GrowFactory object>'})),{'class': 'input'}), label(('Path', input((),{'type': 'text', 'placeholder': 'src/app/', 'class': '<cjm_fasthtml_tailwind.utilities.flexbox_and_grid.GrowFactory object>'}), span(('Optional',),{'class': 'badge badge-neutral badge-xs'})),{'class': 'input'})),{})"
      ]
     },
     "execution_count": null,
     "metadata": {},
     "output_type": "execute_result"
    }
   ],
   "source": [
    "#| export  \n",
    "def test_text_input_with_labels_fasthtml_examples():\n",
    "    \"\"\"Test text input with labels from daisyUI v5 documentation.\"\"\"\n",
    "    from fasthtml.common import Label, Input, Span, Kbd, Div\n",
    "    from fasthtml.svg import Svg, G, Circle, Path, Rect\n",
    "    from cjm_fasthtml_tailwind.utilities.sizing import size_util, h\n",
    "    from cjm_fasthtml_tailwind.utilities.effects import opacity\n",
    "    from cjm_fasthtml_tailwind.utilities.flexbox_and_grid import grow\n",
    "    from cjm_fasthtml_daisyui.components.data_display.kbd import kbd, kbd_sizes\n",
    "    from cjm_fasthtml_daisyui.components.data_display.badge import badge, badge_colors, badge_sizes\n",
    "    \n",
    "    # Create search icon SVG\n",
    "    search_icon = Svg(\n",
    "        G(\n",
    "            Circle(cx=\"11\", cy=\"11\", r=\"8\"),\n",
    "            Path(d=\"m21 21-4.3-4.3\"),\n",
    "            stroke_linejoin=\"round\",\n",
    "            stroke_linecap=\"round\",\n",
    "            stroke_width=\"2.5\",\n",
    "            fill=\"none\",\n",
    "            stroke=\"currentColor\"\n",
    "        ),\n",
    "        cls=combine_classes(h(\"[1em]\"), opacity._50),\n",
    "        xmlns=\"http://www.w3.org/2000/svg\",\n",
    "        viewBox=\"0 0 24 24\"\n",
    "    )\n",
    "    \n",
    "    # Create file icon SVG\n",
    "    file_icon = Svg(\n",
    "        G(\n",
    "            Path(d=\"M15 2H6a2 2 0 0 0-2 2v16a2 2 0 0 0 2 2h12a2 2 0 0 0 2-2V7Z\"),\n",
    "            Path(d=\"M14 2v4a2 2 0 0 0 2 2h4\"),\n",
    "            stroke_linejoin=\"round\",\n",
    "            stroke_linecap=\"round\",\n",
    "            stroke_width=\"2.5\",\n",
    "            fill=\"none\",\n",
    "            stroke=\"currentColor\"\n",
    "        ),\n",
    "        cls=combine_classes(h(\"[1em]\"), opacity._50),\n",
    "        xmlns=\"http://www.w3.org/2000/svg\",\n",
    "        viewBox=\"0 0 24 24\"\n",
    "    )\n",
    "    \n",
    "    # Search input with icon and keyboard shortcuts\n",
    "    search_input = Label(\n",
    "        search_icon,\n",
    "        Input(\n",
    "            type=\"search\",\n",
    "            cls=str(grow(1)),\n",
    "            placeholder=\"Search\"\n",
    "        ),\n",
    "        Kbd(\"⌘\", cls=combine_classes(kbd, kbd_sizes.sm)),\n",
    "        Kbd(\"K\", cls=combine_classes(kbd, kbd_sizes.sm)),\n",
    "        cls=str(text_input)\n",
    "    )\n",
    "    assert search_input.tag == \"label\"\n",
    "    assert search_input.attrs['class'] == \"input\"\n",
    "    assert search_input.children[0].tag == \"svg\"  # Search icon\n",
    "    assert search_input.children[1].tag == \"input\"\n",
    "    assert search_input.children[1].attrs['type'] == \"search\"\n",
    "    assert search_input.children[1].attrs['class'] == \"grow-1\"\n",
    "    assert search_input.children[2].tag == \"kbd\"\n",
    "    assert \"kbd\" in search_input.children[2].attrs['class']\n",
    "    assert \"kbd-sm\" in search_input.children[2].attrs['class']\n",
    "    assert search_input.children[2].children[0] == \"⌘\"\n",
    "    assert search_input.children[3].children[0] == \"K\"\n",
    "    \n",
    "    # File input with icon\n",
    "    file_input = Label(\n",
    "        file_icon,\n",
    "        Input(\n",
    "            type=\"text\",\n",
    "            cls=str(grow),\n",
    "            placeholder=\"index.php\"\n",
    "        ),\n",
    "        cls=str(text_input)\n",
    "    )\n",
    "    assert file_input.tag == \"label\"\n",
    "    assert file_input.attrs['class'] == \"input\"\n",
    "    assert file_input.children[0].tag == \"svg\"  # File icon\n",
    "    assert file_input.children[1].tag == \"input\"\n",
    "    assert file_input.children[1].attrs['placeholder'] == \"index.php\"\n",
    "    \n",
    "    # Path input with text label and badge\n",
    "    path_input = Label(\n",
    "        \"Path\",\n",
    "        Input(\n",
    "            type=\"text\",\n",
    "            cls=str(grow),\n",
    "            placeholder=\"src/app/\"\n",
    "        ),\n",
    "        Span(\"Optional\", cls=combine_classes(badge, badge_colors.neutral, badge_sizes.xs)),\n",
    "        cls=str(text_input)\n",
    "    )\n",
    "    assert path_input.tag == \"label\"\n",
    "    assert path_input.attrs['class'] == \"input\"\n",
    "    assert path_input.children[0] == \"Path\"\n",
    "    assert path_input.children[1].tag == \"input\"\n",
    "    assert path_input.children[1].attrs['placeholder'] == \"src/app/\"\n",
    "    assert path_input.children[2].tag == \"span\"\n",
    "    assert \"badge\" in path_input.children[2].attrs['class']\n",
    "    assert \"badge-neutral\" in path_input.children[2].attrs['class']\n",
    "    assert \"badge-xs\" in path_input.children[2].attrs['class']\n",
    "    assert path_input.children[2].children[0] == \"Optional\"\n",
    "    \n",
    "    # Return all elements in a Div\n",
    "    return Div(\n",
    "        search_input,\n",
    "        file_input,\n",
    "        path_input\n",
    "    )\n",
    "\n",
    "# Run the tests\n",
    "test_text_input_with_labels_fasthtml_examples()"
   ]
  },
  {
   "cell_type": "code",
   "execution_count": null,
   "id": "a94456ea-3340-447f-914b-732e7a4596c0",
   "metadata": {},
   "outputs": [
    {
     "data": {
      "text/html": [
       "\n",
       "<script>\n",
       "document.body.addEventListener('htmx:configRequest', (event) => {\n",
       "    if(event.detail.path.includes('://')) return;\n",
       "    htmx.config.selfRequestsOnly=false;\n",
       "    event.detail.path = `${location.protocol}//${location.hostname}:8000${event.detail.path}`;\n",
       "});\n",
       "</script>"
      ],
      "text/plain": [
       "<IPython.core.display.HTML object>"
      ]
     },
     "metadata": {},
     "output_type": "display_data"
    },
    {
     "data": {
      "text/html": [
       "<iframe src=\"http://localhost:8000/\" style=\"width: 100%; height: auto; border: none;\" onload=\"{\n",
       "        let frame = this;\n",
       "        window.addEventListener('message', function(e) {\n",
       "            if (e.source !== frame.contentWindow) return; // Only proceed if the message is from this iframe\n",
       "            if (e.data.height) frame.style.height = (e.data.height+1) + 'px';\n",
       "        }, false);\n",
       "    }\" allow=\"accelerometer; autoplay; camera; clipboard-read; clipboard-write; display-capture; encrypted-media; fullscreen; gamepad; geolocation; gyroscope; hid; identity-credentials-get; idle-detection; magnetometer; microphone; midi; payment; picture-in-picture; publickey-credentials-get; screen-wake-lock; serial; usb; web-share; xr-spatial-tracking\"></iframe> "
      ],
      "text/plain": [
       "<IPython.core.display.HTML object>"
      ]
     },
     "metadata": {},
     "output_type": "display_data"
    }
   ],
   "source": [
    "#| eval: false\n",
    "test_func = test_text_input_with_labels_fasthtml_examples\n",
    "app, rt = create_test_app(theme=DaisyUITheme.LIGHT)\n",
    "\n",
    "@rt\n",
    "def index():\n",
    "    return create_test_page(test_func.__doc__.title().replace('.', ''), test_func())\n",
    "server = start_test_server(app)\n",
    "display(HTMX())\n",
    "server.stop()"
   ]
  },
  {
   "cell_type": "code",
   "execution_count": null,
   "id": "ed6ec619-e70b-46ba-86ce-7e7eb68eaf5f",
   "metadata": {},
   "outputs": [
    {
     "data": {
      "text/markdown": [
       "```html\n",
       "<div>\n",
       "  <input type=\"text\" placeholder=\"Type here\" class=\"input input-ghost\">\n",
       "<fieldset class=\"fieldset\"><legend class=\"fieldset-legend\">What is your name?</legend>    <input type=\"text\" placeholder=\"Type here\" class=\"input\">\n",
       "    <p class=\"label\">Optional</p>\n",
       "</fieldset></div>\n",
       "\n",
       "```"
      ],
      "text/plain": [
       "div((input((),{'type': 'text', 'placeholder': 'Type here', 'class': 'input input-ghost'}), fieldset((legend(('What is your name?',),{'class': 'fieldset-legend'}), input((),{'type': 'text', 'placeholder': 'Type here', 'class': 'input'}), p(('Optional',),{'class': 'label'})),{'class': 'fieldset'})),{})"
      ]
     },
     "execution_count": null,
     "metadata": {},
     "output_type": "execute_result"
    }
   ],
   "source": [
    "#| export\n",
    "def test_text_input_styles_and_fieldset_fasthtml_examples():\n",
    "    \"\"\"Test text input styles and fieldset from daisyUI v5 documentation.\"\"\"\n",
    "    from fasthtml.common import Input, Fieldset, Legend, P, Div\n",
    "    from cjm_fasthtml_daisyui.components.data_input.fieldset import fieldset, fieldset_legend\n",
    "    from cjm_fasthtml_daisyui.components.data_input.label import label\n",
    "    \n",
    "    # Ghost style input\n",
    "    ghost_input = Input(\n",
    "        type=\"text\",\n",
    "        placeholder=\"Type here\",\n",
    "        cls=combine_classes(text_input, text_input_styles.ghost)\n",
    "    )\n",
    "    assert ghost_input.tag == \"input\"\n",
    "    assert \"input\" in ghost_input.attrs['class']\n",
    "    assert \"input-ghost\" in ghost_input.attrs['class']\n",
    "    assert ghost_input.attrs['placeholder'] == \"Type here\"\n",
    "    \n",
    "    # With fieldset and fieldset-legend\n",
    "    fieldset_example = Fieldset(\n",
    "        Legend(\"What is your name?\", cls=str(fieldset_legend)),\n",
    "        Input(\n",
    "            type=\"text\",\n",
    "            cls=str(text_input),\n",
    "            placeholder=\"Type here\"\n",
    "        ),\n",
    "        P(\"Optional\", cls=str(label)),\n",
    "        cls=str(fieldset)\n",
    "    )\n",
    "    assert fieldset_example.tag == \"fieldset\"\n",
    "    assert fieldset_example.attrs['class'] == \"fieldset\"\n",
    "    assert fieldset_example.children[0].tag == \"legend\"\n",
    "    assert fieldset_example.children[0].attrs['class'] == \"fieldset-legend\"\n",
    "    assert fieldset_example.children[0].children[0] == \"What is your name?\"\n",
    "    assert fieldset_example.children[1].tag == \"input\"\n",
    "    assert fieldset_example.children[1].attrs['class'] == \"input\"\n",
    "    assert fieldset_example.children[2].tag == \"p\"\n",
    "    assert fieldset_example.children[2].attrs['class'] == \"label\"\n",
    "    assert fieldset_example.children[2].children[0] == \"Optional\"\n",
    "    \n",
    "    # Return all elements in a Div\n",
    "    return Div(\n",
    "        ghost_input,\n",
    "        fieldset_example\n",
    "    )\n",
    "\n",
    "# Run the tests\n",
    "test_text_input_styles_and_fieldset_fasthtml_examples()"
   ]
  },
  {
   "cell_type": "code",
   "execution_count": null,
   "id": "d30a6c61-5983-4b58-a7f8-8647ba203885",
   "metadata": {},
   "outputs": [
    {
     "data": {
      "text/html": [
       "\n",
       "<script>\n",
       "document.body.addEventListener('htmx:configRequest', (event) => {\n",
       "    if(event.detail.path.includes('://')) return;\n",
       "    htmx.config.selfRequestsOnly=false;\n",
       "    event.detail.path = `${location.protocol}//${location.hostname}:8000${event.detail.path}`;\n",
       "});\n",
       "</script>"
      ],
      "text/plain": [
       "<IPython.core.display.HTML object>"
      ]
     },
     "metadata": {},
     "output_type": "display_data"
    },
    {
     "data": {
      "text/html": [
       "<iframe src=\"http://localhost:8000/\" style=\"width: 100%; height: auto; border: none;\" onload=\"{\n",
       "        let frame = this;\n",
       "        window.addEventListener('message', function(e) {\n",
       "            if (e.source !== frame.contentWindow) return; // Only proceed if the message is from this iframe\n",
       "            if (e.data.height) frame.style.height = (e.data.height+1) + 'px';\n",
       "        }, false);\n",
       "    }\" allow=\"accelerometer; autoplay; camera; clipboard-read; clipboard-write; display-capture; encrypted-media; fullscreen; gamepad; geolocation; gyroscope; hid; identity-credentials-get; idle-detection; magnetometer; microphone; midi; payment; picture-in-picture; publickey-credentials-get; screen-wake-lock; serial; usb; web-share; xr-spatial-tracking\"></iframe> "
      ],
      "text/plain": [
       "<IPython.core.display.HTML object>"
      ]
     },
     "metadata": {},
     "output_type": "display_data"
    }
   ],
   "source": [
    "#| eval: false\n",
    "test_func = test_text_input_styles_and_fieldset_fasthtml_examples\n",
    "app, rt = create_test_app(theme=DaisyUITheme.LIGHT)\n",
    "\n",
    "@rt\n",
    "def index():\n",
    "    return create_test_page(test_func.__doc__.title().replace('.', ''), test_func())\n",
    "server = start_test_server(app)\n",
    "display(HTMX())\n",
    "server.stop()"
   ]
  },
  {
   "cell_type": "code",
   "execution_count": null,
   "id": "26a90270-0aba-438c-b435-8bc00726b62c",
   "metadata": {},
   "outputs": [
    {
     "data": {
      "text/markdown": [
       "```html\n",
       "<div>\n",
       "  <input type=\"text\" placeholder=\"neutral\" class=\"input input-neutral\">\n",
       "  <input type=\"text\" placeholder=\"Primary\" class=\"input input-primary\">\n",
       "  <input type=\"text\" placeholder=\"Secondary\" class=\"input input-secondary\">\n",
       "  <input type=\"text\" placeholder=\"Accent\" class=\"input input-accent\">\n",
       "  <input type=\"text\" placeholder=\"Info\" class=\"input input-info\">\n",
       "  <input type=\"text\" placeholder=\"Success\" class=\"input input-success\">\n",
       "  <input type=\"text\" placeholder=\"Warning\" class=\"input input-warning\">\n",
       "  <input type=\"text\" placeholder=\"Error\" class=\"input input-error\">\n",
       "</div>\n",
       "\n",
       "```"
      ],
      "text/plain": [
       "div((input((),{'type': 'text', 'placeholder': 'neutral', 'class': 'input input-neutral'}), input((),{'type': 'text', 'placeholder': 'Primary', 'class': 'input input-primary'}), input((),{'type': 'text', 'placeholder': 'Secondary', 'class': 'input input-secondary'}), input((),{'type': 'text', 'placeholder': 'Accent', 'class': 'input input-accent'}), input((),{'type': 'text', 'placeholder': 'Info', 'class': 'input input-info'}), input((),{'type': 'text', 'placeholder': 'Success', 'class': 'input input-success'}), input((),{'type': 'text', 'placeholder': 'Warning', 'class': 'input input-warning'}), input((),{'type': 'text', 'placeholder': 'Error', 'class': 'input input-error'})),{})"
      ]
     },
     "execution_count": null,
     "metadata": {},
     "output_type": "execute_result"
    }
   ],
   "source": [
    "#| export\n",
    "def test_text_input_colors_fasthtml_examples():\n",
    "    \"\"\"Test text input color variants from daisyUI v5 documentation.\"\"\"\n",
    "    from fasthtml.common import Input, Div\n",
    "    \n",
    "    # Neutral color\n",
    "    neutral_input = Input(\n",
    "        type=\"text\",\n",
    "        placeholder=\"neutral\",\n",
    "        cls=combine_classes(text_input, text_input_colors.neutral)\n",
    "    )\n",
    "    assert \"input\" in neutral_input.attrs['class']\n",
    "    assert \"input-neutral\" in neutral_input.attrs['class']\n",
    "    assert neutral_input.attrs['placeholder'] == \"neutral\"\n",
    "    \n",
    "    # Primary color\n",
    "    primary_input = Input(\n",
    "        type=\"text\",\n",
    "        placeholder=\"Primary\",\n",
    "        cls=combine_classes(text_input, text_input_colors.primary)\n",
    "    )\n",
    "    assert \"input-primary\" in primary_input.attrs['class']\n",
    "    assert primary_input.attrs['placeholder'] == \"Primary\"\n",
    "    \n",
    "    # Secondary color\n",
    "    secondary_input = Input(\n",
    "        type=\"text\",\n",
    "        placeholder=\"Secondary\",\n",
    "        cls=combine_classes(text_input, text_input_colors.secondary)\n",
    "    )\n",
    "    assert \"input-secondary\" in secondary_input.attrs['class']\n",
    "    assert secondary_input.attrs['placeholder'] == \"Secondary\"\n",
    "    \n",
    "    # Accent color\n",
    "    accent_input = Input(\n",
    "        type=\"text\",\n",
    "        placeholder=\"Accent\",\n",
    "        cls=combine_classes(text_input, text_input_colors.accent)\n",
    "    )\n",
    "    assert \"input-accent\" in accent_input.attrs['class']\n",
    "    assert accent_input.attrs['placeholder'] == \"Accent\"\n",
    "    \n",
    "    # Info color\n",
    "    info_input = Input(\n",
    "        type=\"text\",\n",
    "        placeholder=\"Info\",\n",
    "        cls=combine_classes(text_input, text_input_colors.info)\n",
    "    )\n",
    "    assert \"input-info\" in info_input.attrs['class']\n",
    "    assert info_input.attrs['placeholder'] == \"Info\"\n",
    "    \n",
    "    # Success color\n",
    "    success_input = Input(\n",
    "        type=\"text\",\n",
    "        placeholder=\"Success\",\n",
    "        cls=combine_classes(text_input, text_input_colors.success)\n",
    "    )\n",
    "    assert \"input-success\" in success_input.attrs['class']\n",
    "    assert success_input.attrs['placeholder'] == \"Success\"\n",
    "    \n",
    "    # Warning color\n",
    "    warning_input = Input(\n",
    "        type=\"text\",\n",
    "        placeholder=\"Warning\",\n",
    "        cls=combine_classes(text_input, text_input_colors.warning)\n",
    "    )\n",
    "    assert \"input-warning\" in warning_input.attrs['class']\n",
    "    assert warning_input.attrs['placeholder'] == \"Warning\"\n",
    "    \n",
    "    # Error color\n",
    "    error_input = Input(\n",
    "        type=\"text\",\n",
    "        placeholder=\"Error\",\n",
    "        cls=combine_classes(text_input, text_input_colors.error)\n",
    "    )\n",
    "    assert \"input-error\" in error_input.attrs['class']\n",
    "    assert error_input.attrs['placeholder'] == \"Error\"\n",
    "    \n",
    "    # Return all elements in a Div\n",
    "    return Div(\n",
    "        neutral_input,\n",
    "        primary_input,\n",
    "        secondary_input,\n",
    "        accent_input,\n",
    "        info_input,\n",
    "        success_input,\n",
    "        warning_input,\n",
    "        error_input\n",
    "    )\n",
    "\n",
    "# Run the tests\n",
    "test_text_input_colors_fasthtml_examples()"
   ]
  },
  {
   "cell_type": "code",
   "execution_count": null,
   "id": "0e95486b-03f6-4570-8166-2e7da40bea9d",
   "metadata": {},
   "outputs": [
    {
     "data": {
      "text/html": [
       "\n",
       "<script>\n",
       "document.body.addEventListener('htmx:configRequest', (event) => {\n",
       "    if(event.detail.path.includes('://')) return;\n",
       "    htmx.config.selfRequestsOnly=false;\n",
       "    event.detail.path = `${location.protocol}//${location.hostname}:8000${event.detail.path}`;\n",
       "});\n",
       "</script>"
      ],
      "text/plain": [
       "<IPython.core.display.HTML object>"
      ]
     },
     "metadata": {},
     "output_type": "display_data"
    },
    {
     "data": {
      "text/html": [
       "<iframe src=\"http://localhost:8000/\" style=\"width: 100%; height: auto; border: none;\" onload=\"{\n",
       "        let frame = this;\n",
       "        window.addEventListener('message', function(e) {\n",
       "            if (e.source !== frame.contentWindow) return; // Only proceed if the message is from this iframe\n",
       "            if (e.data.height) frame.style.height = (e.data.height+1) + 'px';\n",
       "        }, false);\n",
       "    }\" allow=\"accelerometer; autoplay; camera; clipboard-read; clipboard-write; display-capture; encrypted-media; fullscreen; gamepad; geolocation; gyroscope; hid; identity-credentials-get; idle-detection; magnetometer; microphone; midi; payment; picture-in-picture; publickey-credentials-get; screen-wake-lock; serial; usb; web-share; xr-spatial-tracking\"></iframe> "
      ],
      "text/plain": [
       "<IPython.core.display.HTML object>"
      ]
     },
     "metadata": {},
     "output_type": "display_data"
    }
   ],
   "source": [
    "#| eval: false\n",
    "test_func = test_text_input_colors_fasthtml_examples\n",
    "app, rt = create_test_app(theme=DaisyUITheme.LIGHT)\n",
    "\n",
    "@rt\n",
    "def index():\n",
    "    return create_test_page(test_func.__doc__.title().replace('.', ''), test_func())\n",
    "server = start_test_server(app)\n",
    "display(HTMX())\n",
    "server.stop()"
   ]
  },
  {
   "cell_type": "code",
   "execution_count": null,
   "id": "ae9d7b95-cdc4-4466-8d34-0c950c21de3b",
   "metadata": {},
   "outputs": [
    {
     "data": {
      "text/markdown": [
       "```html\n",
       "<div>\n",
       "  <input type=\"text\" placeholder=\"Xsmall\" class=\"input input-xs\">\n",
       "  <input type=\"text\" placeholder=\"Small\" class=\"input input-sm\">\n",
       "  <input type=\"text\" placeholder=\"Medium\" class=\"input input-md\">\n",
       "  <input type=\"text\" placeholder=\"Large\" class=\"input input-lg\">\n",
       "  <input type=\"text\" placeholder=\"Xlarge\" class=\"input input-xl\">\n",
       "</div>\n",
       "\n",
       "```"
      ],
      "text/plain": [
       "div((input((),{'type': 'text', 'placeholder': 'Xsmall', 'class': 'input input-xs'}), input((),{'type': 'text', 'placeholder': 'Small', 'class': 'input input-sm'}), input((),{'type': 'text', 'placeholder': 'Medium', 'class': 'input input-md'}), input((),{'type': 'text', 'placeholder': 'Large', 'class': 'input input-lg'}), input((),{'type': 'text', 'placeholder': 'Xlarge', 'class': 'input input-xl'})),{})"
      ]
     },
     "execution_count": null,
     "metadata": {},
     "output_type": "execute_result"
    }
   ],
   "source": [
    "#| export\n",
    "def test_text_input_sizes_fasthtml_examples():\n",
    "    \"\"\"Test text input size variants from daisyUI v5 documentation.\"\"\"\n",
    "    from fasthtml.common import Input, Div\n",
    "    \n",
    "    # Xsmall size\n",
    "    xs_input = Input(\n",
    "        type=\"text\",\n",
    "        placeholder=\"Xsmall\",\n",
    "        cls=combine_classes(text_input, text_input_sizes.xs)\n",
    "    )\n",
    "    assert \"input\" in xs_input.attrs['class']\n",
    "    assert \"input-xs\" in xs_input.attrs['class']\n",
    "    assert xs_input.attrs['placeholder'] == \"Xsmall\"\n",
    "    \n",
    "    # Small size\n",
    "    sm_input = Input(\n",
    "        type=\"text\",\n",
    "        placeholder=\"Small\",\n",
    "        cls=combine_classes(text_input, text_input_sizes.sm)\n",
    "    )\n",
    "    assert \"input-sm\" in sm_input.attrs['class']\n",
    "    assert sm_input.attrs['placeholder'] == \"Small\"\n",
    "    \n",
    "    # Medium size\n",
    "    md_input = Input(\n",
    "        type=\"text\",\n",
    "        placeholder=\"Medium\",\n",
    "        cls=combine_classes(text_input, text_input_sizes.md)\n",
    "    )\n",
    "    assert \"input-md\" in md_input.attrs['class']\n",
    "    assert md_input.attrs['placeholder'] == \"Medium\"\n",
    "    \n",
    "    # Large size\n",
    "    lg_input = Input(\n",
    "        type=\"text\",\n",
    "        placeholder=\"Large\",\n",
    "        cls=combine_classes(text_input, text_input_sizes.lg)\n",
    "    )\n",
    "    assert \"input-lg\" in lg_input.attrs['class']\n",
    "    assert lg_input.attrs['placeholder'] == \"Large\"\n",
    "    \n",
    "    # Xlarge size\n",
    "    xl_input = Input(\n",
    "        type=\"text\",\n",
    "        placeholder=\"Xlarge\",\n",
    "        cls=combine_classes(text_input, text_input_sizes.xl)\n",
    "    )\n",
    "    assert \"input-xl\" in xl_input.attrs['class']\n",
    "    assert xl_input.attrs['placeholder'] == \"Xlarge\"\n",
    "    \n",
    "    # Return all elements in a Div\n",
    "    return Div(\n",
    "        xs_input,\n",
    "        sm_input,\n",
    "        md_input,\n",
    "        lg_input,\n",
    "        xl_input\n",
    "    )\n",
    "\n",
    "# Run the tests\n",
    "test_text_input_sizes_fasthtml_examples()"
   ]
  },
  {
   "cell_type": "code",
   "execution_count": null,
   "id": "a76f3582-bcd1-4d47-9d57-82afdba20558",
   "metadata": {},
   "outputs": [
    {
     "data": {
      "text/html": [
       "\n",
       "<script>\n",
       "document.body.addEventListener('htmx:configRequest', (event) => {\n",
       "    if(event.detail.path.includes('://')) return;\n",
       "    htmx.config.selfRequestsOnly=false;\n",
       "    event.detail.path = `${location.protocol}//${location.hostname}:8000${event.detail.path}`;\n",
       "});\n",
       "</script>"
      ],
      "text/plain": [
       "<IPython.core.display.HTML object>"
      ]
     },
     "metadata": {},
     "output_type": "display_data"
    },
    {
     "data": {
      "text/html": [
       "<iframe src=\"http://localhost:8000/\" style=\"width: 100%; height: auto; border: none;\" onload=\"{\n",
       "        let frame = this;\n",
       "        window.addEventListener('message', function(e) {\n",
       "            if (e.source !== frame.contentWindow) return; // Only proceed if the message is from this iframe\n",
       "            if (e.data.height) frame.style.height = (e.data.height+1) + 'px';\n",
       "        }, false);\n",
       "    }\" allow=\"accelerometer; autoplay; camera; clipboard-read; clipboard-write; display-capture; encrypted-media; fullscreen; gamepad; geolocation; gyroscope; hid; identity-credentials-get; idle-detection; magnetometer; microphone; midi; payment; picture-in-picture; publickey-credentials-get; screen-wake-lock; serial; usb; web-share; xr-spatial-tracking\"></iframe> "
      ],
      "text/plain": [
       "<IPython.core.display.HTML object>"
      ]
     },
     "metadata": {},
     "output_type": "display_data"
    }
   ],
   "source": [
    "#| eval: false\n",
    "test_func = test_text_input_sizes_fasthtml_examples\n",
    "app, rt = create_test_app(theme=DaisyUITheme.LIGHT)\n",
    "\n",
    "@rt\n",
    "def index():\n",
    "    return create_test_page(test_func.__doc__.title().replace('.', ''), test_func())\n",
    "server = start_test_server(app)\n",
    "display(HTMX())\n",
    "server.stop()"
   ]
  },
  {
   "cell_type": "code",
   "execution_count": null,
   "id": "6666eb88-3c57-4183-8503-62c99d35c9d9",
   "metadata": {},
   "outputs": [
    {
     "data": {
      "text/markdown": [
       "```html\n",
       "<div>\n",
       "  <input type=\"text\" placeholder=\"Which browser do you use\" list=\"browsers\" class=\"input\">\n",
       "<datalist id=\"browsers\"><option value=\"Chrome\"></option><option value=\"Firefox\"></option><option value=\"Safari\"></option><option value=\"Opera\"></option><option value=\"Edge\"></option></datalist>  <input type=\"date\" class=\"input\">\n",
       "  <input type=\"time\" class=\"input\">\n",
       "  <input type=\"datetime-local\" class=\"input\">\n",
       "</div>\n",
       "\n",
       "```"
      ],
      "text/plain": [
       "div((input((),{'type': 'text', 'placeholder': 'Which browser do you use', 'list': 'browsers', 'class': 'input'}), datalist((option((),{'value': 'Chrome'}), option((),{'value': 'Firefox'}), option((),{'value': 'Safari'}), option((),{'value': 'Opera'}), option((),{'value': 'Edge'})),{'id': 'browsers'}), input((),{'type': 'date', 'class': 'input'}), input((),{'type': 'time', 'class': 'input'}), input((),{'type': 'datetime-local', 'class': 'input'})),{})"
      ]
     },
     "execution_count": null,
     "metadata": {},
     "output_type": "execute_result"
    }
   ],
   "source": [
    "#| export\n",
    "def test_text_input_special_types_fasthtml_examples():\n",
    "    \"\"\"Test special input types from daisyUI v5 documentation.\"\"\"\n",
    "    from fasthtml.common import Input, Datalist, Option, Div\n",
    "    \n",
    "    # Text input with data list suggestion\n",
    "    datalist_input = Input(\n",
    "        type=\"text\",\n",
    "        cls=str(text_input),\n",
    "        placeholder=\"Which browser do you use\",\n",
    "        list=\"browsers\"\n",
    "    )\n",
    "    datalist = Datalist(\n",
    "        Option(value=\"Chrome\"),\n",
    "        Option(value=\"Firefox\"),\n",
    "        Option(value=\"Safari\"),\n",
    "        Option(value=\"Opera\"),\n",
    "        Option(value=\"Edge\"),\n",
    "        id=\"browsers\"\n",
    "    )\n",
    "    assert datalist_input.tag == \"input\"\n",
    "    assert datalist_input.attrs['type'] == \"text\"\n",
    "    assert datalist_input.attrs['class'] == \"input\"\n",
    "    assert datalist_input.attrs['list'] == \"browsers\"\n",
    "    assert datalist_input.attrs['placeholder'] == \"Which browser do you use\"\n",
    "    assert datalist.tag == \"datalist\"\n",
    "    assert datalist.attrs['id'] == \"browsers\"\n",
    "    assert len(datalist.children) == 5\n",
    "    assert datalist.children[0].attrs['value'] == \"Chrome\"\n",
    "    assert datalist.children[1].attrs['value'] == \"Firefox\"\n",
    "    assert datalist.children[2].attrs['value'] == \"Safari\"\n",
    "    assert datalist.children[3].attrs['value'] == \"Opera\"\n",
    "    assert datalist.children[4].attrs['value'] == \"Edge\"\n",
    "    \n",
    "    # Date input\n",
    "    date_input = Input(\n",
    "        type=\"date\",\n",
    "        cls=str(text_input)\n",
    "    )\n",
    "    assert date_input.tag == \"input\"\n",
    "    assert date_input.attrs['type'] == \"date\"\n",
    "    assert date_input.attrs['class'] == \"input\"\n",
    "    \n",
    "    # Time input\n",
    "    time_input = Input(\n",
    "        type=\"time\",\n",
    "        cls=str(text_input)\n",
    "    )\n",
    "    assert time_input.tag == \"input\"\n",
    "    assert time_input.attrs['type'] == \"time\"\n",
    "    assert time_input.attrs['class'] == \"input\"\n",
    "    \n",
    "    # Datetime-local input\n",
    "    datetime_input = Input(\n",
    "        type=\"datetime-local\",\n",
    "        cls=str(text_input)\n",
    "    )\n",
    "    assert datetime_input.tag == \"input\"\n",
    "    assert datetime_input.attrs['type'] == \"datetime-local\"\n",
    "    assert datetime_input.attrs['class'] == \"input\"\n",
    "    \n",
    "    # Return all elements in a Div\n",
    "    return Div(\n",
    "        datalist_input,\n",
    "        datalist,\n",
    "        date_input,\n",
    "        time_input,\n",
    "        datetime_input\n",
    "    )\n",
    "\n",
    "# Run the tests\n",
    "test_text_input_special_types_fasthtml_examples()"
   ]
  },
  {
   "cell_type": "code",
   "execution_count": null,
   "id": "28990f14-bb49-475c-90d6-af4afd0687d2",
   "metadata": {},
   "outputs": [
    {
     "data": {
      "text/html": [
       "\n",
       "<script>\n",
       "document.body.addEventListener('htmx:configRequest', (event) => {\n",
       "    if(event.detail.path.includes('://')) return;\n",
       "    htmx.config.selfRequestsOnly=false;\n",
       "    event.detail.path = `${location.protocol}//${location.hostname}:8000${event.detail.path}`;\n",
       "});\n",
       "</script>"
      ],
      "text/plain": [
       "<IPython.core.display.HTML object>"
      ]
     },
     "metadata": {},
     "output_type": "display_data"
    },
    {
     "data": {
      "text/html": [
       "<iframe src=\"http://localhost:8000/\" style=\"width: 100%; height: auto; border: none;\" onload=\"{\n",
       "        let frame = this;\n",
       "        window.addEventListener('message', function(e) {\n",
       "            if (e.source !== frame.contentWindow) return; // Only proceed if the message is from this iframe\n",
       "            if (e.data.height) frame.style.height = (e.data.height+1) + 'px';\n",
       "        }, false);\n",
       "    }\" allow=\"accelerometer; autoplay; camera; clipboard-read; clipboard-write; display-capture; encrypted-media; fullscreen; gamepad; geolocation; gyroscope; hid; identity-credentials-get; idle-detection; magnetometer; microphone; midi; payment; picture-in-picture; publickey-credentials-get; screen-wake-lock; serial; usb; web-share; xr-spatial-tracking\"></iframe> "
      ],
      "text/plain": [
       "<IPython.core.display.HTML object>"
      ]
     },
     "metadata": {},
     "output_type": "display_data"
    }
   ],
   "source": [
    "#| eval: false\n",
    "test_func = test_text_input_special_types_fasthtml_examples\n",
    "app, rt = create_test_app(theme=DaisyUITheme.LIGHT)\n",
    "\n",
    "@rt\n",
    "def index():\n",
    "    return create_test_page(test_func.__doc__.title().replace('.', ''), test_func())\n",
    "server = start_test_server(app)\n",
    "display(HTMX())\n",
    "server.stop()"
   ]
  },
  {
   "cell_type": "code",
   "execution_count": null,
   "id": "598b0fca-0a0a-4b6c-897f-b56bc9d6a1a7",
   "metadata": {},
   "outputs": [
    {
     "data": {
      "text/markdown": [
       "```html\n",
       "<div>\n",
       "<label class=\"input validator\"><svg xmlns=\"http://www.w3.org/2000/svg\" viewbox=\"0 0 24 24\" class=\"h-[1em] opacity-50\"><g stroke-linejoin=\"round\" stroke-linecap=\"round\" stroke-width=\"2.5\" fill=\"none\" stroke=\"currentColor\"><path d=\"M19 21v-2a4 4 0 0 0-4-4H9a4 4 0 0 0-4 4v2\"></path><circle r=\"4\" cx=\"12\" cy=\"7\"></circle></g></svg>    <input type=\"text\" required placeholder=\"Username\" pattern=\"[A-Za-z][A-Za-z0-9\\-]*\" minlength=\"3\" maxlength=\"30\" title=\"Only letters, numbers or dash\">\n",
       "</label>  <p class=\"validator-hint\">\n",
       "Must be 3 to 30 characters<br>containing only letters, numbers or dash  </p>\n",
       "<label class=\"input\"><svg xmlns=\"http://www.w3.org/2000/svg\" viewbox=\"0 0 24 24\" class=\"h-[1em] opacity-50\"><g stroke-linejoin=\"round\" stroke-linecap=\"round\" stroke-width=\"2.5\" fill=\"none\" stroke=\"currentColor\"><circle r=\"8\" cx=\"11\" cy=\"11\"></circle><path d=\"m21 21-4.3-4.3\"></path></g></svg>    <input type=\"search\" required placeholder=\"Search\">\n",
       "</label><label class=\"input validator\"><svg xmlns=\"http://www.w3.org/2000/svg\" viewbox=\"0 0 24 24\" class=\"h-[1em] opacity-50\"><g stroke-linejoin=\"round\" stroke-linecap=\"round\" stroke-width=\"2.5\" fill=\"none\" stroke=\"currentColor\"><rect width=\"20\" height=\"16\" x=\"2\" y=\"4\" rx=\"2\"></rect><path d=\"m22 7-8.97 5.7a1.94 1.94 0 0 1-2.06 0L2 7\"></path></g></svg>    <input type=\"email\" placeholder=\"[email protected]\" required>\n",
       "</label>  <div class=\"validator-hint hidden\">Enter valid email address</div>\n",
       "  <div class=\"join\">\n",
       "    <div>\n",
       "<label class=\"input validator join-item\"><svg xmlns=\"http://www.w3.org/2000/svg\" viewbox=\"0 0 24 24\" class=\"h-[1em] opacity-50\"><g stroke-linejoin=\"round\" stroke-linecap=\"round\" stroke-width=\"2.5\" fill=\"none\" stroke=\"currentColor\"><rect width=\"20\" height=\"16\" x=\"2\" y=\"4\" rx=\"2\"></rect><path d=\"m22 7-8.97 5.7a1.94 1.94 0 0 1-2.06 0L2 7\"></path></g></svg>        <input type=\"email\" placeholder=\"[email protected]\" required>\n",
       "</label>      <div class=\"validator-hint hidden\">Enter valid email address</div>\n",
       "    </div>\n",
       "<button class=\"btn btn-neutral join-item\">Join</button>  </div>\n",
       "</div>\n",
       "\n",
       "```"
      ],
      "text/plain": [
       "div((label((svg((g((path((),{'d': 'M19 21v-2a4 4 0 0 0-4-4H9a4 4 0 0 0-4 4v2'}), circle((),{'r': '4', 'cx': '12', 'cy': '7'})),{'stroke-linejoin': 'round', 'stroke-linecap': 'round', 'stroke-width': '2.5', 'fill': 'none', 'stroke': 'currentColor'}),),{'xmlns': 'http://www.w3.org/2000/svg', 'viewbox': '0 0 24 24', 'class': 'h-[1em] opacity-50'}), input((),{'type': 'text', 'required': True, 'placeholder': 'Username', 'pattern': '[A-Za-z][A-Za-z0-9\\\\-]*', 'minlength': '3', 'maxlength': '30', 'title': 'Only letters, numbers or dash'})),{'class': 'input validator'}), p(('Must be 3 to 30 characters', br((),{}), 'containing only letters, numbers or dash'),{'class': 'validator-hint'}), label((svg((g((circle((),{'r': '8', 'cx': '11', 'cy': '11'}), path((),{'d': 'm21 21-4.3-4.3'})),{'stroke-linejoin': 'round', 'stroke-linecap': 'round', 'stroke-width': '2.5', 'fill': 'none', 'stroke': 'currentColor'}),),{'xmlns': 'http://www.w3.org/2000/svg', 'viewbox': '0 0 24 24', 'class': 'h-[1em] opacity-50'}), input((),{'type': 'search', 'required': True, 'placeholder': 'Search'})),{'class': 'input'}), label((svg((g((rect((),{'width': '20', 'height': '16', 'x': '2', 'y': '4', 'rx': '2'}), path((),{'d': 'm22 7-8.97 5.7a1.94 1.94 0 0 1-2.06 0L2 7'})),{'stroke-linejoin': 'round', 'stroke-linecap': 'round', 'stroke-width': '2.5', 'fill': 'none', 'stroke': 'currentColor'}),),{'xmlns': 'http://www.w3.org/2000/svg', 'viewbox': '0 0 24 24', 'class': 'h-[1em] opacity-50'}), input((),{'type': 'email', 'placeholder': '[email protected]', 'required': True})),{'class': 'input validator'}), div(('Enter valid email address',),{'class': 'validator-hint hidden'}), div((div((label((svg((g((rect((),{'width': '20', 'height': '16', 'x': '2', 'y': '4', 'rx': '2'}), path((),{'d': 'm22 7-8.97 5.7a1.94 1.94 0 0 1-2.06 0L2 7'})),{'stroke-linejoin': 'round', 'stroke-linecap': 'round', 'stroke-width': '2.5', 'fill': 'none', 'stroke': 'currentColor'}),),{'xmlns': 'http://www.w3.org/2000/svg', 'viewbox': '0 0 24 24', 'class': 'h-[1em] opacity-50'}), input((),{'type': 'email', 'placeholder': '[email protected]', 'required': True})),{'class': 'input validator join-item'}), div(('Enter valid email address',),{'class': 'validator-hint hidden'})),{}), button(('Join',),{'class': 'btn btn-neutral join-item'})),{'class': 'join'})),{})"
      ]
     },
     "execution_count": null,
     "metadata": {},
     "output_type": "execute_result"
    }
   ],
   "source": [
    "#| export\n",
    "def test_text_input_validators_part1_fasthtml_examples():\n",
    "    \"\"\"Test text input validators part 1: username, search, email from daisyUI v5 documentation.\"\"\"\n",
    "    from fasthtml.common import Label, Input, P, Div, Button\n",
    "    from fasthtml.svg import Svg, G, Circle, Path, Rect\n",
    "    from cjm_fasthtml_tailwind.utilities.sizing import size_util, h\n",
    "    from cjm_fasthtml_tailwind.utilities.effects import opacity\n",
    "    from cjm_fasthtml_tailwind.utilities.layout import display_tw\n",
    "    from cjm_fasthtml_daisyui.components.data_input.validator import validator, validator_hint\n",
    "    from cjm_fasthtml_daisyui.components.layout.join import join, join_item\n",
    "    from cjm_fasthtml_daisyui.components.actions.button import btn, btn_colors\n",
    "    \n",
    "    # User icon SVG\n",
    "    user_icon = Svg(\n",
    "        G(\n",
    "            Path(d=\"M19 21v-2a4 4 0 0 0-4-4H9a4 4 0 0 0-4 4v2\"),\n",
    "            Circle(cx=\"12\", cy=\"7\", r=\"4\"),\n",
    "            stroke_linejoin=\"round\",\n",
    "            stroke_linecap=\"round\",\n",
    "            stroke_width=\"2.5\",\n",
    "            fill=\"none\",\n",
    "            stroke=\"currentColor\"\n",
    "        ),\n",
    "        cls=combine_classes(h(\"[1em]\"), opacity._50),\n",
    "        xmlns=\"http://www.w3.org/2000/svg\",\n",
    "        viewBox=\"0 0 24 24\"\n",
    "    )\n",
    "    \n",
    "    # Search icon SVG\n",
    "    search_icon = Svg(\n",
    "        G(\n",
    "            Circle(cx=\"11\", cy=\"11\", r=\"8\"),\n",
    "            Path(d=\"m21 21-4.3-4.3\"),\n",
    "            stroke_linejoin=\"round\",\n",
    "            stroke_linecap=\"round\",\n",
    "            stroke_width=\"2.5\",\n",
    "            fill=\"none\",\n",
    "            stroke=\"currentColor\"\n",
    "        ),\n",
    "        cls=combine_classes(h(\"[1em]\"), opacity._50),\n",
    "        xmlns=\"http://www.w3.org/2000/svg\",\n",
    "        viewBox=\"0 0 24 24\"\n",
    "    )\n",
    "    \n",
    "    # Email icon SVG\n",
    "    email_icon = Svg(\n",
    "        G(\n",
    "            Rect(width=\"20\", height=\"16\", x=\"2\", y=\"4\", rx=\"2\"),\n",
    "            Path(d=\"m22 7-8.97 5.7a1.94 1.94 0 0 1-2.06 0L2 7\"),\n",
    "            stroke_linejoin=\"round\",\n",
    "            stroke_linecap=\"round\",\n",
    "            stroke_width=\"2.5\",\n",
    "            fill=\"none\",\n",
    "            stroke=\"currentColor\"\n",
    "        ),\n",
    "        cls=combine_classes(h(\"[1em]\"), opacity._50),\n",
    "        xmlns=\"http://www.w3.org/2000/svg\",\n",
    "        viewBox=\"0 0 24 24\"\n",
    "    )\n",
    "    \n",
    "    # Username text input with icon and validator\n",
    "    username_input = Label(\n",
    "        user_icon,\n",
    "        Input(\n",
    "            type=\"text\",\n",
    "            required=True,\n",
    "            placeholder=\"Username\",\n",
    "            pattern=\"[A-Za-z][A-Za-z0-9\\\\-]*\",\n",
    "            minlength=\"3\",\n",
    "            maxlength=\"30\",\n",
    "            title=\"Only letters, numbers or dash\"\n",
    "        ),\n",
    "        cls=combine_classes(text_input, validator)\n",
    "    )\n",
    "    username_hint = P(\n",
    "        \"Must be 3 to 30 characters\",\n",
    "        Br(),\n",
    "        \"containing only letters, numbers or dash\",\n",
    "        cls=str(validator_hint)\n",
    "    )\n",
    "    assert username_input.tag == \"label\"\n",
    "    assert \"input\" in username_input.attrs['class']\n",
    "    assert \"validator\" in username_input.attrs['class']\n",
    "    assert username_input.children[1].attrs['required'] == True\n",
    "    assert username_input.children[1].attrs['pattern'] == \"[A-Za-z][A-Za-z0-9\\\\-]*\"\n",
    "    assert username_hint.attrs['class'] == \"validator-hint\"\n",
    "    \n",
    "    # Search input with icon\n",
    "    search_input = Label(\n",
    "        search_icon,\n",
    "        Input(\n",
    "            type=\"search\",\n",
    "            required=True,\n",
    "            placeholder=\"Search\"\n",
    "        ),\n",
    "        cls=str(text_input)\n",
    "    )\n",
    "    assert search_input.tag == \"label\"\n",
    "    assert search_input.attrs['class'] == \"input\"\n",
    "    assert search_input.children[1].attrs['type'] == \"search\"\n",
    "    assert search_input.children[1].attrs['required'] == True\n",
    "    \n",
    "    # Email input with icon and validator\n",
    "    email_input = Label(\n",
    "        email_icon,\n",
    "        Input(\n",
    "            type=\"email\",\n",
    "            placeholder=\"[email protected]\",\n",
    "            required=True\n",
    "        ),\n",
    "        cls=combine_classes(text_input, validator)\n",
    "    )\n",
    "    email_hint = Div(\n",
    "        \"Enter valid email address\",\n",
    "        cls=combine_classes(validator_hint, display_tw.hidden)\n",
    "    )\n",
    "    assert email_input.tag == \"label\"\n",
    "    assert \"validator\" in email_input.attrs['class']\n",
    "    assert email_input.children[1].attrs['type'] == \"email\"\n",
    "    assert email_input.children[1].attrs['required'] == True\n",
    "    assert \"hidden\" in email_hint.attrs['class']\n",
    "    \n",
    "    # Email input with icon, validator, button, join\n",
    "    email_join = Div(\n",
    "        Div(\n",
    "            Label(\n",
    "                email_icon,\n",
    "                Input(\n",
    "                    type=\"email\",\n",
    "                    placeholder=\"[email protected]\",\n",
    "                    required=True\n",
    "                ),\n",
    "                cls=combine_classes(text_input, validator, join_item)\n",
    "            ),\n",
    "            Div(\n",
    "                \"Enter valid email address\",\n",
    "                cls=combine_classes(validator_hint, display_tw.hidden)\n",
    "            )\n",
    "        ),\n",
    "        Button(\"Join\", cls=combine_classes(btn, btn_colors.neutral, join_item)),\n",
    "        cls=str(join)\n",
    "    )\n",
    "    assert email_join.tag == \"div\"\n",
    "    assert email_join.attrs['class'] == \"join\"\n",
    "    assert \"join-item\" in email_join.children[0].children[0].attrs['class']\n",
    "    assert \"join-item\" in email_join.children[1].attrs['class']\n",
    "    \n",
    "    # Return all elements in a Div\n",
    "    return Div(\n",
    "        username_input,\n",
    "        username_hint,\n",
    "        search_input,\n",
    "        email_input,\n",
    "        email_hint,\n",
    "        email_join\n",
    "    )\n",
    "\n",
    "# Fix missing import\n",
    "from fasthtml.common import Br\n",
    "# Run the tests\n",
    "test_text_input_validators_part1_fasthtml_examples()"
   ]
  },
  {
   "cell_type": "code",
   "execution_count": null,
   "id": "34b1568c-e0f6-4dcc-9af5-bbb53d57936b",
   "metadata": {},
   "outputs": [
    {
     "data": {
      "text/html": [
       "\n",
       "<script>\n",
       "document.body.addEventListener('htmx:configRequest', (event) => {\n",
       "    if(event.detail.path.includes('://')) return;\n",
       "    htmx.config.selfRequestsOnly=false;\n",
       "    event.detail.path = `${location.protocol}//${location.hostname}:8000${event.detail.path}`;\n",
       "});\n",
       "</script>"
      ],
      "text/plain": [
       "<IPython.core.display.HTML object>"
      ]
     },
     "metadata": {},
     "output_type": "display_data"
    },
    {
     "data": {
      "text/html": [
       "<iframe src=\"http://localhost:8000/\" style=\"width: 100%; height: auto; border: none;\" onload=\"{\n",
       "        let frame = this;\n",
       "        window.addEventListener('message', function(e) {\n",
       "            if (e.source !== frame.contentWindow) return; // Only proceed if the message is from this iframe\n",
       "            if (e.data.height) frame.style.height = (e.data.height+1) + 'px';\n",
       "        }, false);\n",
       "    }\" allow=\"accelerometer; autoplay; camera; clipboard-read; clipboard-write; display-capture; encrypted-media; fullscreen; gamepad; geolocation; gyroscope; hid; identity-credentials-get; idle-detection; magnetometer; microphone; midi; payment; picture-in-picture; publickey-credentials-get; screen-wake-lock; serial; usb; web-share; xr-spatial-tracking\"></iframe> "
      ],
      "text/plain": [
       "<IPython.core.display.HTML object>"
      ]
     },
     "metadata": {},
     "output_type": "display_data"
    }
   ],
   "source": [
    "#| eval: false\n",
    "test_func = test_text_input_validators_part1_fasthtml_examples\n",
    "app, rt = create_test_app(theme=DaisyUITheme.LIGHT)\n",
    "\n",
    "@rt\n",
    "def index():\n",
    "    return create_test_page(test_func.__doc__.title().replace('.', ''), test_func())\n",
    "server = start_test_server(app)\n",
    "display(HTMX())\n",
    "server.stop()"
   ]
  },
  {
   "cell_type": "code",
   "execution_count": null,
   "id": "e1c7a280-8ded-46fd-9d8c-5176d5959a44",
   "metadata": {},
   "outputs": [
    {
     "data": {
      "text/markdown": [
       "```html\n",
       "<div>\n",
       "<label class=\"input validator\"><svg xmlns=\"http://www.w3.org/2000/svg\" viewbox=\"0 0 24 24\" class=\"h-[1em] opacity-50\"><g stroke-linejoin=\"round\" stroke-linecap=\"round\" stroke-width=\"2.5\" fill=\"none\" stroke=\"currentColor\"><path d=\"M2.586 17.414A2 2 0 0 0 2 18.828V21a1 1 0 0 0 1 1h3a1 1 0 0 0 1-1v-1a1 1 0 0 1 1-1h1a1 1 0 0 0 1-1v-1a1 1 0 0 1 1-1h.172a2 2 0 0 0 1.414-.586l.814-.814a6.5 6.5 0 1 0-4-4z\"></path><circle r=\".5\" cx=\"16.5\" cy=\"7.5\" fill=\"currentColor\"></circle></g></svg>    <input type=\"password\" required placeholder=\"Password\" minlength=\"8\" pattern=\"(?=.*\\d)(?=.*[a-z])(?=.*[A-Z]).{8,}\" title=\"Must be more than 8 characters, including number, lowercase letter, uppercase letter\">\n",
       "</label>  <p class=\"validator-hint hidden\">\n",
       "Must be more than 8 characters, including<br>At least one number <br>At least one lowercase letter <br>At least one uppercase letter  </p>\n",
       "  <input type=\"number\" required placeholder=\"Type a number between 1 to 10\" min=\"1\" max=\"10\" class=\"input validator\" title=\"Must be between be 1 to 10\">\n",
       "  <p class=\"validator-hint\">Must be between be 1 to 10</p>\n",
       "<label class=\"input validator\"><svg xmlns=\"http://www.w3.org/2000/svg\" viewbox=\"0 0 16 16\" class=\"h-[1em] opacity-50\"><g fill=\"none\"><path d=\"M7.25 11.5C6.83579 11.5 6.5 11.8358 6.5 12.25C6.5 12.6642 6.83579 13 7.25 13H8.75C9.16421 13 9.5 12.6642 9.5 12.25C9.5 11.8358 9.16421 11.5 8.75 11.5H7.25Z\" fill=\"currentColor\"></path><path d=\"M6 1C4.61929 1 3.5 2.11929 3.5 3.5V12.5C3.5 13.8807 4.61929 15 6 15H10C11.3807 15 12.5 13.8807 12.5 12.5V3.5C12.5 2.11929 11.3807 1 10 1H6ZM10 2.5H9.5V3C9.5 3.27614 9.27614 3.5 9 3.5H7C6.72386 3.5 6.5 3.27614 6.5 3V2.5H6C5.44771 2.5 5 2.94772 5 3.5V12.5C5 13.0523 5.44772 13.5 6 13.5H10C10.5523 13.5 11 13.0523 11 12.5V3.5C11 2.94772 10.5523 2.5 10 2.5Z\" fill=\"currentColor\" fill-rule=\"evenodd\" clip-rule=\"evenodd\"></path></g></svg>    <input type=\"tel\" required placeholder=\"Phone\" pattern=\"[0-9]*\" minlength=\"10\" maxlength=\"10\" class=\"tabular-nums\" title=\"Must be 10 digits\">\n",
       "</label>  <p class=\"validator-hint\">Must be 10 digits</p>\n",
       "<label class=\"input validator\"><svg xmlns=\"http://www.w3.org/2000/svg\" viewbox=\"0 0 24 24\" class=\"h-[1em] opacity-50\"><g stroke-linejoin=\"round\" stroke-linecap=\"round\" stroke-width=\"2.5\" fill=\"none\" stroke=\"currentColor\"><path d=\"M10 13a5 5 0 0 0 7.54.54l3-3a5 5 0 0 0-7.07-7.07l-1.72 1.71\"></path><path d=\"M14 11a5 5 0 0 0-7.54-.54l-3 3a5 5 0 0 0 7.07 7.07l1.71-1.71\"></path></g></svg>    <input type=\"url\" required placeholder=\"https://\" value=\"https://\" pattern=\"^(https?://)?([a-zA-Z0-9]([a-zA-Z0-9\\-].*[a-zA-Z0-9])?\\.)+[a-zA-Z].*\" title=\"Must be valid URL\">\n",
       "</label>  <p class=\"validator-hint\">Must be valid URL</p>\n",
       "</div>\n",
       "\n",
       "```"
      ],
      "text/plain": [
       "div((label((svg((g((path((),{'d': 'M2.586 17.414A2 2 0 0 0 2 18.828V21a1 1 0 0 0 1 1h3a1 1 0 0 0 1-1v-1a1 1 0 0 1 1-1h1a1 1 0 0 0 1-1v-1a1 1 0 0 1 1-1h.172a2 2 0 0 0 1.414-.586l.814-.814a6.5 6.5 0 1 0-4-4z'}), circle((),{'r': '.5', 'cx': '16.5', 'cy': '7.5', 'fill': 'currentColor'})),{'stroke-linejoin': 'round', 'stroke-linecap': 'round', 'stroke-width': '2.5', 'fill': 'none', 'stroke': 'currentColor'}),),{'xmlns': 'http://www.w3.org/2000/svg', 'viewbox': '0 0 24 24', 'class': 'h-[1em] opacity-50'}), input((),{'type': 'password', 'required': True, 'placeholder': 'Password', 'minlength': '8', 'pattern': '(?=.*\\\\d)(?=.*[a-z])(?=.*[A-Z]).{8,}', 'title': 'Must be more than 8 characters, including number, lowercase letter, uppercase letter'})),{'class': 'input validator'}), p(('Must be more than 8 characters, including', br((),{}), 'At least one number ', br((),{}), 'At least one lowercase letter ', br((),{}), 'At least one uppercase letter'),{'class': 'validator-hint hidden'}), input((),{'type': 'number', 'required': True, 'placeholder': 'Type a number between 1 to 10', 'min': '1', 'max': '10', 'class': 'input validator', 'title': 'Must be between be 1 to 10'}), p(('Must be between be 1 to 10',),{'class': 'validator-hint'}), label((svg((g((path((),{'d': 'M7.25 11.5C6.83579 11.5 6.5 11.8358 6.5 12.25C6.5 12.6642 6.83579 13 7.25 13H8.75C9.16421 13 9.5 12.6642 9.5 12.25C9.5 11.8358 9.16421 11.5 8.75 11.5H7.25Z', 'fill': 'currentColor'}), path((),{'d': 'M6 1C4.61929 1 3.5 2.11929 3.5 3.5V12.5C3.5 13.8807 4.61929 15 6 15H10C11.3807 15 12.5 13.8807 12.5 12.5V3.5C12.5 2.11929 11.3807 1 10 1H6ZM10 2.5H9.5V3C9.5 3.27614 9.27614 3.5 9 3.5H7C6.72386 3.5 6.5 3.27614 6.5 3V2.5H6C5.44771 2.5 5 2.94772 5 3.5V12.5C5 13.0523 5.44772 13.5 6 13.5H10C10.5523 13.5 11 13.0523 11 12.5V3.5C11 2.94772 10.5523 2.5 10 2.5Z', 'fill': 'currentColor', 'fill-rule': 'evenodd', 'clip-rule': 'evenodd'})),{'fill': 'none'}),),{'xmlns': 'http://www.w3.org/2000/svg', 'viewbox': '0 0 16 16', 'class': 'h-[1em] opacity-50'}), input((),{'type': 'tel', 'required': True, 'placeholder': 'Phone', 'pattern': '[0-9]*', 'minlength': '10', 'maxlength': '10', 'class': 'tabular-nums', 'title': 'Must be 10 digits'})),{'class': 'input validator'}), p(('Must be 10 digits',),{'class': 'validator-hint'}), label((svg((g((path((),{'d': 'M10 13a5 5 0 0 0 7.54.54l3-3a5 5 0 0 0-7.07-7.07l-1.72 1.71'}), path((),{'d': 'M14 11a5 5 0 0 0-7.54-.54l-3 3a5 5 0 0 0 7.07 7.07l1.71-1.71'})),{'stroke-linejoin': 'round', 'stroke-linecap': 'round', 'stroke-width': '2.5', 'fill': 'none', 'stroke': 'currentColor'}),),{'xmlns': 'http://www.w3.org/2000/svg', 'viewbox': '0 0 24 24', 'class': 'h-[1em] opacity-50'}), input((),{'type': 'url', 'required': True, 'placeholder': 'https://', 'value': 'https://', 'pattern': '^(https?://)?([a-zA-Z0-9]([a-zA-Z0-9\\\\-].*[a-zA-Z0-9])?\\\\.)+[a-zA-Z].*', 'title': 'Must be valid URL'})),{'class': 'input validator'}), p(('Must be valid URL',),{'class': 'validator-hint'})),{})"
      ]
     },
     "execution_count": null,
     "metadata": {},
     "output_type": "execute_result"
    }
   ],
   "source": [
    "#| export\n",
    "def test_text_input_validators_part2_fasthtml_examples():\n",
    "    \"\"\"Test text input validators part 2: password, number, phone, URL from daisyUI v5 documentation.\"\"\"\n",
    "    from fasthtml.common import Label, Input, P, Div, Br\n",
    "    from fasthtml.svg import Svg, G, Circle, Path\n",
    "    from cjm_fasthtml_tailwind.utilities.sizing import size_util, h\n",
    "    from cjm_fasthtml_tailwind.utilities.effects import opacity\n",
    "    from cjm_fasthtml_tailwind.utilities.layout import display_tw\n",
    "    from cjm_fasthtml_tailwind.utilities.typography import tabular_nums\n",
    "    from cjm_fasthtml_daisyui.components.data_input.validator import validator, validator_hint\n",
    "    \n",
    "    # Password icon SVG\n",
    "    password_icon = Svg(\n",
    "        G(\n",
    "            Path(\n",
    "                d=\"M2.586 17.414A2 2 0 0 0 2 18.828V21a1 1 0 0 0 1 1h3a1 1 0 0 0 1-1v-1a1 1 0 0 1 1-1h1a1 1 0 0 0 1-1v-1a1 1 0 0 1 1-1h.172a2 2 0 0 0 1.414-.586l.814-.814a6.5 6.5 0 1 0-4-4z\"\n",
    "            ),\n",
    "            Circle(cx=\"16.5\", cy=\"7.5\", r=\".5\", fill=\"currentColor\"),\n",
    "            stroke_linejoin=\"round\",\n",
    "            stroke_linecap=\"round\",\n",
    "            stroke_width=\"2.5\",\n",
    "            fill=\"none\",\n",
    "            stroke=\"currentColor\"\n",
    "        ),\n",
    "        cls=combine_classes(h(\"[1em]\"), opacity._50),\n",
    "        xmlns=\"http://www.w3.org/2000/svg\",\n",
    "        viewBox=\"0 0 24 24\"\n",
    "    )\n",
    "    \n",
    "    # Phone icon SVG (using 16x16 viewBox as per the HTML)\n",
    "    phone_icon = Svg(\n",
    "        G(\n",
    "            Path(\n",
    "                d=\"M7.25 11.5C6.83579 11.5 6.5 11.8358 6.5 12.25C6.5 12.6642 6.83579 13 7.25 13H8.75C9.16421 13 9.5 12.6642 9.5 12.25C9.5 11.8358 9.16421 11.5 8.75 11.5H7.25Z\",\n",
    "                fill=\"currentColor\"\n",
    "            ),\n",
    "            Path(\n",
    "                fill_rule=\"evenodd\",\n",
    "                clip_rule=\"evenodd\",\n",
    "                d=\"M6 1C4.61929 1 3.5 2.11929 3.5 3.5V12.5C3.5 13.8807 4.61929 15 6 15H10C11.3807 15 12.5 13.8807 12.5 12.5V3.5C12.5 2.11929 11.3807 1 10 1H6ZM10 2.5H9.5V3C9.5 3.27614 9.27614 3.5 9 3.5H7C6.72386 3.5 6.5 3.27614 6.5 3V2.5H6C5.44771 2.5 5 2.94772 5 3.5V12.5C5 13.0523 5.44772 13.5 6 13.5H10C10.5523 13.5 11 13.0523 11 12.5V3.5C11 2.94772 10.5523 2.5 10 2.5Z\",\n",
    "                fill=\"currentColor\"\n",
    "            ),\n",
    "            fill=\"none\"\n",
    "        ),\n",
    "        cls=combine_classes(h(\"[1em]\"), opacity._50),\n",
    "        xmlns=\"http://www.w3.org/2000/svg\",\n",
    "        viewBox=\"0 0 16 16\"\n",
    "    )\n",
    "    \n",
    "    # URL icon SVG\n",
    "    url_icon = Svg(\n",
    "        G(\n",
    "            Path(d=\"M10 13a5 5 0 0 0 7.54.54l3-3a5 5 0 0 0-7.07-7.07l-1.72 1.71\"),\n",
    "            Path(d=\"M14 11a5 5 0 0 0-7.54-.54l-3 3a5 5 0 0 0 7.07 7.07l1.71-1.71\"),\n",
    "            stroke_linejoin=\"round\",\n",
    "            stroke_linecap=\"round\",\n",
    "            stroke_width=\"2.5\",\n",
    "            fill=\"none\",\n",
    "            stroke=\"currentColor\"\n",
    "        ),\n",
    "        cls=combine_classes(h(\"[1em]\"), opacity._50),\n",
    "        xmlns=\"http://www.w3.org/2000/svg\",\n",
    "        viewBox=\"0 0 24 24\"\n",
    "    )\n",
    "    \n",
    "    # Password input with icon and validator\n",
    "    password_input = Label(\n",
    "        password_icon,\n",
    "        Input(\n",
    "            type=\"password\",\n",
    "            required=True,\n",
    "            placeholder=\"Password\",\n",
    "            minlength=\"8\",\n",
    "            pattern=\"(?=.*\\\\d)(?=.*[a-z])(?=.*[A-Z]).{8,}\",\n",
    "            title=\"Must be more than 8 characters, including number, lowercase letter, uppercase letter\"\n",
    "        ),\n",
    "        cls=combine_classes(text_input, validator)\n",
    "    )\n",
    "    password_hint = P(\n",
    "        \"Must be more than 8 characters, including\",\n",
    "        Br(),\n",
    "        \"At least one number \",\n",
    "        Br(),\n",
    "        \"At least one lowercase letter \",\n",
    "        Br(),\n",
    "        \"At least one uppercase letter\",\n",
    "        cls=combine_classes(validator_hint, display_tw.hidden)\n",
    "    )\n",
    "    assert password_input.tag == \"label\"\n",
    "    assert \"validator\" in password_input.attrs['class']\n",
    "    assert password_input.children[1].attrs['type'] == \"password\"\n",
    "    assert password_input.children[1].attrs['minlength'] == \"8\"\n",
    "    assert \"hidden\" in password_hint.attrs['class']\n",
    "    \n",
    "    # Number input with validator\n",
    "    number_input = Input(\n",
    "        type=\"number\",\n",
    "        cls=combine_classes(text_input, validator),\n",
    "        required=True,\n",
    "        placeholder=\"Type a number between 1 to 10\",\n",
    "        min=\"1\",\n",
    "        max=\"10\",\n",
    "        title=\"Must be between be 1 to 10\"\n",
    "    )\n",
    "    number_hint = P(\n",
    "        \"Must be between be 1 to 10\",\n",
    "        cls=str(validator_hint)\n",
    "    )\n",
    "    assert number_input.tag == \"input\"\n",
    "    assert number_input.attrs['type'] == \"number\"\n",
    "    assert \"validator\" in number_input.attrs['class']\n",
    "    assert number_input.attrs['min'] == \"1\"\n",
    "    assert number_input.attrs['max'] == \"10\"\n",
    "    \n",
    "    # Telephone number input with icon and validator\n",
    "    tel_input = Label(\n",
    "        phone_icon,\n",
    "        Input(\n",
    "            type=\"tel\",\n",
    "            cls=str(tabular_nums),\n",
    "            required=True,\n",
    "            placeholder=\"Phone\",\n",
    "            pattern=\"[0-9]*\",\n",
    "            minlength=\"10\",\n",
    "            maxlength=\"10\",\n",
    "            title=\"Must be 10 digits\"\n",
    "        ),\n",
    "        cls=combine_classes(text_input, validator)\n",
    "    )\n",
    "    tel_hint = P(\n",
    "        \"Must be 10 digits\",\n",
    "        cls=str(validator_hint)\n",
    "    )\n",
    "    assert tel_input.tag == \"label\"\n",
    "    assert \"validator\" in tel_input.attrs['class']\n",
    "    assert tel_input.children[1].attrs['type'] == \"tel\"\n",
    "    assert tel_input.children[1].attrs['class'] == \"tabular-nums\"\n",
    "    assert tel_input.children[1].attrs['pattern'] == \"[0-9]*\"\n",
    "    \n",
    "    # URL with icon and validator\n",
    "    url_input = Label(\n",
    "        url_icon,\n",
    "        Input(\n",
    "            type=\"url\",\n",
    "            required=True,\n",
    "            placeholder=\"https://\",\n",
    "            value=\"https://\",\n",
    "            pattern=\"^(https?://)?([a-zA-Z0-9]([a-zA-Z0-9\\\\-].*[a-zA-Z0-9])?\\\\.)+[a-zA-Z].*\",\n",
    "            title=\"Must be valid URL\"\n",
    "        ),\n",
    "        cls=combine_classes(text_input, validator)\n",
    "    )\n",
    "    url_hint = P(\n",
    "        \"Must be valid URL\",\n",
    "        cls=str(validator_hint)\n",
    "    )\n",
    "    assert url_input.tag == \"label\"\n",
    "    assert \"validator\" in url_input.attrs['class']\n",
    "    assert url_input.children[1].attrs['type'] == \"url\"\n",
    "    assert url_input.children[1].attrs['value'] == \"https://\"\n",
    "    \n",
    "    # Return all elements in a Div\n",
    "    return Div(\n",
    "        password_input,\n",
    "        password_hint,\n",
    "        number_input,\n",
    "        number_hint,\n",
    "        tel_input,\n",
    "        tel_hint,\n",
    "        url_input,\n",
    "        url_hint\n",
    "    )\n",
    "\n",
    "# Run the tests\n",
    "test_text_input_validators_part2_fasthtml_examples()"
   ]
  },
  {
   "cell_type": "code",
   "execution_count": null,
   "id": "3b75cfd3-6a2f-4259-a519-023d3cff7737",
   "metadata": {},
   "outputs": [
    {
     "data": {
      "text/html": [
       "\n",
       "<script>\n",
       "document.body.addEventListener('htmx:configRequest', (event) => {\n",
       "    if(event.detail.path.includes('://')) return;\n",
       "    htmx.config.selfRequestsOnly=false;\n",
       "    event.detail.path = `${location.protocol}//${location.hostname}:8000${event.detail.path}`;\n",
       "});\n",
       "</script>"
      ],
      "text/plain": [
       "<IPython.core.display.HTML object>"
      ]
     },
     "metadata": {},
     "output_type": "display_data"
    },
    {
     "data": {
      "text/html": [
       "<iframe src=\"http://localhost:8000/\" style=\"width: 100%; height: auto; border: none;\" onload=\"{\n",
       "        let frame = this;\n",
       "        window.addEventListener('message', function(e) {\n",
       "            if (e.source !== frame.contentWindow) return; // Only proceed if the message is from this iframe\n",
       "            if (e.data.height) frame.style.height = (e.data.height+1) + 'px';\n",
       "        }, false);\n",
       "    }\" allow=\"accelerometer; autoplay; camera; clipboard-read; clipboard-write; display-capture; encrypted-media; fullscreen; gamepad; geolocation; gyroscope; hid; identity-credentials-get; idle-detection; magnetometer; microphone; midi; payment; picture-in-picture; publickey-credentials-get; screen-wake-lock; serial; usb; web-share; xr-spatial-tracking\"></iframe> "
      ],
      "text/plain": [
       "<IPython.core.display.HTML object>"
      ]
     },
     "metadata": {},
     "output_type": "display_data"
    }
   ],
   "source": [
    "#| eval: false\n",
    "test_func = test_text_input_validators_part2_fasthtml_examples\n",
    "app, rt = create_test_app(theme=DaisyUITheme.LIGHT)\n",
    "\n",
    "@rt\n",
    "def index():\n",
    "    return create_test_page(test_func.__doc__.title().replace('.', ''), test_func())\n",
    "server = start_test_server(app)\n",
    "display(HTMX())\n",
    "server.stop()"
   ]
  },
  {
   "cell_type": "code",
   "execution_count": null,
   "id": "1a8adee8-0b93-4f4f-b466-222a2b5b31c4",
   "metadata": {},
   "outputs": [],
   "source": []
  },
  {
   "cell_type": "code",
   "execution_count": null,
   "id": "cae233d1-c07b-4aa0-9edc-2c56fd90fb89",
   "metadata": {},
   "outputs": [],
   "source": []
  },
  {
   "cell_type": "code",
   "execution_count": null,
   "id": "041cfd09-01e3-45fd-a564-506a66f81029",
   "metadata": {},
   "outputs": [],
   "source": []
  },
  {
   "cell_type": "code",
   "execution_count": null,
   "id": "115d94bc-4a92-4630-8f06-f1bc1f22e5d9",
   "metadata": {},
   "outputs": [],
   "source": []
  },
  {
   "cell_type": "code",
   "execution_count": null,
   "id": "95800ebb-52ba-4833-a782-79047bf92d17",
   "metadata": {},
   "outputs": [],
   "source": []
  },
  {
   "cell_type": "code",
   "execution_count": null,
   "id": "b920a685-3824-4cb8-9806-2dfa062e32b7",
   "metadata": {},
   "outputs": [],
   "source": []
  },
  {
   "cell_type": "code",
   "execution_count": null,
   "id": "e2554261-385a-4568-a590-6b601156ea7d",
   "metadata": {},
   "outputs": [],
   "source": []
  },
  {
   "cell_type": "code",
   "execution_count": null,
   "id": "3425b59e-7134-4d6b-b1d7-3c8fb50bf1f6",
   "metadata": {},
   "outputs": [],
   "source": []
  },
  {
   "cell_type": "code",
   "execution_count": null,
   "id": "11ed6be7-f4d4-4b15-b656-23c000245ca4",
   "metadata": {},
   "outputs": [],
   "source": []
  },
  {
   "cell_type": "code",
   "execution_count": null,
   "id": "3a3c02d6-6f8c-4254-a070-e3317e5fcab5",
   "metadata": {},
   "outputs": [],
   "source": []
  },
  {
   "cell_type": "code",
   "execution_count": null,
   "id": "0b930143-bca6-4085-aa60-bd51b6632304",
   "metadata": {},
   "outputs": [],
   "source": []
  },
  {
   "cell_type": "code",
   "execution_count": null,
   "id": "bead9f76-fe88-4d03-b839-57e1da2199d9",
   "metadata": {},
   "outputs": [],
   "source": []
  },
  {
   "cell_type": "code",
   "execution_count": null,
   "id": "4740739b-3d1c-4b24-b279-6873aa7d4941",
   "metadata": {},
   "outputs": [],
   "source": []
  },
  {
   "cell_type": "code",
   "execution_count": null,
   "id": "1d5da9a2-63fd-49fe-9236-9c992420994e",
   "metadata": {},
   "outputs": [],
   "source": []
  },
  {
   "cell_type": "code",
   "execution_count": null,
   "id": "cb9f5758-c9ea-4cd1-89ba-d263bd3619dc",
   "metadata": {},
   "outputs": [],
   "source": []
  },
  {
   "cell_type": "code",
   "execution_count": null,
   "id": "6efa9f43-04ec-4ca9-8470-663929b34b43",
   "metadata": {},
   "outputs": [],
   "source": []
  },
  {
   "cell_type": "code",
   "execution_count": null,
   "id": "e7f29184-1bc2-4885-adda-f2dba386085f",
   "metadata": {},
   "outputs": [],
   "source": []
  },
  {
   "cell_type": "code",
   "execution_count": null,
   "id": "4f193e1a-780e-411d-89f7-4b1b90c73bce",
   "metadata": {},
   "outputs": [],
   "source": []
  },
  {
   "cell_type": "code",
   "execution_count": null,
   "id": "92e808a9-f85a-40b9-a9b4-506003d097b9",
   "metadata": {},
   "outputs": [],
   "source": []
  },
  {
   "cell_type": "code",
   "execution_count": null,
   "id": "c14941c1-4e09-47f5-a366-29bedec4f73b",
   "metadata": {},
   "outputs": [],
   "source": []
  },
  {
   "cell_type": "code",
   "execution_count": null,
   "id": "48ebe6f3-9861-48db-9869-2e75a3b9059e",
   "metadata": {},
   "outputs": [],
   "source": []
  },
  {
   "cell_type": "code",
   "execution_count": null,
   "id": "243c71e3-5bb8-40e1-b8bf-ace5b3131b93",
   "metadata": {},
   "outputs": [],
   "source": []
  },
  {
   "cell_type": "code",
   "execution_count": null,
   "id": "be18ad96-6adf-4939-8e77-6fcb2a03ee82",
   "metadata": {},
   "outputs": [],
   "source": []
  },
  {
   "cell_type": "code",
   "execution_count": null,
   "id": "222fb5d2-0b90-4e9b-9023-ba5d30feea0e",
   "metadata": {},
   "outputs": [],
   "source": []
  },
  {
   "cell_type": "code",
   "execution_count": null,
   "id": "1a15c873-e6f4-4ec8-960b-9d10c1d9004a",
   "metadata": {},
   "outputs": [],
   "source": []
  },
  {
   "cell_type": "code",
   "execution_count": null,
   "id": "fee2b03e-f5d4-4420-8745-d3e531b8b809",
   "metadata": {},
   "outputs": [],
   "source": []
  },
  {
   "cell_type": "code",
   "execution_count": null,
   "id": "4fa502d4-d2c3-4140-9a15-b2e97e0c220a",
   "metadata": {},
   "outputs": [],
   "source": []
  },
  {
   "cell_type": "code",
   "execution_count": null,
   "id": "5458f786-9a5a-469c-bc92-49022ccddc5b",
   "metadata": {},
   "outputs": [],
   "source": []
  },
  {
   "cell_type": "code",
   "execution_count": null,
   "id": "fe162f43-d97a-49b2-848f-be9a8526ed0c",
   "metadata": {},
   "outputs": [],
   "source": []
  },
  {
   "cell_type": "code",
   "execution_count": null,
   "id": "dbd5d671-a5a0-40d7-8c72-f6016f024895",
   "metadata": {},
   "outputs": [],
   "source": []
  },
  {
   "cell_type": "code",
   "execution_count": null,
   "id": "e51de763-96bb-46d9-a9d1-f4299a095925",
   "metadata": {},
   "outputs": [],
   "source": []
  },
  {
   "cell_type": "code",
   "execution_count": null,
   "id": "d36c83a6-a240-4c97-8d8a-7f9530fedbe7",
   "metadata": {},
   "outputs": [],
   "source": []
  },
  {
   "cell_type": "code",
   "execution_count": null,
   "id": "95c0c736-5a5b-43d9-9cc3-5f4b9f94bc46",
   "metadata": {},
   "outputs": [],
   "source": []
  },
  {
   "cell_type": "code",
   "execution_count": null,
   "id": "dde90853-7d42-4dcc-900a-9c98b53b49d5",
   "metadata": {},
   "outputs": [],
   "source": []
  },
  {
   "cell_type": "code",
   "execution_count": null,
   "id": "1f3bdf9a-1f61-4595-86d6-a13cc334f4a4",
   "metadata": {},
   "outputs": [],
   "source": []
  },
  {
   "cell_type": "code",
   "execution_count": null,
   "id": "930f2a3c-7070-4538-bd06-35a0d7e30a54",
   "metadata": {},
   "outputs": [],
   "source": []
  },
  {
   "cell_type": "code",
   "execution_count": null,
   "id": "338320d9-cef5-4692-8baf-72448e326f9a",
   "metadata": {},
   "outputs": [],
   "source": []
  },
  {
   "cell_type": "code",
   "execution_count": null,
   "id": "58ad9c48-8f0b-4010-8859-7597f9785115",
   "metadata": {},
   "outputs": [],
   "source": []
  },
  {
   "cell_type": "code",
   "execution_count": null,
   "id": "237cdcf3-c5a5-4fbb-bd84-671c57e3c07d",
   "metadata": {},
   "outputs": [],
   "source": []
  },
  {
   "cell_type": "code",
   "execution_count": null,
   "id": "684bad16-e299-414a-813f-7c95afba31ec",
   "metadata": {},
   "outputs": [],
   "source": []
  },
  {
   "cell_type": "code",
   "execution_count": null,
   "id": "1ea81e36-5444-417d-b8c9-b147cff07289",
   "metadata": {},
   "outputs": [],
   "source": []
  },
  {
   "cell_type": "code",
   "execution_count": null,
   "id": "831fb1aa-6610-4b20-9d94-5f2c22116450",
   "metadata": {},
   "outputs": [],
   "source": []
  },
  {
   "cell_type": "code",
   "execution_count": null,
   "id": "c37abf5c-eca5-40bc-9112-38452ec9b8e4",
   "metadata": {},
   "outputs": [],
   "source": []
  },
  {
   "cell_type": "code",
   "execution_count": null,
   "id": "b91dc995-7d51-4725-82e9-4309875d4b97",
   "metadata": {},
   "outputs": [],
   "source": []
  },
  {
   "cell_type": "code",
   "execution_count": null,
   "id": "585e8077-7ea2-440c-861c-9e4a86aa3f03",
   "metadata": {},
   "outputs": [],
   "source": []
  },
  {
   "cell_type": "code",
   "execution_count": null,
   "id": "5e5a5713-5e4e-421a-9b24-965971b3ac4f",
   "metadata": {},
   "outputs": [],
   "source": []
  },
  {
   "cell_type": "code",
   "execution_count": null,
   "id": "8863b158-810f-4bdc-974c-21ca5944cb86",
   "metadata": {},
   "outputs": [],
   "source": []
  },
  {
   "cell_type": "code",
   "execution_count": null,
   "id": "f457b50f-751d-4742-9bbf-d3391f70214b",
   "metadata": {},
   "outputs": [],
   "source": []
  },
  {
   "cell_type": "code",
   "execution_count": null,
   "id": "cbdac6fa-b2d8-4276-ab23-a3b433af258a",
   "metadata": {},
   "outputs": [],
   "source": []
  },
  {
   "cell_type": "code",
   "execution_count": null,
   "id": "65ff5211-266c-4881-b919-4be79b8416b8",
   "metadata": {},
   "outputs": [],
   "source": []
  },
  {
   "cell_type": "code",
   "execution_count": null,
   "id": "4a19d0d7-2ae0-4b7c-984b-e4f5e7d99f1d",
   "metadata": {},
   "outputs": [],
   "source": []
  },
  {
   "cell_type": "code",
   "execution_count": null,
   "id": "c2b1c1eb-7fa8-4f1b-8385-0752748d6b83",
   "metadata": {},
   "outputs": [],
   "source": []
  },
  {
   "cell_type": "code",
   "execution_count": null,
   "id": "5c7df09b-b499-45ca-8973-05bd51dc05e9",
   "metadata": {},
   "outputs": [],
   "source": []
  },
  {
   "cell_type": "code",
   "execution_count": null,
   "id": "5daf8fcf-ac79-41ab-a6b6-4dfce0550cf9",
   "metadata": {},
   "outputs": [],
   "source": []
  },
  {
   "cell_type": "code",
   "execution_count": null,
   "id": "21999be1-a014-497f-9583-0d035a55b000",
   "metadata": {},
   "outputs": [],
   "source": []
  },
  {
   "cell_type": "code",
   "execution_count": null,
   "id": "248adc40-6e77-4203-9830-de838e25a00a",
   "metadata": {},
   "outputs": [],
   "source": []
  },
  {
   "cell_type": "code",
   "execution_count": null,
   "id": "a2029d6d-bf22-4e16-87e1-d609762dc867",
   "metadata": {},
   "outputs": [],
   "source": []
  },
  {
   "cell_type": "code",
   "execution_count": null,
   "id": "c9dfaad9-504c-4853-886b-2d1adb1cc3a0",
   "metadata": {},
   "outputs": [],
   "source": []
  },
  {
   "cell_type": "code",
   "execution_count": null,
   "id": "454d5b84-fc57-44ab-a6f0-3123333998cb",
   "metadata": {},
   "outputs": [],
   "source": []
  },
  {
   "cell_type": "code",
   "execution_count": null,
   "id": "d471d21b-6fe5-4c63-90be-5176c4cbd08b",
   "metadata": {},
   "outputs": [],
   "source": []
  },
  {
   "cell_type": "code",
   "execution_count": null,
   "id": "73b88b7e-0be6-4a82-9c02-f3df8af20015",
   "metadata": {},
   "outputs": [],
   "source": []
  },
  {
   "cell_type": "code",
   "execution_count": null,
   "id": "7ab8257a-c30b-45b6-a784-729b67686791",
   "metadata": {},
   "outputs": [],
   "source": [
    "#| hide\n",
    "import nbdev; nbdev.nbdev_export()"
   ]
  }
 ],
 "metadata": {
  "kernelspec": {
   "display_name": "python3",
   "language": "python",
   "name": "python3"
  }
 },
 "nbformat": 4,
 "nbformat_minor": 5
}
