{
 "cells": [
  {
   "cell_type": "markdown",
   "id": "7c51b46b-ece1-456d-8e84-7de122e72b62",
   "metadata": {},
   "source": [
    "# toggle\n",
    "\n",
    "> Toggle is a checkbox that is styled to look like a switch button."
   ]
  },
  {
   "cell_type": "code",
   "execution_count": null,
   "id": "25536bdc-e099-477f-9e2d-a5f71df5dff2",
   "metadata": {},
   "outputs": [],
   "source": [
    "#| default_exp components.data_input.toggle"
   ]
  },
  {
   "cell_type": "code",
   "execution_count": null,
   "id": "2e6f21ce-7766-455a-8ebb-df2c17e7d977",
   "metadata": {},
   "outputs": [],
   "source": [
    "#| hide\n",
    "from nbdev.showdoc import *"
   ]
  },
  {
   "cell_type": "code",
   "execution_count": null,
   "id": "045c6538-403e-4222-b3bb-db20f188524d",
   "metadata": {},
   "outputs": [],
   "source": [
    "#| export\n",
    "\n",
    "from cjm_fasthtml_tailwind.core.base import (\n",
    "    SingleValueFactory, combine_classes\n",
    ")\n",
    "from cjm_fasthtml_tailwind.builders.scales import SimpleFactory, enums_to_simple_factory\n",
    "\n",
    "from cjm_fasthtml_daisyui.builders.colors import SemanticColorBrand, SemanticColorStatus\n",
    "from cjm_fasthtml_daisyui.builders.sizes import DaisyUINamedSize\n",
    "\n",
    "from fasthtml.common import Div\n",
    "from fasthtml.jupyter import JupyUvi, HTMX\n",
    "from cjm_fasthtml_daisyui.core.testing import create_test_app, create_test_page, start_test_server\n",
    "from cjm_fasthtml_daisyui.core.themes import DaisyUITheme\n",
    "from IPython.display import display"
   ]
  },
  {
   "cell_type": "markdown",
   "id": "f3170055-e322-4e0f-a745-70d6b059a04f",
   "metadata": {},
   "source": [
    "### Base Toggle"
   ]
  },
  {
   "cell_type": "code",
   "execution_count": null,
   "id": "c802d106-49fb-4d34-ba04-5f54c88e165b",
   "metadata": {},
   "outputs": [],
   "source": [
    "#| export\n",
    "toggle = SingleValueFactory(\"toggle\", \"Base toggle component for <input type=\\\"checkbox\\\"> element\") # Base toggle component"
   ]
  },
  {
   "cell_type": "markdown",
   "id": "019b6ac7-6600-4780-9b5c-e1733aaec3e2",
   "metadata": {},
   "source": [
    "### Toggle Colors"
   ]
  },
  {
   "cell_type": "code",
   "execution_count": null,
   "id": "636c6bcd-2176-4191-aa39-c937893243e2",
   "metadata": {},
   "outputs": [],
   "source": [
    "#| export\n",
    "toggle_colors = enums_to_simple_factory(toggle, [SemanticColorBrand, SemanticColorStatus], \"toggle color variants using daisyUI semantic colors\") # toggle color variants"
   ]
  },
  {
   "cell_type": "markdown",
   "id": "70a15bfa-d0e7-4993-b1b7-3a1e0cbc28e9",
   "metadata": {},
   "source": [
    "### Toggle Sizes"
   ]
  },
  {
   "cell_type": "code",
   "execution_count": null,
   "id": "ad2d932c-79ea-4792-bdaf-5bda859340ca",
   "metadata": {},
   "outputs": [],
   "source": [
    "#| export\n",
    "toggle_sizes = enums_to_simple_factory(toggle, [DaisyUINamedSize], \"toggle size variants from extra small to extra large\") # toggle size variants"
   ]
  },
  {
   "cell_type": "markdown",
   "id": "ef994e70-0bc7-4e1d-be3d-b913f62950f9",
   "metadata": {},
   "source": [
    "### Toggle Test Examples"
   ]
  },
  {
   "cell_type": "code",
   "execution_count": null,
   "id": "3035ff66-e4e7-410c-8b1e-86a879f66112",
   "metadata": {},
   "outputs": [],
   "source": [
    "#| export\n",
    "def test_toggle_basic_examples():\n",
    "    \"\"\"Test basic toggle utilities.\"\"\"\n",
    "    # Basic toggle\n",
    "    assert str(toggle) == \"toggle\"\n",
    "    \n",
    "    # Test with modifiers\n",
    "    assert str(toggle.hover) == \"hover:toggle\"\n",
    "    assert str(toggle.md) == \"md:toggle\"\n",
    "    assert str(toggle.dark) == \"dark:toggle\"\n",
    "\n",
    "# Run the tests\n",
    "test_toggle_basic_examples()"
   ]
  },
  {
   "cell_type": "code",
   "execution_count": null,
   "id": "4666a5a3-26bb-4d91-b5be-f941df8f9d2f",
   "metadata": {},
   "outputs": [],
   "source": [
    "#| export\n",
    "def test_toggle_colors_examples():\n",
    "    \"\"\"Test toggle color variants.\"\"\"\n",
    "    # All color variants\n",
    "    assert str(toggle_colors.neutral) == \"toggle-neutral\"\n",
    "    assert str(toggle_colors.primary) == \"toggle-primary\"\n",
    "    assert str(toggle_colors.secondary) == \"toggle-secondary\"\n",
    "    assert str(toggle_colors.accent) == \"toggle-accent\"\n",
    "    assert str(toggle_colors.info) == \"toggle-info\"\n",
    "    assert str(toggle_colors.success) == \"toggle-success\"\n",
    "    assert str(toggle_colors.warning) == \"toggle-warning\"\n",
    "    assert str(toggle_colors.error) == \"toggle-error\"\n",
    "    \n",
    "    # With modifiers\n",
    "    assert str(toggle_colors.primary.hover) == \"hover:toggle-primary\"\n",
    "    assert str(toggle_colors.success.focus) == \"focus:toggle-success\"\n",
    "\n",
    "# Run the tests\n",
    "test_toggle_colors_examples()"
   ]
  },
  {
   "cell_type": "code",
   "execution_count": null,
   "id": "85d72161-e718-4c66-bc59-a3569b7f7616",
   "metadata": {},
   "outputs": [],
   "source": [
    "#| export\n",
    "def test_toggle_sizes_examples():\n",
    "    \"\"\"Test toggle size variants.\"\"\"\n",
    "    assert str(toggle_sizes.xs) == \"toggle-xs\"\n",
    "    assert str(toggle_sizes.sm) == \"toggle-sm\"\n",
    "    assert str(toggle_sizes.md) == \"toggle-md\"\n",
    "    assert str(toggle_sizes.lg) == \"toggle-lg\"\n",
    "    assert str(toggle_sizes.xl) == \"toggle-xl\"\n",
    "    \n",
    "    # With responsive modifiers\n",
    "    assert str(toggle_sizes.xs.sm) == \"sm:toggle-xs\"\n",
    "    assert str(toggle_sizes.lg.md) == \"md:toggle-lg\"\n",
    "\n",
    "# Run the tests\n",
    "test_toggle_sizes_examples()"
   ]
  },
  {
   "cell_type": "code",
   "execution_count": null,
   "id": "aa019e5f-164f-4b31-92ec-12284974a12e",
   "metadata": {},
   "outputs": [],
   "source": []
  },
  {
   "cell_type": "code",
   "execution_count": null,
   "id": "a9d78aa3-0be8-49e6-8bfb-cb9a232ee1ee",
   "metadata": {},
   "outputs": [],
   "source": []
  },
  {
   "cell_type": "code",
   "execution_count": null,
   "id": "01785a18-9bb0-4dbc-9eae-04addf6dede9",
   "metadata": {},
   "outputs": [],
   "source": []
  },
  {
   "cell_type": "code",
   "execution_count": null,
   "id": "43a3d5aa-4f07-48f4-b7c3-5c63612f0fb2",
   "metadata": {},
   "outputs": [],
   "source": []
  },
  {
   "cell_type": "code",
   "execution_count": null,
   "id": "248adc40-6e77-4203-9830-de838e25a00a",
   "metadata": {},
   "outputs": [],
   "source": []
  },
  {
   "cell_type": "code",
   "execution_count": null,
   "id": "a2029d6d-bf22-4e16-87e1-d609762dc867",
   "metadata": {},
   "outputs": [],
   "source": []
  },
  {
   "cell_type": "code",
   "execution_count": null,
   "id": "c9dfaad9-504c-4853-886b-2d1adb1cc3a0",
   "metadata": {},
   "outputs": [],
   "source": []
  },
  {
   "cell_type": "code",
   "execution_count": null,
   "id": "454d5b84-fc57-44ab-a6f0-3123333998cb",
   "metadata": {},
   "outputs": [],
   "source": []
  },
  {
   "cell_type": "code",
   "execution_count": null,
   "id": "d471d21b-6fe5-4c63-90be-5176c4cbd08b",
   "metadata": {},
   "outputs": [],
   "source": []
  },
  {
   "cell_type": "code",
   "execution_count": null,
   "id": "73b88b7e-0be6-4a82-9c02-f3df8af20015",
   "metadata": {},
   "outputs": [],
   "source": []
  },
  {
   "cell_type": "code",
   "execution_count": null,
   "id": "7ab8257a-c30b-45b6-a784-729b67686791",
   "metadata": {},
   "outputs": [],
   "source": [
    "#| hide\n",
    "import nbdev; nbdev.nbdev_export()"
   ]
  }
 ],
 "metadata": {
  "kernelspec": {
   "display_name": "python3",
   "language": "python",
   "name": "python3"
  }
 },
 "nbformat": 4,
 "nbformat_minor": 5
}
