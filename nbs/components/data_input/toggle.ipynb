{
 "cells": [
  {
   "cell_type": "markdown",
   "id": "7c51b46b-ece1-456d-8e84-7de122e72b62",
   "metadata": {},
   "source": [
    "# toggle\n",
    "\n",
    "> Toggle is a checkbox that is styled to look like a switch button."
   ]
  },
  {
   "cell_type": "code",
   "execution_count": null,
   "id": "25536bdc-e099-477f-9e2d-a5f71df5dff2",
   "metadata": {},
   "outputs": [],
   "source": [
    "#| default_exp components.data_input.toggle"
   ]
  },
  {
   "cell_type": "code",
   "execution_count": null,
   "id": "2e6f21ce-7766-455a-8ebb-df2c17e7d977",
   "metadata": {},
   "outputs": [],
   "source": [
    "#| hide\n",
    "from nbdev.showdoc import *"
   ]
  },
  {
   "cell_type": "code",
   "execution_count": null,
   "id": "045c6538-403e-4222-b3bb-db20f188524d",
   "metadata": {},
   "outputs": [],
   "source": [
    "#| export\n",
    "\n",
    "from cjm_fasthtml_tailwind.core.base import (\n",
    "    SingleValueFactory, combine_classes\n",
    ")\n",
    "from cjm_fasthtml_tailwind.builders.scales import SimpleFactory, enums_to_simple_factory\n",
    "\n",
    "from cjm_fasthtml_daisyui.builders.colors import SemanticColorBrand, SemanticColorStatus\n",
    "from cjm_fasthtml_daisyui.builders.sizes import DaisyUINamedSize\n",
    "\n",
    "from fasthtml.common import Div\n",
    "from fasthtml.jupyter import JupyUvi, HTMX\n",
    "from cjm_fasthtml_daisyui.core.testing import create_test_app, create_test_page, start_test_server\n",
    "from cjm_fasthtml_daisyui.core.themes import DaisyUITheme\n",
    "from IPython.display import display"
   ]
  },
  {
   "cell_type": "markdown",
   "id": "f3170055-e322-4e0f-a745-70d6b059a04f",
   "metadata": {},
   "source": [
    "### Base Toggle"
   ]
  },
  {
   "cell_type": "code",
   "execution_count": null,
   "id": "c802d106-49fb-4d34-ba04-5f54c88e165b",
   "metadata": {},
   "outputs": [],
   "source": [
    "#| exports\n",
    "toggle = SingleValueFactory(\"toggle\", \"Base toggle component for <input type=\\\"checkbox\\\"> element\") # Base toggle component"
   ]
  },
  {
   "cell_type": "markdown",
   "id": "019b6ac7-6600-4780-9b5c-e1733aaec3e2",
   "metadata": {},
   "source": [
    "### Toggle Colors"
   ]
  },
  {
   "cell_type": "code",
   "execution_count": null,
   "id": "636c6bcd-2176-4191-aa39-c937893243e2",
   "metadata": {},
   "outputs": [],
   "source": [
    "#| exports\n",
    "toggle_colors = enums_to_simple_factory(toggle, [SemanticColorBrand, SemanticColorStatus], \"toggle color variants using daisyUI semantic colors\") # toggle color variants"
   ]
  },
  {
   "cell_type": "markdown",
   "id": "70a15bfa-d0e7-4993-b1b7-3a1e0cbc28e9",
   "metadata": {},
   "source": [
    "### Toggle Sizes"
   ]
  },
  {
   "cell_type": "code",
   "execution_count": null,
   "id": "ad2d932c-79ea-4792-bdaf-5bda859340ca",
   "metadata": {},
   "outputs": [],
   "source": [
    "#| exports\n",
    "toggle_sizes = enums_to_simple_factory(toggle, [DaisyUINamedSize], \"toggle size variants from extra small to extra large\") # toggle size variants"
   ]
  },
  {
   "cell_type": "markdown",
   "id": "ef994e70-0bc7-4e1d-be3d-b913f62950f9",
   "metadata": {},
   "source": [
    "### Toggle Test Examples"
   ]
  },
  {
   "cell_type": "code",
   "execution_count": null,
   "id": "3035ff66-e4e7-410c-8b1e-86a879f66112",
   "metadata": {},
   "outputs": [],
   "source": [
    "#|exports\n",
    "def test_toggle_basic_examples():\n",
    "    \"\"\"Test basic toggle utilities.\"\"\"\n",
    "    # Basic toggle\n",
    "    assert str(toggle) == \"toggle\"\n",
    "    \n",
    "    # Test with modifiers\n",
    "    assert str(toggle.hover) == \"hover:toggle\"\n",
    "    assert str(toggle.md) == \"md:toggle\"\n",
    "    assert str(toggle.dark) == \"dark:toggle\"\n",
    "\n",
    "# Run the tests\n",
    "test_toggle_basic_examples()"
   ]
  },
  {
   "cell_type": "code",
   "execution_count": null,
   "id": "4666a5a3-26bb-4d91-b5be-f941df8f9d2f",
   "metadata": {},
   "outputs": [],
   "source": [
    "#|exports\n",
    "def test_toggle_colors_examples():\n",
    "    \"\"\"Test toggle color variants.\"\"\"\n",
    "    # All color variants\n",
    "    assert str(toggle_colors.neutral) == \"toggle-neutral\"\n",
    "    assert str(toggle_colors.primary) == \"toggle-primary\"\n",
    "    assert str(toggle_colors.secondary) == \"toggle-secondary\"\n",
    "    assert str(toggle_colors.accent) == \"toggle-accent\"\n",
    "    assert str(toggle_colors.info) == \"toggle-info\"\n",
    "    assert str(toggle_colors.success) == \"toggle-success\"\n",
    "    assert str(toggle_colors.warning) == \"toggle-warning\"\n",
    "    assert str(toggle_colors.error) == \"toggle-error\"\n",
    "    \n",
    "    # With modifiers\n",
    "    assert str(toggle_colors.primary.hover) == \"hover:toggle-primary\"\n",
    "    assert str(toggle_colors.success.focus) == \"focus:toggle-success\"\n",
    "\n",
    "# Run the tests\n",
    "test_toggle_colors_examples()"
   ]
  },
  {
   "cell_type": "code",
   "execution_count": null,
   "id": "85d72161-e718-4c66-bc59-a3569b7f7616",
   "metadata": {},
   "outputs": [],
   "source": [
    "#|exports\n",
    "def test_toggle_sizes_examples():\n",
    "    \"\"\"Test toggle size variants.\"\"\"\n",
    "    assert str(toggle_sizes.xs) == \"toggle-xs\"\n",
    "    assert str(toggle_sizes.sm) == \"toggle-sm\"\n",
    "    assert str(toggle_sizes.md) == \"toggle-md\"\n",
    "    assert str(toggle_sizes.lg) == \"toggle-lg\"\n",
    "    assert str(toggle_sizes.xl) == \"toggle-xl\"\n",
    "    \n",
    "    # With responsive modifiers\n",
    "    assert str(toggle_sizes.xs.sm) == \"sm:toggle-xs\"\n",
    "    assert str(toggle_sizes.lg.md) == \"md:toggle-lg\"\n",
    "\n",
    "# Run the tests\n",
    "test_toggle_sizes_examples()"
   ]
  },
  {
   "cell_type": "code",
   "execution_count": null,
   "id": "adccdb59-0507-4f90-89fd-31bfe121f93d",
   "metadata": {},
   "outputs": [
    {
     "data": {
      "text/markdown": [
       "```html\n",
       "<div>\n",
       "  <input type=\"checkbox\" checked=\"checked\" class=\"toggle\">\n",
       "</div>\n",
       "\n",
       "```"
      ],
      "text/plain": [
       "div((input((),{'type': 'checkbox', 'checked': 'checked', 'class': 'toggle'}),),{})"
      ]
     },
     "execution_count": null,
     "metadata": {},
     "output_type": "execute_result"
    }
   ],
   "source": [
    "#|exports\n",
    "def test_toggle_basic_fasthtml_examples():\n",
    "    \"\"\"Test basic toggle example from daisyUI v5 documentation.\"\"\"\n",
    "    from fasthtml.common import Input, Div\n",
    "    \n",
    "    # Basic toggle\n",
    "    basic_toggle = Input(type=\"checkbox\", checked=\"checked\", cls=str(toggle))\n",
    "    \n",
    "    # Verify structure\n",
    "    assert basic_toggle.tag == \"input\"\n",
    "    assert basic_toggle.attrs['type'] == \"checkbox\"\n",
    "    assert basic_toggle.attrs['checked'] == \"checked\"\n",
    "    assert basic_toggle.attrs['class'] == \"toggle\"\n",
    "    \n",
    "    return Div(basic_toggle)\n",
    "\n",
    "# Run the tests\n",
    "test_toggle_basic_fasthtml_examples()"
   ]
  },
  {
   "cell_type": "code",
   "execution_count": null,
   "id": "d439df4f-f6c5-45a4-9f14-0581cc78308e",
   "metadata": {},
   "outputs": [
    {
     "data": {
      "text/html": [
       "\n",
       "<script>\n",
       "document.body.addEventListener('htmx:configRequest', (event) => {\n",
       "    if(event.detail.path.includes('://')) return;\n",
       "    htmx.config.selfRequestsOnly=false;\n",
       "    event.detail.path = `${location.protocol}//${location.hostname}:8000${event.detail.path}`;\n",
       "});\n",
       "</script>"
      ],
      "text/plain": [
       "<IPython.core.display.HTML object>"
      ]
     },
     "metadata": {},
     "output_type": "display_data"
    },
    {
     "data": {
      "text/html": [
       "<iframe src=\"http://localhost:8000/\" style=\"width: 100%; height: auto; border: none;\" onload=\"{\n",
       "        let frame = this;\n",
       "        window.addEventListener('message', function(e) {\n",
       "            if (e.source !== frame.contentWindow) return; // Only proceed if the message is from this iframe\n",
       "            if (e.data.height) frame.style.height = (e.data.height+1) + 'px';\n",
       "        }, false);\n",
       "    }\" allow=\"accelerometer; autoplay; camera; clipboard-read; clipboard-write; display-capture; encrypted-media; fullscreen; gamepad; geolocation; gyroscope; hid; identity-credentials-get; idle-detection; magnetometer; microphone; midi; payment; picture-in-picture; publickey-credentials-get; screen-wake-lock; serial; usb; web-share; xr-spatial-tracking\"></iframe> "
      ],
      "text/plain": [
       "<IPython.core.display.HTML object>"
      ]
     },
     "metadata": {},
     "output_type": "display_data"
    }
   ],
   "source": [
    "#| eval: false\n",
    "#| output: false\n",
    "test_func = test_toggle_basic_fasthtml_examples\n",
    "app, rt = create_test_app(theme=DaisyUITheme.LIGHT)\n",
    "\n",
    "@rt\n",
    "def index():\n",
    "    return create_test_page(test_func.__doc__.title().replace('.', ''), test_func())\n",
    "server = start_test_server(app)\n",
    "display(HTMX())\n",
    "server.stop()"
   ]
  },
  {
   "cell_type": "code",
   "execution_count": null,
   "id": "48407703-2bfb-4806-be51-cc59a4ca95b2",
   "metadata": {},
   "outputs": [
    {
     "data": {
      "text/markdown": [
       "```html\n",
       "<div>\n",
       "<fieldset class=\"fieldset bg-base-100 border-base-300 rounded-box w-64 &lt;cjm_fasthtml_tailwind.utilities.borders.BorderWidthFactory object at 0x7919c96187d0&gt; p-4\"><legend class=\"fieldset-legend\">Login options</legend><label class=\"label\">      <input type=\"checkbox\" checked=\"checked\" class=\"toggle\">\n",
       "Remember me</label></fieldset></div>\n",
       "\n",
       "```"
      ],
      "text/plain": [
       "div((fieldset((legend(('Login options',),{'class': 'fieldset-legend'}), label((input((),{'type': 'checkbox', 'checked': 'checked', 'class': 'toggle'}), 'Remember me'),{'class': 'label'})),{'class': 'fieldset bg-base-100 border-base-300 rounded-box w-64 <cjm_fasthtml_tailwind.utilities.borders.BorderWidthFactory object> p-4'}),),{})"
      ]
     },
     "execution_count": null,
     "metadata": {},
     "output_type": "execute_result"
    }
   ],
   "source": [
    "#|exports\n",
    "def test_toggle_with_fieldset_fasthtml_examples():\n",
    "    \"\"\"Test toggle with fieldset and label from daisyUI v5 documentation.\"\"\"\n",
    "    from fasthtml.common import Fieldset, Legend, Label, Input, Div\n",
    "    from cjm_fasthtml_tailwind.utilities.sizing import w\n",
    "    from cjm_fasthtml_tailwind.utilities.borders import border, rounded\n",
    "    from cjm_fasthtml_tailwind.utilities.spacing import p\n",
    "    from cjm_fasthtml_daisyui.utilities.semantic_colors import bg_dui, border_dui\n",
    "    from cjm_fasthtml_daisyui.components.data_input.fieldset import fieldset, fieldset_legend\n",
    "    from cjm_fasthtml_daisyui.components.data_input.label import label\n",
    "    \n",
    "    # Toggle with fieldset and label\n",
    "    toggle_fieldset = Fieldset(\n",
    "        Legend(\"Login options\", cls=str(fieldset_legend)),\n",
    "        Label(\n",
    "            Input(type=\"checkbox\", checked=\"checked\", cls=str(toggle)),\n",
    "            \"Remember me\",\n",
    "            cls=str(label)\n",
    "        ),\n",
    "        cls=combine_classes(fieldset, bg_dui.base_100, border_dui.base_300, rounded.box, w._64, border, p._4)\n",
    "    )\n",
    "    \n",
    "    # Verify fieldset structure\n",
    "    assert toggle_fieldset.tag == \"fieldset\"\n",
    "    assert \"fieldset\" in toggle_fieldset.attrs['class']\n",
    "    assert \"bg-base-100\" in toggle_fieldset.attrs['class']\n",
    "    assert \"border-base-300\" in toggle_fieldset.attrs['class']\n",
    "    assert \"rounded-box\" in toggle_fieldset.attrs['class']\n",
    "    assert \"w-64\" in toggle_fieldset.attrs['class']\n",
    "    assert \"border\" in toggle_fieldset.attrs['class']\n",
    "    assert \"p-4\" in toggle_fieldset.attrs['class']\n",
    "    \n",
    "    # Verify legend\n",
    "    legend_el = toggle_fieldset.children[0]\n",
    "    assert legend_el.tag == \"legend\"\n",
    "    assert \"fieldset-legend\" in legend_el.attrs['class']\n",
    "    assert legend_el.children[0] == \"Login options\"\n",
    "    \n",
    "    # Verify label\n",
    "    label_el = toggle_fieldset.children[1]\n",
    "    assert label_el.tag == \"label\"\n",
    "    assert \"label\" in label_el.attrs['class']\n",
    "    \n",
    "    # Verify input inside label\n",
    "    input_el = label_el.children[0]\n",
    "    assert input_el.tag == \"input\"\n",
    "    assert input_el.attrs['type'] == \"checkbox\"\n",
    "    assert input_el.attrs['checked'] == \"checked\"\n",
    "    assert \"toggle\" in input_el.attrs['class']\n",
    "    \n",
    "    # Verify label text\n",
    "    assert label_el.children[1] == \"Remember me\"\n",
    "    \n",
    "    return Div(toggle_fieldset)\n",
    "\n",
    "# Run the tests\n",
    "test_toggle_with_fieldset_fasthtml_examples()"
   ]
  },
  {
   "cell_type": "code",
   "execution_count": null,
   "id": "fdce5261-1aa0-46b0-8005-73e6cb6f6d2c",
   "metadata": {},
   "outputs": [
    {
     "data": {
      "text/html": [
       "\n",
       "<script>\n",
       "document.body.addEventListener('htmx:configRequest', (event) => {\n",
       "    if(event.detail.path.includes('://')) return;\n",
       "    htmx.config.selfRequestsOnly=false;\n",
       "    event.detail.path = `${location.protocol}//${location.hostname}:8000${event.detail.path}`;\n",
       "});\n",
       "</script>"
      ],
      "text/plain": [
       "<IPython.core.display.HTML object>"
      ]
     },
     "metadata": {},
     "output_type": "display_data"
    },
    {
     "data": {
      "text/html": [
       "<iframe src=\"http://localhost:8000/\" style=\"width: 100%; height: auto; border: none;\" onload=\"{\n",
       "        let frame = this;\n",
       "        window.addEventListener('message', function(e) {\n",
       "            if (e.source !== frame.contentWindow) return; // Only proceed if the message is from this iframe\n",
       "            if (e.data.height) frame.style.height = (e.data.height+1) + 'px';\n",
       "        }, false);\n",
       "    }\" allow=\"accelerometer; autoplay; camera; clipboard-read; clipboard-write; display-capture; encrypted-media; fullscreen; gamepad; geolocation; gyroscope; hid; identity-credentials-get; idle-detection; magnetometer; microphone; midi; payment; picture-in-picture; publickey-credentials-get; screen-wake-lock; serial; usb; web-share; xr-spatial-tracking\"></iframe> "
      ],
      "text/plain": [
       "<IPython.core.display.HTML object>"
      ]
     },
     "metadata": {},
     "output_type": "display_data"
    }
   ],
   "source": [
    "#| eval: false\n",
    "#| output: false\n",
    "test_func = test_toggle_with_fieldset_fasthtml_examples\n",
    "app, rt = create_test_app(theme=DaisyUITheme.LIGHT)\n",
    "\n",
    "@rt\n",
    "def index():\n",
    "    return create_test_page(test_func.__doc__.title().replace('.', ''), test_func())\n",
    "server = start_test_server(app)\n",
    "display(HTMX())\n",
    "server.stop()"
   ]
  },
  {
   "cell_type": "code",
   "execution_count": null,
   "id": "7cac8beb-10d0-449e-9036-2aae56d0d68c",
   "metadata": {},
   "outputs": [
    {
     "data": {
      "text/markdown": [
       "```html\n",
       "<div>\n",
       "  <input type=\"checkbox\" checked=\"checked\" class=\"toggle toggle-xs\">\n",
       "  <input type=\"checkbox\" checked=\"checked\" class=\"toggle toggle-sm\">\n",
       "  <input type=\"checkbox\" checked=\"checked\" class=\"toggle toggle-md\">\n",
       "  <input type=\"checkbox\" checked=\"checked\" class=\"toggle toggle-lg\">\n",
       "  <input type=\"checkbox\" checked=\"checked\" class=\"toggle toggle-xl\">\n",
       "</div>\n",
       "\n",
       "```"
      ],
      "text/plain": [
       "div((input((),{'type': 'checkbox', 'checked': 'checked', 'class': 'toggle toggle-xs'}), input((),{'type': 'checkbox', 'checked': 'checked', 'class': 'toggle toggle-sm'}), input((),{'type': 'checkbox', 'checked': 'checked', 'class': 'toggle toggle-md'}), input((),{'type': 'checkbox', 'checked': 'checked', 'class': 'toggle toggle-lg'}), input((),{'type': 'checkbox', 'checked': 'checked', 'class': 'toggle toggle-xl'})),{})"
      ]
     },
     "execution_count": null,
     "metadata": {},
     "output_type": "execute_result"
    }
   ],
   "source": [
    "#|exports\n",
    "def test_toggle_sizes_fasthtml_examples():\n",
    "    \"\"\"Test toggle size variations from daisyUI v5 documentation.\"\"\"\n",
    "    from fasthtml.common import Input, Div\n",
    "    \n",
    "    # Toggle sizes\n",
    "    xs_toggle = Input(type=\"checkbox\", checked=\"checked\", cls=combine_classes(toggle, toggle_sizes.xs))\n",
    "    assert xs_toggle.tag == \"input\"\n",
    "    assert xs_toggle.attrs['type'] == \"checkbox\"\n",
    "    assert xs_toggle.attrs['checked'] == \"checked\"\n",
    "    assert \"toggle\" in xs_toggle.attrs['class']\n",
    "    assert \"toggle-xs\" in xs_toggle.attrs['class']\n",
    "    \n",
    "    sm_toggle = Input(type=\"checkbox\", checked=\"checked\", cls=combine_classes(toggle, toggle_sizes.sm))\n",
    "    assert \"toggle\" in sm_toggle.attrs['class']\n",
    "    assert \"toggle-sm\" in sm_toggle.attrs['class']\n",
    "    \n",
    "    md_toggle = Input(type=\"checkbox\", checked=\"checked\", cls=combine_classes(toggle, toggle_sizes.md))\n",
    "    assert \"toggle\" in md_toggle.attrs['class']\n",
    "    assert \"toggle-md\" in md_toggle.attrs['class']\n",
    "    \n",
    "    lg_toggle = Input(type=\"checkbox\", checked=\"checked\", cls=combine_classes(toggle, toggle_sizes.lg))\n",
    "    assert \"toggle\" in lg_toggle.attrs['class']\n",
    "    assert \"toggle-lg\" in lg_toggle.attrs['class']\n",
    "    \n",
    "    xl_toggle = Input(type=\"checkbox\", checked=\"checked\", cls=combine_classes(toggle, toggle_sizes.xl))\n",
    "    assert \"toggle\" in xl_toggle.attrs['class']\n",
    "    assert \"toggle-xl\" in xl_toggle.attrs['class']\n",
    "    \n",
    "    # Return all elements in a Div\n",
    "    return Div(\n",
    "        xs_toggle,\n",
    "        sm_toggle,\n",
    "        md_toggle,\n",
    "        lg_toggle,\n",
    "        xl_toggle\n",
    "    )\n",
    "\n",
    "# Run the tests\n",
    "test_toggle_sizes_fasthtml_examples()"
   ]
  },
  {
   "cell_type": "code",
   "execution_count": null,
   "id": "dd9938b2-ffb4-4fa7-b8d0-a32ecc4b8f29",
   "metadata": {},
   "outputs": [
    {
     "data": {
      "text/html": [
       "\n",
       "<script>\n",
       "document.body.addEventListener('htmx:configRequest', (event) => {\n",
       "    if(event.detail.path.includes('://')) return;\n",
       "    htmx.config.selfRequestsOnly=false;\n",
       "    event.detail.path = `${location.protocol}//${location.hostname}:8000${event.detail.path}`;\n",
       "});\n",
       "</script>"
      ],
      "text/plain": [
       "<IPython.core.display.HTML object>"
      ]
     },
     "metadata": {},
     "output_type": "display_data"
    },
    {
     "data": {
      "text/html": [
       "<iframe src=\"http://localhost:8000/\" style=\"width: 100%; height: auto; border: none;\" onload=\"{\n",
       "        let frame = this;\n",
       "        window.addEventListener('message', function(e) {\n",
       "            if (e.source !== frame.contentWindow) return; // Only proceed if the message is from this iframe\n",
       "            if (e.data.height) frame.style.height = (e.data.height+1) + 'px';\n",
       "        }, false);\n",
       "    }\" allow=\"accelerometer; autoplay; camera; clipboard-read; clipboard-write; display-capture; encrypted-media; fullscreen; gamepad; geolocation; gyroscope; hid; identity-credentials-get; idle-detection; magnetometer; microphone; midi; payment; picture-in-picture; publickey-credentials-get; screen-wake-lock; serial; usb; web-share; xr-spatial-tracking\"></iframe> "
      ],
      "text/plain": [
       "<IPython.core.display.HTML object>"
      ]
     },
     "metadata": {},
     "output_type": "display_data"
    }
   ],
   "source": [
    "#| eval: false\n",
    "#| output: false\n",
    "test_func = test_toggle_sizes_fasthtml_examples\n",
    "app, rt = create_test_app(theme=DaisyUITheme.LIGHT)\n",
    "\n",
    "@rt\n",
    "def index():\n",
    "    return create_test_page(test_func.__doc__.title().replace('.', ''), test_func())\n",
    "server = start_test_server(app)\n",
    "display(HTMX())\n",
    "server.stop()"
   ]
  },
  {
   "cell_type": "code",
   "execution_count": null,
   "id": "de6c525d-3571-47a8-9b69-c89c92cecd71",
   "metadata": {},
   "outputs": [
    {
     "data": {
      "text/markdown": [
       "```html\n",
       "<div>\n",
       "  <input type=\"checkbox\" checked=\"checked\" class=\"toggle toggle-primary\">\n",
       "  <input type=\"checkbox\" checked=\"checked\" class=\"toggle toggle-secondary\">\n",
       "  <input type=\"checkbox\" checked=\"checked\" class=\"toggle toggle-accent\">\n",
       "  <input type=\"checkbox\" checked=\"checked\" class=\"toggle toggle-neutral\">\n",
       "  <input type=\"checkbox\" checked=\"checked\" class=\"toggle toggle-info\">\n",
       "  <input type=\"checkbox\" checked=\"checked\" class=\"toggle toggle-success\">\n",
       "  <input type=\"checkbox\" checked=\"checked\" class=\"toggle toggle-warning\">\n",
       "  <input type=\"checkbox\" checked=\"checked\" class=\"toggle toggle-error\">\n",
       "</div>\n",
       "\n",
       "```"
      ],
      "text/plain": [
       "div((input((),{'type': 'checkbox', 'checked': 'checked', 'class': 'toggle toggle-primary'}), input((),{'type': 'checkbox', 'checked': 'checked', 'class': 'toggle toggle-secondary'}), input((),{'type': 'checkbox', 'checked': 'checked', 'class': 'toggle toggle-accent'}), input((),{'type': 'checkbox', 'checked': 'checked', 'class': 'toggle toggle-neutral'}), input((),{'type': 'checkbox', 'checked': 'checked', 'class': 'toggle toggle-info'}), input((),{'type': 'checkbox', 'checked': 'checked', 'class': 'toggle toggle-success'}), input((),{'type': 'checkbox', 'checked': 'checked', 'class': 'toggle toggle-warning'}), input((),{'type': 'checkbox', 'checked': 'checked', 'class': 'toggle toggle-error'})),{})"
      ]
     },
     "execution_count": null,
     "metadata": {},
     "output_type": "execute_result"
    }
   ],
   "source": [
    "#|exports\n",
    "def test_toggle_colors_fasthtml_examples():\n",
    "    \"\"\"Test toggle color variations from daisyUI v5 documentation.\"\"\"\n",
    "    from fasthtml.common import Input, Div\n",
    "    \n",
    "    # Toggle colors\n",
    "    primary_toggle = Input(type=\"checkbox\", checked=\"checked\", cls=combine_classes(toggle, toggle_colors.primary))\n",
    "    assert \"toggle\" in primary_toggle.attrs['class']\n",
    "    assert \"toggle-primary\" in primary_toggle.attrs['class']\n",
    "    \n",
    "    secondary_toggle = Input(type=\"checkbox\", checked=\"checked\", cls=combine_classes(toggle, toggle_colors.secondary))\n",
    "    assert \"toggle\" in secondary_toggle.attrs['class']\n",
    "    assert \"toggle-secondary\" in secondary_toggle.attrs['class']\n",
    "    \n",
    "    accent_toggle = Input(type=\"checkbox\", checked=\"checked\", cls=combine_classes(toggle, toggle_colors.accent))\n",
    "    assert \"toggle\" in accent_toggle.attrs['class']\n",
    "    assert \"toggle-accent\" in accent_toggle.attrs['class']\n",
    "    \n",
    "    neutral_toggle = Input(type=\"checkbox\", checked=\"checked\", cls=combine_classes(toggle, toggle_colors.neutral))\n",
    "    assert \"toggle\" in neutral_toggle.attrs['class']\n",
    "    assert \"toggle-neutral\" in neutral_toggle.attrs['class']\n",
    "    \n",
    "    info_toggle = Input(type=\"checkbox\", checked=\"checked\", cls=combine_classes(toggle, toggle_colors.info))\n",
    "    assert \"toggle\" in info_toggle.attrs['class']\n",
    "    assert \"toggle-info\" in info_toggle.attrs['class']\n",
    "    \n",
    "    success_toggle = Input(type=\"checkbox\", checked=\"checked\", cls=combine_classes(toggle, toggle_colors.success))\n",
    "    assert \"toggle\" in success_toggle.attrs['class']\n",
    "    assert \"toggle-success\" in success_toggle.attrs['class']\n",
    "    \n",
    "    warning_toggle = Input(type=\"checkbox\", checked=\"checked\", cls=combine_classes(toggle, toggle_colors.warning))\n",
    "    assert \"toggle\" in warning_toggle.attrs['class']\n",
    "    assert \"toggle-warning\" in warning_toggle.attrs['class']\n",
    "    \n",
    "    error_toggle = Input(type=\"checkbox\", checked=\"checked\", cls=combine_classes(toggle, toggle_colors.error))\n",
    "    assert \"toggle\" in error_toggle.attrs['class']\n",
    "    assert \"toggle-error\" in error_toggle.attrs['class']\n",
    "    \n",
    "    # Return all elements in a Div\n",
    "    return Div(\n",
    "        primary_toggle,\n",
    "        secondary_toggle,\n",
    "        accent_toggle,\n",
    "        neutral_toggle,\n",
    "        info_toggle,\n",
    "        success_toggle,\n",
    "        warning_toggle,\n",
    "        error_toggle\n",
    "    )\n",
    "\n",
    "# Run the tests\n",
    "test_toggle_colors_fasthtml_examples()"
   ]
  },
  {
   "cell_type": "code",
   "execution_count": null,
   "id": "e6326c1a-1f5c-44fb-a93a-9befcbfb43db",
   "metadata": {},
   "outputs": [
    {
     "data": {
      "text/html": [
       "\n",
       "<script>\n",
       "document.body.addEventListener('htmx:configRequest', (event) => {\n",
       "    if(event.detail.path.includes('://')) return;\n",
       "    htmx.config.selfRequestsOnly=false;\n",
       "    event.detail.path = `${location.protocol}//${location.hostname}:8000${event.detail.path}`;\n",
       "});\n",
       "</script>"
      ],
      "text/plain": [
       "<IPython.core.display.HTML object>"
      ]
     },
     "metadata": {},
     "output_type": "display_data"
    },
    {
     "data": {
      "text/html": [
       "<iframe src=\"http://localhost:8000/\" style=\"width: 100%; height: auto; border: none;\" onload=\"{\n",
       "        let frame = this;\n",
       "        window.addEventListener('message', function(e) {\n",
       "            if (e.source !== frame.contentWindow) return; // Only proceed if the message is from this iframe\n",
       "            if (e.data.height) frame.style.height = (e.data.height+1) + 'px';\n",
       "        }, false);\n",
       "    }\" allow=\"accelerometer; autoplay; camera; clipboard-read; clipboard-write; display-capture; encrypted-media; fullscreen; gamepad; geolocation; gyroscope; hid; identity-credentials-get; idle-detection; magnetometer; microphone; midi; payment; picture-in-picture; publickey-credentials-get; screen-wake-lock; serial; usb; web-share; xr-spatial-tracking\"></iframe> "
      ],
      "text/plain": [
       "<IPython.core.display.HTML object>"
      ]
     },
     "metadata": {},
     "output_type": "display_data"
    }
   ],
   "source": [
    "#| eval: false\n",
    "#| output: false\n",
    "test_func = test_toggle_colors_fasthtml_examples\n",
    "app, rt = create_test_app(theme=DaisyUITheme.LIGHT)\n",
    "\n",
    "@rt\n",
    "def index():\n",
    "    return create_test_page(test_func.__doc__.title().replace('.', ''), test_func())\n",
    "server = start_test_server(app)\n",
    "display(HTMX())\n",
    "server.stop()"
   ]
  },
  {
   "cell_type": "code",
   "execution_count": null,
   "id": "fcc8e81a-6ffa-4a1f-aebd-fe811f49cf08",
   "metadata": {},
   "outputs": [
    {
     "data": {
      "text/markdown": [
       "```html\n",
       "<div>\n",
       "  <input type=\"checkbox\" disabled=\"disabled\" class=\"toggle\">\n",
       "  <input type=\"checkbox\" disabled=\"disabled\" checked=\"checked\" class=\"toggle\">\n",
       "</div>\n",
       "\n",
       "```"
      ],
      "text/plain": [
       "div((input((),{'type': 'checkbox', 'disabled': 'disabled', 'class': 'toggle'}), input((),{'type': 'checkbox', 'disabled': 'disabled', 'checked': 'checked', 'class': 'toggle'})),{})"
      ]
     },
     "execution_count": null,
     "metadata": {},
     "output_type": "execute_result"
    }
   ],
   "source": [
    "#|exports\n",
    "def test_toggle_disabled_fasthtml_examples():\n",
    "    \"\"\"Test disabled toggle states from daisyUI v5 documentation.\"\"\"\n",
    "    from fasthtml.common import Input, Div\n",
    "    \n",
    "    # Disabled toggle (unchecked)\n",
    "    disabled_unchecked = Input(type=\"checkbox\", cls=str(toggle), disabled=\"disabled\")\n",
    "    assert disabled_unchecked.tag == \"input\"\n",
    "    assert disabled_unchecked.attrs['type'] == \"checkbox\"\n",
    "    assert disabled_unchecked.attrs['class'] == \"toggle\"\n",
    "    assert disabled_unchecked.attrs['disabled'] == \"disabled\"\n",
    "    assert 'checked' not in disabled_unchecked.attrs\n",
    "    \n",
    "    # Disabled toggle (checked)\n",
    "    disabled_checked = Input(type=\"checkbox\", cls=str(toggle), disabled=\"disabled\", checked=\"checked\")\n",
    "    assert disabled_checked.tag == \"input\"\n",
    "    assert disabled_checked.attrs['type'] == \"checkbox\"\n",
    "    assert disabled_checked.attrs['class'] == \"toggle\"\n",
    "    assert disabled_checked.attrs['disabled'] == \"disabled\"\n",
    "    assert disabled_checked.attrs['checked'] == \"checked\"\n",
    "    \n",
    "    # Return all elements in a Div\n",
    "    return Div(\n",
    "        disabled_unchecked,\n",
    "        disabled_checked\n",
    "    )\n",
    "\n",
    "# Run the tests\n",
    "test_toggle_disabled_fasthtml_examples()"
   ]
  },
  {
   "cell_type": "code",
   "execution_count": null,
   "id": "9668da0d-b98d-4f07-91ca-b4b016af634d",
   "metadata": {},
   "outputs": [
    {
     "data": {
      "text/html": [
       "\n",
       "<script>\n",
       "document.body.addEventListener('htmx:configRequest', (event) => {\n",
       "    if(event.detail.path.includes('://')) return;\n",
       "    htmx.config.selfRequestsOnly=false;\n",
       "    event.detail.path = `${location.protocol}//${location.hostname}:8000${event.detail.path}`;\n",
       "});\n",
       "</script>"
      ],
      "text/plain": [
       "<IPython.core.display.HTML object>"
      ]
     },
     "metadata": {},
     "output_type": "display_data"
    },
    {
     "data": {
      "text/html": [
       "<iframe src=\"http://localhost:8000/\" style=\"width: 100%; height: auto; border: none;\" onload=\"{\n",
       "        let frame = this;\n",
       "        window.addEventListener('message', function(e) {\n",
       "            if (e.source !== frame.contentWindow) return; // Only proceed if the message is from this iframe\n",
       "            if (e.data.height) frame.style.height = (e.data.height+1) + 'px';\n",
       "        }, false);\n",
       "    }\" allow=\"accelerometer; autoplay; camera; clipboard-read; clipboard-write; display-capture; encrypted-media; fullscreen; gamepad; geolocation; gyroscope; hid; identity-credentials-get; idle-detection; magnetometer; microphone; midi; payment; picture-in-picture; publickey-credentials-get; screen-wake-lock; serial; usb; web-share; xr-spatial-tracking\"></iframe> "
      ],
      "text/plain": [
       "<IPython.core.display.HTML object>"
      ]
     },
     "metadata": {},
     "output_type": "display_data"
    }
   ],
   "source": [
    "#| eval: false\n",
    "#| output: false\n",
    "test_func = test_toggle_disabled_fasthtml_examples\n",
    "app, rt = create_test_app(theme=DaisyUITheme.LIGHT)\n",
    "\n",
    "@rt\n",
    "def index():\n",
    "    return create_test_page(test_func.__doc__.title().replace('.', ''), test_func())\n",
    "server = start_test_server(app)\n",
    "display(HTMX())\n",
    "server.stop()"
   ]
  },
  {
   "cell_type": "code",
   "execution_count": null,
   "id": "c40b8767-331b-4194-9f83-3c012335907a",
   "metadata": {},
   "outputs": [
    {
     "data": {
      "text/markdown": [
       "```html\n",
       "<div>\n",
       "<label class=\"toggle text-base-content\">    <input type=\"checkbox\">\n",
       "<svg xmlns=\"http://www.w3.org/2000/svg\" viewbox=\"0 0 24 24\" aria-label=\"enabled\"><g stroke-linejoin=\"round\" stroke-linecap=\"round\" stroke-width=\"4\" fill=\"none\" stroke=\"currentColor\"><path d=\"M20 6 9 17l-5-5\"></path></g></svg><svg xmlns=\"http://www.w3.org/2000/svg\" viewbox=\"0 0 24 24\" fill=\"none\" stroke=\"currentColor\" stroke-width=\"4\" stroke-linecap=\"round\" stroke-linejoin=\"round\" aria-label=\"disabled\"><path d=\"M18 6 6 18\"></path><path d=\"m6 6 12 12\"></path></svg></label></div>\n",
       "\n",
       "```"
      ],
      "text/plain": [
       "div((label((input((),{'type': 'checkbox'}), svg((g((path((),{'d': 'M20 6 9 17l-5-5'}),),{'stroke-linejoin': 'round', 'stroke-linecap': 'round', 'stroke-width': '4', 'fill': 'none', 'stroke': 'currentColor'}),),{'xmlns': 'http://www.w3.org/2000/svg', 'viewbox': '0 0 24 24', 'aria-label': 'enabled'}), svg((path((),{'d': 'M18 6 6 18'}), path((),{'d': 'm6 6 12 12'})),{'xmlns': 'http://www.w3.org/2000/svg', 'viewbox': '0 0 24 24', 'fill': 'none', 'stroke': 'currentColor', 'stroke-width': '4', 'stroke-linecap': 'round', 'stroke-linejoin': 'round', 'aria-label': 'disabled'})),{'class': 'toggle text-base-content'}),),{})"
      ]
     },
     "execution_count": null,
     "metadata": {},
     "output_type": "execute_result"
    }
   ],
   "source": [
    "#|exports\n",
    "def test_toggle_with_icons_fasthtml_examples():\n",
    "    \"\"\"Test toggle with icons inside from daisyUI v5 documentation.\"\"\"\n",
    "    from fasthtml.common import Label, Input, Div\n",
    "    from fasthtml.svg import Svg, G, Path\n",
    "    from cjm_fasthtml_daisyui.utilities.semantic_colors import text_dui\n",
    "    \n",
    "    # Create checkmark icon for enabled state\n",
    "    checkmark_icon = Svg(\n",
    "        G(\n",
    "            Path(d=\"M20 6 9 17l-5-5\"),\n",
    "            stroke_linejoin=\"round\",\n",
    "            stroke_linecap=\"round\",\n",
    "            stroke_width=\"4\",\n",
    "            fill=\"none\",\n",
    "            stroke=\"currentColor\"\n",
    "        ),\n",
    "        aria_label=\"enabled\",\n",
    "        xmlns=\"http://www.w3.org/2000/svg\",\n",
    "        viewBox=\"0 0 24 24\"\n",
    "    )\n",
    "    \n",
    "    # Create X icon for disabled state\n",
    "    x_icon = Svg(\n",
    "        Path(d=\"M18 6 6 18\"),\n",
    "        Path(d=\"m6 6 12 12\"),\n",
    "        xmlns=\"http://www.w3.org/2000/svg\",\n",
    "        viewBox=\"0 0 24 24\",\n",
    "        fill=\"none\",\n",
    "        stroke=\"currentColor\",\n",
    "        stroke_width=\"4\",\n",
    "        stroke_linecap=\"round\",\n",
    "        stroke_linejoin=\"round\",\n",
    "        aria_label=\"disabled\"\n",
    "    )\n",
    "    \n",
    "    # Toggle with icons inside\n",
    "    toggle_with_icons = Label(\n",
    "        Input(type=\"checkbox\"),\n",
    "        checkmark_icon,\n",
    "        x_icon,\n",
    "        cls=combine_classes(toggle, text_dui.base_content)\n",
    "    )\n",
    "    \n",
    "    # Verify structure\n",
    "    assert toggle_with_icons.tag == \"label\"\n",
    "    assert \"toggle\" in toggle_with_icons.attrs['class']\n",
    "    assert \"text-base-content\" in toggle_with_icons.attrs['class']\n",
    "    \n",
    "    # Verify input\n",
    "    input_el = toggle_with_icons.children[0]\n",
    "    assert input_el.tag == \"input\"\n",
    "    assert input_el.attrs['type'] == \"checkbox\"\n",
    "    \n",
    "    # Verify checkmark icon (enabled state)\n",
    "    checkmark_svg = toggle_with_icons.children[1]\n",
    "    assert checkmark_svg.tag == \"svg\"\n",
    "    assert checkmark_svg.attrs['aria-label'] == \"enabled\"\n",
    "    assert checkmark_svg.attrs['viewbox'] == \"0 0 24 24\"\n",
    "    \n",
    "    # Verify X icon (disabled state)\n",
    "    x_svg = toggle_with_icons.children[2]\n",
    "    assert x_svg.tag == \"svg\"\n",
    "    assert x_svg.attrs['aria-label'] == \"disabled\"\n",
    "    assert x_svg.attrs['viewbox'] == \"0 0 24 24\"\n",
    "    \n",
    "    return Div(toggle_with_icons)\n",
    "\n",
    "# Run the tests\n",
    "test_toggle_with_icons_fasthtml_examples()"
   ]
  },
  {
   "cell_type": "code",
   "execution_count": null,
   "id": "4e6788f9-ea79-44a4-97a5-822d97dcceb9",
   "metadata": {},
   "outputs": [
    {
     "data": {
      "text/html": [
       "\n",
       "<script>\n",
       "document.body.addEventListener('htmx:configRequest', (event) => {\n",
       "    if(event.detail.path.includes('://')) return;\n",
       "    htmx.config.selfRequestsOnly=false;\n",
       "    event.detail.path = `${location.protocol}//${location.hostname}:8000${event.detail.path}`;\n",
       "});\n",
       "</script>"
      ],
      "text/plain": [
       "<IPython.core.display.HTML object>"
      ]
     },
     "metadata": {},
     "output_type": "display_data"
    },
    {
     "data": {
      "text/html": [
       "<iframe src=\"http://localhost:8000/\" style=\"width: 100%; height: auto; border: none;\" onload=\"{\n",
       "        let frame = this;\n",
       "        window.addEventListener('message', function(e) {\n",
       "            if (e.source !== frame.contentWindow) return; // Only proceed if the message is from this iframe\n",
       "            if (e.data.height) frame.style.height = (e.data.height+1) + 'px';\n",
       "        }, false);\n",
       "    }\" allow=\"accelerometer; autoplay; camera; clipboard-read; clipboard-write; display-capture; encrypted-media; fullscreen; gamepad; geolocation; gyroscope; hid; identity-credentials-get; idle-detection; magnetometer; microphone; midi; payment; picture-in-picture; publickey-credentials-get; screen-wake-lock; serial; usb; web-share; xr-spatial-tracking\"></iframe> "
      ],
      "text/plain": [
       "<IPython.core.display.HTML object>"
      ]
     },
     "metadata": {},
     "output_type": "display_data"
    }
   ],
   "source": [
    "#| eval: false\n",
    "#| output: false\n",
    "test_func = test_toggle_with_icons_fasthtml_examples\n",
    "app, rt = create_test_app(theme=DaisyUITheme.LIGHT)\n",
    "\n",
    "@rt\n",
    "def index():\n",
    "    return create_test_page(test_func.__doc__.title().replace('.', ''), test_func())\n",
    "server = start_test_server(app)\n",
    "display(HTMX())\n",
    "server.stop()"
   ]
  },
  {
   "cell_type": "code",
   "execution_count": null,
   "id": "e702cd6f-0f98-447e-9383-6ba94395dd1f",
   "metadata": {},
   "outputs": [
    {
     "data": {
      "text/markdown": [
       "```html\n",
       "<div>\n",
       "  <input type=\"checkbox\" checked=\"checked\" class=\"toggle border-indigo-600 bg-indigo-500 checked:border-orange-500 checked:bg-orange-400 checked:text-orange-800\">\n",
       "</div>\n",
       "\n",
       "```"
      ],
      "text/plain": [
       "div((input((),{'type': 'checkbox', 'checked': 'checked', 'class': 'toggle border-indigo-600 bg-indigo-500 checked:border-orange-500 checked:bg-orange-400 checked:text-orange-800'}),),{})"
      ]
     },
     "execution_count": null,
     "metadata": {},
     "output_type": "execute_result"
    }
   ],
   "source": [
    "#|exports\n",
    "def test_toggle_custom_colors_fasthtml_examples():\n",
    "    \"\"\"Test toggle with custom colors from daisyUI v5 documentation.\"\"\"\n",
    "    from fasthtml.common import Input, Div\n",
    "    from cjm_fasthtml_tailwind.utilities.borders import border_color\n",
    "    from cjm_fasthtml_tailwind.utilities.backgrounds import bg\n",
    "    from cjm_fasthtml_tailwind.utilities.typography import font_size, font_weight, font_family, text_color\n",
    "    \n",
    "    # Toggle with custom colors\n",
    "    custom_toggle = Input(\n",
    "        type=\"checkbox\",\n",
    "        checked=\"checked\",\n",
    "        cls=combine_classes(\n",
    "            toggle,\n",
    "            border_color.indigo_600,\n",
    "            bg.indigo_500,\n",
    "            border_color.orange_500.checked,\n",
    "            bg.orange_400.checked,\n",
    "            text_color.orange_800.checked\n",
    "        )\n",
    "    )\n",
    "    \n",
    "    # Verify structure\n",
    "    assert custom_toggle.tag == \"input\"\n",
    "    assert custom_toggle.attrs['type'] == \"checkbox\"\n",
    "    assert custom_toggle.attrs['checked'] == \"checked\"\n",
    "    assert \"toggle\" in custom_toggle.attrs['class']\n",
    "    assert \"border-indigo-600\" in custom_toggle.attrs['class']\n",
    "    assert \"bg-indigo-500\" in custom_toggle.attrs['class']\n",
    "    assert \"checked:border-orange-500\" in custom_toggle.attrs['class']\n",
    "    assert \"checked:bg-orange-400\" in custom_toggle.attrs['class']\n",
    "    assert \"checked:text-orange-800\" in custom_toggle.attrs['class']\n",
    "    \n",
    "    return Div(custom_toggle)\n",
    "\n",
    "# Run the tests\n",
    "test_toggle_custom_colors_fasthtml_examples()"
   ]
  },
  {
   "cell_type": "code",
   "execution_count": null,
   "id": "87703b1f-76ec-426b-9e30-cb3bcd5b470e",
   "metadata": {},
   "outputs": [
    {
     "data": {
      "text/html": [
       "\n",
       "<script>\n",
       "document.body.addEventListener('htmx:configRequest', (event) => {\n",
       "    if(event.detail.path.includes('://')) return;\n",
       "    htmx.config.selfRequestsOnly=false;\n",
       "    event.detail.path = `${location.protocol}//${location.hostname}:8000${event.detail.path}`;\n",
       "});\n",
       "</script>"
      ],
      "text/plain": [
       "<IPython.core.display.HTML object>"
      ]
     },
     "metadata": {},
     "output_type": "display_data"
    },
    {
     "data": {
      "text/html": [
       "<iframe src=\"http://localhost:8000/\" style=\"width: 100%; height: auto; border: none;\" onload=\"{\n",
       "        let frame = this;\n",
       "        window.addEventListener('message', function(e) {\n",
       "            if (e.source !== frame.contentWindow) return; // Only proceed if the message is from this iframe\n",
       "            if (e.data.height) frame.style.height = (e.data.height+1) + 'px';\n",
       "        }, false);\n",
       "    }\" allow=\"accelerometer; autoplay; camera; clipboard-read; clipboard-write; display-capture; encrypted-media; fullscreen; gamepad; geolocation; gyroscope; hid; identity-credentials-get; idle-detection; magnetometer; microphone; midi; payment; picture-in-picture; publickey-credentials-get; screen-wake-lock; serial; usb; web-share; xr-spatial-tracking\"></iframe> "
      ],
      "text/plain": [
       "<IPython.core.display.HTML object>"
      ]
     },
     "metadata": {},
     "output_type": "display_data"
    }
   ],
   "source": [
    "#| eval: false\n",
    "#| output: false\n",
    "test_func = test_toggle_custom_colors_fasthtml_examples\n",
    "app, rt = create_test_app(theme=DaisyUITheme.LIGHT)\n",
    "\n",
    "@rt\n",
    "def index():\n",
    "    return create_test_page(test_func.__doc__.title().replace('.', ''), test_func())\n",
    "server = start_test_server(app)\n",
    "display(HTMX())\n",
    "server.stop()"
   ]
  },
  {
   "cell_type": "code",
   "execution_count": null,
   "id": "396bfbeb-72ed-4d1e-bc9e-a787599c7935",
   "metadata": {},
   "outputs": [
    {
     "data": {
      "text/markdown": [
       "```html\n",
       "<div>\n",
       "  <input type=\"checkbox\" id=\"my-toggle\" class=\"toggle\" name=\"my-toggle\">\n",
       "<script>\n",
       "        document.getElementById(\"my-toggle\").indeterminate = true\n",
       "    </script></div>\n",
       "\n",
       "```"
      ],
      "text/plain": [
       "div((input((),{'type': 'checkbox', 'id': 'my-toggle', 'class': 'toggle', 'name': 'my-toggle'}), script(('\\n        document.getElementById(\"my-toggle\").indeterminate = true\\n    ',),{})),{})"
      ]
     },
     "execution_count": null,
     "metadata": {},
     "output_type": "execute_result"
    }
   ],
   "source": [
    "#|exports\n",
    "def test_toggle_indeterminate_fasthtml_examples():\n",
    "    \"\"\"Test indeterminate toggle state from daisyUI v5 documentation.\"\"\"\n",
    "    from fasthtml.common import Input, Script, Div\n",
    "    \n",
    "    # Indeterminate toggle\n",
    "    # Note: The indeterminate state must be set via JavaScript\n",
    "    indeterminate_toggle = Input(type=\"checkbox\", cls=str(toggle), id=\"my-toggle\")\n",
    "    \n",
    "    # JavaScript to set indeterminate state\n",
    "    # In a real application, this would be in a script tag or external JS file\n",
    "    indeterminate_script = Script(\"\"\"\n",
    "        document.getElementById(\"my-toggle\").indeterminate = true\n",
    "    \"\"\")\n",
    "    \n",
    "    # Verify structure\n",
    "    assert indeterminate_toggle.tag == \"input\"\n",
    "    assert indeterminate_toggle.attrs['type'] == \"checkbox\"\n",
    "    assert indeterminate_toggle.attrs['class'] == \"toggle\"\n",
    "    assert indeterminate_toggle.attrs['id'] == \"my-toggle\"\n",
    "    \n",
    "    assert indeterminate_script.tag == \"script\"\n",
    "    assert 'document.getElementById(\"my-toggle\").indeterminate = true' in indeterminate_script.children[0]\n",
    "    \n",
    "    return Div(\n",
    "        indeterminate_toggle,\n",
    "        indeterminate_script\n",
    "    )\n",
    "\n",
    "# Run the tests\n",
    "test_toggle_indeterminate_fasthtml_examples()"
   ]
  },
  {
   "cell_type": "code",
   "execution_count": null,
   "id": "b32d6cca-7174-49c0-b0a5-9d24ad71f6c8",
   "metadata": {},
   "outputs": [
    {
     "data": {
      "text/html": [
       "\n",
       "<script>\n",
       "document.body.addEventListener('htmx:configRequest', (event) => {\n",
       "    if(event.detail.path.includes('://')) return;\n",
       "    htmx.config.selfRequestsOnly=false;\n",
       "    event.detail.path = `${location.protocol}//${location.hostname}:8000${event.detail.path}`;\n",
       "});\n",
       "</script>"
      ],
      "text/plain": [
       "<IPython.core.display.HTML object>"
      ]
     },
     "metadata": {},
     "output_type": "display_data"
    },
    {
     "data": {
      "text/html": [
       "<iframe src=\"http://localhost:8000/\" style=\"width: 100%; height: auto; border: none;\" onload=\"{\n",
       "        let frame = this;\n",
       "        window.addEventListener('message', function(e) {\n",
       "            if (e.source !== frame.contentWindow) return; // Only proceed if the message is from this iframe\n",
       "            if (e.data.height) frame.style.height = (e.data.height+1) + 'px';\n",
       "        }, false);\n",
       "    }\" allow=\"accelerometer; autoplay; camera; clipboard-read; clipboard-write; display-capture; encrypted-media; fullscreen; gamepad; geolocation; gyroscope; hid; identity-credentials-get; idle-detection; magnetometer; microphone; midi; payment; picture-in-picture; publickey-credentials-get; screen-wake-lock; serial; usb; web-share; xr-spatial-tracking\"></iframe> "
      ],
      "text/plain": [
       "<IPython.core.display.HTML object>"
      ]
     },
     "metadata": {},
     "output_type": "display_data"
    }
   ],
   "source": [
    "#| eval: false\n",
    "#| output: false\n",
    "test_func = test_toggle_indeterminate_fasthtml_examples\n",
    "app, rt = create_test_app(theme=DaisyUITheme.LIGHT)\n",
    "\n",
    "@rt\n",
    "def index():\n",
    "    return create_test_page(test_func.__doc__.title().replace('.', ''), test_func())\n",
    "server = start_test_server(app)\n",
    "display(HTMX())\n",
    "server.stop()"
   ]
  },
  {
   "cell_type": "code",
   "execution_count": null,
   "id": "be5fbea5-69aa-492d-a30d-f63fd31350f7",
   "metadata": {},
   "outputs": [],
   "source": []
  },
  {
   "cell_type": "code",
   "execution_count": null,
   "id": "f4450c75-cb0b-4ec2-883a-06ed40d3afb2",
   "metadata": {},
   "outputs": [],
   "source": []
  },
  {
   "cell_type": "code",
   "execution_count": null,
   "id": "ffba4c32-c01d-4458-bbfc-741fdb84ded3",
   "metadata": {},
   "outputs": [],
   "source": []
  },
  {
   "cell_type": "code",
   "execution_count": null,
   "id": "2322b457-fcad-4435-b439-68e779ff0146",
   "metadata": {},
   "outputs": [],
   "source": []
  },
  {
   "cell_type": "code",
   "execution_count": null,
   "id": "334673fb-e7df-4762-a5f7-982642ff0b12",
   "metadata": {},
   "outputs": [],
   "source": []
  },
  {
   "cell_type": "code",
   "execution_count": null,
   "id": "766c84f5-4a69-4c6d-8d49-01edbf961956",
   "metadata": {},
   "outputs": [],
   "source": []
  },
  {
   "cell_type": "code",
   "execution_count": null,
   "id": "e9def0b7-19b6-462b-9281-faa59004c64f",
   "metadata": {},
   "outputs": [],
   "source": []
  },
  {
   "cell_type": "code",
   "execution_count": null,
   "id": "4727cc4a-74bb-440e-a1f2-615ea42a4631",
   "metadata": {},
   "outputs": [],
   "source": []
  },
  {
   "cell_type": "code",
   "execution_count": null,
   "id": "7ab8257a-c30b-45b6-a784-729b67686791",
   "metadata": {},
   "outputs": [],
   "source": [
    "#| hide\n",
    "import nbdev; nbdev.nbdev_export()"
   ]
  }
 ],
 "metadata": {
  "kernelspec": {
   "display_name": "python3",
   "language": "python",
   "name": "python3"
  }
 },
 "nbformat": 4,
 "nbformat_minor": 5
}
