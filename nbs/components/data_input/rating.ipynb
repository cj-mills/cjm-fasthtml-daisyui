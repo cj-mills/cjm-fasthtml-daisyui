{
 "cells": [
  {
   "cell_type": "markdown",
   "id": "7c51b46b-ece1-456d-8e84-7de122e72b62",
   "metadata": {},
   "source": [
    "# rating\n",
    "\n",
    "> Rating is a set of radio ratings that allow the user to rate something."
   ]
  },
  {
   "cell_type": "code",
   "execution_count": null,
   "id": "25536bdc-e099-477f-9e2d-a5f71df5dff2",
   "metadata": {},
   "outputs": [],
   "source": [
    "#| default_exp components.data_input.rating"
   ]
  },
  {
   "cell_type": "code",
   "execution_count": null,
   "id": "2e6f21ce-7766-455a-8ebb-df2c17e7d977",
   "metadata": {},
   "outputs": [],
   "source": [
    "#| hide\n",
    "from nbdev.showdoc import *"
   ]
  },
  {
   "cell_type": "code",
   "execution_count": null,
   "id": "045c6538-403e-4222-b3bb-db20f188524d",
   "metadata": {},
   "outputs": [],
   "source": [
    "#| export\n",
    "from enum import Enum\n",
    "from cjm_fasthtml_tailwind.core.base import (\n",
    "    SingleValueFactory, combine_classes\n",
    ")\n",
    "from cjm_fasthtml_tailwind.builders.scales import SimpleFactory, enums_to_simple_factory\n",
    "\n",
    "from cjm_fasthtml_daisyui.builders.sizes import DaisyUINamedSize\n",
    "\n",
    "from fasthtml.common import Div\n",
    "from fasthtml.jupyter import JupyUvi, HTMX\n",
    "from cjm_fasthtml_daisyui.core.testing import create_test_app, create_test_page, start_test_server\n",
    "from cjm_fasthtml_daisyui.core.themes import DaisyUITheme\n",
    "from IPython.display import display"
   ]
  },
  {
   "cell_type": "markdown",
   "id": "88f462fb-719e-4e2e-94ee-c9e1c9c2a436",
   "metadata": {},
   "source": [
    "### Base Rating"
   ]
  },
  {
   "cell_type": "code",
   "execution_count": null,
   "id": "c802d106-49fb-4d34-ba04-5f54c88e165b",
   "metadata": {},
   "outputs": [],
   "source": [
    "#| export\n",
    "rating = SingleValueFactory(\"rating\", \"Base rating component for a div containing radio inputs\") # Base rating component"
   ]
  },
  {
   "cell_type": "markdown",
   "id": "2f8d0e06-6739-474e-8e48-b7a3d27bb6bd",
   "metadata": {},
   "source": [
    "### Rating Modifiers"
   ]
  },
  {
   "cell_type": "code",
   "execution_count": null,
   "id": "636c6bcd-2176-4191-aa39-c937893243e2",
   "metadata": {},
   "outputs": [],
   "source": [
    "#| export\n",
    "class RatingModifier(str, Enum):\n",
    "    HALF = \"half\"\n",
    "    HIDDEN = \"hidden\"\n",
    "\n",
    "rating_modifiers = enums_to_simple_factory(rating, [RatingModifier], \"rating modifiers\") # rating modifiers"
   ]
  },
  {
   "cell_type": "markdown",
   "id": "261ffabf-fddb-41b3-8485-c8e1c802c923",
   "metadata": {},
   "source": [
    "### Rating Sizes"
   ]
  },
  {
   "cell_type": "code",
   "execution_count": null,
   "id": "3035ff66-e4e7-410c-8b1e-86a879f66112",
   "metadata": {},
   "outputs": [],
   "source": [
    "#| export\n",
    "rating_sizes = enums_to_simple_factory(rating, [DaisyUINamedSize], \"rating size variants from extra small to extra large\") # rating size variants"
   ]
  },
  {
   "cell_type": "markdown",
   "id": "ea34b6c0-0647-497f-b585-073ff6553a23",
   "metadata": {},
   "source": [
    "### Rating Test Examples"
   ]
  },
  {
   "cell_type": "code",
   "execution_count": null,
   "id": "85d72161-e718-4c66-bc59-a3569b7f7616",
   "metadata": {},
   "outputs": [],
   "source": [
    "#| export\n",
    "def test_rating_basic_examples():\n",
    "    \"\"\"Test basic rating utilities.\"\"\"\n",
    "    # Basic rating\n",
    "    assert str(rating) == \"rating\"\n",
    "    \n",
    "    # Test with modifiers\n",
    "    assert str(rating.hover) == \"hover:rating\"\n",
    "    assert str(rating.md) == \"md:rating\"\n",
    "    assert str(rating.dark) == \"dark:rating\"\n",
    "\n",
    "# Run the tests\n",
    "test_rating_basic_examples()"
   ]
  },
  {
   "cell_type": "code",
   "execution_count": null,
   "id": "214654cc-9758-48f9-92e2-0892029c4512",
   "metadata": {},
   "outputs": [],
   "source": [
    "#| export\n",
    "def test_rating_modifiers_examples():\n",
    "    \"\"\"Test rating modifier utilities.\"\"\"\n",
    "    assert str(rating_modifiers.half) == \"rating-half\"\n",
    "    assert str(rating_modifiers.hidden) == \"rating-hidden\"\n",
    "\n",
    "# Run the tests\n",
    "test_rating_modifiers_examples()"
   ]
  },
  {
   "cell_type": "code",
   "execution_count": null,
   "id": "a9d78aa3-0be8-49e6-8bfb-cb9a232ee1ee",
   "metadata": {},
   "outputs": [],
   "source": [
    "#| export\n",
    "def test_rating_sizes_examples():\n",
    "    \"\"\"Test rating size variants.\"\"\"\n",
    "    assert str(rating_sizes.xs) == \"rating-xs\"\n",
    "    assert str(rating_sizes.sm) == \"rating-sm\"\n",
    "    assert str(rating_sizes.md) == \"rating-md\"\n",
    "    assert str(rating_sizes.lg) == \"rating-lg\"\n",
    "    assert str(rating_sizes.xl) == \"rating-xl\"\n",
    "    \n",
    "    # With responsive modifiers\n",
    "    assert str(rating_sizes.xs.sm) == \"sm:rating-xs\"\n",
    "    assert str(rating_sizes.lg.md) == \"md:rating-lg\"\n",
    "\n",
    "# Run the tests\n",
    "test_rating_sizes_examples()"
   ]
  },
  {
   "cell_type": "code",
   "execution_count": null,
   "id": "01785a18-9bb0-4dbc-9eae-04addf6dede9",
   "metadata": {},
   "outputs": [],
   "source": []
  },
  {
   "cell_type": "code",
   "execution_count": null,
   "id": "43a3d5aa-4f07-48f4-b7c3-5c63612f0fb2",
   "metadata": {},
   "outputs": [],
   "source": []
  },
  {
   "cell_type": "code",
   "execution_count": null,
   "id": "248adc40-6e77-4203-9830-de838e25a00a",
   "metadata": {},
   "outputs": [],
   "source": []
  },
  {
   "cell_type": "code",
   "execution_count": null,
   "id": "a2029d6d-bf22-4e16-87e1-d609762dc867",
   "metadata": {},
   "outputs": [],
   "source": []
  },
  {
   "cell_type": "code",
   "execution_count": null,
   "id": "c9dfaad9-504c-4853-886b-2d1adb1cc3a0",
   "metadata": {},
   "outputs": [],
   "source": []
  },
  {
   "cell_type": "code",
   "execution_count": null,
   "id": "454d5b84-fc57-44ab-a6f0-3123333998cb",
   "metadata": {},
   "outputs": [],
   "source": []
  },
  {
   "cell_type": "code",
   "execution_count": null,
   "id": "d471d21b-6fe5-4c63-90be-5176c4cbd08b",
   "metadata": {},
   "outputs": [],
   "source": []
  },
  {
   "cell_type": "code",
   "execution_count": null,
   "id": "73b88b7e-0be6-4a82-9c02-f3df8af20015",
   "metadata": {},
   "outputs": [],
   "source": []
  },
  {
   "cell_type": "code",
   "execution_count": null,
   "id": "7ab8257a-c30b-45b6-a784-729b67686791",
   "metadata": {},
   "outputs": [],
   "source": [
    "#| hide\n",
    "import nbdev; nbdev.nbdev_export()"
   ]
  }
 ],
 "metadata": {
  "kernelspec": {
   "display_name": "python3",
   "language": "python",
   "name": "python3"
  }
 },
 "nbformat": 4,
 "nbformat_minor": 5
}
