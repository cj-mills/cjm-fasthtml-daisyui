{
 "cells": [
  {
   "cell_type": "markdown",
   "id": "7c51b46b-ece1-456d-8e84-7de122e72b62",
   "metadata": {},
   "source": [
    "# rating\n",
    "\n",
    "> Rating is a set of radio ratings that allow the user to rate something."
   ]
  },
  {
   "cell_type": "code",
   "execution_count": null,
   "id": "25536bdc-e099-477f-9e2d-a5f71df5dff2",
   "metadata": {},
   "outputs": [],
   "source": [
    "#| default_exp components.data_input.rating"
   ]
  },
  {
   "cell_type": "code",
   "execution_count": null,
   "id": "2e6f21ce-7766-455a-8ebb-df2c17e7d977",
   "metadata": {},
   "outputs": [],
   "source": [
    "#| hide\n",
    "from nbdev.showdoc import *"
   ]
  },
  {
   "cell_type": "code",
   "execution_count": null,
   "id": "045c6538-403e-4222-b3bb-db20f188524d",
   "metadata": {},
   "outputs": [],
   "source": [
    "#| export\n",
    "from enum import Enum\n",
    "from cjm_fasthtml_tailwind.core.base import (\n",
    "    SingleValueFactory, combine_classes\n",
    ")\n",
    "from cjm_fasthtml_tailwind.builders.scales import SimpleFactory, enums_to_simple_factory\n",
    "\n",
    "from cjm_fasthtml_daisyui.builders.sizes import DaisyUINamedSize\n",
    "\n",
    "from fasthtml.common import Div\n",
    "from fasthtml.jupyter import JupyUvi, HTMX\n",
    "from cjm_fasthtml_daisyui.core.testing import create_test_app, create_test_page, start_test_server\n",
    "from cjm_fasthtml_daisyui.core.themes import DaisyUITheme\n",
    "from IPython.display import display"
   ]
  },
  {
   "cell_type": "markdown",
   "id": "88f462fb-719e-4e2e-94ee-c9e1c9c2a436",
   "metadata": {},
   "source": [
    "### Base Rating"
   ]
  },
  {
   "cell_type": "code",
   "execution_count": null,
   "id": "c802d106-49fb-4d34-ba04-5f54c88e165b",
   "metadata": {},
   "outputs": [],
   "source": [
    "#| exports\n",
    "rating = SingleValueFactory(\"rating\", \"Base rating component for a div containing radio inputs\") # Base rating component"
   ]
  },
  {
   "cell_type": "markdown",
   "id": "2f8d0e06-6739-474e-8e48-b7a3d27bb6bd",
   "metadata": {},
   "source": [
    "### Rating Modifiers"
   ]
  },
  {
   "cell_type": "code",
   "execution_count": null,
   "id": "636c6bcd-2176-4191-aa39-c937893243e2",
   "metadata": {},
   "outputs": [],
   "source": [
    "#| exports\n",
    "class RatingModifier(str, Enum):\n",
    "    HALF = \"half\"\n",
    "    HIDDEN = \"hidden\"\n",
    "\n",
    "rating_modifiers = enums_to_simple_factory(rating, [RatingModifier], \"rating modifiers\") # rating modifiers"
   ]
  },
  {
   "cell_type": "markdown",
   "id": "261ffabf-fddb-41b3-8485-c8e1c802c923",
   "metadata": {},
   "source": [
    "### Rating Sizes"
   ]
  },
  {
   "cell_type": "code",
   "execution_count": null,
   "id": "3035ff66-e4e7-410c-8b1e-86a879f66112",
   "metadata": {},
   "outputs": [],
   "source": [
    "#| exports\n",
    "rating_sizes = enums_to_simple_factory(rating, [DaisyUINamedSize], \"rating size variants from extra small to extra large\") # rating size variants"
   ]
  },
  {
   "cell_type": "markdown",
   "id": "ea34b6c0-0647-497f-b585-073ff6553a23",
   "metadata": {},
   "source": [
    "### Rating Test Examples"
   ]
  },
  {
   "cell_type": "code",
   "execution_count": null,
   "id": "85d72161-e718-4c66-bc59-a3569b7f7616",
   "metadata": {},
   "outputs": [],
   "source": [
    "#|exports\n",
    "def test_rating_basic_examples():\n",
    "    \"\"\"Test basic rating utilities.\"\"\"\n",
    "    # Basic rating\n",
    "    assert str(rating) == \"rating\"\n",
    "    \n",
    "    # Test with modifiers\n",
    "    assert str(rating.hover) == \"hover:rating\"\n",
    "    assert str(rating.md) == \"md:rating\"\n",
    "    assert str(rating.dark) == \"dark:rating\"\n",
    "\n",
    "# Run the tests\n",
    "test_rating_basic_examples()"
   ]
  },
  {
   "cell_type": "code",
   "execution_count": null,
   "id": "214654cc-9758-48f9-92e2-0892029c4512",
   "metadata": {},
   "outputs": [],
   "source": [
    "#|exports\n",
    "def test_rating_modifiers_examples():\n",
    "    \"\"\"Test rating modifier utilities.\"\"\"\n",
    "    assert str(rating_modifiers.half) == \"rating-half\"\n",
    "    assert str(rating_modifiers.hidden) == \"rating-hidden\"\n",
    "\n",
    "# Run the tests\n",
    "test_rating_modifiers_examples()"
   ]
  },
  {
   "cell_type": "code",
   "execution_count": null,
   "id": "a9d78aa3-0be8-49e6-8bfb-cb9a232ee1ee",
   "metadata": {},
   "outputs": [],
   "source": [
    "#|exports\n",
    "def test_rating_sizes_examples():\n",
    "    \"\"\"Test rating size variants.\"\"\"\n",
    "    assert str(rating_sizes.xs) == \"rating-xs\"\n",
    "    assert str(rating_sizes.sm) == \"rating-sm\"\n",
    "    assert str(rating_sizes.md) == \"rating-md\"\n",
    "    assert str(rating_sizes.lg) == \"rating-lg\"\n",
    "    assert str(rating_sizes.xl) == \"rating-xl\"\n",
    "    \n",
    "    # With responsive modifiers\n",
    "    assert str(rating_sizes.xs.sm) == \"sm:rating-xs\"\n",
    "    assert str(rating_sizes.lg.md) == \"md:rating-lg\"\n",
    "\n",
    "# Run the tests\n",
    "test_rating_sizes_examples()"
   ]
  },
  {
   "cell_type": "code",
   "execution_count": null,
   "id": "8215edc4-bbc9-4324-8d66-7bff9ceacfc9",
   "metadata": {},
   "outputs": [
    {
     "data": {
      "text/markdown": [
       "```html\n",
       "<div class=\"rating\">\n",
       "  <input type=\"radio\" name=\"rating-1\" aria-label=\"1 star\" class=\"mask mask-star\">\n",
       "  <input type=\"radio\" name=\"rating-1\" aria-label=\"2 star\" checked=\"checked\" class=\"mask mask-star\">\n",
       "  <input type=\"radio\" name=\"rating-1\" aria-label=\"3 star\" class=\"mask mask-star\">\n",
       "  <input type=\"radio\" name=\"rating-1\" aria-label=\"4 star\" class=\"mask mask-star\">\n",
       "  <input type=\"radio\" name=\"rating-1\" aria-label=\"5 star\" class=\"mask mask-star\">\n",
       "</div>\n",
       "\n",
       "```"
      ],
      "text/plain": [
       "div((input((),{'type': 'radio', 'name': 'rating-1', 'aria-label': '1 star', 'class': 'mask mask-star'}), input((),{'type': 'radio', 'name': 'rating-1', 'aria-label': '2 star', 'checked': 'checked', 'class': 'mask mask-star'}), input((),{'type': 'radio', 'name': 'rating-1', 'aria-label': '3 star', 'class': 'mask mask-star'}), input((),{'type': 'radio', 'name': 'rating-1', 'aria-label': '4 star', 'class': 'mask mask-star'}), input((),{'type': 'radio', 'name': 'rating-1', 'aria-label': '5 star', 'class': 'mask mask-star'})),{'class': 'rating'})"
      ]
     },
     "execution_count": null,
     "metadata": {},
     "output_type": "execute_result"
    }
   ],
   "source": [
    "#|exports\n",
    "def test_rating_basic_fasthtml_examples():\n",
    "    \"\"\"Test basic rating example from daisyUI v5 documentation.\"\"\"\n",
    "    from fasthtml.common import Div, Input\n",
    "    from cjm_fasthtml_daisyui.components.layout.mask import mask, mask_styles\n",
    "    \n",
    "    # Basic rating with 5 stars\n",
    "    basic_rating = Div(\n",
    "        Input(type=\"radio\", name=\"rating-1\", cls=combine_classes(mask, mask_styles.star), aria_label=\"1 star\"),\n",
    "        Input(type=\"radio\", name=\"rating-1\", cls=combine_classes(mask, mask_styles.star), aria_label=\"2 star\", checked=\"checked\"),\n",
    "        Input(type=\"radio\", name=\"rating-1\", cls=combine_classes(mask, mask_styles.star), aria_label=\"3 star\"),\n",
    "        Input(type=\"radio\", name=\"rating-1\", cls=combine_classes(mask, mask_styles.star), aria_label=\"4 star\"),\n",
    "        Input(type=\"radio\", name=\"rating-1\", cls=combine_classes(mask, mask_styles.star), aria_label=\"5 star\"),\n",
    "        cls=str(rating)\n",
    "    )\n",
    "    \n",
    "    # Verify structure\n",
    "    assert basic_rating.tag == \"div\"\n",
    "    assert basic_rating.attrs['class'] == \"rating\"\n",
    "    assert len(basic_rating.children) == 5\n",
    "    \n",
    "    # Verify each input\n",
    "    for i, input_elem in enumerate(basic_rating.children, 1):\n",
    "        assert input_elem.tag == \"input\"\n",
    "        assert input_elem.attrs['type'] == \"radio\"\n",
    "        assert input_elem.attrs['name'] == \"rating-1\"\n",
    "        assert \"mask\" in input_elem.attrs['class']\n",
    "        assert \"mask-star\" in input_elem.attrs['class']\n",
    "        assert input_elem.attrs['aria-label'] == f\"{i} star\"\n",
    "        if i == 2:\n",
    "            assert input_elem.attrs.get('checked') == \"checked\"\n",
    "        else:\n",
    "            assert 'checked' not in input_elem.attrs\n",
    "    \n",
    "    return basic_rating\n",
    "\n",
    "# Run the tests\n",
    "test_rating_basic_fasthtml_examples()"
   ]
  },
  {
   "cell_type": "code",
   "execution_count": null,
   "id": "c60fc8e7-7aa1-43b9-b2d5-90a1a9e14b5e",
   "metadata": {},
   "outputs": [
    {
     "data": {
      "text/html": [
       "\n",
       "<script>\n",
       "document.body.addEventListener('htmx:configRequest', (event) => {\n",
       "    if(event.detail.path.includes('://')) return;\n",
       "    htmx.config.selfRequestsOnly=false;\n",
       "    event.detail.path = `${location.protocol}//${location.hostname}:8000${event.detail.path}`;\n",
       "});\n",
       "</script>"
      ],
      "text/plain": [
       "<IPython.core.display.HTML object>"
      ]
     },
     "metadata": {},
     "output_type": "display_data"
    },
    {
     "data": {
      "text/html": [
       "<iframe src=\"http://localhost:8000/\" style=\"width: 100%; height: auto; border: none;\" onload=\"{\n",
       "        let frame = this;\n",
       "        window.addEventListener('message', function(e) {\n",
       "            if (e.source !== frame.contentWindow) return; // Only proceed if the message is from this iframe\n",
       "            if (e.data.height) frame.style.height = (e.data.height+1) + 'px';\n",
       "        }, false);\n",
       "    }\" allow=\"accelerometer; autoplay; camera; clipboard-read; clipboard-write; display-capture; encrypted-media; fullscreen; gamepad; geolocation; gyroscope; hid; identity-credentials-get; idle-detection; magnetometer; microphone; midi; payment; picture-in-picture; publickey-credentials-get; screen-wake-lock; serial; usb; web-share; xr-spatial-tracking\"></iframe> "
      ],
      "text/plain": [
       "<IPython.core.display.HTML object>"
      ]
     },
     "metadata": {},
     "output_type": "display_data"
    }
   ],
   "source": [
    "#| eval: false\n",
    "#| output: false\n",
    "test_func = test_rating_basic_fasthtml_examples\n",
    "app, rt = create_test_app(theme=DaisyUITheme.LIGHT)\n",
    "\n",
    "@rt\n",
    "def index():\n",
    "    return create_test_page(test_func.__doc__.title().replace('.', ''), test_func())\n",
    "server = start_test_server(app)\n",
    "display(HTMX())\n",
    "server.stop()"
   ]
  },
  {
   "cell_type": "code",
   "execution_count": null,
   "id": "118e90e1-ed9f-4d82-9a56-fa026b003d03",
   "metadata": {},
   "outputs": [
    {
     "data": {
      "text/markdown": [
       "```html\n",
       "<div class=\"rating\">\n",
       "  <div aria-label=\"1 star\" class=\"mask mask-star\"></div>\n",
       "  <div aria-label=\"2 star\" class=\"mask mask-star\"></div>\n",
       "  <div aria-label=\"3 star\" aria-current=\"true\" class=\"mask mask-star\"></div>\n",
       "  <div aria-label=\"4 star\" class=\"mask mask-star\"></div>\n",
       "  <div aria-label=\"5 star\" class=\"mask mask-star\"></div>\n",
       "</div>\n",
       "\n",
       "```"
      ],
      "text/plain": [
       "div((div((),{'aria-label': '1 star', 'class': 'mask mask-star'}), div((),{'aria-label': '2 star', 'class': 'mask mask-star'}), div((),{'aria-label': '3 star', 'aria-current': 'true', 'class': 'mask mask-star'}), div((),{'aria-label': '4 star', 'class': 'mask mask-star'}), div((),{'aria-label': '5 star', 'class': 'mask mask-star'})),{'class': 'rating'})"
      ]
     },
     "execution_count": null,
     "metadata": {},
     "output_type": "execute_result"
    }
   ],
   "source": [
    "#|exports\n",
    "def test_rating_readonly_fasthtml_examples():\n",
    "    \"\"\"Test read-only rating from daisyUI v5 documentation.\"\"\"\n",
    "    from fasthtml.common import Div\n",
    "    from cjm_fasthtml_daisyui.components.layout.mask import mask, mask_styles\n",
    "    \n",
    "    # Read-only rating with 3 stars selected\n",
    "    readonly_rating = Div(\n",
    "        Div(cls=combine_classes(mask, mask_styles.star), aria_label=\"1 star\"),\n",
    "        Div(cls=combine_classes(mask, mask_styles.star), aria_label=\"2 star\"),\n",
    "        Div(cls=combine_classes(mask, mask_styles.star), aria_label=\"3 star\", aria_current=\"true\"),\n",
    "        Div(cls=combine_classes(mask, mask_styles.star), aria_label=\"4 star\"),\n",
    "        Div(cls=combine_classes(mask, mask_styles.star), aria_label=\"5 star\"),\n",
    "        cls=str(rating)\n",
    "    )\n",
    "    \n",
    "    # Verify structure\n",
    "    assert readonly_rating.tag == \"div\"\n",
    "    assert readonly_rating.attrs['class'] == \"rating\"\n",
    "    assert len(readonly_rating.children) == 5\n",
    "    \n",
    "    # Verify each div\n",
    "    for i, div_elem in enumerate(readonly_rating.children, 1):\n",
    "        assert div_elem.tag == \"div\"\n",
    "        assert \"mask\" in div_elem.attrs['class']\n",
    "        assert \"mask-star\" in div_elem.attrs['class']\n",
    "        assert div_elem.attrs['aria-label'] == f\"{i} star\"\n",
    "        if i == 3:\n",
    "            assert div_elem.attrs.get('aria-current') == \"true\"\n",
    "        else:\n",
    "            assert 'aria-current' not in div_elem.attrs\n",
    "    \n",
    "    return readonly_rating\n",
    "\n",
    "# Run the tests\n",
    "test_rating_readonly_fasthtml_examples()"
   ]
  },
  {
   "cell_type": "code",
   "execution_count": null,
   "id": "8eaacdb5-02cc-4db9-b2dd-84d0b178d4b4",
   "metadata": {},
   "outputs": [
    {
     "data": {
      "text/html": [
       "\n",
       "<script>\n",
       "document.body.addEventListener('htmx:configRequest', (event) => {\n",
       "    if(event.detail.path.includes('://')) return;\n",
       "    htmx.config.selfRequestsOnly=false;\n",
       "    event.detail.path = `${location.protocol}//${location.hostname}:8000${event.detail.path}`;\n",
       "});\n",
       "</script>"
      ],
      "text/plain": [
       "<IPython.core.display.HTML object>"
      ]
     },
     "metadata": {},
     "output_type": "display_data"
    },
    {
     "data": {
      "text/html": [
       "<iframe src=\"http://localhost:8000/\" style=\"width: 100%; height: auto; border: none;\" onload=\"{\n",
       "        let frame = this;\n",
       "        window.addEventListener('message', function(e) {\n",
       "            if (e.source !== frame.contentWindow) return; // Only proceed if the message is from this iframe\n",
       "            if (e.data.height) frame.style.height = (e.data.height+1) + 'px';\n",
       "        }, false);\n",
       "    }\" allow=\"accelerometer; autoplay; camera; clipboard-read; clipboard-write; display-capture; encrypted-media; fullscreen; gamepad; geolocation; gyroscope; hid; identity-credentials-get; idle-detection; magnetometer; microphone; midi; payment; picture-in-picture; publickey-credentials-get; screen-wake-lock; serial; usb; web-share; xr-spatial-tracking\"></iframe> "
      ],
      "text/plain": [
       "<IPython.core.display.HTML object>"
      ]
     },
     "metadata": {},
     "output_type": "display_data"
    }
   ],
   "source": [
    "#| eval: false\n",
    "#| output: false\n",
    "test_func = test_rating_readonly_fasthtml_examples\n",
    "app, rt = create_test_app(theme=DaisyUITheme.LIGHT)\n",
    "\n",
    "@rt\n",
    "def index():\n",
    "    return create_test_page(test_func.__doc__.title().replace('.', ''), test_func())\n",
    "server = start_test_server(app)\n",
    "display(HTMX())\n",
    "server.stop()"
   ]
  },
  {
   "cell_type": "code",
   "execution_count": null,
   "id": "0c8d9267-d1bb-4e8e-b713-68a8aaeedcb8",
   "metadata": {},
   "outputs": [
    {
     "data": {
      "text/markdown": [
       "```html\n",
       "<div>\n",
       "  <div class=\"rating\">\n",
       "    <input type=\"radio\" name=\"rating-2\" aria-label=\"1 star\" class=\"mask mask-star-2 bg-orange-400\">\n",
       "    <input type=\"radio\" name=\"rating-2\" aria-label=\"2 star\" checked=\"checked\" class=\"mask mask-star-2 bg-orange-400\">\n",
       "    <input type=\"radio\" name=\"rating-2\" aria-label=\"3 star\" class=\"mask mask-star-2 bg-orange-400\">\n",
       "    <input type=\"radio\" name=\"rating-2\" aria-label=\"4 star\" class=\"mask mask-star-2 bg-orange-400\">\n",
       "    <input type=\"radio\" name=\"rating-2\" aria-label=\"5 star\" class=\"mask mask-star-2 bg-orange-400\">\n",
       "  </div>\n",
       "  <div class=\"rating gap-1\">\n",
       "    <input type=\"radio\" name=\"rating-3\" aria-label=\"1 star\" class=\"mask mask-heart bg-red-400\">\n",
       "    <input type=\"radio\" name=\"rating-3\" aria-label=\"2 star\" checked=\"checked\" class=\"mask mask-heart bg-orange-400\">\n",
       "    <input type=\"radio\" name=\"rating-3\" aria-label=\"3 star\" class=\"mask mask-heart bg-yellow-400\">\n",
       "    <input type=\"radio\" name=\"rating-3\" aria-label=\"4 star\" class=\"mask mask-heart bg-lime-400\">\n",
       "    <input type=\"radio\" name=\"rating-3\" aria-label=\"5 star\" class=\"mask mask-heart bg-green-400\">\n",
       "  </div>\n",
       "  <div class=\"rating\">\n",
       "    <input type=\"radio\" name=\"rating-4\" aria-label=\"1 star\" class=\"mask mask-star-2 bg-green-500\">\n",
       "    <input type=\"radio\" name=\"rating-4\" aria-label=\"2 star\" checked=\"checked\" class=\"mask mask-star-2 bg-green-500\">\n",
       "    <input type=\"radio\" name=\"rating-4\" aria-label=\"3 star\" class=\"mask mask-star-2 bg-green-500\">\n",
       "    <input type=\"radio\" name=\"rating-4\" aria-label=\"4 star\" class=\"mask mask-star-2 bg-green-500\">\n",
       "    <input type=\"radio\" name=\"rating-4\" aria-label=\"5 star\" class=\"mask mask-star-2 bg-green-500\">\n",
       "  </div>\n",
       "</div>\n",
       "\n",
       "```"
      ],
      "text/plain": [
       "div((div((input((),{'type': 'radio', 'name': 'rating-2', 'aria-label': '1 star', 'class': 'mask mask-star-2 bg-orange-400'}), input((),{'type': 'radio', 'name': 'rating-2', 'aria-label': '2 star', 'checked': 'checked', 'class': 'mask mask-star-2 bg-orange-400'}), input((),{'type': 'radio', 'name': 'rating-2', 'aria-label': '3 star', 'class': 'mask mask-star-2 bg-orange-400'}), input((),{'type': 'radio', 'name': 'rating-2', 'aria-label': '4 star', 'class': 'mask mask-star-2 bg-orange-400'}), input((),{'type': 'radio', 'name': 'rating-2', 'aria-label': '5 star', 'class': 'mask mask-star-2 bg-orange-400'})),{'class': 'rating'}), div((input((),{'type': 'radio', 'name': 'rating-3', 'aria-label': '1 star', 'class': 'mask mask-heart bg-red-400'}), input((),{'type': 'radio', 'name': 'rating-3', 'aria-label': '2 star', 'checked': 'checked', 'class': 'mask mask-heart bg-orange-400'}), input((),{'type': 'radio', 'name': 'rating-3', 'aria-label': '3 star', 'class': 'mask mask-heart bg-yellow-400'}), input((),{'type': 'radio', 'name': 'rating-3', 'aria-label': '4 star', 'class': 'mask mask-heart bg-lime-400'}), input((),{'type': 'radio', 'name': 'rating-3', 'aria-label': '5 star', 'class': 'mask mask-heart bg-green-400'})),{'class': 'rating gap-1'}), div((input((),{'type': 'radio', 'name': 'rating-4', 'aria-label': '1 star', 'class': 'mask mask-star-2 bg-green-500'}), input((),{'type': 'radio', 'name': 'rating-4', 'aria-label': '2 star', 'checked': 'checked', 'class': 'mask mask-star-2 bg-green-500'}), input((),{'type': 'radio', 'name': 'rating-4', 'aria-label': '3 star', 'class': 'mask mask-star-2 bg-green-500'}), input((),{'type': 'radio', 'name': 'rating-4', 'aria-label': '4 star', 'class': 'mask mask-star-2 bg-green-500'}), input((),{'type': 'radio', 'name': 'rating-4', 'aria-label': '5 star', 'class': 'mask mask-star-2 bg-green-500'})),{'class': 'rating'})),{})"
      ]
     },
     "execution_count": null,
     "metadata": {},
     "output_type": "execute_result"
    }
   ],
   "source": [
    "#|exports\n",
    "def test_rating_with_colors_fasthtml_examples():\n",
    "    \"\"\"Test rating with different colors from daisyUI v5 documentation.\"\"\"\n",
    "    from fasthtml.common import Div, Input\n",
    "    from cjm_fasthtml_tailwind.utilities.backgrounds import bg\n",
    "    from cjm_fasthtml_tailwind.utilities.flexbox_and_grid import gap\n",
    "    from cjm_fasthtml_daisyui.components.layout.mask import mask, mask_styles\n",
    "    \n",
    "    # mask-star-2 with orange-400 color\n",
    "    star2_orange_rating = Div(\n",
    "        Input(type=\"radio\", name=\"rating-2\", cls=combine_classes(mask, mask_styles.star_2, bg.orange._400), aria_label=\"1 star\"),\n",
    "        Input(type=\"radio\", name=\"rating-2\", cls=combine_classes(mask, mask_styles.star_2, bg.orange._400), aria_label=\"2 star\", checked=\"checked\"),\n",
    "        Input(type=\"radio\", name=\"rating-2\", cls=combine_classes(mask, mask_styles.star_2, bg.orange._400), aria_label=\"3 star\"),\n",
    "        Input(type=\"radio\", name=\"rating-2\", cls=combine_classes(mask, mask_styles.star_2, bg.orange._400), aria_label=\"4 star\"),\n",
    "        Input(type=\"radio\", name=\"rating-2\", cls=combine_classes(mask, mask_styles.star_2, bg.orange._400), aria_label=\"5 star\"),\n",
    "        cls=str(rating)\n",
    "    )\n",
    "    \n",
    "    # Verify star2_orange_rating\n",
    "    assert star2_orange_rating.tag == \"div\"\n",
    "    assert star2_orange_rating.attrs['class'] == \"rating\"\n",
    "    for i, input_elem in enumerate(star2_orange_rating.children, 1):\n",
    "        assert input_elem.attrs['name'] == \"rating-2\"\n",
    "        assert \"mask-star-2\" in input_elem.attrs['class']\n",
    "        assert \"bg-orange-400\" in input_elem.attrs['class']\n",
    "        if i == 2:\n",
    "            assert input_elem.attrs.get('checked') == \"checked\"\n",
    "    \n",
    "    # mask-heart with multiple colors\n",
    "    heart_multi_color_rating = Div(\n",
    "        Input(type=\"radio\", name=\"rating-3\", cls=combine_classes(mask, mask_styles.heart, bg.red._400), aria_label=\"1 star\"),\n",
    "        Input(type=\"radio\", name=\"rating-3\", cls=combine_classes(mask, mask_styles.heart, bg.orange._400), aria_label=\"2 star\", checked=\"checked\"),\n",
    "        Input(type=\"radio\", name=\"rating-3\", cls=combine_classes(mask, mask_styles.heart, bg.yellow._400), aria_label=\"3 star\"),\n",
    "        Input(type=\"radio\", name=\"rating-3\", cls=combine_classes(mask, mask_styles.heart, bg.lime._400), aria_label=\"4 star\"),\n",
    "        Input(type=\"radio\", name=\"rating-3\", cls=combine_classes(mask, mask_styles.heart, bg.green._400), aria_label=\"5 star\"),\n",
    "        cls=combine_classes(rating, gap._1)\n",
    "    )\n",
    "    \n",
    "    # Verify heart_multi_color_rating\n",
    "    assert heart_multi_color_rating.tag == \"div\"\n",
    "    assert \"rating\" in heart_multi_color_rating.attrs['class']\n",
    "    assert \"gap-1\" in heart_multi_color_rating.attrs['class']\n",
    "    \n",
    "    colors = [\"bg-red-400\", \"bg-orange-400\", \"bg-yellow-400\", \"bg-lime-400\", \"bg-green-400\"]\n",
    "    for i, (input_elem, color) in enumerate(zip(heart_multi_color_rating.children, colors), 1):\n",
    "        assert input_elem.attrs['name'] == \"rating-3\"\n",
    "        assert \"mask-heart\" in input_elem.attrs['class']\n",
    "        assert color in input_elem.attrs['class']\n",
    "        if i == 2:\n",
    "            assert input_elem.attrs.get('checked') == \"checked\"\n",
    "    \n",
    "    # mask-star-2 with green-500 color\n",
    "    star2_green_rating = Div(\n",
    "        Input(type=\"radio\", name=\"rating-4\", cls=combine_classes(mask, mask_styles.star_2, bg.green._500), aria_label=\"1 star\"),\n",
    "        Input(type=\"radio\", name=\"rating-4\", cls=combine_classes(mask, mask_styles.star_2, bg.green._500), aria_label=\"2 star\", checked=\"checked\"),\n",
    "        Input(type=\"radio\", name=\"rating-4\", cls=combine_classes(mask, mask_styles.star_2, bg.green._500), aria_label=\"3 star\"),\n",
    "        Input(type=\"radio\", name=\"rating-4\", cls=combine_classes(mask, mask_styles.star_2, bg.green._500), aria_label=\"4 star\"),\n",
    "        Input(type=\"radio\", name=\"rating-4\", cls=combine_classes(mask, mask_styles.star_2, bg.green._500), aria_label=\"5 star\"),\n",
    "        cls=str(rating)\n",
    "    )\n",
    "    \n",
    "    # Verify star2_green_rating\n",
    "    assert star2_green_rating.tag == \"div\"\n",
    "    assert star2_green_rating.attrs['class'] == \"rating\"\n",
    "    for i, input_elem in enumerate(star2_green_rating.children, 1):\n",
    "        assert input_elem.attrs['name'] == \"rating-4\"\n",
    "        assert \"mask-star-2\" in input_elem.attrs['class']\n",
    "        assert \"bg-green-500\" in input_elem.attrs['class']\n",
    "        if i == 2:\n",
    "            assert input_elem.attrs.get('checked') == \"checked\"\n",
    "    \n",
    "    return Div(star2_orange_rating, heart_multi_color_rating, star2_green_rating)\n",
    "\n",
    "# Run the tests\n",
    "test_rating_with_colors_fasthtml_examples()"
   ]
  },
  {
   "cell_type": "code",
   "execution_count": null,
   "id": "7a0c0bc3-32da-4de9-9a01-a7deb1a272ed",
   "metadata": {},
   "outputs": [
    {
     "data": {
      "text/html": [
       "\n",
       "<script>\n",
       "document.body.addEventListener('htmx:configRequest', (event) => {\n",
       "    if(event.detail.path.includes('://')) return;\n",
       "    htmx.config.selfRequestsOnly=false;\n",
       "    event.detail.path = `${location.protocol}//${location.hostname}:8000${event.detail.path}`;\n",
       "});\n",
       "</script>"
      ],
      "text/plain": [
       "<IPython.core.display.HTML object>"
      ]
     },
     "metadata": {},
     "output_type": "display_data"
    },
    {
     "data": {
      "text/html": [
       "<iframe src=\"http://localhost:8000/\" style=\"width: 100%; height: auto; border: none;\" onload=\"{\n",
       "        let frame = this;\n",
       "        window.addEventListener('message', function(e) {\n",
       "            if (e.source !== frame.contentWindow) return; // Only proceed if the message is from this iframe\n",
       "            if (e.data.height) frame.style.height = (e.data.height+1) + 'px';\n",
       "        }, false);\n",
       "    }\" allow=\"accelerometer; autoplay; camera; clipboard-read; clipboard-write; display-capture; encrypted-media; fullscreen; gamepad; geolocation; gyroscope; hid; identity-credentials-get; idle-detection; magnetometer; microphone; midi; payment; picture-in-picture; publickey-credentials-get; screen-wake-lock; serial; usb; web-share; xr-spatial-tracking\"></iframe> "
      ],
      "text/plain": [
       "<IPython.core.display.HTML object>"
      ]
     },
     "metadata": {},
     "output_type": "display_data"
    }
   ],
   "source": [
    "#| eval: false\n",
    "#| output: false\n",
    "test_func = test_rating_with_colors_fasthtml_examples\n",
    "app, rt = create_test_app(theme=DaisyUITheme.LIGHT)\n",
    "\n",
    "@rt\n",
    "def index():\n",
    "    return create_test_page(test_func.__doc__.title().replace('.', ''), test_func())\n",
    "server = start_test_server(app)\n",
    "display(HTMX())\n",
    "server.stop()"
   ]
  },
  {
   "cell_type": "code",
   "execution_count": null,
   "id": "12beadb7-cbfc-4a54-bf9b-0d3c62d266bb",
   "metadata": {},
   "outputs": [
    {
     "data": {
      "text/markdown": [
       "```html\n",
       "<div>\n",
       "  <div class=\"rating rating-xs\">\n",
       "    <input type=\"radio\" name=\"rating-5\" aria-label=\"1 star\" class=\"mask mask-star-2 bg-orange-400\">\n",
       "    <input type=\"radio\" name=\"rating-5\" aria-label=\"2 star\" checked=\"checked\" class=\"mask mask-star-2 bg-orange-400\">\n",
       "    <input type=\"radio\" name=\"rating-5\" aria-label=\"3 star\" class=\"mask mask-star-2 bg-orange-400\">\n",
       "    <input type=\"radio\" name=\"rating-5\" aria-label=\"4 star\" class=\"mask mask-star-2 bg-orange-400\">\n",
       "    <input type=\"radio\" name=\"rating-5\" aria-label=\"5 star\" class=\"mask mask-star-2 bg-orange-400\">\n",
       "  </div>\n",
       "  <div class=\"rating rating-sm\">\n",
       "    <input type=\"radio\" name=\"rating-6\" aria-label=\"1 star\" class=\"mask mask-star-2 bg-orange-400\">\n",
       "    <input type=\"radio\" name=\"rating-6\" aria-label=\"2 star\" checked=\"checked\" class=\"mask mask-star-2 bg-orange-400\">\n",
       "    <input type=\"radio\" name=\"rating-6\" aria-label=\"3 star\" class=\"mask mask-star-2 bg-orange-400\">\n",
       "    <input type=\"radio\" name=\"rating-6\" aria-label=\"4 star\" class=\"mask mask-star-2 bg-orange-400\">\n",
       "    <input type=\"radio\" name=\"rating-6\" aria-label=\"5 star\" class=\"mask mask-star-2 bg-orange-400\">\n",
       "  </div>\n",
       "  <div class=\"rating rating-md\">\n",
       "    <input type=\"radio\" name=\"rating-7\" aria-label=\"1 star\" class=\"mask mask-star-2 bg-orange-400\">\n",
       "    <input type=\"radio\" name=\"rating-7\" aria-label=\"2 star\" checked=\"checked\" class=\"mask mask-star-2 bg-orange-400\">\n",
       "    <input type=\"radio\" name=\"rating-7\" aria-label=\"3 star\" class=\"mask mask-star-2 bg-orange-400\">\n",
       "    <input type=\"radio\" name=\"rating-7\" aria-label=\"4 star\" class=\"mask mask-star-2 bg-orange-400\">\n",
       "    <input type=\"radio\" name=\"rating-7\" aria-label=\"5 star\" class=\"mask mask-star-2 bg-orange-400\">\n",
       "  </div>\n",
       "  <div class=\"rating rating-lg\">\n",
       "    <input type=\"radio\" name=\"rating-8\" aria-label=\"1 star\" class=\"mask mask-star-2 bg-orange-400\">\n",
       "    <input type=\"radio\" name=\"rating-8\" aria-label=\"2 star\" checked=\"checked\" class=\"mask mask-star-2 bg-orange-400\">\n",
       "    <input type=\"radio\" name=\"rating-8\" aria-label=\"3 star\" class=\"mask mask-star-2 bg-orange-400\">\n",
       "    <input type=\"radio\" name=\"rating-8\" aria-label=\"4 star\" class=\"mask mask-star-2 bg-orange-400\">\n",
       "    <input type=\"radio\" name=\"rating-8\" aria-label=\"5 star\" class=\"mask mask-star-2 bg-orange-400\">\n",
       "  </div>\n",
       "  <div class=\"rating rating-xl\">\n",
       "    <input type=\"radio\" name=\"rating-9\" aria-label=\"1 star\" class=\"mask mask-star-2 bg-orange-400\">\n",
       "    <input type=\"radio\" name=\"rating-9\" aria-label=\"2 star\" checked=\"checked\" class=\"mask mask-star-2 bg-orange-400\">\n",
       "    <input type=\"radio\" name=\"rating-9\" aria-label=\"3 star\" class=\"mask mask-star-2 bg-orange-400\">\n",
       "    <input type=\"radio\" name=\"rating-9\" aria-label=\"4 star\" class=\"mask mask-star-2 bg-orange-400\">\n",
       "    <input type=\"radio\" name=\"rating-9\" aria-label=\"5 star\" class=\"mask mask-star-2 bg-orange-400\">\n",
       "  </div>\n",
       "</div>\n",
       "\n",
       "```"
      ],
      "text/plain": [
       "div((div((input((),{'type': 'radio', 'name': 'rating-5', 'aria-label': '1 star', 'class': 'mask mask-star-2 bg-orange-400'}), input((),{'type': 'radio', 'name': 'rating-5', 'aria-label': '2 star', 'checked': 'checked', 'class': 'mask mask-star-2 bg-orange-400'}), input((),{'type': 'radio', 'name': 'rating-5', 'aria-label': '3 star', 'class': 'mask mask-star-2 bg-orange-400'}), input((),{'type': 'radio', 'name': 'rating-5', 'aria-label': '4 star', 'class': 'mask mask-star-2 bg-orange-400'}), input((),{'type': 'radio', 'name': 'rating-5', 'aria-label': '5 star', 'class': 'mask mask-star-2 bg-orange-400'})),{'class': 'rating rating-xs'}), div((input((),{'type': 'radio', 'name': 'rating-6', 'aria-label': '1 star', 'class': 'mask mask-star-2 bg-orange-400'}), input((),{'type': 'radio', 'name': 'rating-6', 'aria-label': '2 star', 'checked': 'checked', 'class': 'mask mask-star-2 bg-orange-400'}), input((),{'type': 'radio', 'name': 'rating-6', 'aria-label': '3 star', 'class': 'mask mask-star-2 bg-orange-400'}), input((),{'type': 'radio', 'name': 'rating-6', 'aria-label': '4 star', 'class': 'mask mask-star-2 bg-orange-400'}), input((),{'type': 'radio', 'name': 'rating-6', 'aria-label': '5 star', 'class': 'mask mask-star-2 bg-orange-400'})),{'class': 'rating rating-sm'}), div((input((),{'type': 'radio', 'name': 'rating-7', 'aria-label': '1 star', 'class': 'mask mask-star-2 bg-orange-400'}), input((),{'type': 'radio', 'name': 'rating-7', 'aria-label': '2 star', 'checked': 'checked', 'class': 'mask mask-star-2 bg-orange-400'}), input((),{'type': 'radio', 'name': 'rating-7', 'aria-label': '3 star', 'class': 'mask mask-star-2 bg-orange-400'}), input((),{'type': 'radio', 'name': 'rating-7', 'aria-label': '4 star', 'class': 'mask mask-star-2 bg-orange-400'}), input((),{'type': 'radio', 'name': 'rating-7', 'aria-label': '5 star', 'class': 'mask mask-star-2 bg-orange-400'})),{'class': 'rating rating-md'}), div((input((),{'type': 'radio', 'name': 'rating-8', 'aria-label': '1 star', 'class': 'mask mask-star-2 bg-orange-400'}), input((),{'type': 'radio', 'name': 'rating-8', 'aria-label': '2 star', 'checked': 'checked', 'class': 'mask mask-star-2 bg-orange-400'}), input((),{'type': 'radio', 'name': 'rating-8', 'aria-label': '3 star', 'class': 'mask mask-star-2 bg-orange-400'}), input((),{'type': 'radio', 'name': 'rating-8', 'aria-label': '4 star', 'class': 'mask mask-star-2 bg-orange-400'}), input((),{'type': 'radio', 'name': 'rating-8', 'aria-label': '5 star', 'class': 'mask mask-star-2 bg-orange-400'})),{'class': 'rating rating-lg'}), div((input((),{'type': 'radio', 'name': 'rating-9', 'aria-label': '1 star', 'class': 'mask mask-star-2 bg-orange-400'}), input((),{'type': 'radio', 'name': 'rating-9', 'aria-label': '2 star', 'checked': 'checked', 'class': 'mask mask-star-2 bg-orange-400'}), input((),{'type': 'radio', 'name': 'rating-9', 'aria-label': '3 star', 'class': 'mask mask-star-2 bg-orange-400'}), input((),{'type': 'radio', 'name': 'rating-9', 'aria-label': '4 star', 'class': 'mask mask-star-2 bg-orange-400'}), input((),{'type': 'radio', 'name': 'rating-9', 'aria-label': '5 star', 'class': 'mask mask-star-2 bg-orange-400'})),{'class': 'rating rating-xl'})),{})"
      ]
     },
     "execution_count": null,
     "metadata": {},
     "output_type": "execute_result"
    }
   ],
   "source": [
    "#|exports\n",
    "def test_rating_sizes_fasthtml_examples():\n",
    "    \"\"\"Test rating size variations from daisyUI v5 documentation.\"\"\"\n",
    "    from fasthtml.common import Div, Input\n",
    "    from cjm_fasthtml_tailwind.utilities.backgrounds import bg\n",
    "    from cjm_fasthtml_daisyui.components.layout.mask import mask, mask_styles\n",
    "    \n",
    "    # Common mask and background classes\n",
    "    mask_star2_orange = combine_classes(mask, mask_styles.star_2, bg.orange._400)\n",
    "    \n",
    "    # Extra small rating\n",
    "    xs_rating = Div(\n",
    "        Input(type=\"radio\", name=\"rating-5\", cls=mask_star2_orange, aria_label=\"1 star\"),\n",
    "        Input(type=\"radio\", name=\"rating-5\", cls=mask_star2_orange, aria_label=\"2 star\", checked=\"checked\"),\n",
    "        Input(type=\"radio\", name=\"rating-5\", cls=mask_star2_orange, aria_label=\"3 star\"),\n",
    "        Input(type=\"radio\", name=\"rating-5\", cls=mask_star2_orange, aria_label=\"4 star\"),\n",
    "        Input(type=\"radio\", name=\"rating-5\", cls=mask_star2_orange, aria_label=\"5 star\"),\n",
    "        cls=combine_classes(rating, rating_sizes.xs)\n",
    "    )\n",
    "    \n",
    "    # Small rating\n",
    "    sm_rating = Div(\n",
    "        Input(type=\"radio\", name=\"rating-6\", cls=mask_star2_orange, aria_label=\"1 star\"),\n",
    "        Input(type=\"radio\", name=\"rating-6\", cls=mask_star2_orange, aria_label=\"2 star\", checked=\"checked\"),\n",
    "        Input(type=\"radio\", name=\"rating-6\", cls=mask_star2_orange, aria_label=\"3 star\"),\n",
    "        Input(type=\"radio\", name=\"rating-6\", cls=mask_star2_orange, aria_label=\"4 star\"),\n",
    "        Input(type=\"radio\", name=\"rating-6\", cls=mask_star2_orange, aria_label=\"5 star\"),\n",
    "        cls=combine_classes(rating, rating_sizes.sm)\n",
    "    )\n",
    "    \n",
    "    # Medium rating\n",
    "    md_rating = Div(\n",
    "        Input(type=\"radio\", name=\"rating-7\", cls=mask_star2_orange, aria_label=\"1 star\"),\n",
    "        Input(type=\"radio\", name=\"rating-7\", cls=mask_star2_orange, aria_label=\"2 star\", checked=\"checked\"),\n",
    "        Input(type=\"radio\", name=\"rating-7\", cls=mask_star2_orange, aria_label=\"3 star\"),\n",
    "        Input(type=\"radio\", name=\"rating-7\", cls=mask_star2_orange, aria_label=\"4 star\"),\n",
    "        Input(type=\"radio\", name=\"rating-7\", cls=mask_star2_orange, aria_label=\"5 star\"),\n",
    "        cls=combine_classes(rating, rating_sizes.md)\n",
    "    )\n",
    "    \n",
    "    # Large rating\n",
    "    lg_rating = Div(\n",
    "        Input(type=\"radio\", name=\"rating-8\", cls=mask_star2_orange, aria_label=\"1 star\"),\n",
    "        Input(type=\"radio\", name=\"rating-8\", cls=mask_star2_orange, aria_label=\"2 star\", checked=\"checked\"),\n",
    "        Input(type=\"radio\", name=\"rating-8\", cls=mask_star2_orange, aria_label=\"3 star\"),\n",
    "        Input(type=\"radio\", name=\"rating-8\", cls=mask_star2_orange, aria_label=\"4 star\"),\n",
    "        Input(type=\"radio\", name=\"rating-8\", cls=mask_star2_orange, aria_label=\"5 star\"),\n",
    "        cls=combine_classes(rating, rating_sizes.lg)\n",
    "    )\n",
    "    \n",
    "    # Extra large rating\n",
    "    xl_rating = Div(\n",
    "        Input(type=\"radio\", name=\"rating-9\", cls=mask_star2_orange, aria_label=\"1 star\"),\n",
    "        Input(type=\"radio\", name=\"rating-9\", cls=mask_star2_orange, aria_label=\"2 star\", checked=\"checked\"),\n",
    "        Input(type=\"radio\", name=\"rating-9\", cls=mask_star2_orange, aria_label=\"3 star\"),\n",
    "        Input(type=\"radio\", name=\"rating-9\", cls=mask_star2_orange, aria_label=\"4 star\"),\n",
    "        Input(type=\"radio\", name=\"rating-9\", cls=mask_star2_orange, aria_label=\"5 star\"),\n",
    "        cls=combine_classes(rating, rating_sizes.xl)\n",
    "    )\n",
    "    \n",
    "    # Verify all sizes\n",
    "    sizes = [\n",
    "        (xs_rating, \"rating-xs\", \"rating-5\"),\n",
    "        (sm_rating, \"rating-sm\", \"rating-6\"),\n",
    "        (md_rating, \"rating-md\", \"rating-7\"),\n",
    "        (lg_rating, \"rating-lg\", \"rating-8\"),\n",
    "        (xl_rating, \"rating-xl\", \"rating-9\")\n",
    "    ]\n",
    "    \n",
    "    for rating_elem, size_class, name in sizes:\n",
    "        assert rating_elem.tag == \"div\"\n",
    "        assert \"rating\" in rating_elem.attrs['class']\n",
    "        assert size_class in rating_elem.attrs['class']\n",
    "        assert len(rating_elem.children) == 5\n",
    "        \n",
    "        for i, input_elem in enumerate(rating_elem.children, 1):\n",
    "            assert input_elem.attrs['name'] == name\n",
    "            assert \"mask\" in input_elem.attrs['class']\n",
    "            assert \"mask-star-2\" in input_elem.attrs['class']\n",
    "            assert \"bg-orange-400\" in input_elem.attrs['class']\n",
    "            if i == 2:\n",
    "                assert input_elem.attrs.get('checked') == \"checked\"\n",
    "    \n",
    "    return Div(xs_rating, sm_rating, md_rating, lg_rating, xl_rating)\n",
    "\n",
    "# Run the tests\n",
    "test_rating_sizes_fasthtml_examples()"
   ]
  },
  {
   "cell_type": "code",
   "execution_count": null,
   "id": "4be13240-ffc7-48c0-82f6-871f91ae74e1",
   "metadata": {},
   "outputs": [
    {
     "data": {
      "text/html": [
       "\n",
       "<script>\n",
       "document.body.addEventListener('htmx:configRequest', (event) => {\n",
       "    if(event.detail.path.includes('://')) return;\n",
       "    htmx.config.selfRequestsOnly=false;\n",
       "    event.detail.path = `${location.protocol}//${location.hostname}:8000${event.detail.path}`;\n",
       "});\n",
       "</script>"
      ],
      "text/plain": [
       "<IPython.core.display.HTML object>"
      ]
     },
     "metadata": {},
     "output_type": "display_data"
    },
    {
     "data": {
      "text/html": [
       "<iframe src=\"http://localhost:8000/\" style=\"width: 100%; height: auto; border: none;\" onload=\"{\n",
       "        let frame = this;\n",
       "        window.addEventListener('message', function(e) {\n",
       "            if (e.source !== frame.contentWindow) return; // Only proceed if the message is from this iframe\n",
       "            if (e.data.height) frame.style.height = (e.data.height+1) + 'px';\n",
       "        }, false);\n",
       "    }\" allow=\"accelerometer; autoplay; camera; clipboard-read; clipboard-write; display-capture; encrypted-media; fullscreen; gamepad; geolocation; gyroscope; hid; identity-credentials-get; idle-detection; magnetometer; microphone; midi; payment; picture-in-picture; publickey-credentials-get; screen-wake-lock; serial; usb; web-share; xr-spatial-tracking\"></iframe> "
      ],
      "text/plain": [
       "<IPython.core.display.HTML object>"
      ]
     },
     "metadata": {},
     "output_type": "display_data"
    }
   ],
   "source": [
    "#| eval: false\n",
    "#| output: false\n",
    "test_func = test_rating_sizes_fasthtml_examples\n",
    "app, rt = create_test_app(theme=DaisyUITheme.LIGHT)\n",
    "\n",
    "@rt\n",
    "def index():\n",
    "    return create_test_page(test_func.__doc__.title().replace('.', ''), test_func())\n",
    "server = start_test_server(app)\n",
    "display(HTMX())\n",
    "server.stop()"
   ]
  },
  {
   "cell_type": "code",
   "execution_count": null,
   "id": "21122799-c7b6-40d5-b673-6650e5a18262",
   "metadata": {},
   "outputs": [
    {
     "data": {
      "text/markdown": [
       "```html\n",
       "<div class=\"rating rating-lg\">\n",
       "  <input type=\"radio\" name=\"rating-10\" aria-label=\"clear\" class=\"rating-hidden\">\n",
       "  <input type=\"radio\" name=\"rating-10\" aria-label=\"1 star\" class=\"mask mask-star-2\">\n",
       "  <input type=\"radio\" name=\"rating-10\" aria-label=\"2 star\" checked=\"checked\" class=\"mask mask-star-2\">\n",
       "  <input type=\"radio\" name=\"rating-10\" aria-label=\"3 star\" class=\"mask mask-star-2\">\n",
       "  <input type=\"radio\" name=\"rating-10\" aria-label=\"4 star\" class=\"mask mask-star-2\">\n",
       "  <input type=\"radio\" name=\"rating-10\" aria-label=\"5 star\" class=\"mask mask-star-2\">\n",
       "</div>\n",
       "\n",
       "```"
      ],
      "text/plain": [
       "div((input((),{'type': 'radio', 'name': 'rating-10', 'aria-label': 'clear', 'class': 'rating-hidden'}), input((),{'type': 'radio', 'name': 'rating-10', 'aria-label': '1 star', 'class': 'mask mask-star-2'}), input((),{'type': 'radio', 'name': 'rating-10', 'aria-label': '2 star', 'checked': 'checked', 'class': 'mask mask-star-2'}), input((),{'type': 'radio', 'name': 'rating-10', 'aria-label': '3 star', 'class': 'mask mask-star-2'}), input((),{'type': 'radio', 'name': 'rating-10', 'aria-label': '4 star', 'class': 'mask mask-star-2'}), input((),{'type': 'radio', 'name': 'rating-10', 'aria-label': '5 star', 'class': 'mask mask-star-2'})),{'class': 'rating rating-lg'})"
      ]
     },
     "execution_count": null,
     "metadata": {},
     "output_type": "execute_result"
    }
   ],
   "source": [
    "#|exports\n",
    "def test_rating_with_hidden_fasthtml_examples():\n",
    "    \"\"\"Test rating with hidden clear option from daisyUI v5 documentation.\"\"\"\n",
    "    from fasthtml.common import Div, Input\n",
    "    from cjm_fasthtml_daisyui.components.layout.mask import mask, mask_styles\n",
    "    \n",
    "    # Rating with hidden clear option\n",
    "    rating_with_hidden = Div(\n",
    "        Input(type=\"radio\", name=\"rating-10\", cls=str(rating_modifiers.hidden), aria_label=\"clear\"),\n",
    "        Input(type=\"radio\", name=\"rating-10\", cls=combine_classes(mask, mask_styles.star_2), aria_label=\"1 star\"),\n",
    "        Input(type=\"radio\", name=\"rating-10\", cls=combine_classes(mask, mask_styles.star_2), aria_label=\"2 star\", checked=\"checked\"),\n",
    "        Input(type=\"radio\", name=\"rating-10\", cls=combine_classes(mask, mask_styles.star_2), aria_label=\"3 star\"),\n",
    "        Input(type=\"radio\", name=\"rating-10\", cls=combine_classes(mask, mask_styles.star_2), aria_label=\"4 star\"),\n",
    "        Input(type=\"radio\", name=\"rating-10\", cls=combine_classes(mask, mask_styles.star_2), aria_label=\"5 star\"),\n",
    "        cls=combine_classes(rating, rating_sizes.lg)\n",
    "    )\n",
    "    \n",
    "    # Verify structure\n",
    "    assert rating_with_hidden.tag == \"div\"\n",
    "    assert \"rating\" in rating_with_hidden.attrs['class']\n",
    "    assert \"rating-lg\" in rating_with_hidden.attrs['class']\n",
    "    assert len(rating_with_hidden.children) == 6  # One hidden + 5 stars\n",
    "    \n",
    "    # Verify hidden clear input\n",
    "    hidden_input = rating_with_hidden.children[0]\n",
    "    assert hidden_input.tag == \"input\"\n",
    "    assert hidden_input.attrs['type'] == \"radio\"\n",
    "    assert hidden_input.attrs['name'] == \"rating-10\"\n",
    "    assert hidden_input.attrs['class'] == \"rating-hidden\"\n",
    "    assert hidden_input.attrs['aria-label'] == \"clear\"\n",
    "    \n",
    "    # Verify star inputs\n",
    "    for i, input_elem in enumerate(rating_with_hidden.children[1:], 1):\n",
    "        assert input_elem.tag == \"input\"\n",
    "        assert input_elem.attrs['type'] == \"radio\"\n",
    "        assert input_elem.attrs['name'] == \"rating-10\"\n",
    "        assert \"mask\" in input_elem.attrs['class']\n",
    "        assert \"mask-star-2\" in input_elem.attrs['class']\n",
    "        assert input_elem.attrs['aria-label'] == f\"{i} star\"\n",
    "        if i == 2:\n",
    "            assert input_elem.attrs.get('checked') == \"checked\"\n",
    "        else:\n",
    "            assert 'checked' not in input_elem.attrs\n",
    "    \n",
    "    return rating_with_hidden\n",
    "\n",
    "# Run the tests\n",
    "test_rating_with_hidden_fasthtml_examples()"
   ]
  },
  {
   "cell_type": "code",
   "execution_count": null,
   "id": "117bac28-0d35-4e82-961d-f4cf3248e8c4",
   "metadata": {},
   "outputs": [
    {
     "data": {
      "text/html": [
       "\n",
       "<script>\n",
       "document.body.addEventListener('htmx:configRequest', (event) => {\n",
       "    if(event.detail.path.includes('://')) return;\n",
       "    htmx.config.selfRequestsOnly=false;\n",
       "    event.detail.path = `${location.protocol}//${location.hostname}:8000${event.detail.path}`;\n",
       "});\n",
       "</script>"
      ],
      "text/plain": [
       "<IPython.core.display.HTML object>"
      ]
     },
     "metadata": {},
     "output_type": "display_data"
    },
    {
     "data": {
      "text/html": [
       "<iframe src=\"http://localhost:8000/\" style=\"width: 100%; height: auto; border: none;\" onload=\"{\n",
       "        let frame = this;\n",
       "        window.addEventListener('message', function(e) {\n",
       "            if (e.source !== frame.contentWindow) return; // Only proceed if the message is from this iframe\n",
       "            if (e.data.height) frame.style.height = (e.data.height+1) + 'px';\n",
       "        }, false);\n",
       "    }\" allow=\"accelerometer; autoplay; camera; clipboard-read; clipboard-write; display-capture; encrypted-media; fullscreen; gamepad; geolocation; gyroscope; hid; identity-credentials-get; idle-detection; magnetometer; microphone; midi; payment; picture-in-picture; publickey-credentials-get; screen-wake-lock; serial; usb; web-share; xr-spatial-tracking\"></iframe> "
      ],
      "text/plain": [
       "<IPython.core.display.HTML object>"
      ]
     },
     "metadata": {},
     "output_type": "display_data"
    }
   ],
   "source": [
    "#| eval: false\n",
    "#| output: false\n",
    "test_func = test_rating_with_hidden_fasthtml_examples\n",
    "app, rt = create_test_app(theme=DaisyUITheme.LIGHT)\n",
    "\n",
    "@rt\n",
    "def index():\n",
    "    return create_test_page(test_func.__doc__.title().replace('.', ''), test_func())\n",
    "server = start_test_server(app)\n",
    "display(HTMX())\n",
    "server.stop()"
   ]
  },
  {
   "cell_type": "code",
   "execution_count": null,
   "id": "86838300-e465-4c62-9861-e45ab019dcf4",
   "metadata": {},
   "outputs": [
    {
     "data": {
      "text/markdown": [
       "```html\n",
       "<div class=\"rating rating-lg rating-half\">\n",
       "  <input type=\"radio\" name=\"rating-11\" class=\"rating-hidden\">\n",
       "  <input type=\"radio\" name=\"rating-11\" aria-label=\"0.5 star\" class=\"mask mask-star-2 mask-half-1 bg-green-500\">\n",
       "  <input type=\"radio\" name=\"rating-11\" aria-label=\"1 star\" class=\"mask mask-star-2 mask-half-2 bg-green-500\">\n",
       "  <input type=\"radio\" name=\"rating-11\" aria-label=\"1.5 star\" checked=\"checked\" class=\"mask mask-star-2 mask-half-1 bg-green-500\">\n",
       "  <input type=\"radio\" name=\"rating-11\" aria-label=\"2 star\" class=\"mask mask-star-2 mask-half-2 bg-green-500\">\n",
       "  <input type=\"radio\" name=\"rating-11\" aria-label=\"2.5 star\" class=\"mask mask-star-2 mask-half-1 bg-green-500\">\n",
       "  <input type=\"radio\" name=\"rating-11\" aria-label=\"3 star\" class=\"mask mask-star-2 mask-half-2 bg-green-500\">\n",
       "  <input type=\"radio\" name=\"rating-11\" aria-label=\"3.5 star\" class=\"mask mask-star-2 mask-half-1 bg-green-500\">\n",
       "  <input type=\"radio\" name=\"rating-11\" aria-label=\"4 star\" class=\"mask mask-star-2 mask-half-2 bg-green-500\">\n",
       "  <input type=\"radio\" name=\"rating-11\" aria-label=\"4.5 star\" class=\"mask mask-star-2 mask-half-1 bg-green-500\">\n",
       "  <input type=\"radio\" name=\"rating-11\" aria-label=\"5 star\" class=\"mask mask-star-2 mask-half-2 bg-green-500\">\n",
       "</div>\n",
       "\n",
       "```"
      ],
      "text/plain": [
       "div((input((),{'type': 'radio', 'name': 'rating-11', 'class': 'rating-hidden'}), input((),{'type': 'radio', 'name': 'rating-11', 'aria-label': '0.5 star', 'class': 'mask mask-star-2 mask-half-1 bg-green-500'}), input((),{'type': 'radio', 'name': 'rating-11', 'aria-label': '1 star', 'class': 'mask mask-star-2 mask-half-2 bg-green-500'}), input((),{'type': 'radio', 'name': 'rating-11', 'aria-label': '1.5 star', 'checked': 'checked', 'class': 'mask mask-star-2 mask-half-1 bg-green-500'}), input((),{'type': 'radio', 'name': 'rating-11', 'aria-label': '2 star', 'class': 'mask mask-star-2 mask-half-2 bg-green-500'}), input((),{'type': 'radio', 'name': 'rating-11', 'aria-label': '2.5 star', 'class': 'mask mask-star-2 mask-half-1 bg-green-500'}), input((),{'type': 'radio', 'name': 'rating-11', 'aria-label': '3 star', 'class': 'mask mask-star-2 mask-half-2 bg-green-500'}), input((),{'type': 'radio', 'name': 'rating-11', 'aria-label': '3.5 star', 'class': 'mask mask-star-2 mask-half-1 bg-green-500'}), input((),{'type': 'radio', 'name': 'rating-11', 'aria-label': '4 star', 'class': 'mask mask-star-2 mask-half-2 bg-green-500'}), input((),{'type': 'radio', 'name': 'rating-11', 'aria-label': '4.5 star', 'class': 'mask mask-star-2 mask-half-1 bg-green-500'}), input((),{'type': 'radio', 'name': 'rating-11', 'aria-label': '5 star', 'class': 'mask mask-star-2 mask-half-2 bg-green-500'})),{'class': 'rating rating-lg rating-half'})"
      ]
     },
     "execution_count": null,
     "metadata": {},
     "output_type": "execute_result"
    }
   ],
   "source": [
    "#|exports\n",
    "def test_rating_half_stars_fasthtml_examples():\n",
    "    \"\"\"Test rating with half stars from daisyUI v5 documentation.\"\"\"\n",
    "    from fasthtml.common import Div, Input\n",
    "    from cjm_fasthtml_tailwind.utilities.backgrounds import bg\n",
    "    from cjm_fasthtml_daisyui.components.layout.mask import mask, mask_styles, mask_modifiers\n",
    "    \n",
    "    # Half stars rating\n",
    "    half_stars_rating = Div(\n",
    "        Input(type=\"radio\", name=\"rating-11\", cls=str(rating_modifiers.hidden)),\n",
    "        Input(type=\"radio\", name=\"rating-11\", cls=combine_classes(mask, mask_styles.star_2, mask_modifiers.half_1, bg.green._500), aria_label=\"0.5 star\"),\n",
    "        Input(type=\"radio\", name=\"rating-11\", cls=combine_classes(mask, mask_styles.star_2, mask_modifiers.half_2, bg.green._500), aria_label=\"1 star\"),\n",
    "        Input(type=\"radio\", name=\"rating-11\", cls=combine_classes(mask, mask_styles.star_2, mask_modifiers.half_1, bg.green._500), aria_label=\"1.5 star\", checked=\"checked\"),\n",
    "        Input(type=\"radio\", name=\"rating-11\", cls=combine_classes(mask, mask_styles.star_2, mask_modifiers.half_2, bg.green._500), aria_label=\"2 star\"),\n",
    "        Input(type=\"radio\", name=\"rating-11\", cls=combine_classes(mask, mask_styles.star_2, mask_modifiers.half_1, bg.green._500), aria_label=\"2.5 star\"),\n",
    "        Input(type=\"radio\", name=\"rating-11\", cls=combine_classes(mask, mask_styles.star_2, mask_modifiers.half_2, bg.green._500), aria_label=\"3 star\"),\n",
    "        Input(type=\"radio\", name=\"rating-11\", cls=combine_classes(mask, mask_styles.star_2, mask_modifiers.half_1, bg.green._500), aria_label=\"3.5 star\"),\n",
    "        Input(type=\"radio\", name=\"rating-11\", cls=combine_classes(mask, mask_styles.star_2, mask_modifiers.half_2, bg.green._500), aria_label=\"4 star\"),\n",
    "        Input(type=\"radio\", name=\"rating-11\", cls=combine_classes(mask, mask_styles.star_2, mask_modifiers.half_1, bg.green._500), aria_label=\"4.5 star\"),\n",
    "        Input(type=\"radio\", name=\"rating-11\", cls=combine_classes(mask, mask_styles.star_2, mask_modifiers.half_2, bg.green._500), aria_label=\"5 star\"),\n",
    "        cls=combine_classes(rating, rating_sizes.lg, rating_modifiers.half)\n",
    "    )\n",
    "    \n",
    "    # Verify structure\n",
    "    assert half_stars_rating.tag == \"div\"\n",
    "    assert \"rating\" in half_stars_rating.attrs['class']\n",
    "    assert \"rating-lg\" in half_stars_rating.attrs['class']\n",
    "    assert \"rating-half\" in half_stars_rating.attrs['class']\n",
    "    assert len(half_stars_rating.children) == 11  # 1 hidden + 10 halves\n",
    "    \n",
    "    # Verify hidden input\n",
    "    hidden_input = half_stars_rating.children[0]\n",
    "    assert hidden_input.tag == \"input\"\n",
    "    assert hidden_input.attrs['type'] == \"radio\"\n",
    "    assert hidden_input.attrs['name'] == \"rating-11\"\n",
    "    assert hidden_input.attrs['class'] == \"rating-hidden\"\n",
    "    \n",
    "    # Verify half star inputs\n",
    "    expected_labels = [\n",
    "        \"0.5 star\", \"1 star\", \"1.5 star\", \"2 star\", \"2.5 star\",\n",
    "        \"3 star\", \"3.5 star\", \"4 star\", \"4.5 star\", \"5 star\"\n",
    "    ]\n",
    "    \n",
    "    for i, (input_elem, label) in enumerate(zip(half_stars_rating.children[1:], expected_labels)):\n",
    "        assert input_elem.tag == \"input\"\n",
    "        assert input_elem.attrs['type'] == \"radio\"\n",
    "        assert input_elem.attrs['name'] == \"rating-11\"\n",
    "        assert \"mask\" in input_elem.attrs['class']\n",
    "        assert \"mask-star-2\" in input_elem.attrs['class']\n",
    "        assert \"bg-green-500\" in input_elem.attrs['class']\n",
    "        assert input_elem.attrs['aria-label'] == label\n",
    "        \n",
    "        # Check for half-1 or half-2\n",
    "        if i % 2 == 0:  # Even indices (0, 2, 4, 6, 8) should have half-1\n",
    "            assert \"mask-half-1\" in input_elem.attrs['class']\n",
    "        else:  # Odd indices (1, 3, 5, 7, 9) should have half-2\n",
    "            assert \"mask-half-2\" in input_elem.attrs['class']\n",
    "        \n",
    "        # Check if 1.5 star is checked (index 2 in 0-based)\n",
    "        if i == 2:\n",
    "            assert input_elem.attrs.get('checked') == \"checked\"\n",
    "        else:\n",
    "            assert 'checked' not in input_elem.attrs\n",
    "    \n",
    "    return half_stars_rating\n",
    "\n",
    "# Run the tests\n",
    "test_rating_half_stars_fasthtml_examples()"
   ]
  },
  {
   "cell_type": "code",
   "execution_count": null,
   "id": "3e357188-6b54-46d6-993d-aeba97019b19",
   "metadata": {},
   "outputs": [
    {
     "data": {
      "text/html": [
       "\n",
       "<script>\n",
       "document.body.addEventListener('htmx:configRequest', (event) => {\n",
       "    if(event.detail.path.includes('://')) return;\n",
       "    htmx.config.selfRequestsOnly=false;\n",
       "    event.detail.path = `${location.protocol}//${location.hostname}:8000${event.detail.path}`;\n",
       "});\n",
       "</script>"
      ],
      "text/plain": [
       "<IPython.core.display.HTML object>"
      ]
     },
     "metadata": {},
     "output_type": "display_data"
    },
    {
     "data": {
      "text/html": [
       "<iframe src=\"http://localhost:8000/\" style=\"width: 100%; height: auto; border: none;\" onload=\"{\n",
       "        let frame = this;\n",
       "        window.addEventListener('message', function(e) {\n",
       "            if (e.source !== frame.contentWindow) return; // Only proceed if the message is from this iframe\n",
       "            if (e.data.height) frame.style.height = (e.data.height+1) + 'px';\n",
       "        }, false);\n",
       "    }\" allow=\"accelerometer; autoplay; camera; clipboard-read; clipboard-write; display-capture; encrypted-media; fullscreen; gamepad; geolocation; gyroscope; hid; identity-credentials-get; idle-detection; magnetometer; microphone; midi; payment; picture-in-picture; publickey-credentials-get; screen-wake-lock; serial; usb; web-share; xr-spatial-tracking\"></iframe> "
      ],
      "text/plain": [
       "<IPython.core.display.HTML object>"
      ]
     },
     "metadata": {},
     "output_type": "display_data"
    }
   ],
   "source": [
    "#| eval: false\n",
    "#| output: false\n",
    "test_func = test_rating_half_stars_fasthtml_examples\n",
    "app, rt = create_test_app(theme=DaisyUITheme.LIGHT)\n",
    "\n",
    "@rt\n",
    "def index():\n",
    "    return create_test_page(test_func.__doc__.title().replace('.', ''), test_func())\n",
    "server = start_test_server(app)\n",
    "display(HTMX())\n",
    "server.stop()"
   ]
  },
  {
   "cell_type": "code",
   "execution_count": null,
   "id": "43a3d5aa-4f07-48f4-b7c3-5c63612f0fb2",
   "metadata": {},
   "outputs": [],
   "source": []
  },
  {
   "cell_type": "code",
   "execution_count": null,
   "id": "248adc40-6e77-4203-9830-de838e25a00a",
   "metadata": {},
   "outputs": [],
   "source": []
  },
  {
   "cell_type": "code",
   "execution_count": null,
   "id": "a2029d6d-bf22-4e16-87e1-d609762dc867",
   "metadata": {},
   "outputs": [],
   "source": []
  },
  {
   "cell_type": "code",
   "execution_count": null,
   "id": "c9dfaad9-504c-4853-886b-2d1adb1cc3a0",
   "metadata": {},
   "outputs": [],
   "source": []
  },
  {
   "cell_type": "code",
   "execution_count": null,
   "id": "454d5b84-fc57-44ab-a6f0-3123333998cb",
   "metadata": {},
   "outputs": [],
   "source": []
  },
  {
   "cell_type": "code",
   "execution_count": null,
   "id": "d471d21b-6fe5-4c63-90be-5176c4cbd08b",
   "metadata": {},
   "outputs": [],
   "source": []
  },
  {
   "cell_type": "code",
   "execution_count": null,
   "id": "73b88b7e-0be6-4a82-9c02-f3df8af20015",
   "metadata": {},
   "outputs": [],
   "source": []
  },
  {
   "cell_type": "code",
   "execution_count": null,
   "id": "7ab8257a-c30b-45b6-a784-729b67686791",
   "metadata": {},
   "outputs": [],
   "source": [
    "#| hide\n",
    "import nbdev; nbdev.nbdev_export()"
   ]
  }
 ],
 "metadata": {
  "kernelspec": {
   "display_name": "python3",
   "language": "python",
   "name": "python3"
  }
 },
 "nbformat": 4,
 "nbformat_minor": 5
}
