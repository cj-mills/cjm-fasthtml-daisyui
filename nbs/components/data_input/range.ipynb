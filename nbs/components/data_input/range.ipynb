{
 "cells": [
  {
   "cell_type": "markdown",
   "id": "7c51b46b-ece1-456d-8e84-7de122e72b62",
   "metadata": {},
   "source": [
    "# range slider\n",
    "\n",
    "> Range slider is used to select a value by sliding a handle."
   ]
  },
  {
   "cell_type": "code",
   "execution_count": null,
   "id": "25536bdc-e099-477f-9e2d-a5f71df5dff2",
   "metadata": {},
   "outputs": [],
   "source": [
    "#| default_exp components.data_input.range_slider"
   ]
  },
  {
   "cell_type": "code",
   "execution_count": null,
   "id": "2e6f21ce-7766-455a-8ebb-df2c17e7d977",
   "metadata": {},
   "outputs": [],
   "source": [
    "#| hide\n",
    "from nbdev.showdoc import *"
   ]
  },
  {
   "cell_type": "code",
   "execution_count": null,
   "id": "045c6538-403e-4222-b3bb-db20f188524d",
   "metadata": {},
   "outputs": [],
   "source": [
    "#| export\n",
    "\n",
    "from cjm_fasthtml_tailwind.core.base import (\n",
    "    SingleValueFactory, combine_classes\n",
    ")\n",
    "from cjm_fasthtml_tailwind.builders.scales import SimpleFactory, enums_to_simple_factory\n",
    "\n",
    "from cjm_fasthtml_daisyui.builders.colors import SemanticColorBrand, SemanticColorStatus\n",
    "from cjm_fasthtml_daisyui.builders.sizes import DaisyUINamedSize\n",
    "\n",
    "from fasthtml.common import Div\n",
    "from fasthtml.jupyter import JupyUvi, HTMX\n",
    "from cjm_fasthtml_daisyui.core.testing import create_test_app, create_test_page, start_test_server\n",
    "from cjm_fasthtml_daisyui.core.themes import DaisyUITheme\n",
    "from IPython.display import display"
   ]
  },
  {
   "cell_type": "markdown",
   "id": "872a9deb-1207-448f-999e-7d017bbb56c0",
   "metadata": {},
   "source": [
    "### Base Range Slider"
   ]
  },
  {
   "cell_type": "code",
   "execution_count": null,
   "id": "c802d106-49fb-4d34-ba04-5f54c88e165b",
   "metadata": {},
   "outputs": [],
   "source": [
    "#| export\n",
    "range_dui = SingleValueFactory(\"range\", \"Base range slider component for <input type=\\\"range\\\"> tag\") # Base range component"
   ]
  },
  {
   "cell_type": "markdown",
   "id": "b3e03a90-9bd1-4bab-865d-d2796c938768",
   "metadata": {},
   "source": [
    "### Range Slider Colors"
   ]
  },
  {
   "cell_type": "code",
   "execution_count": null,
   "id": "636c6bcd-2176-4191-aa39-c937893243e2",
   "metadata": {},
   "outputs": [],
   "source": [
    "#| export\n",
    "range_colors = enums_to_simple_factory(range_dui, [SemanticColorBrand, SemanticColorStatus], \"range color variants using daisyUI semantic colors\") # range color variants"
   ]
  },
  {
   "cell_type": "markdown",
   "id": "580a990b-39af-4af0-bf84-1113b33c4b05",
   "metadata": {},
   "source": [
    "### Range Slider Sizes"
   ]
  },
  {
   "cell_type": "code",
   "execution_count": null,
   "id": "3035ff66-e4e7-410c-8b1e-86a879f66112",
   "metadata": {},
   "outputs": [],
   "source": [
    "#| export\n",
    "range_sizes = enums_to_simple_factory(range_dui, [DaisyUINamedSize], \"range size variants from extra small to extra large\") # range size variants"
   ]
  },
  {
   "cell_type": "markdown",
   "id": "88105bed-1c0d-4796-8559-625fb678cf5f",
   "metadata": {},
   "source": [
    "### Range Slider Test Examples"
   ]
  },
  {
   "cell_type": "code",
   "execution_count": null,
   "id": "85d72161-e718-4c66-bc59-a3569b7f7616",
   "metadata": {},
   "outputs": [],
   "source": [
    "#| export\n",
    "def test_range_basic_examples():\n",
    "    \"\"\"Test basic range utilities.\"\"\"\n",
    "    # Basic range\n",
    "    assert str(range_dui) == \"range\"\n",
    "    \n",
    "    # Test with modifiers\n",
    "    assert str(range_dui.hover) == \"hover:range\"\n",
    "    assert str(range_dui.md) == \"md:range\"\n",
    "    assert str(range_dui.dark) == \"dark:range\"\n",
    "\n",
    "# Run the tests\n",
    "test_range_basic_examples()"
   ]
  },
  {
   "cell_type": "code",
   "execution_count": null,
   "id": "214654cc-9758-48f9-92e2-0892029c4512",
   "metadata": {},
   "outputs": [],
   "source": [
    "#| export\n",
    "def test_range_colors_examples():\n",
    "    \"\"\"Test range color variants.\"\"\"\n",
    "    # All color variants\n",
    "    assert str(range_colors.neutral) == \"range-neutral\"\n",
    "    assert str(range_colors.primary) == \"range-primary\"\n",
    "    assert str(range_colors.secondary) == \"range-secondary\"\n",
    "    assert str(range_colors.accent) == \"range-accent\"\n",
    "    assert str(range_colors.info) == \"range-info\"\n",
    "    assert str(range_colors.success) == \"range-success\"\n",
    "    assert str(range_colors.warning) == \"range-warning\"\n",
    "    assert str(range_colors.error) == \"range-error\"\n",
    "    \n",
    "    # With modifiers\n",
    "    assert str(range_colors.primary.hover) == \"hover:range-primary\"\n",
    "    assert str(range_colors.success.focus) == \"focus:range-success\"\n",
    "\n",
    "# Run the tests\n",
    "test_range_colors_examples()"
   ]
  },
  {
   "cell_type": "code",
   "execution_count": null,
   "id": "a9d78aa3-0be8-49e6-8bfb-cb9a232ee1ee",
   "metadata": {},
   "outputs": [],
   "source": [
    "#| export\n",
    "def test_range_sizes_examples():\n",
    "    \"\"\"Test range size variants.\"\"\"\n",
    "    assert str(range_sizes.xs) == \"range-xs\"\n",
    "    assert str(range_sizes.sm) == \"range-sm\"\n",
    "    assert str(range_sizes.md) == \"range-md\"\n",
    "    assert str(range_sizes.lg) == \"range-lg\"\n",
    "    assert str(range_sizes.xl) == \"range-xl\"\n",
    "    \n",
    "    # With responsive modifiers\n",
    "    assert str(range_sizes.xs.sm) == \"sm:range-xs\"\n",
    "    assert str(range_sizes.lg.md) == \"md:range-lg\"\n",
    "\n",
    "# Run the tests\n",
    "test_range_sizes_examples()"
   ]
  },
  {
   "cell_type": "code",
   "execution_count": null,
   "id": "01785a18-9bb0-4dbc-9eae-04addf6dede9",
   "metadata": {},
   "outputs": [],
   "source": []
  },
  {
   "cell_type": "code",
   "execution_count": null,
   "id": "43a3d5aa-4f07-48f4-b7c3-5c63612f0fb2",
   "metadata": {},
   "outputs": [],
   "source": []
  },
  {
   "cell_type": "code",
   "execution_count": null,
   "id": "248adc40-6e77-4203-9830-de838e25a00a",
   "metadata": {},
   "outputs": [],
   "source": []
  },
  {
   "cell_type": "code",
   "execution_count": null,
   "id": "a2029d6d-bf22-4e16-87e1-d609762dc867",
   "metadata": {},
   "outputs": [],
   "source": []
  },
  {
   "cell_type": "code",
   "execution_count": null,
   "id": "c9dfaad9-504c-4853-886b-2d1adb1cc3a0",
   "metadata": {},
   "outputs": [],
   "source": []
  },
  {
   "cell_type": "code",
   "execution_count": null,
   "id": "454d5b84-fc57-44ab-a6f0-3123333998cb",
   "metadata": {},
   "outputs": [],
   "source": []
  },
  {
   "cell_type": "code",
   "execution_count": null,
   "id": "d471d21b-6fe5-4c63-90be-5176c4cbd08b",
   "metadata": {},
   "outputs": [],
   "source": []
  },
  {
   "cell_type": "code",
   "execution_count": null,
   "id": "73b88b7e-0be6-4a82-9c02-f3df8af20015",
   "metadata": {},
   "outputs": [],
   "source": []
  },
  {
   "cell_type": "code",
   "execution_count": null,
   "id": "7ab8257a-c30b-45b6-a784-729b67686791",
   "metadata": {},
   "outputs": [],
   "source": [
    "#| hide\n",
    "import nbdev; nbdev.nbdev_export()"
   ]
  }
 ],
 "metadata": {
  "kernelspec": {
   "display_name": "python3",
   "language": "python",
   "name": "python3"
  }
 },
 "nbformat": 4,
 "nbformat_minor": 5
}
