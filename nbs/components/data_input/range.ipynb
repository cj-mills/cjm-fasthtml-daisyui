{
 "cells": [
  {
   "cell_type": "markdown",
   "id": "7c51b46b-ece1-456d-8e84-7de122e72b62",
   "metadata": {},
   "source": [
    "# range slider\n",
    "\n",
    "> Range slider is used to select a value by sliding a handle."
   ]
  },
  {
   "cell_type": "code",
   "execution_count": null,
   "id": "25536bdc-e099-477f-9e2d-a5f71df5dff2",
   "metadata": {},
   "outputs": [],
   "source": [
    "#| default_exp components.data_input.range_slider"
   ]
  },
  {
   "cell_type": "code",
   "execution_count": null,
   "id": "2e6f21ce-7766-455a-8ebb-df2c17e7d977",
   "metadata": {},
   "outputs": [],
   "source": [
    "#| hide\n",
    "from nbdev.showdoc import *"
   ]
  },
  {
   "cell_type": "code",
   "execution_count": null,
   "id": "045c6538-403e-4222-b3bb-db20f188524d",
   "metadata": {},
   "outputs": [],
   "source": [
    "#| export\n",
    "\n",
    "from cjm_fasthtml_tailwind.core.base import (\n",
    "    SingleValueFactory, combine_classes\n",
    ")\n",
    "from cjm_fasthtml_tailwind.builders.scales import SimpleFactory, enums_to_simple_factory\n",
    "\n",
    "from cjm_fasthtml_daisyui.builders.colors import SemanticColorBrand, SemanticColorStatus\n",
    "from cjm_fasthtml_daisyui.builders.sizes import DaisyUINamedSize\n",
    "\n",
    "from fasthtml.common import Div\n",
    "from fasthtml.jupyter import JupyUvi, HTMX\n",
    "from cjm_fasthtml_daisyui.core.testing import create_test_app, create_test_page, start_test_server\n",
    "from cjm_fasthtml_daisyui.core.themes import DaisyUITheme\n",
    "from IPython.display import display"
   ]
  },
  {
   "cell_type": "markdown",
   "id": "872a9deb-1207-448f-999e-7d017bbb56c0",
   "metadata": {},
   "source": [
    "### Base Range Slider"
   ]
  },
  {
   "cell_type": "code",
   "execution_count": null,
   "id": "c802d106-49fb-4d34-ba04-5f54c88e165b",
   "metadata": {},
   "outputs": [],
   "source": [
    "#| exports\n",
    "range_dui = SingleValueFactory(\"range\", \"Base range slider component for <input type=\\\"range\\\"> tag\") # Base range component"
   ]
  },
  {
   "cell_type": "markdown",
   "id": "b3e03a90-9bd1-4bab-865d-d2796c938768",
   "metadata": {},
   "source": [
    "### Range Slider Colors"
   ]
  },
  {
   "cell_type": "code",
   "execution_count": null,
   "id": "636c6bcd-2176-4191-aa39-c937893243e2",
   "metadata": {},
   "outputs": [],
   "source": [
    "#| exports\n",
    "range_colors = enums_to_simple_factory(range_dui, [SemanticColorBrand, SemanticColorStatus], \"range color variants using daisyUI semantic colors\") # range color variants"
   ]
  },
  {
   "cell_type": "markdown",
   "id": "580a990b-39af-4af0-bf84-1113b33c4b05",
   "metadata": {},
   "source": [
    "### Range Slider Sizes"
   ]
  },
  {
   "cell_type": "code",
   "execution_count": null,
   "id": "3035ff66-e4e7-410c-8b1e-86a879f66112",
   "metadata": {},
   "outputs": [],
   "source": [
    "#| exports\n",
    "range_sizes = enums_to_simple_factory(range_dui, [DaisyUINamedSize], \"range size variants from extra small to extra large\") # range size variants"
   ]
  },
  {
   "cell_type": "markdown",
   "id": "88105bed-1c0d-4796-8559-625fb678cf5f",
   "metadata": {},
   "source": [
    "### Range Slider Test Examples"
   ]
  },
  {
   "cell_type": "code",
   "execution_count": null,
   "id": "85d72161-e718-4c66-bc59-a3569b7f7616",
   "metadata": {},
   "outputs": [],
   "source": [
    "#|exports\n",
    "def test_range_basic_examples():\n",
    "    \"\"\"Test basic range utilities.\"\"\"\n",
    "    # Basic range\n",
    "    assert str(range_dui) == \"range\"\n",
    "    \n",
    "    # Test with modifiers\n",
    "    assert str(range_dui.hover) == \"hover:range\"\n",
    "    assert str(range_dui.md) == \"md:range\"\n",
    "    assert str(range_dui.dark) == \"dark:range\"\n",
    "\n",
    "# Run the tests\n",
    "test_range_basic_examples()"
   ]
  },
  {
   "cell_type": "code",
   "execution_count": null,
   "id": "214654cc-9758-48f9-92e2-0892029c4512",
   "metadata": {},
   "outputs": [],
   "source": [
    "#|exports\n",
    "def test_range_colors_examples():\n",
    "    \"\"\"Test range color variants.\"\"\"\n",
    "    # All color variants\n",
    "    assert str(range_colors.neutral) == \"range-neutral\"\n",
    "    assert str(range_colors.primary) == \"range-primary\"\n",
    "    assert str(range_colors.secondary) == \"range-secondary\"\n",
    "    assert str(range_colors.accent) == \"range-accent\"\n",
    "    assert str(range_colors.info) == \"range-info\"\n",
    "    assert str(range_colors.success) == \"range-success\"\n",
    "    assert str(range_colors.warning) == \"range-warning\"\n",
    "    assert str(range_colors.error) == \"range-error\"\n",
    "    \n",
    "    # With modifiers\n",
    "    assert str(range_colors.primary.hover) == \"hover:range-primary\"\n",
    "    assert str(range_colors.success.focus) == \"focus:range-success\"\n",
    "\n",
    "# Run the tests\n",
    "test_range_colors_examples()"
   ]
  },
  {
   "cell_type": "code",
   "execution_count": null,
   "id": "a9d78aa3-0be8-49e6-8bfb-cb9a232ee1ee",
   "metadata": {},
   "outputs": [],
   "source": [
    "#|exports\n",
    "def test_range_sizes_examples():\n",
    "    \"\"\"Test range size variants.\"\"\"\n",
    "    assert str(range_sizes.xs) == \"range-xs\"\n",
    "    assert str(range_sizes.sm) == \"range-sm\"\n",
    "    assert str(range_sizes.md) == \"range-md\"\n",
    "    assert str(range_sizes.lg) == \"range-lg\"\n",
    "    assert str(range_sizes.xl) == \"range-xl\"\n",
    "    \n",
    "    # With responsive modifiers\n",
    "    assert str(range_sizes.xs.sm) == \"sm:range-xs\"\n",
    "    assert str(range_sizes.lg.md) == \"md:range-lg\"\n",
    "\n",
    "# Run the tests\n",
    "test_range_sizes_examples()"
   ]
  },
  {
   "cell_type": "code",
   "execution_count": null,
   "id": "92d687ee-ff00-4019-8eaa-1a9a54c765e1",
   "metadata": {},
   "outputs": [
    {
     "data": {
      "text/markdown": [
       "```html\n",
       "<input type=\"range\" min=\"0\" max=\"100\" value=\"40\" class=\"range\">\n",
       "\n",
       "```"
      ],
      "text/plain": [
       "input((),{'type': 'range', 'min': '0', 'max': '100', 'value': '40', 'class': 'range'})"
      ]
     },
     "execution_count": null,
     "metadata": {},
     "output_type": "execute_result"
    }
   ],
   "source": [
    "#|exports\n",
    "def test_range_basic_fasthtml_examples():\n",
    "    \"\"\"Test basic range slider from daisyUI v5 documentation.\"\"\"\n",
    "    from fasthtml.common import Input, Div\n",
    "    \n",
    "    # Basic range slider\n",
    "    basic_range = Input(\n",
    "        type=\"range\",\n",
    "        min=\"0\",\n",
    "        max=\"100\",\n",
    "        value=\"40\",\n",
    "        cls=str(range_dui)\n",
    "    )\n",
    "    \n",
    "    # Verify attributes\n",
    "    assert basic_range.tag == \"input\"\n",
    "    assert basic_range.attrs['type'] == \"range\"\n",
    "    assert basic_range.attrs['min'] == \"0\"\n",
    "    assert basic_range.attrs['max'] == \"100\"\n",
    "    assert basic_range.attrs['value'] == \"40\"\n",
    "    assert basic_range.attrs['class'] == \"range\"\n",
    "    \n",
    "    return basic_range\n",
    "\n",
    "# Run the tests\n",
    "test_range_basic_fasthtml_examples()"
   ]
  },
  {
   "cell_type": "code",
   "execution_count": null,
   "id": "c367fe67-71fd-4f53-9dd6-918541c8ef53",
   "metadata": {},
   "outputs": [],
   "source": []
  },
  {
   "cell_type": "code",
   "execution_count": null,
   "id": "blvwnha3p0r",
   "metadata": {},
   "outputs": [
    {
     "data": {
      "text/html": [
       "\n",
       "<script>\n",
       "document.body.addEventListener('htmx:configRequest', (event) => {\n",
       "    if(event.detail.path.includes('://')) return;\n",
       "    htmx.config.selfRequestsOnly=false;\n",
       "    event.detail.path = `${location.protocol}//${location.hostname}:8000${event.detail.path}`;\n",
       "});\n",
       "</script>"
      ],
      "text/plain": [
       "<IPython.core.display.HTML object>"
      ]
     },
     "metadata": {},
     "output_type": "display_data"
    },
    {
     "data": {
      "text/html": [
       "<iframe src=\"http://localhost:8000/\" style=\"width: 100%; height: auto; border: none;\" onload=\"{\n",
       "        let frame = this;\n",
       "        window.addEventListener('message', function(e) {\n",
       "            if (e.source !== frame.contentWindow) return; // Only proceed if the message is from this iframe\n",
       "            if (e.data.height) frame.style.height = (e.data.height+1) + 'px';\n",
       "        }, false);\n",
       "    }\" allow=\"accelerometer; autoplay; camera; clipboard-read; clipboard-write; display-capture; encrypted-media; fullscreen; gamepad; geolocation; gyroscope; hid; identity-credentials-get; idle-detection; magnetometer; microphone; midi; payment; picture-in-picture; publickey-credentials-get; screen-wake-lock; serial; usb; web-share; xr-spatial-tracking\"></iframe> "
      ],
      "text/plain": [
       "<IPython.core.display.HTML object>"
      ]
     },
     "metadata": {},
     "output_type": "display_data"
    }
   ],
   "source": [
    "#| eval: false\n",
    "#| output: false\n",
    "test_func = test_range_basic_fasthtml_examples\n",
    "app, rt = create_test_app(theme=DaisyUITheme.LIGHT)\n",
    "\n",
    "@rt\n",
    "def index():\n",
    "    return create_test_page(test_func.__doc__.title().replace('.', ''), test_func())\n",
    "server = start_test_server(app)\n",
    "display(HTMX())\n",
    "server.stop()"
   ]
  },
  {
   "cell_type": "code",
   "execution_count": null,
   "id": "78cf24c2-d650-4900-9d25-c70483939b8e",
   "metadata": {},
   "outputs": [
    {
     "data": {
      "text/markdown": [
       "```html\n",
       "<div class=\"w-full max-w-xs\">\n",
       "  <input type=\"range\" min=\"0\" max=\"100\" value=\"25\" step=\"25\" class=\"range\">\n",
       "  <div class=\"justify-between flex px-2.5 mt-2 text-xs\">\n",
       "<span>|</span><span>|</span><span>|</span><span>|</span><span>|</span>  </div>\n",
       "  <div class=\"justify-between flex px-2.5 mt-2 text-xs\">\n",
       "<span>1</span><span>2</span><span>3</span><span>4</span><span>5</span>  </div>\n",
       "</div>\n",
       "\n",
       "```"
      ],
      "text/plain": [
       "div((input((),{'type': 'range', 'min': '0', 'max': '100', 'value': '25', 'step': '25', 'class': 'range'}), div((span(('|',),{}), span(('|',),{}), span(('|',),{}), span(('|',),{}), span(('|',),{})),{'class': 'justify-between flex px-2.5 mt-2 text-xs'}), div((span(('1',),{}), span(('2',),{}), span(('3',),{}), span(('4',),{}), span(('5',),{})),{'class': 'justify-between flex px-2.5 mt-2 text-xs'})),{'class': 'w-full max-w-xs'})"
      ]
     },
     "execution_count": null,
     "metadata": {},
     "output_type": "execute_result"
    }
   ],
   "source": [
    "#|exports\n",
    "def test_range_with_steps_fasthtml_examples():\n",
    "    \"\"\"Test range with steps and measure from daisyUI v5 documentation.\"\"\"\n",
    "    from fasthtml.common import Input, Div, Span\n",
    "    from cjm_fasthtml_tailwind.utilities.sizing import w, max_w\n",
    "    from cjm_fasthtml_tailwind.utilities.flexbox_and_grid import justify, flex_display\n",
    "    from cjm_fasthtml_tailwind.utilities.spacing import p, m\n",
    "    from cjm_fasthtml_tailwind.utilities.typography import font_size, font_weight, font_family, text_color\n",
    "    from cjm_fasthtml_tailwind.utilities.layout import display_tw\n",
    "    \n",
    "    # Range with steps and measure\n",
    "    range_with_steps = Div(\n",
    "        Input(\n",
    "            type=\"range\",\n",
    "            min=\"0\",\n",
    "            max=\"100\",\n",
    "            value=\"25\",\n",
    "            step=\"25\",\n",
    "            cls=str(range_dui)\n",
    "        ),\n",
    "        Div(\n",
    "            Span(\"|\"),\n",
    "            Span(\"|\"),\n",
    "            Span(\"|\"),\n",
    "            Span(\"|\"),\n",
    "            Span(\"|\"),\n",
    "            cls=combine_classes(justify.between, flex_display, p.x(2.5), m.t._2, font_size.xs)\n",
    "        ),\n",
    "        Div(\n",
    "            Span(\"1\"),\n",
    "            Span(\"2\"),\n",
    "            Span(\"3\"),\n",
    "            Span(\"4\"),\n",
    "            Span(\"5\"),\n",
    "            cls=combine_classes(justify.between, flex_display, p.x(2.5), m.t._2, font_size.xs)\n",
    "        ),\n",
    "        cls=combine_classes(w.full, max_w.xs)\n",
    "    )\n",
    "    \n",
    "    # Verify container structure\n",
    "    assert range_with_steps.tag == \"div\"\n",
    "    assert \"w-full\" in range_with_steps.attrs['class']\n",
    "    assert \"max-w-xs\" in range_with_steps.attrs['class']\n",
    "    \n",
    "    # Verify range input\n",
    "    range_input = range_with_steps.children[0]\n",
    "    assert range_input.tag == \"input\"\n",
    "    assert range_input.attrs['type'] == \"range\"\n",
    "    assert range_input.attrs['min'] == \"0\"\n",
    "    assert range_input.attrs['max'] == \"100\"\n",
    "    assert range_input.attrs['value'] == \"25\"\n",
    "    assert range_input.attrs['step'] == \"25\"\n",
    "    assert range_input.attrs['class'] == \"range\"\n",
    "    \n",
    "    # Verify tick marks div\n",
    "    tick_marks = range_with_steps.children[1]\n",
    "    assert tick_marks.tag == \"div\"\n",
    "    assert \"flex\" in tick_marks.attrs['class']\n",
    "    assert \"justify-between\" in tick_marks.attrs['class']\n",
    "    assert \"px-2.5\" in tick_marks.attrs['class']\n",
    "    assert \"mt-2\" in tick_marks.attrs['class']\n",
    "    assert \"text-xs\" in tick_marks.attrs['class']\n",
    "    assert len(tick_marks.children) == 5\n",
    "    for i in range(5):\n",
    "        assert tick_marks.children[i].tag == \"span\"\n",
    "        assert tick_marks.children[i].children[0] == \"|\"\n",
    "    \n",
    "    # Verify labels div\n",
    "    labels = range_with_steps.children[2]\n",
    "    assert labels.tag == \"div\"\n",
    "    assert \"flex\" in labels.attrs['class']\n",
    "    assert \"justify-between\" in labels.attrs['class']\n",
    "    assert \"px-2.5\" in labels.attrs['class']\n",
    "    assert \"mt-2\" in labels.attrs['class']\n",
    "    assert \"text-xs\" in labels.attrs['class']\n",
    "    assert len(labels.children) == 5\n",
    "    for i in range(5):\n",
    "        assert labels.children[i].tag == \"span\"\n",
    "        assert labels.children[i].children[0] == str(i + 1)\n",
    "    \n",
    "    return range_with_steps\n",
    "\n",
    "# Run the tests\n",
    "test_range_with_steps_fasthtml_examples()"
   ]
  },
  {
   "cell_type": "code",
   "execution_count": null,
   "id": "24e97ec6-fd10-4b2e-bef6-323abb202be0",
   "metadata": {},
   "outputs": [],
   "source": []
  },
  {
   "cell_type": "code",
   "execution_count": null,
   "id": "1707g99p9o3",
   "metadata": {},
   "outputs": [
    {
     "data": {
      "text/html": [
       "\n",
       "<script>\n",
       "document.body.addEventListener('htmx:configRequest', (event) => {\n",
       "    if(event.detail.path.includes('://')) return;\n",
       "    htmx.config.selfRequestsOnly=false;\n",
       "    event.detail.path = `${location.protocol}//${location.hostname}:8000${event.detail.path}`;\n",
       "});\n",
       "</script>"
      ],
      "text/plain": [
       "<IPython.core.display.HTML object>"
      ]
     },
     "metadata": {},
     "output_type": "display_data"
    },
    {
     "data": {
      "text/html": [
       "<iframe src=\"http://localhost:8000/\" style=\"width: 100%; height: auto; border: none;\" onload=\"{\n",
       "        let frame = this;\n",
       "        window.addEventListener('message', function(e) {\n",
       "            if (e.source !== frame.contentWindow) return; // Only proceed if the message is from this iframe\n",
       "            if (e.data.height) frame.style.height = (e.data.height+1) + 'px';\n",
       "        }, false);\n",
       "    }\" allow=\"accelerometer; autoplay; camera; clipboard-read; clipboard-write; display-capture; encrypted-media; fullscreen; gamepad; geolocation; gyroscope; hid; identity-credentials-get; idle-detection; magnetometer; microphone; midi; payment; picture-in-picture; publickey-credentials-get; screen-wake-lock; serial; usb; web-share; xr-spatial-tracking\"></iframe> "
      ],
      "text/plain": [
       "<IPython.core.display.HTML object>"
      ]
     },
     "metadata": {},
     "output_type": "display_data"
    }
   ],
   "source": [
    "#| eval: false\n",
    "#| output: false\n",
    "test_func = test_range_with_steps_fasthtml_examples\n",
    "app, rt = create_test_app(theme=DaisyUITheme.LIGHT)\n",
    "\n",
    "@rt\n",
    "def index():\n",
    "    return create_test_page(test_func.__doc__.title().replace('.', ''), test_func())\n",
    "server = start_test_server(app)\n",
    "display(HTMX())\n",
    "server.stop()"
   ]
  },
  {
   "cell_type": "code",
   "execution_count": null,
   "id": "398cafcc-18c2-4e87-9b47-609d84a1e000",
   "metadata": {},
   "outputs": [
    {
     "data": {
      "text/markdown": [
       "```html\n",
       "<div>\n",
       "  <input type=\"range\" min=\"0\" max=\"100\" value=\"40\" class=\"range range-neutral\">\n",
       "  <input type=\"range\" min=\"0\" max=\"100\" value=\"40\" class=\"range range-primary\">\n",
       "  <input type=\"range\" min=\"0\" max=\"100\" value=\"40\" class=\"range range-secondary\">\n",
       "  <input type=\"range\" min=\"0\" max=\"100\" value=\"40\" class=\"range range-accent\">\n",
       "  <input type=\"range\" min=\"0\" max=\"100\" value=\"40\" class=\"range range-success\">\n",
       "  <input type=\"range\" min=\"0\" max=\"100\" value=\"40\" class=\"range range-warning\">\n",
       "  <input type=\"range\" min=\"0\" max=\"100\" value=\"40\" class=\"range range-info\">\n",
       "  <input type=\"range\" min=\"0\" max=\"100\" value=\"40\" class=\"range range-error\">\n",
       "</div>\n",
       "\n",
       "```"
      ],
      "text/plain": [
       "div((input((),{'type': 'range', 'min': '0', 'max': '100', 'value': '40', 'class': 'range range-neutral'}), input((),{'type': 'range', 'min': '0', 'max': '100', 'value': '40', 'class': 'range range-primary'}), input((),{'type': 'range', 'min': '0', 'max': '100', 'value': '40', 'class': 'range range-secondary'}), input((),{'type': 'range', 'min': '0', 'max': '100', 'value': '40', 'class': 'range range-accent'}), input((),{'type': 'range', 'min': '0', 'max': '100', 'value': '40', 'class': 'range range-success'}), input((),{'type': 'range', 'min': '0', 'max': '100', 'value': '40', 'class': 'range range-warning'}), input((),{'type': 'range', 'min': '0', 'max': '100', 'value': '40', 'class': 'range range-info'}), input((),{'type': 'range', 'min': '0', 'max': '100', 'value': '40', 'class': 'range range-error'})),{})"
      ]
     },
     "execution_count": null,
     "metadata": {},
     "output_type": "execute_result"
    }
   ],
   "source": [
    "#|exports\n",
    "def test_range_colors_fasthtml_examples():\n",
    "    \"\"\"Test range color variations from daisyUI v5 documentation.\"\"\"\n",
    "    from fasthtml.common import Input, Div\n",
    "    \n",
    "    # Neutral color\n",
    "    neutral_range = Input(\n",
    "        type=\"range\",\n",
    "        min=\"0\",\n",
    "        max=\"100\",\n",
    "        value=\"40\",\n",
    "        cls=combine_classes(range_dui, range_colors.neutral)\n",
    "    )\n",
    "    assert neutral_range.attrs['type'] == \"range\"\n",
    "    assert \"range\" in neutral_range.attrs['class']\n",
    "    assert \"range-neutral\" in neutral_range.attrs['class']\n",
    "    \n",
    "    # Primary color\n",
    "    primary_range = Input(\n",
    "        type=\"range\",\n",
    "        min=\"0\",\n",
    "        max=\"100\",\n",
    "        value=\"40\",\n",
    "        cls=combine_classes(range_dui, range_colors.primary)\n",
    "    )\n",
    "    assert \"range\" in primary_range.attrs['class']\n",
    "    assert \"range-primary\" in primary_range.attrs['class']\n",
    "    \n",
    "    # Secondary color\n",
    "    secondary_range = Input(\n",
    "        type=\"range\",\n",
    "        min=\"0\",\n",
    "        max=\"100\",\n",
    "        value=\"40\",\n",
    "        cls=combine_classes(range_dui, range_colors.secondary)\n",
    "    )\n",
    "    assert \"range\" in secondary_range.attrs['class']\n",
    "    assert \"range-secondary\" in secondary_range.attrs['class']\n",
    "    \n",
    "    # Accent color\n",
    "    accent_range = Input(\n",
    "        type=\"range\",\n",
    "        min=\"0\",\n",
    "        max=\"100\",\n",
    "        value=\"40\",\n",
    "        cls=combine_classes(range_dui, range_colors.accent)\n",
    "    )\n",
    "    assert \"range\" in accent_range.attrs['class']\n",
    "    assert \"range-accent\" in accent_range.attrs['class']\n",
    "    \n",
    "    # Success color\n",
    "    success_range = Input(\n",
    "        type=\"range\",\n",
    "        min=\"0\",\n",
    "        max=\"100\",\n",
    "        value=\"40\",\n",
    "        cls=combine_classes(range_dui, range_colors.success)\n",
    "    )\n",
    "    assert \"range\" in success_range.attrs['class']\n",
    "    assert \"range-success\" in success_range.attrs['class']\n",
    "    \n",
    "    # Warning color\n",
    "    warning_range = Input(\n",
    "        type=\"range\",\n",
    "        min=\"0\",\n",
    "        max=\"100\",\n",
    "        value=\"40\",\n",
    "        cls=combine_classes(range_dui, range_colors.warning)\n",
    "    )\n",
    "    assert \"range\" in warning_range.attrs['class']\n",
    "    assert \"range-warning\" in warning_range.attrs['class']\n",
    "    \n",
    "    # Info color\n",
    "    info_range = Input(\n",
    "        type=\"range\",\n",
    "        min=\"0\",\n",
    "        max=\"100\",\n",
    "        value=\"40\",\n",
    "        cls=combine_classes(range_dui, range_colors.info)\n",
    "    )\n",
    "    assert \"range\" in info_range.attrs['class']\n",
    "    assert \"range-info\" in info_range.attrs['class']\n",
    "    \n",
    "    # Error color\n",
    "    error_range = Input(\n",
    "        type=\"range\",\n",
    "        min=\"0\",\n",
    "        max=\"100\",\n",
    "        value=\"40\",\n",
    "        cls=combine_classes(range_dui, range_colors.error)\n",
    "    )\n",
    "    assert \"range\" in error_range.attrs['class']\n",
    "    assert \"range-error\" in error_range.attrs['class']\n",
    "    \n",
    "    # Return all color variations in a Div\n",
    "    return Div(\n",
    "        neutral_range,\n",
    "        primary_range,\n",
    "        secondary_range,\n",
    "        accent_range,\n",
    "        success_range,\n",
    "        warning_range,\n",
    "        info_range,\n",
    "        error_range\n",
    "    )\n",
    "\n",
    "# Run the tests\n",
    "test_range_colors_fasthtml_examples()"
   ]
  },
  {
   "cell_type": "code",
   "execution_count": null,
   "id": "fffb168f-560a-4ca7-8f47-b1ca3668976f",
   "metadata": {},
   "outputs": [],
   "source": []
  },
  {
   "cell_type": "code",
   "execution_count": null,
   "id": "ypbk7lbpjsh",
   "metadata": {},
   "outputs": [
    {
     "data": {
      "text/html": [
       "\n",
       "<script>\n",
       "document.body.addEventListener('htmx:configRequest', (event) => {\n",
       "    if(event.detail.path.includes('://')) return;\n",
       "    htmx.config.selfRequestsOnly=false;\n",
       "    event.detail.path = `${location.protocol}//${location.hostname}:8000${event.detail.path}`;\n",
       "});\n",
       "</script>"
      ],
      "text/plain": [
       "<IPython.core.display.HTML object>"
      ]
     },
     "metadata": {},
     "output_type": "display_data"
    },
    {
     "data": {
      "text/html": [
       "<iframe src=\"http://localhost:8000/\" style=\"width: 100%; height: auto; border: none;\" onload=\"{\n",
       "        let frame = this;\n",
       "        window.addEventListener('message', function(e) {\n",
       "            if (e.source !== frame.contentWindow) return; // Only proceed if the message is from this iframe\n",
       "            if (e.data.height) frame.style.height = (e.data.height+1) + 'px';\n",
       "        }, false);\n",
       "    }\" allow=\"accelerometer; autoplay; camera; clipboard-read; clipboard-write; display-capture; encrypted-media; fullscreen; gamepad; geolocation; gyroscope; hid; identity-credentials-get; idle-detection; magnetometer; microphone; midi; payment; picture-in-picture; publickey-credentials-get; screen-wake-lock; serial; usb; web-share; xr-spatial-tracking\"></iframe> "
      ],
      "text/plain": [
       "<IPython.core.display.HTML object>"
      ]
     },
     "metadata": {},
     "output_type": "display_data"
    }
   ],
   "source": [
    "#| eval: false\n",
    "#| output: false\n",
    "test_func = test_range_colors_fasthtml_examples\n",
    "app, rt = create_test_app(theme=DaisyUITheme.LIGHT)\n",
    "\n",
    "@rt\n",
    "def index():\n",
    "    return create_test_page(test_func.__doc__.title().replace('.', ''), test_func())\n",
    "server = start_test_server(app)\n",
    "display(HTMX())\n",
    "server.stop()"
   ]
  },
  {
   "cell_type": "code",
   "execution_count": null,
   "id": "7176c508-79d5-4842-a216-ea6bbc6774e5",
   "metadata": {},
   "outputs": [
    {
     "data": {
      "text/markdown": [
       "```html\n",
       "<div>\n",
       "  <input type=\"range\" min=\"0\" max=\"100\" value=\"30\" class=\"range range-xs\">\n",
       "  <input type=\"range\" min=\"0\" max=\"100\" value=\"40\" class=\"range range-sm\">\n",
       "  <input type=\"range\" min=\"0\" max=\"100\" value=\"50\" class=\"range range-md\">\n",
       "  <input type=\"range\" min=\"0\" max=\"100\" value=\"60\" class=\"range range-lg\">\n",
       "  <input type=\"range\" min=\"0\" max=\"100\" value=\"70\" class=\"range range-xl\">\n",
       "</div>\n",
       "\n",
       "```"
      ],
      "text/plain": [
       "div((input((),{'type': 'range', 'min': '0', 'max': '100', 'value': '30', 'class': 'range range-xs'}), input((),{'type': 'range', 'min': '0', 'max': '100', 'value': '40', 'class': 'range range-sm'}), input((),{'type': 'range', 'min': '0', 'max': '100', 'value': '50', 'class': 'range range-md'}), input((),{'type': 'range', 'min': '0', 'max': '100', 'value': '60', 'class': 'range range-lg'}), input((),{'type': 'range', 'min': '0', 'max': '100', 'value': '70', 'class': 'range range-xl'})),{})"
      ]
     },
     "execution_count": null,
     "metadata": {},
     "output_type": "execute_result"
    }
   ],
   "source": [
    "#|exports\n",
    "def test_range_sizes_fasthtml_examples():\n",
    "    \"\"\"Test range size variations from daisyUI v5 documentation.\"\"\"\n",
    "    from fasthtml.common import Input, Div\n",
    "    \n",
    "    # Extra small size\n",
    "    xs_range = Input(\n",
    "        type=\"range\",\n",
    "        min=\"0\",\n",
    "        max=\"100\",\n",
    "        value=\"30\",\n",
    "        cls=combine_classes(range_dui, range_sizes.xs)\n",
    "    )\n",
    "    assert xs_range.attrs['type'] == \"range\"\n",
    "    assert xs_range.attrs['value'] == \"30\"\n",
    "    assert \"range\" in xs_range.attrs['class']\n",
    "    assert \"range-xs\" in xs_range.attrs['class']\n",
    "    \n",
    "    # Small size\n",
    "    sm_range = Input(\n",
    "        type=\"range\",\n",
    "        min=\"0\",\n",
    "        max=\"100\",\n",
    "        value=\"40\",\n",
    "        cls=combine_classes(range_dui, range_sizes.sm)\n",
    "    )\n",
    "    assert sm_range.attrs['value'] == \"40\"\n",
    "    assert \"range\" in sm_range.attrs['class']\n",
    "    assert \"range-sm\" in sm_range.attrs['class']\n",
    "    \n",
    "    # Medium size (default)\n",
    "    md_range = Input(\n",
    "        type=\"range\",\n",
    "        min=\"0\",\n",
    "        max=\"100\",\n",
    "        value=\"50\",\n",
    "        cls=combine_classes(range_dui, range_sizes.md)\n",
    "    )\n",
    "    assert md_range.attrs['value'] == \"50\"\n",
    "    assert \"range\" in md_range.attrs['class']\n",
    "    assert \"range-md\" in md_range.attrs['class']\n",
    "    \n",
    "    # Large size\n",
    "    lg_range = Input(\n",
    "        type=\"range\",\n",
    "        min=\"0\",\n",
    "        max=\"100\",\n",
    "        value=\"60\",\n",
    "        cls=combine_classes(range_dui, range_sizes.lg)\n",
    "    )\n",
    "    assert lg_range.attrs['value'] == \"60\"\n",
    "    assert \"range\" in lg_range.attrs['class']\n",
    "    assert \"range-lg\" in lg_range.attrs['class']\n",
    "    \n",
    "    # Extra large size\n",
    "    xl_range = Input(\n",
    "        type=\"range\",\n",
    "        min=\"0\",\n",
    "        max=\"100\",\n",
    "        value=\"70\",\n",
    "        cls=combine_classes(range_dui, range_sizes.xl)\n",
    "    )\n",
    "    assert xl_range.attrs['value'] == \"70\"\n",
    "    assert \"range\" in xl_range.attrs['class']\n",
    "    assert \"range-xl\" in xl_range.attrs['class']\n",
    "    \n",
    "    # Return all size variations in a Div\n",
    "    return Div(\n",
    "        xs_range,\n",
    "        sm_range,\n",
    "        md_range,\n",
    "        lg_range,\n",
    "        xl_range\n",
    "    )\n",
    "\n",
    "# Run the tests\n",
    "test_range_sizes_fasthtml_examples()"
   ]
  },
  {
   "cell_type": "code",
   "execution_count": null,
   "id": "6c36c15c-3243-4dce-a1e8-8a57f0937deb",
   "metadata": {},
   "outputs": [],
   "source": []
  },
  {
   "cell_type": "code",
   "execution_count": null,
   "id": "rfhionvz088",
   "metadata": {},
   "outputs": [
    {
     "data": {
      "text/html": [
       "\n",
       "<script>\n",
       "document.body.addEventListener('htmx:configRequest', (event) => {\n",
       "    if(event.detail.path.includes('://')) return;\n",
       "    htmx.config.selfRequestsOnly=false;\n",
       "    event.detail.path = `${location.protocol}//${location.hostname}:8000${event.detail.path}`;\n",
       "});\n",
       "</script>"
      ],
      "text/plain": [
       "<IPython.core.display.HTML object>"
      ]
     },
     "metadata": {},
     "output_type": "display_data"
    },
    {
     "data": {
      "text/html": [
       "<iframe src=\"http://localhost:8000/\" style=\"width: 100%; height: auto; border: none;\" onload=\"{\n",
       "        let frame = this;\n",
       "        window.addEventListener('message', function(e) {\n",
       "            if (e.source !== frame.contentWindow) return; // Only proceed if the message is from this iframe\n",
       "            if (e.data.height) frame.style.height = (e.data.height+1) + 'px';\n",
       "        }, false);\n",
       "    }\" allow=\"accelerometer; autoplay; camera; clipboard-read; clipboard-write; display-capture; encrypted-media; fullscreen; gamepad; geolocation; gyroscope; hid; identity-credentials-get; idle-detection; magnetometer; microphone; midi; payment; picture-in-picture; publickey-credentials-get; screen-wake-lock; serial; usb; web-share; xr-spatial-tracking\"></iframe> "
      ],
      "text/plain": [
       "<IPython.core.display.HTML object>"
      ]
     },
     "metadata": {},
     "output_type": "display_data"
    }
   ],
   "source": [
    "#| eval: false\n",
    "#| output: false\n",
    "test_func = test_range_sizes_fasthtml_examples\n",
    "app, rt = create_test_app(theme=DaisyUITheme.LIGHT)\n",
    "\n",
    "@rt\n",
    "def index():\n",
    "    return create_test_page(test_func.__doc__.title().replace('.', ''), test_func())\n",
    "server = start_test_server(app)\n",
    "display(HTMX())\n",
    "server.stop()"
   ]
  },
  {
   "cell_type": "code",
   "execution_count": null,
   "id": "c4e74dbb-54ec-4497-9db3-e9160628e1ca",
   "metadata": {},
   "outputs": [
    {
     "data": {
      "text/markdown": [
       "```html\n",
       "<input type=\"range\" min=\"0\" max=\"100\" value=\"40\" class=\"range text-blue-300 [--range-bg:orange] [--range-thumb:blue] [--range-fill:0]\">\n",
       "\n",
       "```"
      ],
      "text/plain": [
       "input((),{'type': 'range', 'min': '0', 'max': '100', 'value': '40', 'class': 'range text-blue-300 [--range-bg:orange] [--range-thumb:blue] [--range-fill:0]'})"
      ]
     },
     "execution_count": null,
     "metadata": {},
     "output_type": "execute_result"
    }
   ],
   "source": [
    "#|exports\n",
    "def test_range_custom_fasthtml_examples():\n",
    "    \"\"\"Test range with custom color and no fill from daisyUI v5 documentation.\"\"\"\n",
    "    from fasthtml.common import Input, Div\n",
    "    from cjm_fasthtml_tailwind.utilities.typography import font_size, font_weight, font_family, text_color\n",
    "    \n",
    "    # Range with custom color and no fill using CSS variables\n",
    "    custom_range = Input(\n",
    "        type=\"range\",\n",
    "        min=\"0\",\n",
    "        max=\"100\",\n",
    "        value=\"40\",\n",
    "        cls=combine_classes(\n",
    "            range_dui,\n",
    "            text_color.blue_300,\n",
    "            \"[--range-bg:orange]\",\n",
    "            \"[--range-thumb:blue]\",\n",
    "            \"[--range-fill:0]\"\n",
    "        )\n",
    "    )\n",
    "    \n",
    "    # Verify attributes\n",
    "    assert custom_range.tag == \"input\"\n",
    "    assert custom_range.attrs['type'] == \"range\"\n",
    "    assert custom_range.attrs['min'] == \"0\"\n",
    "    assert custom_range.attrs['max'] == \"100\"\n",
    "    assert custom_range.attrs['value'] == \"40\"\n",
    "    assert \"range\" in custom_range.attrs['class']\n",
    "    assert \"text-blue-300\" in custom_range.attrs['class']\n",
    "    assert \"[--range-bg:orange]\" in custom_range.attrs['class']\n",
    "    assert \"[--range-thumb:blue]\" in custom_range.attrs['class']\n",
    "    assert \"[--range-fill:0]\" in custom_range.attrs['class']\n",
    "    \n",
    "    return custom_range\n",
    "\n",
    "# Run the tests\n",
    "test_range_custom_fasthtml_examples()"
   ]
  },
  {
   "cell_type": "code",
   "execution_count": null,
   "id": "tot3enz79a",
   "metadata": {},
   "outputs": [
    {
     "data": {
      "text/html": [
       "\n",
       "<script>\n",
       "document.body.addEventListener('htmx:configRequest', (event) => {\n",
       "    if(event.detail.path.includes('://')) return;\n",
       "    htmx.config.selfRequestsOnly=false;\n",
       "    event.detail.path = `${location.protocol}//${location.hostname}:8000${event.detail.path}`;\n",
       "});\n",
       "</script>"
      ],
      "text/plain": [
       "<IPython.core.display.HTML object>"
      ]
     },
     "metadata": {},
     "output_type": "display_data"
    },
    {
     "data": {
      "text/html": [
       "<iframe src=\"http://localhost:8000/\" style=\"width: 100%; height: auto; border: none;\" onload=\"{\n",
       "        let frame = this;\n",
       "        window.addEventListener('message', function(e) {\n",
       "            if (e.source !== frame.contentWindow) return; // Only proceed if the message is from this iframe\n",
       "            if (e.data.height) frame.style.height = (e.data.height+1) + 'px';\n",
       "        }, false);\n",
       "    }\" allow=\"accelerometer; autoplay; camera; clipboard-read; clipboard-write; display-capture; encrypted-media; fullscreen; gamepad; geolocation; gyroscope; hid; identity-credentials-get; idle-detection; magnetometer; microphone; midi; payment; picture-in-picture; publickey-credentials-get; screen-wake-lock; serial; usb; web-share; xr-spatial-tracking\"></iframe> "
      ],
      "text/plain": [
       "<IPython.core.display.HTML object>"
      ]
     },
     "metadata": {},
     "output_type": "display_data"
    }
   ],
   "source": [
    "#| eval: false\n",
    "#| output: false\n",
    "test_func = test_range_custom_fasthtml_examples\n",
    "app, rt = create_test_app(theme=DaisyUITheme.LIGHT)\n",
    "\n",
    "@rt\n",
    "def index():\n",
    "    return create_test_page(test_func.__doc__.title().replace('.', ''), test_func())\n",
    "server = start_test_server(app)\n",
    "display(HTMX())\n",
    "server.stop()"
   ]
  },
  {
   "cell_type": "code",
   "execution_count": null,
   "id": "248adc40-6e77-4203-9830-de838e25a00a",
   "metadata": {},
   "outputs": [],
   "source": []
  },
  {
   "cell_type": "code",
   "execution_count": null,
   "id": "a2029d6d-bf22-4e16-87e1-d609762dc867",
   "metadata": {},
   "outputs": [],
   "source": []
  },
  {
   "cell_type": "code",
   "execution_count": null,
   "id": "c9dfaad9-504c-4853-886b-2d1adb1cc3a0",
   "metadata": {},
   "outputs": [],
   "source": []
  },
  {
   "cell_type": "code",
   "execution_count": null,
   "id": "454d5b84-fc57-44ab-a6f0-3123333998cb",
   "metadata": {},
   "outputs": [],
   "source": []
  },
  {
   "cell_type": "code",
   "execution_count": null,
   "id": "d471d21b-6fe5-4c63-90be-5176c4cbd08b",
   "metadata": {},
   "outputs": [],
   "source": []
  },
  {
   "cell_type": "code",
   "execution_count": null,
   "id": "73b88b7e-0be6-4a82-9c02-f3df8af20015",
   "metadata": {},
   "outputs": [],
   "source": []
  },
  {
   "cell_type": "code",
   "execution_count": null,
   "id": "7ab8257a-c30b-45b6-a784-729b67686791",
   "metadata": {},
   "outputs": [],
   "source": [
    "#| hide\n",
    "import nbdev; nbdev.nbdev_export()"
   ]
  }
 ],
 "metadata": {
  "kernelspec": {
   "display_name": "python3",
   "language": "python",
   "name": "python3"
  }
 },
 "nbformat": 4,
 "nbformat_minor": 5
}
