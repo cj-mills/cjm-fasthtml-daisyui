{
 "cells": [
  {
   "cell_type": "markdown",
   "id": "7c51b46b-ece1-456d-8e84-7de122e72b62",
   "metadata": {},
   "source": [
    "# validator\n",
    "\n",
    "> Validator class changes the color of form elements to error or success based on input's validation rules."
   ]
  },
  {
   "cell_type": "code",
   "execution_count": null,
   "id": "25536bdc-e099-477f-9e2d-a5f71df5dff2",
   "metadata": {},
   "outputs": [],
   "source": [
    "#| default_exp components.data_input.validator"
   ]
  },
  {
   "cell_type": "code",
   "execution_count": null,
   "id": "2e6f21ce-7766-455a-8ebb-df2c17e7d977",
   "metadata": {},
   "outputs": [],
   "source": [
    "#| hide\n",
    "from nbdev.showdoc import *"
   ]
  },
  {
   "cell_type": "code",
   "execution_count": null,
   "id": "045c6538-403e-4222-b3bb-db20f188524d",
   "metadata": {},
   "outputs": [],
   "source": [
    "#| export\n",
    "\n",
    "from cjm_fasthtml_tailwind.core.base import (\n",
    "    SingleValueFactory, combine_classes\n",
    ")\n",
    "\n",
    "from fasthtml.common import Div\n",
    "from fasthtml.jupyter import JupyUvi, HTMX\n",
    "from cjm_fasthtml_daisyui.core.testing import create_test_app, create_test_page, start_test_server\n",
    "from cjm_fasthtml_daisyui.core.themes import DaisyUITheme\n",
    "from IPython.display import display"
   ]
  },
  {
   "cell_type": "markdown",
   "id": "8878bd3d-2ae8-4e2e-8ccb-251b35aa11ad",
   "metadata": {},
   "source": [
    "### Base Validator"
   ]
  },
  {
   "cell_type": "code",
   "execution_count": null,
   "id": "c802d106-49fb-4d34-ba04-5f54c88e165b",
   "metadata": {},
   "outputs": [],
   "source": [
    "#| exports\n",
    "validator = SingleValueFactory(\"validator\", \"Base validator component for input, select, textarea\") # Base validator component\n",
    "validator_hint = SingleValueFactory(\"validator-hint\", \"Base validator hint part for the hint text that appears after the input if it's invalid\") # validator_hint component"
   ]
  },
  {
   "cell_type": "markdown",
   "id": "39870ec6-1852-4520-bb2f-96e2643ffe80",
   "metadata": {},
   "source": [
    "### Validator Test Examples"
   ]
  },
  {
   "cell_type": "code",
   "execution_count": null,
   "id": "cebabfd6-1d64-4c65-948d-b056dc6727c7",
   "metadata": {},
   "outputs": [],
   "source": [
    "#|exports\n",
    "def test_validator_basic_examples():\n",
    "    \"\"\"Test basic validator utilities.\"\"\"\n",
    "    # Basic validator\n",
    "    assert str(validator) == \"validator\"\n",
    "    assert str(validator_hint) == \"validator-hint\"\n",
    "    \n",
    "    # Test with modifiers\n",
    "    assert str(validator.hover) == \"hover:validator\"\n",
    "    assert str(validator.md) == \"md:validator\"\n",
    "    assert str(validator.dark) == \"dark:validator\"\n",
    "\n",
    "    assert str(validator_hint.hover) == \"hover:validator-hint\"\n",
    "    assert str(validator_hint.md) == \"md:validator-hint\"\n",
    "    assert str(validator_hint.dark) == \"dark:validator-hint\"\n",
    "\n",
    "# Run the tests\n",
    "test_validator_basic_examples()"
   ]
  },
  {
   "cell_type": "code",
   "execution_count": null,
   "id": "636c6bcd-2176-4191-aa39-c937893243e2",
   "metadata": {},
   "outputs": [
    {
     "data": {
      "text/markdown": [
       "```html\n",
       "<input type=\"email\" required placeholder=\"[email protected]\" class=\"input validator\">\n",
       "\n",
       "```"
      ],
      "text/plain": [
       "input((),{'type': 'email', 'required': True, 'placeholder': '[email protected]', 'class': 'input validator'})"
      ]
     },
     "execution_count": null,
     "metadata": {},
     "output_type": "execute_result"
    }
   ],
   "source": [
    "#|exports\n",
    "def test_validator_basic_fasthtml_examples():\n",
    "    \"\"\"Test basic validator example from daisyUI v5 documentation.\"\"\"\n",
    "    from fasthtml.common import Input\n",
    "    from cjm_fasthtml_daisyui.components.data_input.text_input import text_input\n",
    "    \n",
    "    # Basic validator\n",
    "    basic_validator = Input(\n",
    "        type=\"email\",\n",
    "        required=True,\n",
    "        placeholder=\"[email protected]\",\n",
    "        cls=combine_classes(text_input, validator)\n",
    "    )\n",
    "    \n",
    "    # Verify structure\n",
    "    assert basic_validator.tag == \"input\"\n",
    "    assert basic_validator.attrs['type'] == \"email\"\n",
    "    assert basic_validator.attrs['required'] == True\n",
    "    assert basic_validator.attrs['placeholder'] == \"[email protected]\"\n",
    "    assert \"input\" in basic_validator.attrs['class']\n",
    "    assert \"validator\" in basic_validator.attrs['class']\n",
    "    \n",
    "    return basic_validator\n",
    "\n",
    "# Run the tests\n",
    "test_validator_basic_fasthtml_examples()"
   ]
  },
  {
   "cell_type": "code",
   "execution_count": null,
   "id": "11543432-0926-449b-8dbc-c695c7fbc865",
   "metadata": {},
   "outputs": [
    {
     "data": {
      "text/html": [
       "\n",
       "<script>\n",
       "document.body.addEventListener('htmx:configRequest', (event) => {\n",
       "    if(event.detail.path.includes('://')) return;\n",
       "    htmx.config.selfRequestsOnly=false;\n",
       "    event.detail.path = `${location.protocol}//${location.hostname}:8000${event.detail.path}`;\n",
       "});\n",
       "</script>"
      ],
      "text/plain": [
       "<IPython.core.display.HTML object>"
      ]
     },
     "metadata": {},
     "output_type": "display_data"
    },
    {
     "data": {
      "text/html": [
       "<iframe src=\"http://localhost:8000/\" style=\"width: 100%; height: auto; border: none;\" onload=\"{\n",
       "        let frame = this;\n",
       "        window.addEventListener('message', function(e) {\n",
       "            if (e.source !== frame.contentWindow) return; // Only proceed if the message is from this iframe\n",
       "            if (e.data.height) frame.style.height = (e.data.height+1) + 'px';\n",
       "        }, false);\n",
       "    }\" allow=\"accelerometer; autoplay; camera; clipboard-read; clipboard-write; display-capture; encrypted-media; fullscreen; gamepad; geolocation; gyroscope; hid; identity-credentials-get; idle-detection; magnetometer; microphone; midi; payment; picture-in-picture; publickey-credentials-get; screen-wake-lock; serial; usb; web-share; xr-spatial-tracking\"></iframe> "
      ],
      "text/plain": [
       "<IPython.core.display.HTML object>"
      ]
     },
     "metadata": {},
     "output_type": "display_data"
    }
   ],
   "source": [
    "#| eval: false\n",
    "#| output: false\n",
    "test_func = test_validator_basic_fasthtml_examples\n",
    "app, rt = create_test_app(theme=DaisyUITheme.LIGHT)\n",
    "\n",
    "@rt\n",
    "def index():\n",
    "    return create_test_page(test_func.__doc__.title().replace('.', ''), test_func())\n",
    "server = start_test_server(app)\n",
    "display(HTMX())\n",
    "server.stop()"
   ]
  },
  {
   "cell_type": "code",
   "execution_count": null,
   "id": "b5297a28-3f17-4487-adb1-7ac8182244d4",
   "metadata": {},
   "outputs": [
    {
     "data": {
      "text/markdown": [
       "```html\n",
       "<div>\n",
       "  <input type=\"email\" required placeholder=\"[email protected]\" class=\"input validator\">\n",
       "  <div class=\"validator-hint\">Enter valid email address</div>\n",
       "</div>\n",
       "\n",
       "```"
      ],
      "text/plain": [
       "div((input((),{'type': 'email', 'required': True, 'placeholder': '[email protected]', 'class': 'input validator'}), div(('Enter valid email address',),{'class': 'validator-hint'})),{})"
      ]
     },
     "execution_count": null,
     "metadata": {},
     "output_type": "execute_result"
    }
   ],
   "source": [
    "#|exports\n",
    "def test_validator_with_hint_fasthtml_examples():\n",
    "    \"\"\"Test validator with hint from daisyUI v5 documentation.\"\"\"\n",
    "    from fasthtml.common import Input, Div\n",
    "    from cjm_fasthtml_daisyui.components.data_input.text_input import text_input\n",
    "    \n",
    "    # Validator with validator-hint\n",
    "    email_with_hint = Div(\n",
    "        Input(\n",
    "            type=\"email\",\n",
    "            required=True,\n",
    "            placeholder=\"[email protected]\",\n",
    "            cls=combine_classes(text_input, validator)\n",
    "        ),\n",
    "        Div(\n",
    "            \"Enter valid email address\",\n",
    "            cls=str(validator_hint)\n",
    "        )\n",
    "    )\n",
    "    \n",
    "    # Verify structure\n",
    "    container = email_with_hint\n",
    "    assert container.tag == \"div\"\n",
    "    assert len(container.children) == 2\n",
    "    \n",
    "    # Verify input\n",
    "    input_elem = container.children[0]\n",
    "    assert input_elem.tag == \"input\"\n",
    "    assert input_elem.attrs['type'] == \"email\"\n",
    "    assert input_elem.attrs['required'] == True\n",
    "    assert input_elem.attrs['placeholder'] == \"[email protected]\"\n",
    "    assert \"input\" in input_elem.attrs['class']\n",
    "    assert \"validator\" in input_elem.attrs['class']\n",
    "    \n",
    "    # Verify hint\n",
    "    hint_elem = container.children[1]\n",
    "    assert hint_elem.tag == \"div\"\n",
    "    assert hint_elem.attrs['class'] == \"validator-hint\"\n",
    "    assert hint_elem.children[0] == \"Enter valid email address\"\n",
    "    \n",
    "    return email_with_hint\n",
    "\n",
    "# Run the tests\n",
    "test_validator_with_hint_fasthtml_examples()"
   ]
  },
  {
   "cell_type": "code",
   "execution_count": null,
   "id": "2c6eb3d4-36b1-479d-b53a-80b499e938c9",
   "metadata": {},
   "outputs": [
    {
     "data": {
      "text/html": [
       "\n",
       "<script>\n",
       "document.body.addEventListener('htmx:configRequest', (event) => {\n",
       "    if(event.detail.path.includes('://')) return;\n",
       "    htmx.config.selfRequestsOnly=false;\n",
       "    event.detail.path = `${location.protocol}//${location.hostname}:8000${event.detail.path}`;\n",
       "});\n",
       "</script>"
      ],
      "text/plain": [
       "<IPython.core.display.HTML object>"
      ]
     },
     "metadata": {},
     "output_type": "display_data"
    },
    {
     "data": {
      "text/html": [
       "<iframe src=\"http://localhost:8000/\" style=\"width: 100%; height: auto; border: none;\" onload=\"{\n",
       "        let frame = this;\n",
       "        window.addEventListener('message', function(e) {\n",
       "            if (e.source !== frame.contentWindow) return; // Only proceed if the message is from this iframe\n",
       "            if (e.data.height) frame.style.height = (e.data.height+1) + 'px';\n",
       "        }, false);\n",
       "    }\" allow=\"accelerometer; autoplay; camera; clipboard-read; clipboard-write; display-capture; encrypted-media; fullscreen; gamepad; geolocation; gyroscope; hid; identity-credentials-get; idle-detection; magnetometer; microphone; midi; payment; picture-in-picture; publickey-credentials-get; screen-wake-lock; serial; usb; web-share; xr-spatial-tracking\"></iframe> "
      ],
      "text/plain": [
       "<IPython.core.display.HTML object>"
      ]
     },
     "metadata": {},
     "output_type": "display_data"
    }
   ],
   "source": [
    "#| eval: false\n",
    "#| output: false\n",
    "test_func = test_validator_with_hint_fasthtml_examples\n",
    "app, rt = create_test_app(theme=DaisyUITheme.LIGHT)\n",
    "\n",
    "@rt\n",
    "def index():\n",
    "    return create_test_page(test_func.__doc__.title().replace('.', ''), test_func())\n",
    "server = start_test_server(app)\n",
    "display(HTMX())\n",
    "server.stop()"
   ]
  },
  {
   "cell_type": "code",
   "execution_count": null,
   "id": "694bd464-c5d8-4fc9-9ee5-98140affbb4a",
   "metadata": {},
   "outputs": [
    {
     "data": {
      "text/markdown": [
       "```html\n",
       "<div>\n",
       "  <input type=\"password\" required placeholder=\"Password\" minlength=\"8\" pattern=\"(?=.*\\d)(?=.*[a-z])(?=.*[A-Z]).{8,}\" class=\"input validator\" title=\"Must be more than 8 characters, including number, lowercase letter, uppercase letter\">\n",
       "  <p class=\"validator-hint\">\n",
       "Must be more than 8 characters, including<br>At least one number<br>At least one lowercase letter<br>At least one uppercase letter  </p>\n",
       "</div>\n",
       "\n",
       "```"
      ],
      "text/plain": [
       "div((input((),{'type': 'password', 'required': True, 'placeholder': 'Password', 'minlength': '8', 'pattern': '(?=.*\\\\d)(?=.*[a-z])(?=.*[A-Z]).{8,}', 'class': 'input validator', 'title': 'Must be more than 8 characters, including number, lowercase letter, uppercase letter'}), p(('Must be more than 8 characters, including', br((),{}), 'At least one number', br((),{}), 'At least one lowercase letter', br((),{}), 'At least one uppercase letter'),{'class': 'validator-hint'})),{})"
      ]
     },
     "execution_count": null,
     "metadata": {},
     "output_type": "execute_result"
    }
   ],
   "source": [
    "#|exports\n",
    "def test_validator_password_fasthtml_examples():\n",
    "    \"\"\"Test password requirement validator from daisyUI v5 documentation.\"\"\"\n",
    "    from fasthtml.common import Input, P, Br, Div\n",
    "    from cjm_fasthtml_daisyui.components.data_input.text_input import text_input\n",
    "    \n",
    "    # Password requirement validator\n",
    "    password_validator = Div(\n",
    "        Input(\n",
    "            type=\"password\",\n",
    "            required=True,\n",
    "            placeholder=\"Password\",\n",
    "            minlength=\"8\",\n",
    "            pattern=\"(?=.*\\\\d)(?=.*[a-z])(?=.*[A-Z]).{8,}\",\n",
    "            title=\"Must be more than 8 characters, including number, lowercase letter, uppercase letter\",\n",
    "            cls=combine_classes(text_input, validator)\n",
    "        ),\n",
    "        P(\n",
    "            \"Must be more than 8 characters, including\",\n",
    "            Br(),\n",
    "            \"At least one number\",\n",
    "            Br(),\n",
    "            \"At least one lowercase letter\",\n",
    "            Br(),\n",
    "            \"At least one uppercase letter\",\n",
    "            cls=str(validator_hint)\n",
    "        )\n",
    "    )\n",
    "    \n",
    "    # Verify structure\n",
    "    container = password_validator\n",
    "    assert container.tag == \"div\"\n",
    "    assert len(container.children) == 2\n",
    "    \n",
    "    # Verify password input\n",
    "    password_input = container.children[0]\n",
    "    assert password_input.tag == \"input\"\n",
    "    assert password_input.attrs['type'] == \"password\"\n",
    "    assert password_input.attrs['required'] == True\n",
    "    assert password_input.attrs['placeholder'] == \"Password\"\n",
    "    assert password_input.attrs['minlength'] == \"8\"\n",
    "    assert password_input.attrs['pattern'] == \"(?=.*\\\\d)(?=.*[a-z])(?=.*[A-Z]).{8,}\"\n",
    "    assert password_input.attrs['title'] == \"Must be more than 8 characters, including number, lowercase letter, uppercase letter\"\n",
    "    assert \"input\" in password_input.attrs['class']\n",
    "    assert \"validator\" in password_input.attrs['class']\n",
    "    \n",
    "    # Verify hint\n",
    "    hint = container.children[1]\n",
    "    assert hint.tag == \"p\"\n",
    "    assert hint.attrs['class'] == \"validator-hint\"\n",
    "    assert hint.children[0] == \"Must be more than 8 characters, including\"\n",
    "    assert hint.children[1].tag == \"br\"\n",
    "    assert hint.children[2] == \"At least one number\"\n",
    "    assert hint.children[3].tag == \"br\"\n",
    "    assert hint.children[4] == \"At least one lowercase letter\"\n",
    "    assert hint.children[5].tag == \"br\"\n",
    "    assert hint.children[6] == \"At least one uppercase letter\"\n",
    "    \n",
    "    return password_validator\n",
    "\n",
    "# Run the tests\n",
    "test_validator_password_fasthtml_examples()"
   ]
  },
  {
   "cell_type": "code",
   "execution_count": null,
   "id": "1bfed54f-d878-42c8-9819-fbdef7540490",
   "metadata": {},
   "outputs": [
    {
     "data": {
      "text/html": [
       "\n",
       "<script>\n",
       "document.body.addEventListener('htmx:configRequest', (event) => {\n",
       "    if(event.detail.path.includes('://')) return;\n",
       "    htmx.config.selfRequestsOnly=false;\n",
       "    event.detail.path = `${location.protocol}//${location.hostname}:8000${event.detail.path}`;\n",
       "});\n",
       "</script>"
      ],
      "text/plain": [
       "<IPython.core.display.HTML object>"
      ]
     },
     "metadata": {},
     "output_type": "display_data"
    },
    {
     "data": {
      "text/html": [
       "<iframe src=\"http://localhost:8000/\" style=\"width: 100%; height: auto; border: none;\" onload=\"{\n",
       "        let frame = this;\n",
       "        window.addEventListener('message', function(e) {\n",
       "            if (e.source !== frame.contentWindow) return; // Only proceed if the message is from this iframe\n",
       "            if (e.data.height) frame.style.height = (e.data.height+1) + 'px';\n",
       "        }, false);\n",
       "    }\" allow=\"accelerometer; autoplay; camera; clipboard-read; clipboard-write; display-capture; encrypted-media; fullscreen; gamepad; geolocation; gyroscope; hid; identity-credentials-get; idle-detection; magnetometer; microphone; midi; payment; picture-in-picture; publickey-credentials-get; screen-wake-lock; serial; usb; web-share; xr-spatial-tracking\"></iframe> "
      ],
      "text/plain": [
       "<IPython.core.display.HTML object>"
      ]
     },
     "metadata": {},
     "output_type": "display_data"
    }
   ],
   "source": [
    "#| eval: false\n",
    "#| output: false\n",
    "test_func = test_validator_password_fasthtml_examples\n",
    "app, rt = create_test_app(theme=DaisyUITheme.LIGHT)\n",
    "\n",
    "@rt\n",
    "def index():\n",
    "    return create_test_page(test_func.__doc__.title().replace('.', ''), test_func())\n",
    "server = start_test_server(app)\n",
    "display(HTMX())\n",
    "server.stop()"
   ]
  },
  {
   "cell_type": "code",
   "execution_count": null,
   "id": "51d65df5-6271-4102-8ae2-e06992e8eee0",
   "metadata": {},
   "outputs": [
    {
     "data": {
      "text/markdown": [
       "```html\n",
       "<div>\n",
       "  <div>\n",
       "    <input type=\"text\" required placeholder=\"Username\" pattern=\"[A-Za-z][A-Za-z0-9\\-]*\" minlength=\"3\" maxlength=\"30\" class=\"input validator\" title=\"Only letters, numbers or dash\">\n",
       "    <p class=\"validator-hint\">\n",
       "Must be 3 to 30 characters<br>containing only letters, numbers or dash    </p>\n",
       "  </div>\n",
       "  <div>\n",
       "    <input type=\"tel\" required placeholder=\"Phone\" pattern=\"[0-9]*\" minlength=\"10\" maxlength=\"10\" class=\"input validator tabular-nums\" title=\"Must be 10 digits\">\n",
       "    <p class=\"validator-hint\">Must be 10 digits</p>\n",
       "  </div>\n",
       "</div>\n",
       "\n",
       "```"
      ],
      "text/plain": [
       "div((div((input((),{'type': 'text', 'required': True, 'placeholder': 'Username', 'pattern': '[A-Za-z][A-Za-z0-9\\\\-]*', 'minlength': '3', 'maxlength': '30', 'class': 'input validator', 'title': 'Only letters, numbers or dash'}), p(('Must be 3 to 30 characters', br((),{}), 'containing only letters, numbers or dash'),{'class': 'validator-hint'})),{}), div((input((),{'type': 'tel', 'required': True, 'placeholder': 'Phone', 'pattern': '[0-9]*', 'minlength': '10', 'maxlength': '10', 'class': 'input validator tabular-nums', 'title': 'Must be 10 digits'}), p(('Must be 10 digits',),{'class': 'validator-hint'})),{})),{})"
      ]
     },
     "execution_count": null,
     "metadata": {},
     "output_type": "execute_result"
    }
   ],
   "source": [
    "#|exports\n",
    "def test_validator_username_phone_fasthtml_examples():\n",
    "    \"\"\"Test username and phone requirement validators from daisyUI v5 documentation.\"\"\"\n",
    "    from fasthtml.common import Input, P, Br, Div\n",
    "    from cjm_fasthtml_daisyui.components.data_input.text_input import text_input\n",
    "    from cjm_fasthtml_tailwind.utilities.typography import tabular_nums\n",
    "    \n",
    "    # Username requirement validator\n",
    "    username_validator = Div(\n",
    "        Input(\n",
    "            type=\"text\",\n",
    "            required=True,\n",
    "            placeholder=\"Username\",\n",
    "            pattern=\"[A-Za-z][A-Za-z0-9\\\\-]*\",\n",
    "            minlength=\"3\",\n",
    "            maxlength=\"30\",\n",
    "            title=\"Only letters, numbers or dash\",\n",
    "            cls=combine_classes(text_input, validator)\n",
    "        ),\n",
    "        P(\n",
    "            \"Must be 3 to 30 characters\",\n",
    "            Br(),\n",
    "            \"containing only letters, numbers or dash\",\n",
    "            cls=str(validator_hint)\n",
    "        )\n",
    "    )\n",
    "    \n",
    "    # Phone Number requirement validator\n",
    "    phone_validator = Div(\n",
    "        Input(\n",
    "            type=\"tel\",\n",
    "            required=True,\n",
    "            placeholder=\"Phone\",\n",
    "            pattern=\"[0-9]*\",\n",
    "            minlength=\"10\",\n",
    "            maxlength=\"10\",\n",
    "            title=\"Must be 10 digits\",\n",
    "            cls=combine_classes(text_input, validator, tabular_nums)\n",
    "        ),\n",
    "        P(\n",
    "            \"Must be 10 digits\",\n",
    "            cls=str(validator_hint)\n",
    "        )\n",
    "    )\n",
    "    \n",
    "    # Verify username validator structure\n",
    "    assert username_validator.tag == \"div\"\n",
    "    assert len(username_validator.children) == 2\n",
    "    \n",
    "    username_input = username_validator.children[0]\n",
    "    assert username_input.tag == \"input\"\n",
    "    assert username_input.attrs['type'] == \"text\"\n",
    "    assert username_input.attrs['required'] == True\n",
    "    assert username_input.attrs['placeholder'] == \"Username\"\n",
    "    assert username_input.attrs['pattern'] == \"[A-Za-z][A-Za-z0-9\\\\-]*\"\n",
    "    assert username_input.attrs['minlength'] == \"3\"\n",
    "    assert username_input.attrs['maxlength'] == \"30\"\n",
    "    assert username_input.attrs['title'] == \"Only letters, numbers or dash\"\n",
    "    assert \"input\" in username_input.attrs['class']\n",
    "    assert \"validator\" in username_input.attrs['class']\n",
    "    \n",
    "    username_hint = username_validator.children[1]\n",
    "    assert username_hint.tag == \"p\"\n",
    "    assert username_hint.attrs['class'] == \"validator-hint\"\n",
    "    assert username_hint.children[0] == \"Must be 3 to 30 characters\"\n",
    "    assert username_hint.children[1].tag == \"br\"\n",
    "    assert username_hint.children[2] == \"containing only letters, numbers or dash\"\n",
    "    \n",
    "    # Verify phone validator structure\n",
    "    assert phone_validator.tag == \"div\"\n",
    "    assert len(phone_validator.children) == 2\n",
    "    \n",
    "    phone_input = phone_validator.children[0]\n",
    "    assert phone_input.tag == \"input\"\n",
    "    assert phone_input.attrs['type'] == \"tel\"\n",
    "    assert phone_input.attrs['required'] == True\n",
    "    assert phone_input.attrs['placeholder'] == \"Phone\"\n",
    "    assert phone_input.attrs['pattern'] == \"[0-9]*\"\n",
    "    assert phone_input.attrs['minlength'] == \"10\"\n",
    "    assert phone_input.attrs['maxlength'] == \"10\"\n",
    "    assert phone_input.attrs['title'] == \"Must be 10 digits\"\n",
    "    assert \"input\" in phone_input.attrs['class']\n",
    "    assert \"validator\" in phone_input.attrs['class']\n",
    "    assert \"tabular-nums\" in phone_input.attrs['class']\n",
    "    \n",
    "    phone_hint = phone_validator.children[1]\n",
    "    assert phone_hint.tag == \"p\"\n",
    "    assert phone_hint.attrs['class'] == \"validator-hint\"\n",
    "    assert phone_hint.children[0] == \"Must be 10 digits\"\n",
    "    \n",
    "    return Div(username_validator, phone_validator)\n",
    "\n",
    "# Run the tests\n",
    "test_validator_username_phone_fasthtml_examples()"
   ]
  },
  {
   "cell_type": "code",
   "execution_count": null,
   "id": "044434ba-b354-445b-8678-2eaac2c46de6",
   "metadata": {},
   "outputs": [
    {
     "data": {
      "text/html": [
       "\n",
       "<script>\n",
       "document.body.addEventListener('htmx:configRequest', (event) => {\n",
       "    if(event.detail.path.includes('://')) return;\n",
       "    htmx.config.selfRequestsOnly=false;\n",
       "    event.detail.path = `${location.protocol}//${location.hostname}:8000${event.detail.path}`;\n",
       "});\n",
       "</script>"
      ],
      "text/plain": [
       "<IPython.core.display.HTML object>"
      ]
     },
     "metadata": {},
     "output_type": "display_data"
    },
    {
     "data": {
      "text/html": [
       "<iframe src=\"http://localhost:8000/\" style=\"width: 100%; height: auto; border: none;\" onload=\"{\n",
       "        let frame = this;\n",
       "        window.addEventListener('message', function(e) {\n",
       "            if (e.source !== frame.contentWindow) return; // Only proceed if the message is from this iframe\n",
       "            if (e.data.height) frame.style.height = (e.data.height+1) + 'px';\n",
       "        }, false);\n",
       "    }\" allow=\"accelerometer; autoplay; camera; clipboard-read; clipboard-write; display-capture; encrypted-media; fullscreen; gamepad; geolocation; gyroscope; hid; identity-credentials-get; idle-detection; magnetometer; microphone; midi; payment; picture-in-picture; publickey-credentials-get; screen-wake-lock; serial; usb; web-share; xr-spatial-tracking\"></iframe> "
      ],
      "text/plain": [
       "<IPython.core.display.HTML object>"
      ]
     },
     "metadata": {},
     "output_type": "display_data"
    }
   ],
   "source": [
    "#| eval: false\n",
    "#| output: false\n",
    "test_func = test_validator_username_phone_fasthtml_examples\n",
    "app, rt = create_test_app(theme=DaisyUITheme.LIGHT)\n",
    "\n",
    "@rt\n",
    "def index():\n",
    "    return create_test_page(test_func.__doc__.title().replace('.', ''), test_func())\n",
    "server = start_test_server(app)\n",
    "display(HTMX())\n",
    "server.stop()"
   ]
  },
  {
   "cell_type": "code",
   "execution_count": null,
   "id": "0018caac-07d1-4ae6-b4ee-4bfd525a2763",
   "metadata": {},
   "outputs": [
    {
     "data": {
      "text/markdown": [
       "```html\n",
       "<div>\n",
       "  <div>\n",
       "    <input type=\"url\" required placeholder=\"https://\" value=\"https://\" pattern=\"^(https?://)?([a-zA-Z0-9]([a-zA-Z0-9-].*[a-zA-Z0-9])?.)+[a-zA-Z].*\" class=\"input validator\" title=\"Must be valid URL\">\n",
       "    <p class=\"validator-hint\">Must be valid URL</p>\n",
       "  </div>\n",
       "  <div>\n",
       "    <input type=\"date\" required placeholder=\"Pick a date in 2025\" min=\"2025-01-01\" max=\"2025-12-31\" class=\"input validator\" title=\"Must be valid URL\">\n",
       "    <p class=\"validator-hint\">Must be 2025</p>\n",
       "  </div>\n",
       "  <div>\n",
       "    <input type=\"number\" required placeholder=\"Type a number between 1 to 10\" min=\"1\" max=\"10\" class=\"input validator\" title=\"Must be between be 1 to 10\">\n",
       "    <p class=\"validator-hint\">Must be between be 1 to 10</p>\n",
       "  </div>\n",
       "</div>\n",
       "\n",
       "```"
      ],
      "text/plain": [
       "div((div((input((),{'type': 'url', 'required': True, 'placeholder': 'https://', 'value': 'https://', 'pattern': '^(https?://)?([a-zA-Z0-9]([a-zA-Z0-9-].*[a-zA-Z0-9])?.)+[a-zA-Z].*', 'class': 'input validator', 'title': 'Must be valid URL'}), p(('Must be valid URL',),{'class': 'validator-hint'})),{}), div((input((),{'type': 'date', 'required': True, 'placeholder': 'Pick a date in 2025', 'min': '2025-01-01', 'max': '2025-12-31', 'class': 'input validator', 'title': 'Must be valid URL'}), p(('Must be 2025',),{'class': 'validator-hint'})),{}), div((input((),{'type': 'number', 'required': True, 'placeholder': 'Type a number between 1 to 10', 'min': '1', 'max': '10', 'class': 'input validator', 'title': 'Must be between be 1 to 10'}), p(('Must be between be 1 to 10',),{'class': 'validator-hint'})),{})),{})"
      ]
     },
     "execution_count": null,
     "metadata": {},
     "output_type": "execute_result"
    }
   ],
   "source": [
    "#|exports\n",
    "def test_validator_url_date_number_fasthtml_examples():\n",
    "    \"\"\"Test URL, date, and number requirement validators from daisyUI v5 documentation.\"\"\"\n",
    "    from fasthtml.common import Input, P, Div\n",
    "    from cjm_fasthtml_daisyui.components.data_input.text_input import text_input\n",
    "    \n",
    "    # URL input requirement validator\n",
    "    url_validator = Div(\n",
    "        Input(\n",
    "            type=\"url\",\n",
    "            required=True,\n",
    "            placeholder=\"https://\",\n",
    "            value=\"https://\",\n",
    "            pattern=\"^(https?://)?([a-zA-Z0-9]([a-zA-Z0-9-].*[a-zA-Z0-9])?.)+[a-zA-Z].*\",\n",
    "            title=\"Must be valid URL\",\n",
    "            cls=combine_classes(text_input, validator)\n",
    "        ),\n",
    "        P(\n",
    "            \"Must be valid URL\",\n",
    "            cls=str(validator_hint)\n",
    "        )\n",
    "    )\n",
    "    \n",
    "    # Date input requirement validator\n",
    "    date_validator = Div(\n",
    "        Input(\n",
    "            type=\"date\",\n",
    "            required=True,\n",
    "            placeholder=\"Pick a date in 2025\",\n",
    "            min=\"2025-01-01\",\n",
    "            max=\"2025-12-31\",\n",
    "            title=\"Must be valid URL\",\n",
    "            cls=combine_classes(text_input, validator)\n",
    "        ),\n",
    "        P(\n",
    "            \"Must be 2025\",\n",
    "            cls=str(validator_hint)\n",
    "        )\n",
    "    )\n",
    "    \n",
    "    # Number input requirement validator\n",
    "    number_validator = Div(\n",
    "        Input(\n",
    "            type=\"number\",\n",
    "            required=True,\n",
    "            placeholder=\"Type a number between 1 to 10\",\n",
    "            min=\"1\",\n",
    "            max=\"10\",\n",
    "            title=\"Must be between be 1 to 10\",\n",
    "            cls=combine_classes(text_input, validator)\n",
    "        ),\n",
    "        P(\n",
    "            \"Must be between be 1 to 10\",\n",
    "            cls=str(validator_hint)\n",
    "        )\n",
    "    )\n",
    "    \n",
    "    # Verify URL validator\n",
    "    assert url_validator.tag == \"div\"\n",
    "    assert len(url_validator.children) == 2\n",
    "    \n",
    "    url_input = url_validator.children[0]\n",
    "    assert url_input.tag == \"input\"\n",
    "    assert url_input.attrs['type'] == \"url\"\n",
    "    assert url_input.attrs['required'] == True\n",
    "    assert url_input.attrs['placeholder'] == \"https://\"\n",
    "    assert url_input.attrs['value'] == \"https://\"\n",
    "    assert url_input.attrs['pattern'] == \"^(https?://)?([a-zA-Z0-9]([a-zA-Z0-9-].*[a-zA-Z0-9])?.)+[a-zA-Z].*\"\n",
    "    assert url_input.attrs['title'] == \"Must be valid URL\"\n",
    "    assert \"input\" in url_input.attrs['class']\n",
    "    assert \"validator\" in url_input.attrs['class']\n",
    "    \n",
    "    url_hint = url_validator.children[1]\n",
    "    assert url_hint.tag == \"p\"\n",
    "    assert url_hint.attrs['class'] == \"validator-hint\"\n",
    "    assert url_hint.children[0] == \"Must be valid URL\"\n",
    "    \n",
    "    # Verify Date validator\n",
    "    assert date_validator.tag == \"div\"\n",
    "    assert len(date_validator.children) == 2\n",
    "    \n",
    "    date_input = date_validator.children[0]\n",
    "    assert date_input.tag == \"input\"\n",
    "    assert date_input.attrs['type'] == \"date\"\n",
    "    assert date_input.attrs['required'] == True\n",
    "    assert date_input.attrs['placeholder'] == \"Pick a date in 2025\"\n",
    "    assert date_input.attrs['min'] == \"2025-01-01\"\n",
    "    assert date_input.attrs['max'] == \"2025-12-31\"\n",
    "    assert date_input.attrs['title'] == \"Must be valid URL\"\n",
    "    assert \"input\" in date_input.attrs['class']\n",
    "    assert \"validator\" in date_input.attrs['class']\n",
    "    \n",
    "    date_hint = date_validator.children[1]\n",
    "    assert date_hint.tag == \"p\"\n",
    "    assert date_hint.attrs['class'] == \"validator-hint\"\n",
    "    assert date_hint.children[0] == \"Must be 2025\"\n",
    "    \n",
    "    # Verify Number validator\n",
    "    assert number_validator.tag == \"div\"\n",
    "    assert len(number_validator.children) == 2\n",
    "    \n",
    "    number_input = number_validator.children[0]\n",
    "    assert number_input.tag == \"input\"\n",
    "    assert number_input.attrs['type'] == \"number\"\n",
    "    assert number_input.attrs['required'] == True\n",
    "    assert number_input.attrs['placeholder'] == \"Type a number between 1 to 10\"\n",
    "    assert number_input.attrs['min'] == \"1\"\n",
    "    assert number_input.attrs['max'] == \"10\"\n",
    "    assert number_input.attrs['title'] == \"Must be between be 1 to 10\"\n",
    "    assert \"input\" in number_input.attrs['class']\n",
    "    assert \"validator\" in number_input.attrs['class']\n",
    "    \n",
    "    number_hint = number_validator.children[1]\n",
    "    assert number_hint.tag == \"p\"\n",
    "    assert number_hint.attrs['class'] == \"validator-hint\"\n",
    "    assert number_hint.children[0] == \"Must be between be 1 to 10\"\n",
    "    \n",
    "    return Div(url_validator, date_validator, number_validator)\n",
    "\n",
    "# Run the tests\n",
    "test_validator_url_date_number_fasthtml_examples()"
   ]
  },
  {
   "cell_type": "code",
   "execution_count": null,
   "id": "9e201afd-9bd7-45fa-b0c8-7f722267cc9a",
   "metadata": {},
   "outputs": [
    {
     "data": {
      "text/html": [
       "\n",
       "<script>\n",
       "document.body.addEventListener('htmx:configRequest', (event) => {\n",
       "    if(event.detail.path.includes('://')) return;\n",
       "    htmx.config.selfRequestsOnly=false;\n",
       "    event.detail.path = `${location.protocol}//${location.hostname}:8000${event.detail.path}`;\n",
       "});\n",
       "</script>"
      ],
      "text/plain": [
       "<IPython.core.display.HTML object>"
      ]
     },
     "metadata": {},
     "output_type": "display_data"
    },
    {
     "data": {
      "text/html": [
       "<iframe src=\"http://localhost:8000/\" style=\"width: 100%; height: auto; border: none;\" onload=\"{\n",
       "        let frame = this;\n",
       "        window.addEventListener('message', function(e) {\n",
       "            if (e.source !== frame.contentWindow) return; // Only proceed if the message is from this iframe\n",
       "            if (e.data.height) frame.style.height = (e.data.height+1) + 'px';\n",
       "        }, false);\n",
       "    }\" allow=\"accelerometer; autoplay; camera; clipboard-read; clipboard-write; display-capture; encrypted-media; fullscreen; gamepad; geolocation; gyroscope; hid; identity-credentials-get; idle-detection; magnetometer; microphone; midi; payment; picture-in-picture; publickey-credentials-get; screen-wake-lock; serial; usb; web-share; xr-spatial-tracking\"></iframe> "
      ],
      "text/plain": [
       "<IPython.core.display.HTML object>"
      ]
     },
     "metadata": {},
     "output_type": "display_data"
    }
   ],
   "source": [
    "#| eval: false\n",
    "#| output: false\n",
    "test_func = test_validator_url_date_number_fasthtml_examples\n",
    "app, rt = create_test_app(theme=DaisyUITheme.LIGHT)\n",
    "\n",
    "@rt\n",
    "def index():\n",
    "    return create_test_page(test_func.__doc__.title().replace('.', ''), test_func())\n",
    "server = start_test_server(app)\n",
    "display(HTMX())\n",
    "server.stop()"
   ]
  },
  {
   "cell_type": "code",
   "execution_count": null,
   "id": "547391ef-f903-44e3-a718-289634d681f1",
   "metadata": {},
   "outputs": [
    {
     "data": {
      "text/markdown": [
       "```html\n",
       "<div>\n",
       "  <div>\n",
       "    <input type=\"checkbox\" required class=\"checkbox validator\" title=\"Required\">\n",
       "    <p class=\"validator-hint\">Required</p>\n",
       "  </div>\n",
       "  <div>\n",
       "    <input type=\"checkbox\" required class=\"toggle validator\" title=\"Required\">\n",
       "    <p class=\"validator-hint\">Required</p>\n",
       "  </div>\n",
       "<form enctype=\"multipart/form-data\"><select required class=\"select validator\"><option disabled selected>Choose:</option><option>Tabs</option><option>Spaces</option></select>    <p class=\"validator-hint\">Required</p>\n",
       "<button type=\"submit\" class=\"btn\">Submit form</button></form></div>\n",
       "\n",
       "```"
      ],
      "text/plain": [
       "div((div((input((),{'type': 'checkbox', 'required': True, 'class': 'checkbox validator', 'title': 'Required'}), p(('Required',),{'class': 'validator-hint'})),{}), div((input((),{'type': 'checkbox', 'required': True, 'class': 'toggle validator', 'title': 'Required'}), p(('Required',),{'class': 'validator-hint'})),{}), form((select((option(('Choose:',),{'disabled': True, 'selected': True, 'value': ''}), option(('Tabs',),{}), option(('Spaces',),{})),{'required': True, 'class': 'select validator'}), p(('Required',),{'class': 'validator-hint'}), button(('Submit form',),{'type': 'submit', 'class': 'btn'})),{'enctype': 'multipart/form-data'})),{})"
      ]
     },
     "execution_count": null,
     "metadata": {},
     "output_type": "execute_result"
    }
   ],
   "source": [
    "#|exports\n",
    "def test_validator_checkbox_toggle_select_fasthtml_examples():\n",
    "    \"\"\"Test checkbox, toggle, and select requirement validators from daisyUI v5 documentation.\"\"\"\n",
    "    from fasthtml.common import Input, P, Div, Form, Select, Option, Button\n",
    "    from cjm_fasthtml_daisyui.components.data_input.checkbox import checkbox\n",
    "    from cjm_fasthtml_daisyui.components.data_input.toggle import toggle\n",
    "    from cjm_fasthtml_daisyui.components.data_input.select import select\n",
    "    from cjm_fasthtml_daisyui.components.actions.button import btn\n",
    "    \n",
    "    # Checkbox requirement validator\n",
    "    checkbox_validator = Div(\n",
    "        Input(\n",
    "            type=\"checkbox\",\n",
    "            required=True,\n",
    "            title=\"Required\",\n",
    "            cls=combine_classes(checkbox, validator)\n",
    "        ),\n",
    "        P(\n",
    "            \"Required\",\n",
    "            cls=str(validator_hint)\n",
    "        )\n",
    "    )\n",
    "    \n",
    "    # Toggle requirement validator\n",
    "    toggle_validator = Div(\n",
    "        Input(\n",
    "            type=\"checkbox\",\n",
    "            required=True,\n",
    "            title=\"Required\",\n",
    "            cls=combine_classes(toggle, validator)\n",
    "        ),\n",
    "        P(\n",
    "            \"Required\",\n",
    "            cls=str(validator_hint)\n",
    "        )\n",
    "    )\n",
    "    \n",
    "    # Select requirement validator\n",
    "    select_validator = Form(\n",
    "        Select(\n",
    "            Option(\"Choose:\", disabled=True, selected=True, value=\"\"),\n",
    "            Option(\"Tabs\"),\n",
    "            Option(\"Spaces\"),\n",
    "            required=True,\n",
    "            cls=combine_classes(select, validator)\n",
    "        ),\n",
    "        P(\n",
    "            \"Required\",\n",
    "            cls=str(validator_hint)\n",
    "        ),\n",
    "        Button(\n",
    "            \"Submit form\",\n",
    "            type=\"submit\",\n",
    "            cls=str(btn)\n",
    "        )\n",
    "    )\n",
    "    \n",
    "    # Verify checkbox validator\n",
    "    assert checkbox_validator.tag == \"div\"\n",
    "    assert len(checkbox_validator.children) == 2\n",
    "    \n",
    "    checkbox_input = checkbox_validator.children[0]\n",
    "    assert checkbox_input.tag == \"input\"\n",
    "    assert checkbox_input.attrs['type'] == \"checkbox\"\n",
    "    assert checkbox_input.attrs['required'] == True\n",
    "    assert checkbox_input.attrs['title'] == \"Required\"\n",
    "    assert \"checkbox\" in checkbox_input.attrs['class']\n",
    "    assert \"validator\" in checkbox_input.attrs['class']\n",
    "    \n",
    "    checkbox_hint = checkbox_validator.children[1]\n",
    "    assert checkbox_hint.tag == \"p\"\n",
    "    assert checkbox_hint.attrs['class'] == \"validator-hint\"\n",
    "    assert checkbox_hint.children[0] == \"Required\"\n",
    "    \n",
    "    # Verify toggle validator\n",
    "    assert toggle_validator.tag == \"div\"\n",
    "    assert len(toggle_validator.children) == 2\n",
    "    \n",
    "    toggle_input = toggle_validator.children[0]\n",
    "    assert toggle_input.tag == \"input\"\n",
    "    assert toggle_input.attrs['type'] == \"checkbox\"\n",
    "    assert toggle_input.attrs['required'] == True\n",
    "    assert toggle_input.attrs['title'] == \"Required\"\n",
    "    assert \"toggle\" in toggle_input.attrs['class']\n",
    "    assert \"validator\" in toggle_input.attrs['class']\n",
    "    \n",
    "    toggle_hint = toggle_validator.children[1]\n",
    "    assert toggle_hint.tag == \"p\"\n",
    "    assert toggle_hint.attrs['class'] == \"validator-hint\"\n",
    "    assert toggle_hint.children[0] == \"Required\"\n",
    "    \n",
    "    # Verify select validator\n",
    "    assert select_validator.tag == \"form\"\n",
    "    assert len(select_validator.children) == 3\n",
    "    \n",
    "    select_elem = select_validator.children[0]\n",
    "    assert select_elem.tag == \"select\"\n",
    "    assert select_elem.attrs['required'] == True\n",
    "    assert \"select\" in select_elem.attrs['class']\n",
    "    assert \"validator\" in select_elem.attrs['class']\n",
    "    \n",
    "    # Check select options\n",
    "    assert len(select_elem.children) == 3\n",
    "    option1 = select_elem.children[0]\n",
    "    assert option1.tag == \"option\"\n",
    "    assert option1.attrs['disabled'] == True\n",
    "    assert option1.attrs['selected'] == True\n",
    "    assert option1.attrs['value'] == \"\"\n",
    "    assert option1.children[0] == \"Choose:\"\n",
    "    \n",
    "    option2 = select_elem.children[1]\n",
    "    assert option2.tag == \"option\"\n",
    "    assert option2.children[0] == \"Tabs\"\n",
    "    \n",
    "    option3 = select_elem.children[2]\n",
    "    assert option3.tag == \"option\"\n",
    "    assert option3.children[0] == \"Spaces\"\n",
    "    \n",
    "    select_hint = select_validator.children[1]\n",
    "    assert select_hint.tag == \"p\"\n",
    "    assert select_hint.attrs['class'] == \"validator-hint\"\n",
    "    assert select_hint.children[0] == \"Required\"\n",
    "    \n",
    "    submit_button = select_validator.children[2]\n",
    "    assert submit_button.tag == \"button\"\n",
    "    assert submit_button.attrs['type'] == \"submit\"\n",
    "    assert submit_button.attrs['class'] == \"btn\"\n",
    "    assert submit_button.children[0] == \"Submit form\"\n",
    "    \n",
    "    return Div(checkbox_validator, toggle_validator, select_validator)\n",
    "\n",
    "# Run the tests\n",
    "test_validator_checkbox_toggle_select_fasthtml_examples()"
   ]
  },
  {
   "cell_type": "code",
   "execution_count": null,
   "id": "d79c4eb1-9ed8-49d3-a00d-d7a0def471ef",
   "metadata": {},
   "outputs": [
    {
     "data": {
      "text/html": [
       "\n",
       "<script>\n",
       "document.body.addEventListener('htmx:configRequest', (event) => {\n",
       "    if(event.detail.path.includes('://')) return;\n",
       "    htmx.config.selfRequestsOnly=false;\n",
       "    event.detail.path = `${location.protocol}//${location.hostname}:8000${event.detail.path}`;\n",
       "});\n",
       "</script>"
      ],
      "text/plain": [
       "<IPython.core.display.HTML object>"
      ]
     },
     "metadata": {},
     "output_type": "display_data"
    },
    {
     "data": {
      "text/html": [
       "<iframe src=\"http://localhost:8000/\" style=\"width: 100%; height: auto; border: none;\" onload=\"{\n",
       "        let frame = this;\n",
       "        window.addEventListener('message', function(e) {\n",
       "            if (e.source !== frame.contentWindow) return; // Only proceed if the message is from this iframe\n",
       "            if (e.data.height) frame.style.height = (e.data.height+1) + 'px';\n",
       "        }, false);\n",
       "    }\" allow=\"accelerometer; autoplay; camera; clipboard-read; clipboard-write; display-capture; encrypted-media; fullscreen; gamepad; geolocation; gyroscope; hid; identity-credentials-get; idle-detection; magnetometer; microphone; midi; payment; picture-in-picture; publickey-credentials-get; screen-wake-lock; serial; usb; web-share; xr-spatial-tracking\"></iframe> "
      ],
      "text/plain": [
       "<IPython.core.display.HTML object>"
      ]
     },
     "metadata": {},
     "output_type": "display_data"
    }
   ],
   "source": [
    "#| eval: false\n",
    "#| output: false\n",
    "test_func = test_validator_checkbox_toggle_select_fasthtml_examples\n",
    "app, rt = create_test_app(theme=DaisyUITheme.LIGHT)\n",
    "\n",
    "@rt\n",
    "def index():\n",
    "    return create_test_page(test_func.__doc__.title().replace('.', ''), test_func())\n",
    "server = start_test_server(app)\n",
    "display(HTMX())\n",
    "server.stop()"
   ]
  },
  {
   "cell_type": "code",
   "execution_count": null,
   "id": "874b733a-5d74-4973-a9eb-c861c5bc52f5",
   "metadata": {},
   "outputs": [],
   "source": []
  },
  {
   "cell_type": "code",
   "execution_count": null,
   "id": "aa47e07e-3f14-4c19-8d20-795c36d1c3b4",
   "metadata": {},
   "outputs": [],
   "source": []
  },
  {
   "cell_type": "code",
   "execution_count": null,
   "id": "53cd79c3-9745-4ae6-8aad-332b57c8fc7e",
   "metadata": {},
   "outputs": [],
   "source": []
  },
  {
   "cell_type": "code",
   "execution_count": null,
   "id": "6496e975-9a7e-41d5-a425-8a0114458c64",
   "metadata": {},
   "outputs": [],
   "source": []
  },
  {
   "cell_type": "code",
   "execution_count": null,
   "id": "c5ba7209-cd43-422f-a7ad-a4410bd45e9d",
   "metadata": {},
   "outputs": [],
   "source": []
  },
  {
   "cell_type": "code",
   "execution_count": null,
   "id": "9810e359-55d3-43ff-9de3-b0739fbbc7f7",
   "metadata": {},
   "outputs": [],
   "source": []
  },
  {
   "cell_type": "code",
   "execution_count": null,
   "id": "a3824e9b-aed4-4e59-b01a-0506b22a79b4",
   "metadata": {},
   "outputs": [],
   "source": []
  },
  {
   "cell_type": "code",
   "execution_count": null,
   "id": "ff49602a-79e0-4ace-90bc-4ea57e61b9fa",
   "metadata": {},
   "outputs": [],
   "source": []
  },
  {
   "cell_type": "code",
   "execution_count": null,
   "id": "8c3223d8-0288-4ee4-a7c7-41573cc2757b",
   "metadata": {},
   "outputs": [],
   "source": []
  },
  {
   "cell_type": "code",
   "execution_count": null,
   "id": "89708caf-ef80-4e39-94de-3d5783cc6eac",
   "metadata": {},
   "outputs": [],
   "source": []
  },
  {
   "cell_type": "code",
   "execution_count": null,
   "id": "f0c297e7-5d58-4a64-b7aa-38a5747eff50",
   "metadata": {},
   "outputs": [],
   "source": []
  },
  {
   "cell_type": "code",
   "execution_count": null,
   "id": "1816f842-9d5f-47ec-bb55-0a268b552e40",
   "metadata": {},
   "outputs": [],
   "source": []
  },
  {
   "cell_type": "code",
   "execution_count": null,
   "id": "7914da82-59b1-4289-bbd4-5793ca560cf4",
   "metadata": {},
   "outputs": [],
   "source": []
  },
  {
   "cell_type": "code",
   "execution_count": null,
   "id": "b8a179ff-50ed-4a5e-8fb0-c21337c1212f",
   "metadata": {},
   "outputs": [],
   "source": []
  },
  {
   "cell_type": "code",
   "execution_count": null,
   "id": "75ea550e-9a46-4ab9-82ae-d6c1e0e6ecea",
   "metadata": {},
   "outputs": [],
   "source": []
  },
  {
   "cell_type": "code",
   "execution_count": null,
   "id": "539ffa87-0350-4e6b-8baf-97e3c937be3c",
   "metadata": {},
   "outputs": [],
   "source": []
  },
  {
   "cell_type": "code",
   "execution_count": null,
   "id": "d03c9664-e09e-44de-9b35-7acbd29aafa6",
   "metadata": {},
   "outputs": [],
   "source": []
  },
  {
   "cell_type": "code",
   "execution_count": null,
   "id": "723327ec-f13f-40f8-b97c-6a569ec57271",
   "metadata": {},
   "outputs": [],
   "source": []
  },
  {
   "cell_type": "code",
   "execution_count": null,
   "id": "ad2d932c-79ea-4792-bdaf-5bda859340ca",
   "metadata": {},
   "outputs": [],
   "source": []
  },
  {
   "cell_type": "code",
   "execution_count": null,
   "id": "3035ff66-e4e7-410c-8b1e-86a879f66112",
   "metadata": {},
   "outputs": [],
   "source": []
  },
  {
   "cell_type": "code",
   "execution_count": null,
   "id": "4666a5a3-26bb-4d91-b5be-f941df8f9d2f",
   "metadata": {},
   "outputs": [],
   "source": []
  },
  {
   "cell_type": "code",
   "execution_count": null,
   "id": "85d72161-e718-4c66-bc59-a3569b7f7616",
   "metadata": {},
   "outputs": [],
   "source": []
  },
  {
   "cell_type": "code",
   "execution_count": null,
   "id": "214654cc-9758-48f9-92e2-0892029c4512",
   "metadata": {},
   "outputs": [],
   "source": []
  },
  {
   "cell_type": "code",
   "execution_count": null,
   "id": "a9d78aa3-0be8-49e6-8bfb-cb9a232ee1ee",
   "metadata": {},
   "outputs": [],
   "source": []
  },
  {
   "cell_type": "code",
   "execution_count": null,
   "id": "01785a18-9bb0-4dbc-9eae-04addf6dede9",
   "metadata": {},
   "outputs": [],
   "source": []
  },
  {
   "cell_type": "code",
   "execution_count": null,
   "id": "43a3d5aa-4f07-48f4-b7c3-5c63612f0fb2",
   "metadata": {},
   "outputs": [],
   "source": []
  },
  {
   "cell_type": "code",
   "execution_count": null,
   "id": "248adc40-6e77-4203-9830-de838e25a00a",
   "metadata": {},
   "outputs": [],
   "source": []
  },
  {
   "cell_type": "code",
   "execution_count": null,
   "id": "a2029d6d-bf22-4e16-87e1-d609762dc867",
   "metadata": {},
   "outputs": [],
   "source": []
  },
  {
   "cell_type": "code",
   "execution_count": null,
   "id": "c9dfaad9-504c-4853-886b-2d1adb1cc3a0",
   "metadata": {},
   "outputs": [],
   "source": []
  },
  {
   "cell_type": "code",
   "execution_count": null,
   "id": "454d5b84-fc57-44ab-a6f0-3123333998cb",
   "metadata": {},
   "outputs": [],
   "source": []
  },
  {
   "cell_type": "code",
   "execution_count": null,
   "id": "d471d21b-6fe5-4c63-90be-5176c4cbd08b",
   "metadata": {},
   "outputs": [],
   "source": []
  },
  {
   "cell_type": "code",
   "execution_count": null,
   "id": "73b88b7e-0be6-4a82-9c02-f3df8af20015",
   "metadata": {},
   "outputs": [],
   "source": []
  },
  {
   "cell_type": "code",
   "execution_count": null,
   "id": "7ab8257a-c30b-45b6-a784-729b67686791",
   "metadata": {},
   "outputs": [],
   "source": [
    "#| hide\n",
    "import nbdev; nbdev.nbdev_export()"
   ]
  }
 ],
 "metadata": {
  "kernelspec": {
   "display_name": "python3",
   "language": "python",
   "name": "python3"
  }
 },
 "nbformat": 4,
 "nbformat_minor": 5
}
