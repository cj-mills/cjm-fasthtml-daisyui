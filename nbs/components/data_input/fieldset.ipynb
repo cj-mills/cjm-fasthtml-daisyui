{
 "cells": [
  {
   "cell_type": "markdown",
   "id": "7c51b46b-ece1-456d-8e84-7de122e72b62",
   "metadata": {},
   "source": [
    "# fieldset\n",
    "\n",
    "> Fieldset is a container for grouping related form elements. It includes fieldset-legend as a title and label as a description."
   ]
  },
  {
   "cell_type": "code",
   "execution_count": null,
   "id": "25536bdc-e099-477f-9e2d-a5f71df5dff2",
   "metadata": {},
   "outputs": [],
   "source": [
    "#| default_exp components.data_input.fieldset"
   ]
  },
  {
   "cell_type": "code",
   "execution_count": null,
   "id": "2e6f21ce-7766-455a-8ebb-df2c17e7d977",
   "metadata": {},
   "outputs": [],
   "source": [
    "#| hide\n",
    "from nbdev.showdoc import *"
   ]
  },
  {
   "cell_type": "code",
   "execution_count": null,
   "id": "045c6538-403e-4222-b3bb-db20f188524d",
   "metadata": {},
   "outputs": [],
   "source": [
    "#| export\n",
    "\n",
    "from cjm_fasthtml_tailwind.core.base import (\n",
    "    SingleValueFactory, combine_classes\n",
    ")\n",
    "\n",
    "from fasthtml.common import Div\n",
    "from fasthtml.jupyter import JupyUvi, HTMX\n",
    "from cjm_fasthtml_daisyui.core.testing import create_test_app, create_test_page, start_test_server\n",
    "from cjm_fasthtml_daisyui.core.themes import DaisyUITheme\n",
    "from IPython.display import display"
   ]
  },
  {
   "cell_type": "markdown",
   "id": "c3b5532b-5692-4e14-8bac-112b57c1946a",
   "metadata": {},
   "source": [
    "### Base Fieldset"
   ]
  },
  {
   "cell_type": "code",
   "execution_count": null,
   "id": "c802d106-49fb-4d34-ba04-5f54c88e165b",
   "metadata": {},
   "outputs": [],
   "source": [
    "#| exports\n",
    "fieldset = SingleValueFactory(\"fieldset\", \"Base fieldset component for the fieldset container\") # Base fieldset component\n",
    "label = SingleValueFactory(\"label\", \"Base label component for inputs\") # Base label component\n",
    "fieldset_legend = SingleValueFactory(\"fieldset-legend\", \"fieldset legend part for the title of the fieldset\") # fieldset legend part"
   ]
  },
  {
   "cell_type": "markdown",
   "id": "2ccb0087-822a-4050-9e1d-1b4626aa9b77",
   "metadata": {},
   "source": [
    "### Fieldset Test Examples"
   ]
  },
  {
   "cell_type": "code",
   "execution_count": null,
   "id": "636c6bcd-2176-4191-aa39-c937893243e2",
   "metadata": {},
   "outputs": [],
   "source": [
    "#|exports\n",
    "def test_fieldset_basic_examples():\n",
    "    \"\"\"Test basic fieldset utilities.\"\"\"\n",
    "    # Basic fieldset\n",
    "    assert str(fieldset) == \"fieldset\"\n",
    "    assert str(label) == \"label\"\n",
    "    assert str(fieldset_legend) == \"fieldset-legend\"\n",
    "    \n",
    "    # Test with modifiers\n",
    "    assert str(fieldset.hover) == \"hover:fieldset\"\n",
    "    assert str(fieldset.md) == \"md:fieldset\"\n",
    "    assert str(fieldset.dark) == \"dark:fieldset\"\n",
    "\n",
    "    assert str(label.hover) == \"hover:label\"\n",
    "    assert str(label.md) == \"md:label\"\n",
    "    assert str(label.dark) == \"dark:label\"\n",
    "\n",
    "    assert str(fieldset_legend.hover) == \"hover:fieldset-legend\"\n",
    "    assert str(fieldset_legend.md) == \"md:fieldset-legend\"\n",
    "    assert str(fieldset_legend.dark) == \"dark:fieldset-legend\"\n",
    "\n",
    "# Run the tests\n",
    "test_fieldset_basic_examples()"
   ]
  },
  {
   "cell_type": "code",
   "execution_count": null,
   "id": "a02d916c-d371-4e39-922b-30c0667181bd",
   "metadata": {},
   "outputs": [
    {
     "data": {
      "text/markdown": [
       "```html\n",
       "<fieldset class=\"fieldset\"><legend class=\"fieldset-legend\">Page title</legend>  <input type=\"text\" placeholder=\"My awesome page\" class=\"input\">\n",
       "  <p class=\"label\">You can edit page title later on from settings</p>\n",
       "</fieldset>\n",
       "```"
      ],
      "text/plain": [
       "fieldset((legend(('Page title',),{'class': 'fieldset-legend'}), input((),{'type': 'text', 'placeholder': 'My awesome page', 'class': 'input'}), p(('You can edit page title later on from settings',),{'class': 'label'})),{'class': 'fieldset'})"
      ]
     },
     "execution_count": null,
     "metadata": {},
     "output_type": "execute_result"
    }
   ],
   "source": [
    "#|exports\n",
    "def test_fieldset_basic_fasthtml_examples():\n",
    "    \"\"\"Test basic fieldset with legend and label from daisyUI v5 documentation.\"\"\"\n",
    "    from fasthtml.common import Fieldset, Legend, Input, P\n",
    "    from cjm_fasthtml_daisyui.components.data_input.text_input import text_input\n",
    "    \n",
    "    # Fieldset with legend and label\n",
    "    basic_fieldset = Fieldset(\n",
    "        Legend(\"Page title\", cls=str(fieldset_legend)),\n",
    "        Input(type=\"text\", placeholder=\"My awesome page\", cls=str(text_input)),\n",
    "        P(\"You can edit page title later on from settings\", cls=str(label)),\n",
    "        cls=str(fieldset)\n",
    "    )\n",
    "    \n",
    "    # Verify structure\n",
    "    assert basic_fieldset.tag == \"fieldset\"\n",
    "    assert basic_fieldset.attrs['class'] == \"fieldset\"\n",
    "    \n",
    "    # Verify legend\n",
    "    legend_element = basic_fieldset.children[0]\n",
    "    assert legend_element.tag == \"legend\"\n",
    "    assert legend_element.attrs['class'] == \"fieldset-legend\"\n",
    "    assert legend_element.children[0] == \"Page title\"\n",
    "    \n",
    "    # Verify input\n",
    "    input_element = basic_fieldset.children[1]\n",
    "    assert input_element.tag == \"input\"\n",
    "    assert input_element.attrs['type'] == \"text\"\n",
    "    assert input_element.attrs['placeholder'] == \"My awesome page\"\n",
    "    assert input_element.attrs['class'] == \"input\"\n",
    "    \n",
    "    # Verify label\n",
    "    label_element = basic_fieldset.children[2]\n",
    "    assert label_element.tag == \"p\"\n",
    "    assert label_element.attrs['class'] == \"label\"\n",
    "    assert label_element.children[0] == \"You can edit page title later on from settings\"\n",
    "    \n",
    "    return basic_fieldset\n",
    "\n",
    "# Run the tests\n",
    "test_fieldset_basic_fasthtml_examples()"
   ]
  },
  {
   "cell_type": "code",
   "execution_count": null,
   "id": "83614acc-f575-4e7e-b244-f27a9677ac22",
   "metadata": {},
   "outputs": [
    {
     "data": {
      "text/html": [
       "\n",
       "<script>\n",
       "document.body.addEventListener('htmx:configRequest', (event) => {\n",
       "    if(event.detail.path.includes('://')) return;\n",
       "    htmx.config.selfRequestsOnly=false;\n",
       "    event.detail.path = `${location.protocol}//${location.hostname}:8000${event.detail.path}`;\n",
       "});\n",
       "</script>"
      ],
      "text/plain": [
       "<IPython.core.display.HTML object>"
      ]
     },
     "metadata": {},
     "output_type": "display_data"
    },
    {
     "data": {
      "text/html": [
       "<iframe src=\"http://localhost:8000/\" style=\"width: 100%; height: auto; border: none;\" onload=\"{\n",
       "        let frame = this;\n",
       "        window.addEventListener('message', function(e) {\n",
       "            if (e.source !== frame.contentWindow) return; // Only proceed if the message is from this iframe\n",
       "            if (e.data.height) frame.style.height = (e.data.height+1) + 'px';\n",
       "        }, false);\n",
       "    }\" allow=\"accelerometer; autoplay; camera; clipboard-read; clipboard-write; display-capture; encrypted-media; fullscreen; gamepad; geolocation; gyroscope; hid; identity-credentials-get; idle-detection; magnetometer; microphone; midi; payment; picture-in-picture; publickey-credentials-get; screen-wake-lock; serial; usb; web-share; xr-spatial-tracking\"></iframe> "
      ],
      "text/plain": [
       "<IPython.core.display.HTML object>"
      ]
     },
     "metadata": {},
     "output_type": "display_data"
    }
   ],
   "source": [
    "#| eval: false\n",
    "#| output: false\n",
    "test_func = test_fieldset_basic_fasthtml_examples\n",
    "app, rt = create_test_app(theme=DaisyUITheme.LIGHT)\n",
    "\n",
    "@rt\n",
    "def index():\n",
    "    return create_test_page(test_func.__doc__.title().replace('.', ''), test_func())\n",
    "server = start_test_server(app)\n",
    "display(HTMX())\n",
    "server.stop()"
   ]
  },
  {
   "cell_type": "code",
   "execution_count": null,
   "id": "1150ec6c-c893-475f-b546-c23fa6c77649",
   "metadata": {},
   "outputs": [
    {
     "data": {
      "text/markdown": [
       "```html\n",
       "<fieldset class=\"fieldset bg-base-200 border-base-300 rounded-box w-xs &lt;cjm_fasthtml_tailwind.utilities.borders.BorderWidthFactory object at 0x7c42d282b850&gt; p-4\"><legend class=\"fieldset-legend\">Page title</legend>  <input type=\"text\" placeholder=\"My awesome page\" class=\"input\">\n",
       "  <p class=\"label\">You can edit page title later on from settings</p>\n",
       "</fieldset>\n",
       "```"
      ],
      "text/plain": [
       "fieldset((legend(('Page title',),{'class': 'fieldset-legend'}), input((),{'type': 'text', 'placeholder': 'My awesome page', 'class': 'input'}), p(('You can edit page title later on from settings',),{'class': 'label'})),{'class': 'fieldset bg-base-200 border-base-300 rounded-box w-xs <cjm_fasthtml_tailwind.utilities.borders.BorderWidthFactory object> p-4'})"
      ]
     },
     "execution_count": null,
     "metadata": {},
     "output_type": "execute_result"
    }
   ],
   "source": [
    "#|exports\n",
    "def test_fieldset_with_background_fasthtml_examples():\n",
    "    \"\"\"Test fieldset with background and border from daisyUI v5 documentation.\"\"\"\n",
    "    from fasthtml.common import Fieldset, Legend, Input, P\n",
    "    from cjm_fasthtml_tailwind.utilities.sizing import w\n",
    "    from cjm_fasthtml_tailwind.utilities.borders import border\n",
    "    from cjm_fasthtml_tailwind.utilities.spacing import p\n",
    "    from cjm_fasthtml_daisyui.utilities.semantic_colors import bg_dui, border_dui\n",
    "    from cjm_fasthtml_daisyui.utilities.border_radius import border_radius\n",
    "    from cjm_fasthtml_daisyui.components.data_input.text_input import text_input\n",
    "    \n",
    "    # Fieldset with background and border\n",
    "    styled_fieldset = Fieldset(\n",
    "        Legend(\"Page title\", cls=str(fieldset_legend)),\n",
    "        Input(type=\"text\", placeholder=\"My awesome page\", cls=str(text_input)),\n",
    "        P(\"You can edit page title later on from settings\", cls=str(label)),\n",
    "        cls=combine_classes(\n",
    "            fieldset,\n",
    "            bg_dui.base_200,\n",
    "            border_dui.base_300,\n",
    "            border_radius.box,\n",
    "            w.xs,\n",
    "            border,\n",
    "            p._4\n",
    "        )\n",
    "    )\n",
    "    \n",
    "    # Verify structure\n",
    "    assert styled_fieldset.tag == \"fieldset\"\n",
    "    assert \"fieldset\" in styled_fieldset.attrs['class']\n",
    "    assert \"bg-base-200\" in styled_fieldset.attrs['class']\n",
    "    assert \"border-base-300\" in styled_fieldset.attrs['class']\n",
    "    assert \"rounded-box\" in styled_fieldset.attrs['class']\n",
    "    assert \"w-xs\" in styled_fieldset.attrs['class']\n",
    "    assert \"border\" in styled_fieldset.attrs['class']\n",
    "    assert \"p-4\" in styled_fieldset.attrs['class']\n",
    "    \n",
    "    # Verify legend\n",
    "    legend_element = styled_fieldset.children[0]\n",
    "    assert legend_element.tag == \"legend\"\n",
    "    assert legend_element.attrs['class'] == \"fieldset-legend\"\n",
    "    assert legend_element.children[0] == \"Page title\"\n",
    "    \n",
    "    # Verify input\n",
    "    input_element = styled_fieldset.children[1]\n",
    "    assert input_element.tag == \"input\"\n",
    "    assert input_element.attrs['type'] == \"text\"\n",
    "    assert input_element.attrs['placeholder'] == \"My awesome page\"\n",
    "    assert input_element.attrs['class'] == \"input\"\n",
    "    \n",
    "    # Verify label\n",
    "    label_element = styled_fieldset.children[2]\n",
    "    assert label_element.tag == \"p\"\n",
    "    assert label_element.attrs['class'] == \"label\"\n",
    "    assert label_element.children[0] == \"You can edit page title later on from settings\"\n",
    "    \n",
    "    return styled_fieldset\n",
    "\n",
    "# Run the tests\n",
    "test_fieldset_with_background_fasthtml_examples()"
   ]
  },
  {
   "cell_type": "code",
   "execution_count": null,
   "id": "7ac09303-550b-4621-86b5-144f401e82d7",
   "metadata": {},
   "outputs": [
    {
     "data": {
      "text/html": [
       "\n",
       "<script>\n",
       "document.body.addEventListener('htmx:configRequest', (event) => {\n",
       "    if(event.detail.path.includes('://')) return;\n",
       "    htmx.config.selfRequestsOnly=false;\n",
       "    event.detail.path = `${location.protocol}//${location.hostname}:8000${event.detail.path}`;\n",
       "});\n",
       "</script>"
      ],
      "text/plain": [
       "<IPython.core.display.HTML object>"
      ]
     },
     "metadata": {},
     "output_type": "display_data"
    },
    {
     "data": {
      "text/html": [
       "<iframe src=\"http://localhost:8000/\" style=\"width: 100%; height: auto; border: none;\" onload=\"{\n",
       "        let frame = this;\n",
       "        window.addEventListener('message', function(e) {\n",
       "            if (e.source !== frame.contentWindow) return; // Only proceed if the message is from this iframe\n",
       "            if (e.data.height) frame.style.height = (e.data.height+1) + 'px';\n",
       "        }, false);\n",
       "    }\" allow=\"accelerometer; autoplay; camera; clipboard-read; clipboard-write; display-capture; encrypted-media; fullscreen; gamepad; geolocation; gyroscope; hid; identity-credentials-get; idle-detection; magnetometer; microphone; midi; payment; picture-in-picture; publickey-credentials-get; screen-wake-lock; serial; usb; web-share; xr-spatial-tracking\"></iframe> "
      ],
      "text/plain": [
       "<IPython.core.display.HTML object>"
      ]
     },
     "metadata": {},
     "output_type": "display_data"
    }
   ],
   "source": [
    "#| eval: false\n",
    "#| output: false\n",
    "test_func = test_fieldset_with_background_fasthtml_examples\n",
    "app, rt = create_test_app(theme=DaisyUITheme.LIGHT)\n",
    "\n",
    "@rt\n",
    "def index():\n",
    "    return create_test_page(test_func.__doc__.title().replace('.', ''), test_func())\n",
    "server = start_test_server(app)\n",
    "display(HTMX())\n",
    "server.stop()"
   ]
  },
  {
   "cell_type": "code",
   "execution_count": null,
   "id": "cc7143b9-4d89-4594-8a42-09bbf8d99cb9",
   "metadata": {},
   "outputs": [
    {
     "data": {
      "text/markdown": [
       "```html\n",
       "<fieldset class=\"fieldset bg-base-200 border-base-300 rounded-box w-xs &lt;cjm_fasthtml_tailwind.utilities.borders.BorderWidthFactory object at 0x7c42d282b850&gt; p-4\"><legend class=\"fieldset-legend\">Page details</legend><label class=\"label\">Title</label>  <input type=\"text\" placeholder=\"My awesome page\" class=\"input\">\n",
       "<label class=\"label\">Slug</label>  <input type=\"text\" placeholder=\"my-awesome-page\" class=\"input\">\n",
       "<label class=\"label\">Author</label>  <input type=\"text\" placeholder=\"Name\" class=\"input\">\n",
       "</fieldset>\n",
       "```"
      ],
      "text/plain": [
       "fieldset((legend(('Page details',),{'class': 'fieldset-legend'}), label(('Title',),{'class': 'label'}), input((),{'type': 'text', 'placeholder': 'My awesome page', 'class': 'input'}), label(('Slug',),{'class': 'label'}), input((),{'type': 'text', 'placeholder': 'my-awesome-page', 'class': 'input'}), label(('Author',),{'class': 'label'}), input((),{'type': 'text', 'placeholder': 'Name', 'class': 'input'})),{'class': 'fieldset bg-base-200 border-base-300 rounded-box w-xs <cjm_fasthtml_tailwind.utilities.borders.BorderWidthFactory object> p-4'})"
      ]
     },
     "execution_count": null,
     "metadata": {},
     "output_type": "execute_result"
    }
   ],
   "source": [
    "#|exports\n",
    "def test_fieldset_multiple_inputs_fasthtml_examples():\n",
    "    \"\"\"Test fieldset with multiple inputs from daisyUI v5 documentation.\"\"\"\n",
    "    from fasthtml.common import Fieldset, Legend, Input, Label\n",
    "    from cjm_fasthtml_tailwind.utilities.sizing import w\n",
    "    from cjm_fasthtml_tailwind.utilities.borders import border\n",
    "    from cjm_fasthtml_tailwind.utilities.spacing import p\n",
    "    from cjm_fasthtml_daisyui.utilities.semantic_colors import bg_dui, border_dui\n",
    "    from cjm_fasthtml_daisyui.utilities.border_radius import border_radius\n",
    "    from cjm_fasthtml_daisyui.components.data_input.text_input import text_input\n",
    "    \n",
    "    # Fieldset with multiple inputs\n",
    "    multiple_inputs_fieldset = Fieldset(\n",
    "        Legend(\"Page details\", cls=str(fieldset_legend)),\n",
    "        Label(\"Title\", cls=str(label)),\n",
    "        Input(type=\"text\", placeholder=\"My awesome page\", cls=str(text_input)),\n",
    "        Label(\"Slug\", cls=str(label)),\n",
    "        Input(type=\"text\", placeholder=\"my-awesome-page\", cls=str(text_input)),\n",
    "        Label(\"Author\", cls=str(label)),\n",
    "        Input(type=\"text\", placeholder=\"Name\", cls=str(text_input)),\n",
    "        cls=combine_classes(\n",
    "            fieldset,\n",
    "            bg_dui.base_200,\n",
    "            border_dui.base_300,\n",
    "            border_radius.box,\n",
    "            w.xs,\n",
    "            border,\n",
    "            p._4\n",
    "        )\n",
    "    )\n",
    "    \n",
    "    # Verify structure\n",
    "    assert multiple_inputs_fieldset.tag == \"fieldset\"\n",
    "    assert \"fieldset\" in multiple_inputs_fieldset.attrs['class']\n",
    "    assert \"bg-base-200\" in multiple_inputs_fieldset.attrs['class']\n",
    "    assert \"border-base-300\" in multiple_inputs_fieldset.attrs['class']\n",
    "    assert \"rounded-box\" in multiple_inputs_fieldset.attrs['class']\n",
    "    assert \"w-xs\" in multiple_inputs_fieldset.attrs['class']\n",
    "    assert \"border\" in multiple_inputs_fieldset.attrs['class']\n",
    "    assert \"p-4\" in multiple_inputs_fieldset.attrs['class']\n",
    "    \n",
    "    # Verify legend\n",
    "    legend_element = multiple_inputs_fieldset.children[0]\n",
    "    assert legend_element.tag == \"legend\"\n",
    "    assert legend_element.attrs['class'] == \"fieldset-legend\"\n",
    "    assert legend_element.children[0] == \"Page details\"\n",
    "    \n",
    "    # Verify first label and input\n",
    "    label1 = multiple_inputs_fieldset.children[1]\n",
    "    assert label1.tag == \"label\"\n",
    "    assert label1.attrs['class'] == \"label\"\n",
    "    assert label1.children[0] == \"Title\"\n",
    "    \n",
    "    input1 = multiple_inputs_fieldset.children[2]\n",
    "    assert input1.tag == \"input\"\n",
    "    assert input1.attrs['type'] == \"text\"\n",
    "    assert input1.attrs['placeholder'] == \"My awesome page\"\n",
    "    assert input1.attrs['class'] == \"input\"\n",
    "    \n",
    "    # Verify second label and input\n",
    "    label2 = multiple_inputs_fieldset.children[3]\n",
    "    assert label2.tag == \"label\"\n",
    "    assert label2.attrs['class'] == \"label\"\n",
    "    assert label2.children[0] == \"Slug\"\n",
    "    \n",
    "    input2 = multiple_inputs_fieldset.children[4]\n",
    "    assert input2.tag == \"input\"\n",
    "    assert input2.attrs['type'] == \"text\"\n",
    "    assert input2.attrs['placeholder'] == \"my-awesome-page\"\n",
    "    assert input2.attrs['class'] == \"input\"\n",
    "    \n",
    "    # Verify third label and input\n",
    "    label3 = multiple_inputs_fieldset.children[5]\n",
    "    assert label3.tag == \"label\"\n",
    "    assert label3.attrs['class'] == \"label\"\n",
    "    assert label3.children[0] == \"Author\"\n",
    "    \n",
    "    input3 = multiple_inputs_fieldset.children[6]\n",
    "    assert input3.tag == \"input\"\n",
    "    assert input3.attrs['type'] == \"text\"\n",
    "    assert input3.attrs['placeholder'] == \"Name\"\n",
    "    assert input3.attrs['class'] == \"input\"\n",
    "    \n",
    "    return multiple_inputs_fieldset\n",
    "\n",
    "# Run the tests\n",
    "test_fieldset_multiple_inputs_fasthtml_examples()"
   ]
  },
  {
   "cell_type": "code",
   "execution_count": null,
   "id": "ad2d932c-79ea-4792-bdaf-5bda859340ca",
   "metadata": {},
   "outputs": [
    {
     "data": {
      "text/html": [
       "\n",
       "<script>\n",
       "document.body.addEventListener('htmx:configRequest', (event) => {\n",
       "    if(event.detail.path.includes('://')) return;\n",
       "    htmx.config.selfRequestsOnly=false;\n",
       "    event.detail.path = `${location.protocol}//${location.hostname}:8000${event.detail.path}`;\n",
       "});\n",
       "</script>"
      ],
      "text/plain": [
       "<IPython.core.display.HTML object>"
      ]
     },
     "metadata": {},
     "output_type": "display_data"
    },
    {
     "data": {
      "text/html": [
       "<iframe src=\"http://localhost:8000/\" style=\"width: 100%; height: auto; border: none;\" onload=\"{\n",
       "        let frame = this;\n",
       "        window.addEventListener('message', function(e) {\n",
       "            if (e.source !== frame.contentWindow) return; // Only proceed if the message is from this iframe\n",
       "            if (e.data.height) frame.style.height = (e.data.height+1) + 'px';\n",
       "        }, false);\n",
       "    }\" allow=\"accelerometer; autoplay; camera; clipboard-read; clipboard-write; display-capture; encrypted-media; fullscreen; gamepad; geolocation; gyroscope; hid; identity-credentials-get; idle-detection; magnetometer; microphone; midi; payment; picture-in-picture; publickey-credentials-get; screen-wake-lock; serial; usb; web-share; xr-spatial-tracking\"></iframe> "
      ],
      "text/plain": [
       "<IPython.core.display.HTML object>"
      ]
     },
     "metadata": {},
     "output_type": "display_data"
    }
   ],
   "source": [
    "#| eval: false\n",
    "#| output: false\n",
    "test_func = test_fieldset_multiple_inputs_fasthtml_examples\n",
    "app, rt = create_test_app(theme=DaisyUITheme.LIGHT)\n",
    "\n",
    "@rt\n",
    "def index():\n",
    "    return create_test_page(test_func.__doc__.title().replace('.', ''), test_func())\n",
    "server = start_test_server(app)\n",
    "display(HTMX())\n",
    "server.stop()"
   ]
  },
  {
   "cell_type": "code",
   "execution_count": null,
   "id": "3035ff66-e4e7-410c-8b1e-86a879f66112",
   "metadata": {},
   "outputs": [
    {
     "data": {
      "text/markdown": [
       "```html\n",
       "<fieldset class=\"fieldset bg-base-200 border-base-300 rounded-box w-xs &lt;cjm_fasthtml_tailwind.utilities.borders.BorderWidthFactory object at 0x7c42d282b850&gt; p-4\"><legend class=\"fieldset-legend\">Settings</legend>  <div class=\"join\">\n",
       "    <input type=\"text\" placeholder=\"Product name\" class=\"input join-item\">\n",
       "<button class=\"btn join-item\">save</button>  </div>\n",
       "</fieldset>\n",
       "```"
      ],
      "text/plain": [
       "fieldset((legend(('Settings',),{'class': 'fieldset-legend'}), div((input((),{'type': 'text', 'placeholder': 'Product name', 'class': 'input join-item'}), button(('save',),{'class': 'btn join-item'})),{'class': 'join'})),{'class': 'fieldset bg-base-200 border-base-300 rounded-box w-xs <cjm_fasthtml_tailwind.utilities.borders.BorderWidthFactory object> p-4'})"
      ]
     },
     "execution_count": null,
     "metadata": {},
     "output_type": "execute_result"
    }
   ],
   "source": [
    "#|exports\n",
    "def test_fieldset_join_items_fasthtml_examples():\n",
    "    \"\"\"Test fieldset with multiple join items from daisyUI v5 documentation.\"\"\"\n",
    "    from fasthtml.common import Fieldset, Legend, Input, Button, Div\n",
    "    from cjm_fasthtml_tailwind.utilities.sizing import w\n",
    "    from cjm_fasthtml_tailwind.utilities.borders import border\n",
    "    from cjm_fasthtml_tailwind.utilities.spacing import p\n",
    "    from cjm_fasthtml_daisyui.utilities.semantic_colors import bg_dui, border_dui\n",
    "    from cjm_fasthtml_daisyui.utilities.border_radius import border_radius\n",
    "    from cjm_fasthtml_daisyui.components.data_input.text_input import text_input\n",
    "    from cjm_fasthtml_daisyui.components.actions.button import btn\n",
    "    from cjm_fasthtml_daisyui.components.layout.join import join, join_item\n",
    "    \n",
    "    # Fieldset with join items\n",
    "    join_fieldset = Fieldset(\n",
    "        Legend(\"Settings\", cls=str(fieldset_legend)),\n",
    "        Div(\n",
    "            Input(type=\"text\", placeholder=\"Product name\", cls=combine_classes(text_input, join_item)),\n",
    "            Button(\"save\", cls=combine_classes(btn, join_item)),\n",
    "            cls=str(join)\n",
    "        ),\n",
    "        cls=combine_classes(\n",
    "            fieldset,\n",
    "            bg_dui.base_200,\n",
    "            border_dui.base_300,\n",
    "            border_radius.box,\n",
    "            w.xs,\n",
    "            border,\n",
    "            p._4\n",
    "        )\n",
    "    )\n",
    "    \n",
    "    # Verify structure\n",
    "    assert join_fieldset.tag == \"fieldset\"\n",
    "    assert \"fieldset\" in join_fieldset.attrs['class']\n",
    "    assert \"bg-base-200\" in join_fieldset.attrs['class']\n",
    "    assert \"border-base-300\" in join_fieldset.attrs['class']\n",
    "    assert \"rounded-box\" in join_fieldset.attrs['class']\n",
    "    assert \"w-xs\" in join_fieldset.attrs['class']\n",
    "    assert \"border\" in join_fieldset.attrs['class']\n",
    "    assert \"p-4\" in join_fieldset.attrs['class']\n",
    "    \n",
    "    # Verify legend\n",
    "    legend_element = join_fieldset.children[0]\n",
    "    assert legend_element.tag == \"legend\"\n",
    "    assert legend_element.attrs['class'] == \"fieldset-legend\"\n",
    "    assert legend_element.children[0] == \"Settings\"\n",
    "    \n",
    "    # Verify join container\n",
    "    join_container = join_fieldset.children[1]\n",
    "    assert join_container.tag == \"div\"\n",
    "    assert join_container.attrs['class'] == \"join\"\n",
    "    \n",
    "    # Verify input in join\n",
    "    join_input = join_container.children[0]\n",
    "    assert join_input.tag == \"input\"\n",
    "    assert join_input.attrs['type'] == \"text\"\n",
    "    assert join_input.attrs['placeholder'] == \"Product name\"\n",
    "    assert \"input\" in join_input.attrs['class']\n",
    "    assert \"join-item\" in join_input.attrs['class']\n",
    "    \n",
    "    # Verify button in join\n",
    "    join_button = join_container.children[1]\n",
    "    assert join_button.tag == \"button\"\n",
    "    assert join_button.children[0] == \"save\"\n",
    "    assert \"btn\" in join_button.attrs['class']\n",
    "    assert \"join-item\" in join_button.attrs['class']\n",
    "    \n",
    "    return join_fieldset\n",
    "\n",
    "# Run the tests\n",
    "test_fieldset_join_items_fasthtml_examples()"
   ]
  },
  {
   "cell_type": "code",
   "execution_count": null,
   "id": "4666a5a3-26bb-4d91-b5be-f941df8f9d2f",
   "metadata": {},
   "outputs": [
    {
     "data": {
      "text/html": [
       "\n",
       "<script>\n",
       "document.body.addEventListener('htmx:configRequest', (event) => {\n",
       "    if(event.detail.path.includes('://')) return;\n",
       "    htmx.config.selfRequestsOnly=false;\n",
       "    event.detail.path = `${location.protocol}//${location.hostname}:8000${event.detail.path}`;\n",
       "});\n",
       "</script>"
      ],
      "text/plain": [
       "<IPython.core.display.HTML object>"
      ]
     },
     "metadata": {},
     "output_type": "display_data"
    },
    {
     "data": {
      "text/html": [
       "<iframe src=\"http://localhost:8000/\" style=\"width: 100%; height: auto; border: none;\" onload=\"{\n",
       "        let frame = this;\n",
       "        window.addEventListener('message', function(e) {\n",
       "            if (e.source !== frame.contentWindow) return; // Only proceed if the message is from this iframe\n",
       "            if (e.data.height) frame.style.height = (e.data.height+1) + 'px';\n",
       "        }, false);\n",
       "    }\" allow=\"accelerometer; autoplay; camera; clipboard-read; clipboard-write; display-capture; encrypted-media; fullscreen; gamepad; geolocation; gyroscope; hid; identity-credentials-get; idle-detection; magnetometer; microphone; midi; payment; picture-in-picture; publickey-credentials-get; screen-wake-lock; serial; usb; web-share; xr-spatial-tracking\"></iframe> "
      ],
      "text/plain": [
       "<IPython.core.display.HTML object>"
      ]
     },
     "metadata": {},
     "output_type": "display_data"
    }
   ],
   "source": [
    "#| eval: false\n",
    "#| output: false\n",
    "test_func = test_fieldset_join_items_fasthtml_examples\n",
    "app, rt = create_test_app(theme=DaisyUITheme.LIGHT)\n",
    "\n",
    "@rt\n",
    "def index():\n",
    "    return create_test_page(test_func.__doc__.title().replace('.', ''), test_func())\n",
    "server = start_test_server(app)\n",
    "display(HTMX())\n",
    "server.stop()"
   ]
  },
  {
   "cell_type": "code",
   "execution_count": null,
   "id": "85d72161-e718-4c66-bc59-a3569b7f7616",
   "metadata": {},
   "outputs": [
    {
     "data": {
      "text/markdown": [
       "```html\n",
       "<fieldset class=\"fieldset bg-base-200 border-base-300 rounded-box w-xs &lt;cjm_fasthtml_tailwind.utilities.borders.BorderWidthFactory object at 0x7c42d282b850&gt; p-4\"><legend class=\"fieldset-legend\">Login</legend><label class=\"label\">Email</label>  <input type=\"email\" placeholder=\"Email\" class=\"input\">\n",
       "<label class=\"label\">Password</label>  <input type=\"password\" placeholder=\"Password\" class=\"input\">\n",
       "<button class=\"btn btn-neutral mt-4\">Login</button></fieldset>\n",
       "```"
      ],
      "text/plain": [
       "fieldset((legend(('Login',),{'class': 'fieldset-legend'}), label(('Email',),{'class': 'label'}), input((),{'type': 'email', 'placeholder': 'Email', 'class': 'input'}), label(('Password',),{'class': 'label'}), input((),{'type': 'password', 'placeholder': 'Password', 'class': 'input'}), button(('Login',),{'class': 'btn btn-neutral mt-4'})),{'class': 'fieldset bg-base-200 border-base-300 rounded-box w-xs <cjm_fasthtml_tailwind.utilities.borders.BorderWidthFactory object> p-4'})"
      ]
     },
     "execution_count": null,
     "metadata": {},
     "output_type": "execute_result"
    }
   ],
   "source": [
    "#|exports\n",
    "def test_fieldset_login_form_fasthtml_examples():\n",
    "    \"\"\"Test login form with fieldset from daisyUI v5 documentation.\"\"\"\n",
    "    from fasthtml.common import Fieldset, Legend, Input, Label, Button\n",
    "    from cjm_fasthtml_tailwind.utilities.sizing import w\n",
    "    from cjm_fasthtml_tailwind.utilities.borders import border\n",
    "    from cjm_fasthtml_tailwind.utilities.spacing import p, m\n",
    "    from cjm_fasthtml_daisyui.utilities.semantic_colors import bg_dui, border_dui\n",
    "    from cjm_fasthtml_daisyui.utilities.border_radius import border_radius\n",
    "    from cjm_fasthtml_daisyui.components.data_input.text_input import text_input\n",
    "    from cjm_fasthtml_daisyui.components.actions.button import btn, btn_colors\n",
    "    \n",
    "    # Login form with fieldset\n",
    "    login_fieldset = Fieldset(\n",
    "        Legend(\"Login\", cls=str(fieldset_legend)),\n",
    "        Label(\"Email\", cls=str(label)),\n",
    "        Input(type=\"email\", placeholder=\"Email\", cls=str(text_input)),\n",
    "        Label(\"Password\", cls=str(label)),\n",
    "        Input(type=\"password\", placeholder=\"Password\", cls=str(text_input)),\n",
    "        Button(\"Login\", cls=combine_classes(btn, btn_colors.neutral, m.t._4)),\n",
    "        cls=combine_classes(\n",
    "            fieldset,\n",
    "            bg_dui.base_200,\n",
    "            border_dui.base_300,\n",
    "            border_radius.box,\n",
    "            w.xs,\n",
    "            border,\n",
    "            p._4\n",
    "        )\n",
    "    )\n",
    "    \n",
    "    # Verify structure\n",
    "    assert login_fieldset.tag == \"fieldset\"\n",
    "    assert \"fieldset\" in login_fieldset.attrs['class']\n",
    "    assert \"bg-base-200\" in login_fieldset.attrs['class']\n",
    "    assert \"border-base-300\" in login_fieldset.attrs['class']\n",
    "    assert \"rounded-box\" in login_fieldset.attrs['class']\n",
    "    assert \"w-xs\" in login_fieldset.attrs['class']\n",
    "    assert \"border\" in login_fieldset.attrs['class']\n",
    "    assert \"p-4\" in login_fieldset.attrs['class']\n",
    "    \n",
    "    # Verify legend\n",
    "    legend_element = login_fieldset.children[0]\n",
    "    assert legend_element.tag == \"legend\"\n",
    "    assert legend_element.attrs['class'] == \"fieldset-legend\"\n",
    "    assert legend_element.children[0] == \"Login\"\n",
    "    \n",
    "    # Verify email label and input\n",
    "    email_label = login_fieldset.children[1]\n",
    "    assert email_label.tag == \"label\"\n",
    "    assert email_label.attrs['class'] == \"label\"\n",
    "    assert email_label.children[0] == \"Email\"\n",
    "    \n",
    "    email_input = login_fieldset.children[2]\n",
    "    assert email_input.tag == \"input\"\n",
    "    assert email_input.attrs['type'] == \"email\"\n",
    "    assert email_input.attrs['placeholder'] == \"Email\"\n",
    "    assert email_input.attrs['class'] == \"input\"\n",
    "    \n",
    "    # Verify password label and input\n",
    "    password_label = login_fieldset.children[3]\n",
    "    assert password_label.tag == \"label\"\n",
    "    assert password_label.attrs['class'] == \"label\"\n",
    "    assert password_label.children[0] == \"Password\"\n",
    "    \n",
    "    password_input = login_fieldset.children[4]\n",
    "    assert password_input.tag == \"input\"\n",
    "    assert password_input.attrs['type'] == \"password\"\n",
    "    assert password_input.attrs['placeholder'] == \"Password\"\n",
    "    assert password_input.attrs['class'] == \"input\"\n",
    "    \n",
    "    # Verify login button\n",
    "    login_button = login_fieldset.children[5]\n",
    "    assert login_button.tag == \"button\"\n",
    "    assert login_button.children[0] == \"Login\"\n",
    "    assert \"btn\" in login_button.attrs['class']\n",
    "    assert \"btn-neutral\" in login_button.attrs['class']\n",
    "    assert \"mt-4\" in login_button.attrs['class']\n",
    "    \n",
    "    return login_fieldset\n",
    "\n",
    "# Run the tests\n",
    "test_fieldset_login_form_fasthtml_examples()"
   ]
  },
  {
   "cell_type": "code",
   "execution_count": null,
   "id": "214654cc-9758-48f9-92e2-0892029c4512",
   "metadata": {},
   "outputs": [
    {
     "data": {
      "text/html": [
       "\n",
       "<script>\n",
       "document.body.addEventListener('htmx:configRequest', (event) => {\n",
       "    if(event.detail.path.includes('://')) return;\n",
       "    htmx.config.selfRequestsOnly=false;\n",
       "    event.detail.path = `${location.protocol}//${location.hostname}:8000${event.detail.path}`;\n",
       "});\n",
       "</script>"
      ],
      "text/plain": [
       "<IPython.core.display.HTML object>"
      ]
     },
     "metadata": {},
     "output_type": "display_data"
    },
    {
     "data": {
      "text/html": [
       "<iframe src=\"http://localhost:8000/\" style=\"width: 100%; height: auto; border: none;\" onload=\"{\n",
       "        let frame = this;\n",
       "        window.addEventListener('message', function(e) {\n",
       "            if (e.source !== frame.contentWindow) return; // Only proceed if the message is from this iframe\n",
       "            if (e.data.height) frame.style.height = (e.data.height+1) + 'px';\n",
       "        }, false);\n",
       "    }\" allow=\"accelerometer; autoplay; camera; clipboard-read; clipboard-write; display-capture; encrypted-media; fullscreen; gamepad; geolocation; gyroscope; hid; identity-credentials-get; idle-detection; magnetometer; microphone; midi; payment; picture-in-picture; publickey-credentials-get; screen-wake-lock; serial; usb; web-share; xr-spatial-tracking\"></iframe> "
      ],
      "text/plain": [
       "<IPython.core.display.HTML object>"
      ]
     },
     "metadata": {},
     "output_type": "display_data"
    }
   ],
   "source": [
    "#| eval: false\n",
    "#| output: false\n",
    "test_func = test_fieldset_login_form_fasthtml_examples\n",
    "app, rt = create_test_app(theme=DaisyUITheme.LIGHT)\n",
    "\n",
    "@rt\n",
    "def index():\n",
    "    return create_test_page(test_func.__doc__.title().replace('.', ''), test_func())\n",
    "server = start_test_server(app)\n",
    "display(HTMX())\n",
    "server.stop()"
   ]
  },
  {
   "cell_type": "code",
   "execution_count": null,
   "id": "a9d78aa3-0be8-49e6-8bfb-cb9a232ee1ee",
   "metadata": {},
   "outputs": [],
   "source": []
  },
  {
   "cell_type": "code",
   "execution_count": null,
   "id": "01785a18-9bb0-4dbc-9eae-04addf6dede9",
   "metadata": {},
   "outputs": [],
   "source": []
  },
  {
   "cell_type": "code",
   "execution_count": null,
   "id": "43a3d5aa-4f07-48f4-b7c3-5c63612f0fb2",
   "metadata": {},
   "outputs": [],
   "source": []
  },
  {
   "cell_type": "code",
   "execution_count": null,
   "id": "248adc40-6e77-4203-9830-de838e25a00a",
   "metadata": {},
   "outputs": [],
   "source": []
  },
  {
   "cell_type": "code",
   "execution_count": null,
   "id": "a2029d6d-bf22-4e16-87e1-d609762dc867",
   "metadata": {},
   "outputs": [],
   "source": []
  },
  {
   "cell_type": "code",
   "execution_count": null,
   "id": "c9dfaad9-504c-4853-886b-2d1adb1cc3a0",
   "metadata": {},
   "outputs": [],
   "source": []
  },
  {
   "cell_type": "code",
   "execution_count": null,
   "id": "454d5b84-fc57-44ab-a6f0-3123333998cb",
   "metadata": {},
   "outputs": [],
   "source": []
  },
  {
   "cell_type": "code",
   "execution_count": null,
   "id": "d471d21b-6fe5-4c63-90be-5176c4cbd08b",
   "metadata": {},
   "outputs": [],
   "source": []
  },
  {
   "cell_type": "code",
   "execution_count": null,
   "id": "73b88b7e-0be6-4a82-9c02-f3df8af20015",
   "metadata": {},
   "outputs": [],
   "source": []
  },
  {
   "cell_type": "code",
   "execution_count": null,
   "id": "7ab8257a-c30b-45b6-a784-729b67686791",
   "metadata": {},
   "outputs": [],
   "source": [
    "#| hide\n",
    "import nbdev; nbdev.nbdev_export()"
   ]
  }
 ],
 "metadata": {
  "kernelspec": {
   "display_name": "python3",
   "language": "python",
   "name": "python3"
  }
 },
 "nbformat": 4,
 "nbformat_minor": 5
}
