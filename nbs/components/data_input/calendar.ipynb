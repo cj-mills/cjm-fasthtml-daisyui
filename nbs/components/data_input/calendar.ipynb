{
 "cells": [
  {
   "cell_type": "markdown",
   "id": "7c51b46b-ece1-456d-8e84-7de122e72b62",
   "metadata": {},
   "source": [
    "# calendar\n",
    "\n",
    "> Calendar includes styles for different calendar libraries."
   ]
  },
  {
   "cell_type": "code",
   "execution_count": null,
   "id": "25536bdc-e099-477f-9e2d-a5f71df5dff2",
   "metadata": {},
   "outputs": [],
   "source": [
    "#| default_exp components.data_input.calendar"
   ]
  },
  {
   "cell_type": "code",
   "execution_count": null,
   "id": "2e6f21ce-7766-455a-8ebb-df2c17e7d977",
   "metadata": {},
   "outputs": [],
   "source": [
    "#| hide\n",
    "from nbdev.showdoc import *"
   ]
  },
  {
   "cell_type": "code",
   "execution_count": null,
   "id": "045c6538-403e-4222-b3bb-db20f188524d",
   "metadata": {},
   "outputs": [],
   "source": [
    "#| export\n",
    "from cjm_fasthtml_tailwind.core.base import (\n",
    "    SingleValueFactory, combine_classes\n",
    ")\n",
    "from fasthtml.common import Div\n",
    "from fasthtml.jupyter import JupyUvi, HTMX\n",
    "from cjm_fasthtml_daisyui.core.testing import create_test_app, create_test_page, start_test_server\n",
    "from cjm_fasthtml_daisyui.core.themes import DaisyUITheme\n",
    "from IPython.display import display"
   ]
  },
  {
   "cell_type": "markdown",
   "id": "cc370e62-62eb-4ff9-ba46-a62242a22d50",
   "metadata": {},
   "source": [
    "### Base Calendars"
   ]
  },
  {
   "cell_type": "code",
   "execution_count": null,
   "id": "c802d106-49fb-4d34-ba04-5f54c88e165b",
   "metadata": {},
   "outputs": [],
   "source": [
    "#| exports\n",
    "cally = SingleValueFactory(\"cally\", \"Base calendar component for Cally web component\") # Base Cally calendar component\n",
    "pika_single = SingleValueFactory(\"pika-single\", \"Base calendar component for the input field that opens Pikaday calendar\") # Base Pikaday calender component\n",
    "react_day_picker = SingleValueFactory(\"react-day-picker\", \"Base calendar component for the DayPicker component\") # Base DayPicker calendar component"
   ]
  },
  {
   "cell_type": "markdown",
   "id": "b9860f19-7d4b-4095-8efa-ff3941d19f27",
   "metadata": {},
   "source": [
    "### Calendary Test Examples"
   ]
  },
  {
   "cell_type": "code",
   "execution_count": null,
   "id": "636c6bcd-2176-4191-aa39-c937893243e2",
   "metadata": {},
   "outputs": [],
   "source": [
    "#|exports\n",
    "def test_calendar_basic_examples():\n",
    "    \"\"\"Test basic calendar utilities.\"\"\"\n",
    "    # Basic calendar\n",
    "    assert str(cally) == \"cally\"\n",
    "    assert str(pika_single) == \"pika-single\"\n",
    "    assert str(react_day_picker) == \"react-day-picker\"\n",
    "    \n",
    "    # Test with modifiers\n",
    "    assert str(cally.hover) == \"hover:cally\"\n",
    "    assert str(pika_single.md) == \"md:pika-single\"\n",
    "    assert str(react_day_picker.dark) == \"dark:react-day-picker\"\n",
    "\n",
    "# Run the tests\n",
    "test_calendar_basic_examples()"
   ]
  },
  {
   "cell_type": "code",
   "execution_count": null,
   "id": "b29f95cc-94f9-4214-8198-faa19abae289",
   "metadata": {},
   "outputs": [
    {
     "data": {
      "text/markdown": [
       "```html\n",
       "<div>\n",
       "<script type=\"module\" src=\"https://unpkg.com/cally\"></script><calendar-date class=\"cally bg-base-100 border border-base-300 shadow-lg rounded-box\"><svg xmlns=\"http://www.w3.org/2000/svg\" viewbox=\"0 0 24 24\" aria-label=\"Previous\" slot=\"previous\" class=\"fill-current size-4\"><path d=\"M15.75 19.5 8.25 12l7.5-7.5\" fill=\"currentColor\"></path></svg><svg xmlns=\"http://www.w3.org/2000/svg\" viewbox=\"0 0 24 24\" aria-label=\"Next\" slot=\"next\" class=\"fill-current size-4\"><path d=\"m8.25 4.5 7.5 7.5-7.5 7.5\" fill=\"currentColor\"></path></svg><calendar-month></calendar-month></calendar-date></div>\n",
       "\n",
       "```"
      ],
      "text/plain": [
       "div((script(('',),{'type': 'module', 'src': 'https://unpkg.com/cally'}), calendar-date((svg((path((),{'d': 'M15.75 19.5 8.25 12l7.5-7.5', 'fill': 'currentColor'}),),{'xmlns': 'http://www.w3.org/2000/svg', 'viewbox': '0 0 24 24', 'aria-label': 'Previous', 'slot': 'previous', 'class': 'fill-current size-4'}), svg((path((),{'d': 'm8.25 4.5 7.5 7.5-7.5 7.5', 'fill': 'currentColor'}),),{'xmlns': 'http://www.w3.org/2000/svg', 'viewbox': '0 0 24 24', 'aria-label': 'Next', 'slot': 'next', 'class': 'fill-current size-4'}), calendar-month((),{})),{'class': 'cally bg-base-100 border border-base-300 shadow-lg rounded-box'})),{})"
      ]
     },
     "execution_count": null,
     "metadata": {},
     "output_type": "execute_result"
    }
   ],
   "source": [
    "#|exports\n",
    "def test_calendar_cally_basic_fasthtml_examples():\n",
    "    \"\"\"Test Cally calendar example from daisyUI v5 documentation.\"\"\"\n",
    "    from fasthtml.common import Div, Script\n",
    "    from fasthtml.svg import Svg, Path\n",
    "    from cjm_fasthtml_tailwind.utilities.sizing import size_util\n",
    "    from cjm_fasthtml_tailwind.utilities.svg import fill\n",
    "    from cjm_fasthtml_tailwind.utilities.borders import border\n",
    "    from cjm_fasthtml_tailwind.utilities.effects import shadow\n",
    "    from cjm_fasthtml_tailwind.core.base import SingleValueFactory\n",
    "    from cjm_fasthtml_daisyui.core.utility_classes import bg_dui, border_dui, border_radius\n",
    "\n",
    "    from fasthtml.components import Calendar_date, Calendar_month # Automatic creation of custom FT components\n",
    "    \n",
    "    \n",
    "    # Create navigation icons\n",
    "    prev_icon = Svg(\n",
    "        Path(\n",
    "            fill=\"currentColor\",\n",
    "            d=\"M15.75 19.5 8.25 12l7.5-7.5\"\n",
    "        ),\n",
    "        aria_label=\"Previous\",\n",
    "        cls=combine_classes(fill.current, size_util._4),\n",
    "        slot=\"previous\",\n",
    "        xmlns=\"http://www.w3.org/2000/svg\",\n",
    "        viewBox=\"0 0 24 24\"\n",
    "    )\n",
    "    \n",
    "    next_icon = Svg(\n",
    "        Path(\n",
    "            fill=\"currentColor\",\n",
    "            d=\"m8.25 4.5 7.5 7.5-7.5 7.5\"\n",
    "        ),\n",
    "        aria_label=\"Next\",\n",
    "        cls=combine_classes(fill.current, size_util._4),\n",
    "        slot=\"next\",\n",
    "        xmlns=\"http://www.w3.org/2000/svg\",\n",
    "        viewBox=\"0 0 24 24\"\n",
    "    )\n",
    "    \n",
    "    # Create Cally calendar\n",
    "    calendar = Calendar_date(\n",
    "        prev_icon,\n",
    "        next_icon,\n",
    "        Calendar_month(),\n",
    "        cls=combine_classes(cally, bg_dui.base_100, border(), border_dui.base_300, shadow.lg, border_radius.box)\n",
    "    )\n",
    "    \n",
    "    # Add script to import Cally web component\n",
    "    script = Script(\n",
    "        type=\"module\",\n",
    "        src=\"https://unpkg.com/cally\"\n",
    "    )\n",
    "    \n",
    "    # Verify structure\n",
    "    assert calendar.tag == \"calendar-date\"\n",
    "    assert \"cally\" in calendar.attrs['class']\n",
    "    assert \"bg-base-100\" in calendar.attrs['class']\n",
    "    assert \"border\" in calendar.attrs['class']\n",
    "    assert \"border-base-300\" in calendar.attrs['class']\n",
    "    assert \"shadow-lg\" in calendar.attrs['class']\n",
    "    assert \"rounded-box\" in calendar.attrs['class']\n",
    "    \n",
    "    # Check children\n",
    "    assert len(calendar.children) == 3  # prev icon, next icon, calendar-month\n",
    "    \n",
    "    # Check prev icon\n",
    "    assert calendar.children[0].tag == \"svg\"\n",
    "    assert calendar.children[0].attrs['aria-label'] == \"Previous\"\n",
    "    assert calendar.children[0].attrs['slot'] == \"previous\"\n",
    "    assert \"fill-current\" in calendar.children[0].attrs['class']\n",
    "    assert \"size-4\" in calendar.children[0].attrs['class']\n",
    "    \n",
    "    # Check next icon\n",
    "    assert calendar.children[1].tag == \"svg\"\n",
    "    assert calendar.children[1].attrs['aria-label'] == \"Next\"\n",
    "    assert calendar.children[1].attrs['slot'] == \"next\"\n",
    "    \n",
    "    # Check calendar-month\n",
    "    assert calendar.children[2].tag == \"calendar-month\"\n",
    "    \n",
    "    # Return the calendar with script\n",
    "    return Div(\n",
    "        script,\n",
    "        calendar\n",
    "    )\n",
    "\n",
    "# Run the tests\n",
    "test_calendar_cally_basic_fasthtml_examples()"
   ]
  },
  {
   "cell_type": "code",
   "execution_count": null,
   "id": "6caf709d-2448-4246-a214-68b731557c00",
   "metadata": {},
   "outputs": [
    {
     "data": {
      "text/html": [
       "\n",
       "<script>\n",
       "document.body.addEventListener('htmx:configRequest', (event) => {\n",
       "    if(event.detail.path.includes('://')) return;\n",
       "    htmx.config.selfRequestsOnly=false;\n",
       "    event.detail.path = `${location.protocol}//${location.hostname}:8000${event.detail.path}`;\n",
       "});\n",
       "</script>"
      ],
      "text/plain": [
       "<IPython.core.display.HTML object>"
      ]
     },
     "metadata": {},
     "output_type": "display_data"
    },
    {
     "data": {
      "text/html": [
       "<iframe src=\"http://localhost:8000/\" style=\"width: 100%; height: auto; border: none;\" onload=\"{\n",
       "        let frame = this;\n",
       "        window.addEventListener('message', function(e) {\n",
       "            if (e.source !== frame.contentWindow) return; // Only proceed if the message is from this iframe\n",
       "            if (e.data.height) frame.style.height = (e.data.height+1) + 'px';\n",
       "        }, false);\n",
       "    }\" allow=\"accelerometer; autoplay; camera; clipboard-read; clipboard-write; display-capture; encrypted-media; fullscreen; gamepad; geolocation; gyroscope; hid; identity-credentials-get; idle-detection; magnetometer; microphone; midi; payment; picture-in-picture; publickey-credentials-get; screen-wake-lock; serial; usb; web-share; xr-spatial-tracking\"></iframe> "
      ],
      "text/plain": [
       "<IPython.core.display.HTML object>"
      ]
     },
     "metadata": {},
     "output_type": "display_data"
    }
   ],
   "source": [
    "#| eval: false\n",
    "#| output: false\n",
    "test_func = test_calendar_cally_basic_fasthtml_examples\n",
    "app, rt = create_test_app(theme=DaisyUITheme.LIGHT)\n",
    "\n",
    "@rt\n",
    "def index():\n",
    "    return create_test_page(test_func.__doc__.title().replace('.', ''), test_func())\n",
    "server = start_test_server(app)\n",
    "display(HTMX())\n",
    "server.stop()"
   ]
  },
  {
   "cell_type": "code",
   "execution_count": null,
   "id": "8a8b022d-9a26-47ae-9061-3ec8bdef5406",
   "metadata": {},
   "outputs": [
    {
     "data": {
      "text/markdown": [
       "```html\n",
       "<div>\n",
       "<script type=\"module\" src=\"https://unpkg.com/cally\"></script><button popovertarget=\"cally-popover1\" id=\"cally1\" class=\"input\" style=\"anchor-name:--cally1\" name=\"cally1\">Pick a date</button>  <div popover id=\"cally-popover1\" class=\"dropdown bg-base-100 rounded-box shadow-lg\" style=\"position-anchor:--cally1\">\n",
       "<calendar-date onchange=\"{document.getElementById('cally1').innerText = this.value}\" class=\"cally\"><svg xmlns=\"http://www.w3.org/2000/svg\" viewbox=\"0 0 24 24\" aria-label=\"Previous\" slot=\"previous\" class=\"fill-current size-4\"><path d=\"M15.75 19.5 8.25 12l7.5-7.5\"></path></svg><svg xmlns=\"http://www.w3.org/2000/svg\" viewbox=\"0 0 24 24\" aria-label=\"Next\" slot=\"next\" class=\"fill-current size-4\"><path d=\"m8.25 4.5 7.5 7.5-7.5 7.5\"></path></svg><calendar-month></calendar-month></calendar-date>  </div>\n",
       "</div>\n",
       "\n",
       "```"
      ],
      "text/plain": [
       "div((script(('',),{'type': 'module', 'src': 'https://unpkg.com/cally'}), button(('Pick a date',),{'popovertarget': 'cally-popover1', 'id': 'cally1', 'class': 'input', 'style': 'anchor-name:--cally1', 'name': 'cally1'}), div((calendar-date((svg((path((),{'d': 'M15.75 19.5 8.25 12l7.5-7.5'}),),{'xmlns': 'http://www.w3.org/2000/svg', 'viewbox': '0 0 24 24', 'aria-label': 'Previous', 'slot': 'previous', 'class': 'fill-current size-4'}), svg((path((),{'d': 'm8.25 4.5 7.5 7.5-7.5 7.5'}),),{'xmlns': 'http://www.w3.org/2000/svg', 'viewbox': '0 0 24 24', 'aria-label': 'Next', 'slot': 'next', 'class': 'fill-current size-4'}), calendar-month((),{})),{'onchange': \"{document.getElementById('cally1').innerText = this.value}\", 'class': 'cally'}),),{'popover': True, 'id': 'cally-popover1', 'class': 'dropdown bg-base-100 rounded-box shadow-lg', 'style': 'position-anchor:--cally1'})),{})"
      ]
     },
     "execution_count": null,
     "metadata": {},
     "output_type": "execute_result"
    }
   ],
   "source": [
    "#|exports\n",
    "def test_cally_date_picker_fasthtml_examples():\n",
    "    \"\"\"Test Cally date picker example from daisyUI v5 documentation.\"\"\"\n",
    "    from fasthtml.common import Button, Div, Script\n",
    "    from fasthtml.svg import Svg, Path\n",
    "    from cjm_fasthtml_tailwind.utilities.sizing import size_util\n",
    "    from cjm_fasthtml_tailwind.utilities.svg import fill\n",
    "    from cjm_fasthtml_tailwind.utilities.effects import shadow\n",
    "    from cjm_fasthtml_daisyui.components.data_input.text_input import text_input, text_input_styles\n",
    "    from cjm_fasthtml_daisyui.components.actions.dropdown import dropdown\n",
    "    from cjm_fasthtml_daisyui.core.utility_classes import bg_dui, border_radius\n",
    "    \n",
    "    from fasthtml.components import Calendar_date, Calendar_month  # Automatic creation of custom FT components\n",
    "    \n",
    "    # Create navigation icons\n",
    "    prev_icon = Svg(\n",
    "        Path(\n",
    "            d=\"M15.75 19.5 8.25 12l7.5-7.5\"\n",
    "        ),\n",
    "        aria_label=\"Previous\",\n",
    "        cls=combine_classes(fill.current, size_util._4),\n",
    "        slot=\"previous\",\n",
    "        xmlns=\"http://www.w3.org/2000/svg\",\n",
    "        viewBox=\"0 0 24 24\"\n",
    "    )\n",
    "    \n",
    "    next_icon = Svg(\n",
    "        Path(\n",
    "            d=\"m8.25 4.5 7.5 7.5-7.5 7.5\"\n",
    "        ),\n",
    "        aria_label=\"Next\",\n",
    "        cls=combine_classes(fill.current, size_util._4),\n",
    "        slot=\"next\",\n",
    "        xmlns=\"http://www.w3.org/2000/svg\",\n",
    "        viewBox=\"0 0 24 24\"\n",
    "    )\n",
    "    \n",
    "    # Create date picker button\n",
    "    picker_button = Button(\n",
    "        \"Pick a date\",\n",
    "        popovertarget=\"cally-popover1\",\n",
    "        cls=combine_classes(text_input),\n",
    "        id=\"cally1\",\n",
    "        style=\"anchor-name:--cally1\"\n",
    "    )\n",
    "    \n",
    "    # Create popover with calendar\n",
    "    popover = Div(\n",
    "        Calendar_date(\n",
    "            prev_icon,\n",
    "            next_icon,\n",
    "            Calendar_month(),\n",
    "            cls=str(cally),\n",
    "            onchange=\"{document.getElementById('cally1').innerText = this.value}\"\n",
    "        ),\n",
    "        popover=True,\n",
    "        id=\"cally-popover1\",\n",
    "        cls=combine_classes(dropdown, bg_dui.base_100, border_radius.box, shadow.lg),\n",
    "        style=\"position-anchor:--cally1\"\n",
    "    )\n",
    "    \n",
    "    # Add script to import Cally web component\n",
    "    script = Script(\n",
    "        type=\"module\",\n",
    "        src=\"https://unpkg.com/cally\"\n",
    "    )\n",
    "    \n",
    "    # Verify button structure\n",
    "    assert picker_button.tag == \"button\"\n",
    "    assert picker_button.attrs['popovertarget'] == \"cally-popover1\"\n",
    "    assert \"input\" in picker_button.attrs['class']\n",
    "    assert picker_button.attrs['id'] == \"cally1\"\n",
    "    assert picker_button.attrs['style'] == \"anchor-name:--cally1\"\n",
    "    assert picker_button.children[0] == \"Pick a date\"\n",
    "    \n",
    "    # Verify popover structure\n",
    "    assert popover.tag == \"div\"\n",
    "    assert popover.attrs['popover'] == True\n",
    "    assert popover.attrs['id'] == \"cally-popover1\"\n",
    "    assert \"dropdown\" in popover.attrs['class']\n",
    "    assert \"bg-base-100\" in popover.attrs['class']\n",
    "    assert \"rounded-box\" in popover.attrs['class']\n",
    "    assert \"shadow-lg\" in popover.attrs['class']\n",
    "    assert popover.attrs['style'] == \"position-anchor:--cally1\"\n",
    "    \n",
    "    # Verify calendar-date inside popover\n",
    "    calendar_date = popover.children[0]\n",
    "    assert calendar_date.tag == \"calendar-date\"\n",
    "    assert calendar_date.attrs['class'] == \"cally\"\n",
    "    assert calendar_date.attrs['onchange'] == \"{document.getElementById('cally1').innerText = this.value}\"\n",
    "    assert len(calendar_date.children) == 3  # prev icon, next icon, calendar-month\n",
    "    \n",
    "    # Return the complete date picker setup\n",
    "    return Div(\n",
    "        script,\n",
    "        picker_button,\n",
    "        popover\n",
    "    )\n",
    "\n",
    "# Run the tests\n",
    "test_cally_date_picker_fasthtml_examples()"
   ]
  },
  {
   "cell_type": "code",
   "execution_count": null,
   "id": "59194f07-69f3-40b5-808f-3e270cda3fe7",
   "metadata": {},
   "outputs": [
    {
     "data": {
      "text/html": [
       "\n",
       "<script>\n",
       "document.body.addEventListener('htmx:configRequest', (event) => {\n",
       "    if(event.detail.path.includes('://')) return;\n",
       "    htmx.config.selfRequestsOnly=false;\n",
       "    event.detail.path = `${location.protocol}//${location.hostname}:8000${event.detail.path}`;\n",
       "});\n",
       "</script>"
      ],
      "text/plain": [
       "<IPython.core.display.HTML object>"
      ]
     },
     "metadata": {},
     "output_type": "display_data"
    },
    {
     "data": {
      "text/html": [
       "<iframe src=\"http://localhost:8000/\" style=\"width: 100%; height: auto; border: none;\" onload=\"{\n",
       "        let frame = this;\n",
       "        window.addEventListener('message', function(e) {\n",
       "            if (e.source !== frame.contentWindow) return; // Only proceed if the message is from this iframe\n",
       "            if (e.data.height) frame.style.height = (e.data.height+1) + 'px';\n",
       "        }, false);\n",
       "    }\" allow=\"accelerometer; autoplay; camera; clipboard-read; clipboard-write; display-capture; encrypted-media; fullscreen; gamepad; geolocation; gyroscope; hid; identity-credentials-get; idle-detection; magnetometer; microphone; midi; payment; picture-in-picture; publickey-credentials-get; screen-wake-lock; serial; usb; web-share; xr-spatial-tracking\"></iframe> "
      ],
      "text/plain": [
       "<IPython.core.display.HTML object>"
      ]
     },
     "metadata": {},
     "output_type": "display_data"
    }
   ],
   "source": [
    "#| eval: false\n",
    "#| output: false\n",
    "test_func = test_cally_date_picker_fasthtml_examples\n",
    "app, rt = create_test_app(theme=DaisyUITheme.LIGHT)\n",
    "\n",
    "@rt\n",
    "def index():\n",
    "    return create_test_page(test_func.__doc__.title().replace('.', ''), test_func())\n",
    "server = start_test_server(app)\n",
    "display(HTMX())\n",
    "server.stop()"
   ]
  },
  {
   "cell_type": "code",
   "execution_count": null,
   "id": "53990e6a-1651-4145-9b63-93f41e039294",
   "metadata": {},
   "outputs": [
    {
     "data": {
      "text/markdown": [
       "```html\n",
       "<div>\n",
       "<script src=\"https://cdn.jsdelivr.net/npm/pikaday/pikaday.js\"></script>  <input type=\"text\" id=\"myDatepicker\" class=\"input pika-single\" name=\"myDatepicker\">\n",
       "<script>var picker = new Pikaday({ field: document.getElementById('myDatepicker') });</script></div>\n",
       "\n",
       "```"
      ],
      "text/plain": [
       "div((script(('',),{'src': 'https://cdn.jsdelivr.net/npm/pikaday/pikaday.js'}), input((),{'type': 'text', 'id': 'myDatepicker', 'class': 'input pika-single', 'name': 'myDatepicker'}), script((\"var picker = new Pikaday({ field: document.getElementById('myDatepicker') });\",),{})),{})"
      ]
     },
     "execution_count": null,
     "metadata": {},
     "output_type": "execute_result"
    }
   ],
   "source": [
    "#|exports\n",
    "def test_pikaday_calendar_fasthtml_examples():\n",
    "    \"\"\"Test Pikaday calendar CDN example from daisyUI v5 documentation.\"\"\"\n",
    "    from fasthtml.common import Input, Script, Div\n",
    "    from cjm_fasthtml_daisyui.components.data_input.text_input import text_input\n",
    "    \n",
    "    # Create input field for Pikaday\n",
    "    date_input = Input(\n",
    "        type=\"text\",\n",
    "        cls=combine_classes(text_input, pika_single),\n",
    "        id=\"myDatepicker\"\n",
    "    )\n",
    "    \n",
    "    # Create script to load Pikaday from CDN\n",
    "    pikaday_cdn = Script(\n",
    "        src=\"https://cdn.jsdelivr.net/npm/pikaday/pikaday.js\"\n",
    "    )\n",
    "    \n",
    "    # Create script to initialize Pikaday\n",
    "    pikaday_init = Script(\n",
    "        \"var picker = new Pikaday({ field: document.getElementById('myDatepicker') });\"\n",
    "    )\n",
    "    \n",
    "    # Verify input structure\n",
    "    assert date_input.tag == \"input\"\n",
    "    assert date_input.attrs['type'] == \"text\"\n",
    "    assert \"input\" in date_input.attrs['class']\n",
    "    assert \"pika-single\" in date_input.attrs['class']\n",
    "    assert date_input.attrs['id'] == \"myDatepicker\"\n",
    "    \n",
    "    # Verify CDN script\n",
    "    assert pikaday_cdn.tag == \"script\"\n",
    "    assert pikaday_cdn.attrs['src'] == \"https://cdn.jsdelivr.net/npm/pikaday/pikaday.js\"\n",
    "    \n",
    "    # Verify initialization script\n",
    "    assert pikaday_init.tag == \"script\"\n",
    "    assert pikaday_init.children[0] == \"var picker = new Pikaday({ field: document.getElementById('myDatepicker') });\"\n",
    "    \n",
    "    # Return the complete Pikaday setup\n",
    "    return Div(\n",
    "        pikaday_cdn,\n",
    "        date_input,\n",
    "        pikaday_init\n",
    "    )\n",
    "\n",
    "# Run the tests\n",
    "test_pikaday_calendar_fasthtml_examples()"
   ]
  },
  {
   "cell_type": "code",
   "execution_count": null,
   "id": "ad2d932c-79ea-4792-bdaf-5bda859340ca",
   "metadata": {},
   "outputs": [
    {
     "data": {
      "text/html": [
       "\n",
       "<script>\n",
       "document.body.addEventListener('htmx:configRequest', (event) => {\n",
       "    if(event.detail.path.includes('://')) return;\n",
       "    htmx.config.selfRequestsOnly=false;\n",
       "    event.detail.path = `${location.protocol}//${location.hostname}:8000${event.detail.path}`;\n",
       "});\n",
       "</script>"
      ],
      "text/plain": [
       "<IPython.core.display.HTML object>"
      ]
     },
     "metadata": {},
     "output_type": "display_data"
    },
    {
     "data": {
      "text/html": [
       "<iframe src=\"http://localhost:8000/\" style=\"width: 100%; height: auto; border: none;\" onload=\"{\n",
       "        let frame = this;\n",
       "        window.addEventListener('message', function(e) {\n",
       "            if (e.source !== frame.contentWindow) return; // Only proceed if the message is from this iframe\n",
       "            if (e.data.height) frame.style.height = (e.data.height+1) + 'px';\n",
       "        }, false);\n",
       "    }\" allow=\"accelerometer; autoplay; camera; clipboard-read; clipboard-write; display-capture; encrypted-media; fullscreen; gamepad; geolocation; gyroscope; hid; identity-credentials-get; idle-detection; magnetometer; microphone; midi; payment; picture-in-picture; publickey-credentials-get; screen-wake-lock; serial; usb; web-share; xr-spatial-tracking\"></iframe> "
      ],
      "text/plain": [
       "<IPython.core.display.HTML object>"
      ]
     },
     "metadata": {},
     "output_type": "display_data"
    }
   ],
   "source": [
    "#| eval: false\n",
    "#| output: false\n",
    "test_func = test_pikaday_calendar_fasthtml_examples\n",
    "app, rt = create_test_app(theme=DaisyUITheme.LIGHT)\n",
    "\n",
    "@rt\n",
    "def index():\n",
    "    return create_test_page(test_func.__doc__.title().replace('.', ''), test_func())\n",
    "server = start_test_server(app)\n",
    "display(HTMX())\n",
    "server.stop()"
   ]
  },
  {
   "cell_type": "code",
   "execution_count": null,
   "id": "214654cc-9758-48f9-92e2-0892029c4512",
   "metadata": {},
   "outputs": [],
   "source": []
  },
  {
   "cell_type": "code",
   "execution_count": null,
   "id": "a9d78aa3-0be8-49e6-8bfb-cb9a232ee1ee",
   "metadata": {},
   "outputs": [],
   "source": []
  },
  {
   "cell_type": "code",
   "execution_count": null,
   "id": "01785a18-9bb0-4dbc-9eae-04addf6dede9",
   "metadata": {},
   "outputs": [],
   "source": []
  },
  {
   "cell_type": "code",
   "execution_count": null,
   "id": "43a3d5aa-4f07-48f4-b7c3-5c63612f0fb2",
   "metadata": {},
   "outputs": [],
   "source": []
  },
  {
   "cell_type": "code",
   "execution_count": null,
   "id": "248adc40-6e77-4203-9830-de838e25a00a",
   "metadata": {},
   "outputs": [],
   "source": []
  },
  {
   "cell_type": "code",
   "execution_count": null,
   "id": "a2029d6d-bf22-4e16-87e1-d609762dc867",
   "metadata": {},
   "outputs": [],
   "source": []
  },
  {
   "cell_type": "code",
   "execution_count": null,
   "id": "c9dfaad9-504c-4853-886b-2d1adb1cc3a0",
   "metadata": {},
   "outputs": [],
   "source": []
  },
  {
   "cell_type": "code",
   "execution_count": null,
   "id": "454d5b84-fc57-44ab-a6f0-3123333998cb",
   "metadata": {},
   "outputs": [],
   "source": []
  },
  {
   "cell_type": "code",
   "execution_count": null,
   "id": "d471d21b-6fe5-4c63-90be-5176c4cbd08b",
   "metadata": {},
   "outputs": [],
   "source": []
  },
  {
   "cell_type": "code",
   "execution_count": null,
   "id": "73b88b7e-0be6-4a82-9c02-f3df8af20015",
   "metadata": {},
   "outputs": [],
   "source": []
  },
  {
   "cell_type": "code",
   "execution_count": null,
   "id": "7ab8257a-c30b-45b6-a784-729b67686791",
   "metadata": {},
   "outputs": [],
   "source": [
    "#| hide\n",
    "import nbdev; nbdev.nbdev_export()"
   ]
  }
 ],
 "metadata": {
  "kernelspec": {
   "display_name": "python3",
   "language": "python",
   "name": "python3"
  }
 },
 "nbformat": 4,
 "nbformat_minor": 5
}
