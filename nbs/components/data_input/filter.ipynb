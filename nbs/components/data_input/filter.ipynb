{
 "cells": [
  {
   "cell_type": "markdown",
   "id": "7c51b46b-ece1-456d-8e84-7de122e72b62",
   "metadata": {},
   "source": [
    "# filter\n",
    "\n",
    "> Filter is a group of radio buttons. Choosing one of the options will hide the others and shows a reset button next to the chosen option."
   ]
  },
  {
   "cell_type": "code",
   "execution_count": null,
   "id": "25536bdc-e099-477f-9e2d-a5f71df5dff2",
   "metadata": {},
   "outputs": [],
   "source": [
    "#| default_exp components.data_input.filter"
   ]
  },
  {
   "cell_type": "code",
   "execution_count": null,
   "id": "2e6f21ce-7766-455a-8ebb-df2c17e7d977",
   "metadata": {},
   "outputs": [],
   "source": [
    "#| hide\n",
    "from nbdev.showdoc import *"
   ]
  },
  {
   "cell_type": "code",
   "execution_count": null,
   "id": "045c6538-403e-4222-b3bb-db20f188524d",
   "metadata": {},
   "outputs": [],
   "source": [
    "#| export\n",
    "\n",
    "from cjm_fasthtml_tailwind.core.base import (\n",
    "    SingleValueFactory, combine_classes\n",
    ")\n",
    "\n",
    "from fasthtml.common import Div\n",
    "from fasthtml.jupyter import JupyUvi, HTMX\n",
    "from cjm_fasthtml_daisyui.core.testing import create_test_app, create_test_page, start_test_server\n",
    "from cjm_fasthtml_daisyui.core.themes import DaisyUITheme\n",
    "from IPython.display import display"
   ]
  },
  {
   "cell_type": "markdown",
   "id": "838fa921-36c8-4f8f-81c2-4ad09a9767b4",
   "metadata": {},
   "source": [
    "### Base Filter"
   ]
  },
  {
   "cell_type": "code",
   "execution_count": null,
   "id": "c802d106-49fb-4d34-ba04-5f54c88e165b",
   "metadata": {},
   "outputs": [],
   "source": [
    "#| exports\n",
    "filter_dui = SingleValueFactory(\"filter\", \"Base filter component for a HTML <form> or a <div> element that includes radio buttons for filtering items\") # Base filter component\n",
    "filter_dui_reset = SingleValueFactory(\"filter-reset\", \"Filter reset part as an alternative to the reset button if you can't use a HTML form\") # Filter reset part"
   ]
  },
  {
   "cell_type": "markdown",
   "id": "915ae4ac-8268-421b-9429-60a97ffd3d0b",
   "metadata": {},
   "source": [
    "### Filter Test Examples"
   ]
  },
  {
   "cell_type": "code",
   "execution_count": null,
   "id": "636c6bcd-2176-4191-aa39-c937893243e2",
   "metadata": {},
   "outputs": [],
   "source": [
    "#|exports\n",
    "def test_filter_basic_examples():\n",
    "    \"\"\"Test basic filter utilities.\"\"\"\n",
    "    # Basic filter\n",
    "    assert str(filter_dui) == \"filter\"\n",
    "    assert str(filter_dui_reset) == \"filter-reset\"\n",
    "    \n",
    "    # Test with modifiers\n",
    "    assert str(filter_dui.hover) == \"hover:filter\"\n",
    "    assert str(filter_dui.md) == \"md:filter\"\n",
    "    assert str(filter_dui.dark) == \"dark:filter\"\n",
    "\n",
    "# Run the tests\n",
    "test_filter_basic_examples()"
   ]
  },
  {
   "cell_type": "code",
   "execution_count": null,
   "id": "ad2d932c-79ea-4792-bdaf-5bda859340ca",
   "metadata": {},
   "outputs": [
    {
     "data": {
      "text/markdown": [
       "```html\n",
       "<form enctype=\"multipart/form-data\" class=\"filter\">  <input type=\"reset\" value=\"×\" class=\"btn btn-square\">\n",
       "  <input type=\"radio\" name=\"frameworks\" aria-label=\"Svelte\" class=\"btn\">\n",
       "  <input type=\"radio\" name=\"frameworks\" aria-label=\"Vue\" class=\"btn\">\n",
       "  <input type=\"radio\" name=\"frameworks\" aria-label=\"React\" class=\"btn\">\n",
       "</form>\n",
       "```"
      ],
      "text/plain": [
       "form((input((),{'type': 'reset', 'value': '×', 'class': 'btn btn-square'}), input((),{'type': 'radio', 'name': 'frameworks', 'aria-label': 'Svelte', 'class': 'btn'}), input((),{'type': 'radio', 'name': 'frameworks', 'aria-label': 'Vue', 'class': 'btn'}), input((),{'type': 'radio', 'name': 'frameworks', 'aria-label': 'React', 'class': 'btn'})),{'enctype': 'multipart/form-data', 'class': 'filter'})"
      ]
     },
     "execution_count": null,
     "metadata": {},
     "output_type": "execute_result"
    }
   ],
   "source": [
    "#|exports\n",
    "def test_filter_with_form_fasthtml_examples():\n",
    "    \"\"\"Test filter using HTML form, radio buttons and reset button from daisyUI v5 documentation.\"\"\"\n",
    "    from fasthtml.common import Form, Input\n",
    "    from cjm_fasthtml_daisyui.components.actions.button import btn, btn_modifiers\n",
    "    \n",
    "    # Filter using HTML form, radio buttons and reset button\n",
    "    filter_form = Form(\n",
    "        Input(type=\"reset\", value=\"×\", cls=combine_classes(btn, btn_modifiers.square)),\n",
    "        Input(type=\"radio\", name=\"frameworks\", aria_label=\"Svelte\", cls=str(btn)),\n",
    "        Input(type=\"radio\", name=\"frameworks\", aria_label=\"Vue\", cls=str(btn)),\n",
    "        Input(type=\"radio\", name=\"frameworks\", aria_label=\"React\", cls=str(btn)),\n",
    "        cls=str(filter_dui)\n",
    "    )\n",
    "    \n",
    "    # Verify structure\n",
    "    assert filter_form.tag == \"form\"\n",
    "    assert filter_form.attrs['class'] == \"filter\"\n",
    "    \n",
    "    # Verify reset button\n",
    "    reset_btn = filter_form.children[0]\n",
    "    assert reset_btn.tag == \"input\"\n",
    "    assert reset_btn.attrs['type'] == \"reset\"\n",
    "    assert reset_btn.attrs['value'] == \"×\"\n",
    "    assert \"btn\" in reset_btn.attrs['class']\n",
    "    assert \"btn-square\" in reset_btn.attrs['class']\n",
    "    \n",
    "    # Verify radio buttons\n",
    "    radio_buttons = filter_form.children[1:4]\n",
    "    \n",
    "    # Svelte radio\n",
    "    assert radio_buttons[0].tag == \"input\"\n",
    "    assert radio_buttons[0].attrs['type'] == \"radio\"\n",
    "    assert radio_buttons[0].attrs['name'] == \"frameworks\"\n",
    "    assert radio_buttons[0].attrs['aria-label'] == \"Svelte\"\n",
    "    assert radio_buttons[0].attrs['class'] == \"btn\"\n",
    "    \n",
    "    # Vue radio\n",
    "    assert radio_buttons[1].tag == \"input\"\n",
    "    assert radio_buttons[1].attrs['type'] == \"radio\"\n",
    "    assert radio_buttons[1].attrs['name'] == \"frameworks\"\n",
    "    assert radio_buttons[1].attrs['aria-label'] == \"Vue\"\n",
    "    assert radio_buttons[1].attrs['class'] == \"btn\"\n",
    "    \n",
    "    # React radio\n",
    "    assert radio_buttons[2].tag == \"input\"\n",
    "    assert radio_buttons[2].attrs['type'] == \"radio\"\n",
    "    assert radio_buttons[2].attrs['name'] == \"frameworks\"\n",
    "    assert radio_buttons[2].attrs['aria-label'] == \"React\"\n",
    "    assert radio_buttons[2].attrs['class'] == \"btn\"\n",
    "    \n",
    "    return filter_form\n",
    "\n",
    "# Run the tests\n",
    "test_filter_with_form_fasthtml_examples()"
   ]
  },
  {
   "cell_type": "code",
   "execution_count": null,
   "id": "3035ff66-e4e7-410c-8b1e-86a879f66112",
   "metadata": {},
   "outputs": [],
   "source": []
  },
  {
   "cell_type": "code",
   "execution_count": null,
   "id": "j2lx7uw9g5",
   "metadata": {},
   "outputs": [
    {
     "data": {
      "text/html": [
       "\n",
       "<script>\n",
       "document.body.addEventListener('htmx:configRequest', (event) => {\n",
       "    if(event.detail.path.includes('://')) return;\n",
       "    htmx.config.selfRequestsOnly=false;\n",
       "    event.detail.path = `${location.protocol}//${location.hostname}:8000${event.detail.path}`;\n",
       "});\n",
       "</script>"
      ],
      "text/plain": [
       "<IPython.core.display.HTML object>"
      ]
     },
     "metadata": {},
     "output_type": "display_data"
    },
    {
     "data": {
      "text/html": [
       "<iframe src=\"http://localhost:8000/\" style=\"width: 100%; height: auto; border: none;\" onload=\"{\n",
       "        let frame = this;\n",
       "        window.addEventListener('message', function(e) {\n",
       "            if (e.source !== frame.contentWindow) return; // Only proceed if the message is from this iframe\n",
       "            if (e.data.height) frame.style.height = (e.data.height+1) + 'px';\n",
       "        }, false);\n",
       "    }\" allow=\"accelerometer; autoplay; camera; clipboard-read; clipboard-write; display-capture; encrypted-media; fullscreen; gamepad; geolocation; gyroscope; hid; identity-credentials-get; idle-detection; magnetometer; microphone; midi; payment; picture-in-picture; publickey-credentials-get; screen-wake-lock; serial; usb; web-share; xr-spatial-tracking\"></iframe> "
      ],
      "text/plain": [
       "<IPython.core.display.HTML object>"
      ]
     },
     "metadata": {},
     "output_type": "display_data"
    }
   ],
   "source": [
    "#| eval: false\n",
    "#| output: false\n",
    "test_func = test_filter_with_form_fasthtml_examples\n",
    "app, rt = create_test_app(theme=DaisyUITheme.LIGHT)\n",
    "\n",
    "@rt\n",
    "def index():\n",
    "    return create_test_page(test_func.__doc__.title().replace('.', ''), test_func())\n",
    "server = start_test_server(app)\n",
    "display(HTMX())\n",
    "server.stop()"
   ]
  },
  {
   "cell_type": "code",
   "execution_count": null,
   "id": "4666a5a3-26bb-4d91-b5be-f941df8f9d2f",
   "metadata": {},
   "outputs": [
    {
     "data": {
      "text/markdown": [
       "```html\n",
       "<div class=\"filter\">\n",
       "  <input type=\"radio\" name=\"metaframeworks\" aria-label=\"All\" class=\"btn filter-reset\">\n",
       "  <input type=\"radio\" name=\"metaframeworks\" aria-label=\"Sveltekit\" class=\"btn\">\n",
       "  <input type=\"radio\" name=\"metaframeworks\" aria-label=\"Nuxt\" class=\"btn\">\n",
       "  <input type=\"radio\" name=\"metaframeworks\" aria-label=\"Next.js\" class=\"btn\">\n",
       "</div>\n",
       "\n",
       "```"
      ],
      "text/plain": [
       "div((input((),{'type': 'radio', 'name': 'metaframeworks', 'aria-label': 'All', 'class': 'btn filter-reset'}), input((),{'type': 'radio', 'name': 'metaframeworks', 'aria-label': 'Sveltekit', 'class': 'btn'}), input((),{'type': 'radio', 'name': 'metaframeworks', 'aria-label': 'Nuxt', 'class': 'btn'}), input((),{'type': 'radio', 'name': 'metaframeworks', 'aria-label': 'Next.js', 'class': 'btn'})),{'class': 'filter'})"
      ]
     },
     "execution_count": null,
     "metadata": {},
     "output_type": "execute_result"
    }
   ],
   "source": [
    "#|exports\n",
    "def test_filter_without_form_fasthtml_examples():\n",
    "    \"\"\"Test filter without HTML form from daisyUI v5 documentation.\"\"\"\n",
    "    from fasthtml.common import Div, Input\n",
    "    from cjm_fasthtml_daisyui.components.actions.button import btn\n",
    "    \n",
    "    # Filter without HTML form\n",
    "    filter_div = Div(\n",
    "        Input(type=\"radio\", name=\"metaframeworks\", aria_label=\"All\", cls=combine_classes(btn, filter_dui_reset)),\n",
    "        Input(type=\"radio\", name=\"metaframeworks\", aria_label=\"Sveltekit\", cls=str(btn)),\n",
    "        Input(type=\"radio\", name=\"metaframeworks\", aria_label=\"Nuxt\", cls=str(btn)),\n",
    "        Input(type=\"radio\", name=\"metaframeworks\", aria_label=\"Next.js\", cls=str(btn)),\n",
    "        cls=str(filter_dui)\n",
    "    )\n",
    "    \n",
    "    # Verify structure\n",
    "    assert filter_div.tag == \"div\"\n",
    "    assert filter_div.attrs['class'] == \"filter\"\n",
    "    \n",
    "    # Verify \"All\" radio button with filter-reset\n",
    "    all_radio = filter_div.children[0]\n",
    "    assert all_radio.tag == \"input\"\n",
    "    assert all_radio.attrs['type'] == \"radio\"\n",
    "    assert all_radio.attrs['name'] == \"metaframeworks\"\n",
    "    assert all_radio.attrs['aria-label'] == \"All\"\n",
    "    assert \"btn\" in all_radio.attrs['class']\n",
    "    assert \"filter-reset\" in all_radio.attrs['class']\n",
    "    \n",
    "    # Verify other radio buttons\n",
    "    radio_buttons = filter_div.children[1:4]\n",
    "    \n",
    "    # Sveltekit radio\n",
    "    assert radio_buttons[0].tag == \"input\"\n",
    "    assert radio_buttons[0].attrs['type'] == \"radio\"\n",
    "    assert radio_buttons[0].attrs['name'] == \"metaframeworks\"\n",
    "    assert radio_buttons[0].attrs['aria-label'] == \"Sveltekit\"\n",
    "    assert radio_buttons[0].attrs['class'] == \"btn\"\n",
    "    \n",
    "    # Nuxt radio\n",
    "    assert radio_buttons[1].tag == \"input\"\n",
    "    assert radio_buttons[1].attrs['type'] == \"radio\"\n",
    "    assert radio_buttons[1].attrs['name'] == \"metaframeworks\"\n",
    "    assert radio_buttons[1].attrs['aria-label'] == \"Nuxt\"\n",
    "    assert radio_buttons[1].attrs['class'] == \"btn\"\n",
    "    \n",
    "    # Next.js radio\n",
    "    assert radio_buttons[2].tag == \"input\"\n",
    "    assert radio_buttons[2].attrs['type'] == \"radio\"\n",
    "    assert radio_buttons[2].attrs['name'] == \"metaframeworks\"\n",
    "    assert radio_buttons[2].attrs['aria-label'] == \"Next.js\"\n",
    "    assert radio_buttons[2].attrs['class'] == \"btn\"\n",
    "    \n",
    "    return filter_div\n",
    "\n",
    "# Run the tests\n",
    "test_filter_without_form_fasthtml_examples()"
   ]
  },
  {
   "cell_type": "code",
   "execution_count": null,
   "id": "85d72161-e718-4c66-bc59-a3569b7f7616",
   "metadata": {},
   "outputs": [],
   "source": []
  },
  {
   "cell_type": "code",
   "execution_count": null,
   "id": "x8t2i8quy89",
   "metadata": {},
   "outputs": [
    {
     "data": {
      "text/html": [
       "\n",
       "<script>\n",
       "document.body.addEventListener('htmx:configRequest', (event) => {\n",
       "    if(event.detail.path.includes('://')) return;\n",
       "    htmx.config.selfRequestsOnly=false;\n",
       "    event.detail.path = `${location.protocol}//${location.hostname}:8000${event.detail.path}`;\n",
       "});\n",
       "</script>"
      ],
      "text/plain": [
       "<IPython.core.display.HTML object>"
      ]
     },
     "metadata": {},
     "output_type": "display_data"
    },
    {
     "data": {
      "text/html": [
       "<iframe src=\"http://localhost:8000/\" style=\"width: 100%; height: auto; border: none;\" onload=\"{\n",
       "        let frame = this;\n",
       "        window.addEventListener('message', function(e) {\n",
       "            if (e.source !== frame.contentWindow) return; // Only proceed if the message is from this iframe\n",
       "            if (e.data.height) frame.style.height = (e.data.height+1) + 'px';\n",
       "        }, false);\n",
       "    }\" allow=\"accelerometer; autoplay; camera; clipboard-read; clipboard-write; display-capture; encrypted-media; fullscreen; gamepad; geolocation; gyroscope; hid; identity-credentials-get; idle-detection; magnetometer; microphone; midi; payment; picture-in-picture; publickey-credentials-get; screen-wake-lock; serial; usb; web-share; xr-spatial-tracking\"></iframe> "
      ],
      "text/plain": [
       "<IPython.core.display.HTML object>"
      ]
     },
     "metadata": {},
     "output_type": "display_data"
    }
   ],
   "source": [
    "#| eval: false\n",
    "#| output: false\n",
    "test_func = test_filter_without_form_fasthtml_examples\n",
    "app, rt = create_test_app(theme=DaisyUITheme.LIGHT)\n",
    "\n",
    "@rt\n",
    "def index():\n",
    "    return create_test_page(test_func.__doc__.title().replace('.', ''), test_func())\n",
    "server = start_test_server(app)\n",
    "display(HTMX())\n",
    "server.stop()"
   ]
  },
  {
   "cell_type": "code",
   "execution_count": null,
   "id": "214654cc-9758-48f9-92e2-0892029c4512",
   "metadata": {},
   "outputs": [],
   "source": []
  },
  {
   "cell_type": "code",
   "execution_count": null,
   "id": "a9d78aa3-0be8-49e6-8bfb-cb9a232ee1ee",
   "metadata": {},
   "outputs": [],
   "source": []
  },
  {
   "cell_type": "code",
   "execution_count": null,
   "id": "01785a18-9bb0-4dbc-9eae-04addf6dede9",
   "metadata": {},
   "outputs": [],
   "source": []
  },
  {
   "cell_type": "code",
   "execution_count": null,
   "id": "43a3d5aa-4f07-48f4-b7c3-5c63612f0fb2",
   "metadata": {},
   "outputs": [],
   "source": []
  },
  {
   "cell_type": "code",
   "execution_count": null,
   "id": "248adc40-6e77-4203-9830-de838e25a00a",
   "metadata": {},
   "outputs": [],
   "source": []
  },
  {
   "cell_type": "code",
   "execution_count": null,
   "id": "a2029d6d-bf22-4e16-87e1-d609762dc867",
   "metadata": {},
   "outputs": [],
   "source": []
  },
  {
   "cell_type": "code",
   "execution_count": null,
   "id": "c9dfaad9-504c-4853-886b-2d1adb1cc3a0",
   "metadata": {},
   "outputs": [],
   "source": []
  },
  {
   "cell_type": "code",
   "execution_count": null,
   "id": "454d5b84-fc57-44ab-a6f0-3123333998cb",
   "metadata": {},
   "outputs": [],
   "source": []
  },
  {
   "cell_type": "code",
   "execution_count": null,
   "id": "d471d21b-6fe5-4c63-90be-5176c4cbd08b",
   "metadata": {},
   "outputs": [],
   "source": []
  },
  {
   "cell_type": "code",
   "execution_count": null,
   "id": "73b88b7e-0be6-4a82-9c02-f3df8af20015",
   "metadata": {},
   "outputs": [],
   "source": []
  },
  {
   "cell_type": "code",
   "execution_count": null,
   "id": "7ab8257a-c30b-45b6-a784-729b67686791",
   "metadata": {},
   "outputs": [],
   "source": [
    "#| hide\n",
    "import nbdev; nbdev.nbdev_export()"
   ]
  }
 ],
 "metadata": {
  "kernelspec": {
   "display_name": "python3",
   "language": "python",
   "name": "python3"
  }
 },
 "nbformat": 4,
 "nbformat_minor": 5
}
