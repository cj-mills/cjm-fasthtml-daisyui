{
 "cells": [
  {
   "cell_type": "markdown",
   "id": "7c51b46b-ece1-456d-8e84-7de122e72b62",
   "metadata": {},
   "source": [
    "# mask\n",
    "\n",
    "> Mask crops the content of the element to common shapes."
   ]
  },
  {
   "cell_type": "code",
   "execution_count": null,
   "id": "25536bdc-e099-477f-9e2d-a5f71df5dff2",
   "metadata": {},
   "outputs": [],
   "source": [
    "#| default_exp components.layout.mask"
   ]
  },
  {
   "cell_type": "code",
   "execution_count": null,
   "id": "2e6f21ce-7766-455a-8ebb-df2c17e7d977",
   "metadata": {},
   "outputs": [],
   "source": [
    "#| hide\n",
    "from nbdev.showdoc import *"
   ]
  },
  {
   "cell_type": "code",
   "execution_count": null,
   "id": "045c6538-403e-4222-b3bb-db20f188524d",
   "metadata": {},
   "outputs": [],
   "source": [
    "#| export\n",
    "from enum import Enum\n",
    "from cjm_fasthtml_tailwind.core.base import (\n",
    "    SingleValueFactory, combine_classes\n",
    ")\n",
    "from cjm_fasthtml_tailwind.builders.scales import SimpleFactory, enums_to_simple_factory\n",
    "\n",
    "from fasthtml.common import Div\n",
    "from fasthtml.jupyter import JupyUvi, HTMX\n",
    "from cjm_fasthtml_daisyui.core.testing import create_test_app, create_test_page, start_test_server\n",
    "from cjm_fasthtml_daisyui.core.themes import DaisyUITheme\n",
    "from IPython.display import display"
   ]
  },
  {
   "cell_type": "markdown",
   "id": "4c7c055f-bc70-40ba-87ec-108cf882ba26",
   "metadata": {},
   "source": [
    "### Base Mask"
   ]
  },
  {
   "cell_type": "code",
   "execution_count": null,
   "id": "26576f13-7b77-4711-bd5d-35f537b4c9eb",
   "metadata": {},
   "outputs": [],
   "source": [
    "#| export\n",
    "mask = SingleValueFactory(\"mask\", \"Base mask component that masks the content with shape\") # Base mask component"
   ]
  },
  {
   "cell_type": "markdown",
   "id": "2ee5e566-a2d0-49c7-920b-4f6be20060d6",
   "metadata": {},
   "source": [
    "### Mask Styles"
   ]
  },
  {
   "cell_type": "code",
   "execution_count": null,
   "id": "cebabfd6-1d64-4c65-948d-b056dc6727c7",
   "metadata": {},
   "outputs": [],
   "source": [
    "#| export\n",
    "class MaskStyle(str, Enum):\n",
    "    SQUIRCLE= \"squircle\"\n",
    "    HEART= \"heart\"\n",
    "    HEXAGON = \"hexagon\"\n",
    "    HEXAGON_2 = \"hexagon-2\"\n",
    "    DECAGON = \"decagon\"\n",
    "    PENTAGON = \"pentagon\"\n",
    "    DIAMOND = \"diamond\"\n",
    "    SQUARE = \"square\"\n",
    "    CIRCLE = \"circle\"\n",
    "    STAR = \"star\"\n",
    "    STAR_2 = \"star-2\"\n",
    "    TRIANGLE = \"triangle\"\n",
    "    TRIANGLE_2 = \"triangle-2\"\n",
    "    TRIANGLE_3 = \"triangle-3\"\n",
    "    TRIANGLE_4 = \"triangle-4\"\n",
    "    \n",
    "\n",
    "mask_styles = enums_to_simple_factory(mask, [MaskStyle]) # mask style variants"
   ]
  },
  {
   "cell_type": "markdown",
   "id": "eee4e157-13f3-4777-bfa2-e0a71f2f6ba6",
   "metadata": {},
   "source": [
    "### Mask Modifiers"
   ]
  },
  {
   "cell_type": "code",
   "execution_count": null,
   "id": "ad2d932c-79ea-4792-bdaf-5bda859340ca",
   "metadata": {},
   "outputs": [],
   "source": [
    "#| export\n",
    "class MaskModifier(str, Enum):\n",
    "    HALF_1 = \"half-1\"\n",
    "    HALF_2 = \"half-2\"\n",
    "    \n",
    "\n",
    "mask_modifiers = enums_to_simple_factory(mask, [MaskModifier]) # mask modifiers"
   ]
  },
  {
   "cell_type": "markdown",
   "id": "3e90b49c-6ddc-4776-a079-8e3c0a1b2675",
   "metadata": {},
   "source": [
    "### Mask Test Examples"
   ]
  },
  {
   "cell_type": "code",
   "execution_count": null,
   "id": "85d72161-e718-4c66-bc59-a3569b7f7616",
   "metadata": {},
   "outputs": [],
   "source": [
    "#| export\n",
    "def test_mask_basic_examples():\n",
    "    \"\"\"Test basic mask utilities.\"\"\"\n",
    "    # Basic mask\n",
    "    assert str(mask) == \"mask\"\n",
    "    \n",
    "    # Test with modifiers\n",
    "    assert str(mask.hover) == \"hover:mask\"\n",
    "    assert str(mask.md) == \"md:mask\"\n",
    "    assert str(mask.dark) == \"dark:mask\"\n",
    "\n",
    "# Run the tests\n",
    "test_mask_basic_examples()"
   ]
  },
  {
   "cell_type": "code",
   "execution_count": null,
   "id": "214654cc-9758-48f9-92e2-0892029c4512",
   "metadata": {},
   "outputs": [],
   "source": [
    "#| export\n",
    "def test_mask_styles_examples():\n",
    "    \"\"\"Test mask style variants.\"\"\"\n",
    "    assert str(mask_styles.squircle) == \"mask-squircle\"\n",
    "    assert str(mask_styles.heart) == \"mask-heart\"\n",
    "    assert str(mask_styles.hexagon) == \"mask-hexagon\"\n",
    "    assert str(mask_styles.hexagon_2) == \"mask-hexagon-2\"\n",
    "    assert str(mask_styles.decagon) == \"mask-decagon\"\n",
    "    assert str(mask_styles.pentagon) == \"mask-pentagon\"\n",
    "    assert str(mask_styles.diamond) == \"mask-diamond\"\n",
    "    assert str(mask_styles.square) == \"mask-square\"\n",
    "    assert str(mask_styles.circle) == \"mask-circle\"\n",
    "    assert str(mask_styles.star) == \"mask-star\"\n",
    "    assert str(mask_styles.star_2) == \"mask-star-2\"\n",
    "    assert str(mask_styles.triangle) == \"mask-triangle\"\n",
    "    assert str(mask_styles.triangle_2) == \"mask-triangle-2\"\n",
    "    assert str(mask_styles.triangle_3) == \"mask-triangle-3\"\n",
    "    assert str(mask_styles.triangle_4) == \"mask-triangle-4\"\n",
    "\n",
    "# Run the tests\n",
    "test_mask_styles_examples()"
   ]
  },
  {
   "cell_type": "code",
   "execution_count": null,
   "id": "01785a18-9bb0-4dbc-9eae-04addf6dede9",
   "metadata": {},
   "outputs": [],
   "source": [
    "#| export\n",
    "def test_mask_modifiers_examples():\n",
    "    \"\"\"Test mask modifier utilities.\"\"\"\n",
    "    assert str(mask_modifiers.half_1) == \"mask-half-1\"\n",
    "    assert str(mask_modifiers.half_2) == \"mask-half-2\"\n",
    "\n",
    "# Run the tests\n",
    "test_mask_modifiers_examples()"
   ]
  },
  {
   "cell_type": "code",
   "execution_count": null,
   "id": "43a3d5aa-4f07-48f4-b7c3-5c63612f0fb2",
   "metadata": {},
   "outputs": [],
   "source": []
  },
  {
   "cell_type": "code",
   "execution_count": null,
   "id": "248adc40-6e77-4203-9830-de838e25a00a",
   "metadata": {},
   "outputs": [],
   "source": []
  },
  {
   "cell_type": "code",
   "execution_count": null,
   "id": "a2029d6d-bf22-4e16-87e1-d609762dc867",
   "metadata": {},
   "outputs": [],
   "source": []
  },
  {
   "cell_type": "code",
   "execution_count": null,
   "id": "c9dfaad9-504c-4853-886b-2d1adb1cc3a0",
   "metadata": {},
   "outputs": [],
   "source": []
  },
  {
   "cell_type": "code",
   "execution_count": null,
   "id": "454d5b84-fc57-44ab-a6f0-3123333998cb",
   "metadata": {},
   "outputs": [],
   "source": []
  },
  {
   "cell_type": "code",
   "execution_count": null,
   "id": "d471d21b-6fe5-4c63-90be-5176c4cbd08b",
   "metadata": {},
   "outputs": [],
   "source": []
  },
  {
   "cell_type": "code",
   "execution_count": null,
   "id": "73b88b7e-0be6-4a82-9c02-f3df8af20015",
   "metadata": {},
   "outputs": [],
   "source": []
  },
  {
   "cell_type": "code",
   "execution_count": null,
   "id": "7ab8257a-c30b-45b6-a784-729b67686791",
   "metadata": {},
   "outputs": [],
   "source": [
    "#| hide\n",
    "import nbdev; nbdev.nbdev_export()"
   ]
  }
 ],
 "metadata": {
  "kernelspec": {
   "display_name": "python3",
   "language": "python",
   "name": "python3"
  }
 },
 "nbformat": 4,
 "nbformat_minor": 5
}
