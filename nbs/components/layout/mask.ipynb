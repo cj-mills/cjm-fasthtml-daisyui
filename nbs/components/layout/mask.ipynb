{
 "cells": [
  {
   "cell_type": "markdown",
   "id": "7c51b46b-ece1-456d-8e84-7de122e72b62",
   "metadata": {},
   "source": [
    "# mask\n",
    "\n",
    "> Mask crops the content of the element to common shapes."
   ]
  },
  {
   "cell_type": "code",
   "execution_count": null,
   "id": "25536bdc-e099-477f-9e2d-a5f71df5dff2",
   "metadata": {},
   "outputs": [],
   "source": [
    "#| default_exp components.layout.mask"
   ]
  },
  {
   "cell_type": "code",
   "execution_count": null,
   "id": "2e6f21ce-7766-455a-8ebb-df2c17e7d977",
   "metadata": {},
   "outputs": [],
   "source": [
    "#| hide\n",
    "from nbdev.showdoc import *"
   ]
  },
  {
   "cell_type": "code",
   "execution_count": null,
   "id": "045c6538-403e-4222-b3bb-db20f188524d",
   "metadata": {},
   "outputs": [],
   "source": [
    "#| export\n",
    "from enum import Enum\n",
    "from cjm_fasthtml_tailwind.core.base import (\n",
    "    SingleValueFactory, combine_classes\n",
    ")\n",
    "from cjm_fasthtml_tailwind.builders.scales import SimpleFactory, enums_to_simple_factory\n",
    "\n",
    "from fasthtml.common import Div\n",
    "from fasthtml.jupyter import JupyUvi, HTMX\n",
    "from cjm_fasthtml_daisyui.core.testing import create_test_app, create_test_page, start_test_server\n",
    "from cjm_fasthtml_daisyui.core.themes import DaisyUITheme\n",
    "from IPython.display import display"
   ]
  },
  {
   "cell_type": "markdown",
   "id": "4c7c055f-bc70-40ba-87ec-108cf882ba26",
   "metadata": {},
   "source": [
    "### Base Mask"
   ]
  },
  {
   "cell_type": "code",
   "execution_count": null,
   "id": "26576f13-7b77-4711-bd5d-35f537b4c9eb",
   "metadata": {},
   "outputs": [],
   "source": [
    "#| exports\n",
    "mask = SingleValueFactory(\"mask\", \"Base mask component that masks the content with shape\") # Base mask component"
   ]
  },
  {
   "cell_type": "markdown",
   "id": "2ee5e566-a2d0-49c7-920b-4f6be20060d6",
   "metadata": {},
   "source": [
    "### Mask Styles"
   ]
  },
  {
   "cell_type": "code",
   "execution_count": null,
   "id": "cebabfd6-1d64-4c65-948d-b056dc6727c7",
   "metadata": {},
   "outputs": [],
   "source": [
    "#| exports\n",
    "class MaskStyle(str, Enum):\n",
    "    SQUIRCLE= \"squircle\"\n",
    "    HEART= \"heart\"\n",
    "    HEXAGON = \"hexagon\"\n",
    "    HEXAGON_2 = \"hexagon-2\"\n",
    "    DECAGON = \"decagon\"\n",
    "    PENTAGON = \"pentagon\"\n",
    "    DIAMOND = \"diamond\"\n",
    "    SQUARE = \"square\"\n",
    "    CIRCLE = \"circle\"\n",
    "    STAR = \"star\"\n",
    "    STAR_2 = \"star-2\"\n",
    "    TRIANGLE = \"triangle\"\n",
    "    TRIANGLE_2 = \"triangle-2\"\n",
    "    TRIANGLE_3 = \"triangle-3\"\n",
    "    TRIANGLE_4 = \"triangle-4\"\n",
    "    \n",
    "\n",
    "mask_styles = enums_to_simple_factory(mask, [MaskStyle]) # mask style variants"
   ]
  },
  {
   "cell_type": "markdown",
   "id": "eee4e157-13f3-4777-bfa2-e0a71f2f6ba6",
   "metadata": {},
   "source": [
    "### Mask Modifiers"
   ]
  },
  {
   "cell_type": "code",
   "execution_count": null,
   "id": "ad2d932c-79ea-4792-bdaf-5bda859340ca",
   "metadata": {},
   "outputs": [],
   "source": [
    "#| exports\n",
    "class MaskModifier(str, Enum):\n",
    "    HALF_1 = \"half-1\"\n",
    "    HALF_2 = \"half-2\"\n",
    "    \n",
    "\n",
    "mask_modifiers = enums_to_simple_factory(mask, [MaskModifier]) # mask modifiers"
   ]
  },
  {
   "cell_type": "markdown",
   "id": "3e90b49c-6ddc-4776-a079-8e3c0a1b2675",
   "metadata": {},
   "source": [
    "### Mask Test Examples"
   ]
  },
  {
   "cell_type": "code",
   "execution_count": null,
   "id": "85d72161-e718-4c66-bc59-a3569b7f7616",
   "metadata": {},
   "outputs": [],
   "source": [
    "#|exports\n",
    "def test_mask_basic_examples():\n",
    "    \"\"\"Test basic mask utilities.\"\"\"\n",
    "    # Basic mask\n",
    "    assert str(mask) == \"mask\"\n",
    "    \n",
    "    # Test with modifiers\n",
    "    assert str(mask.hover) == \"hover:mask\"\n",
    "    assert str(mask.md) == \"md:mask\"\n",
    "    assert str(mask.dark) == \"dark:mask\"\n",
    "\n",
    "# Run the tests\n",
    "test_mask_basic_examples()"
   ]
  },
  {
   "cell_type": "code",
   "execution_count": null,
   "id": "214654cc-9758-48f9-92e2-0892029c4512",
   "metadata": {},
   "outputs": [],
   "source": [
    "#|exports\n",
    "def test_mask_styles_examples():\n",
    "    \"\"\"Test mask style variants.\"\"\"\n",
    "    assert str(mask_styles.squircle) == \"mask-squircle\"\n",
    "    assert str(mask_styles.heart) == \"mask-heart\"\n",
    "    assert str(mask_styles.hexagon) == \"mask-hexagon\"\n",
    "    assert str(mask_styles.hexagon_2) == \"mask-hexagon-2\"\n",
    "    assert str(mask_styles.decagon) == \"mask-decagon\"\n",
    "    assert str(mask_styles.pentagon) == \"mask-pentagon\"\n",
    "    assert str(mask_styles.diamond) == \"mask-diamond\"\n",
    "    assert str(mask_styles.square) == \"mask-square\"\n",
    "    assert str(mask_styles.circle) == \"mask-circle\"\n",
    "    assert str(mask_styles.star) == \"mask-star\"\n",
    "    assert str(mask_styles.star_2) == \"mask-star-2\"\n",
    "    assert str(mask_styles.triangle) == \"mask-triangle\"\n",
    "    assert str(mask_styles.triangle_2) == \"mask-triangle-2\"\n",
    "    assert str(mask_styles.triangle_3) == \"mask-triangle-3\"\n",
    "    assert str(mask_styles.triangle_4) == \"mask-triangle-4\"\n",
    "\n",
    "# Run the tests\n",
    "test_mask_styles_examples()"
   ]
  },
  {
   "cell_type": "code",
   "execution_count": null,
   "id": "01785a18-9bb0-4dbc-9eae-04addf6dede9",
   "metadata": {},
   "outputs": [],
   "source": [
    "#|exports\n",
    "def test_mask_modifiers_examples():\n",
    "    \"\"\"Test mask modifier utilities.\"\"\"\n",
    "    assert str(mask_modifiers.half_1) == \"mask-half-1\"\n",
    "    assert str(mask_modifiers.half_2) == \"mask-half-2\"\n",
    "\n",
    "# Run the tests\n",
    "test_mask_modifiers_examples()"
   ]
  },
  {
   "cell_type": "code",
   "execution_count": null,
   "id": "43a3d5aa-4f07-48f4-b7c3-5c63612f0fb2",
   "metadata": {},
   "outputs": [
    {
     "data": {
      "text/markdown": [
       "```html\n",
       "<div>\n",
       "<img src=\"https://img.daisyui.com/images/stock/photo-1567653418876-5bb0e566e1c2.webp\" class=\"mask mask-squircle\"><img src=\"https://img.daisyui.com/images/stock/photo-1567653418876-5bb0e566e1c2.webp\" class=\"mask mask-heart\"><img src=\"https://img.daisyui.com/images/stock/photo-1567653418876-5bb0e566e1c2.webp\" class=\"mask mask-hexagon\"></div>\n",
       "\n",
       "```"
      ],
      "text/plain": [
       "div((img((),{'src': 'https://img.daisyui.com/images/stock/photo-1567653418876-5bb0e566e1c2.webp', 'class': 'mask mask-squircle'}), img((),{'src': 'https://img.daisyui.com/images/stock/photo-1567653418876-5bb0e566e1c2.webp', 'class': 'mask mask-heart'}), img((),{'src': 'https://img.daisyui.com/images/stock/photo-1567653418876-5bb0e566e1c2.webp', 'class': 'mask mask-hexagon'})),{})"
      ]
     },
     "execution_count": null,
     "metadata": {},
     "output_type": "execute_result"
    }
   ],
   "source": [
    "#|exports\n",
    "def test_mask_squircle_heart_hexagon_fasthtml_examples():\n",
    "    \"\"\"Test mask with squircle, heart, and hexagon shapes from daisyUI v5 documentation.\"\"\"\n",
    "    from fasthtml.common import Img, Div\n",
    "    \n",
    "    # Use the same image source as in documentation\n",
    "    img_src = \"https://img.daisyui.com/images/stock/photo-1567653418876-5bb0e566e1c2.webp\"\n",
    "    \n",
    "    # Squircle mask\n",
    "    squircle_mask = Img(\n",
    "        src=img_src,\n",
    "        cls=combine_classes(mask, mask_styles.squircle)\n",
    "    )\n",
    "    assert squircle_mask.tag == \"img\"\n",
    "    assert squircle_mask.attrs['src'] == img_src\n",
    "    assert \"mask\" in squircle_mask.attrs['class']\n",
    "    assert \"mask-squircle\" in squircle_mask.attrs['class']\n",
    "    \n",
    "    # Heart mask\n",
    "    heart_mask = Img(\n",
    "        src=img_src,\n",
    "        cls=combine_classes(mask, mask_styles.heart)\n",
    "    )\n",
    "    assert heart_mask.tag == \"img\"\n",
    "    assert heart_mask.attrs['src'] == img_src\n",
    "    assert \"mask\" in heart_mask.attrs['class']\n",
    "    assert \"mask-heart\" in heart_mask.attrs['class']\n",
    "    \n",
    "    # Hexagon mask\n",
    "    hexagon_mask = Img(\n",
    "        src=img_src,\n",
    "        cls=combine_classes(mask, mask_styles.hexagon)\n",
    "    )\n",
    "    assert hexagon_mask.tag == \"img\"\n",
    "    assert hexagon_mask.attrs['src'] == img_src\n",
    "    assert \"mask\" in hexagon_mask.attrs['class']\n",
    "    assert \"mask-hexagon\" in hexagon_mask.attrs['class']\n",
    "    \n",
    "    return Div(squircle_mask, heart_mask, hexagon_mask)\n",
    "\n",
    "# Run the tests\n",
    "test_mask_squircle_heart_hexagon_fasthtml_examples()"
   ]
  },
  {
   "cell_type": "code",
   "execution_count": null,
   "id": "888ce922-6b53-413d-9d3e-026cf136d225",
   "metadata": {},
   "outputs": [
    {
     "data": {
      "text/html": [
       "\n",
       "<script>\n",
       "document.body.addEventListener('htmx:configRequest', (event) => {\n",
       "    if(event.detail.path.includes('://')) return;\n",
       "    htmx.config.selfRequestsOnly=false;\n",
       "    event.detail.path = `${location.protocol}//${location.hostname}:8000${event.detail.path}`;\n",
       "});\n",
       "</script>"
      ],
      "text/plain": [
       "<IPython.core.display.HTML object>"
      ]
     },
     "metadata": {},
     "output_type": "display_data"
    },
    {
     "data": {
      "text/html": [
       "<iframe src=\"http://localhost:8000/\" style=\"width: 100%; height: auto; border: none;\" onload=\"{\n",
       "        let frame = this;\n",
       "        window.addEventListener('message', function(e) {\n",
       "            if (e.source !== frame.contentWindow) return; // Only proceed if the message is from this iframe\n",
       "            if (e.data.height) frame.style.height = (e.data.height+1) + 'px';\n",
       "        }, false);\n",
       "    }\" allow=\"accelerometer; autoplay; camera; clipboard-read; clipboard-write; display-capture; encrypted-media; fullscreen; gamepad; geolocation; gyroscope; hid; identity-credentials-get; idle-detection; magnetometer; microphone; midi; payment; picture-in-picture; publickey-credentials-get; screen-wake-lock; serial; usb; web-share; xr-spatial-tracking\"></iframe> "
      ],
      "text/plain": [
       "<IPython.core.display.HTML object>"
      ]
     },
     "metadata": {},
     "output_type": "display_data"
    }
   ],
   "source": [
    "#| eval: false\n",
    "#| output: false\n",
    "test_func = test_mask_squircle_heart_hexagon_fasthtml_examples\n",
    "app, rt = create_test_app(theme=DaisyUITheme.LIGHT)\n",
    "\n",
    "@rt\n",
    "def index():\n",
    "    return create_test_page(test_func.__doc__.title().replace('.', ''), test_func())\n",
    "server = start_test_server(app)\n",
    "display(HTMX())\n",
    "server.stop()"
   ]
  },
  {
   "cell_type": "code",
   "execution_count": null,
   "id": "4ff4f0d1-ddbb-40ea-92fb-4dc0b4ff3965",
   "metadata": {},
   "outputs": [
    {
     "data": {
      "text/markdown": [
       "```html\n",
       "<div>\n",
       "<img src=\"https://img.daisyui.com/images/stock/photo-1567653418876-5bb0e566e1c2.webp\" class=\"mask mask-hexagon-2\"><img src=\"https://img.daisyui.com/images/stock/photo-1567653418876-5bb0e566e1c2.webp\" class=\"mask mask-decagon\"><img src=\"https://img.daisyui.com/images/stock/photo-1567653418876-5bb0e566e1c2.webp\" class=\"mask mask-pentagon\"></div>\n",
       "\n",
       "```"
      ],
      "text/plain": [
       "div((img((),{'src': 'https://img.daisyui.com/images/stock/photo-1567653418876-5bb0e566e1c2.webp', 'class': 'mask mask-hexagon-2'}), img((),{'src': 'https://img.daisyui.com/images/stock/photo-1567653418876-5bb0e566e1c2.webp', 'class': 'mask mask-decagon'}), img((),{'src': 'https://img.daisyui.com/images/stock/photo-1567653418876-5bb0e566e1c2.webp', 'class': 'mask mask-pentagon'})),{})"
      ]
     },
     "execution_count": null,
     "metadata": {},
     "output_type": "execute_result"
    }
   ],
   "source": [
    "#|exports\n",
    "def test_mask_hexagon2_decagon_pentagon_fasthtml_examples():\n",
    "    \"\"\"Test mask with hexagon-2, decagon, and pentagon shapes from daisyUI v5 documentation.\"\"\"\n",
    "    from fasthtml.common import Img, Div\n",
    "    \n",
    "    # Use the same image source as in documentation\n",
    "    img_src = \"https://img.daisyui.com/images/stock/photo-1567653418876-5bb0e566e1c2.webp\"\n",
    "    \n",
    "    # Hexagon-2 mask (horizontal hexagon)\n",
    "    hexagon2_mask = Img(\n",
    "        src=img_src,\n",
    "        cls=combine_classes(mask, mask_styles.hexagon_2)\n",
    "    )\n",
    "    assert hexagon2_mask.tag == \"img\"\n",
    "    assert hexagon2_mask.attrs['src'] == img_src\n",
    "    assert \"mask\" in hexagon2_mask.attrs['class']\n",
    "    assert \"mask-hexagon-2\" in hexagon2_mask.attrs['class']\n",
    "    \n",
    "    # Decagon mask\n",
    "    decagon_mask = Img(\n",
    "        src=img_src,\n",
    "        cls=combine_classes(mask, mask_styles.decagon)\n",
    "    )\n",
    "    assert decagon_mask.tag == \"img\"\n",
    "    assert decagon_mask.attrs['src'] == img_src\n",
    "    assert \"mask\" in decagon_mask.attrs['class']\n",
    "    assert \"mask-decagon\" in decagon_mask.attrs['class']\n",
    "    \n",
    "    # Pentagon mask\n",
    "    pentagon_mask = Img(\n",
    "        src=img_src,\n",
    "        cls=combine_classes(mask, mask_styles.pentagon)\n",
    "    )\n",
    "    assert pentagon_mask.tag == \"img\"\n",
    "    assert pentagon_mask.attrs['src'] == img_src\n",
    "    assert \"mask\" in pentagon_mask.attrs['class']\n",
    "    assert \"mask-pentagon\" in pentagon_mask.attrs['class']\n",
    "    \n",
    "    return Div(hexagon2_mask, decagon_mask, pentagon_mask)\n",
    "\n",
    "# Run the tests\n",
    "test_mask_hexagon2_decagon_pentagon_fasthtml_examples()"
   ]
  },
  {
   "cell_type": "code",
   "execution_count": null,
   "id": "460a0590-7a30-4ea6-80c2-ea42ad140f7a",
   "metadata": {},
   "outputs": [
    {
     "data": {
      "text/html": [
       "\n",
       "<script>\n",
       "document.body.addEventListener('htmx:configRequest', (event) => {\n",
       "    if(event.detail.path.includes('://')) return;\n",
       "    htmx.config.selfRequestsOnly=false;\n",
       "    event.detail.path = `${location.protocol}//${location.hostname}:8000${event.detail.path}`;\n",
       "});\n",
       "</script>"
      ],
      "text/plain": [
       "<IPython.core.display.HTML object>"
      ]
     },
     "metadata": {},
     "output_type": "display_data"
    },
    {
     "data": {
      "text/html": [
       "<iframe src=\"http://localhost:8000/\" style=\"width: 100%; height: auto; border: none;\" onload=\"{\n",
       "        let frame = this;\n",
       "        window.addEventListener('message', function(e) {\n",
       "            if (e.source !== frame.contentWindow) return; // Only proceed if the message is from this iframe\n",
       "            if (e.data.height) frame.style.height = (e.data.height+1) + 'px';\n",
       "        }, false);\n",
       "    }\" allow=\"accelerometer; autoplay; camera; clipboard-read; clipboard-write; display-capture; encrypted-media; fullscreen; gamepad; geolocation; gyroscope; hid; identity-credentials-get; idle-detection; magnetometer; microphone; midi; payment; picture-in-picture; publickey-credentials-get; screen-wake-lock; serial; usb; web-share; xr-spatial-tracking\"></iframe> "
      ],
      "text/plain": [
       "<IPython.core.display.HTML object>"
      ]
     },
     "metadata": {},
     "output_type": "display_data"
    }
   ],
   "source": [
    "#| eval: false\n",
    "#| output: false\n",
    "test_func = test_mask_hexagon2_decagon_pentagon_fasthtml_examples\n",
    "app, rt = create_test_app(theme=DaisyUITheme.LIGHT)\n",
    "\n",
    "@rt\n",
    "def index():\n",
    "    return create_test_page(test_func.__doc__.title().replace('.', ''), test_func())\n",
    "server = start_test_server(app)\n",
    "display(HTMX())\n",
    "server.stop()"
   ]
  },
  {
   "cell_type": "code",
   "execution_count": null,
   "id": "dc9f6f24-7797-4970-8051-11aec3f1a990",
   "metadata": {},
   "outputs": [
    {
     "data": {
      "text/markdown": [
       "```html\n",
       "<div>\n",
       "<img src=\"https://img.daisyui.com/images/stock/photo-1567653418876-5bb0e566e1c2.webp\" class=\"mask mask-diamond\"><img src=\"https://img.daisyui.com/images/stock/photo-1567653418876-5bb0e566e1c2.webp\" class=\"mask mask-square\"><img src=\"https://img.daisyui.com/images/stock/photo-1567653418876-5bb0e566e1c2.webp\" class=\"mask mask-circle\"></div>\n",
       "\n",
       "```"
      ],
      "text/plain": [
       "div((img((),{'src': 'https://img.daisyui.com/images/stock/photo-1567653418876-5bb0e566e1c2.webp', 'class': 'mask mask-diamond'}), img((),{'src': 'https://img.daisyui.com/images/stock/photo-1567653418876-5bb0e566e1c2.webp', 'class': 'mask mask-square'}), img((),{'src': 'https://img.daisyui.com/images/stock/photo-1567653418876-5bb0e566e1c2.webp', 'class': 'mask mask-circle'})),{})"
      ]
     },
     "execution_count": null,
     "metadata": {},
     "output_type": "execute_result"
    }
   ],
   "source": [
    "#|exports\n",
    "def test_mask_diamond_square_circle_fasthtml_examples():\n",
    "    \"\"\"Test mask with diamond, square, and circle shapes from daisyUI v5 documentation.\"\"\"\n",
    "    from fasthtml.common import Img, Div\n",
    "    \n",
    "    # Use the same image source as in documentation\n",
    "    img_src = \"https://img.daisyui.com/images/stock/photo-1567653418876-5bb0e566e1c2.webp\"\n",
    "    \n",
    "    # Diamond mask\n",
    "    diamond_mask = Img(\n",
    "        src=img_src,\n",
    "        cls=combine_classes(mask, mask_styles.diamond)\n",
    "    )\n",
    "    assert diamond_mask.tag == \"img\"\n",
    "    assert diamond_mask.attrs['src'] == img_src\n",
    "    assert \"mask\" in diamond_mask.attrs['class']\n",
    "    assert \"mask-diamond\" in diamond_mask.attrs['class']\n",
    "    \n",
    "    # Square mask\n",
    "    square_mask = Img(\n",
    "        src=img_src,\n",
    "        cls=combine_classes(mask, mask_styles.square)\n",
    "    )\n",
    "    assert square_mask.tag == \"img\"\n",
    "    assert square_mask.attrs['src'] == img_src\n",
    "    assert \"mask\" in square_mask.attrs['class']\n",
    "    assert \"mask-square\" in square_mask.attrs['class']\n",
    "    \n",
    "    # Circle mask\n",
    "    circle_mask = Img(\n",
    "        src=img_src,\n",
    "        cls=combine_classes(mask, mask_styles.circle)\n",
    "    )\n",
    "    assert circle_mask.tag == \"img\"\n",
    "    assert circle_mask.attrs['src'] == img_src\n",
    "    assert \"mask\" in circle_mask.attrs['class']\n",
    "    assert \"mask-circle\" in circle_mask.attrs['class']\n",
    "    \n",
    "    return Div(diamond_mask, square_mask, circle_mask)\n",
    "\n",
    "# Run the tests\n",
    "test_mask_diamond_square_circle_fasthtml_examples()"
   ]
  },
  {
   "cell_type": "code",
   "execution_count": null,
   "id": "39a195f5-e1c8-4e4c-afb4-777958492fc4",
   "metadata": {},
   "outputs": [
    {
     "data": {
      "text/html": [
       "\n",
       "<script>\n",
       "document.body.addEventListener('htmx:configRequest', (event) => {\n",
       "    if(event.detail.path.includes('://')) return;\n",
       "    htmx.config.selfRequestsOnly=false;\n",
       "    event.detail.path = `${location.protocol}//${location.hostname}:8000${event.detail.path}`;\n",
       "});\n",
       "</script>"
      ],
      "text/plain": [
       "<IPython.core.display.HTML object>"
      ]
     },
     "metadata": {},
     "output_type": "display_data"
    },
    {
     "data": {
      "text/html": [
       "<iframe src=\"http://localhost:8000/\" style=\"width: 100%; height: auto; border: none;\" onload=\"{\n",
       "        let frame = this;\n",
       "        window.addEventListener('message', function(e) {\n",
       "            if (e.source !== frame.contentWindow) return; // Only proceed if the message is from this iframe\n",
       "            if (e.data.height) frame.style.height = (e.data.height+1) + 'px';\n",
       "        }, false);\n",
       "    }\" allow=\"accelerometer; autoplay; camera; clipboard-read; clipboard-write; display-capture; encrypted-media; fullscreen; gamepad; geolocation; gyroscope; hid; identity-credentials-get; idle-detection; magnetometer; microphone; midi; payment; picture-in-picture; publickey-credentials-get; screen-wake-lock; serial; usb; web-share; xr-spatial-tracking\"></iframe> "
      ],
      "text/plain": [
       "<IPython.core.display.HTML object>"
      ]
     },
     "metadata": {},
     "output_type": "display_data"
    }
   ],
   "source": [
    "#| eval: false\n",
    "#| output: false\n",
    "test_func = test_mask_diamond_square_circle_fasthtml_examples\n",
    "app, rt = create_test_app(theme=DaisyUITheme.LIGHT)\n",
    "\n",
    "@rt\n",
    "def index():\n",
    "    return create_test_page(test_func.__doc__.title().replace('.', ''), test_func())\n",
    "server = start_test_server(app)\n",
    "display(HTMX())\n",
    "server.stop()"
   ]
  },
  {
   "cell_type": "code",
   "execution_count": null,
   "id": "e8c89de1-e2d0-47a3-8f31-378f48ae69d5",
   "metadata": {},
   "outputs": [
    {
     "data": {
      "text/markdown": [
       "```html\n",
       "<div>\n",
       "<img src=\"https://img.daisyui.com/images/stock/photo-1567653418876-5bb0e566e1c2.webp\" class=\"mask mask-star\"><img src=\"https://img.daisyui.com/images/stock/photo-1567653418876-5bb0e566e1c2.webp\" class=\"mask mask-star-2\"></div>\n",
       "\n",
       "```"
      ],
      "text/plain": [
       "div((img((),{'src': 'https://img.daisyui.com/images/stock/photo-1567653418876-5bb0e566e1c2.webp', 'class': 'mask mask-star'}), img((),{'src': 'https://img.daisyui.com/images/stock/photo-1567653418876-5bb0e566e1c2.webp', 'class': 'mask mask-star-2'})),{})"
      ]
     },
     "execution_count": null,
     "metadata": {},
     "output_type": "execute_result"
    }
   ],
   "source": [
    "#|exports\n",
    "def test_mask_star_variations_fasthtml_examples():\n",
    "    \"\"\"Test mask with star and star-2 shapes from daisyUI v5 documentation.\"\"\"\n",
    "    from fasthtml.common import Img, Div\n",
    "    \n",
    "    # Use the same image source as in documentation\n",
    "    img_src = \"https://img.daisyui.com/images/stock/photo-1567653418876-5bb0e566e1c2.webp\"\n",
    "    \n",
    "    # Star mask\n",
    "    star_mask = Img(\n",
    "        src=img_src,\n",
    "        cls=combine_classes(mask, mask_styles.star)\n",
    "    )\n",
    "    assert star_mask.tag == \"img\"\n",
    "    assert star_mask.attrs['src'] == img_src\n",
    "    assert \"mask\" in star_mask.attrs['class']\n",
    "    assert \"mask-star\" in star_mask.attrs['class']\n",
    "    \n",
    "    # Star-2 mask (bold star)\n",
    "    star2_mask = Img(\n",
    "        src=img_src,\n",
    "        cls=combine_classes(mask, mask_styles.star_2)\n",
    "    )\n",
    "    assert star2_mask.tag == \"img\"\n",
    "    assert star2_mask.attrs['src'] == img_src\n",
    "    assert \"mask\" in star2_mask.attrs['class']\n",
    "    assert \"mask-star-2\" in star2_mask.attrs['class']\n",
    "    \n",
    "    return Div(star_mask, star2_mask)\n",
    "\n",
    "# Run the tests\n",
    "test_mask_star_variations_fasthtml_examples()"
   ]
  },
  {
   "cell_type": "code",
   "execution_count": null,
   "id": "5cd146ab-e04b-4150-a4a8-6c187439986b",
   "metadata": {},
   "outputs": [
    {
     "data": {
      "text/html": [
       "\n",
       "<script>\n",
       "document.body.addEventListener('htmx:configRequest', (event) => {\n",
       "    if(event.detail.path.includes('://')) return;\n",
       "    htmx.config.selfRequestsOnly=false;\n",
       "    event.detail.path = `${location.protocol}//${location.hostname}:8000${event.detail.path}`;\n",
       "});\n",
       "</script>"
      ],
      "text/plain": [
       "<IPython.core.display.HTML object>"
      ]
     },
     "metadata": {},
     "output_type": "display_data"
    },
    {
     "data": {
      "text/html": [
       "<iframe src=\"http://localhost:8000/\" style=\"width: 100%; height: auto; border: none;\" onload=\"{\n",
       "        let frame = this;\n",
       "        window.addEventListener('message', function(e) {\n",
       "            if (e.source !== frame.contentWindow) return; // Only proceed if the message is from this iframe\n",
       "            if (e.data.height) frame.style.height = (e.data.height+1) + 'px';\n",
       "        }, false);\n",
       "    }\" allow=\"accelerometer; autoplay; camera; clipboard-read; clipboard-write; display-capture; encrypted-media; fullscreen; gamepad; geolocation; gyroscope; hid; identity-credentials-get; idle-detection; magnetometer; microphone; midi; payment; picture-in-picture; publickey-credentials-get; screen-wake-lock; serial; usb; web-share; xr-spatial-tracking\"></iframe> "
      ],
      "text/plain": [
       "<IPython.core.display.HTML object>"
      ]
     },
     "metadata": {},
     "output_type": "display_data"
    }
   ],
   "source": [
    "#| eval: false\n",
    "#| output: false\n",
    "test_func = test_mask_star_variations_fasthtml_examples\n",
    "app, rt = create_test_app(theme=DaisyUITheme.LIGHT)\n",
    "\n",
    "@rt\n",
    "def index():\n",
    "    return create_test_page(test_func.__doc__.title().replace('.', ''), test_func())\n",
    "server = start_test_server(app)\n",
    "display(HTMX())\n",
    "server.stop()"
   ]
  },
  {
   "cell_type": "code",
   "execution_count": null,
   "id": "be54cb66-7704-42ab-a279-43543615e6b1",
   "metadata": {},
   "outputs": [
    {
     "data": {
      "text/markdown": [
       "```html\n",
       "<div>\n",
       "<img src=\"https://img.daisyui.com/images/stock/photo-1567653418876-5bb0e566e1c2.webp\" class=\"mask mask-triangle\"><img src=\"https://img.daisyui.com/images/stock/photo-1567653418876-5bb0e566e1c2.webp\" class=\"mask mask-triangle-2\"><img src=\"https://img.daisyui.com/images/stock/photo-1567653418876-5bb0e566e1c2.webp\" class=\"mask mask-triangle-3\"><img src=\"https://img.daisyui.com/images/stock/photo-1567653418876-5bb0e566e1c2.webp\" class=\"mask mask-triangle-4\"></div>\n",
       "\n",
       "```"
      ],
      "text/plain": [
       "div((img((),{'src': 'https://img.daisyui.com/images/stock/photo-1567653418876-5bb0e566e1c2.webp', 'class': 'mask mask-triangle'}), img((),{'src': 'https://img.daisyui.com/images/stock/photo-1567653418876-5bb0e566e1c2.webp', 'class': 'mask mask-triangle-2'}), img((),{'src': 'https://img.daisyui.com/images/stock/photo-1567653418876-5bb0e566e1c2.webp', 'class': 'mask mask-triangle-3'}), img((),{'src': 'https://img.daisyui.com/images/stock/photo-1567653418876-5bb0e566e1c2.webp', 'class': 'mask mask-triangle-4'})),{})"
      ]
     },
     "execution_count": null,
     "metadata": {},
     "output_type": "execute_result"
    }
   ],
   "source": [
    "#|exports\n",
    "def test_mask_triangle_variations_fasthtml_examples():\n",
    "    \"\"\"Test mask with triangle variations from daisyUI v5 documentation.\"\"\"\n",
    "    from fasthtml.common import Img, Div\n",
    "    \n",
    "    # Use the same image source as in documentation\n",
    "    img_src = \"https://img.daisyui.com/images/stock/photo-1567653418876-5bb0e566e1c2.webp\"\n",
    "    \n",
    "    # Triangle mask (pointing top)\n",
    "    triangle_mask = Img(\n",
    "        src=img_src,\n",
    "        cls=combine_classes(mask, mask_styles.triangle)\n",
    "    )\n",
    "    assert triangle_mask.tag == \"img\"\n",
    "    assert triangle_mask.attrs['src'] == img_src\n",
    "    assert \"mask\" in triangle_mask.attrs['class']\n",
    "    assert \"mask-triangle\" in triangle_mask.attrs['class']\n",
    "    \n",
    "    # Triangle-2 mask (pointing down)\n",
    "    triangle2_mask = Img(\n",
    "        src=img_src,\n",
    "        cls=combine_classes(mask, mask_styles.triangle_2)\n",
    "    )\n",
    "    assert triangle2_mask.tag == \"img\"\n",
    "    assert triangle2_mask.attrs['src'] == img_src\n",
    "    assert \"mask\" in triangle2_mask.attrs['class']\n",
    "    assert \"mask-triangle-2\" in triangle2_mask.attrs['class']\n",
    "    \n",
    "    # Triangle-3 mask (pointing left)\n",
    "    triangle3_mask = Img(\n",
    "        src=img_src,\n",
    "        cls=combine_classes(mask, mask_styles.triangle_3)\n",
    "    )\n",
    "    assert triangle3_mask.tag == \"img\"\n",
    "    assert triangle3_mask.attrs['src'] == img_src\n",
    "    assert \"mask\" in triangle3_mask.attrs['class']\n",
    "    assert \"mask-triangle-3\" in triangle3_mask.attrs['class']\n",
    "    \n",
    "    # Triangle-4 mask (pointing right)\n",
    "    triangle4_mask = Img(\n",
    "        src=img_src,\n",
    "        cls=combine_classes(mask, mask_styles.triangle_4)\n",
    "    )\n",
    "    assert triangle4_mask.tag == \"img\"\n",
    "    assert triangle4_mask.attrs['src'] == img_src\n",
    "    assert \"mask\" in triangle4_mask.attrs['class']\n",
    "    assert \"mask-triangle-4\" in triangle4_mask.attrs['class']\n",
    "    \n",
    "    return Div(triangle_mask, triangle2_mask, triangle3_mask, triangle4_mask)\n",
    "\n",
    "# Run the tests\n",
    "test_mask_triangle_variations_fasthtml_examples()"
   ]
  },
  {
   "cell_type": "code",
   "execution_count": null,
   "id": "961629ff-a799-4fcf-908f-bd91feaf96a4",
   "metadata": {},
   "outputs": [
    {
     "data": {
      "text/html": [
       "\n",
       "<script>\n",
       "document.body.addEventListener('htmx:configRequest', (event) => {\n",
       "    if(event.detail.path.includes('://')) return;\n",
       "    htmx.config.selfRequestsOnly=false;\n",
       "    event.detail.path = `${location.protocol}//${location.hostname}:8000${event.detail.path}`;\n",
       "});\n",
       "</script>"
      ],
      "text/plain": [
       "<IPython.core.display.HTML object>"
      ]
     },
     "metadata": {},
     "output_type": "display_data"
    },
    {
     "data": {
      "text/html": [
       "<iframe src=\"http://localhost:8000/\" style=\"width: 100%; height: auto; border: none;\" onload=\"{\n",
       "        let frame = this;\n",
       "        window.addEventListener('message', function(e) {\n",
       "            if (e.source !== frame.contentWindow) return; // Only proceed if the message is from this iframe\n",
       "            if (e.data.height) frame.style.height = (e.data.height+1) + 'px';\n",
       "        }, false);\n",
       "    }\" allow=\"accelerometer; autoplay; camera; clipboard-read; clipboard-write; display-capture; encrypted-media; fullscreen; gamepad; geolocation; gyroscope; hid; identity-credentials-get; idle-detection; magnetometer; microphone; midi; payment; picture-in-picture; publickey-credentials-get; screen-wake-lock; serial; usb; web-share; xr-spatial-tracking\"></iframe> "
      ],
      "text/plain": [
       "<IPython.core.display.HTML object>"
      ]
     },
     "metadata": {},
     "output_type": "display_data"
    }
   ],
   "source": [
    "#| eval: false\n",
    "#| output: false\n",
    "test_func = test_mask_triangle_variations_fasthtml_examples\n",
    "app, rt = create_test_app(theme=DaisyUITheme.LIGHT)\n",
    "\n",
    "@rt\n",
    "def index():\n",
    "    return create_test_page(test_func.__doc__.title().replace('.', ''), test_func())\n",
    "server = start_test_server(app)\n",
    "display(HTMX())\n",
    "server.stop()"
   ]
  },
  {
   "cell_type": "code",
   "execution_count": null,
   "id": "f699e456-f701-4df8-9474-541113cf5e56",
   "metadata": {},
   "outputs": [],
   "source": []
  },
  {
   "cell_type": "code",
   "execution_count": null,
   "id": "decd1890-b0e6-48cc-9641-ab8b75588e77",
   "metadata": {},
   "outputs": [],
   "source": []
  },
  {
   "cell_type": "code",
   "execution_count": null,
   "id": "75253064-f6cd-4fe8-8436-bedc6757b0fd",
   "metadata": {},
   "outputs": [],
   "source": []
  },
  {
   "cell_type": "code",
   "execution_count": null,
   "id": "edb9ec29-d1db-4bf2-bade-e9a436b9e8d9",
   "metadata": {},
   "outputs": [],
   "source": []
  },
  {
   "cell_type": "code",
   "execution_count": null,
   "id": "377a62d4-0341-451b-9e5c-33d000f8e4f9",
   "metadata": {},
   "outputs": [],
   "source": []
  },
  {
   "cell_type": "code",
   "execution_count": null,
   "id": "6ff0098b-bf7c-4800-8c79-10c9db1b40f9",
   "metadata": {},
   "outputs": [],
   "source": []
  },
  {
   "cell_type": "code",
   "execution_count": null,
   "id": "c3cf5b32-8d50-40d8-98db-725ac9d79fda",
   "metadata": {},
   "outputs": [],
   "source": []
  },
  {
   "cell_type": "code",
   "execution_count": null,
   "id": "f95264c5-8559-431a-b94e-348e948ca218",
   "metadata": {},
   "outputs": [],
   "source": []
  },
  {
   "cell_type": "code",
   "execution_count": null,
   "id": "2aeb5bf2-e331-4f76-b978-8c81ef4554cb",
   "metadata": {},
   "outputs": [],
   "source": []
  },
  {
   "cell_type": "code",
   "execution_count": null,
   "id": "43a6ada3-0d2c-4608-ab64-b841b568d298",
   "metadata": {},
   "outputs": [],
   "source": []
  },
  {
   "cell_type": "code",
   "execution_count": null,
   "id": "81ae8efb-4133-4185-8fed-a4e2246c405a",
   "metadata": {},
   "outputs": [],
   "source": []
  },
  {
   "cell_type": "code",
   "execution_count": null,
   "id": "776ad31d-49d2-48dd-95a2-e3a8ebd42c90",
   "metadata": {},
   "outputs": [],
   "source": []
  },
  {
   "cell_type": "code",
   "execution_count": null,
   "id": "17c6afbd-acbb-45fe-88b4-352cb234dda7",
   "metadata": {},
   "outputs": [],
   "source": []
  },
  {
   "cell_type": "code",
   "execution_count": null,
   "id": "d1b6e54d-bbdc-43a6-bdea-eef43ab66d02",
   "metadata": {},
   "outputs": [],
   "source": []
  },
  {
   "cell_type": "code",
   "execution_count": null,
   "id": "c7017f94-006c-42bc-b5bc-33bdba029f1a",
   "metadata": {},
   "outputs": [],
   "source": []
  },
  {
   "cell_type": "code",
   "execution_count": null,
   "id": "e6654899-1837-46d9-bfba-2ca536e31088",
   "metadata": {},
   "outputs": [],
   "source": []
  },
  {
   "cell_type": "code",
   "execution_count": null,
   "id": "2f3b0e23-4369-435b-ab48-6fd822c953d1",
   "metadata": {},
   "outputs": [],
   "source": []
  },
  {
   "cell_type": "code",
   "execution_count": null,
   "id": "f7d60796-81cc-4494-b742-e99b8fcbd104",
   "metadata": {},
   "outputs": [],
   "source": []
  },
  {
   "cell_type": "code",
   "execution_count": null,
   "id": "bad2f2fe-3efb-4006-b174-275974976f34",
   "metadata": {},
   "outputs": [],
   "source": []
  },
  {
   "cell_type": "code",
   "execution_count": null,
   "id": "0b54401c-47fc-4e23-b275-8b904149fe4c",
   "metadata": {},
   "outputs": [],
   "source": []
  },
  {
   "cell_type": "code",
   "execution_count": null,
   "id": "e93dd96c-6a52-4b86-8fb5-592fdba91d82",
   "metadata": {},
   "outputs": [],
   "source": []
  },
  {
   "cell_type": "code",
   "execution_count": null,
   "id": "9660c2e4-daa1-4fd8-a081-1dd8dbcd23f0",
   "metadata": {},
   "outputs": [],
   "source": []
  },
  {
   "cell_type": "code",
   "execution_count": null,
   "id": "115d24b6-4a63-4826-9a4e-25d829303e07",
   "metadata": {},
   "outputs": [],
   "source": []
  },
  {
   "cell_type": "code",
   "execution_count": null,
   "id": "1560cdeb-1242-4fa8-8950-2a39089bd1ce",
   "metadata": {},
   "outputs": [],
   "source": []
  },
  {
   "cell_type": "code",
   "execution_count": null,
   "id": "b1ab1ff0-e51c-4081-85e4-3883e5cab02e",
   "metadata": {},
   "outputs": [],
   "source": []
  },
  {
   "cell_type": "code",
   "execution_count": null,
   "id": "15415011-c9a2-49e7-9d6f-d8fe5c3873ef",
   "metadata": {},
   "outputs": [],
   "source": []
  },
  {
   "cell_type": "code",
   "execution_count": null,
   "id": "cc177bff-2da0-4923-a6db-7a9a6c1acf7d",
   "metadata": {},
   "outputs": [],
   "source": []
  },
  {
   "cell_type": "code",
   "execution_count": null,
   "id": "796ecf56-9131-40d4-b63f-af19a56c1e0f",
   "metadata": {},
   "outputs": [],
   "source": []
  },
  {
   "cell_type": "code",
   "execution_count": null,
   "id": "7b25ae69-d652-4ee5-8b52-8f50a43af2d2",
   "metadata": {},
   "outputs": [],
   "source": []
  },
  {
   "cell_type": "code",
   "execution_count": null,
   "id": "25926bd4-e401-4039-8f9f-a1807cc3ec86",
   "metadata": {},
   "outputs": [],
   "source": []
  },
  {
   "cell_type": "code",
   "execution_count": null,
   "id": "b04c7faf-dc4f-4f00-bd08-366f8e7e81bc",
   "metadata": {},
   "outputs": [],
   "source": []
  },
  {
   "cell_type": "code",
   "execution_count": null,
   "id": "00895ac8-8f3c-46cd-81ea-f0ccc0ec9ab3",
   "metadata": {},
   "outputs": [],
   "source": []
  },
  {
   "cell_type": "code",
   "execution_count": null,
   "id": "0fe00cc3-1eef-4bc1-b2c1-61c6a755cf38",
   "metadata": {},
   "outputs": [],
   "source": []
  },
  {
   "cell_type": "code",
   "execution_count": null,
   "id": "35203dde-03c5-4dc1-b739-2c01a363a69f",
   "metadata": {},
   "outputs": [],
   "source": []
  },
  {
   "cell_type": "code",
   "execution_count": null,
   "id": "e70baf3f-8b9e-4797-ac5d-2f9fa60dec59",
   "metadata": {},
   "outputs": [],
   "source": []
  },
  {
   "cell_type": "code",
   "execution_count": null,
   "id": "7ba0ae82-1c02-4e4b-9042-00350a44e157",
   "metadata": {},
   "outputs": [],
   "source": []
  },
  {
   "cell_type": "code",
   "execution_count": null,
   "id": "248adc40-6e77-4203-9830-de838e25a00a",
   "metadata": {},
   "outputs": [],
   "source": []
  },
  {
   "cell_type": "code",
   "execution_count": null,
   "id": "a2029d6d-bf22-4e16-87e1-d609762dc867",
   "metadata": {},
   "outputs": [],
   "source": []
  },
  {
   "cell_type": "code",
   "execution_count": null,
   "id": "c9dfaad9-504c-4853-886b-2d1adb1cc3a0",
   "metadata": {},
   "outputs": [],
   "source": []
  },
  {
   "cell_type": "code",
   "execution_count": null,
   "id": "454d5b84-fc57-44ab-a6f0-3123333998cb",
   "metadata": {},
   "outputs": [],
   "source": []
  },
  {
   "cell_type": "code",
   "execution_count": null,
   "id": "d471d21b-6fe5-4c63-90be-5176c4cbd08b",
   "metadata": {},
   "outputs": [],
   "source": []
  },
  {
   "cell_type": "code",
   "execution_count": null,
   "id": "73b88b7e-0be6-4a82-9c02-f3df8af20015",
   "metadata": {},
   "outputs": [],
   "source": []
  },
  {
   "cell_type": "code",
   "execution_count": null,
   "id": "7ab8257a-c30b-45b6-a784-729b67686791",
   "metadata": {},
   "outputs": [],
   "source": [
    "#| hide\n",
    "import nbdev; nbdev.nbdev_export()"
   ]
  }
 ],
 "metadata": {
  "kernelspec": {
   "display_name": "python3",
   "language": "python",
   "name": "python3"
  }
 },
 "nbformat": 4,
 "nbformat_minor": 5
}
