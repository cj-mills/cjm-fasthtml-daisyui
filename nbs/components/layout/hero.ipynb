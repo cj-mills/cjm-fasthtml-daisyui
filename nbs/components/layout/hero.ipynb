{
 "cells": [
  {
   "cell_type": "markdown",
   "id": "7c51b46b-ece1-456d-8e84-7de122e72b62",
   "metadata": {},
   "source": [
    "# hero\n",
    "\n",
    "> Hero is a component for displaying a large box or image with a title and description."
   ]
  },
  {
   "cell_type": "code",
   "execution_count": null,
   "id": "25536bdc-e099-477f-9e2d-a5f71df5dff2",
   "metadata": {},
   "outputs": [],
   "source": [
    "#| default_exp components.layout.hero"
   ]
  },
  {
   "cell_type": "code",
   "execution_count": null,
   "id": "2e6f21ce-7766-455a-8ebb-df2c17e7d977",
   "metadata": {},
   "outputs": [],
   "source": [
    "#| hide\n",
    "from nbdev.showdoc import *"
   ]
  },
  {
   "cell_type": "code",
   "execution_count": null,
   "id": "045c6538-403e-4222-b3bb-db20f188524d",
   "metadata": {},
   "outputs": [],
   "source": [
    "#| export\n",
    "\n",
    "from cjm_fasthtml_tailwind.core.base import (\n",
    "    SingleValueFactory, combine_classes\n",
    ")\n",
    "\n",
    "from fasthtml.common import Div\n",
    "from fasthtml.jupyter import JupyUvi, HTMX\n",
    "from cjm_fasthtml_daisyui.core.testing import create_test_app, create_test_page, start_test_server\n",
    "from cjm_fasthtml_daisyui.core.themes import DaisyUITheme\n",
    "from IPython.display import display"
   ]
  },
  {
   "cell_type": "markdown",
   "id": "78cd7a51-af6f-4d75-8128-769506231cee",
   "metadata": {},
   "source": [
    "### Base Hero"
   ]
  },
  {
   "cell_type": "code",
   "execution_count": null,
   "id": "c802d106-49fb-4d34-ba04-5f54c88e165b",
   "metadata": {},
   "outputs": [],
   "source": [
    "#| export\n",
    "hero = SingleValueFactory(\"hero\", \"Base hero container\") # Base hero component\n",
    "hero_content = SingleValueFactory(\"hero-content\", \"Hero content part\") # Hero content part\n",
    "hero_overlay = SingleValueFactory(\"hero-overlay\", \"Hero overlay that covers the background image\") # Hero overlay part"
   ]
  },
  {
   "cell_type": "markdown",
   "id": "ac921fa2-c614-4141-a2a8-695971a8ff33",
   "metadata": {},
   "source": [
    "### Hero Test Examples"
   ]
  },
  {
   "cell_type": "code",
   "execution_count": null,
   "id": "636c6bcd-2176-4191-aa39-c937893243e2",
   "metadata": {},
   "outputs": [],
   "source": [
    "#| export\n",
    "def test_hero_basic_examples():\n",
    "    \"\"\"Test basic hero utilities.\"\"\"\n",
    "    # Basic hero\n",
    "    assert str(hero) == \"hero\"\n",
    "    assert str(hero_content) == \"hero-content\"\n",
    "    assert str(hero_overlay) == \"hero-overlay\"\n",
    "    \n",
    "    # Test with modifiers\n",
    "    assert str(hero.hover) == \"hover:hero\"\n",
    "    assert str(hero.md) == \"md:hero\"\n",
    "    assert str(hero.dark) == \"dark:hero\"\n",
    "\n",
    "# Run the tests\n",
    "test_hero_basic_examples()"
   ]
  },
  {
   "cell_type": "code",
   "execution_count": null,
   "id": "tltnw55mqlj",
   "metadata": {},
   "outputs": [
    {
     "data": {
      "text/markdown": [
       "```html\n",
       "<div>\n",
       "  <div class=\"hero bg-base-200 min-h-screen\">\n",
       "    <div class=\"hero-content text-center\">\n",
       "      <div class=\"max-w-md\">\n",
       "        <h1 class=\"text-5xl font-bold\">Hello there</h1>\n",
       "        <p class=\"py-6\">Provident cupiditate voluptatem et in. Quaerat fugiat ut assumenda excepturi exercitationem quasi. In deleniti eaque aut repudiandae et a id nisi.</p>\n",
       "<button class=\"btn btn-primary\">Get Started</button>      </div>\n",
       "    </div>\n",
       "  </div>\n",
       "</div>\n",
       "\n",
       "```"
      ],
      "text/plain": [
       "div((div((div((div((h1(('Hello there',),{'class': 'text-5xl font-bold'}), p(('Provident cupiditate voluptatem et in. Quaerat fugiat ut assumenda excepturi exercitationem quasi. In deleniti eaque aut repudiandae et a id nisi.',),{'class': 'py-6'}), button(('Get Started',),{'class': 'btn btn-primary'})),{'class': 'max-w-md'}),),{'class': 'hero-content text-center'}),),{'class': 'hero bg-base-200 min-h-screen'}),),{})"
      ]
     },
     "execution_count": null,
     "metadata": {},
     "output_type": "execute_result"
    }
   ],
   "source": [
    "#| export\n",
    "def test_hero_centered_fasthtml_examples():\n",
    "    \"\"\"Test centered hero example from daisyUI v5 documentation.\"\"\"\n",
    "    from fasthtml.common import Div, H1, P, Button\n",
    "    from cjm_fasthtml_tailwind.utilities.sizing import min_h, max_w\n",
    "    from cjm_fasthtml_tailwind.utilities.typography import text, font\n",
    "    from cjm_fasthtml_tailwind.utilities.spacing import p\n",
    "    from cjm_fasthtml_tailwind.utilities.typography import text_align\n",
    "    from cjm_fasthtml_daisyui.core.utility_classes import bg_dui\n",
    "    from cjm_fasthtml_daisyui.components.actions.button import btn, btn_colors\n",
    "    \n",
    "    # Centered hero\n",
    "    centered_hero = Div(\n",
    "        Div(\n",
    "            Div(\n",
    "                H1(\"Hello there\", cls=combine_classes(text._5xl, font.bold)),\n",
    "                P(\n",
    "                    \"Provident cupiditate voluptatem et in. Quaerat fugiat ut assumenda excepturi exercitationem quasi. In deleniti eaque aut repudiandae et a id nisi.\",\n",
    "                    cls=str(p.y._6)\n",
    "                ),\n",
    "                Button(\"Get Started\", cls=combine_classes(btn, btn_colors.primary)),\n",
    "                cls=str(max_w.md)\n",
    "            ),\n",
    "            cls=combine_classes(hero_content, text_align.center)\n",
    "        ),\n",
    "        cls=combine_classes(hero, bg_dui.base_200, min_h.screen)\n",
    "    )\n",
    "    \n",
    "    # Verify structure\n",
    "    assert \"hero\" in centered_hero.attrs['class']\n",
    "    assert \"bg-base-200\" in centered_hero.attrs['class']\n",
    "    assert \"min-h-screen\" in centered_hero.attrs['class']\n",
    "    \n",
    "    # Verify hero-content\n",
    "    hero_content_div = centered_hero.children[0]\n",
    "    assert \"hero-content\" in hero_content_div.attrs['class']\n",
    "    assert \"text-center\" in hero_content_div.attrs['class']\n",
    "    \n",
    "    # Verify inner content container\n",
    "    content_container = hero_content_div.children[0]\n",
    "    assert \"max-w-md\" in content_container.attrs['class']\n",
    "    \n",
    "    # Verify H1\n",
    "    h1_element = content_container.children[0]\n",
    "    assert h1_element.tag == \"h1\"\n",
    "    assert \"text-5xl\" in h1_element.attrs['class']\n",
    "    assert \"font-bold\" in h1_element.attrs['class']\n",
    "    assert h1_element.children[0] == \"Hello there\"\n",
    "    \n",
    "    # Verify P\n",
    "    p_element = content_container.children[1]\n",
    "    assert p_element.tag == \"p\"\n",
    "    assert \"py-6\" in p_element.attrs['class']\n",
    "    assert \"Provident cupiditate voluptatem et in\" in p_element.children[0]\n",
    "    \n",
    "    # Verify Button\n",
    "    button_element = content_container.children[2]\n",
    "    assert button_element.tag == \"button\"\n",
    "    assert \"btn\" in button_element.attrs['class']\n",
    "    assert \"btn-primary\" in button_element.attrs['class']\n",
    "    assert button_element.children[0] == \"Get Started\"\n",
    "    \n",
    "    return Div(centered_hero)\n",
    "\n",
    "# Run the tests\n",
    "test_hero_centered_fasthtml_examples()"
   ]
  },
  {
   "cell_type": "code",
   "execution_count": null,
   "id": "w6elk147zxt",
   "metadata": {},
   "outputs": [
    {
     "data": {
      "text/html": [
       "\n",
       "<script>\n",
       "document.body.addEventListener('htmx:configRequest', (event) => {\n",
       "    if(event.detail.path.includes('://')) return;\n",
       "    htmx.config.selfRequestsOnly=false;\n",
       "    event.detail.path = `${location.protocol}//${location.hostname}:8000${event.detail.path}`;\n",
       "});\n",
       "</script>"
      ],
      "text/plain": [
       "<IPython.core.display.HTML object>"
      ]
     },
     "metadata": {},
     "output_type": "display_data"
    },
    {
     "data": {
      "text/html": [
       "<iframe src=\"http://localhost:8000/\" style=\"width: 100%; height: auto; border: none;\" onload=\"{\n",
       "        let frame = this;\n",
       "        window.addEventListener('message', function(e) {\n",
       "            if (e.source !== frame.contentWindow) return; // Only proceed if the message is from this iframe\n",
       "            if (e.data.height) frame.style.height = (e.data.height+1) + 'px';\n",
       "        }, false);\n",
       "    }\" allow=\"accelerometer; autoplay; camera; clipboard-read; clipboard-write; display-capture; encrypted-media; fullscreen; gamepad; geolocation; gyroscope; hid; identity-credentials-get; idle-detection; magnetometer; microphone; midi; payment; picture-in-picture; publickey-credentials-get; screen-wake-lock; serial; usb; web-share; xr-spatial-tracking\"></iframe> "
      ],
      "text/plain": [
       "<IPython.core.display.HTML object>"
      ]
     },
     "metadata": {},
     "output_type": "display_data"
    }
   ],
   "source": [
    "#| eval: false\n",
    "test_func = test_hero_centered_fasthtml_examples\n",
    "app, rt = create_test_app(theme=DaisyUITheme.LIGHT)\n",
    "\n",
    "@rt\n",
    "def index():\n",
    "    return create_test_page(test_func.__doc__.title().replace('.', ''), test_func())\n",
    "server = start_test_server(app)\n",
    "display(HTMX())\n",
    "server.stop()"
   ]
  },
  {
   "cell_type": "code",
   "execution_count": null,
   "id": "9vjdja773nc",
   "metadata": {},
   "outputs": [
    {
     "data": {
      "text/markdown": [
       "```html\n",
       "<div>\n",
       "  <div class=\"hero bg-base-200 min-h-screen\">\n",
       "    <div class=\"hero-content flex-col lg:flex-row\">\n",
       "<img src=\"https://img.daisyui.com/images/stock/photo-1635805737707-575885ab0820.webp\" class=\"max-w-sm rounded-lg shadow-2xl\">      <div>\n",
       "        <h1 class=\"text-5xl font-bold\">Box Office News!</h1>\n",
       "        <p class=\"py-6\">Provident cupiditate voluptatem et in. Quaerat fugiat ut assumenda excepturi exercitationem quasi. In deleniti eaque aut repudiandae et a id nisi.</p>\n",
       "<button class=\"btn btn-primary\">Get Started</button>      </div>\n",
       "    </div>\n",
       "  </div>\n",
       "  <div class=\"hero bg-base-200 min-h-screen\">\n",
       "    <div class=\"hero-content flex-col lg:flex-row-reverse\">\n",
       "<img src=\"https://img.daisyui.com/images/stock/photo-1635805737707-575885ab0820.webp\" class=\"max-w-sm rounded-lg shadow-2xl\">      <div>\n",
       "        <h1 class=\"text-5xl font-bold\">Box Office News!</h1>\n",
       "        <p class=\"py-6\">Provident cupiditate voluptatem et in. Quaerat fugiat ut assumenda excepturi exercitationem quasi. In deleniti eaque aut repudiandae et a id nisi.</p>\n",
       "<button class=\"btn btn-primary\">Get Started</button>      </div>\n",
       "    </div>\n",
       "  </div>\n",
       "</div>\n",
       "\n",
       "```"
      ],
      "text/plain": [
       "div((div((div((img((),{'src': 'https://img.daisyui.com/images/stock/photo-1635805737707-575885ab0820.webp', 'class': 'max-w-sm rounded-lg shadow-2xl'}), div((h1(('Box Office News!',),{'class': 'text-5xl font-bold'}), p(('Provident cupiditate voluptatem et in. Quaerat fugiat ut assumenda excepturi exercitationem quasi. In deleniti eaque aut repudiandae et a id nisi.',),{'class': 'py-6'}), button(('Get Started',),{'class': 'btn btn-primary'})),{})),{'class': 'hero-content flex-col lg:flex-row'}),),{'class': 'hero bg-base-200 min-h-screen'}), div((div((img((),{'src': 'https://img.daisyui.com/images/stock/photo-1635805737707-575885ab0820.webp', 'class': 'max-w-sm rounded-lg shadow-2xl'}), div((h1(('Box Office News!',),{'class': 'text-5xl font-bold'}), p(('Provident cupiditate voluptatem et in. Quaerat fugiat ut assumenda excepturi exercitationem quasi. In deleniti eaque aut repudiandae et a id nisi.',),{'class': 'py-6'}), button(('Get Started',),{'class': 'btn btn-primary'})),{})),{'class': 'hero-content flex-col lg:flex-row-reverse'}),),{'class': 'hero bg-base-200 min-h-screen'})),{})"
      ]
     },
     "execution_count": null,
     "metadata": {},
     "output_type": "execute_result"
    }
   ],
   "source": [
    "#| export\n",
    "def test_hero_with_figure_fasthtml_examples():\n",
    "    \"\"\"Test hero with figure examples from daisyUI v5 documentation.\"\"\"\n",
    "    from fasthtml.common import Div, H1, P, Button, Img\n",
    "    from cjm_fasthtml_tailwind.utilities.sizing import min_h, max_w\n",
    "    from cjm_fasthtml_tailwind.utilities.typography import text, font\n",
    "    from cjm_fasthtml_tailwind.utilities.spacing import p\n",
    "    from cjm_fasthtml_tailwind.utilities.borders import rounded\n",
    "    from cjm_fasthtml_tailwind.utilities.effects import shadow\n",
    "    from cjm_fasthtml_tailwind.utilities.flexbox_and_grid import flex\n",
    "    from cjm_fasthtml_daisyui.core.utility_classes import bg_dui\n",
    "    from cjm_fasthtml_daisyui.components.actions.button import btn, btn_colors\n",
    "    \n",
    "    # Hero with figure\n",
    "    hero_with_figure = Div(\n",
    "        Div(\n",
    "            Img(\n",
    "                src=\"https://img.daisyui.com/images/stock/photo-1635805737707-575885ab0820.webp\",\n",
    "                cls=combine_classes(max_w.sm, rounded.lg, shadow._2xl)\n",
    "            ),\n",
    "            Div(\n",
    "                H1(\"Box Office News!\", cls=combine_classes(text._5xl, font.bold)),\n",
    "                P(\n",
    "                    \"Provident cupiditate voluptatem et in. Quaerat fugiat ut assumenda excepturi exercitationem quasi. In deleniti eaque aut repudiandae et a id nisi.\",\n",
    "                    cls=str(p.y._6)\n",
    "                ),\n",
    "                Button(\"Get Started\", cls=combine_classes(btn, btn_colors.primary))\n",
    "            ),\n",
    "            cls=combine_classes(hero_content, flex.col, flex.row.lg)\n",
    "        ),\n",
    "        cls=combine_classes(hero, bg_dui.base_200, min_h.screen)\n",
    "    )\n",
    "    \n",
    "    # Verify structure\n",
    "    assert \"hero\" in hero_with_figure.attrs['class']\n",
    "    assert \"bg-base-200\" in hero_with_figure.attrs['class']\n",
    "    assert \"min-h-screen\" in hero_with_figure.attrs['class']\n",
    "    \n",
    "    # Verify hero-content\n",
    "    hero_content_div = hero_with_figure.children[0]\n",
    "    assert \"hero-content\" in hero_content_div.attrs['class']\n",
    "    assert \"flex-col\" in hero_content_div.attrs['class']\n",
    "    assert \"lg:flex-row\" in hero_content_div.attrs['class']\n",
    "    \n",
    "    # Verify image\n",
    "    img_element = hero_content_div.children[0]\n",
    "    assert img_element.tag == \"img\"\n",
    "    assert \"max-w-sm\" in img_element.attrs['class']\n",
    "    assert \"rounded-lg\" in img_element.attrs['class']\n",
    "    assert \"shadow-2xl\" in img_element.attrs['class']\n",
    "    assert img_element.attrs['src'] == \"https://img.daisyui.com/images/stock/photo-1635805737707-575885ab0820.webp\"\n",
    "    \n",
    "    # Verify content div\n",
    "    content_div = hero_content_div.children[1]\n",
    "    assert content_div.tag == \"div\"\n",
    "    \n",
    "    # Verify H1\n",
    "    h1_element = content_div.children[0]\n",
    "    assert h1_element.tag == \"h1\"\n",
    "    assert \"text-5xl\" in h1_element.attrs['class']\n",
    "    assert \"font-bold\" in h1_element.attrs['class']\n",
    "    assert h1_element.children[0] == \"Box Office News!\"\n",
    "    \n",
    "    # Verify P\n",
    "    p_element = content_div.children[1]\n",
    "    assert p_element.tag == \"p\"\n",
    "    assert \"py-6\" in p_element.attrs['class']\n",
    "    \n",
    "    # Verify Button\n",
    "    button_element = content_div.children[2]\n",
    "    assert button_element.tag == \"button\"\n",
    "    assert \"btn\" in button_element.attrs['class']\n",
    "    assert \"btn-primary\" in button_element.attrs['class']\n",
    "    assert button_element.children[0] == \"Get Started\"\n",
    "    \n",
    "    # Hero with figure but reverse order\n",
    "    hero_with_figure_reverse = Div(\n",
    "        Div(\n",
    "            Img(\n",
    "                src=\"https://img.daisyui.com/images/stock/photo-1635805737707-575885ab0820.webp\",\n",
    "                cls=combine_classes(max_w.sm, rounded.lg, shadow._2xl)\n",
    "            ),\n",
    "            Div(\n",
    "                H1(\"Box Office News!\", cls=combine_classes(text._5xl, font.bold)),\n",
    "                P(\n",
    "                    \"Provident cupiditate voluptatem et in. Quaerat fugiat ut assumenda excepturi exercitationem quasi. In deleniti eaque aut repudiandae et a id nisi.\",\n",
    "                    cls=str(p.y._6)\n",
    "                ),\n",
    "                Button(\"Get Started\", cls=combine_classes(btn, btn_colors.primary))\n",
    "            ),\n",
    "            cls=combine_classes(hero_content, flex.col, flex.row_reverse.lg)\n",
    "        ),\n",
    "        cls=combine_classes(hero, bg_dui.base_200, min_h.screen)\n",
    "    )\n",
    "    \n",
    "    # Verify reverse order structure\n",
    "    assert \"hero\" in hero_with_figure_reverse.attrs['class']\n",
    "    assert \"bg-base-200\" in hero_with_figure_reverse.attrs['class']\n",
    "    assert \"min-h-screen\" in hero_with_figure_reverse.attrs['class']\n",
    "    \n",
    "    # Verify hero-content with reverse\n",
    "    hero_content_reverse = hero_with_figure_reverse.children[0]\n",
    "    assert \"hero-content\" in hero_content_reverse.attrs['class']\n",
    "    assert \"flex-col\" in hero_content_reverse.attrs['class']\n",
    "    assert \"lg:flex-row-reverse\" in hero_content_reverse.attrs['class']\n",
    "    \n",
    "    return Div(hero_with_figure, hero_with_figure_reverse)\n",
    "\n",
    "# Run the tests\n",
    "test_hero_with_figure_fasthtml_examples()"
   ]
  },
  {
   "cell_type": "code",
   "execution_count": null,
   "id": "1qrrt6jdy3l",
   "metadata": {},
   "outputs": [
    {
     "data": {
      "text/html": [
       "\n",
       "<script>\n",
       "document.body.addEventListener('htmx:configRequest', (event) => {\n",
       "    if(event.detail.path.includes('://')) return;\n",
       "    htmx.config.selfRequestsOnly=false;\n",
       "    event.detail.path = `${location.protocol}//${location.hostname}:8000${event.detail.path}`;\n",
       "});\n",
       "</script>"
      ],
      "text/plain": [
       "<IPython.core.display.HTML object>"
      ]
     },
     "metadata": {},
     "output_type": "display_data"
    },
    {
     "data": {
      "text/html": [
       "<iframe src=\"http://localhost:8000/\" style=\"width: 100%; height: auto; border: none;\" onload=\"{\n",
       "        let frame = this;\n",
       "        window.addEventListener('message', function(e) {\n",
       "            if (e.source !== frame.contentWindow) return; // Only proceed if the message is from this iframe\n",
       "            if (e.data.height) frame.style.height = (e.data.height+1) + 'px';\n",
       "        }, false);\n",
       "    }\" allow=\"accelerometer; autoplay; camera; clipboard-read; clipboard-write; display-capture; encrypted-media; fullscreen; gamepad; geolocation; gyroscope; hid; identity-credentials-get; idle-detection; magnetometer; microphone; midi; payment; picture-in-picture; publickey-credentials-get; screen-wake-lock; serial; usb; web-share; xr-spatial-tracking\"></iframe> "
      ],
      "text/plain": [
       "<IPython.core.display.HTML object>"
      ]
     },
     "metadata": {},
     "output_type": "display_data"
    }
   ],
   "source": [
    "#| eval: false\n",
    "test_func = test_hero_with_figure_fasthtml_examples\n",
    "app, rt = create_test_app(theme=DaisyUITheme.LIGHT)\n",
    "\n",
    "@rt\n",
    "def index():\n",
    "    return create_test_page(test_func.__doc__.title().replace('.', ''), test_func())\n",
    "server = start_test_server(app)\n",
    "display(HTMX())\n",
    "server.stop()"
   ]
  },
  {
   "cell_type": "code",
   "execution_count": null,
   "id": "rvyyshslq1",
   "metadata": {},
   "outputs": [
    {
     "data": {
      "text/markdown": [
       "```html\n",
       "<div>\n",
       "  <div class=\"hero bg-base-200 min-h-screen\">\n",
       "    <div class=\"hero-content flex-col lg:flex-row-reverse\">\n",
       "      <div class=\"text-center lg:text-left\">\n",
       "        <h1 class=\"text-5xl font-bold\">Login now!</h1>\n",
       "        <p class=\"py-6\">Provident cupiditate voluptatem et in. Quaerat fugiat ut assumenda excepturi exercitationem quasi. In deleniti eaque aut repudiandae et a id nisi.</p>\n",
       "      </div>\n",
       "      <div class=\"card bg-base-100 w-full max-w-sm shrink-0 shadow-2xl\">\n",
       "        <div class=\"card-body\">\n",
       "<fieldset class=\"fieldset\"><label class=\"label\">Email</label>            <input type=\"email\" placeholder=\"Email\" class=\"input\">\n",
       "<label class=\"label\">Password</label>            <input type=\"password\" placeholder=\"Password\" class=\"input\">\n",
       "            <div>\n",
       "<a href=\"#\" class=\"link link-hover\">Forgot password?</a>            </div>\n",
       "<button class=\"btn btn-neutral mt-4\">Login</button></fieldset>        </div>\n",
       "      </div>\n",
       "    </div>\n",
       "  </div>\n",
       "</div>\n",
       "\n",
       "```"
      ],
      "text/plain": [
       "div((div((div((div((h1(('Login now!',),{'class': 'text-5xl font-bold'}), p(('Provident cupiditate voluptatem et in. Quaerat fugiat ut assumenda excepturi exercitationem quasi. In deleniti eaque aut repudiandae et a id nisi.',),{'class': 'py-6'})),{'class': 'text-center lg:text-left'}), div((div((fieldset((label(('Email',),{'class': 'label'}), input((),{'type': 'email', 'placeholder': 'Email', 'class': 'input'}), label(('Password',),{'class': 'label'}), input((),{'type': 'password', 'placeholder': 'Password', 'class': 'input'}), div((a(('Forgot password?',),{'href': '#', 'class': 'link link-hover'}),),{}), button(('Login',),{'class': 'btn btn-neutral mt-4'})),{'class': 'fieldset'}),),{'class': 'card-body'}),),{'class': 'card bg-base-100 w-full max-w-sm shrink-0 shadow-2xl'})),{'class': 'hero-content flex-col lg:flex-row-reverse'}),),{'class': 'hero bg-base-200 min-h-screen'}),),{})"
      ]
     },
     "execution_count": null,
     "metadata": {},
     "output_type": "execute_result"
    }
   ],
   "source": [
    "#| export\n",
    "def test_hero_with_form_fasthtml_examples():\n",
    "    \"\"\"Test hero with form example from daisyUI v5 documentation.\"\"\"\n",
    "    from fasthtml.common import Div, H1, P, Button, Input, Label, Fieldset, A\n",
    "    from cjm_fasthtml_tailwind.utilities.sizing import min_h, max_w, w\n",
    "    from cjm_fasthtml_tailwind.utilities.typography import text, font, text_align\n",
    "    from cjm_fasthtml_tailwind.utilities.spacing import p, m\n",
    "    from cjm_fasthtml_tailwind.utilities.flexbox_and_grid import flex, shrink\n",
    "    from cjm_fasthtml_tailwind.utilities.effects import shadow\n",
    "    from cjm_fasthtml_daisyui.core.utility_classes import bg_dui\n",
    "    from cjm_fasthtml_daisyui.components.actions.button import btn, btn_colors\n",
    "    from cjm_fasthtml_daisyui.components.data_display.card import card, card_body\n",
    "    from cjm_fasthtml_daisyui.components.data_input.text_input import text_input \n",
    "    from cjm_fasthtml_daisyui.components.data_input.label import label\n",
    "    from cjm_fasthtml_daisyui.components.navigation.link import link, link_styles\n",
    "    \n",
    "    # Hero with form\n",
    "    hero_with_form = Div(\n",
    "        Div(\n",
    "            Div(\n",
    "                H1(\"Login now!\", cls=combine_classes(text._5xl, font.bold)),\n",
    "                P(\n",
    "                    \"Provident cupiditate voluptatem et in. Quaerat fugiat ut assumenda excepturi exercitationem quasi. In deleniti eaque aut repudiandae et a id nisi.\",\n",
    "                    cls=str(p.y._6)\n",
    "                ),\n",
    "                cls=combine_classes(text_align.center, text_align.left.lg)\n",
    "            ),\n",
    "            Div(\n",
    "                Div(\n",
    "                    Fieldset(\n",
    "                        Label(\"Email\", cls=str(label)),\n",
    "                        Input(type=\"email\", placeholder=\"Email\", cls=str(text_input)),\n",
    "                        Label(\"Password\", cls=str(label)),\n",
    "                        Input(type=\"password\", placeholder=\"Password\", cls=str(text_input)),\n",
    "                        Div(\n",
    "                            A(\"Forgot password?\", cls=combine_classes(link, link_styles.hover))\n",
    "                        ),\n",
    "                        Button(\"Login\", cls=combine_classes(btn, btn_colors.neutral, m.t._4)),\n",
    "                        cls=\"fieldset\"\n",
    "                    ),\n",
    "                    cls=str(card_body)\n",
    "                ),\n",
    "                cls=combine_classes(card, bg_dui.base_100, w.full, max_w.sm, shrink._0, shadow._2xl)\n",
    "            ),\n",
    "            cls=combine_classes(hero_content, flex.col, flex.row_reverse.lg)\n",
    "        ),\n",
    "        cls=combine_classes(hero, bg_dui.base_200, min_h.screen)\n",
    "    )\n",
    "    \n",
    "    # Verify structure\n",
    "    assert \"hero\" in hero_with_form.attrs['class']\n",
    "    assert \"bg-base-200\" in hero_with_form.attrs['class']\n",
    "    assert \"min-h-screen\" in hero_with_form.attrs['class']\n",
    "    \n",
    "    # Verify hero-content\n",
    "    hero_content_div = hero_with_form.children[0]\n",
    "    assert \"hero-content\" in hero_content_div.attrs['class']\n",
    "    assert \"flex-col\" in hero_content_div.attrs['class']\n",
    "    assert \"lg:flex-row-reverse\" in hero_content_div.attrs['class']\n",
    "    \n",
    "    # Verify text content div\n",
    "    text_div = hero_content_div.children[0]\n",
    "    assert text_div.tag == \"div\"\n",
    "    assert \"text-center\" in text_div.attrs['class']\n",
    "    assert \"lg:text-left\" in text_div.attrs['class']\n",
    "    \n",
    "    # Verify H1\n",
    "    h1_element = text_div.children[0]\n",
    "    assert h1_element.tag == \"h1\"\n",
    "    assert \"text-5xl\" in h1_element.attrs['class']\n",
    "    assert \"font-bold\" in h1_element.attrs['class']\n",
    "    assert h1_element.children[0] == \"Login now!\"\n",
    "    \n",
    "    # Verify P\n",
    "    p_element = text_div.children[1]\n",
    "    assert p_element.tag == \"p\"\n",
    "    assert \"py-6\" in p_element.attrs['class']\n",
    "    \n",
    "    # Verify card\n",
    "    card_div = hero_content_div.children[1]\n",
    "    assert \"card\" in card_div.attrs['class']\n",
    "    assert \"bg-base-100\" in card_div.attrs['class']\n",
    "    assert \"w-full\" in card_div.attrs['class']\n",
    "    assert \"max-w-sm\" in card_div.attrs['class']\n",
    "    assert \"shrink-0\" in card_div.attrs['class']\n",
    "    assert \"shadow-2xl\" in card_div.attrs['class']\n",
    "    \n",
    "    # Verify card body\n",
    "    card_body_div = card_div.children[0]\n",
    "    assert \"card-body\" in card_body_div.attrs['class']\n",
    "    \n",
    "    # Verify fieldset\n",
    "    fieldset_element = card_body_div.children[0]\n",
    "    assert fieldset_element.tag == \"fieldset\"\n",
    "    assert fieldset_element.attrs['class'] == \"fieldset\"\n",
    "    \n",
    "    # Verify first label and input (Email)\n",
    "    assert fieldset_element.children[0].tag == \"label\"\n",
    "    assert \"label\" in fieldset_element.children[0].attrs['class']\n",
    "    assert fieldset_element.children[0].children[0] == \"Email\"\n",
    "    \n",
    "    assert fieldset_element.children[1].tag == \"input\"\n",
    "    assert fieldset_element.children[1].attrs['type'] == \"email\"\n",
    "    assert \"input\" in fieldset_element.children[1].attrs['class']\n",
    "    assert fieldset_element.children[1].attrs['placeholder'] == \"Email\"\n",
    "    \n",
    "    # Verify second label and input (Password)\n",
    "    assert fieldset_element.children[2].tag == \"label\"\n",
    "    assert \"label\" in fieldset_element.children[2].attrs['class']\n",
    "    assert fieldset_element.children[2].children[0] == \"Password\"\n",
    "    \n",
    "    assert fieldset_element.children[3].tag == \"input\"\n",
    "    assert fieldset_element.children[3].attrs['type'] == \"password\"\n",
    "    assert \"input\" in fieldset_element.children[3].attrs['class']\n",
    "    assert fieldset_element.children[3].attrs['placeholder'] == \"Password\"\n",
    "    \n",
    "    # Verify forgot password link\n",
    "    link_div = fieldset_element.children[4]\n",
    "    assert link_div.tag == \"div\"\n",
    "    assert link_div.children[0].tag == \"a\"\n",
    "    assert \"link\" in link_div.children[0].attrs['class']\n",
    "    assert \"link-hover\" in link_div.children[0].attrs['class']\n",
    "    assert link_div.children[0].children[0] == \"Forgot password?\"\n",
    "    \n",
    "    # Verify login button\n",
    "    login_button = fieldset_element.children[5]\n",
    "    assert login_button.tag == \"button\"\n",
    "    assert \"btn\" in login_button.attrs['class']\n",
    "    assert \"btn-neutral\" in login_button.attrs['class']\n",
    "    assert \"mt-4\" in login_button.attrs['class']\n",
    "    assert login_button.children[0] == \"Login\"\n",
    "    \n",
    "    return Div(hero_with_form)\n",
    "\n",
    "# Run the tests\n",
    "test_hero_with_form_fasthtml_examples()"
   ]
  },
  {
   "cell_type": "code",
   "execution_count": null,
   "id": "7qp02bbux98",
   "metadata": {},
   "outputs": [
    {
     "data": {
      "text/html": [
       "\n",
       "<script>\n",
       "document.body.addEventListener('htmx:configRequest', (event) => {\n",
       "    if(event.detail.path.includes('://')) return;\n",
       "    htmx.config.selfRequestsOnly=false;\n",
       "    event.detail.path = `${location.protocol}//${location.hostname}:8000${event.detail.path}`;\n",
       "});\n",
       "</script>"
      ],
      "text/plain": [
       "<IPython.core.display.HTML object>"
      ]
     },
     "metadata": {},
     "output_type": "display_data"
    },
    {
     "data": {
      "text/html": [
       "<iframe src=\"http://localhost:8000/\" style=\"width: 100%; height: auto; border: none;\" onload=\"{\n",
       "        let frame = this;\n",
       "        window.addEventListener('message', function(e) {\n",
       "            if (e.source !== frame.contentWindow) return; // Only proceed if the message is from this iframe\n",
       "            if (e.data.height) frame.style.height = (e.data.height+1) + 'px';\n",
       "        }, false);\n",
       "    }\" allow=\"accelerometer; autoplay; camera; clipboard-read; clipboard-write; display-capture; encrypted-media; fullscreen; gamepad; geolocation; gyroscope; hid; identity-credentials-get; idle-detection; magnetometer; microphone; midi; payment; picture-in-picture; publickey-credentials-get; screen-wake-lock; serial; usb; web-share; xr-spatial-tracking\"></iframe> "
      ],
      "text/plain": [
       "<IPython.core.display.HTML object>"
      ]
     },
     "metadata": {},
     "output_type": "display_data"
    }
   ],
   "source": [
    "#| eval: false\n",
    "test_func = test_hero_with_form_fasthtml_examples\n",
    "app, rt = create_test_app(theme=DaisyUITheme.LIGHT)\n",
    "\n",
    "@rt\n",
    "def index():\n",
    "    return create_test_page(test_func.__doc__.title().replace('.', ''), test_func())\n",
    "server = start_test_server(app)\n",
    "display(HTMX())\n",
    "server.stop()"
   ]
  },
  {
   "cell_type": "code",
   "execution_count": null,
   "id": "v7bnhiz2o",
   "metadata": {},
   "outputs": [
    {
     "data": {
      "text/markdown": [
       "```html\n",
       "<div>\n",
       "  <div class=\"hero min-h-screen\" style=\"background-image: url(https://img.daisyui.com/images/stock/photo-1507358522600-9f71e620c44e.webp);\">\n",
       "    <div class=\"hero-overlay\"></div>\n",
       "    <div class=\"hero-content text-neutral-content text-center\">\n",
       "      <div class=\"max-w-md\">\n",
       "        <h1 class=\"mb-5 text-5xl font-bold\">Hello there</h1>\n",
       "        <p class=\"mb-5\">Provident cupiditate voluptatem et in. Quaerat fugiat ut assumenda excepturi exercitationem quasi. In deleniti eaque aut repudiandae et a id nisi.</p>\n",
       "<button class=\"btn btn-primary\">Get Started</button>      </div>\n",
       "    </div>\n",
       "  </div>\n",
       "</div>\n",
       "\n",
       "```"
      ],
      "text/plain": [
       "div((div((div((),{'class': 'hero-overlay'}), div((div((h1(('Hello there',),{'class': 'mb-5 text-5xl font-bold'}), p(('Provident cupiditate voluptatem et in. Quaerat fugiat ut assumenda excepturi exercitationem quasi. In deleniti eaque aut repudiandae et a id nisi.',),{'class': 'mb-5'}), button(('Get Started',),{'class': 'btn btn-primary'})),{'class': 'max-w-md'}),),{'class': 'hero-content text-neutral-content text-center'})),{'class': 'hero min-h-screen', 'style': 'background-image: url(https://img.daisyui.com/images/stock/photo-1507358522600-9f71e620c44e.webp);'}),),{})"
      ]
     },
     "execution_count": null,
     "metadata": {},
     "output_type": "execute_result"
    }
   ],
   "source": [
    "#| export\n",
    "def test_hero_with_overlay_fasthtml_examples():\n",
    "    \"\"\"Test hero with overlay image example from daisyUI v5 documentation.\"\"\"\n",
    "    from fasthtml.common import Div, H1, P, Button\n",
    "    from cjm_fasthtml_tailwind.utilities.sizing import min_h, max_w\n",
    "    from cjm_fasthtml_tailwind.utilities.typography import text, font, text_align\n",
    "    from cjm_fasthtml_tailwind.utilities.spacing import m\n",
    "    from cjm_fasthtml_daisyui.core.utility_classes import text_dui\n",
    "    from cjm_fasthtml_daisyui.components.actions.button import btn, btn_colors\n",
    "    \n",
    "    # Hero with overlay image\n",
    "    hero_with_overlay = Div(\n",
    "        Div(cls=str(hero_overlay)),\n",
    "        Div(\n",
    "            Div(\n",
    "                H1(\"Hello there\", cls=combine_classes(m.b._5, text._5xl, font.bold)),\n",
    "                P(\n",
    "                    \"Provident cupiditate voluptatem et in. Quaerat fugiat ut assumenda excepturi exercitationem quasi. In deleniti eaque aut repudiandae et a id nisi.\",\n",
    "                    cls=str(m.b._5)\n",
    "                ),\n",
    "                Button(\"Get Started\", cls=combine_classes(btn, btn_colors.primary)),\n",
    "                cls=str(max_w.md)\n",
    "            ),\n",
    "            cls=combine_classes(hero_content, text_dui.neutral_content, text_align.center)\n",
    "        ),\n",
    "        cls=combine_classes(hero, min_h.screen),\n",
    "        style=\"background-image: url(https://img.daisyui.com/images/stock/photo-1507358522600-9f71e620c44e.webp);\"\n",
    "    )\n",
    "    \n",
    "    # Verify structure\n",
    "    assert \"hero\" in hero_with_overlay.attrs['class']\n",
    "    assert \"min-h-screen\" in hero_with_overlay.attrs['class']\n",
    "    assert hero_with_overlay.attrs['style'] == \"background-image: url(https://img.daisyui.com/images/stock/photo-1507358522600-9f71e620c44e.webp);\"\n",
    "    \n",
    "    # Verify hero-overlay\n",
    "    hero_overlay_div = hero_with_overlay.children[0]\n",
    "    assert \"hero-overlay\" in hero_overlay_div.attrs['class']\n",
    "    \n",
    "    # Verify hero-content\n",
    "    hero_content_div = hero_with_overlay.children[1]\n",
    "    assert \"hero-content\" in hero_content_div.attrs['class']\n",
    "    assert \"text-neutral-content\" in hero_content_div.attrs['class']\n",
    "    assert \"text-center\" in hero_content_div.attrs['class']\n",
    "    \n",
    "    # Verify inner content container\n",
    "    content_container = hero_content_div.children[0]\n",
    "    assert \"max-w-md\" in content_container.attrs['class']\n",
    "    \n",
    "    # Verify H1\n",
    "    h1_element = content_container.children[0]\n",
    "    assert h1_element.tag == \"h1\"\n",
    "    assert \"mb-5\" in h1_element.attrs['class']\n",
    "    assert \"text-5xl\" in h1_element.attrs['class']\n",
    "    assert \"font-bold\" in h1_element.attrs['class']\n",
    "    assert h1_element.children[0] == \"Hello there\"\n",
    "    \n",
    "    # Verify P\n",
    "    p_element = content_container.children[1]\n",
    "    assert p_element.tag == \"p\"\n",
    "    assert \"mb-5\" in p_element.attrs['class']\n",
    "    assert \"Provident cupiditate voluptatem et in\" in p_element.children[0]\n",
    "    \n",
    "    # Verify Button\n",
    "    button_element = content_container.children[2]\n",
    "    assert button_element.tag == \"button\"\n",
    "    assert \"btn\" in button_element.attrs['class']\n",
    "    assert \"btn-primary\" in button_element.attrs['class']\n",
    "    assert button_element.children[0] == \"Get Started\"\n",
    "    \n",
    "    return Div(hero_with_overlay)\n",
    "\n",
    "# Run the tests\n",
    "test_hero_with_overlay_fasthtml_examples()"
   ]
  },
  {
   "cell_type": "code",
   "execution_count": null,
   "id": "fanxorns1l5",
   "metadata": {},
   "outputs": [
    {
     "data": {
      "text/html": [
       "\n",
       "<script>\n",
       "document.body.addEventListener('htmx:configRequest', (event) => {\n",
       "    if(event.detail.path.includes('://')) return;\n",
       "    htmx.config.selfRequestsOnly=false;\n",
       "    event.detail.path = `${location.protocol}//${location.hostname}:8000${event.detail.path}`;\n",
       "});\n",
       "</script>"
      ],
      "text/plain": [
       "<IPython.core.display.HTML object>"
      ]
     },
     "metadata": {},
     "output_type": "display_data"
    },
    {
     "data": {
      "text/html": [
       "<iframe src=\"http://localhost:8000/\" style=\"width: 100%; height: auto; border: none;\" onload=\"{\n",
       "        let frame = this;\n",
       "        window.addEventListener('message', function(e) {\n",
       "            if (e.source !== frame.contentWindow) return; // Only proceed if the message is from this iframe\n",
       "            if (e.data.height) frame.style.height = (e.data.height+1) + 'px';\n",
       "        }, false);\n",
       "    }\" allow=\"accelerometer; autoplay; camera; clipboard-read; clipboard-write; display-capture; encrypted-media; fullscreen; gamepad; geolocation; gyroscope; hid; identity-credentials-get; idle-detection; magnetometer; microphone; midi; payment; picture-in-picture; publickey-credentials-get; screen-wake-lock; serial; usb; web-share; xr-spatial-tracking\"></iframe> "
      ],
      "text/plain": [
       "<IPython.core.display.HTML object>"
      ]
     },
     "metadata": {},
     "output_type": "display_data"
    }
   ],
   "source": [
    "#| eval: false\n",
    "test_func = test_hero_with_overlay_fasthtml_examples\n",
    "app, rt = create_test_app(theme=DaisyUITheme.LIGHT)\n",
    "\n",
    "@rt\n",
    "def index():\n",
    "    return create_test_page(test_func.__doc__.title().replace('.', ''), test_func())\n",
    "server = start_test_server(app)\n",
    "display(HTMX())\n",
    "server.stop()"
   ]
  },
  {
   "cell_type": "code",
   "execution_count": null,
   "id": "443339b0-5fdd-43d8-98fb-64d4988f48f1",
   "metadata": {},
   "outputs": [],
   "source": []
  },
  {
   "cell_type": "code",
   "execution_count": null,
   "id": "ac897016-1a9d-4e88-9ee5-f3e91b0be89b",
   "metadata": {},
   "outputs": [],
   "source": []
  },
  {
   "cell_type": "code",
   "execution_count": null,
   "id": "7f83466d-f05d-4dbc-9c83-7adedb896582",
   "metadata": {},
   "outputs": [],
   "source": []
  },
  {
   "cell_type": "code",
   "execution_count": null,
   "id": "1584252d-92d9-4eaa-846f-8b770d890421",
   "metadata": {},
   "outputs": [],
   "source": []
  },
  {
   "cell_type": "code",
   "execution_count": null,
   "id": "f0644d72-4507-4078-9e7f-c87014ef7d55",
   "metadata": {},
   "outputs": [],
   "source": []
  },
  {
   "cell_type": "code",
   "execution_count": null,
   "id": "1e651da4-36f2-4f43-8526-e870c558fca5",
   "metadata": {},
   "outputs": [],
   "source": []
  },
  {
   "cell_type": "code",
   "execution_count": null,
   "id": "b6b79e61-c211-4c87-bc41-cd71d69165f2",
   "metadata": {},
   "outputs": [],
   "source": []
  },
  {
   "cell_type": "code",
   "execution_count": null,
   "id": "8b24f5fe-8ad3-4491-945a-9a7fb91b1806",
   "metadata": {},
   "outputs": [],
   "source": []
  },
  {
   "cell_type": "code",
   "execution_count": null,
   "id": "e76e357b-7fc6-4114-846a-01d71502a122",
   "metadata": {},
   "outputs": [],
   "source": []
  },
  {
   "cell_type": "code",
   "execution_count": null,
   "id": "21da26af-dd2a-4d12-9eed-f7ba9cfbfe21",
   "metadata": {},
   "outputs": [],
   "source": []
  },
  {
   "cell_type": "code",
   "execution_count": null,
   "id": "95de3544-7147-4d20-bb1a-009fdedeef78",
   "metadata": {},
   "outputs": [],
   "source": []
  },
  {
   "cell_type": "code",
   "execution_count": null,
   "id": "cac593f2-3582-4d68-a4b8-1026d46cc4f6",
   "metadata": {},
   "outputs": [],
   "source": []
  },
  {
   "cell_type": "code",
   "execution_count": null,
   "id": "d47e699c-370e-4197-996d-229e374ec673",
   "metadata": {},
   "outputs": [],
   "source": []
  },
  {
   "cell_type": "code",
   "execution_count": null,
   "id": "6f6eb9cf-3c61-4505-b030-027ec965a27e",
   "metadata": {},
   "outputs": [],
   "source": []
  },
  {
   "cell_type": "code",
   "execution_count": null,
   "id": "0d47f92c-fc98-4844-be8b-a77167700174",
   "metadata": {},
   "outputs": [],
   "source": []
  },
  {
   "cell_type": "code",
   "execution_count": null,
   "id": "dfc9739e-0ff1-45f7-b076-8a3f07b47d7b",
   "metadata": {},
   "outputs": [],
   "source": []
  },
  {
   "cell_type": "code",
   "execution_count": null,
   "id": "42430b74-bf71-41fd-816d-8054f636977c",
   "metadata": {},
   "outputs": [],
   "source": []
  },
  {
   "cell_type": "code",
   "execution_count": null,
   "id": "eecb81e8-0078-4a88-bf5b-cbad1b286bb7",
   "metadata": {},
   "outputs": [],
   "source": []
  },
  {
   "cell_type": "code",
   "execution_count": null,
   "id": "f8d8d4a4-4ac2-41e8-af99-e4b59029744b",
   "metadata": {},
   "outputs": [],
   "source": []
  },
  {
   "cell_type": "code",
   "execution_count": null,
   "id": "df1f4699-56b7-4b8e-8be4-a6da9a222048",
   "metadata": {},
   "outputs": [],
   "source": []
  },
  {
   "cell_type": "code",
   "execution_count": null,
   "id": "b0219e64-4426-4857-9095-f519c33e257d",
   "metadata": {},
   "outputs": [],
   "source": []
  },
  {
   "cell_type": "code",
   "execution_count": null,
   "id": "2b3bf291-0529-49f7-b7c6-47e4eae6570b",
   "metadata": {},
   "outputs": [],
   "source": []
  },
  {
   "cell_type": "code",
   "execution_count": null,
   "id": "e9c1aaa1-def4-4ca2-962d-a2bea2524d60",
   "metadata": {},
   "outputs": [],
   "source": []
  },
  {
   "cell_type": "code",
   "execution_count": null,
   "id": "9447b396-c06e-411f-8ed9-e025697803a5",
   "metadata": {},
   "outputs": [],
   "source": []
  },
  {
   "cell_type": "code",
   "execution_count": null,
   "id": "249ec541-2bab-4fa5-87bc-5e9800deedca",
   "metadata": {},
   "outputs": [],
   "source": []
  },
  {
   "cell_type": "code",
   "execution_count": null,
   "id": "f384d14e-1f5e-414b-9cda-5e981d2084c2",
   "metadata": {},
   "outputs": [],
   "source": []
  },
  {
   "cell_type": "code",
   "execution_count": null,
   "id": "fb2c540d-21c5-4914-8553-af121125e41f",
   "metadata": {},
   "outputs": [],
   "source": []
  },
  {
   "cell_type": "code",
   "execution_count": null,
   "id": "8d46f281-df8e-49a9-befa-2421f894104f",
   "metadata": {},
   "outputs": [],
   "source": []
  },
  {
   "cell_type": "code",
   "execution_count": null,
   "id": "5d3bed4d-29c6-4f8e-9f63-880c334559cb",
   "metadata": {},
   "outputs": [],
   "source": []
  },
  {
   "cell_type": "code",
   "execution_count": null,
   "id": "464c8f10-7475-41b1-9da9-12af6c337a7c",
   "metadata": {},
   "outputs": [],
   "source": []
  },
  {
   "cell_type": "code",
   "execution_count": null,
   "id": "a345059b-ed55-4be7-bd5d-be43dbcd9407",
   "metadata": {},
   "outputs": [],
   "source": []
  },
  {
   "cell_type": "code",
   "execution_count": null,
   "id": "a5982a39-19b7-4af9-aad0-2fe556736246",
   "metadata": {},
   "outputs": [],
   "source": []
  },
  {
   "cell_type": "code",
   "execution_count": null,
   "id": "f9671cf8-29bb-457d-9fae-3a604b667a07",
   "metadata": {},
   "outputs": [],
   "source": []
  },
  {
   "cell_type": "code",
   "execution_count": null,
   "id": "42e478c0-8e8a-44f6-b3ca-5db8eff7495a",
   "metadata": {},
   "outputs": [],
   "source": []
  },
  {
   "cell_type": "code",
   "execution_count": null,
   "id": "166af99f-07cc-4022-a009-ff91d5780e4f",
   "metadata": {},
   "outputs": [],
   "source": []
  },
  {
   "cell_type": "code",
   "execution_count": null,
   "id": "ef1f1bb3-c53e-4cab-bc6d-6bc8d644839d",
   "metadata": {},
   "outputs": [],
   "source": []
  },
  {
   "cell_type": "code",
   "execution_count": null,
   "id": "5959a2cc-e08f-4ded-b50f-91521f37a9fe",
   "metadata": {},
   "outputs": [],
   "source": []
  },
  {
   "cell_type": "code",
   "execution_count": null,
   "id": "ad2d932c-79ea-4792-bdaf-5bda859340ca",
   "metadata": {},
   "outputs": [],
   "source": []
  },
  {
   "cell_type": "code",
   "execution_count": null,
   "id": "3035ff66-e4e7-410c-8b1e-86a879f66112",
   "metadata": {},
   "outputs": [],
   "source": []
  },
  {
   "cell_type": "code",
   "execution_count": null,
   "id": "4666a5a3-26bb-4d91-b5be-f941df8f9d2f",
   "metadata": {},
   "outputs": [],
   "source": []
  },
  {
   "cell_type": "code",
   "execution_count": null,
   "id": "85d72161-e718-4c66-bc59-a3569b7f7616",
   "metadata": {},
   "outputs": [],
   "source": []
  },
  {
   "cell_type": "code",
   "execution_count": null,
   "id": "214654cc-9758-48f9-92e2-0892029c4512",
   "metadata": {},
   "outputs": [],
   "source": []
  },
  {
   "cell_type": "code",
   "execution_count": null,
   "id": "a9d78aa3-0be8-49e6-8bfb-cb9a232ee1ee",
   "metadata": {},
   "outputs": [],
   "source": []
  },
  {
   "cell_type": "code",
   "execution_count": null,
   "id": "01785a18-9bb0-4dbc-9eae-04addf6dede9",
   "metadata": {},
   "outputs": [],
   "source": []
  },
  {
   "cell_type": "code",
   "execution_count": null,
   "id": "43a3d5aa-4f07-48f4-b7c3-5c63612f0fb2",
   "metadata": {},
   "outputs": [],
   "source": []
  },
  {
   "cell_type": "code",
   "execution_count": null,
   "id": "248adc40-6e77-4203-9830-de838e25a00a",
   "metadata": {},
   "outputs": [],
   "source": []
  },
  {
   "cell_type": "code",
   "execution_count": null,
   "id": "a2029d6d-bf22-4e16-87e1-d609762dc867",
   "metadata": {},
   "outputs": [],
   "source": []
  },
  {
   "cell_type": "code",
   "execution_count": null,
   "id": "c9dfaad9-504c-4853-886b-2d1adb1cc3a0",
   "metadata": {},
   "outputs": [],
   "source": []
  },
  {
   "cell_type": "code",
   "execution_count": null,
   "id": "454d5b84-fc57-44ab-a6f0-3123333998cb",
   "metadata": {},
   "outputs": [],
   "source": []
  },
  {
   "cell_type": "code",
   "execution_count": null,
   "id": "d471d21b-6fe5-4c63-90be-5176c4cbd08b",
   "metadata": {},
   "outputs": [],
   "source": []
  },
  {
   "cell_type": "code",
   "execution_count": null,
   "id": "73b88b7e-0be6-4a82-9c02-f3df8af20015",
   "metadata": {},
   "outputs": [],
   "source": []
  },
  {
   "cell_type": "code",
   "execution_count": null,
   "id": "7ab8257a-c30b-45b6-a784-729b67686791",
   "metadata": {},
   "outputs": [],
   "source": [
    "#| hide\n",
    "import nbdev; nbdev.nbdev_export()"
   ]
  }
 ],
 "metadata": {
  "kernelspec": {
   "display_name": "python3",
   "language": "python",
   "name": "python3"
  }
 },
 "nbformat": 4,
 "nbformat_minor": 5
}
