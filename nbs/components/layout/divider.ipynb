{
 "cells": [
  {
   "cell_type": "markdown",
   "id": "7c51b46b-ece1-456d-8e84-7de122e72b62",
   "metadata": {},
   "source": [
    "# divider\n",
    "\n",
    "> Divider will be used to separate content vertically or horizontally."
   ]
  },
  {
   "cell_type": "code",
   "execution_count": null,
   "id": "25536bdc-e099-477f-9e2d-a5f71df5dff2",
   "metadata": {},
   "outputs": [],
   "source": [
    "#| default_exp components.layout.divider"
   ]
  },
  {
   "cell_type": "code",
   "execution_count": null,
   "id": "2e6f21ce-7766-455a-8ebb-df2c17e7d977",
   "metadata": {},
   "outputs": [],
   "source": [
    "#| hide\n",
    "from nbdev.showdoc import *"
   ]
  },
  {
   "cell_type": "code",
   "execution_count": null,
   "id": "045c6538-403e-4222-b3bb-db20f188524d",
   "metadata": {},
   "outputs": [],
   "source": [
    "#| export\n",
    "from enum import Enum\n",
    "from cjm_fasthtml_tailwind.core.base import (\n",
    "    SingleValueFactory, combine_classes\n",
    ")\n",
    "from cjm_fasthtml_tailwind.builders.scales import SimpleFactory, enums_to_simple_factory\n",
    "\n",
    "from cjm_fasthtml_daisyui.builders.colors import SemanticColorBrand, SemanticColorStatus\n",
    "from fasthtml.common import Div\n",
    "from fasthtml.jupyter import JupyUvi, HTMX\n",
    "from cjm_fasthtml_daisyui.core.testing import create_test_app, create_test_page, start_test_server\n",
    "from cjm_fasthtml_daisyui.core.themes import DaisyUITheme\n",
    "from IPython.display import display"
   ]
  },
  {
   "cell_type": "markdown",
   "id": "b0b1b767-f28d-4f35-b4a8-dfd4dca3cce5",
   "metadata": {},
   "source": [
    "### Base Divider"
   ]
  },
  {
   "cell_type": "code",
   "execution_count": null,
   "id": "c802d106-49fb-4d34-ba04-5f54c88e165b",
   "metadata": {},
   "outputs": [],
   "source": [
    "#| export\n",
    "divider = SingleValueFactory(\"divider\", \"Base divider component for creating a line between two elements\") # Base divider component"
   ]
  },
  {
   "cell_type": "markdown",
   "id": "3ae78d30-97e6-48b0-9ac7-2400556bd008",
   "metadata": {},
   "source": [
    "### Divider Colors"
   ]
  },
  {
   "cell_type": "code",
   "execution_count": null,
   "id": "636c6bcd-2176-4191-aa39-c937893243e2",
   "metadata": {},
   "outputs": [],
   "source": [
    "#| export\n",
    "divider_colors = enums_to_simple_factory(divider, [SemanticColorBrand, SemanticColorStatus], \"divider color variants using daisyUI semantic colors\") # divider color variants"
   ]
  },
  {
   "cell_type": "markdown",
   "id": "475dad61-20b4-4ccc-beda-c6f919dad05c",
   "metadata": {},
   "source": [
    "### Divider Directions"
   ]
  },
  {
   "cell_type": "code",
   "execution_count": null,
   "id": "ad2d932c-79ea-4792-bdaf-5bda859340ca",
   "metadata": {},
   "outputs": [],
   "source": [
    "#| export\n",
    "class DividerDirection(str, Enum):\n",
    "    VERTICAL = \"vertical\"\n",
    "    HORIZONTAL = \"horizontal\"\n",
    "\n",
    "divider_directions = enums_to_simple_factory(divider, [DividerDirection], \"divider directions (vertical, horizontal)\") # divider directions"
   ]
  },
  {
   "cell_type": "markdown",
   "id": "9c08d7ba-9c7e-44e7-b856-0d078bc09bc5",
   "metadata": {},
   "source": [
    "### Divider Directions"
   ]
  },
  {
   "cell_type": "code",
   "execution_count": null,
   "id": "2a1ec214-6867-4699-bd0c-a0b42589b154",
   "metadata": {},
   "outputs": [],
   "source": [
    "#| export\n",
    "class DividerPlacement(str, Enum):\n",
    "    START = \"start\"\n",
    "    END = \"end\"\n",
    "\n",
    "divider_placement = enums_to_simple_factory(divider, [DividerPlacement], \"divider placement (start, end)\") # divider directions"
   ]
  },
  {
   "cell_type": "markdown",
   "id": "87e737cc-71ef-457d-8d5f-e0c357699ec9",
   "metadata": {},
   "source": [
    "### Divider Test Examples"
   ]
  },
  {
   "cell_type": "code",
   "execution_count": null,
   "id": "3035ff66-e4e7-410c-8b1e-86a879f66112",
   "metadata": {},
   "outputs": [],
   "source": [
    "#| export\n",
    "def test_divider_basic_examples():\n",
    "    \"\"\"Test basic divider utilities.\"\"\"\n",
    "    # Basic divider\n",
    "    assert str(divider) == \"divider\"\n",
    "    \n",
    "    # Test with modifiers\n",
    "    assert str(divider.hover) == \"hover:divider\"\n",
    "    assert str(divider.md) == \"md:divider\"\n",
    "    assert str(divider.dark) == \"dark:divider\"\n",
    "\n",
    "# Run the tests\n",
    "test_divider_basic_examples()"
   ]
  },
  {
   "cell_type": "code",
   "execution_count": null,
   "id": "4666a5a3-26bb-4d91-b5be-f941df8f9d2f",
   "metadata": {},
   "outputs": [],
   "source": [
    "#| export\n",
    "def test_divider_colors_examples():\n",
    "    \"\"\"Test divider color variants.\"\"\"\n",
    "    # All color variants\n",
    "    assert str(divider_colors.neutral) == \"divider-neutral\"\n",
    "    assert str(divider_colors.primary) == \"divider-primary\"\n",
    "    assert str(divider_colors.secondary) == \"divider-secondary\"\n",
    "    assert str(divider_colors.accent) == \"divider-accent\"\n",
    "    assert str(divider_colors.info) == \"divider-info\"\n",
    "    assert str(divider_colors.success) == \"divider-success\"\n",
    "    assert str(divider_colors.warning) == \"divider-warning\"\n",
    "    assert str(divider_colors.error) == \"divider-error\"\n",
    "    \n",
    "    # With modifiers\n",
    "    assert str(divider_colors.primary.hover) == \"hover:divider-primary\"\n",
    "    assert str(divider_colors.success.focus) == \"focus:divider-success\"\n",
    "\n",
    "# Run the tests\n",
    "test_divider_colors_examples()"
   ]
  },
  {
   "cell_type": "code",
   "execution_count": null,
   "id": "85d72161-e718-4c66-bc59-a3569b7f7616",
   "metadata": {},
   "outputs": [],
   "source": [
    "#| export\n",
    "def test_divider_directions_examples():\n",
    "    \"\"\"Test divider directions variants.\"\"\"\n",
    "    assert str(divider_directions.vertical) == \"divider-vertical\"\n",
    "    assert str(divider_directions.horizontal) == \"divider-horizontal\"\n",
    "\n",
    "# Run the tests\n",
    "test_divider_directions_examples()"
   ]
  },
  {
   "cell_type": "code",
   "execution_count": null,
   "id": "214654cc-9758-48f9-92e2-0892029c4512",
   "metadata": {},
   "outputs": [],
   "source": [
    "#| export\n",
    "def test_divider_placement_examples():\n",
    "    \"\"\"Test divider placement variants.\"\"\"\n",
    "    assert str(divider_placement.start) == \"divider-start\"\n",
    "    assert str(divider_placement.end) == \"divider-end\"\n",
    "\n",
    "# Run the tests\n",
    "test_divider_placement_examples()"
   ]
  },
  {
   "cell_type": "code",
   "execution_count": null,
   "id": "01785a18-9bb0-4dbc-9eae-04addf6dede9",
   "metadata": {},
   "outputs": [],
   "source": []
  },
  {
   "cell_type": "code",
   "execution_count": null,
   "id": "43a3d5aa-4f07-48f4-b7c3-5c63612f0fb2",
   "metadata": {},
   "outputs": [],
   "source": []
  },
  {
   "cell_type": "code",
   "execution_count": null,
   "id": "248adc40-6e77-4203-9830-de838e25a00a",
   "metadata": {},
   "outputs": [],
   "source": []
  },
  {
   "cell_type": "code",
   "execution_count": null,
   "id": "a2029d6d-bf22-4e16-87e1-d609762dc867",
   "metadata": {},
   "outputs": [],
   "source": []
  },
  {
   "cell_type": "code",
   "execution_count": null,
   "id": "c9dfaad9-504c-4853-886b-2d1adb1cc3a0",
   "metadata": {},
   "outputs": [],
   "source": []
  },
  {
   "cell_type": "code",
   "execution_count": null,
   "id": "454d5b84-fc57-44ab-a6f0-3123333998cb",
   "metadata": {},
   "outputs": [],
   "source": []
  },
  {
   "cell_type": "code",
   "execution_count": null,
   "id": "d471d21b-6fe5-4c63-90be-5176c4cbd08b",
   "metadata": {},
   "outputs": [],
   "source": []
  },
  {
   "cell_type": "code",
   "execution_count": null,
   "id": "73b88b7e-0be6-4a82-9c02-f3df8af20015",
   "metadata": {},
   "outputs": [],
   "source": []
  },
  {
   "cell_type": "code",
   "execution_count": null,
   "id": "7ab8257a-c30b-45b6-a784-729b67686791",
   "metadata": {},
   "outputs": [],
   "source": [
    "#| hide\n",
    "import nbdev; nbdev.nbdev_export()"
   ]
  }
 ],
 "metadata": {
  "kernelspec": {
   "display_name": "python3",
   "language": "python",
   "name": "python3"
  }
 },
 "nbformat": 4,
 "nbformat_minor": 5
}
