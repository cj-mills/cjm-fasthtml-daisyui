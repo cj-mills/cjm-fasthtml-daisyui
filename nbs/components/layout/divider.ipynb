{
 "cells": [
  {
   "cell_type": "markdown",
   "id": "7c51b46b-ece1-456d-8e84-7de122e72b62",
   "metadata": {},
   "source": [
    "# divider\n",
    "\n",
    "> Divider will be used to separate content vertically or horizontally."
   ]
  },
  {
   "cell_type": "code",
   "execution_count": null,
   "id": "25536bdc-e099-477f-9e2d-a5f71df5dff2",
   "metadata": {},
   "outputs": [],
   "source": [
    "#| default_exp components.layout.divider"
   ]
  },
  {
   "cell_type": "code",
   "execution_count": null,
   "id": "2e6f21ce-7766-455a-8ebb-df2c17e7d977",
   "metadata": {},
   "outputs": [],
   "source": [
    "#| hide\n",
    "from nbdev.showdoc import *"
   ]
  },
  {
   "cell_type": "code",
   "execution_count": null,
   "id": "045c6538-403e-4222-b3bb-db20f188524d",
   "metadata": {},
   "outputs": [],
   "source": [
    "#| export\n",
    "from enum import Enum\n",
    "from cjm_fasthtml_tailwind.core.base import (\n",
    "    SingleValueFactory, combine_classes\n",
    ")\n",
    "from cjm_fasthtml_tailwind.builders.scales import SimpleFactory, enums_to_simple_factory\n",
    "\n",
    "from cjm_fasthtml_daisyui.builders.colors import SemanticColorBrand, SemanticColorStatus\n",
    "from fasthtml.common import Div\n",
    "from fasthtml.jupyter import JupyUvi, HTMX\n",
    "from cjm_fasthtml_daisyui.core.testing import create_test_app, create_test_page, start_test_server\n",
    "from cjm_fasthtml_daisyui.core.themes import DaisyUITheme\n",
    "from IPython.display import display"
   ]
  },
  {
   "cell_type": "markdown",
   "id": "b0b1b767-f28d-4f35-b4a8-dfd4dca3cce5",
   "metadata": {},
   "source": [
    "### Base Divider"
   ]
  },
  {
   "cell_type": "code",
   "execution_count": null,
   "id": "c802d106-49fb-4d34-ba04-5f54c88e165b",
   "metadata": {},
   "outputs": [],
   "source": [
    "#| export\n",
    "divider = SingleValueFactory(\"divider\", \"Base divider component for creating a line between two elements\") # Base divider component"
   ]
  },
  {
   "cell_type": "markdown",
   "id": "3ae78d30-97e6-48b0-9ac7-2400556bd008",
   "metadata": {},
   "source": [
    "### Divider Colors"
   ]
  },
  {
   "cell_type": "code",
   "execution_count": null,
   "id": "636c6bcd-2176-4191-aa39-c937893243e2",
   "metadata": {},
   "outputs": [],
   "source": [
    "#| export\n",
    "divider_colors = enums_to_simple_factory(divider, [SemanticColorBrand, SemanticColorStatus], \"divider color variants using daisyUI semantic colors\") # divider color variants"
   ]
  },
  {
   "cell_type": "markdown",
   "id": "475dad61-20b4-4ccc-beda-c6f919dad05c",
   "metadata": {},
   "source": [
    "### Divider Directions"
   ]
  },
  {
   "cell_type": "code",
   "execution_count": null,
   "id": "ad2d932c-79ea-4792-bdaf-5bda859340ca",
   "metadata": {},
   "outputs": [],
   "source": [
    "#| export\n",
    "class DividerDirection(str, Enum):\n",
    "    VERTICAL = \"vertical\"\n",
    "    HORIZONTAL = \"horizontal\"\n",
    "\n",
    "divider_directions = enums_to_simple_factory(divider, [DividerDirection], \"divider directions (vertical, horizontal)\") # divider directions"
   ]
  },
  {
   "cell_type": "markdown",
   "id": "9c08d7ba-9c7e-44e7-b856-0d078bc09bc5",
   "metadata": {},
   "source": [
    "### Divider Directions"
   ]
  },
  {
   "cell_type": "code",
   "execution_count": null,
   "id": "2a1ec214-6867-4699-bd0c-a0b42589b154",
   "metadata": {},
   "outputs": [],
   "source": [
    "#| export\n",
    "class DividerPlacement(str, Enum):\n",
    "    START = \"start\"\n",
    "    END = \"end\"\n",
    "\n",
    "divider_placement = enums_to_simple_factory(divider, [DividerPlacement], \"divider placement (start, end)\") # divider directions"
   ]
  },
  {
   "cell_type": "markdown",
   "id": "87e737cc-71ef-457d-8d5f-e0c357699ec9",
   "metadata": {},
   "source": [
    "### Divider Test Examples"
   ]
  },
  {
   "cell_type": "code",
   "execution_count": null,
   "id": "3035ff66-e4e7-410c-8b1e-86a879f66112",
   "metadata": {},
   "outputs": [],
   "source": [
    "#| export\n",
    "def test_divider_basic_examples():\n",
    "    \"\"\"Test basic divider utilities.\"\"\"\n",
    "    # Basic divider\n",
    "    assert str(divider) == \"divider\"\n",
    "    \n",
    "    # Test with modifiers\n",
    "    assert str(divider.hover) == \"hover:divider\"\n",
    "    assert str(divider.md) == \"md:divider\"\n",
    "    assert str(divider.dark) == \"dark:divider\"\n",
    "\n",
    "# Run the tests\n",
    "test_divider_basic_examples()"
   ]
  },
  {
   "cell_type": "code",
   "execution_count": null,
   "id": "4666a5a3-26bb-4d91-b5be-f941df8f9d2f",
   "metadata": {},
   "outputs": [],
   "source": [
    "#| export\n",
    "def test_divider_colors_examples():\n",
    "    \"\"\"Test divider color variants.\"\"\"\n",
    "    # All color variants\n",
    "    assert str(divider_colors.neutral) == \"divider-neutral\"\n",
    "    assert str(divider_colors.primary) == \"divider-primary\"\n",
    "    assert str(divider_colors.secondary) == \"divider-secondary\"\n",
    "    assert str(divider_colors.accent) == \"divider-accent\"\n",
    "    assert str(divider_colors.info) == \"divider-info\"\n",
    "    assert str(divider_colors.success) == \"divider-success\"\n",
    "    assert str(divider_colors.warning) == \"divider-warning\"\n",
    "    assert str(divider_colors.error) == \"divider-error\"\n",
    "    \n",
    "    # With modifiers\n",
    "    assert str(divider_colors.primary.hover) == \"hover:divider-primary\"\n",
    "    assert str(divider_colors.success.focus) == \"focus:divider-success\"\n",
    "\n",
    "# Run the tests\n",
    "test_divider_colors_examples()"
   ]
  },
  {
   "cell_type": "code",
   "execution_count": null,
   "id": "85d72161-e718-4c66-bc59-a3569b7f7616",
   "metadata": {},
   "outputs": [],
   "source": [
    "#| export\n",
    "def test_divider_directions_examples():\n",
    "    \"\"\"Test divider directions variants.\"\"\"\n",
    "    assert str(divider_directions.vertical) == \"divider-vertical\"\n",
    "    assert str(divider_directions.horizontal) == \"divider-horizontal\"\n",
    "\n",
    "# Run the tests\n",
    "test_divider_directions_examples()"
   ]
  },
  {
   "cell_type": "code",
   "execution_count": null,
   "id": "214654cc-9758-48f9-92e2-0892029c4512",
   "metadata": {},
   "outputs": [],
   "source": [
    "#| export\n",
    "def test_divider_placement_examples():\n",
    "    \"\"\"Test divider placement variants.\"\"\"\n",
    "    assert str(divider_placement.start) == \"divider-start\"\n",
    "    assert str(divider_placement.end) == \"divider-end\"\n",
    "\n",
    "# Run the tests\n",
    "test_divider_placement_examples()"
   ]
  },
  {
   "cell_type": "code",
   "execution_count": null,
   "id": "de84bb69-cc66-498d-ae1b-56cfe7fa5167",
   "metadata": {},
   "outputs": [
    {
     "data": {
      "text/markdown": [
       "```html\n",
       "<div>\n",
       "  <div class=\"flex w-full flex-col\">\n",
       "    <div class=\"card bg-base-300 rounded-box grid h-20 place-items-center\">content</div>\n",
       "    <div class=\"divider\">OR</div>\n",
       "    <div class=\"card bg-base-300 rounded-box grid h-20 place-items-center\">content</div>\n",
       "  </div>\n",
       "  <div class=\"flex w-full flex-col\">\n",
       "    <div class=\"card bg-base-300 rounded-box grid h-20 place-items-center\">content</div>\n",
       "    <div class=\"divider\"></div>\n",
       "    <div class=\"card bg-base-300 rounded-box grid h-20 place-items-center\">content</div>\n",
       "  </div>\n",
       "</div>\n",
       "\n",
       "```"
      ],
      "text/plain": [
       "div((div((div(('content',),{'class': 'card bg-base-300 rounded-box grid h-20 place-items-center'}), div(('OR',),{'class': 'divider'}), div(('content',),{'class': 'card bg-base-300 rounded-box grid h-20 place-items-center'})),{'class': 'flex w-full flex-col'}), div((div(('content',),{'class': 'card bg-base-300 rounded-box grid h-20 place-items-center'}), div((),{'class': 'divider'}), div(('content',),{'class': 'card bg-base-300 rounded-box grid h-20 place-items-center'})),{'class': 'flex w-full flex-col'})),{})"
      ]
     },
     "execution_count": null,
     "metadata": {},
     "output_type": "execute_result"
    }
   ],
   "source": [
    "#| export\n",
    "def test_divider_basic_fasthtml_examples():\n",
    "    \"\"\"Test basic divider and divider with no text from daisyUI v5 documentation.\"\"\"\n",
    "    from cjm_fasthtml_tailwind.utilities.sizing import w, h\n",
    "    from cjm_fasthtml_tailwind.utilities.flexbox_and_grid import flex_direction, place_items, grow\n",
    "    from cjm_fasthtml_tailwind.utilities.layout import display_tw\n",
    "    from cjm_fasthtml_tailwind.utilities.borders import rounded\n",
    "    from cjm_fasthtml_daisyui.core.utility_classes import bg_dui\n",
    "    from cjm_fasthtml_daisyui.components.data_display.card import card\n",
    "    \n",
    "    # Divider with text\n",
    "    divider_with_text = Div(\n",
    "        Div(\n",
    "            \"content\",\n",
    "            cls=combine_classes(card, bg_dui.base_300, rounded.box, display_tw.grid, h._20, place_items.center)\n",
    "        ),\n",
    "        Div(\"OR\", cls=str(divider)),\n",
    "        Div(\n",
    "            \"content\",\n",
    "            cls=combine_classes(card, bg_dui.base_300, rounded.box, display_tw.grid, h._20, place_items.center)\n",
    "        ),\n",
    "        cls=combine_classes(display_tw.flex, w.full, flex_direction.col)\n",
    "    )\n",
    "    \n",
    "    # Verify structure\n",
    "    assert divider_with_text.tag == \"div\"\n",
    "    assert \"flex\" in divider_with_text.attrs['class']\n",
    "    assert \"w-full\" in divider_with_text.attrs['class']\n",
    "    assert \"flex-col\" in divider_with_text.attrs['class']\n",
    "    \n",
    "    # Verify first card\n",
    "    first_card = divider_with_text.children[0]\n",
    "    assert first_card.tag == \"div\"\n",
    "    assert \"card\" in first_card.attrs['class']\n",
    "    assert \"bg-base-300\" in first_card.attrs['class']\n",
    "    assert \"rounded-box\" in first_card.attrs['class']\n",
    "    assert \"grid\" in first_card.attrs['class']\n",
    "    assert \"h-20\" in first_card.attrs['class']\n",
    "    assert \"place-items-center\" in first_card.attrs['class']\n",
    "    assert first_card.children[0] == \"content\"\n",
    "    \n",
    "    # Verify divider\n",
    "    divider_element = divider_with_text.children[1]\n",
    "    assert divider_element.tag == \"div\"\n",
    "    assert divider_element.attrs['class'] == \"divider\"\n",
    "    assert divider_element.children[0] == \"OR\"\n",
    "    \n",
    "    # Verify second card\n",
    "    second_card = divider_with_text.children[2]\n",
    "    assert second_card.tag == \"div\"\n",
    "    assert \"card\" in second_card.attrs['class']\n",
    "    assert second_card.children[0] == \"content\"\n",
    "    \n",
    "    # Divider with no text\n",
    "    divider_no_text = Div(\n",
    "        Div(\n",
    "            \"content\",\n",
    "            cls=combine_classes(card, bg_dui.base_300, rounded.box, display_tw.grid, h._20, place_items.center)\n",
    "        ),\n",
    "        Div(cls=str(divider)),  # No text\n",
    "        Div(\n",
    "            \"content\",\n",
    "            cls=combine_classes(card, bg_dui.base_300, rounded.box, display_tw.grid, h._20, place_items.center)\n",
    "        ),\n",
    "        cls=combine_classes(display_tw.flex, w.full, flex_direction.col)\n",
    "    )\n",
    "    \n",
    "    # Verify divider with no text\n",
    "    assert divider_no_text.children[1].tag == \"div\"\n",
    "    assert divider_no_text.children[1].attrs['class'] == \"divider\"\n",
    "    assert divider_no_text.children[1].children == ()  # No children (no text)\n",
    "    \n",
    "    return Div(divider_with_text, divider_no_text)\n",
    "\n",
    "# Run the tests\n",
    "test_divider_basic_fasthtml_examples()"
   ]
  },
  {
   "cell_type": "code",
   "execution_count": null,
   "id": "ae0dd791-2319-440f-988a-01f6c67ddbb9",
   "metadata": {},
   "outputs": [
    {
     "data": {
      "text/html": [
       "\n",
       "<script>\n",
       "document.body.addEventListener('htmx:configRequest', (event) => {\n",
       "    if(event.detail.path.includes('://')) return;\n",
       "    htmx.config.selfRequestsOnly=false;\n",
       "    event.detail.path = `${location.protocol}//${location.hostname}:8000${event.detail.path}`;\n",
       "});\n",
       "</script>"
      ],
      "text/plain": [
       "<IPython.core.display.HTML object>"
      ]
     },
     "metadata": {},
     "output_type": "display_data"
    },
    {
     "data": {
      "text/html": [
       "<iframe src=\"http://localhost:8000/\" style=\"width: 100%; height: auto; border: none;\" onload=\"{\n",
       "        let frame = this;\n",
       "        window.addEventListener('message', function(e) {\n",
       "            if (e.source !== frame.contentWindow) return; // Only proceed if the message is from this iframe\n",
       "            if (e.data.height) frame.style.height = (e.data.height+1) + 'px';\n",
       "        }, false);\n",
       "    }\" allow=\"accelerometer; autoplay; camera; clipboard-read; clipboard-write; display-capture; encrypted-media; fullscreen; gamepad; geolocation; gyroscope; hid; identity-credentials-get; idle-detection; magnetometer; microphone; midi; payment; picture-in-picture; publickey-credentials-get; screen-wake-lock; serial; usb; web-share; xr-spatial-tracking\"></iframe> "
      ],
      "text/plain": [
       "<IPython.core.display.HTML object>"
      ]
     },
     "metadata": {},
     "output_type": "display_data"
    }
   ],
   "source": [
    "#| eval: false\n",
    "test_func = test_divider_basic_fasthtml_examples\n",
    "app, rt = create_test_app(theme=DaisyUITheme.LIGHT)\n",
    "\n",
    "@rt\n",
    "def index():\n",
    "    return create_test_page(test_func.__doc__.title().replace('.', ''), test_func())\n",
    "server = start_test_server(app)\n",
    "display(HTMX())\n",
    "server.stop()"
   ]
  },
  {
   "cell_type": "code",
   "execution_count": null,
   "id": "51f3445e-264f-4366-a9c6-fd948468ab2e",
   "metadata": {},
   "outputs": [
    {
     "data": {
      "text/markdown": [
       "```html\n",
       "<div class=\"flex w-full\">\n",
       "  <div class=\"card bg-base-300 rounded-box grid h-20 grow-1 place-items-center\">content</div>\n",
       "  <div class=\"divider divider-horizontal\">OR</div>\n",
       "  <div class=\"card bg-base-300 rounded-box grid h-20 grow-1 place-items-center\">content</div>\n",
       "</div>\n",
       "\n",
       "```"
      ],
      "text/plain": [
       "div((div(('content',),{'class': 'card bg-base-300 rounded-box grid h-20 grow-1 place-items-center'}), div(('OR',),{'class': 'divider divider-horizontal'}), div(('content',),{'class': 'card bg-base-300 rounded-box grid h-20 grow-1 place-items-center'})),{'class': 'flex w-full'})"
      ]
     },
     "execution_count": null,
     "metadata": {},
     "output_type": "execute_result"
    }
   ],
   "source": [
    "#| export\n",
    "def test_divider_horizontal_fasthtml_examples():\n",
    "    \"\"\"Test horizontal divider from daisyUI v5 documentation.\"\"\"\n",
    "    from cjm_fasthtml_tailwind.utilities.sizing import w, h\n",
    "    from cjm_fasthtml_tailwind.utilities.flexbox_and_grid import place_items, grow\n",
    "    from cjm_fasthtml_tailwind.utilities.layout import display_tw\n",
    "    from cjm_fasthtml_tailwind.utilities.borders import rounded\n",
    "    from cjm_fasthtml_daisyui.core.utility_classes import bg_dui\n",
    "    from cjm_fasthtml_daisyui.components.data_display.card import card\n",
    "    \n",
    "    # Horizontal divider\n",
    "    horizontal_divider = Div(\n",
    "        Div(\n",
    "            \"content\",\n",
    "            cls=combine_classes(card, bg_dui.base_300, rounded.box, display_tw.grid, h._20, grow(), place_items.center)\n",
    "        ),\n",
    "        Div(\n",
    "            \"OR\",\n",
    "            cls=combine_classes(divider, divider_directions.horizontal)\n",
    "        ),\n",
    "        Div(\n",
    "            \"content\",\n",
    "            cls=combine_classes(card, bg_dui.base_300, rounded.box, display_tw.grid, h._20, grow(), place_items.center)\n",
    "        ),\n",
    "        cls=combine_classes(display_tw.flex, w.full)\n",
    "    )\n",
    "    \n",
    "    # Verify structure\n",
    "    assert horizontal_divider.tag == \"div\"\n",
    "    assert \"flex\" in horizontal_divider.attrs['class']\n",
    "    assert \"w-full\" in horizontal_divider.attrs['class']\n",
    "    # Note: No flex-col for horizontal layout\n",
    "    assert \"flex-col\" not in horizontal_divider.attrs['class']\n",
    "    \n",
    "    # Verify first card\n",
    "    first_card = horizontal_divider.children[0]\n",
    "    assert first_card.tag == \"div\"\n",
    "    assert \"card\" in first_card.attrs['class']\n",
    "    assert \"bg-base-300\" in first_card.attrs['class']\n",
    "    assert \"rounded-box\" in first_card.attrs['class']\n",
    "    assert \"grid\" in first_card.attrs['class']\n",
    "    assert \"h-20\" in first_card.attrs['class']\n",
    "    assert \"grow\" in first_card.attrs['class']  # grow for horizontal layout\n",
    "    assert \"place-items-center\" in first_card.attrs['class']\n",
    "    assert first_card.children[0] == \"content\"\n",
    "    \n",
    "    # Verify horizontal divider\n",
    "    divider_element = horizontal_divider.children[1]\n",
    "    assert divider_element.tag == \"div\"\n",
    "    assert \"divider\" in divider_element.attrs['class']\n",
    "    assert \"divider-horizontal\" in divider_element.attrs['class']\n",
    "    assert divider_element.children[0] == \"OR\"\n",
    "    \n",
    "    # Verify second card\n",
    "    second_card = horizontal_divider.children[2]\n",
    "    assert second_card.tag == \"div\"\n",
    "    assert \"card\" in second_card.attrs['class']\n",
    "    assert \"grow\" in second_card.attrs['class']  # grow for horizontal layout\n",
    "    assert second_card.children[0] == \"content\"\n",
    "    \n",
    "    return horizontal_divider\n",
    "\n",
    "# Run the tests\n",
    "test_divider_horizontal_fasthtml_examples()"
   ]
  },
  {
   "cell_type": "code",
   "execution_count": null,
   "id": "5e699265-e094-478f-b29e-24cbed5f726f",
   "metadata": {},
   "outputs": [
    {
     "data": {
      "text/html": [
       "\n",
       "<script>\n",
       "document.body.addEventListener('htmx:configRequest', (event) => {\n",
       "    if(event.detail.path.includes('://')) return;\n",
       "    htmx.config.selfRequestsOnly=false;\n",
       "    event.detail.path = `${location.protocol}//${location.hostname}:8000${event.detail.path}`;\n",
       "});\n",
       "</script>"
      ],
      "text/plain": [
       "<IPython.core.display.HTML object>"
      ]
     },
     "metadata": {},
     "output_type": "display_data"
    },
    {
     "data": {
      "text/html": [
       "<iframe src=\"http://localhost:8000/\" style=\"width: 100%; height: auto; border: none;\" onload=\"{\n",
       "        let frame = this;\n",
       "        window.addEventListener('message', function(e) {\n",
       "            if (e.source !== frame.contentWindow) return; // Only proceed if the message is from this iframe\n",
       "            if (e.data.height) frame.style.height = (e.data.height+1) + 'px';\n",
       "        }, false);\n",
       "    }\" allow=\"accelerometer; autoplay; camera; clipboard-read; clipboard-write; display-capture; encrypted-media; fullscreen; gamepad; geolocation; gyroscope; hid; identity-credentials-get; idle-detection; magnetometer; microphone; midi; payment; picture-in-picture; publickey-credentials-get; screen-wake-lock; serial; usb; web-share; xr-spatial-tracking\"></iframe> "
      ],
      "text/plain": [
       "<IPython.core.display.HTML object>"
      ]
     },
     "metadata": {},
     "output_type": "display_data"
    }
   ],
   "source": [
    "#| eval: false\n",
    "test_func = test_divider_horizontal_fasthtml_examples\n",
    "app, rt = create_test_app(theme=DaisyUITheme.LIGHT)\n",
    "\n",
    "@rt\n",
    "def index():\n",
    "    return create_test_page(test_func.__doc__.title().replace('.', ''), test_func())\n",
    "server = start_test_server(app)\n",
    "display(HTMX())\n",
    "server.stop()"
   ]
  },
  {
   "cell_type": "code",
   "execution_count": null,
   "id": "ca013087-fd14-4b2a-8894-5c9dfdcf51f4",
   "metadata": {},
   "outputs": [
    {
     "data": {
      "text/markdown": [
       "```html\n",
       "<div class=\"flex w-full flex-col lg:flex-row\">\n",
       "  <div class=\"card bg-base-300 rounded-box grid h-32 grow-1 place-items-center\">content</div>\n",
       "  <div class=\"divider lg:divider-horizontal\">OR</div>\n",
       "  <div class=\"card bg-base-300 rounded-box grid h-32 grow-1 place-items-center\">content</div>\n",
       "</div>\n",
       "\n",
       "```"
      ],
      "text/plain": [
       "div((div(('content',),{'class': 'card bg-base-300 rounded-box grid h-32 grow-1 place-items-center'}), div(('OR',),{'class': 'divider lg:divider-horizontal'}), div(('content',),{'class': 'card bg-base-300 rounded-box grid h-32 grow-1 place-items-center'})),{'class': 'flex w-full flex-col lg:flex-row'})"
      ]
     },
     "execution_count": null,
     "metadata": {},
     "output_type": "execute_result"
    }
   ],
   "source": [
    "#| export\n",
    "def test_divider_responsive_fasthtml_examples():\n",
    "    \"\"\"Test responsive divider (lg:divider-horizontal) from daisyUI v5 documentation.\"\"\"\n",
    "    from cjm_fasthtml_tailwind.utilities.sizing import w, h\n",
    "    from cjm_fasthtml_tailwind.utilities.flexbox_and_grid import flex_direction, place_items, grow\n",
    "    from cjm_fasthtml_tailwind.utilities.layout import display_tw\n",
    "    from cjm_fasthtml_tailwind.utilities.borders import rounded\n",
    "    from cjm_fasthtml_daisyui.core.utility_classes import bg_dui\n",
    "    from cjm_fasthtml_daisyui.components.data_display.card import card\n",
    "    \n",
    "    # Responsive divider (vertical on small, horizontal on large)\n",
    "    responsive_divider = Div(\n",
    "        Div(\n",
    "            \"content\",\n",
    "            cls=combine_classes(card, bg_dui.base_300, rounded.box, display_tw.grid, h._32, grow(), place_items.center)\n",
    "        ),\n",
    "        Div(\n",
    "            \"OR\",\n",
    "            cls=combine_classes(divider, divider_directions.horizontal.lg)\n",
    "        ),\n",
    "        Div(\n",
    "            \"content\",\n",
    "            cls=combine_classes(card, bg_dui.base_300, rounded.box, display_tw.grid, h._32, grow(), place_items.center)\n",
    "        ),\n",
    "        cls=combine_classes(display_tw.flex, w.full, flex_direction.col, flex_direction.row.lg)\n",
    "    )\n",
    "    \n",
    "    # Verify structure\n",
    "    assert responsive_divider.tag == \"div\"\n",
    "    assert \"flex\" in responsive_divider.attrs['class']\n",
    "    assert \"w-full\" in responsive_divider.attrs['class']\n",
    "    assert \"flex-col\" in responsive_divider.attrs['class']  # vertical by default\n",
    "    assert \"lg:flex-row\" in responsive_divider.attrs['class']  # horizontal on large screens\n",
    "    \n",
    "    # Verify first card\n",
    "    first_card = responsive_divider.children[0]\n",
    "    assert first_card.tag == \"div\"\n",
    "    assert \"card\" in first_card.attrs['class']\n",
    "    assert \"bg-base-300\" in first_card.attrs['class']\n",
    "    assert \"rounded-box\" in first_card.attrs['class']\n",
    "    assert \"grid\" in first_card.attrs['class']\n",
    "    assert \"h-32\" in first_card.attrs['class']  # taller for responsive example\n",
    "    assert \"grow\" in first_card.attrs['class']\n",
    "    assert \"place-items-center\" in first_card.attrs['class']\n",
    "    assert first_card.children[0] == \"content\"\n",
    "    \n",
    "    # Verify responsive divider\n",
    "    divider_element = responsive_divider.children[1]\n",
    "    assert divider_element.tag == \"div\"\n",
    "    assert \"divider\" in divider_element.attrs['class']\n",
    "    assert \"lg:divider-horizontal\" in divider_element.attrs['class']  # horizontal on large screens\n",
    "    assert divider_element.children[0] == \"OR\"\n",
    "    \n",
    "    # Verify second card\n",
    "    second_card = responsive_divider.children[2]\n",
    "    assert second_card.tag == \"div\"\n",
    "    assert \"card\" in second_card.attrs['class']\n",
    "    assert \"h-32\" in second_card.attrs['class']  # taller for responsive example\n",
    "    assert \"grow\" in second_card.attrs['class']\n",
    "    assert second_card.children[0] == \"content\"\n",
    "    \n",
    "    return responsive_divider\n",
    "\n",
    "# Run the tests\n",
    "test_divider_responsive_fasthtml_examples()"
   ]
  },
  {
   "cell_type": "code",
   "execution_count": null,
   "id": "5c54ced1-c238-42d9-9cf3-a2d3cea3ab96",
   "metadata": {},
   "outputs": [
    {
     "data": {
      "text/html": [
       "\n",
       "<script>\n",
       "document.body.addEventListener('htmx:configRequest', (event) => {\n",
       "    if(event.detail.path.includes('://')) return;\n",
       "    htmx.config.selfRequestsOnly=false;\n",
       "    event.detail.path = `${location.protocol}//${location.hostname}:8000${event.detail.path}`;\n",
       "});\n",
       "</script>"
      ],
      "text/plain": [
       "<IPython.core.display.HTML object>"
      ]
     },
     "metadata": {},
     "output_type": "display_data"
    },
    {
     "data": {
      "text/html": [
       "<iframe src=\"http://localhost:8000/\" style=\"width: 100%; height: auto; border: none;\" onload=\"{\n",
       "        let frame = this;\n",
       "        window.addEventListener('message', function(e) {\n",
       "            if (e.source !== frame.contentWindow) return; // Only proceed if the message is from this iframe\n",
       "            if (e.data.height) frame.style.height = (e.data.height+1) + 'px';\n",
       "        }, false);\n",
       "    }\" allow=\"accelerometer; autoplay; camera; clipboard-read; clipboard-write; display-capture; encrypted-media; fullscreen; gamepad; geolocation; gyroscope; hid; identity-credentials-get; idle-detection; magnetometer; microphone; midi; payment; picture-in-picture; publickey-credentials-get; screen-wake-lock; serial; usb; web-share; xr-spatial-tracking\"></iframe> "
      ],
      "text/plain": [
       "<IPython.core.display.HTML object>"
      ]
     },
     "metadata": {},
     "output_type": "display_data"
    }
   ],
   "source": [
    "#| eval: false\n",
    "test_func = test_divider_responsive_fasthtml_examples\n",
    "app, rt = create_test_app(theme=DaisyUITheme.LIGHT)\n",
    "\n",
    "@rt\n",
    "def index():\n",
    "    return create_test_page(test_func.__doc__.title().replace('.', ''), test_func())\n",
    "server = start_test_server(app)\n",
    "display(HTMX())\n",
    "server.stop()"
   ]
  },
  {
   "cell_type": "code",
   "execution_count": null,
   "id": "d2264856-8c84-4293-af74-a4a2e0136f33",
   "metadata": {},
   "outputs": [
    {
     "data": {
      "text/markdown": [
       "```html\n",
       "<div class=\"flex w-full flex-col\">\n",
       "  <div class=\"divider\">Default</div>\n",
       "  <div class=\"divider divider-neutral\">Neutral</div>\n",
       "  <div class=\"divider divider-primary\">Primary</div>\n",
       "  <div class=\"divider divider-secondary\">Secondary</div>\n",
       "  <div class=\"divider divider-accent\">Accent</div>\n",
       "  <div class=\"divider divider-success\">Success</div>\n",
       "  <div class=\"divider divider-warning\">Warning</div>\n",
       "  <div class=\"divider divider-info\">Info</div>\n",
       "  <div class=\"divider divider-error\">Error</div>\n",
       "</div>\n",
       "\n",
       "```"
      ],
      "text/plain": [
       "div((div(('Default',),{'class': 'divider'}), div(('Neutral',),{'class': 'divider divider-neutral'}), div(('Primary',),{'class': 'divider divider-primary'}), div(('Secondary',),{'class': 'divider divider-secondary'}), div(('Accent',),{'class': 'divider divider-accent'}), div(('Success',),{'class': 'divider divider-success'}), div(('Warning',),{'class': 'divider divider-warning'}), div(('Info',),{'class': 'divider divider-info'}), div(('Error',),{'class': 'divider divider-error'})),{'class': 'flex w-full flex-col'})"
      ]
     },
     "execution_count": null,
     "metadata": {},
     "output_type": "execute_result"
    }
   ],
   "source": [
    "#| export\n",
    "def test_divider_colors_fasthtml_examples():\n",
    "    \"\"\"Test divider with colors from daisyUI v5 documentation.\"\"\"\n",
    "    from cjm_fasthtml_tailwind.utilities.sizing import w\n",
    "    from cjm_fasthtml_tailwind.utilities.layout import display_tw\n",
    "    from cjm_fasthtml_tailwind.utilities.flexbox_and_grid import flex_direction\n",
    "    \n",
    "    # Divider with colors\n",
    "    divider_colors_example = Div(\n",
    "        Div(\"Default\", cls=str(divider)),\n",
    "        Div(\"Neutral\", cls=combine_classes(divider, divider_colors.neutral)),\n",
    "        Div(\"Primary\", cls=combine_classes(divider, divider_colors.primary)),\n",
    "        Div(\"Secondary\", cls=combine_classes(divider, divider_colors.secondary)),\n",
    "        Div(\"Accent\", cls=combine_classes(divider, divider_colors.accent)),\n",
    "        Div(\"Success\", cls=combine_classes(divider, divider_colors.success)),\n",
    "        Div(\"Warning\", cls=combine_classes(divider, divider_colors.warning)),\n",
    "        Div(\"Info\", cls=combine_classes(divider, divider_colors.info)),\n",
    "        Div(\"Error\", cls=combine_classes(divider, divider_colors.error)),\n",
    "        cls=combine_classes(display_tw.flex, w.full, flex_direction.col)\n",
    "    )\n",
    "    \n",
    "    # Verify structure\n",
    "    assert divider_colors_example.tag == \"div\"\n",
    "    assert \"flex\" in divider_colors_example.attrs['class']\n",
    "    assert \"w-full\" in divider_colors_example.attrs['class']\n",
    "    assert \"flex-col\" in divider_colors_example.attrs['class']\n",
    "    \n",
    "    # Verify all color dividers\n",
    "    dividers = divider_colors_example.children\n",
    "    assert len(dividers) == 9\n",
    "    \n",
    "    # Default divider\n",
    "    assert dividers[0].tag == \"div\"\n",
    "    assert dividers[0].attrs['class'] == \"divider\"\n",
    "    assert dividers[0].children[0] == \"Default\"\n",
    "    \n",
    "    # Neutral divider\n",
    "    assert dividers[1].tag == \"div\"\n",
    "    assert \"divider\" in dividers[1].attrs['class']\n",
    "    assert \"divider-neutral\" in dividers[1].attrs['class']\n",
    "    assert dividers[1].children[0] == \"Neutral\"\n",
    "    \n",
    "    # Primary divider\n",
    "    assert dividers[2].tag == \"div\"\n",
    "    assert \"divider\" in dividers[2].attrs['class']\n",
    "    assert \"divider-primary\" in dividers[2].attrs['class']\n",
    "    assert dividers[2].children[0] == \"Primary\"\n",
    "    \n",
    "    # Secondary divider\n",
    "    assert dividers[3].tag == \"div\"\n",
    "    assert \"divider\" in dividers[3].attrs['class']\n",
    "    assert \"divider-secondary\" in dividers[3].attrs['class']\n",
    "    assert dividers[3].children[0] == \"Secondary\"\n",
    "    \n",
    "    # Accent divider\n",
    "    assert dividers[4].tag == \"div\"\n",
    "    assert \"divider\" in dividers[4].attrs['class']\n",
    "    assert \"divider-accent\" in dividers[4].attrs['class']\n",
    "    assert dividers[4].children[0] == \"Accent\"\n",
    "    \n",
    "    # Success divider\n",
    "    assert dividers[5].tag == \"div\"\n",
    "    assert \"divider\" in dividers[5].attrs['class']\n",
    "    assert \"divider-success\" in dividers[5].attrs['class']\n",
    "    assert dividers[5].children[0] == \"Success\"\n",
    "    \n",
    "    # Warning divider\n",
    "    assert dividers[6].tag == \"div\"\n",
    "    assert \"divider\" in dividers[6].attrs['class']\n",
    "    assert \"divider-warning\" in dividers[6].attrs['class']\n",
    "    assert dividers[6].children[0] == \"Warning\"\n",
    "    \n",
    "    # Info divider\n",
    "    assert dividers[7].tag == \"div\"\n",
    "    assert \"divider\" in dividers[7].attrs['class']\n",
    "    assert \"divider-info\" in dividers[7].attrs['class']\n",
    "    assert dividers[7].children[0] == \"Info\"\n",
    "    \n",
    "    # Error divider\n",
    "    assert dividers[8].tag == \"div\"\n",
    "    assert \"divider\" in dividers[8].attrs['class']\n",
    "    assert \"divider-error\" in dividers[8].attrs['class']\n",
    "    assert dividers[8].children[0] == \"Error\"\n",
    "    \n",
    "    return divider_colors_example\n",
    "\n",
    "# Run the tests\n",
    "test_divider_colors_fasthtml_examples()"
   ]
  },
  {
   "cell_type": "code",
   "execution_count": null,
   "id": "ab99029f-a36b-4122-9860-c601d28571cd",
   "metadata": {},
   "outputs": [
    {
     "data": {
      "text/html": [
       "\n",
       "<script>\n",
       "document.body.addEventListener('htmx:configRequest', (event) => {\n",
       "    if(event.detail.path.includes('://')) return;\n",
       "    htmx.config.selfRequestsOnly=false;\n",
       "    event.detail.path = `${location.protocol}//${location.hostname}:8000${event.detail.path}`;\n",
       "});\n",
       "</script>"
      ],
      "text/plain": [
       "<IPython.core.display.HTML object>"
      ]
     },
     "metadata": {},
     "output_type": "display_data"
    },
    {
     "data": {
      "text/html": [
       "<iframe src=\"http://localhost:8000/\" style=\"width: 100%; height: auto; border: none;\" onload=\"{\n",
       "        let frame = this;\n",
       "        window.addEventListener('message', function(e) {\n",
       "            if (e.source !== frame.contentWindow) return; // Only proceed if the message is from this iframe\n",
       "            if (e.data.height) frame.style.height = (e.data.height+1) + 'px';\n",
       "        }, false);\n",
       "    }\" allow=\"accelerometer; autoplay; camera; clipboard-read; clipboard-write; display-capture; encrypted-media; fullscreen; gamepad; geolocation; gyroscope; hid; identity-credentials-get; idle-detection; magnetometer; microphone; midi; payment; picture-in-picture; publickey-credentials-get; screen-wake-lock; serial; usb; web-share; xr-spatial-tracking\"></iframe> "
      ],
      "text/plain": [
       "<IPython.core.display.HTML object>"
      ]
     },
     "metadata": {},
     "output_type": "display_data"
    }
   ],
   "source": [
    "#| eval: false\n",
    "test_func = test_divider_colors_fasthtml_examples\n",
    "app, rt = create_test_app(theme=DaisyUITheme.LIGHT)\n",
    "\n",
    "@rt\n",
    "def index():\n",
    "    return create_test_page(test_func.__doc__.title().replace('.', ''), test_func())\n",
    "server = start_test_server(app)\n",
    "display(HTMX())\n",
    "server.stop()"
   ]
  },
  {
   "cell_type": "code",
   "execution_count": null,
   "id": "8ba92d58-68cf-4f5d-8efa-b9902bcc291d",
   "metadata": {},
   "outputs": [
    {
     "data": {
      "text/markdown": [
       "```html\n",
       "<div>\n",
       "  <div class=\"flex w-full flex-col\">\n",
       "    <div class=\"divider divider-start\">Start</div>\n",
       "    <div class=\"divider\">Default</div>\n",
       "    <div class=\"divider divider-end\">End</div>\n",
       "  </div>\n",
       "  <div class=\"flex w-full\">\n",
       "    <div class=\"divider divider-horizontal divider-start\">Start</div>\n",
       "    <div class=\"divider divider-horizontal\">Default</div>\n",
       "    <div class=\"divider divider-horizontal divider-end\">End</div>\n",
       "  </div>\n",
       "</div>\n",
       "\n",
       "```"
      ],
      "text/plain": [
       "div((div((div(('Start',),{'class': 'divider divider-start'}), div(('Default',),{'class': 'divider'}), div(('End',),{'class': 'divider divider-end'})),{'class': 'flex w-full flex-col'}), div((div(('Start',),{'class': 'divider divider-horizontal divider-start'}), div(('Default',),{'class': 'divider divider-horizontal'}), div(('End',),{'class': 'divider divider-horizontal divider-end'})),{'class': 'flex w-full'})),{})"
      ]
     },
     "execution_count": null,
     "metadata": {},
     "output_type": "execute_result"
    }
   ],
   "source": [
    "#| export\n",
    "def test_divider_positions_fasthtml_examples():\n",
    "    \"\"\"Test divider in different positions (vertical and horizontal) from daisyUI v5 documentation.\"\"\"\n",
    "    from cjm_fasthtml_tailwind.utilities.sizing import w\n",
    "    from cjm_fasthtml_tailwind.utilities.layout import display_tw\n",
    "    from cjm_fasthtml_tailwind.utilities.flexbox_and_grid import flex_direction\n",
    "    \n",
    "    # Divider in different positions (vertical)\n",
    "    vertical_positions = Div(\n",
    "        Div(\"Start\", cls=combine_classes(divider, divider_placement.start)),\n",
    "        Div(\"Default\", cls=str(divider)),\n",
    "        Div(\"End\", cls=combine_classes(divider, divider_placement.end)),\n",
    "        cls=combine_classes(display_tw.flex, w.full, flex_direction.col)\n",
    "    )\n",
    "    \n",
    "    # Verify vertical positions structure\n",
    "    assert vertical_positions.tag == \"div\"\n",
    "    assert \"flex\" in vertical_positions.attrs['class']\n",
    "    assert \"w-full\" in vertical_positions.attrs['class']\n",
    "    assert \"flex-col\" in vertical_positions.attrs['class']\n",
    "    \n",
    "    # Verify dividers\n",
    "    vertical_dividers = vertical_positions.children\n",
    "    assert len(vertical_dividers) == 3\n",
    "    \n",
    "    # Start divider\n",
    "    assert vertical_dividers[0].tag == \"div\"\n",
    "    assert \"divider\" in vertical_dividers[0].attrs['class']\n",
    "    assert \"divider-start\" in vertical_dividers[0].attrs['class']\n",
    "    assert vertical_dividers[0].children[0] == \"Start\"\n",
    "    \n",
    "    # Default divider (center)\n",
    "    assert vertical_dividers[1].tag == \"div\"\n",
    "    assert vertical_dividers[1].attrs['class'] == \"divider\"\n",
    "    assert vertical_dividers[1].children[0] == \"Default\"\n",
    "    \n",
    "    # End divider\n",
    "    assert vertical_dividers[2].tag == \"div\"\n",
    "    assert \"divider\" in vertical_dividers[2].attrs['class']\n",
    "    assert \"divider-end\" in vertical_dividers[2].attrs['class']\n",
    "    assert vertical_dividers[2].children[0] == \"End\"\n",
    "    \n",
    "    # Divider in different positions (horizontal)\n",
    "    horizontal_positions = Div(\n",
    "        Div(\n",
    "            \"Start\",\n",
    "            cls=combine_classes(divider, divider_directions.horizontal, divider_placement.start)\n",
    "        ),\n",
    "        Div(\n",
    "            \"Default\",\n",
    "            cls=combine_classes(divider, divider_directions.horizontal)\n",
    "        ),\n",
    "        Div(\n",
    "            \"End\",\n",
    "            cls=combine_classes(divider, divider_directions.horizontal, divider_placement.end)\n",
    "        ),\n",
    "        cls=combine_classes(display_tw.flex, w.full)\n",
    "    )\n",
    "    \n",
    "    # Verify horizontal positions structure\n",
    "    assert horizontal_positions.tag == \"div\"\n",
    "    assert \"flex\" in horizontal_positions.attrs['class']\n",
    "    assert \"w-full\" in horizontal_positions.attrs['class']\n",
    "    assert \"flex-col\" not in horizontal_positions.attrs['class']  # No flex-col for horizontal\n",
    "    \n",
    "    # Verify horizontal dividers\n",
    "    horizontal_dividers = horizontal_positions.children\n",
    "    assert len(horizontal_dividers) == 3\n",
    "    \n",
    "    # Start horizontal divider\n",
    "    assert horizontal_dividers[0].tag == \"div\"\n",
    "    assert \"divider\" in horizontal_dividers[0].attrs['class']\n",
    "    assert \"divider-horizontal\" in horizontal_dividers[0].attrs['class']\n",
    "    assert \"divider-start\" in horizontal_dividers[0].attrs['class']\n",
    "    assert horizontal_dividers[0].children[0] == \"Start\"\n",
    "    \n",
    "    # Default horizontal divider (center)\n",
    "    assert horizontal_dividers[1].tag == \"div\"\n",
    "    assert \"divider\" in horizontal_dividers[1].attrs['class']\n",
    "    assert \"divider-horizontal\" in horizontal_dividers[1].attrs['class']\n",
    "    assert \"divider-start\" not in horizontal_dividers[1].attrs['class']\n",
    "    assert \"divider-end\" not in horizontal_dividers[1].attrs['class']\n",
    "    assert horizontal_dividers[1].children[0] == \"Default\"\n",
    "    \n",
    "    # End horizontal divider\n",
    "    assert horizontal_dividers[2].tag == \"div\"\n",
    "    assert \"divider\" in horizontal_dividers[2].attrs['class']\n",
    "    assert \"divider-horizontal\" in horizontal_dividers[2].attrs['class']\n",
    "    assert \"divider-end\" in horizontal_dividers[2].attrs['class']\n",
    "    assert horizontal_dividers[2].children[0] == \"End\"\n",
    "    \n",
    "    return Div(vertical_positions, horizontal_positions)\n",
    "\n",
    "# Run the tests\n",
    "test_divider_positions_fasthtml_examples()"
   ]
  },
  {
   "cell_type": "code",
   "execution_count": null,
   "id": "24c47ac1-8806-4dec-b99f-b66cca5e2326",
   "metadata": {},
   "outputs": [
    {
     "data": {
      "text/html": [
       "\n",
       "<script>\n",
       "document.body.addEventListener('htmx:configRequest', (event) => {\n",
       "    if(event.detail.path.includes('://')) return;\n",
       "    htmx.config.selfRequestsOnly=false;\n",
       "    event.detail.path = `${location.protocol}//${location.hostname}:8000${event.detail.path}`;\n",
       "});\n",
       "</script>"
      ],
      "text/plain": [
       "<IPython.core.display.HTML object>"
      ]
     },
     "metadata": {},
     "output_type": "display_data"
    },
    {
     "data": {
      "text/html": [
       "<iframe src=\"http://localhost:8000/\" style=\"width: 100%; height: auto; border: none;\" onload=\"{\n",
       "        let frame = this;\n",
       "        window.addEventListener('message', function(e) {\n",
       "            if (e.source !== frame.contentWindow) return; // Only proceed if the message is from this iframe\n",
       "            if (e.data.height) frame.style.height = (e.data.height+1) + 'px';\n",
       "        }, false);\n",
       "    }\" allow=\"accelerometer; autoplay; camera; clipboard-read; clipboard-write; display-capture; encrypted-media; fullscreen; gamepad; geolocation; gyroscope; hid; identity-credentials-get; idle-detection; magnetometer; microphone; midi; payment; picture-in-picture; publickey-credentials-get; screen-wake-lock; serial; usb; web-share; xr-spatial-tracking\"></iframe> "
      ],
      "text/plain": [
       "<IPython.core.display.HTML object>"
      ]
     },
     "metadata": {},
     "output_type": "display_data"
    }
   ],
   "source": [
    "#| eval: false\n",
    "test_func = test_divider_positions_fasthtml_examples\n",
    "app, rt = create_test_app(theme=DaisyUITheme.LIGHT)\n",
    "\n",
    "@rt\n",
    "def index():\n",
    "    return create_test_page(test_func.__doc__.title().replace('.', ''), test_func())\n",
    "server = start_test_server(app)\n",
    "display(HTMX())\n",
    "server.stop()"
   ]
  },
  {
   "cell_type": "code",
   "execution_count": null,
   "id": "7351793e-5257-4f9d-bfdc-b0105982fc64",
   "metadata": {},
   "outputs": [],
   "source": []
  },
  {
   "cell_type": "code",
   "execution_count": null,
   "id": "276b54cb-82e0-4dda-91d7-4fcc31363f54",
   "metadata": {},
   "outputs": [],
   "source": []
  },
  {
   "cell_type": "code",
   "execution_count": null,
   "id": "cabc72ab-5ba1-4621-a196-517583db89b1",
   "metadata": {},
   "outputs": [],
   "source": []
  },
  {
   "cell_type": "code",
   "execution_count": null,
   "id": "c091a740-2bdc-4cb5-aa18-1e17a5553bff",
   "metadata": {},
   "outputs": [],
   "source": []
  },
  {
   "cell_type": "code",
   "execution_count": null,
   "id": "09a1c67d-e696-45d8-a2b7-7e73afd8bd30",
   "metadata": {},
   "outputs": [],
   "source": []
  },
  {
   "cell_type": "code",
   "execution_count": null,
   "id": "52184512-9b87-4926-8faa-c29975cd3847",
   "metadata": {},
   "outputs": [],
   "source": []
  },
  {
   "cell_type": "code",
   "execution_count": null,
   "id": "6a7c40be-7bde-428d-8f87-e56c178216ed",
   "metadata": {},
   "outputs": [],
   "source": []
  },
  {
   "cell_type": "code",
   "execution_count": null,
   "id": "efc68f97-0aeb-4af9-9512-82058a1d3524",
   "metadata": {},
   "outputs": [],
   "source": []
  },
  {
   "cell_type": "code",
   "execution_count": null,
   "id": "4bf31cf4-74e0-4b1a-a3b5-9f595f130d5d",
   "metadata": {},
   "outputs": [],
   "source": []
  },
  {
   "cell_type": "code",
   "execution_count": null,
   "id": "947e86e2-9f5a-47e8-a9fe-8436e1c7afc2",
   "metadata": {},
   "outputs": [],
   "source": []
  },
  {
   "cell_type": "code",
   "execution_count": null,
   "id": "35aa5ea1-5934-4f7e-aed4-f164deffa2e8",
   "metadata": {},
   "outputs": [],
   "source": []
  },
  {
   "cell_type": "code",
   "execution_count": null,
   "id": "f2e3026f-71f0-44e0-ac4a-c452facaf750",
   "metadata": {},
   "outputs": [],
   "source": []
  },
  {
   "cell_type": "code",
   "execution_count": null,
   "id": "b5b9da9d-4cfe-41e0-b2c5-3f0d6404ce5d",
   "metadata": {},
   "outputs": [],
   "source": []
  },
  {
   "cell_type": "code",
   "execution_count": null,
   "id": "571447b9-28c8-4798-a302-b01eb9362281",
   "metadata": {},
   "outputs": [],
   "source": []
  },
  {
   "cell_type": "code",
   "execution_count": null,
   "id": "607b09c3-4299-4922-932d-c74de0f14fef",
   "metadata": {},
   "outputs": [],
   "source": []
  },
  {
   "cell_type": "code",
   "execution_count": null,
   "id": "a3244718-a38d-4601-9dc5-350b698eb9ef",
   "metadata": {},
   "outputs": [],
   "source": []
  },
  {
   "cell_type": "code",
   "execution_count": null,
   "id": "4f5752df-2af1-43b5-aa5d-812bff8a68c0",
   "metadata": {},
   "outputs": [],
   "source": []
  },
  {
   "cell_type": "code",
   "execution_count": null,
   "id": "f7dd2245-f18d-4669-b428-6df6e8f559b3",
   "metadata": {},
   "outputs": [],
   "source": []
  },
  {
   "cell_type": "code",
   "execution_count": null,
   "id": "69ae2fe1-5c36-4cb2-99eb-57441cd49236",
   "metadata": {},
   "outputs": [],
   "source": []
  },
  {
   "cell_type": "code",
   "execution_count": null,
   "id": "2d1dc715-f689-4cde-8c11-2b77e3268e11",
   "metadata": {},
   "outputs": [],
   "source": []
  },
  {
   "cell_type": "code",
   "execution_count": null,
   "id": "54b619a8-733a-43a5-a706-4e24dff54033",
   "metadata": {},
   "outputs": [],
   "source": []
  },
  {
   "cell_type": "code",
   "execution_count": null,
   "id": "d2deedd2-68d0-49b3-92dc-326ddb87ebd6",
   "metadata": {},
   "outputs": [],
   "source": []
  },
  {
   "cell_type": "code",
   "execution_count": null,
   "id": "91362987-8aab-4fef-978e-638b6836d306",
   "metadata": {},
   "outputs": [],
   "source": []
  },
  {
   "cell_type": "code",
   "execution_count": null,
   "id": "6b27e7c9-ca4e-4a73-99f8-82b4dbe8cdc9",
   "metadata": {},
   "outputs": [],
   "source": []
  },
  {
   "cell_type": "code",
   "execution_count": null,
   "id": "8f1a12e9-fe4c-4f88-b2a1-d722adc223bb",
   "metadata": {},
   "outputs": [],
   "source": []
  },
  {
   "cell_type": "code",
   "execution_count": null,
   "id": "e94f6dd1-d1c4-4029-a7da-ee3fb56db0ce",
   "metadata": {},
   "outputs": [],
   "source": []
  },
  {
   "cell_type": "code",
   "execution_count": null,
   "id": "6cd11d11-00a2-4fa3-8142-900b5b1dd124",
   "metadata": {},
   "outputs": [],
   "source": []
  },
  {
   "cell_type": "code",
   "execution_count": null,
   "id": "8e0f7159-43d7-4ae1-92aa-9cf856304ac0",
   "metadata": {},
   "outputs": [],
   "source": []
  },
  {
   "cell_type": "code",
   "execution_count": null,
   "id": "63e4d16c-c9e9-4241-9669-b774a7c7e5e9",
   "metadata": {},
   "outputs": [],
   "source": []
  },
  {
   "cell_type": "code",
   "execution_count": null,
   "id": "e56094d5-215d-4bb2-9624-93c978c29cea",
   "metadata": {},
   "outputs": [],
   "source": []
  },
  {
   "cell_type": "code",
   "execution_count": null,
   "id": "d493f7bc-814f-4432-b9c7-bc068ee1984c",
   "metadata": {},
   "outputs": [],
   "source": []
  },
  {
   "cell_type": "code",
   "execution_count": null,
   "id": "6bdb756a-804c-4d2a-b8fd-f935aa47c829",
   "metadata": {},
   "outputs": [],
   "source": []
  },
  {
   "cell_type": "code",
   "execution_count": null,
   "id": "7d57a171-29db-46cb-9076-b22cb8ed97e2",
   "metadata": {},
   "outputs": [],
   "source": []
  },
  {
   "cell_type": "code",
   "execution_count": null,
   "id": "a1ae07a0-e9a8-4780-81fd-ffe66855f7db",
   "metadata": {},
   "outputs": [],
   "source": []
  },
  {
   "cell_type": "code",
   "execution_count": null,
   "id": "545a7b28-b445-44f2-b839-228488b33de6",
   "metadata": {},
   "outputs": [],
   "source": []
  },
  {
   "cell_type": "code",
   "execution_count": null,
   "id": "53ccb033-00be-4391-95b6-8a053e08cf67",
   "metadata": {},
   "outputs": [],
   "source": []
  },
  {
   "cell_type": "code",
   "execution_count": null,
   "id": "01785a18-9bb0-4dbc-9eae-04addf6dede9",
   "metadata": {},
   "outputs": [],
   "source": []
  },
  {
   "cell_type": "code",
   "execution_count": null,
   "id": "43a3d5aa-4f07-48f4-b7c3-5c63612f0fb2",
   "metadata": {},
   "outputs": [],
   "source": []
  },
  {
   "cell_type": "code",
   "execution_count": null,
   "id": "248adc40-6e77-4203-9830-de838e25a00a",
   "metadata": {},
   "outputs": [],
   "source": []
  },
  {
   "cell_type": "code",
   "execution_count": null,
   "id": "a2029d6d-bf22-4e16-87e1-d609762dc867",
   "metadata": {},
   "outputs": [],
   "source": []
  },
  {
   "cell_type": "code",
   "execution_count": null,
   "id": "c9dfaad9-504c-4853-886b-2d1adb1cc3a0",
   "metadata": {},
   "outputs": [],
   "source": []
  },
  {
   "cell_type": "code",
   "execution_count": null,
   "id": "454d5b84-fc57-44ab-a6f0-3123333998cb",
   "metadata": {},
   "outputs": [],
   "source": []
  },
  {
   "cell_type": "code",
   "execution_count": null,
   "id": "d471d21b-6fe5-4c63-90be-5176c4cbd08b",
   "metadata": {},
   "outputs": [],
   "source": []
  },
  {
   "cell_type": "code",
   "execution_count": null,
   "id": "73b88b7e-0be6-4a82-9c02-f3df8af20015",
   "metadata": {},
   "outputs": [],
   "source": []
  },
  {
   "cell_type": "code",
   "execution_count": null,
   "id": "7ab8257a-c30b-45b6-a784-729b67686791",
   "metadata": {},
   "outputs": [
    {
     "ename": "SyntaxError",
     "evalue": "trailing comma not allowed without surrounding parentheses (<unknown>, line 9)",
     "output_type": "error",
     "traceback": [
      "Traceback \u001b[36m(most recent call last)\u001b[39m:\n",
      "  File \u001b[92m~/miniforge3/envs/cjm-fasthtml-daisyui/lib/python3.11/site-packages/IPython/core/interactiveshell.py:3699\u001b[39m in \u001b[95mrun_code\u001b[39m\n    exec(code_obj, self.user_global_ns, self.user_ns)\n",
      "  Cell \u001b[92mIn[22]\u001b[39m\u001b[92m, line 2\u001b[39m\n    import nbdev; nbdev.nbdev_export()\n",
      "  File \u001b[92m~/miniforge3/envs/cjm-fasthtml-daisyui/lib/python3.11/site-packages/fastcore/script.py:116\u001b[39m in \u001b[95m_f\u001b[39m\n    if not mod: return func(*args, **kwargs)\n",
      "  File \u001b[92m~/miniforge3/envs/cjm-fasthtml-daisyui/lib/python3.11/site-packages/nbdev/doclinks.py:159\u001b[39m in \u001b[95mnbdev_export\u001b[39m\n    _build_modidx()\n",
      "  File \u001b[92m~/miniforge3/envs/cjm-fasthtml-daisyui/lib/python3.11/site-packages/nbdev/doclinks.py:116\u001b[39m in \u001b[95m_build_modidx\u001b[39m\n    res['syms'].update(_get_modidx((dest.parent/file).resolve(), code_root, nbs_path=nbs_path))\n",
      "  File \u001b[92m~/miniforge3/envs/cjm-fasthtml-daisyui/lib/python3.11/site-packages/nbdev/doclinks.py:93\u001b[39m in \u001b[95m_get_modidx\u001b[39m\n    for tree in ast.parse(cell.code).body:\n",
      "\u001b[36m  \u001b[39m\u001b[36mFile \u001b[39m\u001b[32m~/miniforge3/envs/cjm-fasthtml-daisyui/lib/python3.11/ast.py:50\u001b[39m\u001b[36m in \u001b[39m\u001b[35mparse\u001b[39m\n\u001b[31m    \u001b[39m\u001b[31mreturn compile(source, filename, mode, flags,\u001b[39m\n",
      "  \u001b[36mFile \u001b[39m\u001b[32m<unknown>:9\u001b[39m\n\u001b[31m    \u001b[39m\u001b[31mfrom cjm_fasthtml_daisyui.components.layout.divider import divider,\u001b[39m\n                                                                        ^\n\u001b[31mSyntaxError\u001b[39m\u001b[31m:\u001b[39m trailing comma not allowed without surrounding parentheses\n"
     ]
    }
   ],
   "source": [
    "#| hide\n",
    "import nbdev; nbdev.nbdev_export()"
   ]
  }
 ],
 "metadata": {
  "kernelspec": {
   "display_name": "python3",
   "language": "python",
   "name": "python3"
  }
 },
 "nbformat": 4,
 "nbformat_minor": 5
}
