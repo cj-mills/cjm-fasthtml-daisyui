{
 "cells": [
  {
   "cell_type": "markdown",
   "id": "7c51b46b-ece1-456d-8e84-7de122e72b62",
   "metadata": {},
   "source": [
    "# divider\n",
    "\n",
    "> Divider will be used to separate content vertically or horizontally."
   ]
  },
  {
   "cell_type": "code",
   "execution_count": null,
   "id": "25536bdc-e099-477f-9e2d-a5f71df5dff2",
   "metadata": {},
   "outputs": [],
   "source": [
    "#| default_exp components.layout.divider"
   ]
  },
  {
   "cell_type": "code",
   "execution_count": null,
   "id": "2e6f21ce-7766-455a-8ebb-df2c17e7d977",
   "metadata": {},
   "outputs": [],
   "source": [
    "#| hide\n",
    "from nbdev.showdoc import *"
   ]
  },
  {
   "cell_type": "code",
   "execution_count": null,
   "id": "045c6538-403e-4222-b3bb-db20f188524d",
   "metadata": {},
   "outputs": [],
   "source": [
    "#| export\n",
    "from enum import Enum\n",
    "from cjm_fasthtml_tailwind.core.base import (\n",
    "    SingleValueFactory, combine_classes\n",
    ")\n",
    "from cjm_fasthtml_tailwind.builders.scales import SimpleFactory, enums_to_simple_factory\n",
    "\n",
    "from cjm_fasthtml_daisyui.builders.colors import SemanticColorBrand, SemanticColorStatus\n",
    "from fasthtml.common import Div\n",
    "from fasthtml.jupyter import JupyUvi, HTMX\n",
    "from cjm_fasthtml_daisyui.core.testing import create_test_app, create_test_page, start_test_server\n",
    "from cjm_fasthtml_daisyui.core.themes import DaisyUITheme\n",
    "from IPython.display import display"
   ]
  },
  {
   "cell_type": "markdown",
   "id": "b0b1b767-f28d-4f35-b4a8-dfd4dca3cce5",
   "metadata": {},
   "source": [
    "### Base Divider"
   ]
  },
  {
   "cell_type": "code",
   "execution_count": null,
   "id": "c802d106-49fb-4d34-ba04-5f54c88e165b",
   "metadata": {},
   "outputs": [],
   "source": [
    "#| exports\n",
    "divider = SingleValueFactory(\"divider\", \"Base divider component for creating a line between two elements\") # Base divider component"
   ]
  },
  {
   "cell_type": "markdown",
   "id": "3ae78d30-97e6-48b0-9ac7-2400556bd008",
   "metadata": {},
   "source": [
    "### Divider Colors"
   ]
  },
  {
   "cell_type": "code",
   "execution_count": null,
   "id": "636c6bcd-2176-4191-aa39-c937893243e2",
   "metadata": {},
   "outputs": [],
   "source": [
    "#| exports\n",
    "divider_colors = enums_to_simple_factory(divider, [SemanticColorBrand, SemanticColorStatus], \"divider color variants using daisyUI semantic colors\") # divider color variants"
   ]
  },
  {
   "cell_type": "markdown",
   "id": "475dad61-20b4-4ccc-beda-c6f919dad05c",
   "metadata": {},
   "source": [
    "### Divider Directions"
   ]
  },
  {
   "cell_type": "code",
   "execution_count": null,
   "id": "ad2d932c-79ea-4792-bdaf-5bda859340ca",
   "metadata": {},
   "outputs": [],
   "source": [
    "#| exports\n",
    "class DividerDirection(str, Enum):\n",
    "    VERTICAL = \"vertical\"\n",
    "    HORIZONTAL = \"horizontal\"\n",
    "\n",
    "divider_directions = enums_to_simple_factory(divider, [DividerDirection], \"divider directions (vertical, horizontal)\") # divider directions"
   ]
  },
  {
   "cell_type": "markdown",
   "id": "9c08d7ba-9c7e-44e7-b856-0d078bc09bc5",
   "metadata": {},
   "source": [
    "### Divider Directions"
   ]
  },
  {
   "cell_type": "code",
   "execution_count": null,
   "id": "2a1ec214-6867-4699-bd0c-a0b42589b154",
   "metadata": {},
   "outputs": [],
   "source": [
    "#| exports\n",
    "class DividerPlacement(str, Enum):\n",
    "    START = \"start\"\n",
    "    END = \"end\"\n",
    "\n",
    "divider_placement = enums_to_simple_factory(divider, [DividerPlacement], \"divider placement (start, end)\") # divider directions"
   ]
  },
  {
   "cell_type": "markdown",
   "id": "87e737cc-71ef-457d-8d5f-e0c357699ec9",
   "metadata": {},
   "source": [
    "### Divider Test Examples"
   ]
  },
  {
   "cell_type": "code",
   "execution_count": null,
   "id": "3035ff66-e4e7-410c-8b1e-86a879f66112",
   "metadata": {},
   "outputs": [],
   "source": [
    "#|exports\n",
    "def test_divider_basic_examples():\n",
    "    \"\"\"Test basic divider utilities.\"\"\"\n",
    "    # Basic divider\n",
    "    assert str(divider) == \"divider\"\n",
    "    \n",
    "    # Test with modifiers\n",
    "    assert str(divider.hover) == \"hover:divider\"\n",
    "    assert str(divider.md) == \"md:divider\"\n",
    "    assert str(divider.dark) == \"dark:divider\"\n",
    "\n",
    "# Run the tests\n",
    "test_divider_basic_examples()"
   ]
  },
  {
   "cell_type": "code",
   "execution_count": null,
   "id": "4666a5a3-26bb-4d91-b5be-f941df8f9d2f",
   "metadata": {},
   "outputs": [],
   "source": [
    "#|exports\n",
    "def test_divider_colors_examples():\n",
    "    \"\"\"Test divider color variants.\"\"\"\n",
    "    # All color variants\n",
    "    assert str(divider_colors.neutral) == \"divider-neutral\"\n",
    "    assert str(divider_colors.primary) == \"divider-primary\"\n",
    "    assert str(divider_colors.secondary) == \"divider-secondary\"\n",
    "    assert str(divider_colors.accent) == \"divider-accent\"\n",
    "    assert str(divider_colors.info) == \"divider-info\"\n",
    "    assert str(divider_colors.success) == \"divider-success\"\n",
    "    assert str(divider_colors.warning) == \"divider-warning\"\n",
    "    assert str(divider_colors.error) == \"divider-error\"\n",
    "    \n",
    "    # With modifiers\n",
    "    assert str(divider_colors.primary.hover) == \"hover:divider-primary\"\n",
    "    assert str(divider_colors.success.focus) == \"focus:divider-success\"\n",
    "\n",
    "# Run the tests\n",
    "test_divider_colors_examples()"
   ]
  },
  {
   "cell_type": "code",
   "execution_count": null,
   "id": "85d72161-e718-4c66-bc59-a3569b7f7616",
   "metadata": {},
   "outputs": [],
   "source": [
    "#|exports\n",
    "def test_divider_directions_examples():\n",
    "    \"\"\"Test divider directions variants.\"\"\"\n",
    "    assert str(divider_directions.vertical) == \"divider-vertical\"\n",
    "    assert str(divider_directions.horizontal) == \"divider-horizontal\"\n",
    "\n",
    "# Run the tests\n",
    "test_divider_directions_examples()"
   ]
  },
  {
   "cell_type": "code",
   "execution_count": null,
   "id": "214654cc-9758-48f9-92e2-0892029c4512",
   "metadata": {},
   "outputs": [],
   "source": [
    "#|exports\n",
    "def test_divider_placement_examples():\n",
    "    \"\"\"Test divider placement variants.\"\"\"\n",
    "    assert str(divider_placement.start) == \"divider-start\"\n",
    "    assert str(divider_placement.end) == \"divider-end\"\n",
    "\n",
    "# Run the tests\n",
    "test_divider_placement_examples()"
   ]
  },
  {
   "cell_type": "code",
   "execution_count": null,
   "id": "de84bb69-cc66-498d-ae1b-56cfe7fa5167",
   "metadata": {},
   "outputs": [
    {
     "data": {
      "text/markdown": [
       "```html\n",
       "<div>\n",
       "  <div class=\"flex w-full flex-col\">\n",
       "    <div class=\"card bg-base-300 rounded-box grid h-20 place-items-center\">content</div>\n",
       "    <div class=\"divider\">OR</div>\n",
       "    <div class=\"card bg-base-300 rounded-box grid h-20 place-items-center\">content</div>\n",
       "  </div>\n",
       "  <div class=\"flex w-full flex-col\">\n",
       "    <div class=\"card bg-base-300 rounded-box grid h-20 place-items-center\">content</div>\n",
       "    <div class=\"divider\"></div>\n",
       "    <div class=\"card bg-base-300 rounded-box grid h-20 place-items-center\">content</div>\n",
       "  </div>\n",
       "</div>\n",
       "\n",
       "```"
      ],
      "text/plain": [
       "div((div((div(('content',),{'class': 'card bg-base-300 rounded-box grid h-20 place-items-center'}), div(('OR',),{'class': 'divider'}), div(('content',),{'class': 'card bg-base-300 rounded-box grid h-20 place-items-center'})),{'class': 'flex w-full flex-col'}), div((div(('content',),{'class': 'card bg-base-300 rounded-box grid h-20 place-items-center'}), div((),{'class': 'divider'}), div(('content',),{'class': 'card bg-base-300 rounded-box grid h-20 place-items-center'})),{'class': 'flex w-full flex-col'})),{})"
      ]
     },
     "execution_count": null,
     "metadata": {},
     "output_type": "execute_result"
    }
   ],
   "source": [
    "#|exports\n",
    "def test_divider_basic_fasthtml_examples():\n",
    "    \"\"\"Test basic divider and divider with no text from daisyUI v5 documentation.\"\"\"\n",
    "    from cjm_fasthtml_tailwind.utilities.sizing import w, h\n",
    "    from cjm_fasthtml_tailwind.utilities.flexbox_and_grid import flex_direction, place_items, grow, grid_display, flex_display\n",
    "    from cjm_fasthtml_tailwind.utilities.layout import display_tw\n",
    "    from cjm_fasthtml_tailwind.utilities.borders import rounded\n",
    "    from cjm_fasthtml_daisyui.utilities.semantic_colors import bg_dui\n",
    "    from cjm_fasthtml_daisyui.components.data_display.card import card\n",
    "    \n",
    "    # Divider with text\n",
    "    divider_with_text = Div(\n",
    "        Div(\n",
    "            \"content\",\n",
    "            cls=combine_classes(card, bg_dui.base_300, rounded.box, grid_display, h._20, place_items.center)\n",
    "        ),\n",
    "        Div(\"OR\", cls=str(divider)),\n",
    "        Div(\n",
    "            \"content\",\n",
    "            cls=combine_classes(card, bg_dui.base_300, rounded.box, grid_display, h._20, place_items.center)\n",
    "        ),\n",
    "        cls=combine_classes(flex_display, w.full, flex_direction.col)\n",
    "    )\n",
    "    \n",
    "    # Verify structure\n",
    "    assert divider_with_text.tag == \"div\"\n",
    "    assert \"flex\" in divider_with_text.attrs['class']\n",
    "    assert \"w-full\" in divider_with_text.attrs['class']\n",
    "    assert \"flex-col\" in divider_with_text.attrs['class']\n",
    "    \n",
    "    # Verify first card\n",
    "    first_card = divider_with_text.children[0]\n",
    "    assert first_card.tag == \"div\"\n",
    "    assert \"card\" in first_card.attrs['class']\n",
    "    assert \"bg-base-300\" in first_card.attrs['class']\n",
    "    assert \"rounded-box\" in first_card.attrs['class']\n",
    "    assert \"grid\" in first_card.attrs['class']\n",
    "    assert \"h-20\" in first_card.attrs['class']\n",
    "    assert \"place-items-center\" in first_card.attrs['class']\n",
    "    assert first_card.children[0] == \"content\"\n",
    "    \n",
    "    # Verify divider\n",
    "    divider_element = divider_with_text.children[1]\n",
    "    assert divider_element.tag == \"div\"\n",
    "    assert divider_element.attrs['class'] == \"divider\"\n",
    "    assert divider_element.children[0] == \"OR\"\n",
    "    \n",
    "    # Verify second card\n",
    "    second_card = divider_with_text.children[2]\n",
    "    assert second_card.tag == \"div\"\n",
    "    assert \"card\" in second_card.attrs['class']\n",
    "    assert second_card.children[0] == \"content\"\n",
    "    \n",
    "    # Divider with no text\n",
    "    divider_no_text = Div(\n",
    "        Div(\n",
    "            \"content\",\n",
    "            cls=combine_classes(card, bg_dui.base_300, rounded.box, grid_display, h._20, place_items.center)\n",
    "        ),\n",
    "        Div(cls=str(divider)),  # No text\n",
    "        Div(\n",
    "            \"content\",\n",
    "            cls=combine_classes(card, bg_dui.base_300, rounded.box, grid_display, h._20, place_items.center)\n",
    "        ),\n",
    "        cls=combine_classes(flex_display, w.full, flex_direction.col)\n",
    "    )\n",
    "    \n",
    "    # Verify divider with no text\n",
    "    assert divider_no_text.children[1].tag == \"div\"\n",
    "    assert divider_no_text.children[1].attrs['class'] == \"divider\"\n",
    "    assert divider_no_text.children[1].children == ()  # No children (no text)\n",
    "    \n",
    "    return Div(divider_with_text, divider_no_text)\n",
    "\n",
    "# Run the tests\n",
    "test_divider_basic_fasthtml_examples()"
   ]
  },
  {
   "cell_type": "code",
   "execution_count": null,
   "id": "ae0dd791-2319-440f-988a-01f6c67ddbb9",
   "metadata": {},
   "outputs": [
    {
     "data": {
      "text/html": [
       "\n",
       "<script>\n",
       "document.body.addEventListener('htmx:configRequest', (event) => {\n",
       "    if(event.detail.path.includes('://')) return;\n",
       "    htmx.config.selfRequestsOnly=false;\n",
       "    event.detail.path = `${location.protocol}//${location.hostname}:8000${event.detail.path}`;\n",
       "});\n",
       "</script>"
      ],
      "text/plain": [
       "<IPython.core.display.HTML object>"
      ]
     },
     "metadata": {},
     "output_type": "display_data"
    },
    {
     "data": {
      "text/html": [
       "<iframe src=\"http://localhost:8000/\" style=\"width: 100%; height: auto; border: none;\" onload=\"{\n",
       "        let frame = this;\n",
       "        window.addEventListener('message', function(e) {\n",
       "            if (e.source !== frame.contentWindow) return; // Only proceed if the message is from this iframe\n",
       "            if (e.data.height) frame.style.height = (e.data.height+1) + 'px';\n",
       "        }, false);\n",
       "    }\" allow=\"accelerometer; autoplay; camera; clipboard-read; clipboard-write; display-capture; encrypted-media; fullscreen; gamepad; geolocation; gyroscope; hid; identity-credentials-get; idle-detection; magnetometer; microphone; midi; payment; picture-in-picture; publickey-credentials-get; screen-wake-lock; serial; usb; web-share; xr-spatial-tracking\"></iframe> "
      ],
      "text/plain": [
       "<IPython.core.display.HTML object>"
      ]
     },
     "metadata": {},
     "output_type": "display_data"
    }
   ],
   "source": [
    "#| eval: false\n",
    "#| output: false\n",
    "test_func = test_divider_basic_fasthtml_examples\n",
    "app, rt = create_test_app(theme=DaisyUITheme.LIGHT)\n",
    "\n",
    "@rt\n",
    "def index():\n",
    "    return create_test_page(test_func.__doc__.title().replace('.', ''), test_func())\n",
    "server = start_test_server(app)\n",
    "display(HTMX())\n",
    "server.stop()"
   ]
  },
  {
   "cell_type": "code",
   "execution_count": null,
   "id": "51f3445e-264f-4366-a9c6-fd948468ab2e",
   "metadata": {},
   "outputs": [
    {
     "data": {
      "text/markdown": [
       "```html\n",
       "<div class=\"flex w-full\">\n",
       "  <div class=\"card bg-base-300 rounded-box grid h-20 grow-1 place-items-center\">content</div>\n",
       "  <div class=\"divider divider-horizontal\">OR</div>\n",
       "  <div class=\"card bg-base-300 rounded-box grid h-20 grow-1 place-items-center\">content</div>\n",
       "</div>\n",
       "\n",
       "```"
      ],
      "text/plain": [
       "div((div(('content',),{'class': 'card bg-base-300 rounded-box grid h-20 grow-1 place-items-center'}), div(('OR',),{'class': 'divider divider-horizontal'}), div(('content',),{'class': 'card bg-base-300 rounded-box grid h-20 grow-1 place-items-center'})),{'class': 'flex w-full'})"
      ]
     },
     "execution_count": null,
     "metadata": {},
     "output_type": "execute_result"
    }
   ],
   "source": [
    "#|exports\n",
    "def test_divider_horizontal_fasthtml_examples():\n",
    "    \"\"\"Test horizontal divider from daisyUI v5 documentation.\"\"\"\n",
    "    from cjm_fasthtml_tailwind.utilities.sizing import w, h\n",
    "    from cjm_fasthtml_tailwind.utilities.flexbox_and_grid import place_items, grow, grid_display, flex_display\n",
    "    from cjm_fasthtml_tailwind.utilities.layout import display_tw\n",
    "    from cjm_fasthtml_tailwind.utilities.borders import rounded\n",
    "    from cjm_fasthtml_daisyui.utilities.semantic_colors import bg_dui\n",
    "    from cjm_fasthtml_daisyui.components.data_display.card import card\n",
    "    \n",
    "    # Horizontal divider\n",
    "    horizontal_divider = Div(\n",
    "        Div(\n",
    "            \"content\",\n",
    "            cls=combine_classes(card, bg_dui.base_300, rounded.box, grid_display, h._20, grow(), place_items.center)\n",
    "        ),\n",
    "        Div(\n",
    "            \"OR\",\n",
    "            cls=combine_classes(divider, divider_directions.horizontal)\n",
    "        ),\n",
    "        Div(\n",
    "            \"content\",\n",
    "            cls=combine_classes(card, bg_dui.base_300, rounded.box, grid_display, h._20, grow(), place_items.center)\n",
    "        ),\n",
    "        cls=combine_classes(flex_display, w.full)\n",
    "    )\n",
    "    \n",
    "    # Verify structure\n",
    "    assert horizontal_divider.tag == \"div\"\n",
    "    assert \"flex\" in horizontal_divider.attrs['class']\n",
    "    assert \"w-full\" in horizontal_divider.attrs['class']\n",
    "    # Note: No flex-col for horizontal layout\n",
    "    assert \"flex-col\" not in horizontal_divider.attrs['class']\n",
    "    \n",
    "    # Verify first card\n",
    "    first_card = horizontal_divider.children[0]\n",
    "    assert first_card.tag == \"div\"\n",
    "    assert \"card\" in first_card.attrs['class']\n",
    "    assert \"bg-base-300\" in first_card.attrs['class']\n",
    "    assert \"rounded-box\" in first_card.attrs['class']\n",
    "    assert \"grid\" in first_card.attrs['class']\n",
    "    assert \"h-20\" in first_card.attrs['class']\n",
    "    assert \"grow\" in first_card.attrs['class']  # grow for horizontal layout\n",
    "    assert \"place-items-center\" in first_card.attrs['class']\n",
    "    assert first_card.children[0] == \"content\"\n",
    "    \n",
    "    # Verify horizontal divider\n",
    "    divider_element = horizontal_divider.children[1]\n",
    "    assert divider_element.tag == \"div\"\n",
    "    assert \"divider\" in divider_element.attrs['class']\n",
    "    assert \"divider-horizontal\" in divider_element.attrs['class']\n",
    "    assert divider_element.children[0] == \"OR\"\n",
    "    \n",
    "    # Verify second card\n",
    "    second_card = horizontal_divider.children[2]\n",
    "    assert second_card.tag == \"div\"\n",
    "    assert \"card\" in second_card.attrs['class']\n",
    "    assert \"grow\" in second_card.attrs['class']  # grow for horizontal layout\n",
    "    assert second_card.children[0] == \"content\"\n",
    "    \n",
    "    return horizontal_divider\n",
    "\n",
    "# Run the tests\n",
    "test_divider_horizontal_fasthtml_examples()"
   ]
  },
  {
   "cell_type": "code",
   "execution_count": null,
   "id": "5e699265-e094-478f-b29e-24cbed5f726f",
   "metadata": {},
   "outputs": [
    {
     "data": {
      "text/html": [
       "\n",
       "<script>\n",
       "document.body.addEventListener('htmx:configRequest', (event) => {\n",
       "    if(event.detail.path.includes('://')) return;\n",
       "    htmx.config.selfRequestsOnly=false;\n",
       "    event.detail.path = `${location.protocol}//${location.hostname}:8000${event.detail.path}`;\n",
       "});\n",
       "</script>"
      ],
      "text/plain": [
       "<IPython.core.display.HTML object>"
      ]
     },
     "metadata": {},
     "output_type": "display_data"
    },
    {
     "data": {
      "text/html": [
       "<iframe src=\"http://localhost:8000/\" style=\"width: 100%; height: auto; border: none;\" onload=\"{\n",
       "        let frame = this;\n",
       "        window.addEventListener('message', function(e) {\n",
       "            if (e.source !== frame.contentWindow) return; // Only proceed if the message is from this iframe\n",
       "            if (e.data.height) frame.style.height = (e.data.height+1) + 'px';\n",
       "        }, false);\n",
       "    }\" allow=\"accelerometer; autoplay; camera; clipboard-read; clipboard-write; display-capture; encrypted-media; fullscreen; gamepad; geolocation; gyroscope; hid; identity-credentials-get; idle-detection; magnetometer; microphone; midi; payment; picture-in-picture; publickey-credentials-get; screen-wake-lock; serial; usb; web-share; xr-spatial-tracking\"></iframe> "
      ],
      "text/plain": [
       "<IPython.core.display.HTML object>"
      ]
     },
     "metadata": {},
     "output_type": "display_data"
    }
   ],
   "source": [
    "#| eval: false\n",
    "#| output: false\n",
    "test_func = test_divider_horizontal_fasthtml_examples\n",
    "app, rt = create_test_app(theme=DaisyUITheme.LIGHT)\n",
    "\n",
    "@rt\n",
    "def index():\n",
    "    return create_test_page(test_func.__doc__.title().replace('.', ''), test_func())\n",
    "server = start_test_server(app)\n",
    "display(HTMX())\n",
    "server.stop()"
   ]
  },
  {
   "cell_type": "code",
   "execution_count": null,
   "id": "ca013087-fd14-4b2a-8894-5c9dfdcf51f4",
   "metadata": {},
   "outputs": [
    {
     "data": {
      "text/markdown": [
       "```html\n",
       "<div class=\"flex w-full flex-col lg:flex-row\">\n",
       "  <div class=\"card bg-base-300 rounded-box grid h-32 grow-1 place-items-center\">content</div>\n",
       "  <div class=\"divider lg:divider-horizontal\">OR</div>\n",
       "  <div class=\"card bg-base-300 rounded-box grid h-32 grow-1 place-items-center\">content</div>\n",
       "</div>\n",
       "\n",
       "```"
      ],
      "text/plain": [
       "div((div(('content',),{'class': 'card bg-base-300 rounded-box grid h-32 grow-1 place-items-center'}), div(('OR',),{'class': 'divider lg:divider-horizontal'}), div(('content',),{'class': 'card bg-base-300 rounded-box grid h-32 grow-1 place-items-center'})),{'class': 'flex w-full flex-col lg:flex-row'})"
      ]
     },
     "execution_count": null,
     "metadata": {},
     "output_type": "execute_result"
    }
   ],
   "source": [
    "#|exports\n",
    "def test_divider_responsive_fasthtml_examples():\n",
    "    \"\"\"Test responsive divider (lg:divider-horizontal) from daisyUI v5 documentation.\"\"\"\n",
    "    from cjm_fasthtml_tailwind.utilities.sizing import w, h\n",
    "    from cjm_fasthtml_tailwind.utilities.flexbox_and_grid import flex_direction, place_items, grow, grid_display, flex_display\n",
    "    from cjm_fasthtml_tailwind.utilities.layout import display_tw\n",
    "    from cjm_fasthtml_tailwind.utilities.borders import rounded\n",
    "    from cjm_fasthtml_daisyui.utilities.semantic_colors import bg_dui\n",
    "    from cjm_fasthtml_daisyui.components.data_display.card import card\n",
    "    \n",
    "    # Responsive divider (vertical on small, horizontal on large)\n",
    "    responsive_divider = Div(\n",
    "        Div(\n",
    "            \"content\",\n",
    "            cls=combine_classes(card, bg_dui.base_300, rounded.box, grid_display, h._32, grow(), place_items.center)\n",
    "        ),\n",
    "        Div(\n",
    "            \"OR\",\n",
    "            cls=combine_classes(divider, divider_directions.horizontal.lg)\n",
    "        ),\n",
    "        Div(\n",
    "            \"content\",\n",
    "            cls=combine_classes(card, bg_dui.base_300, rounded.box, grid_display, h._32, grow(), place_items.center)\n",
    "        ),\n",
    "        cls=combine_classes(flex_display, w.full, flex_direction.col, flex_direction.row.lg)\n",
    "    )\n",
    "    \n",
    "    # Verify structure\n",
    "    assert responsive_divider.tag == \"div\"\n",
    "    assert \"flex\" in responsive_divider.attrs['class']\n",
    "    assert \"w-full\" in responsive_divider.attrs['class']\n",
    "    assert \"flex-col\" in responsive_divider.attrs['class']  # vertical by default\n",
    "    assert \"lg:flex-row\" in responsive_divider.attrs['class']  # horizontal on large screens\n",
    "    \n",
    "    # Verify first card\n",
    "    first_card = responsive_divider.children[0]\n",
    "    assert first_card.tag == \"div\"\n",
    "    assert \"card\" in first_card.attrs['class']\n",
    "    assert \"bg-base-300\" in first_card.attrs['class']\n",
    "    assert \"rounded-box\" in first_card.attrs['class']\n",
    "    assert \"grid\" in first_card.attrs['class']\n",
    "    assert \"h-32\" in first_card.attrs['class']  # taller for responsive example\n",
    "    assert \"grow\" in first_card.attrs['class']\n",
    "    assert \"place-items-center\" in first_card.attrs['class']\n",
    "    assert first_card.children[0] == \"content\"\n",
    "    \n",
    "    # Verify responsive divider\n",
    "    divider_element = responsive_divider.children[1]\n",
    "    assert divider_element.tag == \"div\"\n",
    "    assert \"divider\" in divider_element.attrs['class']\n",
    "    assert \"lg:divider-horizontal\" in divider_element.attrs['class']  # horizontal on large screens\n",
    "    assert divider_element.children[0] == \"OR\"\n",
    "    \n",
    "    # Verify second card\n",
    "    second_card = responsive_divider.children[2]\n",
    "    assert second_card.tag == \"div\"\n",
    "    assert \"card\" in second_card.attrs['class']\n",
    "    assert \"h-32\" in second_card.attrs['class']  # taller for responsive example\n",
    "    assert \"grow\" in second_card.attrs['class']\n",
    "    assert second_card.children[0] == \"content\"\n",
    "    \n",
    "    return responsive_divider\n",
    "\n",
    "# Run the tests\n",
    "test_divider_responsive_fasthtml_examples()"
   ]
  },
  {
   "cell_type": "code",
   "execution_count": null,
   "id": "5c54ced1-c238-42d9-9cf3-a2d3cea3ab96",
   "metadata": {},
   "outputs": [
    {
     "data": {
      "text/html": [
       "\n",
       "<script>\n",
       "document.body.addEventListener('htmx:configRequest', (event) => {\n",
       "    if(event.detail.path.includes('://')) return;\n",
       "    htmx.config.selfRequestsOnly=false;\n",
       "    event.detail.path = `${location.protocol}//${location.hostname}:8000${event.detail.path}`;\n",
       "});\n",
       "</script>"
      ],
      "text/plain": [
       "<IPython.core.display.HTML object>"
      ]
     },
     "metadata": {},
     "output_type": "display_data"
    },
    {
     "data": {
      "text/html": [
       "<iframe src=\"http://localhost:8000/\" style=\"width: 100%; height: auto; border: none;\" onload=\"{\n",
       "        let frame = this;\n",
       "        window.addEventListener('message', function(e) {\n",
       "            if (e.source !== frame.contentWindow) return; // Only proceed if the message is from this iframe\n",
       "            if (e.data.height) frame.style.height = (e.data.height+1) + 'px';\n",
       "        }, false);\n",
       "    }\" allow=\"accelerometer; autoplay; camera; clipboard-read; clipboard-write; display-capture; encrypted-media; fullscreen; gamepad; geolocation; gyroscope; hid; identity-credentials-get; idle-detection; magnetometer; microphone; midi; payment; picture-in-picture; publickey-credentials-get; screen-wake-lock; serial; usb; web-share; xr-spatial-tracking\"></iframe> "
      ],
      "text/plain": [
       "<IPython.core.display.HTML object>"
      ]
     },
     "metadata": {},
     "output_type": "display_data"
    }
   ],
   "source": [
    "#| eval: false\n",
    "#| output: false\n",
    "test_func = test_divider_responsive_fasthtml_examples\n",
    "app, rt = create_test_app(theme=DaisyUITheme.LIGHT)\n",
    "\n",
    "@rt\n",
    "def index():\n",
    "    return create_test_page(test_func.__doc__.title().replace('.', ''), test_func())\n",
    "server = start_test_server(app)\n",
    "display(HTMX())\n",
    "server.stop()"
   ]
  },
  {
   "cell_type": "code",
   "execution_count": null,
   "id": "d2264856-8c84-4293-af74-a4a2e0136f33",
   "metadata": {},
   "outputs": [
    {
     "data": {
      "text/markdown": [
       "```html\n",
       "<div class=\"flex w-full flex-col\">\n",
       "  <div class=\"divider\">Default</div>\n",
       "  <div class=\"divider divider-neutral\">Neutral</div>\n",
       "  <div class=\"divider divider-primary\">Primary</div>\n",
       "  <div class=\"divider divider-secondary\">Secondary</div>\n",
       "  <div class=\"divider divider-accent\">Accent</div>\n",
       "  <div class=\"divider divider-success\">Success</div>\n",
       "  <div class=\"divider divider-warning\">Warning</div>\n",
       "  <div class=\"divider divider-info\">Info</div>\n",
       "  <div class=\"divider divider-error\">Error</div>\n",
       "</div>\n",
       "\n",
       "```"
      ],
      "text/plain": [
       "div((div(('Default',),{'class': 'divider'}), div(('Neutral',),{'class': 'divider divider-neutral'}), div(('Primary',),{'class': 'divider divider-primary'}), div(('Secondary',),{'class': 'divider divider-secondary'}), div(('Accent',),{'class': 'divider divider-accent'}), div(('Success',),{'class': 'divider divider-success'}), div(('Warning',),{'class': 'divider divider-warning'}), div(('Info',),{'class': 'divider divider-info'}), div(('Error',),{'class': 'divider divider-error'})),{'class': 'flex w-full flex-col'})"
      ]
     },
     "execution_count": null,
     "metadata": {},
     "output_type": "execute_result"
    }
   ],
   "source": [
    "#|exports\n",
    "def test_divider_colors_fasthtml_examples():\n",
    "    \"\"\"Test divider with colors from daisyUI v5 documentation.\"\"\"\n",
    "    from cjm_fasthtml_tailwind.utilities.sizing import w\n",
    "    from cjm_fasthtml_tailwind.utilities.layout import display_tw\n",
    "    from cjm_fasthtml_tailwind.utilities.flexbox_and_grid import flex_direction, flex_display\n",
    "    \n",
    "    # Divider with colors\n",
    "    divider_colors_example = Div(\n",
    "        Div(\"Default\", cls=str(divider)),\n",
    "        Div(\"Neutral\", cls=combine_classes(divider, divider_colors.neutral)),\n",
    "        Div(\"Primary\", cls=combine_classes(divider, divider_colors.primary)),\n",
    "        Div(\"Secondary\", cls=combine_classes(divider, divider_colors.secondary)),\n",
    "        Div(\"Accent\", cls=combine_classes(divider, divider_colors.accent)),\n",
    "        Div(\"Success\", cls=combine_classes(divider, divider_colors.success)),\n",
    "        Div(\"Warning\", cls=combine_classes(divider, divider_colors.warning)),\n",
    "        Div(\"Info\", cls=combine_classes(divider, divider_colors.info)),\n",
    "        Div(\"Error\", cls=combine_classes(divider, divider_colors.error)),\n",
    "        cls=combine_classes(flex_display, w.full, flex_direction.col)\n",
    "    )\n",
    "    \n",
    "    # Verify structure\n",
    "    assert divider_colors_example.tag == \"div\"\n",
    "    assert \"flex\" in divider_colors_example.attrs['class']\n",
    "    assert \"w-full\" in divider_colors_example.attrs['class']\n",
    "    assert \"flex-col\" in divider_colors_example.attrs['class']\n",
    "    \n",
    "    # Verify all color dividers\n",
    "    dividers = divider_colors_example.children\n",
    "    assert len(dividers) == 9\n",
    "    \n",
    "    # Default divider\n",
    "    assert dividers[0].tag == \"div\"\n",
    "    assert dividers[0].attrs['class'] == \"divider\"\n",
    "    assert dividers[0].children[0] == \"Default\"\n",
    "    \n",
    "    # Neutral divider\n",
    "    assert dividers[1].tag == \"div\"\n",
    "    assert \"divider\" in dividers[1].attrs['class']\n",
    "    assert \"divider-neutral\" in dividers[1].attrs['class']\n",
    "    assert dividers[1].children[0] == \"Neutral\"\n",
    "    \n",
    "    # Primary divider\n",
    "    assert dividers[2].tag == \"div\"\n",
    "    assert \"divider\" in dividers[2].attrs['class']\n",
    "    assert \"divider-primary\" in dividers[2].attrs['class']\n",
    "    assert dividers[2].children[0] == \"Primary\"\n",
    "    \n",
    "    # Secondary divider\n",
    "    assert dividers[3].tag == \"div\"\n",
    "    assert \"divider\" in dividers[3].attrs['class']\n",
    "    assert \"divider-secondary\" in dividers[3].attrs['class']\n",
    "    assert dividers[3].children[0] == \"Secondary\"\n",
    "    \n",
    "    # Accent divider\n",
    "    assert dividers[4].tag == \"div\"\n",
    "    assert \"divider\" in dividers[4].attrs['class']\n",
    "    assert \"divider-accent\" in dividers[4].attrs['class']\n",
    "    assert dividers[4].children[0] == \"Accent\"\n",
    "    \n",
    "    # Success divider\n",
    "    assert dividers[5].tag == \"div\"\n",
    "    assert \"divider\" in dividers[5].attrs['class']\n",
    "    assert \"divider-success\" in dividers[5].attrs['class']\n",
    "    assert dividers[5].children[0] == \"Success\"\n",
    "    \n",
    "    # Warning divider\n",
    "    assert dividers[6].tag == \"div\"\n",
    "    assert \"divider\" in dividers[6].attrs['class']\n",
    "    assert \"divider-warning\" in dividers[6].attrs['class']\n",
    "    assert dividers[6].children[0] == \"Warning\"\n",
    "    \n",
    "    # Info divider\n",
    "    assert dividers[7].tag == \"div\"\n",
    "    assert \"divider\" in dividers[7].attrs['class']\n",
    "    assert \"divider-info\" in dividers[7].attrs['class']\n",
    "    assert dividers[7].children[0] == \"Info\"\n",
    "    \n",
    "    # Error divider\n",
    "    assert dividers[8].tag == \"div\"\n",
    "    assert \"divider\" in dividers[8].attrs['class']\n",
    "    assert \"divider-error\" in dividers[8].attrs['class']\n",
    "    assert dividers[8].children[0] == \"Error\"\n",
    "    \n",
    "    return divider_colors_example\n",
    "\n",
    "# Run the tests\n",
    "test_divider_colors_fasthtml_examples()"
   ]
  },
  {
   "cell_type": "code",
   "execution_count": null,
   "id": "ab99029f-a36b-4122-9860-c601d28571cd",
   "metadata": {},
   "outputs": [
    {
     "data": {
      "text/html": [
       "\n",
       "<script>\n",
       "document.body.addEventListener('htmx:configRequest', (event) => {\n",
       "    if(event.detail.path.includes('://')) return;\n",
       "    htmx.config.selfRequestsOnly=false;\n",
       "    event.detail.path = `${location.protocol}//${location.hostname}:8000${event.detail.path}`;\n",
       "});\n",
       "</script>"
      ],
      "text/plain": [
       "<IPython.core.display.HTML object>"
      ]
     },
     "metadata": {},
     "output_type": "display_data"
    },
    {
     "data": {
      "text/html": [
       "<iframe src=\"http://localhost:8000/\" style=\"width: 100%; height: auto; border: none;\" onload=\"{\n",
       "        let frame = this;\n",
       "        window.addEventListener('message', function(e) {\n",
       "            if (e.source !== frame.contentWindow) return; // Only proceed if the message is from this iframe\n",
       "            if (e.data.height) frame.style.height = (e.data.height+1) + 'px';\n",
       "        }, false);\n",
       "    }\" allow=\"accelerometer; autoplay; camera; clipboard-read; clipboard-write; display-capture; encrypted-media; fullscreen; gamepad; geolocation; gyroscope; hid; identity-credentials-get; idle-detection; magnetometer; microphone; midi; payment; picture-in-picture; publickey-credentials-get; screen-wake-lock; serial; usb; web-share; xr-spatial-tracking\"></iframe> "
      ],
      "text/plain": [
       "<IPython.core.display.HTML object>"
      ]
     },
     "metadata": {},
     "output_type": "display_data"
    }
   ],
   "source": [
    "#| eval: false\n",
    "#| output: false\n",
    "test_func = test_divider_colors_fasthtml_examples\n",
    "app, rt = create_test_app(theme=DaisyUITheme.LIGHT)\n",
    "\n",
    "@rt\n",
    "def index():\n",
    "    return create_test_page(test_func.__doc__.title().replace('.', ''), test_func())\n",
    "server = start_test_server(app)\n",
    "display(HTMX())\n",
    "server.stop()"
   ]
  },
  {
   "cell_type": "code",
   "execution_count": null,
   "id": "8ba92d58-68cf-4f5d-8efa-b9902bcc291d",
   "metadata": {},
   "outputs": [
    {
     "data": {
      "text/markdown": [
       "```html\n",
       "<div>\n",
       "  <div class=\"flex w-full flex-col\">\n",
       "    <div class=\"divider divider-start\">Start</div>\n",
       "    <div class=\"divider\">Default</div>\n",
       "    <div class=\"divider divider-end\">End</div>\n",
       "  </div>\n",
       "  <div class=\"flex w-full\">\n",
       "    <div class=\"divider divider-horizontal divider-start\">Start</div>\n",
       "    <div class=\"divider divider-horizontal\">Default</div>\n",
       "    <div class=\"divider divider-horizontal divider-end\">End</div>\n",
       "  </div>\n",
       "</div>\n",
       "\n",
       "```"
      ],
      "text/plain": [
       "div((div((div(('Start',),{'class': 'divider divider-start'}), div(('Default',),{'class': 'divider'}), div(('End',),{'class': 'divider divider-end'})),{'class': 'flex w-full flex-col'}), div((div(('Start',),{'class': 'divider divider-horizontal divider-start'}), div(('Default',),{'class': 'divider divider-horizontal'}), div(('End',),{'class': 'divider divider-horizontal divider-end'})),{'class': 'flex w-full'})),{})"
      ]
     },
     "execution_count": null,
     "metadata": {},
     "output_type": "execute_result"
    }
   ],
   "source": [
    "#|exports\n",
    "def test_divider_positions_fasthtml_examples():\n",
    "    \"\"\"Test divider in different positions (vertical and horizontal) from daisyUI v5 documentation.\"\"\"\n",
    "    from cjm_fasthtml_tailwind.utilities.sizing import w\n",
    "    from cjm_fasthtml_tailwind.utilities.layout import display_tw\n",
    "    from cjm_fasthtml_tailwind.utilities.flexbox_and_grid import flex_direction, flex_display\n",
    "    \n",
    "    # Divider in different positions (vertical)\n",
    "    vertical_positions = Div(\n",
    "        Div(\"Start\", cls=combine_classes(divider, divider_placement.start)),\n",
    "        Div(\"Default\", cls=str(divider)),\n",
    "        Div(\"End\", cls=combine_classes(divider, divider_placement.end)),\n",
    "        cls=combine_classes(flex_display, w.full, flex_direction.col)\n",
    "    )\n",
    "    \n",
    "    # Verify vertical positions structure\n",
    "    assert vertical_positions.tag == \"div\"\n",
    "    assert \"flex\" in vertical_positions.attrs['class']\n",
    "    assert \"w-full\" in vertical_positions.attrs['class']\n",
    "    assert \"flex-col\" in vertical_positions.attrs['class']\n",
    "    \n",
    "    # Verify dividers\n",
    "    vertical_dividers = vertical_positions.children\n",
    "    assert len(vertical_dividers) == 3\n",
    "    \n",
    "    # Start divider\n",
    "    assert vertical_dividers[0].tag == \"div\"\n",
    "    assert \"divider\" in vertical_dividers[0].attrs['class']\n",
    "    assert \"divider-start\" in vertical_dividers[0].attrs['class']\n",
    "    assert vertical_dividers[0].children[0] == \"Start\"\n",
    "    \n",
    "    # Default divider (center)\n",
    "    assert vertical_dividers[1].tag == \"div\"\n",
    "    assert vertical_dividers[1].attrs['class'] == \"divider\"\n",
    "    assert vertical_dividers[1].children[0] == \"Default\"\n",
    "    \n",
    "    # End divider\n",
    "    assert vertical_dividers[2].tag == \"div\"\n",
    "    assert \"divider\" in vertical_dividers[2].attrs['class']\n",
    "    assert \"divider-end\" in vertical_dividers[2].attrs['class']\n",
    "    assert vertical_dividers[2].children[0] == \"End\"\n",
    "    \n",
    "    # Divider in different positions (horizontal)\n",
    "    horizontal_positions = Div(\n",
    "        Div(\n",
    "            \"Start\",\n",
    "            cls=combine_classes(divider, divider_directions.horizontal, divider_placement.start)\n",
    "        ),\n",
    "        Div(\n",
    "            \"Default\",\n",
    "            cls=combine_classes(divider, divider_directions.horizontal)\n",
    "        ),\n",
    "        Div(\n",
    "            \"End\",\n",
    "            cls=combine_classes(divider, divider_directions.horizontal, divider_placement.end)\n",
    "        ),\n",
    "        cls=combine_classes(flex_display, w.full)\n",
    "    )\n",
    "    \n",
    "    # Verify horizontal positions structure\n",
    "    assert horizontal_positions.tag == \"div\"\n",
    "    assert \"flex\" in horizontal_positions.attrs['class']\n",
    "    assert \"w-full\" in horizontal_positions.attrs['class']\n",
    "    assert \"flex-col\" not in horizontal_positions.attrs['class']  # No flex-col for horizontal\n",
    "    \n",
    "    # Verify horizontal dividers\n",
    "    horizontal_dividers = horizontal_positions.children\n",
    "    assert len(horizontal_dividers) == 3\n",
    "    \n",
    "    # Start horizontal divider\n",
    "    assert horizontal_dividers[0].tag == \"div\"\n",
    "    assert \"divider\" in horizontal_dividers[0].attrs['class']\n",
    "    assert \"divider-horizontal\" in horizontal_dividers[0].attrs['class']\n",
    "    assert \"divider-start\" in horizontal_dividers[0].attrs['class']\n",
    "    assert horizontal_dividers[0].children[0] == \"Start\"\n",
    "    \n",
    "    # Default horizontal divider (center)\n",
    "    assert horizontal_dividers[1].tag == \"div\"\n",
    "    assert \"divider\" in horizontal_dividers[1].attrs['class']\n",
    "    assert \"divider-horizontal\" in horizontal_dividers[1].attrs['class']\n",
    "    assert \"divider-start\" not in horizontal_dividers[1].attrs['class']\n",
    "    assert \"divider-end\" not in horizontal_dividers[1].attrs['class']\n",
    "    assert horizontal_dividers[1].children[0] == \"Default\"\n",
    "    \n",
    "    # End horizontal divider\n",
    "    assert horizontal_dividers[2].tag == \"div\"\n",
    "    assert \"divider\" in horizontal_dividers[2].attrs['class']\n",
    "    assert \"divider-horizontal\" in horizontal_dividers[2].attrs['class']\n",
    "    assert \"divider-end\" in horizontal_dividers[2].attrs['class']\n",
    "    assert horizontal_dividers[2].children[0] == \"End\"\n",
    "    \n",
    "    return Div(vertical_positions, horizontal_positions)\n",
    "\n",
    "# Run the tests\n",
    "test_divider_positions_fasthtml_examples()"
   ]
  },
  {
   "cell_type": "code",
   "execution_count": null,
   "id": "24c47ac1-8806-4dec-b99f-b66cca5e2326",
   "metadata": {},
   "outputs": [
    {
     "data": {
      "text/html": [
       "\n",
       "<script>\n",
       "document.body.addEventListener('htmx:configRequest', (event) => {\n",
       "    if(event.detail.path.includes('://')) return;\n",
       "    htmx.config.selfRequestsOnly=false;\n",
       "    event.detail.path = `${location.protocol}//${location.hostname}:8000${event.detail.path}`;\n",
       "});\n",
       "</script>"
      ],
      "text/plain": [
       "<IPython.core.display.HTML object>"
      ]
     },
     "metadata": {},
     "output_type": "display_data"
    },
    {
     "data": {
      "text/html": [
       "<iframe src=\"http://localhost:8000/\" style=\"width: 100%; height: auto; border: none;\" onload=\"{\n",
       "        let frame = this;\n",
       "        window.addEventListener('message', function(e) {\n",
       "            if (e.source !== frame.contentWindow) return; // Only proceed if the message is from this iframe\n",
       "            if (e.data.height) frame.style.height = (e.data.height+1) + 'px';\n",
       "        }, false);\n",
       "    }\" allow=\"accelerometer; autoplay; camera; clipboard-read; clipboard-write; display-capture; encrypted-media; fullscreen; gamepad; geolocation; gyroscope; hid; identity-credentials-get; idle-detection; magnetometer; microphone; midi; payment; picture-in-picture; publickey-credentials-get; screen-wake-lock; serial; usb; web-share; xr-spatial-tracking\"></iframe> "
      ],
      "text/plain": [
       "<IPython.core.display.HTML object>"
      ]
     },
     "metadata": {},
     "output_type": "display_data"
    }
   ],
   "source": [
    "#| eval: false\n",
    "#| output: false\n",
    "test_func = test_divider_positions_fasthtml_examples\n",
    "app, rt = create_test_app(theme=DaisyUITheme.LIGHT)\n",
    "\n",
    "@rt\n",
    "def index():\n",
    "    return create_test_page(test_func.__doc__.title().replace('.', ''), test_func())\n",
    "server = start_test_server(app)\n",
    "display(HTMX())\n",
    "server.stop()"
   ]
  },
  {
   "cell_type": "code",
   "execution_count": null,
   "id": "248adc40-6e77-4203-9830-de838e25a00a",
   "metadata": {},
   "outputs": [],
   "source": []
  },
  {
   "cell_type": "code",
   "execution_count": null,
   "id": "a2029d6d-bf22-4e16-87e1-d609762dc867",
   "metadata": {},
   "outputs": [],
   "source": []
  },
  {
   "cell_type": "code",
   "execution_count": null,
   "id": "c9dfaad9-504c-4853-886b-2d1adb1cc3a0",
   "metadata": {},
   "outputs": [],
   "source": []
  },
  {
   "cell_type": "code",
   "execution_count": null,
   "id": "454d5b84-fc57-44ab-a6f0-3123333998cb",
   "metadata": {},
   "outputs": [],
   "source": []
  },
  {
   "cell_type": "code",
   "execution_count": null,
   "id": "d471d21b-6fe5-4c63-90be-5176c4cbd08b",
   "metadata": {},
   "outputs": [],
   "source": []
  },
  {
   "cell_type": "code",
   "execution_count": null,
   "id": "73b88b7e-0be6-4a82-9c02-f3df8af20015",
   "metadata": {},
   "outputs": [],
   "source": []
  },
  {
   "cell_type": "code",
   "execution_count": null,
   "id": "7ab8257a-c30b-45b6-a784-729b67686791",
   "metadata": {},
   "outputs": [],
   "source": [
    "#| hide\n",
    "import nbdev; nbdev.nbdev_export()"
   ]
  }
 ],
 "metadata": {
  "kernelspec": {
   "display_name": "python3",
   "language": "python",
   "name": "python3"
  }
 },
 "nbformat": 4,
 "nbformat_minor": 5
}
