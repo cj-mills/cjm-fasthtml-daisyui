{
 "cells": [
  {
   "cell_type": "markdown",
   "id": "7c51b46b-ece1-456d-8e84-7de122e72b62",
   "metadata": {},
   "source": [
    "# drawer\n",
    "\n",
    "> Drawer is a grid layout that can show/hide a sidebar on the left or right side of the page."
   ]
  },
  {
   "cell_type": "code",
   "execution_count": null,
   "id": "25536bdc-e099-477f-9e2d-a5f71df5dff2",
   "metadata": {},
   "outputs": [],
   "source": [
    "#| default_exp components.layout.drawer"
   ]
  },
  {
   "cell_type": "code",
   "execution_count": null,
   "id": "2e6f21ce-7766-455a-8ebb-df2c17e7d977",
   "metadata": {},
   "outputs": [],
   "source": [
    "#| hide\n",
    "from nbdev.showdoc import *"
   ]
  },
  {
   "cell_type": "code",
   "execution_count": null,
   "id": "045c6538-403e-4222-b3bb-db20f188524d",
   "metadata": {},
   "outputs": [],
   "source": [
    "#| export\n",
    "\n",
    "from enum import Enum\n",
    "from cjm_fasthtml_tailwind.core.base import (\n",
    "    SingleValueFactory, combine_classes\n",
    ")\n",
    "from cjm_fasthtml_tailwind.builders.scales import SimpleFactory, enums_to_simple_factory\n",
    "\n",
    "from fasthtml.common import Div\n",
    "from fasthtml.jupyter import JupyUvi, HTMX\n",
    "from cjm_fasthtml_daisyui.core.testing import create_test_app, create_test_page, start_test_server\n",
    "from cjm_fasthtml_daisyui.core.themes import DaisyUITheme\n",
    "from IPython.display import display"
   ]
  },
  {
   "cell_type": "markdown",
   "id": "d1f7bcd3-7036-4ee5-9f65-74db11ab11f7",
   "metadata": {},
   "source": [
    "### Base Drawer"
   ]
  },
  {
   "cell_type": "code",
   "execution_count": null,
   "id": "c802d106-49fb-4d34-ba04-5f54c88e165b",
   "metadata": {},
   "outputs": [],
   "source": [
    "#| export\n",
    "drawer = SingleValueFactory(\"drawer\", \"The wrapper for sidebar and content\") # Base drawer component\n",
    "drawer_toggle = SingleValueFactory(\"drawer-toggle\", \"The hidden checkbox that controls the state of drawer\") # Drawer toggle part\n",
    "drawer_content = SingleValueFactory(\"drawer-content\", \"Content part\") # Drawer content part\n",
    "drawer_side = SingleValueFactory(\"drawer-side\", \"Sidebar part\") # Drawer sidbar part\n",
    "drawer_overlay = SingleValueFactory(\"drawer-overlay\", \"Label that covers the page when drawer is open\") # Drawer overlay part"
   ]
  },
  {
   "cell_type": "markdown",
   "id": "16afa085-7f04-4f4f-9031-6b5bcb118a4f",
   "metadata": {},
   "source": [
    "### Drawer Placement"
   ]
  },
  {
   "cell_type": "code",
   "execution_count": null,
   "id": "636c6bcd-2176-4191-aa39-c937893243e2",
   "metadata": {},
   "outputs": [],
   "source": [
    "#| export\n",
    "class DrawerPlacement(str, Enum):\n",
    "    END = \"end\"\n",
    "\n",
    "drawer_placement = enums_to_simple_factory(drawer, [DrawerPlacement], \"drawer placement (end)\") # drawer placement"
   ]
  },
  {
   "cell_type": "markdown",
   "id": "77f0a403-68bb-4717-b941-717aedd2c209",
   "metadata": {},
   "source": [
    "### Drawer Modifiers"
   ]
  },
  {
   "cell_type": "code",
   "execution_count": null,
   "id": "463094a8-679c-4eb3-b6e4-abaa157df086",
   "metadata": {},
   "outputs": [],
   "source": [
    "#| export\n",
    "class DrawerModifier(str, Enum):\n",
    "    OPEN = \"open\"\n",
    "\n",
    "drawer_modifiers = enums_to_simple_factory(drawer, [DrawerModifier], \"drawer modifiers (open)\") # drawer modifiers"
   ]
  },
  {
   "cell_type": "markdown",
   "id": "f20ab5fc-2529-43b4-8fb0-0016e1c4e803",
   "metadata": {},
   "source": [
    "### Drawer Test Examples"
   ]
  },
  {
   "cell_type": "code",
   "execution_count": null,
   "id": "3035ff66-e4e7-410c-8b1e-86a879f66112",
   "metadata": {},
   "outputs": [],
   "source": [
    "#| export\n",
    "def test_drawer_basic_examples():\n",
    "    \"\"\"Test basic drawer utilities.\"\"\"\n",
    "    # Basic drawer\n",
    "    assert str(drawer) == \"drawer\"\n",
    "    assert str(drawer_toggle) == \"drawer-toggle\"\n",
    "    assert str(drawer_content) == \"drawer-content\"\n",
    "    assert str(drawer_side) == \"drawer-side\"\n",
    "    assert str(drawer_overlay) == \"drawer-overlay\"\n",
    "    \n",
    "    # Test with modifiers\n",
    "    assert str(drawer.hover) == \"hover:drawer\"\n",
    "    assert str(drawer.md) == \"md:drawer\"\n",
    "    assert str(drawer.dark) == \"dark:drawer\"\n",
    "\n",
    "# Run the tests\n",
    "test_drawer_basic_examples()"
   ]
  },
  {
   "cell_type": "code",
   "execution_count": null,
   "id": "4666a5a3-26bb-4d91-b5be-f941df8f9d2f",
   "metadata": {},
   "outputs": [],
   "source": [
    "#| export\n",
    "def test_drawer_placement_examples():\n",
    "    \"\"\"Test drawer placement variants.\"\"\"\n",
    "    assert str(drawer_placement.end) == \"drawer-end\"\n",
    "\n",
    "# Run the tests\n",
    "test_drawer_placement_examples()"
   ]
  },
  {
   "cell_type": "code",
   "execution_count": null,
   "id": "da592957-ec20-4399-a21e-c45fc5aa6e15",
   "metadata": {},
   "outputs": [],
   "source": [
    "#| export\n",
    "def test_drawer_modifier_examples():\n",
    "    \"\"\"Test drawer modifier variants.\"\"\"\n",
    "    assert str(drawer_modifiers.open) == \"drawer-open\"\n",
    "\n",
    "# Run the tests\n",
    "test_drawer_modifier_examples()"
   ]
  },
  {
   "cell_type": "code",
   "execution_count": null,
   "id": "85d72161-e718-4c66-bc59-a3569b7f7616",
   "metadata": {},
   "outputs": [],
   "source": []
  },
  {
   "cell_type": "code",
   "execution_count": null,
   "id": "214654cc-9758-48f9-92e2-0892029c4512",
   "metadata": {},
   "outputs": [],
   "source": []
  },
  {
   "cell_type": "code",
   "execution_count": null,
   "id": "a9d78aa3-0be8-49e6-8bfb-cb9a232ee1ee",
   "metadata": {},
   "outputs": [],
   "source": []
  },
  {
   "cell_type": "code",
   "execution_count": null,
   "id": "01785a18-9bb0-4dbc-9eae-04addf6dede9",
   "metadata": {},
   "outputs": [],
   "source": []
  },
  {
   "cell_type": "code",
   "execution_count": null,
   "id": "43a3d5aa-4f07-48f4-b7c3-5c63612f0fb2",
   "metadata": {},
   "outputs": [],
   "source": []
  },
  {
   "cell_type": "code",
   "execution_count": null,
   "id": "248adc40-6e77-4203-9830-de838e25a00a",
   "metadata": {},
   "outputs": [],
   "source": []
  },
  {
   "cell_type": "code",
   "execution_count": null,
   "id": "a2029d6d-bf22-4e16-87e1-d609762dc867",
   "metadata": {},
   "outputs": [],
   "source": []
  },
  {
   "cell_type": "code",
   "execution_count": null,
   "id": "c9dfaad9-504c-4853-886b-2d1adb1cc3a0",
   "metadata": {},
   "outputs": [],
   "source": []
  },
  {
   "cell_type": "code",
   "execution_count": null,
   "id": "454d5b84-fc57-44ab-a6f0-3123333998cb",
   "metadata": {},
   "outputs": [],
   "source": []
  },
  {
   "cell_type": "code",
   "execution_count": null,
   "id": "d471d21b-6fe5-4c63-90be-5176c4cbd08b",
   "metadata": {},
   "outputs": [],
   "source": []
  },
  {
   "cell_type": "code",
   "execution_count": null,
   "id": "73b88b7e-0be6-4a82-9c02-f3df8af20015",
   "metadata": {},
   "outputs": [],
   "source": []
  },
  {
   "cell_type": "code",
   "execution_count": null,
   "id": "7ab8257a-c30b-45b6-a784-729b67686791",
   "metadata": {},
   "outputs": [],
   "source": [
    "#| hide\n",
    "import nbdev; nbdev.nbdev_export()"
   ]
  }
 ],
 "metadata": {
  "kernelspec": {
   "display_name": "python3",
   "language": "python",
   "name": "python3"
  }
 },
 "nbformat": 4,
 "nbformat_minor": 5
}
