{
 "cells": [
  {
   "cell_type": "markdown",
   "id": "7c51b46b-ece1-456d-8e84-7de122e72b62",
   "metadata": {},
   "source": [
    "# drawer\n",
    "\n",
    "> Drawer is a grid layout that can show/hide a sidebar on the left or right side of the page."
   ]
  },
  {
   "cell_type": "code",
   "execution_count": null,
   "id": "25536bdc-e099-477f-9e2d-a5f71df5dff2",
   "metadata": {},
   "outputs": [],
   "source": [
    "#| default_exp components.layout.drawer"
   ]
  },
  {
   "cell_type": "code",
   "execution_count": null,
   "id": "2e6f21ce-7766-455a-8ebb-df2c17e7d977",
   "metadata": {},
   "outputs": [],
   "source": [
    "#| hide\n",
    "from nbdev.showdoc import *"
   ]
  },
  {
   "cell_type": "code",
   "execution_count": null,
   "id": "045c6538-403e-4222-b3bb-db20f188524d",
   "metadata": {},
   "outputs": [],
   "source": [
    "#| export\n",
    "\n",
    "from enum import Enum\n",
    "from cjm_fasthtml_tailwind.core.base import (\n",
    "    SingleValueFactory, combine_classes\n",
    ")\n",
    "from cjm_fasthtml_tailwind.builders.scales import SimpleFactory, enums_to_simple_factory\n",
    "\n",
    "from fasthtml.common import Div\n",
    "from fasthtml.jupyter import JupyUvi, HTMX\n",
    "from cjm_fasthtml_daisyui.core.testing import create_test_app, create_test_page, start_test_server\n",
    "from cjm_fasthtml_daisyui.core.themes import DaisyUITheme\n",
    "from IPython.display import display"
   ]
  },
  {
   "cell_type": "markdown",
   "id": "d1f7bcd3-7036-4ee5-9f65-74db11ab11f7",
   "metadata": {},
   "source": [
    "### Base Drawer"
   ]
  },
  {
   "cell_type": "code",
   "execution_count": null,
   "id": "c802d106-49fb-4d34-ba04-5f54c88e165b",
   "metadata": {},
   "outputs": [],
   "source": [
    "#| exports\n",
    "drawer = SingleValueFactory(\"drawer\", \"The wrapper for sidebar and content\") # Base drawer component\n",
    "drawer_toggle = SingleValueFactory(\"drawer-toggle\", \"The hidden checkbox that controls the state of drawer\") # Drawer toggle part\n",
    "drawer_content = SingleValueFactory(\"drawer-content\", \"Content part\") # Drawer content part\n",
    "drawer_side = SingleValueFactory(\"drawer-side\", \"Sidebar part\") # Drawer sidbar part\n",
    "drawer_overlay = SingleValueFactory(\"drawer-overlay\", \"Label that covers the page when drawer is open\") # Drawer overlay part"
   ]
  },
  {
   "cell_type": "markdown",
   "id": "16afa085-7f04-4f4f-9031-6b5bcb118a4f",
   "metadata": {},
   "source": [
    "### Drawer Placement"
   ]
  },
  {
   "cell_type": "code",
   "execution_count": null,
   "id": "636c6bcd-2176-4191-aa39-c937893243e2",
   "metadata": {},
   "outputs": [],
   "source": [
    "#| exports\n",
    "class DrawerPlacement(str, Enum):\n",
    "    END = \"end\"\n",
    "\n",
    "drawer_placement = enums_to_simple_factory(drawer, [DrawerPlacement], \"drawer placement (end)\") # drawer placement"
   ]
  },
  {
   "cell_type": "markdown",
   "id": "77f0a403-68bb-4717-b941-717aedd2c209",
   "metadata": {},
   "source": [
    "### Drawer Modifiers"
   ]
  },
  {
   "cell_type": "code",
   "execution_count": null,
   "id": "463094a8-679c-4eb3-b6e4-abaa157df086",
   "metadata": {},
   "outputs": [],
   "source": [
    "#| exports\n",
    "class DrawerModifier(str, Enum):\n",
    "    OPEN = \"open\"\n",
    "\n",
    "drawer_modifiers = enums_to_simple_factory(drawer, [DrawerModifier], \"drawer modifiers (open)\") # drawer modifiers"
   ]
  },
  {
   "cell_type": "markdown",
   "id": "f20ab5fc-2529-43b4-8fb0-0016e1c4e803",
   "metadata": {},
   "source": [
    "### Drawer Test Examples"
   ]
  },
  {
   "cell_type": "code",
   "execution_count": null,
   "id": "3035ff66-e4e7-410c-8b1e-86a879f66112",
   "metadata": {},
   "outputs": [],
   "source": [
    "#|exports\n",
    "def test_drawer_basic_examples():\n",
    "    \"\"\"Test basic drawer utilities.\"\"\"\n",
    "    # Basic drawer\n",
    "    assert str(drawer) == \"drawer\"\n",
    "    assert str(drawer_toggle) == \"drawer-toggle\"\n",
    "    assert str(drawer_content) == \"drawer-content\"\n",
    "    assert str(drawer_side) == \"drawer-side\"\n",
    "    assert str(drawer_overlay) == \"drawer-overlay\"\n",
    "    \n",
    "    # Test with modifiers\n",
    "    assert str(drawer.hover) == \"hover:drawer\"\n",
    "    assert str(drawer.md) == \"md:drawer\"\n",
    "    assert str(drawer.dark) == \"dark:drawer\"\n",
    "\n",
    "# Run the tests\n",
    "test_drawer_basic_examples()"
   ]
  },
  {
   "cell_type": "code",
   "execution_count": null,
   "id": "4666a5a3-26bb-4d91-b5be-f941df8f9d2f",
   "metadata": {},
   "outputs": [],
   "source": [
    "#|exports\n",
    "def test_drawer_placement_examples():\n",
    "    \"\"\"Test drawer placement variants.\"\"\"\n",
    "    assert str(drawer_placement.end) == \"drawer-end\"\n",
    "\n",
    "# Run the tests\n",
    "test_drawer_placement_examples()"
   ]
  },
  {
   "cell_type": "code",
   "execution_count": null,
   "id": "da592957-ec20-4399-a21e-c45fc5aa6e15",
   "metadata": {},
   "outputs": [],
   "source": [
    "#|exports\n",
    "def test_drawer_modifier_examples():\n",
    "    \"\"\"Test drawer modifier variants.\"\"\"\n",
    "    assert str(drawer_modifiers.open) == \"drawer-open\"\n",
    "\n",
    "# Run the tests\n",
    "test_drawer_modifier_examples()"
   ]
  },
  {
   "cell_type": "code",
   "execution_count": null,
   "id": "313b1363-ac3c-4110-8d14-2fb7bdcf5159",
   "metadata": {},
   "outputs": [
    {
     "data": {
      "text/markdown": [
       "```html\n",
       "<div class=\"drawer\">\n",
       "  <input type=\"checkbox\" id=\"my-drawer\" class=\"drawer-toggle\" name=\"my-drawer\">\n",
       "  <div class=\"drawer-content\">\n",
       "<label for=\"my-drawer\" class=\"btn btn-primary\">Open drawer</label>  </div>\n",
       "  <div class=\"drawer-side\">\n",
       "<label for=\"my-drawer\" aria-label=\"close sidebar\" class=\"drawer-overlay\"></label>    <ul class=\"menu bg-base-200 text-base-content min-h-full w-80 p-4\">\n",
       "      <li>\n",
       "<a href=\"#\">Sidebar Item 1</a>      </li>\n",
       "      <li>\n",
       "<a href=\"#\">Sidebar Item 2</a>      </li>\n",
       "    </ul>\n",
       "  </div>\n",
       "</div>\n",
       "\n",
       "```"
      ],
      "text/plain": [
       "div((input((),{'type': 'checkbox', 'id': 'my-drawer', 'class': 'drawer-toggle', 'name': 'my-drawer'}), div((label(('Open drawer',),{'for': 'my-drawer', 'class': 'btn btn-primary'}),),{'class': 'drawer-content'}), div((label((),{'for': 'my-drawer', 'aria-label': 'close sidebar', 'class': 'drawer-overlay'}), ul((li((a(('Sidebar Item 1',),{'href': '#'}),),{}), li((a(('Sidebar Item 2',),{'href': '#'}),),{})),{'class': 'menu bg-base-200 text-base-content min-h-full w-80 p-4'})),{'class': 'drawer-side'})),{'class': 'drawer'})"
      ]
     },
     "execution_count": null,
     "metadata": {},
     "output_type": "execute_result"
    }
   ],
   "source": [
    "#|exports\n",
    "def test_drawer_basic_fasthtml_examples():\n",
    "    \"\"\"Test basic drawer example from daisyUI v5 documentation.\"\"\"\n",
    "    from fasthtml.common import Div, Input, Label, Ul, Li, A\n",
    "    from cjm_fasthtml_daisyui.components.actions.button import btn, btn_colors\n",
    "    from cjm_fasthtml_daisyui.components.navigation.menu import menu\n",
    "    from cjm_fasthtml_daisyui.utilities.semantic_colors import bg_dui, text_dui\n",
    "    from cjm_fasthtml_tailwind.utilities.sizing import w, min_h\n",
    "    from cjm_fasthtml_tailwind.utilities.spacing import p\n",
    "    \n",
    "    # Basic drawer\n",
    "    basic_drawer = Div(\n",
    "        Input(id=\"my-drawer\", type=\"checkbox\", cls=str(drawer_toggle)),\n",
    "        Div(\n",
    "            # Page content here\n",
    "            Label(\"Open drawer\", _for=\"my-drawer\", cls=combine_classes(btn, btn_colors.primary)),\n",
    "            cls=str(drawer_content)\n",
    "        ),\n",
    "        Div(\n",
    "            Label(_for=\"my-drawer\", aria_label=\"close sidebar\", cls=str(drawer_overlay)),\n",
    "            Ul(\n",
    "                # Sidebar content here\n",
    "                Li(A(\"Sidebar Item 1\", href=\"#\")),\n",
    "                Li(A(\"Sidebar Item 2\", href=\"#\")),\n",
    "                cls=combine_classes(menu, bg_dui.base_200, text_dui.base_content, min_h.full, w._80, p._4)\n",
    "            ),\n",
    "            cls=str(drawer_side)\n",
    "        ),\n",
    "        cls=str(drawer)\n",
    "    )\n",
    "    \n",
    "    # Verify structure\n",
    "    assert basic_drawer.tag == \"div\"\n",
    "    assert basic_drawer.attrs['class'] == \"drawer\"\n",
    "    \n",
    "    # Verify input checkbox\n",
    "    input_element = basic_drawer.children[0]\n",
    "    assert input_element.tag == \"input\"\n",
    "    assert input_element.attrs['id'] == \"my-drawer\"\n",
    "    assert input_element.attrs['type'] == \"checkbox\"\n",
    "    assert input_element.attrs['class'] == \"drawer-toggle\"\n",
    "    \n",
    "    # Verify drawer content\n",
    "    content_div = basic_drawer.children[1]\n",
    "    assert content_div.tag == \"div\"\n",
    "    assert content_div.attrs['class'] == \"drawer-content\"\n",
    "    \n",
    "    # Verify button label\n",
    "    button_label = content_div.children[0]\n",
    "    assert button_label.tag == \"label\"\n",
    "    assert button_label.attrs['for'] == \"my-drawer\"  # FastHTML converts for_ to for-\n",
    "    assert \"btn\" in button_label.attrs['class']\n",
    "    assert \"btn-primary\" in button_label.attrs['class']\n",
    "    assert button_label.children[0] == \"Open drawer\"\n",
    "    \n",
    "    # Verify drawer side\n",
    "    side_div = basic_drawer.children[2]\n",
    "    assert side_div.tag == \"div\"\n",
    "    assert side_div.attrs['class'] == \"drawer-side\"\n",
    "    \n",
    "    # Verify overlay label\n",
    "    overlay_label = side_div.children[0]\n",
    "    assert overlay_label.tag == \"label\"\n",
    "    assert overlay_label.attrs['for'] == \"my-drawer\"\n",
    "    assert overlay_label.attrs['aria-label'] == \"close sidebar\"\n",
    "    assert overlay_label.attrs['class'] == \"drawer-overlay\"\n",
    "    \n",
    "    # Verify menu\n",
    "    menu_ul = side_div.children[1]\n",
    "    assert menu_ul.tag == \"ul\"\n",
    "    assert \"menu\" in menu_ul.attrs['class']\n",
    "    assert \"bg-base-200\" in menu_ul.attrs['class']\n",
    "    assert \"text-base-content\" in menu_ul.attrs['class']\n",
    "    assert \"min-h-full\" in menu_ul.attrs['class']\n",
    "    assert \"w-80\" in menu_ul.attrs['class']\n",
    "    assert \"p-4\" in menu_ul.attrs['class']\n",
    "    \n",
    "    # Verify menu items\n",
    "    assert len(menu_ul.children) == 2\n",
    "    assert menu_ul.children[0].tag == \"li\"\n",
    "    assert menu_ul.children[0].children[0].tag == \"a\"\n",
    "    assert menu_ul.children[0].children[0].children[0] == \"Sidebar Item 1\"\n",
    "    assert menu_ul.children[1].tag == \"li\"\n",
    "    assert menu_ul.children[1].children[0].children[0] == \"Sidebar Item 2\"\n",
    "    \n",
    "    return basic_drawer\n",
    "\n",
    "# Run the tests\n",
    "test_drawer_basic_fasthtml_examples()"
   ]
  },
  {
   "cell_type": "code",
   "execution_count": null,
   "id": "216b5f0b-f79e-4779-90d1-1bba8fd3290a",
   "metadata": {},
   "outputs": [
    {
     "data": {
      "text/html": [
       "\n",
       "<script>\n",
       "document.body.addEventListener('htmx:configRequest', (event) => {\n",
       "    if(event.detail.path.includes('://')) return;\n",
       "    htmx.config.selfRequestsOnly=false;\n",
       "    event.detail.path = `${location.protocol}//${location.hostname}:8000${event.detail.path}`;\n",
       "});\n",
       "</script>"
      ],
      "text/plain": [
       "<IPython.core.display.HTML object>"
      ]
     },
     "metadata": {},
     "output_type": "display_data"
    },
    {
     "data": {
      "text/html": [
       "<iframe src=\"http://localhost:8000/\" style=\"width: 100%; height: auto; border: none;\" onload=\"{\n",
       "        let frame = this;\n",
       "        window.addEventListener('message', function(e) {\n",
       "            if (e.source !== frame.contentWindow) return; // Only proceed if the message is from this iframe\n",
       "            if (e.data.height) frame.style.height = (e.data.height+1) + 'px';\n",
       "        }, false);\n",
       "    }\" allow=\"accelerometer; autoplay; camera; clipboard-read; clipboard-write; display-capture; encrypted-media; fullscreen; gamepad; geolocation; gyroscope; hid; identity-credentials-get; idle-detection; magnetometer; microphone; midi; payment; picture-in-picture; publickey-credentials-get; screen-wake-lock; serial; usb; web-share; xr-spatial-tracking\"></iframe> "
      ],
      "text/plain": [
       "<IPython.core.display.HTML object>"
      ]
     },
     "metadata": {},
     "output_type": "display_data"
    }
   ],
   "source": [
    "#| eval: false\n",
    "#| output: false\n",
    "test_func = test_drawer_basic_fasthtml_examples\n",
    "app, rt = create_test_app(theme=DaisyUITheme.LIGHT)\n",
    "\n",
    "@rt\n",
    "def index():\n",
    "    return create_test_page(test_func.__doc__.title().replace('.', ''), test_func())\n",
    "server = start_test_server(app)\n",
    "display(HTMX())\n",
    "server.stop()"
   ]
  },
  {
   "cell_type": "code",
   "execution_count": null,
   "id": "4450e067-9655-40ea-9186-1deeb6ee550f",
   "metadata": {},
   "outputs": [
    {
     "data": {
      "text/markdown": [
       "```html\n",
       "<div class=\"drawer\">\n",
       "  <input type=\"checkbox\" id=\"my-drawer-3\" class=\"drawer-toggle\" name=\"my-drawer-3\">\n",
       "  <div class=\"drawer-content flex flex-col\">\n",
       "    <div class=\"navbar bg-base-300 w-full\">\n",
       "      <div class=\"flex-none lg:hidden\">\n",
       "<label for=\"my-drawer-3\" aria-label=\"open sidebar\" class=\"btn btn-square btn-ghost\"><svg xmlns=\"http://www.w3.org/2000/svg\" viewbox=\"0 0 24 24\" fill=\"none\" class=\"inline-block h-6 w-6 stroke-current\"><path d=\"M4 6h16M4 12h16M4 18h16\" stroke-width=\"2\" stroke-linecap=\"round\" stroke-linejoin=\"round\"></path></svg></label>      </div>\n",
       "      <div class=\"mx-2 flex-1 px-2\">Navbar Title</div>\n",
       "      <div class=\"hidden flex-none lg:block\">\n",
       "        <ul class=\"menu menu-horizontal\">\n",
       "          <li>\n",
       "<a href=\"#\">Navbar Item 1</a>          </li>\n",
       "          <li>\n",
       "<a href=\"#\">Navbar Item 2</a>          </li>\n",
       "        </ul>\n",
       "      </div>\n",
       "    </div>\n",
       "Content  </div>\n",
       "  <div class=\"drawer-side\">\n",
       "<label for=\"my-drawer-3\" aria-label=\"close sidebar\" class=\"drawer-overlay\"></label>    <ul class=\"menu bg-base-200 min-h-full w-80 p-4\">\n",
       "      <li>\n",
       "<a href=\"#\">Sidebar Item 1</a>      </li>\n",
       "      <li>\n",
       "<a href=\"#\">Sidebar Item 2</a>      </li>\n",
       "    </ul>\n",
       "  </div>\n",
       "</div>\n",
       "\n",
       "```"
      ],
      "text/plain": [
       "div((input((),{'type': 'checkbox', 'id': 'my-drawer-3', 'class': 'drawer-toggle', 'name': 'my-drawer-3'}), div((div((div((label((svg((path((),{'d': 'M4 6h16M4 12h16M4 18h16', 'stroke-width': '2', 'stroke-linecap': 'round', 'stroke-linejoin': 'round'}),),{'xmlns': 'http://www.w3.org/2000/svg', 'viewbox': '0 0 24 24', 'fill': 'none', 'class': 'inline-block h-6 w-6 stroke-current'}),),{'for': 'my-drawer-3', 'aria-label': 'open sidebar', 'class': 'btn btn-square btn-ghost'}),),{'class': 'flex-none lg:hidden'}), div(('Navbar Title',),{'class': 'mx-2 flex-1 px-2'}), div((ul((li((a(('Navbar Item 1',),{'href': '#'}),),{}), li((a(('Navbar Item 2',),{'href': '#'}),),{})),{'class': 'menu menu-horizontal'}),),{'class': 'hidden flex-none lg:block'})),{'class': 'navbar bg-base-300 w-full'}), 'Content'),{'class': 'drawer-content flex flex-col'}), div((label((),{'for': 'my-drawer-3', 'aria-label': 'close sidebar', 'class': 'drawer-overlay'}), ul((li((a(('Sidebar Item 1',),{'href': '#'}),),{}), li((a(('Sidebar Item 2',),{'href': '#'}),),{})),{'class': 'menu bg-base-200 min-h-full w-80 p-4'})),{'class': 'drawer-side'})),{'class': 'drawer'})"
      ]
     },
     "execution_count": null,
     "metadata": {},
     "output_type": "execute_result"
    }
   ],
   "source": [
    "#|exports\n",
    "def test_drawer_navbar_mobile_fasthtml_examples():\n",
    "    \"\"\"Test navbar menu for desktop + sidebar drawer for mobile from daisyUI v5 documentation.\"\"\"\n",
    "    from fasthtml.common import Div, Input, Label, Ul, Li, A\n",
    "    from fasthtml.svg import Svg, Path\n",
    "    from cjm_fasthtml_daisyui.components.actions.button import btn, btn_modifiers, btn_styles\n",
    "    from cjm_fasthtml_daisyui.components.navigation.menu import menu, menu_directions\n",
    "    from cjm_fasthtml_daisyui.components.navigation.navbar import navbar\n",
    "    from cjm_fasthtml_daisyui.utilities.semantic_colors import bg_dui, text_dui\n",
    "    from cjm_fasthtml_tailwind.utilities.sizing import w, h, min_h\n",
    "    from cjm_fasthtml_tailwind.utilities.spacing import p, m\n",
    "    from cjm_fasthtml_tailwind.utilities.flexbox_and_grid import flex, flex_direction, flex_display\n",
    "    from cjm_fasthtml_tailwind.utilities.layout import display_tw\n",
    "    from cjm_fasthtml_tailwind.utilities.svg import stroke\n",
    "    \n",
    "    # Hamburger menu icon\n",
    "    hamburger_icon = Svg(\n",
    "        Path(\n",
    "            stroke_linecap=\"round\",\n",
    "            stroke_linejoin=\"round\",\n",
    "            stroke_width=\"2\",\n",
    "            d=\"M4 6h16M4 12h16M4 18h16\"\n",
    "        ),\n",
    "        xmlns=\"http://www.w3.org/2000/svg\",\n",
    "        fill=\"none\",\n",
    "        viewBox=\"0 0 24 24\",\n",
    "        cls=combine_classes(display_tw.inline_block, h._6, w._6, stroke.current)\n",
    "    )\n",
    "    \n",
    "    # Navbar with drawer for mobile\n",
    "    navbar_drawer = Div(\n",
    "        Input(id=\"my-drawer-3\", type=\"checkbox\", cls=str(drawer_toggle)),\n",
    "        Div(\n",
    "            # Navbar\n",
    "            Div(\n",
    "                Div(\n",
    "                    Label(\n",
    "                        hamburger_icon,\n",
    "                        _for=\"my-drawer-3\", \n",
    "                        aria_label=\"open sidebar\", \n",
    "                        cls=combine_classes(btn, btn_modifiers.square, btn_styles.ghost)\n",
    "                    ),\n",
    "                    cls=combine_classes(flex.none, display_tw.hidden.lg)\n",
    "                ),\n",
    "                Div(\"Navbar Title\", cls=combine_classes(m.x._2, flex(1), p.x._2)),\n",
    "                Div(\n",
    "                    Ul(\n",
    "                        # Navbar menu content here\n",
    "                        Li(A(\"Navbar Item 1\", href=\"#\")),\n",
    "                        Li(A(\"Navbar Item 2\", href=\"#\")),\n",
    "                        cls=combine_classes(menu, menu_directions.horizontal)\n",
    "                    ),\n",
    "                    cls=combine_classes(display_tw.hidden, flex.none, display_tw.block.lg)\n",
    "                ),\n",
    "                cls=combine_classes(navbar, bg_dui.base_300, w.full)\n",
    "            ),\n",
    "            # Page content here\n",
    "            \"Content\",\n",
    "            cls=combine_classes(drawer_content, flex_display, flex.col)\n",
    "        ),\n",
    "        Div(\n",
    "            Label(_for=\"my-drawer-3\", aria_label=\"close sidebar\", cls=str(drawer_overlay)),\n",
    "            Ul(\n",
    "                # Sidebar content here\n",
    "                Li(A(\"Sidebar Item 1\", href=\"#\")),\n",
    "                Li(A(\"Sidebar Item 2\", href=\"#\")),\n",
    "                cls=combine_classes(menu, bg_dui.base_200, min_h.full, w._80, p._4)\n",
    "            ),\n",
    "            cls=str(drawer_side)\n",
    "        ),\n",
    "        cls=str(drawer)\n",
    "    )\n",
    "    \n",
    "    # Verify structure\n",
    "    assert navbar_drawer.tag == \"div\"\n",
    "    assert navbar_drawer.attrs['class'] == \"drawer\"\n",
    "    \n",
    "    # Verify input checkbox\n",
    "    input_element = navbar_drawer.children[0]\n",
    "    assert input_element.tag == \"input\"\n",
    "    assert input_element.attrs['id'] == \"my-drawer-3\"\n",
    "    assert input_element.attrs['type'] == \"checkbox\"\n",
    "    assert input_element.attrs['class'] == \"drawer-toggle\"\n",
    "    \n",
    "    # Verify drawer content\n",
    "    content_div = navbar_drawer.children[1]\n",
    "    assert content_div.tag == \"div\"\n",
    "    assert \"drawer-content\" in content_div.attrs['class']\n",
    "    assert \"flex\" in content_div.attrs['class']\n",
    "    assert \"flex-col\" in content_div.attrs['class']\n",
    "    \n",
    "    # Verify navbar\n",
    "    navbar_div = content_div.children[0]\n",
    "    assert navbar_div.tag == \"div\"\n",
    "    assert \"navbar\" in navbar_div.attrs['class']\n",
    "    assert \"bg-base-300\" in navbar_div.attrs['class']\n",
    "    assert \"w-full\" in navbar_div.attrs['class']\n",
    "    \n",
    "    # Verify mobile menu button\n",
    "    mobile_button_div = navbar_div.children[0]\n",
    "    assert \"flex-none\" in mobile_button_div.attrs['class']\n",
    "    assert \"lg:hidden\" in mobile_button_div.attrs['class']\n",
    "    mobile_label = mobile_button_div.children[0]\n",
    "    assert mobile_label.tag == \"label\"\n",
    "    assert mobile_label.attrs['for'] == \"my-drawer-3\"\n",
    "    assert mobile_label.attrs['aria-label'] == \"open sidebar\"\n",
    "    assert \"btn\" in mobile_label.attrs['class']\n",
    "    assert \"btn-square\" in mobile_label.attrs['class']\n",
    "    assert \"btn-ghost\" in mobile_label.attrs['class']\n",
    "    assert mobile_label.children[0].tag == \"svg\"\n",
    "    \n",
    "    # Verify navbar title\n",
    "    title_div = navbar_div.children[1]\n",
    "    assert \"mx-2\" in title_div.attrs['class']\n",
    "    assert \"flex-1\" in title_div.attrs['class']\n",
    "    assert \"px-2\" in title_div.attrs['class']\n",
    "    assert title_div.children[0] == \"Navbar Title\"\n",
    "    \n",
    "    # Verify desktop menu\n",
    "    desktop_menu_div = navbar_div.children[2]\n",
    "    assert \"hidden\" in desktop_menu_div.attrs['class']\n",
    "    assert \"flex-none\" in desktop_menu_div.attrs['class']\n",
    "    assert \"lg:block\" in desktop_menu_div.attrs['class']\n",
    "    desktop_menu = desktop_menu_div.children[0]\n",
    "    assert desktop_menu.tag == \"ul\"\n",
    "    assert \"menu\" in desktop_menu.attrs['class']\n",
    "    assert \"menu-horizontal\" in desktop_menu.attrs['class']\n",
    "    \n",
    "    # Verify page content\n",
    "    assert content_div.children[1] == \"Content\"\n",
    "    \n",
    "    # Verify drawer side\n",
    "    side_div = navbar_drawer.children[2]\n",
    "    assert side_div.tag == \"div\"\n",
    "    assert side_div.attrs['class'] == \"drawer-side\"\n",
    "    \n",
    "    return navbar_drawer\n",
    "\n",
    "# Run the tests\n",
    "test_drawer_navbar_mobile_fasthtml_examples()"
   ]
  },
  {
   "cell_type": "code",
   "execution_count": null,
   "id": "48b90e51-91af-4de7-bab4-5ce19d35fb0d",
   "metadata": {},
   "outputs": [
    {
     "data": {
      "text/html": [
       "\n",
       "<script>\n",
       "document.body.addEventListener('htmx:configRequest', (event) => {\n",
       "    if(event.detail.path.includes('://')) return;\n",
       "    htmx.config.selfRequestsOnly=false;\n",
       "    event.detail.path = `${location.protocol}//${location.hostname}:8000${event.detail.path}`;\n",
       "});\n",
       "</script>"
      ],
      "text/plain": [
       "<IPython.core.display.HTML object>"
      ]
     },
     "metadata": {},
     "output_type": "display_data"
    },
    {
     "data": {
      "text/html": [
       "<iframe src=\"http://localhost:8000/\" style=\"width: 100%; height: auto; border: none;\" onload=\"{\n",
       "        let frame = this;\n",
       "        window.addEventListener('message', function(e) {\n",
       "            if (e.source !== frame.contentWindow) return; // Only proceed if the message is from this iframe\n",
       "            if (e.data.height) frame.style.height = (e.data.height+1) + 'px';\n",
       "        }, false);\n",
       "    }\" allow=\"accelerometer; autoplay; camera; clipboard-read; clipboard-write; display-capture; encrypted-media; fullscreen; gamepad; geolocation; gyroscope; hid; identity-credentials-get; idle-detection; magnetometer; microphone; midi; payment; picture-in-picture; publickey-credentials-get; screen-wake-lock; serial; usb; web-share; xr-spatial-tracking\"></iframe> "
      ],
      "text/plain": [
       "<IPython.core.display.HTML object>"
      ]
     },
     "metadata": {},
     "output_type": "display_data"
    }
   ],
   "source": [
    "#| eval: false\n",
    "#| output: false\n",
    "test_func = test_drawer_navbar_mobile_fasthtml_examples\n",
    "app, rt = create_test_app(theme=DaisyUITheme.LIGHT)\n",
    "\n",
    "@rt\n",
    "def index():\n",
    "    return create_test_page(test_func.__doc__.title().replace('.', ''), test_func())\n",
    "server = start_test_server(app)\n",
    "display(HTMX())\n",
    "server.stop()"
   ]
  },
  {
   "cell_type": "code",
   "execution_count": null,
   "id": "5ae7f652-f170-4a97-9402-6881f22a6473",
   "metadata": {},
   "outputs": [
    {
     "data": {
      "text/markdown": [
       "```html\n",
       "<div class=\"drawer lg:drawer-open\">\n",
       "  <input type=\"checkbox\" id=\"my-drawer-2\" class=\"drawer-toggle\" name=\"my-drawer-2\">\n",
       "  <div class=\"drawer-content flex flex-col items-center justify-center\">\n",
       "<label for=\"my-drawer-2\" class=\"btn btn-primary lg:hidden\">Open drawer</label>  </div>\n",
       "  <div class=\"drawer-side\">\n",
       "<label for=\"my-drawer-2\" aria-label=\"close sidebar\" class=\"drawer-overlay\"></label>    <ul class=\"menu bg-base-200 text-base-content min-h-full w-80 p-4\">\n",
       "      <li>\n",
       "<a href=\"#\">Sidebar Item 1</a>      </li>\n",
       "      <li>\n",
       "<a href=\"#\">Sidebar Item 2</a>      </li>\n",
       "    </ul>\n",
       "  </div>\n",
       "</div>\n",
       "\n",
       "```"
      ],
      "text/plain": [
       "div((input((),{'type': 'checkbox', 'id': 'my-drawer-2', 'class': 'drawer-toggle', 'name': 'my-drawer-2'}), div((label(('Open drawer',),{'for': 'my-drawer-2', 'class': 'btn btn-primary lg:hidden'}),),{'class': 'drawer-content flex flex-col items-center justify-center'}), div((label((),{'for': 'my-drawer-2', 'aria-label': 'close sidebar', 'class': 'drawer-overlay'}), ul((li((a(('Sidebar Item 1',),{'href': '#'}),),{}), li((a(('Sidebar Item 2',),{'href': '#'}),),{})),{'class': 'menu bg-base-200 text-base-content min-h-full w-80 p-4'})),{'class': 'drawer-side'})),{'class': 'drawer lg:drawer-open'})"
      ]
     },
     "execution_count": null,
     "metadata": {},
     "output_type": "execute_result"
    }
   ],
   "source": [
    "#|exports\n",
    "def test_drawer_responsive_fasthtml_examples():\n",
    "    \"\"\"Test responsive drawer from daisyUI v5 documentation.\"\"\"\n",
    "    from fasthtml.common import Div, Input, Label, Ul, Li, A\n",
    "    from cjm_fasthtml_daisyui.components.actions.button import btn, btn_colors\n",
    "    from cjm_fasthtml_daisyui.components.navigation.menu import menu\n",
    "    from cjm_fasthtml_daisyui.utilities.semantic_colors import bg_dui, text_dui\n",
    "    from cjm_fasthtml_tailwind.utilities.sizing import w, min_h\n",
    "    from cjm_fasthtml_tailwind.utilities.spacing import p\n",
    "    from cjm_fasthtml_tailwind.utilities.flexbox_and_grid import flex, items, justify, flex_display\n",
    "    from cjm_fasthtml_tailwind.utilities.layout import display_tw\n",
    "    \n",
    "    # Responsive drawer (vertical on small screen, horizontal on large screen)\n",
    "    responsive_drawer = Div(\n",
    "        Input(id=\"my-drawer-2\", type=\"checkbox\", cls=str(drawer_toggle)),\n",
    "        Div(\n",
    "            # Page content here\n",
    "            Label(\n",
    "                \"Open drawer\", \n",
    "                _for=\"my-drawer-2\", \n",
    "                cls=combine_classes(btn, btn_colors.primary, display_tw.hidden.lg)\n",
    "            ),\n",
    "            cls=combine_classes(drawer_content, flex_display, flex.col, items.center, justify.center)\n",
    "        ),\n",
    "        Div(\n",
    "            Label(_for=\"my-drawer-2\", aria_label=\"close sidebar\", cls=str(drawer_overlay)),\n",
    "            Ul(\n",
    "                # Sidebar content here\n",
    "                Li(A(\"Sidebar Item 1\", href=\"#\")),\n",
    "                Li(A(\"Sidebar Item 2\", href=\"#\")),\n",
    "                cls=combine_classes(menu, bg_dui.base_200, text_dui.base_content, min_h.full, w._80, p._4)\n",
    "            ),\n",
    "            cls=str(drawer_side)\n",
    "        ),\n",
    "        cls=combine_classes(drawer, drawer_modifiers.open.lg)\n",
    "    )\n",
    "    \n",
    "    # Verify structure\n",
    "    assert responsive_drawer.tag == \"div\"\n",
    "    assert \"drawer\" in responsive_drawer.attrs['class']\n",
    "    assert \"lg:drawer-open\" in responsive_drawer.attrs['class']\n",
    "    \n",
    "    # Verify input checkbox\n",
    "    input_element = responsive_drawer.children[0]\n",
    "    assert input_element.tag == \"input\"\n",
    "    assert input_element.attrs['id'] == \"my-drawer-2\"\n",
    "    assert input_element.attrs['type'] == \"checkbox\"\n",
    "    assert input_element.attrs['class'] == \"drawer-toggle\"\n",
    "    \n",
    "    # Verify drawer content\n",
    "    content_div = responsive_drawer.children[1]\n",
    "    assert content_div.tag == \"div\"\n",
    "    assert \"drawer-content\" in content_div.attrs['class']\n",
    "    assert \"flex\" in content_div.attrs['class']\n",
    "    assert \"flex-col\" in content_div.attrs['class']\n",
    "    assert \"items-center\" in content_div.attrs['class']\n",
    "    assert \"justify-center\" in content_div.attrs['class']\n",
    "    \n",
    "    # Verify button label (hidden on lg screens)\n",
    "    button_label = content_div.children[0]\n",
    "    assert button_label.tag == \"label\"\n",
    "    assert button_label.attrs['for'] == \"my-drawer-2\"\n",
    "    assert \"btn\" in button_label.attrs['class']\n",
    "    assert \"btn-primary\" in button_label.attrs['class']\n",
    "    assert \"lg:hidden\" in button_label.attrs['class']\n",
    "    assert button_label.children[0] == \"Open drawer\"\n",
    "    \n",
    "    # Verify drawer side\n",
    "    side_div = responsive_drawer.children[2]\n",
    "    assert side_div.tag == \"div\"\n",
    "    assert side_div.attrs['class'] == \"drawer-side\"\n",
    "    \n",
    "    # Verify overlay label\n",
    "    overlay_label = side_div.children[0]\n",
    "    assert overlay_label.tag == \"label\"\n",
    "    assert overlay_label.attrs['for'] == \"my-drawer-2\"\n",
    "    assert overlay_label.attrs['aria-label'] == \"close sidebar\"\n",
    "    assert overlay_label.attrs['class'] == \"drawer-overlay\"\n",
    "    \n",
    "    # Verify menu\n",
    "    menu_ul = side_div.children[1]\n",
    "    assert menu_ul.tag == \"ul\"\n",
    "    assert \"menu\" in menu_ul.attrs['class']\n",
    "    assert \"bg-base-200\" in menu_ul.attrs['class']\n",
    "    assert \"text-base-content\" in menu_ul.attrs['class']\n",
    "    assert \"min-h-full\" in menu_ul.attrs['class']\n",
    "    assert \"w-80\" in menu_ul.attrs['class']\n",
    "    assert \"p-4\" in menu_ul.attrs['class']\n",
    "    \n",
    "    return responsive_drawer\n",
    "\n",
    "# Run the tests\n",
    "test_drawer_responsive_fasthtml_examples()"
   ]
  },
  {
   "cell_type": "code",
   "execution_count": null,
   "id": "7d3942c9-f893-4199-b021-1147997d701a",
   "metadata": {},
   "outputs": [
    {
     "data": {
      "text/html": [
       "\n",
       "<script>\n",
       "document.body.addEventListener('htmx:configRequest', (event) => {\n",
       "    if(event.detail.path.includes('://')) return;\n",
       "    htmx.config.selfRequestsOnly=false;\n",
       "    event.detail.path = `${location.protocol}//${location.hostname}:8000${event.detail.path}`;\n",
       "});\n",
       "</script>"
      ],
      "text/plain": [
       "<IPython.core.display.HTML object>"
      ]
     },
     "metadata": {},
     "output_type": "display_data"
    },
    {
     "data": {
      "text/html": [
       "<iframe src=\"http://localhost:8000/\" style=\"width: 100%; height: auto; border: none;\" onload=\"{\n",
       "        let frame = this;\n",
       "        window.addEventListener('message', function(e) {\n",
       "            if (e.source !== frame.contentWindow) return; // Only proceed if the message is from this iframe\n",
       "            if (e.data.height) frame.style.height = (e.data.height+1) + 'px';\n",
       "        }, false);\n",
       "    }\" allow=\"accelerometer; autoplay; camera; clipboard-read; clipboard-write; display-capture; encrypted-media; fullscreen; gamepad; geolocation; gyroscope; hid; identity-credentials-get; idle-detection; magnetometer; microphone; midi; payment; picture-in-picture; publickey-credentials-get; screen-wake-lock; serial; usb; web-share; xr-spatial-tracking\"></iframe> "
      ],
      "text/plain": [
       "<IPython.core.display.HTML object>"
      ]
     },
     "metadata": {},
     "output_type": "display_data"
    }
   ],
   "source": [
    "#| eval: false\n",
    "#| output: false\n",
    "test_func = test_drawer_responsive_fasthtml_examples\n",
    "app, rt = create_test_app(theme=DaisyUITheme.LIGHT)\n",
    "\n",
    "@rt\n",
    "def index():\n",
    "    return create_test_page(test_func.__doc__.title().replace('.', ''), test_func())\n",
    "server = start_test_server(app)\n",
    "display(HTMX())\n",
    "server.stop()"
   ]
  },
  {
   "cell_type": "code",
   "execution_count": null,
   "id": "45e4fb4f-46da-4a0e-be77-4278243efd31",
   "metadata": {},
   "outputs": [
    {
     "data": {
      "text/markdown": [
       "```html\n",
       "<div class=\"drawer drawer-end\">\n",
       "  <input type=\"checkbox\" id=\"my-drawer-4\" class=\"drawer-toggle\" name=\"my-drawer-4\">\n",
       "  <div class=\"drawer-content\">\n",
       "<label for=\"my-drawer-4\" class=\"btn btn-primary\">Open drawer</label>  </div>\n",
       "  <div class=\"drawer-side\">\n",
       "<label for=\"my-drawer-4\" aria-label=\"close sidebar\" class=\"drawer-overlay\"></label>    <ul class=\"menu bg-base-200 text-base-content min-h-full w-80 p-4\">\n",
       "      <li>\n",
       "<a href=\"#\">Sidebar Item 1</a>      </li>\n",
       "      <li>\n",
       "<a href=\"#\">Sidebar Item 2</a>      </li>\n",
       "    </ul>\n",
       "  </div>\n",
       "</div>\n",
       "\n",
       "```"
      ],
      "text/plain": [
       "div((input((),{'type': 'checkbox', 'id': 'my-drawer-4', 'class': 'drawer-toggle', 'name': 'my-drawer-4'}), div((label(('Open drawer',),{'for': 'my-drawer-4', 'class': 'btn btn-primary'}),),{'class': 'drawer-content'}), div((label((),{'for': 'my-drawer-4', 'aria-label': 'close sidebar', 'class': 'drawer-overlay'}), ul((li((a(('Sidebar Item 1',),{'href': '#'}),),{}), li((a(('Sidebar Item 2',),{'href': '#'}),),{})),{'class': 'menu bg-base-200 text-base-content min-h-full w-80 p-4'})),{'class': 'drawer-side'})),{'class': 'drawer drawer-end'})"
      ]
     },
     "execution_count": null,
     "metadata": {},
     "output_type": "execute_result"
    }
   ],
   "source": [
    "#|exports\n",
    "def test_drawer_end_fasthtml_examples():\n",
    "    \"\"\"Test drawer that opens from right side of page from daisyUI v5 documentation.\"\"\"\n",
    "    from fasthtml.common import Div, Input, Label, Ul, Li, A\n",
    "    from cjm_fasthtml_daisyui.components.actions.button import btn, btn_colors\n",
    "    from cjm_fasthtml_daisyui.components.navigation.menu import menu\n",
    "    from cjm_fasthtml_daisyui.utilities.semantic_colors import bg_dui, text_dui\n",
    "    from cjm_fasthtml_tailwind.utilities.sizing import w, min_h\n",
    "    from cjm_fasthtml_tailwind.utilities.spacing import p\n",
    "    \n",
    "    # Drawer that opens from right side\n",
    "    end_drawer = Div(\n",
    "        Input(id=\"my-drawer-4\", type=\"checkbox\", cls=str(drawer_toggle)),\n",
    "        Div(\n",
    "            # Page content here\n",
    "            Label(\"Open drawer\", _for=\"my-drawer-4\", cls=combine_classes(btn, btn_colors.primary)),\n",
    "            cls=str(drawer_content)\n",
    "        ),\n",
    "        Div(\n",
    "            Label(_for=\"my-drawer-4\", aria_label=\"close sidebar\", cls=str(drawer_overlay)),\n",
    "            Ul(\n",
    "                # Sidebar content here\n",
    "                Li(A(\"Sidebar Item 1\", href=\"#\")),\n",
    "                Li(A(\"Sidebar Item 2\", href=\"#\")),\n",
    "                cls=combine_classes(menu, bg_dui.base_200, text_dui.base_content, min_h.full, w._80, p._4)\n",
    "            ),\n",
    "            cls=str(drawer_side)\n",
    "        ),\n",
    "        cls=combine_classes(drawer, drawer_placement.end)\n",
    "    )\n",
    "    \n",
    "    # Verify structure\n",
    "    assert end_drawer.tag == \"div\"\n",
    "    assert \"drawer\" in end_drawer.attrs['class']\n",
    "    assert \"drawer-end\" in end_drawer.attrs['class']\n",
    "    \n",
    "    # Verify input checkbox\n",
    "    input_element = end_drawer.children[0]\n",
    "    assert input_element.tag == \"input\"\n",
    "    assert input_element.attrs['id'] == \"my-drawer-4\"\n",
    "    assert input_element.attrs['type'] == \"checkbox\"\n",
    "    assert input_element.attrs['class'] == \"drawer-toggle\"\n",
    "    \n",
    "    # Verify drawer content\n",
    "    content_div = end_drawer.children[1]\n",
    "    assert content_div.tag == \"div\"\n",
    "    assert content_div.attrs['class'] == \"drawer-content\"\n",
    "    \n",
    "    # Verify button label\n",
    "    button_label = content_div.children[0]\n",
    "    assert button_label.tag == \"label\"\n",
    "    assert button_label.attrs['for'] == \"my-drawer-4\"\n",
    "    assert \"btn\" in button_label.attrs['class']\n",
    "    assert \"btn-primary\" in button_label.attrs['class']\n",
    "    assert button_label.children[0] == \"Open drawer\"\n",
    "    \n",
    "    # Verify drawer side\n",
    "    side_div = end_drawer.children[2]\n",
    "    assert side_div.tag == \"div\"\n",
    "    assert side_div.attrs['class'] == \"drawer-side\"\n",
    "    \n",
    "    # Verify overlay label\n",
    "    overlay_label = side_div.children[0]\n",
    "    assert overlay_label.tag == \"label\"\n",
    "    assert overlay_label.attrs['for'] == \"my-drawer-4\"\n",
    "    assert overlay_label.attrs['aria-label'] == \"close sidebar\"\n",
    "    assert overlay_label.attrs['class'] == \"drawer-overlay\"\n",
    "    \n",
    "    # Verify menu\n",
    "    menu_ul = side_div.children[1]\n",
    "    assert menu_ul.tag == \"ul\"\n",
    "    assert \"menu\" in menu_ul.attrs['class']\n",
    "    assert \"bg-base-200\" in menu_ul.attrs['class']\n",
    "    assert \"text-base-content\" in menu_ul.attrs['class']\n",
    "    assert \"min-h-full\" in menu_ul.attrs['class']\n",
    "    assert \"w-80\" in menu_ul.attrs['class']\n",
    "    assert \"p-4\" in menu_ul.attrs['class']\n",
    "    \n",
    "    # Verify menu items\n",
    "    assert len(menu_ul.children) == 2\n",
    "    assert menu_ul.children[0].tag == \"li\"\n",
    "    assert menu_ul.children[0].children[0].tag == \"a\"\n",
    "    assert menu_ul.children[0].children[0].children[0] == \"Sidebar Item 1\"\n",
    "    assert menu_ul.children[1].tag == \"li\"\n",
    "    assert menu_ul.children[1].children[0].children[0] == \"Sidebar Item 2\"\n",
    "    \n",
    "    return end_drawer\n",
    "\n",
    "# Run the tests\n",
    "test_drawer_end_fasthtml_examples()"
   ]
  },
  {
   "cell_type": "code",
   "execution_count": null,
   "id": "9c315a01-4776-42da-82ce-b3eb4257b108",
   "metadata": {},
   "outputs": [
    {
     "data": {
      "text/html": [
       "\n",
       "<script>\n",
       "document.body.addEventListener('htmx:configRequest', (event) => {\n",
       "    if(event.detail.path.includes('://')) return;\n",
       "    htmx.config.selfRequestsOnly=false;\n",
       "    event.detail.path = `${location.protocol}//${location.hostname}:8000${event.detail.path}`;\n",
       "});\n",
       "</script>"
      ],
      "text/plain": [
       "<IPython.core.display.HTML object>"
      ]
     },
     "metadata": {},
     "output_type": "display_data"
    },
    {
     "data": {
      "text/html": [
       "<iframe src=\"http://localhost:8000/\" style=\"width: 100%; height: auto; border: none;\" onload=\"{\n",
       "        let frame = this;\n",
       "        window.addEventListener('message', function(e) {\n",
       "            if (e.source !== frame.contentWindow) return; // Only proceed if the message is from this iframe\n",
       "            if (e.data.height) frame.style.height = (e.data.height+1) + 'px';\n",
       "        }, false);\n",
       "    }\" allow=\"accelerometer; autoplay; camera; clipboard-read; clipboard-write; display-capture; encrypted-media; fullscreen; gamepad; geolocation; gyroscope; hid; identity-credentials-get; idle-detection; magnetometer; microphone; midi; payment; picture-in-picture; publickey-credentials-get; screen-wake-lock; serial; usb; web-share; xr-spatial-tracking\"></iframe> "
      ],
      "text/plain": [
       "<IPython.core.display.HTML object>"
      ]
     },
     "metadata": {},
     "output_type": "display_data"
    }
   ],
   "source": [
    "#| eval: false\n",
    "#| output: false\n",
    "test_func = test_drawer_end_fasthtml_examples\n",
    "app, rt = create_test_app(theme=DaisyUITheme.LIGHT)\n",
    "\n",
    "@rt\n",
    "def index():\n",
    "    return create_test_page(test_func.__doc__.title().replace('.', ''), test_func())\n",
    "server = start_test_server(app)\n",
    "display(HTMX())\n",
    "server.stop()"
   ]
  },
  {
   "cell_type": "code",
   "execution_count": null,
   "id": "248adc40-6e77-4203-9830-de838e25a00a",
   "metadata": {},
   "outputs": [],
   "source": []
  },
  {
   "cell_type": "code",
   "execution_count": null,
   "id": "a2029d6d-bf22-4e16-87e1-d609762dc867",
   "metadata": {},
   "outputs": [],
   "source": []
  },
  {
   "cell_type": "code",
   "execution_count": null,
   "id": "c9dfaad9-504c-4853-886b-2d1adb1cc3a0",
   "metadata": {},
   "outputs": [],
   "source": []
  },
  {
   "cell_type": "code",
   "execution_count": null,
   "id": "454d5b84-fc57-44ab-a6f0-3123333998cb",
   "metadata": {},
   "outputs": [],
   "source": []
  },
  {
   "cell_type": "code",
   "execution_count": null,
   "id": "d471d21b-6fe5-4c63-90be-5176c4cbd08b",
   "metadata": {},
   "outputs": [],
   "source": []
  },
  {
   "cell_type": "code",
   "execution_count": null,
   "id": "73b88b7e-0be6-4a82-9c02-f3df8af20015",
   "metadata": {},
   "outputs": [],
   "source": []
  },
  {
   "cell_type": "code",
   "execution_count": null,
   "id": "7ab8257a-c30b-45b6-a784-729b67686791",
   "metadata": {},
   "outputs": [],
   "source": [
    "#| hide\n",
    "import nbdev; nbdev.nbdev_export()"
   ]
  }
 ],
 "metadata": {
  "kernelspec": {
   "display_name": "python3",
   "language": "python",
   "name": "python3"
  }
 },
 "nbformat": 4,
 "nbformat_minor": 5
}
