{
 "cells": [
  {
   "cell_type": "markdown",
   "id": "7c51b46b-ece1-456d-8e84-7de122e72b62",
   "metadata": {},
   "source": [
    "# indicator\n",
    "\n",
    "> Indicators are used to place an element on the corner of another element."
   ]
  },
  {
   "cell_type": "code",
   "execution_count": null,
   "id": "25536bdc-e099-477f-9e2d-a5f71df5dff2",
   "metadata": {},
   "outputs": [],
   "source": [
    "#| default_exp components.layout.indicator"
   ]
  },
  {
   "cell_type": "code",
   "execution_count": null,
   "id": "2e6f21ce-7766-455a-8ebb-df2c17e7d977",
   "metadata": {},
   "outputs": [],
   "source": [
    "#| hide\n",
    "from nbdev.showdoc import *"
   ]
  },
  {
   "cell_type": "code",
   "execution_count": null,
   "id": "045c6538-403e-4222-b3bb-db20f188524d",
   "metadata": {},
   "outputs": [],
   "source": [
    "#| export\n",
    "from enum import Enum\n",
    "from cjm_fasthtml_tailwind.core.base import (\n",
    "    SingleValueFactory, combine_classes\n",
    ")\n",
    "from cjm_fasthtml_tailwind.builders.scales import SimpleFactory, enums_to_simple_factory\n",
    "\n",
    "from fasthtml.common import Div\n",
    "from fasthtml.jupyter import JupyUvi, HTMX\n",
    "from cjm_fasthtml_daisyui.core.testing import create_test_app, create_test_page, start_test_server\n",
    "from cjm_fasthtml_daisyui.core.themes import DaisyUITheme\n",
    "from IPython.display import display"
   ]
  },
  {
   "cell_type": "markdown",
   "id": "893125a3-1c68-458c-87d9-625ccbc3b60c",
   "metadata": {},
   "source": [
    "### Base Indicator"
   ]
  },
  {
   "cell_type": "code",
   "execution_count": null,
   "id": "c802d106-49fb-4d34-ba04-5f54c88e165b",
   "metadata": {},
   "outputs": [],
   "source": [
    "#| export\n",
    "indicator = SingleValueFactory(\"indicator\", \"Base indicator container element\") # Base indicator component\n",
    "indicator_item = SingleValueFactory(\"indicator-item\", \"Indicator item part that will be placed on the corner of sibling\") # Indicator item part"
   ]
  },
  {
   "cell_type": "markdown",
   "id": "662e993a-e73c-4f88-a0de-e329d5f1f155",
   "metadata": {},
   "source": [
    "### Indicator Placement"
   ]
  },
  {
   "cell_type": "code",
   "execution_count": null,
   "id": "636c6bcd-2176-4191-aa39-c937893243e2",
   "metadata": {},
   "outputs": [],
   "source": [
    "#| export\n",
    "class IndicatorPlacement(str, Enum):\n",
    "    START = \"start\"\n",
    "    CENTER = \"center\"\n",
    "    END = \"end\"\n",
    "    TOP = \"top\"\n",
    "    MIDDLE = \"middle\"\n",
    "    BOTTOM = \"bottom\"\n",
    " \n",
    "indicator_placement = enums_to_simple_factory(indicator, [IndicatorPlacement], \"indicator placement (start, end)\") # indicator directions"
   ]
  },
  {
   "cell_type": "markdown",
   "id": "bacc9848-b637-4b9d-b175-73d2b9fd4e10",
   "metadata": {},
   "source": [
    "### Indicator Test Examples"
   ]
  },
  {
   "cell_type": "code",
   "execution_count": null,
   "id": "3035ff66-e4e7-410c-8b1e-86a879f66112",
   "metadata": {},
   "outputs": [],
   "source": [
    "#| export\n",
    "def test_indicator_basic_examples():\n",
    "    \"\"\"Test basic indicator utilities.\"\"\"\n",
    "    assert str(indicator) == \"indicator\"\n",
    "    assert str(indicator_item) == \"indicator-item\"\n",
    "    \n",
    "    # With modifiers\n",
    "    assert str(indicator.hover) == \"hover:indicator\"\n",
    "    assert str(indicator_item.md) == \"md:indicator-item\"\n",
    "\n",
    "# Run the tests\n",
    "test_indicator_basic_examples()"
   ]
  },
  {
   "cell_type": "code",
   "execution_count": null,
   "id": "4666a5a3-26bb-4d91-b5be-f941df8f9d2f",
   "metadata": {},
   "outputs": [],
   "source": [
    "#| export\n",
    "def test_indicator_placement_examples():\n",
    "    \"\"\"Test indicator placement options.\"\"\"\n",
    "    # Horizontal alignment\n",
    "    assert str(indicator_placement.start) == \"indicator-start\"\n",
    "    assert str(indicator_placement.center) == \"indicator-center\"\n",
    "    assert str(indicator_placement.end) == \"indicator-end\"\n",
    "    \n",
    "    # Vertical position\n",
    "    assert str(indicator_placement.top) == \"indicator-top\"\n",
    "    assert str(indicator_placement.middle) == \"indicator-middle\"\n",
    "    assert str(indicator_placement.bottom) == \"indicator-bottom\"\n",
    "\n",
    "# Run the tests\n",
    "test_indicator_placement_examples()"
   ]
  },
  {
   "cell_type": "code",
   "execution_count": null,
   "id": "85d72161-e718-4c66-bc59-a3569b7f7616",
   "metadata": {},
   "outputs": [],
   "source": []
  },
  {
   "cell_type": "code",
   "execution_count": null,
   "id": "214654cc-9758-48f9-92e2-0892029c4512",
   "metadata": {},
   "outputs": [],
   "source": []
  },
  {
   "cell_type": "code",
   "execution_count": null,
   "id": "a9d78aa3-0be8-49e6-8bfb-cb9a232ee1ee",
   "metadata": {},
   "outputs": [],
   "source": []
  },
  {
   "cell_type": "code",
   "execution_count": null,
   "id": "01785a18-9bb0-4dbc-9eae-04addf6dede9",
   "metadata": {},
   "outputs": [],
   "source": []
  },
  {
   "cell_type": "code",
   "execution_count": null,
   "id": "43a3d5aa-4f07-48f4-b7c3-5c63612f0fb2",
   "metadata": {},
   "outputs": [],
   "source": []
  },
  {
   "cell_type": "code",
   "execution_count": null,
   "id": "248adc40-6e77-4203-9830-de838e25a00a",
   "metadata": {},
   "outputs": [],
   "source": []
  },
  {
   "cell_type": "code",
   "execution_count": null,
   "id": "a2029d6d-bf22-4e16-87e1-d609762dc867",
   "metadata": {},
   "outputs": [],
   "source": []
  },
  {
   "cell_type": "code",
   "execution_count": null,
   "id": "c9dfaad9-504c-4853-886b-2d1adb1cc3a0",
   "metadata": {},
   "outputs": [],
   "source": []
  },
  {
   "cell_type": "code",
   "execution_count": null,
   "id": "454d5b84-fc57-44ab-a6f0-3123333998cb",
   "metadata": {},
   "outputs": [],
   "source": []
  },
  {
   "cell_type": "code",
   "execution_count": null,
   "id": "d471d21b-6fe5-4c63-90be-5176c4cbd08b",
   "metadata": {},
   "outputs": [],
   "source": []
  },
  {
   "cell_type": "code",
   "execution_count": null,
   "id": "73b88b7e-0be6-4a82-9c02-f3df8af20015",
   "metadata": {},
   "outputs": [],
   "source": []
  },
  {
   "cell_type": "code",
   "execution_count": null,
   "id": "7ab8257a-c30b-45b6-a784-729b67686791",
   "metadata": {},
   "outputs": [],
   "source": [
    "#| hide\n",
    "import nbdev; nbdev.nbdev_export()"
   ]
  }
 ],
 "metadata": {
  "kernelspec": {
   "display_name": "python3",
   "language": "python",
   "name": "python3"
  }
 },
 "nbformat": 4,
 "nbformat_minor": 5
}
