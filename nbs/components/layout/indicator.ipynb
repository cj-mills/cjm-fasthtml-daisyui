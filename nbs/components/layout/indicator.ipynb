{
 "cells": [
  {
   "cell_type": "markdown",
   "id": "7c51b46b-ece1-456d-8e84-7de122e72b62",
   "metadata": {},
   "source": [
    "# indicator\n",
    "\n",
    "> Indicators are used to place an element on the corner of another element."
   ]
  },
  {
   "cell_type": "code",
   "execution_count": null,
   "id": "25536bdc-e099-477f-9e2d-a5f71df5dff2",
   "metadata": {},
   "outputs": [],
   "source": [
    "#| default_exp components.layout.indicator"
   ]
  },
  {
   "cell_type": "code",
   "execution_count": null,
   "id": "2e6f21ce-7766-455a-8ebb-df2c17e7d977",
   "metadata": {},
   "outputs": [],
   "source": [
    "#| hide\n",
    "from nbdev.showdoc import *"
   ]
  },
  {
   "cell_type": "code",
   "execution_count": null,
   "id": "045c6538-403e-4222-b3bb-db20f188524d",
   "metadata": {},
   "outputs": [],
   "source": [
    "#| export\n",
    "from enum import Enum\n",
    "from cjm_fasthtml_tailwind.core.base import (\n",
    "    SingleValueFactory, combine_classes\n",
    ")\n",
    "from cjm_fasthtml_tailwind.builders.scales import SimpleFactory, enums_to_simple_factory\n",
    "\n",
    "from fasthtml.common import Div\n",
    "from fasthtml.jupyter import JupyUvi, HTMX\n",
    "from cjm_fasthtml_daisyui.core.testing import create_test_app, create_test_page, start_test_server\n",
    "from cjm_fasthtml_daisyui.core.themes import DaisyUITheme\n",
    "from IPython.display import display"
   ]
  },
  {
   "cell_type": "markdown",
   "id": "893125a3-1c68-458c-87d9-625ccbc3b60c",
   "metadata": {},
   "source": [
    "### Base Indicator"
   ]
  },
  {
   "cell_type": "code",
   "execution_count": null,
   "id": "c802d106-49fb-4d34-ba04-5f54c88e165b",
   "metadata": {},
   "outputs": [],
   "source": [
    "#| exports\n",
    "indicator = SingleValueFactory(\"indicator\", \"Base indicator container element\") # Base indicator component\n",
    "indicator_item = SingleValueFactory(\"indicator-item\", \"Indicator item part that will be placed on the corner of sibling\") # Indicator item part"
   ]
  },
  {
   "cell_type": "markdown",
   "id": "662e993a-e73c-4f88-a0de-e329d5f1f155",
   "metadata": {},
   "source": [
    "### Indicator Placement"
   ]
  },
  {
   "cell_type": "code",
   "execution_count": null,
   "id": "636c6bcd-2176-4191-aa39-c937893243e2",
   "metadata": {},
   "outputs": [],
   "source": [
    "#| exports\n",
    "class IndicatorPlacement(str, Enum):\n",
    "    START = \"start\"\n",
    "    CENTER = \"center\"\n",
    "    END = \"end\"\n",
    "    TOP = \"top\"\n",
    "    MIDDLE = \"middle\"\n",
    "    BOTTOM = \"bottom\"\n",
    " \n",
    "indicator_placement = enums_to_simple_factory(indicator, [IndicatorPlacement], \"indicator placement (start, end)\") # indicator directions"
   ]
  },
  {
   "cell_type": "markdown",
   "id": "bacc9848-b637-4b9d-b175-73d2b9fd4e10",
   "metadata": {},
   "source": [
    "### Indicator Test Examples"
   ]
  },
  {
   "cell_type": "code",
   "execution_count": null,
   "id": "3035ff66-e4e7-410c-8b1e-86a879f66112",
   "metadata": {},
   "outputs": [],
   "source": [
    "#|exports\n",
    "def test_indicator_basic_examples():\n",
    "    \"\"\"Test basic indicator utilities.\"\"\"\n",
    "    assert str(indicator) == \"indicator\"\n",
    "    assert str(indicator_item) == \"indicator-item\"\n",
    "    \n",
    "    # With modifiers\n",
    "    assert str(indicator.hover) == \"hover:indicator\"\n",
    "    assert str(indicator_item.md) == \"md:indicator-item\"\n",
    "\n",
    "# Run the tests\n",
    "test_indicator_basic_examples()"
   ]
  },
  {
   "cell_type": "code",
   "execution_count": null,
   "id": "4666a5a3-26bb-4d91-b5be-f941df8f9d2f",
   "metadata": {},
   "outputs": [],
   "source": [
    "#|exports\n",
    "def test_indicator_placement_examples():\n",
    "    \"\"\"Test indicator placement options.\"\"\"\n",
    "    # Horizontal alignment\n",
    "    assert str(indicator_placement.start) == \"indicator-start\"\n",
    "    assert str(indicator_placement.center) == \"indicator-center\"\n",
    "    assert str(indicator_placement.end) == \"indicator-end\"\n",
    "    \n",
    "    # Vertical position\n",
    "    assert str(indicator_placement.top) == \"indicator-top\"\n",
    "    assert str(indicator_placement.middle) == \"indicator-middle\"\n",
    "    assert str(indicator_placement.bottom) == \"indicator-bottom\"\n",
    "\n",
    "# Run the tests\n",
    "test_indicator_placement_examples()"
   ]
  },
  {
   "cell_type": "code",
   "execution_count": null,
   "id": "ctbs6rvzf1r",
   "metadata": {},
   "outputs": [
    {
     "data": {
      "text/markdown": [
       "```html\n",
       "<div>\n",
       "  <div class=\"indicator\">\n",
       "<span class=\"indicator-item status status-success\"></span>    <div class=\"bg-base-300 grid h-32 w-32 place-items-center\">content</div>\n",
       "  </div>\n",
       "  <div class=\"indicator\">\n",
       "<span class=\"indicator-item badge badge-primary\">New</span>    <div class=\"bg-base-300 grid h-32 w-32 place-items-center\">content</div>\n",
       "  </div>\n",
       "</div>\n",
       "\n",
       "```"
      ],
      "text/plain": [
       "div((div((span((),{'class': 'indicator-item status status-success'}), div(('content',),{'class': 'bg-base-300 grid h-32 w-32 place-items-center'})),{'class': 'indicator'}), div((span(('New',),{'class': 'indicator-item badge badge-primary'}), div(('content',),{'class': 'bg-base-300 grid h-32 w-32 place-items-center'})),{'class': 'indicator'})),{})"
      ]
     },
     "execution_count": null,
     "metadata": {},
     "output_type": "execute_result"
    }
   ],
   "source": [
    "#|exports\n",
    "def test_indicator_basic_fasthtml_examples():\n",
    "    \"\"\"Test basic indicator examples from daisyUI v5 documentation.\"\"\"\n",
    "    from fasthtml.common import Div, Span, Button\n",
    "    from cjm_fasthtml_tailwind.utilities.sizing import h, w\n",
    "    from cjm_fasthtml_tailwind.utilities.flexbox_and_grid import place_items\n",
    "    from cjm_fasthtml_daisyui.core.utility_classes import bg_dui\n",
    "    from cjm_fasthtml_daisyui.components.data_display.badge import badge, badge_colors\n",
    "    from cjm_fasthtml_daisyui.components.data_display.status import status, status_colors\n",
    "    from cjm_fasthtml_tailwind.utilities.layout import display_tw\n",
    "    \n",
    "    # Status Indicator\n",
    "    status_indicator = Div(\n",
    "        Span(cls=combine_classes(indicator_item, status, status_colors.success)),\n",
    "        Div(\n",
    "            \"content\",\n",
    "            cls=combine_classes(bg_dui.base_300, display_tw.grid, h._32, w._32, place_items.center)\n",
    "        ),\n",
    "        cls=str(indicator)\n",
    "    )\n",
    "    \n",
    "    # Verify status indicator structure\n",
    "    assert \"indicator\" in status_indicator.attrs['class']\n",
    "    assert status_indicator.children[0].tag == \"span\"\n",
    "    assert \"indicator-item\" in status_indicator.children[0].attrs['class']\n",
    "    assert \"status\" in status_indicator.children[0].attrs['class']\n",
    "    assert \"status-success\" in status_indicator.children[0].attrs['class']\n",
    "    assert status_indicator.children[1].tag == \"div\"\n",
    "    assert \"bg-base-300\" in status_indicator.children[1].attrs['class']\n",
    "    assert \"grid\" in status_indicator.children[1].attrs['class']\n",
    "    assert \"h-32\" in status_indicator.children[1].attrs['class']\n",
    "    assert \"w-32\" in status_indicator.children[1].attrs['class']\n",
    "    assert \"place-items-center\" in status_indicator.children[1].attrs['class']\n",
    "    assert status_indicator.children[1].children[0] == \"content\"\n",
    "    \n",
    "    # Badge as indicator\n",
    "    badge_indicator = Div(\n",
    "        Span(\"New\", cls=combine_classes(indicator_item, badge, badge_colors.primary)),\n",
    "        Div(\n",
    "            \"content\",\n",
    "            cls=combine_classes(bg_dui.base_300, display_tw.grid, h._32, w._32, place_items.center)\n",
    "        ),\n",
    "        cls=str(indicator)\n",
    "    )\n",
    "    \n",
    "    # Verify badge indicator structure\n",
    "    assert \"indicator\" in badge_indicator.attrs['class']\n",
    "    assert badge_indicator.children[0].tag == \"span\"\n",
    "    assert \"indicator-item\" in badge_indicator.children[0].attrs['class']\n",
    "    assert \"badge\" in badge_indicator.children[0].attrs['class']\n",
    "    assert \"badge-primary\" in badge_indicator.children[0].attrs['class']\n",
    "    assert badge_indicator.children[0].children[0] == \"New\"\n",
    "    assert badge_indicator.children[1].children[0] == \"content\"\n",
    "    \n",
    "    return Div(status_indicator, badge_indicator)\n",
    "\n",
    "# Run the tests\n",
    "test_indicator_basic_fasthtml_examples()"
   ]
  },
  {
   "cell_type": "code",
   "execution_count": null,
   "id": "gcl3m7muk2",
   "metadata": {},
   "outputs": [
    {
     "data": {
      "text/html": [
       "\n",
       "<script>\n",
       "document.body.addEventListener('htmx:configRequest', (event) => {\n",
       "    if(event.detail.path.includes('://')) return;\n",
       "    htmx.config.selfRequestsOnly=false;\n",
       "    event.detail.path = `${location.protocol}//${location.hostname}:8000${event.detail.path}`;\n",
       "});\n",
       "</script>"
      ],
      "text/plain": [
       "<IPython.core.display.HTML object>"
      ]
     },
     "metadata": {},
     "output_type": "display_data"
    },
    {
     "data": {
      "text/html": [
       "<iframe src=\"http://localhost:8000/\" style=\"width: 100%; height: auto; border: none;\" onload=\"{\n",
       "        let frame = this;\n",
       "        window.addEventListener('message', function(e) {\n",
       "            if (e.source !== frame.contentWindow) return; // Only proceed if the message is from this iframe\n",
       "            if (e.data.height) frame.style.height = (e.data.height+1) + 'px';\n",
       "        }, false);\n",
       "    }\" allow=\"accelerometer; autoplay; camera; clipboard-read; clipboard-write; display-capture; encrypted-media; fullscreen; gamepad; geolocation; gyroscope; hid; identity-credentials-get; idle-detection; magnetometer; microphone; midi; payment; picture-in-picture; publickey-credentials-get; screen-wake-lock; serial; usb; web-share; xr-spatial-tracking\"></iframe> "
      ],
      "text/plain": [
       "<IPython.core.display.HTML object>"
      ]
     },
     "metadata": {},
     "output_type": "display_data"
    }
   ],
   "source": [
    "#| eval: false\n",
    "#| output: false\n",
    "test_func = test_indicator_basic_fasthtml_examples\n",
    "app, rt = create_test_app(theme=DaisyUITheme.LIGHT)\n",
    "\n",
    "@rt\n",
    "def index():\n",
    "    return create_test_page(test_func.__doc__.title().replace('.', ''), test_func())\n",
    "server = start_test_server(app)\n",
    "display(HTMX())\n",
    "server.stop()"
   ]
  },
  {
   "cell_type": "code",
   "execution_count": null,
   "id": "nqv17ddm8g",
   "metadata": {},
   "outputs": [
    {
     "data": {
      "text/markdown": [
       "```html\n",
       "<div>\n",
       "  <div class=\"indicator\">\n",
       "<span class=\"indicator-item badge badge-secondary\">12</span><button class=\"btn\">inbox</button>  </div>\n",
       "  <div class=\"divider\"></div>\n",
       "  <div class=\"tabs tabs-lift\">\n",
       "<a href=\"#\" class=\"tab\">Messages</a><a href=\"#\" class=\"indicator tab tab-active\">Notifications<span class=\"indicator-item badge\">8</span></a><a href=\"#\" class=\"tab\">Requests</a>  </div>\n",
       "  <div class=\"divider\"></div>\n",
       "  <div class=\"avatar indicator\">\n",
       "<span class=\"indicator-item badge badge-secondary\">Justice</span>    <div class=\"h-20 w-20 rounded-lg\">\n",
       "<img alt=\"Tailwind CSS examples\" src=\"https://img.daisyui.com/images/profile/demo/[email protected]\">    </div>\n",
       "  </div>\n",
       "  <div class=\"divider\"></div>\n",
       "  <div class=\"indicator\">\n",
       "<span class=\"indicator-item badge\">Required</span>    <input type=\"text\" placeholder=\"Your email address\" class=\"input\">\n",
       "  </div>\n",
       "</div>\n",
       "\n",
       "```"
      ],
      "text/plain": [
       "div((div((span(('12',),{'class': 'indicator-item badge badge-secondary'}), button(('inbox',),{'class': 'btn'})),{'class': 'indicator'}), div((),{'class': 'divider'}), div((a(('Messages',),{'href': '#', 'class': 'tab'}), a(('Notifications', span(('8',),{'class': 'indicator-item badge'})),{'href': '#', 'class': 'indicator tab tab-active'}), a(('Requests',),{'href': '#', 'class': 'tab'})),{'class': 'tabs tabs-lift'}), div((),{'class': 'divider'}), div((span(('Justice',),{'class': 'indicator-item badge badge-secondary'}), div((img((),{'alt': 'Tailwind CSS examples', 'src': 'https://img.daisyui.com/images/profile/demo/[email protected]'}),),{'class': 'h-20 w-20 rounded-lg'})),{'class': 'avatar indicator'}), div((),{'class': 'divider'}), div((span(('Required',),{'class': 'indicator-item badge'}), input((),{'type': 'text', 'placeholder': 'Your email address', 'class': 'input'})),{'class': 'indicator'})),{})"
      ]
     },
     "execution_count": null,
     "metadata": {},
     "output_type": "execute_result"
    }
   ],
   "source": [
    "#|exports\n",
    "def test_indicator_for_components_fasthtml_examples():\n",
    "    \"\"\"Test indicator with various components from daisyUI v5 documentation.\"\"\"\n",
    "    from fasthtml.common import Div, Span, Button, A, Img, Input\n",
    "    from cjm_fasthtml_tailwind.utilities.sizing import h, w\n",
    "    from cjm_fasthtml_tailwind.utilities.borders import rounded\n",
    "    from cjm_fasthtml_daisyui.components.actions.button import btn\n",
    "    from cjm_fasthtml_daisyui.components.data_display.badge import badge, badge_colors\n",
    "    from cjm_fasthtml_daisyui.components.navigation.tabs import tabs, tabs_styles, tab, tab_modifiers\n",
    "    from cjm_fasthtml_daisyui.components.data_display.avatar import avatar\n",
    "    from cjm_fasthtml_daisyui.components.data_input.text_input import text_input, text_input_styles\n",
    "    from cjm_fasthtml_daisyui.components.layout.divider import divider\n",
    "    \n",
    "    # For button\n",
    "    button_indicator = Div(\n",
    "        Span(\"12\", cls=combine_classes(indicator_item, badge, badge_colors.secondary)),\n",
    "        Button(\"inbox\", cls=str(btn)),\n",
    "        cls=str(indicator)\n",
    "    )\n",
    "    \n",
    "    # Verify button indicator\n",
    "    assert \"indicator\" in button_indicator.attrs['class']\n",
    "    assert button_indicator.children[0].tag == \"span\"\n",
    "    assert \"indicator-item\" in button_indicator.children[0].attrs['class']\n",
    "    assert \"badge\" in button_indicator.children[0].attrs['class']\n",
    "    assert \"badge-secondary\" in button_indicator.children[0].attrs['class']\n",
    "    assert button_indicator.children[0].children[0] == \"12\"\n",
    "    assert button_indicator.children[1].tag == \"button\"\n",
    "    assert \"btn\" in button_indicator.children[1].attrs['class']\n",
    "    assert button_indicator.children[1].children[0] == \"inbox\"\n",
    "    \n",
    "    # For tab\n",
    "    tab_indicator = Div(\n",
    "        A(\"Messages\", cls=str(tab)),\n",
    "        A(\n",
    "            \"Notifications\",\n",
    "            Span(\"8\", cls=combine_classes(indicator_item, badge)),\n",
    "            cls=combine_classes(indicator, tab, tab_modifiers.active)\n",
    "        ),\n",
    "        A(\"Requests\", cls=str(tab)),\n",
    "        cls=combine_classes(tabs, tabs_styles.lift)\n",
    "    )\n",
    "    \n",
    "    # Verify tab indicator\n",
    "    assert \"tabs\" in tab_indicator.attrs['class']\n",
    "    assert \"tabs-lift\" in tab_indicator.attrs['class']\n",
    "    assert tab_indicator.children[0].tag == \"a\"\n",
    "    assert \"tab\" in tab_indicator.children[0].attrs['class']\n",
    "    assert tab_indicator.children[0].children[0] == \"Messages\"\n",
    "    assert tab_indicator.children[1].tag == \"a\"\n",
    "    assert \"indicator\" in tab_indicator.children[1].attrs['class']\n",
    "    assert \"tab\" in tab_indicator.children[1].attrs['class']\n",
    "    assert \"tab-active\" in tab_indicator.children[1].attrs['class']\n",
    "    assert tab_indicator.children[1].children[0] == \"Notifications\"\n",
    "    assert tab_indicator.children[1].children[1].tag == \"span\"\n",
    "    assert \"indicator-item\" in tab_indicator.children[1].children[1].attrs['class']\n",
    "    assert \"badge\" in tab_indicator.children[1].children[1].attrs['class']\n",
    "    assert tab_indicator.children[1].children[1].children[0] == \"8\"\n",
    "    \n",
    "    # For avatar\n",
    "    avatar_indicator = Div(\n",
    "        Span(\"Justice\", cls=combine_classes(indicator_item, badge, badge_colors.secondary)),\n",
    "        Div(\n",
    "            Img(\n",
    "                alt=\"Tailwind CSS examples\",\n",
    "                src=\"https://img.daisyui.com/images/profile/demo/[email protected]\"\n",
    "            ),\n",
    "            cls=combine_classes(h._20, w._20, rounded.lg)\n",
    "        ),\n",
    "        cls=combine_classes(avatar, indicator)\n",
    "    )\n",
    "    \n",
    "    # Verify avatar indicator\n",
    "    assert \"avatar\" in avatar_indicator.attrs['class']\n",
    "    assert \"indicator\" in avatar_indicator.attrs['class']\n",
    "    assert avatar_indicator.children[0].tag == \"span\"\n",
    "    assert \"indicator-item\" in avatar_indicator.children[0].attrs['class']\n",
    "    assert \"badge\" in avatar_indicator.children[0].attrs['class']\n",
    "    assert \"badge-secondary\" in avatar_indicator.children[0].attrs['class']\n",
    "    assert avatar_indicator.children[0].children[0] == \"Justice\"\n",
    "    assert avatar_indicator.children[1].tag == \"div\"\n",
    "    assert \"h-20\" in avatar_indicator.children[1].attrs['class']\n",
    "    assert \"w-20\" in avatar_indicator.children[1].attrs['class']\n",
    "    assert \"rounded-lg\" in avatar_indicator.children[1].attrs['class']\n",
    "    assert avatar_indicator.children[1].children[0].tag == \"img\"\n",
    "    \n",
    "    # For an input\n",
    "    input_indicator = Div(\n",
    "        Span(\"Required\", cls=combine_classes(indicator_item, badge)),\n",
    "        Input(\n",
    "            type=\"text\",\n",
    "            placeholder=\"Your email address\",\n",
    "            cls=combine_classes(text_input)\n",
    "        ),\n",
    "        cls=str(indicator)\n",
    "    )\n",
    "    \n",
    "    # Verify input indicator\n",
    "    assert \"indicator\" in input_indicator.attrs['class']\n",
    "    assert input_indicator.children[0].tag == \"span\"\n",
    "    assert \"indicator-item\" in input_indicator.children[0].attrs['class']\n",
    "    assert \"badge\" in input_indicator.children[0].attrs['class']\n",
    "    assert input_indicator.children[0].children[0] == \"Required\"\n",
    "    assert input_indicator.children[1].tag == \"input\"\n",
    "    assert input_indicator.children[1].attrs['type'] == \"text\"\n",
    "    assert input_indicator.children[1].attrs['placeholder'] == \"Your email address\"\n",
    "    assert \"input\" in input_indicator.children[1].attrs['class']\n",
    "    \n",
    "    return Div(\n",
    "        button_indicator,\n",
    "        Div(cls=str(divider)),\n",
    "        tab_indicator, \n",
    "        Div(cls=str(divider)),\n",
    "        avatar_indicator, \n",
    "        Div(cls=str(divider)),\n",
    "        input_indicator\n",
    "    )\n",
    "\n",
    "# Run the tests\n",
    "test_indicator_for_components_fasthtml_examples()"
   ]
  },
  {
   "cell_type": "code",
   "execution_count": null,
   "id": "6q5662g9jwx",
   "metadata": {},
   "outputs": [
    {
     "data": {
      "text/html": [
       "\n",
       "<script>\n",
       "document.body.addEventListener('htmx:configRequest', (event) => {\n",
       "    if(event.detail.path.includes('://')) return;\n",
       "    htmx.config.selfRequestsOnly=false;\n",
       "    event.detail.path = `${location.protocol}//${location.hostname}:8000${event.detail.path}`;\n",
       "});\n",
       "</script>"
      ],
      "text/plain": [
       "<IPython.core.display.HTML object>"
      ]
     },
     "metadata": {},
     "output_type": "display_data"
    },
    {
     "data": {
      "text/html": [
       "<iframe src=\"http://localhost:8000/\" style=\"width: 100%; height: auto; border: none;\" onload=\"{\n",
       "        let frame = this;\n",
       "        window.addEventListener('message', function(e) {\n",
       "            if (e.source !== frame.contentWindow) return; // Only proceed if the message is from this iframe\n",
       "            if (e.data.height) frame.style.height = (e.data.height+1) + 'px';\n",
       "        }, false);\n",
       "    }\" allow=\"accelerometer; autoplay; camera; clipboard-read; clipboard-write; display-capture; encrypted-media; fullscreen; gamepad; geolocation; gyroscope; hid; identity-credentials-get; idle-detection; magnetometer; microphone; midi; payment; picture-in-picture; publickey-credentials-get; screen-wake-lock; serial; usb; web-share; xr-spatial-tracking\"></iframe> "
      ],
      "text/plain": [
       "<IPython.core.display.HTML object>"
      ]
     },
     "metadata": {},
     "output_type": "display_data"
    }
   ],
   "source": [
    "#| eval: false\n",
    "#| output: false\n",
    "test_func = test_indicator_for_components_fasthtml_examples\n",
    "app, rt = create_test_app(theme=DaisyUITheme.LIGHT)\n",
    "\n",
    "@rt\n",
    "def index():\n",
    "    return create_test_page(test_func.__doc__.title().replace('.', ''), test_func())\n",
    "server = start_test_server(app)\n",
    "display(HTMX())\n",
    "server.stop()"
   ]
  },
  {
   "cell_type": "code",
   "execution_count": null,
   "id": "ozby6vwfgb",
   "metadata": {},
   "outputs": [
    {
     "data": {
      "text/markdown": [
       "```html\n",
       "<div>\n",
       "  <div class=\"indicator\">\n",
       "    <div class=\"indicator-item indicator-bottom\">\n",
       "<button class=\"btn btn-primary\">Apply</button>    </div>\n",
       "    <div class=\"card border-base-300 &lt;cjm_fasthtml_tailwind.utilities.borders.BorderWidthFactory object at 0x7ad598db7350&gt; shadow-sm\">\n",
       "      <div class=\"card-body\">\n",
       "        <h2 class=\"card-title\">Job Title</h2>\n",
       "        <p>Rerum reiciendis beatae tenetur excepturi</p>\n",
       "      </div>\n",
       "    </div>\n",
       "  </div>\n",
       "</div>\n",
       "\n",
       "```"
      ],
      "text/plain": [
       "div((div((div((button(('Apply',),{'class': 'btn btn-primary'}),),{'class': 'indicator-item indicator-bottom'}), div((div((h2(('Job Title',),{'class': 'card-title'}), p(('Rerum reiciendis beatae tenetur excepturi',),{})),{'class': 'card-body'}),),{'class': 'card border-base-300 <cjm_fasthtml_tailwind.utilities.borders.BorderWidthFactory object> shadow-sm'})),{'class': 'indicator'}),),{})"
      ]
     },
     "execution_count": null,
     "metadata": {},
     "output_type": "execute_result"
    }
   ],
   "source": [
    "#|exports\n",
    "def test_indicator_card_fasthtml_examples():\n",
    "    \"\"\"Test button as indicator for card from daisyUI v5 documentation.\"\"\"\n",
    "    from fasthtml.common import Div, Button, H2, P\n",
    "    from cjm_fasthtml_tailwind.utilities.effects import shadow\n",
    "    from cjm_fasthtml_tailwind.utilities.borders import border\n",
    "    from cjm_fasthtml_daisyui.components.actions.button import btn, btn_colors\n",
    "    from cjm_fasthtml_daisyui.components.data_display.card import card, card_body, card_title\n",
    "    from cjm_fasthtml_daisyui.core.utility_classes import border_dui\n",
    "    \n",
    "    # A button as an indicator for a card\n",
    "    card_with_indicator = Div(\n",
    "        Div(\n",
    "            Button(\"Apply\", cls=combine_classes(btn, btn_colors.primary)),\n",
    "            cls=combine_classes(indicator_item, indicator_placement.bottom)\n",
    "        ),\n",
    "        Div(\n",
    "            Div(\n",
    "                H2(\"Job Title\", cls=str(card_title)),\n",
    "                P(\"Rerum reiciendis beatae tenetur excepturi\"),\n",
    "                cls=str(card_body)\n",
    "            ),\n",
    "            cls=combine_classes(card, border_dui.base_300, border, shadow.sm)\n",
    "        ),\n",
    "        cls=str(indicator)\n",
    "    )\n",
    "    \n",
    "    # Verify structure\n",
    "    assert \"indicator\" in card_with_indicator.attrs['class']\n",
    "    \n",
    "    # Verify indicator item (button container)\n",
    "    indicator_item_div = card_with_indicator.children[0]\n",
    "    assert \"indicator-item\" in indicator_item_div.attrs['class']\n",
    "    assert \"indicator-bottom\" in indicator_item_div.attrs['class']\n",
    "    \n",
    "    # Verify button\n",
    "    apply_button = indicator_item_div.children[0]\n",
    "    assert apply_button.tag == \"button\"\n",
    "    assert \"btn\" in apply_button.attrs['class']\n",
    "    assert \"btn-primary\" in apply_button.attrs['class']\n",
    "    assert apply_button.children[0] == \"Apply\"\n",
    "    \n",
    "    # Verify card\n",
    "    card_div = card_with_indicator.children[1]\n",
    "    assert \"card\" in card_div.attrs['class']\n",
    "    assert \"border-base-300\" in card_div.attrs['class']\n",
    "    assert \"border\" in card_div.attrs['class']\n",
    "    assert \"shadow-sm\" in card_div.attrs['class']\n",
    "    \n",
    "    # Verify card body\n",
    "    card_body_div = card_div.children[0]\n",
    "    assert \"card-body\" in card_body_div.attrs['class']\n",
    "    \n",
    "    # Verify card title\n",
    "    title_element = card_body_div.children[0]\n",
    "    assert title_element.tag == \"h2\"\n",
    "    assert \"card-title\" in title_element.attrs['class']\n",
    "    assert title_element.children[0] == \"Job Title\"\n",
    "    \n",
    "    # Verify card description\n",
    "    desc_element = card_body_div.children[1]\n",
    "    assert desc_element.tag == \"p\"\n",
    "    assert desc_element.children[0] == \"Rerum reiciendis beatae tenetur excepturi\"\n",
    "    \n",
    "    return Div(card_with_indicator)\n",
    "\n",
    "# Run the tests\n",
    "test_indicator_card_fasthtml_examples()"
   ]
  },
  {
   "cell_type": "code",
   "execution_count": null,
   "id": "x1xd403jk3d",
   "metadata": {},
   "outputs": [
    {
     "data": {
      "text/html": [
       "\n",
       "<script>\n",
       "document.body.addEventListener('htmx:configRequest', (event) => {\n",
       "    if(event.detail.path.includes('://')) return;\n",
       "    htmx.config.selfRequestsOnly=false;\n",
       "    event.detail.path = `${location.protocol}//${location.hostname}:8000${event.detail.path}`;\n",
       "});\n",
       "</script>"
      ],
      "text/plain": [
       "<IPython.core.display.HTML object>"
      ]
     },
     "metadata": {},
     "output_type": "display_data"
    },
    {
     "data": {
      "text/html": [
       "<iframe src=\"http://localhost:8000/\" style=\"width: 100%; height: auto; border: none;\" onload=\"{\n",
       "        let frame = this;\n",
       "        window.addEventListener('message', function(e) {\n",
       "            if (e.source !== frame.contentWindow) return; // Only proceed if the message is from this iframe\n",
       "            if (e.data.height) frame.style.height = (e.data.height+1) + 'px';\n",
       "        }, false);\n",
       "    }\" allow=\"accelerometer; autoplay; camera; clipboard-read; clipboard-write; display-capture; encrypted-media; fullscreen; gamepad; geolocation; gyroscope; hid; identity-credentials-get; idle-detection; magnetometer; microphone; midi; payment; picture-in-picture; publickey-credentials-get; screen-wake-lock; serial; usb; web-share; xr-spatial-tracking\"></iframe> "
      ],
      "text/plain": [
       "<IPython.core.display.HTML object>"
      ]
     },
     "metadata": {},
     "output_type": "display_data"
    }
   ],
   "source": [
    "#| eval: false\n",
    "#| output: false\n",
    "test_func = test_indicator_card_fasthtml_examples\n",
    "app, rt = create_test_app(theme=DaisyUITheme.LIGHT)\n",
    "\n",
    "@rt\n",
    "def index():\n",
    "    return create_test_page(test_func.__doc__.title().replace('.', ''), test_func())\n",
    "server = start_test_server(app)\n",
    "display(HTMX())\n",
    "server.stop()"
   ]
  },
  {
   "cell_type": "code",
   "execution_count": null,
   "id": "pvjatl7cyd",
   "metadata": {},
   "outputs": [
    {
     "data": {
      "text/markdown": [
       "```html\n",
       "<div>\n",
       "  <div class=\"indicator\">\n",
       "<span class=\"indicator-item indicator-center indicator-middle\">Only available for Pro users</span><img alt=\"Tailwind CSS examples\" src=\"https://img.daisyui.com/images/stock/photo-1606107557195-0e29a4b5b4aa.webp\">  </div>\n",
       "</div>\n",
       "\n",
       "```"
      ],
      "text/plain": [
       "div((div((span(('Only available for Pro users',),{'class': 'indicator-item indicator-center indicator-middle'}), img((),{'alt': 'Tailwind CSS examples', 'src': 'https://img.daisyui.com/images/stock/photo-1606107557195-0e29a4b5b4aa.webp'})),{'class': 'indicator'}),),{})"
      ]
     },
     "execution_count": null,
     "metadata": {},
     "output_type": "execute_result"
    }
   ],
   "source": [
    "#|exports\n",
    "def test_indicator_image_overlay_fasthtml_examples():\n",
    "    \"\"\"Test indicator in center of image from daisyUI v5 documentation.\"\"\"\n",
    "    from fasthtml.common import Div, Span, Img\n",
    "    \n",
    "    # In center of an image\n",
    "    image_overlay_indicator = Div(\n",
    "        Span(\n",
    "            \"Only available for Pro users\",\n",
    "            cls=combine_classes(\n",
    "                indicator_item,\n",
    "                indicator_placement.center,\n",
    "                indicator_placement.middle\n",
    "            )\n",
    "        ),\n",
    "        Img(\n",
    "            alt=\"Tailwind CSS examples\",\n",
    "            src=\"https://img.daisyui.com/images/stock/photo-1606107557195-0e29a4b5b4aa.webp\"\n",
    "        ),\n",
    "        cls=str(indicator)\n",
    "    )\n",
    "    \n",
    "    # Verify structure\n",
    "    assert \"indicator\" in image_overlay_indicator.attrs['class']\n",
    "    \n",
    "    # Verify indicator item\n",
    "    indicator_span = image_overlay_indicator.children[0]\n",
    "    assert indicator_span.tag == \"span\"\n",
    "    assert \"indicator-item\" in indicator_span.attrs['class']\n",
    "    assert \"indicator-center\" in indicator_span.attrs['class']\n",
    "    assert \"indicator-middle\" in indicator_span.attrs['class']\n",
    "    assert indicator_span.children[0] == \"Only available for Pro users\"\n",
    "    \n",
    "    # Verify image\n",
    "    img_element = image_overlay_indicator.children[1]\n",
    "    assert img_element.tag == \"img\"\n",
    "    assert img_element.attrs['alt'] == \"Tailwind CSS examples\"\n",
    "    assert img_element.attrs['src'] == \"https://img.daisyui.com/images/stock/photo-1606107557195-0e29a4b5b4aa.webp\"\n",
    "    \n",
    "    return Div(image_overlay_indicator)\n",
    "\n",
    "# Run the tests\n",
    "test_indicator_image_overlay_fasthtml_examples()"
   ]
  },
  {
   "cell_type": "code",
   "execution_count": null,
   "id": "ut9qi9vjyp",
   "metadata": {},
   "outputs": [
    {
     "data": {
      "text/html": [
       "\n",
       "<script>\n",
       "document.body.addEventListener('htmx:configRequest', (event) => {\n",
       "    if(event.detail.path.includes('://')) return;\n",
       "    htmx.config.selfRequestsOnly=false;\n",
       "    event.detail.path = `${location.protocol}//${location.hostname}:8000${event.detail.path}`;\n",
       "});\n",
       "</script>"
      ],
      "text/plain": [
       "<IPython.core.display.HTML object>"
      ]
     },
     "metadata": {},
     "output_type": "display_data"
    },
    {
     "data": {
      "text/html": [
       "<iframe src=\"http://localhost:8000/\" style=\"width: 100%; height: auto; border: none;\" onload=\"{\n",
       "        let frame = this;\n",
       "        window.addEventListener('message', function(e) {\n",
       "            if (e.source !== frame.contentWindow) return; // Only proceed if the message is from this iframe\n",
       "            if (e.data.height) frame.style.height = (e.data.height+1) + 'px';\n",
       "        }, false);\n",
       "    }\" allow=\"accelerometer; autoplay; camera; clipboard-read; clipboard-write; display-capture; encrypted-media; fullscreen; gamepad; geolocation; gyroscope; hid; identity-credentials-get; idle-detection; magnetometer; microphone; midi; payment; picture-in-picture; publickey-credentials-get; screen-wake-lock; serial; usb; web-share; xr-spatial-tracking\"></iframe> "
      ],
      "text/plain": [
       "<IPython.core.display.HTML object>"
      ]
     },
     "metadata": {},
     "output_type": "display_data"
    }
   ],
   "source": [
    "#| eval: false\n",
    "#| output: false\n",
    "test_func = test_indicator_image_overlay_fasthtml_examples\n",
    "app, rt = create_test_app(theme=DaisyUITheme.LIGHT)\n",
    "\n",
    "@rt\n",
    "def index():\n",
    "    return create_test_page(test_func.__doc__.title().replace('.', ''), test_func())\n",
    "server = start_test_server(app)\n",
    "display(HTMX())\n",
    "server.stop()"
   ]
  },
  {
   "cell_type": "code",
   "execution_count": null,
   "id": "on7vz73ofo",
   "metadata": {},
   "outputs": [
    {
     "data": {
      "text/markdown": [
       "```html\n",
       "<div class=\"divider h-48\">\n",
       "  <div class=\"indicator\">\n",
       "<span class=\"indicator-item indicator-start badge badge-secondary\"></span>    <div class=\"bg-base-300 grid h-32 w-32 place-items-center\">content</div>\n",
       "  </div>\n",
       "  <div class=\"indicator\">\n",
       "<span class=\"indicator-item indicator-center badge badge-secondary\"></span>    <div class=\"bg-base-300 grid h-32 w-32 place-items-center\">content</div>\n",
       "  </div>\n",
       "  <div class=\"indicator\">\n",
       "<span class=\"indicator-item badge badge-secondary\"></span>    <div class=\"bg-base-300 grid h-32 w-32 place-items-center\">content</div>\n",
       "  </div>\n",
       "  <div class=\"indicator\">\n",
       "<span class=\"indicator-item indicator-middle indicator-start badge badge-secondary\"></span>    <div class=\"bg-base-300 grid h-32 w-32 place-items-center\">content</div>\n",
       "  </div>\n",
       "  <div class=\"indicator\">\n",
       "<span class=\"indicator-item indicator-middle indicator-center badge badge-secondary\"></span>    <div class=\"bg-base-300 grid h-32 w-32 place-items-center\">content</div>\n",
       "  </div>\n",
       "  <div class=\"indicator\">\n",
       "<span class=\"indicator-item indicator-middle badge badge-secondary\"></span>    <div class=\"bg-base-300 grid h-32 w-32 place-items-center\">content</div>\n",
       "  </div>\n",
       "  <div class=\"indicator\">\n",
       "<span class=\"indicator-item indicator-bottom indicator-start badge badge-secondary\"></span>    <div class=\"bg-base-300 grid h-32 w-32 place-items-center\">content</div>\n",
       "  </div>\n",
       "  <div class=\"indicator\">\n",
       "<span class=\"indicator-item indicator-bottom indicator-center badge badge-secondary\"></span>    <div class=\"bg-base-300 grid h-32 w-32 place-items-center\">content</div>\n",
       "  </div>\n",
       "  <div class=\"indicator\">\n",
       "<span class=\"indicator-item indicator-bottom badge badge-secondary\"></span>    <div class=\"bg-base-300 grid h-32 w-32 place-items-center\">content</div>\n",
       "  </div>\n",
       "</div>\n",
       "\n",
       "```"
      ],
      "text/plain": [
       "div((div((span((),{'class': 'indicator-item indicator-start badge badge-secondary'}), div(('content',),{'class': 'bg-base-300 grid h-32 w-32 place-items-center'})),{'class': 'indicator'}), div((span((),{'class': 'indicator-item indicator-center badge badge-secondary'}), div(('content',),{'class': 'bg-base-300 grid h-32 w-32 place-items-center'})),{'class': 'indicator'}), div((span((),{'class': 'indicator-item badge badge-secondary'}), div(('content',),{'class': 'bg-base-300 grid h-32 w-32 place-items-center'})),{'class': 'indicator'}), div((span((),{'class': 'indicator-item indicator-middle indicator-start badge badge-secondary'}), div(('content',),{'class': 'bg-base-300 grid h-32 w-32 place-items-center'})),{'class': 'indicator'}), div((span((),{'class': 'indicator-item indicator-middle indicator-center badge badge-secondary'}), div(('content',),{'class': 'bg-base-300 grid h-32 w-32 place-items-center'})),{'class': 'indicator'}), div((span((),{'class': 'indicator-item indicator-middle badge badge-secondary'}), div(('content',),{'class': 'bg-base-300 grid h-32 w-32 place-items-center'})),{'class': 'indicator'}), div((span((),{'class': 'indicator-item indicator-bottom indicator-start badge badge-secondary'}), div(('content',),{'class': 'bg-base-300 grid h-32 w-32 place-items-center'})),{'class': 'indicator'}), div((span((),{'class': 'indicator-item indicator-bottom indicator-center badge badge-secondary'}), div(('content',),{'class': 'bg-base-300 grid h-32 w-32 place-items-center'})),{'class': 'indicator'}), div((span((),{'class': 'indicator-item indicator-bottom badge badge-secondary'}), div(('content',),{'class': 'bg-base-300 grid h-32 w-32 place-items-center'})),{'class': 'indicator'})),{'class': 'divider h-48'})"
      ]
     },
     "execution_count": null,
     "metadata": {},
     "output_type": "execute_result"
    }
   ],
   "source": [
    "#|exports\n",
    "def test_indicator_positions_fasthtml_examples():\n",
    "    \"\"\"Test all indicator position combinations from daisyUI v5 documentation.\"\"\"\n",
    "    from fasthtml.common import Div, Span\n",
    "    from cjm_fasthtml_tailwind.utilities.sizing import h, w\n",
    "    from cjm_fasthtml_tailwind.utilities.flexbox_and_grid import place_items\n",
    "    from cjm_fasthtml_tailwind.utilities.layout import display_tw\n",
    "    from cjm_fasthtml_daisyui.core.utility_classes import bg_dui\n",
    "    from cjm_fasthtml_daisyui.components.data_display.badge import badge, badge_colors\n",
    "    from cjm_fasthtml_daisyui.components.layout.divider import divider, divider_directions\n",
    "    \n",
    "    # Helper function to create indicator box\n",
    "    def create_indicator_box(*position_classes):\n",
    "        return Div(\n",
    "            Span(cls=combine_classes(indicator_item, *position_classes, badge, badge_colors.secondary)),\n",
    "            Div(\n",
    "                \"content\",\n",
    "                cls=combine_classes(bg_dui.base_300, display_tw.grid, h._32, w._32, place_items.center)\n",
    "            ),\n",
    "            cls=str(indicator)\n",
    "        )\n",
    "    \n",
    "    # indicator-top (default) indicator-start\n",
    "    top_start = create_indicator_box(indicator_placement.start)\n",
    "    assert \"indicator\" in top_start.attrs['class']\n",
    "    assert \"indicator-start\" in top_start.children[0].attrs['class']\n",
    "    assert \"badge-secondary\" in top_start.children[0].attrs['class']\n",
    "    \n",
    "    # indicator-top (default) indicator-center\n",
    "    top_center = create_indicator_box(indicator_placement.center)\n",
    "    assert \"indicator-center\" in top_center.children[0].attrs['class']\n",
    "    \n",
    "    # indicator-top (default) indicator-end (default)\n",
    "    top_end = create_indicator_box()\n",
    "    assert \"indicator-item\" in top_end.children[0].attrs['class']\n",
    "    assert \"badge\" in top_end.children[0].attrs['class']\n",
    "    \n",
    "    # indicator-middle indicator-start\n",
    "    middle_start = create_indicator_box(indicator_placement.middle, indicator_placement.start)\n",
    "    assert \"indicator-middle\" in middle_start.children[0].attrs['class']\n",
    "    assert \"indicator-start\" in middle_start.children[0].attrs['class']\n",
    "    \n",
    "    # indicator-middle indicator-center\n",
    "    middle_center = create_indicator_box(indicator_placement.middle, indicator_placement.center)\n",
    "    assert \"indicator-middle\" in middle_center.children[0].attrs['class']\n",
    "    assert \"indicator-center\" in middle_center.children[0].attrs['class']\n",
    "    \n",
    "    # indicator-middle indicator-end (default)\n",
    "    middle_end = create_indicator_box(indicator_placement.middle)\n",
    "    assert \"indicator-middle\" in middle_end.children[0].attrs['class']\n",
    "    \n",
    "    # indicator-bottom indicator-start\n",
    "    bottom_start = create_indicator_box(indicator_placement.bottom, indicator_placement.start)\n",
    "    assert \"indicator-bottom\" in bottom_start.children[0].attrs['class']\n",
    "    assert \"indicator-start\" in bottom_start.children[0].attrs['class']\n",
    "    \n",
    "    # indicator-bottom indicator-center\n",
    "    bottom_center = create_indicator_box(indicator_placement.bottom, indicator_placement.center)\n",
    "    assert \"indicator-bottom\" in bottom_center.children[0].attrs['class']\n",
    "    assert \"indicator-center\" in bottom_center.children[0].attrs['class']\n",
    "    \n",
    "    # indicator-bottom indicator-end (default)\n",
    "    bottom_end = create_indicator_box(indicator_placement.bottom)\n",
    "    assert \"indicator-bottom\" in bottom_end.children[0].attrs['class']\n",
    "    \n",
    "    return Div(\n",
    "        top_start,\n",
    "        top_center,\n",
    "        top_end,        \n",
    "        middle_start,        \n",
    "        middle_center,        \n",
    "        middle_end,        \n",
    "        bottom_start,        \n",
    "        bottom_center,        \n",
    "        bottom_end,\n",
    "        cls=combine_classes(divider, h._48)\n",
    "    )\n",
    "\n",
    "# Run the tests\n",
    "test_indicator_positions_fasthtml_examples()"
   ]
  },
  {
   "cell_type": "code",
   "execution_count": null,
   "id": "r8qh2vvgl3l",
   "metadata": {},
   "outputs": [
    {
     "data": {
      "text/html": [
       "\n",
       "<script>\n",
       "document.body.addEventListener('htmx:configRequest', (event) => {\n",
       "    if(event.detail.path.includes('://')) return;\n",
       "    htmx.config.selfRequestsOnly=false;\n",
       "    event.detail.path = `${location.protocol}//${location.hostname}:8000${event.detail.path}`;\n",
       "});\n",
       "</script>"
      ],
      "text/plain": [
       "<IPython.core.display.HTML object>"
      ]
     },
     "metadata": {},
     "output_type": "display_data"
    },
    {
     "data": {
      "text/html": [
       "<iframe src=\"http://localhost:8000/\" style=\"width: 100%; height: auto; border: none;\" onload=\"{\n",
       "        let frame = this;\n",
       "        window.addEventListener('message', function(e) {\n",
       "            if (e.source !== frame.contentWindow) return; // Only proceed if the message is from this iframe\n",
       "            if (e.data.height) frame.style.height = (e.data.height+1) + 'px';\n",
       "        }, false);\n",
       "    }\" allow=\"accelerometer; autoplay; camera; clipboard-read; clipboard-write; display-capture; encrypted-media; fullscreen; gamepad; geolocation; gyroscope; hid; identity-credentials-get; idle-detection; magnetometer; microphone; midi; payment; picture-in-picture; publickey-credentials-get; screen-wake-lock; serial; usb; web-share; xr-spatial-tracking\"></iframe> "
      ],
      "text/plain": [
       "<IPython.core.display.HTML object>"
      ]
     },
     "metadata": {},
     "output_type": "display_data"
    }
   ],
   "source": [
    "#| eval: false\n",
    "#| output: false\n",
    "test_func = test_indicator_positions_fasthtml_examples\n",
    "app, rt = create_test_app(theme=DaisyUITheme.LIGHT)\n",
    "\n",
    "@rt\n",
    "def index():\n",
    "    return create_test_page(test_func.__doc__.title().replace('.', ''), test_func())\n",
    "server = start_test_server(app)\n",
    "display(HTMX())\n",
    "server.stop()"
   ]
  },
  {
   "cell_type": "code",
   "execution_count": null,
   "id": "aztu82lep9v",
   "metadata": {},
   "outputs": [
    {
     "data": {
      "text/markdown": [
       "```html\n",
       "<div>\n",
       "  <div class=\"indicator\">\n",
       "<span class=\"indicator-item indicator-top indicator-start badge\">↖︎</span><span class=\"indicator-item indicator-top indicator-center badge\">↑</span><span class=\"indicator-item indicator-top indicator-end badge\">↗︎</span><span class=\"indicator-item indicator-middle indicator-start badge\">←</span><span class=\"indicator-item indicator-middle indicator-center badge\">●</span><span class=\"indicator-item indicator-middle indicator-end badge\">→</span><span class=\"indicator-item indicator-bottom indicator-start badge\">↙︎</span><span class=\"indicator-item indicator-bottom indicator-center badge\">↓</span><span class=\"indicator-item indicator-bottom indicator-end badge\">↘︎</span>    <div class=\"bg-base-300 grid h-32 w-60 place-items-center\">Box</div>\n",
       "  </div>\n",
       "</div>\n",
       "\n",
       "```"
      ],
      "text/plain": [
       "div((div((span(('↖︎',),{'class': 'indicator-item indicator-top indicator-start badge'}), span(('↑',),{'class': 'indicator-item indicator-top indicator-center badge'}), span(('↗︎',),{'class': 'indicator-item indicator-top indicator-end badge'}), span(('←',),{'class': 'indicator-item indicator-middle indicator-start badge'}), span(('●',),{'class': 'indicator-item indicator-middle indicator-center badge'}), span(('→',),{'class': 'indicator-item indicator-middle indicator-end badge'}), span(('↙︎',),{'class': 'indicator-item indicator-bottom indicator-start badge'}), span(('↓',),{'class': 'indicator-item indicator-bottom indicator-center badge'}), span(('↘︎',),{'class': 'indicator-item indicator-bottom indicator-end badge'}), div(('Box',),{'class': 'bg-base-300 grid h-32 w-60 place-items-center'})),{'class': 'indicator'}),),{})"
      ]
     },
     "execution_count": null,
     "metadata": {},
     "output_type": "execute_result"
    }
   ],
   "source": [
    "#|exports\n",
    "def test_indicator_multiple_fasthtml_examples():\n",
    "    \"\"\"Test multiple indicators from daisyUI v5 documentation.\"\"\"\n",
    "    from fasthtml.common import Div, Span\n",
    "    from cjm_fasthtml_tailwind.utilities.sizing import h, w\n",
    "    from cjm_fasthtml_tailwind.utilities.layout import display_tw\n",
    "    from cjm_fasthtml_tailwind.utilities.flexbox_and_grid import place_items\n",
    "    from cjm_fasthtml_daisyui.core.utility_classes import bg_dui\n",
    "    from cjm_fasthtml_daisyui.components.data_display.badge import badge\n",
    "    \n",
    "    # Multiple indicators\n",
    "    multiple_indicators = Div(\n",
    "        Span(\"↖︎\", cls=combine_classes(indicator_item, indicator_placement.top, indicator_placement.start, badge)),\n",
    "        Span(\"↑\", cls=combine_classes(indicator_item, indicator_placement.top, indicator_placement.center, badge)),\n",
    "        Span(\"↗︎\", cls=combine_classes(indicator_item, indicator_placement.top, indicator_placement.end, badge)),\n",
    "        Span(\"←\", cls=combine_classes(indicator_item, indicator_placement.middle, indicator_placement.start, badge)),\n",
    "        Span(\"●\", cls=combine_classes(indicator_item, indicator_placement.middle, indicator_placement.center, badge)),\n",
    "        Span(\"→\", cls=combine_classes(indicator_item, indicator_placement.middle, indicator_placement.end, badge)),\n",
    "        Span(\"↙︎\", cls=combine_classes(indicator_item, indicator_placement.bottom, indicator_placement.start, badge)),\n",
    "        Span(\"↓\", cls=combine_classes(indicator_item, indicator_placement.bottom, indicator_placement.center, badge)),\n",
    "        Span(\"↘︎\", cls=combine_classes(indicator_item, indicator_placement.bottom, indicator_placement.end, badge)),\n",
    "        Div(\n",
    "            \"Box\",\n",
    "            cls=combine_classes(bg_dui.base_300, display_tw.grid, h._32, w._60, place_items.center)\n",
    "        ),\n",
    "        cls=str(indicator)\n",
    "    )\n",
    "    \n",
    "    # Verify structure\n",
    "    assert \"indicator\" in multiple_indicators.attrs['class']\n",
    "    \n",
    "    # Verify all 9 indicators\n",
    "    assert len(multiple_indicators.children) == 10  # 9 indicators + 1 content box\n",
    "    \n",
    "    # Top row indicators\n",
    "    assert multiple_indicators.children[0].children[0] == \"↖︎\"\n",
    "    assert \"indicator-top\" in multiple_indicators.children[0].attrs['class']\n",
    "    assert \"indicator-start\" in multiple_indicators.children[0].attrs['class']\n",
    "    \n",
    "    assert multiple_indicators.children[1].children[0] == \"↑\"\n",
    "    assert \"indicator-top\" in multiple_indicators.children[1].attrs['class']\n",
    "    assert \"indicator-center\" in multiple_indicators.children[1].attrs['class']\n",
    "    \n",
    "    assert multiple_indicators.children[2].children[0] == \"↗︎\"\n",
    "    assert \"indicator-top\" in multiple_indicators.children[2].attrs['class']\n",
    "    assert \"indicator-end\" in multiple_indicators.children[2].attrs['class']\n",
    "    \n",
    "    # Middle row indicators\n",
    "    assert multiple_indicators.children[3].children[0] == \"←\"\n",
    "    assert \"indicator-middle\" in multiple_indicators.children[3].attrs['class']\n",
    "    assert \"indicator-start\" in multiple_indicators.children[3].attrs['class']\n",
    "    \n",
    "    assert multiple_indicators.children[4].children[0] == \"●\"\n",
    "    assert \"indicator-middle\" in multiple_indicators.children[4].attrs['class']\n",
    "    assert \"indicator-center\" in multiple_indicators.children[4].attrs['class']\n",
    "    \n",
    "    assert multiple_indicators.children[5].children[0] == \"→\"\n",
    "    assert \"indicator-middle\" in multiple_indicators.children[5].attrs['class']\n",
    "    assert \"indicator-end\" in multiple_indicators.children[5].attrs['class']\n",
    "    \n",
    "    # Bottom row indicators\n",
    "    assert multiple_indicators.children[6].children[0] == \"↙︎\"\n",
    "    assert \"indicator-bottom\" in multiple_indicators.children[6].attrs['class']\n",
    "    assert \"indicator-start\" in multiple_indicators.children[6].attrs['class']\n",
    "    \n",
    "    assert multiple_indicators.children[7].children[0] == \"↓\"\n",
    "    assert \"indicator-bottom\" in multiple_indicators.children[7].attrs['class']\n",
    "    assert \"indicator-center\" in multiple_indicators.children[7].attrs['class']\n",
    "    \n",
    "    assert multiple_indicators.children[8].children[0] == \"↘︎\"\n",
    "    assert \"indicator-bottom\" in multiple_indicators.children[8].attrs['class']\n",
    "    assert \"indicator-end\" in multiple_indicators.children[8].attrs['class']\n",
    "    \n",
    "    # Verify content box\n",
    "    content_box = multiple_indicators.children[9]\n",
    "    assert content_box.tag == \"div\"\n",
    "    assert \"bg-base-300\" in content_box.attrs['class']\n",
    "    assert \"h-32\" in content_box.attrs['class']\n",
    "    assert \"w-60\" in content_box.attrs['class']\n",
    "    assert \"place-items-center\" in content_box.attrs['class']\n",
    "    assert content_box.children[0] == \"Box\"\n",
    "    \n",
    "    return Div(multiple_indicators)\n",
    "\n",
    "# Run the tests\n",
    "test_indicator_multiple_fasthtml_examples()"
   ]
  },
  {
   "cell_type": "code",
   "execution_count": null,
   "id": "m58n4gnpa5b",
   "metadata": {},
   "outputs": [
    {
     "data": {
      "text/html": [
       "\n",
       "<script>\n",
       "document.body.addEventListener('htmx:configRequest', (event) => {\n",
       "    if(event.detail.path.includes('://')) return;\n",
       "    htmx.config.selfRequestsOnly=false;\n",
       "    event.detail.path = `${location.protocol}//${location.hostname}:8000${event.detail.path}`;\n",
       "});\n",
       "</script>"
      ],
      "text/plain": [
       "<IPython.core.display.HTML object>"
      ]
     },
     "metadata": {},
     "output_type": "display_data"
    },
    {
     "data": {
      "text/html": [
       "<iframe src=\"http://localhost:8000/\" style=\"width: 100%; height: auto; border: none;\" onload=\"{\n",
       "        let frame = this;\n",
       "        window.addEventListener('message', function(e) {\n",
       "            if (e.source !== frame.contentWindow) return; // Only proceed if the message is from this iframe\n",
       "            if (e.data.height) frame.style.height = (e.data.height+1) + 'px';\n",
       "        }, false);\n",
       "    }\" allow=\"accelerometer; autoplay; camera; clipboard-read; clipboard-write; display-capture; encrypted-media; fullscreen; gamepad; geolocation; gyroscope; hid; identity-credentials-get; idle-detection; magnetometer; microphone; midi; payment; picture-in-picture; publickey-credentials-get; screen-wake-lock; serial; usb; web-share; xr-spatial-tracking\"></iframe> "
      ],
      "text/plain": [
       "<IPython.core.display.HTML object>"
      ]
     },
     "metadata": {},
     "output_type": "display_data"
    }
   ],
   "source": [
    "#| eval: false\n",
    "#| output: false\n",
    "test_func = test_indicator_multiple_fasthtml_examples\n",
    "app, rt = create_test_app(theme=DaisyUITheme.LIGHT)\n",
    "\n",
    "@rt\n",
    "def index():\n",
    "    return create_test_page(test_func.__doc__.title().replace('.', ''), test_func())\n",
    "server = start_test_server(app)\n",
    "display(HTMX())\n",
    "server.stop()"
   ]
  },
  {
   "cell_type": "code",
   "execution_count": null,
   "id": "t7v3oy8q3en",
   "metadata": {},
   "outputs": [
    {
     "data": {
      "text/markdown": [
       "```html\n",
       "<div>\n",
       "  <div class=\"indicator\">\n",
       "<span class=\"indicator-item indicator-start sm:indicator-middle md:indicator-bottom lg:indicator-center xl:indicator-end badge badge-secondary\"></span>    <div class=\"bg-base-300 grid h-32 w-32 place-items-center\">content</div>\n",
       "  </div>\n",
       "</div>\n",
       "\n",
       "```"
      ],
      "text/plain": [
       "div((div((span((),{'class': 'indicator-item indicator-start sm:indicator-middle md:indicator-bottom lg:indicator-center xl:indicator-end badge badge-secondary'}), div(('content',),{'class': 'bg-base-300 grid h-32 w-32 place-items-center'})),{'class': 'indicator'}),),{})"
      ]
     },
     "execution_count": null,
     "metadata": {},
     "output_type": "execute_result"
    }
   ],
   "source": [
    "#|exports\n",
    "def test_indicator_responsive_fasthtml_examples():\n",
    "    \"\"\"Test responsive indicator from daisyUI v5 documentation.\"\"\"\n",
    "    from fasthtml.common import Div, Span\n",
    "    from cjm_fasthtml_tailwind.utilities.sizing import h, w\n",
    "    from cjm_fasthtml_tailwind.utilities.layout import display_tw\n",
    "    from cjm_fasthtml_tailwind.utilities.flexbox_and_grid import place_items\n",
    "    from cjm_fasthtml_daisyui.core.utility_classes import bg_dui\n",
    "    from cjm_fasthtml_daisyui.components.data_display.badge import badge, badge_colors\n",
    "    \n",
    "    # Responsive indicator\n",
    "    responsive_indicator = Div(\n",
    "        Span(\n",
    "            cls=combine_classes(\n",
    "                indicator_item,\n",
    "                indicator_placement.start,\n",
    "                indicator_placement.middle.sm,\n",
    "                indicator_placement.bottom.md,\n",
    "                indicator_placement.center.lg,\n",
    "                indicator_placement.end.xl,\n",
    "                badge,\n",
    "                badge_colors.secondary\n",
    "            )\n",
    "        ),\n",
    "        Div(\n",
    "            \"content\",\n",
    "            cls=combine_classes(bg_dui.base_300, display_tw.grid, h._32, w._32, place_items.center)\n",
    "        ),\n",
    "        cls=str(indicator)\n",
    "    )\n",
    "    \n",
    "    # Verify structure\n",
    "    assert \"indicator\" in responsive_indicator.attrs['class']\n",
    "    \n",
    "    # Verify indicator item with responsive classes\n",
    "    indicator_span = responsive_indicator.children[0]\n",
    "    assert indicator_span.tag == \"span\"\n",
    "    assert \"indicator-item\" in indicator_span.attrs['class']\n",
    "    assert \"indicator-start\" in indicator_span.attrs['class']\n",
    "    assert \"sm:indicator-middle\" in indicator_span.attrs['class']\n",
    "    assert \"md:indicator-bottom\" in indicator_span.attrs['class']\n",
    "    assert \"lg:indicator-center\" in indicator_span.attrs['class']\n",
    "    assert \"xl:indicator-end\" in indicator_span.attrs['class']\n",
    "    assert \"badge\" in indicator_span.attrs['class']\n",
    "    assert \"badge-secondary\" in indicator_span.attrs['class']\n",
    "    \n",
    "    # Verify content box\n",
    "    content_box = responsive_indicator.children[1]\n",
    "    assert content_box.tag == \"div\"\n",
    "    assert \"bg-base-300\" in content_box.attrs['class']\n",
    "    assert \"grid\" in content_box.attrs['class']\n",
    "    assert \"h-32\" in content_box.attrs['class']\n",
    "    assert \"w-32\" in content_box.attrs['class']\n",
    "    assert \"place-items-center\" in content_box.attrs['class']\n",
    "    assert content_box.children[0] == \"content\"\n",
    "    \n",
    "    return Div(responsive_indicator)\n",
    "\n",
    "# Run the tests\n",
    "test_indicator_responsive_fasthtml_examples()"
   ]
  },
  {
   "cell_type": "code",
   "execution_count": null,
   "id": "w6y76ampp1",
   "metadata": {},
   "outputs": [
    {
     "data": {
      "text/html": [
       "\n",
       "<script>\n",
       "document.body.addEventListener('htmx:configRequest', (event) => {\n",
       "    if(event.detail.path.includes('://')) return;\n",
       "    htmx.config.selfRequestsOnly=false;\n",
       "    event.detail.path = `${location.protocol}//${location.hostname}:8000${event.detail.path}`;\n",
       "});\n",
       "</script>"
      ],
      "text/plain": [
       "<IPython.core.display.HTML object>"
      ]
     },
     "metadata": {},
     "output_type": "display_data"
    },
    {
     "data": {
      "text/html": [
       "<iframe src=\"http://localhost:8000/\" style=\"width: 100%; height: auto; border: none;\" onload=\"{\n",
       "        let frame = this;\n",
       "        window.addEventListener('message', function(e) {\n",
       "            if (e.source !== frame.contentWindow) return; // Only proceed if the message is from this iframe\n",
       "            if (e.data.height) frame.style.height = (e.data.height+1) + 'px';\n",
       "        }, false);\n",
       "    }\" allow=\"accelerometer; autoplay; camera; clipboard-read; clipboard-write; display-capture; encrypted-media; fullscreen; gamepad; geolocation; gyroscope; hid; identity-credentials-get; idle-detection; magnetometer; microphone; midi; payment; picture-in-picture; publickey-credentials-get; screen-wake-lock; serial; usb; web-share; xr-spatial-tracking\"></iframe> "
      ],
      "text/plain": [
       "<IPython.core.display.HTML object>"
      ]
     },
     "metadata": {},
     "output_type": "display_data"
    }
   ],
   "source": [
    "#| eval: false\n",
    "#| output: false\n",
    "test_func = test_indicator_responsive_fasthtml_examples\n",
    "app, rt = create_test_app(theme=DaisyUITheme.LIGHT)\n",
    "\n",
    "@rt\n",
    "def index():\n",
    "    return create_test_page(test_func.__doc__.title().replace('.', ''), test_func())\n",
    "server = start_test_server(app)\n",
    "display(HTMX())\n",
    "server.stop()"
   ]
  },
  {
   "cell_type": "code",
   "execution_count": null,
   "id": "3a760771-5784-4e8b-878c-db3d0f5b8c41",
   "metadata": {},
   "outputs": [],
   "source": []
  },
  {
   "cell_type": "code",
   "execution_count": null,
   "id": "dcb20c15-72de-436f-8cf7-d40698d23a5a",
   "metadata": {},
   "outputs": [],
   "source": []
  },
  {
   "cell_type": "code",
   "execution_count": null,
   "id": "603a6bff-44aa-4646-a842-10b15331fd14",
   "metadata": {},
   "outputs": [],
   "source": []
  },
  {
   "cell_type": "code",
   "execution_count": null,
   "id": "53657043-f6b2-4540-99ed-450b5485bc15",
   "metadata": {},
   "outputs": [],
   "source": []
  },
  {
   "cell_type": "code",
   "execution_count": null,
   "id": "a3ff7ca4-5d2d-4748-9985-ecc657e256eb",
   "metadata": {},
   "outputs": [],
   "source": []
  },
  {
   "cell_type": "code",
   "execution_count": null,
   "id": "ad7adc30-a496-43a8-8193-5fb60ac063ec",
   "metadata": {},
   "outputs": [],
   "source": []
  },
  {
   "cell_type": "code",
   "execution_count": null,
   "id": "1711c25b-eae5-460e-9ccb-66d2fb2fd0db",
   "metadata": {},
   "outputs": [],
   "source": []
  },
  {
   "cell_type": "code",
   "execution_count": null,
   "id": "d33b6fa4-b6dd-41cf-8d65-0c0305c24dba",
   "metadata": {},
   "outputs": [],
   "source": []
  },
  {
   "cell_type": "code",
   "execution_count": null,
   "id": "0b0336b8-ce24-440b-a3b1-0c466a33eb7a",
   "metadata": {},
   "outputs": [],
   "source": []
  },
  {
   "cell_type": "code",
   "execution_count": null,
   "id": "7eaaaf00-9699-4923-bc97-dfd374259d34",
   "metadata": {},
   "outputs": [],
   "source": []
  },
  {
   "cell_type": "code",
   "execution_count": null,
   "id": "e4fd7ea6-8590-4a28-aa7a-ac9ea66b6d1a",
   "metadata": {},
   "outputs": [],
   "source": []
  },
  {
   "cell_type": "code",
   "execution_count": null,
   "id": "947f83ee-d43d-4f5a-a5f3-42d3fdd3f53b",
   "metadata": {},
   "outputs": [],
   "source": []
  },
  {
   "cell_type": "code",
   "execution_count": null,
   "id": "5e97707b-5cae-40c9-8a36-2600a942b782",
   "metadata": {},
   "outputs": [],
   "source": []
  },
  {
   "cell_type": "code",
   "execution_count": null,
   "id": "12ff15e7-a55c-4b2b-b798-289611abfdfd",
   "metadata": {},
   "outputs": [],
   "source": []
  },
  {
   "cell_type": "code",
   "execution_count": null,
   "id": "bb691109-a6f0-4766-a22c-2e987de0f513",
   "metadata": {},
   "outputs": [],
   "source": []
  },
  {
   "cell_type": "code",
   "execution_count": null,
   "id": "b01514a5-1fac-4abe-94f5-75648d6eb0d2",
   "metadata": {},
   "outputs": [],
   "source": []
  },
  {
   "cell_type": "code",
   "execution_count": null,
   "id": "6ed1b65e-102f-484e-b5ce-33b4dc1a4600",
   "metadata": {},
   "outputs": [],
   "source": []
  },
  {
   "cell_type": "code",
   "execution_count": null,
   "id": "8efb5aa0-b3c4-4faa-b42c-3c660137874c",
   "metadata": {},
   "outputs": [],
   "source": []
  },
  {
   "cell_type": "code",
   "execution_count": null,
   "id": "092e276f-1b33-4d74-b9e9-e14ebc35fe41",
   "metadata": {},
   "outputs": [],
   "source": []
  },
  {
   "cell_type": "code",
   "execution_count": null,
   "id": "dab870d3-acfa-4393-b24c-c0eb4abd863c",
   "metadata": {},
   "outputs": [],
   "source": []
  },
  {
   "cell_type": "code",
   "execution_count": null,
   "id": "33a2c9c1-644e-4e64-a455-8553eceefcf3",
   "metadata": {},
   "outputs": [],
   "source": []
  },
  {
   "cell_type": "code",
   "execution_count": null,
   "id": "dfe9f377-e66d-4708-af27-5b4d7b3ef37c",
   "metadata": {},
   "outputs": [],
   "source": []
  },
  {
   "cell_type": "code",
   "execution_count": null,
   "id": "c9f179f3-ef0d-4ba0-bad3-6cf362cb28fb",
   "metadata": {},
   "outputs": [],
   "source": []
  },
  {
   "cell_type": "code",
   "execution_count": null,
   "id": "648ed2ab-32ee-41a5-b646-d593312a0a71",
   "metadata": {},
   "outputs": [],
   "source": []
  },
  {
   "cell_type": "code",
   "execution_count": null,
   "id": "a49c6baf-2b96-473a-b443-5127d6555017",
   "metadata": {},
   "outputs": [],
   "source": []
  },
  {
   "cell_type": "code",
   "execution_count": null,
   "id": "7642c11a-eb87-46dd-9396-8290adf248f5",
   "metadata": {},
   "outputs": [],
   "source": []
  },
  {
   "cell_type": "code",
   "execution_count": null,
   "id": "8626a35c-2d4f-4a1e-8ed6-04bfa68c359a",
   "metadata": {},
   "outputs": [],
   "source": []
  },
  {
   "cell_type": "code",
   "execution_count": null,
   "id": "995d4a2e-5696-4579-957b-cb6c7795a46b",
   "metadata": {},
   "outputs": [],
   "source": []
  },
  {
   "cell_type": "code",
   "execution_count": null,
   "id": "448c58d2-c99c-4ffb-857b-3fade25101cf",
   "metadata": {},
   "outputs": [],
   "source": []
  },
  {
   "cell_type": "code",
   "execution_count": null,
   "id": "801488c6-94c8-4475-bc6a-be806f8af87c",
   "metadata": {},
   "outputs": [],
   "source": []
  },
  {
   "cell_type": "code",
   "execution_count": null,
   "id": "6cc63ba9-f547-4050-a506-a1e0704a7559",
   "metadata": {},
   "outputs": [],
   "source": []
  },
  {
   "cell_type": "code",
   "execution_count": null,
   "id": "5c120f6b-5fa9-4210-8b4c-93d306a08887",
   "metadata": {},
   "outputs": [],
   "source": []
  },
  {
   "cell_type": "code",
   "execution_count": null,
   "id": "adee1c48-8c69-469a-a89d-5f21d3fc8a81",
   "metadata": {},
   "outputs": [],
   "source": []
  },
  {
   "cell_type": "code",
   "execution_count": null,
   "id": "38afe14a-b801-4cd0-b42e-8e620c544e9b",
   "metadata": {},
   "outputs": [],
   "source": []
  },
  {
   "cell_type": "code",
   "execution_count": null,
   "id": "43cc0512-88d3-443c-be23-213499b90974",
   "metadata": {},
   "outputs": [],
   "source": []
  },
  {
   "cell_type": "code",
   "execution_count": null,
   "id": "327d5dcf-a23f-473a-a85e-c42e1a4c450d",
   "metadata": {},
   "outputs": [],
   "source": []
  },
  {
   "cell_type": "code",
   "execution_count": null,
   "id": "8d7a3514-d5a3-4bdc-8d1f-50678b9dfbc8",
   "metadata": {},
   "outputs": [],
   "source": []
  },
  {
   "cell_type": "code",
   "execution_count": null,
   "id": "85d72161-e718-4c66-bc59-a3569b7f7616",
   "metadata": {},
   "outputs": [],
   "source": []
  },
  {
   "cell_type": "code",
   "execution_count": null,
   "id": "214654cc-9758-48f9-92e2-0892029c4512",
   "metadata": {},
   "outputs": [],
   "source": []
  },
  {
   "cell_type": "code",
   "execution_count": null,
   "id": "a9d78aa3-0be8-49e6-8bfb-cb9a232ee1ee",
   "metadata": {},
   "outputs": [],
   "source": []
  },
  {
   "cell_type": "code",
   "execution_count": null,
   "id": "01785a18-9bb0-4dbc-9eae-04addf6dede9",
   "metadata": {},
   "outputs": [],
   "source": []
  },
  {
   "cell_type": "code",
   "execution_count": null,
   "id": "43a3d5aa-4f07-48f4-b7c3-5c63612f0fb2",
   "metadata": {},
   "outputs": [],
   "source": []
  },
  {
   "cell_type": "code",
   "execution_count": null,
   "id": "248adc40-6e77-4203-9830-de838e25a00a",
   "metadata": {},
   "outputs": [],
   "source": []
  },
  {
   "cell_type": "code",
   "execution_count": null,
   "id": "a2029d6d-bf22-4e16-87e1-d609762dc867",
   "metadata": {},
   "outputs": [],
   "source": []
  },
  {
   "cell_type": "code",
   "execution_count": null,
   "id": "c9dfaad9-504c-4853-886b-2d1adb1cc3a0",
   "metadata": {},
   "outputs": [],
   "source": []
  },
  {
   "cell_type": "code",
   "execution_count": null,
   "id": "454d5b84-fc57-44ab-a6f0-3123333998cb",
   "metadata": {},
   "outputs": [],
   "source": []
  },
  {
   "cell_type": "code",
   "execution_count": null,
   "id": "d471d21b-6fe5-4c63-90be-5176c4cbd08b",
   "metadata": {},
   "outputs": [],
   "source": []
  },
  {
   "cell_type": "code",
   "execution_count": null,
   "id": "73b88b7e-0be6-4a82-9c02-f3df8af20015",
   "metadata": {},
   "outputs": [],
   "source": []
  },
  {
   "cell_type": "code",
   "execution_count": null,
   "id": "7ab8257a-c30b-45b6-a784-729b67686791",
   "metadata": {},
   "outputs": [],
   "source": [
    "#| hide\n",
    "import nbdev; nbdev.nbdev_export()"
   ]
  }
 ],
 "metadata": {
  "kernelspec": {
   "display_name": "python3",
   "language": "python",
   "name": "python3"
  }
 },
 "nbformat": 4,
 "nbformat_minor": 5
}
