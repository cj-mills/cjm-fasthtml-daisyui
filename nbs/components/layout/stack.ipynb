{
 "cells": [
  {
   "cell_type": "markdown",
   "id": "7c51b46b-ece1-456d-8e84-7de122e72b62",
   "metadata": {},
   "source": [
    "# stack\n",
    "\n",
    "> Stack visually puts elements on top of each other."
   ]
  },
  {
   "cell_type": "code",
   "execution_count": null,
   "id": "25536bdc-e099-477f-9e2d-a5f71df5dff2",
   "metadata": {},
   "outputs": [],
   "source": [
    "#| default_exp components.layout.stack"
   ]
  },
  {
   "cell_type": "code",
   "execution_count": null,
   "id": "2e6f21ce-7766-455a-8ebb-df2c17e7d977",
   "metadata": {},
   "outputs": [],
   "source": [
    "#| hide\n",
    "from nbdev.showdoc import *"
   ]
  },
  {
   "cell_type": "code",
   "execution_count": null,
   "id": "045c6538-403e-4222-b3bb-db20f188524d",
   "metadata": {},
   "outputs": [],
   "source": [
    "#| export\n",
    "from enum import Enum\n",
    "from cjm_fasthtml_tailwind.core.base import (\n",
    "    SingleValueFactory, combine_classes\n",
    ")\n",
    "from cjm_fasthtml_tailwind.builders.scales import SimpleFactory, enums_to_simple_factory\n",
    "\n",
    "from fasthtml.common import Div\n",
    "from fasthtml.jupyter import JupyUvi, HTMX\n",
    "from cjm_fasthtml_daisyui.core.testing import create_test_app, create_test_page, start_test_server\n",
    "from cjm_fasthtml_daisyui.core.themes import DaisyUITheme\n",
    "from IPython.display import display"
   ]
  },
  {
   "cell_type": "markdown",
   "id": "98485167-415c-4ebb-8f62-1f54ec7867c6",
   "metadata": {},
   "source": [
    "### Base Stack"
   ]
  },
  {
   "cell_type": "code",
   "execution_count": null,
   "id": "c802d106-49fb-4d34-ba04-5f54c88e165b",
   "metadata": {},
   "outputs": [],
   "source": [
    "#| export\n",
    "stack = SingleValueFactory(\"stack\", \"Base stack component that puts the children elements on top of each other\") # Base stack component"
   ]
  },
  {
   "cell_type": "markdown",
   "id": "fd68d73f-1031-4a60-a403-598946d1e01c",
   "metadata": {},
   "source": [
    "### Stack Modifiers"
   ]
  },
  {
   "cell_type": "code",
   "execution_count": null,
   "id": "35666796-657f-4df9-9c20-0c09d2b1be8a",
   "metadata": {},
   "outputs": [],
   "source": [
    "#| export\n",
    "class StackModifier(str, Enum):\n",
    "    TOP = \"top\"\n",
    "    BOTTOM = \"bottom\"\n",
    "    START = \"start\"\n",
    "    END = \"end\"\n",
    "\n",
    "stack_modifiers = enums_to_simple_factory(stack, [StackModifier]) # stack modifiers"
   ]
  },
  {
   "cell_type": "markdown",
   "id": "881b02f1-8c11-472c-a3d0-6909b46a48c1",
   "metadata": {},
   "source": [
    "### Stack Test Examples"
   ]
  },
  {
   "cell_type": "code",
   "execution_count": null,
   "id": "91bf40ff-7a25-4d47-adbf-e9b5266cfb66",
   "metadata": {},
   "outputs": [],
   "source": [
    "#| export\n",
    "def test_stack_basic_examples():\n",
    "    \"\"\"Test basic stack utilities.\"\"\"\n",
    "    # Basic stack\n",
    "    assert str(stack) == \"stack\"\n",
    "    \n",
    "    # Test with modifiers\n",
    "    assert str(stack.hover) == \"hover:stack\"\n",
    "    assert str(stack.md) == \"md:stack\"\n",
    "    assert str(stack.dark) == \"dark:stack\"\n",
    "\n",
    "# Run the tests\n",
    "test_stack_basic_examples()"
   ]
  },
  {
   "cell_type": "code",
   "execution_count": null,
   "id": "cebabfd6-1d64-4c65-948d-b056dc6727c7",
   "metadata": {},
   "outputs": [],
   "source": [
    "#| export\n",
    "def test_stack_modifiers_examples():\n",
    "    \"\"\"Test stack modifier utilities.\"\"\"\n",
    "    assert str(stack_modifiers.top) == \"stack-top\"\n",
    "    assert str(stack_modifiers.bottom) == \"stack-bottom\"\n",
    "    assert str(stack_modifiers.start) == \"stack-start\"\n",
    "    assert str(stack_modifiers.end) == \"stack-end\"\n",
    "\n",
    "# Run the tests\n",
    "test_stack_modifiers_examples()"
   ]
  },
  {
   "cell_type": "code",
   "execution_count": null,
   "id": "636c6bcd-2176-4191-aa39-c937893243e2",
   "metadata": {},
   "outputs": [],
   "source": []
  },
  {
   "cell_type": "code",
   "execution_count": null,
   "id": "ad2d932c-79ea-4792-bdaf-5bda859340ca",
   "metadata": {},
   "outputs": [],
   "source": []
  },
  {
   "cell_type": "code",
   "execution_count": null,
   "id": "3035ff66-e4e7-410c-8b1e-86a879f66112",
   "metadata": {},
   "outputs": [],
   "source": []
  },
  {
   "cell_type": "code",
   "execution_count": null,
   "id": "4666a5a3-26bb-4d91-b5be-f941df8f9d2f",
   "metadata": {},
   "outputs": [],
   "source": []
  },
  {
   "cell_type": "code",
   "execution_count": null,
   "id": "85d72161-e718-4c66-bc59-a3569b7f7616",
   "metadata": {},
   "outputs": [],
   "source": []
  },
  {
   "cell_type": "code",
   "execution_count": null,
   "id": "214654cc-9758-48f9-92e2-0892029c4512",
   "metadata": {},
   "outputs": [],
   "source": []
  },
  {
   "cell_type": "code",
   "execution_count": null,
   "id": "a9d78aa3-0be8-49e6-8bfb-cb9a232ee1ee",
   "metadata": {},
   "outputs": [],
   "source": []
  },
  {
   "cell_type": "code",
   "execution_count": null,
   "id": "01785a18-9bb0-4dbc-9eae-04addf6dede9",
   "metadata": {},
   "outputs": [],
   "source": []
  },
  {
   "cell_type": "code",
   "execution_count": null,
   "id": "43a3d5aa-4f07-48f4-b7c3-5c63612f0fb2",
   "metadata": {},
   "outputs": [],
   "source": []
  },
  {
   "cell_type": "code",
   "execution_count": null,
   "id": "248adc40-6e77-4203-9830-de838e25a00a",
   "metadata": {},
   "outputs": [],
   "source": []
  },
  {
   "cell_type": "code",
   "execution_count": null,
   "id": "a2029d6d-bf22-4e16-87e1-d609762dc867",
   "metadata": {},
   "outputs": [],
   "source": []
  },
  {
   "cell_type": "code",
   "execution_count": null,
   "id": "c9dfaad9-504c-4853-886b-2d1adb1cc3a0",
   "metadata": {},
   "outputs": [],
   "source": []
  },
  {
   "cell_type": "code",
   "execution_count": null,
   "id": "454d5b84-fc57-44ab-a6f0-3123333998cb",
   "metadata": {},
   "outputs": [],
   "source": []
  },
  {
   "cell_type": "code",
   "execution_count": null,
   "id": "d471d21b-6fe5-4c63-90be-5176c4cbd08b",
   "metadata": {},
   "outputs": [],
   "source": []
  },
  {
   "cell_type": "code",
   "execution_count": null,
   "id": "73b88b7e-0be6-4a82-9c02-f3df8af20015",
   "metadata": {},
   "outputs": [],
   "source": []
  },
  {
   "cell_type": "code",
   "execution_count": null,
   "id": "7ab8257a-c30b-45b6-a784-729b67686791",
   "metadata": {},
   "outputs": [],
   "source": [
    "#| hide\n",
    "import nbdev; nbdev.nbdev_export()"
   ]
  }
 ],
 "metadata": {
  "kernelspec": {
   "display_name": "python3",
   "language": "python",
   "name": "python3"
  }
 },
 "nbformat": 4,
 "nbformat_minor": 5
}
