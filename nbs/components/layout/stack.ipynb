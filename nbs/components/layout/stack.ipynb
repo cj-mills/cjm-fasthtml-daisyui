{
 "cells": [
  {
   "cell_type": "markdown",
   "id": "7c51b46b-ece1-456d-8e84-7de122e72b62",
   "metadata": {},
   "source": [
    "# stack\n",
    "\n",
    "> Stack visually puts elements on top of each other."
   ]
  },
  {
   "cell_type": "code",
   "execution_count": null,
   "id": "25536bdc-e099-477f-9e2d-a5f71df5dff2",
   "metadata": {},
   "outputs": [],
   "source": [
    "#| default_exp components.layout.stack"
   ]
  },
  {
   "cell_type": "code",
   "execution_count": null,
   "id": "2e6f21ce-7766-455a-8ebb-df2c17e7d977",
   "metadata": {},
   "outputs": [],
   "source": [
    "#| hide\n",
    "from nbdev.showdoc import *"
   ]
  },
  {
   "cell_type": "code",
   "execution_count": null,
   "id": "045c6538-403e-4222-b3bb-db20f188524d",
   "metadata": {},
   "outputs": [],
   "source": [
    "#| export\n",
    "from enum import Enum\n",
    "from cjm_fasthtml_tailwind.core.base import (\n",
    "    SingleValueFactory, combine_classes\n",
    ")\n",
    "from cjm_fasthtml_tailwind.builders.scales import SimpleFactory, enums_to_simple_factory\n",
    "\n",
    "from fasthtml.common import Div\n",
    "from fasthtml.jupyter import JupyUvi, HTMX\n",
    "from cjm_fasthtml_daisyui.core.testing import create_test_app, create_test_page, start_test_server\n",
    "from cjm_fasthtml_daisyui.core.themes import DaisyUITheme\n",
    "from IPython.display import display"
   ]
  },
  {
   "cell_type": "markdown",
   "id": "98485167-415c-4ebb-8f62-1f54ec7867c6",
   "metadata": {},
   "source": [
    "### Base Stack"
   ]
  },
  {
   "cell_type": "code",
   "execution_count": null,
   "id": "c802d106-49fb-4d34-ba04-5f54c88e165b",
   "metadata": {},
   "outputs": [],
   "source": [
    "#| exports\n",
    "stack = SingleValueFactory(\"stack\", \"Base stack component that puts the children elements on top of each other\") # Base stack component"
   ]
  },
  {
   "cell_type": "markdown",
   "id": "fd68d73f-1031-4a60-a403-598946d1e01c",
   "metadata": {},
   "source": [
    "### Stack Modifiers"
   ]
  },
  {
   "cell_type": "code",
   "execution_count": null,
   "id": "35666796-657f-4df9-9c20-0c09d2b1be8a",
   "metadata": {},
   "outputs": [],
   "source": [
    "#| exports\n",
    "class StackModifier(str, Enum):\n",
    "    TOP = \"top\"\n",
    "    BOTTOM = \"bottom\"\n",
    "    START = \"start\"\n",
    "    END = \"end\"\n",
    "\n",
    "stack_modifiers = enums_to_simple_factory(stack, [StackModifier]) # stack modifiers"
   ]
  },
  {
   "cell_type": "markdown",
   "id": "881b02f1-8c11-472c-a3d0-6909b46a48c1",
   "metadata": {},
   "source": [
    "### Stack Test Examples"
   ]
  },
  {
   "cell_type": "code",
   "execution_count": null,
   "id": "91bf40ff-7a25-4d47-adbf-e9b5266cfb66",
   "metadata": {},
   "outputs": [],
   "source": [
    "#|exports\n",
    "def test_stack_basic_examples():\n",
    "    \"\"\"Test basic stack utilities.\"\"\"\n",
    "    # Basic stack\n",
    "    assert str(stack) == \"stack\"\n",
    "    \n",
    "    # Test with modifiers\n",
    "    assert str(stack.hover) == \"hover:stack\"\n",
    "    assert str(stack.md) == \"md:stack\"\n",
    "    assert str(stack.dark) == \"dark:stack\"\n",
    "\n",
    "# Run the tests\n",
    "test_stack_basic_examples()"
   ]
  },
  {
   "cell_type": "code",
   "execution_count": null,
   "id": "cebabfd6-1d64-4c65-948d-b056dc6727c7",
   "metadata": {},
   "outputs": [],
   "source": [
    "#|exports\n",
    "def test_stack_modifiers_examples():\n",
    "    \"\"\"Test stack modifier utilities.\"\"\"\n",
    "    assert str(stack_modifiers.top) == \"stack-top\"\n",
    "    assert str(stack_modifiers.bottom) == \"stack-bottom\"\n",
    "    assert str(stack_modifiers.start) == \"stack-start\"\n",
    "    assert str(stack_modifiers.end) == \"stack-end\"\n",
    "\n",
    "# Run the tests\n",
    "test_stack_modifiers_examples()"
   ]
  },
  {
   "cell_type": "code",
   "execution_count": null,
   "id": "9c7ebddc-7372-4325-83f1-e2307903c96d",
   "metadata": {},
   "outputs": [
    {
     "data": {
      "text/markdown": [
       "```html\n",
       "<div class=\"stack h-20 w-32\">\n",
       "  <div class=\"bg-primary text-primary-content grid place-content-center rounded-box\">1</div>\n",
       "  <div class=\"bg-accent text-accent-content grid place-content-center rounded-box\">2</div>\n",
       "  <div class=\"bg-secondary text-secondary-content grid place-content-center rounded-box\">3</div>\n",
       "</div>\n",
       "\n",
       "```"
      ],
      "text/plain": [
       "div((div(('1',),{'class': 'bg-primary text-primary-content grid place-content-center rounded-box'}), div(('2',),{'class': 'bg-accent text-accent-content grid place-content-center rounded-box'}), div(('3',),{'class': 'bg-secondary text-secondary-content grid place-content-center rounded-box'})),{'class': 'stack h-20 w-32'})"
      ]
     },
     "execution_count": null,
     "metadata": {},
     "output_type": "execute_result"
    }
   ],
   "source": [
    "#|exports\n",
    "def test_stack_basic_divs_fasthtml_examples():\n",
    "    \"\"\"Test basic stack with 3 divs from daisyUI v5 documentation.\"\"\"\n",
    "    from fasthtml.common import Div\n",
    "    from cjm_fasthtml_tailwind.utilities.sizing import h, w\n",
    "    from cjm_fasthtml_tailwind.utilities.layout import display_tw\n",
    "    from cjm_fasthtml_tailwind.utilities.flexbox_and_grid import place_content\n",
    "    from cjm_fasthtml_daisyui.core.utility_classes import bg_dui, text_dui, border_radius\n",
    "    \n",
    "    # 3 divs in a stack\n",
    "    stack_divs = Div(\n",
    "        Div(\"1\", cls=combine_classes(bg_dui.primary, text_dui.primary_content, display_tw.grid, place_content.center, border_radius.box)),\n",
    "        Div(\"2\", cls=combine_classes(bg_dui.accent, text_dui.accent_content, display_tw.grid, place_content.center, border_radius.box)),\n",
    "        Div(\"3\", cls=combine_classes(bg_dui.secondary, text_dui.secondary_content, display_tw.grid, place_content.center, border_radius.box)),\n",
    "        cls=combine_classes(stack, h._20, w._32)\n",
    "    )\n",
    "    \n",
    "    # Verify structure\n",
    "    assert stack_divs.tag == \"div\"\n",
    "    assert \"stack\" in stack_divs.attrs['class']\n",
    "    assert \"h-20\" in stack_divs.attrs['class']\n",
    "    assert \"w-32\" in stack_divs.attrs['class']\n",
    "    \n",
    "    # Verify all three divs\n",
    "    assert len(stack_divs.children) == 3\n",
    "    \n",
    "    # First div\n",
    "    first_div = stack_divs.children[0]\n",
    "    assert first_div.tag == \"div\"\n",
    "    assert \"bg-primary\" in first_div.attrs['class']\n",
    "    assert \"text-primary-content\" in first_div.attrs['class']\n",
    "    assert \"grid\" in first_div.attrs['class']\n",
    "    assert \"place-content-center\" in first_div.attrs['class']\n",
    "    assert \"rounded-box\" in first_div.attrs['class']\n",
    "    assert first_div.children[0] == \"1\"\n",
    "    \n",
    "    # Second div\n",
    "    second_div = stack_divs.children[1]\n",
    "    assert \"bg-accent\" in second_div.attrs['class']\n",
    "    assert \"text-accent-content\" in second_div.attrs['class']\n",
    "    assert second_div.children[0] == \"2\"\n",
    "    \n",
    "    # Third div\n",
    "    third_div = stack_divs.children[2]\n",
    "    assert \"bg-secondary\" in third_div.attrs['class']\n",
    "    assert \"text-secondary-content\" in third_div.attrs['class']\n",
    "    assert third_div.children[0] == \"3\"\n",
    "    \n",
    "    return stack_divs\n",
    "\n",
    "# Run the tests\n",
    "test_stack_basic_divs_fasthtml_examples()"
   ]
  },
  {
   "cell_type": "code",
   "execution_count": null,
   "id": "3d8885f0-8321-405a-bd63-aaf6c7bde30a",
   "metadata": {},
   "outputs": [
    {
     "data": {
      "text/html": [
       "\n",
       "<script>\n",
       "document.body.addEventListener('htmx:configRequest', (event) => {\n",
       "    if(event.detail.path.includes('://')) return;\n",
       "    htmx.config.selfRequestsOnly=false;\n",
       "    event.detail.path = `${location.protocol}//${location.hostname}:8000${event.detail.path}`;\n",
       "});\n",
       "</script>"
      ],
      "text/plain": [
       "<IPython.core.display.HTML object>"
      ]
     },
     "metadata": {},
     "output_type": "display_data"
    },
    {
     "data": {
      "text/html": [
       "<iframe src=\"http://localhost:8000/\" style=\"width: 100%; height: auto; border: none;\" onload=\"{\n",
       "        let frame = this;\n",
       "        window.addEventListener('message', function(e) {\n",
       "            if (e.source !== frame.contentWindow) return; // Only proceed if the message is from this iframe\n",
       "            if (e.data.height) frame.style.height = (e.data.height+1) + 'px';\n",
       "        }, false);\n",
       "    }\" allow=\"accelerometer; autoplay; camera; clipboard-read; clipboard-write; display-capture; encrypted-media; fullscreen; gamepad; geolocation; gyroscope; hid; identity-credentials-get; idle-detection; magnetometer; microphone; midi; payment; picture-in-picture; publickey-credentials-get; screen-wake-lock; serial; usb; web-share; xr-spatial-tracking\"></iframe> "
      ],
      "text/plain": [
       "<IPython.core.display.HTML object>"
      ]
     },
     "metadata": {},
     "output_type": "display_data"
    }
   ],
   "source": [
    "#| eval: false\n",
    "#| output: false\n",
    "test_func = test_stack_basic_divs_fasthtml_examples\n",
    "app, rt = create_test_app(theme=DaisyUITheme.LIGHT)\n",
    "\n",
    "@rt\n",
    "def index():\n",
    "    return create_test_page(test_func.__doc__.title().replace('.', ''), test_func())\n",
    "server = start_test_server(app)\n",
    "display(HTMX())\n",
    "server.stop()"
   ]
  },
  {
   "cell_type": "code",
   "execution_count": null,
   "id": "71f60526-2e8c-4a1e-b726-ec18f2d6cc16",
   "metadata": {},
   "outputs": [
    {
     "data": {
      "text/markdown": [
       "```html\n",
       "<div class=\"stack w-48\">\n",
       "<img src=\"https://img.daisyui.com/images/stock/photo-1572635148818-ef6fd45eb394.webp\" class=\"rounded-box\"><img src=\"https://img.daisyui.com/images/stock/photo-1565098772267-60af42b81ef2.webp\" class=\"rounded-box\"><img src=\"https://img.daisyui.com/images/stock/photo-1559703248-dcaaec9fab78.webp\" class=\"rounded-box\"></div>\n",
       "\n",
       "```"
      ],
      "text/plain": [
       "div((img((),{'src': 'https://img.daisyui.com/images/stock/photo-1572635148818-ef6fd45eb394.webp', 'class': 'rounded-box'}), img((),{'src': 'https://img.daisyui.com/images/stock/photo-1565098772267-60af42b81ef2.webp', 'class': 'rounded-box'}), img((),{'src': 'https://img.daisyui.com/images/stock/photo-1559703248-dcaaec9fab78.webp', 'class': 'rounded-box'})),{'class': 'stack w-48'})"
      ]
     },
     "execution_count": null,
     "metadata": {},
     "output_type": "execute_result"
    }
   ],
   "source": [
    "#|exports\n",
    "def test_stack_images_fasthtml_examples():\n",
    "    \"\"\"Test stacked images from daisyUI v5 documentation.\"\"\"\n",
    "    from fasthtml.common import Div, Img\n",
    "    from cjm_fasthtml_tailwind.utilities.sizing import w\n",
    "    from cjm_fasthtml_daisyui.core.utility_classes import border_radius\n",
    "    \n",
    "    # Stacked images\n",
    "    stack_images = Div(\n",
    "        Img(src=\"https://img.daisyui.com/images/stock/photo-1572635148818-ef6fd45eb394.webp\", cls=str(border_radius.box)),\n",
    "        Img(src=\"https://img.daisyui.com/images/stock/photo-1565098772267-60af42b81ef2.webp\", cls=str(border_radius.box)),\n",
    "        Img(src=\"https://img.daisyui.com/images/stock/photo-1559703248-dcaaec9fab78.webp\", cls=str(border_radius.box)),\n",
    "        cls=combine_classes(stack, w._48)\n",
    "    )\n",
    "    \n",
    "    # Verify structure\n",
    "    assert stack_images.tag == \"div\"\n",
    "    assert \"stack\" in stack_images.attrs['class']\n",
    "    assert \"w-48\" in stack_images.attrs['class']\n",
    "    \n",
    "    # Verify all three images\n",
    "    assert len(stack_images.children) == 3\n",
    "    \n",
    "    # First image\n",
    "    first_img = stack_images.children[0]\n",
    "    assert first_img.tag == \"img\"\n",
    "    assert first_img.attrs['src'] == \"https://img.daisyui.com/images/stock/photo-1572635148818-ef6fd45eb394.webp\"\n",
    "    assert first_img.attrs['class'] == \"rounded-box\"\n",
    "    \n",
    "    # Second image\n",
    "    second_img = stack_images.children[1]\n",
    "    assert second_img.tag == \"img\"\n",
    "    assert second_img.attrs['src'] == \"https://img.daisyui.com/images/stock/photo-1565098772267-60af42b81ef2.webp\"\n",
    "    assert second_img.attrs['class'] == \"rounded-box\"\n",
    "    \n",
    "    # Third image\n",
    "    third_img = stack_images.children[2]\n",
    "    assert third_img.tag == \"img\"\n",
    "    assert third_img.attrs['src'] == \"https://img.daisyui.com/images/stock/photo-1559703248-dcaaec9fab78.webp\"\n",
    "    assert third_img.attrs['class'] == \"rounded-box\"\n",
    "    \n",
    "    return stack_images\n",
    "\n",
    "# Run the tests\n",
    "test_stack_images_fasthtml_examples()"
   ]
  },
  {
   "cell_type": "code",
   "execution_count": null,
   "id": "184f852b-7f9a-42e3-ae25-ec78fc7e7b47",
   "metadata": {},
   "outputs": [
    {
     "data": {
      "text/html": [
       "\n",
       "<script>\n",
       "document.body.addEventListener('htmx:configRequest', (event) => {\n",
       "    if(event.detail.path.includes('://')) return;\n",
       "    htmx.config.selfRequestsOnly=false;\n",
       "    event.detail.path = `${location.protocol}//${location.hostname}:8000${event.detail.path}`;\n",
       "});\n",
       "</script>"
      ],
      "text/plain": [
       "<IPython.core.display.HTML object>"
      ]
     },
     "metadata": {},
     "output_type": "display_data"
    },
    {
     "data": {
      "text/html": [
       "<iframe src=\"http://localhost:8000/\" style=\"width: 100%; height: auto; border: none;\" onload=\"{\n",
       "        let frame = this;\n",
       "        window.addEventListener('message', function(e) {\n",
       "            if (e.source !== frame.contentWindow) return; // Only proceed if the message is from this iframe\n",
       "            if (e.data.height) frame.style.height = (e.data.height+1) + 'px';\n",
       "        }, false);\n",
       "    }\" allow=\"accelerometer; autoplay; camera; clipboard-read; clipboard-write; display-capture; encrypted-media; fullscreen; gamepad; geolocation; gyroscope; hid; identity-credentials-get; idle-detection; magnetometer; microphone; midi; payment; picture-in-picture; publickey-credentials-get; screen-wake-lock; serial; usb; web-share; xr-spatial-tracking\"></iframe> "
      ],
      "text/plain": [
       "<IPython.core.display.HTML object>"
      ]
     },
     "metadata": {},
     "output_type": "display_data"
    }
   ],
   "source": [
    "#| eval: false\n",
    "#| output: false\n",
    "test_func = test_stack_images_fasthtml_examples\n",
    "app, rt = create_test_app(theme=DaisyUITheme.LIGHT)\n",
    "\n",
    "@rt\n",
    "def index():\n",
    "    return create_test_page(test_func.__doc__.title().replace('.', ''), test_func())\n",
    "server = start_test_server(app)\n",
    "display(HTMX())\n",
    "server.stop()"
   ]
  },
  {
   "cell_type": "code",
   "execution_count": null,
   "id": "5b25007e-1f58-4d7b-8c57-ead6816208c7",
   "metadata": {},
   "outputs": [
    {
     "data": {
      "text/markdown": [
       "```html\n",
       "<div class=\"stack size-28\">\n",
       "  <div class=\"border-base-content card bg-base-100 border text-center\">\n",
       "    <div class=\"card-body\">A</div>\n",
       "  </div>\n",
       "  <div class=\"border-base-content card bg-base-100 border text-center\">\n",
       "    <div class=\"card-body\">B</div>\n",
       "  </div>\n",
       "  <div class=\"border-base-content card bg-base-100 border text-center\">\n",
       "    <div class=\"card-body\">C</div>\n",
       "  </div>\n",
       "</div>\n",
       "\n",
       "```"
      ],
      "text/plain": [
       "div((div((div(('A',),{'class': 'card-body'}),),{'class': 'border-base-content card bg-base-100 border text-center'}), div((div(('B',),{'class': 'card-body'}),),{'class': 'border-base-content card bg-base-100 border text-center'}), div((div(('C',),{'class': 'card-body'}),),{'class': 'border-base-content card bg-base-100 border text-center'})),{'class': 'stack size-28'})"
      ]
     },
     "execution_count": null,
     "metadata": {},
     "output_type": "execute_result"
    }
   ],
   "source": [
    "#|exports\n",
    "def test_stack_cards_fasthtml_examples():\n",
    "    \"\"\"Test stacked cards from daisyUI v5 documentation.\"\"\"\n",
    "    from fasthtml.common import Div\n",
    "    from cjm_fasthtml_tailwind.utilities.sizing import size_util\n",
    "    from cjm_fasthtml_tailwind.utilities.borders import border\n",
    "    from cjm_fasthtml_tailwind.utilities.typography import text_align\n",
    "    from cjm_fasthtml_daisyui.core.utility_classes import bg_dui, border_dui\n",
    "    from cjm_fasthtml_daisyui.components.data_display.card import card, card_body\n",
    "    \n",
    "    # Stacked cards\n",
    "    stack_cards = Div(\n",
    "        Div(\n",
    "            Div(\"A\", cls=str(card_body)),\n",
    "            cls=combine_classes(border_dui.base_content, card, bg_dui.base_100, border(), text_align.center)\n",
    "        ),\n",
    "        Div(\n",
    "            Div(\"B\", cls=str(card_body)),\n",
    "            cls=combine_classes(border_dui.base_content, card, bg_dui.base_100, border(), text_align.center)\n",
    "        ),\n",
    "        Div(\n",
    "            Div(\"C\", cls=str(card_body)),\n",
    "            cls=combine_classes(border_dui.base_content, card, bg_dui.base_100, border(), text_align.center)\n",
    "        ),\n",
    "        cls=combine_classes(stack, size_util._28)\n",
    "    )\n",
    "    \n",
    "    # Verify structure\n",
    "    assert stack_cards.tag == \"div\"\n",
    "    assert \"stack\" in stack_cards.attrs['class']\n",
    "    assert \"size-28\" in stack_cards.attrs['class']\n",
    "    \n",
    "    # Verify all three cards\n",
    "    assert len(stack_cards.children) == 3\n",
    "    \n",
    "    for i, letter in enumerate([\"A\", \"B\", \"C\"]):\n",
    "        card_div = stack_cards.children[i]\n",
    "        assert card_div.tag == \"div\"\n",
    "        assert \"border-base-content\" in card_div.attrs['class']\n",
    "        assert \"card\" in card_div.attrs['class']\n",
    "        assert \"bg-base-100\" in card_div.attrs['class']\n",
    "        assert \"border\" in card_div.attrs['class']\n",
    "        assert \"text-center\" in card_div.attrs['class']\n",
    "        \n",
    "        # Verify card body\n",
    "        card_body_div = card_div.children[0]\n",
    "        assert card_body_div.tag == \"div\"\n",
    "        assert card_body_div.attrs['class'] == \"card-body\"\n",
    "        assert card_body_div.children[0] == letter\n",
    "    \n",
    "    return stack_cards\n",
    "\n",
    "# Run the tests\n",
    "test_stack_cards_fasthtml_examples()"
   ]
  },
  {
   "cell_type": "code",
   "execution_count": null,
   "id": "94e56df4-96c6-4936-aa92-5fbf27fc0d12",
   "metadata": {},
   "outputs": [
    {
     "data": {
      "text/html": [
       "\n",
       "<script>\n",
       "document.body.addEventListener('htmx:configRequest', (event) => {\n",
       "    if(event.detail.path.includes('://')) return;\n",
       "    htmx.config.selfRequestsOnly=false;\n",
       "    event.detail.path = `${location.protocol}//${location.hostname}:8000${event.detail.path}`;\n",
       "});\n",
       "</script>"
      ],
      "text/plain": [
       "<IPython.core.display.HTML object>"
      ]
     },
     "metadata": {},
     "output_type": "display_data"
    },
    {
     "data": {
      "text/html": [
       "<iframe src=\"http://localhost:8000/\" style=\"width: 100%; height: auto; border: none;\" onload=\"{\n",
       "        let frame = this;\n",
       "        window.addEventListener('message', function(e) {\n",
       "            if (e.source !== frame.contentWindow) return; // Only proceed if the message is from this iframe\n",
       "            if (e.data.height) frame.style.height = (e.data.height+1) + 'px';\n",
       "        }, false);\n",
       "    }\" allow=\"accelerometer; autoplay; camera; clipboard-read; clipboard-write; display-capture; encrypted-media; fullscreen; gamepad; geolocation; gyroscope; hid; identity-credentials-get; idle-detection; magnetometer; microphone; midi; payment; picture-in-picture; publickey-credentials-get; screen-wake-lock; serial; usb; web-share; xr-spatial-tracking\"></iframe> "
      ],
      "text/plain": [
       "<IPython.core.display.HTML object>"
      ]
     },
     "metadata": {},
     "output_type": "display_data"
    }
   ],
   "source": [
    "#| eval: false\n",
    "#| output: false\n",
    "test_func = test_stack_cards_fasthtml_examples\n",
    "app, rt = create_test_app(theme=DaisyUITheme.LIGHT)\n",
    "\n",
    "@rt\n",
    "def index():\n",
    "    return create_test_page(test_func.__doc__.title().replace('.', ''), test_func())\n",
    "server = start_test_server(app)\n",
    "display(HTMX())\n",
    "server.stop()"
   ]
  },
  {
   "cell_type": "code",
   "execution_count": null,
   "id": "38dbf601-95d2-4a5c-91f0-7e5d96e4d766",
   "metadata": {},
   "outputs": [
    {
     "data": {
      "text/markdown": [
       "```html\n",
       "<div>\n",
       "  <div class=\"stack stack-top size-28\">\n",
       "    <div class=\"border-base-content card bg-base-100 border text-center\">\n",
       "      <div class=\"card-body\">A</div>\n",
       "    </div>\n",
       "    <div class=\"border-base-content card bg-base-100 border text-center\">\n",
       "      <div class=\"card-body\">B</div>\n",
       "    </div>\n",
       "    <div class=\"border-base-content card bg-base-100 border text-center\">\n",
       "      <div class=\"card-body\">C</div>\n",
       "    </div>\n",
       "  </div>\n",
       "  <div class=\"stack stack-start size-28\">\n",
       "    <div class=\"border-base-content card bg-base-100 border text-center\">\n",
       "      <div class=\"card-body\">A</div>\n",
       "    </div>\n",
       "    <div class=\"border-base-content card bg-base-100 border text-center\">\n",
       "      <div class=\"card-body\">B</div>\n",
       "    </div>\n",
       "    <div class=\"border-base-content card bg-base-100 border text-center\">\n",
       "      <div class=\"card-body\">C</div>\n",
       "    </div>\n",
       "  </div>\n",
       "  <div class=\"stack stack-end size-28\">\n",
       "    <div class=\"border-base-content card bg-base-100 border text-center\">\n",
       "      <div class=\"card-body\">A</div>\n",
       "    </div>\n",
       "    <div class=\"border-base-content card bg-base-100 border text-center\">\n",
       "      <div class=\"card-body\">B</div>\n",
       "    </div>\n",
       "    <div class=\"border-base-content card bg-base-100 border text-center\">\n",
       "      <div class=\"card-body\">C</div>\n",
       "    </div>\n",
       "  </div>\n",
       "</div>\n",
       "\n",
       "```"
      ],
      "text/plain": [
       "div((div((div((div(('A',),{'class': 'card-body'}),),{'class': 'border-base-content card bg-base-100 border text-center'}), div((div(('B',),{'class': 'card-body'}),),{'class': 'border-base-content card bg-base-100 border text-center'}), div((div(('C',),{'class': 'card-body'}),),{'class': 'border-base-content card bg-base-100 border text-center'})),{'class': 'stack stack-top size-28'}), div((div((div(('A',),{'class': 'card-body'}),),{'class': 'border-base-content card bg-base-100 border text-center'}), div((div(('B',),{'class': 'card-body'}),),{'class': 'border-base-content card bg-base-100 border text-center'}), div((div(('C',),{'class': 'card-body'}),),{'class': 'border-base-content card bg-base-100 border text-center'})),{'class': 'stack stack-start size-28'}), div((div((div(('A',),{'class': 'card-body'}),),{'class': 'border-base-content card bg-base-100 border text-center'}), div((div(('B',),{'class': 'card-body'}),),{'class': 'border-base-content card bg-base-100 border text-center'}), div((div(('C',),{'class': 'card-body'}),),{'class': 'border-base-content card bg-base-100 border text-center'})),{'class': 'stack stack-end size-28'})),{})"
      ]
     },
     "execution_count": null,
     "metadata": {},
     "output_type": "execute_result"
    }
   ],
   "source": [
    "#|exports\n",
    "def test_stack_cards_directions_fasthtml_examples():\n",
    "    \"\"\"Test stacked cards with different directions from daisyUI v5 documentation.\"\"\"\n",
    "    from fasthtml.common import Div\n",
    "    from cjm_fasthtml_tailwind.utilities.sizing import size_util\n",
    "    from cjm_fasthtml_tailwind.utilities.borders import border\n",
    "    from cjm_fasthtml_tailwind.utilities.typography import text_align\n",
    "    from cjm_fasthtml_daisyui.core.utility_classes import bg_dui, border_dui\n",
    "    from cjm_fasthtml_daisyui.components.data_display.card import card, card_body\n",
    "    \n",
    "    # Helper function to create a card\n",
    "    def create_card(letter):\n",
    "        return Div(\n",
    "            Div(letter, cls=str(card_body)),\n",
    "            cls=combine_classes(border_dui.base_content, card, bg_dui.base_100, border(), text_align.center)\n",
    "        )\n",
    "    \n",
    "    # Stacked cards - top direction\n",
    "    stack_top = Div(\n",
    "        create_card(\"A\"),\n",
    "        create_card(\"B\"),\n",
    "        create_card(\"C\"),\n",
    "        cls=combine_classes(stack, stack_modifiers.top, size_util._28)\n",
    "    )\n",
    "    \n",
    "    # Verify top stack\n",
    "    assert \"stack\" in stack_top.attrs['class']\n",
    "    assert \"stack-top\" in stack_top.attrs['class']\n",
    "    assert \"size-28\" in stack_top.attrs['class']\n",
    "    assert len(stack_top.children) == 3\n",
    "    \n",
    "    # Stacked cards - start direction\n",
    "    stack_start = Div(\n",
    "        create_card(\"A\"),\n",
    "        create_card(\"B\"),\n",
    "        create_card(\"C\"),\n",
    "        cls=combine_classes(stack, stack_modifiers.start, size_util._28)\n",
    "    )\n",
    "    \n",
    "    # Verify start stack\n",
    "    assert \"stack\" in stack_start.attrs['class']\n",
    "    assert \"stack-start\" in stack_start.attrs['class']\n",
    "    assert \"size-28\" in stack_start.attrs['class']\n",
    "    assert len(stack_start.children) == 3\n",
    "    \n",
    "    # Stacked cards - end direction\n",
    "    stack_end = Div(\n",
    "        create_card(\"A\"),\n",
    "        create_card(\"B\"),\n",
    "        create_card(\"C\"),\n",
    "        cls=combine_classes(stack, stack_modifiers.end, size_util._28)\n",
    "    )\n",
    "    \n",
    "    # Verify end stack\n",
    "    assert \"stack\" in stack_end.attrs['class']\n",
    "    assert \"stack-end\" in stack_end.attrs['class']\n",
    "    assert \"size-28\" in stack_end.attrs['class']\n",
    "    assert len(stack_end.children) == 3\n",
    "    \n",
    "    # Verify all cards in each stack\n",
    "    for stack_element in [stack_top, stack_start, stack_end]:\n",
    "        for i, letter in enumerate([\"A\", \"B\", \"C\"]):\n",
    "            card_div = stack_element.children[i]\n",
    "            assert card_div.tag == \"div\"\n",
    "            assert \"card\" in card_div.attrs['class']\n",
    "            assert card_div.children[0].children[0] == letter\n",
    "    \n",
    "    return Div(stack_top, stack_start, stack_end)\n",
    "\n",
    "# Run the tests\n",
    "test_stack_cards_directions_fasthtml_examples()"
   ]
  },
  {
   "cell_type": "code",
   "execution_count": null,
   "id": "c3a291d0-56e3-4c7f-90c9-7a54b01718d1",
   "metadata": {},
   "outputs": [
    {
     "data": {
      "text/html": [
       "\n",
       "<script>\n",
       "document.body.addEventListener('htmx:configRequest', (event) => {\n",
       "    if(event.detail.path.includes('://')) return;\n",
       "    htmx.config.selfRequestsOnly=false;\n",
       "    event.detail.path = `${location.protocol}//${location.hostname}:8000${event.detail.path}`;\n",
       "});\n",
       "</script>"
      ],
      "text/plain": [
       "<IPython.core.display.HTML object>"
      ]
     },
     "metadata": {},
     "output_type": "display_data"
    },
    {
     "data": {
      "text/html": [
       "<iframe src=\"http://localhost:8000/\" style=\"width: 100%; height: auto; border: none;\" onload=\"{\n",
       "        let frame = this;\n",
       "        window.addEventListener('message', function(e) {\n",
       "            if (e.source !== frame.contentWindow) return; // Only proceed if the message is from this iframe\n",
       "            if (e.data.height) frame.style.height = (e.data.height+1) + 'px';\n",
       "        }, false);\n",
       "    }\" allow=\"accelerometer; autoplay; camera; clipboard-read; clipboard-write; display-capture; encrypted-media; fullscreen; gamepad; geolocation; gyroscope; hid; identity-credentials-get; idle-detection; magnetometer; microphone; midi; payment; picture-in-picture; publickey-credentials-get; screen-wake-lock; serial; usb; web-share; xr-spatial-tracking\"></iframe> "
      ],
      "text/plain": [
       "<IPython.core.display.HTML object>"
      ]
     },
     "metadata": {},
     "output_type": "display_data"
    }
   ],
   "source": [
    "#| eval: false\n",
    "#| output: false\n",
    "test_func = test_stack_cards_directions_fasthtml_examples\n",
    "app, rt = create_test_app(theme=DaisyUITheme.LIGHT)\n",
    "\n",
    "@rt\n",
    "def index():\n",
    "    return create_test_page(test_func.__doc__.title().replace('.', ''), test_func())\n",
    "server = start_test_server(app)\n",
    "display(HTMX())\n",
    "server.stop()"
   ]
  },
  {
   "cell_type": "code",
   "execution_count": null,
   "id": "75f098da-807f-41b1-beeb-b9b56eb748ca",
   "metadata": {},
   "outputs": [
    {
     "data": {
      "text/markdown": [
       "```html\n",
       "<div class=\"stack\">\n",
       "  <div class=\"card bg-base-200 text-center shadow-md\">\n",
       "    <div class=\"card-body\">A</div>\n",
       "  </div>\n",
       "  <div class=\"card bg-base-200 text-center shadow\">\n",
       "    <div class=\"card-body\">B</div>\n",
       "  </div>\n",
       "  <div class=\"card bg-base-200 text-center shadow-sm\">\n",
       "    <div class=\"card-body\">C</div>\n",
       "  </div>\n",
       "</div>\n",
       "\n",
       "```"
      ],
      "text/plain": [
       "div((div((div(('A',),{'class': 'card-body'}),),{'class': 'card bg-base-200 text-center shadow-md'}), div((div(('B',),{'class': 'card-body'}),),{'class': 'card bg-base-200 text-center shadow'}), div((div(('C',),{'class': 'card-body'}),),{'class': 'card bg-base-200 text-center shadow-sm'})),{'class': 'stack'})"
      ]
     },
     "execution_count": null,
     "metadata": {},
     "output_type": "execute_result"
    }
   ],
   "source": [
    "#|exports\n",
    "def test_stack_cards_shadow_fasthtml_examples():\n",
    "    \"\"\"Test stacked cards with shadow from daisyUI v5 documentation.\"\"\"\n",
    "    from fasthtml.common import Div\n",
    "    from cjm_fasthtml_tailwind.utilities.effects import shadow\n",
    "    from cjm_fasthtml_tailwind.utilities.typography import text_align\n",
    "    from cjm_fasthtml_daisyui.core.utility_classes import bg_dui\n",
    "    from cjm_fasthtml_daisyui.components.data_display.card import card, card_body\n",
    "    \n",
    "    # Stacked cards with shadow\n",
    "    stack_shadow = Div(\n",
    "        Div(\n",
    "            Div(\"A\", cls=str(card_body)),\n",
    "            cls=combine_classes(card, bg_dui.base_200, text_align.center, shadow.md)\n",
    "        ),\n",
    "        Div(\n",
    "            Div(\"B\", cls=str(card_body)),\n",
    "            cls=combine_classes(card, bg_dui.base_200, text_align.center, shadow())\n",
    "        ),\n",
    "        Div(\n",
    "            Div(\"C\", cls=str(card_body)),\n",
    "            cls=combine_classes(card, bg_dui.base_200, text_align.center, shadow.sm)\n",
    "        ),\n",
    "        cls=str(stack)\n",
    "    )\n",
    "    \n",
    "    # Verify structure\n",
    "    assert stack_shadow.tag == \"div\"\n",
    "    assert stack_shadow.attrs['class'] == \"stack\"\n",
    "    assert len(stack_shadow.children) == 3\n",
    "    \n",
    "    # First card with shadow-md\n",
    "    first_card = stack_shadow.children[0]\n",
    "    assert first_card.tag == \"div\"\n",
    "    assert \"card\" in first_card.attrs['class']\n",
    "    assert \"bg-base-200\" in first_card.attrs['class']\n",
    "    assert \"text-center\" in first_card.attrs['class']\n",
    "    assert \"shadow-md\" in first_card.attrs['class']\n",
    "    assert first_card.children[0].attrs['class'] == \"card-body\"\n",
    "    assert first_card.children[0].children[0] == \"A\"\n",
    "    \n",
    "    # Second card with shadow\n",
    "    second_card = stack_shadow.children[1]\n",
    "    assert \"card\" in second_card.attrs['class']\n",
    "    assert \"bg-base-200\" in second_card.attrs['class']\n",
    "    assert \"text-center\" in second_card.attrs['class']\n",
    "    assert \"shadow\" in second_card.attrs['class']\n",
    "    assert second_card.children[0].children[0] == \"B\"\n",
    "    \n",
    "    # Third card with shadow-sm\n",
    "    third_card = stack_shadow.children[2]\n",
    "    assert \"card\" in third_card.attrs['class']\n",
    "    assert \"bg-base-200\" in third_card.attrs['class']\n",
    "    assert \"text-center\" in third_card.attrs['class']\n",
    "    assert \"shadow-sm\" in third_card.attrs['class']\n",
    "    assert third_card.children[0].children[0] == \"C\"\n",
    "    \n",
    "    return stack_shadow\n",
    "\n",
    "# Run the tests\n",
    "test_stack_cards_shadow_fasthtml_examples()"
   ]
  },
  {
   "cell_type": "code",
   "execution_count": null,
   "id": "8bfcc174-6ccc-41ba-8441-5db43e5c1d38",
   "metadata": {},
   "outputs": [
    {
     "data": {
      "text/html": [
       "\n",
       "<script>\n",
       "document.body.addEventListener('htmx:configRequest', (event) => {\n",
       "    if(event.detail.path.includes('://')) return;\n",
       "    htmx.config.selfRequestsOnly=false;\n",
       "    event.detail.path = `${location.protocol}//${location.hostname}:8000${event.detail.path}`;\n",
       "});\n",
       "</script>"
      ],
      "text/plain": [
       "<IPython.core.display.HTML object>"
      ]
     },
     "metadata": {},
     "output_type": "display_data"
    },
    {
     "data": {
      "text/html": [
       "<iframe src=\"http://localhost:8000/\" style=\"width: 100%; height: auto; border: none;\" onload=\"{\n",
       "        let frame = this;\n",
       "        window.addEventListener('message', function(e) {\n",
       "            if (e.source !== frame.contentWindow) return; // Only proceed if the message is from this iframe\n",
       "            if (e.data.height) frame.style.height = (e.data.height+1) + 'px';\n",
       "        }, false);\n",
       "    }\" allow=\"accelerometer; autoplay; camera; clipboard-read; clipboard-write; display-capture; encrypted-media; fullscreen; gamepad; geolocation; gyroscope; hid; identity-credentials-get; idle-detection; magnetometer; microphone; midi; payment; picture-in-picture; publickey-credentials-get; screen-wake-lock; serial; usb; web-share; xr-spatial-tracking\"></iframe> "
      ],
      "text/plain": [
       "<IPython.core.display.HTML object>"
      ]
     },
     "metadata": {},
     "output_type": "display_data"
    }
   ],
   "source": [
    "#| eval: false\n",
    "#| output: false\n",
    "test_func = test_stack_cards_shadow_fasthtml_examples\n",
    "app, rt = create_test_app(theme=DaisyUITheme.LIGHT)\n",
    "\n",
    "@rt\n",
    "def index():\n",
    "    return create_test_page(test_func.__doc__.title().replace('.', ''), test_func())\n",
    "server = start_test_server(app)\n",
    "display(HTMX())\n",
    "server.stop()"
   ]
  },
  {
   "cell_type": "code",
   "execution_count": null,
   "id": "0c336367-7295-41f4-855b-d2e41122b559",
   "metadata": {},
   "outputs": [
    {
     "data": {
      "text/markdown": [
       "```html\n",
       "<div class=\"stack\">\n",
       "  <div class=\"card shadow-md bg-base-100\">\n",
       "    <div class=\"card-body\">\n",
       "      <h2 class=\"card-title\">Notification 1</h2>\n",
       "      <p>You have 3 unread messages. Tap here to see.</p>\n",
       "    </div>\n",
       "  </div>\n",
       "  <div class=\"card shadow-md bg-base-100\">\n",
       "    <div class=\"card-body\">\n",
       "      <h2 class=\"card-title\">Notification 2</h2>\n",
       "      <p>You have 3 unread messages. Tap here to see.</p>\n",
       "    </div>\n",
       "  </div>\n",
       "  <div class=\"card shadow-md bg-base-100\">\n",
       "    <div class=\"card-body\">\n",
       "      <h2 class=\"card-title\">Notification 3</h2>\n",
       "      <p>You have 3 unread messages. Tap here to see.</p>\n",
       "    </div>\n",
       "  </div>\n",
       "</div>\n",
       "\n",
       "```"
      ],
      "text/plain": [
       "div((div((div((h2(('Notification 1',),{'class': 'card-title'}), p(('You have 3 unread messages. Tap here to see.',),{})),{'class': 'card-body'}),),{'class': 'card shadow-md bg-base-100'}), div((div((h2(('Notification 2',),{'class': 'card-title'}), p(('You have 3 unread messages. Tap here to see.',),{})),{'class': 'card-body'}),),{'class': 'card shadow-md bg-base-100'}), div((div((h2(('Notification 3',),{'class': 'card-title'}), p(('You have 3 unread messages. Tap here to see.',),{})),{'class': 'card-body'}),),{'class': 'card shadow-md bg-base-100'})),{'class': 'stack'})"
      ]
     },
     "execution_count": null,
     "metadata": {},
     "output_type": "execute_result"
    }
   ],
   "source": [
    "#|exports\n",
    "def test_stack_notification_cards_fasthtml_examples():\n",
    "    \"\"\"Test stacked notification cards from daisyUI v5 documentation.\"\"\"\n",
    "    from fasthtml.common import Div, H2, P\n",
    "    from cjm_fasthtml_tailwind.utilities.effects import shadow\n",
    "    from cjm_fasthtml_daisyui.core.utility_classes import bg_dui\n",
    "    from cjm_fasthtml_daisyui.components.data_display.card import card, card_body, card_title\n",
    "    \n",
    "    # Stacked notification cards\n",
    "    stack_notifications = Div(\n",
    "        Div(\n",
    "            Div(\n",
    "                H2(\"Notification 1\", cls=str(card_title)),\n",
    "                P(\"You have 3 unread messages. Tap here to see.\"),\n",
    "                cls=str(card_body)\n",
    "            ),\n",
    "            cls=combine_classes(card, shadow.md, bg_dui.base_100)\n",
    "        ),\n",
    "        Div(\n",
    "            Div(\n",
    "                H2(\"Notification 2\", cls=str(card_title)),\n",
    "                P(\"You have 3 unread messages. Tap here to see.\"),\n",
    "                cls=str(card_body)\n",
    "            ),\n",
    "            cls=combine_classes(card, shadow.md, bg_dui.base_100)\n",
    "        ),\n",
    "        Div(\n",
    "            Div(\n",
    "                H2(\"Notification 3\", cls=str(card_title)),\n",
    "                P(\"You have 3 unread messages. Tap here to see.\"),\n",
    "                cls=str(card_body)\n",
    "            ),\n",
    "            cls=combine_classes(card, shadow.md, bg_dui.base_100)\n",
    "        ),\n",
    "        cls=str(stack)\n",
    "    )\n",
    "    \n",
    "    # Verify structure\n",
    "    assert stack_notifications.tag == \"div\"\n",
    "    assert stack_notifications.attrs['class'] == \"stack\"\n",
    "    assert len(stack_notifications.children) == 3\n",
    "    \n",
    "    # Verify each notification card\n",
    "    for i in range(1, 4):\n",
    "        card_div = stack_notifications.children[i-1]\n",
    "        assert card_div.tag == \"div\"\n",
    "        assert \"card\" in card_div.attrs['class']\n",
    "        assert \"shadow-md\" in card_div.attrs['class']\n",
    "        assert \"bg-base-100\" in card_div.attrs['class']\n",
    "        \n",
    "        # Verify card body\n",
    "        card_body_div = card_div.children[0]\n",
    "        assert card_body_div.tag == \"div\"\n",
    "        assert card_body_div.attrs['class'] == \"card-body\"\n",
    "        \n",
    "        # Verify title\n",
    "        title = card_body_div.children[0]\n",
    "        assert title.tag == \"h2\"\n",
    "        assert title.attrs['class'] == \"card-title\"\n",
    "        assert title.children[0] == f\"Notification {i}\"\n",
    "        \n",
    "        # Verify paragraph\n",
    "        paragraph = card_body_div.children[1]\n",
    "        assert paragraph.tag == \"p\"\n",
    "        assert paragraph.children[0] == \"You have 3 unread messages. Tap here to see.\"\n",
    "    \n",
    "    return stack_notifications\n",
    "\n",
    "# Run the tests\n",
    "test_stack_notification_cards_fasthtml_examples()"
   ]
  },
  {
   "cell_type": "code",
   "execution_count": null,
   "id": "7cad6267-d046-42ef-8525-29b3bd628fbd",
   "metadata": {},
   "outputs": [
    {
     "data": {
      "text/html": [
       "\n",
       "<script>\n",
       "document.body.addEventListener('htmx:configRequest', (event) => {\n",
       "    if(event.detail.path.includes('://')) return;\n",
       "    htmx.config.selfRequestsOnly=false;\n",
       "    event.detail.path = `${location.protocol}//${location.hostname}:8000${event.detail.path}`;\n",
       "});\n",
       "</script>"
      ],
      "text/plain": [
       "<IPython.core.display.HTML object>"
      ]
     },
     "metadata": {},
     "output_type": "display_data"
    },
    {
     "data": {
      "text/html": [
       "<iframe src=\"http://localhost:8000/\" style=\"width: 100%; height: auto; border: none;\" onload=\"{\n",
       "        let frame = this;\n",
       "        window.addEventListener('message', function(e) {\n",
       "            if (e.source !== frame.contentWindow) return; // Only proceed if the message is from this iframe\n",
       "            if (e.data.height) frame.style.height = (e.data.height+1) + 'px';\n",
       "        }, false);\n",
       "    }\" allow=\"accelerometer; autoplay; camera; clipboard-read; clipboard-write; display-capture; encrypted-media; fullscreen; gamepad; geolocation; gyroscope; hid; identity-credentials-get; idle-detection; magnetometer; microphone; midi; payment; picture-in-picture; publickey-credentials-get; screen-wake-lock; serial; usb; web-share; xr-spatial-tracking\"></iframe> "
      ],
      "text/plain": [
       "<IPython.core.display.HTML object>"
      ]
     },
     "metadata": {},
     "output_type": "display_data"
    }
   ],
   "source": [
    "#| eval: false\n",
    "#| output: false\n",
    "test_func = test_stack_notification_cards_fasthtml_examples\n",
    "app, rt = create_test_app(theme=DaisyUITheme.LIGHT)\n",
    "\n",
    "@rt\n",
    "def index():\n",
    "    return create_test_page(test_func.__doc__.title().replace('.', ''), test_func())\n",
    "server = start_test_server(app)\n",
    "display(HTMX())\n",
    "server.stop()"
   ]
  },
  {
   "cell_type": "code",
   "execution_count": null,
   "id": "248adc40-6e77-4203-9830-de838e25a00a",
   "metadata": {},
   "outputs": [],
   "source": []
  },
  {
   "cell_type": "code",
   "execution_count": null,
   "id": "a2029d6d-bf22-4e16-87e1-d609762dc867",
   "metadata": {},
   "outputs": [],
   "source": []
  },
  {
   "cell_type": "code",
   "execution_count": null,
   "id": "c9dfaad9-504c-4853-886b-2d1adb1cc3a0",
   "metadata": {},
   "outputs": [],
   "source": []
  },
  {
   "cell_type": "code",
   "execution_count": null,
   "id": "454d5b84-fc57-44ab-a6f0-3123333998cb",
   "metadata": {},
   "outputs": [],
   "source": []
  },
  {
   "cell_type": "code",
   "execution_count": null,
   "id": "d471d21b-6fe5-4c63-90be-5176c4cbd08b",
   "metadata": {},
   "outputs": [],
   "source": []
  },
  {
   "cell_type": "code",
   "execution_count": null,
   "id": "73b88b7e-0be6-4a82-9c02-f3df8af20015",
   "metadata": {},
   "outputs": [],
   "source": []
  },
  {
   "cell_type": "code",
   "execution_count": null,
   "id": "7ab8257a-c30b-45b6-a784-729b67686791",
   "metadata": {},
   "outputs": [],
   "source": [
    "#| hide\n",
    "import nbdev; nbdev.nbdev_export()"
   ]
  }
 ],
 "metadata": {
  "kernelspec": {
   "display_name": "python3",
   "language": "python",
   "name": "python3"
  }
 },
 "nbformat": 4,
 "nbformat_minor": 5
}
