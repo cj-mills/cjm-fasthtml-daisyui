{
 "cells": [
  {
   "cell_type": "markdown",
   "id": "7c51b46b-ece1-456d-8e84-7de122e72b62",
   "metadata": {},
   "source": [
    "# footer\n",
    "\n",
    "> Footer can contain logo, copyright notice, and links to other pages."
   ]
  },
  {
   "cell_type": "code",
   "execution_count": null,
   "id": "25536bdc-e099-477f-9e2d-a5f71df5dff2",
   "metadata": {},
   "outputs": [],
   "source": [
    "#| default_exp components.layout.footer"
   ]
  },
  {
   "cell_type": "code",
   "execution_count": null,
   "id": "2e6f21ce-7766-455a-8ebb-df2c17e7d977",
   "metadata": {},
   "outputs": [],
   "source": [
    "#| hide\n",
    "from nbdev.showdoc import *"
   ]
  },
  {
   "cell_type": "code",
   "execution_count": null,
   "id": "045c6538-403e-4222-b3bb-db20f188524d",
   "metadata": {},
   "outputs": [],
   "source": [
    "#| export\n",
    "from enum import Enum\n",
    "from typing import Optional, Dict, Any, Union\n",
    "from cjm_fasthtml_tailwind.core.base import (\n",
    "    SingleValueFactory, combine_classes\n",
    ")\n",
    "from cjm_fasthtml_tailwind.builders.scales import SimpleFactory, enums_to_simple_factory\n",
    "\n",
    "from fasthtml.common import Div\n",
    "from fasthtml.jupyter import JupyUvi, HTMX\n",
    "from cjm_fasthtml_daisyui.core.testing import create_test_app, create_test_page, start_test_server\n",
    "from cjm_fasthtml_daisyui.core.themes import DaisyUITheme\n",
    "from IPython.display import display"
   ]
  },
  {
   "cell_type": "markdown",
   "id": "1e082828-663f-47e3-afca-23fb4504106d",
   "metadata": {},
   "source": [
    "### Base Footer"
   ]
  },
  {
   "cell_type": "code",
   "execution_count": null,
   "id": "c802d106-49fb-4d34-ba04-5f54c88e165b",
   "metadata": {},
   "outputs": [],
   "source": [
    "#| export\n",
    "footer = SingleValueFactory(\"footer\", \"Base footer component\") # Base footer component\n",
    "footer_title = SingleValueFactory(\"footer-title\", \"Title of a footer column\") # footer title part"
   ]
  },
  {
   "cell_type": "markdown",
   "id": "dc06a80e-045d-4d0e-b0d5-1ca87cfbe899",
   "metadata": {},
   "source": [
    "### Footer Placement"
   ]
  },
  {
   "cell_type": "code",
   "execution_count": null,
   "id": "636c6bcd-2176-4191-aa39-c937893243e2",
   "metadata": {},
   "outputs": [],
   "source": [
    "#| export\n",
    "class FooterPlacement(str, Enum):\n",
    "    CENTER = \"center\"\n",
    "\n",
    "footer_placement = enums_to_simple_factory(footer, [FooterPlacement], \"footer placement (center)\") # footer placement"
   ]
  },
  {
   "cell_type": "markdown",
   "id": "30ab4a28-f077-481f-9fa7-5ce57f6db55a",
   "metadata": {},
   "source": [
    "### Footer Directions"
   ]
  },
  {
   "cell_type": "code",
   "execution_count": null,
   "id": "3035ff66-e4e7-410c-8b1e-86a879f66112",
   "metadata": {},
   "outputs": [],
   "source": [
    "#| export\n",
    "class FooterDirection(str, Enum):\n",
    "    VERTICAL = \"vertical\"\n",
    "    HORIZONTAL = \"horizontal\"\n",
    "\n",
    "footer_directions = enums_to_simple_factory(footer, [FooterDirection], \"footer directions (vertical, horizontal)\") # footer directions"
   ]
  },
  {
   "cell_type": "markdown",
   "id": "a74574dc-3f88-4dd6-8abc-87564234df5e",
   "metadata": {},
   "source": [
    "### Footer Test Examples"
   ]
  },
  {
   "cell_type": "code",
   "execution_count": null,
   "id": "85d72161-e718-4c66-bc59-a3569b7f7616",
   "metadata": {},
   "outputs": [],
   "source": [
    "#| export\n",
    "def test_footer_basic_examples():\n",
    "    \"\"\"Test basic footer utilities.\"\"\"\n",
    "    # Basic footer\n",
    "    assert str(footer) == \"footer\"\n",
    "    assert str(footer_title) == \"footer-title\"\n",
    "    \n",
    "    # Test with modifiers\n",
    "    assert str(footer.hover) == \"hover:footer\"\n",
    "    assert str(footer.md) == \"md:footer\"\n",
    "    assert str(footer.dark) == \"dark:footer\"\n",
    "\n",
    "# Run the tests\n",
    "test_footer_basic_examples()"
   ]
  },
  {
   "cell_type": "code",
   "execution_count": null,
   "id": "214654cc-9758-48f9-92e2-0892029c4512",
   "metadata": {},
   "outputs": [],
   "source": [
    "#| export\n",
    "def test_footer_placement_examples():\n",
    "    \"\"\"Test footer placement variants.\"\"\"\n",
    "    assert str(footer_placement.center) == \"footer-center\"\n",
    "\n",
    "# Run the tests\n",
    "test_footer_placement_examples()"
   ]
  },
  {
   "cell_type": "code",
   "execution_count": null,
   "id": "a9d78aa3-0be8-49e6-8bfb-cb9a232ee1ee",
   "metadata": {},
   "outputs": [],
   "source": [
    "#| export\n",
    "def test_footer_directions_examples():\n",
    "    \"\"\"Test footer directions variants.\"\"\"\n",
    "    assert str(footer_directions.vertical) == \"footer-vertical\"\n",
    "    assert str(footer_directions.horizontal) == \"footer-horizontal\"\n",
    "\n",
    "# Run the tests\n",
    "test_footer_directions_examples()"
   ]
  },
  {
   "cell_type": "code",
   "execution_count": null,
   "id": "01785a18-9bb0-4dbc-9eae-04addf6dede9",
   "metadata": {},
   "outputs": [],
   "source": []
  },
  {
   "cell_type": "code",
   "execution_count": null,
   "id": "43a3d5aa-4f07-48f4-b7c3-5c63612f0fb2",
   "metadata": {},
   "outputs": [],
   "source": []
  },
  {
   "cell_type": "code",
   "execution_count": null,
   "id": "248adc40-6e77-4203-9830-de838e25a00a",
   "metadata": {},
   "outputs": [],
   "source": []
  },
  {
   "cell_type": "code",
   "execution_count": null,
   "id": "a2029d6d-bf22-4e16-87e1-d609762dc867",
   "metadata": {},
   "outputs": [],
   "source": []
  },
  {
   "cell_type": "code",
   "execution_count": null,
   "id": "c9dfaad9-504c-4853-886b-2d1adb1cc3a0",
   "metadata": {},
   "outputs": [],
   "source": []
  },
  {
   "cell_type": "code",
   "execution_count": null,
   "id": "454d5b84-fc57-44ab-a6f0-3123333998cb",
   "metadata": {},
   "outputs": [],
   "source": []
  },
  {
   "cell_type": "code",
   "execution_count": null,
   "id": "d471d21b-6fe5-4c63-90be-5176c4cbd08b",
   "metadata": {},
   "outputs": [],
   "source": []
  },
  {
   "cell_type": "code",
   "execution_count": null,
   "id": "73b88b7e-0be6-4a82-9c02-f3df8af20015",
   "metadata": {},
   "outputs": [],
   "source": []
  },
  {
   "cell_type": "code",
   "execution_count": null,
   "id": "7ab8257a-c30b-45b6-a784-729b67686791",
   "metadata": {},
   "outputs": [],
   "source": [
    "#| hide\n",
    "import nbdev; nbdev.nbdev_export()"
   ]
  }
 ],
 "metadata": {
  "kernelspec": {
   "display_name": "python3",
   "language": "python",
   "name": "python3"
  }
 },
 "nbformat": 4,
 "nbformat_minor": 5
}
