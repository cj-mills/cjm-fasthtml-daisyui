{
 "cells": [
  {
   "cell_type": "markdown",
   "id": "7c51b46b-ece1-456d-8e84-7de122e72b62",
   "metadata": {},
   "source": [
    "# footer\n",
    "\n",
    "> Footer can contain logo, copyright notice, and links to other pages."
   ]
  },
  {
   "cell_type": "code",
   "execution_count": null,
   "id": "25536bdc-e099-477f-9e2d-a5f71df5dff2",
   "metadata": {},
   "outputs": [],
   "source": [
    "#| default_exp components.layout.footer"
   ]
  },
  {
   "cell_type": "code",
   "execution_count": null,
   "id": "2e6f21ce-7766-455a-8ebb-df2c17e7d977",
   "metadata": {},
   "outputs": [],
   "source": [
    "#| hide\n",
    "from nbdev.showdoc import *"
   ]
  },
  {
   "cell_type": "code",
   "execution_count": null,
   "id": "045c6538-403e-4222-b3bb-db20f188524d",
   "metadata": {},
   "outputs": [],
   "source": [
    "#| export\n",
    "from enum import Enum\n",
    "from typing import Optional, Dict, Any, Union\n",
    "from cjm_fasthtml_tailwind.core.base import (\n",
    "    SingleValueFactory, combine_classes\n",
    ")\n",
    "from cjm_fasthtml_tailwind.builders.scales import SimpleFactory, enums_to_simple_factory\n",
    "\n",
    "from fasthtml.common import Div\n",
    "from fasthtml.jupyter import JupyUvi, HTMX\n",
    "from cjm_fasthtml_daisyui.core.testing import create_test_app, create_test_page, start_test_server\n",
    "from cjm_fasthtml_daisyui.core.themes import DaisyUITheme\n",
    "from IPython.display import display"
   ]
  },
  {
   "cell_type": "markdown",
   "id": "1e082828-663f-47e3-afca-23fb4504106d",
   "metadata": {},
   "source": [
    "### Base Footer"
   ]
  },
  {
   "cell_type": "code",
   "execution_count": null,
   "id": "c802d106-49fb-4d34-ba04-5f54c88e165b",
   "metadata": {},
   "outputs": [],
   "source": [
    "#| exports\n",
    "footer = SingleValueFactory(\"footer\", \"Base footer component\") # Base footer component\n",
    "footer_title = SingleValueFactory(\"footer-title\", \"Title of a footer column\") # footer title part"
   ]
  },
  {
   "cell_type": "markdown",
   "id": "dc06a80e-045d-4d0e-b0d5-1ca87cfbe899",
   "metadata": {},
   "source": [
    "### Footer Placement"
   ]
  },
  {
   "cell_type": "code",
   "execution_count": null,
   "id": "636c6bcd-2176-4191-aa39-c937893243e2",
   "metadata": {},
   "outputs": [],
   "source": [
    "#| exports\n",
    "class FooterPlacement(str, Enum):\n",
    "    CENTER = \"center\"\n",
    "\n",
    "footer_placement = enums_to_simple_factory(footer, [FooterPlacement], \"footer placement (center)\") # footer placement"
   ]
  },
  {
   "cell_type": "markdown",
   "id": "30ab4a28-f077-481f-9fa7-5ce57f6db55a",
   "metadata": {},
   "source": [
    "### Footer Directions"
   ]
  },
  {
   "cell_type": "code",
   "execution_count": null,
   "id": "3035ff66-e4e7-410c-8b1e-86a879f66112",
   "metadata": {},
   "outputs": [],
   "source": [
    "#| exports\n",
    "class FooterDirection(str, Enum):\n",
    "    VERTICAL = \"vertical\"\n",
    "    HORIZONTAL = \"horizontal\"\n",
    "\n",
    "footer_directions = enums_to_simple_factory(footer, [FooterDirection], \"footer directions (vertical, horizontal)\") # footer directions"
   ]
  },
  {
   "cell_type": "markdown",
   "id": "a74574dc-3f88-4dd6-8abc-87564234df5e",
   "metadata": {},
   "source": [
    "### Footer Test Examples"
   ]
  },
  {
   "cell_type": "code",
   "execution_count": null,
   "id": "85d72161-e718-4c66-bc59-a3569b7f7616",
   "metadata": {},
   "outputs": [],
   "source": [
    "#|exports\n",
    "def test_footer_basic_examples():\n",
    "    \"\"\"Test basic footer utilities.\"\"\"\n",
    "    # Basic footer\n",
    "    assert str(footer) == \"footer\"\n",
    "    assert str(footer_title) == \"footer-title\"\n",
    "    \n",
    "    # Test with modifiers\n",
    "    assert str(footer.hover) == \"hover:footer\"\n",
    "    assert str(footer.md) == \"md:footer\"\n",
    "    assert str(footer.dark) == \"dark:footer\"\n",
    "\n",
    "# Run the tests\n",
    "test_footer_basic_examples()"
   ]
  },
  {
   "cell_type": "code",
   "execution_count": null,
   "id": "214654cc-9758-48f9-92e2-0892029c4512",
   "metadata": {},
   "outputs": [],
   "source": [
    "#|exports\n",
    "def test_footer_placement_examples():\n",
    "    \"\"\"Test footer placement variants.\"\"\"\n",
    "    assert str(footer_placement.center) == \"footer-center\"\n",
    "\n",
    "# Run the tests\n",
    "test_footer_placement_examples()"
   ]
  },
  {
   "cell_type": "code",
   "execution_count": null,
   "id": "a9d78aa3-0be8-49e6-8bfb-cb9a232ee1ee",
   "metadata": {},
   "outputs": [],
   "source": [
    "#|exports\n",
    "def test_footer_directions_examples():\n",
    "    \"\"\"Test footer directions variants.\"\"\"\n",
    "    assert str(footer_directions.vertical) == \"footer-vertical\"\n",
    "    assert str(footer_directions.horizontal) == \"footer-horizontal\"\n",
    "\n",
    "# Run the tests\n",
    "test_footer_directions_examples()"
   ]
  },
  {
   "cell_type": "code",
   "execution_count": null,
   "id": "01785a18-9bb0-4dbc-9eae-04addf6dede9",
   "metadata": {},
   "outputs": [
    {
     "data": {
      "text/markdown": [
       "```html\n",
       "<footer class=\"footer sm:footer-horizontal bg-neutral text-neutral-content p-10\">\n",
       "  <nav>\n",
       "    <h6 class=\"footer-title\">Services</h6>\n",
       "<a href=\"#\" class=\"link link-hover\">Branding</a><a href=\"#\" class=\"link link-hover\">Design</a><a href=\"#\" class=\"link link-hover\">Marketing</a><a href=\"#\" class=\"link link-hover\">Advertisement</a>  </nav>\n",
       "  <nav>\n",
       "    <h6 class=\"footer-title\">Company</h6>\n",
       "<a href=\"#\" class=\"link link-hover\">About us</a><a href=\"#\" class=\"link link-hover\">Contact</a><a href=\"#\" class=\"link link-hover\">Jobs</a><a href=\"#\" class=\"link link-hover\">Press kit</a>  </nav>\n",
       "  <nav>\n",
       "    <h6 class=\"footer-title\">Legal</h6>\n",
       "<a href=\"#\" class=\"link link-hover\">Terms of use</a><a href=\"#\" class=\"link link-hover\">Privacy policy</a><a href=\"#\" class=\"link link-hover\">Cookie policy</a>  </nav>\n",
       "</footer>\n",
       "\n",
       "```"
      ],
      "text/plain": [
       "footer((nav((h6(('Services',),{'class': 'footer-title'}), a(('Branding',),{'href': '#', 'class': 'link link-hover'}), a(('Design',),{'href': '#', 'class': 'link link-hover'}), a(('Marketing',),{'href': '#', 'class': 'link link-hover'}), a(('Advertisement',),{'href': '#', 'class': 'link link-hover'})),{}), nav((h6(('Company',),{'class': 'footer-title'}), a(('About us',),{'href': '#', 'class': 'link link-hover'}), a(('Contact',),{'href': '#', 'class': 'link link-hover'}), a(('Jobs',),{'href': '#', 'class': 'link link-hover'}), a(('Press kit',),{'href': '#', 'class': 'link link-hover'})),{}), nav((h6(('Legal',),{'class': 'footer-title'}), a(('Terms of use',),{'href': '#', 'class': 'link link-hover'}), a(('Privacy policy',),{'href': '#', 'class': 'link link-hover'}), a(('Cookie policy',),{'href': '#', 'class': 'link link-hover'})),{})),{'class': 'footer sm:footer-horizontal bg-neutral text-neutral-content p-10'})"
      ]
     },
     "execution_count": null,
     "metadata": {},
     "output_type": "execute_result"
    }
   ],
   "source": [
    "#|exports\n",
    "def test_footer_basic_fasthtml_examples():\n",
    "    \"\"\"Test basic footer with navigation sections from daisyUI v5 documentation.\"\"\"\n",
    "    from fasthtml.common import Footer, Nav, H6, A\n",
    "    from cjm_fasthtml_tailwind.utilities.spacing import p\n",
    "    from cjm_fasthtml_daisyui.core.utility_classes import bg_dui, text_dui\n",
    "    from cjm_fasthtml_daisyui.components.navigation.link import link, link_styles\n",
    "    \n",
    "    # Footer (vertical by default, horizontal for sm and up)\n",
    "    basic_footer = Footer(\n",
    "        Nav(\n",
    "            H6(\"Services\", cls=str(footer_title)),\n",
    "            A(\"Branding\", href=\"#\", cls=combine_classes(link, link_styles.hover)),\n",
    "            A(\"Design\", href=\"#\", cls=combine_classes(link, link_styles.hover)),\n",
    "            A(\"Marketing\", href=\"#\", cls=combine_classes(link, link_styles.hover)),\n",
    "            A(\"Advertisement\", href=\"#\", cls=combine_classes(link, link_styles.hover))\n",
    "        ),\n",
    "        Nav(\n",
    "            H6(\"Company\", cls=str(footer_title)),\n",
    "            A(\"About us\", href=\"#\", cls=combine_classes(link, link_styles.hover)),\n",
    "            A(\"Contact\", href=\"#\", cls=combine_classes(link, link_styles.hover)),\n",
    "            A(\"Jobs\", href=\"#\", cls=combine_classes(link, link_styles.hover)),\n",
    "            A(\"Press kit\", href=\"#\", cls=combine_classes(link, link_styles.hover))\n",
    "        ),\n",
    "        Nav(\n",
    "            H6(\"Legal\", cls=str(footer_title)),\n",
    "            A(\"Terms of use\", href=\"#\", cls=combine_classes(link, link_styles.hover)),\n",
    "            A(\"Privacy policy\", href=\"#\", cls=combine_classes(link, link_styles.hover)),\n",
    "            A(\"Cookie policy\", href=\"#\", cls=combine_classes(link, link_styles.hover))\n",
    "        ),\n",
    "        cls=combine_classes(footer, footer_directions.horizontal.sm, bg_dui.neutral, text_dui.neutral_content, p._10)\n",
    "    )\n",
    "    \n",
    "    # Verify structure\n",
    "    assert basic_footer.tag == \"footer\"\n",
    "    assert \"footer\" in basic_footer.attrs['class']\n",
    "    assert \"sm:footer-horizontal\" in basic_footer.attrs['class']\n",
    "    assert \"bg-neutral\" in basic_footer.attrs['class']\n",
    "    assert \"text-neutral-content\" in basic_footer.attrs['class']\n",
    "    assert \"p-10\" in basic_footer.attrs['class']\n",
    "    \n",
    "    # Verify nav sections\n",
    "    assert len(basic_footer.children) == 3\n",
    "    for nav in basic_footer.children:\n",
    "        assert nav.tag == \"nav\"\n",
    "        assert nav.children[0].tag == \"h6\"\n",
    "        assert \"footer-title\" in nav.children[0].attrs['class']\n",
    "        # Check links\n",
    "        for i in range(1, len(nav.children)):\n",
    "            assert nav.children[i].tag == \"a\"\n",
    "            assert \"link\" in nav.children[i].attrs['class']\n",
    "            assert \"link-hover\" in nav.children[i].attrs['class']\n",
    "    \n",
    "    return basic_footer\n",
    "\n",
    "# Run the tests\n",
    "test_footer_basic_fasthtml_examples()"
   ]
  },
  {
   "cell_type": "code",
   "execution_count": null,
   "id": "43a3d5aa-4f07-48f4-b7c3-5c63612f0fb2",
   "metadata": {},
   "outputs": [
    {
     "data": {
      "text/html": [
       "\n",
       "<script>\n",
       "document.body.addEventListener('htmx:configRequest', (event) => {\n",
       "    if(event.detail.path.includes('://')) return;\n",
       "    htmx.config.selfRequestsOnly=false;\n",
       "    event.detail.path = `${location.protocol}//${location.hostname}:8000${event.detail.path}`;\n",
       "});\n",
       "</script>"
      ],
      "text/plain": [
       "<IPython.core.display.HTML object>"
      ]
     },
     "metadata": {},
     "output_type": "display_data"
    },
    {
     "data": {
      "text/html": [
       "<iframe src=\"http://localhost:8000/\" style=\"width: 100%; height: auto; border: none;\" onload=\"{\n",
       "        let frame = this;\n",
       "        window.addEventListener('message', function(e) {\n",
       "            if (e.source !== frame.contentWindow) return; // Only proceed if the message is from this iframe\n",
       "            if (e.data.height) frame.style.height = (e.data.height+1) + 'px';\n",
       "        }, false);\n",
       "    }\" allow=\"accelerometer; autoplay; camera; clipboard-read; clipboard-write; display-capture; encrypted-media; fullscreen; gamepad; geolocation; gyroscope; hid; identity-credentials-get; idle-detection; magnetometer; microphone; midi; payment; picture-in-picture; publickey-credentials-get; screen-wake-lock; serial; usb; web-share; xr-spatial-tracking\"></iframe> "
      ],
      "text/plain": [
       "<IPython.core.display.HTML object>"
      ]
     },
     "metadata": {},
     "output_type": "display_data"
    }
   ],
   "source": [
    "#| eval: false\n",
    "#| output: false\n",
    "test_func = test_footer_basic_fasthtml_examples\n",
    "app, rt = create_test_app(theme=DaisyUITheme.LIGHT)\n",
    "\n",
    "@rt\n",
    "def index():\n",
    "    return create_test_page(test_func.__doc__.title().replace('.', ''), test_func())\n",
    "server = start_test_server(app)\n",
    "display(HTMX())\n",
    "server.stop()"
   ]
  },
  {
   "cell_type": "code",
   "execution_count": null,
   "id": "f741fc7e-847e-463c-8578-2f1cd1c0bcbf",
   "metadata": {},
   "outputs": [
    {
     "data": {
      "text/markdown": [
       "```html\n",
       "<footer class=\"footer sm:footer-horizontal bg-base-200 text-base-content p-10\">\n",
       "  <aside>\n",
       "<svg xmlns=\"http://www.w3.org/2000/svg\" viewbox=\"0 0 24 24\" height=\"50\" width=\"50\" fill-rule=\"evenodd\" clip-rule=\"evenodd\" class=\"fill-current\"><path d=\"M22.672 15.226l-2.432.811.841 2.515c.33 1.019-.209 2.127-1.23 2.456-1.15.325-2.148-.321-2.463-1.226l-.84-2.518-5.013 1.677.84 2.517c.391 1.203-.434 2.542-1.831 2.542-.88 0-1.601-.564-1.86-1.314l-.842-2.516-2.431.809c-1.135.328-2.145-.317-2.463-1.229-.329-1.018.211-2.127 1.231-2.456l2.432-.809-1.621-4.823-2.432.808c-1.355.384-2.558-.59-2.558-1.839 0-.817.509-1.582 1.327-1.846l2.433-.809-.842-2.515c-.33-1.02.211-2.129 1.232-2.458 1.02-.329 2.13.209 2.461 1.229l.842 2.515 5.011-1.677-.839-2.517c-.403-1.238.484-2.553 1.843-2.553.819 0 1.585.509 1.85 1.326l.841 2.517 2.431-.81c1.02-.33 2.131.211 2.461 1.229.332 1.018-.21 2.126-1.23 2.456l-2.433.809 1.622 4.823 2.433-.809c1.242-.401 2.557.484 2.557 1.838 0 .819-.51 1.583-1.328 1.847m-8.992-6.428l-5.01 1.675 1.619 4.828 5.011-1.674-1.62-4.829z\"></path></svg>    <p>\n",
       "ACME Industries Ltd.<br>Providing reliable tech since 1992    </p>\n",
       "  </aside>\n",
       "  <nav>\n",
       "    <h6 class=\"footer-title\">Services</h6>\n",
       "<a href=\"#\" class=\"link link-hover\">Branding</a><a href=\"#\" class=\"link link-hover\">Design</a><a href=\"#\" class=\"link link-hover\">Marketing</a><a href=\"#\" class=\"link link-hover\">Advertisement</a>  </nav>\n",
       "  <nav>\n",
       "    <h6 class=\"footer-title\">Company</h6>\n",
       "<a href=\"#\" class=\"link link-hover\">About us</a><a href=\"#\" class=\"link link-hover\">Contact</a><a href=\"#\" class=\"link link-hover\">Jobs</a><a href=\"#\" class=\"link link-hover\">Press kit</a>  </nav>\n",
       "  <nav>\n",
       "    <h6 class=\"footer-title\">Legal</h6>\n",
       "<a href=\"#\" class=\"link link-hover\">Terms of use</a><a href=\"#\" class=\"link link-hover\">Privacy policy</a><a href=\"#\" class=\"link link-hover\">Cookie policy</a>  </nav>\n",
       "</footer>\n",
       "\n",
       "```"
      ],
      "text/plain": [
       "footer((aside((svg((path((),{'d': 'M22.672 15.226l-2.432.811.841 2.515c.33 1.019-.209 2.127-1.23 2.456-1.15.325-2.148-.321-2.463-1.226l-.84-2.518-5.013 1.677.84 2.517c.391 1.203-.434 2.542-1.831 2.542-.88 0-1.601-.564-1.86-1.314l-.842-2.516-2.431.809c-1.135.328-2.145-.317-2.463-1.229-.329-1.018.211-2.127 1.231-2.456l2.432-.809-1.621-4.823-2.432.808c-1.355.384-2.558-.59-2.558-1.839 0-.817.509-1.582 1.327-1.846l2.433-.809-.842-2.515c-.33-1.02.211-2.129 1.232-2.458 1.02-.329 2.13.209 2.461 1.229l.842 2.515 5.011-1.677-.839-2.517c-.403-1.238.484-2.553 1.843-2.553.819 0 1.585.509 1.85 1.326l.841 2.517 2.431-.81c1.02-.33 2.131.211 2.461 1.229.332 1.018-.21 2.126-1.23 2.456l-2.433.809 1.622 4.823 2.433-.809c1.242-.401 2.557.484 2.557 1.838 0 .819-.51 1.583-1.328 1.847m-8.992-6.428l-5.01 1.675 1.619 4.828 5.011-1.674-1.62-4.829z'}),),{'xmlns': 'http://www.w3.org/2000/svg', 'viewbox': '0 0 24 24', 'height': '50', 'width': '50', 'fill-rule': 'evenodd', 'clip-rule': 'evenodd', 'class': 'fill-current'}), p(('ACME Industries Ltd.', br((),{}), 'Providing reliable tech since 1992'),{})),{}), nav((h6(('Services',),{'class': 'footer-title'}), a(('Branding',),{'href': '#', 'class': 'link link-hover'}), a(('Design',),{'href': '#', 'class': 'link link-hover'}), a(('Marketing',),{'href': '#', 'class': 'link link-hover'}), a(('Advertisement',),{'href': '#', 'class': 'link link-hover'})),{}), nav((h6(('Company',),{'class': 'footer-title'}), a(('About us',),{'href': '#', 'class': 'link link-hover'}), a(('Contact',),{'href': '#', 'class': 'link link-hover'}), a(('Jobs',),{'href': '#', 'class': 'link link-hover'}), a(('Press kit',),{'href': '#', 'class': 'link link-hover'})),{}), nav((h6(('Legal',),{'class': 'footer-title'}), a(('Terms of use',),{'href': '#', 'class': 'link link-hover'}), a(('Privacy policy',),{'href': '#', 'class': 'link link-hover'}), a(('Cookie policy',),{'href': '#', 'class': 'link link-hover'})),{})),{'class': 'footer sm:footer-horizontal bg-base-200 text-base-content p-10'})"
      ]
     },
     "execution_count": null,
     "metadata": {},
     "output_type": "execute_result"
    }
   ],
   "source": [
    "#|exports\n",
    "def test_footer_with_logo_fasthtml_examples():\n",
    "    \"\"\"Test footer with logo section from daisyUI v5 documentation.\"\"\"\n",
    "    from fasthtml.common import Footer, Nav, Aside, H6, A, P, Br\n",
    "    from fasthtml.svg import Svg, Path\n",
    "    from cjm_fasthtml_tailwind.utilities.spacing import p\n",
    "    from cjm_fasthtml_tailwind.utilities.svg import fill\n",
    "    from cjm_fasthtml_daisyui.core.utility_classes import bg_dui, text_dui\n",
    "    from cjm_fasthtml_daisyui.components.navigation.link import link, link_styles\n",
    "    \n",
    "    # Create reusable logo SVG\n",
    "    logo_svg = Svg(\n",
    "        Path(\n",
    "            d=\"M22.672 15.226l-2.432.811.841 2.515c.33 1.019-.209 2.127-1.23 2.456-1.15.325-2.148-.321-2.463-1.226l-.84-2.518-5.013 1.677.84 2.517c.391 1.203-.434 2.542-1.831 2.542-.88 0-1.601-.564-1.86-1.314l-.842-2.516-2.431.809c-1.135.328-2.145-.317-2.463-1.229-.329-1.018.211-2.127 1.231-2.456l2.432-.809-1.621-4.823-2.432.808c-1.355.384-2.558-.59-2.558-1.839 0-.817.509-1.582 1.327-1.846l2.433-.809-.842-2.515c-.33-1.02.211-2.129 1.232-2.458 1.02-.329 2.13.209 2.461 1.229l.842 2.515 5.011-1.677-.839-2.517c-.403-1.238.484-2.553 1.843-2.553.819 0 1.585.509 1.85 1.326l.841 2.517 2.431-.81c1.02-.33 2.131.211 2.461 1.229.332 1.018-.21 2.126-1.23 2.456l-2.433.809 1.622 4.823 2.433-.809c1.242-.401 2.557.484 2.557 1.838 0 .819-.51 1.583-1.328 1.847m-8.992-6.428l-5.01 1.675 1.619 4.828 5.011-1.674-1.62-4.829z\"\n",
    "        ),\n",
    "        width=\"50\",\n",
    "        height=\"50\",\n",
    "        viewBox=\"0 0 24 24\",\n",
    "        xmlns=\"http://www.w3.org/2000/svg\",\n",
    "        fill_rule=\"evenodd\",\n",
    "        clip_rule=\"evenodd\",\n",
    "        cls=str(fill.current)\n",
    "    )\n",
    "    \n",
    "    # Footer with a logo section\n",
    "    footer_with_logo = Footer(\n",
    "        Aside(\n",
    "            logo_svg,\n",
    "            P(\n",
    "                \"ACME Industries Ltd.\",\n",
    "                Br(),\n",
    "                \"Providing reliable tech since 1992\"\n",
    "            )\n",
    "        ),\n",
    "        Nav(\n",
    "            H6(\"Services\", cls=str(footer_title)),\n",
    "            A(\"Branding\", href=\"#\", cls=combine_classes(link, link_styles.hover)),\n",
    "            A(\"Design\", href=\"#\", cls=combine_classes(link, link_styles.hover)),\n",
    "            A(\"Marketing\", href=\"#\", cls=combine_classes(link, link_styles.hover)),\n",
    "            A(\"Advertisement\", href=\"#\", cls=combine_classes(link, link_styles.hover))\n",
    "        ),\n",
    "        Nav(\n",
    "            H6(\"Company\", cls=str(footer_title)),\n",
    "            A(\"About us\", href=\"#\", cls=combine_classes(link, link_styles.hover)),\n",
    "            A(\"Contact\", href=\"#\", cls=combine_classes(link, link_styles.hover)),\n",
    "            A(\"Jobs\", href=\"#\", cls=combine_classes(link, link_styles.hover)),\n",
    "            A(\"Press kit\", href=\"#\", cls=combine_classes(link, link_styles.hover))\n",
    "        ),\n",
    "        Nav(\n",
    "            H6(\"Legal\", cls=str(footer_title)),\n",
    "            A(\"Terms of use\", href=\"#\", cls=combine_classes(link, link_styles.hover)),\n",
    "            A(\"Privacy policy\", href=\"#\", cls=combine_classes(link, link_styles.hover)),\n",
    "            A(\"Cookie policy\", href=\"#\", cls=combine_classes(link, link_styles.hover))\n",
    "        ),\n",
    "        cls=combine_classes(footer, footer_directions.horizontal.sm, bg_dui.base_200, text_dui.base_content, p._10)\n",
    "    )\n",
    "    \n",
    "    # Verify structure\n",
    "    assert footer_with_logo.tag == \"footer\"\n",
    "    assert \"footer\" in footer_with_logo.attrs['class']\n",
    "    assert \"sm:footer-horizontal\" in footer_with_logo.attrs['class']\n",
    "    assert \"bg-base-200\" in footer_with_logo.attrs['class']\n",
    "    assert \"text-base-content\" in footer_with_logo.attrs['class']\n",
    "    \n",
    "    # Verify aside section\n",
    "    aside = footer_with_logo.children[0]\n",
    "    assert aside.tag == \"aside\"\n",
    "    assert aside.children[0].tag == \"svg\"\n",
    "    assert aside.children[0].attrs['width'] == \"50\"\n",
    "    assert aside.children[0].attrs['height'] == \"50\"\n",
    "    assert aside.children[1].tag == \"p\"\n",
    "    assert aside.children[1].children[0] == \"ACME Industries Ltd.\"\n",
    "    assert aside.children[1].children[1].tag == \"br\"\n",
    "    assert aside.children[1].children[2] == \"Providing reliable tech since 1992\"\n",
    "    \n",
    "    # Verify nav sections\n",
    "    for i in range(1, 4):\n",
    "        nav = footer_with_logo.children[i]\n",
    "        assert nav.tag == \"nav\"\n",
    "        assert nav.children[0].tag == \"h6\"\n",
    "        assert \"footer-title\" in nav.children[0].attrs['class']\n",
    "    \n",
    "    return footer_with_logo\n",
    "\n",
    "# Run the tests\n",
    "test_footer_with_logo_fasthtml_examples()"
   ]
  },
  {
   "cell_type": "code",
   "execution_count": null,
   "id": "c519b352-e26b-4743-9468-8edd02863178",
   "metadata": {},
   "outputs": [
    {
     "data": {
      "text/html": [
       "\n",
       "<script>\n",
       "document.body.addEventListener('htmx:configRequest', (event) => {\n",
       "    if(event.detail.path.includes('://')) return;\n",
       "    htmx.config.selfRequestsOnly=false;\n",
       "    event.detail.path = `${location.protocol}//${location.hostname}:8000${event.detail.path}`;\n",
       "});\n",
       "</script>"
      ],
      "text/plain": [
       "<IPython.core.display.HTML object>"
      ]
     },
     "metadata": {},
     "output_type": "display_data"
    },
    {
     "data": {
      "text/html": [
       "<iframe src=\"http://localhost:8000/\" style=\"width: 100%; height: auto; border: none;\" onload=\"{\n",
       "        let frame = this;\n",
       "        window.addEventListener('message', function(e) {\n",
       "            if (e.source !== frame.contentWindow) return; // Only proceed if the message is from this iframe\n",
       "            if (e.data.height) frame.style.height = (e.data.height+1) + 'px';\n",
       "        }, false);\n",
       "    }\" allow=\"accelerometer; autoplay; camera; clipboard-read; clipboard-write; display-capture; encrypted-media; fullscreen; gamepad; geolocation; gyroscope; hid; identity-credentials-get; idle-detection; magnetometer; microphone; midi; payment; picture-in-picture; publickey-credentials-get; screen-wake-lock; serial; usb; web-share; xr-spatial-tracking\"></iframe> "
      ],
      "text/plain": [
       "<IPython.core.display.HTML object>"
      ]
     },
     "metadata": {},
     "output_type": "display_data"
    }
   ],
   "source": [
    "#| eval: false\n",
    "#| output: false\n",
    "test_func = test_footer_with_logo_fasthtml_examples\n",
    "app, rt = create_test_app(theme=DaisyUITheme.LIGHT)\n",
    "\n",
    "@rt\n",
    "def index():\n",
    "    return create_test_page(test_func.__doc__.title().replace('.', ''), test_func())\n",
    "server = start_test_server(app)\n",
    "display(HTMX())\n",
    "server.stop()"
   ]
  },
  {
   "cell_type": "code",
   "execution_count": null,
   "id": "30356cc8-9ac7-443b-9eed-e41eb3b4ff18",
   "metadata": {},
   "outputs": [
    {
     "data": {
      "text/markdown": [
       "```html\n",
       "<footer class=\"footer sm:footer-horizontal bg-base-200 text-base-content p-10\">\n",
       "  <nav>\n",
       "    <h6 class=\"footer-title\">Services</h6>\n",
       "<a href=\"#\" class=\"link link-hover\">Branding</a><a href=\"#\" class=\"link link-hover\">Design</a><a href=\"#\" class=\"link link-hover\">Marketing</a><a href=\"#\" class=\"link link-hover\">Advertisement</a>  </nav>\n",
       "  <nav>\n",
       "    <h6 class=\"footer-title\">Company</h6>\n",
       "<a href=\"#\" class=\"link link-hover\">About us</a><a href=\"#\" class=\"link link-hover\">Contact</a><a href=\"#\" class=\"link link-hover\">Jobs</a><a href=\"#\" class=\"link link-hover\">Press kit</a>  </nav>\n",
       "  <nav>\n",
       "    <h6 class=\"footer-title\">Legal</h6>\n",
       "<a href=\"#\" class=\"link link-hover\">Terms of use</a><a href=\"#\" class=\"link link-hover\">Privacy policy</a><a href=\"#\" class=\"link link-hover\">Cookie policy</a>  </nav>\n",
       "<form enctype=\"multipart/form-data\">    <h6 class=\"footer-title\">Newsletter</h6>\n",
       "<fieldset class=\"w-80\"><label>Enter your email address</label>      <div class=\"join\">\n",
       "        <input type=\"text\" placeholder=\"[email protected]\" class=\"input join-item\">\n",
       "<button class=\"btn btn-primary join-item\">Subscribe</button>      </div>\n",
       "</fieldset></form></footer>\n",
       "\n",
       "```"
      ],
      "text/plain": [
       "footer((nav((h6(('Services',),{'class': 'footer-title'}), a(('Branding',),{'href': '#', 'class': 'link link-hover'}), a(('Design',),{'href': '#', 'class': 'link link-hover'}), a(('Marketing',),{'href': '#', 'class': 'link link-hover'}), a(('Advertisement',),{'href': '#', 'class': 'link link-hover'})),{}), nav((h6(('Company',),{'class': 'footer-title'}), a(('About us',),{'href': '#', 'class': 'link link-hover'}), a(('Contact',),{'href': '#', 'class': 'link link-hover'}), a(('Jobs',),{'href': '#', 'class': 'link link-hover'}), a(('Press kit',),{'href': '#', 'class': 'link link-hover'})),{}), nav((h6(('Legal',),{'class': 'footer-title'}), a(('Terms of use',),{'href': '#', 'class': 'link link-hover'}), a(('Privacy policy',),{'href': '#', 'class': 'link link-hover'}), a(('Cookie policy',),{'href': '#', 'class': 'link link-hover'})),{}), form((h6(('Newsletter',),{'class': 'footer-title'}), fieldset((label(('Enter your email address',),{}), div((input((),{'type': 'text', 'placeholder': '[email protected]', 'class': 'input join-item'}), button(('Subscribe',),{'class': 'btn btn-primary join-item'})),{'class': 'join'})),{'class': 'w-80'})),{'enctype': 'multipart/form-data'})),{'class': 'footer sm:footer-horizontal bg-base-200 text-base-content p-10'})"
      ]
     },
     "execution_count": null,
     "metadata": {},
     "output_type": "execute_result"
    }
   ],
   "source": [
    "#|exports\n",
    "def test_footer_with_form_fasthtml_examples():\n",
    "    \"\"\"Test footer with newsletter form from daisyUI v5 documentation.\"\"\"\n",
    "    from fasthtml.common import Footer, Nav, Form, Fieldset, Label, H6, A, Input, Button, Div\n",
    "    from cjm_fasthtml_tailwind.utilities.spacing import p\n",
    "    from cjm_fasthtml_tailwind.utilities.sizing import w\n",
    "    from cjm_fasthtml_daisyui.core.utility_classes import bg_dui, text_dui\n",
    "    from cjm_fasthtml_daisyui.components.navigation.link import link, link_styles\n",
    "    from cjm_fasthtml_daisyui.components.data_input.text_input import text_input, text_input_styles\n",
    "    from cjm_fasthtml_daisyui.components.layout.join import join, join_item\n",
    "    from cjm_fasthtml_daisyui.components.actions.button import btn, btn_colors\n",
    "    \n",
    "    # Footer with a form\n",
    "    footer_with_form = Footer(\n",
    "        Nav(\n",
    "            H6(\"Services\", cls=str(footer_title)),\n",
    "            A(\"Branding\", href=\"#\", cls=combine_classes(link, link_styles.hover)),\n",
    "            A(\"Design\", href=\"#\", cls=combine_classes(link, link_styles.hover)),\n",
    "            A(\"Marketing\", href=\"#\", cls=combine_classes(link, link_styles.hover)),\n",
    "            A(\"Advertisement\", href=\"#\", cls=combine_classes(link, link_styles.hover))\n",
    "        ),\n",
    "        Nav(\n",
    "            H6(\"Company\", cls=str(footer_title)),\n",
    "            A(\"About us\", href=\"#\", cls=combine_classes(link, link_styles.hover)),\n",
    "            A(\"Contact\", href=\"#\", cls=combine_classes(link, link_styles.hover)),\n",
    "            A(\"Jobs\", href=\"#\", cls=combine_classes(link, link_styles.hover)),\n",
    "            A(\"Press kit\", href=\"#\", cls=combine_classes(link, link_styles.hover))\n",
    "        ),\n",
    "        Nav(\n",
    "            H6(\"Legal\", cls=str(footer_title)),\n",
    "            A(\"Terms of use\", href=\"#\", cls=combine_classes(link, link_styles.hover)),\n",
    "            A(\"Privacy policy\", href=\"#\", cls=combine_classes(link, link_styles.hover)),\n",
    "            A(\"Cookie policy\", href=\"#\", cls=combine_classes(link, link_styles.hover))\n",
    "        ),\n",
    "        Form(\n",
    "            H6(\"Newsletter\", cls=str(footer_title)),\n",
    "            Fieldset(\n",
    "                Label(\"Enter your email address\"),\n",
    "                Div(\n",
    "                    Input(\n",
    "                        type=\"text\",\n",
    "                        placeholder=\"[email protected]\",\n",
    "                        cls=combine_classes(text_input, join_item)\n",
    "                    ),\n",
    "                    Button(\"Subscribe\", cls=combine_classes(btn, btn_colors.primary, join_item)),\n",
    "                    cls=str(join)\n",
    "                ),\n",
    "                cls=str(w._80)\n",
    "            )\n",
    "        ),\n",
    "        cls=combine_classes(footer, footer_directions.horizontal.sm, bg_dui.base_200, text_dui.base_content, p._10)\n",
    "    )\n",
    "    \n",
    "    # Verify structure\n",
    "    assert footer_with_form.tag == \"footer\"\n",
    "    assert \"footer\" in footer_with_form.attrs['class']\n",
    "    assert \"sm:footer-horizontal\" in footer_with_form.attrs['class']\n",
    "    assert \"bg-base-200\" in footer_with_form.attrs['class']\n",
    "    assert \"text-base-content\" in footer_with_form.attrs['class']\n",
    "    \n",
    "    # Verify nav sections\n",
    "    for i in range(3):\n",
    "        nav = footer_with_form.children[i]\n",
    "        assert nav.tag == \"nav\"\n",
    "        assert nav.children[0].tag == \"h6\"\n",
    "        assert \"footer-title\" in nav.children[0].attrs['class']\n",
    "    \n",
    "    # Verify form section\n",
    "    form = footer_with_form.children[3]\n",
    "    assert form.tag == \"form\"\n",
    "    assert form.children[0].tag == \"h6\"\n",
    "    assert \"footer-title\" in form.children[0].attrs['class']\n",
    "    assert form.children[0].children[0] == \"Newsletter\"\n",
    "    \n",
    "    # Verify fieldset\n",
    "    fieldset = form.children[1]\n",
    "    assert fieldset.tag == \"fieldset\"\n",
    "    assert \"w-80\" in fieldset.attrs['class']\n",
    "    assert fieldset.children[0].tag == \"label\"\n",
    "    assert fieldset.children[0].children[0] == \"Enter your email address\"\n",
    "    \n",
    "    # Verify join div\n",
    "    join_div = fieldset.children[1]\n",
    "    assert join_div.tag == \"div\"\n",
    "    assert \"join\" in join_div.attrs['class']\n",
    "    assert join_div.children[0].tag == \"input\"\n",
    "    assert \"input\" in join_div.children[0].attrs['class']\n",
    "    assert \"join-item\" in join_div.children[0].attrs['class']\n",
    "    assert join_div.children[1].tag == \"button\"\n",
    "    assert \"btn\" in join_div.children[1].attrs['class']\n",
    "    assert \"btn-primary\" in join_div.children[1].attrs['class']\n",
    "    assert \"join-item\" in join_div.children[1].attrs['class']\n",
    "    \n",
    "    return footer_with_form\n",
    "\n",
    "# Run the tests\n",
    "test_footer_with_form_fasthtml_examples()"
   ]
  },
  {
   "cell_type": "code",
   "execution_count": null,
   "id": "cf0a34eb-7490-4736-a28a-fff97ee49343",
   "metadata": {},
   "outputs": [
    {
     "data": {
      "text/html": [
       "\n",
       "<script>\n",
       "document.body.addEventListener('htmx:configRequest', (event) => {\n",
       "    if(event.detail.path.includes('://')) return;\n",
       "    htmx.config.selfRequestsOnly=false;\n",
       "    event.detail.path = `${location.protocol}//${location.hostname}:8000${event.detail.path}`;\n",
       "});\n",
       "</script>"
      ],
      "text/plain": [
       "<IPython.core.display.HTML object>"
      ]
     },
     "metadata": {},
     "output_type": "display_data"
    },
    {
     "data": {
      "text/html": [
       "<iframe src=\"http://localhost:8000/\" style=\"width: 100%; height: auto; border: none;\" onload=\"{\n",
       "        let frame = this;\n",
       "        window.addEventListener('message', function(e) {\n",
       "            if (e.source !== frame.contentWindow) return; // Only proceed if the message is from this iframe\n",
       "            if (e.data.height) frame.style.height = (e.data.height+1) + 'px';\n",
       "        }, false);\n",
       "    }\" allow=\"accelerometer; autoplay; camera; clipboard-read; clipboard-write; display-capture; encrypted-media; fullscreen; gamepad; geolocation; gyroscope; hid; identity-credentials-get; idle-detection; magnetometer; microphone; midi; payment; picture-in-picture; publickey-credentials-get; screen-wake-lock; serial; usb; web-share; xr-spatial-tracking\"></iframe> "
      ],
      "text/plain": [
       "<IPython.core.display.HTML object>"
      ]
     },
     "metadata": {},
     "output_type": "display_data"
    }
   ],
   "source": [
    "#| eval: false\n",
    "#| output: false\n",
    "test_func = test_footer_with_form_fasthtml_examples\n",
    "app, rt = create_test_app(theme=DaisyUITheme.LIGHT)\n",
    "\n",
    "@rt\n",
    "def index():\n",
    "    return create_test_page(test_func.__doc__.title().replace('.', ''), test_func())\n",
    "server = start_test_server(app)\n",
    "display(HTMX())\n",
    "server.stop()"
   ]
  },
  {
   "cell_type": "code",
   "execution_count": null,
   "id": "8f32f087-804d-4fb6-874c-fd8acfdd380d",
   "metadata": {},
   "outputs": [
    {
     "data": {
      "text/markdown": [
       "```html\n",
       "<footer class=\"footer sm:footer-horizontal bg-neutral text-neutral-content p-10\">\n",
       "  <aside>\n",
       "<svg xmlns=\"http://www.w3.org/2000/svg\" viewbox=\"0 0 24 24\" height=\"50\" width=\"50\" fill-rule=\"evenodd\" clip-rule=\"evenodd\" class=\"fill-current\"><path d=\"M22.672 15.226l-2.432.811.841 2.515c.33 1.019-.209 2.127-1.23 2.456-1.15.325-2.148-.321-2.463-1.226l-.84-2.518-5.013 1.677.84 2.517c.391 1.203-.434 2.542-1.831 2.542-.88 0-1.601-.564-1.86-1.314l-.842-2.516-2.431.809c-1.135.328-2.145-.317-2.463-1.229-.329-1.018.211-2.127 1.231-2.456l2.432-.809-1.621-4.823-2.432.808c-1.355.384-2.558-.59-2.558-1.839 0-.817.509-1.582 1.327-1.846l2.433-.809-.842-2.515c-.33-1.02.211-2.129 1.232-2.458 1.02-.329 2.13.209 2.461 1.229l.842 2.515 5.011-1.677-.839-2.517c-.403-1.238.484-2.553 1.843-2.553.819 0 1.585.509 1.85 1.326l.841 2.517 2.431-.81c1.02-.33 2.131.211 2.461 1.229.332 1.018-.21 2.126-1.23 2.456l-2.433.809 1.622 4.823 2.433-.809c1.242-.401 2.557.484 2.557 1.838 0 .819-.51 1.583-1.328 1.847m-8.992-6.428l-5.01 1.675 1.619 4.828 5.011-1.674-1.62-4.829z\"></path></svg>    <p>\n",
       "ACME Industries Ltd.<br>Providing reliable tech since 1992    </p>\n",
       "  </aside>\n",
       "  <nav>\n",
       "    <h6 class=\"footer-title\">Social</h6>\n",
       "    <div class=\"grid grid-flow-col gap-4\">\n",
       "<a href=\"#\"><svg xmlns=\"http://www.w3.org/2000/svg\" viewbox=\"0 0 24 24\" height=\"24\" width=\"24\" class=\"fill-current\"><path d=\"M24 4.557c-.883.392-1.832.656-2.828.775 1.017-.609 1.798-1.574 2.165-2.724-.951.564-2.005.974-3.127 1.195-.897-.957-2.178-1.555-3.594-1.555-3.179 0-5.515 2.966-4.797 6.045-4.091-.205-7.719-2.165-10.148-5.144-1.29 2.213-.669 5.108 1.523 6.574-.806-.026-1.566-.247-2.229-.616-.054 2.281 1.581 4.415 3.949 4.89-.693.188-1.452.232-2.224.084.626 1.956 2.444 3.379 4.6 3.419-2.07 1.623-4.678 2.348-7.29 2.04 2.179 1.397 4.768 2.212 7.548 2.212 9.142 0 14.307-7.721 13.995-14.646.962-.695 1.797-1.562 2.457-2.549z\"></path></svg></a><a href=\"#\"><svg xmlns=\"http://www.w3.org/2000/svg\" viewbox=\"0 0 24 24\" height=\"24\" width=\"24\" class=\"fill-current\"><path d=\"M19.615 3.184c-3.604-.246-11.631-.245-15.23 0-3.897.266-4.356 2.62-4.385 8.816.029 6.185.484 8.549 4.385 8.816 3.6.245 11.626.246 15.23 0 3.897-.266 4.356-2.62 4.385-8.816-.029-6.185-.484-8.549-4.385-8.816zm-10.615 12.816v-8l8 3.993-8 4.007z\"></path></svg></a><a href=\"#\"><svg xmlns=\"http://www.w3.org/2000/svg\" viewbox=\"0 0 24 24\" height=\"24\" width=\"24\" class=\"fill-current\"><path d=\"M9 8h-3v4h3v12h5v-12h3.642l.358-4h-4v-1.667c0-.955.192-1.333 1.115-1.333h2.885v-5h-3.808c-3.596 0-5.192 1.583-5.192 4.615v3.385z\"></path></svg></a>    </div>\n",
       "  </nav>\n",
       "</footer>\n",
       "\n",
       "```"
      ],
      "text/plain": [
       "footer((aside((svg((path((),{'d': 'M22.672 15.226l-2.432.811.841 2.515c.33 1.019-.209 2.127-1.23 2.456-1.15.325-2.148-.321-2.463-1.226l-.84-2.518-5.013 1.677.84 2.517c.391 1.203-.434 2.542-1.831 2.542-.88 0-1.601-.564-1.86-1.314l-.842-2.516-2.431.809c-1.135.328-2.145-.317-2.463-1.229-.329-1.018.211-2.127 1.231-2.456l2.432-.809-1.621-4.823-2.432.808c-1.355.384-2.558-.59-2.558-1.839 0-.817.509-1.582 1.327-1.846l2.433-.809-.842-2.515c-.33-1.02.211-2.129 1.232-2.458 1.02-.329 2.13.209 2.461 1.229l.842 2.515 5.011-1.677-.839-2.517c-.403-1.238.484-2.553 1.843-2.553.819 0 1.585.509 1.85 1.326l.841 2.517 2.431-.81c1.02-.33 2.131.211 2.461 1.229.332 1.018-.21 2.126-1.23 2.456l-2.433.809 1.622 4.823 2.433-.809c1.242-.401 2.557.484 2.557 1.838 0 .819-.51 1.583-1.328 1.847m-8.992-6.428l-5.01 1.675 1.619 4.828 5.011-1.674-1.62-4.829z'}),),{'xmlns': 'http://www.w3.org/2000/svg', 'viewbox': '0 0 24 24', 'height': '50', 'width': '50', 'fill-rule': 'evenodd', 'clip-rule': 'evenodd', 'class': 'fill-current'}), p(('ACME Industries Ltd.', br((),{}), 'Providing reliable tech since 1992'),{})),{}), nav((h6(('Social',),{'class': 'footer-title'}), div((a((svg((path((),{'d': 'M24 4.557c-.883.392-1.832.656-2.828.775 1.017-.609 1.798-1.574 2.165-2.724-.951.564-2.005.974-3.127 1.195-.897-.957-2.178-1.555-3.594-1.555-3.179 0-5.515 2.966-4.797 6.045-4.091-.205-7.719-2.165-10.148-5.144-1.29 2.213-.669 5.108 1.523 6.574-.806-.026-1.566-.247-2.229-.616-.054 2.281 1.581 4.415 3.949 4.89-.693.188-1.452.232-2.224.084.626 1.956 2.444 3.379 4.6 3.419-2.07 1.623-4.678 2.348-7.29 2.04 2.179 1.397 4.768 2.212 7.548 2.212 9.142 0 14.307-7.721 13.995-14.646.962-.695 1.797-1.562 2.457-2.549z'}),),{'xmlns': 'http://www.w3.org/2000/svg', 'viewbox': '0 0 24 24', 'height': '24', 'width': '24', 'class': 'fill-current'}),),{'href': '#'}), a((svg((path((),{'d': 'M19.615 3.184c-3.604-.246-11.631-.245-15.23 0-3.897.266-4.356 2.62-4.385 8.816.029 6.185.484 8.549 4.385 8.816 3.6.245 11.626.246 15.23 0 3.897-.266 4.356-2.62 4.385-8.816-.029-6.185-.484-8.549-4.385-8.816zm-10.615 12.816v-8l8 3.993-8 4.007z'}),),{'xmlns': 'http://www.w3.org/2000/svg', 'viewbox': '0 0 24 24', 'height': '24', 'width': '24', 'class': 'fill-current'}),),{'href': '#'}), a((svg((path((),{'d': 'M9 8h-3v4h3v12h5v-12h3.642l.358-4h-4v-1.667c0-.955.192-1.333 1.115-1.333h2.885v-5h-3.808c-3.596 0-5.192 1.583-5.192 4.615v3.385z'}),),{'xmlns': 'http://www.w3.org/2000/svg', 'viewbox': '0 0 24 24', 'height': '24', 'width': '24', 'class': 'fill-current'}),),{'href': '#'})),{'class': 'grid grid-flow-col gap-4'})),{})),{'class': 'footer sm:footer-horizontal bg-neutral text-neutral-content p-10'})"
      ]
     },
     "execution_count": null,
     "metadata": {},
     "output_type": "execute_result"
    }
   ],
   "source": [
    "#|exports\n",
    "def test_footer_with_social_icons_fasthtml_examples():\n",
    "    \"\"\"Test footer with social icons from daisyUI v5 documentation.\"\"\"\n",
    "    from fasthtml.common import Footer, Nav, Aside, H6, A, P, Br, Div\n",
    "    from fasthtml.svg import Svg, Path\n",
    "    from cjm_fasthtml_tailwind.utilities.spacing import p\n",
    "    from cjm_fasthtml_tailwind.utilities.svg import fill\n",
    "    from cjm_fasthtml_tailwind.utilities.layout import display_tw\n",
    "    from cjm_fasthtml_tailwind.utilities.flexbox_and_grid import grid_flow, gap\n",
    "    from cjm_fasthtml_daisyui.core.utility_classes import bg_dui, text_dui\n",
    "    from cjm_fasthtml_daisyui.components.navigation.link import link, link_styles\n",
    "    \n",
    "    # Create reusable logo SVG\n",
    "    logo_svg = Svg(\n",
    "        Path(\n",
    "            d=\"M22.672 15.226l-2.432.811.841 2.515c.33 1.019-.209 2.127-1.23 2.456-1.15.325-2.148-.321-2.463-1.226l-.84-2.518-5.013 1.677.84 2.517c.391 1.203-.434 2.542-1.831 2.542-.88 0-1.601-.564-1.86-1.314l-.842-2.516-2.431.809c-1.135.328-2.145-.317-2.463-1.229-.329-1.018.211-2.127 1.231-2.456l2.432-.809-1.621-4.823-2.432.808c-1.355.384-2.558-.59-2.558-1.839 0-.817.509-1.582 1.327-1.846l2.433-.809-.842-2.515c-.33-1.02.211-2.129 1.232-2.458 1.02-.329 2.13.209 2.461 1.229l.842 2.515 5.011-1.677-.839-2.517c-.403-1.238.484-2.553 1.843-2.553.819 0 1.585.509 1.85 1.326l.841 2.517 2.431-.81c1.02-.33 2.131.211 2.461 1.229.332 1.018-.21 2.126-1.23 2.456l-2.433.809 1.622 4.823 2.433-.809c1.242-.401 2.557.484 2.557 1.838 0 .819-.51 1.583-1.328 1.847m-8.992-6.428l-5.01 1.675 1.619 4.828 5.011-1.674-1.62-4.829z\"\n",
    "        ),\n",
    "        width=\"50\",\n",
    "        height=\"50\",\n",
    "        viewBox=\"0 0 24 24\",\n",
    "        xmlns=\"http://www.w3.org/2000/svg\",\n",
    "        fill_rule=\"evenodd\",\n",
    "        clip_rule=\"evenodd\",\n",
    "        cls=str(fill.current)\n",
    "    )\n",
    "    \n",
    "    # Create social media icons\n",
    "    twitter_icon = Svg(\n",
    "        Path(\n",
    "            d=\"M24 4.557c-.883.392-1.832.656-2.828.775 1.017-.609 1.798-1.574 2.165-2.724-.951.564-2.005.974-3.127 1.195-.897-.957-2.178-1.555-3.594-1.555-3.179 0-5.515 2.966-4.797 6.045-4.091-.205-7.719-2.165-10.148-5.144-1.29 2.213-.669 5.108 1.523 6.574-.806-.026-1.566-.247-2.229-.616-.054 2.281 1.581 4.415 3.949 4.89-.693.188-1.452.232-2.224.084.626 1.956 2.444 3.379 4.6 3.419-2.07 1.623-4.678 2.348-7.29 2.04 2.179 1.397 4.768 2.212 7.548 2.212 9.142 0 14.307-7.721 13.995-14.646.962-.695 1.797-1.562 2.457-2.549z\"\n",
    "        ),\n",
    "        xmlns=\"http://www.w3.org/2000/svg\",\n",
    "        width=\"24\",\n",
    "        height=\"24\",\n",
    "        viewBox=\"0 0 24 24\",\n",
    "        cls=str(fill.current)\n",
    "    )\n",
    "    \n",
    "    youtube_icon = Svg(\n",
    "        Path(\n",
    "            d=\"M19.615 3.184c-3.604-.246-11.631-.245-15.23 0-3.897.266-4.356 2.62-4.385 8.816.029 6.185.484 8.549 4.385 8.816 3.6.245 11.626.246 15.23 0 3.897-.266 4.356-2.62 4.385-8.816-.029-6.185-.484-8.549-4.385-8.816zm-10.615 12.816v-8l8 3.993-8 4.007z\"\n",
    "        ),\n",
    "        xmlns=\"http://www.w3.org/2000/svg\",\n",
    "        width=\"24\",\n",
    "        height=\"24\",\n",
    "        viewBox=\"0 0 24 24\",\n",
    "        cls=str(fill.current)\n",
    "    )\n",
    "    \n",
    "    facebook_icon = Svg(\n",
    "        Path(\n",
    "            d=\"M9 8h-3v4h3v12h5v-12h3.642l.358-4h-4v-1.667c0-.955.192-1.333 1.115-1.333h2.885v-5h-3.808c-3.596 0-5.192 1.583-5.192 4.615v3.385z\"\n",
    "        ),\n",
    "        xmlns=\"http://www.w3.org/2000/svg\",\n",
    "        width=\"24\",\n",
    "        height=\"24\",\n",
    "        viewBox=\"0 0 24 24\",\n",
    "        cls=str(fill.current)\n",
    "    )\n",
    "    \n",
    "    # Footer with logo and social icons\n",
    "    footer_with_social = Footer(\n",
    "        Aside(\n",
    "            logo_svg,\n",
    "            P(\n",
    "                \"ACME Industries Ltd.\",\n",
    "                Br(),\n",
    "                \"Providing reliable tech since 1992\"\n",
    "            )\n",
    "        ),\n",
    "        Nav(\n",
    "            H6(\"Social\", cls=str(footer_title)),\n",
    "            Div(\n",
    "                A(twitter_icon, href=\"#\"),\n",
    "                A(youtube_icon, href=\"#\"),\n",
    "                A(facebook_icon, href=\"#\"),\n",
    "                cls=combine_classes(display_tw.grid, grid_flow.col, gap._4)\n",
    "            )\n",
    "        ),\n",
    "        cls=combine_classes(footer, footer_directions.horizontal.sm, bg_dui.neutral, text_dui.neutral_content, p._10)\n",
    "    )\n",
    "    \n",
    "    # Verify structure\n",
    "    assert footer_with_social.tag == \"footer\"\n",
    "    assert \"footer\" in footer_with_social.attrs['class']\n",
    "    assert \"sm:footer-horizontal\" in footer_with_social.attrs['class']\n",
    "    assert \"bg-neutral\" in footer_with_social.attrs['class']\n",
    "    assert \"text-neutral-content\" in footer_with_social.attrs['class']\n",
    "    \n",
    "    # Verify aside section\n",
    "    aside = footer_with_social.children[0]\n",
    "    assert aside.tag == \"aside\"\n",
    "    assert aside.children[0].tag == \"svg\"\n",
    "    assert aside.children[1].tag == \"p\"\n",
    "    \n",
    "    # Verify social nav section\n",
    "    social_nav = footer_with_social.children[1]\n",
    "    assert social_nav.tag == \"nav\"\n",
    "    assert social_nav.children[0].tag == \"h6\"\n",
    "    assert \"footer-title\" in social_nav.children[0].attrs['class']\n",
    "    assert social_nav.children[0].children[0] == \"Social\"\n",
    "    \n",
    "    # Verify social icons grid\n",
    "    social_grid = social_nav.children[1]\n",
    "    assert social_grid.tag == \"div\"\n",
    "    assert \"grid\" in social_grid.attrs['class']\n",
    "    assert \"grid-flow-col\" in social_grid.attrs['class']\n",
    "    assert \"gap-4\" in social_grid.attrs['class']\n",
    "    assert len(social_grid.children) == 3\n",
    "    for child in social_grid.children:\n",
    "        assert child.tag == \"a\"\n",
    "        assert child.children[0].tag == \"svg\"\n",
    "    \n",
    "    return footer_with_social\n",
    "\n",
    "# Run the tests\n",
    "test_footer_with_social_icons_fasthtml_examples()"
   ]
  },
  {
   "cell_type": "code",
   "execution_count": null,
   "id": "d309291e-53e3-4fac-94d7-44959688aebe",
   "metadata": {},
   "outputs": [
    {
     "data": {
      "text/html": [
       "\n",
       "<script>\n",
       "document.body.addEventListener('htmx:configRequest', (event) => {\n",
       "    if(event.detail.path.includes('://')) return;\n",
       "    htmx.config.selfRequestsOnly=false;\n",
       "    event.detail.path = `${location.protocol}//${location.hostname}:8000${event.detail.path}`;\n",
       "});\n",
       "</script>"
      ],
      "text/plain": [
       "<IPython.core.display.HTML object>"
      ]
     },
     "metadata": {},
     "output_type": "display_data"
    },
    {
     "data": {
      "text/html": [
       "<iframe src=\"http://localhost:8000/\" style=\"width: 100%; height: auto; border: none;\" onload=\"{\n",
       "        let frame = this;\n",
       "        window.addEventListener('message', function(e) {\n",
       "            if (e.source !== frame.contentWindow) return; // Only proceed if the message is from this iframe\n",
       "            if (e.data.height) frame.style.height = (e.data.height+1) + 'px';\n",
       "        }, false);\n",
       "    }\" allow=\"accelerometer; autoplay; camera; clipboard-read; clipboard-write; display-capture; encrypted-media; fullscreen; gamepad; geolocation; gyroscope; hid; identity-credentials-get; idle-detection; magnetometer; microphone; midi; payment; picture-in-picture; publickey-credentials-get; screen-wake-lock; serial; usb; web-share; xr-spatial-tracking\"></iframe> "
      ],
      "text/plain": [
       "<IPython.core.display.HTML object>"
      ]
     },
     "metadata": {},
     "output_type": "display_data"
    }
   ],
   "source": [
    "#| eval: false\n",
    "#| output: false\n",
    "test_func = test_footer_with_social_icons_fasthtml_examples\n",
    "app, rt = create_test_app(theme=DaisyUITheme.LIGHT)\n",
    "\n",
    "@rt\n",
    "def index():\n",
    "    return create_test_page(test_func.__doc__.title().replace('.', ''), test_func())\n",
    "server = start_test_server(app)\n",
    "display(HTMX())\n",
    "server.stop()"
   ]
  },
  {
   "cell_type": "code",
   "execution_count": null,
   "id": "f41549c2-4a3b-4dcc-8f83-425d950878cc",
   "metadata": {},
   "outputs": [
    {
     "data": {
      "text/markdown": [
       "```html\n",
       "<footer class=\"footer sm:footer-horizontal footer-center bg-base-300 text-base-content p-4\">\n",
       "  <aside>\n",
       "    <p>Copyright © 2025 - All right reserved by ACME Industries Ltd</p>\n",
       "  </aside>\n",
       "</footer>\n",
       "\n",
       "```"
      ],
      "text/plain": [
       "footer((aside((p(('Copyright © 2025 - All right reserved by ACME Industries Ltd',),{}),),{}),),{'class': 'footer sm:footer-horizontal footer-center bg-base-300 text-base-content p-4'})"
      ]
     },
     "execution_count": null,
     "metadata": {},
     "output_type": "execute_result"
    }
   ],
   "source": [
    "#|exports\n",
    "def test_footer_copyright_fasthtml_examples():\n",
    "    \"\"\"Test footer with copyright text from daisyUI v5 documentation.\"\"\"\n",
    "    from fasthtml.common import Footer, Aside, P\n",
    "    from datetime import datetime\n",
    "    from cjm_fasthtml_tailwind.utilities.spacing import p\n",
    "    from cjm_fasthtml_daisyui.core.utility_classes import bg_dui, text_dui\n",
    "    \n",
    "    # Footer with copyright text\n",
    "    copyright_footer = Footer(\n",
    "        Aside(\n",
    "            P(f\"Copyright © {datetime.now().year} - All right reserved by ACME Industries Ltd\")\n",
    "        ),\n",
    "        cls=combine_classes(footer, footer_directions.horizontal.sm, footer_placement.center, bg_dui.base_300, text_dui.base_content, p._4)\n",
    "    )\n",
    "    \n",
    "    # Verify structure\n",
    "    assert copyright_footer.tag == \"footer\"\n",
    "    assert \"footer\" in copyright_footer.attrs['class']\n",
    "    assert \"sm:footer-horizontal\" in copyright_footer.attrs['class']\n",
    "    assert \"footer-center\" in copyright_footer.attrs['class']\n",
    "    assert \"bg-base-300\" in copyright_footer.attrs['class']\n",
    "    assert \"text-base-content\" in copyright_footer.attrs['class']\n",
    "    assert \"p-4\" in copyright_footer.attrs['class']\n",
    "    \n",
    "    # Verify aside section\n",
    "    aside = copyright_footer.children[0]\n",
    "    assert aside.tag == \"aside\"\n",
    "    assert aside.children[0].tag == \"p\"\n",
    "    assert f\"Copyright © {datetime.now().year} - All right reserved by ACME Industries Ltd\" in aside.children[0].children[0]\n",
    "    \n",
    "    return copyright_footer\n",
    "\n",
    "# Run the tests\n",
    "test_footer_copyright_fasthtml_examples()"
   ]
  },
  {
   "cell_type": "code",
   "execution_count": null,
   "id": "f0eedd07-f0b4-49b4-b7df-e7ae4168d227",
   "metadata": {},
   "outputs": [],
   "source": []
  },
  {
   "cell_type": "code",
   "execution_count": null,
   "id": "e4im8supzfp",
   "metadata": {},
   "outputs": [
    {
     "data": {
      "text/html": [
       "\n",
       "<script>\n",
       "document.body.addEventListener('htmx:configRequest', (event) => {\n",
       "    if(event.detail.path.includes('://')) return;\n",
       "    htmx.config.selfRequestsOnly=false;\n",
       "    event.detail.path = `${location.protocol}//${location.hostname}:8000${event.detail.path}`;\n",
       "});\n",
       "</script>"
      ],
      "text/plain": [
       "<IPython.core.display.HTML object>"
      ]
     },
     "metadata": {},
     "output_type": "display_data"
    },
    {
     "data": {
      "text/html": [
       "<iframe src=\"http://localhost:8000/\" style=\"width: 100%; height: auto; border: none;\" onload=\"{\n",
       "        let frame = this;\n",
       "        window.addEventListener('message', function(e) {\n",
       "            if (e.source !== frame.contentWindow) return; // Only proceed if the message is from this iframe\n",
       "            if (e.data.height) frame.style.height = (e.data.height+1) + 'px';\n",
       "        }, false);\n",
       "    }\" allow=\"accelerometer; autoplay; camera; clipboard-read; clipboard-write; display-capture; encrypted-media; fullscreen; gamepad; geolocation; gyroscope; hid; identity-credentials-get; idle-detection; magnetometer; microphone; midi; payment; picture-in-picture; publickey-credentials-get; screen-wake-lock; serial; usb; web-share; xr-spatial-tracking\"></iframe> "
      ],
      "text/plain": [
       "<IPython.core.display.HTML object>"
      ]
     },
     "metadata": {},
     "output_type": "display_data"
    }
   ],
   "source": [
    "#| eval: false\n",
    "#| output: false\n",
    "test_func = test_footer_copyright_fasthtml_examples\n",
    "app, rt = create_test_app(theme=DaisyUITheme.LIGHT)\n",
    "\n",
    "@rt\n",
    "def index():\n",
    "    return create_test_page(test_func.__doc__.title().replace('.', ''), test_func())\n",
    "server = start_test_server(app)\n",
    "display(HTMX())\n",
    "server.stop()"
   ]
  },
  {
   "cell_type": "code",
   "execution_count": null,
   "id": "5f64e10f-760b-403b-8f92-4fe53961e55d",
   "metadata": {},
   "outputs": [
    {
     "data": {
      "text/markdown": [
       "```html\n",
       "<footer class=\"footer sm:footer-horizontal bg-neutral text-neutral-content items-center p-4\">\n",
       "  <aside class=\"grid-flow-col items-center\">\n",
       "<svg xmlns=\"http://www.w3.org/2000/svg\" viewbox=\"0 0 24 24\" height=\"36\" width=\"36\" fill-rule=\"evenodd\" clip-rule=\"evenodd\" class=\"fill-current\"><path d=\"M22.672 15.226l-2.432.811.841 2.515c.33 1.019-.209 2.127-1.23 2.456-1.15.325-2.148-.321-2.463-1.226l-.84-2.518-5.013 1.677.84 2.517c.391 1.203-.434 2.542-1.831 2.542-.88 0-1.601-.564-1.86-1.314l-.842-2.516-2.431.809c-1.135.328-2.145-.317-2.463-1.229-.329-1.018.211-2.127 1.231-2.456l2.432-.809-1.621-4.823-2.432.808c-1.355.384-2.558-.59-2.558-1.839 0-.817.509-1.582 1.327-1.846l2.433-.809-.842-2.515c-.33-1.02.211-2.129 1.232-2.458 1.02-.329 2.13.209 2.461 1.229l.842 2.515 5.011-1.677-.839-2.517c-.403-1.238.484-2.553 1.843-2.553.819 0 1.585.509 1.85 1.326l.841 2.517 2.431-.81c1.02-.33 2.131.211 2.461 1.229.332 1.018-.21 2.126-1.23 2.456l-2.433.809 1.622 4.823 2.433-.809c1.242-.401 2.557.484 2.557 1.838 0 .819-.51 1.583-1.328 1.847m-8.992-6.428l-5.01 1.675 1.619 4.828 5.011-1.674-1.62-4.829z\"></path></svg>    <p>Copyright © 2025 - All right reserved</p>\n",
       "  </aside>\n",
       "  <nav class=\"grid-flow-col gap-4 md:place-self-center md:justify-self-end\">\n",
       "<a href=\"#\"><svg xmlns=\"http://www.w3.org/2000/svg\" viewbox=\"0 0 24 24\" height=\"24\" width=\"24\" class=\"fill-current\"><path d=\"M24 4.557c-.883.392-1.832.656-2.828.775 1.017-.609 1.798-1.574 2.165-2.724-.951.564-2.005.974-3.127 1.195-.897-.957-2.178-1.555-3.594-1.555-3.179 0-5.515 2.966-4.797 6.045-4.091-.205-7.719-2.165-10.148-5.144-1.29 2.213-.669 5.108 1.523 6.574-.806-.026-1.566-.247-2.229-.616-.054 2.281 1.581 4.415 3.949 4.89-.693.188-1.452.232-2.224.084.626 1.956 2.444 3.379 4.6 3.419-2.07 1.623-4.678 2.348-7.29 2.04 2.179 1.397 4.768 2.212 7.548 2.212 9.142 0 14.307-7.721 13.995-14.646.962-.695 1.797-1.562 2.457-2.549z\"></path></svg></a><a href=\"#\"><svg xmlns=\"http://www.w3.org/2000/svg\" viewbox=\"0 0 24 24\" height=\"24\" width=\"24\" class=\"fill-current\"><path d=\"M19.615 3.184c-3.604-.246-11.631-.245-15.23 0-3.897.266-4.356 2.62-4.385 8.816.029 6.185.484 8.549 4.385 8.816 3.6.245 11.626.246 15.23 0 3.897-.266 4.356-2.62 4.385-8.816-.029-6.185-.484-8.549-4.385-8.816zm-10.615 12.816v-8l8 3.993-8 4.007z\"></path></svg></a><a href=\"#\"><svg xmlns=\"http://www.w3.org/2000/svg\" viewbox=\"0 0 24 24\" height=\"24\" width=\"24\" class=\"fill-current\"><path d=\"M9 8h-3v4h3v12h5v-12h3.642l.358-4h-4v-1.667c0-.955.192-1.333 1.115-1.333h2.885v-5h-3.808c-3.596 0-5.192 1.583-5.192 4.615v3.385z\"></path></svg></a>  </nav>\n",
       "</footer>\n",
       "\n",
       "```"
      ],
      "text/plain": [
       "footer((aside((svg((path((),{'d': 'M22.672 15.226l-2.432.811.841 2.515c.33 1.019-.209 2.127-1.23 2.456-1.15.325-2.148-.321-2.463-1.226l-.84-2.518-5.013 1.677.84 2.517c.391 1.203-.434 2.542-1.831 2.542-.88 0-1.601-.564-1.86-1.314l-.842-2.516-2.431.809c-1.135.328-2.145-.317-2.463-1.229-.329-1.018.211-2.127 1.231-2.456l2.432-.809-1.621-4.823-2.432.808c-1.355.384-2.558-.59-2.558-1.839 0-.817.509-1.582 1.327-1.846l2.433-.809-.842-2.515c-.33-1.02.211-2.129 1.232-2.458 1.02-.329 2.13.209 2.461 1.229l.842 2.515 5.011-1.677-.839-2.517c-.403-1.238.484-2.553 1.843-2.553.819 0 1.585.509 1.85 1.326l.841 2.517 2.431-.81c1.02-.33 2.131.211 2.461 1.229.332 1.018-.21 2.126-1.23 2.456l-2.433.809 1.622 4.823 2.433-.809c1.242-.401 2.557.484 2.557 1.838 0 .819-.51 1.583-1.328 1.847m-8.992-6.428l-5.01 1.675 1.619 4.828 5.011-1.674-1.62-4.829z'}),),{'xmlns': 'http://www.w3.org/2000/svg', 'viewbox': '0 0 24 24', 'height': '36', 'width': '36', 'fill-rule': 'evenodd', 'clip-rule': 'evenodd', 'class': 'fill-current'}), p(('Copyright © 2025 - All right reserved',),{})),{'class': 'grid-flow-col items-center'}), nav((a((svg((path((),{'d': 'M24 4.557c-.883.392-1.832.656-2.828.775 1.017-.609 1.798-1.574 2.165-2.724-.951.564-2.005.974-3.127 1.195-.897-.957-2.178-1.555-3.594-1.555-3.179 0-5.515 2.966-4.797 6.045-4.091-.205-7.719-2.165-10.148-5.144-1.29 2.213-.669 5.108 1.523 6.574-.806-.026-1.566-.247-2.229-.616-.054 2.281 1.581 4.415 3.949 4.89-.693.188-1.452.232-2.224.084.626 1.956 2.444 3.379 4.6 3.419-2.07 1.623-4.678 2.348-7.29 2.04 2.179 1.397 4.768 2.212 7.548 2.212 9.142 0 14.307-7.721 13.995-14.646.962-.695 1.797-1.562 2.457-2.549z'}),),{'xmlns': 'http://www.w3.org/2000/svg', 'viewbox': '0 0 24 24', 'height': '24', 'width': '24', 'class': 'fill-current'}),),{'href': '#'}), a((svg((path((),{'d': 'M19.615 3.184c-3.604-.246-11.631-.245-15.23 0-3.897.266-4.356 2.62-4.385 8.816.029 6.185.484 8.549 4.385 8.816 3.6.245 11.626.246 15.23 0 3.897-.266 4.356-2.62 4.385-8.816-.029-6.185-.484-8.549-4.385-8.816zm-10.615 12.816v-8l8 3.993-8 4.007z'}),),{'xmlns': 'http://www.w3.org/2000/svg', 'viewbox': '0 0 24 24', 'height': '24', 'width': '24', 'class': 'fill-current'}),),{'href': '#'}), a((svg((path((),{'d': 'M9 8h-3v4h3v12h5v-12h3.642l.358-4h-4v-1.667c0-.955.192-1.333 1.115-1.333h2.885v-5h-3.808c-3.596 0-5.192 1.583-5.192 4.615v3.385z'}),),{'xmlns': 'http://www.w3.org/2000/svg', 'viewbox': '0 0 24 24', 'height': '24', 'width': '24', 'class': 'fill-current'}),),{'href': '#'})),{'class': 'grid-flow-col gap-4 md:place-self-center md:justify-self-end'})),{'class': 'footer sm:footer-horizontal bg-neutral text-neutral-content items-center p-4'})"
      ]
     },
     "execution_count": null,
     "metadata": {},
     "output_type": "execute_result"
    }
   ],
   "source": [
    "#|exports\n",
    "def test_footer_copyright_with_icons_fasthtml_examples():\n",
    "    \"\"\"Test footer with copyright text and social icons from daisyUI v5 documentation.\"\"\"\n",
    "    from fasthtml.common import Footer, Aside, Nav, P, A, Div\n",
    "    from fasthtml.svg import Svg, Path\n",
    "    from datetime import datetime\n",
    "    from cjm_fasthtml_tailwind.utilities.spacing import p\n",
    "    from cjm_fasthtml_tailwind.utilities.svg import fill\n",
    "    from cjm_fasthtml_tailwind.utilities.layout import display_tw\n",
    "    from cjm_fasthtml_tailwind.utilities.flexbox_and_grid import grid_flow, gap, items, place_self, justify_self\n",
    "    from cjm_fasthtml_daisyui.core.utility_classes import bg_dui, text_dui\n",
    "    \n",
    "    # Create reusable logo SVG\n",
    "    logo_svg = Svg(\n",
    "        Path(\n",
    "            d=\"M22.672 15.226l-2.432.811.841 2.515c.33 1.019-.209 2.127-1.23 2.456-1.15.325-2.148-.321-2.463-1.226l-.84-2.518-5.013 1.677.84 2.517c.391 1.203-.434 2.542-1.831 2.542-.88 0-1.601-.564-1.86-1.314l-.842-2.516-2.431.809c-1.135.328-2.145-.317-2.463-1.229-.329-1.018.211-2.127 1.231-2.456l2.432-.809-1.621-4.823-2.432.808c-1.355.384-2.558-.59-2.558-1.839 0-.817.509-1.582 1.327-1.846l2.433-.809-.842-2.515c-.33-1.02.211-2.129 1.232-2.458 1.02-.329 2.13.209 2.461 1.229l.842 2.515 5.011-1.677-.839-2.517c-.403-1.238.484-2.553 1.843-2.553.819 0 1.585.509 1.85 1.326l.841 2.517 2.431-.81c1.02-.33 2.131.211 2.461 1.229.332 1.018-.21 2.126-1.23 2.456l-2.433.809 1.622 4.823 2.433-.809c1.242-.401 2.557.484 2.557 1.838 0 .819-.51 1.583-1.328 1.847m-8.992-6.428l-5.01 1.675 1.619 4.828 5.011-1.674-1.62-4.829z\"\n",
    "        ),\n",
    "        width=\"36\",\n",
    "        height=\"36\",\n",
    "        viewBox=\"0 0 24 24\",\n",
    "        xmlns=\"http://www.w3.org/2000/svg\",\n",
    "        fill_rule=\"evenodd\",\n",
    "        clip_rule=\"evenodd\",\n",
    "        cls=str(fill.current)\n",
    "    )\n",
    "    \n",
    "    # Create social media icons\n",
    "    twitter_icon = Svg(\n",
    "        Path(\n",
    "            d=\"M24 4.557c-.883.392-1.832.656-2.828.775 1.017-.609 1.798-1.574 2.165-2.724-.951.564-2.005.974-3.127 1.195-.897-.957-2.178-1.555-3.594-1.555-3.179 0-5.515 2.966-4.797 6.045-4.091-.205-7.719-2.165-10.148-5.144-1.29 2.213-.669 5.108 1.523 6.574-.806-.026-1.566-.247-2.229-.616-.054 2.281 1.581 4.415 3.949 4.89-.693.188-1.452.232-2.224.084.626 1.956 2.444 3.379 4.6 3.419-2.07 1.623-4.678 2.348-7.29 2.04 2.179 1.397 4.768 2.212 7.548 2.212 9.142 0 14.307-7.721 13.995-14.646.962-.695 1.797-1.562 2.457-2.549z\"\n",
    "        ),\n",
    "        xmlns=\"http://www.w3.org/2000/svg\",\n",
    "        width=\"24\",\n",
    "        height=\"24\",\n",
    "        viewBox=\"0 0 24 24\",\n",
    "        cls=str(fill.current)\n",
    "    )\n",
    "    \n",
    "    youtube_icon = Svg(\n",
    "        Path(\n",
    "            d=\"M19.615 3.184c-3.604-.246-11.631-.245-15.23 0-3.897.266-4.356 2.62-4.385 8.816.029 6.185.484 8.549 4.385 8.816 3.6.245 11.626.246 15.23 0 3.897-.266 4.356-2.62 4.385-8.816-.029-6.185-.484-8.549-4.385-8.816zm-10.615 12.816v-8l8 3.993-8 4.007z\"\n",
    "        ),\n",
    "        xmlns=\"http://www.w3.org/2000/svg\",\n",
    "        width=\"24\",\n",
    "        height=\"24\",\n",
    "        viewBox=\"0 0 24 24\",\n",
    "        cls=str(fill.current)\n",
    "    )\n",
    "    \n",
    "    facebook_icon = Svg(\n",
    "        Path(\n",
    "            d=\"M9 8h-3v4h3v12h5v-12h3.642l.358-4h-4v-1.667c0-.955.192-1.333 1.115-1.333h2.885v-5h-3.808c-3.596 0-5.192 1.583-5.192 4.615v3.385z\"\n",
    "        ),\n",
    "        xmlns=\"http://www.w3.org/2000/svg\",\n",
    "        width=\"24\",\n",
    "        height=\"24\",\n",
    "        viewBox=\"0 0 24 24\",\n",
    "        cls=str(fill.current)\n",
    "    )\n",
    "    \n",
    "    # Footer with copyright text and social icons\n",
    "    copyright_social_footer = Footer(\n",
    "        Aside(\n",
    "            logo_svg,\n",
    "            P(f\"Copyright © {datetime.now().year} - All right reserved\"),\n",
    "            cls=combine_classes(grid_flow.col, items.center)\n",
    "        ),\n",
    "        Nav(\n",
    "            A(twitter_icon, href=\"#\"),\n",
    "            A(youtube_icon, href=\"#\"),\n",
    "            A(facebook_icon, href=\"#\"),\n",
    "            cls=combine_classes(grid_flow.col, gap._4, place_self.center.md, justify_self.end.md)\n",
    "        ),\n",
    "        cls=combine_classes(footer, footer_directions.horizontal.sm, bg_dui.neutral, text_dui.neutral_content, items.center, p._4)\n",
    "    )\n",
    "    \n",
    "    # Verify structure\n",
    "    assert copyright_social_footer.tag == \"footer\"\n",
    "    assert \"footer\" in copyright_social_footer.attrs['class']\n",
    "    assert \"sm:footer-horizontal\" in copyright_social_footer.attrs['class']\n",
    "    assert \"bg-neutral\" in copyright_social_footer.attrs['class']\n",
    "    assert \"text-neutral-content\" in copyright_social_footer.attrs['class']\n",
    "    assert \"items-center\" in copyright_social_footer.attrs['class']\n",
    "    assert \"p-4\" in copyright_social_footer.attrs['class']\n",
    "    \n",
    "    # Verify aside section\n",
    "    aside = copyright_social_footer.children[0]\n",
    "    assert aside.tag == \"aside\"\n",
    "    assert \"grid-flow-col\" in aside.attrs['class']\n",
    "    assert \"items-center\" in aside.attrs['class']\n",
    "    assert aside.children[0].tag == \"svg\"\n",
    "    assert aside.children[0].attrs['width'] == \"36\"\n",
    "    assert aside.children[1].tag == \"p\"\n",
    "    \n",
    "    # Verify nav section with social icons\n",
    "    nav = copyright_social_footer.children[1]\n",
    "    assert nav.tag == \"nav\"\n",
    "    assert \"grid-flow-col\" in nav.attrs['class']\n",
    "    assert \"gap-4\" in nav.attrs['class']\n",
    "    assert \"md:place-self-center\" in nav.attrs['class']\n",
    "    assert \"md:justify-self-end\" in nav.attrs['class']\n",
    "    assert len(nav.children) == 3\n",
    "    \n",
    "    return copyright_social_footer\n",
    "\n",
    "# Run the tests\n",
    "test_footer_copyright_with_icons_fasthtml_examples()"
   ]
  },
  {
   "cell_type": "code",
   "execution_count": null,
   "id": "226f6b75-9811-4dff-92ec-69d46ef90292",
   "metadata": {},
   "outputs": [],
   "source": []
  },
  {
   "cell_type": "code",
   "execution_count": null,
   "id": "d7kjv1p83ud",
   "metadata": {},
   "outputs": [
    {
     "data": {
      "text/html": [
       "\n",
       "<script>\n",
       "document.body.addEventListener('htmx:configRequest', (event) => {\n",
       "    if(event.detail.path.includes('://')) return;\n",
       "    htmx.config.selfRequestsOnly=false;\n",
       "    event.detail.path = `${location.protocol}//${location.hostname}:8000${event.detail.path}`;\n",
       "});\n",
       "</script>"
      ],
      "text/plain": [
       "<IPython.core.display.HTML object>"
      ]
     },
     "metadata": {},
     "output_type": "display_data"
    },
    {
     "data": {
      "text/html": [
       "<iframe src=\"http://localhost:8000/\" style=\"width: 100%; height: auto; border: none;\" onload=\"{\n",
       "        let frame = this;\n",
       "        window.addEventListener('message', function(e) {\n",
       "            if (e.source !== frame.contentWindow) return; // Only proceed if the message is from this iframe\n",
       "            if (e.data.height) frame.style.height = (e.data.height+1) + 'px';\n",
       "        }, false);\n",
       "    }\" allow=\"accelerometer; autoplay; camera; clipboard-read; clipboard-write; display-capture; encrypted-media; fullscreen; gamepad; geolocation; gyroscope; hid; identity-credentials-get; idle-detection; magnetometer; microphone; midi; payment; picture-in-picture; publickey-credentials-get; screen-wake-lock; serial; usb; web-share; xr-spatial-tracking\"></iframe> "
      ],
      "text/plain": [
       "<IPython.core.display.HTML object>"
      ]
     },
     "metadata": {},
     "output_type": "display_data"
    }
   ],
   "source": [
    "#| eval: false\n",
    "#| output: false\n",
    "test_func = test_footer_copyright_with_icons_fasthtml_examples\n",
    "app, rt = create_test_app(theme=DaisyUITheme.LIGHT)\n",
    "\n",
    "@rt\n",
    "def index():\n",
    "    return create_test_page(test_func.__doc__.title().replace('.', ''), test_func())\n",
    "server = start_test_server(app)\n",
    "display(HTMX())\n",
    "server.stop()"
   ]
  },
  {
   "cell_type": "code",
   "execution_count": null,
   "id": "357348b8-231f-4dd1-befa-eaae85c05ccf",
   "metadata": {},
   "outputs": [
    {
     "data": {
      "text/markdown": [
       "```html\n",
       "<footer class=\"footer sm:footer-horizontal bg-base-300 text-base-content p-10\">\n",
       "  <nav>\n",
       "    <h6 class=\"footer-title\">Services</h6>\n",
       "<a href=\"#\" class=\"link link-hover\">Branding</a><a href=\"#\" class=\"link link-hover\">Design</a><a href=\"#\" class=\"link link-hover\">Marketing</a><a href=\"#\" class=\"link link-hover\">Advertisement</a>  </nav>\n",
       "  <nav>\n",
       "    <h6 class=\"footer-title\">Company</h6>\n",
       "<a href=\"#\" class=\"link link-hover\">About us</a><a href=\"#\" class=\"link link-hover\">Contact</a><a href=\"#\" class=\"link link-hover\">Jobs</a><a href=\"#\" class=\"link link-hover\">Press kit</a>  </nav>\n",
       "  <nav>\n",
       "    <h6 class=\"footer-title\">Social</h6>\n",
       "    <div class=\"grid grid-flow-col gap-4\">\n",
       "<a href=\"#\"><svg xmlns=\"http://www.w3.org/2000/svg\" viewbox=\"0 0 24 24\" height=\"24\" width=\"24\" class=\"fill-current\"><path d=\"M24 4.557c-.883.392-1.832.656-2.828.775 1.017-.609 1.798-1.574 2.165-2.724-.951.564-2.005.974-3.127 1.195-.897-.957-2.178-1.555-3.594-1.555-3.179 0-5.515 2.966-4.797 6.045-4.091-.205-7.719-2.165-10.148-5.144-1.29 2.213-.669 5.108 1.523 6.574-.806-.026-1.566-.247-2.229-.616-.054 2.281 1.581 4.415 3.949 4.89-.693.188-1.452.232-2.224.084.626 1.956 2.444 3.379 4.6 3.419-2.07 1.623-4.678 2.348-7.29 2.04 2.179 1.397 4.768 2.212 7.548 2.212 9.142 0 14.307-7.721 13.995-14.646.962-.695 1.797-1.562 2.457-2.549z\"></path></svg></a><a href=\"#\"><svg xmlns=\"http://www.w3.org/2000/svg\" viewbox=\"0 0 24 24\" height=\"24\" width=\"24\" class=\"fill-current\"><path d=\"M19.615 3.184c-3.604-.246-11.631-.245-15.23 0-3.897.266-4.356 2.62-4.385 8.816.029 6.185.484 8.549 4.385 8.816 3.6.245 11.626.246 15.23 0 3.897-.266 4.356-2.62 4.385-8.816-.029-6.185-.484-8.549-4.385-8.816zm-10.615 12.816v-8l8 3.993-8 4.007z\"></path></svg></a><a href=\"#\"><svg xmlns=\"http://www.w3.org/2000/svg\" viewbox=\"0 0 24 24\" height=\"24\" width=\"24\" class=\"fill-current\"><path d=\"M9 8h-3v4h3v12h5v-12h3.642l.358-4h-4v-1.667c0-.955.192-1.333 1.115-1.333h2.885v-5h-3.808c-3.596 0-5.192 1.583-5.192 4.615v3.385z\"></path></svg></a>    </div>\n",
       "  </nav>\n",
       "</footer>\n",
       "\n",
       "```"
      ],
      "text/plain": [
       "footer((nav((h6(('Services',),{'class': 'footer-title'}), a(('Branding',),{'href': '#', 'class': 'link link-hover'}), a(('Design',),{'href': '#', 'class': 'link link-hover'}), a(('Marketing',),{'href': '#', 'class': 'link link-hover'}), a(('Advertisement',),{'href': '#', 'class': 'link link-hover'})),{}), nav((h6(('Company',),{'class': 'footer-title'}), a(('About us',),{'href': '#', 'class': 'link link-hover'}), a(('Contact',),{'href': '#', 'class': 'link link-hover'}), a(('Jobs',),{'href': '#', 'class': 'link link-hover'}), a(('Press kit',),{'href': '#', 'class': 'link link-hover'})),{}), nav((h6(('Social',),{'class': 'footer-title'}), div((a((svg((path((),{'d': 'M24 4.557c-.883.392-1.832.656-2.828.775 1.017-.609 1.798-1.574 2.165-2.724-.951.564-2.005.974-3.127 1.195-.897-.957-2.178-1.555-3.594-1.555-3.179 0-5.515 2.966-4.797 6.045-4.091-.205-7.719-2.165-10.148-5.144-1.29 2.213-.669 5.108 1.523 6.574-.806-.026-1.566-.247-2.229-.616-.054 2.281 1.581 4.415 3.949 4.89-.693.188-1.452.232-2.224.084.626 1.956 2.444 3.379 4.6 3.419-2.07 1.623-4.678 2.348-7.29 2.04 2.179 1.397 4.768 2.212 7.548 2.212 9.142 0 14.307-7.721 13.995-14.646.962-.695 1.797-1.562 2.457-2.549z'}),),{'xmlns': 'http://www.w3.org/2000/svg', 'viewbox': '0 0 24 24', 'height': '24', 'width': '24', 'class': 'fill-current'}),),{'href': '#'}), a((svg((path((),{'d': 'M19.615 3.184c-3.604-.246-11.631-.245-15.23 0-3.897.266-4.356 2.62-4.385 8.816.029 6.185.484 8.549 4.385 8.816 3.6.245 11.626.246 15.23 0 3.897-.266 4.356-2.62 4.385-8.816-.029-6.185-.484-8.549-4.385-8.816zm-10.615 12.816v-8l8 3.993-8 4.007z'}),),{'xmlns': 'http://www.w3.org/2000/svg', 'viewbox': '0 0 24 24', 'height': '24', 'width': '24', 'class': 'fill-current'}),),{'href': '#'}), a((svg((path((),{'d': 'M9 8h-3v4h3v12h5v-12h3.642l.358-4h-4v-1.667c0-.955.192-1.333 1.115-1.333h2.885v-5h-3.808c-3.596 0-5.192 1.583-5.192 4.615v3.385z'}),),{'xmlns': 'http://www.w3.org/2000/svg', 'viewbox': '0 0 24 24', 'height': '24', 'width': '24', 'class': 'fill-current'}),),{'href': '#'})),{'class': 'grid grid-flow-col gap-4'})),{})),{'class': 'footer sm:footer-horizontal bg-base-300 text-base-content p-10'})"
      ]
     },
     "execution_count": null,
     "metadata": {},
     "output_type": "execute_result"
    }
   ],
   "source": [
    "#|exports\n",
    "def test_footer_with_links_and_social_fasthtml_examples():\n",
    "    \"\"\"Test footer with links and social icons from daisyUI v5 documentation.\"\"\"\n",
    "    from fasthtml.common import Footer, Nav, H6, A, Div\n",
    "    from fasthtml.svg import Svg, Path\n",
    "    from cjm_fasthtml_tailwind.utilities.spacing import p\n",
    "    from cjm_fasthtml_tailwind.utilities.svg import fill\n",
    "    from cjm_fasthtml_tailwind.utilities.layout import display_tw\n",
    "    from cjm_fasthtml_tailwind.utilities.flexbox_and_grid import grid_flow, gap\n",
    "    from cjm_fasthtml_daisyui.core.utility_classes import bg_dui, text_dui\n",
    "    from cjm_fasthtml_daisyui.components.navigation.link import link, link_styles\n",
    "    \n",
    "    # Create social media icons\n",
    "    twitter_icon = Svg(\n",
    "        Path(\n",
    "            d=\"M24 4.557c-.883.392-1.832.656-2.828.775 1.017-.609 1.798-1.574 2.165-2.724-.951.564-2.005.974-3.127 1.195-.897-.957-2.178-1.555-3.594-1.555-3.179 0-5.515 2.966-4.797 6.045-4.091-.205-7.719-2.165-10.148-5.144-1.29 2.213-.669 5.108 1.523 6.574-.806-.026-1.566-.247-2.229-.616-.054 2.281 1.581 4.415 3.949 4.89-.693.188-1.452.232-2.224.084.626 1.956 2.444 3.379 4.6 3.419-2.07 1.623-4.678 2.348-7.29 2.04 2.179 1.397 4.768 2.212 7.548 2.212 9.142 0 14.307-7.721 13.995-14.646.962-.695 1.797-1.562 2.457-2.549z\"\n",
    "        ),\n",
    "        xmlns=\"http://www.w3.org/2000/svg\",\n",
    "        width=\"24\",\n",
    "        height=\"24\",\n",
    "        viewBox=\"0 0 24 24\",\n",
    "        cls=str(fill.current)\n",
    "    )\n",
    "    \n",
    "    youtube_icon = Svg(\n",
    "        Path(\n",
    "            d=\"M19.615 3.184c-3.604-.246-11.631-.245-15.23 0-3.897.266-4.356 2.62-4.385 8.816.029 6.185.484 8.549 4.385 8.816 3.6.245 11.626.246 15.23 0 3.897-.266 4.356-2.62 4.385-8.816-.029-6.185-.484-8.549-4.385-8.816zm-10.615 12.816v-8l8 3.993-8 4.007z\"\n",
    "        ),\n",
    "        xmlns=\"http://www.w3.org/2000/svg\",\n",
    "        width=\"24\",\n",
    "        height=\"24\",\n",
    "        viewBox=\"0 0 24 24\",\n",
    "        cls=str(fill.current)\n",
    "    )\n",
    "    \n",
    "    facebook_icon = Svg(\n",
    "        Path(\n",
    "            d=\"M9 8h-3v4h3v12h5v-12h3.642l.358-4h-4v-1.667c0-.955.192-1.333 1.115-1.333h2.885v-5h-3.808c-3.596 0-5.192 1.583-5.192 4.615v3.385z\"\n",
    "        ),\n",
    "        xmlns=\"http://www.w3.org/2000/svg\",\n",
    "        width=\"24\",\n",
    "        height=\"24\",\n",
    "        viewBox=\"0 0 24 24\",\n",
    "        cls=str(fill.current)\n",
    "    )\n",
    "    \n",
    "    # Footer with links and social icons\n",
    "    footer_links_social = Footer(\n",
    "        Nav(\n",
    "            H6(\"Services\", cls=str(footer_title)),\n",
    "            A(\"Branding\", href=\"#\", cls=combine_classes(link, link_styles.hover)),\n",
    "            A(\"Design\", href=\"#\", cls=combine_classes(link, link_styles.hover)),\n",
    "            A(\"Marketing\", href=\"#\", cls=combine_classes(link, link_styles.hover)),\n",
    "            A(\"Advertisement\", href=\"#\", cls=combine_classes(link, link_styles.hover))\n",
    "        ),\n",
    "        Nav(\n",
    "            H6(\"Company\", cls=str(footer_title)),\n",
    "            A(\"About us\", href=\"#\", cls=combine_classes(link, link_styles.hover)),\n",
    "            A(\"Contact\", href=\"#\", cls=combine_classes(link, link_styles.hover)),\n",
    "            A(\"Jobs\", href=\"#\", cls=combine_classes(link, link_styles.hover)),\n",
    "            A(\"Press kit\", href=\"#\", cls=combine_classes(link, link_styles.hover))\n",
    "        ),\n",
    "        Nav(\n",
    "            H6(\"Social\", cls=str(footer_title)),\n",
    "            Div(\n",
    "                A(twitter_icon, href=\"#\"),\n",
    "                A(youtube_icon, href=\"#\"),\n",
    "                A(facebook_icon, href=\"#\"),\n",
    "                cls=combine_classes(display_tw.grid, grid_flow.col, gap._4)\n",
    "            )\n",
    "        ),\n",
    "        cls=combine_classes(footer, footer_directions.horizontal.sm, bg_dui.base_300, text_dui.base_content, p._10)\n",
    "    )\n",
    "    \n",
    "    # Verify structure\n",
    "    assert footer_links_social.tag == \"footer\"\n",
    "    assert \"footer\" in footer_links_social.attrs['class']\n",
    "    assert \"sm:footer-horizontal\" in footer_links_social.attrs['class']\n",
    "    assert \"bg-base-300\" in footer_links_social.attrs['class']\n",
    "    assert \"text-base-content\" in footer_links_social.attrs['class']\n",
    "    assert \"p-10\" in footer_links_social.attrs['class']\n",
    "    \n",
    "    # Verify service and company nav sections\n",
    "    for i in range(2):\n",
    "        nav = footer_links_social.children[i]\n",
    "        assert nav.tag == \"nav\"\n",
    "        assert nav.children[0].tag == \"h6\"\n",
    "        assert \"footer-title\" in nav.children[0].attrs['class']\n",
    "        for j in range(1, 5):\n",
    "            assert nav.children[j].tag == \"a\"\n",
    "            assert \"link\" in nav.children[j].attrs['class']\n",
    "            assert \"link-hover\" in nav.children[j].attrs['class']\n",
    "    \n",
    "    # Verify social nav section\n",
    "    social_nav = footer_links_social.children[2]\n",
    "    assert social_nav.tag == \"nav\"\n",
    "    assert social_nav.children[0].tag == \"h6\"\n",
    "    assert social_nav.children[0].children[0] == \"Social\"\n",
    "    social_grid = social_nav.children[1]\n",
    "    assert social_grid.tag == \"div\"\n",
    "    assert \"grid\" in social_grid.attrs['class']\n",
    "    assert \"grid-flow-col\" in social_grid.attrs['class']\n",
    "    assert \"gap-4\" in social_grid.attrs['class']\n",
    "    assert len(social_grid.children) == 3\n",
    "    \n",
    "    return footer_links_social\n",
    "\n",
    "# Run the tests\n",
    "test_footer_with_links_and_social_fasthtml_examples()"
   ]
  },
  {
   "cell_type": "code",
   "execution_count": null,
   "id": "95e13cc0-74db-4838-81a1-bcf8d23094d8",
   "metadata": {},
   "outputs": [],
   "source": []
  },
  {
   "cell_type": "code",
   "execution_count": null,
   "id": "rqorbui5jgh",
   "metadata": {},
   "outputs": [
    {
     "data": {
      "text/html": [
       "\n",
       "<script>\n",
       "document.body.addEventListener('htmx:configRequest', (event) => {\n",
       "    if(event.detail.path.includes('://')) return;\n",
       "    htmx.config.selfRequestsOnly=false;\n",
       "    event.detail.path = `${location.protocol}//${location.hostname}:8000${event.detail.path}`;\n",
       "});\n",
       "</script>"
      ],
      "text/plain": [
       "<IPython.core.display.HTML object>"
      ]
     },
     "metadata": {},
     "output_type": "display_data"
    },
    {
     "data": {
      "text/html": [
       "<iframe src=\"http://localhost:8000/\" style=\"width: 100%; height: auto; border: none;\" onload=\"{\n",
       "        let frame = this;\n",
       "        window.addEventListener('message', function(e) {\n",
       "            if (e.source !== frame.contentWindow) return; // Only proceed if the message is from this iframe\n",
       "            if (e.data.height) frame.style.height = (e.data.height+1) + 'px';\n",
       "        }, false);\n",
       "    }\" allow=\"accelerometer; autoplay; camera; clipboard-read; clipboard-write; display-capture; encrypted-media; fullscreen; gamepad; geolocation; gyroscope; hid; identity-credentials-get; idle-detection; magnetometer; microphone; midi; payment; picture-in-picture; publickey-credentials-get; screen-wake-lock; serial; usb; web-share; xr-spatial-tracking\"></iframe> "
      ],
      "text/plain": [
       "<IPython.core.display.HTML object>"
      ]
     },
     "metadata": {},
     "output_type": "display_data"
    }
   ],
   "source": [
    "#| eval: false\n",
    "#| output: false\n",
    "test_func = test_footer_with_links_and_social_fasthtml_examples\n",
    "app, rt = create_test_app(theme=DaisyUITheme.LIGHT)\n",
    "\n",
    "@rt\n",
    "def index():\n",
    "    return create_test_page(test_func.__doc__.title().replace('.', ''), test_func())\n",
    "server = start_test_server(app)\n",
    "display(HTMX())\n",
    "server.stop()"
   ]
  },
  {
   "cell_type": "code",
   "execution_count": null,
   "id": "36e9a29e-2cbf-4949-bb9a-bd492e108f75",
   "metadata": {},
   "outputs": [
    {
     "data": {
      "text/markdown": [
       "```html\n",
       "<footer class=\"footer footer-horizontal footer-center bg-primary text-primary-content p-10\">\n",
       "  <aside>\n",
       "<svg xmlns=\"http://www.w3.org/2000/svg\" viewbox=\"0 0 24 24\" height=\"50\" width=\"50\" fill-rule=\"evenodd\" clip-rule=\"evenodd\" class=\"inline-block fill-current\"><path d=\"M22.672 15.226l-2.432.811.841 2.515c.33 1.019-.209 2.127-1.23 2.456-1.15.325-2.148-.321-2.463-1.226l-.84-2.518-5.013 1.677.84 2.517c.391 1.203-.434 2.542-1.831 2.542-.88 0-1.601-.564-1.86-1.314l-.842-2.516-2.431.809c-1.135.328-2.145-.317-2.463-1.229-.329-1.018.211-2.127 1.231-2.456l2.432-.809-1.621-4.823-2.432.808c-1.355.384-2.558-.59-2.558-1.839 0-.817.509-1.582 1.327-1.846l2.433-.809-.842-2.515c-.33-1.02.211-2.129 1.232-2.458 1.02-.329 2.13.209 2.461 1.229l.842 2.515 5.011-1.677-.839-2.517c-.403-1.238.484-2.553 1.843-2.553.819 0 1.585.509 1.85 1.326l.841 2.517 2.431-.81c1.02-.33 2.131.211 2.461 1.229.332 1.018-.21 2.126-1.23 2.456l-2.433.809 1.622 4.823 2.433-.809c1.242-.401 2.557.484 2.557 1.838 0 .819-.51 1.583-1.328 1.847m-8.992-6.428l-5.01 1.675 1.619 4.828 5.011-1.674-1.62-4.829z\"></path></svg>    <p class=\"font-bold\">\n",
       "ACME Industries Ltd.<br>Providing reliable tech since 1992    </p>\n",
       "    <p>Copyright © 2025 - All right reserved</p>\n",
       "  </aside>\n",
       "  <nav>\n",
       "    <div class=\"grid grid-flow-col gap-4\">\n",
       "<a href=\"#\"><svg xmlns=\"http://www.w3.org/2000/svg\" viewbox=\"0 0 24 24\" height=\"24\" width=\"24\" class=\"fill-current\"><path d=\"M24 4.557c-.883.392-1.832.656-2.828.775 1.017-.609 1.798-1.574 2.165-2.724-.951.564-2.005.974-3.127 1.195-.897-.957-2.178-1.555-3.594-1.555-3.179 0-5.515 2.966-4.797 6.045-4.091-.205-7.719-2.165-10.148-5.144-1.29 2.213-.669 5.108 1.523 6.574-.806-.026-1.566-.247-2.229-.616-.054 2.281 1.581 4.415 3.949 4.89-.693.188-1.452.232-2.224.084.626 1.956 2.444 3.379 4.6 3.419-2.07 1.623-4.678 2.348-7.29 2.04 2.179 1.397 4.768 2.212 7.548 2.212 9.142 0 14.307-7.721 13.995-14.646.962-.695 1.797-1.562 2.457-2.549z\"></path></svg></a><a href=\"#\"><svg xmlns=\"http://www.w3.org/2000/svg\" viewbox=\"0 0 24 24\" height=\"24\" width=\"24\" class=\"fill-current\"><path d=\"M19.615 3.184c-3.604-.246-11.631-.245-15.23 0-3.897.266-4.356 2.62-4.385 8.816.029 6.185.484 8.549 4.385 8.816 3.6.245 11.626.246 15.23 0 3.897-.266 4.356-2.62 4.385-8.816-.029-6.185-.484-8.549-4.385-8.816zm-10.615 12.816v-8l8 3.993-8 4.007z\"></path></svg></a><a href=\"#\"><svg xmlns=\"http://www.w3.org/2000/svg\" viewbox=\"0 0 24 24\" height=\"24\" width=\"24\" class=\"fill-current\"><path d=\"M9 8h-3v4h3v12h5v-12h3.642l.358-4h-4v-1.667c0-.955.192-1.333 1.115-1.333h2.885v-5h-3.808c-3.596 0-5.192 1.583-5.192 4.615v3.385z\"></path></svg></a>    </div>\n",
       "  </nav>\n",
       "</footer>\n",
       "\n",
       "```"
      ],
      "text/plain": [
       "footer((aside((svg((path((),{'d': 'M22.672 15.226l-2.432.811.841 2.515c.33 1.019-.209 2.127-1.23 2.456-1.15.325-2.148-.321-2.463-1.226l-.84-2.518-5.013 1.677.84 2.517c.391 1.203-.434 2.542-1.831 2.542-.88 0-1.601-.564-1.86-1.314l-.842-2.516-2.431.809c-1.135.328-2.145-.317-2.463-1.229-.329-1.018.211-2.127 1.231-2.456l2.432-.809-1.621-4.823-2.432.808c-1.355.384-2.558-.59-2.558-1.839 0-.817.509-1.582 1.327-1.846l2.433-.809-.842-2.515c-.33-1.02.211-2.129 1.232-2.458 1.02-.329 2.13.209 2.461 1.229l.842 2.515 5.011-1.677-.839-2.517c-.403-1.238.484-2.553 1.843-2.553.819 0 1.585.509 1.85 1.326l.841 2.517 2.431-.81c1.02-.33 2.131.211 2.461 1.229.332 1.018-.21 2.126-1.23 2.456l-2.433.809 1.622 4.823 2.433-.809c1.242-.401 2.557.484 2.557 1.838 0 .819-.51 1.583-1.328 1.847m-8.992-6.428l-5.01 1.675 1.619 4.828 5.011-1.674-1.62-4.829z'}),),{'xmlns': 'http://www.w3.org/2000/svg', 'viewbox': '0 0 24 24', 'height': '50', 'width': '50', 'fill-rule': 'evenodd', 'clip-rule': 'evenodd', 'class': 'inline-block fill-current'}), p(('ACME Industries Ltd.', br((),{}), 'Providing reliable tech since 1992'),{'class': 'font-bold'}), p(('Copyright © 2025 - All right reserved',),{})),{}), nav((div((a((svg((path((),{'d': 'M24 4.557c-.883.392-1.832.656-2.828.775 1.017-.609 1.798-1.574 2.165-2.724-.951.564-2.005.974-3.127 1.195-.897-.957-2.178-1.555-3.594-1.555-3.179 0-5.515 2.966-4.797 6.045-4.091-.205-7.719-2.165-10.148-5.144-1.29 2.213-.669 5.108 1.523 6.574-.806-.026-1.566-.247-2.229-.616-.054 2.281 1.581 4.415 3.949 4.89-.693.188-1.452.232-2.224.084.626 1.956 2.444 3.379 4.6 3.419-2.07 1.623-4.678 2.348-7.29 2.04 2.179 1.397 4.768 2.212 7.548 2.212 9.142 0 14.307-7.721 13.995-14.646.962-.695 1.797-1.562 2.457-2.549z'}),),{'xmlns': 'http://www.w3.org/2000/svg', 'viewbox': '0 0 24 24', 'height': '24', 'width': '24', 'class': 'fill-current'}),),{'href': '#'}), a((svg((path((),{'d': 'M19.615 3.184c-3.604-.246-11.631-.245-15.23 0-3.897.266-4.356 2.62-4.385 8.816.029 6.185.484 8.549 4.385 8.816 3.6.245 11.626.246 15.23 0 3.897-.266 4.356-2.62 4.385-8.816-.029-6.185-.484-8.549-4.385-8.816zm-10.615 12.816v-8l8 3.993-8 4.007z'}),),{'xmlns': 'http://www.w3.org/2000/svg', 'viewbox': '0 0 24 24', 'height': '24', 'width': '24', 'class': 'fill-current'}),),{'href': '#'}), a((svg((path((),{'d': 'M9 8h-3v4h3v12h5v-12h3.642l.358-4h-4v-1.667c0-.955.192-1.333 1.115-1.333h2.885v-5h-3.808c-3.596 0-5.192 1.583-5.192 4.615v3.385z'}),),{'xmlns': 'http://www.w3.org/2000/svg', 'viewbox': '0 0 24 24', 'height': '24', 'width': '24', 'class': 'fill-current'}),),{'href': '#'})),{'class': 'grid grid-flow-col gap-4'}),),{})),{'class': 'footer footer-horizontal footer-center bg-primary text-primary-content p-10'})"
      ]
     },
     "execution_count": null,
     "metadata": {},
     "output_type": "execute_result"
    }
   ],
   "source": [
    "#|exports\n",
    "def test_footer_centered_with_logo_fasthtml_examples():\n",
    "    \"\"\"Test centered footer with logo and social icons from daisyUI v5 documentation.\"\"\"\n",
    "    from fasthtml.common import Footer, Aside, Nav, P, A, Div, Br\n",
    "    from fasthtml.svg import Svg, Path\n",
    "    from datetime import datetime\n",
    "    from cjm_fasthtml_tailwind.utilities.spacing import p\n",
    "    from cjm_fasthtml_tailwind.utilities.svg import fill\n",
    "    from cjm_fasthtml_tailwind.utilities.typography import font\n",
    "    from cjm_fasthtml_tailwind.utilities.layout import display_tw\n",
    "    from cjm_fasthtml_tailwind.utilities.flexbox_and_grid import grid_flow, gap\n",
    "    from cjm_fasthtml_daisyui.core.utility_classes import bg_dui, text_dui\n",
    "    \n",
    "    # Create reusable logo SVG\n",
    "    logo_svg = Svg(\n",
    "        Path(\n",
    "            d=\"M22.672 15.226l-2.432.811.841 2.515c.33 1.019-.209 2.127-1.23 2.456-1.15.325-2.148-.321-2.463-1.226l-.84-2.518-5.013 1.677.84 2.517c.391 1.203-.434 2.542-1.831 2.542-.88 0-1.601-.564-1.86-1.314l-.842-2.516-2.431.809c-1.135.328-2.145-.317-2.463-1.229-.329-1.018.211-2.127 1.231-2.456l2.432-.809-1.621-4.823-2.432.808c-1.355.384-2.558-.59-2.558-1.839 0-.817.509-1.582 1.327-1.846l2.433-.809-.842-2.515c-.33-1.02.211-2.129 1.232-2.458 1.02-.329 2.13.209 2.461 1.229l.842 2.515 5.011-1.677-.839-2.517c-.403-1.238.484-2.553 1.843-2.553.819 0 1.585.509 1.85 1.326l.841 2.517 2.431-.81c1.02-.33 2.131.211 2.461 1.229.332 1.018-.21 2.126-1.23 2.456l-2.433.809 1.622 4.823 2.433-.809c1.242-.401 2.557.484 2.557 1.838 0 .819-.51 1.583-1.328 1.847m-8.992-6.428l-5.01 1.675 1.619 4.828 5.011-1.674-1.62-4.829z\"\n",
    "        ),\n",
    "        width=\"50\",\n",
    "        height=\"50\",\n",
    "        viewBox=\"0 0 24 24\",\n",
    "        xmlns=\"http://www.w3.org/2000/svg\",\n",
    "        fill_rule=\"evenodd\",\n",
    "        clip_rule=\"evenodd\",\n",
    "        cls=combine_classes(display_tw.inline_block, fill.current)\n",
    "    )\n",
    "    \n",
    "    # Create social media icons\n",
    "    twitter_icon = Svg(\n",
    "        Path(\n",
    "            d=\"M24 4.557c-.883.392-1.832.656-2.828.775 1.017-.609 1.798-1.574 2.165-2.724-.951.564-2.005.974-3.127 1.195-.897-.957-2.178-1.555-3.594-1.555-3.179 0-5.515 2.966-4.797 6.045-4.091-.205-7.719-2.165-10.148-5.144-1.29 2.213-.669 5.108 1.523 6.574-.806-.026-1.566-.247-2.229-.616-.054 2.281 1.581 4.415 3.949 4.89-.693.188-1.452.232-2.224.084.626 1.956 2.444 3.379 4.6 3.419-2.07 1.623-4.678 2.348-7.29 2.04 2.179 1.397 4.768 2.212 7.548 2.212 9.142 0 14.307-7.721 13.995-14.646.962-.695 1.797-1.562 2.457-2.549z\"\n",
    "        ),\n",
    "        xmlns=\"http://www.w3.org/2000/svg\",\n",
    "        width=\"24\",\n",
    "        height=\"24\",\n",
    "        viewBox=\"0 0 24 24\",\n",
    "        cls=str(fill.current)\n",
    "    )\n",
    "    \n",
    "    youtube_icon = Svg(\n",
    "        Path(\n",
    "            d=\"M19.615 3.184c-3.604-.246-11.631-.245-15.23 0-3.897.266-4.356 2.62-4.385 8.816.029 6.185.484 8.549 4.385 8.816 3.6.245 11.626.246 15.23 0 3.897-.266 4.356-2.62 4.385-8.816-.029-6.185-.484-8.549-4.385-8.816zm-10.615 12.816v-8l8 3.993-8 4.007z\"\n",
    "        ),\n",
    "        xmlns=\"http://www.w3.org/2000/svg\",\n",
    "        width=\"24\",\n",
    "        height=\"24\",\n",
    "        viewBox=\"0 0 24 24\",\n",
    "        cls=str(fill.current)\n",
    "    )\n",
    "    \n",
    "    facebook_icon = Svg(\n",
    "        Path(\n",
    "            d=\"M9 8h-3v4h3v12h5v-12h3.642l.358-4h-4v-1.667c0-.955.192-1.333 1.115-1.333h2.885v-5h-3.808c-3.596 0-5.192 1.583-5.192 4.615v3.385z\"\n",
    "        ),\n",
    "        xmlns=\"http://www.w3.org/2000/svg\",\n",
    "        width=\"24\",\n",
    "        height=\"24\",\n",
    "        viewBox=\"0 0 24 24\",\n",
    "        cls=str(fill.current)\n",
    "    )\n",
    "    \n",
    "    # Centered footer with logo and social icons\n",
    "    centered_logo_footer = Footer(\n",
    "        Aside(\n",
    "            logo_svg,\n",
    "            P(\n",
    "                \"ACME Industries Ltd.\",\n",
    "                Br(),\n",
    "                \"Providing reliable tech since 1992\",\n",
    "                cls=str(font.bold)\n",
    "            ),\n",
    "            P(f\"Copyright © {datetime.now().year} - All right reserved\")\n",
    "        ),\n",
    "        Nav(\n",
    "            Div(\n",
    "                A(twitter_icon, href=\"#\"),\n",
    "                A(youtube_icon, href=\"#\"),\n",
    "                A(facebook_icon, href=\"#\"),\n",
    "                cls=combine_classes(display_tw.grid, grid_flow.col, gap._4)\n",
    "            )\n",
    "        ),\n",
    "        cls=combine_classes(footer, footer_directions.horizontal, footer_placement.center, bg_dui.primary, text_dui.primary_content, p._10)\n",
    "    )\n",
    "    \n",
    "    # Verify structure\n",
    "    assert centered_logo_footer.tag == \"footer\"\n",
    "    assert \"footer\" in centered_logo_footer.attrs['class']\n",
    "    assert \"footer-horizontal\" in centered_logo_footer.attrs['class']\n",
    "    assert \"footer-center\" in centered_logo_footer.attrs['class']\n",
    "    assert \"bg-primary\" in centered_logo_footer.attrs['class']\n",
    "    assert \"text-primary-content\" in centered_logo_footer.attrs['class']\n",
    "    assert \"p-10\" in centered_logo_footer.attrs['class']\n",
    "    \n",
    "    # Verify aside section\n",
    "    aside = centered_logo_footer.children[0]\n",
    "    assert aside.tag == \"aside\"\n",
    "    assert aside.children[0].tag == \"svg\"\n",
    "    assert \"inline-block\" in aside.children[0].attrs['class']\n",
    "    assert aside.children[1].tag == \"p\"\n",
    "    assert \"font-bold\" in aside.children[1].attrs['class']\n",
    "    assert aside.children[2].tag == \"p\"\n",
    "    \n",
    "    # Verify nav section with social icons\n",
    "    nav = centered_logo_footer.children[1]\n",
    "    assert nav.tag == \"nav\"\n",
    "    social_grid = nav.children[0]\n",
    "    assert social_grid.tag == \"div\"\n",
    "    assert \"grid\" in social_grid.attrs['class']\n",
    "    assert \"grid-flow-col\" in social_grid.attrs['class']\n",
    "    assert \"gap-4\" in social_grid.attrs['class']\n",
    "    assert len(social_grid.children) == 3\n",
    "    \n",
    "    return centered_logo_footer\n",
    "\n",
    "# Run the tests\n",
    "test_footer_centered_with_logo_fasthtml_examples()"
   ]
  },
  {
   "cell_type": "code",
   "execution_count": null,
   "id": "49mq45ys1xs",
   "metadata": {},
   "outputs": [
    {
     "data": {
      "text/markdown": [
       "```html\n",
       "<footer class=\"footer sm:footer-horizontal bg-neutral text-neutral-content grid-rows-2 p-10\">\n",
       "  <nav>\n",
       "    <h6 class=\"footer-title\">Services</h6>\n",
       "<a href=\"#\" class=\"link link-hover\">Branding</a><a href=\"#\" class=\"link link-hover\">Design</a><a href=\"#\" class=\"link link-hover\">Marketing</a><a href=\"#\" class=\"link link-hover\">Advertisement</a>  </nav>\n",
       "  <nav>\n",
       "    <h6 class=\"footer-title\">Company</h6>\n",
       "<a href=\"#\" class=\"link link-hover\">About us</a><a href=\"#\" class=\"link link-hover\">Contact</a><a href=\"#\" class=\"link link-hover\">Jobs</a><a href=\"#\" class=\"link link-hover\">Press kit</a>  </nav>\n",
       "  <nav>\n",
       "    <h6 class=\"footer-title\">Legal</h6>\n",
       "<a href=\"#\" class=\"link link-hover\">Terms of use</a><a href=\"#\" class=\"link link-hover\">Privacy policy</a><a href=\"#\" class=\"link link-hover\">Cookie policy</a>  </nav>\n",
       "  <nav>\n",
       "    <h6 class=\"footer-title\">Social</h6>\n",
       "<a href=\"#\" class=\"link link-hover\">Twitter</a><a href=\"#\" class=\"link link-hover\">Instagram</a><a href=\"#\" class=\"link link-hover\">Facebook</a><a href=\"#\" class=\"link link-hover\">GitHub</a>  </nav>\n",
       "  <nav>\n",
       "    <h6 class=\"footer-title\">Explore</h6>\n",
       "<a href=\"#\" class=\"link link-hover\">Features</a><a href=\"#\" class=\"link link-hover\">Enterprise</a><a href=\"#\" class=\"link link-hover\">Security</a><a href=\"#\" class=\"link link-hover\">Pricing</a>  </nav>\n",
       "  <nav>\n",
       "    <h6 class=\"footer-title\">Apps</h6>\n",
       "<a href=\"#\" class=\"link link-hover\">Mac</a><a href=\"#\" class=\"link link-hover\">Windows</a><a href=\"#\" class=\"link link-hover\">iPhone</a><a href=\"#\" class=\"link link-hover\">Android</a>  </nav>\n",
       "</footer>\n",
       "\n",
       "```"
      ],
      "text/plain": [
       "footer((nav((h6(('Services',),{'class': 'footer-title'}), a(('Branding',),{'href': '#', 'class': 'link link-hover'}), a(('Design',),{'href': '#', 'class': 'link link-hover'}), a(('Marketing',),{'href': '#', 'class': 'link link-hover'}), a(('Advertisement',),{'href': '#', 'class': 'link link-hover'})),{}), nav((h6(('Company',),{'class': 'footer-title'}), a(('About us',),{'href': '#', 'class': 'link link-hover'}), a(('Contact',),{'href': '#', 'class': 'link link-hover'}), a(('Jobs',),{'href': '#', 'class': 'link link-hover'}), a(('Press kit',),{'href': '#', 'class': 'link link-hover'})),{}), nav((h6(('Legal',),{'class': 'footer-title'}), a(('Terms of use',),{'href': '#', 'class': 'link link-hover'}), a(('Privacy policy',),{'href': '#', 'class': 'link link-hover'}), a(('Cookie policy',),{'href': '#', 'class': 'link link-hover'})),{}), nav((h6(('Social',),{'class': 'footer-title'}), a(('Twitter',),{'href': '#', 'class': 'link link-hover'}), a(('Instagram',),{'href': '#', 'class': 'link link-hover'}), a(('Facebook',),{'href': '#', 'class': 'link link-hover'}), a(('GitHub',),{'href': '#', 'class': 'link link-hover'})),{}), nav((h6(('Explore',),{'class': 'footer-title'}), a(('Features',),{'href': '#', 'class': 'link link-hover'}), a(('Enterprise',),{'href': '#', 'class': 'link link-hover'}), a(('Security',),{'href': '#', 'class': 'link link-hover'}), a(('Pricing',),{'href': '#', 'class': 'link link-hover'})),{}), nav((h6(('Apps',),{'class': 'footer-title'}), a(('Mac',),{'href': '#', 'class': 'link link-hover'}), a(('Windows',),{'href': '#', 'class': 'link link-hover'}), a(('iPhone',),{'href': '#', 'class': 'link link-hover'}), a(('Android',),{'href': '#', 'class': 'link link-hover'})),{})),{'class': 'footer sm:footer-horizontal bg-neutral text-neutral-content grid-rows-2 p-10'})"
      ]
     },
     "execution_count": null,
     "metadata": {},
     "output_type": "execute_result"
    }
   ],
   "source": [
    "#|exports\n",
    "def test_footer_with_two_rows_fasthtml_examples():\n",
    "    \"\"\"Test footer with 2 rows from daisyUI v5 documentation.\"\"\"\n",
    "    from fasthtml.common import Footer, Nav, H6, A\n",
    "    from cjm_fasthtml_tailwind.utilities.spacing import p\n",
    "    from cjm_fasthtml_tailwind.utilities.flexbox_and_grid import grid_rows\n",
    "    from cjm_fasthtml_daisyui.core.utility_classes import bg_dui, text_dui\n",
    "    from cjm_fasthtml_daisyui.components.navigation.link import link, link_styles\n",
    "    \n",
    "    # Footer with 2 rows\n",
    "    two_row_footer = Footer(\n",
    "        Nav(\n",
    "            H6(\"Services\", cls=str(footer_title)),\n",
    "            A(\"Branding\", href=\"#\", cls=combine_classes(link, link_styles.hover)),\n",
    "            A(\"Design\", href=\"#\", cls=combine_classes(link, link_styles.hover)),\n",
    "            A(\"Marketing\", href=\"#\", cls=combine_classes(link, link_styles.hover)),\n",
    "            A(\"Advertisement\", href=\"#\", cls=combine_classes(link, link_styles.hover))\n",
    "        ),\n",
    "        Nav(\n",
    "            H6(\"Company\", cls=str(footer_title)),\n",
    "            A(\"About us\", href=\"#\", cls=combine_classes(link, link_styles.hover)),\n",
    "            A(\"Contact\", href=\"#\", cls=combine_classes(link, link_styles.hover)),\n",
    "            A(\"Jobs\", href=\"#\", cls=combine_classes(link, link_styles.hover)),\n",
    "            A(\"Press kit\", href=\"#\", cls=combine_classes(link, link_styles.hover))\n",
    "        ),\n",
    "        Nav(\n",
    "            H6(\"Legal\", cls=str(footer_title)),\n",
    "            A(\"Terms of use\", href=\"#\", cls=combine_classes(link, link_styles.hover)),\n",
    "            A(\"Privacy policy\", href=\"#\", cls=combine_classes(link, link_styles.hover)),\n",
    "            A(\"Cookie policy\", href=\"#\", cls=combine_classes(link, link_styles.hover))\n",
    "        ),\n",
    "        Nav(\n",
    "            H6(\"Social\", cls=str(footer_title)),\n",
    "            A(\"Twitter\", href=\"#\", cls=combine_classes(link, link_styles.hover)),\n",
    "            A(\"Instagram\", href=\"#\", cls=combine_classes(link, link_styles.hover)),\n",
    "            A(\"Facebook\", href=\"#\", cls=combine_classes(link, link_styles.hover)),\n",
    "            A(\"GitHub\", href=\"#\", cls=combine_classes(link, link_styles.hover))\n",
    "        ),\n",
    "        Nav(\n",
    "            H6(\"Explore\", cls=str(footer_title)),\n",
    "            A(\"Features\", href=\"#\", cls=combine_classes(link, link_styles.hover)),\n",
    "            A(\"Enterprise\", href=\"#\", cls=combine_classes(link, link_styles.hover)),\n",
    "            A(\"Security\", href=\"#\", cls=combine_classes(link, link_styles.hover)),\n",
    "            A(\"Pricing\", href=\"#\", cls=combine_classes(link, link_styles.hover))\n",
    "        ),\n",
    "        Nav(\n",
    "            H6(\"Apps\", cls=str(footer_title)),\n",
    "            A(\"Mac\", href=\"#\", cls=combine_classes(link, link_styles.hover)),\n",
    "            A(\"Windows\", href=\"#\", cls=combine_classes(link, link_styles.hover)),\n",
    "            A(\"iPhone\", href=\"#\", cls=combine_classes(link, link_styles.hover)),\n",
    "            A(\"Android\", href=\"#\", cls=combine_classes(link, link_styles.hover))\n",
    "        ),\n",
    "        cls=combine_classes(footer, footer_directions.horizontal.sm, bg_dui.neutral, text_dui.neutral_content, grid_rows._2, p._10)\n",
    "    )\n",
    "    \n",
    "    # Verify structure\n",
    "    assert two_row_footer.tag == \"footer\"\n",
    "    assert \"footer\" in two_row_footer.attrs['class']\n",
    "    assert \"sm:footer-horizontal\" in two_row_footer.attrs['class']\n",
    "    assert \"bg-neutral\" in two_row_footer.attrs['class']\n",
    "    assert \"text-neutral-content\" in two_row_footer.attrs['class']\n",
    "    assert \"grid-rows-2\" in two_row_footer.attrs['class']\n",
    "    assert \"p-10\" in two_row_footer.attrs['class']\n",
    "    \n",
    "    # Verify 6 nav sections\n",
    "    assert len(two_row_footer.children) == 6\n",
    "    for nav in two_row_footer.children:\n",
    "        assert nav.tag == \"nav\"\n",
    "        assert nav.children[0].tag == \"h6\"\n",
    "        assert \"footer-title\" in nav.children[0].attrs['class']\n",
    "        # Check links\n",
    "        for i in range(1, len(nav.children)):\n",
    "            assert nav.children[i].tag == \"a\"\n",
    "            assert \"link\" in nav.children[i].attrs['class']\n",
    "            assert \"link-hover\" in nav.children[i].attrs['class']\n",
    "    \n",
    "    return two_row_footer\n",
    "\n",
    "# Run the tests\n",
    "test_footer_with_two_rows_fasthtml_examples()"
   ]
  },
  {
   "cell_type": "code",
   "execution_count": null,
   "id": "59f74850-d290-4e65-9779-303d31afc7bf",
   "metadata": {},
   "outputs": [],
   "source": []
  },
  {
   "cell_type": "code",
   "execution_count": null,
   "id": "880dbk6f4f8",
   "metadata": {},
   "outputs": [
    {
     "data": {
      "text/html": [
       "\n",
       "<script>\n",
       "document.body.addEventListener('htmx:configRequest', (event) => {\n",
       "    if(event.detail.path.includes('://')) return;\n",
       "    htmx.config.selfRequestsOnly=false;\n",
       "    event.detail.path = `${location.protocol}//${location.hostname}:8000${event.detail.path}`;\n",
       "});\n",
       "</script>"
      ],
      "text/plain": [
       "<IPython.core.display.HTML object>"
      ]
     },
     "metadata": {},
     "output_type": "display_data"
    },
    {
     "data": {
      "text/html": [
       "<iframe src=\"http://localhost:8000/\" style=\"width: 100%; height: auto; border: none;\" onload=\"{\n",
       "        let frame = this;\n",
       "        window.addEventListener('message', function(e) {\n",
       "            if (e.source !== frame.contentWindow) return; // Only proceed if the message is from this iframe\n",
       "            if (e.data.height) frame.style.height = (e.data.height+1) + 'px';\n",
       "        }, false);\n",
       "    }\" allow=\"accelerometer; autoplay; camera; clipboard-read; clipboard-write; display-capture; encrypted-media; fullscreen; gamepad; geolocation; gyroscope; hid; identity-credentials-get; idle-detection; magnetometer; microphone; midi; payment; picture-in-picture; publickey-credentials-get; screen-wake-lock; serial; usb; web-share; xr-spatial-tracking\"></iframe> "
      ],
      "text/plain": [
       "<IPython.core.display.HTML object>"
      ]
     },
     "metadata": {},
     "output_type": "display_data"
    }
   ],
   "source": [
    "#| eval: false\n",
    "#| output: false\n",
    "test_func = test_footer_with_two_rows_fasthtml_examples\n",
    "app, rt = create_test_app(theme=DaisyUITheme.LIGHT)\n",
    "\n",
    "@rt\n",
    "def index():\n",
    "    return create_test_page(test_func.__doc__.title().replace('.', ''), test_func())\n",
    "server = start_test_server(app)\n",
    "display(HTMX())\n",
    "server.stop()"
   ]
  },
  {
   "cell_type": "code",
   "execution_count": null,
   "id": "u2n09n79o3",
   "metadata": {},
   "outputs": [
    {
     "data": {
      "text/html": [
       "\n",
       "<script>\n",
       "document.body.addEventListener('htmx:configRequest', (event) => {\n",
       "    if(event.detail.path.includes('://')) return;\n",
       "    htmx.config.selfRequestsOnly=false;\n",
       "    event.detail.path = `${location.protocol}//${location.hostname}:8000${event.detail.path}`;\n",
       "});\n",
       "</script>"
      ],
      "text/plain": [
       "<IPython.core.display.HTML object>"
      ]
     },
     "metadata": {},
     "output_type": "display_data"
    },
    {
     "data": {
      "text/html": [
       "<iframe src=\"http://localhost:8000/\" style=\"width: 100%; height: auto; border: none;\" onload=\"{\n",
       "        let frame = this;\n",
       "        window.addEventListener('message', function(e) {\n",
       "            if (e.source !== frame.contentWindow) return; // Only proceed if the message is from this iframe\n",
       "            if (e.data.height) frame.style.height = (e.data.height+1) + 'px';\n",
       "        }, false);\n",
       "    }\" allow=\"accelerometer; autoplay; camera; clipboard-read; clipboard-write; display-capture; encrypted-media; fullscreen; gamepad; geolocation; gyroscope; hid; identity-credentials-get; idle-detection; magnetometer; microphone; midi; payment; picture-in-picture; publickey-credentials-get; screen-wake-lock; serial; usb; web-share; xr-spatial-tracking\"></iframe> "
      ],
      "text/plain": [
       "<IPython.core.display.HTML object>"
      ]
     },
     "metadata": {},
     "output_type": "display_data"
    }
   ],
   "source": [
    "#| eval: false\n",
    "#| output: false\n",
    "test_func = test_footer_centered_with_logo_fasthtml_examples\n",
    "app, rt = create_test_app(theme=DaisyUITheme.LIGHT)\n",
    "\n",
    "@rt\n",
    "def index():\n",
    "    return create_test_page(test_func.__doc__.title().replace('.', ''), test_func())\n",
    "server = start_test_server(app)\n",
    "display(HTMX())\n",
    "server.stop()"
   ]
  },
  {
   "cell_type": "code",
   "execution_count": null,
   "id": "b442764d-63ee-403b-872c-0e2ab1a9bf12",
   "metadata": {},
   "outputs": [],
   "source": []
  },
  {
   "cell_type": "code",
   "execution_count": null,
   "id": "iu45k0uezzh",
   "metadata": {},
   "outputs": [
    {
     "data": {
      "text/markdown": [
       "```html\n",
       "<footer class=\"footer footer-horizontal footer-center bg-base-200 text-base-content rounded p-10\">\n",
       "  <nav class=\"grid grid-flow-col gap-4\">\n",
       "<a href=\"#\" class=\"link link-hover\">About us</a><a href=\"#\" class=\"link link-hover\">Contact</a><a href=\"#\" class=\"link link-hover\">Jobs</a><a href=\"#\" class=\"link link-hover\">Press kit</a>  </nav>\n",
       "  <nav>\n",
       "    <div class=\"grid grid-flow-col gap-4\">\n",
       "<a href=\"#\"><svg xmlns=\"http://www.w3.org/2000/svg\" viewbox=\"0 0 24 24\" height=\"24\" width=\"24\" class=\"fill-current\"><path d=\"M24 4.557c-.883.392-1.832.656-2.828.775 1.017-.609 1.798-1.574 2.165-2.724-.951.564-2.005.974-3.127 1.195-.897-.957-2.178-1.555-3.594-1.555-3.179 0-5.515 2.966-4.797 6.045-4.091-.205-7.719-2.165-10.148-5.144-1.29 2.213-.669 5.108 1.523 6.574-.806-.026-1.566-.247-2.229-.616-.054 2.281 1.581 4.415 3.949 4.89-.693.188-1.452.232-2.224.084.626 1.956 2.444 3.379 4.6 3.419-2.07 1.623-4.678 2.348-7.29 2.04 2.179 1.397 4.768 2.212 7.548 2.212 9.142 0 14.307-7.721 13.995-14.646.962-.695 1.797-1.562 2.457-2.549z\"></path></svg></a><a href=\"#\"><svg xmlns=\"http://www.w3.org/2000/svg\" viewbox=\"0 0 24 24\" height=\"24\" width=\"24\" class=\"fill-current\"><path d=\"M19.615 3.184c-3.604-.246-11.631-.245-15.23 0-3.897.266-4.356 2.62-4.385 8.816.029 6.185.484 8.549 4.385 8.816 3.6.245 11.626.246 15.23 0 3.897-.266 4.356-2.62 4.385-8.816-.029-6.185-.484-8.549-4.385-8.816zm-10.615 12.816v-8l8 3.993-8 4.007z\"></path></svg></a><a href=\"#\"><svg xmlns=\"http://www.w3.org/2000/svg\" viewbox=\"0 0 24 24\" height=\"24\" width=\"24\" class=\"fill-current\"><path d=\"M9 8h-3v4h3v12h5v-12h3.642l.358-4h-4v-1.667c0-.955.192-1.333 1.115-1.333h2.885v-5h-3.808c-3.596 0-5.192 1.583-5.192 4.615v3.385z\"></path></svg></a>    </div>\n",
       "  </nav>\n",
       "  <aside>\n",
       "    <p>Copyright © 2025 - All right reserved by ACME Industries Ltd</p>\n",
       "  </aside>\n",
       "</footer>\n",
       "\n",
       "```"
      ],
      "text/plain": [
       "footer((nav((a(('About us',),{'href': '#', 'class': 'link link-hover'}), a(('Contact',),{'href': '#', 'class': 'link link-hover'}), a(('Jobs',),{'href': '#', 'class': 'link link-hover'}), a(('Press kit',),{'href': '#', 'class': 'link link-hover'})),{'class': 'grid grid-flow-col gap-4'}), nav((div((a((svg((path((),{'d': 'M24 4.557c-.883.392-1.832.656-2.828.775 1.017-.609 1.798-1.574 2.165-2.724-.951.564-2.005.974-3.127 1.195-.897-.957-2.178-1.555-3.594-1.555-3.179 0-5.515 2.966-4.797 6.045-4.091-.205-7.719-2.165-10.148-5.144-1.29 2.213-.669 5.108 1.523 6.574-.806-.026-1.566-.247-2.229-.616-.054 2.281 1.581 4.415 3.949 4.89-.693.188-1.452.232-2.224.084.626 1.956 2.444 3.379 4.6 3.419-2.07 1.623-4.678 2.348-7.29 2.04 2.179 1.397 4.768 2.212 7.548 2.212 9.142 0 14.307-7.721 13.995-14.646.962-.695 1.797-1.562 2.457-2.549z'}),),{'xmlns': 'http://www.w3.org/2000/svg', 'viewbox': '0 0 24 24', 'height': '24', 'width': '24', 'class': 'fill-current'}),),{'href': '#'}), a((svg((path((),{'d': 'M19.615 3.184c-3.604-.246-11.631-.245-15.23 0-3.897.266-4.356 2.62-4.385 8.816.029 6.185.484 8.549 4.385 8.816 3.6.245 11.626.246 15.23 0 3.897-.266 4.356-2.62 4.385-8.816-.029-6.185-.484-8.549-4.385-8.816zm-10.615 12.816v-8l8 3.993-8 4.007z'}),),{'xmlns': 'http://www.w3.org/2000/svg', 'viewbox': '0 0 24 24', 'height': '24', 'width': '24', 'class': 'fill-current'}),),{'href': '#'}), a((svg((path((),{'d': 'M9 8h-3v4h3v12h5v-12h3.642l.358-4h-4v-1.667c0-.955.192-1.333 1.115-1.333h2.885v-5h-3.808c-3.596 0-5.192 1.583-5.192 4.615v3.385z'}),),{'xmlns': 'http://www.w3.org/2000/svg', 'viewbox': '0 0 24 24', 'height': '24', 'width': '24', 'class': 'fill-current'}),),{'href': '#'})),{'class': 'grid grid-flow-col gap-4'}),),{}), aside((p(('Copyright © 2025 - All right reserved by ACME Industries Ltd',),{}),),{})),{'class': 'footer footer-horizontal footer-center bg-base-200 text-base-content rounded p-10'})"
      ]
     },
     "execution_count": null,
     "metadata": {},
     "output_type": "execute_result"
    }
   ],
   "source": [
    "#|exports\n",
    "def test_footer_centered_with_social_fasthtml_examples():\n",
    "    \"\"\"Test centered footer with social icons from daisyUI v5 documentation.\"\"\"\n",
    "    from fasthtml.common import Footer, Nav, Aside, A, P, Div\n",
    "    from fasthtml.svg import Svg, Path\n",
    "    from datetime import datetime\n",
    "    from cjm_fasthtml_tailwind.utilities.spacing import p\n",
    "    from cjm_fasthtml_tailwind.utilities.svg import fill\n",
    "    from cjm_fasthtml_tailwind.utilities.layout import display_tw\n",
    "    from cjm_fasthtml_tailwind.utilities.flexbox_and_grid import grid_flow, gap\n",
    "    from cjm_fasthtml_tailwind.utilities.borders import rounded\n",
    "    from cjm_fasthtml_daisyui.core.utility_classes import bg_dui, text_dui\n",
    "    from cjm_fasthtml_daisyui.components.navigation.link import link, link_styles\n",
    "    \n",
    "    # Create social media icons\n",
    "    twitter_icon = Svg(\n",
    "        Path(\n",
    "            d=\"M24 4.557c-.883.392-1.832.656-2.828.775 1.017-.609 1.798-1.574 2.165-2.724-.951.564-2.005.974-3.127 1.195-.897-.957-2.178-1.555-3.594-1.555-3.179 0-5.515 2.966-4.797 6.045-4.091-.205-7.719-2.165-10.148-5.144-1.29 2.213-.669 5.108 1.523 6.574-.806-.026-1.566-.247-2.229-.616-.054 2.281 1.581 4.415 3.949 4.89-.693.188-1.452.232-2.224.084.626 1.956 2.444 3.379 4.6 3.419-2.07 1.623-4.678 2.348-7.29 2.04 2.179 1.397 4.768 2.212 7.548 2.212 9.142 0 14.307-7.721 13.995-14.646.962-.695 1.797-1.562 2.457-2.549z\"\n",
    "        ),\n",
    "        xmlns=\"http://www.w3.org/2000/svg\",\n",
    "        width=\"24\",\n",
    "        height=\"24\",\n",
    "        viewBox=\"0 0 24 24\",\n",
    "        cls=str(fill.current)\n",
    "    )\n",
    "    \n",
    "    youtube_icon = Svg(\n",
    "        Path(\n",
    "            d=\"M19.615 3.184c-3.604-.246-11.631-.245-15.23 0-3.897.266-4.356 2.62-4.385 8.816.029 6.185.484 8.549 4.385 8.816 3.6.245 11.626.246 15.23 0 3.897-.266 4.356-2.62 4.385-8.816-.029-6.185-.484-8.549-4.385-8.816zm-10.615 12.816v-8l8 3.993-8 4.007z\"\n",
    "        ),\n",
    "        xmlns=\"http://www.w3.org/2000/svg\",\n",
    "        width=\"24\",\n",
    "        height=\"24\",\n",
    "        viewBox=\"0 0 24 24\",\n",
    "        cls=str(fill.current)\n",
    "    )\n",
    "    \n",
    "    facebook_icon = Svg(\n",
    "        Path(\n",
    "            d=\"M9 8h-3v4h3v12h5v-12h3.642l.358-4h-4v-1.667c0-.955.192-1.333 1.115-1.333h2.885v-5h-3.808c-3.596 0-5.192 1.583-5.192 4.615v3.385z\"\n",
    "        ),\n",
    "        xmlns=\"http://www.w3.org/2000/svg\",\n",
    "        width=\"24\",\n",
    "        height=\"24\",\n",
    "        viewBox=\"0 0 24 24\",\n",
    "        cls=str(fill.current)\n",
    "    )\n",
    "    \n",
    "    # Centered footer with social icons\n",
    "    centered_social_footer = Footer(\n",
    "        Nav(\n",
    "            A(\"About us\", href=\"#\", cls=combine_classes(link, link_styles.hover)),\n",
    "            A(\"Contact\", href=\"#\", cls=combine_classes(link, link_styles.hover)),\n",
    "            A(\"Jobs\", href=\"#\", cls=combine_classes(link, link_styles.hover)),\n",
    "            A(\"Press kit\", href=\"#\", cls=combine_classes(link, link_styles.hover)),\n",
    "            cls=combine_classes(display_tw.grid, grid_flow.col, gap._4)\n",
    "        ),\n",
    "        Nav(\n",
    "            Div(\n",
    "                A(twitter_icon, href=\"#\"),\n",
    "                A(youtube_icon, href=\"#\"),\n",
    "                A(facebook_icon, href=\"#\"),\n",
    "                cls=combine_classes(display_tw.grid, grid_flow.col, gap._4)\n",
    "            )\n",
    "        ),\n",
    "        Aside(\n",
    "            P(f\"Copyright © {datetime.now().year} - All right reserved by ACME Industries Ltd\")\n",
    "        ),\n",
    "        cls=combine_classes(footer, footer_directions.horizontal, footer_placement.center, bg_dui.base_200, text_dui.base_content, rounded(), p._10)\n",
    "    )\n",
    "    \n",
    "    # Verify structure\n",
    "    assert centered_social_footer.tag == \"footer\"\n",
    "    assert \"footer\" in centered_social_footer.attrs['class']\n",
    "    assert \"footer-horizontal\" in centered_social_footer.attrs['class']\n",
    "    assert \"footer-center\" in centered_social_footer.attrs['class']\n",
    "    assert \"bg-base-200\" in centered_social_footer.attrs['class']\n",
    "    assert \"text-base-content\" in centered_social_footer.attrs['class']\n",
    "    assert \"rounded\" in centered_social_footer.attrs['class']\n",
    "    assert \"p-10\" in centered_social_footer.attrs['class']\n",
    "    \n",
    "    # Verify first nav section with links\n",
    "    first_nav = centered_social_footer.children[0]\n",
    "    assert first_nav.tag == \"nav\"\n",
    "    assert \"grid\" in first_nav.attrs['class']\n",
    "    assert \"grid-flow-col\" in first_nav.attrs['class']\n",
    "    assert \"gap-4\" in first_nav.attrs['class']\n",
    "    assert len(first_nav.children) == 4\n",
    "    for child in first_nav.children:\n",
    "        assert child.tag == \"a\"\n",
    "        assert \"link\" in child.attrs['class']\n",
    "        assert \"link-hover\" in child.attrs['class']\n",
    "    \n",
    "    # Verify second nav section with social icons\n",
    "    second_nav = centered_social_footer.children[1]\n",
    "    assert second_nav.tag == \"nav\"\n",
    "    social_grid = second_nav.children[0]\n",
    "    assert social_grid.tag == \"div\"\n",
    "    assert \"grid\" in social_grid.attrs['class']\n",
    "    assert \"grid-flow-col\" in social_grid.attrs['class']\n",
    "    assert \"gap-4\" in social_grid.attrs['class']\n",
    "    assert len(social_grid.children) == 3\n",
    "    for child in social_grid.children:\n",
    "        assert child.tag == \"a\"\n",
    "        assert child.children[0].tag == \"svg\"\n",
    "    \n",
    "    # Verify aside with copyright\n",
    "    aside = centered_social_footer.children[2]\n",
    "    assert aside.tag == \"aside\"\n",
    "    assert aside.children[0].tag == \"p\"\n",
    "    assert f\"Copyright © {datetime.now().year}\" in aside.children[0].children[0]\n",
    "    \n",
    "    return centered_social_footer\n",
    "\n",
    "# Run the tests\n",
    "test_footer_centered_with_social_fasthtml_examples()"
   ]
  },
  {
   "cell_type": "code",
   "execution_count": null,
   "id": "f393ed6c-9ef6-4647-86f0-6a723ac428d4",
   "metadata": {},
   "outputs": [],
   "source": []
  },
  {
   "cell_type": "code",
   "execution_count": null,
   "id": "arhkocej38k",
   "metadata": {},
   "outputs": [
    {
     "data": {
      "text/html": [
       "\n",
       "<script>\n",
       "document.body.addEventListener('htmx:configRequest', (event) => {\n",
       "    if(event.detail.path.includes('://')) return;\n",
       "    htmx.config.selfRequestsOnly=false;\n",
       "    event.detail.path = `${location.protocol}//${location.hostname}:8000${event.detail.path}`;\n",
       "});\n",
       "</script>"
      ],
      "text/plain": [
       "<IPython.core.display.HTML object>"
      ]
     },
     "metadata": {},
     "output_type": "display_data"
    },
    {
     "data": {
      "text/html": [
       "<iframe src=\"http://localhost:8000/\" style=\"width: 100%; height: auto; border: none;\" onload=\"{\n",
       "        let frame = this;\n",
       "        window.addEventListener('message', function(e) {\n",
       "            if (e.source !== frame.contentWindow) return; // Only proceed if the message is from this iframe\n",
       "            if (e.data.height) frame.style.height = (e.data.height+1) + 'px';\n",
       "        }, false);\n",
       "    }\" allow=\"accelerometer; autoplay; camera; clipboard-read; clipboard-write; display-capture; encrypted-media; fullscreen; gamepad; geolocation; gyroscope; hid; identity-credentials-get; idle-detection; magnetometer; microphone; midi; payment; picture-in-picture; publickey-credentials-get; screen-wake-lock; serial; usb; web-share; xr-spatial-tracking\"></iframe> "
      ],
      "text/plain": [
       "<IPython.core.display.HTML object>"
      ]
     },
     "metadata": {},
     "output_type": "display_data"
    }
   ],
   "source": [
    "#| eval: false\n",
    "#| output: false\n",
    "test_func = test_footer_centered_with_social_fasthtml_examples\n",
    "app, rt = create_test_app(theme=DaisyUITheme.LIGHT)\n",
    "\n",
    "@rt\n",
    "def index():\n",
    "    return create_test_page(test_func.__doc__.title().replace('.', ''), test_func())\n",
    "server = start_test_server(app)\n",
    "display(HTMX())\n",
    "server.stop()"
   ]
  },
  {
   "cell_type": "code",
   "execution_count": null,
   "id": "51e4dd2e-8acc-424a-b514-c039a0510523",
   "metadata": {},
   "outputs": [],
   "source": []
  },
  {
   "cell_type": "code",
   "execution_count": null,
   "id": "lls9ay5jaji",
   "metadata": {},
   "outputs": [
    {
     "data": {
      "text/markdown": [
       "```html\n",
       "<div>\n",
       "  <footer class=\"footer sm:footer-horizontal bg-base-200 text-base-content p-10\">\n",
       "    <nav>\n",
       "      <h6 class=\"footer-title\">Services</h6>\n",
       "<a href=\"#\" class=\"link link-hover\">Branding</a><a href=\"#\" class=\"link link-hover\">Design</a><a href=\"#\" class=\"link link-hover\">Marketing</a><a href=\"#\" class=\"link link-hover\">Advertisement</a>    </nav>\n",
       "    <nav>\n",
       "      <h6 class=\"footer-title\">Company</h6>\n",
       "<a href=\"#\" class=\"link link-hover\">About us</a><a href=\"#\" class=\"link link-hover\">Contact</a><a href=\"#\" class=\"link link-hover\">Jobs</a><a href=\"#\" class=\"link link-hover\">Press kit</a>    </nav>\n",
       "    <nav>\n",
       "      <h6 class=\"footer-title\">Legal</h6>\n",
       "<a href=\"#\" class=\"link link-hover\">Terms of use</a><a href=\"#\" class=\"link link-hover\">Privacy policy</a><a href=\"#\" class=\"link link-hover\">Cookie policy</a>    </nav>\n",
       "  </footer>\n",
       "  <footer class=\"footer bg-base-200 text-base-content border-base-300 border-t px-10 py-4\">\n",
       "    <aside class=\"grid-flow-col items-center\">\n",
       "<svg xmlns=\"http://www.w3.org/2000/svg\" viewbox=\"0 0 24 24\" height=\"24\" width=\"24\" fill-rule=\"evenodd\" clip-rule=\"evenodd\" class=\"fill-current\"><path d=\"M22.672 15.226l-2.432.811.841 2.515c.33 1.019-.209 2.127-1.23 2.456-1.15.325-2.148-.321-2.463-1.226l-.84-2.518-5.013 1.677.84 2.517c.391 1.203-.434 2.542-1.831 2.542-.88 0-1.601-.564-1.86-1.314l-.842-2.516-2.431.809c-1.135.328-2.145-.317-2.463-1.229-.329-1.018.211-2.127 1.231-2.456l2.432-.809-1.621-4.823-2.432.808c-1.355.384-2.558-.59-2.558-1.839 0-.817.509-1.582 1.327-1.846l2.433-.809-.842-2.515c-.33-1.02.211-2.129 1.232-2.458 1.02-.329 2.13.209 2.461 1.229l.842 2.515 5.011-1.677-.839-2.517c-.403-1.238.484-2.553 1.843-2.553.819 0 1.585.509 1.85 1.326l.841 2.517 2.431-.81c1.02-.33 2.131.211 2.461 1.229.332 1.018-.21 2.126-1.23 2.456l-2.433.809 1.622 4.823 2.433-.809c1.242-.401 2.557.484 2.557 1.838 0 .819-.51 1.583-1.328 1.847m-8.992-6.428l-5.01 1.675 1.619 4.828 5.011-1.674-1.62-4.829z\"></path></svg>      <p>\n",
       "ACME Industries Ltd.<br>Providing reliable tech since 1992      </p>\n",
       "    </aside>\n",
       "    <nav class=\"md:place-self-center md:justify-self-end\">\n",
       "      <div class=\"grid grid-flow-col gap-4\">\n",
       "<a href=\"#\"><svg xmlns=\"http://www.w3.org/2000/svg\" viewbox=\"0 0 24 24\" height=\"24\" width=\"24\" class=\"fill-current\"><path d=\"M24 4.557c-.883.392-1.832.656-2.828.775 1.017-.609 1.798-1.574 2.165-2.724-.951.564-2.005.974-3.127 1.195-.897-.957-2.178-1.555-3.594-1.555-3.179 0-5.515 2.966-4.797 6.045-4.091-.205-7.719-2.165-10.148-5.144-1.29 2.213-.669 5.108 1.523 6.574-.806-.026-1.566-.247-2.229-.616-.054 2.281 1.581 4.415 3.949 4.89-.693.188-1.452.232-2.224.084.626 1.956 2.444 3.379 4.6 3.419-2.07 1.623-4.678 2.348-7.29 2.04 2.179 1.397 4.768 2.212 7.548 2.212 9.142 0 14.307-7.721 13.995-14.646.962-.695 1.797-1.562 2.457-2.549z\"></path></svg></a><a href=\"#\"><svg xmlns=\"http://www.w3.org/2000/svg\" viewbox=\"0 0 24 24\" height=\"24\" width=\"24\" class=\"fill-current\"><path d=\"M19.615 3.184c-3.604-.246-11.631-.245-15.23 0-3.897.266-4.356 2.62-4.385 8.816.029 6.185.484 8.549 4.385 8.816 3.6.245 11.626.246 15.23 0 3.897-.266 4.356-2.62 4.385-8.816-.029-6.185-.484-8.549-4.385-8.816zm-10.615 12.816v-8l8 3.993-8 4.007z\"></path></svg></a><a href=\"#\"><svg xmlns=\"http://www.w3.org/2000/svg\" viewbox=\"0 0 24 24\" height=\"24\" width=\"24\" class=\"fill-current\"><path d=\"M9 8h-3v4h3v12h5v-12h3.642l.358-4h-4v-1.667c0-.955.192-1.333 1.115-1.333h2.885v-5h-3.808c-3.596 0-5.192 1.583-5.192 4.615v3.385z\"></path></svg></a>      </div>\n",
       "    </nav>\n",
       "  </footer>\n",
       "</div>\n",
       "\n",
       "```"
      ],
      "text/plain": [
       "div((footer((nav((h6(('Services',),{'class': 'footer-title'}), a(('Branding',),{'href': '#', 'class': 'link link-hover'}), a(('Design',),{'href': '#', 'class': 'link link-hover'}), a(('Marketing',),{'href': '#', 'class': 'link link-hover'}), a(('Advertisement',),{'href': '#', 'class': 'link link-hover'})),{}), nav((h6(('Company',),{'class': 'footer-title'}), a(('About us',),{'href': '#', 'class': 'link link-hover'}), a(('Contact',),{'href': '#', 'class': 'link link-hover'}), a(('Jobs',),{'href': '#', 'class': 'link link-hover'}), a(('Press kit',),{'href': '#', 'class': 'link link-hover'})),{}), nav((h6(('Legal',),{'class': 'footer-title'}), a(('Terms of use',),{'href': '#', 'class': 'link link-hover'}), a(('Privacy policy',),{'href': '#', 'class': 'link link-hover'}), a(('Cookie policy',),{'href': '#', 'class': 'link link-hover'})),{})),{'class': 'footer sm:footer-horizontal bg-base-200 text-base-content p-10'}), footer((aside((svg((path((),{'d': 'M22.672 15.226l-2.432.811.841 2.515c.33 1.019-.209 2.127-1.23 2.456-1.15.325-2.148-.321-2.463-1.226l-.84-2.518-5.013 1.677.84 2.517c.391 1.203-.434 2.542-1.831 2.542-.88 0-1.601-.564-1.86-1.314l-.842-2.516-2.431.809c-1.135.328-2.145-.317-2.463-1.229-.329-1.018.211-2.127 1.231-2.456l2.432-.809-1.621-4.823-2.432.808c-1.355.384-2.558-.59-2.558-1.839 0-.817.509-1.582 1.327-1.846l2.433-.809-.842-2.515c-.33-1.02.211-2.129 1.232-2.458 1.02-.329 2.13.209 2.461 1.229l.842 2.515 5.011-1.677-.839-2.517c-.403-1.238.484-2.553 1.843-2.553.819 0 1.585.509 1.85 1.326l.841 2.517 2.431-.81c1.02-.33 2.131.211 2.461 1.229.332 1.018-.21 2.126-1.23 2.456l-2.433.809 1.622 4.823 2.433-.809c1.242-.401 2.557.484 2.557 1.838 0 .819-.51 1.583-1.328 1.847m-8.992-6.428l-5.01 1.675 1.619 4.828 5.011-1.674-1.62-4.829z'}),),{'xmlns': 'http://www.w3.org/2000/svg', 'viewbox': '0 0 24 24', 'height': '24', 'width': '24', 'fill-rule': 'evenodd', 'clip-rule': 'evenodd', 'class': 'fill-current'}), p(('ACME Industries Ltd.', br((),{}), 'Providing reliable tech since 1992'),{})),{'class': 'grid-flow-col items-center'}), nav((div((a((svg((path((),{'d': 'M24 4.557c-.883.392-1.832.656-2.828.775 1.017-.609 1.798-1.574 2.165-2.724-.951.564-2.005.974-3.127 1.195-.897-.957-2.178-1.555-3.594-1.555-3.179 0-5.515 2.966-4.797 6.045-4.091-.205-7.719-2.165-10.148-5.144-1.29 2.213-.669 5.108 1.523 6.574-.806-.026-1.566-.247-2.229-.616-.054 2.281 1.581 4.415 3.949 4.89-.693.188-1.452.232-2.224.084.626 1.956 2.444 3.379 4.6 3.419-2.07 1.623-4.678 2.348-7.29 2.04 2.179 1.397 4.768 2.212 7.548 2.212 9.142 0 14.307-7.721 13.995-14.646.962-.695 1.797-1.562 2.457-2.549z'}),),{'xmlns': 'http://www.w3.org/2000/svg', 'viewbox': '0 0 24 24', 'height': '24', 'width': '24', 'class': 'fill-current'}),),{'href': '#'}), a((svg((path((),{'d': 'M19.615 3.184c-3.604-.246-11.631-.245-15.23 0-3.897.266-4.356 2.62-4.385 8.816.029 6.185.484 8.549 4.385 8.816 3.6.245 11.626.246 15.23 0 3.897-.266 4.356-2.62 4.385-8.816-.029-6.185-.484-8.549-4.385-8.816zm-10.615 12.816v-8l8 3.993-8 4.007z'}),),{'xmlns': 'http://www.w3.org/2000/svg', 'viewbox': '0 0 24 24', 'height': '24', 'width': '24', 'class': 'fill-current'}),),{'href': '#'}), a((svg((path((),{'d': 'M9 8h-3v4h3v12h5v-12h3.642l.358-4h-4v-1.667c0-.955.192-1.333 1.115-1.333h2.885v-5h-3.808c-3.596 0-5.192 1.583-5.192 4.615v3.385z'}),),{'xmlns': 'http://www.w3.org/2000/svg', 'viewbox': '0 0 24 24', 'height': '24', 'width': '24', 'class': 'fill-current'}),),{'href': '#'})),{'class': 'grid grid-flow-col gap-4'}),),{'class': 'md:place-self-center md:justify-self-end'})),{'class': 'footer bg-base-200 text-base-content border-base-300 border-t px-10 py-4'})),{})"
      ]
     },
     "execution_count": null,
     "metadata": {},
     "output_type": "execute_result"
    }
   ],
   "source": [
    "#|exports\n",
    "def test_footer_two_stacked_fasthtml_examples():\n",
    "    \"\"\"Test two stacked footers from daisyUI v5 documentation.\"\"\"\n",
    "    from fasthtml.common import Footer, Nav, Aside, H6, A, P, Br, Div\n",
    "    from fasthtml.svg import Svg, Path\n",
    "    from cjm_fasthtml_tailwind.utilities.spacing import p\n",
    "    from cjm_fasthtml_tailwind.utilities.svg import fill\n",
    "    from cjm_fasthtml_tailwind.utilities.layout import display_tw\n",
    "    from cjm_fasthtml_tailwind.utilities.flexbox_and_grid import grid_flow, gap, items, place_self, justify_self\n",
    "    from cjm_fasthtml_tailwind.utilities.borders import border\n",
    "    from cjm_fasthtml_daisyui.core.utility_classes import bg_dui, text_dui, border_dui\n",
    "    from cjm_fasthtml_daisyui.components.navigation.link import link, link_styles\n",
    "    \n",
    "    # Create reusable logo SVG\n",
    "    logo_svg = Svg(\n",
    "        Path(\n",
    "            d=\"M22.672 15.226l-2.432.811.841 2.515c.33 1.019-.209 2.127-1.23 2.456-1.15.325-2.148-.321-2.463-1.226l-.84-2.518-5.013 1.677.84 2.517c.391 1.203-.434 2.542-1.831 2.542-.88 0-1.601-.564-1.86-1.314l-.842-2.516-2.431.809c-1.135.328-2.145-.317-2.463-1.229-.329-1.018.211-2.127 1.231-2.456l2.432-.809-1.621-4.823-2.432.808c-1.355.384-2.558-.59-2.558-1.839 0-.817.509-1.582 1.327-1.846l2.433-.809-.842-2.515c-.33-1.02.211-2.129 1.232-2.458 1.02-.329 2.13.209 2.461 1.229l.842 2.515 5.011-1.677-.839-2.517c-.403-1.238.484-2.553 1.843-2.553.819 0 1.585.509 1.85 1.326l.841 2.517 2.431-.81c1.02-.33 2.131.211 2.461 1.229.332 1.018-.21 2.126-1.23 2.456l-2.433.809 1.622 4.823 2.433-.809c1.242-.401 2.557.484 2.557 1.838 0 .819-.51 1.583-1.328 1.847m-8.992-6.428l-5.01 1.675 1.619 4.828 5.011-1.674-1.62-4.829z\"\n",
    "        ),\n",
    "        width=\"24\",\n",
    "        height=\"24\",\n",
    "        viewBox=\"0 0 24 24\",\n",
    "        xmlns=\"http://www.w3.org/2000/svg\",\n",
    "        fill_rule=\"evenodd\",\n",
    "        clip_rule=\"evenodd\",\n",
    "        cls=str(fill.current)\n",
    "    )\n",
    "    \n",
    "    # Create social media icons\n",
    "    twitter_icon = Svg(\n",
    "        Path(\n",
    "            d=\"M24 4.557c-.883.392-1.832.656-2.828.775 1.017-.609 1.798-1.574 2.165-2.724-.951.564-2.005.974-3.127 1.195-.897-.957-2.178-1.555-3.594-1.555-3.179 0-5.515 2.966-4.797 6.045-4.091-.205-7.719-2.165-10.148-5.144-1.29 2.213-.669 5.108 1.523 6.574-.806-.026-1.566-.247-2.229-.616-.054 2.281 1.581 4.415 3.949 4.89-.693.188-1.452.232-2.224.084.626 1.956 2.444 3.379 4.6 3.419-2.07 1.623-4.678 2.348-7.29 2.04 2.179 1.397 4.768 2.212 7.548 2.212 9.142 0 14.307-7.721 13.995-14.646.962-.695 1.797-1.562 2.457-2.549z\"\n",
    "        ),\n",
    "        xmlns=\"http://www.w3.org/2000/svg\",\n",
    "        width=\"24\",\n",
    "        height=\"24\",\n",
    "        viewBox=\"0 0 24 24\",\n",
    "        cls=str(fill.current)\n",
    "    )\n",
    "    \n",
    "    youtube_icon = Svg(\n",
    "        Path(\n",
    "            d=\"M19.615 3.184c-3.604-.246-11.631-.245-15.23 0-3.897.266-4.356 2.62-4.385 8.816.029 6.185.484 8.549 4.385 8.816 3.6.245 11.626.246 15.23 0 3.897-.266 4.356-2.62 4.385-8.816-.029-6.185-.484-8.549-4.385-8.816zm-10.615 12.816v-8l8 3.993-8 4.007z\"\n",
    "        ),\n",
    "        xmlns=\"http://www.w3.org/2000/svg\",\n",
    "        width=\"24\",\n",
    "        height=\"24\",\n",
    "        viewBox=\"0 0 24 24\",\n",
    "        cls=str(fill.current)\n",
    "    )\n",
    "    \n",
    "    facebook_icon = Svg(\n",
    "        Path(\n",
    "            d=\"M9 8h-3v4h3v12h5v-12h3.642l.358-4h-4v-1.667c0-.955.192-1.333 1.115-1.333h2.885v-5h-3.808c-3.596 0-5.192 1.583-5.192 4.615v3.385z\"\n",
    "        ),\n",
    "        xmlns=\"http://www.w3.org/2000/svg\",\n",
    "        width=\"24\",\n",
    "        height=\"24\",\n",
    "        viewBox=\"0 0 24 24\",\n",
    "        cls=str(fill.current)\n",
    "    )\n",
    "    \n",
    "    # Two footer - create a container Div to hold both footers\n",
    "    two_footer_container = Div(\n",
    "        # First footer\n",
    "        Footer(\n",
    "            Nav(\n",
    "                H6(\"Services\", cls=str(footer_title)),\n",
    "                A(\"Branding\", href=\"#\", cls=combine_classes(link, link_styles.hover)),\n",
    "                A(\"Design\", href=\"#\", cls=combine_classes(link, link_styles.hover)),\n",
    "                A(\"Marketing\", href=\"#\", cls=combine_classes(link, link_styles.hover)),\n",
    "                A(\"Advertisement\", href=\"#\", cls=combine_classes(link, link_styles.hover))\n",
    "            ),\n",
    "            Nav(\n",
    "                H6(\"Company\", cls=str(footer_title)),\n",
    "                A(\"About us\", href=\"#\", cls=combine_classes(link, link_styles.hover)),\n",
    "                A(\"Contact\", href=\"#\", cls=combine_classes(link, link_styles.hover)),\n",
    "                A(\"Jobs\", href=\"#\", cls=combine_classes(link, link_styles.hover)),\n",
    "                A(\"Press kit\", href=\"#\", cls=combine_classes(link, link_styles.hover))\n",
    "            ),\n",
    "            Nav(\n",
    "                H6(\"Legal\", cls=str(footer_title)),\n",
    "                A(\"Terms of use\", href=\"#\", cls=combine_classes(link, link_styles.hover)),\n",
    "                A(\"Privacy policy\", href=\"#\", cls=combine_classes(link, link_styles.hover)),\n",
    "                A(\"Cookie policy\", href=\"#\", cls=combine_classes(link, link_styles.hover))\n",
    "            ),\n",
    "            cls=combine_classes(footer, footer_directions.horizontal.sm, bg_dui.base_200, text_dui.base_content, p._10)\n",
    "        ),\n",
    "        # Second footer\n",
    "        Footer(\n",
    "            Aside(\n",
    "                logo_svg,\n",
    "                P(\n",
    "                    \"ACME Industries Ltd.\",\n",
    "                    Br(),\n",
    "                    \"Providing reliable tech since 1992\"\n",
    "                ),\n",
    "                cls=combine_classes(grid_flow.col, items.center)\n",
    "            ),\n",
    "            Nav(\n",
    "                Div(\n",
    "                    A(twitter_icon, href=\"#\"),\n",
    "                    A(youtube_icon, href=\"#\"),\n",
    "                    A(facebook_icon, href=\"#\"),\n",
    "                    cls=combine_classes(display_tw.grid, grid_flow.col, gap._4)\n",
    "                ),\n",
    "                cls=combine_classes(place_self.center.md, justify_self.end.md)\n",
    "            ),\n",
    "            cls=combine_classes(footer, bg_dui.base_200, text_dui.base_content, border_dui.base_300, border.t(), p.x._10, p.y._4)\n",
    "        )\n",
    "    )\n",
    "    \n",
    "    # Verify structure\n",
    "    assert two_footer_container.tag == \"div\"\n",
    "    assert len(two_footer_container.children) == 2\n",
    "    \n",
    "    # Verify first footer\n",
    "    first_footer = two_footer_container.children[0]\n",
    "    assert first_footer.tag == \"footer\"\n",
    "    assert \"footer\" in first_footer.attrs['class']\n",
    "    assert \"sm:footer-horizontal\" in first_footer.attrs['class']\n",
    "    assert \"bg-base-200\" in first_footer.attrs['class']\n",
    "    assert \"text-base-content\" in first_footer.attrs['class']\n",
    "    assert \"p-10\" in first_footer.attrs['class']\n",
    "    assert len(first_footer.children) == 3  # 3 nav sections\n",
    "    \n",
    "    # Verify second footer\n",
    "    second_footer = two_footer_container.children[1]\n",
    "    assert second_footer.tag == \"footer\"\n",
    "    assert \"footer\" in second_footer.attrs['class']\n",
    "    assert \"bg-base-200\" in second_footer.attrs['class']\n",
    "    assert \"text-base-content\" in second_footer.attrs['class']\n",
    "    assert \"border-base-300\" in second_footer.attrs['class']\n",
    "    assert \"border-t\" in second_footer.attrs['class']\n",
    "    assert \"px-10\" in second_footer.attrs['class']\n",
    "    assert \"py-4\" in second_footer.attrs['class']\n",
    "    \n",
    "    # Verify aside in second footer\n",
    "    aside = second_footer.children[0]\n",
    "    assert aside.tag == \"aside\"\n",
    "    assert \"grid-flow-col\" in aside.attrs['class']\n",
    "    assert \"items-center\" in aside.attrs['class']\n",
    "    assert aside.children[0].tag == \"svg\"\n",
    "    assert aside.children[1].tag == \"p\"\n",
    "    \n",
    "    # Verify nav in second footer\n",
    "    nav = second_footer.children[1]\n",
    "    assert nav.tag == \"nav\"\n",
    "    assert \"md:place-self-center\" in nav.attrs['class']\n",
    "    assert \"md:justify-self-end\" in nav.attrs['class']\n",
    "    social_grid = nav.children[0]\n",
    "    assert social_grid.tag == \"div\"\n",
    "    assert \"grid\" in social_grid.attrs['class']\n",
    "    assert \"grid-flow-col\" in social_grid.attrs['class']\n",
    "    assert \"gap-4\" in social_grid.attrs['class']\n",
    "    \n",
    "    return two_footer_container\n",
    "\n",
    "# Run the tests\n",
    "test_footer_two_stacked_fasthtml_examples()"
   ]
  },
  {
   "cell_type": "code",
   "execution_count": null,
   "id": "aeacg0421hq",
   "metadata": {},
   "outputs": [
    {
     "data": {
      "text/html": [
       "\n",
       "<script>\n",
       "document.body.addEventListener('htmx:configRequest', (event) => {\n",
       "    if(event.detail.path.includes('://')) return;\n",
       "    htmx.config.selfRequestsOnly=false;\n",
       "    event.detail.path = `${location.protocol}//${location.hostname}:8000${event.detail.path}`;\n",
       "});\n",
       "</script>"
      ],
      "text/plain": [
       "<IPython.core.display.HTML object>"
      ]
     },
     "metadata": {},
     "output_type": "display_data"
    },
    {
     "data": {
      "text/html": [
       "<iframe src=\"http://localhost:8000/\" style=\"width: 100%; height: auto; border: none;\" onload=\"{\n",
       "        let frame = this;\n",
       "        window.addEventListener('message', function(e) {\n",
       "            if (e.source !== frame.contentWindow) return; // Only proceed if the message is from this iframe\n",
       "            if (e.data.height) frame.style.height = (e.data.height+1) + 'px';\n",
       "        }, false);\n",
       "    }\" allow=\"accelerometer; autoplay; camera; clipboard-read; clipboard-write; display-capture; encrypted-media; fullscreen; gamepad; geolocation; gyroscope; hid; identity-credentials-get; idle-detection; magnetometer; microphone; midi; payment; picture-in-picture; publickey-credentials-get; screen-wake-lock; serial; usb; web-share; xr-spatial-tracking\"></iframe> "
      ],
      "text/plain": [
       "<IPython.core.display.HTML object>"
      ]
     },
     "metadata": {},
     "output_type": "display_data"
    }
   ],
   "source": [
    "#| eval: false\n",
    "#| output: false\n",
    "test_func = test_footer_two_stacked_fasthtml_examples\n",
    "app, rt = create_test_app(theme=DaisyUITheme.LIGHT)\n",
    "\n",
    "@rt\n",
    "def index():\n",
    "    return create_test_page(test_func.__doc__.title().replace('.', ''), test_func())\n",
    "server = start_test_server(app)\n",
    "display(HTMX())\n",
    "server.stop()"
   ]
  },
  {
   "cell_type": "code",
   "execution_count": null,
   "id": "25dcddba-99c5-44e7-8815-403f64f9b300",
   "metadata": {},
   "outputs": [],
   "source": []
  },
  {
   "cell_type": "code",
   "execution_count": null,
   "id": "54fc035d-ba13-4df7-b3cc-c15e5d04123a",
   "metadata": {},
   "outputs": [],
   "source": []
  },
  {
   "cell_type": "code",
   "execution_count": null,
   "id": "4b9fbd98-19b8-4015-b924-5063de4b4909",
   "metadata": {},
   "outputs": [],
   "source": []
  },
  {
   "cell_type": "code",
   "execution_count": null,
   "id": "a5f6f53c-aa9b-4f54-8ca7-6293c34dd60a",
   "metadata": {},
   "outputs": [],
   "source": []
  },
  {
   "cell_type": "code",
   "execution_count": null,
   "id": "3e0fb179-20f6-4266-9bec-a110ab520ebd",
   "metadata": {},
   "outputs": [],
   "source": []
  },
  {
   "cell_type": "code",
   "execution_count": null,
   "id": "083aa351-039a-4d96-9778-05a7df035b10",
   "metadata": {},
   "outputs": [],
   "source": []
  },
  {
   "cell_type": "code",
   "execution_count": null,
   "id": "4851e337-3a44-47e2-806b-ac0016ed77ca",
   "metadata": {},
   "outputs": [],
   "source": []
  },
  {
   "cell_type": "code",
   "execution_count": null,
   "id": "6b1e4add-02d5-477b-a674-54bbe2a96de4",
   "metadata": {},
   "outputs": [],
   "source": []
  },
  {
   "cell_type": "code",
   "execution_count": null,
   "id": "24a09f0c-fa1e-4ee2-999d-ed25ccf8be9f",
   "metadata": {},
   "outputs": [],
   "source": []
  },
  {
   "cell_type": "code",
   "execution_count": null,
   "id": "9368e4fc-d641-4cc8-9ffc-5a10ff89d6e2",
   "metadata": {},
   "outputs": [],
   "source": []
  },
  {
   "cell_type": "code",
   "execution_count": null,
   "id": "1df4a6b5-4f03-40a5-b135-a5240e489e41",
   "metadata": {},
   "outputs": [],
   "source": []
  },
  {
   "cell_type": "code",
   "execution_count": null,
   "id": "e9c3638a-359f-43b4-afc2-57d21ab4e360",
   "metadata": {},
   "outputs": [],
   "source": []
  },
  {
   "cell_type": "code",
   "execution_count": null,
   "id": "f16c5ab1-501b-4a39-b0d4-afc66a8e0a46",
   "metadata": {},
   "outputs": [],
   "source": []
  },
  {
   "cell_type": "code",
   "execution_count": null,
   "id": "0baef22f-3291-4afb-b8a7-cd84375e011c",
   "metadata": {},
   "outputs": [],
   "source": []
  },
  {
   "cell_type": "code",
   "execution_count": null,
   "id": "48b281e1-c8d4-45cf-9a83-60621d1cb351",
   "metadata": {},
   "outputs": [],
   "source": []
  },
  {
   "cell_type": "code",
   "execution_count": null,
   "id": "67254fba-4914-42f7-8fdd-8d34a1f48ccf",
   "metadata": {},
   "outputs": [],
   "source": []
  },
  {
   "cell_type": "code",
   "execution_count": null,
   "id": "c9110844-86bd-491a-9cb5-a625550d4883",
   "metadata": {},
   "outputs": [],
   "source": []
  },
  {
   "cell_type": "code",
   "execution_count": null,
   "id": "da0a90cb-ceed-4ce2-afbb-661864df8d10",
   "metadata": {},
   "outputs": [],
   "source": []
  },
  {
   "cell_type": "code",
   "execution_count": null,
   "id": "37d06cfc-336e-40bd-9fff-2367b3e78c21",
   "metadata": {},
   "outputs": [],
   "source": []
  },
  {
   "cell_type": "code",
   "execution_count": null,
   "id": "24b7b0e9-2fbd-4c34-a1af-dd1102ad830a",
   "metadata": {},
   "outputs": [],
   "source": []
  },
  {
   "cell_type": "code",
   "execution_count": null,
   "id": "8558a5e4-d22c-40af-9ee5-c4be3c15f65d",
   "metadata": {},
   "outputs": [],
   "source": []
  },
  {
   "cell_type": "code",
   "execution_count": null,
   "id": "784988d7-978c-4c13-8efe-963b24b8ed65",
   "metadata": {},
   "outputs": [],
   "source": []
  },
  {
   "cell_type": "code",
   "execution_count": null,
   "id": "e0eb1f2f-c3cd-4746-8d67-0d73b7dbfc87",
   "metadata": {},
   "outputs": [],
   "source": []
  },
  {
   "cell_type": "code",
   "execution_count": null,
   "id": "779b64ba-9b71-4804-b5d1-ba59cc7660a3",
   "metadata": {},
   "outputs": [],
   "source": []
  },
  {
   "cell_type": "code",
   "execution_count": null,
   "id": "6eff2cd6-ddad-4c2a-b02c-60002940754a",
   "metadata": {},
   "outputs": [],
   "source": []
  },
  {
   "cell_type": "code",
   "execution_count": null,
   "id": "1b67ea2f-5a25-422e-8c8f-bfa24362e29e",
   "metadata": {},
   "outputs": [],
   "source": []
  },
  {
   "cell_type": "code",
   "execution_count": null,
   "id": "6c715857-3206-4c55-bf6f-eafb2dc6d3c0",
   "metadata": {},
   "outputs": [],
   "source": []
  },
  {
   "cell_type": "code",
   "execution_count": null,
   "id": "5570ca2f-9577-4b76-8145-7973d72670e2",
   "metadata": {},
   "outputs": [],
   "source": []
  },
  {
   "cell_type": "code",
   "execution_count": null,
   "id": "248adc40-6e77-4203-9830-de838e25a00a",
   "metadata": {},
   "outputs": [],
   "source": []
  },
  {
   "cell_type": "code",
   "execution_count": null,
   "id": "a2029d6d-bf22-4e16-87e1-d609762dc867",
   "metadata": {},
   "outputs": [],
   "source": []
  },
  {
   "cell_type": "code",
   "execution_count": null,
   "id": "c9dfaad9-504c-4853-886b-2d1adb1cc3a0",
   "metadata": {},
   "outputs": [],
   "source": []
  },
  {
   "cell_type": "code",
   "execution_count": null,
   "id": "454d5b84-fc57-44ab-a6f0-3123333998cb",
   "metadata": {},
   "outputs": [],
   "source": []
  },
  {
   "cell_type": "code",
   "execution_count": null,
   "id": "d471d21b-6fe5-4c63-90be-5176c4cbd08b",
   "metadata": {},
   "outputs": [],
   "source": []
  },
  {
   "cell_type": "code",
   "execution_count": null,
   "id": "73b88b7e-0be6-4a82-9c02-f3df8af20015",
   "metadata": {},
   "outputs": [],
   "source": []
  },
  {
   "cell_type": "code",
   "execution_count": null,
   "id": "7ab8257a-c30b-45b6-a784-729b67686791",
   "metadata": {},
   "outputs": [],
   "source": [
    "#| hide\n",
    "import nbdev; nbdev.nbdev_export()"
   ]
  }
 ],
 "metadata": {
  "kernelspec": {
   "display_name": "python3",
   "language": "python",
   "name": "python3"
  }
 },
 "nbformat": 4,
 "nbformat_minor": 5
}
