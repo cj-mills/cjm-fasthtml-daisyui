{
 "cells": [
  {
   "cell_type": "markdown",
   "id": "7c51b46b-ece1-456d-8e84-7de122e72b62",
   "metadata": {},
   "source": [
    "# join\n",
    "\n",
    "> Join is a container for grouping multiple items, it can be used to group buttons, inputs, etc. Join applies border radius to the first and last item. Join can be used to create a horizontal or vertical list of items."
   ]
  },
  {
   "cell_type": "code",
   "execution_count": null,
   "id": "25536bdc-e099-477f-9e2d-a5f71df5dff2",
   "metadata": {},
   "outputs": [],
   "source": [
    "#| default_exp components.layout.join"
   ]
  },
  {
   "cell_type": "code",
   "execution_count": null,
   "id": "2e6f21ce-7766-455a-8ebb-df2c17e7d977",
   "metadata": {},
   "outputs": [],
   "source": [
    "#| hide\n",
    "from nbdev.showdoc import *"
   ]
  },
  {
   "cell_type": "code",
   "execution_count": null,
   "id": "045c6538-403e-4222-b3bb-db20f188524d",
   "metadata": {},
   "outputs": [],
   "source": [
    "#| export\n",
    "from enum import Enum\n",
    "from cjm_fasthtml_tailwind.core.base import (\n",
    "    SingleValueFactory, combine_classes\n",
    ")\n",
    "from cjm_fasthtml_tailwind.builders.scales import SimpleFactory, enums_to_simple_factory\n",
    "\n",
    "from fasthtml.common import Div\n",
    "from fasthtml.jupyter import JupyUvi, HTMX\n",
    "from cjm_fasthtml_daisyui.core.testing import create_test_app, create_test_page, start_test_server\n",
    "from cjm_fasthtml_daisyui.core.themes import DaisyUITheme\n",
    "from IPython.display import display"
   ]
  },
  {
   "cell_type": "markdown",
   "id": "0282d98b-71ae-4e70-a6e0-b300f17a6c7d",
   "metadata": {},
   "source": [
    "### Base Join"
   ]
  },
  {
   "cell_type": "code",
   "execution_count": null,
   "id": "c802d106-49fb-4d34-ba04-5f54c88e165b",
   "metadata": {},
   "outputs": [],
   "source": [
    "#| exports\n",
    "join = SingleValueFactory(\"join\", \"Base join component for grouping multiple items\") # Base join component\n",
    "join_item = SingleValueFactory(\"join-item\", \"Item inside join. Can be a button, input, etc.\") # Join item component"
   ]
  },
  {
   "cell_type": "markdown",
   "id": "6b338d70-3024-49b4-986b-492ddcec4151",
   "metadata": {},
   "source": [
    "### Join Direction"
   ]
  },
  {
   "cell_type": "code",
   "execution_count": null,
   "id": "636c6bcd-2176-4191-aa39-c937893243e2",
   "metadata": {},
   "outputs": [],
   "source": [
    "#| exports\n",
    "class JoinDirection(str, Enum):\n",
    "    VERTICAL = \"vertical\"\n",
    "    HORIZONTAL = \"horizontal\"\n",
    "\n",
    "join_directions = enums_to_simple_factory(join, [JoinDirection], \"join directions (vertical, horizontal)\") # join directions"
   ]
  },
  {
   "cell_type": "markdown",
   "id": "e941e13a-b2b9-4bfc-af9b-a4174e098fd1",
   "metadata": {},
   "source": [
    "### Join Test Examples"
   ]
  },
  {
   "cell_type": "code",
   "execution_count": null,
   "id": "3035ff66-e4e7-410c-8b1e-86a879f66112",
   "metadata": {},
   "outputs": [],
   "source": [
    "#|exports\n",
    "def test_join_basic_examples():\n",
    "    \"\"\"Test basic join utilities.\"\"\"\n",
    "    # Basic join\n",
    "    assert str(join) == \"join\"\n",
    "    assert str(join_item) == \"join-item\"\n",
    "    \n",
    "    # Test with modifiers\n",
    "    assert str(join.hover) == \"hover:join\"\n",
    "    assert str(join.md) == \"md:join\"\n",
    "    assert str(join.dark) == \"dark:join\"\n",
    "\n",
    "    assert str(join_item.hover) == \"hover:join-item\"\n",
    "    assert str(join_item.md) == \"md:join-item\"\n",
    "    assert str(join_item.dark) == \"dark:join-item\"\n",
    "\n",
    "# Run the tests\n",
    "test_join_basic_examples()"
   ]
  },
  {
   "cell_type": "code",
   "execution_count": null,
   "id": "4666a5a3-26bb-4d91-b5be-f941df8f9d2f",
   "metadata": {},
   "outputs": [],
   "source": [
    "#|exports\n",
    "def test_join_directions_examples():\n",
    "    \"\"\"Test join directions variants.\"\"\"\n",
    "    assert str(join_directions.vertical) == \"join-vertical\"\n",
    "    assert str(join_directions.horizontal) == \"join-horizontal\"\n",
    "\n",
    "# Run the tests\n",
    "test_join_directions_examples()"
   ]
  },
  {
   "cell_type": "code",
   "execution_count": null,
   "id": "bcf11cfd-48c1-42eb-886e-38a794a9f57a",
   "metadata": {},
   "outputs": [
    {
     "data": {
      "text/markdown": [
       "```html\n",
       "<div class=\"join\">\n",
       "<button class=\"btn join-item\">Button</button><button class=\"btn join-item\">Button</button><button class=\"btn join-item\">Button</button></div>\n",
       "\n",
       "```"
      ],
      "text/plain": [
       "div((button(('Button',),{'class': 'btn join-item'}), button(('Button',),{'class': 'btn join-item'}), button(('Button',),{'class': 'btn join-item'})),{'class': 'join'})"
      ]
     },
     "execution_count": null,
     "metadata": {},
     "output_type": "execute_result"
    }
   ],
   "source": [
    "#|exports\n",
    "def test_join_basic_fasthtml_examples():\n",
    "    \"\"\"Test basic join example from daisyUI v5 documentation.\"\"\"\n",
    "    from fasthtml.common import Button, Div\n",
    "    from cjm_fasthtml_daisyui.components.actions.button import btn\n",
    "    \n",
    "    # Basic join with buttons\n",
    "    basic_join = Div(\n",
    "        Button(\"Button\", cls=combine_classes(btn, join_item)),\n",
    "        Button(\"Button\", cls=combine_classes(btn, join_item)),\n",
    "        Button(\"Button\", cls=combine_classes(btn, join_item)),\n",
    "        cls=str(join)\n",
    "    )\n",
    "    \n",
    "    # Verify structure\n",
    "    assert basic_join.tag == \"div\"\n",
    "    assert basic_join.attrs['class'] == \"join\"\n",
    "    \n",
    "    # Verify all buttons\n",
    "    assert len(basic_join.children) == 3\n",
    "    for i, button in enumerate(basic_join.children):\n",
    "        assert button.tag == \"button\"\n",
    "        assert \"btn\" in button.attrs['class']\n",
    "        assert \"join-item\" in button.attrs['class']\n",
    "        assert button.children[0] == \"Button\"\n",
    "    \n",
    "    return basic_join\n",
    "\n",
    "# Run the tests\n",
    "test_join_basic_fasthtml_examples()"
   ]
  },
  {
   "cell_type": "code",
   "execution_count": null,
   "id": "8ffa6eab-b3b4-4111-8aef-5e67d0886c0f",
   "metadata": {},
   "outputs": [
    {
     "data": {
      "text/html": [
       "\n",
       "<script>\n",
       "document.body.addEventListener('htmx:configRequest', (event) => {\n",
       "    if(event.detail.path.includes('://')) return;\n",
       "    htmx.config.selfRequestsOnly=false;\n",
       "    event.detail.path = `${location.protocol}//${location.hostname}:8000${event.detail.path}`;\n",
       "});\n",
       "</script>"
      ],
      "text/plain": [
       "<IPython.core.display.HTML object>"
      ]
     },
     "metadata": {},
     "output_type": "display_data"
    },
    {
     "data": {
      "text/html": [
       "<iframe src=\"http://localhost:8000/\" style=\"width: 100%; height: auto; border: none;\" onload=\"{\n",
       "        let frame = this;\n",
       "        window.addEventListener('message', function(e) {\n",
       "            if (e.source !== frame.contentWindow) return; // Only proceed if the message is from this iframe\n",
       "            if (e.data.height) frame.style.height = (e.data.height+1) + 'px';\n",
       "        }, false);\n",
       "    }\" allow=\"accelerometer; autoplay; camera; clipboard-read; clipboard-write; display-capture; encrypted-media; fullscreen; gamepad; geolocation; gyroscope; hid; identity-credentials-get; idle-detection; magnetometer; microphone; midi; payment; picture-in-picture; publickey-credentials-get; screen-wake-lock; serial; usb; web-share; xr-spatial-tracking\"></iframe> "
      ],
      "text/plain": [
       "<IPython.core.display.HTML object>"
      ]
     },
     "metadata": {},
     "output_type": "display_data"
    }
   ],
   "source": [
    "#| eval: false\n",
    "#| output: false\n",
    "test_func = test_join_basic_fasthtml_examples\n",
    "app, rt = create_test_app(theme=DaisyUITheme.LIGHT)\n",
    "\n",
    "@rt\n",
    "def index():\n",
    "    return create_test_page(test_func.__doc__.title().replace('.', ''), test_func())\n",
    "server = start_test_server(app)\n",
    "display(HTMX())\n",
    "server.stop()"
   ]
  },
  {
   "cell_type": "code",
   "execution_count": null,
   "id": "621dd1fb-123b-4b6c-b8f4-ce74770b6f11",
   "metadata": {},
   "outputs": [
    {
     "data": {
      "text/markdown": [
       "```html\n",
       "<div class=\"join join-vertical\">\n",
       "<button class=\"btn join-item\">Button</button><button class=\"btn join-item\">Button</button><button class=\"btn join-item\">Button</button></div>\n",
       "\n",
       "```"
      ],
      "text/plain": [
       "div((button(('Button',),{'class': 'btn join-item'}), button(('Button',),{'class': 'btn join-item'}), button(('Button',),{'class': 'btn join-item'})),{'class': 'join join-vertical'})"
      ]
     },
     "execution_count": null,
     "metadata": {},
     "output_type": "execute_result"
    }
   ],
   "source": [
    "#|exports\n",
    "def test_join_vertical_fasthtml_examples():\n",
    "    \"\"\"Test vertical join example from daisyUI v5 documentation.\"\"\"\n",
    "    from fasthtml.common import Button, Div\n",
    "    from cjm_fasthtml_daisyui.components.actions.button import btn\n",
    "    \n",
    "    # Vertical join with buttons\n",
    "    vertical_join = Div(\n",
    "        Button(\"Button\", cls=combine_classes(btn, join_item)),\n",
    "        Button(\"Button\", cls=combine_classes(btn, join_item)),\n",
    "        Button(\"Button\", cls=combine_classes(btn, join_item)),\n",
    "        cls=combine_classes(join, join_directions.vertical)\n",
    "    )\n",
    "    \n",
    "    # Verify structure\n",
    "    assert vertical_join.tag == \"div\"\n",
    "    assert \"join\" in vertical_join.attrs['class']\n",
    "    assert \"join-vertical\" in vertical_join.attrs['class']\n",
    "    \n",
    "    # Verify all buttons\n",
    "    assert len(vertical_join.children) == 3\n",
    "    for button in vertical_join.children:\n",
    "        assert button.tag == \"button\"\n",
    "        assert \"btn\" in button.attrs['class']\n",
    "        assert \"join-item\" in button.attrs['class']\n",
    "        assert button.children[0] == \"Button\"\n",
    "    \n",
    "    return vertical_join\n",
    "\n",
    "# Run the tests\n",
    "test_join_vertical_fasthtml_examples()"
   ]
  },
  {
   "cell_type": "code",
   "execution_count": null,
   "id": "e47f0219-d7f9-442d-a9c1-5197d0144b46",
   "metadata": {},
   "outputs": [
    {
     "data": {
      "text/html": [
       "\n",
       "<script>\n",
       "document.body.addEventListener('htmx:configRequest', (event) => {\n",
       "    if(event.detail.path.includes('://')) return;\n",
       "    htmx.config.selfRequestsOnly=false;\n",
       "    event.detail.path = `${location.protocol}//${location.hostname}:8000${event.detail.path}`;\n",
       "});\n",
       "</script>"
      ],
      "text/plain": [
       "<IPython.core.display.HTML object>"
      ]
     },
     "metadata": {},
     "output_type": "display_data"
    },
    {
     "data": {
      "text/html": [
       "<iframe src=\"http://localhost:8000/\" style=\"width: 100%; height: auto; border: none;\" onload=\"{\n",
       "        let frame = this;\n",
       "        window.addEventListener('message', function(e) {\n",
       "            if (e.source !== frame.contentWindow) return; // Only proceed if the message is from this iframe\n",
       "            if (e.data.height) frame.style.height = (e.data.height+1) + 'px';\n",
       "        }, false);\n",
       "    }\" allow=\"accelerometer; autoplay; camera; clipboard-read; clipboard-write; display-capture; encrypted-media; fullscreen; gamepad; geolocation; gyroscope; hid; identity-credentials-get; idle-detection; magnetometer; microphone; midi; payment; picture-in-picture; publickey-credentials-get; screen-wake-lock; serial; usb; web-share; xr-spatial-tracking\"></iframe> "
      ],
      "text/plain": [
       "<IPython.core.display.HTML object>"
      ]
     },
     "metadata": {},
     "output_type": "display_data"
    }
   ],
   "source": [
    "#| eval: false\n",
    "#| output: false\n",
    "test_func = test_join_vertical_fasthtml_examples\n",
    "app, rt = create_test_app(theme=DaisyUITheme.LIGHT)\n",
    "\n",
    "@rt\n",
    "def index():\n",
    "    return create_test_page(test_func.__doc__.title().replace('.', ''), test_func())\n",
    "server = start_test_server(app)\n",
    "display(HTMX())\n",
    "server.stop()"
   ]
  },
  {
   "cell_type": "code",
   "execution_count": null,
   "id": "5b1a84c2-1e9e-487d-b47d-904938e5db9b",
   "metadata": {},
   "outputs": [
    {
     "data": {
      "text/markdown": [
       "```html\n",
       "<div class=\"join join-vertical lg:join-horizontal\">\n",
       "<button class=\"btn join-item\">Button</button><button class=\"btn join-item\">Button</button><button class=\"btn join-item\">Button</button></div>\n",
       "\n",
       "```"
      ],
      "text/plain": [
       "div((button(('Button',),{'class': 'btn join-item'}), button(('Button',),{'class': 'btn join-item'}), button(('Button',),{'class': 'btn join-item'})),{'class': 'join join-vertical lg:join-horizontal'})"
      ]
     },
     "execution_count": null,
     "metadata": {},
     "output_type": "execute_result"
    }
   ],
   "source": [
    "#|exports\n",
    "def test_join_responsive_fasthtml_examples():\n",
    "    \"\"\"Test responsive join example from daisyUI v5 documentation.\"\"\"\n",
    "    from fasthtml.common import Button, Div\n",
    "    from cjm_fasthtml_daisyui.components.actions.button import btn\n",
    "    \n",
    "    # Responsive join - vertical on small screen, horizontal on large screen\n",
    "    responsive_join = Div(\n",
    "        Button(\"Button\", cls=combine_classes(btn, join_item)),\n",
    "        Button(\"Button\", cls=combine_classes(btn, join_item)),\n",
    "        Button(\"Button\", cls=combine_classes(btn, join_item)),\n",
    "        cls=combine_classes(join, join_directions.vertical, join_directions.horizontal.lg)\n",
    "    )\n",
    "    \n",
    "    # Verify structure\n",
    "    assert responsive_join.tag == \"div\"\n",
    "    assert \"join\" in responsive_join.attrs['class']\n",
    "    assert \"join-vertical\" in responsive_join.attrs['class']\n",
    "    assert \"lg:join-horizontal\" in responsive_join.attrs['class']\n",
    "    \n",
    "    # Verify all buttons\n",
    "    assert len(responsive_join.children) == 3\n",
    "    for button in responsive_join.children:\n",
    "        assert button.tag == \"button\"\n",
    "        assert \"btn\" in button.attrs['class']\n",
    "        assert \"join-item\" in button.attrs['class']\n",
    "        assert button.children[0] == \"Button\"\n",
    "    \n",
    "    return responsive_join\n",
    "\n",
    "# Run the tests\n",
    "test_join_responsive_fasthtml_examples()"
   ]
  },
  {
   "cell_type": "code",
   "execution_count": null,
   "id": "e2c469ab-7262-429c-b534-1c0a561018c9",
   "metadata": {},
   "outputs": [
    {
     "data": {
      "text/html": [
       "\n",
       "<script>\n",
       "document.body.addEventListener('htmx:configRequest', (event) => {\n",
       "    if(event.detail.path.includes('://')) return;\n",
       "    htmx.config.selfRequestsOnly=false;\n",
       "    event.detail.path = `${location.protocol}//${location.hostname}:8000${event.detail.path}`;\n",
       "});\n",
       "</script>"
      ],
      "text/plain": [
       "<IPython.core.display.HTML object>"
      ]
     },
     "metadata": {},
     "output_type": "display_data"
    },
    {
     "data": {
      "text/html": [
       "<iframe src=\"http://localhost:8000/\" style=\"width: 100%; height: auto; border: none;\" onload=\"{\n",
       "        let frame = this;\n",
       "        window.addEventListener('message', function(e) {\n",
       "            if (e.source !== frame.contentWindow) return; // Only proceed if the message is from this iframe\n",
       "            if (e.data.height) frame.style.height = (e.data.height+1) + 'px';\n",
       "        }, false);\n",
       "    }\" allow=\"accelerometer; autoplay; camera; clipboard-read; clipboard-write; display-capture; encrypted-media; fullscreen; gamepad; geolocation; gyroscope; hid; identity-credentials-get; idle-detection; magnetometer; microphone; midi; payment; picture-in-picture; publickey-credentials-get; screen-wake-lock; serial; usb; web-share; xr-spatial-tracking\"></iframe> "
      ],
      "text/plain": [
       "<IPython.core.display.HTML object>"
      ]
     },
     "metadata": {},
     "output_type": "display_data"
    }
   ],
   "source": [
    "#| eval: false\n",
    "#| output: false\n",
    "test_func = test_join_responsive_fasthtml_examples\n",
    "app, rt = create_test_app(theme=DaisyUITheme.LIGHT)\n",
    "\n",
    "@rt\n",
    "def index():\n",
    "    return create_test_page(test_func.__doc__.title().replace('.', ''), test_func())\n",
    "server = start_test_server(app)\n",
    "display(HTMX())\n",
    "server.stop()"
   ]
  },
  {
   "cell_type": "code",
   "execution_count": null,
   "id": "4ef990ea-2e14-4e1c-9a6d-e3ef5c575ac0",
   "metadata": {},
   "outputs": [
    {
     "data": {
      "text/markdown": [
       "```html\n",
       "<div class=\"join\">\n",
       "  <div>\n",
       "    <div>\n",
       "      <input placeholder=\"Search\" class=\"input join-item\">\n",
       "    </div>\n",
       "  </div>\n",
       "<select class=\"select join-item\"><option disabled selected>Filter</option><option>Sci-fi</option><option>Drama</option><option>Action</option></select>  <div class=\"indicator\">\n",
       "<span class=\"indicator-item badge badge-secondary\">new</span><button class=\"btn join-item\">Search</button>  </div>\n",
       "</div>\n",
       "\n",
       "```"
      ],
      "text/plain": [
       "div((div((div((input((),{'placeholder': 'Search', 'class': 'input join-item'}),),{}),),{}), select((option(('Filter',),{'disabled': True, 'selected': True}), option(('Sci-fi',),{}), option(('Drama',),{}), option(('Action',),{})),{'class': 'select join-item'}), div((span(('new',),{'class': 'indicator-item badge badge-secondary'}), button(('Search',),{'class': 'btn join-item'})),{'class': 'indicator'})),{'class': 'join'})"
      ]
     },
     "execution_count": null,
     "metadata": {},
     "output_type": "execute_result"
    }
   ],
   "source": [
    "#|exports\n",
    "def test_join_with_extra_elements_fasthtml_examples():\n",
    "    \"\"\"Test join with extra elements from daisyUI v5 documentation.\"\"\"\n",
    "    from fasthtml.common import Button, Div, Input, Select, Option, Span\n",
    "    from cjm_fasthtml_daisyui.components.actions.button import btn\n",
    "    from cjm_fasthtml_daisyui.components.data_input.text_input import text_input\n",
    "    from cjm_fasthtml_daisyui.components.data_input.select import select\n",
    "    from cjm_fasthtml_daisyui.components.layout.indicator import indicator, indicator_item\n",
    "    from cjm_fasthtml_daisyui.components.data_display.badge import badge, badge_colors\n",
    "    \n",
    "    # Join with extra elements\n",
    "    join_extra = Div(\n",
    "        Div(\n",
    "            Div(\n",
    "                Input(placeholder=\"Search\", cls=combine_classes(text_input, join_item))\n",
    "            )\n",
    "        ),\n",
    "        Select(\n",
    "            Option(\"Filter\", disabled=True, selected=True),\n",
    "            Option(\"Sci-fi\"),\n",
    "            Option(\"Drama\"),\n",
    "            Option(\"Action\"),\n",
    "            cls=combine_classes(select, join_item)\n",
    "        ),\n",
    "        Div(\n",
    "            Span(\"new\", cls=combine_classes(indicator_item, badge, badge_colors.secondary)),\n",
    "            Button(\"Search\", cls=combine_classes(btn, join_item)),\n",
    "            cls=str(indicator)\n",
    "        ),\n",
    "        cls=str(join)\n",
    "    )\n",
    "    \n",
    "    # Verify structure\n",
    "    assert join_extra.tag == \"div\"\n",
    "    assert join_extra.attrs['class'] == \"join\"\n",
    "    assert len(join_extra.children) == 3\n",
    "    \n",
    "    # Verify first element (nested divs with input)\n",
    "    first_element = join_extra.children[0]\n",
    "    assert first_element.tag == \"div\"\n",
    "    assert first_element.children[0].tag == \"div\"\n",
    "    input_element = first_element.children[0].children[0]\n",
    "    assert input_element.tag == \"input\"\n",
    "    assert \"input\" in input_element.attrs['class']\n",
    "    assert \"join-item\" in input_element.attrs['class']\n",
    "    assert input_element.attrs['placeholder'] == \"Search\"\n",
    "    \n",
    "    # Verify select element\n",
    "    select_element = join_extra.children[1]\n",
    "    assert select_element.tag == \"select\"\n",
    "    assert \"select\" in select_element.attrs['class']\n",
    "    assert \"join-item\" in select_element.attrs['class']\n",
    "    assert len(select_element.children) == 4\n",
    "    assert select_element.children[0].tag == \"option\"\n",
    "    assert select_element.children[0].attrs['disabled'] == True\n",
    "    assert select_element.children[0].attrs['selected'] == True\n",
    "    assert select_element.children[0].children[0] == \"Filter\"\n",
    "    \n",
    "    # Verify indicator with badge and button\n",
    "    indicator_element = join_extra.children[2]\n",
    "    assert indicator_element.tag == \"div\"\n",
    "    assert indicator_element.attrs['class'] == \"indicator\"\n",
    "    assert len(indicator_element.children) == 2\n",
    "    \n",
    "    # Verify badge\n",
    "    badge_span = indicator_element.children[0]\n",
    "    assert badge_span.tag == \"span\"\n",
    "    assert \"indicator-item\" in badge_span.attrs['class']\n",
    "    assert \"badge\" in badge_span.attrs['class']\n",
    "    assert \"badge-secondary\" in badge_span.attrs['class']\n",
    "    assert badge_span.children[0] == \"new\"\n",
    "    \n",
    "    # Verify button\n",
    "    search_button = indicator_element.children[1]\n",
    "    assert search_button.tag == \"button\"\n",
    "    assert \"btn\" in search_button.attrs['class']\n",
    "    assert \"join-item\" in search_button.attrs['class']\n",
    "    assert search_button.children[0] == \"Search\"\n",
    "    \n",
    "    return join_extra\n",
    "\n",
    "# Run the tests\n",
    "test_join_with_extra_elements_fasthtml_examples()"
   ]
  },
  {
   "cell_type": "code",
   "execution_count": null,
   "id": "15bfca5e-e4f7-446b-8236-80d1282a70ab",
   "metadata": {},
   "outputs": [
    {
     "data": {
      "text/html": [
       "\n",
       "<script>\n",
       "document.body.addEventListener('htmx:configRequest', (event) => {\n",
       "    if(event.detail.path.includes('://')) return;\n",
       "    htmx.config.selfRequestsOnly=false;\n",
       "    event.detail.path = `${location.protocol}//${location.hostname}:8000${event.detail.path}`;\n",
       "});\n",
       "</script>"
      ],
      "text/plain": [
       "<IPython.core.display.HTML object>"
      ]
     },
     "metadata": {},
     "output_type": "display_data"
    },
    {
     "data": {
      "text/html": [
       "<iframe src=\"http://localhost:8000/\" style=\"width: 100%; height: auto; border: none;\" onload=\"{\n",
       "        let frame = this;\n",
       "        window.addEventListener('message', function(e) {\n",
       "            if (e.source !== frame.contentWindow) return; // Only proceed if the message is from this iframe\n",
       "            if (e.data.height) frame.style.height = (e.data.height+1) + 'px';\n",
       "        }, false);\n",
       "    }\" allow=\"accelerometer; autoplay; camera; clipboard-read; clipboard-write; display-capture; encrypted-media; fullscreen; gamepad; geolocation; gyroscope; hid; identity-credentials-get; idle-detection; magnetometer; microphone; midi; payment; picture-in-picture; publickey-credentials-get; screen-wake-lock; serial; usb; web-share; xr-spatial-tracking\"></iframe> "
      ],
      "text/plain": [
       "<IPython.core.display.HTML object>"
      ]
     },
     "metadata": {},
     "output_type": "display_data"
    }
   ],
   "source": [
    "#| eval: false\n",
    "#| output: false\n",
    "test_func = test_join_with_extra_elements_fasthtml_examples\n",
    "app, rt = create_test_app(theme=DaisyUITheme.LIGHT)\n",
    "\n",
    "@rt\n",
    "def index():\n",
    "    return create_test_page(test_func.__doc__.title().replace('.', ''), test_func())\n",
    "server = start_test_server(app)\n",
    "display(HTMX())\n",
    "server.stop()"
   ]
  },
  {
   "cell_type": "code",
   "execution_count": null,
   "id": "c2082c45-8e09-48b6-a256-16325d423921",
   "metadata": {},
   "outputs": [
    {
     "data": {
      "text/markdown": [
       "```html\n",
       "<div class=\"join\">\n",
       "  <input placeholder=\"Email\" class=\"input join-item\">\n",
       "<button class=\"btn join-item rounded-r-full\">Subscribe</button></div>\n",
       "\n",
       "```"
      ],
      "text/plain": [
       "div((input((),{'placeholder': 'Email', 'class': 'input join-item'}), button(('Subscribe',),{'class': 'btn join-item rounded-r-full'})),{'class': 'join'})"
      ]
     },
     "execution_count": null,
     "metadata": {},
     "output_type": "execute_result"
    }
   ],
   "source": [
    "#|exports\n",
    "def test_join_custom_border_fasthtml_examples():\n",
    "    \"\"\"Test join with custom border radius from daisyUI v5 documentation.\"\"\"\n",
    "    from fasthtml.common import Button, Div, Input\n",
    "    from cjm_fasthtml_tailwind.utilities.borders import rounded\n",
    "    from cjm_fasthtml_daisyui.components.actions.button import btn\n",
    "    from cjm_fasthtml_daisyui.components.data_input.text_input import text_input\n",
    "    \n",
    "    # Join with custom border radius\n",
    "    custom_border_join = Div(\n",
    "        Input(placeholder=\"Email\", cls=combine_classes(text_input, join_item)),\n",
    "        Button(\"Subscribe\", cls=combine_classes(btn, join_item, rounded.r_full)),\n",
    "        cls=str(join)\n",
    "    )\n",
    "    \n",
    "    # Verify structure\n",
    "    assert custom_border_join.tag == \"div\"\n",
    "    assert custom_border_join.attrs['class'] == \"join\"\n",
    "    assert len(custom_border_join.children) == 2\n",
    "    \n",
    "    # Verify input element\n",
    "    input_element = custom_border_join.children[0]\n",
    "    assert input_element.tag == \"input\"\n",
    "    assert \"input\" in input_element.attrs['class']\n",
    "    assert \"join-item\" in input_element.attrs['class']\n",
    "    assert input_element.attrs['placeholder'] == \"Email\"\n",
    "    \n",
    "    # Verify button with custom border radius\n",
    "    button_element = custom_border_join.children[1]\n",
    "    assert button_element.tag == \"button\"\n",
    "    assert \"btn\" in button_element.attrs['class']\n",
    "    assert \"join-item\" in button_element.attrs['class']\n",
    "    assert \"rounded-r-full\" in button_element.attrs['class']\n",
    "    assert button_element.children[0] == \"Subscribe\"\n",
    "    \n",
    "    return custom_border_join\n",
    "\n",
    "# Run the tests\n",
    "test_join_custom_border_fasthtml_examples()"
   ]
  },
  {
   "cell_type": "code",
   "execution_count": null,
   "id": "7c4e7c6f-7c6c-4750-a51d-0b33a34e0a0b",
   "metadata": {},
   "outputs": [
    {
     "data": {
      "text/html": [
       "\n",
       "<script>\n",
       "document.body.addEventListener('htmx:configRequest', (event) => {\n",
       "    if(event.detail.path.includes('://')) return;\n",
       "    htmx.config.selfRequestsOnly=false;\n",
       "    event.detail.path = `${location.protocol}//${location.hostname}:8000${event.detail.path}`;\n",
       "});\n",
       "</script>"
      ],
      "text/plain": [
       "<IPython.core.display.HTML object>"
      ]
     },
     "metadata": {},
     "output_type": "display_data"
    },
    {
     "data": {
      "text/html": [
       "<iframe src=\"http://localhost:8000/\" style=\"width: 100%; height: auto; border: none;\" onload=\"{\n",
       "        let frame = this;\n",
       "        window.addEventListener('message', function(e) {\n",
       "            if (e.source !== frame.contentWindow) return; // Only proceed if the message is from this iframe\n",
       "            if (e.data.height) frame.style.height = (e.data.height+1) + 'px';\n",
       "        }, false);\n",
       "    }\" allow=\"accelerometer; autoplay; camera; clipboard-read; clipboard-write; display-capture; encrypted-media; fullscreen; gamepad; geolocation; gyroscope; hid; identity-credentials-get; idle-detection; magnetometer; microphone; midi; payment; picture-in-picture; publickey-credentials-get; screen-wake-lock; serial; usb; web-share; xr-spatial-tracking\"></iframe> "
      ],
      "text/plain": [
       "<IPython.core.display.HTML object>"
      ]
     },
     "metadata": {},
     "output_type": "display_data"
    }
   ],
   "source": [
    "#| eval: false\n",
    "#| output: false\n",
    "test_func = test_join_custom_border_fasthtml_examples\n",
    "app, rt = create_test_app(theme=DaisyUITheme.LIGHT)\n",
    "\n",
    "@rt\n",
    "def index():\n",
    "    return create_test_page(test_func.__doc__.title().replace('.', ''), test_func())\n",
    "server = start_test_server(app)\n",
    "display(HTMX())\n",
    "server.stop()"
   ]
  },
  {
   "cell_type": "code",
   "execution_count": null,
   "id": "f15bae22-de27-498a-abac-3a7be5b15240",
   "metadata": {},
   "outputs": [
    {
     "data": {
      "text/markdown": [
       "```html\n",
       "<div class=\"join\">\n",
       "  <input type=\"radio\" name=\"options\" aria-label=\"Radio 1\" class=\"join-item btn\">\n",
       "  <input type=\"radio\" name=\"options\" aria-label=\"Radio 2\" class=\"join-item btn\">\n",
       "  <input type=\"radio\" name=\"options\" aria-label=\"Radio 3\" class=\"join-item btn\">\n",
       "</div>\n",
       "\n",
       "```"
      ],
      "text/plain": [
       "div((input((),{'type': 'radio', 'name': 'options', 'aria-label': 'Radio 1', 'class': 'join-item btn'}), input((),{'type': 'radio', 'name': 'options', 'aria-label': 'Radio 2', 'class': 'join-item btn'}), input((),{'type': 'radio', 'name': 'options', 'aria-label': 'Radio 3', 'class': 'join-item btn'})),{'class': 'join'})"
      ]
     },
     "execution_count": null,
     "metadata": {},
     "output_type": "execute_result"
    }
   ],
   "source": [
    "#|exports\n",
    "def test_join_radio_inputs_fasthtml_examples():\n",
    "    \"\"\"Test join with radio inputs styled as buttons from daisyUI v5 documentation.\"\"\"\n",
    "    from fasthtml.common import Div, Input\n",
    "    from cjm_fasthtml_daisyui.components.actions.button import btn\n",
    "    \n",
    "    # Join with radio inputs styled as buttons\n",
    "    radio_join = Div(\n",
    "        Input(type=\"radio\", name=\"options\", aria_label=\"Radio 1\", cls=combine_classes(join_item, btn)),\n",
    "        Input(type=\"radio\", name=\"options\", aria_label=\"Radio 2\", cls=combine_classes(join_item, btn)),\n",
    "        Input(type=\"radio\", name=\"options\", aria_label=\"Radio 3\", cls=combine_classes(join_item, btn)),\n",
    "        cls=str(join)\n",
    "    )\n",
    "    \n",
    "    # Verify structure\n",
    "    assert radio_join.tag == \"div\"\n",
    "    assert radio_join.attrs['class'] == \"join\"\n",
    "    assert len(radio_join.children) == 3\n",
    "    \n",
    "    # Verify all radio inputs\n",
    "    for i, radio in enumerate(radio_join.children, 1):\n",
    "        assert radio.tag == \"input\"\n",
    "        assert radio.attrs['type'] == \"radio\"\n",
    "        assert radio.attrs['name'] == \"options\"\n",
    "        assert radio.attrs['aria-label'] == f\"Radio {i}\"\n",
    "        assert \"join-item\" in radio.attrs['class']\n",
    "        assert \"btn\" in radio.attrs['class']\n",
    "    \n",
    "    return radio_join\n",
    "\n",
    "# Run the tests\n",
    "test_join_radio_inputs_fasthtml_examples()"
   ]
  },
  {
   "cell_type": "code",
   "execution_count": null,
   "id": "e2b23cc5-c3d8-42ee-85e2-4036b90b794b",
   "metadata": {},
   "outputs": [
    {
     "data": {
      "text/html": [
       "\n",
       "<script>\n",
       "document.body.addEventListener('htmx:configRequest', (event) => {\n",
       "    if(event.detail.path.includes('://')) return;\n",
       "    htmx.config.selfRequestsOnly=false;\n",
       "    event.detail.path = `${location.protocol}//${location.hostname}:8000${event.detail.path}`;\n",
       "});\n",
       "</script>"
      ],
      "text/plain": [
       "<IPython.core.display.HTML object>"
      ]
     },
     "metadata": {},
     "output_type": "display_data"
    },
    {
     "data": {
      "text/html": [
       "<iframe src=\"http://localhost:8000/\" style=\"width: 100%; height: auto; border: none;\" onload=\"{\n",
       "        let frame = this;\n",
       "        window.addEventListener('message', function(e) {\n",
       "            if (e.source !== frame.contentWindow) return; // Only proceed if the message is from this iframe\n",
       "            if (e.data.height) frame.style.height = (e.data.height+1) + 'px';\n",
       "        }, false);\n",
       "    }\" allow=\"accelerometer; autoplay; camera; clipboard-read; clipboard-write; display-capture; encrypted-media; fullscreen; gamepad; geolocation; gyroscope; hid; identity-credentials-get; idle-detection; magnetometer; microphone; midi; payment; picture-in-picture; publickey-credentials-get; screen-wake-lock; serial; usb; web-share; xr-spatial-tracking\"></iframe> "
      ],
      "text/plain": [
       "<IPython.core.display.HTML object>"
      ]
     },
     "metadata": {},
     "output_type": "display_data"
    }
   ],
   "source": [
    "#| eval: false\n",
    "#| output: false\n",
    "test_func = test_join_radio_inputs_fasthtml_examples\n",
    "app, rt = create_test_app(theme=DaisyUITheme.LIGHT)\n",
    "\n",
    "@rt\n",
    "def index():\n",
    "    return create_test_page(test_func.__doc__.title().replace('.', ''), test_func())\n",
    "server = start_test_server(app)\n",
    "display(HTMX())\n",
    "server.stop()"
   ]
  },
  {
   "cell_type": "code",
   "execution_count": null,
   "id": "1cd1195e-7ad9-41b6-973c-a623362cf4e0",
   "metadata": {},
   "outputs": [],
   "source": []
  },
  {
   "cell_type": "code",
   "execution_count": null,
   "id": "aa9383b6-30fa-4164-acc0-3e5c64a2f7f9",
   "metadata": {},
   "outputs": [],
   "source": []
  },
  {
   "cell_type": "code",
   "execution_count": null,
   "id": "454d5b84-fc57-44ab-a6f0-3123333998cb",
   "metadata": {},
   "outputs": [],
   "source": []
  },
  {
   "cell_type": "code",
   "execution_count": null,
   "id": "d471d21b-6fe5-4c63-90be-5176c4cbd08b",
   "metadata": {},
   "outputs": [],
   "source": []
  },
  {
   "cell_type": "code",
   "execution_count": null,
   "id": "73b88b7e-0be6-4a82-9c02-f3df8af20015",
   "metadata": {},
   "outputs": [],
   "source": []
  },
  {
   "cell_type": "code",
   "execution_count": null,
   "id": "7ab8257a-c30b-45b6-a784-729b67686791",
   "metadata": {},
   "outputs": [],
   "source": [
    "#| hide\n",
    "import nbdev; nbdev.nbdev_export()"
   ]
  }
 ],
 "metadata": {
  "kernelspec": {
   "display_name": "python3",
   "language": "python",
   "name": "python3"
  }
 },
 "nbformat": 4,
 "nbformat_minor": 5
}
