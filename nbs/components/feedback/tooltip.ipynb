{
 "cells": [
  {
   "cell_type": "markdown",
   "id": "7c51b46b-ece1-456d-8e84-7de122e72b62",
   "metadata": {},
   "source": [
    "# tooltip\n",
    "\n",
    "> Tooltip can be used to show a message when hovering over an element."
   ]
  },
  {
   "cell_type": "code",
   "execution_count": null,
   "id": "25536bdc-e099-477f-9e2d-a5f71df5dff2",
   "metadata": {},
   "outputs": [],
   "source": [
    "#| default_exp components.feedback.tooltip"
   ]
  },
  {
   "cell_type": "code",
   "execution_count": null,
   "id": "2e6f21ce-7766-455a-8ebb-df2c17e7d977",
   "metadata": {},
   "outputs": [],
   "source": [
    "#| hide\n",
    "from nbdev.showdoc import *"
   ]
  },
  {
   "cell_type": "code",
   "execution_count": null,
   "id": "045c6538-403e-4222-b3bb-db20f188524d",
   "metadata": {},
   "outputs": [],
   "source": [
    "#| export\n",
    "from enum import Enum\n",
    "from cjm_fasthtml_tailwind.core.base import (\n",
    "    SingleValueFactory, combine_classes\n",
    ")\n",
    "from cjm_fasthtml_tailwind.builders.scales import SimpleFactory, enums_to_simple_factory\n",
    "\n",
    "from cjm_fasthtml_daisyui.builders.colors import SemanticColorBrand, SemanticColorStatus\n",
    "\n",
    "from fasthtml.common import Div\n",
    "from fasthtml.jupyter import JupyUvi, HTMX\n",
    "from cjm_fasthtml_daisyui.core.testing import create_test_app, create_test_page, start_test_server\n",
    "from cjm_fasthtml_daisyui.core.themes import DaisyUITheme\n",
    "from IPython.display import display"
   ]
  },
  {
   "cell_type": "markdown",
   "id": "08fa55a5-d45c-441f-ad6f-1742a25fc14c",
   "metadata": {},
   "source": [
    "### Base Tooltip"
   ]
  },
  {
   "cell_type": "code",
   "execution_count": null,
   "id": "c802d106-49fb-4d34-ba04-5f54c88e165b",
   "metadata": {},
   "outputs": [],
   "source": [
    "#| export\n",
    "tooltip = SingleValueFactory(\"tooltip\", \"Base tooltip component\") # Base tooltip component\n",
    "tooltip_content = SingleValueFactory(\"tooltip-content\", \"Optional. Setting a div as the content of the tooltip instead of the `data-tip` text\") # Base tooltip content part"
   ]
  },
  {
   "cell_type": "markdown",
   "id": "129b5b0d-378f-45b2-acc0-aa18699c2bfb",
   "metadata": {},
   "source": [
    "### Tooltip Placement"
   ]
  },
  {
   "cell_type": "code",
   "execution_count": null,
   "id": "636c6bcd-2176-4191-aa39-c937893243e2",
   "metadata": {},
   "outputs": [],
   "source": [
    "#| export\n",
    "class TooltipPlacement(str, Enum):\n",
    "    TOP = \"top\"\n",
    "    BOTTOM = \"bottom\"\n",
    "    LEFT = \"left\"\n",
    "    RIGHT = \"right\"\n",
    "\n",
    "tooltip_placement = enums_to_simple_factory(tooltip, [TooltipPlacement], \"Tooltip placement options\") # tooltip placement options"
   ]
  },
  {
   "cell_type": "markdown",
   "id": "18f46cd3-613d-4689-a12a-dacbce90f89c",
   "metadata": {},
   "source": [
    "### Tooltip Modifiers"
   ]
  },
  {
   "cell_type": "code",
   "execution_count": null,
   "id": "3035ff66-e4e7-410c-8b1e-86a879f66112",
   "metadata": {},
   "outputs": [],
   "source": [
    "#| export\n",
    "class TooltipModifier(str, Enum):\n",
    "    OPEN = \"open\"\n",
    "\n",
    "tooltip_modifiers = enums_to_simple_factory(tooltip, [TooltipModifier], \"Tooltip modifiers\") # tooltip modifiers"
   ]
  },
  {
   "cell_type": "markdown",
   "id": "9967ef66-a002-486d-8e74-68832894c978",
   "metadata": {},
   "source": [
    "### Tooltip Colors"
   ]
  },
  {
   "cell_type": "code",
   "execution_count": null,
   "id": "85d72161-e718-4c66-bc59-a3569b7f7616",
   "metadata": {},
   "outputs": [],
   "source": [
    "#| export\n",
    "tooltip_colors = enums_to_simple_factory(tooltip, [SemanticColorBrand, SemanticColorStatus], \"Tooltip color variants using daisyUI semantic colors\") # Tooltip color variants"
   ]
  },
  {
   "cell_type": "markdown",
   "id": "46c5b38a-aae6-49ee-8f9e-6d7b2804c5ee",
   "metadata": {},
   "source": [
    "### Tooltip Test Examples"
   ]
  },
  {
   "cell_type": "code",
   "execution_count": null,
   "id": "a9d78aa3-0be8-49e6-8bfb-cb9a232ee1ee",
   "metadata": {},
   "outputs": [],
   "source": [
    "#| export\n",
    "def test_tooltip_basic_examples():\n",
    "    \"\"\"Test basic tooltip utilities.\"\"\"\n",
    "    # Basic tooltip\n",
    "    assert str(tooltip) == \"tooltip\"\n",
    "    assert str(tooltip_content) == \"tooltip-content\"\n",
    "    \n",
    "    # Test with modifiers\n",
    "    assert str(tooltip.hover) == \"hover:tooltip\"\n",
    "    assert str(tooltip.md) == \"md:tooltip\"\n",
    "    assert str(tooltip.dark) == \"dark:tooltip\"\n",
    "\n",
    "# Run the tests\n",
    "test_tooltip_basic_examples()"
   ]
  },
  {
   "cell_type": "code",
   "execution_count": null,
   "id": "01785a18-9bb0-4dbc-9eae-04addf6dede9",
   "metadata": {},
   "outputs": [],
   "source": [
    "#| export\n",
    "def test_tooltip_placement_examples():\n",
    "    \"\"\"Test tooltip placement options.\"\"\"\n",
    "    assert str(tooltip_placement.top) == \"tooltip-top\"\n",
    "    assert str(tooltip_placement.bottom) == \"tooltip-bottom\"\n",
    "    assert str(tooltip_placement.left) == \"tooltip-left\"\n",
    "    assert str(tooltip_placement.right) == \"tooltip-right\"\n",
    "\n",
    "# Run the tests\n",
    "test_tooltip_placement_examples()"
   ]
  },
  {
   "cell_type": "code",
   "execution_count": null,
   "id": "43a3d5aa-4f07-48f4-b7c3-5c63612f0fb2",
   "metadata": {},
   "outputs": [],
   "source": [
    "#| export\n",
    "def test_tooltip_modifiers_examples():\n",
    "    \"\"\"Test tooltip modifier utilities.\"\"\"\n",
    "    assert str(tooltip_modifiers.open) == \"tooltip-open\"\n",
    "\n",
    "# Run the tests\n",
    "test_tooltip_modifiers_examples()"
   ]
  },
  {
   "cell_type": "code",
   "execution_count": null,
   "id": "248adc40-6e77-4203-9830-de838e25a00a",
   "metadata": {},
   "outputs": [],
   "source": [
    "#| export\n",
    "def test_tooltip_colors_examples():\n",
    "    \"\"\"Test tooltip color variants.\"\"\"\n",
    "    # All color variants\n",
    "    assert str(tooltip_colors.neutral) == \"tooltip-neutral\"\n",
    "    assert str(tooltip_colors.primary) == \"tooltip-primary\"\n",
    "    assert str(tooltip_colors.secondary) == \"tooltip-secondary\"\n",
    "    assert str(tooltip_colors.accent) == \"tooltip-accent\"\n",
    "    assert str(tooltip_colors.info) == \"tooltip-info\"\n",
    "    assert str(tooltip_colors.success) == \"tooltip-success\"\n",
    "    assert str(tooltip_colors.warning) == \"tooltip-warning\"\n",
    "    assert str(tooltip_colors.error) == \"tooltip-error\"\n",
    "    \n",
    "    # With modifiers\n",
    "    assert str(tooltip_colors.primary.hover) == \"hover:tooltip-primary\"\n",
    "    assert str(tooltip_colors.success.focus) == \"focus:tooltip-success\"\n",
    "\n",
    "# Run the tests\n",
    "test_tooltip_colors_examples()"
   ]
  },
  {
   "cell_type": "code",
   "execution_count": null,
   "id": "a2029d6d-bf22-4e16-87e1-d609762dc867",
   "metadata": {},
   "outputs": [],
   "source": []
  },
  {
   "cell_type": "code",
   "execution_count": null,
   "id": "c9dfaad9-504c-4853-886b-2d1adb1cc3a0",
   "metadata": {},
   "outputs": [],
   "source": []
  },
  {
   "cell_type": "code",
   "execution_count": null,
   "id": "454d5b84-fc57-44ab-a6f0-3123333998cb",
   "metadata": {},
   "outputs": [],
   "source": []
  },
  {
   "cell_type": "code",
   "execution_count": null,
   "id": "d471d21b-6fe5-4c63-90be-5176c4cbd08b",
   "metadata": {},
   "outputs": [],
   "source": []
  },
  {
   "cell_type": "code",
   "execution_count": null,
   "id": "73b88b7e-0be6-4a82-9c02-f3df8af20015",
   "metadata": {},
   "outputs": [],
   "source": []
  },
  {
   "cell_type": "code",
   "execution_count": null,
   "id": "7ab8257a-c30b-45b6-a784-729b67686791",
   "metadata": {},
   "outputs": [],
   "source": [
    "#| hide\n",
    "import nbdev; nbdev.nbdev_export()"
   ]
  }
 ],
 "metadata": {
  "kernelspec": {
   "display_name": "python3",
   "language": "python",
   "name": "python3"
  }
 },
 "nbformat": 4,
 "nbformat_minor": 5
}
