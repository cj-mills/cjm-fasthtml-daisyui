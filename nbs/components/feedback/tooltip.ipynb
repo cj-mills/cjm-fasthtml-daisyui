{
 "cells": [
  {
   "cell_type": "markdown",
   "id": "7c51b46b-ece1-456d-8e84-7de122e72b62",
   "metadata": {},
   "source": [
    "# tooltip\n",
    "\n",
    "> Tooltip can be used to show a message when hovering over an element."
   ]
  },
  {
   "cell_type": "code",
   "execution_count": null,
   "id": "25536bdc-e099-477f-9e2d-a5f71df5dff2",
   "metadata": {},
   "outputs": [],
   "source": [
    "#| default_exp components.feedback.tooltip"
   ]
  },
  {
   "cell_type": "code",
   "execution_count": null,
   "id": "2e6f21ce-7766-455a-8ebb-df2c17e7d977",
   "metadata": {},
   "outputs": [],
   "source": [
    "#| hide\n",
    "from nbdev.showdoc import *"
   ]
  },
  {
   "cell_type": "code",
   "execution_count": null,
   "id": "045c6538-403e-4222-b3bb-db20f188524d",
   "metadata": {},
   "outputs": [],
   "source": [
    "#| export\n",
    "from enum import Enum\n",
    "from cjm_fasthtml_tailwind.core.base import (\n",
    "    SingleValueFactory, combine_classes\n",
    ")\n",
    "from cjm_fasthtml_tailwind.builders.scales import SimpleFactory, enums_to_simple_factory\n",
    "\n",
    "from cjm_fasthtml_daisyui.builders.colors import SemanticColorBrand, SemanticColorStatus\n",
    "\n",
    "from fasthtml.common import Div\n",
    "from fasthtml.jupyter import JupyUvi, HTMX\n",
    "from cjm_fasthtml_daisyui.core.testing import create_test_app, create_test_page, start_test_server\n",
    "from cjm_fasthtml_daisyui.core.themes import DaisyUITheme\n",
    "from IPython.display import display"
   ]
  },
  {
   "cell_type": "markdown",
   "id": "08fa55a5-d45c-441f-ad6f-1742a25fc14c",
   "metadata": {},
   "source": [
    "### Base Tooltip"
   ]
  },
  {
   "cell_type": "code",
   "execution_count": null,
   "id": "c802d106-49fb-4d34-ba04-5f54c88e165b",
   "metadata": {},
   "outputs": [],
   "source": [
    "#| exports\n",
    "tooltip = SingleValueFactory(\"tooltip\", \"Base tooltip component\") # Base tooltip component\n",
    "tooltip_content = SingleValueFactory(\"tooltip-content\", \"Optional. Setting a div as the content of the tooltip instead of the `data-tip` text\") # Base tooltip content part"
   ]
  },
  {
   "cell_type": "markdown",
   "id": "129b5b0d-378f-45b2-acc0-aa18699c2bfb",
   "metadata": {},
   "source": [
    "### Tooltip Placement"
   ]
  },
  {
   "cell_type": "code",
   "execution_count": null,
   "id": "636c6bcd-2176-4191-aa39-c937893243e2",
   "metadata": {},
   "outputs": [],
   "source": [
    "#| export\n",
    "class TooltipPlacement(str, Enum):\n",
    "    TOP = \"top\"\n",
    "    BOTTOM = \"bottom\"\n",
    "    LEFT = \"left\"\n",
    "    RIGHT = \"right\"\n",
    "\n",
    "tooltip_placement = enums_to_simple_factory(tooltip, [TooltipPlacement], \"Tooltip placement options\") # tooltip placement options"
   ]
  },
  {
   "cell_type": "markdown",
   "id": "18f46cd3-613d-4689-a12a-dacbce90f89c",
   "metadata": {},
   "source": [
    "### Tooltip Modifiers"
   ]
  },
  {
   "cell_type": "code",
   "execution_count": null,
   "id": "3035ff66-e4e7-410c-8b1e-86a879f66112",
   "metadata": {},
   "outputs": [],
   "source": [
    "#| export\n",
    "class TooltipModifier(str, Enum):\n",
    "    OPEN = \"open\"\n",
    "\n",
    "tooltip_modifiers = enums_to_simple_factory(tooltip, [TooltipModifier], \"Tooltip modifiers\") # tooltip modifiers"
   ]
  },
  {
   "cell_type": "markdown",
   "id": "9967ef66-a002-486d-8e74-68832894c978",
   "metadata": {},
   "source": [
    "### Tooltip Colors"
   ]
  },
  {
   "cell_type": "code",
   "execution_count": null,
   "id": "85d72161-e718-4c66-bc59-a3569b7f7616",
   "metadata": {},
   "outputs": [],
   "source": [
    "#| export\n",
    "tooltip_colors = enums_to_simple_factory(tooltip, [SemanticColorBrand, SemanticColorStatus], \"Tooltip color variants using daisyUI semantic colors\") # Tooltip color variants"
   ]
  },
  {
   "cell_type": "markdown",
   "id": "46c5b38a-aae6-49ee-8f9e-6d7b2804c5ee",
   "metadata": {},
   "source": [
    "### Tooltip Test Examples"
   ]
  },
  {
   "cell_type": "code",
   "execution_count": null,
   "id": "a9d78aa3-0be8-49e6-8bfb-cb9a232ee1ee",
   "metadata": {},
   "outputs": [],
   "source": [
    "#|exports\n",
    "def test_tooltip_basic_examples():\n",
    "    \"\"\"Test basic tooltip utilities.\"\"\"\n",
    "    # Basic tooltip\n",
    "    assert str(tooltip) == \"tooltip\"\n",
    "    assert str(tooltip_content) == \"tooltip-content\"\n",
    "    \n",
    "    # Test with modifiers\n",
    "    assert str(tooltip.hover) == \"hover:tooltip\"\n",
    "    assert str(tooltip.md) == \"md:tooltip\"\n",
    "    assert str(tooltip.dark) == \"dark:tooltip\"\n",
    "\n",
    "# Run the tests\n",
    "test_tooltip_basic_examples()"
   ]
  },
  {
   "cell_type": "code",
   "execution_count": null,
   "id": "01785a18-9bb0-4dbc-9eae-04addf6dede9",
   "metadata": {},
   "outputs": [],
   "source": [
    "#|exports\n",
    "def test_tooltip_placement_examples():\n",
    "    \"\"\"Test tooltip placement options.\"\"\"\n",
    "    assert str(tooltip_placement.top) == \"tooltip-top\"\n",
    "    assert str(tooltip_placement.bottom) == \"tooltip-bottom\"\n",
    "    assert str(tooltip_placement.left) == \"tooltip-left\"\n",
    "    assert str(tooltip_placement.right) == \"tooltip-right\"\n",
    "\n",
    "# Run the tests\n",
    "test_tooltip_placement_examples()"
   ]
  },
  {
   "cell_type": "code",
   "execution_count": null,
   "id": "43a3d5aa-4f07-48f4-b7c3-5c63612f0fb2",
   "metadata": {},
   "outputs": [],
   "source": [
    "#|exports\n",
    "def test_tooltip_modifiers_examples():\n",
    "    \"\"\"Test tooltip modifier utilities.\"\"\"\n",
    "    assert str(tooltip_modifiers.open) == \"tooltip-open\"\n",
    "\n",
    "# Run the tests\n",
    "test_tooltip_modifiers_examples()"
   ]
  },
  {
   "cell_type": "code",
   "execution_count": null,
   "id": "248adc40-6e77-4203-9830-de838e25a00a",
   "metadata": {},
   "outputs": [],
   "source": [
    "#|exports\n",
    "def test_tooltip_colors_examples():\n",
    "    \"\"\"Test tooltip color variants.\"\"\"\n",
    "    # All color variants\n",
    "    assert str(tooltip_colors.neutral) == \"tooltip-neutral\"\n",
    "    assert str(tooltip_colors.primary) == \"tooltip-primary\"\n",
    "    assert str(tooltip_colors.secondary) == \"tooltip-secondary\"\n",
    "    assert str(tooltip_colors.accent) == \"tooltip-accent\"\n",
    "    assert str(tooltip_colors.info) == \"tooltip-info\"\n",
    "    assert str(tooltip_colors.success) == \"tooltip-success\"\n",
    "    assert str(tooltip_colors.warning) == \"tooltip-warning\"\n",
    "    assert str(tooltip_colors.error) == \"tooltip-error\"\n",
    "    \n",
    "    # With modifiers\n",
    "    assert str(tooltip_colors.primary.hover) == \"hover:tooltip-primary\"\n",
    "    assert str(tooltip_colors.success.focus) == \"focus:tooltip-success\"\n",
    "\n",
    "# Run the tests\n",
    "test_tooltip_colors_examples()"
   ]
  },
  {
   "cell_type": "code",
   "execution_count": null,
   "id": "3f100828-ec3a-4657-95a6-2c1c6aac0668",
   "metadata": {},
   "outputs": [
    {
     "data": {
      "text/markdown": [
       "```html\n",
       "<div>\n",
       "  <div data-tip=\"hello\" class=\"tooltip\">\n",
       "<button class=\"btn\">Hover me</button>  </div>\n",
       "  <div data-tip=\"hello\" class=\"tooltip tooltip-open\">\n",
       "<button class=\"btn\">Force open</button>  </div>\n",
       "</div>\n",
       "\n",
       "```"
      ],
      "text/plain": [
       "div((div((button(('Hover me',),{'class': 'btn'}),),{'data-tip': 'hello', 'class': 'tooltip'}), div((button(('Force open',),{'class': 'btn'}),),{'data-tip': 'hello', 'class': 'tooltip tooltip-open'})),{})"
      ]
     },
     "execution_count": null,
     "metadata": {},
     "output_type": "execute_result"
    }
   ],
   "source": [
    "#|exports\n",
    "def test_tooltip_basic_fasthtml_examples():\n",
    "    \"\"\"Test basic tooltip examples from daisyUI v5 documentation.\"\"\"\n",
    "    from fasthtml.common import Div, Button\n",
    "    from cjm_fasthtml_daisyui.components.actions.button import btn\n",
    "    \n",
    "    # Basic tooltip\n",
    "    basic_tooltip = Div(\n",
    "        Button(\"Hover me\", cls=str(btn)),\n",
    "        cls=str(tooltip),\n",
    "        data_tip=\"hello\"\n",
    "    )\n",
    "    \n",
    "    # Verify structure\n",
    "    assert basic_tooltip.tag == \"div\"\n",
    "    assert basic_tooltip.attrs['class'] == \"tooltip\"\n",
    "    assert basic_tooltip.attrs['data-tip'] == \"hello\"\n",
    "    assert basic_tooltip.children[0].tag == \"button\"\n",
    "    assert basic_tooltip.children[0].attrs['class'] == \"btn\"\n",
    "    assert basic_tooltip.children[0].children[0] == \"Hover me\"\n",
    "    \n",
    "    # Force open tooltip\n",
    "    force_open = Div(\n",
    "        Button(\"Force open\", cls=str(btn)),\n",
    "        cls=combine_classes(tooltip, tooltip_modifiers.open),\n",
    "        data_tip=\"hello\"\n",
    "    )\n",
    "    \n",
    "    assert force_open.tag == \"div\"\n",
    "    assert \"tooltip\" in force_open.attrs['class']\n",
    "    assert \"tooltip-open\" in force_open.attrs['class']\n",
    "    assert force_open.attrs['data-tip'] == \"hello\"\n",
    "    assert force_open.children[0].children[0] == \"Force open\"\n",
    "    \n",
    "    return Div(basic_tooltip, force_open)\n",
    "\n",
    "# Run the tests\n",
    "test_tooltip_basic_fasthtml_examples()"
   ]
  },
  {
   "cell_type": "code",
   "execution_count": null,
   "id": "0d685395-a615-47e4-bcb1-8414c5cf021b",
   "metadata": {},
   "outputs": [],
   "source": []
  },
  {
   "cell_type": "code",
   "execution_count": null,
   "id": "set0bisgfk",
   "metadata": {},
   "outputs": [
    {
     "data": {
      "text/html": [
       "\n",
       "<script>\n",
       "document.body.addEventListener('htmx:configRequest', (event) => {\n",
       "    if(event.detail.path.includes('://')) return;\n",
       "    htmx.config.selfRequestsOnly=false;\n",
       "    event.detail.path = `${location.protocol}//${location.hostname}:8000${event.detail.path}`;\n",
       "});\n",
       "</script>"
      ],
      "text/plain": [
       "<IPython.core.display.HTML object>"
      ]
     },
     "metadata": {},
     "output_type": "display_data"
    },
    {
     "data": {
      "text/html": [
       "<iframe src=\"http://localhost:8000/\" style=\"width: 100%; height: auto; border: none;\" onload=\"{\n",
       "        let frame = this;\n",
       "        window.addEventListener('message', function(e) {\n",
       "            if (e.source !== frame.contentWindow) return; // Only proceed if the message is from this iframe\n",
       "            if (e.data.height) frame.style.height = (e.data.height+1) + 'px';\n",
       "        }, false);\n",
       "    }\" allow=\"accelerometer; autoplay; camera; clipboard-read; clipboard-write; display-capture; encrypted-media; fullscreen; gamepad; geolocation; gyroscope; hid; identity-credentials-get; idle-detection; magnetometer; microphone; midi; payment; picture-in-picture; publickey-credentials-get; screen-wake-lock; serial; usb; web-share; xr-spatial-tracking\"></iframe> "
      ],
      "text/plain": [
       "<IPython.core.display.HTML object>"
      ]
     },
     "metadata": {},
     "output_type": "display_data"
    }
   ],
   "source": [
    "#| eval: false\n",
    "#| output: false\n",
    "test_func = test_tooltip_basic_fasthtml_examples\n",
    "app, rt = create_test_app(theme=DaisyUITheme.LIGHT)\n",
    "\n",
    "@rt\n",
    "def index():\n",
    "    return create_test_page(test_func.__doc__.title().replace('.', ''), test_func())\n",
    "server = start_test_server(app)\n",
    "display(HTMX())\n",
    "server.stop()"
   ]
  },
  {
   "cell_type": "code",
   "execution_count": null,
   "id": "c746df36-7ad4-4ff2-8da2-ff77e6d25199",
   "metadata": {},
   "outputs": [
    {
     "data": {
      "text/markdown": [
       "```html\n",
       "<div class=\"tooltip\">\n",
       "  <div class=\"tooltip-content\">\n",
       "    <div class=\"animate-bounce text-orange-400 -rotate-10 text-2xl font-black\">Wow!</div>\n",
       "  </div>\n",
       "<button class=\"btn\">Hover me</button></div>\n",
       "\n",
       "```"
      ],
      "text/plain": [
       "div((div((div(('Wow!',),{'class': 'animate-bounce text-orange-400 -rotate-10 text-2xl font-black'}),),{'class': 'tooltip-content'}), button(('Hover me',),{'class': 'btn'})),{'class': 'tooltip'})"
      ]
     },
     "execution_count": null,
     "metadata": {},
     "output_type": "execute_result"
    }
   ],
   "source": [
    "#|exports\n",
    "def test_tooltip_with_content_fasthtml_examples():\n",
    "    \"\"\"Test tooltip with tooltip-content from daisyUI v5 documentation.\"\"\"\n",
    "    from fasthtml.common import Div, Button\n",
    "    from cjm_fasthtml_tailwind.utilities.transitions_and_animation import animate\n",
    "    from cjm_fasthtml_tailwind.utilities.typography import font_size, font_weight, font_family, text_color\n",
    "    from cjm_fasthtml_tailwind.utilities.transforms import rotate\n",
    "    from cjm_fasthtml_daisyui.components.actions.button import btn\n",
    "    \n",
    "    # Tooltip with tooltip-content\n",
    "    tooltip_with_content = Div(\n",
    "        Div(\n",
    "            Div(\n",
    "                \"Wow!\",\n",
    "                cls=combine_classes(\n",
    "                    animate.bounce,\n",
    "                    text_color.orange._400,\n",
    "                    rotate(10, negative=True),\n",
    "                    font_size._2xl,\n",
    "                    font_weight.black\n",
    "                )\n",
    "            ),\n",
    "            cls=str(tooltip_content)\n",
    "        ),\n",
    "        Button(\"Hover me\", cls=str(btn)),\n",
    "        cls=str(tooltip)\n",
    "    )\n",
    "    \n",
    "    # Verify structure\n",
    "    assert tooltip_with_content.tag == \"div\"\n",
    "    assert tooltip_with_content.attrs['class'] == \"tooltip\"\n",
    "    \n",
    "    # Verify tooltip-content div\n",
    "    content_div = tooltip_with_content.children[0]\n",
    "    assert content_div.tag == \"div\"\n",
    "    assert content_div.attrs['class'] == \"tooltip-content\"\n",
    "    \n",
    "    # Verify animated content\n",
    "    animated_div = content_div.children[0]\n",
    "    assert animated_div.tag == \"div\"\n",
    "    assert \"animate-bounce\" in animated_div.attrs['class']\n",
    "    assert \"text-orange-400\" in animated_div.attrs['class']\n",
    "    assert \"-rotate-10\" in animated_div.attrs['class']\n",
    "    assert \"text-2xl\" in animated_div.attrs['class']\n",
    "    assert \"font-black\" in animated_div.attrs['class']\n",
    "    assert animated_div.children[0] == \"Wow!\"\n",
    "    \n",
    "    # Verify button\n",
    "    button = tooltip_with_content.children[1]\n",
    "    assert button.tag == \"button\"\n",
    "    assert button.attrs['class'] == \"btn\"\n",
    "    assert button.children[0] == \"Hover me\"\n",
    "    \n",
    "    return tooltip_with_content\n",
    "\n",
    "# Run the tests\n",
    "test_tooltip_with_content_fasthtml_examples()"
   ]
  },
  {
   "cell_type": "code",
   "execution_count": null,
   "id": "rj9kj286r7g",
   "metadata": {},
   "outputs": [
    {
     "data": {
      "text/html": [
       "\n",
       "<script>\n",
       "document.body.addEventListener('htmx:configRequest', (event) => {\n",
       "    if(event.detail.path.includes('://')) return;\n",
       "    htmx.config.selfRequestsOnly=false;\n",
       "    event.detail.path = `${location.protocol}//${location.hostname}:8000${event.detail.path}`;\n",
       "});\n",
       "</script>"
      ],
      "text/plain": [
       "<IPython.core.display.HTML object>"
      ]
     },
     "metadata": {},
     "output_type": "display_data"
    },
    {
     "data": {
      "text/html": [
       "<iframe src=\"http://localhost:8000/\" style=\"width: 100%; height: auto; border: none;\" onload=\"{\n",
       "        let frame = this;\n",
       "        window.addEventListener('message', function(e) {\n",
       "            if (e.source !== frame.contentWindow) return; // Only proceed if the message is from this iframe\n",
       "            if (e.data.height) frame.style.height = (e.data.height+1) + 'px';\n",
       "        }, false);\n",
       "    }\" allow=\"accelerometer; autoplay; camera; clipboard-read; clipboard-write; display-capture; encrypted-media; fullscreen; gamepad; geolocation; gyroscope; hid; identity-credentials-get; idle-detection; magnetometer; microphone; midi; payment; picture-in-picture; publickey-credentials-get; screen-wake-lock; serial; usb; web-share; xr-spatial-tracking\"></iframe> "
      ],
      "text/plain": [
       "<IPython.core.display.HTML object>"
      ]
     },
     "metadata": {},
     "output_type": "display_data"
    }
   ],
   "source": [
    "#| eval: false\n",
    "#| output: false\n",
    "test_func = test_tooltip_with_content_fasthtml_examples\n",
    "app, rt = create_test_app(theme=DaisyUITheme.LIGHT)\n",
    "\n",
    "@rt\n",
    "def index():\n",
    "    return create_test_page(test_func.__doc__.title().replace('.', ''), test_func())\n",
    "server = start_test_server(app)\n",
    "display(HTMX())\n",
    "server.stop()"
   ]
  },
  {
   "cell_type": "code",
   "execution_count": null,
   "id": "ce344b80-67c3-4f74-b923-957cf1d44e58",
   "metadata": {},
   "outputs": [
    {
     "data": {
      "text/markdown": [
       "```html\n",
       "<div>\n",
       "  <div data-tip=\"hello\" class=\"tooltip tooltip-open tooltip-top\">\n",
       "<button class=\"btn\">Top</button>  </div>\n",
       "  <div data-tip=\"hello\" class=\"tooltip tooltip-open tooltip-bottom\">\n",
       "<button class=\"btn\">Bottom</button>  </div>\n",
       "  <div data-tip=\"hello\" class=\"tooltip tooltip-open tooltip-left\">\n",
       "<button class=\"btn\">Left</button>  </div>\n",
       "  <div data-tip=\"hello\" class=\"tooltip tooltip-open tooltip-right\">\n",
       "<button class=\"btn\">Right</button>  </div>\n",
       "</div>\n",
       "\n",
       "```"
      ],
      "text/plain": [
       "div((div((button(('Top',),{'class': 'btn'}),),{'data-tip': 'hello', 'class': 'tooltip tooltip-open tooltip-top'}), div((button(('Bottom',),{'class': 'btn'}),),{'data-tip': 'hello', 'class': 'tooltip tooltip-open tooltip-bottom'}), div((button(('Left',),{'class': 'btn'}),),{'data-tip': 'hello', 'class': 'tooltip tooltip-open tooltip-left'}), div((button(('Right',),{'class': 'btn'}),),{'data-tip': 'hello', 'class': 'tooltip tooltip-open tooltip-right'})),{})"
      ]
     },
     "execution_count": null,
     "metadata": {},
     "output_type": "execute_result"
    }
   ],
   "source": [
    "#|exports\n",
    "def test_tooltip_positions_fasthtml_examples():\n",
    "    \"\"\"Test tooltip position variations from daisyUI v5 documentation.\"\"\"\n",
    "    from fasthtml.common import Div, Button\n",
    "    from cjm_fasthtml_daisyui.components.actions.button import btn\n",
    "    \n",
    "    # Top position\n",
    "    top_tooltip = Div(\n",
    "        Button(\"Top\", cls=str(btn)),\n",
    "        cls=combine_classes(tooltip, tooltip_modifiers.open, tooltip_placement.top),\n",
    "        data_tip=\"hello\"\n",
    "    )\n",
    "    assert \"tooltip\" in top_tooltip.attrs['class']\n",
    "    assert \"tooltip-open\" in top_tooltip.attrs['class']\n",
    "    assert \"tooltip-top\" in top_tooltip.attrs['class']\n",
    "    assert top_tooltip.attrs['data-tip'] == \"hello\"\n",
    "    assert top_tooltip.children[0].children[0] == \"Top\"\n",
    "    \n",
    "    # Bottom position\n",
    "    bottom_tooltip = Div(\n",
    "        Button(\"Bottom\", cls=str(btn)),\n",
    "        cls=combine_classes(tooltip, tooltip_modifiers.open, tooltip_placement.bottom),\n",
    "        data_tip=\"hello\"\n",
    "    )\n",
    "    assert \"tooltip-bottom\" in bottom_tooltip.attrs['class']\n",
    "    assert bottom_tooltip.children[0].children[0] == \"Bottom\"\n",
    "    \n",
    "    # Left position\n",
    "    left_tooltip = Div(\n",
    "        Button(\"Left\", cls=str(btn)),\n",
    "        cls=combine_classes(tooltip, tooltip_modifiers.open, tooltip_placement.left),\n",
    "        data_tip=\"hello\"\n",
    "    )\n",
    "    assert \"tooltip-left\" in left_tooltip.attrs['class']\n",
    "    assert left_tooltip.children[0].children[0] == \"Left\"\n",
    "    \n",
    "    # Right position\n",
    "    right_tooltip = Div(\n",
    "        Button(\"Right\", cls=str(btn)),\n",
    "        cls=combine_classes(tooltip, tooltip_modifiers.open, tooltip_placement.right),\n",
    "        data_tip=\"hello\"\n",
    "    )\n",
    "    assert \"tooltip-right\" in right_tooltip.attrs['class']\n",
    "    assert right_tooltip.children[0].children[0] == \"Right\"\n",
    "    \n",
    "    return Div(top_tooltip, bottom_tooltip, left_tooltip, right_tooltip)\n",
    "\n",
    "# Run the tests\n",
    "test_tooltip_positions_fasthtml_examples()"
   ]
  },
  {
   "cell_type": "code",
   "execution_count": null,
   "id": "da8a40ed-9e4e-4237-bbcb-1e4a8b4e0053",
   "metadata": {},
   "outputs": [],
   "source": []
  },
  {
   "cell_type": "code",
   "execution_count": null,
   "id": "ng65gb1zizf",
   "metadata": {},
   "outputs": [
    {
     "data": {
      "text/html": [
       "\n",
       "<script>\n",
       "document.body.addEventListener('htmx:configRequest', (event) => {\n",
       "    if(event.detail.path.includes('://')) return;\n",
       "    htmx.config.selfRequestsOnly=false;\n",
       "    event.detail.path = `${location.protocol}//${location.hostname}:8000${event.detail.path}`;\n",
       "});\n",
       "</script>"
      ],
      "text/plain": [
       "<IPython.core.display.HTML object>"
      ]
     },
     "metadata": {},
     "output_type": "display_data"
    },
    {
     "data": {
      "text/html": [
       "<iframe src=\"http://localhost:8000/\" style=\"width: 100%; height: auto; border: none;\" onload=\"{\n",
       "        let frame = this;\n",
       "        window.addEventListener('message', function(e) {\n",
       "            if (e.source !== frame.contentWindow) return; // Only proceed if the message is from this iframe\n",
       "            if (e.data.height) frame.style.height = (e.data.height+1) + 'px';\n",
       "        }, false);\n",
       "    }\" allow=\"accelerometer; autoplay; camera; clipboard-read; clipboard-write; display-capture; encrypted-media; fullscreen; gamepad; geolocation; gyroscope; hid; identity-credentials-get; idle-detection; magnetometer; microphone; midi; payment; picture-in-picture; publickey-credentials-get; screen-wake-lock; serial; usb; web-share; xr-spatial-tracking\"></iframe> "
      ],
      "text/plain": [
       "<IPython.core.display.HTML object>"
      ]
     },
     "metadata": {},
     "output_type": "display_data"
    }
   ],
   "source": [
    "#| eval: false\n",
    "#| output: false\n",
    "test_func = test_tooltip_positions_fasthtml_examples\n",
    "app, rt = create_test_app(theme=DaisyUITheme.LIGHT)\n",
    "\n",
    "@rt\n",
    "def index():\n",
    "    return create_test_page(test_func.__doc__.title().replace('.', ''), test_func())\n",
    "server = start_test_server(app)\n",
    "display(HTMX())\n",
    "server.stop()"
   ]
  },
  {
   "cell_type": "code",
   "execution_count": null,
   "id": "76b05f3b-bd73-4cf3-991f-6d57b8d63192",
   "metadata": {},
   "outputs": [
    {
     "data": {
      "text/markdown": [
       "```html\n",
       "<div>\n",
       "  <div data-tip=\"neutral\" class=\"tooltip tooltip-open tooltip-neutral\">\n",
       "<button class=\"btn btn-neutral\">neutral</button>  </div>\n",
       "  <div data-tip=\"primary\" class=\"tooltip tooltip-open tooltip-primary\">\n",
       "<button class=\"btn btn-primary\">primary</button>  </div>\n",
       "  <div data-tip=\"secondary\" class=\"tooltip tooltip-open tooltip-secondary\">\n",
       "<button class=\"btn btn-secondary\">secondary</button>  </div>\n",
       "  <div data-tip=\"accent\" class=\"tooltip tooltip-open tooltip-accent\">\n",
       "<button class=\"btn btn-accent\">accent</button>  </div>\n",
       "  <div data-tip=\"info\" class=\"tooltip tooltip-open tooltip-info\">\n",
       "<button class=\"btn btn-info\">info</button>  </div>\n",
       "  <div data-tip=\"success\" class=\"tooltip tooltip-open tooltip-success\">\n",
       "<button class=\"btn btn-success\">success</button>  </div>\n",
       "  <div data-tip=\"warning\" class=\"tooltip tooltip-open tooltip-warning\">\n",
       "<button class=\"btn btn-warning\">warning</button>  </div>\n",
       "  <div data-tip=\"error\" class=\"tooltip tooltip-open tooltip-error\">\n",
       "<button class=\"btn btn-error\">error</button>  </div>\n",
       "</div>\n",
       "\n",
       "```"
      ],
      "text/plain": [
       "div((div((button(('neutral',),{'class': 'btn btn-neutral'}),),{'data-tip': 'neutral', 'class': 'tooltip tooltip-open tooltip-neutral'}), div((button(('primary',),{'class': 'btn btn-primary'}),),{'data-tip': 'primary', 'class': 'tooltip tooltip-open tooltip-primary'}), div((button(('secondary',),{'class': 'btn btn-secondary'}),),{'data-tip': 'secondary', 'class': 'tooltip tooltip-open tooltip-secondary'}), div((button(('accent',),{'class': 'btn btn-accent'}),),{'data-tip': 'accent', 'class': 'tooltip tooltip-open tooltip-accent'}), div((button(('info',),{'class': 'btn btn-info'}),),{'data-tip': 'info', 'class': 'tooltip tooltip-open tooltip-info'}), div((button(('success',),{'class': 'btn btn-success'}),),{'data-tip': 'success', 'class': 'tooltip tooltip-open tooltip-success'}), div((button(('warning',),{'class': 'btn btn-warning'}),),{'data-tip': 'warning', 'class': 'tooltip tooltip-open tooltip-warning'}), div((button(('error',),{'class': 'btn btn-error'}),),{'data-tip': 'error', 'class': 'tooltip tooltip-open tooltip-error'})),{})"
      ]
     },
     "execution_count": null,
     "metadata": {},
     "output_type": "execute_result"
    }
   ],
   "source": [
    "#|exports\n",
    "def test_tooltip_colors_fasthtml_examples():\n",
    "    \"\"\"Test tooltip color variations from daisyUI v5 documentation.\"\"\"\n",
    "    from fasthtml.common import Div, Button\n",
    "    from cjm_fasthtml_daisyui.components.actions.button import btn, btn_colors\n",
    "    \n",
    "    # Neutral color\n",
    "    neutral_tooltip = Div(\n",
    "        Button(\"neutral\", cls=combine_classes(btn, btn_colors.neutral)),\n",
    "        cls=combine_classes(tooltip, tooltip_modifiers.open, tooltip_colors.neutral),\n",
    "        data_tip=\"neutral\"\n",
    "    )\n",
    "    assert \"tooltip\" in neutral_tooltip.attrs['class']\n",
    "    assert \"tooltip-open\" in neutral_tooltip.attrs['class']\n",
    "    assert \"tooltip-neutral\" in neutral_tooltip.attrs['class']\n",
    "    assert neutral_tooltip.attrs['data-tip'] == \"neutral\"\n",
    "    assert \"btn-neutral\" in neutral_tooltip.children[0].attrs['class']\n",
    "    \n",
    "    # Primary color\n",
    "    primary_tooltip = Div(\n",
    "        Button(\"primary\", cls=combine_classes(btn, btn_colors.primary)),\n",
    "        cls=combine_classes(tooltip, tooltip_modifiers.open, tooltip_colors.primary),\n",
    "        data_tip=\"primary\"\n",
    "    )\n",
    "    assert \"tooltip-primary\" in primary_tooltip.attrs['class']\n",
    "    assert primary_tooltip.attrs['data-tip'] == \"primary\"\n",
    "    assert \"btn-primary\" in primary_tooltip.children[0].attrs['class']\n",
    "    \n",
    "    # Secondary color\n",
    "    secondary_tooltip = Div(\n",
    "        Button(\"secondary\", cls=combine_classes(btn, btn_colors.secondary)),\n",
    "        cls=combine_classes(tooltip, tooltip_modifiers.open, tooltip_colors.secondary),\n",
    "        data_tip=\"secondary\"\n",
    "    )\n",
    "    assert \"tooltip-secondary\" in secondary_tooltip.attrs['class']\n",
    "    assert \"btn-secondary\" in secondary_tooltip.children[0].attrs['class']\n",
    "    \n",
    "    # Accent color\n",
    "    accent_tooltip = Div(\n",
    "        Button(\"accent\", cls=combine_classes(btn, btn_colors.accent)),\n",
    "        cls=combine_classes(tooltip, tooltip_modifiers.open, tooltip_colors.accent),\n",
    "        data_tip=\"accent\"\n",
    "    )\n",
    "    assert \"tooltip-accent\" in accent_tooltip.attrs['class']\n",
    "    assert \"btn-accent\" in accent_tooltip.children[0].attrs['class']\n",
    "    \n",
    "    # Info color\n",
    "    info_tooltip = Div(\n",
    "        Button(\"info\", cls=combine_classes(btn, btn_colors.info)),\n",
    "        cls=combine_classes(tooltip, tooltip_modifiers.open, tooltip_colors.info),\n",
    "        data_tip=\"info\"\n",
    "    )\n",
    "    assert \"tooltip-info\" in info_tooltip.attrs['class']\n",
    "    assert \"btn-info\" in info_tooltip.children[0].attrs['class']\n",
    "    \n",
    "    # Success color\n",
    "    success_tooltip = Div(\n",
    "        Button(\"success\", cls=combine_classes(btn, btn_colors.success)),\n",
    "        cls=combine_classes(tooltip, tooltip_modifiers.open, tooltip_colors.success),\n",
    "        data_tip=\"success\"\n",
    "    )\n",
    "    assert \"tooltip-success\" in success_tooltip.attrs['class']\n",
    "    assert \"btn-success\" in success_tooltip.children[0].attrs['class']\n",
    "    \n",
    "    # Warning color\n",
    "    warning_tooltip = Div(\n",
    "        Button(\"warning\", cls=combine_classes(btn, btn_colors.warning)),\n",
    "        cls=combine_classes(tooltip, tooltip_modifiers.open, tooltip_colors.warning),\n",
    "        data_tip=\"warning\"\n",
    "    )\n",
    "    assert \"tooltip-warning\" in warning_tooltip.attrs['class']\n",
    "    assert \"btn-warning\" in warning_tooltip.children[0].attrs['class']\n",
    "    \n",
    "    # Error color\n",
    "    error_tooltip = Div(\n",
    "        Button(\"error\", cls=combine_classes(btn, btn_colors.error)),\n",
    "        cls=combine_classes(tooltip, tooltip_modifiers.open, tooltip_colors.error),\n",
    "        data_tip=\"error\"\n",
    "    )\n",
    "    assert \"tooltip-error\" in error_tooltip.attrs['class']\n",
    "    assert \"btn-error\" in error_tooltip.children[0].attrs['class']\n",
    "    \n",
    "    return Div(\n",
    "        neutral_tooltip,\n",
    "        primary_tooltip,\n",
    "        secondary_tooltip,\n",
    "        accent_tooltip,\n",
    "        info_tooltip,\n",
    "        success_tooltip,\n",
    "        warning_tooltip,\n",
    "        error_tooltip\n",
    "    )\n",
    "\n",
    "# Run the tests\n",
    "test_tooltip_colors_fasthtml_examples()"
   ]
  },
  {
   "cell_type": "code",
   "execution_count": null,
   "id": "09ad3203-d91b-4d73-a605-edece4f80154",
   "metadata": {},
   "outputs": [],
   "source": []
  },
  {
   "cell_type": "code",
   "execution_count": null,
   "id": "rj1o8f6rige",
   "metadata": {},
   "outputs": [
    {
     "data": {
      "text/html": [
       "\n",
       "<script>\n",
       "document.body.addEventListener('htmx:configRequest', (event) => {\n",
       "    if(event.detail.path.includes('://')) return;\n",
       "    htmx.config.selfRequestsOnly=false;\n",
       "    event.detail.path = `${location.protocol}//${location.hostname}:8000${event.detail.path}`;\n",
       "});\n",
       "</script>"
      ],
      "text/plain": [
       "<IPython.core.display.HTML object>"
      ]
     },
     "metadata": {},
     "output_type": "display_data"
    },
    {
     "data": {
      "text/html": [
       "<iframe src=\"http://localhost:8000/\" style=\"width: 100%; height: auto; border: none;\" onload=\"{\n",
       "        let frame = this;\n",
       "        window.addEventListener('message', function(e) {\n",
       "            if (e.source !== frame.contentWindow) return; // Only proceed if the message is from this iframe\n",
       "            if (e.data.height) frame.style.height = (e.data.height+1) + 'px';\n",
       "        }, false);\n",
       "    }\" allow=\"accelerometer; autoplay; camera; clipboard-read; clipboard-write; display-capture; encrypted-media; fullscreen; gamepad; geolocation; gyroscope; hid; identity-credentials-get; idle-detection; magnetometer; microphone; midi; payment; picture-in-picture; publickey-credentials-get; screen-wake-lock; serial; usb; web-share; xr-spatial-tracking\"></iframe> "
      ],
      "text/plain": [
       "<IPython.core.display.HTML object>"
      ]
     },
     "metadata": {},
     "output_type": "display_data"
    }
   ],
   "source": [
    "#| eval: false\n",
    "#| output: false\n",
    "test_func = test_tooltip_colors_fasthtml_examples\n",
    "app, rt = create_test_app(theme=DaisyUITheme.LIGHT)\n",
    "\n",
    "@rt\n",
    "def index():\n",
    "    return create_test_page(test_func.__doc__.title().replace('.', ''), test_func())\n",
    "server = start_test_server(app)\n",
    "display(HTMX())\n",
    "server.stop()"
   ]
  },
  {
   "cell_type": "code",
   "execution_count": null,
   "id": "297b0499-fa49-43fe-aaea-5e125dbb963d",
   "metadata": {},
   "outputs": [
    {
     "data": {
      "text/markdown": [
       "```html\n",
       "<div data-tip=\"hello\" class=\"lg:tooltip\">\n",
       "<button class=\"btn\">Hover me</button></div>\n",
       "\n",
       "```"
      ],
      "text/plain": [
       "div((button(('Hover me',),{'class': 'btn'}),),{'data-tip': 'hello', 'class': 'lg:tooltip'})"
      ]
     },
     "execution_count": null,
     "metadata": {},
     "output_type": "execute_result"
    }
   ],
   "source": [
    "#|exports\n",
    "def test_tooltip_responsive_fasthtml_examples():\n",
    "    \"\"\"Test responsive tooltip from daisyUI v5 documentation.\"\"\"\n",
    "    from fasthtml.common import Div, Button\n",
    "    from cjm_fasthtml_daisyui.components.actions.button import btn\n",
    "    \n",
    "    # Responsive tooltip - only shows on large screens\n",
    "    responsive_tooltip = Div(\n",
    "        Button(\"Hover me\", cls=str(btn)),\n",
    "        cls=str(tooltip.lg),\n",
    "        data_tip=\"hello\"\n",
    "    )\n",
    "    \n",
    "    # Verify structure\n",
    "    assert responsive_tooltip.tag == \"div\"\n",
    "    assert responsive_tooltip.attrs['class'] == \"lg:tooltip\"\n",
    "    assert responsive_tooltip.attrs['data-tip'] == \"hello\"\n",
    "    assert responsive_tooltip.children[0].tag == \"button\"\n",
    "    assert responsive_tooltip.children[0].attrs['class'] == \"btn\"\n",
    "    assert responsive_tooltip.children[0].children[0] == \"Hover me\"\n",
    "    \n",
    "    return responsive_tooltip\n",
    "\n",
    "# Run the tests\n",
    "test_tooltip_responsive_fasthtml_examples()"
   ]
  },
  {
   "cell_type": "code",
   "execution_count": null,
   "id": "o3o73ny0p1d",
   "metadata": {},
   "outputs": [
    {
     "data": {
      "text/html": [
       "\n",
       "<script>\n",
       "document.body.addEventListener('htmx:configRequest', (event) => {\n",
       "    if(event.detail.path.includes('://')) return;\n",
       "    htmx.config.selfRequestsOnly=false;\n",
       "    event.detail.path = `${location.protocol}//${location.hostname}:8000${event.detail.path}`;\n",
       "});\n",
       "</script>"
      ],
      "text/plain": [
       "<IPython.core.display.HTML object>"
      ]
     },
     "metadata": {},
     "output_type": "display_data"
    },
    {
     "data": {
      "text/html": [
       "<iframe src=\"http://localhost:8000/\" style=\"width: 100%; height: auto; border: none;\" onload=\"{\n",
       "        let frame = this;\n",
       "        window.addEventListener('message', function(e) {\n",
       "            if (e.source !== frame.contentWindow) return; // Only proceed if the message is from this iframe\n",
       "            if (e.data.height) frame.style.height = (e.data.height+1) + 'px';\n",
       "        }, false);\n",
       "    }\" allow=\"accelerometer; autoplay; camera; clipboard-read; clipboard-write; display-capture; encrypted-media; fullscreen; gamepad; geolocation; gyroscope; hid; identity-credentials-get; idle-detection; magnetometer; microphone; midi; payment; picture-in-picture; publickey-credentials-get; screen-wake-lock; serial; usb; web-share; xr-spatial-tracking\"></iframe> "
      ],
      "text/plain": [
       "<IPython.core.display.HTML object>"
      ]
     },
     "metadata": {},
     "output_type": "display_data"
    }
   ],
   "source": [
    "#| eval: false\n",
    "#| output: false\n",
    "test_func = test_tooltip_responsive_fasthtml_examples\n",
    "app, rt = create_test_app(theme=DaisyUITheme.LIGHT)\n",
    "\n",
    "@rt\n",
    "def index():\n",
    "    return create_test_page(test_func.__doc__.title().replace('.', ''), test_func())\n",
    "server = start_test_server(app)\n",
    "display(HTMX())\n",
    "server.stop()"
   ]
  },
  {
   "cell_type": "code",
   "execution_count": null,
   "id": "30bc3add-af28-42b3-b790-6b08180c4c92",
   "metadata": {},
   "outputs": [],
   "source": []
  },
  {
   "cell_type": "code",
   "execution_count": null,
   "id": "2387ff2d-45f9-4491-88db-e8fab5fba5ec",
   "metadata": {},
   "outputs": [],
   "source": []
  },
  {
   "cell_type": "code",
   "execution_count": null,
   "id": "8fa77767-d8ee-4d6d-81f4-7217bfeb83c5",
   "metadata": {},
   "outputs": [],
   "source": []
  },
  {
   "cell_type": "code",
   "execution_count": null,
   "id": "a8e04ece-27e9-4317-b237-479916eeb9ea",
   "metadata": {},
   "outputs": [],
   "source": []
  },
  {
   "cell_type": "code",
   "execution_count": null,
   "id": "ede6311e-37ea-44a0-aa0c-37e08e604145",
   "metadata": {},
   "outputs": [],
   "source": []
  },
  {
   "cell_type": "code",
   "execution_count": null,
   "id": "7ab8257a-c30b-45b6-a784-729b67686791",
   "metadata": {},
   "outputs": [],
   "source": [
    "#| hide\n",
    "import nbdev; nbdev.nbdev_export()"
   ]
  }
 ],
 "metadata": {
  "kernelspec": {
   "display_name": "python3",
   "language": "python",
   "name": "python3"
  }
 },
 "nbformat": 4,
 "nbformat_minor": 5
}
