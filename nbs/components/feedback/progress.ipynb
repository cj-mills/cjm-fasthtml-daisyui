{
 "cells": [
  {
   "cell_type": "markdown",
   "id": "7c51b46b-ece1-456d-8e84-7de122e72b62",
   "metadata": {},
   "source": [
    "# progress\n",
    "\n",
    "> Progress bar can be used to show the progress of a task or to show the passing of time."
   ]
  },
  {
   "cell_type": "code",
   "execution_count": null,
   "id": "25536bdc-e099-477f-9e2d-a5f71df5dff2",
   "metadata": {},
   "outputs": [],
   "source": [
    "#| default_exp components.feedback.progress"
   ]
  },
  {
   "cell_type": "code",
   "execution_count": null,
   "id": "2e6f21ce-7766-455a-8ebb-df2c17e7d977",
   "metadata": {},
   "outputs": [],
   "source": [
    "#| hide\n",
    "from nbdev.showdoc import *"
   ]
  },
  {
   "cell_type": "code",
   "execution_count": null,
   "id": "045c6538-403e-4222-b3bb-db20f188524d",
   "metadata": {},
   "outputs": [],
   "source": [
    "#| export\n",
    "\n",
    "from cjm_fasthtml_tailwind.core.base import (\n",
    "    SingleValueFactory, combine_classes\n",
    ")\n",
    "from cjm_fasthtml_tailwind.builders.scales import SimpleFactory, enums_to_simple_factory\n",
    "from cjm_fasthtml_daisyui.builders.colors import SemanticColorBrand, SemanticColorStatus\n",
    "\n",
    "from fasthtml.common import Div\n",
    "from fasthtml.jupyter import JupyUvi, HTMX\n",
    "from cjm_fasthtml_daisyui.core.testing import create_test_app, create_test_page, start_test_server\n",
    "from cjm_fasthtml_daisyui.core.themes import DaisyUITheme\n",
    "from IPython.display import display"
   ]
  },
  {
   "cell_type": "markdown",
   "id": "4b8ae8c4-0d2a-412c-b01d-49282d43ee41",
   "metadata": {},
   "source": [
    "### Base Progress"
   ]
  },
  {
   "cell_type": "code",
   "execution_count": null,
   "id": "c802d106-49fb-4d34-ba04-5f54c88e165b",
   "metadata": {},
   "outputs": [],
   "source": [
    "#| export\n",
    "progress = SingleValueFactory(\"progress\", \"Base progress component for <progress> tag\") # Base progress component"
   ]
  },
  {
   "cell_type": "markdown",
   "id": "4863d4b9-6835-449a-8b02-e692772ddc7d",
   "metadata": {},
   "source": [
    "### Progress Colors"
   ]
  },
  {
   "cell_type": "code",
   "execution_count": null,
   "id": "636c6bcd-2176-4191-aa39-c937893243e2",
   "metadata": {},
   "outputs": [],
   "source": [
    "#| export\n",
    "progress_colors = enums_to_simple_factory(progress, [SemanticColorBrand, SemanticColorStatus], \"Progress color variants using daisyUI semantic colors\") # Progress color variants"
   ]
  },
  {
   "cell_type": "markdown",
   "id": "1bfd3f14-bb55-408e-a263-0b4f1dad1fca",
   "metadata": {},
   "source": [
    "### Progress Test Examples"
   ]
  },
  {
   "cell_type": "code",
   "execution_count": null,
   "id": "3035ff66-e4e7-410c-8b1e-86a879f66112",
   "metadata": {},
   "outputs": [],
   "source": [
    "#| export\n",
    "def test_progress_basic_examples():\n",
    "    \"\"\"Test basic progress utilities.\"\"\"\n",
    "    # Basic progress\n",
    "    assert str(progress) == \"progress\"\n",
    "    \n",
    "    # Progress with modifiers\n",
    "    assert str(progress.hover) == \"hover:progress\"\n",
    "    assert str(progress.md) == \"md:progress\"\n",
    "    assert str(progress.dark) == \"dark:progress\"\n",
    "\n",
    "# Run the tests\n",
    "test_progress_basic_examples()"
   ]
  },
  {
   "cell_type": "code",
   "execution_count": null,
   "id": "4666a5a3-26bb-4d91-b5be-f941df8f9d2f",
   "metadata": {},
   "outputs": [],
   "source": [
    "#| export\n",
    "def test_progress_colors_examples():\n",
    "    \"\"\"Test progress color variants.\"\"\"\n",
    "    # All color variants\n",
    "    assert str(progress_colors.neutral) == \"progress-neutral\"\n",
    "    assert str(progress_colors.primary) == \"progress-primary\"\n",
    "    assert str(progress_colors.secondary) == \"progress-secondary\"\n",
    "    assert str(progress_colors.accent) == \"progress-accent\"\n",
    "    assert str(progress_colors.info) == \"progress-info\"\n",
    "    assert str(progress_colors.success) == \"progress-success\"\n",
    "    assert str(progress_colors.warning) == \"progress-warning\"\n",
    "    assert str(progress_colors.error) == \"progress-error\"\n",
    "    \n",
    "    # With modifiers\n",
    "    assert str(progress_colors.primary.hover) == \"hover:progress-primary\"\n",
    "    assert str(progress_colors.success.focus) == \"focus:progress-success\"\n",
    "\n",
    "# Run the tests\n",
    "test_progress_colors_examples()"
   ]
  },
  {
   "cell_type": "code",
   "execution_count": null,
   "id": "85d72161-e718-4c66-bc59-a3569b7f7616",
   "metadata": {},
   "outputs": [],
   "source": []
  },
  {
   "cell_type": "code",
   "execution_count": null,
   "id": "214654cc-9758-48f9-92e2-0892029c4512",
   "metadata": {},
   "outputs": [],
   "source": []
  },
  {
   "cell_type": "code",
   "execution_count": null,
   "id": "a9d78aa3-0be8-49e6-8bfb-cb9a232ee1ee",
   "metadata": {},
   "outputs": [],
   "source": []
  },
  {
   "cell_type": "code",
   "execution_count": null,
   "id": "01785a18-9bb0-4dbc-9eae-04addf6dede9",
   "metadata": {},
   "outputs": [],
   "source": []
  },
  {
   "cell_type": "code",
   "execution_count": null,
   "id": "43a3d5aa-4f07-48f4-b7c3-5c63612f0fb2",
   "metadata": {},
   "outputs": [],
   "source": []
  },
  {
   "cell_type": "code",
   "execution_count": null,
   "id": "248adc40-6e77-4203-9830-de838e25a00a",
   "metadata": {},
   "outputs": [],
   "source": []
  },
  {
   "cell_type": "code",
   "execution_count": null,
   "id": "a2029d6d-bf22-4e16-87e1-d609762dc867",
   "metadata": {},
   "outputs": [],
   "source": []
  },
  {
   "cell_type": "code",
   "execution_count": null,
   "id": "c9dfaad9-504c-4853-886b-2d1adb1cc3a0",
   "metadata": {},
   "outputs": [],
   "source": []
  },
  {
   "cell_type": "code",
   "execution_count": null,
   "id": "454d5b84-fc57-44ab-a6f0-3123333998cb",
   "metadata": {},
   "outputs": [],
   "source": []
  },
  {
   "cell_type": "code",
   "execution_count": null,
   "id": "d471d21b-6fe5-4c63-90be-5176c4cbd08b",
   "metadata": {},
   "outputs": [],
   "source": []
  },
  {
   "cell_type": "code",
   "execution_count": null,
   "id": "73b88b7e-0be6-4a82-9c02-f3df8af20015",
   "metadata": {},
   "outputs": [],
   "source": []
  },
  {
   "cell_type": "code",
   "execution_count": null,
   "id": "7ab8257a-c30b-45b6-a784-729b67686791",
   "metadata": {},
   "outputs": [],
   "source": [
    "#| hide\n",
    "import nbdev; nbdev.nbdev_export()"
   ]
  }
 ],
 "metadata": {
  "kernelspec": {
   "display_name": "python3",
   "language": "python",
   "name": "python3"
  }
 },
 "nbformat": 4,
 "nbformat_minor": 5
}
