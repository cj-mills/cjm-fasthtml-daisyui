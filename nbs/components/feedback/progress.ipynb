{
 "cells": [
  {
   "cell_type": "markdown",
   "id": "7c51b46b-ece1-456d-8e84-7de122e72b62",
   "metadata": {},
   "source": [
    "# progress\n",
    "\n",
    "> Progress bar can be used to show the progress of a task or to show the passing of time."
   ]
  },
  {
   "cell_type": "code",
   "execution_count": null,
   "id": "25536bdc-e099-477f-9e2d-a5f71df5dff2",
   "metadata": {},
   "outputs": [],
   "source": [
    "#| default_exp components.feedback.progress"
   ]
  },
  {
   "cell_type": "code",
   "execution_count": null,
   "id": "2e6f21ce-7766-455a-8ebb-df2c17e7d977",
   "metadata": {},
   "outputs": [],
   "source": [
    "#| hide\n",
    "from nbdev.showdoc import *"
   ]
  },
  {
   "cell_type": "code",
   "execution_count": null,
   "id": "045c6538-403e-4222-b3bb-db20f188524d",
   "metadata": {},
   "outputs": [],
   "source": [
    "#| export\n",
    "\n",
    "from cjm_fasthtml_tailwind.core.base import (\n",
    "    SingleValueFactory, combine_classes\n",
    ")\n",
    "from cjm_fasthtml_tailwind.builders.scales import SimpleFactory, enums_to_simple_factory\n",
    "from cjm_fasthtml_daisyui.builders.colors import SemanticColorBrand, SemanticColorStatus\n",
    "\n",
    "from fasthtml.common import Div\n",
    "from fasthtml.jupyter import JupyUvi, HTMX\n",
    "from cjm_fasthtml_daisyui.core.testing import create_test_app, create_test_page, start_test_server\n",
    "from cjm_fasthtml_daisyui.core.themes import DaisyUITheme\n",
    "from IPython.display import display"
   ]
  },
  {
   "cell_type": "markdown",
   "id": "4b8ae8c4-0d2a-412c-b01d-49282d43ee41",
   "metadata": {},
   "source": [
    "### Base Progress"
   ]
  },
  {
   "cell_type": "code",
   "execution_count": null,
   "id": "c802d106-49fb-4d34-ba04-5f54c88e165b",
   "metadata": {},
   "outputs": [],
   "source": [
    "#| export\n",
    "progress = SingleValueFactory(\"progress\", \"Base progress component for <progress> tag\") # Base progress component"
   ]
  },
  {
   "cell_type": "markdown",
   "id": "4863d4b9-6835-449a-8b02-e692772ddc7d",
   "metadata": {},
   "source": [
    "### Progress Colors"
   ]
  },
  {
   "cell_type": "code",
   "execution_count": null,
   "id": "636c6bcd-2176-4191-aa39-c937893243e2",
   "metadata": {},
   "outputs": [],
   "source": [
    "#| export\n",
    "progress_colors = enums_to_simple_factory(progress, [SemanticColorBrand, SemanticColorStatus], \"Progress color variants using daisyUI semantic colors\") # Progress color variants"
   ]
  },
  {
   "cell_type": "markdown",
   "id": "1bfd3f14-bb55-408e-a263-0b4f1dad1fca",
   "metadata": {},
   "source": [
    "### Progress Test Examples"
   ]
  },
  {
   "cell_type": "code",
   "execution_count": null,
   "id": "3035ff66-e4e7-410c-8b1e-86a879f66112",
   "metadata": {},
   "outputs": [],
   "source": [
    "#| export\n",
    "def test_progress_basic_examples():\n",
    "    \"\"\"Test basic progress utilities.\"\"\"\n",
    "    # Basic progress\n",
    "    assert str(progress) == \"progress\"\n",
    "    \n",
    "    # Progress with modifiers\n",
    "    assert str(progress.hover) == \"hover:progress\"\n",
    "    assert str(progress.md) == \"md:progress\"\n",
    "    assert str(progress.dark) == \"dark:progress\"\n",
    "\n",
    "# Run the tests\n",
    "test_progress_basic_examples()"
   ]
  },
  {
   "cell_type": "code",
   "execution_count": null,
   "id": "4666a5a3-26bb-4d91-b5be-f941df8f9d2f",
   "metadata": {},
   "outputs": [],
   "source": [
    "#| export\n",
    "def test_progress_colors_examples():\n",
    "    \"\"\"Test progress color variants.\"\"\"\n",
    "    # All color variants\n",
    "    assert str(progress_colors.neutral) == \"progress-neutral\"\n",
    "    assert str(progress_colors.primary) == \"progress-primary\"\n",
    "    assert str(progress_colors.secondary) == \"progress-secondary\"\n",
    "    assert str(progress_colors.accent) == \"progress-accent\"\n",
    "    assert str(progress_colors.info) == \"progress-info\"\n",
    "    assert str(progress_colors.success) == \"progress-success\"\n",
    "    assert str(progress_colors.warning) == \"progress-warning\"\n",
    "    assert str(progress_colors.error) == \"progress-error\"\n",
    "    \n",
    "    # With modifiers\n",
    "    assert str(progress_colors.primary.hover) == \"hover:progress-primary\"\n",
    "    assert str(progress_colors.success.focus) == \"focus:progress-success\"\n",
    "\n",
    "# Run the tests\n",
    "test_progress_colors_examples()"
   ]
  },
  {
   "cell_type": "code",
   "execution_count": null,
   "id": "ccbf9268-127e-4349-9ce0-7e61382975fd",
   "metadata": {},
   "outputs": [
    {
     "data": {
      "text/markdown": [
       "```html\n",
       "<div>\n",
       "<progress value=\"0\" max=\"100\" class=\"progress w-56\"></progress><progress value=\"10\" max=\"100\" class=\"progress w-56\"></progress><progress value=\"40\" max=\"100\" class=\"progress w-56\"></progress><progress value=\"70\" max=\"100\" class=\"progress w-56\"></progress><progress value=\"100\" max=\"100\" class=\"progress w-56\"></progress></div>\n",
       "\n",
       "```"
      ],
      "text/plain": [
       "div((progress((),{'value': '0', 'max': '100', 'class': 'progress w-56'}), progress((),{'value': '10', 'max': '100', 'class': 'progress w-56'}), progress((),{'value': '40', 'max': '100', 'class': 'progress w-56'}), progress((),{'value': '70', 'max': '100', 'class': 'progress w-56'}), progress((),{'value': '100', 'max': '100', 'class': 'progress w-56'})),{})"
      ]
     },
     "execution_count": null,
     "metadata": {},
     "output_type": "execute_result"
    }
   ],
   "source": [
    "#| export\n",
    "def test_progress_basic_fasthtml_examples():\n",
    "    \"\"\"Test basic progress examples from daisyUI v5 documentation.\"\"\"\n",
    "    from fasthtml.common import Progress, Div\n",
    "    from cjm_fasthtml_tailwind.utilities.sizing import w\n",
    "    \n",
    "    # Progress with different values\n",
    "    progress_0 = Progress(value=\"0\", max=\"100\", cls=combine_classes(progress, w._56))\n",
    "    assert progress_0.tag == \"progress\"\n",
    "    assert \"progress\" in progress_0.attrs['class']\n",
    "    assert \"w-56\" in progress_0.attrs['class']\n",
    "    assert progress_0.attrs['value'] == \"0\"\n",
    "    assert progress_0.attrs['max'] == \"100\"\n",
    "    \n",
    "    progress_10 = Progress(value=\"10\", max=\"100\", cls=combine_classes(progress, w._56))\n",
    "    assert progress_10.attrs['value'] == \"10\"\n",
    "    assert progress_10.attrs['max'] == \"100\"\n",
    "    \n",
    "    progress_40 = Progress(value=\"40\", max=\"100\", cls=combine_classes(progress, w._56))\n",
    "    assert progress_40.attrs['value'] == \"40\"\n",
    "    assert progress_40.attrs['max'] == \"100\"\n",
    "    \n",
    "    progress_70 = Progress(value=\"70\", max=\"100\", cls=combine_classes(progress, w._56))\n",
    "    assert progress_70.attrs['value'] == \"70\"\n",
    "    assert progress_70.attrs['max'] == \"100\"\n",
    "    \n",
    "    progress_100 = Progress(value=\"100\", max=\"100\", cls=combine_classes(progress, w._56))\n",
    "    assert progress_100.attrs['value'] == \"100\"\n",
    "    assert progress_100.attrs['max'] == \"100\"\n",
    "    \n",
    "    # Return all elements in a Div\n",
    "    return Div(\n",
    "        progress_0,\n",
    "        progress_10,\n",
    "        progress_40,\n",
    "        progress_70,\n",
    "        progress_100\n",
    "    )\n",
    "\n",
    "# Run the tests\n",
    "test_progress_basic_fasthtml_examples()"
   ]
  },
  {
   "cell_type": "code",
   "execution_count": null,
   "id": "2fad171d-4b8c-4050-8f37-7d4839088785",
   "metadata": {},
   "outputs": [
    {
     "data": {
      "text/html": [
       "\n",
       "<script>\n",
       "document.body.addEventListener('htmx:configRequest', (event) => {\n",
       "    if(event.detail.path.includes('://')) return;\n",
       "    htmx.config.selfRequestsOnly=false;\n",
       "    event.detail.path = `${location.protocol}//${location.hostname}:8000${event.detail.path}`;\n",
       "});\n",
       "</script>"
      ],
      "text/plain": [
       "<IPython.core.display.HTML object>"
      ]
     },
     "metadata": {},
     "output_type": "display_data"
    },
    {
     "data": {
      "text/html": [
       "<iframe src=\"http://localhost:8000/\" style=\"width: 100%; height: auto; border: none;\" onload=\"{\n",
       "        let frame = this;\n",
       "        window.addEventListener('message', function(e) {\n",
       "            if (e.source !== frame.contentWindow) return; // Only proceed if the message is from this iframe\n",
       "            if (e.data.height) frame.style.height = (e.data.height+1) + 'px';\n",
       "        }, false);\n",
       "    }\" allow=\"accelerometer; autoplay; camera; clipboard-read; clipboard-write; display-capture; encrypted-media; fullscreen; gamepad; geolocation; gyroscope; hid; identity-credentials-get; idle-detection; magnetometer; microphone; midi; payment; picture-in-picture; publickey-credentials-get; screen-wake-lock; serial; usb; web-share; xr-spatial-tracking\"></iframe> "
      ],
      "text/plain": [
       "<IPython.core.display.HTML object>"
      ]
     },
     "metadata": {},
     "output_type": "display_data"
    }
   ],
   "source": [
    "#| eval: false\n",
    "test_func = test_progress_basic_fasthtml_examples\n",
    "app, rt = create_test_app(theme=DaisyUITheme.LIGHT)\n",
    "\n",
    "@rt\n",
    "def index():\n",
    "    return create_test_page(test_func.__doc__.title().replace('.', ''), test_func())\n",
    "server = start_test_server(app)\n",
    "display(HTMX())\n",
    "server.stop()"
   ]
  },
  {
   "cell_type": "code",
   "execution_count": null,
   "id": "3ee445e5-8be0-4ec3-a297-601a64520a78",
   "metadata": {},
   "outputs": [
    {
     "data": {
      "text/markdown": [
       "```html\n",
       "<div>\n",
       "<progress value=\"0\" max=\"100\" class=\"progress progress-primary w-56\"></progress><progress value=\"10\" max=\"100\" class=\"progress progress-primary w-56\"></progress><progress value=\"40\" max=\"100\" class=\"progress progress-primary w-56\"></progress><progress value=\"70\" max=\"100\" class=\"progress progress-primary w-56\"></progress><progress value=\"100\" max=\"100\" class=\"progress progress-primary w-56\"></progress></div>\n",
       "\n",
       "```"
      ],
      "text/plain": [
       "div((progress((),{'value': '0', 'max': '100', 'class': 'progress progress-primary w-56'}), progress((),{'value': '10', 'max': '100', 'class': 'progress progress-primary w-56'}), progress((),{'value': '40', 'max': '100', 'class': 'progress progress-primary w-56'}), progress((),{'value': '70', 'max': '100', 'class': 'progress progress-primary w-56'}), progress((),{'value': '100', 'max': '100', 'class': 'progress progress-primary w-56'})),{})"
      ]
     },
     "execution_count": null,
     "metadata": {},
     "output_type": "execute_result"
    }
   ],
   "source": [
    "#| export\n",
    "def test_progress_primary_color_fasthtml_examples():\n",
    "    \"\"\"Test progress with primary color from daisyUI v5 documentation.\"\"\"\n",
    "    from fasthtml.common import Progress, Div\n",
    "    from cjm_fasthtml_tailwind.utilities.sizing import w\n",
    "    \n",
    "    # Primary color progress with different values\n",
    "    primary_0 = Progress(value=\"0\", max=\"100\", cls=combine_classes(progress, progress_colors.primary, w._56))\n",
    "    assert \"progress\" in primary_0.attrs['class']\n",
    "    assert \"progress-primary\" in primary_0.attrs['class']\n",
    "    assert \"w-56\" in primary_0.attrs['class']\n",
    "    assert primary_0.attrs['value'] == \"0\"\n",
    "    \n",
    "    primary_10 = Progress(value=\"10\", max=\"100\", cls=combine_classes(progress, progress_colors.primary, w._56))\n",
    "    assert \"progress-primary\" in primary_10.attrs['class']\n",
    "    assert primary_10.attrs['value'] == \"10\"\n",
    "    \n",
    "    primary_40 = Progress(value=\"40\", max=\"100\", cls=combine_classes(progress, progress_colors.primary, w._56))\n",
    "    assert \"progress-primary\" in primary_40.attrs['class']\n",
    "    assert primary_40.attrs['value'] == \"40\"\n",
    "    \n",
    "    primary_70 = Progress(value=\"70\", max=\"100\", cls=combine_classes(progress, progress_colors.primary, w._56))\n",
    "    assert \"progress-primary\" in primary_70.attrs['class']\n",
    "    assert primary_70.attrs['value'] == \"70\"\n",
    "    \n",
    "    primary_100 = Progress(value=\"100\", max=\"100\", cls=combine_classes(progress, progress_colors.primary, w._56))\n",
    "    assert \"progress-primary\" in primary_100.attrs['class']\n",
    "    assert primary_100.attrs['value'] == \"100\"\n",
    "    \n",
    "    # Return all elements in a Div\n",
    "    return Div(\n",
    "        primary_0,\n",
    "        primary_10,\n",
    "        primary_40,\n",
    "        primary_70,\n",
    "        primary_100\n",
    "    )\n",
    "\n",
    "# Run the tests\n",
    "test_progress_primary_color_fasthtml_examples()"
   ]
  },
  {
   "cell_type": "code",
   "execution_count": null,
   "id": "c1234450-6697-4176-9296-de3d9a77ac48",
   "metadata": {},
   "outputs": [
    {
     "data": {
      "text/html": [
       "\n",
       "<script>\n",
       "document.body.addEventListener('htmx:configRequest', (event) => {\n",
       "    if(event.detail.path.includes('://')) return;\n",
       "    htmx.config.selfRequestsOnly=false;\n",
       "    event.detail.path = `${location.protocol}//${location.hostname}:8000${event.detail.path}`;\n",
       "});\n",
       "</script>"
      ],
      "text/plain": [
       "<IPython.core.display.HTML object>"
      ]
     },
     "metadata": {},
     "output_type": "display_data"
    },
    {
     "data": {
      "text/html": [
       "<iframe src=\"http://localhost:8000/\" style=\"width: 100%; height: auto; border: none;\" onload=\"{\n",
       "        let frame = this;\n",
       "        window.addEventListener('message', function(e) {\n",
       "            if (e.source !== frame.contentWindow) return; // Only proceed if the message is from this iframe\n",
       "            if (e.data.height) frame.style.height = (e.data.height+1) + 'px';\n",
       "        }, false);\n",
       "    }\" allow=\"accelerometer; autoplay; camera; clipboard-read; clipboard-write; display-capture; encrypted-media; fullscreen; gamepad; geolocation; gyroscope; hid; identity-credentials-get; idle-detection; magnetometer; microphone; midi; payment; picture-in-picture; publickey-credentials-get; screen-wake-lock; serial; usb; web-share; xr-spatial-tracking\"></iframe> "
      ],
      "text/plain": [
       "<IPython.core.display.HTML object>"
      ]
     },
     "metadata": {},
     "output_type": "display_data"
    }
   ],
   "source": [
    "#| eval: false\n",
    "test_func = test_progress_primary_color_fasthtml_examples\n",
    "app, rt = create_test_app(theme=DaisyUITheme.LIGHT)\n",
    "\n",
    "@rt\n",
    "def index():\n",
    "    return create_test_page(test_func.__doc__.title().replace('.', ''), test_func())\n",
    "server = start_test_server(app)\n",
    "display(HTMX())\n",
    "server.stop()"
   ]
  },
  {
   "cell_type": "code",
   "execution_count": null,
   "id": "e543f323-555b-4a73-b5cb-6677c00d0cd8",
   "metadata": {},
   "outputs": [
    {
     "data": {
      "text/markdown": [
       "```html\n",
       "<div>\n",
       "  <div>\n",
       "<progress value=\"0\" max=\"100\" class=\"progress progress-secondary w-56\"></progress><progress value=\"10\" max=\"100\" class=\"progress progress-secondary w-56\"></progress><progress value=\"40\" max=\"100\" class=\"progress progress-secondary w-56\"></progress><progress value=\"70\" max=\"100\" class=\"progress progress-secondary w-56\"></progress><progress value=\"100\" max=\"100\" class=\"progress progress-secondary w-56\"></progress>  </div>\n",
       "  <div>\n",
       "<progress value=\"0\" max=\"100\" class=\"progress progress-accent w-56\"></progress><progress value=\"10\" max=\"100\" class=\"progress progress-accent w-56\"></progress><progress value=\"40\" max=\"100\" class=\"progress progress-accent w-56\"></progress><progress value=\"70\" max=\"100\" class=\"progress progress-accent w-56\"></progress><progress value=\"100\" max=\"100\" class=\"progress progress-accent w-56\"></progress>  </div>\n",
       "  <div>\n",
       "<progress value=\"0\" max=\"100\" class=\"progress progress-neutral w-56\"></progress><progress value=\"10\" max=\"100\" class=\"progress progress-neutral w-56\"></progress><progress value=\"40\" max=\"100\" class=\"progress progress-neutral w-56\"></progress><progress value=\"70\" max=\"100\" class=\"progress progress-neutral w-56\"></progress><progress value=\"100\" max=\"100\" class=\"progress progress-neutral w-56\"></progress>  </div>\n",
       "  <div>\n",
       "<progress value=\"0\" max=\"100\" class=\"progress progress-info w-56\"></progress><progress value=\"10\" max=\"100\" class=\"progress progress-info w-56\"></progress><progress value=\"40\" max=\"100\" class=\"progress progress-info w-56\"></progress><progress value=\"70\" max=\"100\" class=\"progress progress-info w-56\"></progress><progress value=\"100\" max=\"100\" class=\"progress progress-info w-56\"></progress>  </div>\n",
       "  <div>\n",
       "<progress value=\"0\" max=\"100\" class=\"progress progress-success w-56\"></progress><progress value=\"10\" max=\"100\" class=\"progress progress-success w-56\"></progress><progress value=\"40\" max=\"100\" class=\"progress progress-success w-56\"></progress><progress value=\"70\" max=\"100\" class=\"progress progress-success w-56\"></progress><progress value=\"100\" max=\"100\" class=\"progress progress-success w-56\"></progress>  </div>\n",
       "  <div>\n",
       "<progress value=\"0\" max=\"100\" class=\"progress progress-warning w-56\"></progress><progress value=\"10\" max=\"100\" class=\"progress progress-warning w-56\"></progress><progress value=\"40\" max=\"100\" class=\"progress progress-warning w-56\"></progress><progress value=\"70\" max=\"100\" class=\"progress progress-warning w-56\"></progress><progress value=\"100\" max=\"100\" class=\"progress progress-warning w-56\"></progress>  </div>\n",
       "  <div>\n",
       "<progress value=\"0\" max=\"100\" class=\"progress progress-error w-56\"></progress><progress value=\"10\" max=\"100\" class=\"progress progress-error w-56\"></progress><progress value=\"40\" max=\"100\" class=\"progress progress-error w-56\"></progress><progress value=\"70\" max=\"100\" class=\"progress progress-error w-56\"></progress><progress value=\"100\" max=\"100\" class=\"progress progress-error w-56\"></progress>  </div>\n",
       "</div>\n",
       "\n",
       "```"
      ],
      "text/plain": [
       "div((div((progress((),{'value': '0', 'max': '100', 'class': 'progress progress-secondary w-56'}), progress((),{'value': '10', 'max': '100', 'class': 'progress progress-secondary w-56'}), progress((),{'value': '40', 'max': '100', 'class': 'progress progress-secondary w-56'}), progress((),{'value': '70', 'max': '100', 'class': 'progress progress-secondary w-56'}), progress((),{'value': '100', 'max': '100', 'class': 'progress progress-secondary w-56'})),{}), div((progress((),{'value': '0', 'max': '100', 'class': 'progress progress-accent w-56'}), progress((),{'value': '10', 'max': '100', 'class': 'progress progress-accent w-56'}), progress((),{'value': '40', 'max': '100', 'class': 'progress progress-accent w-56'}), progress((),{'value': '70', 'max': '100', 'class': 'progress progress-accent w-56'}), progress((),{'value': '100', 'max': '100', 'class': 'progress progress-accent w-56'})),{}), div((progress((),{'value': '0', 'max': '100', 'class': 'progress progress-neutral w-56'}), progress((),{'value': '10', 'max': '100', 'class': 'progress progress-neutral w-56'}), progress((),{'value': '40', 'max': '100', 'class': 'progress progress-neutral w-56'}), progress((),{'value': '70', 'max': '100', 'class': 'progress progress-neutral w-56'}), progress((),{'value': '100', 'max': '100', 'class': 'progress progress-neutral w-56'})),{}), div((progress((),{'value': '0', 'max': '100', 'class': 'progress progress-info w-56'}), progress((),{'value': '10', 'max': '100', 'class': 'progress progress-info w-56'}), progress((),{'value': '40', 'max': '100', 'class': 'progress progress-info w-56'}), progress((),{'value': '70', 'max': '100', 'class': 'progress progress-info w-56'}), progress((),{'value': '100', 'max': '100', 'class': 'progress progress-info w-56'})),{}), div((progress((),{'value': '0', 'max': '100', 'class': 'progress progress-success w-56'}), progress((),{'value': '10', 'max': '100', 'class': 'progress progress-success w-56'}), progress((),{'value': '40', 'max': '100', 'class': 'progress progress-success w-56'}), progress((),{'value': '70', 'max': '100', 'class': 'progress progress-success w-56'}), progress((),{'value': '100', 'max': '100', 'class': 'progress progress-success w-56'})),{}), div((progress((),{'value': '0', 'max': '100', 'class': 'progress progress-warning w-56'}), progress((),{'value': '10', 'max': '100', 'class': 'progress progress-warning w-56'}), progress((),{'value': '40', 'max': '100', 'class': 'progress progress-warning w-56'}), progress((),{'value': '70', 'max': '100', 'class': 'progress progress-warning w-56'}), progress((),{'value': '100', 'max': '100', 'class': 'progress progress-warning w-56'})),{}), div((progress((),{'value': '0', 'max': '100', 'class': 'progress progress-error w-56'}), progress((),{'value': '10', 'max': '100', 'class': 'progress progress-error w-56'}), progress((),{'value': '40', 'max': '100', 'class': 'progress progress-error w-56'}), progress((),{'value': '70', 'max': '100', 'class': 'progress progress-error w-56'}), progress((),{'value': '100', 'max': '100', 'class': 'progress progress-error w-56'})),{})),{})"
      ]
     },
     "execution_count": null,
     "metadata": {},
     "output_type": "execute_result"
    }
   ],
   "source": [
    "#| export\n",
    "def test_progress_all_colors_fasthtml_examples():\n",
    "    \"\"\"Test progress with all semantic colors from daisyUI v5 documentation.\"\"\"\n",
    "    from fasthtml.common import Progress, Div\n",
    "    from cjm_fasthtml_tailwind.utilities.sizing import w\n",
    "    \n",
    "    # Helper function to create progress bars with different values for a given color\n",
    "    def create_color_set(color_class, color_name):\n",
    "        return [\n",
    "            Progress(value=\"0\", max=\"100\", cls=combine_classes(progress, color_class, w._56)),\n",
    "            Progress(value=\"10\", max=\"100\", cls=combine_classes(progress, color_class, w._56)),\n",
    "            Progress(value=\"40\", max=\"100\", cls=combine_classes(progress, color_class, w._56)),\n",
    "            Progress(value=\"70\", max=\"100\", cls=combine_classes(progress, color_class, w._56)),\n",
    "            Progress(value=\"100\", max=\"100\", cls=combine_classes(progress, color_class, w._56))\n",
    "        ]\n",
    "    \n",
    "    # Secondary color\n",
    "    secondary_bars = create_color_set(progress_colors.secondary, \"secondary\")\n",
    "    for bar in secondary_bars:\n",
    "        assert \"progress-secondary\" in bar.attrs['class']\n",
    "    \n",
    "    # Accent color\n",
    "    accent_bars = create_color_set(progress_colors.accent, \"accent\")\n",
    "    for bar in accent_bars:\n",
    "        assert \"progress-accent\" in bar.attrs['class']\n",
    "    \n",
    "    # Neutral color\n",
    "    neutral_bars = create_color_set(progress_colors.neutral, \"neutral\")\n",
    "    for bar in neutral_bars:\n",
    "        assert \"progress-neutral\" in bar.attrs['class']\n",
    "    \n",
    "    # Info color\n",
    "    info_bars = create_color_set(progress_colors.info, \"info\")\n",
    "    for bar in info_bars:\n",
    "        assert \"progress-info\" in bar.attrs['class']\n",
    "    \n",
    "    # Success color\n",
    "    success_bars = create_color_set(progress_colors.success, \"success\")\n",
    "    for bar in success_bars:\n",
    "        assert \"progress-success\" in bar.attrs['class']\n",
    "    \n",
    "    # Warning color\n",
    "    warning_bars = create_color_set(progress_colors.warning, \"warning\")\n",
    "    for bar in warning_bars:\n",
    "        assert \"progress-warning\" in bar.attrs['class']\n",
    "    \n",
    "    # Error color\n",
    "    error_bars = create_color_set(progress_colors.error, \"error\")\n",
    "    for bar in error_bars:\n",
    "        assert \"progress-error\" in bar.attrs['class']\n",
    "    \n",
    "    # Return all elements grouped by color\n",
    "    return Div(\n",
    "        Div(*secondary_bars),\n",
    "        Div(*accent_bars),\n",
    "        Div(*neutral_bars),\n",
    "        Div(*info_bars),\n",
    "        Div(*success_bars),\n",
    "        Div(*warning_bars),\n",
    "        Div(*error_bars)\n",
    "    )\n",
    "\n",
    "# Run the tests\n",
    "test_progress_all_colors_fasthtml_examples()"
   ]
  },
  {
   "cell_type": "code",
   "execution_count": null,
   "id": "c94a5177-c611-4e84-abd5-c7af0dd235c3",
   "metadata": {},
   "outputs": [
    {
     "data": {
      "text/html": [
       "\n",
       "<script>\n",
       "document.body.addEventListener('htmx:configRequest', (event) => {\n",
       "    if(event.detail.path.includes('://')) return;\n",
       "    htmx.config.selfRequestsOnly=false;\n",
       "    event.detail.path = `${location.protocol}//${location.hostname}:8000${event.detail.path}`;\n",
       "});\n",
       "</script>"
      ],
      "text/plain": [
       "<IPython.core.display.HTML object>"
      ]
     },
     "metadata": {},
     "output_type": "display_data"
    },
    {
     "data": {
      "text/html": [
       "<iframe src=\"http://localhost:8000/\" style=\"width: 100%; height: auto; border: none;\" onload=\"{\n",
       "        let frame = this;\n",
       "        window.addEventListener('message', function(e) {\n",
       "            if (e.source !== frame.contentWindow) return; // Only proceed if the message is from this iframe\n",
       "            if (e.data.height) frame.style.height = (e.data.height+1) + 'px';\n",
       "        }, false);\n",
       "    }\" allow=\"accelerometer; autoplay; camera; clipboard-read; clipboard-write; display-capture; encrypted-media; fullscreen; gamepad; geolocation; gyroscope; hid; identity-credentials-get; idle-detection; magnetometer; microphone; midi; payment; picture-in-picture; publickey-credentials-get; screen-wake-lock; serial; usb; web-share; xr-spatial-tracking\"></iframe> "
      ],
      "text/plain": [
       "<IPython.core.display.HTML object>"
      ]
     },
     "metadata": {},
     "output_type": "display_data"
    }
   ],
   "source": [
    "#| eval: false\n",
    "test_func = test_progress_all_colors_fasthtml_examples\n",
    "app, rt = create_test_app(theme=DaisyUITheme.LIGHT)\n",
    "\n",
    "@rt\n",
    "def index():\n",
    "    return create_test_page(test_func.__doc__.title().replace('.', ''), test_func())\n",
    "server = start_test_server(app)\n",
    "display(HTMX())\n",
    "server.stop()"
   ]
  },
  {
   "cell_type": "code",
   "execution_count": null,
   "id": "eab4616d-2c91-4371-b493-9732657620ce",
   "metadata": {},
   "outputs": [
    {
     "data": {
      "text/markdown": [
       "```html\n",
       "<div>\n",
       "<progress class=\"progress w-56\"></progress></div>\n",
       "\n",
       "```"
      ],
      "text/plain": [
       "div((progress((),{'class': 'progress w-56'}),),{})"
      ]
     },
     "execution_count": null,
     "metadata": {},
     "output_type": "execute_result"
    }
   ],
   "source": [
    "#| export\n",
    "def test_progress_indeterminate_fasthtml_examples():\n",
    "    \"\"\"Test indeterminate progress (without value) from daisyUI v5 documentation.\"\"\"\n",
    "    from fasthtml.common import Progress, Div\n",
    "    from cjm_fasthtml_tailwind.utilities.sizing import w\n",
    "    \n",
    "    # Indeterminate progress (without value)\n",
    "    indeterminate = Progress(cls=combine_classes(progress, w._56))\n",
    "    assert indeterminate.tag == \"progress\"\n",
    "    assert \"progress\" in indeterminate.attrs['class']\n",
    "    assert \"w-56\" in indeterminate.attrs['class']\n",
    "    # Check that value and max attributes are not present\n",
    "    assert 'value' not in indeterminate.attrs\n",
    "    assert 'max' not in indeterminate.attrs\n",
    "    \n",
    "    # Return the element in a Div\n",
    "    return Div(indeterminate)\n",
    "\n",
    "# Run the tests\n",
    "test_progress_indeterminate_fasthtml_examples()"
   ]
  },
  {
   "cell_type": "code",
   "execution_count": null,
   "id": "90a8cf70-1882-458f-8a69-a152620472ba",
   "metadata": {},
   "outputs": [
    {
     "data": {
      "text/html": [
       "\n",
       "<script>\n",
       "document.body.addEventListener('htmx:configRequest', (event) => {\n",
       "    if(event.detail.path.includes('://')) return;\n",
       "    htmx.config.selfRequestsOnly=false;\n",
       "    event.detail.path = `${location.protocol}//${location.hostname}:8000${event.detail.path}`;\n",
       "});\n",
       "</script>"
      ],
      "text/plain": [
       "<IPython.core.display.HTML object>"
      ]
     },
     "metadata": {},
     "output_type": "display_data"
    },
    {
     "data": {
      "text/html": [
       "<iframe src=\"http://localhost:8000/\" style=\"width: 100%; height: auto; border: none;\" onload=\"{\n",
       "        let frame = this;\n",
       "        window.addEventListener('message', function(e) {\n",
       "            if (e.source !== frame.contentWindow) return; // Only proceed if the message is from this iframe\n",
       "            if (e.data.height) frame.style.height = (e.data.height+1) + 'px';\n",
       "        }, false);\n",
       "    }\" allow=\"accelerometer; autoplay; camera; clipboard-read; clipboard-write; display-capture; encrypted-media; fullscreen; gamepad; geolocation; gyroscope; hid; identity-credentials-get; idle-detection; magnetometer; microphone; midi; payment; picture-in-picture; publickey-credentials-get; screen-wake-lock; serial; usb; web-share; xr-spatial-tracking\"></iframe> "
      ],
      "text/plain": [
       "<IPython.core.display.HTML object>"
      ]
     },
     "metadata": {},
     "output_type": "display_data"
    }
   ],
   "source": [
    "#| eval: false\n",
    "test_func = test_progress_indeterminate_fasthtml_examples\n",
    "app, rt = create_test_app(theme=DaisyUITheme.LIGHT)\n",
    "\n",
    "@rt\n",
    "def index():\n",
    "    return create_test_page(test_func.__doc__.title().replace('.', ''), test_func())\n",
    "server = start_test_server(app)\n",
    "display(HTMX())\n",
    "server.stop()"
   ]
  },
  {
   "cell_type": "code",
   "execution_count": null,
   "id": "92f97ac4-ece1-4f4f-a018-a32d6a36c97f",
   "metadata": {},
   "outputs": [],
   "source": []
  },
  {
   "cell_type": "code",
   "execution_count": null,
   "id": "57d05da6-8f66-47df-a511-21efd9d9f79f",
   "metadata": {},
   "outputs": [],
   "source": []
  },
  {
   "cell_type": "code",
   "execution_count": null,
   "id": "76963617-4c2a-4c3f-b772-fa40e9646139",
   "metadata": {},
   "outputs": [],
   "source": []
  },
  {
   "cell_type": "code",
   "execution_count": null,
   "id": "eb9c00c0-6fd1-4bed-88ac-b01fd7582d8b",
   "metadata": {},
   "outputs": [],
   "source": []
  },
  {
   "cell_type": "code",
   "execution_count": null,
   "id": "9358c434-d74a-4da9-bcba-2b7f73e9bcac",
   "metadata": {},
   "outputs": [],
   "source": []
  },
  {
   "cell_type": "code",
   "execution_count": null,
   "id": "7ab8257a-c30b-45b6-a784-729b67686791",
   "metadata": {},
   "outputs": [],
   "source": [
    "#| hide\n",
    "import nbdev; nbdev.nbdev_export()"
   ]
  }
 ],
 "metadata": {
  "kernelspec": {
   "display_name": "python3",
   "language": "python",
   "name": "python3"
  }
 },
 "nbformat": 4,
 "nbformat_minor": 5
}
