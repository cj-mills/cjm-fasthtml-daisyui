{
 "cells": [
  {
   "cell_type": "markdown",
   "id": "7c51b46b-ece1-456d-8e84-7de122e72b62",
   "metadata": {},
   "source": [
    "# radial progress\n",
    "\n",
    "> Radial progress can be used to show the progress of a task or to show the passing of time."
   ]
  },
  {
   "cell_type": "code",
   "execution_count": null,
   "id": "25536bdc-e099-477f-9e2d-a5f71df5dff2",
   "metadata": {},
   "outputs": [],
   "source": [
    "#| default_exp components.feedback.radial_progress"
   ]
  },
  {
   "cell_type": "code",
   "execution_count": null,
   "id": "2e6f21ce-7766-455a-8ebb-df2c17e7d977",
   "metadata": {},
   "outputs": [],
   "source": [
    "#| hide\n",
    "from nbdev.showdoc import *"
   ]
  },
  {
   "cell_type": "code",
   "execution_count": null,
   "id": "045c6538-403e-4222-b3bb-db20f188524d",
   "metadata": {},
   "outputs": [],
   "source": [
    "#| export\n",
    "\n",
    "from cjm_fasthtml_tailwind.core.base import (\n",
    "    SingleValueFactory, combine_classes\n",
    ")\n",
    "\n",
    "from fasthtml.common import Div\n",
    "from fasthtml.jupyter import JupyUvi, HTMX\n",
    "from cjm_fasthtml_daisyui.core.testing import create_test_app, create_test_page, start_test_server\n",
    "from cjm_fasthtml_daisyui.core.themes import DaisyUITheme\n",
    "from IPython.display import display"
   ]
  },
  {
   "cell_type": "markdown",
   "id": "6e339035-2553-4e12-8f05-6c9d64bb9d06",
   "metadata": {},
   "source": [
    "### Base Radial Progress"
   ]
  },
  {
   "cell_type": "code",
   "execution_count": null,
   "id": "c802d106-49fb-4d34-ba04-5f54c88e165b",
   "metadata": {},
   "outputs": [],
   "source": [
    "#| exports\n",
    "radial_progress = SingleValueFactory(\"radial-progress\", \"Shows a radial progress\") # Base radial progress component"
   ]
  },
  {
   "cell_type": "markdown",
   "id": "2670e7cb-3b0a-4efe-aa31-9af3c80423e8",
   "metadata": {},
   "source": [
    "### Test Radial Progress Examples"
   ]
  },
  {
   "cell_type": "code",
   "execution_count": null,
   "id": "636c6bcd-2176-4191-aa39-c937893243e2",
   "metadata": {},
   "outputs": [],
   "source": [
    "#|exports\n",
    "def test_radial_progress_basic_examples():\n",
    "    \"\"\"Test basic button utilities.\"\"\"\n",
    "    # Basic button\n",
    "    assert str(radial_progress) == \"radial-progress\"\n",
    "    \n",
    "    # Radial progress with modifiers\n",
    "    assert str(radial_progress.hover) == \"hover:radial-progress\"\n",
    "    assert str(radial_progress.md) == \"md:radial-progress\"\n",
    "    assert str(radial_progress.dark) == \"dark:radial-progress\"\n",
    "\n",
    "# Run the tests\n",
    "test_radial_progress_basic_examples()"
   ]
  },
  {
   "cell_type": "code",
   "execution_count": null,
   "id": "ad2d932c-79ea-4792-bdaf-5bda859340ca",
   "metadata": {},
   "outputs": [
    {
     "data": {
      "text/markdown": [
       "```html\n",
       "<div aria-valuenow=\"70\" role=\"progressbar\" class=\"radial-progress\" style=\"--value:70;\">70%</div>\n",
       "\n",
       "```"
      ],
      "text/plain": [
       "div(('70%',),{'aria-valuenow': '70', 'role': 'progressbar', 'class': 'radial-progress', 'style': '--value:70;'})"
      ]
     },
     "execution_count": null,
     "metadata": {},
     "output_type": "execute_result"
    }
   ],
   "source": [
    "#|exports\n",
    "def test_radial_progress_basic_fasthtml_examples():\n",
    "    \"\"\"Test basic radial progress from daisyUI v5 documentation.\"\"\"\n",
    "    from fasthtml.common import Div\n",
    "    \n",
    "    # Basic radial progress\n",
    "    basic_radial = Div(\n",
    "        \"70%\",\n",
    "        cls=str(radial_progress),\n",
    "        style=\"--value:70;\",\n",
    "        aria_valuenow=\"70\",\n",
    "        role=\"progressbar\"\n",
    "    )\n",
    "    \n",
    "    # Verify structure\n",
    "    assert basic_radial.tag == \"div\"\n",
    "    assert basic_radial.attrs['class'] == \"radial-progress\"\n",
    "    assert basic_radial.attrs['style'] == \"--value:70;\"\n",
    "    assert basic_radial.attrs['aria-valuenow'] == \"70\"\n",
    "    assert basic_radial.attrs['role'] == \"progressbar\"\n",
    "    assert basic_radial.children[0] == \"70%\"\n",
    "    \n",
    "    return basic_radial\n",
    "\n",
    "# Run the tests\n",
    "test_radial_progress_basic_fasthtml_examples()"
   ]
  },
  {
   "cell_type": "code",
   "execution_count": null,
   "id": "808d82e5-afbc-4f7d-a891-70aa7d80a6c9",
   "metadata": {},
   "outputs": [],
   "source": []
  },
  {
   "cell_type": "code",
   "execution_count": null,
   "id": "zb1o583xc9p",
   "metadata": {},
   "outputs": [
    {
     "data": {
      "text/html": [
       "\n",
       "<script>\n",
       "document.body.addEventListener('htmx:configRequest', (event) => {\n",
       "    if(event.detail.path.includes('://')) return;\n",
       "    htmx.config.selfRequestsOnly=false;\n",
       "    event.detail.path = `${location.protocol}//${location.hostname}:8000${event.detail.path}`;\n",
       "});\n",
       "</script>"
      ],
      "text/plain": [
       "<IPython.core.display.HTML object>"
      ]
     },
     "metadata": {},
     "output_type": "display_data"
    },
    {
     "data": {
      "text/html": [
       "<iframe src=\"http://localhost:8000/\" style=\"width: 100%; height: auto; border: none;\" onload=\"{\n",
       "        let frame = this;\n",
       "        window.addEventListener('message', function(e) {\n",
       "            if (e.source !== frame.contentWindow) return; // Only proceed if the message is from this iframe\n",
       "            if (e.data.height) frame.style.height = (e.data.height+1) + 'px';\n",
       "        }, false);\n",
       "    }\" allow=\"accelerometer; autoplay; camera; clipboard-read; clipboard-write; display-capture; encrypted-media; fullscreen; gamepad; geolocation; gyroscope; hid; identity-credentials-get; idle-detection; magnetometer; microphone; midi; payment; picture-in-picture; publickey-credentials-get; screen-wake-lock; serial; usb; web-share; xr-spatial-tracking\"></iframe> "
      ],
      "text/plain": [
       "<IPython.core.display.HTML object>"
      ]
     },
     "metadata": {},
     "output_type": "display_data"
    }
   ],
   "source": [
    "#| eval: false\n",
    "#| output: false\n",
    "test_func = test_radial_progress_basic_fasthtml_examples\n",
    "app, rt = create_test_app(theme=DaisyUITheme.LIGHT)\n",
    "\n",
    "@rt\n",
    "def index():\n",
    "    return create_test_page(test_func.__doc__.title().replace('.', ''), test_func())\n",
    "server = start_test_server(app)\n",
    "display(HTMX())\n",
    "server.stop()"
   ]
  },
  {
   "cell_type": "code",
   "execution_count": null,
   "id": "d8ce606a-cc4f-4f68-b4ca-2b004d94afac",
   "metadata": {},
   "outputs": [
    {
     "data": {
      "text/markdown": [
       "```html\n",
       "<div>\n",
       "  <div aria-valuenow=\"0\" role=\"progressbar\" class=\"radial-progress\" style=\"--value:0;\">0%</div>\n",
       "  <div aria-valuenow=\"20\" role=\"progressbar\" class=\"radial-progress\" style=\"--value:20;\">20%</div>\n",
       "  <div aria-valuenow=\"60\" role=\"progressbar\" class=\"radial-progress\" style=\"--value:60;\">60%</div>\n",
       "  <div aria-valuenow=\"80\" role=\"progressbar\" class=\"radial-progress\" style=\"--value:80;\">80%</div>\n",
       "  <div aria-valuenow=\"100\" role=\"progressbar\" class=\"radial-progress\" style=\"--value:100;\">100%</div>\n",
       "</div>\n",
       "\n",
       "```"
      ],
      "text/plain": [
       "div((div(('0%',),{'aria-valuenow': '0', 'role': 'progressbar', 'class': 'radial-progress', 'style': '--value:0;'}), div(('20%',),{'aria-valuenow': '20', 'role': 'progressbar', 'class': 'radial-progress', 'style': '--value:20;'}), div(('60%',),{'aria-valuenow': '60', 'role': 'progressbar', 'class': 'radial-progress', 'style': '--value:60;'}), div(('80%',),{'aria-valuenow': '80', 'role': 'progressbar', 'class': 'radial-progress', 'style': '--value:80;'}), div(('100%',),{'aria-valuenow': '100', 'role': 'progressbar', 'class': 'radial-progress', 'style': '--value:100;'})),{})"
      ]
     },
     "execution_count": null,
     "metadata": {},
     "output_type": "execute_result"
    }
   ],
   "source": [
    "#|exports\n",
    "def test_radial_progress_values_fasthtml_examples():\n",
    "    \"\"\"Test radial progress with different values from daisyUI v5 documentation.\"\"\"\n",
    "    from fasthtml.common import Div\n",
    "    \n",
    "    # Different values\n",
    "    progress_0 = Div(\n",
    "        \"0%\",\n",
    "        cls=str(radial_progress),\n",
    "        style=\"--value:0;\",\n",
    "        aria_valuenow=\"0\",\n",
    "        role=\"progressbar\"\n",
    "    )\n",
    "    assert progress_0.attrs['style'] == \"--value:0;\"\n",
    "    assert progress_0.attrs['aria-valuenow'] == \"0\"\n",
    "    assert progress_0.children[0] == \"0%\"\n",
    "    \n",
    "    progress_20 = Div(\n",
    "        \"20%\",\n",
    "        cls=str(radial_progress),\n",
    "        style=\"--value:20;\",\n",
    "        aria_valuenow=\"20\",\n",
    "        role=\"progressbar\"\n",
    "    )\n",
    "    assert progress_20.attrs['style'] == \"--value:20;\"\n",
    "    assert progress_20.attrs['aria-valuenow'] == \"20\"\n",
    "    assert progress_20.children[0] == \"20%\"\n",
    "    \n",
    "    progress_60 = Div(\n",
    "        \"60%\",\n",
    "        cls=str(radial_progress),\n",
    "        style=\"--value:60;\",\n",
    "        aria_valuenow=\"60\",\n",
    "        role=\"progressbar\"\n",
    "    )\n",
    "    assert progress_60.attrs['style'] == \"--value:60;\"\n",
    "    assert progress_60.attrs['aria-valuenow'] == \"60\"\n",
    "    assert progress_60.children[0] == \"60%\"\n",
    "    \n",
    "    progress_80 = Div(\n",
    "        \"80%\",\n",
    "        cls=str(radial_progress),\n",
    "        style=\"--value:80;\",\n",
    "        aria_valuenow=\"80\",\n",
    "        role=\"progressbar\"\n",
    "    )\n",
    "    assert progress_80.attrs['style'] == \"--value:80;\"\n",
    "    assert progress_80.attrs['aria-valuenow'] == \"80\"\n",
    "    assert progress_80.children[0] == \"80%\"\n",
    "    \n",
    "    progress_100 = Div(\n",
    "        \"100%\",\n",
    "        cls=str(radial_progress),\n",
    "        style=\"--value:100;\",\n",
    "        aria_valuenow=\"100\",\n",
    "        role=\"progressbar\"\n",
    "    )\n",
    "    assert progress_100.attrs['style'] == \"--value:100;\"\n",
    "    assert progress_100.attrs['aria-valuenow'] == \"100\"\n",
    "    assert progress_100.children[0] == \"100%\"\n",
    "    \n",
    "    # Return all elements in a Div\n",
    "    return Div(\n",
    "        progress_0,\n",
    "        progress_20,\n",
    "        progress_60,\n",
    "        progress_80,\n",
    "        progress_100\n",
    "    )\n",
    "\n",
    "# Run the tests\n",
    "test_radial_progress_values_fasthtml_examples()"
   ]
  },
  {
   "cell_type": "code",
   "execution_count": null,
   "id": "f3ea2c08-ec15-4c29-8e71-c51b180873a6",
   "metadata": {},
   "outputs": [],
   "source": []
  },
  {
   "cell_type": "code",
   "execution_count": null,
   "id": "58ej1k6htc",
   "metadata": {},
   "outputs": [
    {
     "data": {
      "text/html": [
       "\n",
       "<script>\n",
       "document.body.addEventListener('htmx:configRequest', (event) => {\n",
       "    if(event.detail.path.includes('://')) return;\n",
       "    htmx.config.selfRequestsOnly=false;\n",
       "    event.detail.path = `${location.protocol}//${location.hostname}:8000${event.detail.path}`;\n",
       "});\n",
       "</script>"
      ],
      "text/plain": [
       "<IPython.core.display.HTML object>"
      ]
     },
     "metadata": {},
     "output_type": "display_data"
    },
    {
     "data": {
      "text/html": [
       "<iframe src=\"http://localhost:8000/\" style=\"width: 100%; height: auto; border: none;\" onload=\"{\n",
       "        let frame = this;\n",
       "        window.addEventListener('message', function(e) {\n",
       "            if (e.source !== frame.contentWindow) return; // Only proceed if the message is from this iframe\n",
       "            if (e.data.height) frame.style.height = (e.data.height+1) + 'px';\n",
       "        }, false);\n",
       "    }\" allow=\"accelerometer; autoplay; camera; clipboard-read; clipboard-write; display-capture; encrypted-media; fullscreen; gamepad; geolocation; gyroscope; hid; identity-credentials-get; idle-detection; magnetometer; microphone; midi; payment; picture-in-picture; publickey-credentials-get; screen-wake-lock; serial; usb; web-share; xr-spatial-tracking\"></iframe> "
      ],
      "text/plain": [
       "<IPython.core.display.HTML object>"
      ]
     },
     "metadata": {},
     "output_type": "display_data"
    }
   ],
   "source": [
    "#| eval: false\n",
    "#| output: false\n",
    "test_func = test_radial_progress_values_fasthtml_examples\n",
    "app, rt = create_test_app(theme=DaisyUITheme.LIGHT)\n",
    "\n",
    "@rt\n",
    "def index():\n",
    "    return create_test_page(test_func.__doc__.title().replace('.', ''), test_func())\n",
    "server = start_test_server(app)\n",
    "display(HTMX())\n",
    "server.stop()"
   ]
  },
  {
   "cell_type": "code",
   "execution_count": null,
   "id": "11e3be69-28b8-4003-8fd4-ef68e8ee2e22",
   "metadata": {},
   "outputs": [
    {
     "data": {
      "text/markdown": [
       "```html\n",
       "<div>\n",
       "  <div aria-valuenow=\"70\" role=\"progressbar\" class=\"radial-progress text-primary\" style=\"--value:70;\">70%</div>\n",
       "  <div aria-valuenow=\"70\" role=\"progressbar\" class=\"radial-progress bg-primary text-primary-content border-primary border-4\" style=\"--value:70;\">70%</div>\n",
       "</div>\n",
       "\n",
       "```"
      ],
      "text/plain": [
       "div((div(('70%',),{'aria-valuenow': '70', 'role': 'progressbar', 'class': 'radial-progress text-primary', 'style': '--value:70;'}), div(('70%',),{'aria-valuenow': '70', 'role': 'progressbar', 'class': 'radial-progress bg-primary text-primary-content border-primary border-4', 'style': '--value:70;'})),{})"
      ]
     },
     "execution_count": null,
     "metadata": {},
     "output_type": "execute_result"
    }
   ],
   "source": [
    "#|exports\n",
    "def test_radial_progress_colors_fasthtml_examples():\n",
    "    \"\"\"Test radial progress with custom colors from daisyUI v5 documentation.\"\"\"\n",
    "    from fasthtml.common import Div\n",
    "    from cjm_fasthtml_daisyui.core.utility_classes import text_dui, bg_dui, border_dui\n",
    "    from cjm_fasthtml_tailwind.utilities.borders import border\n",
    "    \n",
    "    # Custom color\n",
    "    custom_color = Div(\n",
    "        \"70%\",\n",
    "        cls=combine_classes(radial_progress, text_dui.primary),\n",
    "        style=\"--value:70;\",\n",
    "        aria_valuenow=\"70\",\n",
    "        role=\"progressbar\"\n",
    "    )\n",
    "    assert \"radial-progress\" in custom_color.attrs['class']\n",
    "    assert \"text-primary\" in custom_color.attrs['class']\n",
    "    assert custom_color.attrs['style'] == \"--value:70;\"\n",
    "    assert custom_color.attrs['aria-valuenow'] == \"70\"\n",
    "    assert custom_color.children[0] == \"70%\"\n",
    "    \n",
    "    # With background color and border\n",
    "    with_bg_border = Div(\n",
    "        \"70%\",\n",
    "        cls=combine_classes(\n",
    "            radial_progress,\n",
    "            bg_dui.primary,\n",
    "            text_dui.primary_content,\n",
    "            border_dui.primary,\n",
    "            border._4\n",
    "        ),\n",
    "        style=\"--value:70;\",\n",
    "        aria_valuenow=\"70\",\n",
    "        role=\"progressbar\"\n",
    "    )\n",
    "    assert \"radial-progress\" in with_bg_border.attrs['class']\n",
    "    assert \"bg-primary\" in with_bg_border.attrs['class']\n",
    "    assert \"text-primary-content\" in with_bg_border.attrs['class']\n",
    "    assert \"border-primary\" in with_bg_border.attrs['class']\n",
    "    assert \"border-4\" in with_bg_border.attrs['class']\n",
    "    assert with_bg_border.attrs['style'] == \"--value:70;\"\n",
    "    assert with_bg_border.attrs['aria-valuenow'] == \"70\"\n",
    "    assert with_bg_border.children[0] == \"70%\"\n",
    "    \n",
    "    # Return all elements in a Div\n",
    "    return Div(\n",
    "        custom_color,\n",
    "        with_bg_border\n",
    "    )\n",
    "\n",
    "# Run the tests\n",
    "test_radial_progress_colors_fasthtml_examples()"
   ]
  },
  {
   "cell_type": "code",
   "execution_count": null,
   "id": "de45cef0-cf2d-44e7-a6c4-4d75daad0153",
   "metadata": {},
   "outputs": [],
   "source": []
  },
  {
   "cell_type": "code",
   "execution_count": null,
   "id": "wlv5mnp5ya",
   "metadata": {},
   "outputs": [
    {
     "data": {
      "text/html": [
       "\n",
       "<script>\n",
       "document.body.addEventListener('htmx:configRequest', (event) => {\n",
       "    if(event.detail.path.includes('://')) return;\n",
       "    htmx.config.selfRequestsOnly=false;\n",
       "    event.detail.path = `${location.protocol}//${location.hostname}:8000${event.detail.path}`;\n",
       "});\n",
       "</script>"
      ],
      "text/plain": [
       "<IPython.core.display.HTML object>"
      ]
     },
     "metadata": {},
     "output_type": "display_data"
    },
    {
     "data": {
      "text/html": [
       "<iframe src=\"http://localhost:8000/\" style=\"width: 100%; height: auto; border: none;\" onload=\"{\n",
       "        let frame = this;\n",
       "        window.addEventListener('message', function(e) {\n",
       "            if (e.source !== frame.contentWindow) return; // Only proceed if the message is from this iframe\n",
       "            if (e.data.height) frame.style.height = (e.data.height+1) + 'px';\n",
       "        }, false);\n",
       "    }\" allow=\"accelerometer; autoplay; camera; clipboard-read; clipboard-write; display-capture; encrypted-media; fullscreen; gamepad; geolocation; gyroscope; hid; identity-credentials-get; idle-detection; magnetometer; microphone; midi; payment; picture-in-picture; publickey-credentials-get; screen-wake-lock; serial; usb; web-share; xr-spatial-tracking\"></iframe> "
      ],
      "text/plain": [
       "<IPython.core.display.HTML object>"
      ]
     },
     "metadata": {},
     "output_type": "display_data"
    }
   ],
   "source": [
    "#| eval: false\n",
    "#| output: false\n",
    "test_func = test_radial_progress_colors_fasthtml_examples\n",
    "app, rt = create_test_app(theme=DaisyUITheme.LIGHT)\n",
    "\n",
    "@rt\n",
    "def index():\n",
    "    return create_test_page(test_func.__doc__.title().replace('.', ''), test_func())\n",
    "server = start_test_server(app)\n",
    "display(HTMX())\n",
    "server.stop()"
   ]
  },
  {
   "cell_type": "code",
   "execution_count": null,
   "id": "3035ff66-e4e7-410c-8b1e-86a879f66112",
   "metadata": {},
   "outputs": [
    {
     "data": {
      "text/markdown": [
       "```html\n",
       "<div>\n",
       "  <div aria-valuenow=\"70\" role=\"progressbar\" class=\"radial-progress\" style=\"--value:70; --size:12rem; --thickness: 2px;\">70%</div>\n",
       "  <div aria-valuenow=\"70\" role=\"progressbar\" class=\"radial-progress\" style=\"--value:70; --size:12rem; --thickness: 2rem;\">70%</div>\n",
       "</div>\n",
       "\n",
       "```"
      ],
      "text/plain": [
       "div((div(('70%',),{'aria-valuenow': '70', 'role': 'progressbar', 'class': 'radial-progress', 'style': '--value:70; --size:12rem; --thickness: 2px;'}), div(('70%',),{'aria-valuenow': '70', 'role': 'progressbar', 'class': 'radial-progress', 'style': '--value:70; --size:12rem; --thickness: 2rem;'})),{})"
      ]
     },
     "execution_count": null,
     "metadata": {},
     "output_type": "execute_result"
    }
   ],
   "source": [
    "#|exports\n",
    "def test_radial_progress_custom_size_fasthtml_examples():\n",
    "    \"\"\"Test radial progress with custom size and thickness from daisyUI v5 documentation.\"\"\"\n",
    "    from fasthtml.common import Div\n",
    "    \n",
    "    # Custom size and thin thickness\n",
    "    custom_thin = Div(\n",
    "        \"70%\",\n",
    "        cls=str(radial_progress),\n",
    "        style=\"--value:70; --size:12rem; --thickness: 2px;\",\n",
    "        aria_valuenow=\"70\",\n",
    "        role=\"progressbar\"\n",
    "    )\n",
    "    assert custom_thin.attrs['class'] == \"radial-progress\"\n",
    "    assert custom_thin.attrs['style'] == \"--value:70; --size:12rem; --thickness: 2px;\"\n",
    "    assert custom_thin.attrs['aria-valuenow'] == \"70\"\n",
    "    assert custom_thin.attrs['role'] == \"progressbar\"\n",
    "    assert custom_thin.children[0] == \"70%\"\n",
    "    \n",
    "    # Custom size and thick thickness\n",
    "    custom_thick = Div(\n",
    "        \"70%\",\n",
    "        cls=str(radial_progress),\n",
    "        style=\"--value:70; --size:12rem; --thickness: 2rem;\",\n",
    "        aria_valuenow=\"70\",\n",
    "        role=\"progressbar\"\n",
    "    )\n",
    "    assert custom_thick.attrs['class'] == \"radial-progress\"\n",
    "    assert custom_thick.attrs['style'] == \"--value:70; --size:12rem; --thickness: 2rem;\"\n",
    "    assert custom_thick.attrs['aria-valuenow'] == \"70\"\n",
    "    assert custom_thick.attrs['role'] == \"progressbar\"\n",
    "    assert custom_thick.children[0] == \"70%\"\n",
    "    \n",
    "    # Return all elements in a Div\n",
    "    return Div(\n",
    "        custom_thin,\n",
    "        custom_thick\n",
    "    )\n",
    "\n",
    "# Run the tests\n",
    "test_radial_progress_custom_size_fasthtml_examples()"
   ]
  },
  {
   "cell_type": "code",
   "execution_count": null,
   "id": "4666a5a3-26bb-4d91-b5be-f941df8f9d2f",
   "metadata": {},
   "outputs": [],
   "source": []
  },
  {
   "cell_type": "code",
   "execution_count": null,
   "id": "xjj7nmjlj9",
   "metadata": {},
   "outputs": [
    {
     "data": {
      "text/html": [
       "\n",
       "<script>\n",
       "document.body.addEventListener('htmx:configRequest', (event) => {\n",
       "    if(event.detail.path.includes('://')) return;\n",
       "    htmx.config.selfRequestsOnly=false;\n",
       "    event.detail.path = `${location.protocol}//${location.hostname}:8000${event.detail.path}`;\n",
       "});\n",
       "</script>"
      ],
      "text/plain": [
       "<IPython.core.display.HTML object>"
      ]
     },
     "metadata": {},
     "output_type": "display_data"
    },
    {
     "data": {
      "text/html": [
       "<iframe src=\"http://localhost:8000/\" style=\"width: 100%; height: auto; border: none;\" onload=\"{\n",
       "        let frame = this;\n",
       "        window.addEventListener('message', function(e) {\n",
       "            if (e.source !== frame.contentWindow) return; // Only proceed if the message is from this iframe\n",
       "            if (e.data.height) frame.style.height = (e.data.height+1) + 'px';\n",
       "        }, false);\n",
       "    }\" allow=\"accelerometer; autoplay; camera; clipboard-read; clipboard-write; display-capture; encrypted-media; fullscreen; gamepad; geolocation; gyroscope; hid; identity-credentials-get; idle-detection; magnetometer; microphone; midi; payment; picture-in-picture; publickey-credentials-get; screen-wake-lock; serial; usb; web-share; xr-spatial-tracking\"></iframe> "
      ],
      "text/plain": [
       "<IPython.core.display.HTML object>"
      ]
     },
     "metadata": {},
     "output_type": "display_data"
    }
   ],
   "source": [
    "#| eval: false\n",
    "#| output: false\n",
    "test_func = test_radial_progress_custom_size_fasthtml_examples\n",
    "app, rt = create_test_app(theme=DaisyUITheme.LIGHT)\n",
    "\n",
    "@rt\n",
    "def index():\n",
    "    return create_test_page(test_func.__doc__.title().replace('.', ''), test_func())\n",
    "server = start_test_server(app)\n",
    "display(HTMX())\n",
    "server.stop()"
   ]
  },
  {
   "cell_type": "code",
   "execution_count": null,
   "id": "85d72161-e718-4c66-bc59-a3569b7f7616",
   "metadata": {},
   "outputs": [],
   "source": []
  },
  {
   "cell_type": "code",
   "execution_count": null,
   "id": "214654cc-9758-48f9-92e2-0892029c4512",
   "metadata": {},
   "outputs": [],
   "source": []
  },
  {
   "cell_type": "code",
   "execution_count": null,
   "id": "a9d78aa3-0be8-49e6-8bfb-cb9a232ee1ee",
   "metadata": {},
   "outputs": [],
   "source": []
  },
  {
   "cell_type": "code",
   "execution_count": null,
   "id": "01785a18-9bb0-4dbc-9eae-04addf6dede9",
   "metadata": {},
   "outputs": [],
   "source": []
  },
  {
   "cell_type": "code",
   "execution_count": null,
   "id": "43a3d5aa-4f07-48f4-b7c3-5c63612f0fb2",
   "metadata": {},
   "outputs": [],
   "source": []
  },
  {
   "cell_type": "code",
   "execution_count": null,
   "id": "248adc40-6e77-4203-9830-de838e25a00a",
   "metadata": {},
   "outputs": [],
   "source": []
  },
  {
   "cell_type": "code",
   "execution_count": null,
   "id": "a2029d6d-bf22-4e16-87e1-d609762dc867",
   "metadata": {},
   "outputs": [],
   "source": []
  },
  {
   "cell_type": "code",
   "execution_count": null,
   "id": "c9dfaad9-504c-4853-886b-2d1adb1cc3a0",
   "metadata": {},
   "outputs": [],
   "source": []
  },
  {
   "cell_type": "code",
   "execution_count": null,
   "id": "454d5b84-fc57-44ab-a6f0-3123333998cb",
   "metadata": {},
   "outputs": [],
   "source": []
  },
  {
   "cell_type": "code",
   "execution_count": null,
   "id": "d471d21b-6fe5-4c63-90be-5176c4cbd08b",
   "metadata": {},
   "outputs": [],
   "source": []
  },
  {
   "cell_type": "code",
   "execution_count": null,
   "id": "73b88b7e-0be6-4a82-9c02-f3df8af20015",
   "metadata": {},
   "outputs": [],
   "source": []
  },
  {
   "cell_type": "code",
   "execution_count": null,
   "id": "7ab8257a-c30b-45b6-a784-729b67686791",
   "metadata": {},
   "outputs": [],
   "source": [
    "#| hide\n",
    "import nbdev; nbdev.nbdev_export()"
   ]
  }
 ],
 "metadata": {
  "kernelspec": {
   "display_name": "python3",
   "language": "python",
   "name": "python3"
  }
 },
 "nbformat": 4,
 "nbformat_minor": 5
}
