{
 "cells": [
  {
   "cell_type": "markdown",
   "id": "7c51b46b-ece1-456d-8e84-7de122e72b62",
   "metadata": {},
   "source": [
    "# alert\n",
    "\n",
    "> Alert informs users about important events."
   ]
  },
  {
   "cell_type": "code",
   "execution_count": null,
   "id": "25536bdc-e099-477f-9e2d-a5f71df5dff2",
   "metadata": {},
   "outputs": [],
   "source": [
    "#| default_exp components.feedback.alert"
   ]
  },
  {
   "cell_type": "code",
   "execution_count": null,
   "id": "2e6f21ce-7766-455a-8ebb-df2c17e7d977",
   "metadata": {},
   "outputs": [],
   "source": [
    "#| hide\n",
    "from nbdev.showdoc import *"
   ]
  },
  {
   "cell_type": "code",
   "execution_count": null,
   "id": "045c6538-403e-4222-b3bb-db20f188524d",
   "metadata": {},
   "outputs": [],
   "source": [
    "#| export\n",
    "\n",
    "from cjm_fasthtml_tailwind.core.base import (\n",
    "    SingleValueFactory, combine_classes\n",
    ")\n",
    "from cjm_fasthtml_tailwind.builders.scales import SimpleFactory, enums_to_simple_factory\n",
    "\n",
    "from cjm_fasthtml_daisyui.builders.colors import SemanticColorStatus\n",
    "from cjm_fasthtml_daisyui.builders.styles import OutlineStyle, DashStyle, SoftStyle\n",
    "\n",
    "from fasthtml.common import Div\n",
    "from fasthtml.jupyter import JupyUvi, HTMX\n",
    "from cjm_fasthtml_daisyui.core.testing import create_test_app, create_test_page, start_test_server\n",
    "from cjm_fasthtml_daisyui.core.themes import DaisyUITheme\n",
    "from IPython.display import display"
   ]
  },
  {
   "cell_type": "markdown",
   "id": "8aa5179f-ac97-4bd6-bfd4-76e7b9c9e8ec",
   "metadata": {},
   "source": [
    "### Base Alert"
   ]
  },
  {
   "cell_type": "code",
   "execution_count": null,
   "id": "c802d106-49fb-4d34-ba04-5f54c88e165b",
   "metadata": {},
   "outputs": [],
   "source": [
    "#| exports\n",
    "alert = SingleValueFactory(\"alert\", \"Base alert container\") # Base alert component"
   ]
  },
  {
   "cell_type": "markdown",
   "id": "6d7fb75a-d852-4ab0-b0a1-47a45fc9bd6c",
   "metadata": {},
   "source": [
    "### Alert Styles"
   ]
  },
  {
   "cell_type": "code",
   "execution_count": null,
   "id": "636c6bcd-2176-4191-aa39-c937893243e2",
   "metadata": {},
   "outputs": [],
   "source": [
    "#| exports\n",
    "alert_styles = enums_to_simple_factory(alert, [OutlineStyle, DashStyle, SoftStyle]) # Alert style variants"
   ]
  },
  {
   "cell_type": "markdown",
   "id": "2f496ee7-4902-4980-9190-252f75aee506",
   "metadata": {},
   "source": [
    "### Alert Colors"
   ]
  },
  {
   "cell_type": "code",
   "execution_count": null,
   "id": "3035ff66-e4e7-410c-8b1e-86a879f66112",
   "metadata": {},
   "outputs": [],
   "source": [
    "#| exports\n",
    "alert_colors = enums_to_simple_factory(alert, [SemanticColorStatus], \"Alert color variants using daisyUI semantic colors\") # Alert color variants"
   ]
  },
  {
   "cell_type": "markdown",
   "id": "2cf438d0-984c-4857-a42b-063b1e8c1b17",
   "metadata": {},
   "source": [
    "### Alert Directions"
   ]
  },
  {
   "cell_type": "code",
   "execution_count": null,
   "id": "85d72161-e718-4c66-bc59-a3569b7f7616",
   "metadata": {},
   "outputs": [],
   "source": [
    "#| exports\n",
    "alert_directions = SimpleFactory(\n",
    "    {\n",
    "        \"vertical\": \"alert-vertical\",\n",
    "        \"horizontal\": \"alert-horizontal\",\n",
    "    },\n",
    "    \"alert directions (vertical, horizontal)\"\n",
    ") # alert directions"
   ]
  },
  {
   "cell_type": "markdown",
   "id": "5e2cb68a-00ab-4497-990a-f54d64618146",
   "metadata": {},
   "source": [
    "### Alert Test Examples"
   ]
  },
  {
   "cell_type": "code",
   "execution_count": null,
   "id": "a9d78aa3-0be8-49e6-8bfb-cb9a232ee1ee",
   "metadata": {},
   "outputs": [],
   "source": [
    "#|exports\n",
    "def test_alert_basic_examples():\n",
    "    \"\"\"Test basic alert utilities.\"\"\"\n",
    "    # Basic alert\n",
    "    assert str(alert) == \"alert\"\n",
    "    \n",
    "    # Button with modifiers\n",
    "    assert str(alert.hover) == \"hover:alert\"\n",
    "    assert str(alert.md) == \"md:alert\"\n",
    "    assert str(alert.dark) == \"dark:alert\"\n",
    "\n",
    "# Run the tests\n",
    "test_alert_basic_examples()"
   ]
  },
  {
   "cell_type": "code",
   "execution_count": null,
   "id": "01785a18-9bb0-4dbc-9eae-04addf6dede9",
   "metadata": {},
   "outputs": [],
   "source": [
    "#|exports\n",
    "def test_alert_styles_examples():\n",
    "    \"\"\"Test alert style variants.\"\"\"\n",
    "    assert str(alert_styles.outline) == \"alert-outline\"\n",
    "    assert str(alert_styles.dash) == \"alert-dash\"\n",
    "    assert str(alert_styles.soft) == \"alert-soft\"\n",
    "\n",
    "# Run the tests\n",
    "test_alert_styles_examples()"
   ]
  },
  {
   "cell_type": "code",
   "execution_count": null,
   "id": "43a3d5aa-4f07-48f4-b7c3-5c63612f0fb2",
   "metadata": {},
   "outputs": [],
   "source": [
    "#|exports\n",
    "def test_alert_colors_examples():\n",
    "    \"\"\"Test alert color variants.\"\"\"\n",
    "    # All color variants\n",
    "    assert str(alert_colors.info) == \"alert-info\"\n",
    "    assert str(alert_colors.success) == \"alert-success\"\n",
    "    assert str(alert_colors.warning) == \"alert-warning\"\n",
    "    assert str(alert_colors.error) == \"alert-error\"\n",
    "    \n",
    "    # With modifiers\n",
    "    assert str(alert_colors.info.hover) == \"hover:alert-info\"\n",
    "    assert str(alert_colors.success.focus) == \"focus:alert-success\"\n",
    "\n",
    "# Run the tests\n",
    "test_alert_colors_examples()"
   ]
  },
  {
   "cell_type": "code",
   "execution_count": null,
   "id": "248adc40-6e77-4203-9830-de838e25a00a",
   "metadata": {},
   "outputs": [],
   "source": [
    "#|exports\n",
    "def test_alert_directions_examples():\n",
    "    \"\"\"Test alert direction utilities.\"\"\"\n",
    "    assert str(alert_directions.vertical) == \"alert-vertical\"\n",
    "    assert str(alert_directions.horizontal) == \"alert-horizontal\"\n",
    "\n",
    "# Run the tests\n",
    "test_alert_directions_examples()"
   ]
  },
  {
   "cell_type": "code",
   "execution_count": null,
   "id": "ffafd18e-e202-457f-b92b-526f1fb5bcae",
   "metadata": {},
   "outputs": [
    {
     "data": {
      "text/markdown": [
       "```html\n",
       "<div role=\"alert\" class=\"alert\">\n",
       "<svg xmlns=\"http://www.w3.org/2000/svg\" viewbox=\"0 0 24 24\" fill=\"none\" class=\"stroke-info h-6 w-6 shrink-0\"><path d=\"M13 16h-1v-4h-1m1-4h.01M21 12a9 9 0 11-18 0 9 9 0 0118 0z\" stroke-width=\"2\" stroke-linecap=\"round\" stroke-linejoin=\"round\"></path></svg><span>12 unread messages. Tap to see.</span></div>\n",
       "\n",
       "```"
      ],
      "text/plain": [
       "div((svg((path((),{'d': 'M13 16h-1v-4h-1m1-4h.01M21 12a9 9 0 11-18 0 9 9 0 0118 0z', 'stroke-width': '2', 'stroke-linecap': 'round', 'stroke-linejoin': 'round'}),),{'xmlns': 'http://www.w3.org/2000/svg', 'viewbox': '0 0 24 24', 'fill': 'none', 'class': 'stroke-info h-6 w-6 shrink-0'}), span(('12 unread messages. Tap to see.',),{})),{'role': 'alert', 'class': 'alert'})"
      ]
     },
     "execution_count": null,
     "metadata": {},
     "output_type": "execute_result"
    }
   ],
   "source": [
    "#|exports\n",
    "def test_alert_basic_fasthtml_examples():\n",
    "    \"\"\"Test basic alert example from daisyUI v5 documentation.\"\"\"\n",
    "    from fasthtml.common import Div, Span\n",
    "    from fasthtml.svg import Svg, Path\n",
    "    from cjm_fasthtml_tailwind.utilities.sizing import h, w\n",
    "    from cjm_fasthtml_tailwind.utilities.flexbox_and_grid import shrink\n",
    "    from cjm_fasthtml_daisyui.core.utility_classes import stroke_dui\n",
    "    \n",
    "    # Basic alert\n",
    "    basic_alert = Div(\n",
    "        Svg(\n",
    "            Path(\n",
    "                stroke_linecap=\"round\",\n",
    "                stroke_linejoin=\"round\",\n",
    "                stroke_width=\"2\",\n",
    "                d=\"M13 16h-1v-4h-1m1-4h.01M21 12a9 9 0 11-18 0 9 9 0 0118 0z\"\n",
    "            ),\n",
    "            xmlns=\"http://www.w3.org/2000/svg\",\n",
    "            fill=\"none\",\n",
    "            viewBox=\"0 0 24 24\",\n",
    "            cls=combine_classes(stroke_dui.info, h._6, w._6, shrink._0)\n",
    "        ),\n",
    "        Span(\"12 unread messages. Tap to see.\"),\n",
    "        role=\"alert\",\n",
    "        cls=str(alert)\n",
    "    )\n",
    "    \n",
    "    # Verify structure\n",
    "    assert basic_alert.tag == \"div\"\n",
    "    assert basic_alert.attrs['role'] == \"alert\"\n",
    "    assert basic_alert.attrs['class'] == \"alert\"\n",
    "    \n",
    "    # Verify SVG icon\n",
    "    svg_element = basic_alert.children[0]\n",
    "    assert svg_element.tag == \"svg\"\n",
    "    assert \"stroke-info\" in svg_element.attrs['class']\n",
    "    assert \"h-6\" in svg_element.attrs['class']\n",
    "    assert \"w-6\" in svg_element.attrs['class']\n",
    "    assert \"shrink-0\" in svg_element.attrs['class']\n",
    "    \n",
    "    # Verify text span\n",
    "    span_element = basic_alert.children[1]\n",
    "    assert span_element.tag == \"span\"\n",
    "    assert span_element.children[0] == \"12 unread messages. Tap to see.\"\n",
    "    \n",
    "    return basic_alert\n",
    "\n",
    "# Run the tests\n",
    "test_alert_basic_fasthtml_examples()"
   ]
  },
  {
   "cell_type": "code",
   "execution_count": null,
   "id": "c8290626-b8d2-4214-805a-d0c148e1c886",
   "metadata": {},
   "outputs": [],
   "source": []
  },
  {
   "cell_type": "code",
   "execution_count": null,
   "id": "nlh5i51138h",
   "metadata": {},
   "outputs": [
    {
     "data": {
      "text/html": [
       "\n",
       "<script>\n",
       "document.body.addEventListener('htmx:configRequest', (event) => {\n",
       "    if(event.detail.path.includes('://')) return;\n",
       "    htmx.config.selfRequestsOnly=false;\n",
       "    event.detail.path = `${location.protocol}//${location.hostname}:8000${event.detail.path}`;\n",
       "});\n",
       "</script>"
      ],
      "text/plain": [
       "<IPython.core.display.HTML object>"
      ]
     },
     "metadata": {},
     "output_type": "display_data"
    },
    {
     "data": {
      "text/html": [
       "<iframe src=\"http://localhost:8000/\" style=\"width: 100%; height: auto; border: none;\" onload=\"{\n",
       "        let frame = this;\n",
       "        window.addEventListener('message', function(e) {\n",
       "            if (e.source !== frame.contentWindow) return; // Only proceed if the message is from this iframe\n",
       "            if (e.data.height) frame.style.height = (e.data.height+1) + 'px';\n",
       "        }, false);\n",
       "    }\" allow=\"accelerometer; autoplay; camera; clipboard-read; clipboard-write; display-capture; encrypted-media; fullscreen; gamepad; geolocation; gyroscope; hid; identity-credentials-get; idle-detection; magnetometer; microphone; midi; payment; picture-in-picture; publickey-credentials-get; screen-wake-lock; serial; usb; web-share; xr-spatial-tracking\"></iframe> "
      ],
      "text/plain": [
       "<IPython.core.display.HTML object>"
      ]
     },
     "metadata": {},
     "output_type": "display_data"
    }
   ],
   "source": [
    "#| eval: false\n",
    "#| output: false\n",
    "test_func = test_alert_basic_fasthtml_examples\n",
    "app, rt = create_test_app(theme=DaisyUITheme.LIGHT)\n",
    "\n",
    "@rt\n",
    "def index():\n",
    "    return create_test_page(test_func.__doc__.title().replace('.', ''), test_func())\n",
    "server = start_test_server(app)\n",
    "display(HTMX())\n",
    "server.stop()"
   ]
  },
  {
   "cell_type": "code",
   "execution_count": null,
   "id": "f6734c93-1112-40fc-bd12-6e2491272969",
   "metadata": {},
   "outputs": [
    {
     "data": {
      "text/markdown": [
       "```html\n",
       "<div>\n",
       "  <div role=\"alert\" class=\"alert alert-info\">\n",
       "<svg xmlns=\"http://www.w3.org/2000/svg\" viewbox=\"0 0 24 24\" fill=\"none\" class=\"h-6 w-6 shrink-0 stroke-current\"><path d=\"M13 16h-1v-4h-1m1-4h.01M21 12a9 9 0 11-18 0 9 9 0 0118 0z\" stroke-width=\"2\" stroke-linecap=\"round\" stroke-linejoin=\"round\"></path></svg><span>New software update available.</span>  </div>\n",
       "  <div role=\"alert\" class=\"alert alert-success\">\n",
       "<svg xmlns=\"http://www.w3.org/2000/svg\" viewbox=\"0 0 24 24\" fill=\"none\" class=\"h-6 w-6 shrink-0 stroke-current\"><path d=\"M9 12l2 2 4-4m6 2a9 9 0 11-18 0 9 9 0 0118 0z\" stroke-width=\"2\" stroke-linecap=\"round\" stroke-linejoin=\"round\"></path></svg><span>Your purchase has been confirmed!</span>  </div>\n",
       "  <div role=\"alert\" class=\"alert alert-warning\">\n",
       "<svg xmlns=\"http://www.w3.org/2000/svg\" viewbox=\"0 0 24 24\" fill=\"none\" class=\"h-6 w-6 shrink-0 stroke-current\"><path d=\"M12 9v2m0 4h.01m-6.938 4h13.856c1.54 0 2.502-1.667 1.732-3L13.732 4c-.77-1.333-2.694-1.333-3.464 0L3.34 16c-.77 1.333.192 3 1.732 3z\" stroke-width=\"2\" stroke-linecap=\"round\" stroke-linejoin=\"round\"></path></svg><span>Warning: Invalid email address!</span>  </div>\n",
       "  <div role=\"alert\" class=\"alert alert-error\">\n",
       "<svg xmlns=\"http://www.w3.org/2000/svg\" viewbox=\"0 0 24 24\" fill=\"none\" class=\"h-6 w-6 shrink-0 stroke-current\"><path d=\"M10 14l2-2m0 0l2-2m-2 2l-2-2m2 2l2 2m7-2a9 9 0 11-18 0 9 9 0 0118 0z\" stroke-width=\"2\" stroke-linecap=\"round\" stroke-linejoin=\"round\"></path></svg><span>Error! Task failed successfully.</span>  </div>\n",
       "</div>\n",
       "\n",
       "```"
      ],
      "text/plain": [
       "div((div((svg((path((),{'d': 'M13 16h-1v-4h-1m1-4h.01M21 12a9 9 0 11-18 0 9 9 0 0118 0z', 'stroke-width': '2', 'stroke-linecap': 'round', 'stroke-linejoin': 'round'}),),{'xmlns': 'http://www.w3.org/2000/svg', 'viewbox': '0 0 24 24', 'fill': 'none', 'class': 'h-6 w-6 shrink-0 stroke-current'}), span(('New software update available.',),{})),{'role': 'alert', 'class': 'alert alert-info'}), div((svg((path((),{'d': 'M9 12l2 2 4-4m6 2a9 9 0 11-18 0 9 9 0 0118 0z', 'stroke-width': '2', 'stroke-linecap': 'round', 'stroke-linejoin': 'round'}),),{'xmlns': 'http://www.w3.org/2000/svg', 'viewbox': '0 0 24 24', 'fill': 'none', 'class': 'h-6 w-6 shrink-0 stroke-current'}), span(('Your purchase has been confirmed!',),{})),{'role': 'alert', 'class': 'alert alert-success'}), div((svg((path((),{'d': 'M12 9v2m0 4h.01m-6.938 4h13.856c1.54 0 2.502-1.667 1.732-3L13.732 4c-.77-1.333-2.694-1.333-3.464 0L3.34 16c-.77 1.333.192 3 1.732 3z', 'stroke-width': '2', 'stroke-linecap': 'round', 'stroke-linejoin': 'round'}),),{'xmlns': 'http://www.w3.org/2000/svg', 'viewbox': '0 0 24 24', 'fill': 'none', 'class': 'h-6 w-6 shrink-0 stroke-current'}), span(('Warning: Invalid email address!',),{})),{'role': 'alert', 'class': 'alert alert-warning'}), div((svg((path((),{'d': 'M10 14l2-2m0 0l2-2m-2 2l-2-2m2 2l2 2m7-2a9 9 0 11-18 0 9 9 0 0118 0z', 'stroke-width': '2', 'stroke-linecap': 'round', 'stroke-linejoin': 'round'}),),{'xmlns': 'http://www.w3.org/2000/svg', 'viewbox': '0 0 24 24', 'fill': 'none', 'class': 'h-6 w-6 shrink-0 stroke-current'}), span(('Error! Task failed successfully.',),{})),{'role': 'alert', 'class': 'alert alert-error'})),{})"
      ]
     },
     "execution_count": null,
     "metadata": {},
     "output_type": "execute_result"
    }
   ],
   "source": [
    "#|exports\n",
    "def test_alert_colors_fasthtml_examples():\n",
    "    \"\"\"Test alert color variations from daisyUI v5 documentation.\"\"\"\n",
    "    from fasthtml.common import Div, Span\n",
    "    from fasthtml.svg import Svg, Path\n",
    "    from cjm_fasthtml_tailwind.utilities.sizing import h, w\n",
    "    from cjm_fasthtml_tailwind.utilities.flexbox_and_grid import shrink\n",
    "    from cjm_fasthtml_tailwind.utilities.svg import stroke\n",
    "    \n",
    "    # Create reusable icons\n",
    "    info_icon = Svg(\n",
    "        Path(\n",
    "            stroke_linecap=\"round\",\n",
    "            stroke_linejoin=\"round\",\n",
    "            stroke_width=\"2\",\n",
    "            d=\"M13 16h-1v-4h-1m1-4h.01M21 12a9 9 0 11-18 0 9 9 0 0118 0z\"\n",
    "        ),\n",
    "        xmlns=\"http://www.w3.org/2000/svg\",\n",
    "        fill=\"none\",\n",
    "        viewBox=\"0 0 24 24\",\n",
    "        cls=combine_classes(h._6, w._6, shrink._0, stroke.current)\n",
    "    )\n",
    "    \n",
    "    success_icon = Svg(\n",
    "        Path(\n",
    "            stroke_linecap=\"round\",\n",
    "            stroke_linejoin=\"round\",\n",
    "            stroke_width=\"2\",\n",
    "            d=\"M9 12l2 2 4-4m6 2a9 9 0 11-18 0 9 9 0 0118 0z\"\n",
    "        ),\n",
    "        xmlns=\"http://www.w3.org/2000/svg\",\n",
    "        fill=\"none\",\n",
    "        viewBox=\"0 0 24 24\",\n",
    "        cls=combine_classes(h._6, w._6, shrink._0, stroke.current)\n",
    "    )\n",
    "    \n",
    "    warning_icon = Svg(\n",
    "        Path(\n",
    "            stroke_linecap=\"round\",\n",
    "            stroke_linejoin=\"round\",\n",
    "            stroke_width=\"2\",\n",
    "            d=\"M12 9v2m0 4h.01m-6.938 4h13.856c1.54 0 2.502-1.667 1.732-3L13.732 4c-.77-1.333-2.694-1.333-3.464 0L3.34 16c-.77 1.333.192 3 1.732 3z\"\n",
    "        ),\n",
    "        xmlns=\"http://www.w3.org/2000/svg\",\n",
    "        fill=\"none\",\n",
    "        viewBox=\"0 0 24 24\",\n",
    "        cls=combine_classes(h._6, w._6, shrink._0, stroke.current)\n",
    "    )\n",
    "    \n",
    "    error_icon = Svg(\n",
    "        Path(\n",
    "            stroke_linecap=\"round\",\n",
    "            stroke_linejoin=\"round\",\n",
    "            stroke_width=\"2\",\n",
    "            d=\"M10 14l2-2m0 0l2-2m-2 2l-2-2m2 2l2 2m7-2a9 9 0 11-18 0 9 9 0 0118 0z\"\n",
    "        ),\n",
    "        xmlns=\"http://www.w3.org/2000/svg\",\n",
    "        fill=\"none\",\n",
    "        viewBox=\"0 0 24 24\",\n",
    "        cls=combine_classes(h._6, w._6, shrink._0, stroke.current)\n",
    "    )\n",
    "    \n",
    "    # Info alert\n",
    "    info_alert = Div(\n",
    "        info_icon,\n",
    "        Span(\"New software update available.\"),\n",
    "        role=\"alert\",\n",
    "        cls=combine_classes(alert, alert_colors.info)\n",
    "    )\n",
    "    assert info_alert.attrs['role'] == \"alert\"\n",
    "    assert \"alert\" in info_alert.attrs['class']\n",
    "    assert \"alert-info\" in info_alert.attrs['class']\n",
    "    assert info_alert.children[1].children[0] == \"New software update available.\"\n",
    "    \n",
    "    # Success alert\n",
    "    success_alert = Div(\n",
    "        success_icon,\n",
    "        Span(\"Your purchase has been confirmed!\"),\n",
    "        role=\"alert\",\n",
    "        cls=combine_classes(alert, alert_colors.success)\n",
    "    )\n",
    "    assert \"alert\" in success_alert.attrs['class']\n",
    "    assert \"alert-success\" in success_alert.attrs['class']\n",
    "    assert success_alert.children[1].children[0] == \"Your purchase has been confirmed!\"\n",
    "    \n",
    "    # Warning alert\n",
    "    warning_alert = Div(\n",
    "        warning_icon,\n",
    "        Span(\"Warning: Invalid email address!\"),\n",
    "        role=\"alert\",\n",
    "        cls=combine_classes(alert, alert_colors.warning)\n",
    "    )\n",
    "    assert \"alert\" in warning_alert.attrs['class']\n",
    "    assert \"alert-warning\" in warning_alert.attrs['class']\n",
    "    assert warning_alert.children[1].children[0] == \"Warning: Invalid email address!\"\n",
    "    \n",
    "    # Error alert\n",
    "    error_alert = Div(\n",
    "        error_icon,\n",
    "        Span(\"Error! Task failed successfully.\"),\n",
    "        role=\"alert\",\n",
    "        cls=combine_classes(alert, alert_colors.error)\n",
    "    )\n",
    "    assert \"alert\" in error_alert.attrs['class']\n",
    "    assert \"alert-error\" in error_alert.attrs['class']\n",
    "    assert error_alert.children[1].children[0] == \"Error! Task failed successfully.\"\n",
    "    \n",
    "    # Return all alerts in a Div\n",
    "    return Div(\n",
    "        info_alert,\n",
    "        success_alert,\n",
    "        warning_alert,\n",
    "        error_alert\n",
    "    )\n",
    "\n",
    "# Run the tests\n",
    "test_alert_colors_fasthtml_examples()"
   ]
  },
  {
   "cell_type": "code",
   "execution_count": null,
   "id": "4f1f0357-298e-4171-b397-947c6154821d",
   "metadata": {},
   "outputs": [],
   "source": []
  },
  {
   "cell_type": "code",
   "execution_count": null,
   "id": "zh10anpj86c",
   "metadata": {},
   "outputs": [
    {
     "data": {
      "text/html": [
       "\n",
       "<script>\n",
       "document.body.addEventListener('htmx:configRequest', (event) => {\n",
       "    if(event.detail.path.includes('://')) return;\n",
       "    htmx.config.selfRequestsOnly=false;\n",
       "    event.detail.path = `${location.protocol}//${location.hostname}:8000${event.detail.path}`;\n",
       "});\n",
       "</script>"
      ],
      "text/plain": [
       "<IPython.core.display.HTML object>"
      ]
     },
     "metadata": {},
     "output_type": "display_data"
    },
    {
     "data": {
      "text/html": [
       "<iframe src=\"http://localhost:8000/\" style=\"width: 100%; height: auto; border: none;\" onload=\"{\n",
       "        let frame = this;\n",
       "        window.addEventListener('message', function(e) {\n",
       "            if (e.source !== frame.contentWindow) return; // Only proceed if the message is from this iframe\n",
       "            if (e.data.height) frame.style.height = (e.data.height+1) + 'px';\n",
       "        }, false);\n",
       "    }\" allow=\"accelerometer; autoplay; camera; clipboard-read; clipboard-write; display-capture; encrypted-media; fullscreen; gamepad; geolocation; gyroscope; hid; identity-credentials-get; idle-detection; magnetometer; microphone; midi; payment; picture-in-picture; publickey-credentials-get; screen-wake-lock; serial; usb; web-share; xr-spatial-tracking\"></iframe> "
      ],
      "text/plain": [
       "<IPython.core.display.HTML object>"
      ]
     },
     "metadata": {},
     "output_type": "display_data"
    }
   ],
   "source": [
    "#| eval: false\n",
    "#| output: false\n",
    "test_func = test_alert_colors_fasthtml_examples\n",
    "app, rt = create_test_app(theme=DaisyUITheme.LIGHT)\n",
    "\n",
    "@rt\n",
    "def index():\n",
    "    return create_test_page(test_func.__doc__.title().replace('.', ''), test_func())\n",
    "server = start_test_server(app)\n",
    "display(HTMX())\n",
    "server.stop()"
   ]
  },
  {
   "cell_type": "code",
   "execution_count": null,
   "id": "e0413d63-0847-47a5-82c8-20311efb4764",
   "metadata": {},
   "outputs": [
    {
     "data": {
      "text/markdown": [
       "```html\n",
       "<div>\n",
       "  <div>\n",
       "    <div role=\"alert\" class=\"alert alert-info alert-soft\">\n",
       "<span>12 unread messages. Tap to see.</span>    </div>\n",
       "    <div role=\"alert\" class=\"alert alert-success alert-soft\">\n",
       "<span>Your purchase has been confirmed!</span>    </div>\n",
       "    <div role=\"alert\" class=\"alert alert-warning alert-soft\">\n",
       "<span>Warning: Invalid email address!</span>    </div>\n",
       "    <div role=\"alert\" class=\"alert alert-error alert-soft\">\n",
       "<span>Error! Task failed successfully.</span>    </div>\n",
       "  </div>\n",
       "  <div>\n",
       "    <div role=\"alert\" class=\"alert alert-info alert-outline\">\n",
       "<span>12 unread messages. Tap to see.</span>    </div>\n",
       "    <div role=\"alert\" class=\"alert alert-success alert-outline\">\n",
       "<span>Your purchase has been confirmed!</span>    </div>\n",
       "    <div role=\"alert\" class=\"alert alert-warning alert-outline\">\n",
       "<span>Warning: Invalid email address!</span>    </div>\n",
       "    <div role=\"alert\" class=\"alert alert-error alert-outline\">\n",
       "<span>Error! Task failed successfully.</span>    </div>\n",
       "  </div>\n",
       "  <div>\n",
       "    <div role=\"alert\" class=\"alert alert-info alert-dash\">\n",
       "<span>12 unread messages. Tap to see.</span>    </div>\n",
       "    <div role=\"alert\" class=\"alert alert-success alert-dash\">\n",
       "<span>Your purchase has been confirmed!</span>    </div>\n",
       "    <div role=\"alert\" class=\"alert alert-warning alert-dash\">\n",
       "<span>Warning: Invalid email address!</span>    </div>\n",
       "    <div role=\"alert\" class=\"alert alert-error alert-dash\">\n",
       "<span>Error! Task failed successfully.</span>    </div>\n",
       "  </div>\n",
       "</div>\n",
       "\n",
       "```"
      ],
      "text/plain": [
       "div((div((div((span(('12 unread messages. Tap to see.',),{}),),{'role': 'alert', 'class': 'alert alert-info alert-soft'}), div((span(('Your purchase has been confirmed!',),{}),),{'role': 'alert', 'class': 'alert alert-success alert-soft'}), div((span(('Warning: Invalid email address!',),{}),),{'role': 'alert', 'class': 'alert alert-warning alert-soft'}), div((span(('Error! Task failed successfully.',),{}),),{'role': 'alert', 'class': 'alert alert-error alert-soft'})),{}), div((div((span(('12 unread messages. Tap to see.',),{}),),{'role': 'alert', 'class': 'alert alert-info alert-outline'}), div((span(('Your purchase has been confirmed!',),{}),),{'role': 'alert', 'class': 'alert alert-success alert-outline'}), div((span(('Warning: Invalid email address!',),{}),),{'role': 'alert', 'class': 'alert alert-warning alert-outline'}), div((span(('Error! Task failed successfully.',),{}),),{'role': 'alert', 'class': 'alert alert-error alert-outline'})),{}), div((div((span(('12 unread messages. Tap to see.',),{}),),{'role': 'alert', 'class': 'alert alert-info alert-dash'}), div((span(('Your purchase has been confirmed!',),{}),),{'role': 'alert', 'class': 'alert alert-success alert-dash'}), div((span(('Warning: Invalid email address!',),{}),),{'role': 'alert', 'class': 'alert alert-warning alert-dash'}), div((span(('Error! Task failed successfully.',),{}),),{'role': 'alert', 'class': 'alert alert-error alert-dash'})),{})),{})"
      ]
     },
     "execution_count": null,
     "metadata": {},
     "output_type": "execute_result"
    }
   ],
   "source": [
    "#|exports\n",
    "def test_alert_styles_fasthtml_examples():\n",
    "    \"\"\"Test alert style variations (soft, outline, dash) from daisyUI v5 documentation.\"\"\"\n",
    "    from fasthtml.common import Div, Span\n",
    "    \n",
    "    # Alert soft style\n",
    "    soft_info = Div(\n",
    "        Span(\"12 unread messages. Tap to see.\"),\n",
    "        role=\"alert\",\n",
    "        cls=combine_classes(alert, alert_colors.info, alert_styles.soft)\n",
    "    )\n",
    "    assert \"alert\" in soft_info.attrs['class']\n",
    "    assert \"alert-info\" in soft_info.attrs['class']\n",
    "    assert \"alert-soft\" in soft_info.attrs['class']\n",
    "    \n",
    "    soft_success = Div(\n",
    "        Span(\"Your purchase has been confirmed!\"),\n",
    "        role=\"alert\",\n",
    "        cls=combine_classes(alert, alert_colors.success, alert_styles.soft)\n",
    "    )\n",
    "    assert \"alert-success\" in soft_success.attrs['class']\n",
    "    assert \"alert-soft\" in soft_success.attrs['class']\n",
    "    \n",
    "    soft_warning = Div(\n",
    "        Span(\"Warning: Invalid email address!\"),\n",
    "        role=\"alert\",\n",
    "        cls=combine_classes(alert, alert_colors.warning, alert_styles.soft)\n",
    "    )\n",
    "    assert \"alert-warning\" in soft_warning.attrs['class']\n",
    "    assert \"alert-soft\" in soft_warning.attrs['class']\n",
    "    \n",
    "    soft_error = Div(\n",
    "        Span(\"Error! Task failed successfully.\"),\n",
    "        role=\"alert\",\n",
    "        cls=combine_classes(alert, alert_colors.error, alert_styles.soft)\n",
    "    )\n",
    "    assert \"alert-error\" in soft_error.attrs['class']\n",
    "    assert \"alert-soft\" in soft_error.attrs['class']\n",
    "    \n",
    "    # Alert outline style\n",
    "    outline_info = Div(\n",
    "        Span(\"12 unread messages. Tap to see.\"),\n",
    "        role=\"alert\",\n",
    "        cls=combine_classes(alert, alert_colors.info, alert_styles.outline)\n",
    "    )\n",
    "    assert \"alert\" in outline_info.attrs['class']\n",
    "    assert \"alert-info\" in outline_info.attrs['class']\n",
    "    assert \"alert-outline\" in outline_info.attrs['class']\n",
    "    \n",
    "    outline_success = Div(\n",
    "        Span(\"Your purchase has been confirmed!\"),\n",
    "        role=\"alert\",\n",
    "        cls=combine_classes(alert, alert_colors.success, alert_styles.outline)\n",
    "    )\n",
    "    assert \"alert-success\" in outline_success.attrs['class']\n",
    "    assert \"alert-outline\" in outline_success.attrs['class']\n",
    "    \n",
    "    outline_warning = Div(\n",
    "        Span(\"Warning: Invalid email address!\"),\n",
    "        role=\"alert\",\n",
    "        cls=combine_classes(alert, alert_colors.warning, alert_styles.outline)\n",
    "    )\n",
    "    assert \"alert-warning\" in outline_warning.attrs['class']\n",
    "    assert \"alert-outline\" in outline_warning.attrs['class']\n",
    "    \n",
    "    outline_error = Div(\n",
    "        Span(\"Error! Task failed successfully.\"),\n",
    "        role=\"alert\",\n",
    "        cls=combine_classes(alert, alert_colors.error, alert_styles.outline)\n",
    "    )\n",
    "    assert \"alert-error\" in outline_error.attrs['class']\n",
    "    assert \"alert-outline\" in outline_error.attrs['class']\n",
    "    \n",
    "    # Alert dash style\n",
    "    dash_info = Div(\n",
    "        Span(\"12 unread messages. Tap to see.\"),\n",
    "        role=\"alert\",\n",
    "        cls=combine_classes(alert, alert_colors.info, alert_styles.dash)\n",
    "    )\n",
    "    assert \"alert\" in dash_info.attrs['class']\n",
    "    assert \"alert-info\" in dash_info.attrs['class']\n",
    "    assert \"alert-dash\" in dash_info.attrs['class']\n",
    "    \n",
    "    dash_success = Div(\n",
    "        Span(\"Your purchase has been confirmed!\"),\n",
    "        role=\"alert\",\n",
    "        cls=combine_classes(alert, alert_colors.success, alert_styles.dash)\n",
    "    )\n",
    "    assert \"alert-success\" in dash_success.attrs['class']\n",
    "    assert \"alert-dash\" in dash_success.attrs['class']\n",
    "    \n",
    "    dash_warning = Div(\n",
    "        Span(\"Warning: Invalid email address!\"),\n",
    "        role=\"alert\",\n",
    "        cls=combine_classes(alert, alert_colors.warning, alert_styles.dash)\n",
    "    )\n",
    "    assert \"alert-warning\" in dash_warning.attrs['class']\n",
    "    assert \"alert-dash\" in dash_warning.attrs['class']\n",
    "    \n",
    "    dash_error = Div(\n",
    "        Span(\"Error! Task failed successfully.\"),\n",
    "        role=\"alert\",\n",
    "        cls=combine_classes(alert, alert_colors.error, alert_styles.dash)\n",
    "    )\n",
    "    assert \"alert-error\" in dash_error.attrs['class']\n",
    "    assert \"alert-dash\" in dash_error.attrs['class']\n",
    "    \n",
    "    # Return all style variations in a Div\n",
    "    return Div(\n",
    "        # Soft style alerts\n",
    "        Div(soft_info, soft_success, soft_warning, soft_error),\n",
    "        # Outline style alerts\n",
    "        Div(outline_info, outline_success, outline_warning, outline_error),\n",
    "        # Dash style alerts\n",
    "        Div(dash_info, dash_success, dash_warning, dash_error)\n",
    "    )\n",
    "\n",
    "# Run the tests\n",
    "test_alert_styles_fasthtml_examples()"
   ]
  },
  {
   "cell_type": "code",
   "execution_count": null,
   "id": "901134b3-2b46-4946-8ed1-16a04f4bb779",
   "metadata": {},
   "outputs": [],
   "source": []
  },
  {
   "cell_type": "code",
   "execution_count": null,
   "id": "bxuhxpbsdaa",
   "metadata": {},
   "outputs": [
    {
     "data": {
      "text/html": [
       "\n",
       "<script>\n",
       "document.body.addEventListener('htmx:configRequest', (event) => {\n",
       "    if(event.detail.path.includes('://')) return;\n",
       "    htmx.config.selfRequestsOnly=false;\n",
       "    event.detail.path = `${location.protocol}//${location.hostname}:8000${event.detail.path}`;\n",
       "});\n",
       "</script>"
      ],
      "text/plain": [
       "<IPython.core.display.HTML object>"
      ]
     },
     "metadata": {},
     "output_type": "display_data"
    },
    {
     "data": {
      "text/html": [
       "<iframe src=\"http://localhost:8000/\" style=\"width: 100%; height: auto; border: none;\" onload=\"{\n",
       "        let frame = this;\n",
       "        window.addEventListener('message', function(e) {\n",
       "            if (e.source !== frame.contentWindow) return; // Only proceed if the message is from this iframe\n",
       "            if (e.data.height) frame.style.height = (e.data.height+1) + 'px';\n",
       "        }, false);\n",
       "    }\" allow=\"accelerometer; autoplay; camera; clipboard-read; clipboard-write; display-capture; encrypted-media; fullscreen; gamepad; geolocation; gyroscope; hid; identity-credentials-get; idle-detection; magnetometer; microphone; midi; payment; picture-in-picture; publickey-credentials-get; screen-wake-lock; serial; usb; web-share; xr-spatial-tracking\"></iframe> "
      ],
      "text/plain": [
       "<IPython.core.display.HTML object>"
      ]
     },
     "metadata": {},
     "output_type": "display_data"
    }
   ],
   "source": [
    "#| eval: false\n",
    "#| output: false\n",
    "test_func = test_alert_styles_fasthtml_examples\n",
    "app, rt = create_test_app(theme=DaisyUITheme.LIGHT)\n",
    "\n",
    "@rt\n",
    "def index():\n",
    "    return create_test_page(test_func.__doc__.title().replace('.', ''), test_func())\n",
    "server = start_test_server(app)\n",
    "display(HTMX())\n",
    "server.stop()"
   ]
  },
  {
   "cell_type": "code",
   "execution_count": null,
   "id": "52c5f7fb-3e91-4d1f-bbd2-c49537de0582",
   "metadata": {},
   "outputs": [
    {
     "data": {
      "text/markdown": [
       "```html\n",
       "<div role=\"alert\" class=\"alert alert-vertical sm:alert-horizontal\">\n",
       "<svg xmlns=\"http://www.w3.org/2000/svg\" viewbox=\"0 0 24 24\" fill=\"none\" class=\"stroke-info h-6 w-6 shrink-0\"><path d=\"M13 16h-1v-4h-1m1-4h.01M21 12a9 9 0 11-18 0 9 9 0 0118 0z\" stroke-width=\"2\" stroke-linecap=\"round\" stroke-linejoin=\"round\"></path></svg><span>we use cookies for no reason.</span>  <div>\n",
       "<button class=\"btn btn-sm\">Deny</button><button class=\"btn btn-sm btn-primary\">Accept</button>  </div>\n",
       "</div>\n",
       "\n",
       "```"
      ],
      "text/plain": [
       "div((svg((path((),{'d': 'M13 16h-1v-4h-1m1-4h.01M21 12a9 9 0 11-18 0 9 9 0 0118 0z', 'stroke-width': '2', 'stroke-linecap': 'round', 'stroke-linejoin': 'round'}),),{'xmlns': 'http://www.w3.org/2000/svg', 'viewbox': '0 0 24 24', 'fill': 'none', 'class': 'stroke-info h-6 w-6 shrink-0'}), span(('we use cookies for no reason.',),{}), div((button(('Deny',),{'class': 'btn btn-sm'}), button(('Accept',),{'class': 'btn btn-sm btn-primary'})),{})),{'role': 'alert', 'class': 'alert alert-vertical sm:alert-horizontal'})"
      ]
     },
     "execution_count": null,
     "metadata": {},
     "output_type": "execute_result"
    }
   ],
   "source": [
    "#|exports\n",
    "def test_alert_with_buttons_fasthtml_examples():\n",
    "    \"\"\"Test alert with buttons and responsive layout from daisyUI v5 documentation.\"\"\"\n",
    "    from fasthtml.common import Div, Span, Button\n",
    "    from fasthtml.svg import Svg, Path\n",
    "    from cjm_fasthtml_tailwind.utilities.sizing import h, w\n",
    "    from cjm_fasthtml_tailwind.utilities.flexbox_and_grid import shrink\n",
    "    from cjm_fasthtml_daisyui.core.utility_classes import stroke_dui\n",
    "    from cjm_fasthtml_daisyui.components.actions.button import btn, btn_sizes, btn_colors\n",
    "    \n",
    "    # Create reusable info icon\n",
    "    info_icon = Svg(\n",
    "        Path(\n",
    "            stroke_linecap=\"round\",\n",
    "            stroke_linejoin=\"round\",\n",
    "            stroke_width=\"2\",\n",
    "            d=\"M13 16h-1v-4h-1m1-4h.01M21 12a9 9 0 11-18 0 9 9 0 0118 0z\"\n",
    "        ),\n",
    "        xmlns=\"http://www.w3.org/2000/svg\",\n",
    "        fill=\"none\",\n",
    "        viewBox=\"0 0 24 24\",\n",
    "        cls=combine_classes(stroke_dui.info, h._6, w._6, shrink._0)\n",
    "    )\n",
    "    \n",
    "    # Alert with buttons + responsive (vertical on mobile, horizontal on sm+)\n",
    "    responsive_alert = Div(\n",
    "        info_icon,\n",
    "        Span(\"we use cookies for no reason.\"),\n",
    "        Div(\n",
    "            Button(\"Deny\", cls=combine_classes(btn, btn_sizes.sm)),\n",
    "            Button(\"Accept\", cls=combine_classes(btn, btn_sizes.sm, btn_colors.primary))\n",
    "        ),\n",
    "        role=\"alert\",\n",
    "        cls=combine_classes(alert, alert_directions.vertical, alert_directions.horizontal.sm)\n",
    "    )\n",
    "    \n",
    "    # Verify structure\n",
    "    assert responsive_alert.tag == \"div\"\n",
    "    assert responsive_alert.attrs['role'] == \"alert\"\n",
    "    assert \"alert\" in responsive_alert.attrs['class']\n",
    "    assert \"alert-vertical\" in responsive_alert.attrs['class']\n",
    "    assert \"sm:alert-horizontal\" in responsive_alert.attrs['class']\n",
    "    \n",
    "    # Verify icon\n",
    "    assert responsive_alert.children[0].tag == \"svg\"\n",
    "    assert \"stroke-info\" in responsive_alert.children[0].attrs['class']\n",
    "    \n",
    "    # Verify text\n",
    "    assert responsive_alert.children[1].tag == \"span\"\n",
    "    assert responsive_alert.children[1].children[0] == \"we use cookies for no reason.\"\n",
    "    \n",
    "    # Verify button container\n",
    "    button_container = responsive_alert.children[2]\n",
    "    assert button_container.tag == \"div\"\n",
    "    assert len(button_container.children) == 2\n",
    "    \n",
    "    # Verify deny button\n",
    "    deny_button = button_container.children[0]\n",
    "    assert deny_button.tag == \"button\"\n",
    "    assert \"btn\" in deny_button.attrs['class']\n",
    "    assert \"btn-sm\" in deny_button.attrs['class']\n",
    "    assert deny_button.children[0] == \"Deny\"\n",
    "    \n",
    "    # Verify accept button\n",
    "    accept_button = button_container.children[1]\n",
    "    assert accept_button.tag == \"button\"\n",
    "    assert \"btn\" in accept_button.attrs['class']\n",
    "    assert \"btn-sm\" in accept_button.attrs['class']\n",
    "    assert \"btn-primary\" in accept_button.attrs['class']\n",
    "    assert accept_button.children[0] == \"Accept\"\n",
    "    \n",
    "    return responsive_alert\n",
    "\n",
    "# Run the tests\n",
    "test_alert_with_buttons_fasthtml_examples()"
   ]
  },
  {
   "cell_type": "code",
   "execution_count": null,
   "id": "abd45446-bcd2-4108-aeb6-d1b2b82d4dc6",
   "metadata": {},
   "outputs": [],
   "source": []
  },
  {
   "cell_type": "code",
   "execution_count": null,
   "id": "fw8i9cx03bo",
   "metadata": {},
   "outputs": [
    {
     "data": {
      "text/html": [
       "\n",
       "<script>\n",
       "document.body.addEventListener('htmx:configRequest', (event) => {\n",
       "    if(event.detail.path.includes('://')) return;\n",
       "    htmx.config.selfRequestsOnly=false;\n",
       "    event.detail.path = `${location.protocol}//${location.hostname}:8000${event.detail.path}`;\n",
       "});\n",
       "</script>"
      ],
      "text/plain": [
       "<IPython.core.display.HTML object>"
      ]
     },
     "metadata": {},
     "output_type": "display_data"
    },
    {
     "data": {
      "text/html": [
       "<iframe src=\"http://localhost:8000/\" style=\"width: 100%; height: auto; border: none;\" onload=\"{\n",
       "        let frame = this;\n",
       "        window.addEventListener('message', function(e) {\n",
       "            if (e.source !== frame.contentWindow) return; // Only proceed if the message is from this iframe\n",
       "            if (e.data.height) frame.style.height = (e.data.height+1) + 'px';\n",
       "        }, false);\n",
       "    }\" allow=\"accelerometer; autoplay; camera; clipboard-read; clipboard-write; display-capture; encrypted-media; fullscreen; gamepad; geolocation; gyroscope; hid; identity-credentials-get; idle-detection; magnetometer; microphone; midi; payment; picture-in-picture; publickey-credentials-get; screen-wake-lock; serial; usb; web-share; xr-spatial-tracking\"></iframe> "
      ],
      "text/plain": [
       "<IPython.core.display.HTML object>"
      ]
     },
     "metadata": {},
     "output_type": "display_data"
    }
   ],
   "source": [
    "#| eval: false\n",
    "#| output: false\n",
    "test_func = test_alert_with_buttons_fasthtml_examples\n",
    "app, rt = create_test_app(theme=DaisyUITheme.LIGHT)\n",
    "\n",
    "@rt\n",
    "def index():\n",
    "    return create_test_page(test_func.__doc__.title().replace('.', ''), test_func())\n",
    "server = start_test_server(app)\n",
    "display(HTMX())\n",
    "server.stop()"
   ]
  },
  {
   "cell_type": "code",
   "execution_count": null,
   "id": "947d51a0-2d9c-4102-9fcf-4366db4a89c4",
   "metadata": {},
   "outputs": [
    {
     "data": {
      "text/markdown": [
       "```html\n",
       "<div role=\"alert\" class=\"alert alert-vertical sm:alert-horizontal\">\n",
       "<svg xmlns=\"http://www.w3.org/2000/svg\" viewbox=\"0 0 24 24\" fill=\"none\" class=\"stroke-info h-6 w-6 shrink-0\"><path d=\"M13 16h-1v-4h-1m1-4h.01M21 12a9 9 0 11-18 0 9 9 0 0118 0z\" stroke-width=\"2\" stroke-linecap=\"round\" stroke-linejoin=\"round\"></path></svg>  <div>\n",
       "    <h3 class=\"font-bold\">New message!</h3>\n",
       "    <div class=\"text-xs\">You have 1 unread message</div>\n",
       "  </div>\n",
       "<button class=\"btn btn-sm\">See</button></div>\n",
       "\n",
       "```"
      ],
      "text/plain": [
       "div((svg((path((),{'d': 'M13 16h-1v-4h-1m1-4h.01M21 12a9 9 0 11-18 0 9 9 0 0118 0z', 'stroke-width': '2', 'stroke-linecap': 'round', 'stroke-linejoin': 'round'}),),{'xmlns': 'http://www.w3.org/2000/svg', 'viewbox': '0 0 24 24', 'fill': 'none', 'class': 'stroke-info h-6 w-6 shrink-0'}), div((h3(('New message!',),{'class': 'font-bold'}), div(('You have 1 unread message',),{'class': 'text-xs'})),{}), button(('See',),{'class': 'btn btn-sm'})),{'role': 'alert', 'class': 'alert alert-vertical sm:alert-horizontal'})"
      ]
     },
     "execution_count": null,
     "metadata": {},
     "output_type": "execute_result"
    }
   ],
   "source": [
    "#|exports\n",
    "def test_alert_with_title_description_fasthtml_examples():\n",
    "    \"\"\"Test alert with title and description from daisyUI v5 documentation.\"\"\"\n",
    "    from fasthtml.common import Div, H3, Button\n",
    "    from fasthtml.svg import Svg, Path\n",
    "    from cjm_fasthtml_tailwind.utilities.sizing import h, w\n",
    "    from cjm_fasthtml_tailwind.utilities.flexbox_and_grid import shrink\n",
    "    from cjm_fasthtml_tailwind.utilities.typography import font, text\n",
    "    from cjm_fasthtml_daisyui.core.utility_classes import stroke_dui\n",
    "    from cjm_fasthtml_daisyui.components.actions.button import btn, btn_sizes\n",
    "    \n",
    "    # Create reusable info icon\n",
    "    info_icon = Svg(\n",
    "        Path(\n",
    "            stroke_linecap=\"round\",\n",
    "            stroke_linejoin=\"round\",\n",
    "            stroke_width=\"2\",\n",
    "            d=\"M13 16h-1v-4h-1m1-4h.01M21 12a9 9 0 11-18 0 9 9 0 0118 0z\"\n",
    "        ),\n",
    "        xmlns=\"http://www.w3.org/2000/svg\",\n",
    "        fill=\"none\",\n",
    "        viewBox=\"0 0 24 24\",\n",
    "        cls=combine_classes(stroke_dui.info, h._6, w._6, shrink._0)\n",
    "    )\n",
    "    \n",
    "    # Alert with title and description\n",
    "    title_desc_alert = Div(\n",
    "        info_icon,\n",
    "        Div(\n",
    "            H3(\"New message!\", cls=str(font.bold)),\n",
    "            Div(\"You have 1 unread message\", cls=str(text.xs))\n",
    "        ),\n",
    "        Button(\"See\", cls=combine_classes(btn, btn_sizes.sm)),\n",
    "        role=\"alert\",\n",
    "        cls=combine_classes(alert, alert_directions.vertical, alert_directions.horizontal.sm)\n",
    "    )\n",
    "    \n",
    "    # Verify structure\n",
    "    assert title_desc_alert.tag == \"div\"\n",
    "    assert title_desc_alert.attrs['role'] == \"alert\"\n",
    "    assert \"alert\" in title_desc_alert.attrs['class']\n",
    "    assert \"alert-vertical\" in title_desc_alert.attrs['class']\n",
    "    assert \"sm:alert-horizontal\" in title_desc_alert.attrs['class']\n",
    "    \n",
    "    # Verify icon\n",
    "    assert title_desc_alert.children[0].tag == \"svg\"\n",
    "    assert \"stroke-info\" in title_desc_alert.children[0].attrs['class']\n",
    "    \n",
    "    # Verify content container\n",
    "    content_container = title_desc_alert.children[1]\n",
    "    assert content_container.tag == \"div\"\n",
    "    assert len(content_container.children) == 2\n",
    "    \n",
    "    # Verify title\n",
    "    title_element = content_container.children[0]\n",
    "    assert title_element.tag == \"h3\"\n",
    "    assert \"font-bold\" in title_element.attrs['class']\n",
    "    assert title_element.children[0] == \"New message!\"\n",
    "    \n",
    "    # Verify description\n",
    "    desc_element = content_container.children[1]\n",
    "    assert desc_element.tag == \"div\"\n",
    "    assert \"text-xs\" in desc_element.attrs['class']\n",
    "    assert desc_element.children[0] == \"You have 1 unread message\"\n",
    "    \n",
    "    # Verify button\n",
    "    see_button = title_desc_alert.children[2]\n",
    "    assert see_button.tag == \"button\"\n",
    "    assert \"btn\" in see_button.attrs['class']\n",
    "    assert \"btn-sm\" in see_button.attrs['class']\n",
    "    assert see_button.children[0] == \"See\"\n",
    "    \n",
    "    return title_desc_alert\n",
    "\n",
    "# Run the tests\n",
    "test_alert_with_title_description_fasthtml_examples()"
   ]
  },
  {
   "cell_type": "code",
   "execution_count": null,
   "id": "dbcf7b15-756d-44cf-9584-3a4cc411bda0",
   "metadata": {},
   "outputs": [],
   "source": []
  },
  {
   "cell_type": "code",
   "execution_count": null,
   "id": "37nsdkwmbwl",
   "metadata": {},
   "outputs": [
    {
     "data": {
      "text/html": [
       "\n",
       "<script>\n",
       "document.body.addEventListener('htmx:configRequest', (event) => {\n",
       "    if(event.detail.path.includes('://')) return;\n",
       "    htmx.config.selfRequestsOnly=false;\n",
       "    event.detail.path = `${location.protocol}//${location.hostname}:8000${event.detail.path}`;\n",
       "});\n",
       "</script>"
      ],
      "text/plain": [
       "<IPython.core.display.HTML object>"
      ]
     },
     "metadata": {},
     "output_type": "display_data"
    },
    {
     "data": {
      "text/html": [
       "<iframe src=\"http://localhost:8000/\" style=\"width: 100%; height: auto; border: none;\" onload=\"{\n",
       "        let frame = this;\n",
       "        window.addEventListener('message', function(e) {\n",
       "            if (e.source !== frame.contentWindow) return; // Only proceed if the message is from this iframe\n",
       "            if (e.data.height) frame.style.height = (e.data.height+1) + 'px';\n",
       "        }, false);\n",
       "    }\" allow=\"accelerometer; autoplay; camera; clipboard-read; clipboard-write; display-capture; encrypted-media; fullscreen; gamepad; geolocation; gyroscope; hid; identity-credentials-get; idle-detection; magnetometer; microphone; midi; payment; picture-in-picture; publickey-credentials-get; screen-wake-lock; serial; usb; web-share; xr-spatial-tracking\"></iframe> "
      ],
      "text/plain": [
       "<IPython.core.display.HTML object>"
      ]
     },
     "metadata": {},
     "output_type": "display_data"
    }
   ],
   "source": [
    "#| eval: false\n",
    "#| output: false\n",
    "test_func = test_alert_with_title_description_fasthtml_examples\n",
    "app, rt = create_test_app(theme=DaisyUITheme.LIGHT)\n",
    "\n",
    "@rt\n",
    "def index():\n",
    "    return create_test_page(test_func.__doc__.title().replace('.', ''), test_func())\n",
    "server = start_test_server(app)\n",
    "display(HTMX())\n",
    "server.stop()"
   ]
  },
  {
   "cell_type": "code",
   "execution_count": null,
   "id": "ab847ebc-118d-46d9-9f01-77e139b9e430",
   "metadata": {},
   "outputs": [],
   "source": []
  },
  {
   "cell_type": "code",
   "execution_count": null,
   "id": "41aedceb-fd6b-4c80-af92-c5c327142496",
   "metadata": {},
   "outputs": [],
   "source": []
  },
  {
   "cell_type": "code",
   "execution_count": null,
   "id": "4716b336-5bed-4198-960d-e1c72668dcbb",
   "metadata": {},
   "outputs": [],
   "source": []
  },
  {
   "cell_type": "code",
   "execution_count": null,
   "id": "74731dc9-7422-45d1-9e16-763e0d453176",
   "metadata": {},
   "outputs": [],
   "source": []
  },
  {
   "cell_type": "code",
   "execution_count": null,
   "id": "83ce07c6-f167-4b42-b856-1c30c8b142ab",
   "metadata": {},
   "outputs": [],
   "source": []
  },
  {
   "cell_type": "code",
   "execution_count": null,
   "id": "7ab8257a-c30b-45b6-a784-729b67686791",
   "metadata": {},
   "outputs": [],
   "source": [
    "#| hide\n",
    "import nbdev; nbdev.nbdev_export()"
   ]
  }
 ],
 "metadata": {
  "kernelspec": {
   "display_name": "python3",
   "language": "python",
   "name": "python3"
  }
 },
 "nbformat": 4,
 "nbformat_minor": 5
}
