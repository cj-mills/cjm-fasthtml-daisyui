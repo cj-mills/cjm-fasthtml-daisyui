{
 "cells": [
  {
   "cell_type": "markdown",
   "id": "7c51b46b-ece1-456d-8e84-7de122e72b62",
   "metadata": {},
   "source": [
    "# alert\n",
    "\n",
    "> Alert informs users about important events."
   ]
  },
  {
   "cell_type": "code",
   "execution_count": null,
   "id": "25536bdc-e099-477f-9e2d-a5f71df5dff2",
   "metadata": {},
   "outputs": [],
   "source": [
    "#| default_exp components.feedback.alert"
   ]
  },
  {
   "cell_type": "code",
   "execution_count": null,
   "id": "2e6f21ce-7766-455a-8ebb-df2c17e7d977",
   "metadata": {},
   "outputs": [],
   "source": [
    "#| hide\n",
    "from nbdev.showdoc import *"
   ]
  },
  {
   "cell_type": "code",
   "execution_count": null,
   "id": "045c6538-403e-4222-b3bb-db20f188524d",
   "metadata": {},
   "outputs": [],
   "source": [
    "#| export\n",
    "\n",
    "from cjm_fasthtml_tailwind.core.base import (\n",
    "    SingleValueFactory, combine_classes\n",
    ")\n",
    "from cjm_fasthtml_tailwind.builders.scales import SimpleFactory, enums_to_simple_factory\n",
    "\n",
    "from cjm_fasthtml_daisyui.builders.colors import SemanticColorStatus\n",
    "from cjm_fasthtml_daisyui.builders.styles import OutlineStyle, DashStyle, SoftStyle\n",
    "\n",
    "from fasthtml.common import Div\n",
    "from fasthtml.jupyter import JupyUvi, HTMX\n",
    "from cjm_fasthtml_daisyui.core.testing import create_test_app, create_test_page, start_test_server\n",
    "from cjm_fasthtml_daisyui.core.themes import DaisyUITheme\n",
    "from IPython.display import display"
   ]
  },
  {
   "cell_type": "markdown",
   "id": "8aa5179f-ac97-4bd6-bfd4-76e7b9c9e8ec",
   "metadata": {},
   "source": [
    "### Base Alert"
   ]
  },
  {
   "cell_type": "code",
   "execution_count": null,
   "id": "c802d106-49fb-4d34-ba04-5f54c88e165b",
   "metadata": {},
   "outputs": [],
   "source": [
    "#| export\n",
    "alert = SingleValueFactory(\"alert\", \"Base alert container\") # Base alert component"
   ]
  },
  {
   "cell_type": "markdown",
   "id": "6d7fb75a-d852-4ab0-b0a1-47a45fc9bd6c",
   "metadata": {},
   "source": [
    "### Alert Styles"
   ]
  },
  {
   "cell_type": "code",
   "execution_count": null,
   "id": "636c6bcd-2176-4191-aa39-c937893243e2",
   "metadata": {},
   "outputs": [],
   "source": [
    "alert_styles = enums_to_simple_factory(alert, [OutlineStyle, DashStyle, SoftStyle]) # Alert style variants"
   ]
  },
  {
   "cell_type": "markdown",
   "id": "2f496ee7-4902-4980-9190-252f75aee506",
   "metadata": {},
   "source": [
    "### Alert Colors"
   ]
  },
  {
   "cell_type": "code",
   "execution_count": null,
   "id": "3035ff66-e4e7-410c-8b1e-86a879f66112",
   "metadata": {},
   "outputs": [],
   "source": [
    "#| export\n",
    "alert_colors = enums_to_simple_factory(alert, [SemanticColorStatus], \"Alert color variants using daisyUI semantic colors\") # Alert color variants"
   ]
  },
  {
   "cell_type": "markdown",
   "id": "2cf438d0-984c-4857-a42b-063b1e8c1b17",
   "metadata": {},
   "source": [
    "### Alert Directions"
   ]
  },
  {
   "cell_type": "code",
   "execution_count": null,
   "id": "85d72161-e718-4c66-bc59-a3569b7f7616",
   "metadata": {},
   "outputs": [],
   "source": [
    "#| export\n",
    "alert_directions = SimpleFactory(\n",
    "    {\n",
    "        \"vertical\": \"alert-vertical\",\n",
    "        \"horizontal\": \"alert-horizontal\",\n",
    "    },\n",
    "    \"alert directions (vertical, horizontal)\"\n",
    ") # alert directions"
   ]
  },
  {
   "cell_type": "markdown",
   "id": "5e2cb68a-00ab-4497-990a-f54d64618146",
   "metadata": {},
   "source": [
    "### Alert Test Examples"
   ]
  },
  {
   "cell_type": "code",
   "execution_count": null,
   "id": "a9d78aa3-0be8-49e6-8bfb-cb9a232ee1ee",
   "metadata": {},
   "outputs": [],
   "source": [
    "#| export\n",
    "def test_alert_basic_examples():\n",
    "    \"\"\"Test basic alert utilities.\"\"\"\n",
    "    # Basic alert\n",
    "    assert str(alert) == \"alert\"\n",
    "    \n",
    "    # Button with modifiers\n",
    "    assert str(alert.hover) == \"hover:alert\"\n",
    "    assert str(alert.md) == \"md:alert\"\n",
    "    assert str(alert.dark) == \"dark:alert\"\n",
    "\n",
    "# Run the tests\n",
    "test_alert_basic_examples()"
   ]
  },
  {
   "cell_type": "code",
   "execution_count": null,
   "id": "01785a18-9bb0-4dbc-9eae-04addf6dede9",
   "metadata": {},
   "outputs": [],
   "source": [
    "#| export\n",
    "def test_alert_styles_examples():\n",
    "    \"\"\"Test alert style variants.\"\"\"\n",
    "    assert str(alert_styles.outline) == \"alert-outline\"\n",
    "    assert str(alert_styles.dash) == \"alert-dash\"\n",
    "    assert str(alert_styles.soft) == \"alert-soft\"\n",
    "\n",
    "# Run the tests\n",
    "test_alert_styles_examples()"
   ]
  },
  {
   "cell_type": "code",
   "execution_count": null,
   "id": "43a3d5aa-4f07-48f4-b7c3-5c63612f0fb2",
   "metadata": {},
   "outputs": [],
   "source": [
    "#| export\n",
    "def test_alert_colors_examples():\n",
    "    \"\"\"Test alert color variants.\"\"\"\n",
    "    # All color variants\n",
    "    assert str(alert_colors.info) == \"alert-info\"\n",
    "    assert str(alert_colors.success) == \"alert-success\"\n",
    "    assert str(alert_colors.warning) == \"alert-warning\"\n",
    "    assert str(alert_colors.error) == \"alert-error\"\n",
    "    \n",
    "    # With modifiers\n",
    "    assert str(alert_colors.info.hover) == \"hover:alert-info\"\n",
    "    assert str(alert_colors.success.focus) == \"focus:alert-success\"\n",
    "\n",
    "# Run the tests\n",
    "test_alert_colors_examples()"
   ]
  },
  {
   "cell_type": "code",
   "execution_count": null,
   "id": "248adc40-6e77-4203-9830-de838e25a00a",
   "metadata": {},
   "outputs": [],
   "source": [
    "#| export\n",
    "def test_alert_directions_examples():\n",
    "    \"\"\"Test alert direction utilities.\"\"\"\n",
    "    assert str(alert_directions.vertical) == \"alert-vertical\"\n",
    "    assert str(alert_directions.horizontal) == \"alert-horizontal\"\n",
    "\n",
    "# Run the tests\n",
    "test_alert_directions_examples()"
   ]
  },
  {
   "cell_type": "code",
   "execution_count": null,
   "id": "a2029d6d-bf22-4e16-87e1-d609762dc867",
   "metadata": {},
   "outputs": [],
   "source": []
  },
  {
   "cell_type": "code",
   "execution_count": null,
   "id": "c9dfaad9-504c-4853-886b-2d1adb1cc3a0",
   "metadata": {},
   "outputs": [],
   "source": []
  },
  {
   "cell_type": "code",
   "execution_count": null,
   "id": "454d5b84-fc57-44ab-a6f0-3123333998cb",
   "metadata": {},
   "outputs": [],
   "source": []
  },
  {
   "cell_type": "code",
   "execution_count": null,
   "id": "d471d21b-6fe5-4c63-90be-5176c4cbd08b",
   "metadata": {},
   "outputs": [],
   "source": []
  },
  {
   "cell_type": "code",
   "execution_count": null,
   "id": "73b88b7e-0be6-4a82-9c02-f3df8af20015",
   "metadata": {},
   "outputs": [],
   "source": []
  },
  {
   "cell_type": "code",
   "execution_count": null,
   "id": "7ab8257a-c30b-45b6-a784-729b67686791",
   "metadata": {},
   "outputs": [],
   "source": [
    "#| hide\n",
    "import nbdev; nbdev.nbdev_export()"
   ]
  }
 ],
 "metadata": {
  "kernelspec": {
   "display_name": "python3",
   "language": "python",
   "name": "python3"
  }
 },
 "nbformat": 4,
 "nbformat_minor": 5
}
