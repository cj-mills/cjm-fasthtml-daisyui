{
 "cells": [
  {
   "cell_type": "markdown",
   "id": "7c51b46b-ece1-456d-8e84-7de122e72b62",
   "metadata": {},
   "source": [
    "# toast\n",
    "\n",
    "> Toast is a wrapper to stack elements, positioned on the corner of page."
   ]
  },
  {
   "cell_type": "code",
   "execution_count": null,
   "id": "25536bdc-e099-477f-9e2d-a5f71df5dff2",
   "metadata": {},
   "outputs": [],
   "source": [
    "#| default_exp components.feedback.toast"
   ]
  },
  {
   "cell_type": "code",
   "execution_count": null,
   "id": "2e6f21ce-7766-455a-8ebb-df2c17e7d977",
   "metadata": {},
   "outputs": [],
   "source": [
    "#| hide\n",
    "from nbdev.showdoc import *"
   ]
  },
  {
   "cell_type": "code",
   "execution_count": null,
   "id": "045c6538-403e-4222-b3bb-db20f188524d",
   "metadata": {},
   "outputs": [],
   "source": [
    "#| export\n",
    "from enum import Enum\n",
    "from cjm_fasthtml_tailwind.core.base import (\n",
    "    SingleValueFactory, combine_classes\n",
    ")\n",
    "from cjm_fasthtml_tailwind.builders.scales import SimpleFactory, enums_to_simple_factory\n",
    "\n",
    "from fasthtml.common import Div\n",
    "from fasthtml.jupyter import JupyUvi, HTMX\n",
    "from cjm_fasthtml_daisyui.core.testing import create_test_app, create_test_page, start_test_server\n",
    "from cjm_fasthtml_daisyui.core.themes import DaisyUITheme\n",
    "from IPython.display import display"
   ]
  },
  {
   "cell_type": "markdown",
   "id": "5431b0f7-727f-4104-985a-9a85566948bc",
   "metadata": {},
   "source": [
    "### Base Toast"
   ]
  },
  {
   "cell_type": "code",
   "execution_count": null,
   "id": "c802d106-49fb-4d34-ba04-5f54c88e165b",
   "metadata": {},
   "outputs": [],
   "source": [
    "#| exports\n",
    "toast = SingleValueFactory(\"toast\", \"Container element that sticks to the corner of page\") # Base toast component"
   ]
  },
  {
   "cell_type": "markdown",
   "id": "deabddf3-e132-467d-847a-ed879bca74a2",
   "metadata": {},
   "source": [
    "### Toast Placement"
   ]
  },
  {
   "cell_type": "code",
   "execution_count": null,
   "id": "636c6bcd-2176-4191-aa39-c937893243e2",
   "metadata": {},
   "outputs": [],
   "source": [
    "#| export\n",
    "class ToastPlacement(str, Enum):\n",
    "    START = \"start\"\n",
    "    CENTER = \"center\"\n",
    "    END = \"end\"\n",
    "    TOP = \"top\"\n",
    "    MIDDLE = \"middle\"\n",
    "    BOTTOM = \"bottom\"\n",
    "\n",
    "toast_placement = enums_to_simple_factory(toast, [ToastPlacement], \"Toast placement options\") # toast placement options"
   ]
  },
  {
   "cell_type": "markdown",
   "id": "547d780c-321b-45b7-a5af-7e32e86ab10e",
   "metadata": {},
   "source": [
    "### Toast Test Examples"
   ]
  },
  {
   "cell_type": "code",
   "execution_count": null,
   "id": "3035ff66-e4e7-410c-8b1e-86a879f66112",
   "metadata": {},
   "outputs": [],
   "source": [
    "#|exports\n",
    "def test_toast_basic_examples():\n",
    "    \"\"\"Test basic toast utilities.\"\"\"\n",
    "    # Basic toast\n",
    "    assert str(toast) == \"toast\"\n",
    "    \n",
    "    # Test with modifiers\n",
    "    assert str(toast.hover) == \"hover:toast\"\n",
    "    assert str(toast.md) == \"md:toast\"\n",
    "    assert str(toast.dark) == \"dark:toast\"\n",
    "\n",
    "# Run the tests\n",
    "test_toast_basic_examples()"
   ]
  },
  {
   "cell_type": "code",
   "execution_count": null,
   "id": "4666a5a3-26bb-4d91-b5be-f941df8f9d2f",
   "metadata": {},
   "outputs": [],
   "source": [
    "#|exports\n",
    "def test_toast_placement_examples():\n",
    "    \"\"\"Test toast placement options.\"\"\"\n",
    "    # Horizontal alignment\n",
    "    assert str(toast_placement.start) == \"toast-start\"\n",
    "    assert str(toast_placement.center) == \"toast-center\"\n",
    "    assert str(toast_placement.end) == \"toast-end\"\n",
    "    \n",
    "    # Vertical position\n",
    "    assert str(toast_placement.top) == \"toast-top\"\n",
    "    assert str(toast_placement.middle) == \"toast-middle\"\n",
    "    assert str(toast_placement.bottom) == \"toast-bottom\"\n",
    "\n",
    "# Run the tests\n",
    "test_toast_placement_examples()"
   ]
  },
  {
   "cell_type": "code",
   "execution_count": null,
   "id": "75c7015d-a73c-4d19-9203-9e583d66ec93",
   "metadata": {},
   "outputs": [
    {
     "data": {
      "text/markdown": [
       "```html\n",
       "<div class=\"toast\">\n",
       "  <div class=\"alert alert-info\">\n",
       "<span>New message arrived.</span>  </div>\n",
       "</div>\n",
       "\n",
       "```"
      ],
      "text/plain": [
       "div((div((span(('New message arrived.',),{}),),{'class': 'alert alert-info'}),),{'class': 'toast'})"
      ]
     },
     "execution_count": null,
     "metadata": {},
     "output_type": "execute_result"
    }
   ],
   "source": [
    "#|exports\n",
    "def test_toast_basic_fasthtml_examples():\n",
    "    \"\"\"Test basic toast with alert inside from daisyUI v5 documentation.\"\"\"\n",
    "    from fasthtml.common import Div, Span\n",
    "    from cjm_fasthtml_daisyui.components.feedback.alert import alert, alert_colors\n",
    "    \n",
    "    # Basic toast with alert inside\n",
    "    basic_toast = Div(\n",
    "        Div(\n",
    "            Span(\"New message arrived.\"),\n",
    "            cls=combine_classes(alert, alert_colors.info)\n",
    "        ),\n",
    "        cls=str(toast)\n",
    "    )\n",
    "    \n",
    "    # Verify structure\n",
    "    assert basic_toast.tag == \"div\"\n",
    "    assert basic_toast.attrs['class'] == \"toast\"\n",
    "    \n",
    "    # Verify alert inside toast\n",
    "    alert_element = basic_toast.children[0]\n",
    "    assert alert_element.tag == \"div\"\n",
    "    assert \"alert\" in alert_element.attrs['class']\n",
    "    assert \"alert-info\" in alert_element.attrs['class']\n",
    "    \n",
    "    # Verify alert content\n",
    "    assert alert_element.children[0].tag == \"span\"\n",
    "    assert alert_element.children[0].children[0] == \"New message arrived.\"\n",
    "    \n",
    "    return basic_toast\n",
    "\n",
    "# Run the tests\n",
    "test_toast_basic_fasthtml_examples()"
   ]
  },
  {
   "cell_type": "code",
   "execution_count": null,
   "id": "8ef10212-49d9-47ff-ba28-81f8015b5bce",
   "metadata": {},
   "outputs": [],
   "source": []
  },
  {
   "cell_type": "code",
   "execution_count": null,
   "id": "i6nwwhdn6a",
   "metadata": {},
   "outputs": [
    {
     "data": {
      "text/html": [
       "\n",
       "<script>\n",
       "document.body.addEventListener('htmx:configRequest', (event) => {\n",
       "    if(event.detail.path.includes('://')) return;\n",
       "    htmx.config.selfRequestsOnly=false;\n",
       "    event.detail.path = `${location.protocol}//${location.hostname}:8000${event.detail.path}`;\n",
       "});\n",
       "</script>"
      ],
      "text/plain": [
       "<IPython.core.display.HTML object>"
      ]
     },
     "metadata": {},
     "output_type": "display_data"
    },
    {
     "data": {
      "text/html": [
       "<iframe src=\"http://localhost:8000/\" style=\"width: 100%; height: auto; border: none;\" onload=\"{\n",
       "        let frame = this;\n",
       "        window.addEventListener('message', function(e) {\n",
       "            if (e.source !== frame.contentWindow) return; // Only proceed if the message is from this iframe\n",
       "            if (e.data.height) frame.style.height = (e.data.height+1) + 'px';\n",
       "        }, false);\n",
       "    }\" allow=\"accelerometer; autoplay; camera; clipboard-read; clipboard-write; display-capture; encrypted-media; fullscreen; gamepad; geolocation; gyroscope; hid; identity-credentials-get; idle-detection; magnetometer; microphone; midi; payment; picture-in-picture; publickey-credentials-get; screen-wake-lock; serial; usb; web-share; xr-spatial-tracking\"></iframe> "
      ],
      "text/plain": [
       "<IPython.core.display.HTML object>"
      ]
     },
     "metadata": {},
     "output_type": "display_data"
    }
   ],
   "source": [
    "#| eval: false\n",
    "#| output: false\n",
    "test_func = test_toast_basic_fasthtml_examples\n",
    "app, rt = create_test_app(theme=DaisyUITheme.LIGHT)\n",
    "\n",
    "@rt\n",
    "def index():\n",
    "    return create_test_page(test_func.__doc__.title().replace('.', ''), test_func())\n",
    "server = start_test_server(app)\n",
    "display(HTMX())\n",
    "server.stop()"
   ]
  },
  {
   "cell_type": "code",
   "execution_count": null,
   "id": "dea6a3a9-da30-4e28-b6ac-dc289704806b",
   "metadata": {},
   "outputs": [
    {
     "data": {
      "text/markdown": [
       "```html\n",
       "<div class=\"min-h-48\">\n",
       "  <div class=\"toast toast-top toast-start\">\n",
       "    <div class=\"alert alert-info\">\n",
       "<span>New mail arrived.</span>    </div>\n",
       "    <div class=\"alert alert-success\">\n",
       "<span>Message sent successfully.</span>    </div>\n",
       "  </div>\n",
       "  <div class=\"toast toast-top toast-center\">\n",
       "    <div class=\"alert alert-info\">\n",
       "<span>New mail arrived.</span>    </div>\n",
       "    <div class=\"alert alert-success\">\n",
       "<span>Message sent successfully.</span>    </div>\n",
       "  </div>\n",
       "  <div class=\"toast toast-top toast-end\">\n",
       "    <div class=\"alert alert-info\">\n",
       "<span>New mail arrived.</span>    </div>\n",
       "    <div class=\"alert alert-success\">\n",
       "<span>Message sent successfully.</span>    </div>\n",
       "  </div>\n",
       "</div>\n",
       "\n",
       "```"
      ],
      "text/plain": [
       "div((div((div((span(('New mail arrived.',),{}),),{'class': 'alert alert-info'}), div((span(('Message sent successfully.',),{}),),{'class': 'alert alert-success'})),{'class': 'toast toast-top toast-start'}), div((div((span(('New mail arrived.',),{}),),{'class': 'alert alert-info'}), div((span(('Message sent successfully.',),{}),),{'class': 'alert alert-success'})),{'class': 'toast toast-top toast-center'}), div((div((span(('New mail arrived.',),{}),),{'class': 'alert alert-info'}), div((span(('Message sent successfully.',),{}),),{'class': 'alert alert-success'})),{'class': 'toast toast-top toast-end'})),{'class': 'min-h-48'})"
      ]
     },
     "execution_count": null,
     "metadata": {},
     "output_type": "execute_result"
    }
   ],
   "source": [
    "#|exports\n",
    "def test_toast_top_positions_fasthtml_examples():\n",
    "    \"\"\"Test toast positioning at top (start, center, end) from daisyUI v5 documentation.\"\"\"\n",
    "    from fasthtml.common import Div, Span\n",
    "    from cjm_fasthtml_tailwind.utilities.sizing import min_h\n",
    "    from cjm_fasthtml_daisyui.components.feedback.alert import alert, alert_colors\n",
    "    \n",
    "    # Toast top start\n",
    "    toast_top_start = Div(\n",
    "        Div(\n",
    "            Span(\"New mail arrived.\"),\n",
    "            cls=combine_classes(alert, alert_colors.info)\n",
    "        ),\n",
    "        Div(\n",
    "            Span(\"Message sent successfully.\"),\n",
    "            cls=combine_classes(alert, alert_colors.success)\n",
    "        ),\n",
    "        cls=combine_classes(toast, toast_placement.top, toast_placement.start)\n",
    "    )\n",
    "    \n",
    "    # Verify structure\n",
    "    assert toast_top_start.tag == \"div\"\n",
    "    assert \"toast\" in toast_top_start.attrs['class']\n",
    "    assert \"toast-top\" in toast_top_start.attrs['class']\n",
    "    assert \"toast-start\" in toast_top_start.attrs['class']\n",
    "    assert len(toast_top_start.children) == 2\n",
    "    \n",
    "    # Verify first alert\n",
    "    first_alert = toast_top_start.children[0]\n",
    "    assert \"alert\" in first_alert.attrs['class']\n",
    "    assert \"alert-info\" in first_alert.attrs['class']\n",
    "    assert first_alert.children[0].children[0] == \"New mail arrived.\"\n",
    "    \n",
    "    # Verify second alert\n",
    "    second_alert = toast_top_start.children[1]\n",
    "    assert \"alert\" in second_alert.attrs['class']\n",
    "    assert \"alert-success\" in second_alert.attrs['class']\n",
    "    assert second_alert.children[0].children[0] == \"Message sent successfully.\"\n",
    "    \n",
    "    # Toast top center\n",
    "    toast_top_center = Div(\n",
    "        Div(\n",
    "            Span(\"New mail arrived.\"),\n",
    "            cls=combine_classes(alert, alert_colors.info)\n",
    "        ),\n",
    "        Div(\n",
    "            Span(\"Message sent successfully.\"),\n",
    "            cls=combine_classes(alert, alert_colors.success)\n",
    "        ),\n",
    "        cls=combine_classes(toast, toast_placement.top, toast_placement.center)\n",
    "    )\n",
    "    \n",
    "    assert \"toast\" in toast_top_center.attrs['class']\n",
    "    assert \"toast-top\" in toast_top_center.attrs['class']\n",
    "    assert \"toast-center\" in toast_top_center.attrs['class']\n",
    "    \n",
    "    # Toast top end\n",
    "    toast_top_end = Div(\n",
    "        Div(\n",
    "            Span(\"New mail arrived.\"),\n",
    "            cls=combine_classes(alert, alert_colors.info)\n",
    "        ),\n",
    "        Div(\n",
    "            Span(\"Message sent successfully.\"),\n",
    "            cls=combine_classes(alert, alert_colors.success)\n",
    "        ),\n",
    "        cls=combine_classes(toast, toast_placement.top, toast_placement.end)\n",
    "    )\n",
    "    \n",
    "    assert \"toast\" in toast_top_end.attrs['class']\n",
    "    assert \"toast-top\" in toast_top_end.attrs['class']\n",
    "    assert \"toast-end\" in toast_top_end.attrs['class']\n",
    "    \n",
    "    # Return all top position variations\n",
    "    return Div(\n",
    "        toast_top_start,\n",
    "        toast_top_center,\n",
    "        toast_top_end,\n",
    "        cls=combine_classes(min_h(48))\n",
    "    )\n",
    "\n",
    "# Run the tests\n",
    "test_toast_top_positions_fasthtml_examples()"
   ]
  },
  {
   "cell_type": "code",
   "execution_count": null,
   "id": "28ae195b-d9bf-43bb-b639-081fddf744ac",
   "metadata": {},
   "outputs": [],
   "source": []
  },
  {
   "cell_type": "code",
   "execution_count": null,
   "id": "ffp9c8zepg7",
   "metadata": {},
   "outputs": [
    {
     "data": {
      "text/html": [
       "\n",
       "<script>\n",
       "document.body.addEventListener('htmx:configRequest', (event) => {\n",
       "    if(event.detail.path.includes('://')) return;\n",
       "    htmx.config.selfRequestsOnly=false;\n",
       "    event.detail.path = `${location.protocol}//${location.hostname}:8000${event.detail.path}`;\n",
       "});\n",
       "</script>"
      ],
      "text/plain": [
       "<IPython.core.display.HTML object>"
      ]
     },
     "metadata": {},
     "output_type": "display_data"
    },
    {
     "data": {
      "text/html": [
       "<iframe src=\"http://localhost:8000/\" style=\"width: 100%; height: auto; border: none;\" onload=\"{\n",
       "        let frame = this;\n",
       "        window.addEventListener('message', function(e) {\n",
       "            if (e.source !== frame.contentWindow) return; // Only proceed if the message is from this iframe\n",
       "            if (e.data.height) frame.style.height = (e.data.height+1) + 'px';\n",
       "        }, false);\n",
       "    }\" allow=\"accelerometer; autoplay; camera; clipboard-read; clipboard-write; display-capture; encrypted-media; fullscreen; gamepad; geolocation; gyroscope; hid; identity-credentials-get; idle-detection; magnetometer; microphone; midi; payment; picture-in-picture; publickey-credentials-get; screen-wake-lock; serial; usb; web-share; xr-spatial-tracking\"></iframe> "
      ],
      "text/plain": [
       "<IPython.core.display.HTML object>"
      ]
     },
     "metadata": {},
     "output_type": "display_data"
    }
   ],
   "source": [
    "#| eval: false\n",
    "#| output: false\n",
    "test_func = test_toast_top_positions_fasthtml_examples\n",
    "app, rt = create_test_app(theme=DaisyUITheme.LIGHT)\n",
    "\n",
    "@rt\n",
    "def index():\n",
    "    return create_test_page(test_func.__doc__.title().replace('.', ''), test_func())\n",
    "server = start_test_server(app)\n",
    "display(HTMX())\n",
    "server.stop()"
   ]
  },
  {
   "cell_type": "code",
   "execution_count": null,
   "id": "729cb90b-d4ad-4350-8ae6-f2e4bb29d5d8",
   "metadata": {},
   "outputs": [
    {
     "data": {
      "text/markdown": [
       "```html\n",
       "<div class=\"min-h-48\">\n",
       "  <div class=\"toast toast-start toast-middle\">\n",
       "    <div class=\"alert alert-info\">\n",
       "<span>New mail arrived.</span>    </div>\n",
       "    <div class=\"alert alert-success\">\n",
       "<span>Message sent successfully.</span>    </div>\n",
       "  </div>\n",
       "  <div class=\"toast toast-center toast-middle\">\n",
       "    <div class=\"alert alert-info\">\n",
       "<span>New mail arrived.</span>    </div>\n",
       "    <div class=\"alert alert-success\">\n",
       "<span>Message sent successfully.</span>    </div>\n",
       "  </div>\n",
       "  <div class=\"toast toast-end toast-middle\">\n",
       "    <div class=\"alert alert-info\">\n",
       "<span>New mail arrived.</span>    </div>\n",
       "    <div class=\"alert alert-success\">\n",
       "<span>Message sent successfully.</span>    </div>\n",
       "  </div>\n",
       "</div>\n",
       "\n",
       "```"
      ],
      "text/plain": [
       "div((div((div((span(('New mail arrived.',),{}),),{'class': 'alert alert-info'}), div((span(('Message sent successfully.',),{}),),{'class': 'alert alert-success'})),{'class': 'toast toast-start toast-middle'}), div((div((span(('New mail arrived.',),{}),),{'class': 'alert alert-info'}), div((span(('Message sent successfully.',),{}),),{'class': 'alert alert-success'})),{'class': 'toast toast-center toast-middle'}), div((div((span(('New mail arrived.',),{}),),{'class': 'alert alert-info'}), div((span(('Message sent successfully.',),{}),),{'class': 'alert alert-success'})),{'class': 'toast toast-end toast-middle'})),{'class': 'min-h-48'})"
      ]
     },
     "execution_count": null,
     "metadata": {},
     "output_type": "execute_result"
    }
   ],
   "source": [
    "#|exports\n",
    "def test_toast_middle_positions_fasthtml_examples():\n",
    "    \"\"\"Test toast positioning at middle (start, center, end) from daisyUI v5 documentation.\"\"\"\n",
    "    from fasthtml.common import Div, Span\n",
    "    from cjm_fasthtml_tailwind.utilities.sizing import min_h\n",
    "    from cjm_fasthtml_daisyui.components.feedback.alert import alert, alert_colors\n",
    "    \n",
    "    # Toast start middle\n",
    "    toast_start_middle = Div(\n",
    "        Div(\n",
    "            Span(\"New mail arrived.\"),\n",
    "            cls=combine_classes(alert, alert_colors.info)\n",
    "        ),\n",
    "        Div(\n",
    "            Span(\"Message sent successfully.\"),\n",
    "            cls=combine_classes(alert, alert_colors.success)\n",
    "        ),\n",
    "        cls=combine_classes(toast, toast_placement.start, toast_placement.middle)\n",
    "    )\n",
    "    \n",
    "    # Verify structure\n",
    "    assert toast_start_middle.tag == \"div\"\n",
    "    assert \"toast\" in toast_start_middle.attrs['class']\n",
    "    assert \"toast-start\" in toast_start_middle.attrs['class']\n",
    "    assert \"toast-middle\" in toast_start_middle.attrs['class']\n",
    "    assert len(toast_start_middle.children) == 2\n",
    "    \n",
    "    # Verify alerts\n",
    "    assert \"alert-info\" in toast_start_middle.children[0].attrs['class']\n",
    "    assert toast_start_middle.children[0].children[0].children[0] == \"New mail arrived.\"\n",
    "    assert \"alert-success\" in toast_start_middle.children[1].attrs['class']\n",
    "    assert toast_start_middle.children[1].children[0].children[0] == \"Message sent successfully.\"\n",
    "    \n",
    "    # Toast center middle\n",
    "    toast_center_middle = Div(\n",
    "        Div(\n",
    "            Span(\"New mail arrived.\"),\n",
    "            cls=combine_classes(alert, alert_colors.info)\n",
    "        ),\n",
    "        Div(\n",
    "            Span(\"Message sent successfully.\"),\n",
    "            cls=combine_classes(alert, alert_colors.success)\n",
    "        ),\n",
    "        cls=combine_classes(toast, toast_placement.center, toast_placement.middle)\n",
    "    )\n",
    "    \n",
    "    assert \"toast\" in toast_center_middle.attrs['class']\n",
    "    assert \"toast-center\" in toast_center_middle.attrs['class']\n",
    "    assert \"toast-middle\" in toast_center_middle.attrs['class']\n",
    "    \n",
    "    # Toast end middle\n",
    "    toast_end_middle = Div(\n",
    "        Div(\n",
    "            Span(\"New mail arrived.\"),\n",
    "            cls=combine_classes(alert, alert_colors.info)\n",
    "        ),\n",
    "        Div(\n",
    "            Span(\"Message sent successfully.\"),\n",
    "            cls=combine_classes(alert, alert_colors.success)\n",
    "        ),\n",
    "        cls=combine_classes(toast, toast_placement.end, toast_placement.middle)\n",
    "    )\n",
    "    \n",
    "    assert \"toast\" in toast_end_middle.attrs['class']\n",
    "    assert \"toast-end\" in toast_end_middle.attrs['class']\n",
    "    assert \"toast-middle\" in toast_end_middle.attrs['class']\n",
    "    \n",
    "    # Return all middle position variations\n",
    "    return Div(\n",
    "        toast_start_middle,\n",
    "        toast_center_middle,\n",
    "        toast_end_middle,\n",
    "        cls=combine_classes(min_h(48))\n",
    "    )\n",
    "\n",
    "# Run the tests\n",
    "test_toast_middle_positions_fasthtml_examples()"
   ]
  },
  {
   "cell_type": "code",
   "execution_count": null,
   "id": "79433eee-d8f3-43ef-a0c0-9b0310e11e1a",
   "metadata": {},
   "outputs": [],
   "source": []
  },
  {
   "cell_type": "code",
   "execution_count": null,
   "id": "tlvpmiwgqp",
   "metadata": {},
   "outputs": [
    {
     "data": {
      "text/html": [
       "\n",
       "<script>\n",
       "document.body.addEventListener('htmx:configRequest', (event) => {\n",
       "    if(event.detail.path.includes('://')) return;\n",
       "    htmx.config.selfRequestsOnly=false;\n",
       "    event.detail.path = `${location.protocol}//${location.hostname}:8000${event.detail.path}`;\n",
       "});\n",
       "</script>"
      ],
      "text/plain": [
       "<IPython.core.display.HTML object>"
      ]
     },
     "metadata": {},
     "output_type": "display_data"
    },
    {
     "data": {
      "text/html": [
       "<iframe src=\"http://localhost:8000/\" style=\"width: 100%; height: auto; border: none;\" onload=\"{\n",
       "        let frame = this;\n",
       "        window.addEventListener('message', function(e) {\n",
       "            if (e.source !== frame.contentWindow) return; // Only proceed if the message is from this iframe\n",
       "            if (e.data.height) frame.style.height = (e.data.height+1) + 'px';\n",
       "        }, false);\n",
       "    }\" allow=\"accelerometer; autoplay; camera; clipboard-read; clipboard-write; display-capture; encrypted-media; fullscreen; gamepad; geolocation; gyroscope; hid; identity-credentials-get; idle-detection; magnetometer; microphone; midi; payment; picture-in-picture; publickey-credentials-get; screen-wake-lock; serial; usb; web-share; xr-spatial-tracking\"></iframe> "
      ],
      "text/plain": [
       "<IPython.core.display.HTML object>"
      ]
     },
     "metadata": {},
     "output_type": "display_data"
    }
   ],
   "source": [
    "#| eval: false\n",
    "#| output: false\n",
    "test_func = test_toast_middle_positions_fasthtml_examples\n",
    "app, rt = create_test_app(theme=DaisyUITheme.LIGHT)\n",
    "\n",
    "@rt\n",
    "def index():\n",
    "    return create_test_page(test_func.__doc__.title().replace('.', ''), test_func())\n",
    "server = start_test_server(app)\n",
    "display(HTMX())\n",
    "server.stop()"
   ]
  },
  {
   "cell_type": "code",
   "execution_count": null,
   "id": "f843b8d4-fad4-4e38-a980-ead1dab28d69",
   "metadata": {},
   "outputs": [
    {
     "data": {
      "text/markdown": [
       "```html\n",
       "<div class=\"min-h-48\">\n",
       "  <div class=\"toast toast-start\">\n",
       "    <div class=\"alert alert-info\">\n",
       "<span>New mail arrived.</span>    </div>\n",
       "    <div class=\"alert alert-success\">\n",
       "<span>Message sent successfully.</span>    </div>\n",
       "  </div>\n",
       "  <div class=\"toast toast-center\">\n",
       "    <div class=\"alert alert-info\">\n",
       "<span>New mail arrived.</span>    </div>\n",
       "    <div class=\"alert alert-success\">\n",
       "<span>Message sent successfully.</span>    </div>\n",
       "  </div>\n",
       "  <div class=\"toast toast-end\">\n",
       "    <div class=\"alert alert-info\">\n",
       "<span>New mail arrived.</span>    </div>\n",
       "    <div class=\"alert alert-success\">\n",
       "<span>Message sent successfully.</span>    </div>\n",
       "  </div>\n",
       "</div>\n",
       "\n",
       "```"
      ],
      "text/plain": [
       "div((div((div((span(('New mail arrived.',),{}),),{'class': 'alert alert-info'}), div((span(('Message sent successfully.',),{}),),{'class': 'alert alert-success'})),{'class': 'toast toast-start'}), div((div((span(('New mail arrived.',),{}),),{'class': 'alert alert-info'}), div((span(('Message sent successfully.',),{}),),{'class': 'alert alert-success'})),{'class': 'toast toast-center'}), div((div((span(('New mail arrived.',),{}),),{'class': 'alert alert-info'}), div((span(('Message sent successfully.',),{}),),{'class': 'alert alert-success'})),{'class': 'toast toast-end'})),{'class': 'min-h-48'})"
      ]
     },
     "execution_count": null,
     "metadata": {},
     "output_type": "execute_result"
    }
   ],
   "source": [
    "#|exports\n",
    "def test_toast_bottom_positions_fasthtml_examples():\n",
    "    \"\"\"Test toast positioning at bottom (start, center, end) from daisyUI v5 documentation.\"\"\"\n",
    "    from fasthtml.common import Div, Span\n",
    "    from cjm_fasthtml_tailwind.utilities.sizing import min_h\n",
    "    from cjm_fasthtml_daisyui.components.feedback.alert import alert, alert_colors\n",
    "    \n",
    "    # Toast start bottom (default)\n",
    "    toast_start_bottom = Div(\n",
    "        Div(\n",
    "            Span(\"New mail arrived.\"),\n",
    "            cls=combine_classes(alert, alert_colors.info)\n",
    "        ),\n",
    "        Div(\n",
    "            Span(\"Message sent successfully.\"),\n",
    "            cls=combine_classes(alert, alert_colors.success)\n",
    "        ),\n",
    "        cls=combine_classes(toast, toast_placement.start)\n",
    "    )\n",
    "    \n",
    "    # Verify structure - note that bottom is default, so no toast-bottom class\n",
    "    assert toast_start_bottom.tag == \"div\"\n",
    "    assert \"toast\" in toast_start_bottom.attrs['class']\n",
    "    assert \"toast-start\" in toast_start_bottom.attrs['class']\n",
    "    # Bottom is default, so toast-bottom is not needed\n",
    "    assert len(toast_start_bottom.children) == 2\n",
    "    \n",
    "    # Verify alerts\n",
    "    assert \"alert-info\" in toast_start_bottom.children[0].attrs['class']\n",
    "    assert toast_start_bottom.children[0].children[0].children[0] == \"New mail arrived.\"\n",
    "    assert \"alert-success\" in toast_start_bottom.children[1].attrs['class']\n",
    "    assert toast_start_bottom.children[1].children[0].children[0] == \"Message sent successfully.\"\n",
    "    \n",
    "    # Toast center bottom (default)\n",
    "    toast_center_bottom = Div(\n",
    "        Div(\n",
    "            Span(\"New mail arrived.\"),\n",
    "            cls=combine_classes(alert, alert_colors.info)\n",
    "        ),\n",
    "        Div(\n",
    "            Span(\"Message sent successfully.\"),\n",
    "            cls=combine_classes(alert, alert_colors.success)\n",
    "        ),\n",
    "        cls=combine_classes(toast, toast_placement.center)\n",
    "    )\n",
    "    \n",
    "    assert \"toast\" in toast_center_bottom.attrs['class']\n",
    "    assert \"toast-center\" in toast_center_bottom.attrs['class']\n",
    "    # Bottom is default, so toast-bottom is not needed\n",
    "    \n",
    "    # Toast end bottom (both are defaults)\n",
    "    toast_end_bottom = Div(\n",
    "        Div(\n",
    "            Span(\"New mail arrived.\"),\n",
    "            cls=combine_classes(alert, alert_colors.info)\n",
    "        ),\n",
    "        Div(\n",
    "            Span(\"Message sent successfully.\"),\n",
    "            cls=combine_classes(alert, alert_colors.success)\n",
    "        ),\n",
    "        cls=combine_classes(toast, toast_placement.end)\n",
    "    )\n",
    "    \n",
    "    assert \"toast\" in toast_end_bottom.attrs['class']\n",
    "    assert \"toast-end\" in toast_end_bottom.attrs['class']\n",
    "    # Bottom is default, so toast-bottom is not needed\n",
    "    \n",
    "    # Return all bottom position variations\n",
    "    return Div(\n",
    "        toast_start_bottom,\n",
    "        toast_center_bottom,\n",
    "        toast_end_bottom,\n",
    "        cls=combine_classes(min_h(48))\n",
    "    )\n",
    "\n",
    "# Run the tests\n",
    "test_toast_bottom_positions_fasthtml_examples()"
   ]
  },
  {
   "cell_type": "code",
   "execution_count": null,
   "id": "466f3d9e-1918-4b65-bc56-641b427a9fa7",
   "metadata": {},
   "outputs": [],
   "source": []
  },
  {
   "cell_type": "code",
   "execution_count": null,
   "id": "aekh0edycvo",
   "metadata": {},
   "outputs": [
    {
     "data": {
      "text/html": [
       "\n",
       "<script>\n",
       "document.body.addEventListener('htmx:configRequest', (event) => {\n",
       "    if(event.detail.path.includes('://')) return;\n",
       "    htmx.config.selfRequestsOnly=false;\n",
       "    event.detail.path = `${location.protocol}//${location.hostname}:8000${event.detail.path}`;\n",
       "});\n",
       "</script>"
      ],
      "text/plain": [
       "<IPython.core.display.HTML object>"
      ]
     },
     "metadata": {},
     "output_type": "display_data"
    },
    {
     "data": {
      "text/html": [
       "<iframe src=\"http://localhost:8000/\" style=\"width: 100%; height: auto; border: none;\" onload=\"{\n",
       "        let frame = this;\n",
       "        window.addEventListener('message', function(e) {\n",
       "            if (e.source !== frame.contentWindow) return; // Only proceed if the message is from this iframe\n",
       "            if (e.data.height) frame.style.height = (e.data.height+1) + 'px';\n",
       "        }, false);\n",
       "    }\" allow=\"accelerometer; autoplay; camera; clipboard-read; clipboard-write; display-capture; encrypted-media; fullscreen; gamepad; geolocation; gyroscope; hid; identity-credentials-get; idle-detection; magnetometer; microphone; midi; payment; picture-in-picture; publickey-credentials-get; screen-wake-lock; serial; usb; web-share; xr-spatial-tracking\"></iframe> "
      ],
      "text/plain": [
       "<IPython.core.display.HTML object>"
      ]
     },
     "metadata": {},
     "output_type": "display_data"
    }
   ],
   "source": [
    "#| eval: false\n",
    "#| output: false\n",
    "test_func = test_toast_bottom_positions_fasthtml_examples\n",
    "app, rt = create_test_app(theme=DaisyUITheme.LIGHT)\n",
    "\n",
    "@rt\n",
    "def index():\n",
    "    return create_test_page(test_func.__doc__.title().replace('.', ''), test_func())\n",
    "server = start_test_server(app)\n",
    "display(HTMX())\n",
    "server.stop()"
   ]
  },
  {
   "cell_type": "code",
   "execution_count": null,
   "id": "c9dfaad9-504c-4853-886b-2d1adb1cc3a0",
   "metadata": {},
   "outputs": [],
   "source": []
  },
  {
   "cell_type": "code",
   "execution_count": null,
   "id": "454d5b84-fc57-44ab-a6f0-3123333998cb",
   "metadata": {},
   "outputs": [],
   "source": []
  },
  {
   "cell_type": "code",
   "execution_count": null,
   "id": "d471d21b-6fe5-4c63-90be-5176c4cbd08b",
   "metadata": {},
   "outputs": [],
   "source": []
  },
  {
   "cell_type": "code",
   "execution_count": null,
   "id": "73b88b7e-0be6-4a82-9c02-f3df8af20015",
   "metadata": {},
   "outputs": [],
   "source": []
  },
  {
   "cell_type": "code",
   "execution_count": null,
   "id": "7ab8257a-c30b-45b6-a784-729b67686791",
   "metadata": {},
   "outputs": [],
   "source": [
    "#| hide\n",
    "import nbdev; nbdev.nbdev_export()"
   ]
  }
 ],
 "metadata": {
  "kernelspec": {
   "display_name": "python3",
   "language": "python",
   "name": "python3"
  }
 },
 "nbformat": 4,
 "nbformat_minor": 5
}
