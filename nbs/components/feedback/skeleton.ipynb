{
 "cells": [
  {
   "cell_type": "markdown",
   "id": "7c51b46b-ece1-456d-8e84-7de122e72b62",
   "metadata": {},
   "source": [
    "# skeleton\n",
    "\n",
    "> Skeleton is a component that can be used to show a loading state of a component."
   ]
  },
  {
   "cell_type": "code",
   "execution_count": null,
   "id": "25536bdc-e099-477f-9e2d-a5f71df5dff2",
   "metadata": {},
   "outputs": [],
   "source": [
    "#| default_exp components.feedback.skeleton"
   ]
  },
  {
   "cell_type": "code",
   "execution_count": null,
   "id": "2e6f21ce-7766-455a-8ebb-df2c17e7d977",
   "metadata": {},
   "outputs": [],
   "source": [
    "#| hide\n",
    "from nbdev.showdoc import *"
   ]
  },
  {
   "cell_type": "code",
   "execution_count": null,
   "id": "045c6538-403e-4222-b3bb-db20f188524d",
   "metadata": {},
   "outputs": [],
   "source": [
    "#| export\n",
    "\n",
    "from cjm_fasthtml_tailwind.core.base import (\n",
    "    SingleValueFactory, combine_classes\n",
    ")\n",
    "\n",
    "from fasthtml.common import Div\n",
    "from fasthtml.jupyter import JupyUvi, HTMX\n",
    "from cjm_fasthtml_daisyui.core.testing import create_test_app, create_test_page, start_test_server\n",
    "from cjm_fasthtml_daisyui.core.themes import DaisyUITheme\n",
    "from IPython.display import display"
   ]
  },
  {
   "cell_type": "markdown",
   "id": "5b76d085-ff1a-48a4-8b30-1fc6654f8e83",
   "metadata": {},
   "source": [
    "### Base Skeleton"
   ]
  },
  {
   "cell_type": "code",
   "execution_count": null,
   "id": "c802d106-49fb-4d34-ba04-5f54c88e165b",
   "metadata": {},
   "outputs": [],
   "source": [
    "#| exports\n",
    "skeleton = SingleValueFactory(\"skeleton\", \"A placeholder div with loading animation\") # Base skeleton component"
   ]
  },
  {
   "cell_type": "markdown",
   "id": "bbaf7317-9757-4c36-971f-081010cacc50",
   "metadata": {},
   "source": [
    "### Skeleton Test Examples"
   ]
  },
  {
   "cell_type": "code",
   "execution_count": null,
   "id": "636c6bcd-2176-4191-aa39-c937893243e2",
   "metadata": {},
   "outputs": [],
   "source": [
    "#|exports\n",
    "def test_skeleton_basic_examples():\n",
    "    \"\"\"Test basic skeleton utilities.\"\"\"\n",
    "    # Basic skeleton\n",
    "    assert str(skeleton) == \"skeleton\"\n",
    "    \n",
    "    # Skeleton with modifiers\n",
    "    assert str(skeleton.hover) == \"hover:skeleton\"\n",
    "    assert str(skeleton.md) == \"md:skeleton\"\n",
    "    assert str(skeleton.dark) == \"dark:skeleton\"\n",
    "\n",
    "# Run the tests\n",
    "test_skeleton_basic_examples()"
   ]
  },
  {
   "cell_type": "code",
   "execution_count": null,
   "id": "e83c907f-71d2-4e84-9852-7d32242c37bf",
   "metadata": {},
   "outputs": [
    {
     "data": {
      "text/markdown": [
       "```html\n",
       "<div class=\"skeleton h-32 w-32\"></div>\n",
       "\n",
       "```"
      ],
      "text/plain": [
       "div((),{'class': 'skeleton h-32 w-32'})"
      ]
     },
     "execution_count": null,
     "metadata": {},
     "output_type": "execute_result"
    }
   ],
   "source": [
    "#|exports\n",
    "def test_skeleton_basic_fasthtml_examples():\n",
    "    \"\"\"Test basic skeleton from daisyUI v5 documentation.\"\"\"\n",
    "    from fasthtml.common import Div\n",
    "    from cjm_fasthtml_tailwind.utilities.sizing import h, w\n",
    "    \n",
    "    # Basic skeleton\n",
    "    basic_skeleton = Div(\n",
    "        cls=combine_classes(skeleton, h._32, w._32)\n",
    "    )\n",
    "    \n",
    "    # Verify structure\n",
    "    assert basic_skeleton.tag == \"div\"\n",
    "    assert \"skeleton\" in basic_skeleton.attrs['class']\n",
    "    assert \"h-32\" in basic_skeleton.attrs['class']\n",
    "    assert \"w-32\" in basic_skeleton.attrs['class']\n",
    "    \n",
    "    return basic_skeleton\n",
    "\n",
    "# Run the tests\n",
    "test_skeleton_basic_fasthtml_examples()"
   ]
  },
  {
   "cell_type": "code",
   "execution_count": null,
   "id": "75e3841c-b19e-47ad-9093-71c756be2a1b",
   "metadata": {},
   "outputs": [],
   "source": []
  },
  {
   "cell_type": "code",
   "execution_count": null,
   "id": "41b7ln6hhv7",
   "metadata": {},
   "outputs": [
    {
     "data": {
      "text/html": [
       "\n",
       "<script>\n",
       "document.body.addEventListener('htmx:configRequest', (event) => {\n",
       "    if(event.detail.path.includes('://')) return;\n",
       "    htmx.config.selfRequestsOnly=false;\n",
       "    event.detail.path = `${location.protocol}//${location.hostname}:8000${event.detail.path}`;\n",
       "});\n",
       "</script>"
      ],
      "text/plain": [
       "<IPython.core.display.HTML object>"
      ]
     },
     "metadata": {},
     "output_type": "display_data"
    },
    {
     "data": {
      "text/html": [
       "<iframe src=\"http://localhost:8000/\" style=\"width: 100%; height: auto; border: none;\" onload=\"{\n",
       "        let frame = this;\n",
       "        window.addEventListener('message', function(e) {\n",
       "            if (e.source !== frame.contentWindow) return; // Only proceed if the message is from this iframe\n",
       "            if (e.data.height) frame.style.height = (e.data.height+1) + 'px';\n",
       "        }, false);\n",
       "    }\" allow=\"accelerometer; autoplay; camera; clipboard-read; clipboard-write; display-capture; encrypted-media; fullscreen; gamepad; geolocation; gyroscope; hid; identity-credentials-get; idle-detection; magnetometer; microphone; midi; payment; picture-in-picture; publickey-credentials-get; screen-wake-lock; serial; usb; web-share; xr-spatial-tracking\"></iframe> "
      ],
      "text/plain": [
       "<IPython.core.display.HTML object>"
      ]
     },
     "metadata": {},
     "output_type": "display_data"
    }
   ],
   "source": [
    "#| eval: false\n",
    "#| output: false\n",
    "test_func = test_skeleton_basic_fasthtml_examples\n",
    "app, rt = create_test_app(theme=DaisyUITheme.LIGHT)\n",
    "\n",
    "@rt\n",
    "def index():\n",
    "    return create_test_page(test_func.__doc__.title().replace('.', ''), test_func())\n",
    "server = start_test_server(app)\n",
    "display(HTMX())\n",
    "server.stop()"
   ]
  },
  {
   "cell_type": "code",
   "execution_count": null,
   "id": "f94fc717-242e-4176-b12f-9fd23082181c",
   "metadata": {},
   "outputs": [
    {
     "data": {
      "text/markdown": [
       "```html\n",
       "<div class=\"flex w-52 flex-col gap-4\">\n",
       "  <div class=\"flex items-center gap-4\">\n",
       "    <div class=\"skeleton h-16 w-16 shrink-0 rounded-full\"></div>\n",
       "    <div class=\"flex flex-col gap-4\">\n",
       "      <div class=\"skeleton h-4 w-20\"></div>\n",
       "      <div class=\"skeleton h-4 w-28\"></div>\n",
       "    </div>\n",
       "  </div>\n",
       "  <div class=\"skeleton h-32 w-full\"></div>\n",
       "</div>\n",
       "\n",
       "```"
      ],
      "text/plain": [
       "div((div((div((),{'class': 'skeleton h-16 w-16 shrink-0 rounded-full'}), div((div((),{'class': 'skeleton h-4 w-20'}), div((),{'class': 'skeleton h-4 w-28'})),{'class': 'flex flex-col gap-4'})),{'class': 'flex items-center gap-4'}), div((),{'class': 'skeleton h-32 w-full'})),{'class': 'flex w-52 flex-col gap-4'})"
      ]
     },
     "execution_count": null,
     "metadata": {},
     "output_type": "execute_result"
    }
   ],
   "source": [
    "#|exports\n",
    "def test_skeleton_circle_with_content_fasthtml_examples():\n",
    "    \"\"\"Test skeleton circle with content from daisyUI v5 documentation.\"\"\"\n",
    "    from fasthtml.common import Div\n",
    "    from cjm_fasthtml_tailwind.utilities.sizing import h, w\n",
    "    from cjm_fasthtml_tailwind.utilities.layout import display_tw\n",
    "    from cjm_fasthtml_tailwind.utilities.flexbox_and_grid import flex_direction, items, gap, shrink\n",
    "    from cjm_fasthtml_tailwind.utilities.borders import rounded\n",
    "    \n",
    "    # Skeleton circle with content\n",
    "    circle_with_content = Div(\n",
    "        Div(\n",
    "            Div(cls=combine_classes(skeleton, h._16, w._16, shrink._0, rounded.full)),\n",
    "            Div(\n",
    "                Div(cls=combine_classes(skeleton, h._4, w._20)),\n",
    "                Div(cls=combine_classes(skeleton, h._4, w._28)),\n",
    "                cls=combine_classes(display_tw.flex, flex_direction.col, gap._4)\n",
    "            ),\n",
    "            cls=combine_classes(display_tw.flex, items.center, gap._4)\n",
    "        ),\n",
    "        Div(cls=combine_classes(skeleton, h._32, w.full)),\n",
    "        cls=combine_classes(display_tw.flex, w._52, flex_direction.col, gap._4)\n",
    "    )\n",
    "    \n",
    "    # Verify outer container\n",
    "    assert circle_with_content.tag == \"div\"\n",
    "    assert \"flex\" in circle_with_content.attrs['class']\n",
    "    assert \"w-52\" in circle_with_content.attrs['class']\n",
    "    assert \"flex-col\" in circle_with_content.attrs['class']\n",
    "    assert \"gap-4\" in circle_with_content.attrs['class']\n",
    "    \n",
    "    # Verify first child (flex container with circle and text skeletons)\n",
    "    first_child = circle_with_content.children[0]\n",
    "    assert first_child.tag == \"div\"\n",
    "    assert \"flex\" in first_child.attrs['class']\n",
    "    assert \"items-center\" in first_child.attrs['class']\n",
    "    assert \"gap-4\" in first_child.attrs['class']\n",
    "    \n",
    "    # Verify circle skeleton\n",
    "    circle_skeleton = first_child.children[0]\n",
    "    assert circle_skeleton.tag == \"div\"\n",
    "    assert \"skeleton\" in circle_skeleton.attrs['class']\n",
    "    assert \"h-16\" in circle_skeleton.attrs['class']\n",
    "    assert \"w-16\" in circle_skeleton.attrs['class']\n",
    "    assert \"shrink-0\" in circle_skeleton.attrs['class']\n",
    "    assert \"rounded-full\" in circle_skeleton.attrs['class']\n",
    "    \n",
    "    # Verify text skeletons container\n",
    "    text_container = first_child.children[1]\n",
    "    assert text_container.tag == \"div\"\n",
    "    assert \"flex\" in text_container.attrs['class']\n",
    "    assert \"flex-col\" in text_container.attrs['class']\n",
    "    assert \"gap-4\" in text_container.attrs['class']\n",
    "    \n",
    "    # Verify first text skeleton\n",
    "    first_text = text_container.children[0]\n",
    "    assert \"skeleton\" in first_text.attrs['class']\n",
    "    assert \"h-4\" in first_text.attrs['class']\n",
    "    assert \"w-20\" in first_text.attrs['class']\n",
    "    \n",
    "    # Verify second text skeleton\n",
    "    second_text = text_container.children[1]\n",
    "    assert \"skeleton\" in second_text.attrs['class']\n",
    "    assert \"h-4\" in second_text.attrs['class']\n",
    "    assert \"w-28\" in second_text.attrs['class']\n",
    "    \n",
    "    # Verify bottom skeleton\n",
    "    bottom_skeleton = circle_with_content.children[1]\n",
    "    assert bottom_skeleton.tag == \"div\"\n",
    "    assert \"skeleton\" in bottom_skeleton.attrs['class']\n",
    "    assert \"h-32\" in bottom_skeleton.attrs['class']\n",
    "    assert \"w-full\" in bottom_skeleton.attrs['class']\n",
    "    \n",
    "    return circle_with_content\n",
    "\n",
    "# Run the tests\n",
    "test_skeleton_circle_with_content_fasthtml_examples()"
   ]
  },
  {
   "cell_type": "code",
   "execution_count": null,
   "id": "pxo9yaysy1",
   "metadata": {},
   "outputs": [
    {
     "data": {
      "text/html": [
       "\n",
       "<script>\n",
       "document.body.addEventListener('htmx:configRequest', (event) => {\n",
       "    if(event.detail.path.includes('://')) return;\n",
       "    htmx.config.selfRequestsOnly=false;\n",
       "    event.detail.path = `${location.protocol}//${location.hostname}:8000${event.detail.path}`;\n",
       "});\n",
       "</script>"
      ],
      "text/plain": [
       "<IPython.core.display.HTML object>"
      ]
     },
     "metadata": {},
     "output_type": "display_data"
    },
    {
     "data": {
      "text/html": [
       "<iframe src=\"http://localhost:8000/\" style=\"width: 100%; height: auto; border: none;\" onload=\"{\n",
       "        let frame = this;\n",
       "        window.addEventListener('message', function(e) {\n",
       "            if (e.source !== frame.contentWindow) return; // Only proceed if the message is from this iframe\n",
       "            if (e.data.height) frame.style.height = (e.data.height+1) + 'px';\n",
       "        }, false);\n",
       "    }\" allow=\"accelerometer; autoplay; camera; clipboard-read; clipboard-write; display-capture; encrypted-media; fullscreen; gamepad; geolocation; gyroscope; hid; identity-credentials-get; idle-detection; magnetometer; microphone; midi; payment; picture-in-picture; publickey-credentials-get; screen-wake-lock; serial; usb; web-share; xr-spatial-tracking\"></iframe> "
      ],
      "text/plain": [
       "<IPython.core.display.HTML object>"
      ]
     },
     "metadata": {},
     "output_type": "display_data"
    }
   ],
   "source": [
    "#| eval: false\n",
    "#| output: false\n",
    "test_func = test_skeleton_circle_with_content_fasthtml_examples\n",
    "app, rt = create_test_app(theme=DaisyUITheme.LIGHT)\n",
    "\n",
    "@rt\n",
    "def index():\n",
    "    return create_test_page(test_func.__doc__.title().replace('.', ''), test_func())\n",
    "server = start_test_server(app)\n",
    "display(HTMX())\n",
    "server.stop()"
   ]
  },
  {
   "cell_type": "code",
   "execution_count": null,
   "id": "b45de226-e7dc-4c7f-ab50-a86152d89c54",
   "metadata": {},
   "outputs": [
    {
     "data": {
      "text/markdown": [
       "```html\n",
       "<div class=\"flex w-52 flex-col gap-4\">\n",
       "  <div class=\"skeleton h-32 w-full\"></div>\n",
       "  <div class=\"skeleton h-4 w-28\"></div>\n",
       "  <div class=\"skeleton h-4 w-full\"></div>\n",
       "  <div class=\"skeleton h-4 w-full\"></div>\n",
       "</div>\n",
       "\n",
       "```"
      ],
      "text/plain": [
       "div((div((),{'class': 'skeleton h-32 w-full'}), div((),{'class': 'skeleton h-4 w-28'}), div((),{'class': 'skeleton h-4 w-full'}), div((),{'class': 'skeleton h-4 w-full'})),{'class': 'flex w-52 flex-col gap-4'})"
      ]
     },
     "execution_count": null,
     "metadata": {},
     "output_type": "execute_result"
    }
   ],
   "source": [
    "#|exports\n",
    "def test_skeleton_rectangle_with_content_fasthtml_examples():\n",
    "    \"\"\"Test skeleton rectangle with content from daisyUI v5 documentation.\"\"\"\n",
    "    from fasthtml.common import Div\n",
    "    from cjm_fasthtml_tailwind.utilities.sizing import h, w\n",
    "    from cjm_fasthtml_tailwind.utilities.layout import display_tw\n",
    "    from cjm_fasthtml_tailwind.utilities.flexbox_and_grid import flex_direction, gap\n",
    "    \n",
    "    # Skeleton rectangle with content\n",
    "    rectangle_with_content = Div(\n",
    "        Div(cls=combine_classes(skeleton, h._32, w.full)),\n",
    "        Div(cls=combine_classes(skeleton, h._4, w._28)),\n",
    "        Div(cls=combine_classes(skeleton, h._4, w.full)),\n",
    "        Div(cls=combine_classes(skeleton, h._4, w.full)),\n",
    "        cls=combine_classes(display_tw.flex, w._52, flex_direction.col, gap._4)\n",
    "    )\n",
    "    \n",
    "    # Verify outer container\n",
    "    assert rectangle_with_content.tag == \"div\"\n",
    "    assert \"flex\" in rectangle_with_content.attrs['class']\n",
    "    assert \"w-52\" in rectangle_with_content.attrs['class']\n",
    "    assert \"flex-col\" in rectangle_with_content.attrs['class']\n",
    "    assert \"gap-4\" in rectangle_with_content.attrs['class']\n",
    "    \n",
    "    # Verify children count\n",
    "    assert len(rectangle_with_content.children) == 4\n",
    "    \n",
    "    # Verify first skeleton (large rectangle)\n",
    "    first_skeleton = rectangle_with_content.children[0]\n",
    "    assert first_skeleton.tag == \"div\"\n",
    "    assert \"skeleton\" in first_skeleton.attrs['class']\n",
    "    assert \"h-32\" in first_skeleton.attrs['class']\n",
    "    assert \"w-full\" in first_skeleton.attrs['class']\n",
    "    \n",
    "    # Verify second skeleton (short line)\n",
    "    second_skeleton = rectangle_with_content.children[1]\n",
    "    assert second_skeleton.tag == \"div\"\n",
    "    assert \"skeleton\" in second_skeleton.attrs['class']\n",
    "    assert \"h-4\" in second_skeleton.attrs['class']\n",
    "    assert \"w-28\" in second_skeleton.attrs['class']\n",
    "    \n",
    "    # Verify third skeleton (full width line)\n",
    "    third_skeleton = rectangle_with_content.children[2]\n",
    "    assert third_skeleton.tag == \"div\"\n",
    "    assert \"skeleton\" in third_skeleton.attrs['class']\n",
    "    assert \"h-4\" in third_skeleton.attrs['class']\n",
    "    assert \"w-full\" in third_skeleton.attrs['class']\n",
    "    \n",
    "    # Verify fourth skeleton (full width line)\n",
    "    fourth_skeleton = rectangle_with_content.children[3]\n",
    "    assert fourth_skeleton.tag == \"div\"\n",
    "    assert \"skeleton\" in fourth_skeleton.attrs['class']\n",
    "    assert \"h-4\" in fourth_skeleton.attrs['class']\n",
    "    assert \"w-full\" in fourth_skeleton.attrs['class']\n",
    "    \n",
    "    return rectangle_with_content\n",
    "\n",
    "# Run the tests\n",
    "test_skeleton_rectangle_with_content_fasthtml_examples()"
   ]
  },
  {
   "cell_type": "code",
   "execution_count": null,
   "id": "ad2d932c-79ea-4792-bdaf-5bda859340ca",
   "metadata": {},
   "outputs": [],
   "source": []
  },
  {
   "cell_type": "code",
   "execution_count": null,
   "id": "x9qdxlm0haf",
   "metadata": {},
   "outputs": [
    {
     "data": {
      "text/html": [
       "\n",
       "<script>\n",
       "document.body.addEventListener('htmx:configRequest', (event) => {\n",
       "    if(event.detail.path.includes('://')) return;\n",
       "    htmx.config.selfRequestsOnly=false;\n",
       "    event.detail.path = `${location.protocol}//${location.hostname}:8000${event.detail.path}`;\n",
       "});\n",
       "</script>"
      ],
      "text/plain": [
       "<IPython.core.display.HTML object>"
      ]
     },
     "metadata": {},
     "output_type": "display_data"
    },
    {
     "data": {
      "text/html": [
       "<iframe src=\"http://localhost:8000/\" style=\"width: 100%; height: auto; border: none;\" onload=\"{\n",
       "        let frame = this;\n",
       "        window.addEventListener('message', function(e) {\n",
       "            if (e.source !== frame.contentWindow) return; // Only proceed if the message is from this iframe\n",
       "            if (e.data.height) frame.style.height = (e.data.height+1) + 'px';\n",
       "        }, false);\n",
       "    }\" allow=\"accelerometer; autoplay; camera; clipboard-read; clipboard-write; display-capture; encrypted-media; fullscreen; gamepad; geolocation; gyroscope; hid; identity-credentials-get; idle-detection; magnetometer; microphone; midi; payment; picture-in-picture; publickey-credentials-get; screen-wake-lock; serial; usb; web-share; xr-spatial-tracking\"></iframe> "
      ],
      "text/plain": [
       "<IPython.core.display.HTML object>"
      ]
     },
     "metadata": {},
     "output_type": "display_data"
    }
   ],
   "source": [
    "#| eval: false\n",
    "#| output: false\n",
    "test_func = test_skeleton_rectangle_with_content_fasthtml_examples\n",
    "app, rt = create_test_app(theme=DaisyUITheme.LIGHT)\n",
    "\n",
    "@rt\n",
    "def index():\n",
    "    return create_test_page(test_func.__doc__.title().replace('.', ''), test_func())\n",
    "server = start_test_server(app)\n",
    "display(HTMX())\n",
    "server.stop()"
   ]
  },
  {
   "cell_type": "code",
   "execution_count": null,
   "id": "3035ff66-e4e7-410c-8b1e-86a879f66112",
   "metadata": {},
   "outputs": [],
   "source": []
  },
  {
   "cell_type": "code",
   "execution_count": null,
   "id": "4666a5a3-26bb-4d91-b5be-f941df8f9d2f",
   "metadata": {},
   "outputs": [],
   "source": []
  },
  {
   "cell_type": "code",
   "execution_count": null,
   "id": "85d72161-e718-4c66-bc59-a3569b7f7616",
   "metadata": {},
   "outputs": [],
   "source": []
  },
  {
   "cell_type": "code",
   "execution_count": null,
   "id": "214654cc-9758-48f9-92e2-0892029c4512",
   "metadata": {},
   "outputs": [],
   "source": []
  },
  {
   "cell_type": "code",
   "execution_count": null,
   "id": "a9d78aa3-0be8-49e6-8bfb-cb9a232ee1ee",
   "metadata": {},
   "outputs": [],
   "source": []
  },
  {
   "cell_type": "code",
   "execution_count": null,
   "id": "01785a18-9bb0-4dbc-9eae-04addf6dede9",
   "metadata": {},
   "outputs": [],
   "source": []
  },
  {
   "cell_type": "code",
   "execution_count": null,
   "id": "43a3d5aa-4f07-48f4-b7c3-5c63612f0fb2",
   "metadata": {},
   "outputs": [],
   "source": []
  },
  {
   "cell_type": "code",
   "execution_count": null,
   "id": "248adc40-6e77-4203-9830-de838e25a00a",
   "metadata": {},
   "outputs": [],
   "source": []
  },
  {
   "cell_type": "code",
   "execution_count": null,
   "id": "a2029d6d-bf22-4e16-87e1-d609762dc867",
   "metadata": {},
   "outputs": [],
   "source": []
  },
  {
   "cell_type": "code",
   "execution_count": null,
   "id": "c9dfaad9-504c-4853-886b-2d1adb1cc3a0",
   "metadata": {},
   "outputs": [],
   "source": []
  },
  {
   "cell_type": "code",
   "execution_count": null,
   "id": "454d5b84-fc57-44ab-a6f0-3123333998cb",
   "metadata": {},
   "outputs": [],
   "source": []
  },
  {
   "cell_type": "code",
   "execution_count": null,
   "id": "d471d21b-6fe5-4c63-90be-5176c4cbd08b",
   "metadata": {},
   "outputs": [],
   "source": []
  },
  {
   "cell_type": "code",
   "execution_count": null,
   "id": "73b88b7e-0be6-4a82-9c02-f3df8af20015",
   "metadata": {},
   "outputs": [],
   "source": []
  },
  {
   "cell_type": "code",
   "execution_count": null,
   "id": "7ab8257a-c30b-45b6-a784-729b67686791",
   "metadata": {},
   "outputs": [],
   "source": [
    "#| hide\n",
    "import nbdev; nbdev.nbdev_export()"
   ]
  }
 ],
 "metadata": {
  "kernelspec": {
   "display_name": "python3",
   "language": "python",
   "name": "python3"
  }
 },
 "nbformat": 4,
 "nbformat_minor": 5
}
