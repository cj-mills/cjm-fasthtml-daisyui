{
 "cells": [
  {
   "cell_type": "markdown",
   "id": "7c51b46b-ece1-456d-8e84-7de122e72b62",
   "metadata": {},
   "source": [
    "# loading\n",
    "\n",
    "> Loading shows an animation to indicate that something is loading."
   ]
  },
  {
   "cell_type": "code",
   "execution_count": null,
   "id": "25536bdc-e099-477f-9e2d-a5f71df5dff2",
   "metadata": {},
   "outputs": [],
   "source": [
    "#| default_exp components.feedback.loading"
   ]
  },
  {
   "cell_type": "code",
   "execution_count": null,
   "id": "2e6f21ce-7766-455a-8ebb-df2c17e7d977",
   "metadata": {},
   "outputs": [],
   "source": [
    "#| hide\n",
    "from nbdev.showdoc import *"
   ]
  },
  {
   "cell_type": "code",
   "execution_count": null,
   "id": "045c6538-403e-4222-b3bb-db20f188524d",
   "metadata": {},
   "outputs": [],
   "source": [
    "#| export\n",
    "from enum import Enum\n",
    "from cjm_fasthtml_tailwind.core.base import (\n",
    "    SingleValueFactory, combine_classes\n",
    ")\n",
    "from cjm_fasthtml_tailwind.builders.scales import SimpleFactory, enums_to_simple_factory\n",
    "\n",
    "from cjm_fasthtml_daisyui.builders.sizes import DaisyUINamedSize\n",
    "\n",
    "from fasthtml.common import Div\n",
    "from fasthtml.jupyter import JupyUvi, HTMX\n",
    "from cjm_fasthtml_daisyui.core.testing import create_test_app, create_test_page, start_test_server\n",
    "from cjm_fasthtml_daisyui.core.themes import DaisyUITheme\n",
    "from IPython.display import display"
   ]
  },
  {
   "cell_type": "markdown",
   "id": "b26629b6-ed10-4b55-bbe1-7b3aa4abad6e",
   "metadata": {},
   "source": [
    "### Base Loading"
   ]
  },
  {
   "cell_type": "code",
   "execution_count": null,
   "id": "c802d106-49fb-4d34-ba04-5f54c88e165b",
   "metadata": {},
   "outputs": [],
   "source": [
    "#| export\n",
    "loading = SingleValueFactory(\"loading\", \"Base loading component\") # Base loading component"
   ]
  },
  {
   "cell_type": "markdown",
   "id": "ed953b22-4057-429a-a71b-30fa3f71ee35",
   "metadata": {},
   "source": [
    "### Loading Styles"
   ]
  },
  {
   "cell_type": "code",
   "execution_count": null,
   "id": "636c6bcd-2176-4191-aa39-c937893243e2",
   "metadata": {},
   "outputs": [],
   "source": [
    "#| export\n",
    "class LoadingStyle(str, Enum):\n",
    "    SPINNER = \"spinner\"\n",
    "    DOTS = \"dots\"\n",
    "    RING = \"ring\"\n",
    "    BALL = \"ball\"\n",
    "    BARS = \"bars\"\n",
    "    INFINITY = \"infinity\"\n",
    "\n",
    "loading_styles = enums_to_simple_factory(loading, [LoadingStyle], \"Loading styles\") # Loading styles"
   ]
  },
  {
   "cell_type": "markdown",
   "id": "7545a772-11ac-4de0-979c-a3f97313ff38",
   "metadata": {},
   "source": [
    "### Loading Sizes"
   ]
  },
  {
   "cell_type": "code",
   "execution_count": null,
   "id": "3035ff66-e4e7-410c-8b1e-86a879f66112",
   "metadata": {},
   "outputs": [],
   "source": [
    "#| export\n",
    "loading_sizes = enums_to_simple_factory(loading, [DaisyUINamedSize], \"Loading size variants from extra small to extra large\") # Loading size variants"
   ]
  },
  {
   "cell_type": "markdown",
   "id": "e53c3fdb-a956-4cbb-9e08-051a8bfb6f24",
   "metadata": {},
   "source": [
    "### Loading Test Examples"
   ]
  },
  {
   "cell_type": "code",
   "execution_count": null,
   "id": "85d72161-e718-4c66-bc59-a3569b7f7616",
   "metadata": {},
   "outputs": [],
   "source": [
    "#| export\n",
    "def test_loading_basic_examples():\n",
    "    \"\"\"Test basic loading utilities.\"\"\"\n",
    "    # Basic loading\n",
    "    assert str(loading) == \"loading\"\n",
    "    \n",
    "    # Loading with modifiers\n",
    "    assert str(loading.hover) == \"hover:loading\"\n",
    "    assert str(loading.md) == \"md:loading\"\n",
    "    assert str(loading.dark) == \"dark:loading\"\n",
    "\n",
    "# Run the tests\n",
    "test_loading_basic_examples()"
   ]
  },
  {
   "cell_type": "code",
   "execution_count": null,
   "id": "214654cc-9758-48f9-92e2-0892029c4512",
   "metadata": {},
   "outputs": [],
   "source": [
    "#| export\n",
    "def test_loading_styles_examples():\n",
    "    \"\"\"Test loading style variants.\"\"\"\n",
    "    assert str(loading_styles.spinner) == \"loading-spinner\"\n",
    "    assert str(loading_styles.dots) == \"loading-dots\"\n",
    "    assert str(loading_styles.ring) == \"loading-ring\"\n",
    "    assert str(loading_styles.ball) == \"loading-ball\"\n",
    "    assert str(loading_styles.bars) == \"loading-bars\"\n",
    "    assert str(loading_styles.infinity) == \"loading-infinity\"\n",
    "\n",
    "# Run the tests\n",
    "test_loading_styles_examples()"
   ]
  },
  {
   "cell_type": "code",
   "execution_count": null,
   "id": "a9d78aa3-0be8-49e6-8bfb-cb9a232ee1ee",
   "metadata": {},
   "outputs": [],
   "source": [
    "#| export\n",
    "def test_loading_sizes_examples():\n",
    "    \"\"\"Test loading size variants.\"\"\"\n",
    "    assert str(loading_sizes.xs) == \"loading-xs\"\n",
    "    assert str(loading_sizes.sm) == \"loading-sm\"\n",
    "    assert str(loading_sizes.md) == \"loading-md\"\n",
    "    assert str(loading_sizes.lg) == \"loading-lg\"\n",
    "    assert str(loading_sizes.xl) == \"loading-xl\"\n",
    "    \n",
    "    # With responsive modifiers\n",
    "    assert str(loading_sizes.xs.sm) == \"sm:loading-xs\"\n",
    "    assert str(loading_sizes.lg.md) == \"md:loading-lg\"\n",
    "\n",
    "# Run the tests\n",
    "test_loading_sizes_examples()"
   ]
  },
  {
   "cell_type": "code",
   "execution_count": null,
   "id": "01785a18-9bb0-4dbc-9eae-04addf6dede9",
   "metadata": {},
   "outputs": [],
   "source": []
  },
  {
   "cell_type": "code",
   "execution_count": null,
   "id": "43a3d5aa-4f07-48f4-b7c3-5c63612f0fb2",
   "metadata": {},
   "outputs": [],
   "source": []
  },
  {
   "cell_type": "code",
   "execution_count": null,
   "id": "248adc40-6e77-4203-9830-de838e25a00a",
   "metadata": {},
   "outputs": [],
   "source": []
  },
  {
   "cell_type": "code",
   "execution_count": null,
   "id": "a2029d6d-bf22-4e16-87e1-d609762dc867",
   "metadata": {},
   "outputs": [],
   "source": []
  },
  {
   "cell_type": "code",
   "execution_count": null,
   "id": "c9dfaad9-504c-4853-886b-2d1adb1cc3a0",
   "metadata": {},
   "outputs": [],
   "source": []
  },
  {
   "cell_type": "code",
   "execution_count": null,
   "id": "454d5b84-fc57-44ab-a6f0-3123333998cb",
   "metadata": {},
   "outputs": [],
   "source": []
  },
  {
   "cell_type": "code",
   "execution_count": null,
   "id": "d471d21b-6fe5-4c63-90be-5176c4cbd08b",
   "metadata": {},
   "outputs": [],
   "source": []
  },
  {
   "cell_type": "code",
   "execution_count": null,
   "id": "73b88b7e-0be6-4a82-9c02-f3df8af20015",
   "metadata": {},
   "outputs": [],
   "source": []
  },
  {
   "cell_type": "code",
   "execution_count": null,
   "id": "7ab8257a-c30b-45b6-a784-729b67686791",
   "metadata": {},
   "outputs": [],
   "source": [
    "#| hide\n",
    "import nbdev; nbdev.nbdev_export()"
   ]
  }
 ],
 "metadata": {
  "kernelspec": {
   "display_name": "python3",
   "language": "python",
   "name": "python3"
  }
 },
 "nbformat": 4,
 "nbformat_minor": 5
}
