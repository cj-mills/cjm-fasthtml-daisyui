{
 "cells": [
  {
   "cell_type": "markdown",
   "id": "7c51b46b-ece1-456d-8e84-7de122e72b62",
   "metadata": {},
   "source": [
    "# loading\n",
    "\n",
    "> Loading shows an animation to indicate that something is loading."
   ]
  },
  {
   "cell_type": "code",
   "execution_count": null,
   "id": "25536bdc-e099-477f-9e2d-a5f71df5dff2",
   "metadata": {},
   "outputs": [],
   "source": [
    "#| default_exp components.feedback.loading"
   ]
  },
  {
   "cell_type": "code",
   "execution_count": null,
   "id": "2e6f21ce-7766-455a-8ebb-df2c17e7d977",
   "metadata": {},
   "outputs": [],
   "source": [
    "#| hide\n",
    "from nbdev.showdoc import *"
   ]
  },
  {
   "cell_type": "code",
   "execution_count": null,
   "id": "045c6538-403e-4222-b3bb-db20f188524d",
   "metadata": {},
   "outputs": [],
   "source": [
    "#| export\n",
    "from enum import Enum\n",
    "from cjm_fasthtml_tailwind.core.base import (\n",
    "    SingleValueFactory, combine_classes\n",
    ")\n",
    "from cjm_fasthtml_tailwind.builders.scales import SimpleFactory, enums_to_simple_factory\n",
    "\n",
    "from cjm_fasthtml_daisyui.builders.sizes import DaisyUINamedSize\n",
    "\n",
    "from fasthtml.common import Div\n",
    "from fasthtml.jupyter import JupyUvi, HTMX\n",
    "from cjm_fasthtml_daisyui.core.testing import create_test_app, create_test_page, start_test_server\n",
    "from cjm_fasthtml_daisyui.core.themes import DaisyUITheme\n",
    "from IPython.display import display"
   ]
  },
  {
   "cell_type": "markdown",
   "id": "b26629b6-ed10-4b55-bbe1-7b3aa4abad6e",
   "metadata": {},
   "source": [
    "### Base Loading"
   ]
  },
  {
   "cell_type": "code",
   "execution_count": null,
   "id": "c802d106-49fb-4d34-ba04-5f54c88e165b",
   "metadata": {},
   "outputs": [],
   "source": [
    "#| exports\n",
    "loading = SingleValueFactory(\"loading\", \"Base loading component\") # Base loading component"
   ]
  },
  {
   "cell_type": "markdown",
   "id": "ed953b22-4057-429a-a71b-30fa3f71ee35",
   "metadata": {},
   "source": [
    "### Loading Styles"
   ]
  },
  {
   "cell_type": "code",
   "execution_count": null,
   "id": "636c6bcd-2176-4191-aa39-c937893243e2",
   "metadata": {},
   "outputs": [],
   "source": [
    "#| exports\n",
    "class LoadingStyle(str, Enum):\n",
    "    SPINNER = \"spinner\"\n",
    "    DOTS = \"dots\"\n",
    "    RING = \"ring\"\n",
    "    BALL = \"ball\"\n",
    "    BARS = \"bars\"\n",
    "    INFINITY = \"infinity\"\n",
    "\n",
    "loading_styles = enums_to_simple_factory(loading, [LoadingStyle], \"Loading styles\") # Loading styles"
   ]
  },
  {
   "cell_type": "markdown",
   "id": "7545a772-11ac-4de0-979c-a3f97313ff38",
   "metadata": {},
   "source": [
    "### Loading Sizes"
   ]
  },
  {
   "cell_type": "code",
   "execution_count": null,
   "id": "3035ff66-e4e7-410c-8b1e-86a879f66112",
   "metadata": {},
   "outputs": [],
   "source": [
    "#| exports\n",
    "loading_sizes = enums_to_simple_factory(loading, [DaisyUINamedSize], \"Loading size variants from extra small to extra large\") # Loading size variants"
   ]
  },
  {
   "cell_type": "markdown",
   "id": "e53c3fdb-a956-4cbb-9e08-051a8bfb6f24",
   "metadata": {},
   "source": [
    "### Loading Test Examples"
   ]
  },
  {
   "cell_type": "code",
   "execution_count": null,
   "id": "85d72161-e718-4c66-bc59-a3569b7f7616",
   "metadata": {},
   "outputs": [],
   "source": [
    "#|exports\n",
    "def test_loading_basic_examples():\n",
    "    \"\"\"Test basic loading utilities.\"\"\"\n",
    "    # Basic loading\n",
    "    assert str(loading) == \"loading\"\n",
    "    \n",
    "    # Loading with modifiers\n",
    "    assert str(loading.hover) == \"hover:loading\"\n",
    "    assert str(loading.md) == \"md:loading\"\n",
    "    assert str(loading.dark) == \"dark:loading\"\n",
    "\n",
    "# Run the tests\n",
    "test_loading_basic_examples()"
   ]
  },
  {
   "cell_type": "code",
   "execution_count": null,
   "id": "214654cc-9758-48f9-92e2-0892029c4512",
   "metadata": {},
   "outputs": [],
   "source": [
    "#|exports\n",
    "def test_loading_styles_examples():\n",
    "    \"\"\"Test loading style variants.\"\"\"\n",
    "    assert str(loading_styles.spinner) == \"loading-spinner\"\n",
    "    assert str(loading_styles.dots) == \"loading-dots\"\n",
    "    assert str(loading_styles.ring) == \"loading-ring\"\n",
    "    assert str(loading_styles.ball) == \"loading-ball\"\n",
    "    assert str(loading_styles.bars) == \"loading-bars\"\n",
    "    assert str(loading_styles.infinity) == \"loading-infinity\"\n",
    "\n",
    "# Run the tests\n",
    "test_loading_styles_examples()"
   ]
  },
  {
   "cell_type": "code",
   "execution_count": null,
   "id": "a9d78aa3-0be8-49e6-8bfb-cb9a232ee1ee",
   "metadata": {},
   "outputs": [],
   "source": [
    "#|exports\n",
    "def test_loading_sizes_examples():\n",
    "    \"\"\"Test loading size variants.\"\"\"\n",
    "    assert str(loading_sizes.xs) == \"loading-xs\"\n",
    "    assert str(loading_sizes.sm) == \"loading-sm\"\n",
    "    assert str(loading_sizes.md) == \"loading-md\"\n",
    "    assert str(loading_sizes.lg) == \"loading-lg\"\n",
    "    assert str(loading_sizes.xl) == \"loading-xl\"\n",
    "    \n",
    "    # With responsive modifiers\n",
    "    assert str(loading_sizes.xs.sm) == \"sm:loading-xs\"\n",
    "    assert str(loading_sizes.lg.md) == \"md:loading-lg\"\n",
    "\n",
    "# Run the tests\n",
    "test_loading_sizes_examples()"
   ]
  },
  {
   "cell_type": "code",
   "execution_count": null,
   "id": "665f9596-dd12-494a-8818-84a906fa158d",
   "metadata": {},
   "outputs": [
    {
     "data": {
      "text/markdown": [
       "```html\n",
       "<div>\n",
       "<span class=\"loading loading-spinner loading-xs\"></span><span class=\"loading loading-spinner loading-sm\"></span><span class=\"loading loading-spinner loading-md\"></span><span class=\"loading loading-spinner loading-lg\"></span><span class=\"loading loading-spinner loading-xl\"></span></div>\n",
       "\n",
       "```"
      ],
      "text/plain": [
       "div((span((),{'class': 'loading loading-spinner loading-xs'}), span((),{'class': 'loading loading-spinner loading-sm'}), span((),{'class': 'loading loading-spinner loading-md'}), span((),{'class': 'loading loading-spinner loading-lg'}), span((),{'class': 'loading loading-spinner loading-xl'})),{})"
      ]
     },
     "execution_count": null,
     "metadata": {},
     "output_type": "execute_result"
    }
   ],
   "source": [
    "#|exports\n",
    "def test_loading_spinner_fasthtml_examples():\n",
    "    \"\"\"Test loading spinner with all sizes from daisyUI v5 documentation.\"\"\"\n",
    "    from fasthtml.common import Span, Div\n",
    "    \n",
    "    # Loading spinner extra small\n",
    "    spinner_xs = Span(cls=combine_classes(loading, loading_styles.spinner, loading_sizes.xs))\n",
    "    assert spinner_xs.tag == \"span\"\n",
    "    assert \"loading\" in spinner_xs.attrs['class']\n",
    "    assert \"loading-spinner\" in spinner_xs.attrs['class']\n",
    "    assert \"loading-xs\" in spinner_xs.attrs['class']\n",
    "    \n",
    "    # Loading spinner small\n",
    "    spinner_sm = Span(cls=combine_classes(loading, loading_styles.spinner, loading_sizes.sm))\n",
    "    assert \"loading\" in spinner_sm.attrs['class']\n",
    "    assert \"loading-spinner\" in spinner_sm.attrs['class']\n",
    "    assert \"loading-sm\" in spinner_sm.attrs['class']\n",
    "    \n",
    "    # Loading spinner medium\n",
    "    spinner_md = Span(cls=combine_classes(loading, loading_styles.spinner, loading_sizes.md))\n",
    "    assert \"loading\" in spinner_md.attrs['class']\n",
    "    assert \"loading-spinner\" in spinner_md.attrs['class']\n",
    "    assert \"loading-md\" in spinner_md.attrs['class']\n",
    "    \n",
    "    # Loading spinner large\n",
    "    spinner_lg = Span(cls=combine_classes(loading, loading_styles.spinner, loading_sizes.lg))\n",
    "    assert \"loading\" in spinner_lg.attrs['class']\n",
    "    assert \"loading-spinner\" in spinner_lg.attrs['class']\n",
    "    assert \"loading-lg\" in spinner_lg.attrs['class']\n",
    "    \n",
    "    # Loading spinner extra large\n",
    "    spinner_xl = Span(cls=combine_classes(loading, loading_styles.spinner, loading_sizes.xl))\n",
    "    assert \"loading\" in spinner_xl.attrs['class']\n",
    "    assert \"loading-spinner\" in spinner_xl.attrs['class']\n",
    "    assert \"loading-xl\" in spinner_xl.attrs['class']\n",
    "    \n",
    "    # Return all spinners in a Div\n",
    "    return Div(\n",
    "        spinner_xs,\n",
    "        spinner_sm,\n",
    "        spinner_md,\n",
    "        spinner_lg,\n",
    "        spinner_xl\n",
    "    )\n",
    "\n",
    "# Run the tests\n",
    "test_loading_spinner_fasthtml_examples()"
   ]
  },
  {
   "cell_type": "code",
   "execution_count": null,
   "id": "b0439413-b56d-4d88-a1de-684f58257bb6",
   "metadata": {},
   "outputs": [],
   "source": []
  },
  {
   "cell_type": "code",
   "execution_count": null,
   "id": "vh3d67xc39a",
   "metadata": {},
   "outputs": [
    {
     "data": {
      "text/html": [
       "\n",
       "<script>\n",
       "document.body.addEventListener('htmx:configRequest', (event) => {\n",
       "    if(event.detail.path.includes('://')) return;\n",
       "    htmx.config.selfRequestsOnly=false;\n",
       "    event.detail.path = `${location.protocol}//${location.hostname}:8000${event.detail.path}`;\n",
       "});\n",
       "</script>"
      ],
      "text/plain": [
       "<IPython.core.display.HTML object>"
      ]
     },
     "metadata": {},
     "output_type": "display_data"
    },
    {
     "data": {
      "text/html": [
       "<iframe src=\"http://localhost:8000/\" style=\"width: 100%; height: auto; border: none;\" onload=\"{\n",
       "        let frame = this;\n",
       "        window.addEventListener('message', function(e) {\n",
       "            if (e.source !== frame.contentWindow) return; // Only proceed if the message is from this iframe\n",
       "            if (e.data.height) frame.style.height = (e.data.height+1) + 'px';\n",
       "        }, false);\n",
       "    }\" allow=\"accelerometer; autoplay; camera; clipboard-read; clipboard-write; display-capture; encrypted-media; fullscreen; gamepad; geolocation; gyroscope; hid; identity-credentials-get; idle-detection; magnetometer; microphone; midi; payment; picture-in-picture; publickey-credentials-get; screen-wake-lock; serial; usb; web-share; xr-spatial-tracking\"></iframe> "
      ],
      "text/plain": [
       "<IPython.core.display.HTML object>"
      ]
     },
     "metadata": {},
     "output_type": "display_data"
    }
   ],
   "source": [
    "#| eval: false\n",
    "#| output: false\n",
    "test_func = test_loading_spinner_fasthtml_examples\n",
    "app, rt = create_test_app(theme=DaisyUITheme.LIGHT)\n",
    "\n",
    "@rt\n",
    "def index():\n",
    "    return create_test_page(test_func.__doc__.title().replace('.', ''), test_func())\n",
    "server = start_test_server(app)\n",
    "display(HTMX())\n",
    "server.stop()"
   ]
  },
  {
   "cell_type": "code",
   "execution_count": null,
   "id": "f7897ef0-18be-4ba2-b958-e5755caf46e1",
   "metadata": {},
   "outputs": [
    {
     "data": {
      "text/markdown": [
       "```html\n",
       "<div>\n",
       "<span class=\"loading loading-dots loading-xs\"></span><span class=\"loading loading-dots loading-sm\"></span><span class=\"loading loading-dots loading-md\"></span><span class=\"loading loading-dots loading-lg\"></span><span class=\"loading loading-dots loading-xl\"></span></div>\n",
       "\n",
       "```"
      ],
      "text/plain": [
       "div((span((),{'class': 'loading loading-dots loading-xs'}), span((),{'class': 'loading loading-dots loading-sm'}), span((),{'class': 'loading loading-dots loading-md'}), span((),{'class': 'loading loading-dots loading-lg'}), span((),{'class': 'loading loading-dots loading-xl'})),{})"
      ]
     },
     "execution_count": null,
     "metadata": {},
     "output_type": "execute_result"
    }
   ],
   "source": [
    "#|exports\n",
    "def test_loading_dots_fasthtml_examples():\n",
    "    \"\"\"Test loading dots with all sizes from daisyUI v5 documentation.\"\"\"\n",
    "    from fasthtml.common import Span, Div\n",
    "    \n",
    "    # Loading dots extra small\n",
    "    dots_xs = Span(cls=combine_classes(loading, loading_styles.dots, loading_sizes.xs))\n",
    "    assert dots_xs.tag == \"span\"\n",
    "    assert \"loading\" in dots_xs.attrs['class']\n",
    "    assert \"loading-dots\" in dots_xs.attrs['class']\n",
    "    assert \"loading-xs\" in dots_xs.attrs['class']\n",
    "    \n",
    "    # Loading dots small\n",
    "    dots_sm = Span(cls=combine_classes(loading, loading_styles.dots, loading_sizes.sm))\n",
    "    assert \"loading\" in dots_sm.attrs['class']\n",
    "    assert \"loading-dots\" in dots_sm.attrs['class']\n",
    "    assert \"loading-sm\" in dots_sm.attrs['class']\n",
    "    \n",
    "    # Loading dots medium\n",
    "    dots_md = Span(cls=combine_classes(loading, loading_styles.dots, loading_sizes.md))\n",
    "    assert \"loading\" in dots_md.attrs['class']\n",
    "    assert \"loading-dots\" in dots_md.attrs['class']\n",
    "    assert \"loading-md\" in dots_md.attrs['class']\n",
    "    \n",
    "    # Loading dots large\n",
    "    dots_lg = Span(cls=combine_classes(loading, loading_styles.dots, loading_sizes.lg))\n",
    "    assert \"loading\" in dots_lg.attrs['class']\n",
    "    assert \"loading-dots\" in dots_lg.attrs['class']\n",
    "    assert \"loading-lg\" in dots_lg.attrs['class']\n",
    "    \n",
    "    # Loading dots extra large\n",
    "    dots_xl = Span(cls=combine_classes(loading, loading_styles.dots, loading_sizes.xl))\n",
    "    assert \"loading\" in dots_xl.attrs['class']\n",
    "    assert \"loading-dots\" in dots_xl.attrs['class']\n",
    "    assert \"loading-xl\" in dots_xl.attrs['class']\n",
    "    \n",
    "    # Return all dots in a Div\n",
    "    return Div(\n",
    "        dots_xs,\n",
    "        dots_sm,\n",
    "        dots_md,\n",
    "        dots_lg,\n",
    "        dots_xl\n",
    "    )\n",
    "\n",
    "# Run the tests\n",
    "test_loading_dots_fasthtml_examples()"
   ]
  },
  {
   "cell_type": "code",
   "execution_count": null,
   "id": "3c992707-c343-4117-bbf9-9286e262d787",
   "metadata": {},
   "outputs": [],
   "source": []
  },
  {
   "cell_type": "code",
   "execution_count": null,
   "id": "gf1q1e0pbmc",
   "metadata": {},
   "outputs": [
    {
     "data": {
      "text/html": [
       "\n",
       "<script>\n",
       "document.body.addEventListener('htmx:configRequest', (event) => {\n",
       "    if(event.detail.path.includes('://')) return;\n",
       "    htmx.config.selfRequestsOnly=false;\n",
       "    event.detail.path = `${location.protocol}//${location.hostname}:8000${event.detail.path}`;\n",
       "});\n",
       "</script>"
      ],
      "text/plain": [
       "<IPython.core.display.HTML object>"
      ]
     },
     "metadata": {},
     "output_type": "display_data"
    },
    {
     "data": {
      "text/html": [
       "<iframe src=\"http://localhost:8000/\" style=\"width: 100%; height: auto; border: none;\" onload=\"{\n",
       "        let frame = this;\n",
       "        window.addEventListener('message', function(e) {\n",
       "            if (e.source !== frame.contentWindow) return; // Only proceed if the message is from this iframe\n",
       "            if (e.data.height) frame.style.height = (e.data.height+1) + 'px';\n",
       "        }, false);\n",
       "    }\" allow=\"accelerometer; autoplay; camera; clipboard-read; clipboard-write; display-capture; encrypted-media; fullscreen; gamepad; geolocation; gyroscope; hid; identity-credentials-get; idle-detection; magnetometer; microphone; midi; payment; picture-in-picture; publickey-credentials-get; screen-wake-lock; serial; usb; web-share; xr-spatial-tracking\"></iframe> "
      ],
      "text/plain": [
       "<IPython.core.display.HTML object>"
      ]
     },
     "metadata": {},
     "output_type": "display_data"
    }
   ],
   "source": [
    "#| eval: false\n",
    "#| output: false\n",
    "test_func = test_loading_dots_fasthtml_examples\n",
    "app, rt = create_test_app(theme=DaisyUITheme.LIGHT)\n",
    "\n",
    "@rt\n",
    "def index():\n",
    "    return create_test_page(test_func.__doc__.title().replace('.', ''), test_func())\n",
    "server = start_test_server(app)\n",
    "display(HTMX())\n",
    "server.stop()"
   ]
  },
  {
   "cell_type": "code",
   "execution_count": null,
   "id": "c6fb7865-05cd-4648-a86a-0bffdf397531",
   "metadata": {},
   "outputs": [
    {
     "data": {
      "text/markdown": [
       "```html\n",
       "<div>\n",
       "<span class=\"loading loading-ring loading-xs\"></span><span class=\"loading loading-ring loading-sm\"></span><span class=\"loading loading-ring loading-md\"></span><span class=\"loading loading-ring loading-lg\"></span><span class=\"loading loading-ring loading-xl\"></span></div>\n",
       "\n",
       "```"
      ],
      "text/plain": [
       "div((span((),{'class': 'loading loading-ring loading-xs'}), span((),{'class': 'loading loading-ring loading-sm'}), span((),{'class': 'loading loading-ring loading-md'}), span((),{'class': 'loading loading-ring loading-lg'}), span((),{'class': 'loading loading-ring loading-xl'})),{})"
      ]
     },
     "execution_count": null,
     "metadata": {},
     "output_type": "execute_result"
    }
   ],
   "source": [
    "#|exports\n",
    "def test_loading_ring_fasthtml_examples():\n",
    "    \"\"\"Test loading ring with all sizes from daisyUI v5 documentation.\"\"\"\n",
    "    from fasthtml.common import Span, Div\n",
    "    \n",
    "    # Loading ring extra small\n",
    "    ring_xs = Span(cls=combine_classes(loading, loading_styles.ring, loading_sizes.xs))\n",
    "    assert ring_xs.tag == \"span\"\n",
    "    assert \"loading\" in ring_xs.attrs['class']\n",
    "    assert \"loading-ring\" in ring_xs.attrs['class']\n",
    "    assert \"loading-xs\" in ring_xs.attrs['class']\n",
    "    \n",
    "    # Loading ring small\n",
    "    ring_sm = Span(cls=combine_classes(loading, loading_styles.ring, loading_sizes.sm))\n",
    "    assert \"loading\" in ring_sm.attrs['class']\n",
    "    assert \"loading-ring\" in ring_sm.attrs['class']\n",
    "    assert \"loading-sm\" in ring_sm.attrs['class']\n",
    "    \n",
    "    # Loading ring medium\n",
    "    ring_md = Span(cls=combine_classes(loading, loading_styles.ring, loading_sizes.md))\n",
    "    assert \"loading\" in ring_md.attrs['class']\n",
    "    assert \"loading-ring\" in ring_md.attrs['class']\n",
    "    assert \"loading-md\" in ring_md.attrs['class']\n",
    "    \n",
    "    # Loading ring large\n",
    "    ring_lg = Span(cls=combine_classes(loading, loading_styles.ring, loading_sizes.lg))\n",
    "    assert \"loading\" in ring_lg.attrs['class']\n",
    "    assert \"loading-ring\" in ring_lg.attrs['class']\n",
    "    assert \"loading-lg\" in ring_lg.attrs['class']\n",
    "    \n",
    "    # Loading ring extra large\n",
    "    ring_xl = Span(cls=combine_classes(loading, loading_styles.ring, loading_sizes.xl))\n",
    "    assert \"loading\" in ring_xl.attrs['class']\n",
    "    assert \"loading-ring\" in ring_xl.attrs['class']\n",
    "    assert \"loading-xl\" in ring_xl.attrs['class']\n",
    "    \n",
    "    # Return all rings in a Div\n",
    "    return Div(\n",
    "        ring_xs,\n",
    "        ring_sm,\n",
    "        ring_md,\n",
    "        ring_lg,\n",
    "        ring_xl\n",
    "    )\n",
    "\n",
    "# Run the tests\n",
    "test_loading_ring_fasthtml_examples()"
   ]
  },
  {
   "cell_type": "code",
   "execution_count": null,
   "id": "f93d5b93-bdf4-4aa5-887c-086132cc24d3",
   "metadata": {},
   "outputs": [],
   "source": []
  },
  {
   "cell_type": "code",
   "execution_count": null,
   "id": "cmp1bsf6h8h",
   "metadata": {},
   "outputs": [
    {
     "data": {
      "text/html": [
       "\n",
       "<script>\n",
       "document.body.addEventListener('htmx:configRequest', (event) => {\n",
       "    if(event.detail.path.includes('://')) return;\n",
       "    htmx.config.selfRequestsOnly=false;\n",
       "    event.detail.path = `${location.protocol}//${location.hostname}:8000${event.detail.path}`;\n",
       "});\n",
       "</script>"
      ],
      "text/plain": [
       "<IPython.core.display.HTML object>"
      ]
     },
     "metadata": {},
     "output_type": "display_data"
    },
    {
     "data": {
      "text/html": [
       "<iframe src=\"http://localhost:8000/\" style=\"width: 100%; height: auto; border: none;\" onload=\"{\n",
       "        let frame = this;\n",
       "        window.addEventListener('message', function(e) {\n",
       "            if (e.source !== frame.contentWindow) return; // Only proceed if the message is from this iframe\n",
       "            if (e.data.height) frame.style.height = (e.data.height+1) + 'px';\n",
       "        }, false);\n",
       "    }\" allow=\"accelerometer; autoplay; camera; clipboard-read; clipboard-write; display-capture; encrypted-media; fullscreen; gamepad; geolocation; gyroscope; hid; identity-credentials-get; idle-detection; magnetometer; microphone; midi; payment; picture-in-picture; publickey-credentials-get; screen-wake-lock; serial; usb; web-share; xr-spatial-tracking\"></iframe> "
      ],
      "text/plain": [
       "<IPython.core.display.HTML object>"
      ]
     },
     "metadata": {},
     "output_type": "display_data"
    }
   ],
   "source": [
    "#| eval: false\n",
    "#| output: false\n",
    "test_func = test_loading_ring_fasthtml_examples\n",
    "app, rt = create_test_app(theme=DaisyUITheme.LIGHT)\n",
    "\n",
    "@rt\n",
    "def index():\n",
    "    return create_test_page(test_func.__doc__.title().replace('.', ''), test_func())\n",
    "server = start_test_server(app)\n",
    "display(HTMX())\n",
    "server.stop()"
   ]
  },
  {
   "cell_type": "code",
   "execution_count": null,
   "id": "3db370d6-d69d-401b-a1e3-68262ea82d6b",
   "metadata": {},
   "outputs": [
    {
     "data": {
      "text/markdown": [
       "```html\n",
       "<div>\n",
       "<span class=\"loading loading-ball loading-xs\"></span><span class=\"loading loading-ball loading-sm\"></span><span class=\"loading loading-ball loading-md\"></span><span class=\"loading loading-ball loading-lg\"></span><span class=\"loading loading-ball loading-xl\"></span></div>\n",
       "\n",
       "```"
      ],
      "text/plain": [
       "div((span((),{'class': 'loading loading-ball loading-xs'}), span((),{'class': 'loading loading-ball loading-sm'}), span((),{'class': 'loading loading-ball loading-md'}), span((),{'class': 'loading loading-ball loading-lg'}), span((),{'class': 'loading loading-ball loading-xl'})),{})"
      ]
     },
     "execution_count": null,
     "metadata": {},
     "output_type": "execute_result"
    }
   ],
   "source": [
    "#|exports\n",
    "def test_loading_ball_fasthtml_examples():\n",
    "    \"\"\"Test loading ball with all sizes from daisyUI v5 documentation.\"\"\"\n",
    "    from fasthtml.common import Span, Div\n",
    "    \n",
    "    # Loading ball extra small\n",
    "    ball_xs = Span(cls=combine_classes(loading, loading_styles.ball, loading_sizes.xs))\n",
    "    assert ball_xs.tag == \"span\"\n",
    "    assert \"loading\" in ball_xs.attrs['class']\n",
    "    assert \"loading-ball\" in ball_xs.attrs['class']\n",
    "    assert \"loading-xs\" in ball_xs.attrs['class']\n",
    "    \n",
    "    # Loading ball small\n",
    "    ball_sm = Span(cls=combine_classes(loading, loading_styles.ball, loading_sizes.sm))\n",
    "    assert \"loading\" in ball_sm.attrs['class']\n",
    "    assert \"loading-ball\" in ball_sm.attrs['class']\n",
    "    assert \"loading-sm\" in ball_sm.attrs['class']\n",
    "    \n",
    "    # Loading ball medium\n",
    "    ball_md = Span(cls=combine_classes(loading, loading_styles.ball, loading_sizes.md))\n",
    "    assert \"loading\" in ball_md.attrs['class']\n",
    "    assert \"loading-ball\" in ball_md.attrs['class']\n",
    "    assert \"loading-md\" in ball_md.attrs['class']\n",
    "    \n",
    "    # Loading ball large\n",
    "    ball_lg = Span(cls=combine_classes(loading, loading_styles.ball, loading_sizes.lg))\n",
    "    assert \"loading\" in ball_lg.attrs['class']\n",
    "    assert \"loading-ball\" in ball_lg.attrs['class']\n",
    "    assert \"loading-lg\" in ball_lg.attrs['class']\n",
    "    \n",
    "    # Loading ball extra large\n",
    "    ball_xl = Span(cls=combine_classes(loading, loading_styles.ball, loading_sizes.xl))\n",
    "    assert \"loading\" in ball_xl.attrs['class']\n",
    "    assert \"loading-ball\" in ball_xl.attrs['class']\n",
    "    assert \"loading-xl\" in ball_xl.attrs['class']\n",
    "    \n",
    "    # Return all balls in a Div\n",
    "    return Div(\n",
    "        ball_xs,\n",
    "        ball_sm,\n",
    "        ball_md,\n",
    "        ball_lg,\n",
    "        ball_xl\n",
    "    )\n",
    "\n",
    "# Run the tests\n",
    "test_loading_ball_fasthtml_examples()"
   ]
  },
  {
   "cell_type": "code",
   "execution_count": null,
   "id": "77cc895a-ae79-4668-80c3-172b14ce3c91",
   "metadata": {},
   "outputs": [],
   "source": []
  },
  {
   "cell_type": "code",
   "execution_count": null,
   "id": "kc9ngs1qu7a",
   "metadata": {},
   "outputs": [
    {
     "data": {
      "text/html": [
       "\n",
       "<script>\n",
       "document.body.addEventListener('htmx:configRequest', (event) => {\n",
       "    if(event.detail.path.includes('://')) return;\n",
       "    htmx.config.selfRequestsOnly=false;\n",
       "    event.detail.path = `${location.protocol}//${location.hostname}:8000${event.detail.path}`;\n",
       "});\n",
       "</script>"
      ],
      "text/plain": [
       "<IPython.core.display.HTML object>"
      ]
     },
     "metadata": {},
     "output_type": "display_data"
    },
    {
     "data": {
      "text/html": [
       "<iframe src=\"http://localhost:8000/\" style=\"width: 100%; height: auto; border: none;\" onload=\"{\n",
       "        let frame = this;\n",
       "        window.addEventListener('message', function(e) {\n",
       "            if (e.source !== frame.contentWindow) return; // Only proceed if the message is from this iframe\n",
       "            if (e.data.height) frame.style.height = (e.data.height+1) + 'px';\n",
       "        }, false);\n",
       "    }\" allow=\"accelerometer; autoplay; camera; clipboard-read; clipboard-write; display-capture; encrypted-media; fullscreen; gamepad; geolocation; gyroscope; hid; identity-credentials-get; idle-detection; magnetometer; microphone; midi; payment; picture-in-picture; publickey-credentials-get; screen-wake-lock; serial; usb; web-share; xr-spatial-tracking\"></iframe> "
      ],
      "text/plain": [
       "<IPython.core.display.HTML object>"
      ]
     },
     "metadata": {},
     "output_type": "display_data"
    }
   ],
   "source": [
    "#| eval: false\n",
    "#| output: false\n",
    "test_func = test_loading_ball_fasthtml_examples\n",
    "app, rt = create_test_app(theme=DaisyUITheme.LIGHT)\n",
    "\n",
    "@rt\n",
    "def index():\n",
    "    return create_test_page(test_func.__doc__.title().replace('.', ''), test_func())\n",
    "server = start_test_server(app)\n",
    "display(HTMX())\n",
    "server.stop()"
   ]
  },
  {
   "cell_type": "code",
   "execution_count": null,
   "id": "8728e718-6854-4023-adb5-0390c5164ba3",
   "metadata": {},
   "outputs": [
    {
     "data": {
      "text/markdown": [
       "```html\n",
       "<div>\n",
       "<span class=\"loading loading-bars loading-xs\"></span><span class=\"loading loading-bars loading-sm\"></span><span class=\"loading loading-bars loading-md\"></span><span class=\"loading loading-bars loading-lg\"></span><span class=\"loading loading-bars loading-xl\"></span></div>\n",
       "\n",
       "```"
      ],
      "text/plain": [
       "div((span((),{'class': 'loading loading-bars loading-xs'}), span((),{'class': 'loading loading-bars loading-sm'}), span((),{'class': 'loading loading-bars loading-md'}), span((),{'class': 'loading loading-bars loading-lg'}), span((),{'class': 'loading loading-bars loading-xl'})),{})"
      ]
     },
     "execution_count": null,
     "metadata": {},
     "output_type": "execute_result"
    }
   ],
   "source": [
    "#|exports\n",
    "def test_loading_bars_fasthtml_examples():\n",
    "    \"\"\"Test loading bars with all sizes from daisyUI v5 documentation.\"\"\"\n",
    "    from fasthtml.common import Span, Div\n",
    "    \n",
    "    # Loading bars extra small\n",
    "    bars_xs = Span(cls=combine_classes(loading, loading_styles.bars, loading_sizes.xs))\n",
    "    assert bars_xs.tag == \"span\"\n",
    "    assert \"loading\" in bars_xs.attrs['class']\n",
    "    assert \"loading-bars\" in bars_xs.attrs['class']\n",
    "    assert \"loading-xs\" in bars_xs.attrs['class']\n",
    "    \n",
    "    # Loading bars small\n",
    "    bars_sm = Span(cls=combine_classes(loading, loading_styles.bars, loading_sizes.sm))\n",
    "    assert \"loading\" in bars_sm.attrs['class']\n",
    "    assert \"loading-bars\" in bars_sm.attrs['class']\n",
    "    assert \"loading-sm\" in bars_sm.attrs['class']\n",
    "    \n",
    "    # Loading bars medium\n",
    "    bars_md = Span(cls=combine_classes(loading, loading_styles.bars, loading_sizes.md))\n",
    "    assert \"loading\" in bars_md.attrs['class']\n",
    "    assert \"loading-bars\" in bars_md.attrs['class']\n",
    "    assert \"loading-md\" in bars_md.attrs['class']\n",
    "    \n",
    "    # Loading bars large\n",
    "    bars_lg = Span(cls=combine_classes(loading, loading_styles.bars, loading_sizes.lg))\n",
    "    assert \"loading\" in bars_lg.attrs['class']\n",
    "    assert \"loading-bars\" in bars_lg.attrs['class']\n",
    "    assert \"loading-lg\" in bars_lg.attrs['class']\n",
    "    \n",
    "    # Loading bars extra large\n",
    "    bars_xl = Span(cls=combine_classes(loading, loading_styles.bars, loading_sizes.xl))\n",
    "    assert \"loading\" in bars_xl.attrs['class']\n",
    "    assert \"loading-bars\" in bars_xl.attrs['class']\n",
    "    assert \"loading-xl\" in bars_xl.attrs['class']\n",
    "    \n",
    "    # Return all bars in a Div\n",
    "    return Div(\n",
    "        bars_xs,\n",
    "        bars_sm,\n",
    "        bars_md,\n",
    "        bars_lg,\n",
    "        bars_xl\n",
    "    )\n",
    "\n",
    "# Run the tests\n",
    "test_loading_bars_fasthtml_examples()"
   ]
  },
  {
   "cell_type": "code",
   "execution_count": null,
   "id": "93239f64-548e-44c9-be65-59d9c0a612a8",
   "metadata": {},
   "outputs": [],
   "source": []
  },
  {
   "cell_type": "code",
   "execution_count": null,
   "id": "jhd5etikbyl",
   "metadata": {},
   "outputs": [
    {
     "data": {
      "text/html": [
       "\n",
       "<script>\n",
       "document.body.addEventListener('htmx:configRequest', (event) => {\n",
       "    if(event.detail.path.includes('://')) return;\n",
       "    htmx.config.selfRequestsOnly=false;\n",
       "    event.detail.path = `${location.protocol}//${location.hostname}:8000${event.detail.path}`;\n",
       "});\n",
       "</script>"
      ],
      "text/plain": [
       "<IPython.core.display.HTML object>"
      ]
     },
     "metadata": {},
     "output_type": "display_data"
    },
    {
     "data": {
      "text/html": [
       "<iframe src=\"http://localhost:8000/\" style=\"width: 100%; height: auto; border: none;\" onload=\"{\n",
       "        let frame = this;\n",
       "        window.addEventListener('message', function(e) {\n",
       "            if (e.source !== frame.contentWindow) return; // Only proceed if the message is from this iframe\n",
       "            if (e.data.height) frame.style.height = (e.data.height+1) + 'px';\n",
       "        }, false);\n",
       "    }\" allow=\"accelerometer; autoplay; camera; clipboard-read; clipboard-write; display-capture; encrypted-media; fullscreen; gamepad; geolocation; gyroscope; hid; identity-credentials-get; idle-detection; magnetometer; microphone; midi; payment; picture-in-picture; publickey-credentials-get; screen-wake-lock; serial; usb; web-share; xr-spatial-tracking\"></iframe> "
      ],
      "text/plain": [
       "<IPython.core.display.HTML object>"
      ]
     },
     "metadata": {},
     "output_type": "display_data"
    }
   ],
   "source": [
    "#| eval: false\n",
    "#| output: false\n",
    "test_func = test_loading_bars_fasthtml_examples\n",
    "app, rt = create_test_app(theme=DaisyUITheme.LIGHT)\n",
    "\n",
    "@rt\n",
    "def index():\n",
    "    return create_test_page(test_func.__doc__.title().replace('.', ''), test_func())\n",
    "server = start_test_server(app)\n",
    "display(HTMX())\n",
    "server.stop()"
   ]
  },
  {
   "cell_type": "code",
   "execution_count": null,
   "id": "e168b803-bc6c-4308-8b6c-c9ae8417082e",
   "metadata": {},
   "outputs": [
    {
     "data": {
      "text/markdown": [
       "```html\n",
       "<div>\n",
       "<span class=\"loading loading-infinity loading-xs\"></span><span class=\"loading loading-infinity loading-sm\"></span><span class=\"loading loading-infinity loading-md\"></span><span class=\"loading loading-infinity loading-lg\"></span><span class=\"loading loading-infinity loading-xl\"></span></div>\n",
       "\n",
       "```"
      ],
      "text/plain": [
       "div((span((),{'class': 'loading loading-infinity loading-xs'}), span((),{'class': 'loading loading-infinity loading-sm'}), span((),{'class': 'loading loading-infinity loading-md'}), span((),{'class': 'loading loading-infinity loading-lg'}), span((),{'class': 'loading loading-infinity loading-xl'})),{})"
      ]
     },
     "execution_count": null,
     "metadata": {},
     "output_type": "execute_result"
    }
   ],
   "source": [
    "#|exports\n",
    "def test_loading_infinity_fasthtml_examples():\n",
    "    \"\"\"Test loading infinity with all sizes from daisyUI v5 documentation.\"\"\"\n",
    "    from fasthtml.common import Span, Div\n",
    "    \n",
    "    # Loading infinity extra small\n",
    "    infinity_xs = Span(cls=combine_classes(loading, loading_styles.infinity, loading_sizes.xs))\n",
    "    assert infinity_xs.tag == \"span\"\n",
    "    assert \"loading\" in infinity_xs.attrs['class']\n",
    "    assert \"loading-infinity\" in infinity_xs.attrs['class']\n",
    "    assert \"loading-xs\" in infinity_xs.attrs['class']\n",
    "    \n",
    "    # Loading infinity small\n",
    "    infinity_sm = Span(cls=combine_classes(loading, loading_styles.infinity, loading_sizes.sm))\n",
    "    assert \"loading\" in infinity_sm.attrs['class']\n",
    "    assert \"loading-infinity\" in infinity_sm.attrs['class']\n",
    "    assert \"loading-sm\" in infinity_sm.attrs['class']\n",
    "    \n",
    "    # Loading infinity medium\n",
    "    infinity_md = Span(cls=combine_classes(loading, loading_styles.infinity, loading_sizes.md))\n",
    "    assert \"loading\" in infinity_md.attrs['class']\n",
    "    assert \"loading-infinity\" in infinity_md.attrs['class']\n",
    "    assert \"loading-md\" in infinity_md.attrs['class']\n",
    "    \n",
    "    # Loading infinity large\n",
    "    infinity_lg = Span(cls=combine_classes(loading, loading_styles.infinity, loading_sizes.lg))\n",
    "    assert \"loading\" in infinity_lg.attrs['class']\n",
    "    assert \"loading-infinity\" in infinity_lg.attrs['class']\n",
    "    assert \"loading-lg\" in infinity_lg.attrs['class']\n",
    "    \n",
    "    # Loading infinity extra large\n",
    "    infinity_xl = Span(cls=combine_classes(loading, loading_styles.infinity, loading_sizes.xl))\n",
    "    assert \"loading\" in infinity_xl.attrs['class']\n",
    "    assert \"loading-infinity\" in infinity_xl.attrs['class']\n",
    "    assert \"loading-xl\" in infinity_xl.attrs['class']\n",
    "    \n",
    "    # Return all infinities in a Div\n",
    "    return Div(\n",
    "        infinity_xs,\n",
    "        infinity_sm,\n",
    "        infinity_md,\n",
    "        infinity_lg,\n",
    "        infinity_xl\n",
    "    )\n",
    "\n",
    "# Run the tests\n",
    "test_loading_infinity_fasthtml_examples()"
   ]
  },
  {
   "cell_type": "code",
   "execution_count": null,
   "id": "fff8cbb7-b545-468a-81b5-a68c0e349569",
   "metadata": {},
   "outputs": [],
   "source": []
  },
  {
   "cell_type": "code",
   "execution_count": null,
   "id": "irt63gjinpp",
   "metadata": {},
   "outputs": [
    {
     "data": {
      "text/html": [
       "\n",
       "<script>\n",
       "document.body.addEventListener('htmx:configRequest', (event) => {\n",
       "    if(event.detail.path.includes('://')) return;\n",
       "    htmx.config.selfRequestsOnly=false;\n",
       "    event.detail.path = `${location.protocol}//${location.hostname}:8000${event.detail.path}`;\n",
       "});\n",
       "</script>"
      ],
      "text/plain": [
       "<IPython.core.display.HTML object>"
      ]
     },
     "metadata": {},
     "output_type": "display_data"
    },
    {
     "data": {
      "text/html": [
       "<iframe src=\"http://localhost:8000/\" style=\"width: 100%; height: auto; border: none;\" onload=\"{\n",
       "        let frame = this;\n",
       "        window.addEventListener('message', function(e) {\n",
       "            if (e.source !== frame.contentWindow) return; // Only proceed if the message is from this iframe\n",
       "            if (e.data.height) frame.style.height = (e.data.height+1) + 'px';\n",
       "        }, false);\n",
       "    }\" allow=\"accelerometer; autoplay; camera; clipboard-read; clipboard-write; display-capture; encrypted-media; fullscreen; gamepad; geolocation; gyroscope; hid; identity-credentials-get; idle-detection; magnetometer; microphone; midi; payment; picture-in-picture; publickey-credentials-get; screen-wake-lock; serial; usb; web-share; xr-spatial-tracking\"></iframe> "
      ],
      "text/plain": [
       "<IPython.core.display.HTML object>"
      ]
     },
     "metadata": {},
     "output_type": "display_data"
    }
   ],
   "source": [
    "#| eval: false\n",
    "#| output: false\n",
    "test_func = test_loading_infinity_fasthtml_examples\n",
    "app, rt = create_test_app(theme=DaisyUITheme.LIGHT)\n",
    "\n",
    "@rt\n",
    "def index():\n",
    "    return create_test_page(test_func.__doc__.title().replace('.', ''), test_func())\n",
    "server = start_test_server(app)\n",
    "display(HTMX())\n",
    "server.stop()"
   ]
  },
  {
   "cell_type": "code",
   "execution_count": null,
   "id": "a4fcc81f-68f0-44aa-9760-8ef446f463d7",
   "metadata": {},
   "outputs": [
    {
     "data": {
      "text/markdown": [
       "```html\n",
       "<div>\n",
       "<span class=\"loading loading-spinner text-primary\"></span><span class=\"loading loading-spinner text-secondary\"></span><span class=\"loading loading-spinner text-accent\"></span><span class=\"loading loading-spinner text-neutral\"></span><span class=\"loading loading-spinner text-info\"></span><span class=\"loading loading-spinner text-success\"></span><span class=\"loading loading-spinner text-warning\"></span><span class=\"loading loading-spinner text-error\"></span></div>\n",
       "\n",
       "```"
      ],
      "text/plain": [
       "div((span((),{'class': 'loading loading-spinner text-primary'}), span((),{'class': 'loading loading-spinner text-secondary'}), span((),{'class': 'loading loading-spinner text-accent'}), span((),{'class': 'loading loading-spinner text-neutral'}), span((),{'class': 'loading loading-spinner text-info'}), span((),{'class': 'loading loading-spinner text-success'}), span((),{'class': 'loading loading-spinner text-warning'}), span((),{'class': 'loading loading-spinner text-error'})),{})"
      ]
     },
     "execution_count": null,
     "metadata": {},
     "output_type": "execute_result"
    }
   ],
   "source": [
    "#|exports\n",
    "def test_loading_with_colors_fasthtml_examples():\n",
    "    \"\"\"Test loading with colors from daisyUI v5 documentation.\"\"\"\n",
    "    from fasthtml.common import Span, Div\n",
    "    from cjm_fasthtml_daisyui.core.utility_classes import text_dui\n",
    "    \n",
    "    # Loading spinner with primary color\n",
    "    primary_spinner = Span(cls=combine_classes(loading, loading_styles.spinner, text_dui.primary))\n",
    "    assert primary_spinner.tag == \"span\"\n",
    "    assert \"loading\" in primary_spinner.attrs['class']\n",
    "    assert \"loading-spinner\" in primary_spinner.attrs['class']\n",
    "    assert \"text-primary\" in primary_spinner.attrs['class']\n",
    "    \n",
    "    # Loading spinner with secondary color\n",
    "    secondary_spinner = Span(cls=combine_classes(loading, loading_styles.spinner, text_dui.secondary))\n",
    "    assert \"loading\" in secondary_spinner.attrs['class']\n",
    "    assert \"loading-spinner\" in secondary_spinner.attrs['class']\n",
    "    assert \"text-secondary\" in secondary_spinner.attrs['class']\n",
    "    \n",
    "    # Loading spinner with accent color\n",
    "    accent_spinner = Span(cls=combine_classes(loading, loading_styles.spinner, text_dui.accent))\n",
    "    assert \"loading\" in accent_spinner.attrs['class']\n",
    "    assert \"loading-spinner\" in accent_spinner.attrs['class']\n",
    "    assert \"text-accent\" in accent_spinner.attrs['class']\n",
    "    \n",
    "    # Loading spinner with neutral color\n",
    "    neutral_spinner = Span(cls=combine_classes(loading, loading_styles.spinner, text_dui.neutral))\n",
    "    assert \"loading\" in neutral_spinner.attrs['class']\n",
    "    assert \"loading-spinner\" in neutral_spinner.attrs['class']\n",
    "    assert \"text-neutral\" in neutral_spinner.attrs['class']\n",
    "    \n",
    "    # Loading spinner with info color\n",
    "    info_spinner = Span(cls=combine_classes(loading, loading_styles.spinner, text_dui.info))\n",
    "    assert \"loading\" in info_spinner.attrs['class']\n",
    "    assert \"loading-spinner\" in info_spinner.attrs['class']\n",
    "    assert \"text-info\" in info_spinner.attrs['class']\n",
    "    \n",
    "    # Loading spinner with success color\n",
    "    success_spinner = Span(cls=combine_classes(loading, loading_styles.spinner, text_dui.success))\n",
    "    assert \"loading\" in success_spinner.attrs['class']\n",
    "    assert \"loading-spinner\" in success_spinner.attrs['class']\n",
    "    assert \"text-success\" in success_spinner.attrs['class']\n",
    "    \n",
    "    # Loading spinner with warning color\n",
    "    warning_spinner = Span(cls=combine_classes(loading, loading_styles.spinner, text_dui.warning))\n",
    "    assert \"loading\" in warning_spinner.attrs['class']\n",
    "    assert \"loading-spinner\" in warning_spinner.attrs['class']\n",
    "    assert \"text-warning\" in warning_spinner.attrs['class']\n",
    "    \n",
    "    # Loading spinner with error color\n",
    "    error_spinner = Span(cls=combine_classes(loading, loading_styles.spinner, text_dui.error))\n",
    "    assert \"loading\" in error_spinner.attrs['class']\n",
    "    assert \"loading-spinner\" in error_spinner.attrs['class']\n",
    "    assert \"text-error\" in error_spinner.attrs['class']\n",
    "    \n",
    "    # Return all colored spinners in a Div\n",
    "    return Div(\n",
    "        primary_spinner,\n",
    "        secondary_spinner,\n",
    "        accent_spinner,\n",
    "        neutral_spinner,\n",
    "        info_spinner,\n",
    "        success_spinner,\n",
    "        warning_spinner,\n",
    "        error_spinner\n",
    "    )\n",
    "\n",
    "# Run the tests\n",
    "test_loading_with_colors_fasthtml_examples()"
   ]
  },
  {
   "cell_type": "code",
   "execution_count": null,
   "id": "498327ad-d4a6-489f-b9d1-9d88f373cb59",
   "metadata": {},
   "outputs": [],
   "source": []
  },
  {
   "cell_type": "code",
   "execution_count": null,
   "id": "54lzl5eu6ft",
   "metadata": {},
   "outputs": [
    {
     "data": {
      "text/html": [
       "\n",
       "<script>\n",
       "document.body.addEventListener('htmx:configRequest', (event) => {\n",
       "    if(event.detail.path.includes('://')) return;\n",
       "    htmx.config.selfRequestsOnly=false;\n",
       "    event.detail.path = `${location.protocol}//${location.hostname}:8000${event.detail.path}`;\n",
       "});\n",
       "</script>"
      ],
      "text/plain": [
       "<IPython.core.display.HTML object>"
      ]
     },
     "metadata": {},
     "output_type": "display_data"
    },
    {
     "data": {
      "text/html": [
       "<iframe src=\"http://localhost:8000/\" style=\"width: 100%; height: auto; border: none;\" onload=\"{\n",
       "        let frame = this;\n",
       "        window.addEventListener('message', function(e) {\n",
       "            if (e.source !== frame.contentWindow) return; // Only proceed if the message is from this iframe\n",
       "            if (e.data.height) frame.style.height = (e.data.height+1) + 'px';\n",
       "        }, false);\n",
       "    }\" allow=\"accelerometer; autoplay; camera; clipboard-read; clipboard-write; display-capture; encrypted-media; fullscreen; gamepad; geolocation; gyroscope; hid; identity-credentials-get; idle-detection; magnetometer; microphone; midi; payment; picture-in-picture; publickey-credentials-get; screen-wake-lock; serial; usb; web-share; xr-spatial-tracking\"></iframe> "
      ],
      "text/plain": [
       "<IPython.core.display.HTML object>"
      ]
     },
     "metadata": {},
     "output_type": "display_data"
    }
   ],
   "source": [
    "#| eval: false\n",
    "#| output: false\n",
    "test_func = test_loading_with_colors_fasthtml_examples\n",
    "app, rt = create_test_app(theme=DaisyUITheme.LIGHT)\n",
    "\n",
    "@rt\n",
    "def index():\n",
    "    return create_test_page(test_func.__doc__.title().replace('.', ''), test_func())\n",
    "server = start_test_server(app)\n",
    "display(HTMX())\n",
    "server.stop()"
   ]
  },
  {
   "cell_type": "code",
   "execution_count": null,
   "id": "6e55676a-92f1-4e61-849f-f5a842ddbf2d",
   "metadata": {},
   "outputs": [],
   "source": []
  },
  {
   "cell_type": "code",
   "execution_count": null,
   "id": "5e393923-880f-45d4-b15a-390f1c6dfc58",
   "metadata": {},
   "outputs": [],
   "source": []
  },
  {
   "cell_type": "code",
   "execution_count": null,
   "id": "ab1b73be-1cf7-44d9-93ab-67e87e3850a3",
   "metadata": {},
   "outputs": [],
   "source": []
  },
  {
   "cell_type": "code",
   "execution_count": null,
   "id": "1b7fea39-736c-406b-8f93-aca63e557cea",
   "metadata": {},
   "outputs": [],
   "source": []
  },
  {
   "cell_type": "code",
   "execution_count": null,
   "id": "50480744-f1b9-462a-9d02-a6fe41a507e4",
   "metadata": {},
   "outputs": [],
   "source": []
  },
  {
   "cell_type": "code",
   "execution_count": null,
   "id": "7ab8257a-c30b-45b6-a784-729b67686791",
   "metadata": {},
   "outputs": [],
   "source": [
    "#| hide\n",
    "import nbdev; nbdev.nbdev_export()"
   ]
  }
 ],
 "metadata": {
  "kernelspec": {
   "display_name": "python3",
   "language": "python",
   "name": "python3"
  }
 },
 "nbformat": 4,
 "nbformat_minor": 5
}
