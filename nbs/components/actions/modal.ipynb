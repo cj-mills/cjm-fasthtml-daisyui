{
 "cells": [
  {
   "cell_type": "markdown",
   "id": "06de3702-f8a3-438b-bd06-1b25d9a0dc7b",
   "metadata": {},
   "source": [
    "# modal\n",
    "\n",
    "> Modal is used to show a dialog or a box when you click a button."
   ]
  },
  {
   "cell_type": "code",
   "execution_count": null,
   "id": "df874ed5-a879-4670-bfc5-82551e4d7659",
   "metadata": {},
   "outputs": [],
   "source": [
    "#| default_exp components.actions.modal"
   ]
  },
  {
   "cell_type": "code",
   "execution_count": null,
   "id": "ae74aa2e-1ea7-4960-922c-cecd88957d63",
   "metadata": {},
   "outputs": [],
   "source": [
    "#| hide\n",
    "from nbdev.showdoc import *"
   ]
  },
  {
   "cell_type": "code",
   "execution_count": null,
   "id": "a9b1699f-0d13-4fbc-82bd-cf2abd66ca88",
   "metadata": {},
   "outputs": [],
   "source": [
    "#| export\n",
    "from typing import Optional, Dict, Any, Union\n",
    "from cjm_fasthtml_tailwind.core.base import (\n",
    "    SingleValueFactory, BaseFactory, combine_classes\n",
    ")\n",
    "from cjm_fasthtml_tailwind.builders.scales import SimpleFactory\n",
    "\n",
    "from fasthtml.jupyter import JupyUvi, HTMX\n",
    "from cjm_fasthtml_daisyui.core.testing import create_test_app, create_test_page, start_test_server\n",
    "\n",
    "from fasthtml.common import Div\n",
    "from cjm_fasthtml_daisyui.core.themes import DaisyUITheme\n",
    "from IPython.display import display"
   ]
  },
  {
   "cell_type": "markdown",
   "id": "5fd41f7f-55f0-4356-a309-73ab623ceff4",
   "metadata": {},
   "source": [
    "### Base Modal Components"
   ]
  },
  {
   "cell_type": "code",
   "execution_count": null,
   "id": "060b40f9-6c64-4b1b-91d5-56bf496c4a45",
   "metadata": {},
   "outputs": [],
   "source": [
    "#| exports\n",
    "modal = SingleValueFactory(\"modal\", \"Modal container component\") # Modal container\n",
    "modal_box = SingleValueFactory(\"modal-box\", \"The content part of modal\") # Modal content box\n",
    "modal_action = SingleValueFactory(\"modal-action\", \"Actions part of modal (buttons, etc.)\") # Modal actions\n",
    "modal_backdrop = SingleValueFactory(\"modal-backdrop\", \"Label that covers the page when modal is open\") # Modal backdrop\n",
    "modal_toggle = SingleValueFactory(\"modal-toggle\", \"Hidden checkbox that controls the state of modal\") # Modal toggle"
   ]
  },
  {
   "cell_type": "markdown",
   "id": "7e6ed23c-0677-4f70-92ca-046fc8e301c3",
   "metadata": {},
   "source": [
    "### Modal Placement"
   ]
  },
  {
   "cell_type": "code",
   "execution_count": null,
   "id": "e3d28954-d46a-4f28-bcae-d3c8041c5afd",
   "metadata": {},
   "outputs": [],
   "source": [
    "#| exports\n",
    "modal_placement = SimpleFactory(\n",
    "    {\n",
    "        \"top\": \"modal-top\",\n",
    "        \"middle\": \"modal-middle\",\n",
    "        \"bottom\": \"modal-bottom\",\n",
    "        \"start\": \"modal-start\",\n",
    "        \"end\": \"modal-end\"\n",
    "    },\n",
    "    \"Modal placement options for positioning\"\n",
    ") # Modal placement options"
   ]
  },
  {
   "cell_type": "markdown",
   "id": "53e6a69a-a664-4173-9f8b-16b5decf1d0e",
   "metadata": {},
   "source": [
    "### Modal State"
   ]
  },
  {
   "cell_type": "code",
   "execution_count": null,
   "id": "1accaae2-1dba-481e-adba-899c28db80d4",
   "metadata": {},
   "outputs": [],
   "source": [
    "#| exports\n",
    "modal_open = SingleValueFactory(\"modal-open\", \"Keeps the modal open (you can add this class using JS)\") # Modal open state"
   ]
  },
  {
   "cell_type": "markdown",
   "id": "7c66a761-b13c-44a6-893b-c3197fe0bb66",
   "metadata": {},
   "source": [
    "### Modal Test Examples"
   ]
  },
  {
   "cell_type": "code",
   "execution_count": null,
   "id": "0062045b-90b1-44ab-b232-5c3b82993038",
   "metadata": {},
   "outputs": [],
   "source": [
    "#|exports\n",
    "def test_modal_basic_examples():\n",
    "    \"\"\"Test basic modal utilities.\"\"\"\n",
    "    assert str(modal) == \"modal\"\n",
    "    assert str(modal_box) == \"modal-box\"\n",
    "    assert str(modal_action) == \"modal-action\"\n",
    "    assert str(modal_backdrop) == \"modal-backdrop\"\n",
    "    assert str(modal_toggle) == \"modal-toggle\"\n",
    "    assert str(modal_open) == \"modal-open\"\n",
    "\n",
    "# Run the tests\n",
    "test_modal_basic_examples()"
   ]
  },
  {
   "cell_type": "code",
   "execution_count": null,
   "id": "fbc03adb-f019-4e9c-b7f5-d57d889a6c90",
   "metadata": {},
   "outputs": [],
   "source": [
    "#|exports\n",
    "def test_modal_placement_examples():\n",
    "    \"\"\"Test modal placement options.\"\"\"\n",
    "    assert str(modal_placement.top) == \"modal-top\"\n",
    "    assert str(modal_placement.middle) == \"modal-middle\"\n",
    "    assert str(modal_placement.bottom) == \"modal-bottom\"\n",
    "    assert str(modal_placement.start) == \"modal-start\"\n",
    "    assert str(modal_placement.end) == \"modal-end\"\n",
    "\n",
    "# Run the tests\n",
    "test_modal_placement_examples()"
   ]
  },
  {
   "cell_type": "code",
   "execution_count": null,
   "id": "61c8e58e-fbb4-4320-a2bc-7329d0ce73b2",
   "metadata": {},
   "outputs": [],
   "source": [
    "#|exports\n",
    "def test_modal_dialog_fasthtml_examples():\n",
    "    \"\"\"Test modal examples using HTML dialog element (recommended method).\"\"\"\n",
    "    from fasthtml.common import Dialog, Div, Button, H3, P, Form\n",
    "    from cjm_fasthtml_tailwind.utilities.spacing import p\n",
    "    from cjm_fasthtml_tailwind.utilities.typography import text, font\n",
    "    from cjm_fasthtml_tailwind.utilities.sizing import w, max_w\n",
    "    from cjm_fasthtml_tailwind.utilities.layout import position, right, top\n",
    "    from cjm_fasthtml_daisyui.components.actions.button import btn, btn_sizes, btn_modifiers, btn_styles\n",
    "    \n",
    "    # Basic dialog modal\n",
    "    dialog_modal = Dialog(\n",
    "        Div(\n",
    "            H3(\"Hello!\", cls=combine_classes(text.lg, font.bold)),\n",
    "            P(\"Press ESC key or click the button below to close\", cls=p.y._4),\n",
    "            Div(\n",
    "                Form(\n",
    "                    Button(\"Close\", cls=str(btn)),\n",
    "                    method=\"dialog\"\n",
    "                ),\n",
    "                cls=str(modal_action)\n",
    "            ),\n",
    "            cls=str(modal_box)\n",
    "        ),\n",
    "        id=\"my_modal_1\",\n",
    "        cls=str(modal)\n",
    "    )\n",
    "    assert dialog_modal.tag == \"dialog\"\n",
    "    assert dialog_modal.attrs['id'] == \"my_modal_1\"\n",
    "    assert \"modal\" in dialog_modal.attrs['class']\n",
    "    assert \"modal-box\" in dialog_modal.children[0].attrs['class']\n",
    "    assert \"modal-action\" in dialog_modal.children[0].children[2].attrs['class']\n",
    "    \n",
    "    # Dialog modal with backdrop (closes when clicked outside)\n",
    "    backdrop_modal = Dialog(\n",
    "        Div(\n",
    "            H3(\"Hello!\", cls=combine_classes(text.lg, font.bold)),\n",
    "            P(\"Press ESC key or click outside to close\", cls=p.y._4),\n",
    "            cls=str(modal_box)\n",
    "        ),\n",
    "        Form(\n",
    "            Button(\"close\"),\n",
    "            method=\"dialog\",\n",
    "            cls=str(modal_backdrop)\n",
    "        ),\n",
    "        id=\"my_modal_2\",\n",
    "        cls=str(modal)\n",
    "    )\n",
    "    assert \"modal-backdrop\" in backdrop_modal.children[1].attrs['class']\n",
    "    assert backdrop_modal.children[1].tag == \"form\"\n",
    "    assert backdrop_modal.children[1].attrs['method'] == \"dialog\"\n",
    "    \n",
    "    # Dialog modal with close button at corner\n",
    "    close_button_modal = Dialog(\n",
    "        Div(\n",
    "            Form(\n",
    "                Button(\n",
    "                    \"✕\",\n",
    "                    cls=combine_classes(\n",
    "                        btn,\n",
    "                        btn_sizes.sm,\n",
    "                        btn_modifiers.circle,\n",
    "                        btn_styles.ghost,\n",
    "                        position.absolute,\n",
    "                        right._2,\n",
    "                        top._2\n",
    "                    )\n",
    "                ),\n",
    "                method=\"dialog\"\n",
    "            ),\n",
    "            H3(\"Hello!\", cls=combine_classes(text.lg, font.bold)),\n",
    "            P(\"Press ESC key or click on ✕ button to close\", cls=p.y._4),\n",
    "            cls=str(modal_box)\n",
    "        ),\n",
    "        id=\"my_modal_3\",\n",
    "        cls=str(modal)\n",
    "    )\n",
    "    assert \"btn-sm\" in close_button_modal.children[0].children[0].children[0].attrs['class']\n",
    "    assert \"btn-circle\" in close_button_modal.children[0].children[0].children[0].attrs['class']\n",
    "    assert \"absolute\" in close_button_modal.children[0].children[0].children[0].attrs['class']\n",
    "    assert \"right-2\" in close_button_modal.children[0].children[0].children[0].attrs['class']\n",
    "    assert \"top-2\" in close_button_modal.children[0].children[0].children[0].attrs['class']\n",
    "    \n",
    "    # Dialog modal with custom width\n",
    "    wide_modal = Dialog(\n",
    "        Div(\n",
    "            H3(\"Hello!\", cls=combine_classes(text.lg, font.bold)),\n",
    "            P(\"Click the button below to close\", cls=p.y._4),\n",
    "            Div(\n",
    "                Form(\n",
    "                    Button(\"Close\", cls=str(btn)),\n",
    "                    method=\"dialog\"\n",
    "                ),\n",
    "                cls=str(modal_action)\n",
    "            ),\n",
    "            cls=combine_classes(modal_box, w(\"11/12\"), max_w._5xl)\n",
    "        ),\n",
    "        id=\"my_modal_4\",\n",
    "        cls=str(modal)\n",
    "    )\n",
    "    assert \"w-11/12\" in wide_modal.children[0].attrs['class']\n",
    "    assert \"max-w-5xl\" in wide_modal.children[0].attrs['class']\n",
    "    \n",
    "    # Responsive modal (bottom on mobile, middle on larger screens)\n",
    "    responsive_modal = Dialog(\n",
    "        Div(\n",
    "            H3(\"Hello!\", cls=combine_classes(text.lg, font.bold)),\n",
    "            P(\"Press ESC key or click the button below to close\", cls=p.y._4),\n",
    "            Div(\n",
    "                Form(\n",
    "                    Button(\"Close\", cls=str(btn)),\n",
    "                    method=\"dialog\"\n",
    "                ),\n",
    "                cls=str(modal_action)\n",
    "            ),\n",
    "            cls=str(modal_box)\n",
    "        ),\n",
    "        id=\"my_modal_5\",\n",
    "        cls=combine_classes(modal, modal_placement.bottom, modal_placement.middle.sm)\n",
    "    )\n",
    "    assert \"modal-bottom\" in responsive_modal.attrs['class']\n",
    "    assert \"sm:modal-middle\" in responsive_modal.attrs['class']\n",
    "    \n",
    "    # Test button triggers with onclick\n",
    "    trigger_button = Button(\n",
    "        \"open modal\",\n",
    "        cls=str(btn),\n",
    "        onclick=\"my_modal_1.showModal()\"\n",
    "    )\n",
    "    assert trigger_button.attrs['onclick'] == \"my_modal_1.showModal()\"\n",
    "    \n",
    "    # Return all elements in a Div\n",
    "    return Div(\n",
    "        trigger_button,\n",
    "        dialog_modal,\n",
    "        backdrop_modal,\n",
    "        close_button_modal,\n",
    "        wide_modal,\n",
    "        responsive_modal\n",
    "    )\n",
    "\n",
    "# Run the tests\n",
    "test_modal_dialog_fasthtml_examples()"
   ]
  },
  {
   "cell_type": "code",
   "execution_count": null,
   "id": "747c5b06-bc12-4574-bb70-6aef7179ab09",
   "metadata": {},
   "outputs": [
    {
     "data": {
      "text/html": [
       "\n",
       "<script>\n",
       "document.body.addEventListener('htmx:configRequest', (event) => {\n",
       "    if(event.detail.path.includes('://')) return;\n",
       "    htmx.config.selfRequestsOnly=false;\n",
       "    event.detail.path = `${location.protocol}//${location.hostname}:8000${event.detail.path}`;\n",
       "});\n",
       "</script>"
      ],
      "text/plain": [
       "<IPython.core.display.HTML object>"
      ]
     },
     "metadata": {},
     "output_type": "display_data"
    },
    {
     "data": {
      "text/html": [
       "<iframe src=\"http://localhost:8000/\" style=\"width: 100%; height: auto; border: none;\" onload=\"{\n",
       "        let frame = this;\n",
       "        window.addEventListener('message', function(e) {\n",
       "            if (e.source !== frame.contentWindow) return; // Only proceed if the message is from this iframe\n",
       "            if (e.data.height) frame.style.height = (e.data.height+1) + 'px';\n",
       "        }, false);\n",
       "    }\" allow=\"accelerometer; autoplay; camera; clipboard-read; clipboard-write; display-capture; encrypted-media; fullscreen; gamepad; geolocation; gyroscope; hid; identity-credentials-get; idle-detection; magnetometer; microphone; midi; payment; picture-in-picture; publickey-credentials-get; screen-wake-lock; serial; usb; web-share; xr-spatial-tracking\"></iframe> "
      ],
      "text/plain": [
       "<IPython.core.display.HTML object>"
      ]
     },
     "metadata": {},
     "output_type": "display_data"
    }
   ],
   "source": [
    "#| eval: false\n",
    "#| output: false\n",
    "test_func = test_modal_dialog_fasthtml_examples\n",
    "app, rt = create_test_app(theme=DaisyUITheme.LIGHT)\n",
    "\n",
    "@rt\n",
    "def index():\n",
    "    return create_test_page(test_func.__doc__.title().replace('.', ''), test_func())\n",
    "server = start_test_server(app)\n",
    "display(HTMX())\n",
    "server.stop()"
   ]
  },
  {
   "cell_type": "code",
   "execution_count": null,
   "id": "5f55wcg6s0w",
   "metadata": {},
   "outputs": [],
   "source": [
    "#|exports\n",
    "def test_modal_checkbox_fasthtml_examples():\n",
    "    \"\"\"Test modal examples using checkbox method (legacy).\"\"\"\n",
    "    from fasthtml.common import Label, Input, Div, H3, P\n",
    "    from cjm_fasthtml_tailwind.utilities.typography import text, font\n",
    "    from cjm_fasthtml_tailwind.utilities.spacing import p\n",
    "    from cjm_fasthtml_daisyui.components.actions.button import btn, btn_sizes, btn_modifiers, btn_styles\n",
    "    \n",
    "    # Basic checkbox modal components\n",
    "    checkbox_trigger = Label(\"open modal\", for_=\"my_modal_6\", cls=str(btn))\n",
    "    checkbox_input = Input(type=\"checkbox\", id=\"my_modal_6\", cls=str(modal_toggle))\n",
    "    checkbox_modal = Div(\n",
    "        Div(\n",
    "            H3(\"Hello!\", cls=combine_classes(text.lg, font.bold)),\n",
    "            P(\"This modal works with a hidden checkbox!\", cls=p.y._4),\n",
    "            Div(\n",
    "                Label(\"Close!\", for_=\"my_modal_6\", cls=str(btn)),\n",
    "                cls=str(modal_action)\n",
    "            ),\n",
    "            cls=str(modal_box)\n",
    "        ),\n",
    "        cls=str(modal),\n",
    "        role=\"dialog\"\n",
    "    )\n",
    "    \n",
    "    # Verify checkbox modal structure\n",
    "    assert checkbox_trigger.attrs['for-'] == \"my_modal_6\"\n",
    "    assert checkbox_trigger.attrs['class'] == \"btn\"\n",
    "    assert checkbox_input.attrs['type'] == \"checkbox\"\n",
    "    assert checkbox_input.attrs['id'] == \"my_modal_6\"\n",
    "    assert \"modal-toggle\" in checkbox_input.attrs['class']\n",
    "    assert checkbox_modal.attrs['role'] == \"dialog\"\n",
    "    assert \"modal\" in checkbox_modal.attrs['class']\n",
    "    \n",
    "    # Checkbox modal that closes when clicked outside\n",
    "    backdrop_checkbox_trigger = Label(\"open modal\", for_=\"my_modal_7\", cls=str(btn))\n",
    "    backdrop_checkbox_input = Input(type=\"checkbox\", id=\"my_modal_7\", cls=str(modal_toggle))\n",
    "    backdrop_checkbox_modal = Div(\n",
    "        Div(\n",
    "            H3(\"Hello!\", cls=combine_classes(text.lg, font.bold)),\n",
    "            P(\"This modal works with a hidden checkbox!\", cls=p.y._4),\n",
    "            cls=str(modal_box)\n",
    "        ),\n",
    "        Label(\"Close\", cls=str(modal_backdrop), for_=\"my_modal_7\"),\n",
    "        cls=str(modal),\n",
    "        role=\"dialog\"\n",
    "    )\n",
    "    \n",
    "    # Verify backdrop structure\n",
    "    assert backdrop_checkbox_modal.children[1].tag == \"label\"\n",
    "    assert \"modal-backdrop\" in backdrop_checkbox_modal.children[1].attrs['class']\n",
    "    assert backdrop_checkbox_modal.children[1].attrs['for-'] == \"my_modal_7\"\n",
    "    \n",
    "    # Full checkbox modal example\n",
    "    full_checkbox_example = [\n",
    "        checkbox_trigger,\n",
    "        checkbox_input,\n",
    "        checkbox_modal\n",
    "    ]\n",
    "    assert len(full_checkbox_example) == 3\n",
    "    assert full_checkbox_example[0].tag == \"label\"\n",
    "    assert full_checkbox_example[1].tag == \"input\"\n",
    "    assert full_checkbox_example[2].tag == \"div\"\n",
    "    \n",
    "    # Return all elements in a Div\n",
    "    return Div(\n",
    "        checkbox_trigger,\n",
    "        checkbox_input,\n",
    "        checkbox_modal,\n",
    "        backdrop_checkbox_trigger,\n",
    "        backdrop_checkbox_input,\n",
    "        backdrop_checkbox_modal\n",
    "    )\n",
    "\n",
    "# Run the tests\n",
    "test_modal_checkbox_fasthtml_examples()"
   ]
  },
  {
   "cell_type": "code",
   "execution_count": null,
   "id": "fce8f328-9aec-465c-972b-d5bcf3677ae4",
   "metadata": {},
   "outputs": [
    {
     "data": {
      "text/html": [
       "\n",
       "<script>\n",
       "document.body.addEventListener('htmx:configRequest', (event) => {\n",
       "    if(event.detail.path.includes('://')) return;\n",
       "    htmx.config.selfRequestsOnly=false;\n",
       "    event.detail.path = `${location.protocol}//${location.hostname}:8000${event.detail.path}`;\n",
       "});\n",
       "</script>"
      ],
      "text/plain": [
       "<IPython.core.display.HTML object>"
      ]
     },
     "metadata": {},
     "output_type": "display_data"
    },
    {
     "data": {
      "text/html": [
       "<iframe src=\"http://localhost:8000/\" style=\"width: 100%; height: auto; border: none;\" onload=\"{\n",
       "        let frame = this;\n",
       "        window.addEventListener('message', function(e) {\n",
       "            if (e.source !== frame.contentWindow) return; // Only proceed if the message is from this iframe\n",
       "            if (e.data.height) frame.style.height = (e.data.height+1) + 'px';\n",
       "        }, false);\n",
       "    }\" allow=\"accelerometer; autoplay; camera; clipboard-read; clipboard-write; display-capture; encrypted-media; fullscreen; gamepad; geolocation; gyroscope; hid; identity-credentials-get; idle-detection; magnetometer; microphone; midi; payment; picture-in-picture; publickey-credentials-get; screen-wake-lock; serial; usb; web-share; xr-spatial-tracking\"></iframe> "
      ],
      "text/plain": [
       "<IPython.core.display.HTML object>"
      ]
     },
     "metadata": {},
     "output_type": "display_data"
    }
   ],
   "source": [
    "#| eval: false\n",
    "#| output: false\n",
    "test_func = test_modal_checkbox_fasthtml_examples\n",
    "app, rt = create_test_app(theme=DaisyUITheme.LIGHT)\n",
    "\n",
    "@rt\n",
    "def index():\n",
    "    return create_test_page(test_func.__doc__.title().replace('.', ''), test_func())\n",
    "server = start_test_server(app)\n",
    "display(HTMX())\n",
    "server.stop()"
   ]
  },
  {
   "cell_type": "code",
   "execution_count": null,
   "id": "st9olnvoyue",
   "metadata": {},
   "outputs": [],
   "source": [
    "#|exports\n",
    "def test_modal_anchor_fasthtml_examples():\n",
    "    \"\"\"Test modal examples using anchor links (legacy method).\"\"\"\n",
    "    from fasthtml.common import A, Div, H3, P\n",
    "    from cjm_fasthtml_tailwind.utilities.typography import text, font\n",
    "    from cjm_fasthtml_tailwind.utilities.spacing import p\n",
    "    from cjm_fasthtml_daisyui.components.actions.button import btn, btn_sizes, btn_modifiers, btn_styles\n",
    "    \n",
    "    # Anchor link trigger\n",
    "    anchor_trigger = A(\"open modal\", href=\"#my_modal_8\", cls=str(btn))\n",
    "    \n",
    "    # Anchor modal\n",
    "    anchor_modal = Div(\n",
    "        Div(\n",
    "            H3(\"Hello!\", cls=combine_classes(text.lg, font.bold)),\n",
    "            P(\"This modal works with anchor links\", cls=p.y._4),\n",
    "            Div(\n",
    "                A(\"Yay!\", href=\"#\", cls=str(btn)),\n",
    "                cls=str(modal_action)\n",
    "            ),\n",
    "            cls=str(modal_box)\n",
    "        ),\n",
    "        cls=str(modal),\n",
    "        role=\"dialog\",\n",
    "        id=\"my_modal_8\"\n",
    "    )\n",
    "    \n",
    "    # Verify anchor modal structure\n",
    "    assert anchor_trigger.attrs['href'] == \"#my_modal_8\"\n",
    "    assert anchor_trigger.attrs['class'] == \"btn\"\n",
    "    assert anchor_modal.attrs['id'] == \"my_modal_8\"\n",
    "    assert anchor_modal.attrs['role'] == \"dialog\"\n",
    "    assert \"modal\" in anchor_modal.attrs['class']\n",
    "    \n",
    "    # Verify the close button\n",
    "    close_link = anchor_modal.children[0].children[2].children[0]\n",
    "    assert close_link.tag == \"a\"\n",
    "    assert close_link.attrs['href'] == \"#\"\n",
    "    assert \"btn\" in close_link.attrs['class']\n",
    "    \n",
    "    # Test with :target pseudo-class (conceptual)\n",
    "    # Note: The actual :target CSS pseudo-class behavior happens in the browser\n",
    "    # when the URL fragment matches the element's ID\n",
    "    modal_with_target = Div(\n",
    "        anchor_trigger,\n",
    "        anchor_modal,\n",
    "        cls=\"modal-container\"\n",
    "    )\n",
    "    assert len(modal_with_target.children) == 2\n",
    "    assert modal_with_target.children[0].attrs['href'] == \"#my_modal_8\"\n",
    "    assert modal_with_target.children[1].attrs['id'] == \"my_modal_8\"\n",
    "    \n",
    "    # Return all elements in a Div\n",
    "    return Div(\n",
    "        anchor_trigger,\n",
    "        anchor_modal\n",
    "    )\n",
    "\n",
    "# Run the tests\n",
    "test_modal_anchor_fasthtml_examples()"
   ]
  },
  {
   "cell_type": "code",
   "execution_count": null,
   "id": "81650949-1888-4515-9fe1-f5a815112311",
   "metadata": {},
   "outputs": [
    {
     "data": {
      "text/html": [
       "\n",
       "<script>\n",
       "document.body.addEventListener('htmx:configRequest', (event) => {\n",
       "    if(event.detail.path.includes('://')) return;\n",
       "    htmx.config.selfRequestsOnly=false;\n",
       "    event.detail.path = `${location.protocol}//${location.hostname}:8000${event.detail.path}`;\n",
       "});\n",
       "</script>"
      ],
      "text/plain": [
       "<IPython.core.display.HTML object>"
      ]
     },
     "metadata": {},
     "output_type": "display_data"
    },
    {
     "data": {
      "text/html": [
       "<iframe src=\"http://localhost:8000/\" style=\"width: 100%; height: auto; border: none;\" onload=\"{\n",
       "        let frame = this;\n",
       "        window.addEventListener('message', function(e) {\n",
       "            if (e.source !== frame.contentWindow) return; // Only proceed if the message is from this iframe\n",
       "            if (e.data.height) frame.style.height = (e.data.height+1) + 'px';\n",
       "        }, false);\n",
       "    }\" allow=\"accelerometer; autoplay; camera; clipboard-read; clipboard-write; display-capture; encrypted-media; fullscreen; gamepad; geolocation; gyroscope; hid; identity-credentials-get; idle-detection; magnetometer; microphone; midi; payment; picture-in-picture; publickey-credentials-get; screen-wake-lock; serial; usb; web-share; xr-spatial-tracking\"></iframe> "
      ],
      "text/plain": [
       "<IPython.core.display.HTML object>"
      ]
     },
     "metadata": {},
     "output_type": "display_data"
    }
   ],
   "source": [
    "#| eval: false\n",
    "#| output: false\n",
    "test_func = test_modal_anchor_fasthtml_examples\n",
    "app, rt = create_test_app(theme=DaisyUITheme.LIGHT)\n",
    "\n",
    "@rt\n",
    "def index():\n",
    "    return create_test_page(test_func.__doc__.title().replace('.', ''), test_func())\n",
    "server = start_test_server(app)\n",
    "display(HTMX())\n",
    "server.stop()"
   ]
  },
  {
   "cell_type": "code",
   "execution_count": null,
   "id": "c0000ef3-cec6-474f-8d2a-3b6dd9629f9e",
   "metadata": {},
   "outputs": [],
   "source": []
  },
  {
   "cell_type": "code",
   "execution_count": null,
   "id": "a073bf04-e344-43ea-a4bb-3ee8fc160452",
   "metadata": {},
   "outputs": [],
   "source": []
  },
  {
   "cell_type": "code",
   "execution_count": null,
   "id": "56609e45-e788-4b22-86e7-1fa40f33c7a6",
   "metadata": {},
   "outputs": [],
   "source": []
  },
  {
   "cell_type": "code",
   "execution_count": null,
   "id": "7245f68c-907e-4dee-9521-bdc1bc65f9f2",
   "metadata": {},
   "outputs": [],
   "source": []
  },
  {
   "cell_type": "code",
   "execution_count": null,
   "id": "d53cdb68-28af-45cc-9696-a604218202fd",
   "metadata": {},
   "outputs": [],
   "source": []
  },
  {
   "cell_type": "code",
   "execution_count": null,
   "id": "03e2d30d-10a8-4a57-8bd4-bf4817339d22",
   "metadata": {},
   "outputs": [],
   "source": []
  },
  {
   "cell_type": "code",
   "execution_count": null,
   "id": "fd7dc6aa-a31d-4b90-822a-247716d406ee",
   "metadata": {},
   "outputs": [],
   "source": []
  },
  {
   "cell_type": "code",
   "execution_count": null,
   "id": "c6ed9e89-22e6-4835-a348-38b19f8c6785",
   "metadata": {},
   "outputs": [],
   "source": []
  },
  {
   "cell_type": "code",
   "execution_count": null,
   "id": "cdb0aeb7-4953-4de0-8143-695528be0900",
   "metadata": {},
   "outputs": [],
   "source": [
    "#| hide\n",
    "import nbdev; nbdev.nbdev_export()"
   ]
  }
 ],
 "metadata": {
  "kernelspec": {
   "display_name": "python3",
   "language": "python",
   "name": "python3"
  }
 },
 "nbformat": 4,
 "nbformat_minor": 5
}
