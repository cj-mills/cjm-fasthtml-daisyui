{
 "cells": [
  {
   "cell_type": "markdown",
   "id": "cc58d7a3-089e-451d-99fe-d84974ba1af4",
   "metadata": {},
   "source": [
    "# button\n",
    "\n",
    "> Buttons allow the user to take actions or make choices."
   ]
  },
  {
   "cell_type": "code",
   "execution_count": null,
   "id": "df874ed5-a879-4670-bfc5-82551e4d7659",
   "metadata": {},
   "outputs": [],
   "source": [
    "#| default_exp components.actions.button"
   ]
  },
  {
   "cell_type": "code",
   "execution_count": null,
   "id": "ae74aa2e-1ea7-4960-922c-cecd88957d63",
   "metadata": {},
   "outputs": [],
   "source": [
    "#| hide\n",
    "from nbdev.showdoc import *"
   ]
  },
  {
   "cell_type": "code",
   "execution_count": null,
   "id": "a9b1699f-0d13-4fbc-82bd-cf2abd66ca88",
   "metadata": {},
   "outputs": [],
   "source": [
    "#| export\n",
    "from enum import Enum\n",
    "from cjm_fasthtml_tailwind.core.base import (\n",
    "    SingleValueFactory, combine_classes\n",
    ")\n",
    "from cjm_fasthtml_tailwind.builders.scales import SimpleFactory, enums_to_simple_factory\n",
    "\n",
    "from cjm_fasthtml_daisyui.builders.colors import SemanticColorBrand, SemanticColorStatus\n",
    "from cjm_fasthtml_daisyui.builders.sizes import DaisyUINamedSize\n",
    "from cjm_fasthtml_daisyui.builders.styles import OutlineStyle, DashStyle, SoftStyle, GhostStyle\n",
    "\n",
    "from fasthtml.common import Div\n",
    "from fasthtml.jupyter import JupyUvi, HTMX\n",
    "from cjm_fasthtml_daisyui.core.testing import create_test_app, create_test_page, start_test_server\n",
    "from cjm_fasthtml_daisyui.core.themes import DaisyUITheme\n",
    "from IPython.display import display"
   ]
  },
  {
   "cell_type": "markdown",
   "id": "8f95722d-01b7-4b09-a992-39983f0c1fe0",
   "metadata": {},
   "source": [
    "### Base Button\n",
    "\n",
    "The base button component:"
   ]
  },
  {
   "cell_type": "code",
   "execution_count": null,
   "id": "719bd58f-47f9-4de9-b28a-fe48dee9a73f",
   "metadata": {},
   "outputs": [],
   "source": [
    "#| exports\n",
    "btn = SingleValueFactory(\"btn\", \"Base button component\") # Base button component"
   ]
  },
  {
   "cell_type": "markdown",
   "id": "47336897-ee78-4a52-b349-17d3a8bdeb98",
   "metadata": {},
   "source": [
    "### Button Colors\n",
    "\n",
    "Button color variants using daisyUI semantic colors:"
   ]
  },
  {
   "cell_type": "code",
   "execution_count": null,
   "id": "07d8a609-77c2-4b77-be54-cc8b14887cd2",
   "metadata": {},
   "outputs": [],
   "source": [
    "#| exports\n",
    "btn_colors = enums_to_simple_factory(btn, [SemanticColorBrand, SemanticColorStatus], \"Button color variants using daisyUI semantic colors\") # Button color variants"
   ]
  },
  {
   "cell_type": "markdown",
   "id": "c298814f-4021-4e62-8927-427abd7ea2ed",
   "metadata": {},
   "source": [
    "### Button Styles\n",
    "\n",
    "Different button style variants:"
   ]
  },
  {
   "cell_type": "code",
   "execution_count": null,
   "id": "be1d3874-b6bc-4103-9587-7490e2bd670d",
   "metadata": {},
   "outputs": [],
   "source": [
    "#| exports\n",
    "class LinkStyle(str, Enum):\n",
    "    LINK = \"link\"\n",
    "\n",
    "btn_styles = enums_to_simple_factory(btn, [OutlineStyle, DashStyle, SoftStyle, GhostStyle, LinkStyle], \"Button style variants\") # Button style variants"
   ]
  },
  {
   "cell_type": "markdown",
   "id": "08321660-9d57-4022-bb83-3a7eb7b0a8fc",
   "metadata": {},
   "source": [
    "### Button Sizes\n",
    "\n",
    "Button size variants:"
   ]
  },
  {
   "cell_type": "code",
   "execution_count": null,
   "id": "7cb076ed-8420-47e5-9ed8-03b97f96d5cf",
   "metadata": {},
   "outputs": [],
   "source": [
    "#| exports\n",
    "btn_sizes = enums_to_simple_factory(btn, [DaisyUINamedSize], \"Button size variants from extra small to extra large\") # Button size variants"
   ]
  },
  {
   "cell_type": "markdown",
   "id": "4291150b-cca9-4874-9e17-2eb3fa951295",
   "metadata": {},
   "source": [
    "### Button Modifiers\n",
    "\n",
    "Button modifier utilities:"
   ]
  },
  {
   "cell_type": "code",
   "execution_count": null,
   "id": "a1ce7405-431b-42d0-b6e1-93e77eec0040",
   "metadata": {},
   "outputs": [],
   "source": [
    "#| exports\n",
    "btn_modifiers = SimpleFactory(\n",
    "    {\n",
    "        \"wide\": \"btn-wide\",\n",
    "        \"block\": \"btn-block\",\n",
    "        \"square\": \"btn-square\",\n",
    "        \"circle\": \"btn-circle\"\n",
    "    },\n",
    "    \"Button shape and layout modifiers\"\n",
    ") # Button modifiers"
   ]
  },
  {
   "cell_type": "markdown",
   "id": "3c5ed544-9b81-4c1f-be29-ed8266dfc035",
   "metadata": {},
   "source": [
    "### Button Behaviors\n",
    "\n",
    "Button behavior utilities:"
   ]
  },
  {
   "cell_type": "code",
   "execution_count": null,
   "id": "1fd21c16-5de9-47b5-801b-144c63484d49",
   "metadata": {},
   "outputs": [],
   "source": [
    "#| exports\n",
    "btn_behaviors = SimpleFactory(\n",
    "    {\n",
    "        \"active\": \"btn-active\",\n",
    "        \"disabled\": \"btn-disabled\"\n",
    "    },\n",
    "    \"Button behavior states (active, disabled)\"\n",
    ") # Button behavior states"
   ]
  },
  {
   "cell_type": "markdown",
   "id": "d448a99e-696c-406b-a002-b1c04f781873",
   "metadata": {},
   "source": [
    "### Button Test Examples"
   ]
  },
  {
   "cell_type": "code",
   "execution_count": null,
   "id": "f8c16570-7387-48d2-8a75-f062f4349f30",
   "metadata": {},
   "outputs": [],
   "source": [
    "#| exports\n",
    "def test_button_basic_examples():\n",
    "    \"\"\"Test basic button utilities.\"\"\"\n",
    "    # Basic button\n",
    "    assert str(btn) == \"btn\"\n",
    "    \n",
    "    # Test with modifiers\n",
    "    assert str(btn.hover) == \"hover:btn\"\n",
    "    assert str(btn.md) == \"md:btn\"\n",
    "    assert str(btn.dark) == \"dark:btn\"\n",
    "\n",
    "# Run the tests\n",
    "test_button_basic_examples()"
   ]
  },
  {
   "cell_type": "code",
   "execution_count": null,
   "id": "175a3b7b-ace0-4134-94eb-b9c89f5351fe",
   "metadata": {},
   "outputs": [],
   "source": [
    "#|exports\n",
    "def test_button_colors_examples():\n",
    "    \"\"\"Test button color variants.\"\"\"\n",
    "    # All color variants\n",
    "    assert str(btn_colors.neutral) == \"btn-neutral\"\n",
    "    assert str(btn_colors.primary) == \"btn-primary\"\n",
    "    assert str(btn_colors.secondary) == \"btn-secondary\"\n",
    "    assert str(btn_colors.accent) == \"btn-accent\"\n",
    "    assert str(btn_colors.info) == \"btn-info\"\n",
    "    assert str(btn_colors.success) == \"btn-success\"\n",
    "    assert str(btn_colors.warning) == \"btn-warning\"\n",
    "    assert str(btn_colors.error) == \"btn-error\"\n",
    "    \n",
    "    # With modifiers\n",
    "    assert str(btn_colors.primary.hover) == \"hover:btn-primary\"\n",
    "    assert str(btn_colors.success.focus) == \"focus:btn-success\"\n",
    "\n",
    "# Run the tests\n",
    "test_button_colors_examples()"
   ]
  },
  {
   "cell_type": "code",
   "execution_count": null,
   "id": "55010742-449d-4cc3-a541-d6f88ba7a34d",
   "metadata": {},
   "outputs": [],
   "source": [
    "#|exports\n",
    "def test_button_styles_examples():\n",
    "    \"\"\"Test button style variants.\"\"\"\n",
    "    assert str(btn_styles.outline) == \"btn-outline\"\n",
    "    assert str(btn_styles.dash) == \"btn-dash\"\n",
    "    assert str(btn_styles.soft) == \"btn-soft\"\n",
    "    assert str(btn_styles.ghost) == \"btn-ghost\"\n",
    "    assert str(btn_styles.link) == \"btn-link\"\n",
    "\n",
    "# Run the tests\n",
    "test_button_styles_examples()"
   ]
  },
  {
   "cell_type": "code",
   "execution_count": null,
   "id": "d0f8f410-2f8c-4343-a6b1-8e1a8e319234",
   "metadata": {},
   "outputs": [],
   "source": [
    "#|exports\n",
    "def test_button_sizes_examples():\n",
    "    \"\"\"Test button size variants.\"\"\"\n",
    "    assert str(btn_sizes.xs) == \"btn-xs\"\n",
    "    assert str(btn_sizes.sm) == \"btn-sm\"\n",
    "    assert str(btn_sizes.md) == \"btn-md\"\n",
    "    assert str(btn_sizes.lg) == \"btn-lg\"\n",
    "    assert str(btn_sizes.xl) == \"btn-xl\"\n",
    "    \n",
    "    # With responsive modifiers\n",
    "    assert str(btn_sizes.xs.sm) == \"sm:btn-xs\"\n",
    "    assert str(btn_sizes.lg.md) == \"md:btn-lg\"\n",
    "\n",
    "# Run the tests\n",
    "test_button_sizes_examples()"
   ]
  },
  {
   "cell_type": "code",
   "execution_count": null,
   "id": "af2e57aa-599c-484a-b9a2-cd36198dafca",
   "metadata": {},
   "outputs": [],
   "source": [
    "#|exports\n",
    "def test_button_modifiers_examples():\n",
    "    \"\"\"Test button modifier utilities.\"\"\"\n",
    "    assert str(btn_modifiers.wide) == \"btn-wide\"\n",
    "    assert str(btn_modifiers.block) == \"btn-block\"\n",
    "    assert str(btn_modifiers.square) == \"btn-square\"\n",
    "    assert str(btn_modifiers.circle) == \"btn-circle\"\n",
    "\n",
    "# Run the tests\n",
    "test_button_modifiers_examples()"
   ]
  },
  {
   "cell_type": "code",
   "execution_count": null,
   "id": "5176a6ca-4a34-48d0-9098-e69a1d1c0ef9",
   "metadata": {},
   "outputs": [],
   "source": [
    "#|exports\n",
    "def test_button_behaviors_examples():\n",
    "    \"\"\"Test button behavior states.\"\"\"\n",
    "    assert str(btn_behaviors.active) == \"btn-active\"\n",
    "    assert str(btn_behaviors.disabled) == \"btn-disabled\"\n",
    "\n",
    "# Run the tests\n",
    "test_button_behaviors_examples()"
   ]
  },
  {
   "cell_type": "code",
   "execution_count": null,
   "id": "ea4bcf3f-a5e6-44d5-a834-aa2405cd3ee5",
   "metadata": {},
   "outputs": [
    {
     "data": {
      "text/markdown": [
       "```html\n",
       "<div>\n",
       "<button class=\"btn\">Default</button><button class=\"btn btn-wide\">Wide</button><button class=\"btn btn-block\">block</button><a href=\"#\" role=\"button\" class=\"btn\">Link</a><button type=\"submit\" class=\"btn\">Button</button>  <input type=\"button\" value=\"Input\" class=\"btn\">\n",
       "  <input type=\"submit\" value=\"Submit\" class=\"btn\">\n",
       "  <input type=\"radio\" aria-label=\"Radio\" class=\"btn\">\n",
       "  <input type=\"checkbox\" aria-label=\"Checkbox\" class=\"btn\">\n",
       "  <input type=\"reset\" value=\"Reset\" class=\"btn\">\n",
       "</div>\n",
       "\n",
       "```"
      ],
      "text/plain": [
       "div((button(('Default',),{'class': 'btn'}), button(('Wide',),{'class': 'btn btn-wide'}), button(('block',),{'class': 'btn btn-block'}), a(('Link',),{'href': '#', 'role': 'button', 'class': 'btn'}), button(('Button',),{'type': 'submit', 'class': 'btn'}), input((),{'type': 'button', 'value': 'Input', 'class': 'btn'}), input((),{'type': 'submit', 'value': 'Submit', 'class': 'btn'}), input((),{'type': 'radio', 'aria-label': 'Radio', 'class': 'btn'}), input((),{'type': 'checkbox', 'aria-label': 'Checkbox', 'class': 'btn'}), input((),{'type': 'reset', 'value': 'Reset', 'class': 'btn'})),{})"
      ]
     },
     "execution_count": null,
     "metadata": {},
     "output_type": "execute_result"
    }
   ],
   "source": [
    "#|exports\n",
    "def test_button_basic_fasthtml_examples():\n",
    "    \"\"\"Test basic button examples from daisyUI v5 documentation.\"\"\"\n",
    "    from fasthtml.common import Button, A, Input, Div\n",
    "    \n",
    "    # Basic button\n",
    "    basic_btn = Button(\"Default\", cls=str(btn))\n",
    "    assert basic_btn.attrs['class'] == \"btn\"\n",
    "    \n",
    "    # Button wide\n",
    "    wide_btn = Button(\"Wide\", cls=combine_classes(btn, btn_modifiers.wide))\n",
    "    assert \"btn\" in wide_btn.attrs['class']\n",
    "    assert \"btn-wide\" in wide_btn.attrs['class']\n",
    "    \n",
    "    # Button block\n",
    "    block_btn = Button(\"block\", cls=combine_classes(btn, btn_modifiers.block))\n",
    "    assert \"btn\" in block_btn.attrs['class']\n",
    "    assert \"btn-block\" in block_btn.attrs['class']\n",
    "    \n",
    "    # Buttons with any HTML tags\n",
    "    link_btn = A(\"Link\", role=\"button\", cls=str(btn))\n",
    "    assert link_btn.attrs['class'] == \"btn\"\n",
    "    assert link_btn.attrs['role'] == \"button\"\n",
    "    \n",
    "    submit_btn = Button(\"Button\", type=\"submit\", cls=str(btn))\n",
    "    assert submit_btn.attrs['type'] == \"submit\"\n",
    "    \n",
    "    input_btn = Input(type=\"button\", value=\"Input\", cls=str(btn))\n",
    "    assert input_btn.attrs['type'] == \"button\"\n",
    "    assert input_btn.attrs['value'] == \"Input\"\n",
    "    \n",
    "    input_submit = Input(type=\"submit\", value=\"Submit\", cls=str(btn))\n",
    "    assert input_submit.attrs['type'] == \"submit\"\n",
    "    \n",
    "    input_radio = Input(type=\"radio\", aria_label=\"Radio\", cls=str(btn))\n",
    "    assert input_radio.attrs['type'] == \"radio\"\n",
    "    assert input_radio.attrs['aria-label'] == \"Radio\"\n",
    "    \n",
    "    input_checkbox = Input(type=\"checkbox\", aria_label=\"Checkbox\", cls=str(btn))\n",
    "    assert input_checkbox.attrs['type'] == \"checkbox\"\n",
    "    \n",
    "    input_reset = Input(type=\"reset\", value=\"Reset\", cls=str(btn))\n",
    "    assert input_reset.attrs['type'] == \"reset\"\n",
    "    \n",
    "    # Return all elements in a Div\n",
    "    return Div(\n",
    "        basic_btn,\n",
    "        wide_btn,\n",
    "        block_btn,\n",
    "        link_btn,\n",
    "        submit_btn,\n",
    "        input_btn,\n",
    "        input_submit,\n",
    "        input_radio,\n",
    "        input_checkbox,\n",
    "        input_reset\n",
    "    )\n",
    "\n",
    "# Run the tests\n",
    "test_button_basic_fasthtml_examples()"
   ]
  },
  {
   "cell_type": "code",
   "execution_count": null,
   "id": "3b7b3afe-dadf-460c-8ce1-e0144828f083",
   "metadata": {},
   "outputs": [
    {
     "data": {
      "text/html": [
       "\n",
       "<script>\n",
       "document.body.addEventListener('htmx:configRequest', (event) => {\n",
       "    if(event.detail.path.includes('://')) return;\n",
       "    htmx.config.selfRequestsOnly=false;\n",
       "    event.detail.path = `${location.protocol}//${location.hostname}:8000${event.detail.path}`;\n",
       "});\n",
       "</script>"
      ],
      "text/plain": [
       "<IPython.core.display.HTML object>"
      ]
     },
     "metadata": {},
     "output_type": "display_data"
    },
    {
     "data": {
      "text/html": [
       "<iframe src=\"http://localhost:8000/\" style=\"width: 100%; height: auto; border: none;\" onload=\"{\n",
       "        let frame = this;\n",
       "        window.addEventListener('message', function(e) {\n",
       "            if (e.source !== frame.contentWindow) return; // Only proceed if the message is from this iframe\n",
       "            if (e.data.height) frame.style.height = (e.data.height+1) + 'px';\n",
       "        }, false);\n",
       "    }\" allow=\"accelerometer; autoplay; camera; clipboard-read; clipboard-write; display-capture; encrypted-media; fullscreen; gamepad; geolocation; gyroscope; hid; identity-credentials-get; idle-detection; magnetometer; microphone; midi; payment; picture-in-picture; publickey-credentials-get; screen-wake-lock; serial; usb; web-share; xr-spatial-tracking\"></iframe> "
      ],
      "text/plain": [
       "<IPython.core.display.HTML object>"
      ]
     },
     "metadata": {},
     "output_type": "display_data"
    }
   ],
   "source": [
    "#| eval: false\n",
    "#| output: false\n",
    "test_func = test_button_basic_fasthtml_examples\n",
    "app, rt = create_test_app(theme=DaisyUITheme.LIGHT)\n",
    "\n",
    "@rt\n",
    "def index():\n",
    "    return create_test_page(test_func.__doc__.title().replace('.', ''), test_func())\n",
    "server = start_test_server(app)\n",
    "display(HTMX())\n",
    "server.stop()"
   ]
  },
  {
   "cell_type": "code",
   "execution_count": null,
   "id": "8ymghjdvx8p",
   "metadata": {},
   "outputs": [
    {
     "data": {
      "text/markdown": [
       "```html\n",
       "<div>\n",
       "<button class=\"btn btn-xs\">Xsmall</button><button class=\"btn btn-sm\">Small</button><button class=\"btn\">Medium</button><button class=\"btn btn-lg\">Large</button><button class=\"btn btn-xl\">Xlarge</button><button class=\"btn btn-xs sm:btn-sm md:btn-md lg:btn-lg xl:btn-xl\">Responsive</button></div>\n",
       "\n",
       "```"
      ],
      "text/plain": [
       "div((button(('Xsmall',),{'class': 'btn btn-xs'}), button(('Small',),{'class': 'btn btn-sm'}), button(('Medium',),{'class': 'btn'}), button(('Large',),{'class': 'btn btn-lg'}), button(('Xlarge',),{'class': 'btn btn-xl'}), button(('Responsive',),{'class': 'btn btn-xs sm:btn-sm md:btn-md lg:btn-lg xl:btn-xl'})),{})"
      ]
     },
     "execution_count": null,
     "metadata": {},
     "output_type": "execute_result"
    }
   ],
   "source": [
    "#|exports\n",
    "def test_button_sizes_fasthtml_examples():\n",
    "    \"\"\"Test button size variations and responsive buttons.\"\"\"\n",
    "    from fasthtml.common import Button, Div\n",
    "    \n",
    "    # Button sizes\n",
    "    xs_btn = Button(\"Xsmall\", cls=combine_classes(btn, btn_sizes.xs))\n",
    "    assert \"btn-xs\" in xs_btn.attrs['class']\n",
    "    \n",
    "    sm_btn = Button(\"Small\", cls=combine_classes(btn, btn_sizes.sm))\n",
    "    assert \"btn-sm\" in sm_btn.attrs['class']\n",
    "    \n",
    "    md_btn = Button(\"Medium\", cls=str(btn))\n",
    "    assert md_btn.attrs['class'] == \"btn\"\n",
    "    \n",
    "    lg_btn = Button(\"Large\", cls=combine_classes(btn, btn_sizes.lg))\n",
    "    assert \"btn-lg\" in lg_btn.attrs['class']\n",
    "    \n",
    "    xl_btn = Button(\"Xlarge\", cls=combine_classes(btn, btn_sizes.xl))\n",
    "    assert \"btn-xl\" in xl_btn.attrs['class']\n",
    "    \n",
    "    # Responsive button\n",
    "    responsive_btn = Button(\n",
    "        \"Responsive\",\n",
    "        cls=combine_classes(\n",
    "            btn,\n",
    "            btn_sizes.xs,\n",
    "            btn_sizes.sm.sm,\n",
    "            btn_sizes.md.md,\n",
    "            btn_sizes.lg.lg,\n",
    "            btn_sizes.xl.xl\n",
    "        )\n",
    "    )\n",
    "    assert \"btn\" in responsive_btn.attrs['class']\n",
    "    assert \"btn-xs\" in responsive_btn.attrs['class']\n",
    "    assert \"sm:btn-sm\" in responsive_btn.attrs['class']\n",
    "    assert \"md:btn-md\" in responsive_btn.attrs['class']\n",
    "    assert \"lg:btn-lg\" in responsive_btn.attrs['class']\n",
    "    assert \"xl:btn-xl\" in responsive_btn.attrs['class']\n",
    "    \n",
    "    # Return all elements in a Div\n",
    "    return Div(\n",
    "        xs_btn,\n",
    "        sm_btn,\n",
    "        md_btn,\n",
    "        lg_btn,\n",
    "        xl_btn,\n",
    "        responsive_btn\n",
    "    )\n",
    "\n",
    "# Run the tests\n",
    "test_button_sizes_fasthtml_examples()"
   ]
  },
  {
   "cell_type": "code",
   "execution_count": null,
   "id": "94dae856-810a-44a6-8610-3fab40bb1b8a",
   "metadata": {},
   "outputs": [
    {
     "data": {
      "text/html": [
       "\n",
       "<script>\n",
       "document.body.addEventListener('htmx:configRequest', (event) => {\n",
       "    if(event.detail.path.includes('://')) return;\n",
       "    htmx.config.selfRequestsOnly=false;\n",
       "    event.detail.path = `${location.protocol}//${location.hostname}:8000${event.detail.path}`;\n",
       "});\n",
       "</script>"
      ],
      "text/plain": [
       "<IPython.core.display.HTML object>"
      ]
     },
     "metadata": {},
     "output_type": "display_data"
    },
    {
     "data": {
      "text/html": [
       "<iframe src=\"http://localhost:8000/\" style=\"width: 100%; height: auto; border: none;\" onload=\"{\n",
       "        let frame = this;\n",
       "        window.addEventListener('message', function(e) {\n",
       "            if (e.source !== frame.contentWindow) return; // Only proceed if the message is from this iframe\n",
       "            if (e.data.height) frame.style.height = (e.data.height+1) + 'px';\n",
       "        }, false);\n",
       "    }\" allow=\"accelerometer; autoplay; camera; clipboard-read; clipboard-write; display-capture; encrypted-media; fullscreen; gamepad; geolocation; gyroscope; hid; identity-credentials-get; idle-detection; magnetometer; microphone; midi; payment; picture-in-picture; publickey-credentials-get; screen-wake-lock; serial; usb; web-share; xr-spatial-tracking\"></iframe> "
      ],
      "text/plain": [
       "<IPython.core.display.HTML object>"
      ]
     },
     "metadata": {},
     "output_type": "display_data"
    }
   ],
   "source": [
    "#| eval: false\n",
    "#| output: false\n",
    "test_func = test_button_sizes_fasthtml_examples\n",
    "app, rt = create_test_app(theme=DaisyUITheme.LIGHT)\n",
    "\n",
    "@rt\n",
    "def index():\n",
    "    return create_test_page(test_func.__doc__.title().replace('.', ''), test_func())\n",
    "server = start_test_server(app)\n",
    "display(HTMX())\n",
    "server.stop()"
   ]
  },
  {
   "cell_type": "code",
   "execution_count": null,
   "id": "v5tylsuzbt",
   "metadata": {},
   "outputs": [
    {
     "data": {
      "text/markdown": [
       "```html\n",
       "<div>\n",
       "<button class=\"btn btn-neutral\">Neutral</button><button class=\"btn btn-primary\">Primary</button><button class=\"btn btn-secondary\">Secondary</button><button class=\"btn btn-accent\">Accent</button><button class=\"btn btn-info\">Info</button><button class=\"btn btn-success\">Success</button><button class=\"btn btn-warning\">Warning</button><button class=\"btn btn-error\">Error</button><button class=\"btn btn-soft\">Default</button><button class=\"btn btn-soft btn-primary\">Primary</button><button class=\"btn btn-outline\">Default</button><button class=\"btn btn-outline btn-primary\">Primary</button><button class=\"btn btn-dash\">Default</button><button class=\"btn btn-dash btn-primary\">Primary</button>  <div class=\"bg-white p-6\">\n",
       "<button class=\"btn btn-neutral btn-outline\">Outline</button><button class=\"btn btn-neutral btn-dash\">Dash</button>  </div>\n",
       "</div>\n",
       "\n",
       "```"
      ],
      "text/plain": [
       "div((button(('Neutral',),{'class': 'btn btn-neutral'}), button(('Primary',),{'class': 'btn btn-primary'}), button(('Secondary',),{'class': 'btn btn-secondary'}), button(('Accent',),{'class': 'btn btn-accent'}), button(('Info',),{'class': 'btn btn-info'}), button(('Success',),{'class': 'btn btn-success'}), button(('Warning',),{'class': 'btn btn-warning'}), button(('Error',),{'class': 'btn btn-error'}), button(('Default',),{'class': 'btn btn-soft'}), button(('Primary',),{'class': 'btn btn-soft btn-primary'}), button(('Default',),{'class': 'btn btn-outline'}), button(('Primary',),{'class': 'btn btn-outline btn-primary'}), button(('Default',),{'class': 'btn btn-dash'}), button(('Primary',),{'class': 'btn btn-dash btn-primary'}), div((button(('Outline',),{'class': 'btn btn-neutral btn-outline'}), button(('Dash',),{'class': 'btn btn-neutral btn-dash'})),{'class': 'bg-white p-6'})),{})"
      ]
     },
     "execution_count": null,
     "metadata": {},
     "output_type": "execute_result"
    }
   ],
   "source": [
    "#|exports\n",
    "def test_button_colors_variants_fasthtml_examples():\n",
    "    \"\"\"Test button color variants including soft, outline, and dash styles.\"\"\"\n",
    "    from fasthtml.common import Button, Div\n",
    "    from cjm_fasthtml_tailwind.utilities.backgrounds import bg\n",
    "    from cjm_fasthtml_tailwind.utilities.spacing import p\n",
    "    \n",
    "    # Button colors\n",
    "    neutral_btn = Button(\"Neutral\", cls=combine_classes(btn, btn_colors.neutral))\n",
    "    assert \"btn-neutral\" in neutral_btn.attrs['class']\n",
    "    \n",
    "    primary_btn = Button(\"Primary\", cls=combine_classes(btn, btn_colors.primary))\n",
    "    assert \"btn-primary\" in primary_btn.attrs['class']\n",
    "    \n",
    "    secondary_btn = Button(\"Secondary\", cls=combine_classes(btn, btn_colors.secondary))\n",
    "    assert \"btn-secondary\" in secondary_btn.attrs['class']\n",
    "    \n",
    "    accent_btn = Button(\"Accent\", cls=combine_classes(btn, btn_colors.accent))\n",
    "    assert \"btn-accent\" in accent_btn.attrs['class']\n",
    "    \n",
    "    info_btn = Button(\"Info\", cls=combine_classes(btn, btn_colors.info))\n",
    "    assert \"btn-info\" in info_btn.attrs['class']\n",
    "    \n",
    "    success_btn = Button(\"Success\", cls=combine_classes(btn, btn_colors.success))\n",
    "    assert \"btn-success\" in success_btn.attrs['class']\n",
    "    \n",
    "    warning_btn = Button(\"Warning\", cls=combine_classes(btn, btn_colors.warning))\n",
    "    assert \"btn-warning\" in warning_btn.attrs['class']\n",
    "    \n",
    "    error_btn = Button(\"Error\", cls=combine_classes(btn, btn_colors.error))\n",
    "    assert \"btn-error\" in error_btn.attrs['class']\n",
    "    \n",
    "    # Soft buttons\n",
    "    soft_default = Button(\"Default\", cls=combine_classes(btn, btn_styles.soft))\n",
    "    assert \"btn-soft\" in soft_default.attrs['class']\n",
    "    \n",
    "    soft_primary = Button(\"Primary\", cls=combine_classes(btn, btn_styles.soft, btn_colors.primary))\n",
    "    assert \"btn-soft\" in soft_primary.attrs['class']\n",
    "    assert \"btn-primary\" in soft_primary.attrs['class']\n",
    "    \n",
    "    # Outline buttons\n",
    "    outline_default = Button(\"Default\", cls=combine_classes(btn, btn_styles.outline))\n",
    "    assert \"btn-outline\" in outline_default.attrs['class']\n",
    "    \n",
    "    outline_primary = Button(\"Primary\", cls=combine_classes(btn, btn_styles.outline, btn_colors.primary))\n",
    "    assert \"btn-outline\" in outline_primary.attrs['class']\n",
    "    assert \"btn-primary\" in outline_primary.attrs['class']\n",
    "    \n",
    "    # Dash buttons\n",
    "    dash_default = Button(\"Default\", cls=combine_classes(btn, btn_styles.dash))\n",
    "    assert \"btn-dash\" in dash_default.attrs['class']\n",
    "    \n",
    "    dash_primary = Button(\"Primary\", cls=combine_classes(btn, btn_styles.dash, btn_colors.primary))\n",
    "    assert \"btn-dash\" in dash_primary.attrs['class']\n",
    "    assert \"btn-primary\" in dash_primary.attrs['class']\n",
    "    \n",
    "    # Neutral button with outline or dash style on white background\n",
    "    white_bg_container = Div(\n",
    "        Button(\"Outline\", cls=combine_classes(btn, btn_colors.neutral, btn_styles.outline)),\n",
    "        Button(\"Dash\", cls=combine_classes(btn, btn_colors.neutral, btn_styles.dash)),\n",
    "        cls=combine_classes(bg.white, p._6)\n",
    "    )\n",
    "    assert \"bg-white\" in white_bg_container.attrs['class']\n",
    "    assert \"p-6\" in white_bg_container.attrs['class']\n",
    "    \n",
    "    # Return all elements in a Div\n",
    "    return Div(\n",
    "        neutral_btn,\n",
    "        primary_btn,\n",
    "        secondary_btn,\n",
    "        accent_btn,\n",
    "        info_btn,\n",
    "        success_btn,\n",
    "        warning_btn,\n",
    "        error_btn,\n",
    "        soft_default,\n",
    "        soft_primary,\n",
    "        outline_default,\n",
    "        outline_primary,\n",
    "        dash_default,\n",
    "        dash_primary,\n",
    "        white_bg_container\n",
    "    )\n",
    "\n",
    "# Run the tests\n",
    "test_button_colors_variants_fasthtml_examples()"
   ]
  },
  {
   "cell_type": "code",
   "execution_count": null,
   "id": "aba55112-ffe0-464e-a077-cd7c6d433c75",
   "metadata": {},
   "outputs": [
    {
     "data": {
      "text/html": [
       "\n",
       "<script>\n",
       "document.body.addEventListener('htmx:configRequest', (event) => {\n",
       "    if(event.detail.path.includes('://')) return;\n",
       "    htmx.config.selfRequestsOnly=false;\n",
       "    event.detail.path = `${location.protocol}//${location.hostname}:8000${event.detail.path}`;\n",
       "});\n",
       "</script>"
      ],
      "text/plain": [
       "<IPython.core.display.HTML object>"
      ]
     },
     "metadata": {},
     "output_type": "display_data"
    },
    {
     "data": {
      "text/html": [
       "<iframe src=\"http://localhost:8000/\" style=\"width: 100%; height: auto; border: none;\" onload=\"{\n",
       "        let frame = this;\n",
       "        window.addEventListener('message', function(e) {\n",
       "            if (e.source !== frame.contentWindow) return; // Only proceed if the message is from this iframe\n",
       "            if (e.data.height) frame.style.height = (e.data.height+1) + 'px';\n",
       "        }, false);\n",
       "    }\" allow=\"accelerometer; autoplay; camera; clipboard-read; clipboard-write; display-capture; encrypted-media; fullscreen; gamepad; geolocation; gyroscope; hid; identity-credentials-get; idle-detection; magnetometer; microphone; midi; payment; picture-in-picture; publickey-credentials-get; screen-wake-lock; serial; usb; web-share; xr-spatial-tracking\"></iframe> "
      ],
      "text/plain": [
       "<IPython.core.display.HTML object>"
      ]
     },
     "metadata": {},
     "output_type": "display_data"
    }
   ],
   "source": [
    "#| eval: false\n",
    "#| output: false\n",
    "test_func = test_button_colors_variants_fasthtml_examples\n",
    "app, rt = create_test_app(theme=DaisyUITheme.LIGHT)\n",
    "\n",
    "@rt\n",
    "def index():\n",
    "    return create_test_page(test_func.__doc__.title().replace('.', ''), test_func())\n",
    "server = start_test_server(app)\n",
    "display(HTMX())\n",
    "server.stop()"
   ]
  },
  {
   "cell_type": "code",
   "execution_count": null,
   "id": "m11ydh6z587",
   "metadata": {},
   "outputs": [
    {
     "data": {
      "text/markdown": [
       "```html\n",
       "<div>\n",
       "<button class=\"btn btn-active\">Default</button><button class=\"btn btn-active btn-primary\">Primary</button><button class=\"btn btn-ghost\">Ghost</button><button class=\"btn btn-link\">Link</button><button disabled=\"disabled\" class=\"btn\">Disabled using attribute</button><button tabindex=\"-1\" role=\"button\" aria-disabled=\"true\" class=\"btn btn-disabled\">Disabled using class name</button></div>\n",
       "\n",
       "```"
      ],
      "text/plain": [
       "div((button(('Default',),{'class': 'btn btn-active'}), button(('Primary',),{'class': 'btn btn-active btn-primary'}), button(('Ghost',),{'class': 'btn btn-ghost'}), button(('Link',),{'class': 'btn btn-link'}), button(('Disabled using attribute',),{'disabled': 'disabled', 'class': 'btn'}), button(('Disabled using class name',),{'tabindex': '-1', 'role': 'button', 'aria-disabled': 'true', 'class': 'btn btn-disabled'})),{})"
      ]
     },
     "execution_count": null,
     "metadata": {},
     "output_type": "execute_result"
    }
   ],
   "source": [
    "#|exports\n",
    "def test_button_states_fasthtml_examples():\n",
    "    \"\"\"Test button states including active, disabled, ghost, and link.\"\"\"\n",
    "    from fasthtml.common import Button, Div\n",
    "    \n",
    "    # Active buttons\n",
    "    active_default = Button(\"Default\", cls=combine_classes(btn, btn_behaviors.active))\n",
    "    assert \"btn-active\" in active_default.attrs['class']\n",
    "    \n",
    "    active_primary = Button(\"Primary\", cls=combine_classes(btn, btn_behaviors.active, btn_colors.primary))\n",
    "    assert \"btn-active\" in active_primary.attrs['class']\n",
    "    assert \"btn-primary\" in active_primary.attrs['class']\n",
    "    \n",
    "    # Ghost and link buttons\n",
    "    ghost_btn = Button(\"Ghost\", cls=combine_classes(btn, btn_styles.ghost))\n",
    "    assert \"btn-ghost\" in ghost_btn.attrs['class']\n",
    "    \n",
    "    link_btn = Button(\"Link\", cls=combine_classes(btn, btn_styles.link))\n",
    "    assert \"btn-link\" in link_btn.attrs['class']\n",
    "    \n",
    "    # Disabled buttons\n",
    "    disabled_attr = Button(\"Disabled using attribute\", cls=str(btn), disabled=\"disabled\")\n",
    "    assert disabled_attr.attrs['disabled'] == \"disabled\"\n",
    "    \n",
    "    disabled_class = Button(\n",
    "        \"Disabled using class name\",\n",
    "        cls=combine_classes(btn, btn_behaviors.disabled),\n",
    "        tabindex=\"-1\",\n",
    "        role=\"button\",\n",
    "        aria_disabled=\"true\"\n",
    "    )\n",
    "    assert \"btn-disabled\" in disabled_class.attrs['class']\n",
    "    assert disabled_class.attrs['tabindex'] == \"-1\"\n",
    "    assert disabled_class.attrs['aria-disabled'] == \"true\"\n",
    "    \n",
    "    # Return all elements in a Div\n",
    "    return Div(\n",
    "        active_default,\n",
    "        active_primary,\n",
    "        ghost_btn,\n",
    "        link_btn,\n",
    "        disabled_attr,\n",
    "        disabled_class\n",
    "    )\n",
    "\n",
    "# Run the tests\n",
    "test_button_states_fasthtml_examples()"
   ]
  },
  {
   "cell_type": "code",
   "execution_count": null,
   "id": "799a3190-2d2a-409b-b046-cc1f6886d5cf",
   "metadata": {},
   "outputs": [
    {
     "data": {
      "text/html": [
       "\n",
       "<script>\n",
       "document.body.addEventListener('htmx:configRequest', (event) => {\n",
       "    if(event.detail.path.includes('://')) return;\n",
       "    htmx.config.selfRequestsOnly=false;\n",
       "    event.detail.path = `${location.protocol}//${location.hostname}:8000${event.detail.path}`;\n",
       "});\n",
       "</script>"
      ],
      "text/plain": [
       "<IPython.core.display.HTML object>"
      ]
     },
     "metadata": {},
     "output_type": "display_data"
    },
    {
     "data": {
      "text/html": [
       "<iframe src=\"http://localhost:8000/\" style=\"width: 100%; height: auto; border: none;\" onload=\"{\n",
       "        let frame = this;\n",
       "        window.addEventListener('message', function(e) {\n",
       "            if (e.source !== frame.contentWindow) return; // Only proceed if the message is from this iframe\n",
       "            if (e.data.height) frame.style.height = (e.data.height+1) + 'px';\n",
       "        }, false);\n",
       "    }\" allow=\"accelerometer; autoplay; camera; clipboard-read; clipboard-write; display-capture; encrypted-media; fullscreen; gamepad; geolocation; gyroscope; hid; identity-credentials-get; idle-detection; magnetometer; microphone; midi; payment; picture-in-picture; publickey-credentials-get; screen-wake-lock; serial; usb; web-share; xr-spatial-tracking\"></iframe> "
      ],
      "text/plain": [
       "<IPython.core.display.HTML object>"
      ]
     },
     "metadata": {},
     "output_type": "display_data"
    }
   ],
   "source": [
    "#| eval: false\n",
    "#| output: false\n",
    "test_func = test_button_states_fasthtml_examples\n",
    "app, rt = create_test_app(theme=DaisyUITheme.LIGHT)\n",
    "\n",
    "@rt\n",
    "def index():\n",
    "    return create_test_page(test_func.__doc__.title().replace('.', ''), test_func())\n",
    "server = start_test_server(app)\n",
    "display(HTMX())\n",
    "server.stop()"
   ]
  },
  {
   "cell_type": "code",
   "execution_count": null,
   "id": "o5ob2ojagd",
   "metadata": {},
   "outputs": [
    {
     "data": {
      "text/markdown": [
       "```html\n",
       "<div>\n",
       "<button class=\"btn btn-square\"><svg xmlns=\"http://www.w3.org/2000/svg\" viewbox=\"0 0 24 24\" fill=\"none\" stroke-width=\"2.5\" stroke=\"currentColor\" class=\"size-[1.2em]\"><path d=\"M21 8.25c0-2.485-2.099-4.5-4.688-4.5-1.935 0-3.597 1.126-4.312 2.733-.715-1.607-2.377-2.733-4.313-2.733C5.1 3.75 3 5.765 3 8.25c0 7.22 9 12 9 12s9-4.78 9-12Z\" stroke-linecap=\"round\" stroke-linejoin=\"round\"></path></svg></button><button class=\"btn btn-circle\"><svg xmlns=\"http://www.w3.org/2000/svg\" viewbox=\"0 0 24 24\" fill=\"none\" stroke-width=\"2.5\" stroke=\"currentColor\" class=\"size-[1.2em]\"><path d=\"M21 8.25c0-2.485-2.099-4.5-4.688-4.5-1.935 0-3.597 1.126-4.312 2.733-.715-1.607-2.377-2.733-4.313-2.733C5.1 3.75 3 5.765 3 8.25c0 7.22 9 12 9 12s9-4.78 9-12Z\" stroke-linecap=\"round\" stroke-linejoin=\"round\"></path></svg></button></div>\n",
       "\n",
       "```"
      ],
      "text/plain": [
       "div((button((svg((path((),{'d': 'M21 8.25c0-2.485-2.099-4.5-4.688-4.5-1.935 0-3.597 1.126-4.312 2.733-.715-1.607-2.377-2.733-4.313-2.733C5.1 3.75 3 5.765 3 8.25c0 7.22 9 12 9 12s9-4.78 9-12Z', 'stroke-linecap': 'round', 'stroke-linejoin': 'round'}),),{'xmlns': 'http://www.w3.org/2000/svg', 'viewbox': '0 0 24 24', 'fill': 'none', 'stroke-width': '2.5', 'stroke': 'currentColor', 'class': 'size-[1.2em]'}),),{'class': 'btn btn-square'}), button((svg((path((),{'d': 'M21 8.25c0-2.485-2.099-4.5-4.688-4.5-1.935 0-3.597 1.126-4.312 2.733-.715-1.607-2.377-2.733-4.313-2.733C5.1 3.75 3 5.765 3 8.25c0 7.22 9 12 9 12s9-4.78 9-12Z', 'stroke-linecap': 'round', 'stroke-linejoin': 'round'}),),{'xmlns': 'http://www.w3.org/2000/svg', 'viewbox': '0 0 24 24', 'fill': 'none', 'stroke-width': '2.5', 'stroke': 'currentColor', 'class': 'size-[1.2em]'}),),{'class': 'btn btn-circle'})),{})"
      ]
     },
     "execution_count": null,
     "metadata": {},
     "output_type": "execute_result"
    }
   ],
   "source": [
    "#|exports\n",
    "def test_button_shapes_fasthtml_examples():\n",
    "    \"\"\"Test square and circle button shapes with SVG icons.\"\"\"\n",
    "    from fasthtml.common import Button, Div\n",
    "    from fasthtml.svg import Svg, Path\n",
    "    from cjm_fasthtml_tailwind.utilities.sizing import size_util\n",
    "    \n",
    "    # Create reusable heart icon SVG\n",
    "    heart_icon = Svg(\n",
    "        Path(\n",
    "            stroke_linecap=\"round\",\n",
    "            stroke_linejoin=\"round\",\n",
    "            d=\"M21 8.25c0-2.485-2.099-4.5-4.688-4.5-1.935 0-3.597 1.126-4.312 2.733-.715-1.607-2.377-2.733-4.313-2.733C5.1 3.75 3 5.765 3 8.25c0 7.22 9 12 9 12s9-4.78 9-12Z\"\n",
    "        ),\n",
    "        xmlns=\"http://www.w3.org/2000/svg\",\n",
    "        fill=\"none\",\n",
    "        viewBox=\"0 0 24 24\",\n",
    "        stroke_width=\"2.5\",\n",
    "        stroke=\"currentColor\",\n",
    "        cls=str(size_util(\"1.2em\"))\n",
    "    )\n",
    "    \n",
    "    # Square button\n",
    "    square_btn = Button(\n",
    "        heart_icon,\n",
    "        cls=combine_classes(btn, btn_modifiers.square)\n",
    "    )\n",
    "    assert \"btn-square\" in square_btn.attrs['class']\n",
    "    \n",
    "    # Circle button\n",
    "    circle_btn = Button(\n",
    "        heart_icon,\n",
    "        cls=combine_classes(btn, btn_modifiers.circle)\n",
    "    )\n",
    "    assert \"btn-circle\" in circle_btn.attrs['class']\n",
    "    \n",
    "    # Return all elements in a Div\n",
    "    return Div(\n",
    "        square_btn,\n",
    "        circle_btn\n",
    "    )\n",
    "\n",
    "# Run the tests\n",
    "test_button_shapes_fasthtml_examples()"
   ]
  },
  {
   "cell_type": "code",
   "execution_count": null,
   "id": "0f0af3c3-6056-4506-a1c9-e427e195848a",
   "metadata": {},
   "outputs": [
    {
     "data": {
      "text/html": [
       "\n",
       "<script>\n",
       "document.body.addEventListener('htmx:configRequest', (event) => {\n",
       "    if(event.detail.path.includes('://')) return;\n",
       "    htmx.config.selfRequestsOnly=false;\n",
       "    event.detail.path = `${location.protocol}//${location.hostname}:8000${event.detail.path}`;\n",
       "});\n",
       "</script>"
      ],
      "text/plain": [
       "<IPython.core.display.HTML object>"
      ]
     },
     "metadata": {},
     "output_type": "display_data"
    },
    {
     "data": {
      "text/html": [
       "<iframe src=\"http://localhost:8000/\" style=\"width: 100%; height: auto; border: none;\" onload=\"{\n",
       "        let frame = this;\n",
       "        window.addEventListener('message', function(e) {\n",
       "            if (e.source !== frame.contentWindow) return; // Only proceed if the message is from this iframe\n",
       "            if (e.data.height) frame.style.height = (e.data.height+1) + 'px';\n",
       "        }, false);\n",
       "    }\" allow=\"accelerometer; autoplay; camera; clipboard-read; clipboard-write; display-capture; encrypted-media; fullscreen; gamepad; geolocation; gyroscope; hid; identity-credentials-get; idle-detection; magnetometer; microphone; midi; payment; picture-in-picture; publickey-credentials-get; screen-wake-lock; serial; usb; web-share; xr-spatial-tracking\"></iframe> "
      ],
      "text/plain": [
       "<IPython.core.display.HTML object>"
      ]
     },
     "metadata": {},
     "output_type": "display_data"
    }
   ],
   "source": [
    "#| eval: false\n",
    "#| output: false\n",
    "test_func = test_button_shapes_fasthtml_examples\n",
    "app, rt = create_test_app(theme=DaisyUITheme.LIGHT)\n",
    "\n",
    "@rt\n",
    "def index():\n",
    "    return create_test_page(test_func.__doc__.title().replace('.', ''), test_func())\n",
    "server = start_test_server(app)\n",
    "display(HTMX())\n",
    "server.stop()"
   ]
  },
  {
   "cell_type": "code",
   "execution_count": null,
   "id": "7vw6jott7rm",
   "metadata": {},
   "outputs": [
    {
     "data": {
      "text/markdown": [
       "```html\n",
       "<div>\n",
       "<button class=\"btn\"><svg xmlns=\"http://www.w3.org/2000/svg\" viewbox=\"0 0 24 24\" fill=\"none\" stroke-width=\"2.5\" stroke=\"currentColor\" class=\"size-[1.2em]\"><path d=\"M21 8.25c0-2.485-2.099-4.5-4.688-4.5-1.935 0-3.597 1.126-4.312 2.733-.715-1.607-2.377-2.733-4.313-2.733C5.1 3.75 3 5.765 3 8.25c0 7.22 9 12 9 12s9-4.78 9-12Z\" stroke-linecap=\"round\" stroke-linejoin=\"round\"></path></svg>Like</button><button class=\"btn\">Like<svg xmlns=\"http://www.w3.org/2000/svg\" viewbox=\"0 0 24 24\" fill=\"none\" stroke-width=\"2.5\" stroke=\"currentColor\" class=\"size-[1.2em]\"><path d=\"M21 8.25c0-2.485-2.099-4.5-4.688-4.5-1.935 0-3.597 1.126-4.312 2.733-.715-1.607-2.377-2.733-4.313-2.733C5.1 3.75 3 5.765 3 8.25c0 7.22 9 12 9 12s9-4.78 9-12Z\" stroke-linecap=\"round\" stroke-linejoin=\"round\"></path></svg></button><button class=\"btn btn-square\"><span class=\"loading loading-spinner\"></span></button><button class=\"btn\"><span class=\"loading loading-spinner\"></span>loading</button></div>\n",
       "\n",
       "```"
      ],
      "text/plain": [
       "div((button((svg((path((),{'d': 'M21 8.25c0-2.485-2.099-4.5-4.688-4.5-1.935 0-3.597 1.126-4.312 2.733-.715-1.607-2.377-2.733-4.313-2.733C5.1 3.75 3 5.765 3 8.25c0 7.22 9 12 9 12s9-4.78 9-12Z', 'stroke-linecap': 'round', 'stroke-linejoin': 'round'}),),{'xmlns': 'http://www.w3.org/2000/svg', 'viewbox': '0 0 24 24', 'fill': 'none', 'stroke-width': '2.5', 'stroke': 'currentColor', 'class': 'size-[1.2em]'}), 'Like'),{'class': 'btn'}), button(('Like', svg((path((),{'d': 'M21 8.25c0-2.485-2.099-4.5-4.688-4.5-1.935 0-3.597 1.126-4.312 2.733-.715-1.607-2.377-2.733-4.313-2.733C5.1 3.75 3 5.765 3 8.25c0 7.22 9 12 9 12s9-4.78 9-12Z', 'stroke-linecap': 'round', 'stroke-linejoin': 'round'}),),{'xmlns': 'http://www.w3.org/2000/svg', 'viewbox': '0 0 24 24', 'fill': 'none', 'stroke-width': '2.5', 'stroke': 'currentColor', 'class': 'size-[1.2em]'})),{'class': 'btn'}), button((span((),{'class': 'loading loading-spinner'}),),{'class': 'btn btn-square'}), button((span((),{'class': 'loading loading-spinner'}), <cjm_fasthtml_tailwind.core.base.SingleValueFactory object>),{'class': 'btn'})),{})"
      ]
     },
     "execution_count": null,
     "metadata": {},
     "output_type": "execute_result"
    }
   ],
   "source": [
    "#|exports\n",
    "def test_button_with_content_fasthtml_examples():\n",
    "    \"\"\"Test buttons with icons and loading spinners.\"\"\"\n",
    "    from fasthtml.common import Button, Span, Div\n",
    "    from fasthtml.svg import Svg, Path\n",
    "    from cjm_fasthtml_tailwind.utilities.sizing import size_util\n",
    "    from cjm_fasthtml_daisyui.components.feedback.loading import loading, loading_styles\n",
    "    \n",
    "    # Create reusable heart icon SVG\n",
    "    heart_icon = Svg(\n",
    "        Path(\n",
    "            stroke_linecap=\"round\",\n",
    "            stroke_linejoin=\"round\",\n",
    "            d=\"M21 8.25c0-2.485-2.099-4.5-4.688-4.5-1.935 0-3.597 1.126-4.312 2.733-.715-1.607-2.377-2.733-4.313-2.733C5.1 3.75 3 5.765 3 8.25c0 7.22 9 12 9 12s9-4.78 9-12Z\"\n",
    "        ),\n",
    "        xmlns=\"http://www.w3.org/2000/svg\",\n",
    "        fill=\"none\",\n",
    "        viewBox=\"0 0 24 24\",\n",
    "        stroke_width=\"2.5\",\n",
    "        stroke=\"currentColor\",\n",
    "        cls=str(size_util(\"1.2em\"))\n",
    "    )\n",
    "    \n",
    "    # Button with icon before text\n",
    "    icon_start_btn = Button(\n",
    "        heart_icon,\n",
    "        \"Like\",\n",
    "        cls=str(btn)\n",
    "    )\n",
    "    assert icon_start_btn.attrs['class'] == \"btn\"\n",
    "    assert len(icon_start_btn.children) == 2  # Icon and text\n",
    "    \n",
    "    # Button with icon after text\n",
    "    icon_end_btn = Button(\n",
    "        \"Like\",\n",
    "        heart_icon,\n",
    "        cls=str(btn)\n",
    "    )\n",
    "    assert icon_end_btn.attrs['class'] == \"btn\"\n",
    "    assert len(icon_end_btn.children) == 2  # Text and icon\n",
    "    \n",
    "    # Button with loading spinner (using daisyUI loading classes)\n",
    "    loading_square_btn = Button(\n",
    "        Span(cls=combine_classes(loading, loading_styles.spinner)),\n",
    "        cls=combine_classes(btn, btn_modifiers.square)\n",
    "    )\n",
    "    assert \"btn-square\" in loading_square_btn.attrs['class']\n",
    "    assert \"loading loading-spinner\" in loading_square_btn.children[0].attrs['class']\n",
    "    \n",
    "    loading_text_btn = Button(\n",
    "        Span(cls=combine_classes(loading, loading_styles.spinner)),\n",
    "        loading,\n",
    "        cls=str(btn)\n",
    "    )\n",
    "    assert loading_text_btn.attrs['class'] == \"btn\"\n",
    "    assert len(loading_text_btn.children) == 2  # Spinner and text\n",
    "    \n",
    "    # Return all elements in a Div\n",
    "    return Div(\n",
    "        icon_start_btn,\n",
    "        icon_end_btn,\n",
    "        loading_square_btn,\n",
    "        loading_text_btn\n",
    "    )\n",
    "\n",
    "# Run the tests\n",
    "test_button_with_content_fasthtml_examples()"
   ]
  },
  {
   "cell_type": "code",
   "execution_count": null,
   "id": "6843a1b3-b15b-4c16-a042-4f71a7de27d9",
   "metadata": {},
   "outputs": [
    {
     "data": {
      "text/html": [
       "\n",
       "<script>\n",
       "document.body.addEventListener('htmx:configRequest', (event) => {\n",
       "    if(event.detail.path.includes('://')) return;\n",
       "    htmx.config.selfRequestsOnly=false;\n",
       "    event.detail.path = `${location.protocol}//${location.hostname}:8000${event.detail.path}`;\n",
       "});\n",
       "</script>"
      ],
      "text/plain": [
       "<IPython.core.display.HTML object>"
      ]
     },
     "metadata": {},
     "output_type": "display_data"
    },
    {
     "data": {
      "text/html": [
       "<iframe src=\"http://localhost:8000/\" style=\"width: 100%; height: auto; border: none;\" onload=\"{\n",
       "        let frame = this;\n",
       "        window.addEventListener('message', function(e) {\n",
       "            if (e.source !== frame.contentWindow) return; // Only proceed if the message is from this iframe\n",
       "            if (e.data.height) frame.style.height = (e.data.height+1) + 'px';\n",
       "        }, false);\n",
       "    }\" allow=\"accelerometer; autoplay; camera; clipboard-read; clipboard-write; display-capture; encrypted-media; fullscreen; gamepad; geolocation; gyroscope; hid; identity-credentials-get; idle-detection; magnetometer; microphone; midi; payment; picture-in-picture; publickey-credentials-get; screen-wake-lock; serial; usb; web-share; xr-spatial-tracking\"></iframe> "
      ],
      "text/plain": [
       "<IPython.core.display.HTML object>"
      ]
     },
     "metadata": {},
     "output_type": "display_data"
    }
   ],
   "source": [
    "#| eval: false\n",
    "#| output: false\n",
    "test_func = test_button_with_content_fasthtml_examples\n",
    "app, rt = create_test_app(theme=DaisyUITheme.LIGHT)\n",
    "\n",
    "@rt\n",
    "def index():\n",
    "    return create_test_page(test_func.__doc__.title().replace('.', ''), test_func())\n",
    "server = start_test_server(app)\n",
    "display(HTMX())\n",
    "server.stop()"
   ]
  },
  {
   "cell_type": "code",
   "execution_count": null,
   "id": "c0000ef3-cec6-474f-8d2a-3b6dd9629f9e",
   "metadata": {},
   "outputs": [],
   "source": []
  },
  {
   "cell_type": "code",
   "execution_count": null,
   "id": "a073bf04-e344-43ea-a4bb-3ee8fc160452",
   "metadata": {},
   "outputs": [],
   "source": []
  },
  {
   "cell_type": "code",
   "execution_count": null,
   "id": "56609e45-e788-4b22-86e7-1fa40f33c7a6",
   "metadata": {},
   "outputs": [],
   "source": []
  },
  {
   "cell_type": "code",
   "execution_count": null,
   "id": "7245f68c-907e-4dee-9521-bdc1bc65f9f2",
   "metadata": {},
   "outputs": [],
   "source": []
  },
  {
   "cell_type": "code",
   "execution_count": null,
   "id": "d53cdb68-28af-45cc-9696-a604218202fd",
   "metadata": {},
   "outputs": [],
   "source": []
  },
  {
   "cell_type": "code",
   "execution_count": null,
   "id": "cdb0aeb7-4953-4de0-8143-695528be0900",
   "metadata": {},
   "outputs": [],
   "source": [
    "#| hide\n",
    "import nbdev; nbdev.nbdev_export()"
   ]
  }
 ],
 "metadata": {
  "kernelspec": {
   "display_name": "python3",
   "language": "python",
   "name": "python3"
  }
 },
 "nbformat": 4,
 "nbformat_minor": 5
}
