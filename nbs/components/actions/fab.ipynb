{
 "cells": [
  {
   "cell_type": "markdown",
   "id": "cc58d7a3-089e-451d-99fe-d84974ba1af4",
   "metadata": {},
   "source": [
    "# FAB / Speed Dial\n",
    "\n",
    "> FAB (Floating Action Button) stays in the bottom corner of screen. It includes a focusable and accessible element with button role. Clicking or focusing it shows additional buttons (known as Speed Dial buttons) in a vertical arrangement or a flower shape (quarter circle with up to 4 buttons)."
   ]
  },
  {
   "cell_type": "code",
   "execution_count": null,
   "id": "df874ed5-a879-4670-bfc5-82551e4d7659",
   "metadata": {},
   "outputs": [],
   "source": [
    "#| default_exp components.actions.fab"
   ]
  },
  {
   "cell_type": "code",
   "execution_count": null,
   "id": "ae74aa2e-1ea7-4960-922c-cecd88957d63",
   "metadata": {},
   "outputs": [],
   "source": [
    "#| hide\n",
    "from nbdev.showdoc import *"
   ]
  },
  {
   "cell_type": "code",
   "execution_count": null,
   "id": "a9b1699f-0d13-4fbc-82bd-cf2abd66ca88",
   "metadata": {},
   "outputs": [],
   "source": [
    "#| export\n",
    "from enum import Enum\n",
    "from cjm_fasthtml_tailwind.core.base import (\n",
    "    SingleValueFactory, combine_classes\n",
    ")\n",
    "from cjm_fasthtml_tailwind.builders.scales import SimpleFactory, enums_to_simple_factory\n",
    "\n",
    "from cjm_fasthtml_daisyui.builders.colors import SemanticColorBrand, SemanticColorStatus\n",
    "from cjm_fasthtml_daisyui.builders.sizes import DaisyUINamedSize\n",
    "from cjm_fasthtml_daisyui.builders.styles import OutlineStyle, DashStyle, SoftStyle, GhostStyle\n",
    "\n",
    "from fasthtml.common import Div\n",
    "from fasthtml.jupyter import JupyUvi, HTMX\n",
    "from cjm_fasthtml_daisyui.core.testing import create_test_app, create_test_page, start_test_server\n",
    "from cjm_fasthtml_daisyui.core.themes import DaisyUITheme\n",
    "from IPython.display import display"
   ]
  },
  {
   "cell_type": "markdown",
   "id": "8f95722d-01b7-4b09-a992-39983f0c1fe0",
   "metadata": {},
   "source": [
    "### Base FAB Components\n",
    "\n",
    "The base FAB components:"
   ]
  },
  {
   "cell_type": "code",
   "execution_count": null,
   "id": "719bd58f-47f9-4de9-b28a-fe48dee9a73f",
   "metadata": {},
   "outputs": [],
   "source": [
    "#| exports\n",
    "fab = SingleValueFactory(\"fab\", \"Fab container element. It includes a focusable div and when it gets clicked of focused, it shows more floating buttons \") # Fab container element\n",
    "fab_close = SingleValueFactory(\"fab-close\", \"Optional class for a close button (or a wrapper of a close button) \") # Fab close part\n",
    "fab_main_action = SingleValueFactory(\"fab-main-action\", \"Optional class for the main action button (or a wrapper of the main action button). Either use fab-close or fab-main-action, not both \") # FAB main action part "
   ]
  },
  {
   "cell_type": "markdown",
   "id": "4291150b-cca9-4874-9e17-2eb3fa951295",
   "metadata": {},
   "source": [
    "### FAB Modifiers\n",
    "\n",
    "FAB modifier utilities:"
   ]
  },
  {
   "cell_type": "code",
   "execution_count": null,
   "id": "a1ce7405-431b-42d0-b6e1-93e77eec0040",
   "metadata": {},
   "outputs": [],
   "source": [
    "#| exports\n",
    "fab_modifiers = SimpleFactory(\n",
    "    {\n",
    "        \"flower\": \"fab-flower\",\n",
    "    },\n",
    "    \"FAB modifiers\"\n",
    ") # FAB modifiers"
   ]
  },
  {
   "cell_type": "markdown",
   "id": "d448a99e-696c-406b-a002-b1c04f781873",
   "metadata": {},
   "source": [
    "### FAB Test Examples"
   ]
  },
  {
   "cell_type": "code",
   "execution_count": null,
   "id": "f8c16570-7387-48d2-8a75-f062f4349f30",
   "metadata": {},
   "outputs": [],
   "source": [
    "#| exports\n",
    "def test_fab_basic_examples():\n",
    "    \"\"\"Test basic FAB utilities.\"\"\"\n",
    "    # Basic FAB\n",
    "    assert str(fab) == \"fab\"\n",
    "    \n",
    "    # Test with modifiers\n",
    "    assert str(fab.hover) == \"hover:fab\"\n",
    "    assert str(fab.md) == \"md:fab\"\n",
    "    assert str(fab.dark) == \"dark:fab\"\n",
    "\n",
    "# Run the tests\n",
    "test_fab_basic_examples()"
   ]
  },
  {
   "cell_type": "code",
   "execution_count": null,
   "id": "af2e57aa-599c-484a-b9a2-cd36198dafca",
   "metadata": {},
   "outputs": [],
   "source": [
    "#|exports\n",
    "def test_fab_modifiers_examples():\n",
    "    \"\"\"Test button FAB utilities.\"\"\"\n",
    "    assert str(fab_modifiers.flower) == \"fab-flower\"\n",
    "\n",
    "# Run the tests\n",
    "test_fab_modifiers_examples()"
   ]
  },
  {
   "cell_type": "code",
   "execution_count": null,
   "id": "ea4bcf3f-a5e6-44d5-a834-aa2405cd3ee5",
   "metadata": {},
   "outputs": [
    {
     "data": {
      "text/markdown": [
       "```html\n",
       "<div class=\"min-h-50\">\n",
       "  <div class=\"fab\">\n",
       "    <div tabindex=\"0\" role=\"button\" class=\"btn btn-lg btn-circle btn-primary\">F</div>\n",
       "<button class=\"btn btn-lg btn-circle\">A</button><button class=\"btn btn-lg btn-circle\">B</button><button class=\"btn btn-lg btn-circle\">C</button>  </div>\n",
       "</div>\n",
       "\n",
       "```"
      ],
      "text/plain": [
       "div((div((div(('F',),{'tabindex': '0', 'role': 'button', 'class': 'btn btn-lg btn-circle btn-primary'}), button(('A',),{'class': 'btn btn-lg btn-circle'}), button(('B',),{'class': 'btn btn-lg btn-circle'}), button(('C',),{'class': 'btn btn-lg btn-circle'})),{'class': 'fab'}),),{'class': 'min-h-50'})"
      ]
     },
     "execution_count": null,
     "metadata": {},
     "output_type": "execute_result"
    }
   ],
   "source": [
    "#|exports\n",
    "def test_fab_basic_fasthtml_examples():\n",
    "    \"\"\"Test basic FAB examples from daisyUI v5 documentation.\"\"\"\n",
    "    from fasthtml.common import Button, A, Input, Div\n",
    "    from cjm_fasthtml_daisyui.components.actions.button import btn, btn_sizes, btn_modifiers, btn_colors\n",
    "    from cjm_fasthtml_tailwind.utilities.sizing import min_h\n",
    "\n",
    "    vertical_fab = Div(\n",
    "        Div(\"F\", tabindex=\"0\", role=\"button\", cls=combine_classes(btn, btn_sizes.lg, btn_modifiers.circle, btn_colors.primary)),\n",
    "        Button(\"A\", cls=combine_classes(btn, btn_sizes.lg, btn_modifiers.circle)),\n",
    "        Button(\"B\", cls=combine_classes(btn, btn_sizes.lg, btn_modifiers.circle)),\n",
    "        Button(\"C\", cls=combine_classes(btn, btn_sizes.lg, btn_modifiers.circle)),\n",
    "        cls=combine_classes(fab)\n",
    "    )\n",
    "    assert vertical_fab.attrs['class'] == \"fab\"\n",
    "    \n",
    "    \n",
    "    # Return all elements in a Div\n",
    "    return Div(\n",
    "        vertical_fab,\n",
    "        cls=combine_classes(min_h(50))\n",
    "    )\n",
    "\n",
    "# Run the tests\n",
    "test_fab_basic_fasthtml_examples()"
   ]
  },
  {
   "cell_type": "code",
   "execution_count": null,
   "id": "3b7b3afe-dadf-460c-8ce1-e0144828f083",
   "metadata": {},
   "outputs": [
    {
     "data": {
      "text/html": [
       "\n",
       "<script>\n",
       "document.body.addEventListener('htmx:configRequest', (event) => {\n",
       "    if(event.detail.path.includes('://')) return;\n",
       "    htmx.config.selfRequestsOnly=false;\n",
       "    event.detail.path = `${location.protocol}//${location.hostname}:8000${event.detail.path}`;\n",
       "});\n",
       "</script>"
      ],
      "text/plain": [
       "<IPython.core.display.HTML object>"
      ]
     },
     "metadata": {},
     "output_type": "display_data"
    },
    {
     "data": {
      "text/html": [
       "<iframe src=\"http://localhost:8000/\" style=\"width: 100%; height: auto; border: none;\" onload=\"{\n",
       "        let frame = this;\n",
       "        window.addEventListener('message', function(e) {\n",
       "            if (e.source !== frame.contentWindow) return; // Only proceed if the message is from this iframe\n",
       "            if (e.data.height) frame.style.height = (e.data.height+1) + 'px';\n",
       "        }, false);\n",
       "    }\" allow=\"accelerometer; autoplay; camera; clipboard-read; clipboard-write; display-capture; encrypted-media; fullscreen; gamepad; geolocation; gyroscope; hid; identity-credentials-get; idle-detection; magnetometer; microphone; midi; payment; picture-in-picture; publickey-credentials-get; screen-wake-lock; serial; usb; web-share; xr-spatial-tracking\"></iframe> "
      ],
      "text/plain": [
       "<IPython.core.display.HTML object>"
      ]
     },
     "metadata": {},
     "output_type": "display_data"
    }
   ],
   "source": [
    "#| eval: false\n",
    "#| output: false\n",
    "test_func = test_fab_basic_fasthtml_examples\n",
    "app, rt = create_test_app(theme=DaisyUITheme.LIGHT)\n",
    "\n",
    "@rt\n",
    "def index():\n",
    "    return create_test_page(test_func.__doc__.title().replace('.', ''), test_func())\n",
    "server = start_test_server(app)\n",
    "display(HTMX())\n",
    "server.stop()"
   ]
  },
  {
   "cell_type": "code",
   "execution_count": null,
   "id": "8ymghjdvx8p",
   "metadata": {},
   "outputs": [
    {
     "data": {
      "text/markdown": [
       "```html\n",
       "<div class=\"min-h-50\">\n",
       "  <div class=\"fab\">\n",
       "    <div tabindex=\"0\" role=\"button\" class=\"btn btn-lg btn-circle btn-secondary\">\n",
       "<svg xmlns=\"http://www.w3.org/2000/svg\" viewbox=\"0 0 24 24\" aria-label=\"New\" fill=\"none\" stroke-width=\"2\" stroke=\"currentColor\" class=\"size-6\"><path d=\"M12 4.5v15m7.5-7.5h-15\" stroke-linecap=\"round\" stroke-linejoin=\"round\"></path></svg>    </div>\n",
       "<button class=\"btn btn-lg btn-circle\"><svg xmlns=\"http://www.w3.org/2000/svg\" viewbox=\"0 0 24 24\" aria-label=\"Camera\" fill=\"none\" stroke-width=\"1.5\" stroke=\"currentColor\" class=\"size-6\"><path d=\"M6.827 6.175A2.31 2.31 0 0 1 5.186 7.23c-.38.054-.757.112-1.134.175C2.999 7.58 2.25 8.507 2.25 9.574V18a2.25 2.25 0 0 0 2.25 2.25h15A2.25 2.25 0 0 0 21.75 18V9.574c0-1.067-.75-1.994-1.802-2.169a47.865 47.865 0 0 0-1.134-.175 2.31 2.31 0 0 1-1.64-1.055l-.822-1.316a2.192 2.192 0 0 0-1.736-1.039 48.774 48.774 0 0 0-5.232 0 2.192 2.192 0 0 0-1.736 1.039l-.821 1.316Z\" stroke-linecap=\"round\" stroke-linejoin=\"round\"></path><path d=\"M16.5 12.75a4.5 4.5 0 1 1-9 0 4.5 4.5 0 0 1 9 0ZM18.75 10.5h.008v.008h-.008V10.5Z\" stroke-linecap=\"round\" stroke-linejoin=\"round\"></path></svg></button><button class=\"btn btn-lg btn-circle\"><svg xmlns=\"http://www.w3.org/2000/svg\" viewbox=\"0 0 24 24\" aria-label=\"Gallery\" fill=\"none\" stroke-width=\"1.5\" stroke=\"currentColor\" class=\"size-6\"><path d=\"m2.25 15.75 5.159-5.159a2.25 2.25 0 0 1 3.182 0l5.159 5.159m-1.5-1.5 1.409-1.409a2.25 2.25 0 0 1 3.182 0l2.909 2.909m-18 3.75h16.5a1.5 1.5 0 0 0 1.5-1.5V6a1.5 1.5 0 0 0-1.5-1.5H3.75A1.5 1.5 0 0 0 2.25 6v12a1.5 1.5 0 0 0 1.5 1.5Zm10.5-11.25h.008v.008h-.008V8.25Zm.375 0a.375.375 0 1 1-.75 0 .375.375 0 0 1 .75 0Z\" stroke-linecap=\"round\" stroke-linejoin=\"round\"></path></svg></button><button class=\"btn btn-lg btn-circle\"><svg xmlns=\"http://www.w3.org/2000/svg\" viewbox=\"0 0 24 24\" aria-label=\"Voice\" fill=\"none\" stroke-width=\"1.5\" stroke=\"currentColor\" class=\"size-6\"><path d=\"M12 18.75a6 6 0 0 0 6-6v-1.5m-6 7.5a6 6 0 0 1-6-6v-1.5m6 7.5v3.75m-3.75 0h7.5M12 15.75a3 3 0 0 1-3-3V4.5a3 3 0 1 1 6 0v8.25a3 3 0 0 1-3 3Z\" stroke-linecap=\"round\" stroke-linejoin=\"round\"></path></svg></button>  </div>\n",
       "</div>\n",
       "\n",
       "```"
      ],
      "text/plain": [
       "div((div((div((svg((path((),{'d': 'M12 4.5v15m7.5-7.5h-15', 'stroke-linecap': 'round', 'stroke-linejoin': 'round'}),),{'xmlns': 'http://www.w3.org/2000/svg', 'viewbox': '0 0 24 24', 'aria-label': 'New', 'fill': 'none', 'stroke-width': '2', 'stroke': 'currentColor', 'class': 'size-6'}),),{'tabindex': '0', 'role': 'button', 'class': 'btn btn-lg btn-circle btn-secondary'}), button((svg((path((),{'d': 'M6.827 6.175A2.31 2.31 0 0 1 5.186 7.23c-.38.054-.757.112-1.134.175C2.999 7.58 2.25 8.507 2.25 9.574V18a2.25 2.25 0 0 0 2.25 2.25h15A2.25 2.25 0 0 0 21.75 18V9.574c0-1.067-.75-1.994-1.802-2.169a47.865 47.865 0 0 0-1.134-.175 2.31 2.31 0 0 1-1.64-1.055l-.822-1.316a2.192 2.192 0 0 0-1.736-1.039 48.774 48.774 0 0 0-5.232 0 2.192 2.192 0 0 0-1.736 1.039l-.821 1.316Z', 'stroke-linecap': 'round', 'stroke-linejoin': 'round'}), path((),{'d': 'M16.5 12.75a4.5 4.5 0 1 1-9 0 4.5 4.5 0 0 1 9 0ZM18.75 10.5h.008v.008h-.008V10.5Z', 'stroke-linecap': 'round', 'stroke-linejoin': 'round'})),{'xmlns': 'http://www.w3.org/2000/svg', 'viewbox': '0 0 24 24', 'aria-label': 'Camera', 'fill': 'none', 'stroke-width': '1.5', 'stroke': 'currentColor', 'class': 'size-6'}),),{'class': 'btn btn-lg btn-circle'}), button((svg((path((),{'d': 'm2.25 15.75 5.159-5.159a2.25 2.25 0 0 1 3.182 0l5.159 5.159m-1.5-1.5 1.409-1.409a2.25 2.25 0 0 1 3.182 0l2.909 2.909m-18 3.75h16.5a1.5 1.5 0 0 0 1.5-1.5V6a1.5 1.5 0 0 0-1.5-1.5H3.75A1.5 1.5 0 0 0 2.25 6v12a1.5 1.5 0 0 0 1.5 1.5Zm10.5-11.25h.008v.008h-.008V8.25Zm.375 0a.375.375 0 1 1-.75 0 .375.375 0 0 1 .75 0Z', 'stroke-linecap': 'round', 'stroke-linejoin': 'round'}),),{'xmlns': 'http://www.w3.org/2000/svg', 'viewbox': '0 0 24 24', 'aria-label': 'Gallery', 'fill': 'none', 'stroke-width': '1.5', 'stroke': 'currentColor', 'class': 'size-6'}),),{'class': 'btn btn-lg btn-circle'}), button((svg((path((),{'d': 'M12 18.75a6 6 0 0 0 6-6v-1.5m-6 7.5a6 6 0 0 1-6-6v-1.5m6 7.5v3.75m-3.75 0h7.5M12 15.75a3 3 0 0 1-3-3V4.5a3 3 0 1 1 6 0v8.25a3 3 0 0 1-3 3Z', 'stroke-linecap': 'round', 'stroke-linejoin': 'round'}),),{'xmlns': 'http://www.w3.org/2000/svg', 'viewbox': '0 0 24 24', 'aria-label': 'Voice', 'fill': 'none', 'stroke-width': '1.5', 'stroke': 'currentColor', 'class': 'size-6'}),),{'class': 'btn btn-lg btn-circle'})),{'class': 'fab'}),),{'class': 'min-h-50'})"
      ]
     },
     "execution_count": null,
     "metadata": {},
     "output_type": "execute_result"
    }
   ],
   "source": [
    "#|exports\n",
    "def test_fab_with_svgs_fasthtml_examples():\n",
    "    \"\"\"Test FAB with SVG icons from daisyUI v5 documentation.\"\"\"\n",
    "    from fasthtml.common import Button, A, Input, Div\n",
    "    from cjm_fasthtml_daisyui.components.actions.button import btn, btn_sizes, btn_modifiers, btn_colors\n",
    "    from cjm_fasthtml_tailwind.utilities.sizing import min_h\n",
    "\n",
    "    from fasthtml.svg import Svg, Path\n",
    "\n",
    "    # 1. Plus/New icon (for main FAB button)\n",
    "    plus_icon = Svg(\n",
    "        Path(\n",
    "            stroke_linecap=\"round\",\n",
    "            stroke_linejoin=\"round\",\n",
    "            d=\"M12 4.5v15m7.5-7.5h-15\"\n",
    "        ),\n",
    "        aria_label=\"New\",\n",
    "        xmlns=\"http://www.w3.org/2000/svg\",\n",
    "        fill=\"none\",\n",
    "        viewBox=\"0 0 24 24\",\n",
    "        stroke_width=\"2\",\n",
    "        stroke=\"currentColor\",\n",
    "        cls=\"size-6\"\n",
    "    )\n",
    "    \n",
    "    # 2. Camera icon\n",
    "    camera_icon = Svg(\n",
    "        Path(\n",
    "            stroke_linecap=\"round\",\n",
    "            stroke_linejoin=\"round\",\n",
    "            d=\"M6.827 6.175A2.31 2.31 0 0 1 5.186 7.23c-.38.054-.757.112-1.134.175C2.999 7.58 2.25 8.507 2.25 9.574V18a2.25 2.25 0 0 0 2.25 2.25h15A2.25 2.25 0 0 0 21.75 18V9.574c0-1.067-.75-1.994-1.802-2.169a47.865 47.865 0 0 0-1.134-.175 2.31 2.31 0 0 1-1.64-1.055l-.822-1.316a2.192 2.192 0 0 0-1.736-1.039 48.774 48.774 0 0 0-5.232 0 2.192 2.192 0 0 0-1.736 1.039l-.821 1.316Z\"\n",
    "        ),\n",
    "        Path(\n",
    "            stroke_linecap=\"round\",\n",
    "            stroke_linejoin=\"round\",\n",
    "            d=\"M16.5 12.75a4.5 4.5 0 1 1-9 0 4.5 4.5 0 0 1 9 0ZM18.75 10.5h.008v.008h-.008V10.5Z\"\n",
    "        ),\n",
    "        aria_label=\"Camera\",\n",
    "        xmlns=\"http://www.w3.org/2000/svg\",\n",
    "        fill=\"none\",\n",
    "        viewBox=\"0 0 24 24\",\n",
    "        stroke_width=\"1.5\",\n",
    "        stroke=\"currentColor\",\n",
    "        cls=\"size-6\"\n",
    "    )\n",
    "    \n",
    "    # 3. Gallery/Image icon\n",
    "    gallery_icon = Svg(\n",
    "        Path(\n",
    "            stroke_linecap=\"round\",\n",
    "            stroke_linejoin=\"round\",\n",
    "            d=\"m2.25 15.75 5.159-5.159a2.25 2.25 0 0 1 3.182 0l5.159 5.159m-1.5-1.5 1.409-1.409a2.25 2.25 0 0 1 3.182 0l2.909 2.909m-18 3.75h16.5a1.5 1.5 0 0 0 1.5-1.5V6a1.5 1.5 0 0 0-1.5-1.5H3.75A1.5 1.5 0 0 0 2.25 6v12a1.5 1.5 0 0 0 1.5 1.5Zm10.5-11.25h.008v.008h-.008V8.25Zm.375 0a.375.375 0 1 1-.75 0 .375.375 0 0 1 .75 0Z\"\n",
    "        ),\n",
    "        aria_label=\"Gallery\",\n",
    "        xmlns=\"http://www.w3.org/2000/svg\",\n",
    "        fill=\"none\",\n",
    "        viewBox=\"0 0 24 24\",\n",
    "        stroke_width=\"1.5\",\n",
    "        stroke=\"currentColor\",\n",
    "        cls=\"size-6\"\n",
    "    )\n",
    "    \n",
    "    # 4. Microphone/Voice icon\n",
    "    voice_icon = Svg(\n",
    "        Path(\n",
    "            stroke_linecap=\"round\",\n",
    "            stroke_linejoin=\"round\",\n",
    "            d=\"M12 18.75a6 6 0 0 0 6-6v-1.5m-6 7.5a6 6 0 0 1-6-6v-1.5m6 7.5v3.75m-3.75 0h7.5M12 15.75a3 3 0 0 1-3-3V4.5a3 3 0 1 1 6 0v8.25a3 3 0 0 1-3 3Z\"\n",
    "        ),\n",
    "        aria_label=\"Voice\",\n",
    "        xmlns=\"http://www.w3.org/2000/svg\",\n",
    "        fill=\"none\",\n",
    "        viewBox=\"0 0 24 24\",\n",
    "        stroke_width=\"1.5\",\n",
    "        stroke=\"currentColor\",\n",
    "        cls=\"size-6\"\n",
    "    )\n",
    "    \n",
    "\n",
    "    vertical_fab_with_svgs = Div(\n",
    "        Div(plus_icon, tabindex=\"0\", role=\"button\", cls=combine_classes(btn, btn_sizes.lg, btn_modifiers.circle, btn_colors.secondary)),\n",
    "        Button(camera_icon, cls=combine_classes(btn, btn_sizes.lg, btn_modifiers.circle)),\n",
    "        Button(gallery_icon, cls=combine_classes(btn, btn_sizes.lg, btn_modifiers.circle)),\n",
    "        Button(voice_icon, cls=combine_classes(btn, btn_sizes.lg, btn_modifiers.circle)),\n",
    "        cls=combine_classes(fab)\n",
    "    )\n",
    "    assert vertical_fab_with_svgs.attrs['class'] == \"fab\"\n",
    "    \n",
    "    \n",
    "    # Return all elements in a Div\n",
    "    return Div(\n",
    "        vertical_fab_with_svgs,\n",
    "        cls=combine_classes(min_h(50))\n",
    "    )\n",
    "\n",
    "# Run the tests\n",
    "test_fab_with_svgs_fasthtml_examples()"
   ]
  },
  {
   "cell_type": "code",
   "execution_count": null,
   "id": "94dae856-810a-44a6-8610-3fab40bb1b8a",
   "metadata": {},
   "outputs": [
    {
     "data": {
      "text/html": [
       "\n",
       "<script>\n",
       "document.body.addEventListener('htmx:configRequest', (event) => {\n",
       "    if(event.detail.path.includes('://')) return;\n",
       "    htmx.config.selfRequestsOnly=false;\n",
       "    event.detail.path = `${location.protocol}//${location.hostname}:8000${event.detail.path}`;\n",
       "});\n",
       "</script>"
      ],
      "text/plain": [
       "<IPython.core.display.HTML object>"
      ]
     },
     "metadata": {},
     "output_type": "display_data"
    },
    {
     "data": {
      "text/html": [
       "<iframe src=\"http://localhost:8000/\" style=\"width: 100%; height: auto; border: none;\" onload=\"{\n",
       "        let frame = this;\n",
       "        window.addEventListener('message', function(e) {\n",
       "            if (e.source !== frame.contentWindow) return; // Only proceed if the message is from this iframe\n",
       "            if (e.data.height) frame.style.height = (e.data.height+1) + 'px';\n",
       "        }, false);\n",
       "    }\" allow=\"accelerometer; autoplay; camera; clipboard-read; clipboard-write; display-capture; encrypted-media; fullscreen; gamepad; geolocation; gyroscope; hid; identity-credentials-get; idle-detection; magnetometer; microphone; midi; payment; picture-in-picture; publickey-credentials-get; screen-wake-lock; serial; usb; web-share; xr-spatial-tracking\"></iframe> "
      ],
      "text/plain": [
       "<IPython.core.display.HTML object>"
      ]
     },
     "metadata": {},
     "output_type": "display_data"
    }
   ],
   "source": [
    "#| eval: false\n",
    "#| output: false\n",
    "test_func = test_fab_with_svgs_fasthtml_examples\n",
    "app, rt = create_test_app(theme=DaisyUITheme.LIGHT)\n",
    "\n",
    "@rt\n",
    "def index():\n",
    "    return create_test_page(test_func.__doc__.title().replace('.', ''), test_func())\n",
    "server = start_test_server(app)\n",
    "display(HTMX())\n",
    "server.stop()"
   ]
  },
  {
   "cell_type": "code",
   "execution_count": null,
   "id": "v5tylsuzbt",
   "metadata": {},
   "outputs": [
    {
     "data": {
      "text/markdown": [
       "```html\n",
       "<div class=\"min-h-50\">\n",
       "  <div class=\"fab\">\n",
       "    <div tabindex=\"0\" role=\"button\" class=\"btn btn-lg btn-circle btn-success\">F</div>\n",
       "    <div>\n",
       "Label B<button class=\"btn btn-lg btn-circle\">A</button>    </div>\n",
       "    <div>\n",
       "Label C<button class=\"btn btn-lg btn-circle\">B</button>    </div>\n",
       "    <div>\n",
       "Label D<button class=\"btn btn-lg btn-circle\">C</button>    </div>\n",
       "  </div>\n",
       "</div>\n",
       "\n",
       "```"
      ],
      "text/plain": [
       "div((div((div(('F',),{'tabindex': '0', 'role': 'button', 'class': 'btn btn-lg btn-circle btn-success'}), div(('Label B', button(('A',),{'class': 'btn btn-lg btn-circle'})),{}), div(('Label C', button(('B',),{'class': 'btn btn-lg btn-circle'})),{}), div(('Label D', button(('C',),{'class': 'btn btn-lg btn-circle'})),{})),{'class': 'fab'}),),{'class': 'min-h-50'})"
      ]
     },
     "execution_count": null,
     "metadata": {},
     "output_type": "execute_result"
    }
   ],
   "source": [
    "#|exports\n",
    "def test_fab_with_labels_fasthtml_examples():\n",
    "    \"\"\"Test FAB with labels from daisyUI v5 documentation.\"\"\"\n",
    "    from fasthtml.common import Button, A, Input, Div\n",
    "    from cjm_fasthtml_daisyui.components.actions.button import btn, btn_sizes, btn_modifiers, btn_colors\n",
    "    from cjm_fasthtml_tailwind.utilities.sizing import min_h\n",
    "\n",
    "    vertical_fab_with_labels = Div(\n",
    "        Div(\"F\", tabindex=\"0\", role=\"button\", cls=combine_classes(btn, btn_sizes.lg, btn_modifiers.circle, btn_colors.success)),\n",
    "        Div(\"Label B\", Button(\"A\", cls=combine_classes(btn, btn_sizes.lg, btn_modifiers.circle))),\n",
    "        Div(\"Label C\", Button(\"B\", cls=combine_classes(btn, btn_sizes.lg, btn_modifiers.circle))),\n",
    "        Div(\"Label D\", Button(\"C\", cls=combine_classes(btn, btn_sizes.lg, btn_modifiers.circle))),\n",
    "        cls=combine_classes(fab)\n",
    "    )\n",
    "    assert vertical_fab_with_labels.attrs['class'] == \"fab\"\n",
    "    \n",
    "    \n",
    "    # Return all elements in a Div\n",
    "    return Div(\n",
    "        vertical_fab_with_labels,\n",
    "        cls=combine_classes(min_h(50))\n",
    "    )\n",
    "\n",
    "# Run the tests\n",
    "test_fab_with_labels_fasthtml_examples()"
   ]
  },
  {
   "cell_type": "code",
   "execution_count": null,
   "id": "aba55112-ffe0-464e-a077-cd7c6d433c75",
   "metadata": {},
   "outputs": [
    {
     "data": {
      "text/html": [
       "\n",
       "<script>\n",
       "document.body.addEventListener('htmx:configRequest', (event) => {\n",
       "    if(event.detail.path.includes('://')) return;\n",
       "    htmx.config.selfRequestsOnly=false;\n",
       "    event.detail.path = `${location.protocol}//${location.hostname}:8000${event.detail.path}`;\n",
       "});\n",
       "</script>"
      ],
      "text/plain": [
       "<IPython.core.display.HTML object>"
      ]
     },
     "metadata": {},
     "output_type": "display_data"
    },
    {
     "data": {
      "text/html": [
       "<iframe src=\"http://localhost:8000/\" style=\"width: 100%; height: auto; border: none;\" onload=\"{\n",
       "        let frame = this;\n",
       "        window.addEventListener('message', function(e) {\n",
       "            if (e.source !== frame.contentWindow) return; // Only proceed if the message is from this iframe\n",
       "            if (e.data.height) frame.style.height = (e.data.height+1) + 'px';\n",
       "        }, false);\n",
       "    }\" allow=\"accelerometer; autoplay; camera; clipboard-read; clipboard-write; display-capture; encrypted-media; fullscreen; gamepad; geolocation; gyroscope; hid; identity-credentials-get; idle-detection; magnetometer; microphone; midi; payment; picture-in-picture; publickey-credentials-get; screen-wake-lock; serial; usb; web-share; xr-spatial-tracking\"></iframe> "
      ],
      "text/plain": [
       "<IPython.core.display.HTML object>"
      ]
     },
     "metadata": {},
     "output_type": "display_data"
    }
   ],
   "source": [
    "#| eval: false\n",
    "#| output: false\n",
    "test_func = test_fab_with_labels_fasthtml_examples\n",
    "app, rt = create_test_app(theme=DaisyUITheme.LIGHT)\n",
    "\n",
    "@rt\n",
    "def index():\n",
    "    return create_test_page(test_func.__doc__.title().replace('.', ''), test_func())\n",
    "server = start_test_server(app)\n",
    "display(HTMX())\n",
    "server.stop()"
   ]
  },
  {
   "cell_type": "code",
   "execution_count": null,
   "id": "9e39321a-ce32-43a3-a9fa-164f3e628d3d",
   "metadata": {},
   "outputs": [
    {
     "data": {
      "text/markdown": [
       "```html\n",
       "<div class=\"min-h-50\">\n",
       "  <div class=\"fab\">\n",
       "    <div tabindex=\"0\" role=\"button\" class=\"btn btn-lg btn-circle btn-success\">F</div>\n",
       "<button class=\"btn btn-lg\">Button A</button><button class=\"btn btn-lg\">Button B</button><button class=\"btn btn-lg\">Button C</button>  </div>\n",
       "</div>\n",
       "\n",
       "```"
      ],
      "text/plain": [
       "div((div((div(('F',),{'tabindex': '0', 'role': 'button', 'class': 'btn btn-lg btn-circle btn-success'}), button(('Button A',),{'class': 'btn btn-lg'}), button(('Button B',),{'class': 'btn btn-lg'}), button(('Button C',),{'class': 'btn btn-lg'})),{'class': 'fab'}),),{'class': 'min-h-50'})"
      ]
     },
     "execution_count": null,
     "metadata": {},
     "output_type": "execute_result"
    }
   ],
   "source": [
    "#|exports\n",
    "def test_fab_rectangle_buttons_fasthtml_examples():\n",
    "    \"\"\"Test FAB with rectangle buttons from daisyUI v5 documentation.\"\"\"\n",
    "    from fasthtml.common import Button, A, Input, Div\n",
    "    from cjm_fasthtml_daisyui.components.actions.button import btn, btn_sizes, btn_modifiers, btn_colors\n",
    "    from cjm_fasthtml_tailwind.utilities.sizing import min_h\n",
    "\n",
    "    vertical_fab = Div(\n",
    "        Div(\"F\", tabindex=\"0\", role=\"button\", cls=combine_classes(btn, btn_sizes.lg, btn_modifiers.circle, btn_colors.success)),\n",
    "        Button(\"Button A\", cls=combine_classes(btn, btn_sizes.lg)),\n",
    "        Button(\"Button B\", cls=combine_classes(btn, btn_sizes.lg)),\n",
    "        Button(\"Button C\", cls=combine_classes(btn, btn_sizes.lg)),\n",
    "        cls=combine_classes(fab)\n",
    "    )\n",
    "    assert vertical_fab.attrs['class'] == \"fab\"\n",
    "    \n",
    "    \n",
    "    # Return all elements in a Div\n",
    "    return Div(\n",
    "        vertical_fab,\n",
    "        cls=combine_classes(min_h(50))\n",
    "    )\n",
    "\n",
    "# Run the tests\n",
    "test_fab_rectangle_buttons_fasthtml_examples()"
   ]
  },
  {
   "cell_type": "code",
   "execution_count": null,
   "id": "adc9e790-d65f-48d2-a5d7-e016f7309a7e",
   "metadata": {},
   "outputs": [
    {
     "data": {
      "text/html": [
       "\n",
       "<script>\n",
       "document.body.addEventListener('htmx:configRequest', (event) => {\n",
       "    if(event.detail.path.includes('://')) return;\n",
       "    htmx.config.selfRequestsOnly=false;\n",
       "    event.detail.path = `${location.protocol}//${location.hostname}:8000${event.detail.path}`;\n",
       "});\n",
       "</script>"
      ],
      "text/plain": [
       "<IPython.core.display.HTML object>"
      ]
     },
     "metadata": {},
     "output_type": "display_data"
    },
    {
     "data": {
      "text/html": [
       "<iframe src=\"http://localhost:8000/\" style=\"width: 100%; height: auto; border: none;\" onload=\"{\n",
       "        let frame = this;\n",
       "        window.addEventListener('message', function(e) {\n",
       "            if (e.source !== frame.contentWindow) return; // Only proceed if the message is from this iframe\n",
       "            if (e.data.height) frame.style.height = (e.data.height+1) + 'px';\n",
       "        }, false);\n",
       "    }\" allow=\"accelerometer; autoplay; camera; clipboard-read; clipboard-write; display-capture; encrypted-media; fullscreen; gamepad; geolocation; gyroscope; hid; identity-credentials-get; idle-detection; magnetometer; microphone; midi; payment; picture-in-picture; publickey-credentials-get; screen-wake-lock; serial; usb; web-share; xr-spatial-tracking\"></iframe> "
      ],
      "text/plain": [
       "<IPython.core.display.HTML object>"
      ]
     },
     "metadata": {},
     "output_type": "display_data"
    }
   ],
   "source": [
    "#| eval: false\n",
    "#| output: false\n",
    "test_func = test_fab_rectangle_buttons_fasthtml_examples\n",
    "app, rt = create_test_app(theme=DaisyUITheme.LIGHT)\n",
    "\n",
    "@rt\n",
    "def index():\n",
    "    return create_test_page(test_func.__doc__.title().replace('.', ''), test_func())\n",
    "server = start_test_server(app)\n",
    "display(HTMX())\n",
    "server.stop()"
   ]
  },
  {
   "cell_type": "code",
   "execution_count": null,
   "id": "cbc281e0-0dde-4261-88f7-81189a694db9",
   "metadata": {},
   "outputs": [
    {
     "data": {
      "text/markdown": [
       "```html\n",
       "<div class=\"min-h-50\">\n",
       "  <div class=\"fab\">\n",
       "    <div tabindex=\"0\" role=\"button\" class=\"btn btn-lg btn-circle btn-info\">F</div>\n",
       "    <div class=\"fab-close\">\n",
       "Close<span class=\"btn btn-lg btn-circle btn-error\">x</span>    </div>\n",
       "    <div>\n",
       "Label A<button class=\"btn btn-lg btn-circle\">A</button>    </div>\n",
       "    <div>\n",
       "Label B<button class=\"btn btn-lg btn-circle\">B</button>    </div>\n",
       "    <div>\n",
       "Label C<button class=\"btn btn-lg btn-circle\">C</button>    </div>\n",
       "  </div>\n",
       "</div>\n",
       "\n",
       "```"
      ],
      "text/plain": [
       "div((div((div(('F',),{'tabindex': '0', 'role': 'button', 'class': 'btn btn-lg btn-circle btn-info'}), div(('Close', span(('x',),{'class': 'btn btn-lg btn-circle btn-error'})),{'class': 'fab-close'}), div(('Label A', button(('A',),{'class': 'btn btn-lg btn-circle'})),{}), div(('Label B', button(('B',),{'class': 'btn btn-lg btn-circle'})),{}), div(('Label C', button(('C',),{'class': 'btn btn-lg btn-circle'})),{})),{'class': 'fab'}),),{'class': 'min-h-50'})"
      ]
     },
     "execution_count": null,
     "metadata": {},
     "output_type": "execute_result"
    }
   ],
   "source": [
    "#|exports\n",
    "def test_fab_close_fasthtml_examples():\n",
    "    \"\"\"Test FAB with close button from daisyUI v5 documentation.\"\"\"\n",
    "    from fasthtml.common import Button, A, Input, Div, Span\n",
    "    from cjm_fasthtml_daisyui.components.actions.button import btn, btn_sizes, btn_modifiers, btn_colors\n",
    "    from cjm_fasthtml_tailwind.utilities.sizing import min_h\n",
    "\n",
    "    vertical_fab = Div(\n",
    "        Div(\"F\", tabindex=\"0\", role=\"button\", cls=combine_classes(btn, btn_sizes.lg, btn_modifiers.circle, btn_colors.info)),\n",
    "        Div(\n",
    "            \"Close\", \n",
    "            Span(\"x\", cls=combine_classes(btn, btn_sizes.lg, btn_modifiers.circle, btn_colors.error)), \n",
    "            cls=combine_classes(fab_close)\n",
    "        ),\n",
    "        Div(\"Label A\", Button(\"A\", cls=combine_classes(btn, btn_sizes.lg, btn_modifiers.circle))),\n",
    "        Div(\"Label B\", Button(\"B\", cls=combine_classes(btn, btn_sizes.lg, btn_modifiers.circle))),\n",
    "        Div(\"Label C\", Button(\"C\", cls=combine_classes(btn, btn_sizes.lg, btn_modifiers.circle))),\n",
    "        cls=combine_classes(fab)\n",
    "    )\n",
    "    assert vertical_fab.attrs['class'] == \"fab\"\n",
    "    \n",
    "    \n",
    "    # Return all elements in a Div\n",
    "    return Div(\n",
    "        vertical_fab,\n",
    "        cls=combine_classes(min_h(50))\n",
    "    )\n",
    "\n",
    "# Run the tests\n",
    "test_fab_close_fasthtml_examples()"
   ]
  },
  {
   "cell_type": "code",
   "execution_count": null,
   "id": "fede290b-e7e0-4fe6-9876-9d60f6937924",
   "metadata": {},
   "outputs": [
    {
     "data": {
      "text/html": [
       "\n",
       "<script>\n",
       "document.body.addEventListener('htmx:configRequest', (event) => {\n",
       "    if(event.detail.path.includes('://')) return;\n",
       "    htmx.config.selfRequestsOnly=false;\n",
       "    event.detail.path = `${location.protocol}//${location.hostname}:8000${event.detail.path}`;\n",
       "});\n",
       "</script>"
      ],
      "text/plain": [
       "<IPython.core.display.HTML object>"
      ]
     },
     "metadata": {},
     "output_type": "display_data"
    },
    {
     "data": {
      "text/html": [
       "<iframe src=\"http://localhost:8000/\" style=\"width: 100%; height: auto; border: none;\" onload=\"{\n",
       "        let frame = this;\n",
       "        window.addEventListener('message', function(e) {\n",
       "            if (e.source !== frame.contentWindow) return; // Only proceed if the message is from this iframe\n",
       "            if (e.data.height) frame.style.height = (e.data.height+1) + 'px';\n",
       "        }, false);\n",
       "    }\" allow=\"accelerometer; autoplay; camera; clipboard-read; clipboard-write; display-capture; encrypted-media; fullscreen; gamepad; geolocation; gyroscope; hid; identity-credentials-get; idle-detection; magnetometer; microphone; midi; payment; picture-in-picture; publickey-credentials-get; screen-wake-lock; serial; usb; web-share; xr-spatial-tracking\"></iframe> "
      ],
      "text/plain": [
       "<IPython.core.display.HTML object>"
      ]
     },
     "metadata": {},
     "output_type": "display_data"
    }
   ],
   "source": [
    "#| eval: false\n",
    "#| output: false\n",
    "test_func = test_fab_close_fasthtml_examples\n",
    "app, rt = create_test_app(theme=DaisyUITheme.LIGHT)\n",
    "\n",
    "@rt\n",
    "def index():\n",
    "    return create_test_page(test_func.__doc__.title().replace('.', ''), test_func())\n",
    "server = start_test_server(app)\n",
    "display(HTMX())\n",
    "server.stop()"
   ]
  },
  {
   "cell_type": "code",
   "execution_count": null,
   "id": "6c25e808-b030-4ed1-a877-0ffa06ab0771",
   "metadata": {},
   "outputs": [
    {
     "data": {
      "text/markdown": [
       "```html\n",
       "<div class=\"min-h-50\">\n",
       "  <div class=\"fab\">\n",
       "    <div tabindex=\"0\" role=\"button\" class=\"btn btn-lg btn-circle btn-primary\">F</div>\n",
       "    <div class=\"fab-main-action\">\n",
       "Main Action<button class=\"btn btn-lg btn-circle btn-secondary\">M</button>    </div>\n",
       "    <div>\n",
       "Label A<button class=\"btn btn-lg btn-circle\">A</button>    </div>\n",
       "    <div>\n",
       "Label B<button class=\"btn btn-lg btn-circle\">B</button>    </div>\n",
       "    <div>\n",
       "Label C<button class=\"btn btn-lg btn-circle\">C</button>    </div>\n",
       "  </div>\n",
       "</div>\n",
       "\n",
       "```"
      ],
      "text/plain": [
       "div((div((div(('F',),{'tabindex': '0', 'role': 'button', 'class': 'btn btn-lg btn-circle btn-primary'}), div(('Main Action', button(('M',),{'class': 'btn btn-lg btn-circle btn-secondary'})),{'class': 'fab-main-action'}), div(('Label A', button(('A',),{'class': 'btn btn-lg btn-circle'})),{}), div(('Label B', button(('B',),{'class': 'btn btn-lg btn-circle'})),{}), div(('Label C', button(('C',),{'class': 'btn btn-lg btn-circle'})),{})),{'class': 'fab'}),),{'class': 'min-h-50'})"
      ]
     },
     "execution_count": null,
     "metadata": {},
     "output_type": "execute_result"
    }
   ],
   "source": [
    "#|exports\n",
    "def test_fab_main_action_fasthtml_examples():\n",
    "    \"\"\"Test FAB with main action button from daisyUI v5 documentation.\"\"\"\n",
    "    from fasthtml.common import Button, A, Input, Div, Span\n",
    "    from cjm_fasthtml_daisyui.components.actions.button import btn, btn_sizes, btn_modifiers, btn_colors\n",
    "    from cjm_fasthtml_tailwind.utilities.sizing import min_h\n",
    "\n",
    "    vertical_fab = Div(\n",
    "        Div(\"F\", tabindex=\"0\", role=\"button\", cls=combine_classes(btn, btn_sizes.lg, btn_modifiers.circle, btn_colors.primary)),\n",
    "        Div(\n",
    "            \"Main Action\", \n",
    "            Button(\"M\", cls=combine_classes(btn, btn_sizes.lg, btn_modifiers.circle, btn_colors.secondary)), \n",
    "            cls=combine_classes(fab_main_action)\n",
    "        ),\n",
    "        Div(\"Label A\", Button(\"A\", cls=combine_classes(btn, btn_sizes.lg, btn_modifiers.circle))),\n",
    "        Div(\"Label B\", Button(\"B\", cls=combine_classes(btn, btn_sizes.lg, btn_modifiers.circle))),\n",
    "        Div(\"Label C\", Button(\"C\", cls=combine_classes(btn, btn_sizes.lg, btn_modifiers.circle))),\n",
    "        cls=combine_classes(fab)\n",
    "    )\n",
    "    assert vertical_fab.attrs['class'] == \"fab\"\n",
    "    \n",
    "    \n",
    "    # Return all elements in a Div\n",
    "    return Div(\n",
    "        vertical_fab,\n",
    "        cls=combine_classes(min_h(50))\n",
    "    )\n",
    "\n",
    "# Run the tests\n",
    "test_fab_main_action_fasthtml_examples()"
   ]
  },
  {
   "cell_type": "code",
   "execution_count": null,
   "id": "1503ac9c-22b8-4ebf-8baf-e6bee8b30548",
   "metadata": {},
   "outputs": [
    {
     "data": {
      "text/html": [
       "\n",
       "<script>\n",
       "document.body.addEventListener('htmx:configRequest', (event) => {\n",
       "    if(event.detail.path.includes('://')) return;\n",
       "    htmx.config.selfRequestsOnly=false;\n",
       "    event.detail.path = `${location.protocol}//${location.hostname}:8000${event.detail.path}`;\n",
       "});\n",
       "</script>"
      ],
      "text/plain": [
       "<IPython.core.display.HTML object>"
      ]
     },
     "metadata": {},
     "output_type": "display_data"
    },
    {
     "data": {
      "text/html": [
       "<iframe src=\"http://localhost:8000/\" style=\"width: 100%; height: auto; border: none;\" onload=\"{\n",
       "        let frame = this;\n",
       "        window.addEventListener('message', function(e) {\n",
       "            if (e.source !== frame.contentWindow) return; // Only proceed if the message is from this iframe\n",
       "            if (e.data.height) frame.style.height = (e.data.height+1) + 'px';\n",
       "        }, false);\n",
       "    }\" allow=\"accelerometer; autoplay; camera; clipboard-read; clipboard-write; display-capture; encrypted-media; fullscreen; gamepad; geolocation; gyroscope; hid; identity-credentials-get; idle-detection; magnetometer; microphone; midi; payment; picture-in-picture; publickey-credentials-get; screen-wake-lock; serial; usb; web-share; xr-spatial-tracking\"></iframe> "
      ],
      "text/plain": [
       "<IPython.core.display.HTML object>"
      ]
     },
     "metadata": {},
     "output_type": "display_data"
    }
   ],
   "source": [
    "#| eval: false\n",
    "#| output: false\n",
    "test_func = test_fab_main_action_fasthtml_examples\n",
    "app, rt = create_test_app(theme=DaisyUITheme.LIGHT)\n",
    "\n",
    "@rt\n",
    "def index():\n",
    "    return create_test_page(test_func.__doc__.title().replace('.', ''), test_func())\n",
    "server = start_test_server(app)\n",
    "display(HTMX())\n",
    "server.stop()"
   ]
  },
  {
   "cell_type": "code",
   "execution_count": null,
   "id": "fa9b5800-b92a-4f3e-86f2-f39000d1fb37",
   "metadata": {},
   "outputs": [
    {
     "data": {
      "text/markdown": [
       "```html\n",
       "<div class=\"min-h-50\">\n",
       "  <div class=\"fab\">\n",
       "    <div tabindex=\"0\" role=\"button\" class=\"btn btn-lg btn-circle btn-primary\">F</div>\n",
       "  </div>\n",
       "</div>\n",
       "\n",
       "```"
      ],
      "text/plain": [
       "div((div((div(('F',),{'tabindex': '0', 'role': 'button', 'class': 'btn btn-lg btn-circle btn-primary'}),),{'class': 'fab'}),),{'class': 'min-h-50'})"
      ]
     },
     "execution_count": null,
     "metadata": {},
     "output_type": "execute_result"
    }
   ],
   "source": [
    "#|exports\n",
    "def test_fab_single_fasthtml_examples():\n",
    "    \"\"\"Test a single FAB from daisyUI v5 documentation.\"\"\"\n",
    "    from fasthtml.common import Button, A, Input, Div, Span\n",
    "    from cjm_fasthtml_daisyui.components.actions.button import btn, btn_sizes, btn_modifiers, btn_colors\n",
    "    from cjm_fasthtml_tailwind.utilities.sizing import min_h\n",
    "\n",
    "    vertical_fab = Div(\n",
    "        Div(\"F\", tabindex=\"0\", role=\"button\", cls=combine_classes(btn, btn_sizes.lg, btn_modifiers.circle, btn_colors.primary)),\n",
    "        cls=combine_classes(fab)\n",
    "    )\n",
    "    assert vertical_fab.attrs['class'] == \"fab\"\n",
    "    \n",
    "    \n",
    "    # Return all elements in a Div\n",
    "    return Div(\n",
    "        vertical_fab,\n",
    "        cls=combine_classes(min_h(50))\n",
    "    )\n",
    "\n",
    "# Run the tests\n",
    "test_fab_single_fasthtml_examples()"
   ]
  },
  {
   "cell_type": "code",
   "execution_count": null,
   "id": "cdcac8f2-ba9c-4185-b5a9-2972b99c02fd",
   "metadata": {},
   "outputs": [
    {
     "data": {
      "text/html": [
       "\n",
       "<script>\n",
       "document.body.addEventListener('htmx:configRequest', (event) => {\n",
       "    if(event.detail.path.includes('://')) return;\n",
       "    htmx.config.selfRequestsOnly=false;\n",
       "    event.detail.path = `${location.protocol}//${location.hostname}:8000${event.detail.path}`;\n",
       "});\n",
       "</script>"
      ],
      "text/plain": [
       "<IPython.core.display.HTML object>"
      ]
     },
     "metadata": {},
     "output_type": "display_data"
    },
    {
     "data": {
      "text/html": [
       "<iframe src=\"http://localhost:8000/\" style=\"width: 100%; height: auto; border: none;\" onload=\"{\n",
       "        let frame = this;\n",
       "        window.addEventListener('message', function(e) {\n",
       "            if (e.source !== frame.contentWindow) return; // Only proceed if the message is from this iframe\n",
       "            if (e.data.height) frame.style.height = (e.data.height+1) + 'px';\n",
       "        }, false);\n",
       "    }\" allow=\"accelerometer; autoplay; camera; clipboard-read; clipboard-write; display-capture; encrypted-media; fullscreen; gamepad; geolocation; gyroscope; hid; identity-credentials-get; idle-detection; magnetometer; microphone; midi; payment; picture-in-picture; publickey-credentials-get; screen-wake-lock; serial; usb; web-share; xr-spatial-tracking\"></iframe> "
      ],
      "text/plain": [
       "<IPython.core.display.HTML object>"
      ]
     },
     "metadata": {},
     "output_type": "display_data"
    }
   ],
   "source": [
    "#| eval: false\n",
    "#| output: false\n",
    "test_func = test_fab_single_fasthtml_examples\n",
    "app, rt = create_test_app(theme=DaisyUITheme.LIGHT)\n",
    "\n",
    "@rt\n",
    "def index():\n",
    "    return create_test_page(test_func.__doc__.title().replace('.', ''), test_func())\n",
    "server = start_test_server(app)\n",
    "display(HTMX())\n",
    "server.stop()"
   ]
  },
  {
   "cell_type": "code",
   "execution_count": null,
   "id": "da5cf203-216c-429f-8898-74d58d6cc439",
   "metadata": {},
   "outputs": [
    {
     "data": {
      "text/markdown": [
       "```html\n",
       "<div class=\"min-h-50\">\n",
       "  <div class=\"fab fab-flower\">\n",
       "    <div tabindex=\"0\" role=\"button\" class=\"btn btn-lg btn-circle btn-success\">F</div>\n",
       "<button class=\"fab-main-action btn btn-lg btn-circle\">M</button><button class=\"btn btn-lg btn-circle\">A</button><button class=\"btn btn-lg btn-circle\">B</button><button class=\"btn btn-lg btn-circle\">C</button><button class=\"btn btn-lg btn-circle\">D</button>  </div>\n",
       "</div>\n",
       "\n",
       "```"
      ],
      "text/plain": [
       "div((div((div(('F',),{'tabindex': '0', 'role': 'button', 'class': 'btn btn-lg btn-circle btn-success'}), button(('M',),{'class': 'fab-main-action btn btn-lg btn-circle'}), button(('A',),{'class': 'btn btn-lg btn-circle'}), button(('B',),{'class': 'btn btn-lg btn-circle'}), button(('C',),{'class': 'btn btn-lg btn-circle'}), button(('D',),{'class': 'btn btn-lg btn-circle'})),{'class': 'fab fab-flower'}),),{'class': 'min-h-50'})"
      ]
     },
     "execution_count": null,
     "metadata": {},
     "output_type": "execute_result"
    }
   ],
   "source": [
    "#|exports\n",
    "def test_fab_flower_fasthtml_examples():\n",
    "    \"\"\"Test FAB flower modifier from daisyUI v5 documentation.\"\"\"\n",
    "    from fasthtml.common import Button, A, Input, Div\n",
    "    from cjm_fasthtml_daisyui.components.actions.button import btn, btn_sizes, btn_modifiers, btn_colors\n",
    "    from cjm_fasthtml_tailwind.utilities.sizing import min_h\n",
    "\n",
    "    vertical_fab = Div(\n",
    "        Div(\"F\", tabindex=\"0\", role=\"button\", cls=combine_classes(btn, btn_sizes.lg, btn_modifiers.circle, btn_colors.success)),\n",
    "        Button(\"M\", cls=combine_classes(fab_main_action, btn, btn_sizes.lg, btn_modifiers.circle)),\n",
    "        Button(\"A\", cls=combine_classes(btn, btn_sizes.lg, btn_modifiers.circle)),\n",
    "        Button(\"B\", cls=combine_classes(btn, btn_sizes.lg, btn_modifiers.circle)),\n",
    "        Button(\"C\", cls=combine_classes(btn, btn_sizes.lg, btn_modifiers.circle)),\n",
    "        Button(\"D\", cls=combine_classes(btn, btn_sizes.lg, btn_modifiers.circle)),\n",
    "        cls=combine_classes(fab, fab_modifiers.flower)\n",
    "    )\n",
    "    assert \"fab\" in vertical_fab.attrs['class']\n",
    "    assert \"fab-flower\" in vertical_fab.attrs['class']\n",
    "    \n",
    "    \n",
    "    # Return all elements in a Div\n",
    "    return Div(\n",
    "        vertical_fab,\n",
    "        cls=combine_classes(min_h(50))\n",
    "    )\n",
    "\n",
    "# Run the tests\n",
    "test_fab_flower_fasthtml_examples()"
   ]
  },
  {
   "cell_type": "code",
   "execution_count": null,
   "id": "4aa62be8-0b6d-45a7-9f04-6c6003d147a4",
   "metadata": {},
   "outputs": [
    {
     "data": {
      "text/html": [
       "\n",
       "<script>\n",
       "document.body.addEventListener('htmx:configRequest', (event) => {\n",
       "    if(event.detail.path.includes('://')) return;\n",
       "    htmx.config.selfRequestsOnly=false;\n",
       "    event.detail.path = `${location.protocol}//${location.hostname}:8000${event.detail.path}`;\n",
       "});\n",
       "</script>"
      ],
      "text/plain": [
       "<IPython.core.display.HTML object>"
      ]
     },
     "metadata": {},
     "output_type": "display_data"
    },
    {
     "data": {
      "text/html": [
       "<iframe src=\"http://localhost:8000/\" style=\"width: 100%; height: auto; border: none;\" onload=\"{\n",
       "        let frame = this;\n",
       "        window.addEventListener('message', function(e) {\n",
       "            if (e.source !== frame.contentWindow) return; // Only proceed if the message is from this iframe\n",
       "            if (e.data.height) frame.style.height = (e.data.height+1) + 'px';\n",
       "        }, false);\n",
       "    }\" allow=\"accelerometer; autoplay; camera; clipboard-read; clipboard-write; display-capture; encrypted-media; fullscreen; gamepad; geolocation; gyroscope; hid; identity-credentials-get; idle-detection; magnetometer; microphone; midi; payment; picture-in-picture; publickey-credentials-get; screen-wake-lock; serial; usb; web-share; xr-spatial-tracking\"></iframe> "
      ],
      "text/plain": [
       "<IPython.core.display.HTML object>"
      ]
     },
     "metadata": {},
     "output_type": "display_data"
    }
   ],
   "source": [
    "#| eval: false\n",
    "#| output: false\n",
    "test_func = test_fab_flower_fasthtml_examples\n",
    "app, rt = create_test_app(theme=DaisyUITheme.LIGHT)\n",
    "\n",
    "@rt\n",
    "def index():\n",
    "    return create_test_page(test_func.__doc__.title().replace('.', ''), test_func())\n",
    "server = start_test_server(app)\n",
    "display(HTMX())\n",
    "server.stop()"
   ]
  },
  {
   "cell_type": "code",
   "execution_count": null,
   "id": "d4998bc4-7988-4751-bc5a-fc07e3458559",
   "metadata": {},
   "outputs": [
    {
     "data": {
      "text/markdown": [
       "```html\n",
       "<div class=\"min-h-50\">\n",
       "  <div class=\"fab fab-flower\">\n",
       "    <div tabindex=\"0\" role=\"button\" class=\"btn btn-lg btn-circle\">\n",
       "<svg xmlns=\"http://www.w3.org/2000/svg\" viewbox=\"0 0 16 16\" aria-label=\"New\" fill=\"currentColor\" class=\"size-6\"><path d=\"M8.75 3.75a.75.75 0 0 0-1.5 0v3.5h-3.5a.75.75 0 0 0 0 1.5h3.5v3.5a.75.75 0 0 0 1.5 0v-3.5h3.5a.75.75 0 0 0 0-1.5h-3.5v-3.5Z\"></path></svg>    </div>\n",
       "<button class=\"fab-main-action btn btn-lg btn-circle btn-primary\"><svg xmlns=\"http://www.w3.org/2000/svg\" viewbox=\"0 0 16 16\" aria-label=\"New post\" fill=\"currentColor\" class=\"size-6\"><path d=\"M11.013 2.513a1.75 1.75 0 0 1 2.475 2.474L6.226 12.25a2.751 2.751 0 0 1-.892.596l-2.047.848a.75.75 0 0 1-.98-.98l.848-2.047a2.75 2.75 0 0 1 .596-.892l7.262-7.261Z\" fill-rule=\"evenodd\" clip-rule=\"evenodd\"></path></svg></button><button class=\"btn btn-lg btn-circle\"><svg xmlns=\"http://www.w3.org/2000/svg\" viewbox=\"0 0 16 16\" aria-label=\"New camera photo\" fill=\"currentColor\" class=\"size-6\"><path d=\"M9.5 8.5a1.5 1.5 0 1 1-3 0 1.5 1.5 0 0 1 3 0Z\"></path><path d=\"M2.5 5A1.5 1.5 0 0 0 1 6.5v5A1.5 1.5 0 0 0 2.5 13h11a1.5 1.5 0 0 0 1.5-1.5v-5A1.5 1.5 0 0 0 13.5 5h-.879a1.5 1.5 0 0 1-1.06-.44l-1.122-1.12A1.5 1.5 0 0 0 9.38 3H6.62a1.5 1.5 0 0 0-1.06.44L4.439 4.56A1.5 1.5 0 0 1 3.38 5H2.5ZM11 8.5a3 3 0 1 1-6 0 3 3 0 0 1 6 0Z\" fill-rule=\"evenodd\" clip-rule=\"evenodd\"></path></svg></button><button class=\"btn btn-lg btn-circle\"><svg xmlns=\"http://www.w3.org/2000/svg\" viewbox=\"0 0 16 16\" aria-label=\"New poll\" fill=\"currentColor\" class=\"size-6\"><path d=\"M3 4.75a1 1 0 1 0 0-2 1 1 0 0 0 0 2ZM6.25 3a.75.75 0 0 0 0 1.5h7a.75.75 0 0 0 0-1.5h-7ZM6.25 7.25a.75.75 0 0 0 0 1.5h7a.75.75 0 0 0 0-1.5h-7ZM6.25 11.5a.75.75 0 0 0 0 1.5h7a.75.75 0 0 0 0-1.5h-7ZM4 12.25a1 1 0 1 1-2 0 1 1 0 0 1 2 0ZM3 9a1 1 0 1 0 0-2 1 1 0 0 0 0 2Z\"></path></svg></button><button class=\"btn btn-lg btn-circle\"><svg xmlns=\"http://www.w3.org/2000/svg\" viewbox=\"0 0 16 16\" aria-label=\"New gallery photo\" fill=\"currentColor\" class=\"size-6\"><path d=\"M2 4a2 2 0 0 1 2-2h8a2 2 0 0 1 2 2v8a2 2 0 0 1-2 2H4a2 2 0 0 1-2-2V4Zm10.5 5.707a.5.5 0 0 0-.146-.353l-1-1a.5.5 0 0 0-.708 0L9.354 9.646a.5.5 0 0 1-.708 0L6.354 7.354a.5.5 0 0 0-.708 0l-2 2a.5.5 0 0 0-.146.353V12a.5.5 0 0 0 .5.5h8a.5.5 0 0 0 .5-.5V9.707ZM12 5a1 1 0 1 1-2 0 1 1 0 0 1 2 0Z\" fill-rule=\"evenodd\" clip-rule=\"evenodd\"></path></svg></button><button class=\"btn btn-lg btn-circle\"><svg xmlns=\"http://www.w3.org/2000/svg\" viewbox=\"0 0 16 16\" aria-label=\"New voice\" fill=\"currentColor\" class=\"size-6\"><path d=\"M8 1a2 2 0 0 0-2 2v4a2 2 0 1 0 4 0V3a2 2 0 0 0-2-2Z\"></path><path d=\"M4.5 7A.75.75 0 0 0 3 7a5.001 5.001 0 0 0 4.25 4.944V13.5h-1.5a.75.75 0 0 0 0 1.5h4.5a.75.75 0 0 0 0-1.5h-1.5v-1.556A5.001 5.001 0 0 0 13 7a.75.75 0 0 0-1.5 0 3.5 3.5 0 1 1-7 0Z\"></path></svg></button>  </div>\n",
       "</div>\n",
       "\n",
       "```"
      ],
      "text/plain": [
       "div((div((div((svg((path((),{'d': 'M8.75 3.75a.75.75 0 0 0-1.5 0v3.5h-3.5a.75.75 0 0 0 0 1.5h3.5v3.5a.75.75 0 0 0 1.5 0v-3.5h3.5a.75.75 0 0 0 0-1.5h-3.5v-3.5Z'}),),{'xmlns': 'http://www.w3.org/2000/svg', 'viewbox': '0 0 16 16', 'aria-label': 'New', 'fill': 'currentColor', 'class': 'size-6'}),),{'tabindex': '0', 'role': 'button', 'class': 'btn btn-lg btn-circle'}), button((svg((path((),{'d': 'M11.013 2.513a1.75 1.75 0 0 1 2.475 2.474L6.226 12.25a2.751 2.751 0 0 1-.892.596l-2.047.848a.75.75 0 0 1-.98-.98l.848-2.047a2.75 2.75 0 0 1 .596-.892l7.262-7.261Z', 'fill-rule': 'evenodd', 'clip-rule': 'evenodd'}),),{'xmlns': 'http://www.w3.org/2000/svg', 'viewbox': '0 0 16 16', 'aria-label': 'New post', 'fill': 'currentColor', 'class': 'size-6'}),),{'class': 'fab-main-action btn btn-lg btn-circle btn-primary'}), button((svg((path((),{'d': 'M9.5 8.5a1.5 1.5 0 1 1-3 0 1.5 1.5 0 0 1 3 0Z'}), path((),{'d': 'M2.5 5A1.5 1.5 0 0 0 1 6.5v5A1.5 1.5 0 0 0 2.5 13h11a1.5 1.5 0 0 0 1.5-1.5v-5A1.5 1.5 0 0 0 13.5 5h-.879a1.5 1.5 0 0 1-1.06-.44l-1.122-1.12A1.5 1.5 0 0 0 9.38 3H6.62a1.5 1.5 0 0 0-1.06.44L4.439 4.56A1.5 1.5 0 0 1 3.38 5H2.5ZM11 8.5a3 3 0 1 1-6 0 3 3 0 0 1 6 0Z', 'fill-rule': 'evenodd', 'clip-rule': 'evenodd'})),{'xmlns': 'http://www.w3.org/2000/svg', 'viewbox': '0 0 16 16', 'aria-label': 'New camera photo', 'fill': 'currentColor', 'class': 'size-6'}),),{'class': 'btn btn-lg btn-circle'}), button((svg((path((),{'d': 'M3 4.75a1 1 0 1 0 0-2 1 1 0 0 0 0 2ZM6.25 3a.75.75 0 0 0 0 1.5h7a.75.75 0 0 0 0-1.5h-7ZM6.25 7.25a.75.75 0 0 0 0 1.5h7a.75.75 0 0 0 0-1.5h-7ZM6.25 11.5a.75.75 0 0 0 0 1.5h7a.75.75 0 0 0 0-1.5h-7ZM4 12.25a1 1 0 1 1-2 0 1 1 0 0 1 2 0ZM3 9a1 1 0 1 0 0-2 1 1 0 0 0 0 2Z'}),),{'xmlns': 'http://www.w3.org/2000/svg', 'viewbox': '0 0 16 16', 'aria-label': 'New poll', 'fill': 'currentColor', 'class': 'size-6'}),),{'class': 'btn btn-lg btn-circle'}), button((svg((path((),{'d': 'M2 4a2 2 0 0 1 2-2h8a2 2 0 0 1 2 2v8a2 2 0 0 1-2 2H4a2 2 0 0 1-2-2V4Zm10.5 5.707a.5.5 0 0 0-.146-.353l-1-1a.5.5 0 0 0-.708 0L9.354 9.646a.5.5 0 0 1-.708 0L6.354 7.354a.5.5 0 0 0-.708 0l-2 2a.5.5 0 0 0-.146.353V12a.5.5 0 0 0 .5.5h8a.5.5 0 0 0 .5-.5V9.707ZM12 5a1 1 0 1 1-2 0 1 1 0 0 1 2 0Z', 'fill-rule': 'evenodd', 'clip-rule': 'evenodd'}),),{'xmlns': 'http://www.w3.org/2000/svg', 'viewbox': '0 0 16 16', 'aria-label': 'New gallery photo', 'fill': 'currentColor', 'class': 'size-6'}),),{'class': 'btn btn-lg btn-circle'}), button((svg((path((),{'d': 'M8 1a2 2 0 0 0-2 2v4a2 2 0 1 0 4 0V3a2 2 0 0 0-2-2Z'}), path((),{'d': 'M4.5 7A.75.75 0 0 0 3 7a5.001 5.001 0 0 0 4.25 4.944V13.5h-1.5a.75.75 0 0 0 0 1.5h4.5a.75.75 0 0 0 0-1.5h-1.5v-1.556A5.001 5.001 0 0 0 13 7a.75.75 0 0 0-1.5 0 3.5 3.5 0 1 1-7 0Z'})),{'xmlns': 'http://www.w3.org/2000/svg', 'viewbox': '0 0 16 16', 'aria-label': 'New voice', 'fill': 'currentColor', 'class': 'size-6'}),),{'class': 'btn btn-lg btn-circle'})),{'class': 'fab fab-flower'}),),{'class': 'min-h-50'})"
      ]
     },
     "execution_count": null,
     "metadata": {},
     "output_type": "execute_result"
    }
   ],
   "source": [
    "#|exports\n",
    "def test_fab_flower_with_svgs_fasthtml_examples():\n",
    "    \"\"\"Test FAB flower modifier with SVG icons from daisyUI v5 documentation.\"\"\"\n",
    "    from fasthtml.common import Button, A, Input, Div\n",
    "    from cjm_fasthtml_daisyui.components.actions.button import btn, btn_sizes, btn_modifiers, btn_colors\n",
    "    from cjm_fasthtml_tailwind.utilities.sizing import min_h\n",
    "\n",
    "    from fasthtml.svg import Svg, Path\n",
    "    \n",
    "    # 1. Plus/New icon (main FAB trigger button)\n",
    "    plus_icon_filled = Svg(\n",
    "        Path(\n",
    "            d=\"M8.75 3.75a.75.75 0 0 0-1.5 0v3.5h-3.5a.75.75 0 0 0 0 1.5h3.5v3.5a.75.75 0 0 0 1.5 0v-3.5h3.5a.75.75 0 0 0 0-1.5h-3.5v-3.5Z\"\n",
    "        ),\n",
    "        aria_label=\"New\",\n",
    "        xmlns=\"http://www.w3.org/2000/svg\",\n",
    "        viewBox=\"0 0 16 16\",\n",
    "        fill=\"currentColor\",\n",
    "        cls=\"size-6\"\n",
    "    )\n",
    "    \n",
    "    # 2. Pencil/Edit icon (main action button when FAB is open)\n",
    "    pencil_icon = Svg(\n",
    "        Path(\n",
    "            fill_rule=\"evenodd\",\n",
    "            d=\"M11.013 2.513a1.75 1.75 0 0 1 2.475 2.474L6.226 12.25a2.751 2.751 0 0 1-.892.596l-2.047.848a.75.75 0 0 1-.98-.98l.848-2.047a2.75 2.75 0 0 1 .596-.892l7.262-7.261Z\",\n",
    "            clip_rule=\"evenodd\"\n",
    "        ),\n",
    "        aria_label=\"New post\",\n",
    "        xmlns=\"http://www.w3.org/2000/svg\",\n",
    "        viewBox=\"0 0 16 16\",\n",
    "        fill=\"currentColor\",\n",
    "        cls=\"size-6\"\n",
    "    )\n",
    "    \n",
    "    # 3. Camera icon (filled version)\n",
    "    camera_icon_filled = Svg(\n",
    "        Path(d=\"M9.5 8.5a1.5 1.5 0 1 1-3 0 1.5 1.5 0 0 1 3 0Z\"),\n",
    "        Path(\n",
    "            fill_rule=\"evenodd\",\n",
    "            d=\"M2.5 5A1.5 1.5 0 0 0 1 6.5v5A1.5 1.5 0 0 0 2.5 13h11a1.5 1.5 0 0 0 1.5-1.5v-5A1.5 1.5 0 0 0 13.5 5h-.879a1.5 1.5 0 0 1-1.06-.44l-1.122-1.12A1.5 1.5 0 0 0 9.38 3H6.62a1.5 1.5 0 0 0-1.06.44L4.439 4.56A1.5 1.5 0 0 1 3.38 5H2.5ZM11 8.5a3 3 0 1 1-6 0 3 3 0 0 1 6 0Z\",\n",
    "            clip_rule=\"evenodd\"\n",
    "        ),\n",
    "        aria_label=\"New camera photo\",\n",
    "        xmlns=\"http://www.w3.org/2000/svg\",\n",
    "        viewBox=\"0 0 16 16\",\n",
    "        fill=\"currentColor\",\n",
    "        cls=\"size-6\"\n",
    "    )\n",
    "    \n",
    "    # 4. Poll/List icon\n",
    "    poll_icon = Svg(\n",
    "        Path(\n",
    "            d=\"M3 4.75a1 1 0 1 0 0-2 1 1 0 0 0 0 2ZM6.25 3a.75.75 0 0 0 0 1.5h7a.75.75 0 0 0 0-1.5h-7ZM6.25 7.25a.75.75 0 0 0 0 1.5h7a.75.75 0 0 0 0-1.5h-7ZM6.25 11.5a.75.75 0 0 0 0 1.5h7a.75.75 0 0 0 0-1.5h-7ZM4 12.25a1 1 0 1 1-2 0 1 1 0 0 1 2 0ZM3 9a1 1 0 1 0 0-2 1 1 0 0 0 0 2Z\"\n",
    "        ),\n",
    "        aria_label=\"New poll\",\n",
    "        xmlns=\"http://www.w3.org/2000/svg\",\n",
    "        viewBox=\"0 0 16 16\",\n",
    "        fill=\"currentColor\",\n",
    "        cls=\"size-6\"\n",
    "    )\n",
    "    \n",
    "    # 5. Gallery/Image icon (filled version)\n",
    "    gallery_icon_filled = Svg(\n",
    "        Path(\n",
    "            fill_rule=\"evenodd\",\n",
    "            d=\"M2 4a2 2 0 0 1 2-2h8a2 2 0 0 1 2 2v8a2 2 0 0 1-2 2H4a2 2 0 0 1-2-2V4Zm10.5 5.707a.5.5 0 0 0-.146-.353l-1-1a.5.5 0 0 0-.708 0L9.354 9.646a.5.5 0 0 1-.708 0L6.354 7.354a.5.5 0 0 0-.708 0l-2 2a.5.5 0 0 0-.146.353V12a.5.5 0 0 0 .5.5h8a.5.5 0 0 0 .5-.5V9.707ZM12 5a1 1 0 1 1-2 0 1 1 0 0 1 2 0Z\",\n",
    "            clip_rule=\"evenodd\"\n",
    "        ),\n",
    "        aria_label=\"New gallery photo\",\n",
    "        xmlns=\"http://www.w3.org/2000/svg\",\n",
    "        viewBox=\"0 0 16 16\",\n",
    "        fill=\"currentColor\",\n",
    "        cls=\"size-6\"\n",
    "    )\n",
    "    \n",
    "    # 6. Microphone/Voice icon (filled version)\n",
    "    voice_icon_filled = Svg(\n",
    "        Path(d=\"M8 1a2 2 0 0 0-2 2v4a2 2 0 1 0 4 0V3a2 2 0 0 0-2-2Z\"),\n",
    "        Path(\n",
    "            d=\"M4.5 7A.75.75 0 0 0 3 7a5.001 5.001 0 0 0 4.25 4.944V13.5h-1.5a.75.75 0 0 0 0 1.5h4.5a.75.75 0 0 0 0-1.5h-1.5v-1.556A5.001 5.001 0 0 0 13 7a.75.75 0 0 0-1.5 0 3.5 3.5 0 1 1-7 0Z\"\n",
    "        ),\n",
    "        aria_label=\"New voice\",\n",
    "        xmlns=\"http://www.w3.org/2000/svg\",\n",
    "        viewBox=\"0 0 16 16\",\n",
    "        fill=\"currentColor\",\n",
    "        cls=\"size-6\"\n",
    "    )\n",
    "\n",
    "    vertical_fab = Div(\n",
    "        Div(plus_icon_filled, tabindex=\"0\", role=\"button\", cls=combine_classes(btn, btn_sizes.lg, btn_modifiers.circle)),\n",
    "        Button(pencil_icon, cls=combine_classes(fab_main_action, btn, btn_sizes.lg, btn_modifiers.circle, btn_colors.primary)),\n",
    "        Button(camera_icon_filled, cls=combine_classes(btn, btn_sizes.lg, btn_modifiers.circle)),\n",
    "        Button(poll_icon, cls=combine_classes(btn, btn_sizes.lg, btn_modifiers.circle)),\n",
    "        Button(gallery_icon_filled, cls=combine_classes(btn, btn_sizes.lg, btn_modifiers.circle)),\n",
    "        Button(voice_icon_filled, cls=combine_classes(btn, btn_sizes.lg, btn_modifiers.circle)),\n",
    "        cls=combine_classes(fab, fab_modifiers.flower)\n",
    "    )\n",
    "    assert \"fab\" in vertical_fab.attrs['class']\n",
    "    assert \"fab-flower\" in vertical_fab.attrs['class']\n",
    "    \n",
    "    \n",
    "    # Return all elements in a Div\n",
    "    return Div(\n",
    "        vertical_fab,\n",
    "        cls=combine_classes(min_h(50))\n",
    "    )\n",
    "\n",
    "# Run the tests\n",
    "test_fab_flower_with_svgs_fasthtml_examples()"
   ]
  },
  {
   "cell_type": "code",
   "execution_count": null,
   "id": "f9bcf1a5-83a6-4c67-8af0-292632accdb7",
   "metadata": {},
   "outputs": [
    {
     "data": {
      "text/html": [
       "\n",
       "<script>\n",
       "document.body.addEventListener('htmx:configRequest', (event) => {\n",
       "    if(event.detail.path.includes('://')) return;\n",
       "    htmx.config.selfRequestsOnly=false;\n",
       "    event.detail.path = `${location.protocol}//${location.hostname}:8000${event.detail.path}`;\n",
       "});\n",
       "</script>"
      ],
      "text/plain": [
       "<IPython.core.display.HTML object>"
      ]
     },
     "metadata": {},
     "output_type": "display_data"
    },
    {
     "data": {
      "text/html": [
       "<iframe src=\"http://localhost:8000/\" style=\"width: 100%; height: auto; border: none;\" onload=\"{\n",
       "        let frame = this;\n",
       "        window.addEventListener('message', function(e) {\n",
       "            if (e.source !== frame.contentWindow) return; // Only proceed if the message is from this iframe\n",
       "            if (e.data.height) frame.style.height = (e.data.height+1) + 'px';\n",
       "        }, false);\n",
       "    }\" allow=\"accelerometer; autoplay; camera; clipboard-read; clipboard-write; display-capture; encrypted-media; fullscreen; gamepad; geolocation; gyroscope; hid; identity-credentials-get; idle-detection; magnetometer; microphone; midi; payment; picture-in-picture; publickey-credentials-get; screen-wake-lock; serial; usb; web-share; xr-spatial-tracking\"></iframe> "
      ],
      "text/plain": [
       "<IPython.core.display.HTML object>"
      ]
     },
     "metadata": {},
     "output_type": "display_data"
    }
   ],
   "source": [
    "#| eval: false\n",
    "#| output: false\n",
    "test_func = test_fab_flower_with_svgs_fasthtml_examples\n",
    "app, rt = create_test_app(theme=DaisyUITheme.LIGHT)\n",
    "\n",
    "@rt\n",
    "def index():\n",
    "    return create_test_page(test_func.__doc__.title().replace('.', ''), test_func())\n",
    "server = start_test_server(app)\n",
    "display(HTMX())\n",
    "server.stop()"
   ]
  },
  {
   "cell_type": "code",
   "execution_count": null,
   "id": "ca82986b-18bc-4fda-8a1e-ec91381e0aa7",
   "metadata": {},
   "outputs": [
    {
     "data": {
      "text/markdown": [
       "```html\n",
       "<div class=\"min-h-50\">\n",
       "  <div class=\"fab fab-flower\">\n",
       "    <div tabindex=\"0\" role=\"button\" class=\"btn btn-lg btn-circle btn-success\">F</div>\n",
       "<button class=\"fab-main-action btn btn-lg btn-circle\">M</button><button class=\"btn btn-lg btn-circle\">A</button><button class=\"btn btn-lg btn-circle\">B</button><button class=\"btn btn-lg btn-circle\">C</button><button class=\"btn btn-lg btn-circle\">D</button>  </div>\n",
       "</div>\n",
       "\n",
       "```"
      ],
      "text/plain": [
       "div((div((div(('F',),{'tabindex': '0', 'role': 'button', 'class': 'btn btn-lg btn-circle btn-success'}), button(('M',),{'class': 'fab-main-action btn btn-lg btn-circle'}), button(('A',),{'class': 'btn btn-lg btn-circle'}), button(('B',),{'class': 'btn btn-lg btn-circle'}), button(('C',),{'class': 'btn btn-lg btn-circle'}), button(('D',),{'class': 'btn btn-lg btn-circle'})),{'class': 'fab fab-flower'}),),{'class': 'min-h-50'})"
      ]
     },
     "execution_count": null,
     "metadata": {},
     "output_type": "execute_result"
    }
   ],
   "source": [
    "#|exports\n",
    "def test_fab_flower_with_tooltip_fasthtml_examples():\n",
    "    \"\"\"Test FAB flower modifier with tooltip from daisyUI v5 documentation.\"\"\"\n",
    "    from fasthtml.common import Button, A, Input, Div\n",
    "    from cjm_fasthtml_daisyui.components.actions.button import btn, btn_sizes, btn_modifiers, btn_colors\n",
    "    from cjm_fasthtml_daisyui.components.feedback.tooltip import tooltip, tooltip_placement\n",
    "    from cjm_fasthtml_tailwind.utilities.sizing import min_h\n",
    "\n",
    "    vertical_fab = Div(\n",
    "        Div(\"F\", tabindex=\"0\", role=\"button\", cls=combine_classes(btn, btn_sizes.lg, btn_modifiers.circle, btn_colors.info)),\n",
    "        Button(\"M\", cls=combine_classes(fab_main_action, btn, btn_sizes.lg, btn_modifiers.circle, btn_colors.success)),\n",
    "        Div(Button(\"A\", cls=combine_classes(btn, btn_sizes.lg, btn_modifiers.circle)), cls=combine_classes(tooltip, tooltip_placement.left), data_tip=\"Label A\"),\n",
    "        Div(Button(\"B\", cls=combine_classes(btn, btn_sizes.lg, btn_modifiers.circle)), cls=combine_classes(tooltip, tooltip_placement.left), data_tip=\"Label B\"),\n",
    "        Div(Button(\"C\", cls=combine_classes(btn, btn_sizes.lg, btn_modifiers.circle)), cls=combine_classes(tooltip), data_tip=\"Label C\"),\n",
    "        Div(Button(\"D\", cls=combine_classes(btn, btn_sizes.lg, btn_modifiers.circle)), cls=combine_classes(tooltip), data_tip=\"Label D\"),\n",
    "        cls=combine_classes(fab, fab_modifiers.flower)\n",
    "    )\n",
    "    assert \"fab\" in vertical_fab.attrs['class']\n",
    "    assert \"fab-flower\" in vertical_fab.attrs['class']\n",
    "    \n",
    "    \n",
    "    # Return all elements in a Div\n",
    "    return Div(\n",
    "        vertical_fab,\n",
    "        cls=combine_classes(min_h(50))\n",
    "    )\n",
    "\n",
    "# Run the tests\n",
    "test_fab_flower_fasthtml_examples()"
   ]
  },
  {
   "cell_type": "code",
   "execution_count": null,
   "id": "e1b3d281-39d0-47ac-ac65-9b0404ffedc8",
   "metadata": {},
   "outputs": [
    {
     "data": {
      "text/html": [
       "\n",
       "<script>\n",
       "document.body.addEventListener('htmx:configRequest', (event) => {\n",
       "    if(event.detail.path.includes('://')) return;\n",
       "    htmx.config.selfRequestsOnly=false;\n",
       "    event.detail.path = `${location.protocol}//${location.hostname}:8000${event.detail.path}`;\n",
       "});\n",
       "</script>"
      ],
      "text/plain": [
       "<IPython.core.display.HTML object>"
      ]
     },
     "metadata": {},
     "output_type": "display_data"
    },
    {
     "data": {
      "text/html": [
       "<iframe src=\"http://localhost:8000/\" style=\"width: 100%; height: auto; border: none;\" onload=\"{\n",
       "        let frame = this;\n",
       "        window.addEventListener('message', function(e) {\n",
       "            if (e.source !== frame.contentWindow) return; // Only proceed if the message is from this iframe\n",
       "            if (e.data.height) frame.style.height = (e.data.height+1) + 'px';\n",
       "        }, false);\n",
       "    }\" allow=\"accelerometer; autoplay; camera; clipboard-read; clipboard-write; display-capture; encrypted-media; fullscreen; gamepad; geolocation; gyroscope; hid; identity-credentials-get; idle-detection; magnetometer; microphone; midi; payment; picture-in-picture; publickey-credentials-get; screen-wake-lock; serial; usb; web-share; xr-spatial-tracking\"></iframe> "
      ],
      "text/plain": [
       "<IPython.core.display.HTML object>"
      ]
     },
     "metadata": {},
     "output_type": "display_data"
    }
   ],
   "source": [
    "#| eval: false\n",
    "#| output: false\n",
    "test_func = test_fab_flower_with_tooltip_fasthtml_examples\n",
    "app, rt = create_test_app(theme=DaisyUITheme.LIGHT)\n",
    "\n",
    "@rt\n",
    "def index():\n",
    "    return create_test_page(test_func.__doc__.title().replace('.', ''), test_func())\n",
    "server = start_test_server(app)\n",
    "display(HTMX())\n",
    "server.stop()"
   ]
  },
  {
   "cell_type": "code",
   "execution_count": null,
   "id": "c0000ef3-cec6-474f-8d2a-3b6dd9629f9e",
   "metadata": {},
   "outputs": [],
   "source": []
  },
  {
   "cell_type": "code",
   "execution_count": null,
   "id": "a073bf04-e344-43ea-a4bb-3ee8fc160452",
   "metadata": {},
   "outputs": [],
   "source": []
  },
  {
   "cell_type": "code",
   "execution_count": null,
   "id": "56609e45-e788-4b22-86e7-1fa40f33c7a6",
   "metadata": {},
   "outputs": [],
   "source": []
  },
  {
   "cell_type": "code",
   "execution_count": null,
   "id": "7245f68c-907e-4dee-9521-bdc1bc65f9f2",
   "metadata": {},
   "outputs": [],
   "source": []
  },
  {
   "cell_type": "code",
   "execution_count": null,
   "id": "d53cdb68-28af-45cc-9696-a604218202fd",
   "metadata": {},
   "outputs": [],
   "source": []
  },
  {
   "cell_type": "code",
   "execution_count": null,
   "id": "cdb0aeb7-4953-4de0-8143-695528be0900",
   "metadata": {},
   "outputs": [],
   "source": [
    "#| hide\n",
    "import nbdev; nbdev.nbdev_export()"
   ]
  }
 ],
 "metadata": {
  "kernelspec": {
   "display_name": "python3",
   "language": "python",
   "name": "python3"
  }
 },
 "nbformat": 4,
 "nbformat_minor": 5
}
