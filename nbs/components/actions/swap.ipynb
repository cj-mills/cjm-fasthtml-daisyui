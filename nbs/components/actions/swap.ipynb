{
 "cells": [
  {
   "cell_type": "markdown",
   "id": "07e7a0bf-6258-417e-b8a4-a11778d47f5e",
   "metadata": {},
   "source": [
    "# swap\n",
    "\n",
    "> Swap allows you to toggle the visibility of two elements using a checkbox or a class name."
   ]
  },
  {
   "cell_type": "code",
   "execution_count": null,
   "id": "df874ed5-a879-4670-bfc5-82551e4d7659",
   "metadata": {},
   "outputs": [],
   "source": [
    "#| default_exp components.actions.swap"
   ]
  },
  {
   "cell_type": "code",
   "execution_count": null,
   "id": "ae74aa2e-1ea7-4960-922c-cecd88957d63",
   "metadata": {},
   "outputs": [],
   "source": [
    "#| hide\n",
    "from nbdev.showdoc import *"
   ]
  },
  {
   "cell_type": "code",
   "execution_count": null,
   "id": "a9b1699f-0d13-4fbc-82bd-cf2abd66ca88",
   "metadata": {},
   "outputs": [],
   "source": [
    "#| export\n",
    "from typing import Optional, Dict, Any, Union\n",
    "from cjm_fasthtml_tailwind.core.base import (\n",
    "    SingleValueFactory, BaseFactory, combine_classes\n",
    ")\n",
    "from cjm_fasthtml_tailwind.builders.scales import SimpleFactory\n",
    "\n",
    "from fasthtml.jupyter import JupyUvi, HTMX\n",
    "from cjm_fasthtml_daisyui.core.testing import create_test_app, create_test_page, start_test_server\n",
    "\n",
    "from fasthtml.common import Div\n",
    "from cjm_fasthtml_daisyui.core.themes import DaisyUITheme\n",
    "from IPython.display import display"
   ]
  },
  {
   "cell_type": "markdown",
   "id": "34f8e609-9915-4b3a-8668-92b3b606e349",
   "metadata": {},
   "source": [
    "### Base Swap Components"
   ]
  },
  {
   "cell_type": "code",
   "execution_count": null,
   "id": "c51fb674-8744-4d37-a4ec-e3250e67e442",
   "metadata": {},
   "outputs": [],
   "source": [
    "#| exports\n",
    "swap = SingleValueFactory(\"swap\", \"Swap container component\") # Swap container\n",
    "swap_on = SingleValueFactory(\"swap-on\", \"The child element that should be visible when checkbox is checked or when swap is active\") # Swap on state\n",
    "swap_off = SingleValueFactory(\"swap-off\", \"The child element that should be visible when checkbox is not checked or when swap is not active\") # Swap off state\n",
    "swap_indeterminate = SingleValueFactory(\"swap-indeterminate\", \"The child element that should be visible when checkbox is indeterminate\") # Swap indeterminate state"
   ]
  },
  {
   "cell_type": "markdown",
   "id": "31189d9b-8e66-4e90-840e-4d65477892b9",
   "metadata": {},
   "source": [
    "### Swap Styles and State"
   ]
  },
  {
   "cell_type": "code",
   "execution_count": null,
   "id": "e3508ddf-bf90-4534-a80d-65c01f069e66",
   "metadata": {},
   "outputs": [],
   "source": [
    "#| exports\n",
    "swap_styles = SimpleFactory(\n",
    "    {\n",
    "        \"rotate\": \"swap-rotate\",\n",
    "        \"flip\": \"swap-flip\",\n",
    "        \"active\": \"swap-active\"\n",
    "    },\n",
    "    \"Swap animation styles and active state\"\n",
    ") # Swap styles"
   ]
  },
  {
   "cell_type": "markdown",
   "id": "c70d7c33-ad14-4ea0-b0d2-5cbae913660e",
   "metadata": {},
   "source": [
    "### Swap Test Examples"
   ]
  },
  {
   "cell_type": "code",
   "execution_count": null,
   "id": "2f6177ac-4f0b-4d4f-8618-dc424b6153f1",
   "metadata": {},
   "outputs": [],
   "source": [
    "#|exports\n",
    "def test_swap_basic_examples():\n",
    "    \"\"\"Test basic swap utilities.\"\"\"\n",
    "    assert str(swap) == \"swap\"\n",
    "    assert str(swap_on) == \"swap-on\"\n",
    "    assert str(swap_off) == \"swap-off\"\n",
    "    assert str(swap_indeterminate) == \"swap-indeterminate\"\n",
    "    \n",
    "    # With modifiers\n",
    "    assert str(swap.hover) == \"hover:swap\"\n",
    "    assert str(swap_on.md) == \"md:swap-on\"\n",
    "\n",
    "# Run the tests\n",
    "test_swap_basic_examples()"
   ]
  },
  {
   "cell_type": "code",
   "execution_count": null,
   "id": "c218473a-f779-485c-8ffd-50ac7e89c6f2",
   "metadata": {},
   "outputs": [],
   "source": [
    "#|exports\n",
    "def test_swap_styles_examples():\n",
    "    \"\"\"Test swap style utilities.\"\"\"\n",
    "    assert str(swap_styles.rotate) == \"swap-rotate\"\n",
    "    assert str(swap_styles.flip) == \"swap-flip\"\n",
    "    assert str(swap_styles.active) == \"swap-active\"\n",
    "\n",
    "# Run the tests\n",
    "test_swap_styles_examples()"
   ]
  },
  {
   "cell_type": "code",
   "execution_count": null,
   "id": "340a3c71-6275-4805-8788-c5b76d71e8d8",
   "metadata": {},
   "outputs": [
    {
     "data": {
      "text/markdown": [
       "```html\n",
       "<div>\n",
       "<label class=\"swap\">    <input type=\"checkbox\">\n",
       "    <div class=\"swap-on\">ON</div>\n",
       "    <div class=\"swap-off\">OFF</div>\n",
       "</label><label class=\"swap\">    <input type=\"checkbox\">\n",
       "<svg xmlns=\"http://www.w3.org/2000/svg\" viewbox=\"0 0 24 24\" height=\"48\" width=\"48\" class=\"swap-on fill-current\"><path d=\"M14,3.23V5.29C16.89,6.15 19,8.83 19,12C19,15.17 16.89,17.84 14,18.7V20.77C18,19.86 21,16.28 21,12C21,7.72 18,4.14 14,3.23M16.5,12C16.5,10.23 15.5,8.71 14,7.97V16C15.5,15.29 16.5,13.76 16.5,12M3,9V15H7L12,20V4L7,9H3Z\"></path></svg><svg xmlns=\"http://www.w3.org/2000/svg\" viewbox=\"0 0 24 24\" height=\"48\" width=\"48\" class=\"swap-off fill-current\"><path d=\"M3,9H7L12,4V20L7,15H3V9M16.59,12L14,9.41L15.41,8L18,10.59L20.59,8L22,9.41L19.41,12L22,14.59L20.59,16L18,13.41L15.41,16L14,14.59L16.59,12Z\"></path></svg></label></div>\n",
       "\n",
       "```"
      ],
      "text/plain": [
       "div((label((input((),{'type': 'checkbox'}), div(('ON',),{'class': 'swap-on'}), div(('OFF',),{'class': 'swap-off'})),{'class': 'swap'}), label((input((),{'type': 'checkbox'}), svg((path((),{'d': 'M14,3.23V5.29C16.89,6.15 19,8.83 19,12C19,15.17 16.89,17.84 14,18.7V20.77C18,19.86 21,16.28 21,12C21,7.72 18,4.14 14,3.23M16.5,12C16.5,10.23 15.5,8.71 14,7.97V16C15.5,15.29 16.5,13.76 16.5,12M3,9V15H7L12,20V4L7,9H3Z'}),),{'xmlns': 'http://www.w3.org/2000/svg', 'viewbox': '0 0 24 24', 'height': '48', 'width': '48', 'class': 'swap-on fill-current'}), svg((path((),{'d': 'M3,9H7L12,4V20L7,15H3V9M16.59,12L14,9.41L15.41,8L18,10.59L20.59,8L22,9.41L19.41,12L22,14.59L20.59,16L18,13.41L15.41,16L14,14.59L16.59,12Z'}),),{'xmlns': 'http://www.w3.org/2000/svg', 'viewbox': '0 0 24 24', 'height': '48', 'width': '48', 'class': 'swap-off fill-current'})),{'class': 'swap'})),{})"
      ]
     },
     "execution_count": null,
     "metadata": {},
     "output_type": "execute_result"
    }
   ],
   "source": [
    "#|exports\n",
    "def test_swap_basic_fasthtml_examples():\n",
    "    \"\"\"Test basic swap examples including text and icon swaps.\"\"\"\n",
    "    from fasthtml.common import Label, Input, Div\n",
    "    from fasthtml.svg import Svg, Path\n",
    "    from cjm_fasthtml_tailwind.utilities.svg import fill\n",
    "    \n",
    "    # Basic text swap\n",
    "    text_swap = Label(\n",
    "        Input(type=\"checkbox\"),\n",
    "        Div(\"ON\", cls=str(swap_on)),\n",
    "        Div(\"OFF\", cls=str(swap_off)),\n",
    "        cls=str(swap)\n",
    "    )\n",
    "    assert text_swap.tag == \"label\"\n",
    "    assert \"swap\" in text_swap.attrs['class']\n",
    "    assert text_swap.children[0].tag == \"input\"\n",
    "    assert text_swap.children[0].attrs['type'] == \"checkbox\"\n",
    "    assert \"swap-on\" in text_swap.children[1].attrs['class']\n",
    "    assert \"swap-off\" in text_swap.children[2].attrs['class']\n",
    "    \n",
    "    # Swap volume icons\n",
    "    volume_on_svg = Svg(\n",
    "        Path(\n",
    "            d=\"M14,3.23V5.29C16.89,6.15 19,8.83 19,12C19,15.17 16.89,17.84 14,18.7V20.77C18,19.86 21,16.28 21,12C21,7.72 18,4.14 14,3.23M16.5,12C16.5,10.23 15.5,8.71 14,7.97V16C15.5,15.29 16.5,13.76 16.5,12M3,9V15H7L12,20V4L7,9H3Z\"\n",
    "        ),\n",
    "        cls=combine_classes(swap_on, fill.current),\n",
    "        xmlns=\"http://www.w3.org/2000/svg\",\n",
    "        width=\"48\",\n",
    "        height=\"48\",\n",
    "        viewBox=\"0 0 24 24\"\n",
    "    )\n",
    "    \n",
    "    volume_off_svg = Svg(\n",
    "        Path(\n",
    "            d=\"M3,9H7L12,4V20L7,15H3V9M16.59,12L14,9.41L15.41,8L18,10.59L20.59,8L22,9.41L19.41,12L22,14.59L20.59,16L18,13.41L15.41,16L14,14.59L16.59,12Z\"\n",
    "        ),\n",
    "        cls=combine_classes(swap_off, fill.current),\n",
    "        xmlns=\"http://www.w3.org/2000/svg\",\n",
    "        width=\"48\",\n",
    "        height=\"48\",\n",
    "        viewBox=\"0 0 24 24\"\n",
    "    )\n",
    "    \n",
    "    volume_swap = Label(\n",
    "        Input(type=\"checkbox\"),\n",
    "        volume_on_svg,\n",
    "        volume_off_svg,\n",
    "        cls=str(swap)\n",
    "    )\n",
    "    assert len(volume_swap.children) == 3\n",
    "    assert volume_swap.children[0].tag == \"input\"\n",
    "    assert volume_swap.children[1].tag == \"svg\"\n",
    "    assert volume_swap.children[2].tag == \"svg\"\n",
    "    assert \"swap-on\" in volume_swap.children[1].attrs['class']\n",
    "    assert \"swap-off\" in volume_swap.children[2].attrs['class']\n",
    "    assert \"fill-current\" in volume_swap.children[1].attrs['class']\n",
    "    assert \"fill-current\" in volume_swap.children[2].attrs['class']\n",
    "    \n",
    "    # Return all elements in a Div\n",
    "    return Div(\n",
    "        text_swap,\n",
    "        volume_swap\n",
    "    )\n",
    "\n",
    "# Run the tests\n",
    "test_swap_basic_fasthtml_examples()"
   ]
  },
  {
   "cell_type": "code",
   "execution_count": null,
   "id": "b9cf66c8-791e-47d8-b540-273c34728b06",
   "metadata": {},
   "outputs": [
    {
     "data": {
      "text/html": [
       "\n",
       "<script>\n",
       "document.body.addEventListener('htmx:configRequest', (event) => {\n",
       "    if(event.detail.path.includes('://')) return;\n",
       "    htmx.config.selfRequestsOnly=false;\n",
       "    event.detail.path = `${location.protocol}//${location.hostname}:8000${event.detail.path}`;\n",
       "});\n",
       "</script>"
      ],
      "text/plain": [
       "<IPython.core.display.HTML object>"
      ]
     },
     "metadata": {},
     "output_type": "display_data"
    },
    {
     "data": {
      "text/html": [
       "<iframe src=\"http://localhost:8000/\" style=\"width: 100%; height: auto; border: none;\" onload=\"{\n",
       "        let frame = this;\n",
       "        window.addEventListener('message', function(e) {\n",
       "            if (e.source !== frame.contentWindow) return; // Only proceed if the message is from this iframe\n",
       "            if (e.data.height) frame.style.height = (e.data.height+1) + 'px';\n",
       "        }, false);\n",
       "    }\" allow=\"accelerometer; autoplay; camera; clipboard-read; clipboard-write; display-capture; encrypted-media; fullscreen; gamepad; geolocation; gyroscope; hid; identity-credentials-get; idle-detection; magnetometer; microphone; midi; payment; picture-in-picture; publickey-credentials-get; screen-wake-lock; serial; usb; web-share; xr-spatial-tracking\"></iframe> "
      ],
      "text/plain": [
       "<IPython.core.display.HTML object>"
      ]
     },
     "metadata": {},
     "output_type": "display_data"
    }
   ],
   "source": [
    "#| eval: false\n",
    "#| output: false\n",
    "test_func = test_swap_basic_fasthtml_examples\n",
    "app, rt = create_test_app(theme=DaisyUITheme.LIGHT)\n",
    "\n",
    "@rt\n",
    "def index():\n",
    "    return create_test_page(test_func.__doc__.title().replace('.', ''), test_func())\n",
    "server = start_test_server(app)\n",
    "display(HTMX())\n",
    "server.stop()"
   ]
  },
  {
   "cell_type": "code",
   "execution_count": null,
   "id": "btqb5ypbbxv",
   "metadata": {},
   "outputs": [
    {
     "data": {
      "text/markdown": [
       "```html\n",
       "<div>\n",
       "<label class=\"swap swap-rotate\">    <input type=\"checkbox\">\n",
       "<svg xmlns=\"http://www.w3.org/2000/svg\" viewbox=\"0 0 24 24\" class=\"swap-on h-10 w-10 fill-current\"><path d=\"M5.64,17l-.71.71a1,1,0,0,0,0,1.41,1,1,0,0,0,1.41,0l.71-.71A1,1,0,0,0,5.64,17ZM5,12a1,1,0,0,0-1-1H3a1,1,0,0,0,0,2H4A1,1,0,0,0,5,12Zm7-7a1,1,0,0,0,1-1V3a1,1,0,0,0-2,0V4A1,1,0,0,0,12,5ZM5.64,7.05a1,1,0,0,0,.7.29,1,1,0,0,0,.71-.29,1,1,0,0,0,0-1.41l-.71-.71A1,1,0,0,0,4.93,6.34Zm12,.29a1,1,0,0,0,.7-.29l.71-.71a1,1,0,1,0-1.41-1.41L17,5.64a1,1,0,0,0,0,1.41A1,1,0,0,0,17.66,7.34ZM21,11H20a1,1,0,0,0,0,2h1a1,1,0,0,0,0-2Zm-9,8a1,1,0,0,0-1,1v1a1,1,0,0,0,2,0V20A1,1,0,0,0,12,19ZM18.36,17A1,1,0,0,0,17,18.36l.71.71a1,1,0,0,0,1.41,0,1,1,0,0,0,0-1.41ZM12,6.5A5.5,5.5,0,1,0,17.5,12,5.51,5.51,0,0,0,12,6.5Zm0,9A3.5,3.5,0,1,1,15.5,12,3.5,3.5,0,0,1,12,15.5Z\"></path></svg><svg xmlns=\"http://www.w3.org/2000/svg\" viewbox=\"0 0 24 24\" class=\"swap-off h-10 w-10 fill-current\"><path d=\"M21.64,13a1,1,0,0,0-1.05-.14,8.05,8.05,0,0,1-3.37.73A8.15,8.15,0,0,1,9.08,5.49a8.59,8.59,0,0,1,.25-2A1,1,0,0,0,8,2.36,10.14,10.14,0,1,0,22,14.05,1,1,0,0,0,21.64,13Zm-9.5,6.69A8.14,8.14,0,0,1,7.08,5.22v.27A10.15,10.15,0,0,0,17.22,15.63a9.79,9.79,0,0,0,2.1-.22A8.11,8.11,0,0,1,12.14,19.73Z\"></path></svg></label><label class=\"swap swap-flip text-9xl\">    <input type=\"checkbox\">\n",
       "    <div class=\"swap-on\">😈</div>\n",
       "    <div class=\"swap-off\">😇</div>\n",
       "</label></div>\n",
       "\n",
       "```"
      ],
      "text/plain": [
       "div((label((input((),{'type': 'checkbox'}), svg((path((),{'d': 'M5.64,17l-.71.71a1,1,0,0,0,0,1.41,1,1,0,0,0,1.41,0l.71-.71A1,1,0,0,0,5.64,17ZM5,12a1,1,0,0,0-1-1H3a1,1,0,0,0,0,2H4A1,1,0,0,0,5,12Zm7-7a1,1,0,0,0,1-1V3a1,1,0,0,0-2,0V4A1,1,0,0,0,12,5ZM5.64,7.05a1,1,0,0,0,.7.29,1,1,0,0,0,.71-.29,1,1,0,0,0,0-1.41l-.71-.71A1,1,0,0,0,4.93,6.34Zm12,.29a1,1,0,0,0,.7-.29l.71-.71a1,1,0,1,0-1.41-1.41L17,5.64a1,1,0,0,0,0,1.41A1,1,0,0,0,17.66,7.34ZM21,11H20a1,1,0,0,0,0,2h1a1,1,0,0,0,0-2Zm-9,8a1,1,0,0,0-1,1v1a1,1,0,0,0,2,0V20A1,1,0,0,0,12,19ZM18.36,17A1,1,0,0,0,17,18.36l.71.71a1,1,0,0,0,1.41,0,1,1,0,0,0,0-1.41ZM12,6.5A5.5,5.5,0,1,0,17.5,12,5.51,5.51,0,0,0,12,6.5Zm0,9A3.5,3.5,0,1,1,15.5,12,3.5,3.5,0,0,1,12,15.5Z'}),),{'xmlns': 'http://www.w3.org/2000/svg', 'viewbox': '0 0 24 24', 'class': 'swap-on h-10 w-10 fill-current'}), svg((path((),{'d': 'M21.64,13a1,1,0,0,0-1.05-.14,8.05,8.05,0,0,1-3.37.73A8.15,8.15,0,0,1,9.08,5.49a8.59,8.59,0,0,1,.25-2A1,1,0,0,0,8,2.36,10.14,10.14,0,1,0,22,14.05,1,1,0,0,0,21.64,13Zm-9.5,6.69A8.14,8.14,0,0,1,7.08,5.22v.27A10.15,10.15,0,0,0,17.22,15.63a9.79,9.79,0,0,0,2.1-.22A8.11,8.11,0,0,1,12.14,19.73Z'}),),{'xmlns': 'http://www.w3.org/2000/svg', 'viewbox': '0 0 24 24', 'class': 'swap-off h-10 w-10 fill-current'})),{'class': 'swap swap-rotate'}), label((input((),{'type': 'checkbox'}), div(('😈',),{'class': 'swap-on'}), div(('😇',),{'class': 'swap-off'})),{'class': 'swap swap-flip text-9xl'})),{})"
      ]
     },
     "execution_count": null,
     "metadata": {},
     "output_type": "execute_result"
    }
   ],
   "source": [
    "#|exports\n",
    "def test_swap_effects_fasthtml_examples():\n",
    "    \"\"\"Test swap examples with rotate and flip effects.\"\"\"\n",
    "    from fasthtml.common import Label, Input, Div\n",
    "    from fasthtml.svg import Svg, Path\n",
    "    from cjm_fasthtml_tailwind.utilities.svg import fill\n",
    "    from cjm_fasthtml_tailwind.utilities.sizing import h, w\n",
    "    from cjm_fasthtml_tailwind.utilities.typography import font_size, font_weight, font_family, text_color\n",
    "    \n",
    "    # Create sun icon SVG\n",
    "    sun_icon = Svg(\n",
    "        Path(\n",
    "            d=\"M5.64,17l-.71.71a1,1,0,0,0,0,1.41,1,1,0,0,0,1.41,0l.71-.71A1,1,0,0,0,5.64,17ZM5,12a1,1,0,0,0-1-1H3a1,1,0,0,0,0,2H4A1,1,0,0,0,5,12Zm7-7a1,1,0,0,0,1-1V3a1,1,0,0,0-2,0V4A1,1,0,0,0,12,5ZM5.64,7.05a1,1,0,0,0,.7.29,1,1,0,0,0,.71-.29,1,1,0,0,0,0-1.41l-.71-.71A1,1,0,0,0,4.93,6.34Zm12,.29a1,1,0,0,0,.7-.29l.71-.71a1,1,0,1,0-1.41-1.41L17,5.64a1,1,0,0,0,0,1.41A1,1,0,0,0,17.66,7.34ZM21,11H20a1,1,0,0,0,0,2h1a1,1,0,0,0,0-2Zm-9,8a1,1,0,0,0-1,1v1a1,1,0,0,0,2,0V20A1,1,0,0,0,12,19ZM18.36,17A1,1,0,0,0,17,18.36l.71.71a1,1,0,0,0,1.41,0,1,1,0,0,0,0-1.41ZM12,6.5A5.5,5.5,0,1,0,17.5,12,5.51,5.51,0,0,0,12,6.5Zm0,9A3.5,3.5,0,1,1,15.5,12,3.5,3.5,0,0,1,12,15.5Z\"\n",
    "        ),\n",
    "        cls=combine_classes(swap_on, h._10, w._10, fill.current),\n",
    "        xmlns=\"http://www.w3.org/2000/svg\",\n",
    "        viewBox=\"0 0 24 24\"\n",
    "    )\n",
    "    \n",
    "    # Create moon icon SVG\n",
    "    moon_icon = Svg(\n",
    "        Path(\n",
    "            d=\"M21.64,13a1,1,0,0,0-1.05-.14,8.05,8.05,0,0,1-3.37.73A8.15,8.15,0,0,1,9.08,5.49a8.59,8.59,0,0,1,.25-2A1,1,0,0,0,8,2.36,10.14,10.14,0,1,0,22,14.05,1,1,0,0,0,21.64,13Zm-9.5,6.69A8.14,8.14,0,0,1,7.08,5.22v.27A10.15,10.15,0,0,0,17.22,15.63a9.79,9.79,0,0,0,2.1-.22A8.11,8.11,0,0,1,12.14,19.73Z\"\n",
    "        ),\n",
    "        cls=combine_classes(swap_off, h._10, w._10, fill.current),\n",
    "        xmlns=\"http://www.w3.org/2000/svg\",\n",
    "        viewBox=\"0 0 24 24\"\n",
    "    )\n",
    "    \n",
    "    # Swap icons with rotate effect\n",
    "    rotate_swap = Label(\n",
    "        Input(type=\"checkbox\"),\n",
    "        sun_icon,\n",
    "        moon_icon,\n",
    "        cls=combine_classes(swap, swap_styles.rotate)\n",
    "    )\n",
    "    assert \"swap\" in rotate_swap.attrs['class']\n",
    "    assert \"swap-rotate\" in rotate_swap.attrs['class']\n",
    "    assert \"h-10\" in rotate_swap.children[1].attrs['class']\n",
    "    assert \"w-10\" in rotate_swap.children[1].attrs['class']\n",
    "    assert \"swap-on\" in rotate_swap.children[1].attrs['class']\n",
    "    assert \"swap-off\" in rotate_swap.children[2].attrs['class']\n",
    "    \n",
    "    # Swap icons with flip effect\n",
    "    flip_swap = Label(\n",
    "        Input(type=\"checkbox\"),\n",
    "        Div(\"😈\", cls=str(swap_on)),\n",
    "        Div(\"😇\", cls=str(swap_off)),\n",
    "        cls=combine_classes(swap, swap_styles.flip, font_size._9xl)\n",
    "    )\n",
    "    assert \"swap\" in flip_swap.attrs['class']\n",
    "    assert \"swap-flip\" in flip_swap.attrs['class']\n",
    "    assert \"text-9xl\" in flip_swap.attrs['class']\n",
    "    assert flip_swap.children[1].children[0] == \"😈\"\n",
    "    assert flip_swap.children[2].children[0] == \"😇\"\n",
    "    \n",
    "    # Return all elements in a Div\n",
    "    return Div(\n",
    "        rotate_swap,\n",
    "        flip_swap\n",
    "    )\n",
    "\n",
    "# Run the tests\n",
    "test_swap_effects_fasthtml_examples()"
   ]
  },
  {
   "cell_type": "code",
   "execution_count": null,
   "id": "e6d4579d-19e3-4eec-ab49-f9dba04a2cb9",
   "metadata": {},
   "outputs": [
    {
     "data": {
      "text/html": [
       "\n",
       "<script>\n",
       "document.body.addEventListener('htmx:configRequest', (event) => {\n",
       "    if(event.detail.path.includes('://')) return;\n",
       "    htmx.config.selfRequestsOnly=false;\n",
       "    event.detail.path = `${location.protocol}//${location.hostname}:8000${event.detail.path}`;\n",
       "});\n",
       "</script>"
      ],
      "text/plain": [
       "<IPython.core.display.HTML object>"
      ]
     },
     "metadata": {},
     "output_type": "display_data"
    },
    {
     "data": {
      "text/html": [
       "<iframe src=\"http://localhost:8000/\" style=\"width: 100%; height: auto; border: none;\" onload=\"{\n",
       "        let frame = this;\n",
       "        window.addEventListener('message', function(e) {\n",
       "            if (e.source !== frame.contentWindow) return; // Only proceed if the message is from this iframe\n",
       "            if (e.data.height) frame.style.height = (e.data.height+1) + 'px';\n",
       "        }, false);\n",
       "    }\" allow=\"accelerometer; autoplay; camera; clipboard-read; clipboard-write; display-capture; encrypted-media; fullscreen; gamepad; geolocation; gyroscope; hid; identity-credentials-get; idle-detection; magnetometer; microphone; midi; payment; picture-in-picture; publickey-credentials-get; screen-wake-lock; serial; usb; web-share; xr-spatial-tracking\"></iframe> "
      ],
      "text/plain": [
       "<IPython.core.display.HTML object>"
      ]
     },
     "metadata": {},
     "output_type": "display_data"
    }
   ],
   "source": [
    "#| eval: false\n",
    "#| output: false\n",
    "test_func = test_swap_effects_fasthtml_examples\n",
    "app, rt = create_test_app(theme=DaisyUITheme.LIGHT)\n",
    "\n",
    "@rt\n",
    "def index():\n",
    "    return create_test_page(test_func.__doc__.title().replace('.', ''), test_func())\n",
    "server = start_test_server(app)\n",
    "display(HTMX())\n",
    "server.stop()"
   ]
  },
  {
   "cell_type": "code",
   "execution_count": null,
   "id": "6ve73jymafx",
   "metadata": {},
   "outputs": [
    {
     "data": {
      "text/markdown": [
       "```html\n",
       "<div>\n",
       "<label class=\"btn btn-circle swap swap-rotate\">    <input type=\"checkbox\">\n",
       "<svg xmlns=\"http://www.w3.org/2000/svg\" viewbox=\"0 0 512 512\" height=\"32\" width=\"32\" class=\"swap-off fill-current\"><path d=\"M64,384H448V341.33H64Zm0-106.67H448V234.67H64ZM64,128v42.67H448V128Z\"></path></svg><svg xmlns=\"http://www.w3.org/2000/svg\" viewbox=\"0 0 512 512\" height=\"32\" width=\"32\" class=\"swap-on fill-current\"><polygon points=\"400 145.49 366.51 112 256 222.51 145.49 112 112 145.49 222.51 256 112 366.51 145.49 400 256 289.49 366.51 400 400 366.51 289.49 256 400 145.49\"></polygon></svg></label><label class=\"swap text-6xl\">    <div class=\"swap-on\">🥵</div>\n",
       "    <div class=\"swap-off\">🥶</div>\n",
       "</label><label class=\"swap swap-active text-6xl\">    <div class=\"swap-on\">🥳</div>\n",
       "    <div class=\"swap-off\">😭</div>\n",
       "</label><label class=\"swap\">    <input type=\"checkbox\" indeterminate>\n",
       "    <div class=\"swap-on\">ON</div>\n",
       "    <div class=\"swap-off\">OFF</div>\n",
       "    <div class=\"swap-indeterminate\">INDETERMINATE</div>\n",
       "</label></div>\n",
       "\n",
       "```"
      ],
      "text/plain": [
       "div((label((input((),{'type': 'checkbox'}), svg((path((),{'d': 'M64,384H448V341.33H64Zm0-106.67H448V234.67H64ZM64,128v42.67H448V128Z'}),),{'xmlns': 'http://www.w3.org/2000/svg', 'viewbox': '0 0 512 512', 'height': '32', 'width': '32', 'class': 'swap-off fill-current'}), svg((polygon((),{'points': '400 145.49 366.51 112 256 222.51 145.49 112 112 145.49 222.51 256 112 366.51 145.49 400 256 289.49 366.51 400 400 366.51 289.49 256 400 145.49'}),),{'xmlns': 'http://www.w3.org/2000/svg', 'viewbox': '0 0 512 512', 'height': '32', 'width': '32', 'class': 'swap-on fill-current'})),{'class': 'btn btn-circle swap swap-rotate'}), label((div(('🥵',),{'class': 'swap-on'}), div(('🥶',),{'class': 'swap-off'})),{'class': 'swap text-6xl'}), label((div(('🥳',),{'class': 'swap-on'}), div(('😭',),{'class': 'swap-off'})),{'class': 'swap swap-active text-6xl'}), label((input((),{'type': 'checkbox', 'indeterminate': True}), div(('ON',),{'class': 'swap-on'}), div(('OFF',),{'class': 'swap-off'}), div(('INDETERMINATE',),{'class': 'swap-indeterminate'})),{'class': 'swap'})),{})"
      ]
     },
     "execution_count": null,
     "metadata": {},
     "output_type": "execute_result"
    }
   ],
   "source": [
    "#|exports\n",
    "def test_swap_advanced_fasthtml_examples():\n",
    "    \"\"\"Test advanced swap examples including hamburger button and class-based activation.\"\"\"\n",
    "    from fasthtml.common import Label, Input, Div\n",
    "    from fasthtml.svg import Svg, Path, Polygon\n",
    "    from cjm_fasthtml_tailwind.utilities.svg import fill\n",
    "    from cjm_fasthtml_tailwind.utilities.typography import font_size, font_weight, font_family, text_color\n",
    "    from cjm_fasthtml_daisyui.components.actions.button import btn, btn_modifiers\n",
    "    \n",
    "    # Hamburger button\n",
    "    hamburger_icon = Svg(\n",
    "        Path(d=\"M64,384H448V341.33H64Zm0-106.67H448V234.67H64ZM64,128v42.67H448V128Z\"),\n",
    "        cls=combine_classes(swap_off, fill.current),\n",
    "        xmlns=\"http://www.w3.org/2000/svg\",\n",
    "        width=\"32\",\n",
    "        height=\"32\",\n",
    "        viewBox=\"0 0 512 512\"\n",
    "    )\n",
    "    \n",
    "    close_icon = Svg(\n",
    "        Polygon(\n",
    "            points=\"400 145.49 366.51 112 256 222.51 145.49 112 112 145.49 222.51 256 112 366.51 145.49 400 256 289.49 366.51 400 400 366.51 289.49 256 400 145.49\"\n",
    "        ),\n",
    "        cls=combine_classes(swap_on, fill.current),\n",
    "        xmlns=\"http://www.w3.org/2000/svg\",\n",
    "        width=\"32\",\n",
    "        height=\"32\",\n",
    "        viewBox=\"0 0 512 512\"\n",
    "    )\n",
    "    \n",
    "    hamburger_button = Label(\n",
    "        Input(type=\"checkbox\"),\n",
    "        hamburger_icon,\n",
    "        close_icon,\n",
    "        cls=combine_classes(btn, btn_modifiers.circle, swap, swap_styles.rotate)\n",
    "    )\n",
    "    assert \"btn\" in hamburger_button.attrs['class']\n",
    "    assert \"btn-circle\" in hamburger_button.attrs['class']\n",
    "    assert \"swap\" in hamburger_button.attrs['class']\n",
    "    assert \"swap-rotate\" in hamburger_button.attrs['class']\n",
    "    assert hamburger_button.children[1].tag == \"svg\"\n",
    "    assert hamburger_button.children[2].tag == \"svg\"\n",
    "    \n",
    "    # Test class-based activation (without checkbox)\n",
    "    # Inactive state\n",
    "    class_swap_inactive = Label(\n",
    "        Div(\"🥵\", cls=str(swap_on)),\n",
    "        Div(\"🥶\", cls=str(swap_off)),\n",
    "        cls=combine_classes(swap, font_size._6xl)\n",
    "    )\n",
    "    assert \"swap\" in class_swap_inactive.attrs['class']\n",
    "    assert \"text-6xl\" in class_swap_inactive.attrs['class']\n",
    "    assert len(class_swap_inactive.children) == 2  # No input element\n",
    "    assert class_swap_inactive.children[0].children[0] == \"🥵\"\n",
    "    assert class_swap_inactive.children[1].children[0] == \"🥶\"\n",
    "    \n",
    "    # Active state using class\n",
    "    class_swap_active = Label(\n",
    "        Div(\"🥳\", cls=str(swap_on)),\n",
    "        Div(\"😭\", cls=str(swap_off)),\n",
    "        cls=combine_classes(swap, swap_styles.active, font_size._6xl)\n",
    "    )\n",
    "    assert \"swap\" in class_swap_active.attrs['class']\n",
    "    assert \"swap-active\" in class_swap_active.attrs['class']\n",
    "    assert \"text-6xl\" in class_swap_active.attrs['class']\n",
    "    assert class_swap_active.children[0].children[0] == \"🥳\"\n",
    "    assert class_swap_active.children[1].children[0] == \"😭\"\n",
    "    \n",
    "    # Verify indeterminate state (from factory definition)\n",
    "    indeterminate_swap = Label(\n",
    "        Input(type=\"checkbox\", indeterminate=True),\n",
    "        Div(\"ON\", cls=str(swap_on)),\n",
    "        Div(\"OFF\", cls=str(swap_off)),\n",
    "        Div(\"INDETERMINATE\", cls=str(swap_indeterminate)),\n",
    "        cls=str(swap)\n",
    "    )\n",
    "    assert len(indeterminate_swap.children) == 4\n",
    "    assert \"swap-indeterminate\" in indeterminate_swap.children[3].attrs['class']\n",
    "    \n",
    "    # Return all elements in a Div\n",
    "    return Div(\n",
    "        hamburger_button,\n",
    "        class_swap_inactive,\n",
    "        class_swap_active,\n",
    "        indeterminate_swap\n",
    "    )\n",
    "\n",
    "# Run the tests\n",
    "test_swap_advanced_fasthtml_examples()"
   ]
  },
  {
   "cell_type": "code",
   "execution_count": null,
   "id": "15aea386-3466-4732-a59a-c47ea6aa6f1f",
   "metadata": {},
   "outputs": [
    {
     "data": {
      "text/html": [
       "\n",
       "<script>\n",
       "document.body.addEventListener('htmx:configRequest', (event) => {\n",
       "    if(event.detail.path.includes('://')) return;\n",
       "    htmx.config.selfRequestsOnly=false;\n",
       "    event.detail.path = `${location.protocol}//${location.hostname}:8000${event.detail.path}`;\n",
       "});\n",
       "</script>"
      ],
      "text/plain": [
       "<IPython.core.display.HTML object>"
      ]
     },
     "metadata": {},
     "output_type": "display_data"
    },
    {
     "data": {
      "text/html": [
       "<iframe src=\"http://localhost:8000/\" style=\"width: 100%; height: auto; border: none;\" onload=\"{\n",
       "        let frame = this;\n",
       "        window.addEventListener('message', function(e) {\n",
       "            if (e.source !== frame.contentWindow) return; // Only proceed if the message is from this iframe\n",
       "            if (e.data.height) frame.style.height = (e.data.height+1) + 'px';\n",
       "        }, false);\n",
       "    }\" allow=\"accelerometer; autoplay; camera; clipboard-read; clipboard-write; display-capture; encrypted-media; fullscreen; gamepad; geolocation; gyroscope; hid; identity-credentials-get; idle-detection; magnetometer; microphone; midi; payment; picture-in-picture; publickey-credentials-get; screen-wake-lock; serial; usb; web-share; xr-spatial-tracking\"></iframe> "
      ],
      "text/plain": [
       "<IPython.core.display.HTML object>"
      ]
     },
     "metadata": {},
     "output_type": "display_data"
    }
   ],
   "source": [
    "#| eval: false\n",
    "#| output: false\n",
    "test_func = test_swap_advanced_fasthtml_examples\n",
    "app, rt = create_test_app(theme=DaisyUITheme.LIGHT)\n",
    "\n",
    "@rt\n",
    "def index():\n",
    "    return create_test_page(test_func.__doc__.title().replace('.', ''), test_func())\n",
    "server = start_test_server(app)\n",
    "display(HTMX())\n",
    "server.stop()"
   ]
  },
  {
   "cell_type": "code",
   "execution_count": null,
   "id": "c0000ef3-cec6-474f-8d2a-3b6dd9629f9e",
   "metadata": {},
   "outputs": [],
   "source": []
  },
  {
   "cell_type": "code",
   "execution_count": null,
   "id": "a073bf04-e344-43ea-a4bb-3ee8fc160452",
   "metadata": {},
   "outputs": [],
   "source": []
  },
  {
   "cell_type": "code",
   "execution_count": null,
   "id": "56609e45-e788-4b22-86e7-1fa40f33c7a6",
   "metadata": {},
   "outputs": [],
   "source": []
  },
  {
   "cell_type": "code",
   "execution_count": null,
   "id": "7245f68c-907e-4dee-9521-bdc1bc65f9f2",
   "metadata": {},
   "outputs": [],
   "source": []
  },
  {
   "cell_type": "code",
   "execution_count": null,
   "id": "d53cdb68-28af-45cc-9696-a604218202fd",
   "metadata": {},
   "outputs": [],
   "source": []
  },
  {
   "cell_type": "code",
   "execution_count": null,
   "id": "03e2d30d-10a8-4a57-8bd4-bf4817339d22",
   "metadata": {},
   "outputs": [],
   "source": []
  },
  {
   "cell_type": "code",
   "execution_count": null,
   "id": "fd7dc6aa-a31d-4b90-822a-247716d406ee",
   "metadata": {},
   "outputs": [],
   "source": []
  },
  {
   "cell_type": "code",
   "execution_count": null,
   "id": "c6ed9e89-22e6-4835-a348-38b19f8c6785",
   "metadata": {},
   "outputs": [],
   "source": []
  },
  {
   "cell_type": "code",
   "execution_count": null,
   "id": "cdb0aeb7-4953-4de0-8143-695528be0900",
   "metadata": {},
   "outputs": [],
   "source": [
    "#| hide\n",
    "import nbdev; nbdev.nbdev_export()"
   ]
  }
 ],
 "metadata": {
  "kernelspec": {
   "display_name": "python3",
   "language": "python",
   "name": "python3"
  }
 },
 "nbformat": 4,
 "nbformat_minor": 5
}
