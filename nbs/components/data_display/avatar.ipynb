{
 "cells": [
  {
   "cell_type": "markdown",
   "id": "7bf19dde-c9bf-4ccf-9376-ca23d92282ae",
   "metadata": {},
   "source": [
    "# avatar\n",
    "\n",
    "> Avatars are used to show a thumbnail representation of an individual or business in the interface."
   ]
  },
  {
   "cell_type": "code",
   "execution_count": null,
   "id": "34f1a79e-39bf-4113-a9db-9578c2330e44",
   "metadata": {},
   "outputs": [],
   "source": [
    "#| default_exp components.data_display.avatar"
   ]
  },
  {
   "cell_type": "code",
   "execution_count": null,
   "id": "419459f4-3493-4d75-a579-135c0eab2128",
   "metadata": {},
   "outputs": [],
   "source": [
    "from nbdev.showdoc import *"
   ]
  },
  {
   "cell_type": "code",
   "execution_count": null,
   "id": "17fd66d1-e06b-443f-ac55-99c2a58eb0c2",
   "metadata": {},
   "outputs": [],
   "source": [
    "#| export\n",
    "from typing import Optional, Dict, Any, Union, List\n",
    "from cjm_fasthtml_tailwind.core.base import (\n",
    "    SingleValueFactory, BaseFactory, combine_classes\n",
    ")\n",
    "from cjm_fasthtml_tailwind.builders.scales import SimpleFactory\n",
    "\n",
    "from fasthtml.jupyter import JupyUvi, HTMX\n",
    "from cjm_fasthtml_daisyui.core.testing import create_test_app, create_test_page, start_test_server\n",
    "\n",
    "from fasthtml.common import Div\n",
    "from cjm_fasthtml_daisyui.core.themes import DaisyUITheme\n",
    "from IPython.display import display"
   ]
  },
  {
   "cell_type": "markdown",
   "id": "0e50afa2-1d75-4753-aeeb-45a6a17f61d1",
   "metadata": {},
   "source": [
    "### Base Avatar\n",
    "\n",
    "The base avatar components:"
   ]
  },
  {
   "cell_type": "code",
   "execution_count": null,
   "id": "a1a4c7fb-8e70-41af-b947-484ae0062bce",
   "metadata": {},
   "outputs": [],
   "source": [
    "#| exports\n",
    "avatar = SingleValueFactory(\"avatar\", \"Avatar container component\") # Avatar container\n",
    "avatar_group = SingleValueFactory(\"avatar-group\", \"Container for multiple avatars\") # Avatar group"
   ]
  },
  {
   "cell_type": "markdown",
   "id": "5e756a1c-d325-4c53-9d41-602c20c05c83",
   "metadata": {},
   "source": [
    "### Avatar Modifiers\n",
    "\n",
    "Avatar modifier utilities:"
   ]
  },
  {
   "cell_type": "code",
   "execution_count": null,
   "id": "b19a71e9-d5b2-475f-9d50-f17080c8cad6",
   "metadata": {},
   "outputs": [],
   "source": [
    "#| exports\n",
    "avatar_modifiers = SimpleFactory(\n",
    "    {\n",
    "        \"online\": \"avatar-online\",\n",
    "        \"offline\": \"avatar-offline\",\n",
    "        \"placeholder\": \"avatar-placeholder\"\n",
    "    },\n",
    "    \"Avatar modifiers (online/offline indicators, placeholder)\"\n",
    ") # Avatar modifiers"
   ]
  },
  {
   "cell_type": "markdown",
   "id": "a4a96fab-db80-4273-9d91-9a478a3276b2",
   "metadata": {},
   "source": [
    "### Avatar Test Examples"
   ]
  },
  {
   "cell_type": "code",
   "execution_count": null,
   "id": "3aed6784-4c81-4ba4-83f4-96ef0ef184d7",
   "metadata": {},
   "outputs": [],
   "source": [
    "#|exports\n",
    "def test_avatar_basic_examples():\n",
    "    \"\"\"Test basic avatar utilities.\"\"\"\n",
    "    # Basic components\n",
    "    assert str(avatar) == \"avatar\"\n",
    "    assert str(avatar_group) == \"avatar-group\"\n",
    "    \n",
    "    # With modifiers\n",
    "    assert str(avatar.hover) == \"hover:avatar\"\n",
    "    assert str(avatar_group.md) == \"md:avatar-group\"\n",
    "\n",
    "# Run the tests\n",
    "test_avatar_basic_examples()"
   ]
  },
  {
   "cell_type": "code",
   "execution_count": null,
   "id": "8f010e88-ab8e-4643-b515-3237f3656bc8",
   "metadata": {},
   "outputs": [],
   "source": [
    "#|exports\n",
    "def test_avatar_modifiers_examples():\n",
    "    \"\"\"Test avatar modifier utilities.\"\"\"\n",
    "    assert str(avatar_modifiers.online) == \"avatar-online\"\n",
    "    assert str(avatar_modifiers.offline) == \"avatar-offline\"\n",
    "    assert str(avatar_modifiers.placeholder) == \"avatar-placeholder\"\n",
    "    \n",
    "    # With responsive modifiers\n",
    "    assert str(avatar_modifiers.online.hover) == \"hover:avatar-online\"\n",
    "    assert str(avatar_modifiers.placeholder.md) == \"md:avatar-placeholder\"\n",
    "\n",
    "# Run the tests\n",
    "test_avatar_modifiers_examples()"
   ]
  },
  {
   "cell_type": "code",
   "execution_count": null,
   "id": "17526ed3-55c0-4b52-a1f4-62d3fef260d1",
   "metadata": {},
   "outputs": [
    {
     "data": {
      "text/markdown": [
       "```html\n",
       "<div>\n",
       "  <div class=\"avatar\">\n",
       "    <div class=\"w-24 rounded\">\n",
       "<img src=\"https://img.daisyui.com/images/profile/demo/batperson@192.webp\">    </div>\n",
       "  </div>\n",
       "  <div class=\"avatar\">\n",
       "    <div class=\"w-32 rounded\">\n",
       "<img src=\"https://img.daisyui.com/images/profile/demo/superperson@192.webp\">    </div>\n",
       "  </div>\n",
       "  <div class=\"avatar\">\n",
       "    <div class=\"w-20 rounded\">\n",
       "<img src=\"https://img.daisyui.com/images/profile/demo/superperson@192.webp\" alt=\"Tailwind-CSS-Avatar-component\">    </div>\n",
       "  </div>\n",
       "  <div class=\"avatar\">\n",
       "    <div class=\"w-16 rounded\">\n",
       "<img src=\"https://img.daisyui.com/images/profile/demo/superperson@192.webp\" alt=\"Tailwind-CSS-Avatar-component\">    </div>\n",
       "  </div>\n",
       "  <div class=\"avatar\">\n",
       "    <div class=\"w-8 rounded\">\n",
       "<img src=\"https://img.daisyui.com/images/profile/demo/superperson@192.webp\" alt=\"Tailwind-CSS-Avatar-component\">    </div>\n",
       "  </div>\n",
       "</div>\n",
       "\n",
       "```"
      ],
      "text/plain": [
       "div((div((div((img((),{'src': 'https://img.daisyui.com/images/profile/demo/batperson@192.webp'}),),{'class': 'w-24 rounded'}),),{'class': 'avatar'}), div((div((img((),{'src': 'https://img.daisyui.com/images/profile/demo/superperson@192.webp'}),),{'class': 'w-32 rounded'}),),{'class': 'avatar'}), div((div((img((),{'src': 'https://img.daisyui.com/images/profile/demo/superperson@192.webp', 'alt': 'Tailwind-CSS-Avatar-component'}),),{'class': 'w-20 rounded'}),),{'class': 'avatar'}), div((div((img((),{'src': 'https://img.daisyui.com/images/profile/demo/superperson@192.webp', 'alt': 'Tailwind-CSS-Avatar-component'}),),{'class': 'w-16 rounded'}),),{'class': 'avatar'}), div((div((img((),{'src': 'https://img.daisyui.com/images/profile/demo/superperson@192.webp', 'alt': 'Tailwind-CSS-Avatar-component'}),),{'class': 'w-8 rounded'}),),{'class': 'avatar'})),{})"
      ]
     },
     "execution_count": null,
     "metadata": {},
     "output_type": "execute_result"
    }
   ],
   "source": [
    "#|exports\n",
    "def test_avatar_basic_fasthtml_examples():\n",
    "    \"\"\"Test basic avatar and avatar in custom sizes from daisyUI v5 documentation.\"\"\"\n",
    "    from fasthtml.common import Div, Img\n",
    "    from cjm_fasthtml_tailwind.utilities.sizing import w\n",
    "    from cjm_fasthtml_tailwind.utilities.borders import rounded\n",
    "    \n",
    "    # Basic avatar\n",
    "    basic_avatar = Div(\n",
    "        Div(\n",
    "            Img(src=\"https://img.daisyui.com/images/profile/demo/batperson@192.webp\"),\n",
    "            cls=combine_classes(w._24, rounded())\n",
    "        ),\n",
    "        cls=str(avatar)\n",
    "    )\n",
    "    assert \"avatar\" in basic_avatar.attrs['class']\n",
    "    assert basic_avatar.children[0].tag == \"div\"\n",
    "    assert \"w-24\" in basic_avatar.children[0].attrs['class']\n",
    "    assert \"rounded\" in basic_avatar.children[0].attrs['class']\n",
    "    assert basic_avatar.children[0].children[0].tag == \"img\"\n",
    "    assert basic_avatar.children[0].children[0].attrs['src'] == \"https://img.daisyui.com/images/profile/demo/batperson@192.webp\"\n",
    "    \n",
    "    # Avatar in custom sizes\n",
    "    size_32_avatar = Div(\n",
    "        Div(\n",
    "            Img(src=\"https://img.daisyui.com/images/profile/demo/superperson@192.webp\"),\n",
    "            cls=combine_classes(w._32, rounded())\n",
    "        ),\n",
    "        cls=str(avatar)\n",
    "    )\n",
    "    assert \"avatar\" in size_32_avatar.attrs['class']\n",
    "    assert \"w-32\" in size_32_avatar.children[0].attrs['class']\n",
    "    assert size_32_avatar.children[0].children[0].attrs['src'] == \"https://img.daisyui.com/images/profile/demo/superperson@192.webp\"\n",
    "    \n",
    "    size_20_avatar = Div(\n",
    "        Div(\n",
    "            Img(\n",
    "                src=\"https://img.daisyui.com/images/profile/demo/superperson@192.webp\",\n",
    "                alt=\"Tailwind-CSS-Avatar-component\"\n",
    "            ),\n",
    "            cls=combine_classes(w._20, rounded())\n",
    "        ),\n",
    "        cls=str(avatar)\n",
    "    )\n",
    "    assert \"w-20\" in size_20_avatar.children[0].attrs['class']\n",
    "    assert size_20_avatar.children[0].children[0].attrs['alt'] == \"Tailwind-CSS-Avatar-component\"\n",
    "    \n",
    "    size_16_avatar = Div(\n",
    "        Div(\n",
    "            Img(\n",
    "                src=\"https://img.daisyui.com/images/profile/demo/superperson@192.webp\",\n",
    "                alt=\"Tailwind-CSS-Avatar-component\"\n",
    "            ),\n",
    "            cls=combine_classes(w._16, rounded())\n",
    "        ),\n",
    "        cls=str(avatar)\n",
    "    )\n",
    "    assert \"w-16\" in size_16_avatar.children[0].attrs['class']\n",
    "    \n",
    "    size_8_avatar = Div(\n",
    "        Div(\n",
    "            Img(\n",
    "                src=\"https://img.daisyui.com/images/profile/demo/superperson@192.webp\",\n",
    "                alt=\"Tailwind-CSS-Avatar-component\"\n",
    "            ),\n",
    "            cls=combine_classes(w._8, rounded())\n",
    "        ),\n",
    "        cls=str(avatar)\n",
    "    )\n",
    "    assert \"w-8\" in size_8_avatar.children[0].attrs['class']\n",
    "    \n",
    "    # Return all examples in a Div\n",
    "    return Div(\n",
    "        basic_avatar,\n",
    "        size_32_avatar,\n",
    "        size_20_avatar,\n",
    "        size_16_avatar,\n",
    "        size_8_avatar\n",
    "    )\n",
    "\n",
    "# Run the tests\n",
    "test_avatar_basic_fasthtml_examples()"
   ]
  },
  {
   "cell_type": "code",
   "execution_count": null,
   "id": "0b427e48-f05a-4180-ba68-b814a5b0330d",
   "metadata": {},
   "outputs": [
    {
     "data": {
      "text/html": [
       "\n",
       "<script>\n",
       "document.body.addEventListener('htmx:configRequest', (event) => {\n",
       "    if(event.detail.path.includes('://')) return;\n",
       "    htmx.config.selfRequestsOnly=false;\n",
       "    event.detail.path = `${location.protocol}//${location.hostname}:8000${event.detail.path}`;\n",
       "});\n",
       "</script>"
      ],
      "text/plain": [
       "<IPython.core.display.HTML object>"
      ]
     },
     "metadata": {},
     "output_type": "display_data"
    },
    {
     "data": {
      "text/html": [
       "<iframe src=\"http://localhost:8000/\" style=\"width: 100%; height: auto; border: none;\" onload=\"{\n",
       "        let frame = this;\n",
       "        window.addEventListener('message', function(e) {\n",
       "            if (e.source !== frame.contentWindow) return; // Only proceed if the message is from this iframe\n",
       "            if (e.data.height) frame.style.height = (e.data.height+1) + 'px';\n",
       "        }, false);\n",
       "    }\" allow=\"accelerometer; autoplay; camera; clipboard-read; clipboard-write; display-capture; encrypted-media; fullscreen; gamepad; geolocation; gyroscope; hid; identity-credentials-get; idle-detection; magnetometer; microphone; midi; payment; picture-in-picture; publickey-credentials-get; screen-wake-lock; serial; usb; web-share; xr-spatial-tracking\"></iframe> "
      ],
      "text/plain": [
       "<IPython.core.display.HTML object>"
      ]
     },
     "metadata": {},
     "output_type": "display_data"
    }
   ],
   "source": [
    "#| eval: false\n",
    "#| output: false\n",
    "test_func = test_avatar_basic_fasthtml_examples\n",
    "app, rt = create_test_app(theme=DaisyUITheme.LIGHT)\n",
    "\n",
    "@rt\n",
    "def index():\n",
    "    return create_test_page(test_func.__doc__.title().replace('.', ''), test_func())\n",
    "server = start_test_server(app)\n",
    "display(HTMX())\n",
    "server.stop()"
   ]
  },
  {
   "cell_type": "code",
   "execution_count": null,
   "id": "w4uft0bp5wq",
   "metadata": {},
   "outputs": [
    {
     "data": {
      "text/markdown": [
       "```html\n",
       "<div>\n",
       "  <div class=\"avatar\">\n",
       "    <div class=\"w-24 rounded-xl\">\n",
       "<img src=\"https://img.daisyui.com/images/profile/demo/yellingwoman@192.webp\">    </div>\n",
       "  </div>\n",
       "  <div class=\"avatar\">\n",
       "    <div class=\"w-24 rounded-full\">\n",
       "<img src=\"https://img.daisyui.com/images/profile/demo/yellingcat@192.webp\">    </div>\n",
       "  </div>\n",
       "  <div class=\"avatar\">\n",
       "    <div class=\"mask mask-heart w-24\">\n",
       "<img src=\"https://img.daisyui.com/images/profile/demo/distracted3@192.webp\">    </div>\n",
       "  </div>\n",
       "  <div class=\"avatar\">\n",
       "    <div class=\"mask mask-squircle w-24\">\n",
       "<img src=\"https://img.daisyui.com/images/profile/demo/distracted1@192.webp\">    </div>\n",
       "  </div>\n",
       "  <div class=\"avatar\">\n",
       "    <div class=\"mask mask-hexagon-2 w-24\">\n",
       "<img src=\"https://img.daisyui.com/images/profile/demo/distracted2@192.webp\">    </div>\n",
       "  </div>\n",
       "</div>\n",
       "\n",
       "```"
      ],
      "text/plain": [
       "div((div((div((img((),{'src': 'https://img.daisyui.com/images/profile/demo/yellingwoman@192.webp'}),),{'class': 'w-24 rounded-xl'}),),{'class': 'avatar'}), div((div((img((),{'src': 'https://img.daisyui.com/images/profile/demo/yellingcat@192.webp'}),),{'class': 'w-24 rounded-full'}),),{'class': 'avatar'}), div((div((img((),{'src': 'https://img.daisyui.com/images/profile/demo/distracted3@192.webp'}),),{'class': 'mask mask-heart w-24'}),),{'class': 'avatar'}), div((div((img((),{'src': 'https://img.daisyui.com/images/profile/demo/distracted1@192.webp'}),),{'class': 'mask mask-squircle w-24'}),),{'class': 'avatar'}), div((div((img((),{'src': 'https://img.daisyui.com/images/profile/demo/distracted2@192.webp'}),),{'class': 'mask mask-hexagon-2 w-24'}),),{'class': 'avatar'})),{})"
      ]
     },
     "execution_count": null,
     "metadata": {},
     "output_type": "execute_result"
    }
   ],
   "source": [
    "#|exports\n",
    "def test_avatar_rounded_and_mask_fasthtml_examples():\n",
    "    \"\"\"Test avatar rounded and avatar with mask from daisyUI v5 documentation.\"\"\"\n",
    "    from fasthtml.common import Div, Img\n",
    "    from cjm_fasthtml_tailwind.utilities.sizing import w\n",
    "    from cjm_fasthtml_tailwind.utilities.borders import rounded\n",
    "    from cjm_fasthtml_daisyui.components.layout.mask import mask, mask_styles\n",
    "    \n",
    "    # Avatar rounded\n",
    "    rounded_xl_avatar = Div(\n",
    "        Div(\n",
    "            Img(src=\"https://img.daisyui.com/images/profile/demo/yellingwoman@192.webp\"),\n",
    "            cls=combine_classes(w._24, rounded.xl)\n",
    "        ),\n",
    "        cls=str(avatar)\n",
    "    )\n",
    "    assert \"avatar\" in rounded_xl_avatar.attrs['class']\n",
    "    assert \"w-24\" in rounded_xl_avatar.children[0].attrs['class']\n",
    "    assert \"rounded-xl\" in rounded_xl_avatar.children[0].attrs['class']\n",
    "    assert rounded_xl_avatar.children[0].children[0].attrs['src'] == \"https://img.daisyui.com/images/profile/demo/yellingwoman@192.webp\"\n",
    "    \n",
    "    rounded_full_avatar = Div(\n",
    "        Div(\n",
    "            Img(src=\"https://img.daisyui.com/images/profile/demo/yellingcat@192.webp\"),\n",
    "            cls=combine_classes(w._24, rounded.full)\n",
    "        ),\n",
    "        cls=str(avatar)\n",
    "    )\n",
    "    assert \"w-24\" in rounded_full_avatar.children[0].attrs['class']\n",
    "    assert \"rounded-full\" in rounded_full_avatar.children[0].attrs['class']\n",
    "    assert rounded_full_avatar.children[0].children[0].attrs['src'] == \"https://img.daisyui.com/images/profile/demo/yellingcat@192.webp\"\n",
    "    \n",
    "    # Avatar with mask\n",
    "    mask_heart_avatar = Div(\n",
    "        Div(\n",
    "            Img(src=\"https://img.daisyui.com/images/profile/demo/distracted3@192.webp\"),\n",
    "            cls=combine_classes(mask, mask_styles.heart, w._24)\n",
    "        ),\n",
    "        cls=str(avatar)\n",
    "    )\n",
    "    assert \"avatar\" in mask_heart_avatar.attrs['class']\n",
    "    assert \"mask\" in mask_heart_avatar.children[0].attrs['class']\n",
    "    assert \"mask-heart\" in mask_heart_avatar.children[0].attrs['class']\n",
    "    assert \"w-24\" in mask_heart_avatar.children[0].attrs['class']\n",
    "    assert mask_heart_avatar.children[0].children[0].attrs['src'] == \"https://img.daisyui.com/images/profile/demo/distracted3@192.webp\"\n",
    "    \n",
    "    mask_squircle_avatar = Div(\n",
    "        Div(\n",
    "            Img(src=\"https://img.daisyui.com/images/profile/demo/distracted1@192.webp\"),\n",
    "            cls=combine_classes(mask, mask_styles.squircle, w._24)\n",
    "        ),\n",
    "        cls=str(avatar)\n",
    "    )\n",
    "    assert \"mask\" in mask_squircle_avatar.children[0].attrs['class']\n",
    "    assert \"mask-squircle\" in mask_squircle_avatar.children[0].attrs['class']\n",
    "    assert mask_squircle_avatar.children[0].children[0].attrs['src'] == \"https://img.daisyui.com/images/profile/demo/distracted1@192.webp\"\n",
    "    \n",
    "    mask_hexagon_2_avatar = Div(\n",
    "        Div(\n",
    "            Img(src=\"https://img.daisyui.com/images/profile/demo/distracted2@192.webp\"),\n",
    "            cls=combine_classes(mask, mask_styles.hexagon_2, w._24)\n",
    "        ),\n",
    "        cls=str(avatar)\n",
    "    )\n",
    "    assert \"mask\" in mask_hexagon_2_avatar.children[0].attrs['class']\n",
    "    assert \"mask-hexagon-2\" in mask_hexagon_2_avatar.children[0].attrs['class']\n",
    "    assert mask_hexagon_2_avatar.children[0].children[0].attrs['src'] == \"https://img.daisyui.com/images/profile/demo/distracted2@192.webp\"\n",
    "    \n",
    "    # Return all examples in a Div\n",
    "    return Div(\n",
    "        rounded_xl_avatar,\n",
    "        rounded_full_avatar,\n",
    "        mask_heart_avatar,\n",
    "        mask_squircle_avatar,\n",
    "        mask_hexagon_2_avatar\n",
    "    )\n",
    "\n",
    "# Run the tests\n",
    "test_avatar_rounded_and_mask_fasthtml_examples()"
   ]
  },
  {
   "cell_type": "code",
   "execution_count": null,
   "id": "cdd65144-a909-4462-8f51-c49433e6dcb5",
   "metadata": {},
   "outputs": [
    {
     "data": {
      "text/html": [
       "\n",
       "<script>\n",
       "document.body.addEventListener('htmx:configRequest', (event) => {\n",
       "    if(event.detail.path.includes('://')) return;\n",
       "    htmx.config.selfRequestsOnly=false;\n",
       "    event.detail.path = `${location.protocol}//${location.hostname}:8000${event.detail.path}`;\n",
       "});\n",
       "</script>"
      ],
      "text/plain": [
       "<IPython.core.display.HTML object>"
      ]
     },
     "metadata": {},
     "output_type": "display_data"
    },
    {
     "data": {
      "text/html": [
       "<iframe src=\"http://localhost:8000/\" style=\"width: 100%; height: auto; border: none;\" onload=\"{\n",
       "        let frame = this;\n",
       "        window.addEventListener('message', function(e) {\n",
       "            if (e.source !== frame.contentWindow) return; // Only proceed if the message is from this iframe\n",
       "            if (e.data.height) frame.style.height = (e.data.height+1) + 'px';\n",
       "        }, false);\n",
       "    }\" allow=\"accelerometer; autoplay; camera; clipboard-read; clipboard-write; display-capture; encrypted-media; fullscreen; gamepad; geolocation; gyroscope; hid; identity-credentials-get; idle-detection; magnetometer; microphone; midi; payment; picture-in-picture; publickey-credentials-get; screen-wake-lock; serial; usb; web-share; xr-spatial-tracking\"></iframe> "
      ],
      "text/plain": [
       "<IPython.core.display.HTML object>"
      ]
     },
     "metadata": {},
     "output_type": "display_data"
    }
   ],
   "source": [
    "#| eval: false\n",
    "#| output: false\n",
    "test_func = test_avatar_rounded_and_mask_fasthtml_examples\n",
    "app, rt = create_test_app(theme=DaisyUITheme.LIGHT)\n",
    "\n",
    "@rt\n",
    "def index():\n",
    "    return create_test_page(test_func.__doc__.title().replace('.', ''), test_func())\n",
    "server = start_test_server(app)\n",
    "display(HTMX())\n",
    "server.stop()"
   ]
  },
  {
   "cell_type": "code",
   "execution_count": null,
   "id": "v98mth75daf",
   "metadata": {},
   "outputs": [
    {
     "data": {
      "text/markdown": [
       "```html\n",
       "<div>\n",
       "  <div class=\"avatar-group -space-x-6\">\n",
       "    <div class=\"avatar\">\n",
       "      <div class=\"w-12\">\n",
       "<img src=\"https://img.daisyui.com/images/profile/demo/batperson@192.webp\">      </div>\n",
       "    </div>\n",
       "    <div class=\"avatar\">\n",
       "      <div class=\"w-12\">\n",
       "<img src=\"https://img.daisyui.com/images/profile/demo/spiderperson@192.webp\">      </div>\n",
       "    </div>\n",
       "    <div class=\"avatar\">\n",
       "      <div class=\"w-12\">\n",
       "<img src=\"https://img.daisyui.com/images/profile/demo/averagebulk@192.webp\">      </div>\n",
       "    </div>\n",
       "    <div class=\"avatar\">\n",
       "      <div class=\"w-12\">\n",
       "<img src=\"https://img.daisyui.com/images/profile/demo/wonderperson@192.webp\">      </div>\n",
       "    </div>\n",
       "  </div>\n",
       "  <div class=\"avatar-group -space-x-6\">\n",
       "    <div class=\"avatar\">\n",
       "      <div class=\"w-12\">\n",
       "<img src=\"https://img.daisyui.com/images/profile/demo/batperson@192.webp\">      </div>\n",
       "    </div>\n",
       "    <div class=\"avatar\">\n",
       "      <div class=\"w-12\">\n",
       "<img src=\"https://img.daisyui.com/images/profile/demo/spiderperson@192.webp\">      </div>\n",
       "    </div>\n",
       "    <div class=\"avatar\">\n",
       "      <div class=\"w-12\">\n",
       "<img src=\"https://img.daisyui.com/images/profile/demo/averagebulk@192.webp\">      </div>\n",
       "    </div>\n",
       "    <div class=\"avatar avatar-placeholder\">\n",
       "      <div class=\"bg-neutral text-neutral-content w-12\">\n",
       "<span>+99</span>      </div>\n",
       "    </div>\n",
       "  </div>\n",
       "</div>\n",
       "\n",
       "```"
      ],
      "text/plain": [
       "div((div((div((div((img((),{'src': 'https://img.daisyui.com/images/profile/demo/batperson@192.webp'}),),{'class': 'w-12'}),),{'class': 'avatar'}), div((div((img((),{'src': 'https://img.daisyui.com/images/profile/demo/spiderperson@192.webp'}),),{'class': 'w-12'}),),{'class': 'avatar'}), div((div((img((),{'src': 'https://img.daisyui.com/images/profile/demo/averagebulk@192.webp'}),),{'class': 'w-12'}),),{'class': 'avatar'}), div((div((img((),{'src': 'https://img.daisyui.com/images/profile/demo/wonderperson@192.webp'}),),{'class': 'w-12'}),),{'class': 'avatar'})),{'class': 'avatar-group -space-x-6'}), div((div((div((img((),{'src': 'https://img.daisyui.com/images/profile/demo/batperson@192.webp'}),),{'class': 'w-12'}),),{'class': 'avatar'}), div((div((img((),{'src': 'https://img.daisyui.com/images/profile/demo/spiderperson@192.webp'}),),{'class': 'w-12'}),),{'class': 'avatar'}), div((div((img((),{'src': 'https://img.daisyui.com/images/profile/demo/averagebulk@192.webp'}),),{'class': 'w-12'}),),{'class': 'avatar'}), div((div((span(('+99',),{}),),{'class': 'bg-neutral text-neutral-content w-12'}),),{'class': 'avatar avatar-placeholder'})),{'class': 'avatar-group -space-x-6'})),{})"
      ]
     },
     "execution_count": null,
     "metadata": {},
     "output_type": "execute_result"
    }
   ],
   "source": [
    "#|exports\n",
    "def test_avatar_group_fasthtml_examples():\n",
    "    \"\"\"Test avatar group and avatar group with counter from daisyUI v5 documentation.\"\"\"\n",
    "    from fasthtml.common import Div, Img, Span\n",
    "    from cjm_fasthtml_tailwind.utilities.sizing import w\n",
    "    from cjm_fasthtml_tailwind.utilities.spacing import space\n",
    "    from cjm_fasthtml_daisyui.utilities.semantic_colors import bg_dui, text_dui\n",
    "    \n",
    "    # Avatar group\n",
    "    avatar_group_example = Div(\n",
    "        Div(\n",
    "            Div(\n",
    "                Img(src=\"https://img.daisyui.com/images/profile/demo/batperson@192.webp\"),\n",
    "                cls=str(w._12)\n",
    "            ),\n",
    "            cls=str(avatar)\n",
    "        ),\n",
    "        Div(\n",
    "            Div(\n",
    "                Img(src=\"https://img.daisyui.com/images/profile/demo/spiderperson@192.webp\"),\n",
    "                cls=str(w._12)\n",
    "            ),\n",
    "            cls=str(avatar)\n",
    "        ),\n",
    "        Div(\n",
    "            Div(\n",
    "                Img(src=\"https://img.daisyui.com/images/profile/demo/averagebulk@192.webp\"),\n",
    "                cls=str(w._12)\n",
    "            ),\n",
    "            cls=str(avatar)\n",
    "        ),\n",
    "        Div(\n",
    "            Div(\n",
    "                Img(src=\"https://img.daisyui.com/images/profile/demo/wonderperson@192.webp\"),\n",
    "                cls=str(w._12)\n",
    "            ),\n",
    "            cls=str(avatar)\n",
    "        ),\n",
    "        cls=combine_classes(avatar_group, space.x(6, negative=True))\n",
    "    )\n",
    "    assert \"avatar-group\" in avatar_group_example.attrs['class']\n",
    "    assert \"-space-x-6\" in avatar_group_example.attrs['class']\n",
    "    assert len(avatar_group_example.children) == 4\n",
    "    for i, child in enumerate(avatar_group_example.children):\n",
    "        assert \"avatar\" in child.attrs['class']\n",
    "        assert \"w-12\" in child.children[0].attrs['class']\n",
    "        assert child.children[0].children[0].tag == \"img\"\n",
    "    \n",
    "    # Avatar group with counter\n",
    "    avatar_group_counter = Div(\n",
    "        Div(\n",
    "            Div(\n",
    "                Img(src=\"https://img.daisyui.com/images/profile/demo/batperson@192.webp\"),\n",
    "                cls=str(w._12)\n",
    "            ),\n",
    "            cls=str(avatar)\n",
    "        ),\n",
    "        Div(\n",
    "            Div(\n",
    "                Img(src=\"https://img.daisyui.com/images/profile/demo/spiderperson@192.webp\"),\n",
    "                cls=str(w._12)\n",
    "            ),\n",
    "            cls=str(avatar)\n",
    "        ),\n",
    "        Div(\n",
    "            Div(\n",
    "                Img(src=\"https://img.daisyui.com/images/profile/demo/averagebulk@192.webp\"),\n",
    "                cls=str(w._12)\n",
    "            ),\n",
    "            cls=str(avatar)\n",
    "        ),\n",
    "        Div(\n",
    "            Div(\n",
    "                Span(\"+99\"),\n",
    "                cls=combine_classes(bg_dui.neutral, text_dui.neutral_content, w._12)\n",
    "            ),\n",
    "            cls=combine_classes(avatar, avatar_modifiers.placeholder)\n",
    "        ),\n",
    "        cls=combine_classes(avatar_group, space.x(6, negative=True))\n",
    "    )\n",
    "    assert \"avatar-group\" in avatar_group_counter.attrs['class']\n",
    "    assert \"-space-x-6\" in avatar_group_counter.attrs['class']\n",
    "    # Check the counter avatar\n",
    "    counter_avatar = avatar_group_counter.children[3]\n",
    "    assert \"avatar\" in counter_avatar.attrs['class']\n",
    "    assert \"avatar-placeholder\" in counter_avatar.attrs['class']\n",
    "    counter_div = counter_avatar.children[0]\n",
    "    assert \"bg-neutral\" in counter_div.attrs['class']\n",
    "    assert \"text-neutral-content\" in counter_div.attrs['class']\n",
    "    assert \"w-12\" in counter_div.attrs['class']\n",
    "    assert counter_div.children[0].tag == \"span\"\n",
    "    assert counter_div.children[0].children[0] == \"+99\"\n",
    "    \n",
    "    # Return all examples in a Div\n",
    "    return Div(\n",
    "        avatar_group_example,\n",
    "        avatar_group_counter\n",
    "    )\n",
    "\n",
    "# Run the tests\n",
    "test_avatar_group_fasthtml_examples()"
   ]
  },
  {
   "cell_type": "code",
   "execution_count": null,
   "id": "1fcb262d-056e-41cc-b2f8-3052683c4aa9",
   "metadata": {},
   "outputs": [
    {
     "data": {
      "text/html": [
       "\n",
       "<script>\n",
       "document.body.addEventListener('htmx:configRequest', (event) => {\n",
       "    if(event.detail.path.includes('://')) return;\n",
       "    htmx.config.selfRequestsOnly=false;\n",
       "    event.detail.path = `${location.protocol}//${location.hostname}:8000${event.detail.path}`;\n",
       "});\n",
       "</script>"
      ],
      "text/plain": [
       "<IPython.core.display.HTML object>"
      ]
     },
     "metadata": {},
     "output_type": "display_data"
    },
    {
     "data": {
      "text/html": [
       "<iframe src=\"http://localhost:8000/\" style=\"width: 100%; height: auto; border: none;\" onload=\"{\n",
       "        let frame = this;\n",
       "        window.addEventListener('message', function(e) {\n",
       "            if (e.source !== frame.contentWindow) return; // Only proceed if the message is from this iframe\n",
       "            if (e.data.height) frame.style.height = (e.data.height+1) + 'px';\n",
       "        }, false);\n",
       "    }\" allow=\"accelerometer; autoplay; camera; clipboard-read; clipboard-write; display-capture; encrypted-media; fullscreen; gamepad; geolocation; gyroscope; hid; identity-credentials-get; idle-detection; magnetometer; microphone; midi; payment; picture-in-picture; publickey-credentials-get; screen-wake-lock; serial; usb; web-share; xr-spatial-tracking\"></iframe> "
      ],
      "text/plain": [
       "<IPython.core.display.HTML object>"
      ]
     },
     "metadata": {},
     "output_type": "display_data"
    }
   ],
   "source": [
    "#| eval: false\n",
    "#| output: false\n",
    "test_func = test_avatar_group_fasthtml_examples\n",
    "app, rt = create_test_app(theme=DaisyUITheme.LIGHT)\n",
    "\n",
    "@rt\n",
    "def index():\n",
    "    return create_test_page(test_func.__doc__.title().replace('.', ''), test_func())\n",
    "server = start_test_server(app)\n",
    "display(HTMX())\n",
    "server.stop()"
   ]
  },
  {
   "cell_type": "code",
   "execution_count": null,
   "id": "a54qvrwjl6l",
   "metadata": {},
   "outputs": [
    {
     "data": {
      "text/markdown": [
       "```html\n",
       "<div>\n",
       "  <div class=\"avatar\">\n",
       "    <div class=\"ring-primary ring-offset-base-100 w-24 rounded-full ring-2\">\n",
       "<img src=\"https://img.daisyui.com/images/profile/demo/spiderperson@192.webp\">    </div>\n",
       "  </div>\n",
       "  <div class=\"avatar avatar-online\">\n",
       "    <div class=\"w-24 rounded-full\">\n",
       "<img src=\"https://img.daisyui.com/images/profile/demo/gordon@192.webp\">    </div>\n",
       "  </div>\n",
       "  <div class=\"avatar avatar-offline\">\n",
       "    <div class=\"w-24 rounded-full\">\n",
       "<img src=\"https://img.daisyui.com/images/profile/demo/idiotsandwich@192.webp\">    </div>\n",
       "  </div>\n",
       "</div>\n",
       "\n",
       "```"
      ],
      "text/plain": [
       "div((div((div((img((),{'src': 'https://img.daisyui.com/images/profile/demo/spiderperson@192.webp'}),),{'class': 'ring-primary ring-offset-base-100 w-24 rounded-full ring-2'}),),{'class': 'avatar'}), div((div((img((),{'src': 'https://img.daisyui.com/images/profile/demo/gordon@192.webp'}),),{'class': 'w-24 rounded-full'}),),{'class': 'avatar avatar-online'}), div((div((img((),{'src': 'https://img.daisyui.com/images/profile/demo/idiotsandwich@192.webp'}),),{'class': 'w-24 rounded-full'}),),{'class': 'avatar avatar-offline'})),{})"
      ]
     },
     "execution_count": null,
     "metadata": {},
     "output_type": "execute_result"
    }
   ],
   "source": [
    "#|exports\n",
    "def test_avatar_ring_and_presence_fasthtml_examples():\n",
    "    \"\"\"Test avatar with ring and avatar with presence indicator from daisyUI v5 documentation.\"\"\"\n",
    "    from fasthtml.common import Div, Img\n",
    "    from cjm_fasthtml_tailwind.utilities.sizing import w\n",
    "    from cjm_fasthtml_tailwind.utilities.borders import rounded\n",
    "    from cjm_fasthtml_tailwind.utilities.effects import ring\n",
    "    from cjm_fasthtml_daisyui.utilities.semantic_colors import ring_dui, ring_offset_dui\n",
    "    \n",
    "    # Avatar with ring\n",
    "    ring_avatar = Div(\n",
    "        Div(\n",
    "            Img(src=\"https://img.daisyui.com/images/profile/demo/spiderperson@192.webp\"),\n",
    "            cls=combine_classes(\n",
    "                ring_dui.primary,\n",
    "                ring_offset_dui.base_100,\n",
    "                w._24,\n",
    "                rounded.full,\n",
    "                ring._2,\n",
    "            )\n",
    "        ),\n",
    "        cls=str(avatar)\n",
    "    )\n",
    "    assert \"avatar\" in ring_avatar.attrs['class']\n",
    "    ring_div = ring_avatar.children[0]\n",
    "    assert \"ring-primary\" in ring_div.attrs['class']\n",
    "    assert \"ring-offset-base-100\" in ring_div.attrs['class']\n",
    "    assert \"w-24\" in ring_div.attrs['class']\n",
    "    assert \"rounded-full\" in ring_div.attrs['class']\n",
    "    assert \"ring-2\" in ring_div.attrs['class']\n",
    "    assert ring_div.children[0].attrs['src'] == \"https://img.daisyui.com/images/profile/demo/spiderperson@192.webp\"\n",
    "    \n",
    "    # Avatar with presence indicator - online\n",
    "    online_avatar = Div(\n",
    "        Div(\n",
    "            Img(src=\"https://img.daisyui.com/images/profile/demo/gordon@192.webp\"),\n",
    "            cls=combine_classes(w._24, rounded.full)\n",
    "        ),\n",
    "        cls=combine_classes(avatar, avatar_modifiers.online)\n",
    "    )\n",
    "    assert \"avatar\" in online_avatar.attrs['class']\n",
    "    assert \"avatar-online\" in online_avatar.attrs['class']\n",
    "    assert \"w-24\" in online_avatar.children[0].attrs['class']\n",
    "    assert \"rounded-full\" in online_avatar.children[0].attrs['class']\n",
    "    assert online_avatar.children[0].children[0].attrs['src'] == \"https://img.daisyui.com/images/profile/demo/gordon@192.webp\"\n",
    "    \n",
    "    # Avatar with presence indicator - offline\n",
    "    offline_avatar = Div(\n",
    "        Div(\n",
    "            Img(src=\"https://img.daisyui.com/images/profile/demo/idiotsandwich@192.webp\"),\n",
    "            cls=combine_classes(w._24, rounded.full)\n",
    "        ),\n",
    "        cls=combine_classes(avatar, avatar_modifiers.offline)\n",
    "    )\n",
    "    assert \"avatar\" in offline_avatar.attrs['class']\n",
    "    assert \"avatar-offline\" in offline_avatar.attrs['class']\n",
    "    assert offline_avatar.children[0].children[0].attrs['src'] == \"https://img.daisyui.com/images/profile/demo/idiotsandwich@192.webp\"\n",
    "    \n",
    "    # Return all examples in a Div\n",
    "    return Div(\n",
    "        ring_avatar,\n",
    "        online_avatar,\n",
    "        offline_avatar\n",
    "    )\n",
    "\n",
    "# Run the tests\n",
    "test_avatar_ring_and_presence_fasthtml_examples()"
   ]
  },
  {
   "cell_type": "code",
   "execution_count": null,
   "id": "bb82326e-3c12-4dc9-9568-d09e583630a4",
   "metadata": {},
   "outputs": [
    {
     "data": {
      "text/html": [
       "\n",
       "<script>\n",
       "document.body.addEventListener('htmx:configRequest', (event) => {\n",
       "    if(event.detail.path.includes('://')) return;\n",
       "    htmx.config.selfRequestsOnly=false;\n",
       "    event.detail.path = `${location.protocol}//${location.hostname}:8000${event.detail.path}`;\n",
       "});\n",
       "</script>"
      ],
      "text/plain": [
       "<IPython.core.display.HTML object>"
      ]
     },
     "metadata": {},
     "output_type": "display_data"
    },
    {
     "data": {
      "text/html": [
       "<iframe src=\"http://localhost:8000/\" style=\"width: 100%; height: auto; border: none;\" onload=\"{\n",
       "        let frame = this;\n",
       "        window.addEventListener('message', function(e) {\n",
       "            if (e.source !== frame.contentWindow) return; // Only proceed if the message is from this iframe\n",
       "            if (e.data.height) frame.style.height = (e.data.height+1) + 'px';\n",
       "        }, false);\n",
       "    }\" allow=\"accelerometer; autoplay; camera; clipboard-read; clipboard-write; display-capture; encrypted-media; fullscreen; gamepad; geolocation; gyroscope; hid; identity-credentials-get; idle-detection; magnetometer; microphone; midi; payment; picture-in-picture; publickey-credentials-get; screen-wake-lock; serial; usb; web-share; xr-spatial-tracking\"></iframe> "
      ],
      "text/plain": [
       "<IPython.core.display.HTML object>"
      ]
     },
     "metadata": {},
     "output_type": "display_data"
    }
   ],
   "source": [
    "#| eval: false\n",
    "#| output: false\n",
    "test_func = test_avatar_ring_and_presence_fasthtml_examples\n",
    "app, rt = create_test_app(theme=DaisyUITheme.LIGHT)\n",
    "\n",
    "@rt\n",
    "def index():\n",
    "    return create_test_page(test_func.__doc__.title().replace('.', ''), test_func())\n",
    "server = start_test_server(app)\n",
    "display(HTMX())\n",
    "server.stop()"
   ]
  },
  {
   "cell_type": "code",
   "execution_count": null,
   "id": "zrcwwvjbe9j",
   "metadata": {},
   "outputs": [
    {
     "data": {
      "text/markdown": [
       "```html\n",
       "<div>\n",
       "  <div class=\"avatar avatar-placeholder\">\n",
       "    <div class=\"bg-neutral text-neutral-content w-24 rounded-full\">\n",
       "<span class=\"text-3xl\">D</span>    </div>\n",
       "  </div>\n",
       "  <div class=\"avatar avatar-online avatar-placeholder\">\n",
       "    <div class=\"bg-neutral text-neutral-content w-16 rounded-full\">\n",
       "<span class=\"text-xl\">AI</span>    </div>\n",
       "  </div>\n",
       "  <div class=\"avatar avatar-placeholder\">\n",
       "    <div class=\"bg-neutral text-neutral-content w-12 rounded-full\">\n",
       "<span>SY</span>    </div>\n",
       "  </div>\n",
       "  <div class=\"avatar avatar-placeholder\">\n",
       "    <div class=\"bg-neutral text-neutral-content w-8 rounded-full\">\n",
       "<span class=\"text-xs\">UI</span>    </div>\n",
       "  </div>\n",
       "</div>\n",
       "\n",
       "```"
      ],
      "text/plain": [
       "div((div((div((span(('D',),{'class': 'text-3xl'}),),{'class': 'bg-neutral text-neutral-content w-24 rounded-full'}),),{'class': 'avatar avatar-placeholder'}), div((div((span(('AI',),{'class': 'text-xl'}),),{'class': 'bg-neutral text-neutral-content w-16 rounded-full'}),),{'class': 'avatar avatar-online avatar-placeholder'}), div((div((span(('SY',),{}),),{'class': 'bg-neutral text-neutral-content w-12 rounded-full'}),),{'class': 'avatar avatar-placeholder'}), div((div((span(('UI',),{'class': 'text-xs'}),),{'class': 'bg-neutral text-neutral-content w-8 rounded-full'}),),{'class': 'avatar avatar-placeholder'})),{})"
      ]
     },
     "execution_count": null,
     "metadata": {},
     "output_type": "execute_result"
    }
   ],
   "source": [
    "#|exports\n",
    "def test_avatar_placeholder_fasthtml_examples():\n",
    "    \"\"\"Test avatar placeholder from daisyUI v5 documentation.\"\"\"\n",
    "    from fasthtml.common import Div, Span\n",
    "    from cjm_fasthtml_tailwind.utilities.sizing import w\n",
    "    from cjm_fasthtml_tailwind.utilities.borders import rounded\n",
    "    from cjm_fasthtml_tailwind.utilities.typography import font_size, font_weight, font_family, text_color\n",
    "    from cjm_fasthtml_daisyui.utilities.semantic_colors import bg_dui, text_dui\n",
    "    \n",
    "    # Basic avatar placeholder\n",
    "    placeholder_d = Div(\n",
    "        Div(\n",
    "            Span(\"D\", cls=str(font_size._3xl)),\n",
    "            cls=combine_classes(bg_dui.neutral, text_dui.neutral_content, w._24, rounded.full)\n",
    "        ),\n",
    "        cls=combine_classes(avatar, avatar_modifiers.placeholder)\n",
    "    )\n",
    "    assert \"avatar\" in placeholder_d.attrs['class']\n",
    "    assert \"avatar-placeholder\" in placeholder_d.attrs['class']\n",
    "    placeholder_div = placeholder_d.children[0]\n",
    "    assert \"bg-neutral\" in placeholder_div.attrs['class']\n",
    "    assert \"text-neutral-content\" in placeholder_div.attrs['class']\n",
    "    assert \"w-24\" in placeholder_div.attrs['class']\n",
    "    assert \"rounded-full\" in placeholder_div.attrs['class']\n",
    "    assert placeholder_div.children[0].tag == \"span\"\n",
    "    assert \"text-3xl\" in placeholder_div.children[0].attrs['class']\n",
    "    assert placeholder_div.children[0].children[0] == \"D\"\n",
    "    \n",
    "    # Avatar placeholder with online status\n",
    "    online_placeholder = Div(\n",
    "        Div(\n",
    "            Span(\"AI\", cls=str(font_size.xl)),\n",
    "            cls=combine_classes(bg_dui.neutral, text_dui.neutral_content, w._16, rounded.full)\n",
    "        ),\n",
    "        cls=combine_classes(avatar, avatar_modifiers.online, avatar_modifiers.placeholder)\n",
    "    )\n",
    "    assert \"avatar\" in online_placeholder.attrs['class']\n",
    "    assert \"avatar-online\" in online_placeholder.attrs['class']\n",
    "    assert \"avatar-placeholder\" in online_placeholder.attrs['class']\n",
    "    assert \"w-16\" in online_placeholder.children[0].attrs['class']\n",
    "    assert \"text-xl\" in online_placeholder.children[0].children[0].attrs['class']\n",
    "    assert online_placeholder.children[0].children[0].children[0] == \"AI\"\n",
    "    \n",
    "    # Smaller avatar placeholder\n",
    "    placeholder_sy = Div(\n",
    "        Div(\n",
    "            Span(\"SY\"),\n",
    "            cls=combine_classes(bg_dui.neutral, text_dui.neutral_content, w._12, rounded.full)\n",
    "        ),\n",
    "        cls=combine_classes(avatar, avatar_modifiers.placeholder)\n",
    "    )\n",
    "    assert \"w-12\" in placeholder_sy.children[0].attrs['class']\n",
    "    assert placeholder_sy.children[0].children[0].children[0] == \"SY\"\n",
    "    \n",
    "    # Extra small avatar placeholder\n",
    "    placeholder_ui = Div(\n",
    "        Div(\n",
    "            Span(\"UI\", cls=str(font_size.xs)),\n",
    "            cls=combine_classes(bg_dui.neutral, text_dui.neutral_content, w._8, rounded.full)\n",
    "        ),\n",
    "        cls=combine_classes(avatar, avatar_modifiers.placeholder)\n",
    "    )\n",
    "    assert \"w-8\" in placeholder_ui.children[0].attrs['class']\n",
    "    assert \"text-xs\" in placeholder_ui.children[0].children[0].attrs['class']\n",
    "    assert placeholder_ui.children[0].children[0].children[0] == \"UI\"\n",
    "    \n",
    "    # Return all examples in a Div\n",
    "    return Div(\n",
    "        placeholder_d,\n",
    "        online_placeholder,\n",
    "        placeholder_sy,\n",
    "        placeholder_ui\n",
    "    )\n",
    "\n",
    "# Run the tests\n",
    "test_avatar_placeholder_fasthtml_examples()"
   ]
  },
  {
   "cell_type": "code",
   "execution_count": null,
   "id": "ad805d0b-b088-4506-a3d8-18ec0968d48d",
   "metadata": {},
   "outputs": [
    {
     "data": {
      "text/html": [
       "\n",
       "<script>\n",
       "document.body.addEventListener('htmx:configRequest', (event) => {\n",
       "    if(event.detail.path.includes('://')) return;\n",
       "    htmx.config.selfRequestsOnly=false;\n",
       "    event.detail.path = `${location.protocol}//${location.hostname}:8000${event.detail.path}`;\n",
       "});\n",
       "</script>"
      ],
      "text/plain": [
       "<IPython.core.display.HTML object>"
      ]
     },
     "metadata": {},
     "output_type": "display_data"
    },
    {
     "data": {
      "text/html": [
       "<iframe src=\"http://localhost:8000/\" style=\"width: 100%; height: auto; border: none;\" onload=\"{\n",
       "        let frame = this;\n",
       "        window.addEventListener('message', function(e) {\n",
       "            if (e.source !== frame.contentWindow) return; // Only proceed if the message is from this iframe\n",
       "            if (e.data.height) frame.style.height = (e.data.height+1) + 'px';\n",
       "        }, false);\n",
       "    }\" allow=\"accelerometer; autoplay; camera; clipboard-read; clipboard-write; display-capture; encrypted-media; fullscreen; gamepad; geolocation; gyroscope; hid; identity-credentials-get; idle-detection; magnetometer; microphone; midi; payment; picture-in-picture; publickey-credentials-get; screen-wake-lock; serial; usb; web-share; xr-spatial-tracking\"></iframe> "
      ],
      "text/plain": [
       "<IPython.core.display.HTML object>"
      ]
     },
     "metadata": {},
     "output_type": "display_data"
    }
   ],
   "source": [
    "#| eval: false\n",
    "#| output: false\n",
    "test_func = test_avatar_placeholder_fasthtml_examples\n",
    "app, rt = create_test_app(theme=DaisyUITheme.LIGHT)\n",
    "\n",
    "@rt\n",
    "def index():\n",
    "    return create_test_page(test_func.__doc__.title().replace('.', ''), test_func())\n",
    "server = start_test_server(app)\n",
    "display(HTMX())\n",
    "server.stop()"
   ]
  },
  {
   "cell_type": "code",
   "execution_count": null,
   "id": "5198290f-49cb-4e41-95ee-714a8475790d",
   "metadata": {},
   "outputs": [],
   "source": []
  },
  {
   "cell_type": "code",
   "execution_count": null,
   "id": "666d93aa-d198-4dae-b2aa-2f2ebb3f2527",
   "metadata": {},
   "outputs": [],
   "source": []
  },
  {
   "cell_type": "code",
   "execution_count": null,
   "id": "ac5b0729-71c6-48d2-8282-4921e005ce96",
   "metadata": {},
   "outputs": [],
   "source": [
    "#| hide\n",
    "import nbdev; nbdev.nbdev_export()"
   ]
  }
 ],
 "metadata": {
  "kernelspec": {
   "display_name": "python3",
   "language": "python",
   "name": "python3"
  }
 },
 "nbformat": 4,
 "nbformat_minor": 5
}
