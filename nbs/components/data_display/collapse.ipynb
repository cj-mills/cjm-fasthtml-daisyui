{
 "cells": [
  {
   "cell_type": "markdown",
   "id": "c38e53d7-9e20-4085-8feb-90110bd73415",
   "metadata": {},
   "source": [
    "# collapse\n",
    "\n",
    "> Collapse is used for showing and hiding content."
   ]
  },
  {
   "cell_type": "code",
   "execution_count": null,
   "id": "34f1a79e-39bf-4113-a9db-9578c2330e44",
   "metadata": {},
   "outputs": [],
   "source": [
    "#| default_exp components.data_display.collapse"
   ]
  },
  {
   "cell_type": "code",
   "execution_count": null,
   "id": "419459f4-3493-4d75-a579-135c0eab2128",
   "metadata": {},
   "outputs": [],
   "source": [
    "#| hide\n",
    "from nbdev.showdoc import *"
   ]
  },
  {
   "cell_type": "code",
   "execution_count": null,
   "id": "17fd66d1-e06b-443f-ac55-99c2a58eb0c2",
   "metadata": {},
   "outputs": [],
   "source": [
    "#| export\n",
    "from typing import Optional, Dict, Any, Union, List\n",
    "from cjm_fasthtml_tailwind.core.base import (\n",
    "    SingleValueFactory, BaseFactory, combine_classes\n",
    ")\n",
    "from cjm_fasthtml_tailwind.builders.scales import SimpleFactory\n",
    "\n",
    "from fasthtml.jupyter import JupyUvi, HTMX\n",
    "from cjm_fasthtml_daisyui.core.testing import create_test_app, create_test_page, start_test_server\n",
    "\n",
    "from fasthtml.common import Div\n",
    "from cjm_fasthtml_daisyui.core.themes import DaisyUITheme\n",
    "from IPython.display import display"
   ]
  },
  {
   "cell_type": "markdown",
   "id": "523e02fe-fe63-4904-a55c-94dfa955b74a",
   "metadata": {},
   "source": [
    "### Base Collapse\n",
    "\n",
    "The base collapse components:"
   ]
  },
  {
   "cell_type": "code",
   "execution_count": null,
   "id": "2ad1c48c-7185-4aa3-9851-300477eca121",
   "metadata": {},
   "outputs": [],
   "source": [
    "#| export\n",
    "collapse = SingleValueFactory(\"collapse\", \"Collapse/accordion container component\") # Collapse container\n",
    "collapse_title = SingleValueFactory(\"collapse-title\", \"Title part of collapse\") # Collapse title\n",
    "collapse_content = SingleValueFactory(\"collapse-content\", \"Content part of collapse\") # Collapse content"
   ]
  },
  {
   "cell_type": "markdown",
   "id": "42abfec9-d39f-4715-9c12-c8d9ba7a56d5",
   "metadata": {},
   "source": [
    "### Collapse Modifiers\n",
    "\n",
    "Collapse modifier utilities:"
   ]
  },
  {
   "cell_type": "code",
   "execution_count": null,
   "id": "d5409c41-1585-4468-98f3-eae06cafedac",
   "metadata": {},
   "outputs": [],
   "source": [
    "#| export\n",
    "collapse_modifiers = SimpleFactory(\n",
    "    {\n",
    "        \"arrow\": \"collapse-arrow\",\n",
    "        \"plus\": \"collapse-plus\",\n",
    "        \"open\": \"collapse-open\",\n",
    "        \"close\": \"collapse-close\"\n",
    "    },\n",
    "    \"Collapse modifiers (arrow icon, plus/minus icon, force open/close)\"\n",
    ") # Collapse modifiers"
   ]
  },
  {
   "cell_type": "markdown",
   "id": "9c442ce8-fe5c-428b-b865-fd9760eaadc3",
   "metadata": {},
   "source": [
    "### Collapse Test Examples"
   ]
  },
  {
   "cell_type": "code",
   "execution_count": null,
   "id": "913f2f8a-d867-460a-96b5-00b76195a2d2",
   "metadata": {},
   "outputs": [],
   "source": [
    "#| export\n",
    "def test_collapse_basic_examples():\n",
    "    \"\"\"Test basic collapse utilities.\"\"\"\n",
    "    # Basic components\n",
    "    assert str(collapse) == \"collapse\"\n",
    "    assert str(collapse_title) == \"collapse-title\"\n",
    "    assert str(collapse_content) == \"collapse-content\"\n",
    "    \n",
    "    # With modifiers\n",
    "    assert str(collapse.hover) == \"hover:collapse\"\n",
    "    assert str(collapse_title.md) == \"md:collapse-title\"\n",
    "    assert str(collapse_content.dark) == \"dark:collapse-content\"\n",
    "\n",
    "# Run the tests\n",
    "test_collapse_basic_examples()"
   ]
  },
  {
   "cell_type": "code",
   "execution_count": null,
   "id": "a5d423c4-0a70-4a2e-a591-52e93a29b46d",
   "metadata": {},
   "outputs": [],
   "source": [
    "#| export\n",
    "def test_collapse_modifiers_examples():\n",
    "    \"\"\"Test collapse modifier utilities.\"\"\"\n",
    "    assert str(collapse_modifiers.arrow) == \"collapse-arrow\"\n",
    "    assert str(collapse_modifiers.plus) == \"collapse-plus\"\n",
    "    assert str(collapse_modifiers.open) == \"collapse-open\"\n",
    "    assert str(collapse_modifiers.close) == \"collapse-close\"\n",
    "    \n",
    "    # With responsive modifiers\n",
    "    assert str(collapse_modifiers.arrow.hover) == \"hover:collapse-arrow\"\n",
    "    assert str(collapse_modifiers.plus.focus) == \"focus:collapse-plus\"\n",
    "\n",
    "# Run the tests\n",
    "test_collapse_modifiers_examples()"
   ]
  },
  {
   "cell_type": "code",
   "execution_count": null,
   "id": "c73adcb7-5567-4950-9026-7f4d2351a54c",
   "metadata": {},
   "outputs": [
    {
     "data": {
      "text/markdown": [
       "```html\n",
       "<div>\n",
       "  <div tabindex=\"0\" class=\"collapse bg-base-100 border-base-300 border\">\n",
       "    <div class=\"collapse-title font-semibold\">How do I create an account?</div>\n",
       "    <div class=\"collapse-content text-sm\">Click the &quot;Sign Up&quot; button in the top right corner and follow the registration process.</div>\n",
       "  </div>\n",
       "  <div class=\"collapse bg-base-100 border-base-300 border\">\n",
       "    <input type=\"checkbox\">\n",
       "    <div class=\"collapse-title font-semibold\">How do I create an account?</div>\n",
       "    <div class=\"collapse-content text-sm\">Click the &quot;Sign Up&quot; button in the top right corner and follow the registration process.</div>\n",
       "  </div>\n",
       "<details class=\"collapse bg-base-100 border-base-300 border\"><summary class=\"collapse-title font-semibold\">How do I create an account?</summary>    <div class=\"collapse-content text-sm\">Click the &quot;Sign Up&quot; button in the top right corner and follow the registration process.</div>\n",
       "</details></div>\n",
       "\n",
       "```"
      ],
      "text/plain": [
       "div((div((div(('How do I create an account?',),{'class': 'collapse-title font-semibold'}), div(('Click the \"Sign Up\" button in the top right corner and follow the registration process.',),{'class': 'collapse-content text-sm'})),{'tabindex': '0', 'class': 'collapse bg-base-100 border-base-300 border'}), div((input((),{'type': 'checkbox'}), div(('How do I create an account?',),{'class': 'collapse-title font-semibold'}), div(('Click the \"Sign Up\" button in the top right corner and follow the registration process.',),{'class': 'collapse-content text-sm'})),{'class': 'collapse bg-base-100 border-base-300 border'}), details((summary(('How do I create an account?',),{'class': 'collapse-title font-semibold'}), div(('Click the \"Sign Up\" button in the top right corner and follow the registration process.',),{'class': 'collapse-content text-sm'})),{'class': 'collapse bg-base-100 border-base-300 border'})),{})"
      ]
     },
     "execution_count": null,
     "metadata": {},
     "output_type": "execute_result"
    }
   ],
   "source": [
    "#| export\n",
    "def test_collapse_basic_fasthtml_examples():\n",
    "    \"\"\"Test basic collapse examples: focus, checkbox, and details/summary from daisyUI v5 documentation.\"\"\"\n",
    "    from fasthtml.common import Div, Input, Details, Summary\n",
    "    from cjm_fasthtml_tailwind.utilities.borders import border\n",
    "    from cjm_fasthtml_tailwind.utilities.typography import font, text\n",
    "    from cjm_fasthtml_daisyui.core.utility_classes import bg_dui, border_dui\n",
    "    \n",
    "    # Collapse with focus (tabindex)\n",
    "    focus_collapse = Div(\n",
    "        Div(\"How do I create an account?\", cls=combine_classes(collapse_title, font.semibold)),\n",
    "        Div(\n",
    "            'Click the \"Sign Up\" button in the top right corner and follow the registration process.',\n",
    "            cls=combine_classes(collapse_content, text.sm)\n",
    "        ),\n",
    "        tabindex=\"0\",\n",
    "        cls=combine_classes(collapse, bg_dui.base_100, border_dui.base_300, border())\n",
    "    )\n",
    "    assert focus_collapse.attrs['tabindex'] == \"0\"\n",
    "    assert \"collapse\" in focus_collapse.attrs['class']\n",
    "    assert \"bg-base-100\" in focus_collapse.attrs['class']\n",
    "    assert \"border-base-300\" in focus_collapse.attrs['class']\n",
    "    assert \"border\" in focus_collapse.attrs['class']\n",
    "    assert \"collapse-title\" in focus_collapse.children[0].attrs['class']\n",
    "    assert \"font-semibold\" in focus_collapse.children[0].attrs['class']\n",
    "    assert focus_collapse.children[0].children[0] == \"How do I create an account?\"\n",
    "    assert \"collapse-content\" in focus_collapse.children[1].attrs['class']\n",
    "    assert \"text-sm\" in focus_collapse.children[1].attrs['class']\n",
    "    \n",
    "    # Collapse with checkbox\n",
    "    checkbox_collapse = Div(\n",
    "        Input(type=\"checkbox\"),\n",
    "        Div(\"How do I create an account?\", cls=combine_classes(collapse_title, font.semibold)),\n",
    "        Div(\n",
    "            'Click the \"Sign Up\" button in the top right corner and follow the registration process.',\n",
    "            cls=combine_classes(collapse_content, text.sm)\n",
    "        ),\n",
    "        cls=combine_classes(collapse, bg_dui.base_100, border_dui.base_300, border())\n",
    "    )\n",
    "    assert checkbox_collapse.children[0].tag == \"input\"\n",
    "    assert checkbox_collapse.children[0].attrs['type'] == \"checkbox\"\n",
    "    assert \"collapse\" in checkbox_collapse.attrs['class']\n",
    "    assert \"bg-base-100\" in checkbox_collapse.attrs['class']\n",
    "    assert \"border-base-300\" in checkbox_collapse.attrs['class']\n",
    "    assert \"border\" in checkbox_collapse.attrs['class']\n",
    "    assert \"collapse-title\" in checkbox_collapse.children[1].attrs['class']\n",
    "    assert \"collapse-content\" in checkbox_collapse.children[2].attrs['class']\n",
    "    \n",
    "    # Collapse using details and summary tag\n",
    "    details_collapse = Details(\n",
    "        Summary(\"How do I create an account?\", cls=combine_classes(collapse_title, font.semibold)),\n",
    "        Div(\n",
    "            'Click the \"Sign Up\" button in the top right corner and follow the registration process.',\n",
    "            cls=combine_classes(collapse_content, text.sm)\n",
    "        ),\n",
    "        cls=combine_classes(collapse, bg_dui.base_100, border_dui.base_300, border())\n",
    "    )\n",
    "    assert details_collapse.tag == \"details\"\n",
    "    assert details_collapse.children[0].tag == \"summary\"\n",
    "    assert \"collapse\" in details_collapse.attrs['class']\n",
    "    assert \"bg-base-100\" in details_collapse.attrs['class']\n",
    "    assert \"border-base-300\" in details_collapse.attrs['class']\n",
    "    assert \"border\" in details_collapse.attrs['class']\n",
    "    assert \"collapse-title\" in details_collapse.children[0].attrs['class']\n",
    "    assert \"font-semibold\" in details_collapse.children[0].attrs['class']\n",
    "    assert details_collapse.children[0].children[0] == \"How do I create an account?\"\n",
    "    assert \"collapse-content\" in details_collapse.children[1].attrs['class']\n",
    "    assert \"text-sm\" in details_collapse.children[1].attrs['class']\n",
    "    \n",
    "    # Return all collapse examples in a Div\n",
    "    return Div(focus_collapse, checkbox_collapse, details_collapse)\n",
    "\n",
    "# Run the tests\n",
    "test_collapse_basic_fasthtml_examples()"
   ]
  },
  {
   "cell_type": "code",
   "execution_count": null,
   "id": "ae4b7b07-d407-421e-9f0b-9e7e38c7bea2",
   "metadata": {},
   "outputs": [
    {
     "data": {
      "text/html": [
       "\n",
       "<script>\n",
       "document.body.addEventListener('htmx:configRequest', (event) => {\n",
       "    if(event.detail.path.includes('://')) return;\n",
       "    htmx.config.selfRequestsOnly=false;\n",
       "    event.detail.path = `${location.protocol}//${location.hostname}:8000${event.detail.path}`;\n",
       "});\n",
       "</script>"
      ],
      "text/plain": [
       "<IPython.core.display.HTML object>"
      ]
     },
     "metadata": {},
     "output_type": "display_data"
    },
    {
     "data": {
      "text/html": [
       "<iframe src=\"http://localhost:8000/\" style=\"width: 100%; height: auto; border: none;\" onload=\"{\n",
       "        let frame = this;\n",
       "        window.addEventListener('message', function(e) {\n",
       "            if (e.source !== frame.contentWindow) return; // Only proceed if the message is from this iframe\n",
       "            if (e.data.height) frame.style.height = (e.data.height+1) + 'px';\n",
       "        }, false);\n",
       "    }\" allow=\"accelerometer; autoplay; camera; clipboard-read; clipboard-write; display-capture; encrypted-media; fullscreen; gamepad; geolocation; gyroscope; hid; identity-credentials-get; idle-detection; magnetometer; microphone; midi; payment; picture-in-picture; publickey-credentials-get; screen-wake-lock; serial; usb; web-share; xr-spatial-tracking\"></iframe> "
      ],
      "text/plain": [
       "<IPython.core.display.HTML object>"
      ]
     },
     "metadata": {},
     "output_type": "display_data"
    }
   ],
   "source": [
    "#| eval: false\n",
    "test_func = test_collapse_basic_fasthtml_examples\n",
    "app, rt = create_test_app(theme=DaisyUITheme.LIGHT)\n",
    "\n",
    "@rt\n",
    "def index():\n",
    "    return create_test_page(test_func.__doc__.title().replace('.', ''), test_func())\n",
    "server = start_test_server(app)\n",
    "display(HTMX())\n",
    "server.stop()"
   ]
  },
  {
   "cell_type": "code",
   "execution_count": null,
   "id": "d6npkbge3mu",
   "metadata": {},
   "outputs": [
    {
     "data": {
      "text/markdown": [
       "```html\n",
       "<div>\n",
       "  <div tabindex=\"0\" class=\"collapse\">\n",
       "    <div class=\"collapse-title font-semibold\">How do I create an account?</div>\n",
       "    <div class=\"collapse-content text-sm\">Click the &quot;Sign Up&quot; button in the top right corner and follow the registration process.</div>\n",
       "  </div>\n",
       "  <div tabindex=\"0\" class=\"collapse collapse-arrow bg-base-100 border-base-300 border\">\n",
       "    <div class=\"collapse-title font-semibold\">How do I create an account?</div>\n",
       "    <div class=\"collapse-content text-sm\">Click the &quot;Sign Up&quot; button in the top right corner and follow the registration process.</div>\n",
       "  </div>\n",
       "  <div tabindex=\"0\" class=\"collapse collapse-plus bg-base-100 border-base-300 border\">\n",
       "    <div class=\"collapse-title font-semibold\">How do I create an account?</div>\n",
       "    <div class=\"collapse-content text-sm\">Click the &quot;Sign Up&quot; button in the top right corner and follow the registration process.</div>\n",
       "  </div>\n",
       "</div>\n",
       "\n",
       "```"
      ],
      "text/plain": [
       "div((div((div(('How do I create an account?',),{'class': 'collapse-title font-semibold'}), div(('Click the \"Sign Up\" button in the top right corner and follow the registration process.',),{'class': 'collapse-content text-sm'})),{'tabindex': '0', 'class': 'collapse'}), div((div(('How do I create an account?',),{'class': 'collapse-title font-semibold'}), div(('Click the \"Sign Up\" button in the top right corner and follow the registration process.',),{'class': 'collapse-content text-sm'})),{'tabindex': '0', 'class': 'collapse collapse-arrow bg-base-100 border-base-300 border'}), div((div(('How do I create an account?',),{'class': 'collapse-title font-semibold'}), div(('Click the \"Sign Up\" button in the top right corner and follow the registration process.',),{'class': 'collapse-content text-sm'})),{'tabindex': '0', 'class': 'collapse collapse-plus bg-base-100 border-base-300 border'})),{})"
      ]
     },
     "execution_count": null,
     "metadata": {},
     "output_type": "execute_result"
    }
   ],
   "source": [
    "#| export\n",
    "def test_collapse_style_fasthtml_examples():\n",
    "    \"\"\"Test collapse style examples: without border/background, with arrow icon, with plus/minus icon from daisyUI v5 documentation.\"\"\"\n",
    "    from fasthtml.common import Div, Input\n",
    "    from cjm_fasthtml_tailwind.utilities.borders import border\n",
    "    from cjm_fasthtml_tailwind.utilities.typography import font, text\n",
    "    from cjm_fasthtml_daisyui.core.utility_classes import bg_dui, border_dui\n",
    "    \n",
    "    # Collapse without border and background\n",
    "    minimal_collapse = Div(\n",
    "        Div(\"How do I create an account?\", cls=combine_classes(collapse_title, font.semibold)),\n",
    "        Div(\n",
    "            'Click the \"Sign Up\" button in the top right corner and follow the registration process.',\n",
    "            cls=combine_classes(collapse_content, text.sm)\n",
    "        ),\n",
    "        tabindex=\"0\",\n",
    "        cls=str(collapse)\n",
    "    )\n",
    "    assert minimal_collapse.attrs['tabindex'] == \"0\"\n",
    "    assert minimal_collapse.attrs['class'] == \"collapse\"\n",
    "    assert \"collapse-title\" in minimal_collapse.children[0].attrs['class']\n",
    "    assert \"font-semibold\" in minimal_collapse.children[0].attrs['class']\n",
    "    assert minimal_collapse.children[0].children[0] == \"How do I create an account?\"\n",
    "    assert \"collapse-content\" in minimal_collapse.children[1].attrs['class']\n",
    "    assert \"text-sm\" in minimal_collapse.children[1].attrs['class']\n",
    "    \n",
    "    # Collapse with arrow icon\n",
    "    arrow_collapse = Div(\n",
    "        Div(\"How do I create an account?\", cls=combine_classes(collapse_title, font.semibold)),\n",
    "        Div(\n",
    "            'Click the \"Sign Up\" button in the top right corner and follow the registration process.',\n",
    "            cls=combine_classes(collapse_content, text.sm)\n",
    "        ),\n",
    "        tabindex=\"0\",\n",
    "        cls=combine_classes(collapse, collapse_modifiers.arrow, bg_dui.base_100, border_dui.base_300, border())\n",
    "    )\n",
    "    assert arrow_collapse.attrs['tabindex'] == \"0\"\n",
    "    assert \"collapse\" in arrow_collapse.attrs['class']\n",
    "    assert \"collapse-arrow\" in arrow_collapse.attrs['class']\n",
    "    assert \"bg-base-100\" in arrow_collapse.attrs['class']\n",
    "    assert \"border-base-300\" in arrow_collapse.attrs['class']\n",
    "    assert \"border\" in arrow_collapse.attrs['class']\n",
    "    assert \"collapse-title\" in arrow_collapse.children[0].attrs['class']\n",
    "    assert \"collapse-content\" in arrow_collapse.children[1].attrs['class']\n",
    "    \n",
    "    # Collapse with plus/minus icon\n",
    "    plus_collapse = Div(\n",
    "        Div(\"How do I create an account?\", cls=combine_classes(collapse_title, font.semibold)),\n",
    "        Div(\n",
    "            'Click the \"Sign Up\" button in the top right corner and follow the registration process.',\n",
    "            cls=combine_classes(collapse_content, text.sm)\n",
    "        ),\n",
    "        tabindex=\"0\",\n",
    "        cls=combine_classes(collapse, collapse_modifiers.plus, bg_dui.base_100, border_dui.base_300, border())\n",
    "    )\n",
    "    assert plus_collapse.attrs['tabindex'] == \"0\"\n",
    "    assert \"collapse\" in plus_collapse.attrs['class']\n",
    "    assert \"collapse-plus\" in plus_collapse.attrs['class']\n",
    "    assert \"bg-base-100\" in plus_collapse.attrs['class']\n",
    "    assert \"border-base-300\" in plus_collapse.attrs['class']\n",
    "    assert \"border\" in plus_collapse.attrs['class']\n",
    "    assert \"collapse-title\" in plus_collapse.children[0].attrs['class']\n",
    "    assert \"font-semibold\" in plus_collapse.children[0].attrs['class']\n",
    "    assert plus_collapse.children[0].children[0] == \"How do I create an account?\"\n",
    "    assert \"collapse-content\" in plus_collapse.children[1].attrs['class']\n",
    "    assert \"text-sm\" in plus_collapse.children[1].attrs['class']\n",
    "    \n",
    "    # Return all collapse style examples in a Div\n",
    "    return Div(minimal_collapse, arrow_collapse, plus_collapse)\n",
    "\n",
    "# Run the tests\n",
    "test_collapse_style_fasthtml_examples()"
   ]
  },
  {
   "cell_type": "code",
   "execution_count": null,
   "id": "93f6b07d-86ba-47d9-8424-cb160fbfc62d",
   "metadata": {},
   "outputs": [
    {
     "data": {
      "text/html": [
       "\n",
       "<script>\n",
       "document.body.addEventListener('htmx:configRequest', (event) => {\n",
       "    if(event.detail.path.includes('://')) return;\n",
       "    htmx.config.selfRequestsOnly=false;\n",
       "    event.detail.path = `${location.protocol}//${location.hostname}:8000${event.detail.path}`;\n",
       "});\n",
       "</script>"
      ],
      "text/plain": [
       "<IPython.core.display.HTML object>"
      ]
     },
     "metadata": {},
     "output_type": "display_data"
    },
    {
     "data": {
      "text/html": [
       "<iframe src=\"http://localhost:8000/\" style=\"width: 100%; height: auto; border: none;\" onload=\"{\n",
       "        let frame = this;\n",
       "        window.addEventListener('message', function(e) {\n",
       "            if (e.source !== frame.contentWindow) return; // Only proceed if the message is from this iframe\n",
       "            if (e.data.height) frame.style.height = (e.data.height+1) + 'px';\n",
       "        }, false);\n",
       "    }\" allow=\"accelerometer; autoplay; camera; clipboard-read; clipboard-write; display-capture; encrypted-media; fullscreen; gamepad; geolocation; gyroscope; hid; identity-credentials-get; idle-detection; magnetometer; microphone; midi; payment; picture-in-picture; publickey-credentials-get; screen-wake-lock; serial; usb; web-share; xr-spatial-tracking\"></iframe> "
      ],
      "text/plain": [
       "<IPython.core.display.HTML object>"
      ]
     },
     "metadata": {},
     "output_type": "display_data"
    }
   ],
   "source": [
    "#| eval: false\n",
    "test_func = test_collapse_style_fasthtml_examples\n",
    "app, rt = create_test_app(theme=DaisyUITheme.LIGHT)\n",
    "\n",
    "@rt\n",
    "def index():\n",
    "    return create_test_page(test_func.__doc__.title().replace('.', ''), test_func())\n",
    "server = start_test_server(app)\n",
    "display(HTMX())\n",
    "server.stop()"
   ]
  },
  {
   "cell_type": "code",
   "execution_count": null,
   "id": "xl8vlajbf3",
   "metadata": {},
   "outputs": [
    {
     "data": {
      "text/markdown": [
       "```html\n",
       "<div>\n",
       "  <div tabindex=\"0\" class=\"collapse collapse-open bg-base-100 border-base-300 border\">\n",
       "    <div class=\"collapse-title font-semibold\">I have collapse-open class</div>\n",
       "    <div class=\"collapse-content text-sm\">Click the &quot;Sign Up&quot; button in the top right corner and follow the registration process.</div>\n",
       "  </div>\n",
       "  <div tabindex=\"0\" class=\"collapse collapse-close bg-base-100 border-base-300 border\">\n",
       "    <div class=\"collapse-title font-semibold\">I have collapse-close class</div>\n",
       "    <div class=\"collapse-content text-sm\">Click the &quot;Sign Up&quot; button in the top right corner and follow the registration process.</div>\n",
       "  </div>\n",
       "</div>\n",
       "\n",
       "```"
      ],
      "text/plain": [
       "div((div((div(('I have collapse-open class',),{'class': 'collapse-title font-semibold'}), div(('Click the \"Sign Up\" button in the top right corner and follow the registration process.',),{'class': 'collapse-content text-sm'})),{'tabindex': '0', 'class': 'collapse collapse-open bg-base-100 border-base-300 border'}), div((div(('I have collapse-close class',),{'class': 'collapse-title font-semibold'}), div(('Click the \"Sign Up\" button in the top right corner and follow the registration process.',),{'class': 'collapse-content text-sm'})),{'tabindex': '0', 'class': 'collapse collapse-close bg-base-100 border-base-300 border'})),{})"
      ]
     },
     "execution_count": null,
     "metadata": {},
     "output_type": "execute_result"
    }
   ],
   "source": [
    "#| export\n",
    "def test_collapse_state_fasthtml_examples():\n",
    "    \"\"\"Test collapse state examples: force open and force close from daisyUI v5 documentation.\"\"\"\n",
    "    from fasthtml.common import Div\n",
    "    from cjm_fasthtml_tailwind.utilities.borders import border \n",
    "    from cjm_fasthtml_tailwind.utilities.typography import font, text\n",
    "    from cjm_fasthtml_daisyui.core.utility_classes import bg_dui, border_dui\n",
    "    \n",
    "    # Force open collapse\n",
    "    open_collapse = Div(\n",
    "        Div(\"I have collapse-open class\", cls=combine_classes(collapse_title, font.semibold)),\n",
    "        Div(\n",
    "            'Click the \"Sign Up\" button in the top right corner and follow the registration process.',\n",
    "            cls=combine_classes(collapse_content, text.sm)\n",
    "        ),\n",
    "        tabindex=\"0\",\n",
    "        cls=combine_classes(collapse, collapse_modifiers.open, bg_dui.base_100, border_dui.base_300, border())\n",
    "    )\n",
    "    assert open_collapse.attrs['tabindex'] == \"0\"\n",
    "    assert \"collapse\" in open_collapse.attrs['class']\n",
    "    assert \"collapse-open\" in open_collapse.attrs['class']\n",
    "    assert \"bg-base-100\" in open_collapse.attrs['class']\n",
    "    assert \"border-base-300\" in open_collapse.attrs['class']\n",
    "    assert \"border\" in open_collapse.attrs['class']\n",
    "    assert \"collapse-title\" in open_collapse.children[0].attrs['class']\n",
    "    assert \"font-semibold\" in open_collapse.children[0].attrs['class']\n",
    "    assert open_collapse.children[0].children[0] == \"I have collapse-open class\"\n",
    "    assert \"collapse-content\" in open_collapse.children[1].attrs['class']\n",
    "    assert \"text-sm\" in open_collapse.children[1].attrs['class']\n",
    "    \n",
    "    # Force close collapse  \n",
    "    close_collapse = Div(\n",
    "        Div(\"I have collapse-close class\", cls=combine_classes(collapse_title, font.semibold)),\n",
    "        Div(\n",
    "            'Click the \"Sign Up\" button in the top right corner and follow the registration process.',\n",
    "            cls=combine_classes(collapse_content, text.sm)\n",
    "        ),\n",
    "        tabindex=\"0\",\n",
    "        cls=combine_classes(collapse, collapse_modifiers.close, bg_dui.base_100, border_dui.base_300, border())\n",
    "    )\n",
    "    assert close_collapse.attrs['tabindex'] == \"0\"\n",
    "    assert \"collapse\" in close_collapse.attrs['class']\n",
    "    assert \"collapse-close\" in close_collapse.attrs['class']\n",
    "    assert \"bg-base-100\" in close_collapse.attrs['class']\n",
    "    assert \"border-base-300\" in close_collapse.attrs['class']\n",
    "    assert \"border\" in close_collapse.attrs['class']\n",
    "    assert \"collapse-title\" in close_collapse.children[0].attrs['class']\n",
    "    assert \"font-semibold\" in close_collapse.children[0].attrs['class']\n",
    "    assert close_collapse.children[0].children[0] == \"I have collapse-close class\"\n",
    "    assert \"collapse-content\" in close_collapse.children[1].attrs['class']\n",
    "    assert \"text-sm\" in close_collapse.children[1].attrs['class']\n",
    "    \n",
    "    # Return both collapse state examples in a Div\n",
    "    return Div(open_collapse, close_collapse)\n",
    "\n",
    "# Run the tests\n",
    "test_collapse_state_fasthtml_examples()"
   ]
  },
  {
   "cell_type": "code",
   "execution_count": null,
   "id": "4aeda244-e161-480b-97c2-b5f8ffd67622",
   "metadata": {},
   "outputs": [
    {
     "data": {
      "text/html": [
       "\n",
       "<script>\n",
       "document.body.addEventListener('htmx:configRequest', (event) => {\n",
       "    if(event.detail.path.includes('://')) return;\n",
       "    htmx.config.selfRequestsOnly=false;\n",
       "    event.detail.path = `${location.protocol}//${location.hostname}:8000${event.detail.path}`;\n",
       "});\n",
       "</script>"
      ],
      "text/plain": [
       "<IPython.core.display.HTML object>"
      ]
     },
     "metadata": {},
     "output_type": "display_data"
    },
    {
     "data": {
      "text/html": [
       "<iframe src=\"http://localhost:8000/\" style=\"width: 100%; height: auto; border: none;\" onload=\"{\n",
       "        let frame = this;\n",
       "        window.addEventListener('message', function(e) {\n",
       "            if (e.source !== frame.contentWindow) return; // Only proceed if the message is from this iframe\n",
       "            if (e.data.height) frame.style.height = (e.data.height+1) + 'px';\n",
       "        }, false);\n",
       "    }\" allow=\"accelerometer; autoplay; camera; clipboard-read; clipboard-write; display-capture; encrypted-media; fullscreen; gamepad; geolocation; gyroscope; hid; identity-credentials-get; idle-detection; magnetometer; microphone; midi; payment; picture-in-picture; publickey-credentials-get; screen-wake-lock; serial; usb; web-share; xr-spatial-tracking\"></iframe> "
      ],
      "text/plain": [
       "<IPython.core.display.HTML object>"
      ]
     },
     "metadata": {},
     "output_type": "display_data"
    }
   ],
   "source": [
    "#| eval: false\n",
    "test_func = test_collapse_state_fasthtml_examples\n",
    "app, rt = create_test_app(theme=DaisyUITheme.LIGHT)\n",
    "\n",
    "@rt\n",
    "def index():\n",
    "    return create_test_page(test_func.__doc__.title().replace('.', ''), test_func())\n",
    "server = start_test_server(app)\n",
    "display(HTMX())\n",
    "server.stop()"
   ]
  },
  {
   "cell_type": "code",
   "execution_count": null,
   "id": "nzdvjeuq67a",
   "metadata": {},
   "outputs": [
    {
     "data": {
      "text/markdown": [
       "```html\n",
       "<div>\n",
       "  <div tabindex=\"0\" class=\"bg-primary text-primary-content focus:bg-secondary focus:text-secondary-content collapse\">\n",
       "    <div class=\"collapse-title font-semibold\">How do I create an account?</div>\n",
       "    <div class=\"collapse-content text-sm\">Click the &quot;Sign Up&quot; button in the top right corner and follow the registration process.</div>\n",
       "  </div>\n",
       "  <div class=\"bg-base-100 border-base-300 collapse border\">\n",
       "    <input type=\"checkbox\" class=\"peer\">\n",
       "    <div class=\"collapse-title bg-primary text-primary-content peer-checked:bg-secondary peer-checked:text-secondary-content\">How do I create an account?</div>\n",
       "    <div class=\"collapse-content bg-primary text-primary-content peer-checked:bg-secondary peer-checked:text-secondary-content\">Click the &quot;Sign Up&quot; button in the top right corner and follow the registration process.</div>\n",
       "  </div>\n",
       "</div>\n",
       "\n",
       "```"
      ],
      "text/plain": [
       "div((div((div(('How do I create an account?',),{'class': 'collapse-title font-semibold'}), div(('Click the \"Sign Up\" button in the top right corner and follow the registration process.',),{'class': 'collapse-content text-sm'})),{'tabindex': '0', 'class': 'bg-primary text-primary-content focus:bg-secondary focus:text-secondary-content collapse'}), div((input((),{'type': 'checkbox', 'class': 'peer'}), div(('How do I create an account?',),{'class': 'collapse-title bg-primary text-primary-content peer-checked:bg-secondary peer-checked:text-secondary-content'}), div(('Click the \"Sign Up\" button in the top right corner and follow the registration process.',),{'class': 'collapse-content bg-primary text-primary-content peer-checked:bg-secondary peer-checked:text-secondary-content'})),{'class': 'bg-base-100 border-base-300 collapse border'})),{})"
      ]
     },
     "execution_count": null,
     "metadata": {},
     "output_type": "execute_result"
    }
   ],
   "source": [
    "#| export\n",
    "def test_collapse_color_fasthtml_examples():\n",
    "    \"\"\"Test collapse color examples: custom colors for focus and checkbox from daisyUI v5 documentation.\"\"\"\n",
    "    from fasthtml.common import Div, Input\n",
    "    from cjm_fasthtml_tailwind.utilities.borders import border\n",
    "    from cjm_fasthtml_tailwind.utilities.typography import font, text\n",
    "    from cjm_fasthtml_daisyui.core.utility_classes import bg_dui, border_dui, text_dui\n",
    "    \n",
    "    # Custom colors for collapse that works with focus\n",
    "    custom_focus_collapse = Div(\n",
    "        Div(\"How do I create an account?\", cls=combine_classes(collapse_title, font.semibold)),\n",
    "        Div(\n",
    "            'Click the \"Sign Up\" button in the top right corner and follow the registration process.',\n",
    "            cls=combine_classes(collapse_content, text.sm)\n",
    "        ),\n",
    "        tabindex=\"0\",\n",
    "        cls=combine_classes(\n",
    "            bg_dui.primary,\n",
    "            text_dui.primary_content,\n",
    "            bg_dui.secondary.focus,\n",
    "            text_dui.secondary_content.focus,\n",
    "            collapse\n",
    "        )\n",
    "    )\n",
    "    assert custom_focus_collapse.attrs['tabindex'] == \"0\"\n",
    "    assert \"collapse\" in custom_focus_collapse.attrs['class']\n",
    "    assert \"bg-primary\" in custom_focus_collapse.attrs['class']\n",
    "    assert \"text-primary-content\" in custom_focus_collapse.attrs['class']\n",
    "    assert \"focus:bg-secondary\" in custom_focus_collapse.attrs['class']\n",
    "    assert \"focus:text-secondary-content\" in custom_focus_collapse.attrs['class']\n",
    "    assert \"collapse-title\" in custom_focus_collapse.children[0].attrs['class']\n",
    "    assert \"font-semibold\" in custom_focus_collapse.children[0].attrs['class']\n",
    "    assert custom_focus_collapse.children[0].children[0] == \"How do I create an account?\"\n",
    "    assert \"collapse-content\" in custom_focus_collapse.children[1].attrs['class']\n",
    "    assert \"text-sm\" in custom_focus_collapse.children[1].attrs['class']\n",
    "    \n",
    "    # Custom colors for collapse that works with checkbox using peer\n",
    "    custom_checkbox_collapse = Div(\n",
    "        Input(type=\"checkbox\", cls=\"peer\"),\n",
    "        Div(\n",
    "            \"How do I create an account?\",\n",
    "            cls=combine_classes(\n",
    "                collapse_title,\n",
    "                bg_dui.primary,\n",
    "                text_dui.primary_content,\n",
    "                bg_dui.secondary.peer(\"checked\"),\n",
    "                text_dui.secondary_content.peer(\"checked\")\n",
    "            )\n",
    "        ),\n",
    "        Div(\n",
    "            'Click the \"Sign Up\" button in the top right corner and follow the registration process.',\n",
    "            cls=combine_classes(\n",
    "                collapse_content,\n",
    "                bg_dui.primary,\n",
    "                text_dui.primary_content,\n",
    "                bg_dui.secondary.peer(\"checked\"),\n",
    "                text_dui.secondary_content.peer(\"checked\")\n",
    "            )\n",
    "        ),\n",
    "        cls=combine_classes(bg_dui.base_100, border_dui.base_300, collapse, border())\n",
    "    )\n",
    "    assert custom_checkbox_collapse.children[0].tag == \"input\"\n",
    "    assert custom_checkbox_collapse.children[0].attrs['type'] == \"checkbox\"\n",
    "    assert \"peer\" in custom_checkbox_collapse.children[0].attrs['class']\n",
    "    assert \"collapse\" in custom_checkbox_collapse.attrs['class']\n",
    "    assert \"bg-base-100\" in custom_checkbox_collapse.attrs['class']\n",
    "    assert \"border-base-300\" in custom_checkbox_collapse.attrs['class']\n",
    "    assert \"border\" in custom_checkbox_collapse.attrs['class']\n",
    "    \n",
    "    # Verify title styling\n",
    "    assert \"collapse-title\" in custom_checkbox_collapse.children[1].attrs['class']\n",
    "    assert \"bg-primary\" in custom_checkbox_collapse.children[1].attrs['class']\n",
    "    assert \"text-primary-content\" in custom_checkbox_collapse.children[1].attrs['class']\n",
    "    assert \"peer-checked:bg-secondary\" in custom_checkbox_collapse.children[1].attrs['class']\n",
    "    assert \"peer-checked:text-secondary-content\" in custom_checkbox_collapse.children[1].attrs['class']\n",
    "    assert custom_checkbox_collapse.children[1].children[0] == \"How do I create an account?\"\n",
    "    \n",
    "    # Verify content styling\n",
    "    assert \"collapse-content\" in custom_checkbox_collapse.children[2].attrs['class']\n",
    "    assert \"bg-primary\" in custom_checkbox_collapse.children[2].attrs['class']\n",
    "    assert \"text-primary-content\" in custom_checkbox_collapse.children[2].attrs['class']\n",
    "    assert \"peer-checked:bg-secondary\" in custom_checkbox_collapse.children[2].attrs['class']\n",
    "    assert \"peer-checked:text-secondary-content\" in custom_checkbox_collapse.children[2].attrs['class']\n",
    "    \n",
    "    # Return both color examples in a Div\n",
    "    return Div(custom_focus_collapse, custom_checkbox_collapse)\n",
    "\n",
    "# Run the tests\n",
    "test_collapse_color_fasthtml_examples()"
   ]
  },
  {
   "cell_type": "code",
   "execution_count": null,
   "id": "60460f97-76ff-463b-8305-cae10cf70e0e",
   "metadata": {},
   "outputs": [
    {
     "data": {
      "text/html": [
       "\n",
       "<script>\n",
       "document.body.addEventListener('htmx:configRequest', (event) => {\n",
       "    if(event.detail.path.includes('://')) return;\n",
       "    htmx.config.selfRequestsOnly=false;\n",
       "    event.detail.path = `${location.protocol}//${location.hostname}:8000${event.detail.path}`;\n",
       "});\n",
       "</script>"
      ],
      "text/plain": [
       "<IPython.core.display.HTML object>"
      ]
     },
     "metadata": {},
     "output_type": "display_data"
    },
    {
     "data": {
      "text/html": [
       "<iframe src=\"http://localhost:8000/\" style=\"width: 100%; height: auto; border: none;\" onload=\"{\n",
       "        let frame = this;\n",
       "        window.addEventListener('message', function(e) {\n",
       "            if (e.source !== frame.contentWindow) return; // Only proceed if the message is from this iframe\n",
       "            if (e.data.height) frame.style.height = (e.data.height+1) + 'px';\n",
       "        }, false);\n",
       "    }\" allow=\"accelerometer; autoplay; camera; clipboard-read; clipboard-write; display-capture; encrypted-media; fullscreen; gamepad; geolocation; gyroscope; hid; identity-credentials-get; idle-detection; magnetometer; microphone; midi; payment; picture-in-picture; publickey-credentials-get; screen-wake-lock; serial; usb; web-share; xr-spatial-tracking\"></iframe> "
      ],
      "text/plain": [
       "<IPython.core.display.HTML object>"
      ]
     },
     "metadata": {},
     "output_type": "display_data"
    }
   ],
   "source": [
    "#| eval: false\n",
    "test_func = test_collapse_color_fasthtml_examples\n",
    "app, rt = create_test_app(theme=DaisyUITheme.LIGHT)\n",
    "\n",
    "@rt\n",
    "def index():\n",
    "    return create_test_page(test_func.__doc__.title().replace('.', ''), test_func())\n",
    "server = start_test_server(app)\n",
    "display(HTMX())\n",
    "server.stop()"
   ]
  },
  {
   "cell_type": "code",
   "execution_count": null,
   "id": "047f593b-f6ea-44a1-8aec-46d32d656e6a",
   "metadata": {},
   "outputs": [],
   "source": []
  },
  {
   "cell_type": "code",
   "execution_count": null,
   "id": "d3859d79-dd12-4c0c-b32c-6dd9a806c384",
   "metadata": {},
   "outputs": [],
   "source": []
  },
  {
   "cell_type": "code",
   "execution_count": null,
   "id": "7a33b08b-7afe-4eb8-8167-1f1f205d7972",
   "metadata": {},
   "outputs": [],
   "source": []
  },
  {
   "cell_type": "code",
   "execution_count": null,
   "id": "d0a3be80-1136-4acd-a107-8f610d826f88",
   "metadata": {},
   "outputs": [],
   "source": []
  },
  {
   "cell_type": "code",
   "execution_count": null,
   "id": "b7ca2758-3033-4afa-a84c-9c799bae8ae8",
   "metadata": {},
   "outputs": [],
   "source": []
  },
  {
   "cell_type": "code",
   "execution_count": null,
   "id": "9f645267-cec3-4ce1-a146-797c4e0a1c22",
   "metadata": {},
   "outputs": [],
   "source": [
    "#| hide\n",
    "import nbdev; nbdev.nbdev_export()"
   ]
  }
 ],
 "metadata": {
  "kernelspec": {
   "display_name": "python3",
   "language": "python",
   "name": "python3"
  }
 },
 "nbformat": 4,
 "nbformat_minor": 5
}
