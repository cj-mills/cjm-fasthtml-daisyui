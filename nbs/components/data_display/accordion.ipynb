{
 "cells": [
  {
   "cell_type": "markdown",
   "id": "c38e53d7-9e20-4085-8feb-90110bd73415",
   "metadata": {},
   "source": [
    "# accordion\n",
    "\n",
    "> Accordion is used for showing and hiding content but only one item can stay open at a time."
   ]
  },
  {
   "cell_type": "code",
   "execution_count": null,
   "id": "34f1a79e-39bf-4113-a9db-9578c2330e44",
   "metadata": {},
   "outputs": [],
   "source": [
    "#| default_exp components.data_display.accordion"
   ]
  },
  {
   "cell_type": "code",
   "execution_count": null,
   "id": "419459f4-3493-4d75-a579-135c0eab2128",
   "metadata": {},
   "outputs": [],
   "source": [
    "#| hide\n",
    "from nbdev.showdoc import *"
   ]
  },
  {
   "cell_type": "code",
   "execution_count": null,
   "id": "17fd66d1-e06b-443f-ac55-99c2a58eb0c2",
   "metadata": {},
   "outputs": [],
   "source": [
    "#| export\n",
    "from typing import Optional, Dict, Any, Union, List\n",
    "from cjm_fasthtml_tailwind.core.base import (\n",
    "    SingleValueFactory, BaseFactory, combine_classes\n",
    ")\n",
    "from cjm_fasthtml_tailwind.builders.scales import SimpleFactory\n",
    "\n",
    "from cjm_fasthtml_daisyui.components.data_display.collapse import (\n",
    "    collapse, collapse_title, collapse_content, collapse_modifiers\n",
    ")\n",
    "\n",
    "from fasthtml.jupyter import JupyUvi, HTMX\n",
    "from cjm_fasthtml_daisyui.core.testing import create_test_app, create_test_page, start_test_server\n",
    "from fasthtml.common import Div\n",
    "from cjm_fasthtml_daisyui.core.themes import DaisyUITheme\n",
    "from IPython.display import display"
   ]
  },
  {
   "cell_type": "markdown",
   "id": "3ba26895-09d2-4897-89bf-013ea47f5ddb",
   "metadata": {},
   "source": [
    "### Note on Accordion Components\n",
    "\n",
    "Accordion uses the same style as the `collapse` component but it works with radio inputs. You can control which item to be open by checking/unchecking the hidden radio input.\n",
    "\n",
    "All collapse utilities are already defined in the `cjm_fasthtml_daisyui.components.data_display.collapse` module."
   ]
  },
  {
   "cell_type": "markdown",
   "id": "f3180287-3214-4159-bdc0-60f81f6b6bf8",
   "metadata": {},
   "source": [
    "### Accordion Test Examples"
   ]
  },
  {
   "cell_type": "code",
   "execution_count": null,
   "id": "8b462f6f-653a-48a5-ba24-557ca7df3ee5",
   "metadata": {},
   "outputs": [],
   "source": [
    "#|exports\n",
    "def test_accordion_basic_examples():\n",
    "    \"\"\"Test basic accordion utilities.\"\"\"\n",
    "    # Basic components\n",
    "    assert str(collapse) == \"collapse\"\n",
    "    assert str(collapse_title) == \"collapse-title\"\n",
    "    assert str(collapse_content) == \"collapse-content\"\n",
    "    \n",
    "    # With modifiers\n",
    "    assert str(collapse.hover) == \"hover:collapse\"\n",
    "    assert str(collapse_title.md) == \"md:collapse-title\"\n",
    "    assert str(collapse_content.dark) == \"dark:collapse-content\"\n",
    "\n",
    "# Run the tests\n",
    "test_accordion_basic_examples()"
   ]
  },
  {
   "cell_type": "code",
   "execution_count": null,
   "id": "f2eb66ed-b3c5-495b-94d1-aecef20ffdfb",
   "metadata": {},
   "outputs": [],
   "source": [
    "#|exports\n",
    "def test_accordion_modifiers_examples():\n",
    "    \"\"\"Test accordion modifier utilities.\"\"\"\n",
    "    assert str(collapse_modifiers.arrow) == \"collapse-arrow\"\n",
    "    assert str(collapse_modifiers.plus) == \"collapse-plus\"\n",
    "    assert str(collapse_modifiers.open) == \"collapse-open\"\n",
    "    assert str(collapse_modifiers.close) == \"collapse-close\"\n",
    "    \n",
    "    # With responsive modifiers\n",
    "    assert str(collapse_modifiers.arrow.hover) == \"hover:collapse-arrow\"\n",
    "    assert str(collapse_modifiers.plus.focus) == \"focus:collapse-plus\"\n",
    "\n",
    "# Run the tests\n",
    "test_accordion_modifiers_examples()"
   ]
  },
  {
   "cell_type": "code",
   "execution_count": null,
   "id": "5d43c99e-8c9f-4da6-9cc5-86135165a69b",
   "metadata": {},
   "outputs": [
    {
     "data": {
      "text/markdown": [
       "```html\n",
       "<div>\n",
       "  <div class=\"collapse bg-base-100 border border-base-300\">\n",
       "    <input type=\"radio\" name=\"my-accordion-1\" checked=\"checked\">\n",
       "    <div class=\"collapse-title font-semibold\">How do I create an account?</div>\n",
       "    <div class=\"collapse-content text-sm\">Click the &quot;Sign Up&quot; button in the top right corner and follow the registration process.</div>\n",
       "  </div>\n",
       "  <div class=\"collapse bg-base-100 border border-base-300\">\n",
       "    <input type=\"radio\" name=\"my-accordion-1\">\n",
       "    <div class=\"collapse-title font-semibold\">I forgot my password. What should I do?</div>\n",
       "    <div class=\"collapse-content text-sm\">Click on &quot;Forgot Password&quot; on the login page and follow the instructions sent to your email.</div>\n",
       "  </div>\n",
       "  <div class=\"collapse bg-base-100 border border-base-300\">\n",
       "    <input type=\"radio\" name=\"my-accordion-1\">\n",
       "    <div class=\"collapse-title font-semibold\">How do I update my profile information?</div>\n",
       "    <div class=\"collapse-content text-sm\">Go to &quot;My Account&quot; settings and select &quot;Edit Profile&quot; to make changes.</div>\n",
       "  </div>\n",
       "</div>\n",
       "\n",
       "```"
      ],
      "text/plain": [
       "div((div((input((),{'type': 'radio', 'name': 'my-accordion-1', 'checked': 'checked'}), div(('How do I create an account?',),{'class': 'collapse-title font-semibold'}), div(('Click the \"Sign Up\" button in the top right corner and follow the registration process.',),{'class': 'collapse-content text-sm'})),{'class': 'collapse bg-base-100 border border-base-300'}), div((input((),{'type': 'radio', 'name': 'my-accordion-1'}), div(('I forgot my password. What should I do?',),{'class': 'collapse-title font-semibold'}), div(('Click on \"Forgot Password\" on the login page and follow the instructions sent to your email.',),{'class': 'collapse-content text-sm'})),{'class': 'collapse bg-base-100 border border-base-300'}), div((input((),{'type': 'radio', 'name': 'my-accordion-1'}), div(('How do I update my profile information?',),{'class': 'collapse-title font-semibold'}), div(('Go to \"My Account\" settings and select \"Edit Profile\" to make changes.',),{'class': 'collapse-content text-sm'})),{'class': 'collapse bg-base-100 border border-base-300'})),{})"
      ]
     },
     "execution_count": null,
     "metadata": {},
     "output_type": "execute_result"
    }
   ],
   "source": [
    "#|exports\n",
    "def test_accordion_basic_fasthtml_examples():\n",
    "    \"\"\"Test basic accordion using radio inputs from daisyUI v5 documentation.\"\"\"\n",
    "    from fasthtml.common import Div, Input\n",
    "    from cjm_fasthtml_tailwind.utilities.borders import border\n",
    "    from cjm_fasthtml_tailwind.utilities.typography import font_size, font_weight, font_family, text_color\n",
    "    from cjm_fasthtml_daisyui.utilities.semantic_colors import bg_dui, border_dui\n",
    "    \n",
    "    # First accordion item\n",
    "    accordion_item_1 = Div(\n",
    "        Input(type=\"radio\", name=\"my-accordion-1\", checked=\"checked\"),\n",
    "        Div(\"How do I create an account?\", cls=combine_classes(collapse_title, font_weight.semibold)),\n",
    "        Div(\n",
    "            'Click the \"Sign Up\" button in the top right corner and follow the registration process.',\n",
    "            cls=combine_classes(collapse_content, font_size.sm)\n",
    "        ),\n",
    "        cls=combine_classes(collapse, bg_dui.base_100, border(), border_dui.base_300)\n",
    "    )\n",
    "    assert \"collapse\" in accordion_item_1.attrs['class']\n",
    "    assert \"bg-base-100\" in accordion_item_1.attrs['class']\n",
    "    assert \"border\" in accordion_item_1.attrs['class']\n",
    "    assert \"border-base-300\" in accordion_item_1.attrs['class']\n",
    "    assert accordion_item_1.children[0].attrs['type'] == \"radio\"\n",
    "    assert accordion_item_1.children[0].attrs['name'] == \"my-accordion-1\"\n",
    "    assert accordion_item_1.children[0].attrs['checked'] == \"checked\"\n",
    "    assert \"collapse-title\" in accordion_item_1.children[1].attrs['class']\n",
    "    assert \"font-semibold\" in accordion_item_1.children[1].attrs['class']\n",
    "    assert accordion_item_1.children[1].children[0] == \"How do I create an account?\"\n",
    "    assert \"collapse-content\" in accordion_item_1.children[2].attrs['class']\n",
    "    assert \"text-sm\" in accordion_item_1.children[2].attrs['class']\n",
    "    \n",
    "    # Second accordion item\n",
    "    accordion_item_2 = Div(\n",
    "        Input(type=\"radio\", name=\"my-accordion-1\"),\n",
    "        Div(\"I forgot my password. What should I do?\", cls=combine_classes(collapse_title, font_weight.semibold)),\n",
    "        Div(\n",
    "            'Click on \"Forgot Password\" on the login page and follow the instructions sent to your email.',\n",
    "            cls=combine_classes(collapse_content, font_size.sm)\n",
    "        ),\n",
    "        cls=combine_classes(collapse, bg_dui.base_100, border(), border_dui.base_300)\n",
    "    )\n",
    "    assert accordion_item_2.children[0].attrs['name'] == \"my-accordion-1\"\n",
    "    assert 'checked' not in accordion_item_2.children[0].attrs\n",
    "    \n",
    "    # Third accordion item\n",
    "    accordion_item_3 = Div(\n",
    "        Input(type=\"radio\", name=\"my-accordion-1\"),\n",
    "        Div(\"How do I update my profile information?\", cls=combine_classes(collapse_title, font_weight.semibold)),\n",
    "        Div(\n",
    "            'Go to \"My Account\" settings and select \"Edit Profile\" to make changes.',\n",
    "            cls=combine_classes(collapse_content, font_size.sm)\n",
    "        ),\n",
    "        cls=combine_classes(collapse, bg_dui.base_100, border(), border_dui.base_300)\n",
    "    )\n",
    "    assert accordion_item_3.children[1].children[0] == \"How do I update my profile information?\"\n",
    "    assert accordion_item_3.children[2].children[0] == 'Go to \"My Account\" settings and select \"Edit Profile\" to make changes.'\n",
    "    \n",
    "    # Test that all items share the same radio group name\n",
    "    assert accordion_item_1.children[0].attrs['name'] == accordion_item_2.children[0].attrs['name']\n",
    "    assert accordion_item_2.children[0].attrs['name'] == accordion_item_3.children[0].attrs['name']\n",
    "    \n",
    "    # Return the accordion items in a Div\n",
    "    return Div(accordion_item_1, accordion_item_2, accordion_item_3)\n",
    "\n",
    "# Run the tests\n",
    "test_accordion_basic_fasthtml_examples()"
   ]
  },
  {
   "cell_type": "code",
   "execution_count": null,
   "id": "5cfd4a49-ee2e-4b54-8c86-334d87da378e",
   "metadata": {},
   "outputs": [
    {
     "data": {
      "text/html": [
       "\n",
       "<script>\n",
       "document.body.addEventListener('htmx:configRequest', (event) => {\n",
       "    if(event.detail.path.includes('://')) return;\n",
       "    htmx.config.selfRequestsOnly=false;\n",
       "    event.detail.path = `${location.protocol}//${location.hostname}:8000${event.detail.path}`;\n",
       "});\n",
       "</script>"
      ],
      "text/plain": [
       "<IPython.core.display.HTML object>"
      ]
     },
     "metadata": {},
     "output_type": "display_data"
    },
    {
     "data": {
      "text/html": [
       "<iframe src=\"http://localhost:8000/\" style=\"width: 100%; height: auto; border: none;\" onload=\"{\n",
       "        let frame = this;\n",
       "        window.addEventListener('message', function(e) {\n",
       "            if (e.source !== frame.contentWindow) return; // Only proceed if the message is from this iframe\n",
       "            if (e.data.height) frame.style.height = (e.data.height+1) + 'px';\n",
       "        }, false);\n",
       "    }\" allow=\"accelerometer; autoplay; camera; clipboard-read; clipboard-write; display-capture; encrypted-media; fullscreen; gamepad; geolocation; gyroscope; hid; identity-credentials-get; idle-detection; magnetometer; microphone; midi; payment; picture-in-picture; publickey-credentials-get; screen-wake-lock; serial; usb; web-share; xr-spatial-tracking\"></iframe> "
      ],
      "text/plain": [
       "<IPython.core.display.HTML object>"
      ]
     },
     "metadata": {},
     "output_type": "display_data"
    }
   ],
   "source": [
    "#| eval: false\n",
    "#| output: false\n",
    "test_func = test_accordion_basic_fasthtml_examples\n",
    "app, rt = create_test_app(theme=DaisyUITheme.LIGHT)\n",
    "\n",
    "@rt\n",
    "def index():\n",
    "    return create_test_page(test_func.__doc__.title().replace('.', ''), test_func())\n",
    "server = start_test_server(app)\n",
    "display(HTMX())\n",
    "server.stop()"
   ]
  },
  {
   "cell_type": "code",
   "execution_count": null,
   "id": "ormj1kh91b",
   "metadata": {},
   "outputs": [
    {
     "data": {
      "text/markdown": [
       "```html\n",
       "<div>\n",
       "  <div class=\"collapse collapse-arrow bg-base-100 border border-base-300\">\n",
       "    <input type=\"radio\" name=\"my-accordion-2\" checked=\"checked\">\n",
       "    <div class=\"collapse-title font-semibold\">How do I create an account?</div>\n",
       "    <div class=\"collapse-content text-sm\">Click the &quot;Sign Up&quot; button in the top right corner and follow the registration process.</div>\n",
       "  </div>\n",
       "  <div class=\"collapse collapse-arrow bg-base-100 border border-base-300\">\n",
       "    <input type=\"radio\" name=\"my-accordion-2\">\n",
       "    <div class=\"collapse-title font-semibold\">I forgot my password. What should I do?</div>\n",
       "    <div class=\"collapse-content text-sm\">Click on &quot;Forgot Password&quot; on the login page and follow the instructions sent to your email.</div>\n",
       "  </div>\n",
       "  <div class=\"collapse collapse-arrow bg-base-100 border border-base-300\">\n",
       "    <input type=\"radio\" name=\"my-accordion-2\">\n",
       "    <div class=\"collapse-title font-semibold\">How do I update my profile information?</div>\n",
       "    <div class=\"collapse-content text-sm\">Go to &quot;My Account&quot; settings and select &quot;Edit Profile&quot; to make changes.</div>\n",
       "  </div>\n",
       "</div>\n",
       "\n",
       "```"
      ],
      "text/plain": [
       "div((div((input((),{'type': 'radio', 'name': 'my-accordion-2', 'checked': 'checked'}), div(('How do I create an account?',),{'class': 'collapse-title font-semibold'}), div(('Click the \"Sign Up\" button in the top right corner and follow the registration process.',),{'class': 'collapse-content text-sm'})),{'class': 'collapse collapse-arrow bg-base-100 border border-base-300'}), div((input((),{'type': 'radio', 'name': 'my-accordion-2'}), div(('I forgot my password. What should I do?',),{'class': 'collapse-title font-semibold'}), div(('Click on \"Forgot Password\" on the login page and follow the instructions sent to your email.',),{'class': 'collapse-content text-sm'})),{'class': 'collapse collapse-arrow bg-base-100 border border-base-300'}), div((input((),{'type': 'radio', 'name': 'my-accordion-2'}), div(('How do I update my profile information?',),{'class': 'collapse-title font-semibold'}), div(('Go to \"My Account\" settings and select \"Edit Profile\" to make changes.',),{'class': 'collapse-content text-sm'})),{'class': 'collapse collapse-arrow bg-base-100 border border-base-300'})),{})"
      ]
     },
     "execution_count": null,
     "metadata": {},
     "output_type": "execute_result"
    }
   ],
   "source": [
    "#|exports\n",
    "def test_accordion_arrow_fasthtml_examples():\n",
    "    \"\"\"Test accordion with arrow icon from daisyUI v5 documentation.\"\"\"\n",
    "    from fasthtml.common import Div, Input\n",
    "    from cjm_fasthtml_tailwind.utilities.borders import border\n",
    "    from cjm_fasthtml_tailwind.utilities.typography import font_size, font_weight, font_family, text_color\n",
    "    from cjm_fasthtml_daisyui.utilities.semantic_colors import bg_dui, border_dui\n",
    "    \n",
    "    # First accordion item with arrow\n",
    "    accordion_arrow_1 = Div(\n",
    "        Input(type=\"radio\", name=\"my-accordion-2\", checked=\"checked\"),\n",
    "        Div(\"How do I create an account?\", cls=combine_classes(collapse_title, font_weight.semibold)),\n",
    "        Div(\n",
    "            'Click the \"Sign Up\" button in the top right corner and follow the registration process.',\n",
    "            cls=combine_classes(collapse_content, font_size.sm)\n",
    "        ),\n",
    "        cls=combine_classes(collapse, collapse_modifiers.arrow, bg_dui.base_100, border(), border_dui.base_300)\n",
    "    )\n",
    "    assert \"collapse\" in accordion_arrow_1.attrs['class']\n",
    "    assert \"collapse-arrow\" in accordion_arrow_1.attrs['class']\n",
    "    assert \"bg-base-100\" in accordion_arrow_1.attrs['class']\n",
    "    assert \"border\" in accordion_arrow_1.attrs['class']\n",
    "    assert \"border-base-300\" in accordion_arrow_1.attrs['class']\n",
    "    assert accordion_arrow_1.children[0].attrs['type'] == \"radio\"\n",
    "    assert accordion_arrow_1.children[0].attrs['name'] == \"my-accordion-2\"\n",
    "    assert accordion_arrow_1.children[0].attrs['checked'] == \"checked\"\n",
    "    \n",
    "    # Second accordion item with arrow\n",
    "    accordion_arrow_2 = Div(\n",
    "        Input(type=\"radio\", name=\"my-accordion-2\"),\n",
    "        Div(\"I forgot my password. What should I do?\", cls=combine_classes(collapse_title, font_weight.semibold)),\n",
    "        Div(\n",
    "            'Click on \"Forgot Password\" on the login page and follow the instructions sent to your email.',\n",
    "            cls=combine_classes(collapse_content, font_size.sm)\n",
    "        ),\n",
    "        cls=combine_classes(collapse, collapse_modifiers.arrow, bg_dui.base_100, border(), border_dui.base_300)\n",
    "    )\n",
    "    assert \"collapse-arrow\" in accordion_arrow_2.attrs['class']\n",
    "    assert accordion_arrow_2.children[0].attrs['name'] == \"my-accordion-2\"\n",
    "    assert 'checked' not in accordion_arrow_2.children[0].attrs\n",
    "    \n",
    "    # Third accordion item with arrow\n",
    "    accordion_arrow_3 = Div(\n",
    "        Input(type=\"radio\", name=\"my-accordion-2\"),\n",
    "        Div(\"How do I update my profile information?\", cls=combine_classes(collapse_title, font_weight.semibold)),\n",
    "        Div(\n",
    "            'Go to \"My Account\" settings and select \"Edit Profile\" to make changes.',\n",
    "            cls=combine_classes(collapse_content, font_size.sm)\n",
    "        ),\n",
    "        cls=combine_classes(collapse, collapse_modifiers.arrow, bg_dui.base_100, border(), border_dui.base_300)\n",
    "    )\n",
    "    assert \"collapse-arrow\" in accordion_arrow_3.attrs['class']\n",
    "    assert accordion_arrow_3.children[1].children[0] == \"How do I update my profile information?\"\n",
    "    \n",
    "    # Test that all arrow items share the same radio group name\n",
    "    assert accordion_arrow_1.children[0].attrs['name'] == accordion_arrow_2.children[0].attrs['name']\n",
    "    assert accordion_arrow_2.children[0].attrs['name'] == accordion_arrow_3.children[0].attrs['name']\n",
    "    \n",
    "    # Return the accordion items in a Div\n",
    "    return Div(accordion_arrow_1, accordion_arrow_2, accordion_arrow_3)\n",
    "\n",
    "# Run the tests\n",
    "test_accordion_arrow_fasthtml_examples()"
   ]
  },
  {
   "cell_type": "code",
   "execution_count": null,
   "id": "1318a5e3-5090-4b2a-b4a3-bcbbe3c4e52c",
   "metadata": {},
   "outputs": [
    {
     "data": {
      "text/html": [
       "\n",
       "<script>\n",
       "document.body.addEventListener('htmx:configRequest', (event) => {\n",
       "    if(event.detail.path.includes('://')) return;\n",
       "    htmx.config.selfRequestsOnly=false;\n",
       "    event.detail.path = `${location.protocol}//${location.hostname}:8000${event.detail.path}`;\n",
       "});\n",
       "</script>"
      ],
      "text/plain": [
       "<IPython.core.display.HTML object>"
      ]
     },
     "metadata": {},
     "output_type": "display_data"
    },
    {
     "data": {
      "text/html": [
       "<iframe src=\"http://localhost:8000/\" style=\"width: 100%; height: auto; border: none;\" onload=\"{\n",
       "        let frame = this;\n",
       "        window.addEventListener('message', function(e) {\n",
       "            if (e.source !== frame.contentWindow) return; // Only proceed if the message is from this iframe\n",
       "            if (e.data.height) frame.style.height = (e.data.height+1) + 'px';\n",
       "        }, false);\n",
       "    }\" allow=\"accelerometer; autoplay; camera; clipboard-read; clipboard-write; display-capture; encrypted-media; fullscreen; gamepad; geolocation; gyroscope; hid; identity-credentials-get; idle-detection; magnetometer; microphone; midi; payment; picture-in-picture; publickey-credentials-get; screen-wake-lock; serial; usb; web-share; xr-spatial-tracking\"></iframe> "
      ],
      "text/plain": [
       "<IPython.core.display.HTML object>"
      ]
     },
     "metadata": {},
     "output_type": "display_data"
    }
   ],
   "source": [
    "#| eval: false\n",
    "#| output: false\n",
    "test_func = test_accordion_arrow_fasthtml_examples\n",
    "app, rt = create_test_app(theme=DaisyUITheme.LIGHT)\n",
    "\n",
    "@rt\n",
    "def index():\n",
    "    return create_test_page(test_func.__doc__.title().replace('.', ''), test_func())\n",
    "server = start_test_server(app)\n",
    "display(HTMX())\n",
    "server.stop()"
   ]
  },
  {
   "cell_type": "code",
   "execution_count": null,
   "id": "4k6y7ev6vts",
   "metadata": {},
   "outputs": [
    {
     "data": {
      "text/markdown": [
       "```html\n",
       "<div>\n",
       "  <div class=\"collapse collapse-plus bg-base-100 border border-base-300\">\n",
       "    <input type=\"radio\" name=\"my-accordion-3\" checked=\"checked\">\n",
       "    <div class=\"collapse-title font-semibold\">How do I create an account?</div>\n",
       "    <div class=\"collapse-content text-sm\">Click the &quot;Sign Up&quot; button in the top right corner and follow the registration process.</div>\n",
       "  </div>\n",
       "  <div class=\"collapse collapse-plus bg-base-100 border border-base-300\">\n",
       "    <input type=\"radio\" name=\"my-accordion-3\">\n",
       "    <div class=\"collapse-title font-semibold\">I forgot my password. What should I do?</div>\n",
       "    <div class=\"collapse-content text-sm\">Click on &quot;Forgot Password&quot; on the login page and follow the instructions sent to your email.</div>\n",
       "  </div>\n",
       "  <div class=\"collapse collapse-plus bg-base-100 border border-base-300\">\n",
       "    <input type=\"radio\" name=\"my-accordion-3\">\n",
       "    <div class=\"collapse-title font-semibold\">How do I update my profile information?</div>\n",
       "    <div class=\"collapse-content text-sm\">Go to &quot;My Account&quot; settings and select &quot;Edit Profile&quot; to make changes.</div>\n",
       "  </div>\n",
       "</div>\n",
       "\n",
       "```"
      ],
      "text/plain": [
       "div((div((input((),{'type': 'radio', 'name': 'my-accordion-3', 'checked': 'checked'}), div(('How do I create an account?',),{'class': 'collapse-title font-semibold'}), div(('Click the \"Sign Up\" button in the top right corner and follow the registration process.',),{'class': 'collapse-content text-sm'})),{'class': 'collapse collapse-plus bg-base-100 border border-base-300'}), div((input((),{'type': 'radio', 'name': 'my-accordion-3'}), div(('I forgot my password. What should I do?',),{'class': 'collapse-title font-semibold'}), div(('Click on \"Forgot Password\" on the login page and follow the instructions sent to your email.',),{'class': 'collapse-content text-sm'})),{'class': 'collapse collapse-plus bg-base-100 border border-base-300'}), div((input((),{'type': 'radio', 'name': 'my-accordion-3'}), div(('How do I update my profile information?',),{'class': 'collapse-title font-semibold'}), div(('Go to \"My Account\" settings and select \"Edit Profile\" to make changes.',),{'class': 'collapse-content text-sm'})),{'class': 'collapse collapse-plus bg-base-100 border border-base-300'})),{})"
      ]
     },
     "execution_count": null,
     "metadata": {},
     "output_type": "execute_result"
    }
   ],
   "source": [
    "#|exports\n",
    "def test_accordion_plus_fasthtml_examples():\n",
    "    \"\"\"Test accordion with plus/minus icon from daisyUI v5 documentation.\"\"\"\n",
    "    from fasthtml.common import Div, Input\n",
    "    from cjm_fasthtml_tailwind.utilities.borders import border\n",
    "    from cjm_fasthtml_tailwind.utilities.typography import font_size, font_weight, font_family, text_color\n",
    "    from cjm_fasthtml_daisyui.utilities.semantic_colors import bg_dui, border_dui\n",
    "    \n",
    "    # First accordion item with plus/minus\n",
    "    accordion_plus_1 = Div(\n",
    "        Input(type=\"radio\", name=\"my-accordion-3\", checked=\"checked\"),\n",
    "        Div(\"How do I create an account?\", cls=combine_classes(collapse_title, font_weight.semibold)),\n",
    "        Div(\n",
    "            'Click the \"Sign Up\" button in the top right corner and follow the registration process.',\n",
    "            cls=combine_classes(collapse_content, font_size.sm)\n",
    "        ),\n",
    "        cls=combine_classes(collapse, collapse_modifiers.plus, bg_dui.base_100, border(), border_dui.base_300)\n",
    "    )\n",
    "    assert \"collapse\" in accordion_plus_1.attrs['class']\n",
    "    assert \"collapse-plus\" in accordion_plus_1.attrs['class']\n",
    "    assert \"bg-base-100\" in accordion_plus_1.attrs['class']\n",
    "    assert \"border\" in accordion_plus_1.attrs['class']\n",
    "    assert \"border-base-300\" in accordion_plus_1.attrs['class']\n",
    "    assert accordion_plus_1.children[0].attrs['type'] == \"radio\"\n",
    "    assert accordion_plus_1.children[0].attrs['name'] == \"my-accordion-3\"\n",
    "    assert accordion_plus_1.children[0].attrs['checked'] == \"checked\"\n",
    "    \n",
    "    # Second accordion item with plus/minus\n",
    "    accordion_plus_2 = Div(\n",
    "        Input(type=\"radio\", name=\"my-accordion-3\"),\n",
    "        Div(\"I forgot my password. What should I do?\", cls=combine_classes(collapse_title, font_weight.semibold)),\n",
    "        Div(\n",
    "            'Click on \"Forgot Password\" on the login page and follow the instructions sent to your email.',\n",
    "            cls=combine_classes(collapse_content, font_size.sm)\n",
    "        ),\n",
    "        cls=combine_classes(collapse, collapse_modifiers.plus, bg_dui.base_100, border(), border_dui.base_300)\n",
    "    )\n",
    "    assert \"collapse-plus\" in accordion_plus_2.attrs['class']\n",
    "    assert accordion_plus_2.children[0].attrs['name'] == \"my-accordion-3\"\n",
    "    assert 'checked' not in accordion_plus_2.children[0].attrs\n",
    "    \n",
    "    # Third accordion item with plus/minus\n",
    "    accordion_plus_3 = Div(\n",
    "        Input(type=\"radio\", name=\"my-accordion-3\"),\n",
    "        Div(\"How do I update my profile information?\", cls=combine_classes(collapse_title, font_weight.semibold)),\n",
    "        Div(\n",
    "            'Go to \"My Account\" settings and select \"Edit Profile\" to make changes.',\n",
    "            cls=combine_classes(collapse_content, font_size.sm)\n",
    "        ),\n",
    "        cls=combine_classes(collapse, collapse_modifiers.plus, bg_dui.base_100, border(), border_dui.base_300)\n",
    "    )\n",
    "    assert \"collapse-plus\" in accordion_plus_3.attrs['class']\n",
    "    assert accordion_plus_3.children[1].children[0] == \"How do I update my profile information?\"\n",
    "    assert accordion_plus_3.children[2].children[0] == 'Go to \"My Account\" settings and select \"Edit Profile\" to make changes.'\n",
    "    \n",
    "    # Test that all plus items share the same radio group name\n",
    "    assert accordion_plus_1.children[0].attrs['name'] == accordion_plus_2.children[0].attrs['name']\n",
    "    assert accordion_plus_2.children[0].attrs['name'] == accordion_plus_3.children[0].attrs['name']\n",
    "    \n",
    "    # Return the accordion items in a Div\n",
    "    return Div(accordion_plus_1, accordion_plus_2, accordion_plus_3)\n",
    "\n",
    "# Run the tests\n",
    "test_accordion_plus_fasthtml_examples()"
   ]
  },
  {
   "cell_type": "code",
   "execution_count": null,
   "id": "f61b8a44-02d5-49fb-bf5a-cbed16913cdc",
   "metadata": {},
   "outputs": [
    {
     "data": {
      "text/html": [
       "\n",
       "<script>\n",
       "document.body.addEventListener('htmx:configRequest', (event) => {\n",
       "    if(event.detail.path.includes('://')) return;\n",
       "    htmx.config.selfRequestsOnly=false;\n",
       "    event.detail.path = `${location.protocol}//${location.hostname}:8000${event.detail.path}`;\n",
       "});\n",
       "</script>"
      ],
      "text/plain": [
       "<IPython.core.display.HTML object>"
      ]
     },
     "metadata": {},
     "output_type": "display_data"
    },
    {
     "data": {
      "text/html": [
       "<iframe src=\"http://localhost:8000/\" style=\"width: 100%; height: auto; border: none;\" onload=\"{\n",
       "        let frame = this;\n",
       "        window.addEventListener('message', function(e) {\n",
       "            if (e.source !== frame.contentWindow) return; // Only proceed if the message is from this iframe\n",
       "            if (e.data.height) frame.style.height = (e.data.height+1) + 'px';\n",
       "        }, false);\n",
       "    }\" allow=\"accelerometer; autoplay; camera; clipboard-read; clipboard-write; display-capture; encrypted-media; fullscreen; gamepad; geolocation; gyroscope; hid; identity-credentials-get; idle-detection; magnetometer; microphone; midi; payment; picture-in-picture; publickey-credentials-get; screen-wake-lock; serial; usb; web-share; xr-spatial-tracking\"></iframe> "
      ],
      "text/plain": [
       "<IPython.core.display.HTML object>"
      ]
     },
     "metadata": {},
     "output_type": "display_data"
    }
   ],
   "source": [
    "#| eval: false\n",
    "#| output: false\n",
    "test_func = test_accordion_plus_fasthtml_examples\n",
    "app, rt = create_test_app(theme=DaisyUITheme.LIGHT)\n",
    "\n",
    "@rt\n",
    "def index():\n",
    "    return create_test_page(test_func.__doc__.title().replace('.', ''), test_func())\n",
    "server = start_test_server(app)\n",
    "display(HTMX())\n",
    "server.stop()"
   ]
  },
  {
   "cell_type": "code",
   "execution_count": null,
   "id": "jj3pjy9wuk8",
   "metadata": {},
   "outputs": [
    {
     "data": {
      "text/markdown": [
       "```html\n",
       "<div class=\"join join-vertical bg-base-100\">\n",
       "  <div class=\"collapse collapse-arrow join-item border-base-300 border\">\n",
       "    <input type=\"radio\" name=\"my-accordion-4\" checked=\"checked\">\n",
       "    <div class=\"collapse-title font-semibold\">How do I create an account?</div>\n",
       "    <div class=\"collapse-content text-sm\">Click the &quot;Sign Up&quot; button in the top right corner and follow the registration process.</div>\n",
       "  </div>\n",
       "  <div class=\"collapse collapse-arrow join-item border-base-300 border\">\n",
       "    <input type=\"radio\" name=\"my-accordion-4\">\n",
       "    <div class=\"collapse-title font-semibold\">I forgot my password. What should I do?</div>\n",
       "    <div class=\"collapse-content text-sm\">Click on &quot;Forgot Password&quot; on the login page and follow the instructions sent to your email.</div>\n",
       "  </div>\n",
       "  <div class=\"collapse collapse-arrow join-item border-base-300 border\">\n",
       "    <input type=\"radio\" name=\"my-accordion-4\">\n",
       "    <div class=\"collapse-title font-semibold\">How do I update my profile information?</div>\n",
       "    <div class=\"collapse-content text-sm\">Go to &quot;My Account&quot; settings and select &quot;Edit Profile&quot; to make changes.</div>\n",
       "  </div>\n",
       "</div>\n",
       "\n",
       "```"
      ],
      "text/plain": [
       "div((div((input((),{'type': 'radio', 'name': 'my-accordion-4', 'checked': 'checked'}), div(('How do I create an account?',),{'class': 'collapse-title font-semibold'}), div(('Click the \"Sign Up\" button in the top right corner and follow the registration process.',),{'class': 'collapse-content text-sm'})),{'class': 'collapse collapse-arrow join-item border-base-300 border'}), div((input((),{'type': 'radio', 'name': 'my-accordion-4'}), div(('I forgot my password. What should I do?',),{'class': 'collapse-title font-semibold'}), div(('Click on \"Forgot Password\" on the login page and follow the instructions sent to your email.',),{'class': 'collapse-content text-sm'})),{'class': 'collapse collapse-arrow join-item border-base-300 border'}), div((input((),{'type': 'radio', 'name': 'my-accordion-4'}), div(('How do I update my profile information?',),{'class': 'collapse-title font-semibold'}), div(('Go to \"My Account\" settings and select \"Edit Profile\" to make changes.',),{'class': 'collapse-content text-sm'})),{'class': 'collapse collapse-arrow join-item border-base-300 border'})),{'class': 'join join-vertical bg-base-100'})"
      ]
     },
     "execution_count": null,
     "metadata": {},
     "output_type": "execute_result"
    }
   ],
   "source": [
    "#|exports\n",
    "def test_accordion_join_fasthtml_examples():\n",
    "    \"\"\"Test accordion with join from daisyUI v5 documentation.\"\"\"\n",
    "    from fasthtml.common import Div, Input\n",
    "    from cjm_fasthtml_tailwind.utilities.borders import border\n",
    "    from cjm_fasthtml_tailwind.utilities.typography import font_size, font_weight, font_family, text_color\n",
    "    from cjm_fasthtml_daisyui.utilities.semantic_colors import bg_dui, border_dui\n",
    "    \n",
    "    # Accordion group using Join\n",
    "    accordion_join = Div(\n",
    "        Div(\n",
    "            Input(type=\"radio\", name=\"my-accordion-4\", checked=\"checked\"),\n",
    "            Div(\"How do I create an account?\", cls=combine_classes(collapse_title, font_weight.semibold)),\n",
    "            Div(\n",
    "                'Click the \"Sign Up\" button in the top right corner and follow the registration process.',\n",
    "                cls=combine_classes(collapse_content, font_size.sm)\n",
    "            ),\n",
    "            cls=combine_classes(collapse, collapse_modifiers.arrow, \"join-item\", border_dui.base_300, border())\n",
    "        ),\n",
    "        Div(\n",
    "            Input(type=\"radio\", name=\"my-accordion-4\"),\n",
    "            Div(\"I forgot my password. What should I do?\", cls=combine_classes(collapse_title, font_weight.semibold)),\n",
    "            Div(\n",
    "                'Click on \"Forgot Password\" on the login page and follow the instructions sent to your email.',\n",
    "                cls=combine_classes(collapse_content, font_size.sm)\n",
    "            ),\n",
    "            cls=combine_classes(collapse, collapse_modifiers.arrow, \"join-item\", border_dui.base_300, border())\n",
    "        ),\n",
    "        Div(\n",
    "            Input(type=\"radio\", name=\"my-accordion-4\"),\n",
    "            Div(\"How do I update my profile information?\", cls=combine_classes(collapse_title, font_weight.semibold)),\n",
    "            Div(\n",
    "                'Go to \"My Account\" settings and select \"Edit Profile\" to make changes.',\n",
    "                cls=combine_classes(collapse_content, font_size.sm)\n",
    "            ),\n",
    "            cls=combine_classes(collapse, collapse_modifiers.arrow, \"join-item\", border_dui.base_300, border())\n",
    "        ),\n",
    "        cls=combine_classes(\"join\", \"join-vertical\", bg_dui.base_100)\n",
    "    )\n",
    "    \n",
    "    # Verify container structure\n",
    "    assert \"join\" in accordion_join.attrs['class']\n",
    "    assert \"join-vertical\" in accordion_join.attrs['class']\n",
    "    assert \"bg-base-100\" in accordion_join.attrs['class']\n",
    "    \n",
    "    # Verify first accordion item\n",
    "    item_1 = accordion_join.children[0]\n",
    "    assert \"collapse\" in item_1.attrs['class']\n",
    "    assert \"collapse-arrow\" in item_1.attrs['class']\n",
    "    assert \"join-item\" in item_1.attrs['class']\n",
    "    assert \"border-base-300\" in item_1.attrs['class']\n",
    "    assert \"border\" in item_1.attrs['class']\n",
    "    assert item_1.children[0].attrs['type'] == \"radio\"\n",
    "    assert item_1.children[0].attrs['name'] == \"my-accordion-4\"\n",
    "    assert item_1.children[0].attrs['checked'] == \"checked\"\n",
    "    assert item_1.children[1].children[0] == \"How do I create an account?\"\n",
    "    \n",
    "    # Verify second accordion item\n",
    "    item_2 = accordion_join.children[1]\n",
    "    assert \"collapse\" in item_2.attrs['class']\n",
    "    assert \"collapse-arrow\" in item_2.attrs['class']\n",
    "    assert \"join-item\" in item_2.attrs['class']\n",
    "    assert item_2.children[0].attrs['name'] == \"my-accordion-4\"\n",
    "    assert 'checked' not in item_2.children[0].attrs\n",
    "    assert item_2.children[1].children[0] == \"I forgot my password. What should I do?\"\n",
    "    \n",
    "    # Verify third accordion item\n",
    "    item_3 = accordion_join.children[2]\n",
    "    assert \"collapse\" in item_3.attrs['class']\n",
    "    assert \"collapse-arrow\" in item_3.attrs['class']\n",
    "    assert \"join-item\" in item_3.attrs['class']\n",
    "    assert item_3.children[0].attrs['name'] == \"my-accordion-4\"\n",
    "    assert 'checked' not in item_3.children[0].attrs\n",
    "    assert item_3.children[1].children[0] == \"How do I update my profile information?\"\n",
    "    \n",
    "    # Test that all items share the same radio group name\n",
    "    assert item_1.children[0].attrs['name'] == item_2.children[0].attrs['name']\n",
    "    assert item_2.children[0].attrs['name'] == item_3.children[0].attrs['name']\n",
    "    \n",
    "    # Return the accordion join in a Div (it's already a container, but returning for consistency)\n",
    "    return accordion_join\n",
    "\n",
    "# Run the tests\n",
    "test_accordion_join_fasthtml_examples()"
   ]
  },
  {
   "cell_type": "code",
   "execution_count": null,
   "id": "3d9ce99e-12ac-4406-a9c4-abca42a00539",
   "metadata": {},
   "outputs": [
    {
     "data": {
      "text/html": [
       "\n",
       "<script>\n",
       "document.body.addEventListener('htmx:configRequest', (event) => {\n",
       "    if(event.detail.path.includes('://')) return;\n",
       "    htmx.config.selfRequestsOnly=false;\n",
       "    event.detail.path = `${location.protocol}//${location.hostname}:8000${event.detail.path}`;\n",
       "});\n",
       "</script>"
      ],
      "text/plain": [
       "<IPython.core.display.HTML object>"
      ]
     },
     "metadata": {},
     "output_type": "display_data"
    },
    {
     "data": {
      "text/html": [
       "<iframe src=\"http://localhost:8000/\" style=\"width: 100%; height: auto; border: none;\" onload=\"{\n",
       "        let frame = this;\n",
       "        window.addEventListener('message', function(e) {\n",
       "            if (e.source !== frame.contentWindow) return; // Only proceed if the message is from this iframe\n",
       "            if (e.data.height) frame.style.height = (e.data.height+1) + 'px';\n",
       "        }, false);\n",
       "    }\" allow=\"accelerometer; autoplay; camera; clipboard-read; clipboard-write; display-capture; encrypted-media; fullscreen; gamepad; geolocation; gyroscope; hid; identity-credentials-get; idle-detection; magnetometer; microphone; midi; payment; picture-in-picture; publickey-credentials-get; screen-wake-lock; serial; usb; web-share; xr-spatial-tracking\"></iframe> "
      ],
      "text/plain": [
       "<IPython.core.display.HTML object>"
      ]
     },
     "metadata": {},
     "output_type": "display_data"
    }
   ],
   "source": [
    "#| eval: false\n",
    "#| output: false\n",
    "test_func = test_accordion_join_fasthtml_examples\n",
    "app, rt = create_test_app(theme=DaisyUITheme.LIGHT)\n",
    "\n",
    "@rt\n",
    "def index():\n",
    "    return create_test_page(test_func.__doc__.title().replace('.', ''), test_func())\n",
    "server = start_test_server(app)\n",
    "display(HTMX())\n",
    "server.stop()"
   ]
  },
  {
   "cell_type": "code",
   "execution_count": null,
   "id": "5214f0f5-966b-495a-9b09-a76ee6d9c04f",
   "metadata": {},
   "outputs": [],
   "source": []
  },
  {
   "cell_type": "code",
   "execution_count": null,
   "id": "d3859d79-dd12-4c0c-b32c-6dd9a806c384",
   "metadata": {},
   "outputs": [],
   "source": []
  },
  {
   "cell_type": "code",
   "execution_count": null,
   "id": "7a33b08b-7afe-4eb8-8167-1f1f205d7972",
   "metadata": {},
   "outputs": [],
   "source": []
  },
  {
   "cell_type": "code",
   "execution_count": null,
   "id": "d0a3be80-1136-4acd-a107-8f610d826f88",
   "metadata": {},
   "outputs": [],
   "source": []
  },
  {
   "cell_type": "code",
   "execution_count": null,
   "id": "b7ca2758-3033-4afa-a84c-9c799bae8ae8",
   "metadata": {},
   "outputs": [],
   "source": []
  },
  {
   "cell_type": "code",
   "execution_count": null,
   "id": "9f645267-cec3-4ce1-a146-797c4e0a1c22",
   "metadata": {},
   "outputs": [],
   "source": [
    "#| hide\n",
    "import nbdev; nbdev.nbdev_export()"
   ]
  }
 ],
 "metadata": {
  "kernelspec": {
   "display_name": "python3",
   "language": "python",
   "name": "python3"
  }
 },
 "nbformat": 4,
 "nbformat_minor": 5
}
