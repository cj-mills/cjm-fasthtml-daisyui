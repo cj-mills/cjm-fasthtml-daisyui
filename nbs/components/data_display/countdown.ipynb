{
 "cells": [
  {
   "cell_type": "markdown",
   "id": "aff22676-bda9-4d9a-832e-5a9fad503f91",
   "metadata": {},
   "source": [
    "# countdown\n",
    "\n",
    "> Countdown gives you a transition effect when you change a number between 0 to 99."
   ]
  },
  {
   "cell_type": "code",
   "execution_count": null,
   "id": "34f1a79e-39bf-4113-a9db-9578c2330e44",
   "metadata": {},
   "outputs": [],
   "source": [
    "#| default_exp components.data_display.countdown"
   ]
  },
  {
   "cell_type": "code",
   "execution_count": null,
   "id": "419459f4-3493-4d75-a579-135c0eab2128",
   "metadata": {},
   "outputs": [],
   "source": [
    "#| hide\n",
    "from nbdev.showdoc import *"
   ]
  },
  {
   "cell_type": "code",
   "execution_count": null,
   "id": "17fd66d1-e06b-443f-ac55-99c2a58eb0c2",
   "metadata": {},
   "outputs": [],
   "source": [
    "#| export\n",
    "from typing import Optional, Dict, Any, Union, List\n",
    "from cjm_fasthtml_tailwind.core.base import (\n",
    "    SingleValueFactory, BaseFactory, combine_classes\n",
    ")\n",
    "from cjm_fasthtml_tailwind.builders.scales import SimpleFactory\n",
    "\n",
    "from fasthtml.jupyter import JupyUvi, HTMX\n",
    "from cjm_fasthtml_daisyui.core.testing import create_test_app, create_test_page, start_test_server\n",
    "\n",
    "from fasthtml.common import Div\n",
    "from cjm_fasthtml_daisyui.core.themes import DaisyUITheme\n",
    "from IPython.display import display"
   ]
  },
  {
   "cell_type": "markdown",
   "id": "1caca8c9-4cbc-4b31-b284-38311eba6ce2",
   "metadata": {},
   "source": [
    "### Base Countdown\n",
    "\n",
    "The base countdown component:"
   ]
  },
  {
   "cell_type": "code",
   "execution_count": null,
   "id": "855e2720-6158-4e7c-8a8a-76cafed3d92a",
   "metadata": {},
   "outputs": [],
   "source": [
    "#| exports\n",
    "countdown = SingleValueFactory(\"countdown\", \"Countdown wrapper component for transition effect\") # Countdown wrapper"
   ]
  },
  {
   "cell_type": "markdown",
   "id": "38f50f7d-76bf-4a28-b514-19e6a3e1c88b",
   "metadata": {},
   "source": [
    "### Countdown Test Examples"
   ]
  },
  {
   "cell_type": "code",
   "execution_count": null,
   "id": "7eaf329f-681c-4d27-91d4-4ffd3db3c188",
   "metadata": {},
   "outputs": [],
   "source": [
    "#|exports\n",
    "def test_countdown_basic_examples():\n",
    "    \"\"\"Test basic countdown utilities.\"\"\"\n",
    "    # Basic countdown\n",
    "    assert str(countdown) == \"countdown\"\n",
    "    \n",
    "    # With modifiers\n",
    "    assert str(countdown.hover) == \"hover:countdown\"\n",
    "    assert str(countdown.md) == \"md:countdown\"\n",
    "    assert str(countdown.dark) == \"dark:countdown\"\n",
    "\n",
    "# Run the tests\n",
    "test_countdown_basic_examples()"
   ]
  },
  {
   "cell_type": "code",
   "execution_count": null,
   "id": "fec6e204-7a2d-496e-9b08-0920182adac6",
   "metadata": {},
   "outputs": [
    {
     "data": {
      "text/markdown": [
       "```html\n",
       "<div>\n",
       "<span class=\"countdown\"><span aria-live=\"polite\" aria-label=\"59\" style=\"--value:59;\">59</span></span><span class=\"countdown font-mono text-6xl\"><span aria-live=\"polite\" aria-label=\"59\" style=\"--value:59;\">59</span></span></div>\n",
       "\n",
       "```"
      ],
      "text/plain": [
       "div((span((span(('59',),{'aria-live': 'polite', 'aria-label': '59', 'style': '--value:59;'}),),{'class': 'countdown'}), span((span(('59',),{'aria-live': 'polite', 'aria-label': '59', 'style': '--value:59;'}),),{'class': 'countdown font-mono text-6xl'})),{})"
      ]
     },
     "execution_count": null,
     "metadata": {},
     "output_type": "execute_result"
    }
   ],
   "source": [
    "#|exports\n",
    "def test_countdown_basic_fasthtml_examples():\n",
    "    \"\"\"Test basic countdown and large text from daisyUI v5 documentation.\"\"\"\n",
    "    from fasthtml.common import Span, Div\n",
    "    from cjm_fasthtml_tailwind.utilities.typography import font_size, font_weight, font_family, text_color\n",
    "    \n",
    "    # Basic countdown\n",
    "    basic_countdown = Span(\n",
    "        Span(\"59\", style=\"--value:59;\", aria_live=\"polite\", aria_label=\"59\"),\n",
    "        cls=str(countdown)\n",
    "    )\n",
    "    assert basic_countdown.tag == \"span\"\n",
    "    assert basic_countdown.attrs['class'] == \"countdown\"\n",
    "    assert len(basic_countdown.children) == 1\n",
    "    inner_span = basic_countdown.children[0]\n",
    "    assert inner_span.tag == \"span\"\n",
    "    assert inner_span.attrs['style'] == \"--value:59;\"\n",
    "    assert inner_span.attrs['aria-live'] == \"polite\"\n",
    "    assert inner_span.attrs['aria-label'] == \"59\"\n",
    "    assert inner_span.children[0] == \"59\"\n",
    "    \n",
    "    # Large text\n",
    "    large_countdown = Span(\n",
    "        Span(\"59\", style=\"--value:59;\", aria_live=\"polite\", aria_label=\"59\"),\n",
    "        cls=combine_classes(countdown, font_family.mono, font_size._6xl)\n",
    "    )\n",
    "    assert large_countdown.tag == \"span\"\n",
    "    assert \"countdown\" in large_countdown.attrs['class']\n",
    "    assert \"font-mono\" in large_countdown.attrs['class']\n",
    "    assert \"text-6xl\" in large_countdown.attrs['class']\n",
    "    assert large_countdown.children[0].attrs['style'] == \"--value:59;\"\n",
    "    assert large_countdown.children[0].children[0] == \"59\"\n",
    "    \n",
    "    # Return all examples in a Div\n",
    "    return Div(\n",
    "        basic_countdown,\n",
    "        large_countdown\n",
    "    )\n",
    "\n",
    "# Run the tests\n",
    "test_countdown_basic_fasthtml_examples()"
   ]
  },
  {
   "cell_type": "code",
   "execution_count": null,
   "id": "c8b0cf2d-7158-4246-acc9-0ee81d5346ea",
   "metadata": {},
   "outputs": [
    {
     "data": {
      "text/html": [
       "\n",
       "<script>\n",
       "document.body.addEventListener('htmx:configRequest', (event) => {\n",
       "    if(event.detail.path.includes('://')) return;\n",
       "    htmx.config.selfRequestsOnly=false;\n",
       "    event.detail.path = `${location.protocol}//${location.hostname}:8000${event.detail.path}`;\n",
       "});\n",
       "</script>"
      ],
      "text/plain": [
       "<IPython.core.display.HTML object>"
      ]
     },
     "metadata": {},
     "output_type": "display_data"
    },
    {
     "data": {
      "text/html": [
       "<iframe src=\"http://localhost:8000/\" style=\"width: 100%; height: auto; border: none;\" onload=\"{\n",
       "        let frame = this;\n",
       "        window.addEventListener('message', function(e) {\n",
       "            if (e.source !== frame.contentWindow) return; // Only proceed if the message is from this iframe\n",
       "            if (e.data.height) frame.style.height = (e.data.height+1) + 'px';\n",
       "        }, false);\n",
       "    }\" allow=\"accelerometer; autoplay; camera; clipboard-read; clipboard-write; display-capture; encrypted-media; fullscreen; gamepad; geolocation; gyroscope; hid; identity-credentials-get; idle-detection; magnetometer; microphone; midi; payment; picture-in-picture; publickey-credentials-get; screen-wake-lock; serial; usb; web-share; xr-spatial-tracking\"></iframe> "
      ],
      "text/plain": [
       "<IPython.core.display.HTML object>"
      ]
     },
     "metadata": {},
     "output_type": "display_data"
    }
   ],
   "source": [
    "#| eval: false\n",
    "#| output: false\n",
    "test_func = test_countdown_basic_fasthtml_examples\n",
    "app, rt = create_test_app(theme=DaisyUITheme.LIGHT)\n",
    "\n",
    "@rt\n",
    "def index():\n",
    "    return create_test_page(test_func.__doc__.title().replace('.', ''), test_func())\n",
    "server = start_test_server(app)\n",
    "display(HTMX())\n",
    "server.stop()"
   ]
  },
  {
   "cell_type": "code",
   "execution_count": null,
   "id": "51yf3hspzo",
   "metadata": {},
   "outputs": [
    {
     "data": {
      "text/markdown": [
       "```html\n",
       "<div>\n",
       "<span class=\"countdown font-mono text-2xl\"><span aria-live=\"polite\" aria-label=\"10\" style=\"--value:10;\">10</span>h<span aria-live=\"polite\" aria-label=\"24\" style=\"--value:24;\">24</span>m<span aria-live=\"polite\" aria-label=\"59\" style=\"--value:59;\">59</span>s</span><span class=\"countdown font-mono text-2xl\"><span aria-live=\"polite\" aria-label=\"10\" style=\"--value:10;\">10</span>:<span aria-live=\"polite\" aria-label=\"24\" style=\"--value:24;\">24</span>:<span aria-live=\"polite\" aria-label=\"59\" style=\"--value:59;\">59</span></span></div>\n",
       "\n",
       "```"
      ],
      "text/plain": [
       "div((span((span(('10',),{'aria-live': 'polite', 'aria-label': '10', 'style': '--value:10;'}), 'h', span(('24',),{'aria-live': 'polite', 'aria-label': '24', 'style': '--value:24;'}), 'm', span(('59',),{'aria-live': 'polite', 'aria-label': '59', 'style': '--value:59;'}), 's'),{'class': 'countdown font-mono text-2xl'}), span((span(('10',),{'aria-live': 'polite', 'aria-label': '10', 'style': '--value:10;'}), ':', span(('24',),{'aria-live': 'polite', 'aria-label': '24', 'style': '--value:24;'}), ':', span(('59',),{'aria-live': 'polite', 'aria-label': '59', 'style': '--value:59;'})),{'class': 'countdown font-mono text-2xl'})),{})"
      ]
     },
     "execution_count": null,
     "metadata": {},
     "output_type": "execute_result"
    }
   ],
   "source": [
    "#|exports\n",
    "def test_countdown_clock_fasthtml_examples():\n",
    "    \"\"\"Test clock countdown and clock countdown with colons from daisyUI v5 documentation.\"\"\"\n",
    "    from fasthtml.common import Span, Div\n",
    "    from cjm_fasthtml_tailwind.utilities.typography import font_size, font_weight, font_family, text_color\n",
    "    \n",
    "    # Clock countdown\n",
    "    clock_countdown = Span(\n",
    "        Span(\"10\", style=\"--value:10;\", aria_live=\"polite\", aria_label=\"10\"),\n",
    "        \"h\",\n",
    "        Span(\"24\", style=\"--value:24;\", aria_live=\"polite\", aria_label=\"24\"),\n",
    "        \"m\",\n",
    "        Span(\"59\", style=\"--value:59;\", aria_live=\"polite\", aria_label=\"59\"),\n",
    "        \"s\",\n",
    "        cls=combine_classes(countdown, font_family.mono, font_size._2xl)\n",
    "    )\n",
    "    assert clock_countdown.tag == \"span\"\n",
    "    assert \"countdown\" in clock_countdown.attrs['class']\n",
    "    assert \"font-mono\" in clock_countdown.attrs['class']\n",
    "    assert \"text-2xl\" in clock_countdown.attrs['class']\n",
    "    assert len(clock_countdown.children) == 6  # 3 spans + 3 text nodes\n",
    "    # First countdown span\n",
    "    assert clock_countdown.children[0].tag == \"span\"\n",
    "    assert clock_countdown.children[0].attrs['style'] == \"--value:10;\"\n",
    "    assert clock_countdown.children[0].children[0] == \"10\"\n",
    "    # Text separators\n",
    "    assert clock_countdown.children[1] == \"h\"\n",
    "    assert clock_countdown.children[3] == \"m\"\n",
    "    assert clock_countdown.children[5] == \"s\"\n",
    "    # Other countdown spans\n",
    "    assert clock_countdown.children[2].attrs['style'] == \"--value:24;\"\n",
    "    assert clock_countdown.children[2].children[0] == \"24\"\n",
    "    assert clock_countdown.children[4].attrs['style'] == \"--value:59;\"\n",
    "    assert clock_countdown.children[4].children[0] == \"59\"\n",
    "    \n",
    "    # Clock countdown with colons\n",
    "    clock_colons = Span(\n",
    "        Span(\"10\", style=\"--value:10;\", aria_live=\"polite\", aria_label=\"10\"),\n",
    "        \":\",\n",
    "        Span(\"24\", style=\"--value:24;\", aria_live=\"polite\", aria_label=\"24\"),\n",
    "        \":\",\n",
    "        Span(\"59\", style=\"--value:59;\", aria_live=\"polite\", aria_label=\"59\"),\n",
    "        cls=combine_classes(countdown, font_family.mono, font_size._2xl)\n",
    "    )\n",
    "    assert clock_colons.tag == \"span\"\n",
    "    assert \"countdown\" in clock_colons.attrs['class']\n",
    "    assert \"font-mono\" in clock_colons.attrs['class']\n",
    "    assert \"text-2xl\" in clock_colons.attrs['class']\n",
    "    assert len(clock_colons.children) == 5  # 3 spans + 2 text nodes\n",
    "    # Verify colons\n",
    "    assert clock_colons.children[1] == \":\"\n",
    "    assert clock_colons.children[3] == \":\"\n",
    "    # Verify countdown values\n",
    "    assert clock_colons.children[0].attrs['style'] == \"--value:10;\"\n",
    "    assert clock_colons.children[2].attrs['style'] == \"--value:24;\"\n",
    "    assert clock_colons.children[4].attrs['style'] == \"--value:59;\"\n",
    "    \n",
    "    # Return all examples in a Div\n",
    "    return Div(\n",
    "        clock_countdown,\n",
    "        clock_colons\n",
    "    )\n",
    "\n",
    "# Run the tests\n",
    "test_countdown_clock_fasthtml_examples()"
   ]
  },
  {
   "cell_type": "code",
   "execution_count": null,
   "id": "065d4100-8f44-4e74-801b-5cb5ac81c13c",
   "metadata": {},
   "outputs": [
    {
     "data": {
      "text/html": [
       "\n",
       "<script>\n",
       "document.body.addEventListener('htmx:configRequest', (event) => {\n",
       "    if(event.detail.path.includes('://')) return;\n",
       "    htmx.config.selfRequestsOnly=false;\n",
       "    event.detail.path = `${location.protocol}//${location.hostname}:8000${event.detail.path}`;\n",
       "});\n",
       "</script>"
      ],
      "text/plain": [
       "<IPython.core.display.HTML object>"
      ]
     },
     "metadata": {},
     "output_type": "display_data"
    },
    {
     "data": {
      "text/html": [
       "<iframe src=\"http://localhost:8000/\" style=\"width: 100%; height: auto; border: none;\" onload=\"{\n",
       "        let frame = this;\n",
       "        window.addEventListener('message', function(e) {\n",
       "            if (e.source !== frame.contentWindow) return; // Only proceed if the message is from this iframe\n",
       "            if (e.data.height) frame.style.height = (e.data.height+1) + 'px';\n",
       "        }, false);\n",
       "    }\" allow=\"accelerometer; autoplay; camera; clipboard-read; clipboard-write; display-capture; encrypted-media; fullscreen; gamepad; geolocation; gyroscope; hid; identity-credentials-get; idle-detection; magnetometer; microphone; midi; payment; picture-in-picture; publickey-credentials-get; screen-wake-lock; serial; usb; web-share; xr-spatial-tracking\"></iframe> "
      ],
      "text/plain": [
       "<IPython.core.display.HTML object>"
      ]
     },
     "metadata": {},
     "output_type": "display_data"
    }
   ],
   "source": [
    "#| eval: false\n",
    "#| output: false\n",
    "test_func = test_countdown_clock_fasthtml_examples\n",
    "app, rt = create_test_app(theme=DaisyUITheme.LIGHT)\n",
    "\n",
    "@rt\n",
    "def index():\n",
    "    return create_test_page(test_func.__doc__.title().replace('.', ''), test_func())\n",
    "server = start_test_server(app)\n",
    "display(HTMX())\n",
    "server.stop()"
   ]
  },
  {
   "cell_type": "code",
   "execution_count": null,
   "id": "37dssx08vs",
   "metadata": {},
   "outputs": [
    {
     "data": {
      "text/markdown": [
       "```html\n",
       "<div>\n",
       "  <div class=\"flex gap-5\">\n",
       "    <div>\n",
       "<span class=\"countdown font-mono text-4xl\"><span aria-live=\"polite\" aria-label=\"15\" style=\"--value:15;\">15</span></span>days    </div>\n",
       "    <div>\n",
       "<span class=\"countdown font-mono text-4xl\"><span aria-live=\"polite\" aria-label=\"10\" style=\"--value:10;\">10</span></span>hours    </div>\n",
       "    <div>\n",
       "<span class=\"countdown font-mono text-4xl\"><span aria-live=\"polite\" aria-label=\"24\" style=\"--value:24;\">24</span></span>min    </div>\n",
       "    <div>\n",
       "<span class=\"countdown font-mono text-4xl\"><span aria-live=\"polite\" aria-label=\"59\" style=\"--value:59;\">59</span></span>sec    </div>\n",
       "  </div>\n",
       "  <div class=\"grid auto-cols-max grid-flow-col gap-5 text-center\">\n",
       "    <div class=\"flex flex-col\">\n",
       "<span class=\"countdown font-mono text-5xl\"><span aria-live=\"polite\" aria-label=\"15\" style=\"--value:15;\">15</span></span>days    </div>\n",
       "    <div class=\"flex flex-col\">\n",
       "<span class=\"countdown font-mono text-5xl\"><span aria-live=\"polite\" aria-label=\"10\" style=\"--value:10;\">10</span></span>hours    </div>\n",
       "    <div class=\"flex flex-col\">\n",
       "<span class=\"countdown font-mono text-5xl\"><span aria-live=\"polite\" aria-label=\"24\" style=\"--value:24;\">24</span></span>min    </div>\n",
       "    <div class=\"flex flex-col\">\n",
       "<span class=\"countdown font-mono text-5xl\"><span aria-live=\"polite\" aria-label=\"59\" style=\"--value:59;\">59</span></span>sec    </div>\n",
       "  </div>\n",
       "</div>\n",
       "\n",
       "```"
      ],
      "text/plain": [
       "div((div((div((span((span(('15',),{'aria-live': 'polite', 'aria-label': '15', 'style': '--value:15;'}),),{'class': 'countdown font-mono text-4xl'}), 'days'),{}), div((span((span(('10',),{'aria-live': 'polite', 'aria-label': '10', 'style': '--value:10;'}),),{'class': 'countdown font-mono text-4xl'}), 'hours'),{}), div((span((span(('24',),{'aria-live': 'polite', 'aria-label': '24', 'style': '--value:24;'}),),{'class': 'countdown font-mono text-4xl'}), 'min'),{}), div((span((span(('59',),{'aria-live': 'polite', 'aria-label': '59', 'style': '--value:59;'}),),{'class': 'countdown font-mono text-4xl'}), 'sec'),{})),{'class': 'flex gap-5'}), div((div((span((span(('15',),{'aria-live': 'polite', 'aria-label': '15', 'style': '--value:15;'}),),{'class': 'countdown font-mono text-5xl'}), 'days'),{'class': 'flex flex-col'}), div((span((span(('10',),{'aria-live': 'polite', 'aria-label': '10', 'style': '--value:10;'}),),{'class': 'countdown font-mono text-5xl'}), 'hours'),{'class': 'flex flex-col'}), div((span((span(('24',),{'aria-live': 'polite', 'aria-label': '24', 'style': '--value:24;'}),),{'class': 'countdown font-mono text-5xl'}), 'min'),{'class': 'flex flex-col'}), div((span((span(('59',),{'aria-live': 'polite', 'aria-label': '59', 'style': '--value:59;'}),),{'class': 'countdown font-mono text-5xl'}), 'sec'),{'class': 'flex flex-col'})),{'class': 'grid auto-cols-max grid-flow-col gap-5 text-center'})),{})"
      ]
     },
     "execution_count": null,
     "metadata": {},
     "output_type": "execute_result"
    }
   ],
   "source": [
    "#|exports\n",
    "def test_countdown_labels_fasthtml_examples():\n",
    "    \"\"\"Test large text with labels and labels under from daisyUI v5 documentation.\"\"\"\n",
    "    from fasthtml.common import Div, Span\n",
    "    from cjm_fasthtml_tailwind.utilities.typography import font_size, font_weight, font_family, text_color, text_align\n",
    "    from cjm_fasthtml_tailwind.utilities.flexbox_and_grid import gap, flex_direction, auto_cols, grid_flow, flex_display, grid_display\n",
    "    from cjm_fasthtml_tailwind.utilities.layout import display_tw\n",
    "    \n",
    "    # Large text with labels\n",
    "    labels_side = Div(\n",
    "        Div(\n",
    "            Span(\n",
    "                Span(\"15\", style=\"--value:15;\", aria_live=\"polite\", aria_label=\"15\"),\n",
    "                cls=combine_classes(countdown, font_family.mono, font_size._4xl)\n",
    "            ),\n",
    "            \"days\"\n",
    "        ),\n",
    "        Div(\n",
    "            Span(\n",
    "                Span(\"10\", style=\"--value:10;\", aria_live=\"polite\", aria_label=\"10\"),\n",
    "                cls=combine_classes(countdown, font_family.mono, font_size._4xl)\n",
    "            ),\n",
    "            \"hours\"\n",
    "        ),\n",
    "        Div(\n",
    "            Span(\n",
    "                Span(\"24\", style=\"--value:24;\", aria_live=\"polite\", aria_label=\"24\"),\n",
    "                cls=combine_classes(countdown, font_family.mono, font_size._4xl)\n",
    "            ),\n",
    "            \"min\"\n",
    "        ),\n",
    "        Div(\n",
    "            Span(\n",
    "                Span(\"59\", style=\"--value:59;\", aria_live=\"polite\", aria_label=\"59\"),\n",
    "                cls=combine_classes(countdown, font_family.mono, font_size._4xl)\n",
    "            ),\n",
    "            \"sec\"\n",
    "        ),\n",
    "        cls=combine_classes(flex_display, gap._5)\n",
    "    )\n",
    "    assert labels_side.tag == \"div\"\n",
    "    assert \"flex\" in labels_side.attrs['class']\n",
    "    assert \"gap-5\" in labels_side.attrs['class']\n",
    "    assert len(labels_side.children) == 4\n",
    "    # Check each time unit\n",
    "    for i, (label_text, value) in enumerate([(\"days\", \"15\"), (\"hours\", \"10\"), (\"min\", \"24\"), (\"sec\", \"59\")]):\n",
    "        unit_div = labels_side.children[i]\n",
    "        assert unit_div.tag == \"div\"\n",
    "        assert len(unit_div.children) == 2\n",
    "        # Check countdown span\n",
    "        countdown_span = unit_div.children[0]\n",
    "        assert countdown_span.tag == \"span\"\n",
    "        assert \"countdown\" in countdown_span.attrs['class']\n",
    "        assert \"font-mono\" in countdown_span.attrs['class']\n",
    "        assert \"text-4xl\" in countdown_span.attrs['class']\n",
    "        assert countdown_span.children[0].attrs['style'] == f\"--value:{value};\"\n",
    "        assert countdown_span.children[0].children[0] == value\n",
    "        # Check label text\n",
    "        assert unit_div.children[1] == label_text\n",
    "    \n",
    "    # Large text with labels under\n",
    "    labels_under = Div(\n",
    "        Div(\n",
    "            Span(\n",
    "                Span(\"15\", style=\"--value:15;\", aria_live=\"polite\", aria_label=\"15\"),\n",
    "                cls=combine_classes(countdown, font_family.mono, font_size._5xl)\n",
    "            ),\n",
    "            \"days\",\n",
    "            cls=combine_classes(flex_display, flex_direction.col)\n",
    "        ),\n",
    "        Div(\n",
    "            Span(\n",
    "                Span(\"10\", style=\"--value:10;\", aria_live=\"polite\", aria_label=\"10\"),\n",
    "                cls=combine_classes(countdown, font_family.mono, font_size._5xl)\n",
    "            ),\n",
    "            \"hours\",\n",
    "            cls=combine_classes(flex_display, flex_direction.col)\n",
    "        ),\n",
    "        Div(\n",
    "            Span(\n",
    "                Span(\"24\", style=\"--value:24;\", aria_live=\"polite\", aria_label=\"24\"),\n",
    "                cls=combine_classes(countdown, font_family.mono, font_size._5xl)\n",
    "            ),\n",
    "            \"min\",\n",
    "            cls=combine_classes(flex_display, flex_direction.col)\n",
    "        ),\n",
    "        Div(\n",
    "            Span(\n",
    "                Span(\"59\", style=\"--value:59;\", aria_live=\"polite\", aria_label=\"59\"),\n",
    "                cls=combine_classes(countdown, font_family.mono, font_size._5xl)\n",
    "            ),\n",
    "            \"sec\",\n",
    "            cls=combine_classes(flex_display, flex_direction.col)\n",
    "        ),\n",
    "        cls=combine_classes(grid_display, auto_cols.max, grid_flow.col, gap._5, text_align.center)\n",
    "    )\n",
    "    assert labels_under.tag == \"div\"\n",
    "    assert \"grid\" in labels_under.attrs['class']\n",
    "    assert \"auto-cols-max\" in labels_under.attrs['class']\n",
    "    assert \"grid-flow-col\" in labels_under.attrs['class']\n",
    "    assert \"gap-5\" in labels_under.attrs['class']\n",
    "    assert \"text-center\" in labels_under.attrs['class']\n",
    "    assert len(labels_under.children) == 4\n",
    "    # Check each time unit\n",
    "    for i, (label_text, value) in enumerate([(\"days\", \"15\"), (\"hours\", \"10\"), (\"min\", \"24\"), (\"sec\", \"59\")]):\n",
    "        unit_div = labels_under.children[i]\n",
    "        assert unit_div.tag == \"div\"\n",
    "        assert \"flex\" in unit_div.attrs['class']\n",
    "        assert \"flex-col\" in unit_div.attrs['class']\n",
    "        # Check countdown span (text-5xl for labels under)\n",
    "        countdown_span = unit_div.children[0]\n",
    "        assert \"text-5xl\" in countdown_span.attrs['class']\n",
    "        assert countdown_span.children[0].attrs['style'] == f\"--value:{value};\"\n",
    "        # Check label text\n",
    "        assert unit_div.children[1] == label_text\n",
    "    \n",
    "    # Return all examples in a Div\n",
    "    return Div(\n",
    "        labels_side,\n",
    "        labels_under\n",
    "    )\n",
    "\n",
    "# Run the tests\n",
    "test_countdown_labels_fasthtml_examples()"
   ]
  },
  {
   "cell_type": "code",
   "execution_count": null,
   "id": "1636d484-5b52-48a0-be20-9d90f6cb94fc",
   "metadata": {},
   "outputs": [
    {
     "data": {
      "text/html": [
       "\n",
       "<script>\n",
       "document.body.addEventListener('htmx:configRequest', (event) => {\n",
       "    if(event.detail.path.includes('://')) return;\n",
       "    htmx.config.selfRequestsOnly=false;\n",
       "    event.detail.path = `${location.protocol}//${location.hostname}:8000${event.detail.path}`;\n",
       "});\n",
       "</script>"
      ],
      "text/plain": [
       "<IPython.core.display.HTML object>"
      ]
     },
     "metadata": {},
     "output_type": "display_data"
    },
    {
     "data": {
      "text/html": [
       "<iframe src=\"http://localhost:8000/\" style=\"width: 100%; height: auto; border: none;\" onload=\"{\n",
       "        let frame = this;\n",
       "        window.addEventListener('message', function(e) {\n",
       "            if (e.source !== frame.contentWindow) return; // Only proceed if the message is from this iframe\n",
       "            if (e.data.height) frame.style.height = (e.data.height+1) + 'px';\n",
       "        }, false);\n",
       "    }\" allow=\"accelerometer; autoplay; camera; clipboard-read; clipboard-write; display-capture; encrypted-media; fullscreen; gamepad; geolocation; gyroscope; hid; identity-credentials-get; idle-detection; magnetometer; microphone; midi; payment; picture-in-picture; publickey-credentials-get; screen-wake-lock; serial; usb; web-share; xr-spatial-tracking\"></iframe> "
      ],
      "text/plain": [
       "<IPython.core.display.HTML object>"
      ]
     },
     "metadata": {},
     "output_type": "display_data"
    }
   ],
   "source": [
    "#| eval: false\n",
    "#| output: false\n",
    "test_func = test_countdown_labels_fasthtml_examples\n",
    "app, rt = create_test_app(theme=DaisyUITheme.LIGHT)\n",
    "\n",
    "@rt\n",
    "def index():\n",
    "    return create_test_page(test_func.__doc__.title().replace('.', ''), test_func())\n",
    "server = start_test_server(app)\n",
    "display(HTMX())\n",
    "server.stop()"
   ]
  },
  {
   "cell_type": "code",
   "execution_count": null,
   "id": "c0pxdr735t4",
   "metadata": {},
   "outputs": [
    {
     "data": {
      "text/markdown": [
       "```html\n",
       "<div>\n",
       "  <div class=\"grid auto-cols-max grid-flow-col gap-5 text-center\">\n",
       "    <div class=\"bg-neutral rounded-box text-neutral-content flex flex-col p-2\">\n",
       "<span class=\"countdown font-mono text-5xl\"><span aria-live=\"polite\" aria-label=\"15\" style=\"--value:15;\">15</span></span>days    </div>\n",
       "    <div class=\"bg-neutral rounded-box text-neutral-content flex flex-col p-2\">\n",
       "<span class=\"countdown font-mono text-5xl\"><span aria-live=\"polite\" aria-label=\"10\" style=\"--value:10;\">10</span></span>hours    </div>\n",
       "    <div class=\"bg-neutral rounded-box text-neutral-content flex flex-col p-2\">\n",
       "<span class=\"countdown font-mono text-5xl\"><span aria-live=\"polite\" aria-label=\"24\" style=\"--value:24;\">24</span></span>min    </div>\n",
       "    <div class=\"bg-neutral rounded-box text-neutral-content flex flex-col p-2\">\n",
       "<span class=\"countdown font-mono text-5xl\"><span aria-live=\"polite\" aria-label=\"59\" style=\"--value:59;\">59</span></span>sec    </div>\n",
       "  </div>\n",
       "</div>\n",
       "\n",
       "```"
      ],
      "text/plain": [
       "div((div((div((span((span(('15',),{'aria-live': 'polite', 'aria-label': '15', 'style': '--value:15;'}),),{'class': 'countdown font-mono text-5xl'}), 'days'),{'class': 'bg-neutral rounded-box text-neutral-content flex flex-col p-2'}), div((span((span(('10',),{'aria-live': 'polite', 'aria-label': '10', 'style': '--value:10;'}),),{'class': 'countdown font-mono text-5xl'}), 'hours'),{'class': 'bg-neutral rounded-box text-neutral-content flex flex-col p-2'}), div((span((span(('24',),{'aria-live': 'polite', 'aria-label': '24', 'style': '--value:24;'}),),{'class': 'countdown font-mono text-5xl'}), 'min'),{'class': 'bg-neutral rounded-box text-neutral-content flex flex-col p-2'}), div((span((span(('59',),{'aria-live': 'polite', 'aria-label': '59', 'style': '--value:59;'}),),{'class': 'countdown font-mono text-5xl'}), 'sec'),{'class': 'bg-neutral rounded-box text-neutral-content flex flex-col p-2'})),{'class': 'grid auto-cols-max grid-flow-col gap-5 text-center'}),),{})"
      ]
     },
     "execution_count": null,
     "metadata": {},
     "output_type": "execute_result"
    }
   ],
   "source": [
    "#|exports\n",
    "def test_countdown_boxes_fasthtml_examples():\n",
    "    \"\"\"Test countdown in boxes from daisyUI v5 documentation.\"\"\"\n",
    "    from fasthtml.common import Div, Span\n",
    "    from cjm_fasthtml_tailwind.utilities.typography import font_size, font_weight, font_family, text_color, text_align\n",
    "    from cjm_fasthtml_tailwind.utilities.flexbox_and_grid import gap, flex_direction, auto_cols, grid_flow, flex_display, grid_display\n",
    "    from cjm_fasthtml_tailwind.utilities.layout import display_tw\n",
    "    from cjm_fasthtml_tailwind.utilities.spacing import p\n",
    "    from cjm_fasthtml_daisyui.utilities.semantic_colors import bg_dui, text_dui\n",
    "    from cjm_fasthtml_daisyui.utilities.border_radius import border_radius\n",
    "    \n",
    "    # In boxes\n",
    "    in_boxes = Div(\n",
    "        Div(\n",
    "            Span(\n",
    "                Span(\"15\", style=\"--value:15;\", aria_live=\"polite\", aria_label=\"15\"),\n",
    "                cls=combine_classes(countdown, font_family.mono, font_size._5xl)\n",
    "            ),\n",
    "            \"days\",\n",
    "            cls=combine_classes(bg_dui.neutral, border_radius.box, text_dui.neutral_content, flex_display, flex_direction.col, p._2)\n",
    "        ),\n",
    "        Div(\n",
    "            Span(\n",
    "                Span(\"10\", style=\"--value:10;\", aria_live=\"polite\", aria_label=\"10\"),\n",
    "                cls=combine_classes(countdown, font_family.mono, font_size._5xl)\n",
    "            ),\n",
    "            \"hours\",\n",
    "            cls=combine_classes(bg_dui.neutral, border_radius.box, text_dui.neutral_content, flex_display, flex_direction.col, p._2)\n",
    "        ),\n",
    "        Div(\n",
    "            Span(\n",
    "                Span(\"24\", style=\"--value:24;\", aria_live=\"polite\", aria_label=\"24\"),\n",
    "                cls=combine_classes(countdown, font_family.mono, font_size._5xl)\n",
    "            ),\n",
    "            \"min\",\n",
    "            cls=combine_classes(bg_dui.neutral, border_radius.box, text_dui.neutral_content, flex_display, flex_direction.col, p._2)\n",
    "        ),\n",
    "        Div(\n",
    "            Span(\n",
    "                Span(\"59\", style=\"--value:59;\", aria_live=\"polite\", aria_label=\"59\"),\n",
    "                cls=combine_classes(countdown, font_family.mono, font_size._5xl)\n",
    "            ),\n",
    "            \"sec\",\n",
    "            cls=combine_classes(bg_dui.neutral, border_radius.box, text_dui.neutral_content, flex_display, flex_direction.col, p._2)\n",
    "        ),\n",
    "        cls=combine_classes(grid_display, auto_cols.max, grid_flow.col, gap._5, text_align.center)\n",
    "    )\n",
    "    assert in_boxes.tag == \"div\"\n",
    "    assert \"grid\" in in_boxes.attrs['class']\n",
    "    assert \"auto-cols-max\" in in_boxes.attrs['class']\n",
    "    assert \"grid-flow-col\" in in_boxes.attrs['class']\n",
    "    assert \"gap-5\" in in_boxes.attrs['class']\n",
    "    assert \"text-center\" in in_boxes.attrs['class']\n",
    "    assert len(in_boxes.children) == 4\n",
    "    # Check each time unit box\n",
    "    for i, (label_text, value) in enumerate([(\"days\", \"15\"), (\"hours\", \"10\"), (\"min\", \"24\"), (\"sec\", \"59\")]):\n",
    "        unit_div = in_boxes.children[i]\n",
    "        assert unit_div.tag == \"div\"\n",
    "        assert \"bg-neutral\" in unit_div.attrs['class']\n",
    "        assert \"rounded-box\" in unit_div.attrs['class']\n",
    "        assert \"text-neutral-content\" in unit_div.attrs['class']\n",
    "        assert \"flex\" in unit_div.attrs['class']\n",
    "        assert \"flex-col\" in unit_div.attrs['class']\n",
    "        assert \"p-2\" in unit_div.attrs['class']\n",
    "        # Check countdown span\n",
    "        countdown_span = unit_div.children[0]\n",
    "        assert \"countdown\" in countdown_span.attrs['class']\n",
    "        assert \"font-mono\" in countdown_span.attrs['class']\n",
    "        assert \"text-5xl\" in countdown_span.attrs['class']\n",
    "        assert countdown_span.children[0].attrs['style'] == f\"--value:{value};\"\n",
    "        assert countdown_span.children[0].children[0] == value\n",
    "        # Check label text\n",
    "        assert unit_div.children[1] == label_text\n",
    "    \n",
    "    # Return all examples in a Div\n",
    "    return Div(\n",
    "        in_boxes\n",
    "    )\n",
    "\n",
    "# Run the tests\n",
    "test_countdown_boxes_fasthtml_examples()"
   ]
  },
  {
   "cell_type": "code",
   "execution_count": null,
   "id": "ad805d0b-b088-4506-a3d8-18ec0968d48d",
   "metadata": {},
   "outputs": [
    {
     "data": {
      "text/html": [
       "\n",
       "<script>\n",
       "document.body.addEventListener('htmx:configRequest', (event) => {\n",
       "    if(event.detail.path.includes('://')) return;\n",
       "    htmx.config.selfRequestsOnly=false;\n",
       "    event.detail.path = `${location.protocol}//${location.hostname}:8000${event.detail.path}`;\n",
       "});\n",
       "</script>"
      ],
      "text/plain": [
       "<IPython.core.display.HTML object>"
      ]
     },
     "metadata": {},
     "output_type": "display_data"
    },
    {
     "data": {
      "text/html": [
       "<iframe src=\"http://localhost:8000/\" style=\"width: 100%; height: auto; border: none;\" onload=\"{\n",
       "        let frame = this;\n",
       "        window.addEventListener('message', function(e) {\n",
       "            if (e.source !== frame.contentWindow) return; // Only proceed if the message is from this iframe\n",
       "            if (e.data.height) frame.style.height = (e.data.height+1) + 'px';\n",
       "        }, false);\n",
       "    }\" allow=\"accelerometer; autoplay; camera; clipboard-read; clipboard-write; display-capture; encrypted-media; fullscreen; gamepad; geolocation; gyroscope; hid; identity-credentials-get; idle-detection; magnetometer; microphone; midi; payment; picture-in-picture; publickey-credentials-get; screen-wake-lock; serial; usb; web-share; xr-spatial-tracking\"></iframe> "
      ],
      "text/plain": [
       "<IPython.core.display.HTML object>"
      ]
     },
     "metadata": {},
     "output_type": "display_data"
    }
   ],
   "source": [
    "#| eval: false\n",
    "#| output: false\n",
    "test_func = test_countdown_boxes_fasthtml_examples\n",
    "app, rt = create_test_app(theme=DaisyUITheme.LIGHT)\n",
    "\n",
    "@rt\n",
    "def index():\n",
    "    return create_test_page(test_func.__doc__.title().replace('.', ''), test_func())\n",
    "server = start_test_server(app)\n",
    "display(HTMX())\n",
    "server.stop()"
   ]
  },
  {
   "cell_type": "code",
   "execution_count": null,
   "id": "5198290f-49cb-4e41-95ee-714a8475790d",
   "metadata": {},
   "outputs": [],
   "source": []
  },
  {
   "cell_type": "code",
   "execution_count": null,
   "id": "666d93aa-d198-4dae-b2aa-2f2ebb3f2527",
   "metadata": {},
   "outputs": [],
   "source": []
  },
  {
   "cell_type": "code",
   "execution_count": null,
   "id": "ac5b0729-71c6-48d2-8282-4921e005ce96",
   "metadata": {},
   "outputs": [],
   "source": [
    "#| hide\n",
    "import nbdev; nbdev.nbdev_export()"
   ]
  }
 ],
 "metadata": {
  "kernelspec": {
   "display_name": "python3",
   "language": "python",
   "name": "python3"
  }
 },
 "nbformat": 4,
 "nbformat_minor": 5
}
