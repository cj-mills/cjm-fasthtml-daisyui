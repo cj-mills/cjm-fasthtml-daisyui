{
 "cells": [
  {
   "cell_type": "markdown",
   "id": "02a0114a-b0a1-4277-ba02-e959d39f966b",
   "metadata": {},
   "source": [
    "# diff\n",
    "\n",
    "> Diff component shows a side-by-side comparison of two items."
   ]
  },
  {
   "cell_type": "code",
   "execution_count": null,
   "id": "34f1a79e-39bf-4113-a9db-9578c2330e44",
   "metadata": {},
   "outputs": [],
   "source": [
    "#| default_exp components.data_display.diff"
   ]
  },
  {
   "cell_type": "code",
   "execution_count": null,
   "id": "419459f4-3493-4d75-a579-135c0eab2128",
   "metadata": {},
   "outputs": [],
   "source": [
    "#| hide\n",
    "from nbdev.showdoc import *"
   ]
  },
  {
   "cell_type": "code",
   "execution_count": null,
   "id": "17fd66d1-e06b-443f-ac55-99c2a58eb0c2",
   "metadata": {},
   "outputs": [],
   "source": [
    "#| export\n",
    "from typing import Optional, Dict, Any, Union, List\n",
    "from cjm_fasthtml_tailwind.core.base import (\n",
    "    SingleValueFactory, BaseFactory, combine_classes\n",
    ")\n",
    "from cjm_fasthtml_tailwind.builders.scales import SimpleFactory\n",
    "\n",
    "from fasthtml.jupyter import JupyUvi, HTMX\n",
    "from cjm_fasthtml_daisyui.core.testing import create_test_app, create_test_page, start_test_server\n",
    "\n",
    "from fasthtml.common import Div\n",
    "from cjm_fasthtml_daisyui.core.themes import DaisyUITheme\n",
    "from IPython.display import display"
   ]
  },
  {
   "cell_type": "markdown",
   "id": "1548cadf-59a5-4aba-8bca-41030dcc7f62",
   "metadata": {},
   "source": [
    "### Base Diff Components\n",
    "\n",
    "The base diff components:"
   ]
  },
  {
   "cell_type": "code",
   "execution_count": null,
   "id": "34dd03b2-d2df-4eda-b9fa-bea19b3704e0",
   "metadata": {},
   "outputs": [],
   "source": [
    "#| exports\n",
    "diff = SingleValueFactory(\"diff\", \"Container element for side-by-side comparison\") # Diff container\n",
    "diff_item_1 = SingleValueFactory(\"diff-item-1\", \"First item in the comparison\") # First item\n",
    "diff_item_2 = SingleValueFactory(\"diff-item-2\", \"Second item in the comparison\") # Second item\n",
    "diff_resizer = SingleValueFactory(\"diff-resizer\", \"The resizer control for adjusting comparison\") # Resizer control"
   ]
  },
  {
   "cell_type": "markdown",
   "id": "e56b37db-94e7-4197-b3ac-11e0bc89746c",
   "metadata": {},
   "source": [
    "### Diff Test Examples"
   ]
  },
  {
   "cell_type": "code",
   "execution_count": null,
   "id": "aa6f6056-38de-4b47-ad16-54ead6ce21d9",
   "metadata": {},
   "outputs": [],
   "source": [
    "#|exports\n",
    "def test_diff_basic_examples():\n",
    "    \"\"\"Test basic diff utilities.\"\"\"\n",
    "    # Basic components\n",
    "    assert str(diff) == \"diff\"\n",
    "    assert str(diff_item_1) == \"diff-item-1\"\n",
    "    assert str(diff_item_2) == \"diff-item-2\"\n",
    "    assert str(diff_resizer) == \"diff-resizer\"\n",
    "    \n",
    "    # With modifiers\n",
    "    assert str(diff.hover) == \"hover:diff\"\n",
    "    assert str(diff_item_1.md) == \"md:diff-item-1\"\n",
    "    assert str(diff_resizer.dark) == \"dark:diff-resizer\"\n",
    "\n",
    "# Run the tests\n",
    "test_diff_basic_examples()"
   ]
  },
  {
   "cell_type": "code",
   "execution_count": null,
   "id": "82948d34-da0d-4654-9d4e-648744e2f35f",
   "metadata": {},
   "outputs": [
    {
     "data": {
      "text/markdown": [
       "```html\n",
       "<div>\n",
       "<figure tabindex=\"0\" class=\"diff aspect-16/9\">    <div role=\"img\" tabindex=\"0\" class=\"diff-item-1\">\n",
       "<img alt=\"daisy\" src=\"https://img.daisyui.com/images/stock/photo-1560717789-0ac7c58ac90a.webp\">    </div>\n",
       "    <div role=\"img\" class=\"diff-item-2\">\n",
       "<img alt=\"daisy\" src=\"https://img.daisyui.com/images/stock/photo-1560717789-0ac7c58ac90a-blur.webp\">    </div>\n",
       "    <div class=\"diff-resizer\"></div>\n",
       "</figure><figure tabindex=\"0\" class=\"diff aspect-16/9\">    <div role=\"img\" tabindex=\"0\" class=\"diff-item-1\">\n",
       "      <div class=\"bg-primary text-primary-content grid place-content-center text-9xl font-black\">DAISY</div>\n",
       "    </div>\n",
       "    <div role=\"img\" class=\"diff-item-2\">\n",
       "      <div class=\"bg-base-200 grid place-content-center text-9xl font-black\">DAISY</div>\n",
       "    </div>\n",
       "    <div class=\"diff-resizer\"></div>\n",
       "</figure></div>\n",
       "\n",
       "```"
      ],
      "text/plain": [
       "div((figure((div((img((),{'alt': 'daisy', 'src': 'https://img.daisyui.com/images/stock/photo-1560717789-0ac7c58ac90a.webp'}),),{'role': 'img', 'tabindex': '0', 'class': 'diff-item-1'}), div((img((),{'alt': 'daisy', 'src': 'https://img.daisyui.com/images/stock/photo-1560717789-0ac7c58ac90a-blur.webp'}),),{'role': 'img', 'class': 'diff-item-2'}), div((),{'class': 'diff-resizer'})),{'tabindex': '0', 'class': 'diff aspect-16/9'}), figure((div((div(('DAISY',),{'class': 'bg-primary text-primary-content grid place-content-center text-9xl font-black'}),),{'role': 'img', 'tabindex': '0', 'class': 'diff-item-1'}), div((div(('DAISY',),{'class': 'bg-base-200 grid place-content-center text-9xl font-black'}),),{'role': 'img', 'class': 'diff-item-2'}), div((),{'class': 'diff-resizer'})),{'tabindex': '0', 'class': 'diff aspect-16/9'})),{})"
      ]
     },
     "execution_count": null,
     "metadata": {},
     "output_type": "execute_result"
    }
   ],
   "source": [
    "#|exports\n",
    "def test_diff_basic_fasthtml_examples():\n",
    "    \"\"\"Test basic diff and diff text from daisyUI v5 documentation.\"\"\"\n",
    "    from fasthtml.common import Figure, Div, Img\n",
    "    from cjm_fasthtml_tailwind.utilities.layout import aspect\n",
    "    from cjm_fasthtml_tailwind.utilities.typography import font_size, font_weight, font_family, text_color\n",
    "    from cjm_fasthtml_tailwind.utilities.flexbox_and_grid import place_content, grid_display\n",
    "    from cjm_fasthtml_tailwind.utilities.layout import display_tw\n",
    "    from cjm_fasthtml_tailwind.core.base import combine_classes\n",
    "    from cjm_fasthtml_daisyui.core.utility_classes import bg_dui, text_dui\n",
    "    \n",
    "    # Basic diff\n",
    "    img_diff = Figure(\n",
    "        Div(\n",
    "            Img(\n",
    "                alt=\"daisy\",\n",
    "                src=\"https://img.daisyui.com/images/stock/photo-1560717789-0ac7c58ac90a.webp\"\n",
    "            ),\n",
    "            cls=str(diff_item_1),\n",
    "            role=\"img\",\n",
    "            tabindex=\"0\"\n",
    "        ),\n",
    "        Div(\n",
    "            Img(\n",
    "                alt=\"daisy\",\n",
    "                src=\"https://img.daisyui.com/images/stock/photo-1560717789-0ac7c58ac90a-blur.webp\"\n",
    "            ),\n",
    "            cls=str(diff_item_2),\n",
    "            role=\"img\"\n",
    "        ),\n",
    "        Div(cls=str(diff_resizer)),\n",
    "        cls=combine_classes(diff, aspect(\"16/9\")),\n",
    "        tabindex=\"0\"\n",
    "    )\n",
    "    assert img_diff.tag == \"figure\"\n",
    "    assert \"diff\" in img_diff.attrs['class']\n",
    "    assert \"aspect-16/9\" in img_diff.attrs['class']\n",
    "    assert img_diff.attrs['tabindex'] == \"0\"\n",
    "    \n",
    "    # Verify structure\n",
    "    assert len(img_diff.children) == 3  # item1, item2, resizer\n",
    "    \n",
    "    # Verify first item\n",
    "    item1 = img_diff.children[0]\n",
    "    assert item1.tag == \"div\"\n",
    "    assert \"diff-item-1\" in item1.attrs['class']\n",
    "    assert item1.attrs['role'] == \"img\"\n",
    "    assert item1.attrs['tabindex'] == \"0\"\n",
    "    assert item1.children[0].tag == \"img\"\n",
    "    assert item1.children[0].attrs['alt'] == \"daisy\"\n",
    "    assert item1.children[0].attrs['src'] == \"https://img.daisyui.com/images/stock/photo-1560717789-0ac7c58ac90a.webp\"\n",
    "    \n",
    "    # Verify second item\n",
    "    item2 = img_diff.children[1]\n",
    "    assert item2.tag == \"div\"\n",
    "    assert \"diff-item-2\" in item2.attrs['class']\n",
    "    assert item2.attrs['role'] == \"img\"\n",
    "    assert 'tabindex' not in item2.attrs  # Only first item has tabindex\n",
    "    assert item2.children[0].tag == \"img\"\n",
    "    assert item2.children[0].attrs['alt'] == \"daisy\"\n",
    "    assert item2.children[0].attrs['src'] == \"https://img.daisyui.com/images/stock/photo-1560717789-0ac7c58ac90a-blur.webp\"\n",
    "    \n",
    "    # Verify resizer\n",
    "    resizer = img_diff.children[2]\n",
    "    assert resizer.tag == \"div\"\n",
    "    assert \"diff-resizer\" in resizer.attrs['class']\n",
    "    assert resizer.children == ()  # Empty\n",
    "    \n",
    "    # Diff text\n",
    "    text_diff = Figure(\n",
    "        Div(\n",
    "            Div(\n",
    "                \"DAISY\",\n",
    "                cls=combine_classes(bg_dui.primary, text_dui.primary_content, grid_display, place_content.center, font_size._9xl, font_weight.black)\n",
    "            ),\n",
    "            cls=str(diff_item_1),\n",
    "            role=\"img\",\n",
    "            tabindex=\"0\"\n",
    "        ),\n",
    "        Div(\n",
    "            Div(\n",
    "                \"DAISY\",\n",
    "                cls=combine_classes(bg_dui.base_200, grid_display, place_content.center, font_size._9xl, font_weight.black)\n",
    "            ),\n",
    "            cls=str(diff_item_2),\n",
    "            role=\"img\"\n",
    "        ),\n",
    "        Div(cls=str(diff_resizer)),\n",
    "        cls=combine_classes(diff, aspect(\"16/9\")),\n",
    "        tabindex=\"0\"\n",
    "    )\n",
    "    assert text_diff.tag == \"figure\"\n",
    "    assert \"diff\" in text_diff.attrs['class']\n",
    "    assert \"aspect-16/9\" in text_diff.attrs['class']\n",
    "    \n",
    "    # Verify text diff structure\n",
    "    assert len(text_diff.children) == 3\n",
    "    \n",
    "    # Verify first text item\n",
    "    text_item1 = text_diff.children[0]\n",
    "    assert text_item1.tag == \"div\"\n",
    "    assert \"diff-item-1\" in text_item1.attrs['class']\n",
    "    assert text_item1.attrs['role'] == \"img\"\n",
    "    assert text_item1.attrs['tabindex'] == \"0\"\n",
    "    \n",
    "    # Check inner div with styling\n",
    "    inner1 = text_item1.children[0]\n",
    "    assert inner1.tag == \"div\"\n",
    "    assert \"bg-primary\" in inner1.attrs['class']\n",
    "    assert \"text-primary-content\" in inner1.attrs['class']\n",
    "    assert \"grid\" in inner1.attrs['class']\n",
    "    assert \"place-content-center\" in inner1.attrs['class']\n",
    "    assert \"text-9xl\" in inner1.attrs['class']\n",
    "    assert \"font-black\" in inner1.attrs['class']\n",
    "    assert inner1.children[0] == \"DAISY\"\n",
    "    \n",
    "    # Verify second text item\n",
    "    text_item2 = text_diff.children[1]\n",
    "    assert text_item2.tag == \"div\"\n",
    "    assert \"diff-item-2\" in text_item2.attrs['class']\n",
    "    assert text_item2.attrs['role'] == \"img\"\n",
    "    \n",
    "    # Check inner div with different styling\n",
    "    inner2 = text_item2.children[0]\n",
    "    assert inner2.tag == \"div\"\n",
    "    assert \"bg-base-200\" in inner2.attrs['class']\n",
    "    assert \"grid\" in inner2.attrs['class']\n",
    "    assert \"place-content-center\" in inner2.attrs['class']\n",
    "    assert \"text-9xl\" in inner2.attrs['class']\n",
    "    assert \"font-black\" in inner2.attrs['class']\n",
    "    assert inner2.children[0] == \"DAISY\"\n",
    "    \n",
    "    # Return the components in a Div\n",
    "    return Div(img_diff, text_diff)\n",
    "\n",
    "# Run the tests\n",
    "test_diff_basic_fasthtml_examples()"
   ]
  },
  {
   "cell_type": "code",
   "execution_count": null,
   "id": "24c9e236-8877-47da-8b1e-44aa41417eff",
   "metadata": {},
   "outputs": [
    {
     "data": {
      "text/html": [
       "\n",
       "<script>\n",
       "document.body.addEventListener('htmx:configRequest', (event) => {\n",
       "    if(event.detail.path.includes('://')) return;\n",
       "    htmx.config.selfRequestsOnly=false;\n",
       "    event.detail.path = `${location.protocol}//${location.hostname}:8000${event.detail.path}`;\n",
       "});\n",
       "</script>"
      ],
      "text/plain": [
       "<IPython.core.display.HTML object>"
      ]
     },
     "metadata": {},
     "output_type": "display_data"
    },
    {
     "data": {
      "text/html": [
       "<iframe src=\"http://localhost:8000/\" style=\"width: 100%; height: auto; border: none;\" onload=\"{\n",
       "        let frame = this;\n",
       "        window.addEventListener('message', function(e) {\n",
       "            if (e.source !== frame.contentWindow) return; // Only proceed if the message is from this iframe\n",
       "            if (e.data.height) frame.style.height = (e.data.height+1) + 'px';\n",
       "        }, false);\n",
       "    }\" allow=\"accelerometer; autoplay; camera; clipboard-read; clipboard-write; display-capture; encrypted-media; fullscreen; gamepad; geolocation; gyroscope; hid; identity-credentials-get; idle-detection; magnetometer; microphone; midi; payment; picture-in-picture; publickey-credentials-get; screen-wake-lock; serial; usb; web-share; xr-spatial-tracking\"></iframe> "
      ],
      "text/plain": [
       "<IPython.core.display.HTML object>"
      ]
     },
     "metadata": {},
     "output_type": "display_data"
    }
   ],
   "source": [
    "#| eval: false\n",
    "#| output: false\n",
    "test_func = test_diff_basic_fasthtml_examples\n",
    "app, rt = create_test_app(theme=DaisyUITheme.LIGHT)\n",
    "\n",
    "@rt\n",
    "def index():\n",
    "    return create_test_page(test_func.__doc__.title().replace('.', ''), test_func())\n",
    "server = start_test_server(app)\n",
    "display(HTMX())\n",
    "server.stop()"
   ]
  },
  {
   "cell_type": "code",
   "execution_count": null,
   "id": "ad805d0b-b088-4506-a3d8-18ec0968d48d",
   "metadata": {},
   "outputs": [],
   "source": []
  },
  {
   "cell_type": "code",
   "execution_count": null,
   "id": "5198290f-49cb-4e41-95ee-714a8475790d",
   "metadata": {},
   "outputs": [],
   "source": []
  },
  {
   "cell_type": "code",
   "execution_count": null,
   "id": "666d93aa-d198-4dae-b2aa-2f2ebb3f2527",
   "metadata": {},
   "outputs": [],
   "source": []
  },
  {
   "cell_type": "code",
   "execution_count": null,
   "id": "ac5b0729-71c6-48d2-8282-4921e005ce96",
   "metadata": {},
   "outputs": [],
   "source": [
    "#| hide\n",
    "import nbdev; nbdev.nbdev_export()"
   ]
  }
 ],
 "metadata": {
  "kernelspec": {
   "display_name": "python3",
   "language": "python",
   "name": "python3"
  }
 },
 "nbformat": 4,
 "nbformat_minor": 5
}
