{
 "cells": [
  {
   "cell_type": "markdown",
   "id": "73f1a28c-39f0-4b6d-afc8-123dfeac94ac",
   "metadata": {},
   "source": [
    "# chat bubble\n",
    "\n",
    "> Chat bubbles are used to show one line of conversation and all its data, including the author image, author name, time, etc."
   ]
  },
  {
   "cell_type": "code",
   "execution_count": null,
   "id": "34f1a79e-39bf-4113-a9db-9578c2330e44",
   "metadata": {},
   "outputs": [],
   "source": [
    "#| default_exp components.data_display.chat_bubble"
   ]
  },
  {
   "cell_type": "code",
   "execution_count": null,
   "id": "419459f4-3493-4d75-a579-135c0eab2128",
   "metadata": {},
   "outputs": [],
   "source": [
    "#| hide\n",
    "from nbdev.showdoc import *"
   ]
  },
  {
   "cell_type": "code",
   "execution_count": null,
   "id": "17fd66d1-e06b-443f-ac55-99c2a58eb0c2",
   "metadata": {},
   "outputs": [],
   "source": [
    "#| export\n",
    "from typing import Optional, Dict, Any, Union, List\n",
    "from cjm_fasthtml_tailwind.core.base import (\n",
    "    SingleValueFactory, BaseFactory, combine_classes\n",
    ")\n",
    "from cjm_fasthtml_tailwind.builders.scales import SimpleFactory\n",
    "\n",
    "from fasthtml.jupyter import JupyUvi, HTMX\n",
    "from cjm_fasthtml_daisyui.core.testing import create_test_app, create_test_page, start_test_server\n",
    "\n",
    "from fasthtml.common import Div\n",
    "from cjm_fasthtml_daisyui.core.themes import DaisyUITheme\n",
    "from IPython.display import display"
   ]
  },
  {
   "cell_type": "markdown",
   "id": "5ba8facd-de32-4b73-bd4d-64e537ff7fc2",
   "metadata": {},
   "source": [
    "### Base Chat\n",
    "\n",
    "The base chat components:"
   ]
  },
  {
   "cell_type": "code",
   "execution_count": null,
   "id": "1d431db1-4032-4492-aa21-f150884fb018",
   "metadata": {},
   "outputs": [],
   "source": [
    "#| export\n",
    "chat = SingleValueFactory(\"chat\", \"Container for one line of conversation and its data\") # Chat container\n",
    "chat_image = SingleValueFactory(\"chat-image\", \"Author image part of chat\") # Chat image\n",
    "chat_header = SingleValueFactory(\"chat-header\", \"Text above the chat bubble\") # Chat header\n",
    "chat_footer = SingleValueFactory(\"chat-footer\", \"Text below the chat bubble\") # Chat footer\n",
    "chat_bubble = SingleValueFactory(\"chat-bubble\", \"Chat bubble element\") # Chat bubble"
   ]
  },
  {
   "cell_type": "markdown",
   "id": "d794f960-0dde-4e63-b7eb-6f8bde88cdc3",
   "metadata": {},
   "source": [
    "### Chat Placement\n",
    "\n",
    "Chat placement alignment (required):"
   ]
  },
  {
   "cell_type": "code",
   "execution_count": null,
   "id": "2a49783f-ef4b-4078-9104-edd79a4dc62d",
   "metadata": {},
   "outputs": [],
   "source": [
    "#| export\n",
    "chat_placement = SimpleFactory(\n",
    "    {\n",
    "        \"start\": \"chat-start\",\n",
    "        \"end\": \"chat-end\"\n",
    "    },\n",
    "    \"Chat placement alignment (start or end - required)\"\n",
    ") # Chat placement"
   ]
  },
  {
   "cell_type": "markdown",
   "id": "ad6ad670-713f-48e3-9d32-bbf77b2d3c8e",
   "metadata": {},
   "source": [
    "### Chat Bubble Colors\n",
    "\n",
    "Chat bubble color variants using daisyUI semantic colors:"
   ]
  },
  {
   "cell_type": "code",
   "execution_count": null,
   "id": "97755265-82a1-43ed-b70b-45d23a38092e",
   "metadata": {},
   "outputs": [],
   "source": [
    "#| export\n",
    "chat_bubble_colors = SimpleFactory(\n",
    "    {\n",
    "        \"neutral\": \"chat-bubble-neutral\",\n",
    "        \"primary\": \"chat-bubble-primary\",\n",
    "        \"secondary\": \"chat-bubble-secondary\",\n",
    "        \"accent\": \"chat-bubble-accent\",\n",
    "        \"info\": \"chat-bubble-info\",\n",
    "        \"success\": \"chat-bubble-success\",\n",
    "        \"warning\": \"chat-bubble-warning\",\n",
    "        \"error\": \"chat-bubble-error\"\n",
    "    },\n",
    "    \"Chat bubble color variants using daisyUI semantic colors\"\n",
    ") # Chat bubble color variants"
   ]
  },
  {
   "cell_type": "markdown",
   "id": "cd219f3f-2a8f-400b-9b6b-986ce54b4496",
   "metadata": {},
   "source": [
    "### Chat Test Examples"
   ]
  },
  {
   "cell_type": "code",
   "execution_count": null,
   "id": "7607ae38-3105-4d2a-9204-4eb344135fcb",
   "metadata": {},
   "outputs": [],
   "source": [
    "#| export\n",
    "def test_chat_basic_examples():\n",
    "    \"\"\"Test basic chat utilities.\"\"\"\n",
    "    # Basic components\n",
    "    assert str(chat) == \"chat\"\n",
    "    assert str(chat_image) == \"chat-image\"\n",
    "    assert str(chat_header) == \"chat-header\"\n",
    "    assert str(chat_footer) == \"chat-footer\"\n",
    "    assert str(chat_bubble) == \"chat-bubble\"\n",
    "    \n",
    "    # With modifiers\n",
    "    assert str(chat.hover) == \"hover:chat\"\n",
    "    assert str(chat_bubble.md) == \"md:chat-bubble\"\n",
    "    assert str(chat_header.dark) == \"dark:chat-header\"\n",
    "\n",
    "# Run the tests\n",
    "test_chat_basic_examples()"
   ]
  },
  {
   "cell_type": "code",
   "execution_count": null,
   "id": "67046043-5674-4faf-af73-2f853100d6bc",
   "metadata": {},
   "outputs": [],
   "source": [
    "#| export\n",
    "def test_chat_placement_examples():\n",
    "    \"\"\"Test chat placement utilities.\"\"\"\n",
    "    assert str(chat_placement.start) == \"chat-start\"\n",
    "    assert str(chat_placement.end) == \"chat-end\"\n",
    "    \n",
    "    # With responsive modifiers\n",
    "    assert str(chat_placement.start.hover) == \"hover:chat-start\"\n",
    "    assert str(chat_placement.end.md) == \"md:chat-end\"\n",
    "\n",
    "# Run the tests\n",
    "test_chat_placement_examples()"
   ]
  },
  {
   "cell_type": "code",
   "execution_count": null,
   "id": "3661bd81-6e35-4746-a1e5-8362fd6ba103",
   "metadata": {},
   "outputs": [],
   "source": [
    "#| export\n",
    "def test_chat_bubble_colors_examples():\n",
    "    \"\"\"Test chat bubble color variants.\"\"\"\n",
    "    # All color variants\n",
    "    assert str(chat_bubble_colors.neutral) == \"chat-bubble-neutral\"\n",
    "    assert str(chat_bubble_colors.primary) == \"chat-bubble-primary\"\n",
    "    assert str(chat_bubble_colors.secondary) == \"chat-bubble-secondary\"\n",
    "    assert str(chat_bubble_colors.accent) == \"chat-bubble-accent\"\n",
    "    assert str(chat_bubble_colors.info) == \"chat-bubble-info\"\n",
    "    assert str(chat_bubble_colors.success) == \"chat-bubble-success\"\n",
    "    assert str(chat_bubble_colors.warning) == \"chat-bubble-warning\"\n",
    "    assert str(chat_bubble_colors.error) == \"chat-bubble-error\"\n",
    "    \n",
    "    # With modifiers\n",
    "    assert str(chat_bubble_colors.primary.hover) == \"hover:chat-bubble-primary\"\n",
    "    assert str(chat_bubble_colors.success.focus) == \"focus:chat-bubble-success\"\n",
    "\n",
    "# Run the tests\n",
    "test_chat_bubble_colors_examples()"
   ]
  },
  {
   "cell_type": "code",
   "execution_count": null,
   "id": "afdd55e6-4a84-411a-816b-d8cec39c52e0",
   "metadata": {},
   "outputs": [
    {
     "data": {
      "text/markdown": [
       "```html\n",
       "<div>\n",
       "  <div class=\"chat chat-start\">\n",
       "    <div class=\"chat-bubble\">\n",
       "It&#x27;s over Anakin,<br>I have the high ground.    </div>\n",
       "  </div>\n",
       "  <div class=\"chat chat-end\">\n",
       "    <div class=\"chat-bubble\">You underestimate my power!</div>\n",
       "  </div>\n",
       "</div>\n",
       "\n",
       "```"
      ],
      "text/plain": [
       "div((div((div((\"It's over Anakin,\", br((),{}), 'I have the high ground.'),{'class': 'chat-bubble'}),),{'class': 'chat chat-start'}), div((div(('You underestimate my power!',),{'class': 'chat-bubble'}),),{'class': 'chat chat-end'})),{})"
      ]
     },
     "execution_count": null,
     "metadata": {},
     "output_type": "execute_result"
    }
   ],
   "source": [
    "#| export\n",
    "def test_chat_basic_fasthtml_examples():\n",
    "    \"\"\"Test basic chat-start and chat-end from daisyUI v5 documentation.\"\"\"\n",
    "    from fasthtml.common import Div, Br\n",
    "    \n",
    "    # Basic chat-start and chat-end\n",
    "    chat_start = Div(\n",
    "        Div(\n",
    "            \"It's over Anakin,\",\n",
    "            Br(),\n",
    "            \"I have the high ground.\",\n",
    "            cls=str(chat_bubble)\n",
    "        ),\n",
    "        cls=combine_classes(chat, chat_placement.start)\n",
    "    )\n",
    "    assert chat_start.tag == \"div\"\n",
    "    assert \"chat\" in chat_start.attrs['class']\n",
    "    assert \"chat-start\" in chat_start.attrs['class']\n",
    "    assert chat_start.children[0].tag == \"div\"\n",
    "    assert \"chat-bubble\" in chat_start.children[0].attrs['class']\n",
    "    assert chat_start.children[0].children[0] == \"It's over Anakin,\"\n",
    "    assert chat_start.children[0].children[1].tag == \"br\"\n",
    "    assert chat_start.children[0].children[2] == \"I have the high ground.\"\n",
    "    \n",
    "    chat_end = Div(\n",
    "        Div(\"You underestimate my power!\", cls=str(chat_bubble)),\n",
    "        cls=combine_classes(chat, chat_placement.end)\n",
    "    )\n",
    "    assert chat_end.tag == \"div\"\n",
    "    assert \"chat\" in chat_end.attrs['class']\n",
    "    assert \"chat-end\" in chat_end.attrs['class']\n",
    "    assert \"chat-bubble\" in chat_end.children[0].attrs['class']\n",
    "    assert chat_end.children[0].children[0] == \"You underestimate my power!\"\n",
    "    \n",
    "    # Return all examples in a Div\n",
    "    return Div(chat_start, chat_end)\n",
    "\n",
    "# Run the tests\n",
    "test_chat_basic_fasthtml_examples()"
   ]
  },
  {
   "cell_type": "code",
   "execution_count": null,
   "id": "0fd83880-7217-4d47-81e4-d1f7fcadea88",
   "metadata": {},
   "outputs": [
    {
     "data": {
      "text/html": [
       "\n",
       "<script>\n",
       "document.body.addEventListener('htmx:configRequest', (event) => {\n",
       "    if(event.detail.path.includes('://')) return;\n",
       "    htmx.config.selfRequestsOnly=false;\n",
       "    event.detail.path = `${location.protocol}//${location.hostname}:8000${event.detail.path}`;\n",
       "});\n",
       "</script>"
      ],
      "text/plain": [
       "<IPython.core.display.HTML object>"
      ]
     },
     "metadata": {},
     "output_type": "display_data"
    },
    {
     "data": {
      "text/html": [
       "<iframe src=\"http://localhost:8000/\" style=\"width: 100%; height: auto; border: none;\" onload=\"{\n",
       "        let frame = this;\n",
       "        window.addEventListener('message', function(e) {\n",
       "            if (e.source !== frame.contentWindow) return; // Only proceed if the message is from this iframe\n",
       "            if (e.data.height) frame.style.height = (e.data.height+1) + 'px';\n",
       "        }, false);\n",
       "    }\" allow=\"accelerometer; autoplay; camera; clipboard-read; clipboard-write; display-capture; encrypted-media; fullscreen; gamepad; geolocation; gyroscope; hid; identity-credentials-get; idle-detection; magnetometer; microphone; midi; payment; picture-in-picture; publickey-credentials-get; screen-wake-lock; serial; usb; web-share; xr-spatial-tracking\"></iframe> "
      ],
      "text/plain": [
       "<IPython.core.display.HTML object>"
      ]
     },
     "metadata": {},
     "output_type": "display_data"
    }
   ],
   "source": [
    "#| eval: false\n",
    "test_func = test_chat_basic_fasthtml_examples\n",
    "app, rt = create_test_app(theme=DaisyUITheme.LIGHT)\n",
    "\n",
    "@rt\n",
    "def index():\n",
    "    return create_test_page(test_func.__doc__.title().replace('.', ''), test_func())\n",
    "server = start_test_server(app)\n",
    "display(HTMX())\n",
    "server.stop()"
   ]
  },
  {
   "cell_type": "code",
   "execution_count": null,
   "id": "9per93s9vgc",
   "metadata": {},
   "outputs": [
    {
     "data": {
      "text/markdown": [
       "```html\n",
       "<div>\n",
       "  <div class=\"chat chat-start\">\n",
       "    <div class=\"chat-image avatar\">\n",
       "      <div class=\"w-10 rounded-full\">\n",
       "<img alt=\"Tailwind CSS chat bubble component\" src=\"https://img.daisyui.com/images/profile/demo/kenobee@192.webp\">      </div>\n",
       "    </div>\n",
       "    <div class=\"chat-bubble\">It was said that you would, destroy the Sith, not join them.</div>\n",
       "  </div>\n",
       "  <div class=\"chat chat-start\">\n",
       "    <div class=\"chat-image avatar\">\n",
       "      <div class=\"w-10 rounded-full\">\n",
       "<img alt=\"Tailwind CSS chat bubble component\" src=\"https://img.daisyui.com/images/profile/demo/kenobee@192.webp\">      </div>\n",
       "    </div>\n",
       "    <div class=\"chat-bubble\">It was said that you would, destroy the Sith, not join them.</div>\n",
       "  </div>\n",
       "  <div class=\"chat chat-start\">\n",
       "    <div class=\"chat-image avatar\">\n",
       "      <div class=\"w-10 rounded-full\">\n",
       "<img alt=\"Tailwind CSS chat bubble component\" src=\"https://img.daisyui.com/images/profile/demo/kenobee@192.webp\">      </div>\n",
       "    </div>\n",
       "    <div class=\"chat-bubble\">It was you who would bring balance to the Force</div>\n",
       "  </div>\n",
       "  <div class=\"chat chat-start\">\n",
       "    <div class=\"chat-image avatar\">\n",
       "      <div class=\"w-10 rounded-full\">\n",
       "<img alt=\"Tailwind CSS chat bubble component\" src=\"https://img.daisyui.com/images/profile/demo/kenobee@192.webp\">      </div>\n",
       "    </div>\n",
       "    <div class=\"chat-bubble\">Not leave it in Darkness</div>\n",
       "  </div>\n",
       "</div>\n",
       "\n",
       "```"
      ],
      "text/plain": [
       "div((div((div((div((img((),{'alt': 'Tailwind CSS chat bubble component', 'src': 'https://img.daisyui.com/images/profile/demo/kenobee@192.webp'}),),{'class': 'w-10 rounded-full'}),),{'class': 'chat-image avatar'}), div(('It was said that you would, destroy the Sith, not join them.',),{'class': 'chat-bubble'})),{'class': 'chat chat-start'}), div((div((div((img((),{'alt': 'Tailwind CSS chat bubble component', 'src': 'https://img.daisyui.com/images/profile/demo/kenobee@192.webp'}),),{'class': 'w-10 rounded-full'}),),{'class': 'chat-image avatar'}), div(('It was said that you would, destroy the Sith, not join them.',),{'class': 'chat-bubble'})),{'class': 'chat chat-start'}), div((div((div((img((),{'alt': 'Tailwind CSS chat bubble component', 'src': 'https://img.daisyui.com/images/profile/demo/kenobee@192.webp'}),),{'class': 'w-10 rounded-full'}),),{'class': 'chat-image avatar'}), div(('It was you who would bring balance to the Force',),{'class': 'chat-bubble'})),{'class': 'chat chat-start'}), div((div((div((img((),{'alt': 'Tailwind CSS chat bubble component', 'src': 'https://img.daisyui.com/images/profile/demo/kenobee@192.webp'}),),{'class': 'w-10 rounded-full'}),),{'class': 'chat-image avatar'}), div(('Not leave it in Darkness',),{'class': 'chat-bubble'})),{'class': 'chat chat-start'})),{})"
      ]
     },
     "execution_count": null,
     "metadata": {},
     "output_type": "execute_result"
    }
   ],
   "source": [
    "#| export\n",
    "def test_chat_with_image_fasthtml_examples():\n",
    "    \"\"\"Test chat with image from daisyUI v5 documentation.\"\"\"\n",
    "    from fasthtml.common import Div, Img\n",
    "    from cjm_fasthtml_tailwind.utilities.sizing import w\n",
    "    from cjm_fasthtml_tailwind.utilities.borders import rounded\n",
    "    from cjm_fasthtml_daisyui.components.data_display.avatar import avatar\n",
    "    \n",
    "    # Define the image URL once\n",
    "    kenobee_img = \"https://img.daisyui.com/images/profile/demo/kenobee@192.webp\"\n",
    "    \n",
    "    # Single chat with image\n",
    "    single_chat = Div(\n",
    "        Div(\n",
    "            Div(\n",
    "                Img(\n",
    "                    alt=\"Tailwind CSS chat bubble component\",\n",
    "                    src=kenobee_img\n",
    "                ),\n",
    "                cls=combine_classes(w._10, rounded.full)\n",
    "            ),\n",
    "            cls=combine_classes(chat_image, avatar)\n",
    "        ),\n",
    "        Div(\n",
    "            \"It was said that you would, destroy the Sith, not join them.\",\n",
    "            cls=str(chat_bubble)\n",
    "        ),\n",
    "        cls=combine_classes(chat, chat_placement.start)\n",
    "    )\n",
    "    assert \"chat\" in single_chat.attrs['class']\n",
    "    assert \"chat-start\" in single_chat.attrs['class']\n",
    "    assert \"chat-image\" in single_chat.children[0].attrs['class']\n",
    "    assert \"avatar\" in single_chat.children[0].attrs['class']\n",
    "    assert \"w-10\" in single_chat.children[0].children[0].attrs['class']\n",
    "    assert \"rounded-full\" in single_chat.children[0].children[0].attrs['class']\n",
    "    assert single_chat.children[0].children[0].children[0].tag == \"img\"\n",
    "    assert single_chat.children[0].children[0].children[0].attrs['src'] == kenobee_img\n",
    "    assert \"chat-bubble\" in single_chat.children[1].attrs['class']\n",
    "    assert single_chat.children[1].children[0] == \"It was said that you would, destroy the Sith, not join them.\"\n",
    "    \n",
    "    # Multiple messages with same image\n",
    "    chat_message_1 = Div(\n",
    "        Div(\n",
    "            Div(\n",
    "                Img(\n",
    "                    alt=\"Tailwind CSS chat bubble component\",\n",
    "                    src=kenobee_img\n",
    "                ),\n",
    "                cls=combine_classes(w._10, rounded.full)\n",
    "            ),\n",
    "            cls=combine_classes(chat_image, avatar)\n",
    "        ),\n",
    "        Div(\n",
    "            \"It was said that you would, destroy the Sith, not join them.\",\n",
    "            cls=str(chat_bubble)\n",
    "        ),\n",
    "        cls=combine_classes(chat, chat_placement.start)\n",
    "    )\n",
    "    \n",
    "    chat_message_2 = Div(\n",
    "        Div(\n",
    "            Div(\n",
    "                Img(\n",
    "                    alt=\"Tailwind CSS chat bubble component\",\n",
    "                    src=kenobee_img\n",
    "                ),\n",
    "                cls=combine_classes(w._10, rounded.full)\n",
    "            ),\n",
    "            cls=combine_classes(chat_image, avatar)\n",
    "        ),\n",
    "        Div(\n",
    "            \"It was you who would bring balance to the Force\",\n",
    "            cls=str(chat_bubble)\n",
    "        ),\n",
    "        cls=combine_classes(chat, chat_placement.start)\n",
    "    )\n",
    "    \n",
    "    chat_message_3 = Div(\n",
    "        Div(\n",
    "            Div(\n",
    "                Img(\n",
    "                    alt=\"Tailwind CSS chat bubble component\",\n",
    "                    src=kenobee_img\n",
    "                ),\n",
    "                cls=combine_classes(w._10, rounded.full)\n",
    "            ),\n",
    "            cls=combine_classes(chat_image, avatar)\n",
    "        ),\n",
    "        Div(\n",
    "            \"Not leave it in Darkness\",\n",
    "            cls=str(chat_bubble)\n",
    "        ),\n",
    "        cls=combine_classes(chat, chat_placement.start)\n",
    "    )\n",
    "    \n",
    "    # Verify all messages have consistent structure\n",
    "    for msg in [chat_message_1, chat_message_2, chat_message_3]:\n",
    "        assert \"chat\" in msg.attrs['class']\n",
    "        assert \"chat-start\" in msg.attrs['class']\n",
    "        assert \"chat-image\" in msg.children[0].attrs['class']\n",
    "        assert \"avatar\" in msg.children[0].attrs['class']\n",
    "        assert msg.children[0].children[0].children[0].attrs['src'] == kenobee_img\n",
    "        assert \"chat-bubble\" in msg.children[1].attrs['class']\n",
    "    \n",
    "    # Verify different message content\n",
    "    assert chat_message_1.children[1].children[0] == \"It was said that you would, destroy the Sith, not join them.\"\n",
    "    assert chat_message_2.children[1].children[0] == \"It was you who would bring balance to the Force\"\n",
    "    assert chat_message_3.children[1].children[0] == \"Not leave it in Darkness\"\n",
    "    \n",
    "    # Return all examples in a Div\n",
    "    return Div(single_chat, chat_message_1, chat_message_2, chat_message_3)\n",
    "\n",
    "# Run the tests\n",
    "test_chat_with_image_fasthtml_examples()"
   ]
  },
  {
   "cell_type": "code",
   "execution_count": null,
   "id": "b6c3b0f1-4834-405c-9d45-e1cb18e8ad86",
   "metadata": {},
   "outputs": [
    {
     "data": {
      "text/html": [
       "\n",
       "<script>\n",
       "document.body.addEventListener('htmx:configRequest', (event) => {\n",
       "    if(event.detail.path.includes('://')) return;\n",
       "    htmx.config.selfRequestsOnly=false;\n",
       "    event.detail.path = `${location.protocol}//${location.hostname}:8000${event.detail.path}`;\n",
       "});\n",
       "</script>"
      ],
      "text/plain": [
       "<IPython.core.display.HTML object>"
      ]
     },
     "metadata": {},
     "output_type": "display_data"
    },
    {
     "data": {
      "text/html": [
       "<iframe src=\"http://localhost:8000/\" style=\"width: 100%; height: auto; border: none;\" onload=\"{\n",
       "        let frame = this;\n",
       "        window.addEventListener('message', function(e) {\n",
       "            if (e.source !== frame.contentWindow) return; // Only proceed if the message is from this iframe\n",
       "            if (e.data.height) frame.style.height = (e.data.height+1) + 'px';\n",
       "        }, false);\n",
       "    }\" allow=\"accelerometer; autoplay; camera; clipboard-read; clipboard-write; display-capture; encrypted-media; fullscreen; gamepad; geolocation; gyroscope; hid; identity-credentials-get; idle-detection; magnetometer; microphone; midi; payment; picture-in-picture; publickey-credentials-get; screen-wake-lock; serial; usb; web-share; xr-spatial-tracking\"></iframe> "
      ],
      "text/plain": [
       "<IPython.core.display.HTML object>"
      ]
     },
     "metadata": {},
     "output_type": "display_data"
    }
   ],
   "source": [
    "#| eval: false\n",
    "test_func = test_chat_with_image_fasthtml_examples\n",
    "app, rt = create_test_app(theme=DaisyUITheme.LIGHT)\n",
    "\n",
    "@rt\n",
    "def index():\n",
    "    return create_test_page(test_func.__doc__.title().replace('.', ''), test_func())\n",
    "server = start_test_server(app)\n",
    "display(HTMX())\n",
    "server.stop()"
   ]
  },
  {
   "cell_type": "code",
   "execution_count": null,
   "id": "wq4dki67vv",
   "metadata": {},
   "outputs": [
    {
     "data": {
      "text/markdown": [
       "```html\n",
       "<div>\n",
       "  <div class=\"chat chat-start\">\n",
       "    <div class=\"chat-image avatar\">\n",
       "      <div class=\"w-10 rounded-full\">\n",
       "<img alt=\"Tailwind CSS chat bubble component\" src=\"https://img.daisyui.com/images/profile/demo/kenobee@192.webp\">      </div>\n",
       "    </div>\n",
       "    <div class=\"chat-header\">\n",
       "Obi-Wan Kenobi<time class=\"text-xs opacity-50\">12:45</time>    </div>\n",
       "    <div class=\"chat-bubble\">You were the Chosen One!</div>\n",
       "    <div class=\"chat-footer opacity-50\">Delivered</div>\n",
       "  </div>\n",
       "  <div class=\"chat chat-end\">\n",
       "    <div class=\"chat-image avatar\">\n",
       "      <div class=\"w-10 rounded-full\">\n",
       "<img alt=\"Tailwind CSS chat bubble component\" src=\"https://img.daisyui.com/images/profile/demo/anakeen@192.webp\">      </div>\n",
       "    </div>\n",
       "    <div class=\"chat-header\">\n",
       "Anakin<time class=\"text-xs opacity-50\">12:46</time>    </div>\n",
       "    <div class=\"chat-bubble\">I hate you!</div>\n",
       "    <div class=\"chat-footer opacity-50\">Seen at 12:46</div>\n",
       "  </div>\n",
       "  <div class=\"chat chat-start\">\n",
       "    <div class=\"chat-header\">\n",
       "Obi-Wan Kenobi<time class=\"text-xs opacity-50\">2 hours ago</time>    </div>\n",
       "    <div class=\"chat-bubble\">You were the Chosen One!</div>\n",
       "    <div class=\"chat-footer opacity-50\">Seen</div>\n",
       "  </div>\n",
       "  <div class=\"chat chat-start\">\n",
       "    <div class=\"chat-header\">\n",
       "Obi-Wan Kenobi<time class=\"text-xs opacity-50\">2 hour ago</time>    </div>\n",
       "    <div class=\"chat-bubble\">I loved you.</div>\n",
       "    <div class=\"chat-footer opacity-50\">Delivered</div>\n",
       "  </div>\n",
       "</div>\n",
       "\n",
       "```"
      ],
      "text/plain": [
       "div((div((div((div((img((),{'alt': 'Tailwind CSS chat bubble component', 'src': 'https://img.daisyui.com/images/profile/demo/kenobee@192.webp'}),),{'class': 'w-10 rounded-full'}),),{'class': 'chat-image avatar'}), div(('Obi-Wan Kenobi', time(('12:45',),{'class': 'text-xs opacity-50'})),{'class': 'chat-header'}), div(('You were the Chosen One!',),{'class': 'chat-bubble'}), div(('Delivered',),{'class': 'chat-footer opacity-50'})),{'class': 'chat chat-start'}), div((div((div((img((),{'alt': 'Tailwind CSS chat bubble component', 'src': 'https://img.daisyui.com/images/profile/demo/anakeen@192.webp'}),),{'class': 'w-10 rounded-full'}),),{'class': 'chat-image avatar'}), div(('Anakin', time(('12:46',),{'class': 'text-xs opacity-50'})),{'class': 'chat-header'}), div(('I hate you!',),{'class': 'chat-bubble'}), div(('Seen at 12:46',),{'class': 'chat-footer opacity-50'})),{'class': 'chat chat-end'}), div((div(('Obi-Wan Kenobi', time(('2 hours ago',),{'class': 'text-xs opacity-50'})),{'class': 'chat-header'}), div(('You were the Chosen One!',),{'class': 'chat-bubble'}), div(('Seen',),{'class': 'chat-footer opacity-50'})),{'class': 'chat chat-start'}), div((div(('Obi-Wan Kenobi', time(('2 hour ago',),{'class': 'text-xs opacity-50'})),{'class': 'chat-header'}), div(('I loved you.',),{'class': 'chat-bubble'}), div(('Delivered',),{'class': 'chat-footer opacity-50'})),{'class': 'chat chat-start'})),{})"
      ]
     },
     "execution_count": null,
     "metadata": {},
     "output_type": "execute_result"
    }
   ],
   "source": [
    "#| export\n",
    "def test_chat_with_header_footer_fasthtml_examples():\n",
    "    \"\"\"Test chat with image, header and footer from daisyUI v5 documentation.\"\"\"\n",
    "    from fasthtml.common import Div, Img, Time\n",
    "    from cjm_fasthtml_tailwind.utilities.sizing import w\n",
    "    from cjm_fasthtml_tailwind.utilities.borders import rounded\n",
    "    from cjm_fasthtml_tailwind.utilities.typography import text\n",
    "    from cjm_fasthtml_tailwind.utilities.effects import opacity\n",
    "    from cjm_fasthtml_daisyui.components.data_display.avatar import avatar\n",
    "    \n",
    "    # Chat with image, header and footer - Start alignment\n",
    "    kenobee_img = \"https://img.daisyui.com/images/profile/demo/kenobee@192.webp\"\n",
    "    \n",
    "    chat_start_full = Div(\n",
    "        Div(\n",
    "            Div(\n",
    "                Img(\n",
    "                    alt=\"Tailwind CSS chat bubble component\",\n",
    "                    src=kenobee_img\n",
    "                ),\n",
    "                cls=combine_classes(w._10, rounded.full)\n",
    "            ),\n",
    "            cls=combine_classes(chat_image, avatar)\n",
    "        ),\n",
    "        Div(\n",
    "            \"Obi-Wan Kenobi\",\n",
    "            Time(\"12:45\", cls=combine_classes(text.xs, opacity._50)),\n",
    "            cls=str(chat_header)\n",
    "        ),\n",
    "        Div(\n",
    "            \"You were the Chosen One!\",\n",
    "            cls=str(chat_bubble)\n",
    "        ),\n",
    "        Div(\n",
    "            \"Delivered\",\n",
    "            cls=combine_classes(chat_footer, opacity._50)\n",
    "        ),\n",
    "        cls=combine_classes(chat, chat_placement.start)\n",
    "    )\n",
    "    assert \"chat\" in chat_start_full.attrs['class']\n",
    "    assert \"chat-start\" in chat_start_full.attrs['class']\n",
    "    assert \"chat-image\" in chat_start_full.children[0].attrs['class']\n",
    "    assert \"avatar\" in chat_start_full.children[0].attrs['class']\n",
    "    assert chat_start_full.children[0].children[0].children[0].attrs['src'] == kenobee_img\n",
    "    assert \"chat-header\" in chat_start_full.children[1].attrs['class']\n",
    "    assert chat_start_full.children[1].children[0] == \"Obi-Wan Kenobi\"\n",
    "    assert chat_start_full.children[1].children[1].tag == \"time\"\n",
    "    assert chat_start_full.children[1].children[1].children[0] == \"12:45\"\n",
    "    assert \"text-xs\" in chat_start_full.children[1].children[1].attrs['class']\n",
    "    assert \"opacity-50\" in chat_start_full.children[1].children[1].attrs['class']\n",
    "    assert \"chat-bubble\" in chat_start_full.children[2].attrs['class']\n",
    "    assert chat_start_full.children[2].children[0] == \"You were the Chosen One!\"\n",
    "    assert \"chat-footer\" in chat_start_full.children[3].attrs['class']\n",
    "    assert \"opacity-50\" in chat_start_full.children[3].attrs['class']\n",
    "    assert chat_start_full.children[3].children[0] == \"Delivered\"\n",
    "    \n",
    "    # Chat with image, header and footer - End alignment\n",
    "    anakeen_img = \"https://img.daisyui.com/images/profile/demo/anakeen@192.webp\"\n",
    "    \n",
    "    chat_end_full = Div(\n",
    "        Div(\n",
    "            Div(\n",
    "                Img(\n",
    "                    alt=\"Tailwind CSS chat bubble component\",\n",
    "                    src=anakeen_img\n",
    "                ),\n",
    "                cls=combine_classes(w._10, rounded.full)\n",
    "            ),\n",
    "            cls=combine_classes(chat_image, avatar)\n",
    "        ),\n",
    "        Div(\n",
    "            \"Anakin\",\n",
    "            Time(\"12:46\", cls=combine_classes(text.xs, opacity._50)),\n",
    "            cls=str(chat_header)\n",
    "        ),\n",
    "        Div(\n",
    "            \"I hate you!\",\n",
    "            cls=str(chat_bubble)\n",
    "        ),\n",
    "        Div(\n",
    "            \"Seen at 12:46\",\n",
    "            cls=combine_classes(chat_footer, opacity._50)\n",
    "        ),\n",
    "        cls=combine_classes(chat, chat_placement.end)\n",
    "    )\n",
    "    assert \"chat\" in chat_end_full.attrs['class']\n",
    "    assert \"chat-end\" in chat_end_full.attrs['class']\n",
    "    assert chat_end_full.children[0].children[0].children[0].attrs['src'] == anakeen_img\n",
    "    assert chat_end_full.children[1].children[0] == \"Anakin\"\n",
    "    assert chat_end_full.children[1].children[1].children[0] == \"12:46\"\n",
    "    assert chat_end_full.children[2].children[0] == \"I hate you!\"\n",
    "    assert chat_end_full.children[3].children[0] == \"Seen at 12:46\"\n",
    "    \n",
    "    # Chat with header and footer (no image)\n",
    "    chat_no_image_1 = Div(\n",
    "        Div(\n",
    "            \"Obi-Wan Kenobi\",\n",
    "            Time(\"2 hours ago\", cls=combine_classes(text.xs, opacity._50)),\n",
    "            cls=str(chat_header)\n",
    "        ),\n",
    "        Div(\n",
    "            \"You were the Chosen One!\",\n",
    "            cls=str(chat_bubble)\n",
    "        ),\n",
    "        Div(\n",
    "            \"Seen\",\n",
    "            cls=combine_classes(chat_footer, opacity._50)\n",
    "        ),\n",
    "        cls=combine_classes(chat, chat_placement.start)\n",
    "    )\n",
    "    assert len(chat_no_image_1.children) == 3  # No image component\n",
    "    assert \"chat-header\" in chat_no_image_1.children[0].attrs['class']\n",
    "    assert chat_no_image_1.children[0].children[0] == \"Obi-Wan Kenobi\"\n",
    "    assert chat_no_image_1.children[0].children[1].children[0] == \"2 hours ago\"\n",
    "    assert \"chat-bubble\" in chat_no_image_1.children[1].attrs['class']\n",
    "    assert chat_no_image_1.children[1].children[0] == \"You were the Chosen One!\"\n",
    "    assert \"chat-footer\" in chat_no_image_1.children[2].attrs['class']\n",
    "    assert chat_no_image_1.children[2].children[0] == \"Seen\"\n",
    "    \n",
    "    chat_no_image_2 = Div(\n",
    "        Div(\n",
    "            \"Obi-Wan Kenobi\",\n",
    "            Time(\"2 hour ago\", cls=combine_classes(text.xs, opacity._50)),\n",
    "            cls=str(chat_header)\n",
    "        ),\n",
    "        Div(\n",
    "            \"I loved you.\",\n",
    "            cls=str(chat_bubble)\n",
    "        ),\n",
    "        Div(\n",
    "            \"Delivered\",\n",
    "            cls=combine_classes(chat_footer, opacity._50)\n",
    "        ),\n",
    "        cls=combine_classes(chat, chat_placement.start)\n",
    "    )\n",
    "    assert chat_no_image_2.children[0].children[1].children[0] == \"2 hour ago\"\n",
    "    assert chat_no_image_2.children[1].children[0] == \"I loved you.\"\n",
    "    assert chat_no_image_2.children[2].children[0] == \"Delivered\"\n",
    "    \n",
    "    # Return all examples in a Div\n",
    "    return Div(chat_start_full, chat_end_full, chat_no_image_1, chat_no_image_2)\n",
    "\n",
    "# Run the tests\n",
    "test_chat_with_header_footer_fasthtml_examples()"
   ]
  },
  {
   "cell_type": "code",
   "execution_count": null,
   "id": "a31056e8-fa6a-41ff-9296-1204d47336e9",
   "metadata": {},
   "outputs": [
    {
     "data": {
      "text/html": [
       "\n",
       "<script>\n",
       "document.body.addEventListener('htmx:configRequest', (event) => {\n",
       "    if(event.detail.path.includes('://')) return;\n",
       "    htmx.config.selfRequestsOnly=false;\n",
       "    event.detail.path = `${location.protocol}//${location.hostname}:8000${event.detail.path}`;\n",
       "});\n",
       "</script>"
      ],
      "text/plain": [
       "<IPython.core.display.HTML object>"
      ]
     },
     "metadata": {},
     "output_type": "display_data"
    },
    {
     "data": {
      "text/html": [
       "<iframe src=\"http://localhost:8000/\" style=\"width: 100%; height: auto; border: none;\" onload=\"{\n",
       "        let frame = this;\n",
       "        window.addEventListener('message', function(e) {\n",
       "            if (e.source !== frame.contentWindow) return; // Only proceed if the message is from this iframe\n",
       "            if (e.data.height) frame.style.height = (e.data.height+1) + 'px';\n",
       "        }, false);\n",
       "    }\" allow=\"accelerometer; autoplay; camera; clipboard-read; clipboard-write; display-capture; encrypted-media; fullscreen; gamepad; geolocation; gyroscope; hid; identity-credentials-get; idle-detection; magnetometer; microphone; midi; payment; picture-in-picture; publickey-credentials-get; screen-wake-lock; serial; usb; web-share; xr-spatial-tracking\"></iframe> "
      ],
      "text/plain": [
       "<IPython.core.display.HTML object>"
      ]
     },
     "metadata": {},
     "output_type": "display_data"
    }
   ],
   "source": [
    "#| eval: false\n",
    "test_func = test_chat_with_header_footer_fasthtml_examples\n",
    "app, rt = create_test_app(theme=DaisyUITheme.LIGHT)\n",
    "\n",
    "@rt\n",
    "def index():\n",
    "    return create_test_page(test_func.__doc__.title().replace('.', ''), test_func())\n",
    "server = start_test_server(app)\n",
    "display(HTMX())\n",
    "server.stop()"
   ]
  },
  {
   "cell_type": "code",
   "execution_count": null,
   "id": "m2wjsrikjx9",
   "metadata": {},
   "outputs": [
    {
     "data": {
      "text/markdown": [
       "```html\n",
       "<div>\n",
       "  <div class=\"chat chat-start\">\n",
       "    <div class=\"chat-bubble chat-bubble-primary\">What kind of nonsense is this</div>\n",
       "  </div>\n",
       "  <div class=\"chat chat-start\">\n",
       "    <div class=\"chat-bubble chat-bubble-secondary\">Put me on the Council and not make me a Master!??</div>\n",
       "  </div>\n",
       "  <div class=\"chat chat-start\">\n",
       "    <div class=\"chat-bubble chat-bubble-accent\">That&#x27;s never been done in the history of the Jedi.</div>\n",
       "  </div>\n",
       "  <div class=\"chat chat-start\">\n",
       "    <div class=\"chat-bubble chat-bubble-neutral\">It&#x27;s insulting!</div>\n",
       "  </div>\n",
       "  <div class=\"chat chat-end\">\n",
       "    <div class=\"chat-bubble chat-bubble-info\">Calm down, Anakin.</div>\n",
       "  </div>\n",
       "  <div class=\"chat chat-end\">\n",
       "    <div class=\"chat-bubble chat-bubble-success\">You have been given a great honor.</div>\n",
       "  </div>\n",
       "  <div class=\"chat chat-end\">\n",
       "    <div class=\"chat-bubble chat-bubble-warning\">To be on the Council at your age.</div>\n",
       "  </div>\n",
       "  <div class=\"chat chat-end\">\n",
       "    <div class=\"chat-bubble chat-bubble-error\">It&#x27;s never happened before.</div>\n",
       "  </div>\n",
       "</div>\n",
       "\n",
       "```"
      ],
      "text/plain": [
       "div((div((div(('What kind of nonsense is this',),{'class': 'chat-bubble chat-bubble-primary'}),),{'class': 'chat chat-start'}), div((div(('Put me on the Council and not make me a Master!??',),{'class': 'chat-bubble chat-bubble-secondary'}),),{'class': 'chat chat-start'}), div((div((\"That's never been done in the history of the Jedi.\",),{'class': 'chat-bubble chat-bubble-accent'}),),{'class': 'chat chat-start'}), div((div((\"It's insulting!\",),{'class': 'chat-bubble chat-bubble-neutral'}),),{'class': 'chat chat-start'}), div((div(('Calm down, Anakin.',),{'class': 'chat-bubble chat-bubble-info'}),),{'class': 'chat chat-end'}), div((div(('You have been given a great honor.',),{'class': 'chat-bubble chat-bubble-success'}),),{'class': 'chat chat-end'}), div((div(('To be on the Council at your age.',),{'class': 'chat-bubble chat-bubble-warning'}),),{'class': 'chat chat-end'}), div((div((\"It's never happened before.\",),{'class': 'chat-bubble chat-bubble-error'}),),{'class': 'chat chat-end'})),{})"
      ]
     },
     "execution_count": null,
     "metadata": {},
     "output_type": "execute_result"
    }
   ],
   "source": [
    "#| export\n",
    "def test_chat_colors_fasthtml_examples():\n",
    "    \"\"\"Test chat bubble with colors from daisyUI v5 documentation.\"\"\"\n",
    "    from fasthtml.common import Div\n",
    "    \n",
    "    # Chat bubbles with different colors - all start aligned\n",
    "    primary_chat = Div(\n",
    "        Div(\n",
    "            \"What kind of nonsense is this\",\n",
    "            cls=combine_classes(chat_bubble, chat_bubble_colors.primary)\n",
    "        ),\n",
    "        cls=combine_classes(chat, chat_placement.start)\n",
    "    )\n",
    "    assert \"chat\" in primary_chat.attrs['class']\n",
    "    assert \"chat-start\" in primary_chat.attrs['class']\n",
    "    assert \"chat-bubble\" in primary_chat.children[0].attrs['class']\n",
    "    assert \"chat-bubble-primary\" in primary_chat.children[0].attrs['class']\n",
    "    assert primary_chat.children[0].children[0] == \"What kind of nonsense is this\"\n",
    "    \n",
    "    secondary_chat = Div(\n",
    "        Div(\n",
    "            \"Put me on the Council and not make me a Master!??\",\n",
    "            cls=combine_classes(chat_bubble, chat_bubble_colors.secondary)\n",
    "        ),\n",
    "        cls=combine_classes(chat, chat_placement.start)\n",
    "    )\n",
    "    assert \"chat-bubble-secondary\" in secondary_chat.children[0].attrs['class']\n",
    "    assert secondary_chat.children[0].children[0] == \"Put me on the Council and not make me a Master!??\"\n",
    "    \n",
    "    accent_chat = Div(\n",
    "        Div(\n",
    "            \"That's never been done in the history of the Jedi.\",\n",
    "            cls=combine_classes(chat_bubble, chat_bubble_colors.accent)\n",
    "        ),\n",
    "        cls=combine_classes(chat, chat_placement.start)\n",
    "    )\n",
    "    assert \"chat-bubble-accent\" in accent_chat.children[0].attrs['class']\n",
    "    assert accent_chat.children[0].children[0] == \"That's never been done in the history of the Jedi.\"\n",
    "    \n",
    "    neutral_chat = Div(\n",
    "        Div(\n",
    "            \"It's insulting!\",\n",
    "            cls=combine_classes(chat_bubble, chat_bubble_colors.neutral)\n",
    "        ),\n",
    "        cls=combine_classes(chat, chat_placement.start)\n",
    "    )\n",
    "    assert \"chat-bubble-neutral\" in neutral_chat.children[0].attrs['class']\n",
    "    assert neutral_chat.children[0].children[0] == \"It's insulting!\"\n",
    "    \n",
    "    # Chat bubbles with different colors - all end aligned\n",
    "    info_chat = Div(\n",
    "        Div(\n",
    "            \"Calm down, Anakin.\",\n",
    "            cls=combine_classes(chat_bubble, chat_bubble_colors.info)\n",
    "        ),\n",
    "        cls=combine_classes(chat, chat_placement.end)\n",
    "    )\n",
    "    assert \"chat\" in info_chat.attrs['class']\n",
    "    assert \"chat-end\" in info_chat.attrs['class']\n",
    "    assert \"chat-bubble-info\" in info_chat.children[0].attrs['class']\n",
    "    assert info_chat.children[0].children[0] == \"Calm down, Anakin.\"\n",
    "    \n",
    "    success_chat = Div(\n",
    "        Div(\n",
    "            \"You have been given a great honor.\",\n",
    "            cls=combine_classes(chat_bubble, chat_bubble_colors.success)\n",
    "        ),\n",
    "        cls=combine_classes(chat, chat_placement.end)\n",
    "    )\n",
    "    assert \"chat-bubble-success\" in success_chat.children[0].attrs['class']\n",
    "    assert success_chat.children[0].children[0] == \"You have been given a great honor.\"\n",
    "    \n",
    "    warning_chat = Div(\n",
    "        Div(\n",
    "            \"To be on the Council at your age.\",\n",
    "            cls=combine_classes(chat_bubble, chat_bubble_colors.warning)\n",
    "        ),\n",
    "        cls=combine_classes(chat, chat_placement.end)\n",
    "    )\n",
    "    assert \"chat-bubble-warning\" in warning_chat.children[0].attrs['class']\n",
    "    assert warning_chat.children[0].children[0] == \"To be on the Council at your age.\"\n",
    "    \n",
    "    error_chat = Div(\n",
    "        Div(\n",
    "            \"It's never happened before.\",\n",
    "            cls=combine_classes(chat_bubble, chat_bubble_colors.error)\n",
    "        ),\n",
    "        cls=combine_classes(chat, chat_placement.end)\n",
    "    )\n",
    "    assert \"chat-bubble-error\" in error_chat.children[0].attrs['class']\n",
    "    assert error_chat.children[0].children[0] == \"It's never happened before.\"\n",
    "    \n",
    "    # Return all examples in a Div\n",
    "    return Div(\n",
    "        primary_chat, secondary_chat, accent_chat, neutral_chat,\n",
    "        info_chat, success_chat, warning_chat, error_chat\n",
    "    )\n",
    "\n",
    "# Run the tests\n",
    "test_chat_colors_fasthtml_examples()"
   ]
  },
  {
   "cell_type": "code",
   "execution_count": null,
   "id": "ad805d0b-b088-4506-a3d8-18ec0968d48d",
   "metadata": {},
   "outputs": [
    {
     "data": {
      "text/html": [
       "\n",
       "<script>\n",
       "document.body.addEventListener('htmx:configRequest', (event) => {\n",
       "    if(event.detail.path.includes('://')) return;\n",
       "    htmx.config.selfRequestsOnly=false;\n",
       "    event.detail.path = `${location.protocol}//${location.hostname}:8000${event.detail.path}`;\n",
       "});\n",
       "</script>"
      ],
      "text/plain": [
       "<IPython.core.display.HTML object>"
      ]
     },
     "metadata": {},
     "output_type": "display_data"
    },
    {
     "data": {
      "text/html": [
       "<iframe src=\"http://localhost:8000/\" style=\"width: 100%; height: auto; border: none;\" onload=\"{\n",
       "        let frame = this;\n",
       "        window.addEventListener('message', function(e) {\n",
       "            if (e.source !== frame.contentWindow) return; // Only proceed if the message is from this iframe\n",
       "            if (e.data.height) frame.style.height = (e.data.height+1) + 'px';\n",
       "        }, false);\n",
       "    }\" allow=\"accelerometer; autoplay; camera; clipboard-read; clipboard-write; display-capture; encrypted-media; fullscreen; gamepad; geolocation; gyroscope; hid; identity-credentials-get; idle-detection; magnetometer; microphone; midi; payment; picture-in-picture; publickey-credentials-get; screen-wake-lock; serial; usb; web-share; xr-spatial-tracking\"></iframe> "
      ],
      "text/plain": [
       "<IPython.core.display.HTML object>"
      ]
     },
     "metadata": {},
     "output_type": "display_data"
    }
   ],
   "source": [
    "#| eval: false\n",
    "test_func = test_chat_colors_fasthtml_examples\n",
    "app, rt = create_test_app(theme=DaisyUITheme.LIGHT)\n",
    "\n",
    "@rt\n",
    "def index():\n",
    "    return create_test_page(test_func.__doc__.title().replace('.', ''), test_func())\n",
    "server = start_test_server(app)\n",
    "display(HTMX())\n",
    "server.stop()"
   ]
  },
  {
   "cell_type": "code",
   "execution_count": null,
   "id": "5198290f-49cb-4e41-95ee-714a8475790d",
   "metadata": {},
   "outputs": [],
   "source": []
  },
  {
   "cell_type": "code",
   "execution_count": null,
   "id": "666d93aa-d198-4dae-b2aa-2f2ebb3f2527",
   "metadata": {},
   "outputs": [],
   "source": []
  },
  {
   "cell_type": "code",
   "execution_count": null,
   "id": "ac5b0729-71c6-48d2-8282-4921e005ce96",
   "metadata": {},
   "outputs": [],
   "source": [
    "#| hide\n",
    "import nbdev; nbdev.nbdev_export()"
   ]
  }
 ],
 "metadata": {
  "kernelspec": {
   "display_name": "python3",
   "language": "python",
   "name": "python3"
  }
 },
 "nbformat": 4,
 "nbformat_minor": 5
}
