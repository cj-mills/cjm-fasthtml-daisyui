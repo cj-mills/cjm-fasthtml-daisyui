{
 "cells": [
  {
   "cell_type": "markdown",
   "id": "5fa37402-a976-45ef-afef-3f33edbbc34a",
   "metadata": {},
   "source": [
    "# badge\n",
    "\n",
    "> Badges are used to inform the user of the status of specific data."
   ]
  },
  {
   "cell_type": "code",
   "execution_count": null,
   "id": "34f1a79e-39bf-4113-a9db-9578c2330e44",
   "metadata": {},
   "outputs": [],
   "source": [
    "#| default_exp components.data_display.badge"
   ]
  },
  {
   "cell_type": "code",
   "execution_count": null,
   "id": "419459f4-3493-4d75-a579-135c0eab2128",
   "metadata": {},
   "outputs": [],
   "source": [
    "#| hide\n",
    "from nbdev.showdoc import *"
   ]
  },
  {
   "cell_type": "code",
   "execution_count": null,
   "id": "17fd66d1-e06b-443f-ac55-99c2a58eb0c2",
   "metadata": {},
   "outputs": [],
   "source": [
    "#| export\n",
    "from typing import Optional, Dict, Any, Union, List\n",
    "from cjm_fasthtml_tailwind.core.base import (\n",
    "    SingleValueFactory, BaseFactory, combine_classes\n",
    ")\n",
    "from cjm_fasthtml_tailwind.builders.scales import SimpleFactory, ScaledFactory, enums_to_simple_factory\n",
    "\n",
    "from cjm_fasthtml_daisyui.builders.colors import SemanticColorBrand, SemanticColorStatus\n",
    "from cjm_fasthtml_daisyui.builders.sizes import DaisyUINamedSize\n",
    "from cjm_fasthtml_daisyui.builders.styles import OutlineStyle, DashStyle, SoftStyle, GhostStyle\n",
    "\n",
    "from fasthtml.jupyter import JupyUvi, HTMX\n",
    "from cjm_fasthtml_daisyui.core.testing import create_test_app, create_test_page, start_test_server\n",
    "\n",
    "from fasthtml.common import Div\n",
    "from cjm_fasthtml_daisyui.core.themes import DaisyUITheme\n",
    "from IPython.display import display"
   ]
  },
  {
   "cell_type": "markdown",
   "id": "722e963b-7b30-4d03-9dc5-87263bcd4669",
   "metadata": {},
   "source": [
    "### Base Badge\n",
    "\n",
    "The base badge component:"
   ]
  },
  {
   "cell_type": "code",
   "execution_count": null,
   "id": "87336f3b-7812-41b1-ab0b-7880d2a36eb8",
   "metadata": {},
   "outputs": [],
   "source": [
    "#| export\n",
    "badge = SingleValueFactory(\"badge\", \"Badge container element\") # Badge container"
   ]
  },
  {
   "cell_type": "markdown",
   "id": "646831ea-fc95-4a92-80e3-7ec212e6ff2a",
   "metadata": {},
   "source": [
    "### Badge Colors\n",
    "\n",
    "Badge color variants using daisyUI semantic colors:"
   ]
  },
  {
   "cell_type": "code",
   "execution_count": null,
   "id": "25693cea-3823-45a8-8429-0ceaac48bddd",
   "metadata": {},
   "outputs": [],
   "source": [
    "#| export\n",
    "badge_colors = enums_to_simple_factory(badge, [SemanticColorBrand, SemanticColorStatus], \"Badge color variants using daisyUI semantic colors\") # Badge color variants"
   ]
  },
  {
   "cell_type": "markdown",
   "id": "d2266655-3a89-45a5-94f4-acc2d61ee36e",
   "metadata": {},
   "source": [
    "### Badge Styles\n",
    "\n",
    "Different badge style variants:"
   ]
  },
  {
   "cell_type": "code",
   "execution_count": null,
   "id": "4f52e152-edd6-4ff6-8c6d-da28b51105f1",
   "metadata": {},
   "outputs": [],
   "source": [
    "#| export\n",
    "badge_styles = enums_to_simple_factory(badge, [OutlineStyle, DashStyle, SoftStyle, GhostStyle], \"Badge style variants (outline, dash, soft, ghost)\") # Badge style variants"
   ]
  },
  {
   "cell_type": "code",
   "execution_count": null,
   "id": "c9138ab8-640a-4d35-8efe-34f9b4604588",
   "metadata": {},
   "outputs": [],
   "source": []
  },
  {
   "cell_type": "markdown",
   "id": "f9d3c953-93ad-43f2-b301-a4b8f9d5cbe2",
   "metadata": {},
   "source": [
    "### Badge Sizes\n",
    "\n",
    "Badge size variants:"
   ]
  },
  {
   "cell_type": "code",
   "execution_count": null,
   "id": "3511699d-f86a-458b-8892-418e1def9f82",
   "metadata": {},
   "outputs": [],
   "source": [
    "#| export\n",
    "badge_sizes = enums_to_simple_factory(badge, [DaisyUINamedSize], \"Badge size variants from extra small to extra large\") # Badge size variants"
   ]
  },
  {
   "cell_type": "code",
   "execution_count": null,
   "id": "89bb22ff-23ef-47e0-85e2-5794c9204e3c",
   "metadata": {},
   "outputs": [],
   "source": []
  },
  {
   "cell_type": "markdown",
   "id": "0efb374b-3d09-4867-977c-eef3dc4fe2f2",
   "metadata": {},
   "source": [
    "### Badge Test Examples"
   ]
  },
  {
   "cell_type": "code",
   "execution_count": null,
   "id": "6c4b6876-d22e-4b69-8412-2ad35698254b",
   "metadata": {},
   "outputs": [],
   "source": [
    "#| export\n",
    "def test_badge_basic_examples():\n",
    "    \"\"\"Test basic badge utilities.\"\"\"\n",
    "    # Basic badge\n",
    "    assert str(badge) == \"badge\"\n",
    "    \n",
    "    # With modifiers\n",
    "    assert str(badge.hover) == \"hover:badge\"\n",
    "    assert str(badge.md) == \"md:badge\"\n",
    "    assert str(badge.dark) == \"dark:badge\"\n",
    "\n",
    "# Run the tests\n",
    "test_badge_basic_examples()"
   ]
  },
  {
   "cell_type": "code",
   "execution_count": null,
   "id": "4524bece-2372-4939-a1e1-b1fd12bf543f",
   "metadata": {},
   "outputs": [],
   "source": [
    "#| export\n",
    "def test_badge_colors_examples():\n",
    "    \"\"\"Test badge color variants.\"\"\"\n",
    "    # All color variants\n",
    "    assert str(badge_colors.neutral) == \"badge-neutral\"\n",
    "    assert str(badge_colors.primary) == \"badge-primary\"\n",
    "    assert str(badge_colors.secondary) == \"badge-secondary\"\n",
    "    assert str(badge_colors.accent) == \"badge-accent\"\n",
    "    assert str(badge_colors.info) == \"badge-info\"\n",
    "    assert str(badge_colors.success) == \"badge-success\"\n",
    "    assert str(badge_colors.warning) == \"badge-warning\"\n",
    "    assert str(badge_colors.error) == \"badge-error\"\n",
    "    \n",
    "    # With modifiers\n",
    "    assert str(badge_colors.primary.hover) == \"hover:badge-primary\"\n",
    "    assert str(badge_colors.success.focus) == \"focus:badge-success\"\n",
    "\n",
    "# Run the tests\n",
    "test_badge_colors_examples()"
   ]
  },
  {
   "cell_type": "code",
   "execution_count": null,
   "id": "10bb7197-eff1-4dd0-9208-5b42d83b50d1",
   "metadata": {},
   "outputs": [],
   "source": [
    "#| export\n",
    "def test_badge_styles_examples():\n",
    "    \"\"\"Test badge style variants.\"\"\"\n",
    "    assert str(badge_styles.outline) == \"badge-outline\"\n",
    "    assert str(badge_styles.dash) == \"badge-dash\"\n",
    "    assert str(badge_styles.soft) == \"badge-soft\"\n",
    "    assert str(badge_styles.ghost) == \"badge-ghost\"\n",
    "\n",
    "# Run the tests\n",
    "test_badge_styles_examples()"
   ]
  },
  {
   "cell_type": "code",
   "execution_count": null,
   "id": "53a9214f-d94d-468c-be1a-8b1ecfa0c78b",
   "metadata": {},
   "outputs": [],
   "source": [
    "#| export\n",
    "def test_badge_sizes_examples():\n",
    "    \"\"\"Test badge size variants.\"\"\"\n",
    "    assert str(badge_sizes.xs) == \"badge-xs\"\n",
    "    assert str(badge_sizes.sm) == \"badge-sm\"\n",
    "    assert str(badge_sizes.md) == \"badge-md\"\n",
    "    assert str(badge_sizes.lg) == \"badge-lg\"\n",
    "    assert str(badge_sizes.xl) == \"badge-xl\"\n",
    "    \n",
    "    # With responsive modifiers\n",
    "    assert str(badge_sizes.xs.sm) == \"sm:badge-xs\"\n",
    "    assert str(badge_sizes.lg.md) == \"md:badge-lg\"\n",
    "\n",
    "# Run the tests\n",
    "test_badge_sizes_examples()"
   ]
  },
  {
   "cell_type": "code",
   "execution_count": null,
   "id": "f6c123ce-8237-49bb-8dbe-fd6354e84e5c",
   "metadata": {},
   "outputs": [
    {
     "data": {
      "text/markdown": [
       "```html\n",
       "<div>\n",
       "<span class=\"badge\">Badge</span>  <div class=\"badge badge-xs\">Xsmall</div>\n",
       "  <div class=\"badge badge-sm\">Small</div>\n",
       "  <div class=\"badge badge-md\">Medium</div>\n",
       "  <div class=\"badge badge-lg\">Large</div>\n",
       "  <div class=\"badge badge-xl\">Xlarge</div>\n",
       "</div>\n",
       "\n",
       "```"
      ],
      "text/plain": [
       "div((span(('Badge',),{'class': 'badge'}), div(('Xsmall',),{'class': 'badge badge-xs'}), div(('Small',),{'class': 'badge badge-sm'}), div(('Medium',),{'class': 'badge badge-md'}), div(('Large',),{'class': 'badge badge-lg'}), div(('Xlarge',),{'class': 'badge badge-xl'})),{})"
      ]
     },
     "execution_count": null,
     "metadata": {},
     "output_type": "execute_result"
    }
   ],
   "source": [
    "#| export\n",
    "def test_badge_basic_fasthtml_examples():\n",
    "    \"\"\"Test basic badge and badge sizes from daisyUI v5 documentation.\"\"\"\n",
    "    from fasthtml.common import Span, Div\n",
    "    \n",
    "    # Basic badge\n",
    "    basic_badge = Span(\"Badge\", cls=str(badge))\n",
    "    assert basic_badge.tag == \"span\"\n",
    "    assert basic_badge.attrs['class'] == \"badge\"\n",
    "    assert basic_badge.children[0] == \"Badge\"\n",
    "    \n",
    "    # Badge sizes\n",
    "    xs_badge = Div(\"Xsmall\", cls=combine_classes(badge, badge_sizes.xs))\n",
    "    assert xs_badge.tag == \"div\"\n",
    "    assert \"badge\" in xs_badge.attrs['class']\n",
    "    assert \"badge-xs\" in xs_badge.attrs['class']\n",
    "    assert xs_badge.children[0] == \"Xsmall\"\n",
    "    \n",
    "    sm_badge = Div(\"Small\", cls=combine_classes(badge, badge_sizes.sm))\n",
    "    assert \"badge\" in sm_badge.attrs['class']\n",
    "    assert \"badge-sm\" in sm_badge.attrs['class']\n",
    "    assert sm_badge.children[0] == \"Small\"\n",
    "    \n",
    "    md_badge = Div(\"Medium\", cls=combine_classes(badge, badge_sizes.md))\n",
    "    assert \"badge\" in md_badge.attrs['class']\n",
    "    assert \"badge-md\" in md_badge.attrs['class']\n",
    "    assert md_badge.children[0] == \"Medium\"\n",
    "    \n",
    "    lg_badge = Div(\"Large\", cls=combine_classes(badge, badge_sizes.lg))\n",
    "    assert \"badge\" in lg_badge.attrs['class']\n",
    "    assert \"badge-lg\" in lg_badge.attrs['class']\n",
    "    assert lg_badge.children[0] == \"Large\"\n",
    "    \n",
    "    xl_badge = Div(\"Xlarge\", cls=combine_classes(badge, badge_sizes.xl))\n",
    "    assert \"badge\" in xl_badge.attrs['class']\n",
    "    assert \"badge-xl\" in xl_badge.attrs['class']\n",
    "    assert xl_badge.children[0] == \"Xlarge\"\n",
    "    \n",
    "    # Return all elements in a Div\n",
    "    return Div(\n",
    "        basic_badge,\n",
    "        xs_badge,\n",
    "        sm_badge,\n",
    "        md_badge,\n",
    "        lg_badge,\n",
    "        xl_badge\n",
    "    )\n",
    "\n",
    "# Run the tests\n",
    "test_badge_basic_fasthtml_examples()"
   ]
  },
  {
   "cell_type": "code",
   "execution_count": null,
   "id": "a84caf83-ee7e-43ee-bfaa-29a2bedbde5e",
   "metadata": {},
   "outputs": [
    {
     "data": {
      "text/html": [
       "\n",
       "<script>\n",
       "document.body.addEventListener('htmx:configRequest', (event) => {\n",
       "    if(event.detail.path.includes('://')) return;\n",
       "    htmx.config.selfRequestsOnly=false;\n",
       "    event.detail.path = `${location.protocol}//${location.hostname}:8000${event.detail.path}`;\n",
       "});\n",
       "</script>"
      ],
      "text/plain": [
       "<IPython.core.display.HTML object>"
      ]
     },
     "metadata": {},
     "output_type": "display_data"
    },
    {
     "data": {
      "text/html": [
       "<iframe src=\"http://localhost:8000/\" style=\"width: 100%; height: auto; border: none;\" onload=\"{\n",
       "        let frame = this;\n",
       "        window.addEventListener('message', function(e) {\n",
       "            if (e.source !== frame.contentWindow) return; // Only proceed if the message is from this iframe\n",
       "            if (e.data.height) frame.style.height = (e.data.height+1) + 'px';\n",
       "        }, false);\n",
       "    }\" allow=\"accelerometer; autoplay; camera; clipboard-read; clipboard-write; display-capture; encrypted-media; fullscreen; gamepad; geolocation; gyroscope; hid; identity-credentials-get; idle-detection; magnetometer; microphone; midi; payment; picture-in-picture; publickey-credentials-get; screen-wake-lock; serial; usb; web-share; xr-spatial-tracking\"></iframe> "
      ],
      "text/plain": [
       "<IPython.core.display.HTML object>"
      ]
     },
     "metadata": {},
     "output_type": "display_data"
    }
   ],
   "source": [
    "#| eval: false\n",
    "test_func = test_badge_basic_fasthtml_examples\n",
    "app, rt = create_test_app(theme=DaisyUITheme.LIGHT)\n",
    "\n",
    "@rt\n",
    "def index():\n",
    "    return create_test_page(test_func.__doc__.title().replace('.', ''), test_func())\n",
    "server = start_test_server(app)\n",
    "display(HTMX())\n",
    "server.stop()"
   ]
  },
  {
   "cell_type": "code",
   "execution_count": null,
   "id": "p8dfh4n3e1",
   "metadata": {},
   "outputs": [
    {
     "data": {
      "text/markdown": [
       "```html\n",
       "<div>\n",
       "  <div class=\"badge badge-primary\">Primary</div>\n",
       "  <div class=\"badge badge-secondary\">Secondary</div>\n",
       "  <div class=\"badge badge-accent\">Accent</div>\n",
       "  <div class=\"badge badge-neutral\">Neutral</div>\n",
       "  <div class=\"badge badge-info\">Info</div>\n",
       "  <div class=\"badge badge-success\">Success</div>\n",
       "  <div class=\"badge badge-warning\">Warning</div>\n",
       "  <div class=\"badge badge-error\">Error</div>\n",
       "</div>\n",
       "\n",
       "```"
      ],
      "text/plain": [
       "div((div(('Primary',),{'class': 'badge badge-primary'}), div(('Secondary',),{'class': 'badge badge-secondary'}), div(('Accent',),{'class': 'badge badge-accent'}), div(('Neutral',),{'class': 'badge badge-neutral'}), div(('Info',),{'class': 'badge badge-info'}), div(('Success',),{'class': 'badge badge-success'}), div(('Warning',),{'class': 'badge badge-warning'}), div(('Error',),{'class': 'badge badge-error'})),{})"
      ]
     },
     "execution_count": null,
     "metadata": {},
     "output_type": "execute_result"
    }
   ],
   "source": [
    "#| export\n",
    "def test_badge_colors_fasthtml_examples():\n",
    "    \"\"\"Test badge with colors from daisyUI v5 documentation.\"\"\"\n",
    "    from fasthtml.common import Div\n",
    "    \n",
    "    # Badge with colors\n",
    "    primary_badge = Div(\"Primary\", cls=combine_classes(badge, badge_colors.primary))\n",
    "    assert primary_badge.tag == \"div\"\n",
    "    assert \"badge\" in primary_badge.attrs['class']\n",
    "    assert \"badge-primary\" in primary_badge.attrs['class']\n",
    "    assert primary_badge.children[0] == \"Primary\"\n",
    "    \n",
    "    secondary_badge = Div(\"Secondary\", cls=combine_classes(badge, badge_colors.secondary))\n",
    "    assert \"badge\" in secondary_badge.attrs['class']\n",
    "    assert \"badge-secondary\" in secondary_badge.attrs['class']\n",
    "    assert secondary_badge.children[0] == \"Secondary\"\n",
    "    \n",
    "    accent_badge = Div(\"Accent\", cls=combine_classes(badge, badge_colors.accent))\n",
    "    assert \"badge\" in accent_badge.attrs['class']\n",
    "    assert \"badge-accent\" in accent_badge.attrs['class']\n",
    "    assert accent_badge.children[0] == \"Accent\"\n",
    "    \n",
    "    neutral_badge = Div(\"Neutral\", cls=combine_classes(badge, badge_colors.neutral))\n",
    "    assert \"badge\" in neutral_badge.attrs['class']\n",
    "    assert \"badge-neutral\" in neutral_badge.attrs['class']\n",
    "    assert neutral_badge.children[0] == \"Neutral\"\n",
    "    \n",
    "    info_badge = Div(\"Info\", cls=combine_classes(badge, badge_colors.info))\n",
    "    assert \"badge\" in info_badge.attrs['class']\n",
    "    assert \"badge-info\" in info_badge.attrs['class']\n",
    "    assert info_badge.children[0] == \"Info\"\n",
    "    \n",
    "    success_badge = Div(\"Success\", cls=combine_classes(badge, badge_colors.success))\n",
    "    assert \"badge\" in success_badge.attrs['class']\n",
    "    assert \"badge-success\" in success_badge.attrs['class']\n",
    "    assert success_badge.children[0] == \"Success\"\n",
    "    \n",
    "    warning_badge = Div(\"Warning\", cls=combine_classes(badge, badge_colors.warning))\n",
    "    assert \"badge\" in warning_badge.attrs['class']\n",
    "    assert \"badge-warning\" in warning_badge.attrs['class']\n",
    "    assert warning_badge.children[0] == \"Warning\"\n",
    "    \n",
    "    error_badge = Div(\"Error\", cls=combine_classes(badge, badge_colors.error))\n",
    "    assert \"badge\" in error_badge.attrs['class']\n",
    "    assert \"badge-error\" in error_badge.attrs['class']\n",
    "    assert error_badge.children[0] == \"Error\"\n",
    "    \n",
    "    # Return all elements in a Div\n",
    "    return Div(\n",
    "        primary_badge,\n",
    "        secondary_badge,\n",
    "        accent_badge,\n",
    "        neutral_badge,\n",
    "        info_badge,\n",
    "        success_badge,\n",
    "        warning_badge,\n",
    "        error_badge\n",
    "    )\n",
    "\n",
    "# Run the tests\n",
    "test_badge_colors_fasthtml_examples()"
   ]
  },
  {
   "cell_type": "code",
   "execution_count": null,
   "id": "bb8491ce-55d6-4f45-a082-f0af56a18005",
   "metadata": {},
   "outputs": [
    {
     "data": {
      "text/html": [
       "\n",
       "<script>\n",
       "document.body.addEventListener('htmx:configRequest', (event) => {\n",
       "    if(event.detail.path.includes('://')) return;\n",
       "    htmx.config.selfRequestsOnly=false;\n",
       "    event.detail.path = `${location.protocol}//${location.hostname}:8000${event.detail.path}`;\n",
       "});\n",
       "</script>"
      ],
      "text/plain": [
       "<IPython.core.display.HTML object>"
      ]
     },
     "metadata": {},
     "output_type": "display_data"
    },
    {
     "data": {
      "text/html": [
       "<iframe src=\"http://localhost:8000/\" style=\"width: 100%; height: auto; border: none;\" onload=\"{\n",
       "        let frame = this;\n",
       "        window.addEventListener('message', function(e) {\n",
       "            if (e.source !== frame.contentWindow) return; // Only proceed if the message is from this iframe\n",
       "            if (e.data.height) frame.style.height = (e.data.height+1) + 'px';\n",
       "        }, false);\n",
       "    }\" allow=\"accelerometer; autoplay; camera; clipboard-read; clipboard-write; display-capture; encrypted-media; fullscreen; gamepad; geolocation; gyroscope; hid; identity-credentials-get; idle-detection; magnetometer; microphone; midi; payment; picture-in-picture; publickey-credentials-get; screen-wake-lock; serial; usb; web-share; xr-spatial-tracking\"></iframe> "
      ],
      "text/plain": [
       "<IPython.core.display.HTML object>"
      ]
     },
     "metadata": {},
     "output_type": "display_data"
    }
   ],
   "source": [
    "#| eval: false\n",
    "test_func = test_badge_colors_fasthtml_examples\n",
    "app, rt = create_test_app(theme=DaisyUITheme.LIGHT)\n",
    "\n",
    "@rt\n",
    "def index():\n",
    "    return create_test_page(test_func.__doc__.title().replace('.', ''), test_func())\n",
    "server = start_test_server(app)\n",
    "display(HTMX())\n",
    "server.stop()"
   ]
  },
  {
   "cell_type": "code",
   "execution_count": null,
   "id": "vkq22n8ziji",
   "metadata": {},
   "outputs": [
    {
     "data": {
      "text/markdown": [
       "```html\n",
       "<div>\n",
       "  <div>\n",
       "    <div class=\"badge badge-soft badge-primary\">Primary</div>\n",
       "    <div class=\"badge badge-soft badge-secondary\">Secondary</div>\n",
       "    <div class=\"badge badge-soft badge-accent\">Accent</div>\n",
       "    <div class=\"badge badge-soft badge-info\">Info</div>\n",
       "    <div class=\"badge badge-soft badge-success\">Success</div>\n",
       "    <div class=\"badge badge-soft badge-warning\">Warning</div>\n",
       "    <div class=\"badge badge-soft badge-error\">Error</div>\n",
       "  </div>\n",
       "  <div>\n",
       "    <div class=\"badge badge-outline badge-primary\">Primary</div>\n",
       "    <div class=\"badge badge-outline badge-secondary\">Secondary</div>\n",
       "    <div class=\"badge badge-outline badge-accent\">Accent</div>\n",
       "    <div class=\"badge badge-outline badge-info\">Info</div>\n",
       "    <div class=\"badge badge-outline badge-success\">Success</div>\n",
       "    <div class=\"badge badge-outline badge-warning\">Warning</div>\n",
       "    <div class=\"badge badge-outline badge-error\">Error</div>\n",
       "  </div>\n",
       "  <div>\n",
       "    <div class=\"badge badge-dash badge-primary\">Primary</div>\n",
       "    <div class=\"badge badge-dash badge-secondary\">Secondary</div>\n",
       "    <div class=\"badge badge-dash badge-accent\">Accent</div>\n",
       "    <div class=\"badge badge-dash badge-info\">Info</div>\n",
       "    <div class=\"badge badge-dash badge-success\">Success</div>\n",
       "    <div class=\"badge badge-dash badge-warning\">Warning</div>\n",
       "    <div class=\"badge badge-dash badge-error\">Error</div>\n",
       "  </div>\n",
       "  <div class=\"bg-white p-6\">\n",
       "    <div class=\"badge badge-neutral badge-outline\">Outline</div>\n",
       "    <div class=\"badge badge-neutral badge-dash\">Dash</div>\n",
       "  </div>\n",
       "  <div class=\"badge badge-ghost\">ghost</div>\n",
       "  <div>\n",
       "    <div class=\"badge badge-primary badge-lg\"></div>\n",
       "    <div class=\"badge badge-primary badge-md\"></div>\n",
       "    <div class=\"badge badge-primary badge-sm\"></div>\n",
       "    <div class=\"badge badge-primary badge-xs\"></div>\n",
       "  </div>\n",
       "</div>\n",
       "\n",
       "```"
      ],
      "text/plain": [
       "div((div((div(('Primary',),{'class': 'badge badge-soft badge-primary'}), div(('Secondary',),{'class': 'badge badge-soft badge-secondary'}), div(('Accent',),{'class': 'badge badge-soft badge-accent'}), div(('Info',),{'class': 'badge badge-soft badge-info'}), div(('Success',),{'class': 'badge badge-soft badge-success'}), div(('Warning',),{'class': 'badge badge-soft badge-warning'}), div(('Error',),{'class': 'badge badge-soft badge-error'})),{}), div((div(('Primary',),{'class': 'badge badge-outline badge-primary'}), div(('Secondary',),{'class': 'badge badge-outline badge-secondary'}), div(('Accent',),{'class': 'badge badge-outline badge-accent'}), div(('Info',),{'class': 'badge badge-outline badge-info'}), div(('Success',),{'class': 'badge badge-outline badge-success'}), div(('Warning',),{'class': 'badge badge-outline badge-warning'}), div(('Error',),{'class': 'badge badge-outline badge-error'})),{}), div((div(('Primary',),{'class': 'badge badge-dash badge-primary'}), div(('Secondary',),{'class': 'badge badge-dash badge-secondary'}), div(('Accent',),{'class': 'badge badge-dash badge-accent'}), div(('Info',),{'class': 'badge badge-dash badge-info'}), div(('Success',),{'class': 'badge badge-dash badge-success'}), div(('Warning',),{'class': 'badge badge-dash badge-warning'}), div(('Error',),{'class': 'badge badge-dash badge-error'})),{}), div((div(('Outline',),{'class': 'badge badge-neutral badge-outline'}), div(('Dash',),{'class': 'badge badge-neutral badge-dash'})),{'class': 'bg-white p-6'}), div(('ghost',),{'class': 'badge badge-ghost'}), div((div((),{'class': 'badge badge-primary badge-lg'}), div((),{'class': 'badge badge-primary badge-md'}), div((),{'class': 'badge badge-primary badge-sm'}), div((),{'class': 'badge badge-primary badge-xs'})),{})),{})"
      ]
     },
     "execution_count": null,
     "metadata": {},
     "output_type": "execute_result"
    }
   ],
   "source": [
    "#| export\n",
    "def test_badge_style_fasthtml_examples():\n",
    "    \"\"\"Test badge with different styles from daisyUI v5 documentation.\"\"\"\n",
    "    from fasthtml.common import Div\n",
    "    from cjm_fasthtml_tailwind.utilities.backgrounds import bg\n",
    "    from cjm_fasthtml_tailwind.utilities.spacing import p\n",
    "    \n",
    "    # Badge with soft style\n",
    "    soft_primary = Div(\"Primary\", cls=combine_classes(badge, badge_styles.soft, badge_colors.primary))\n",
    "    assert \"badge\" in soft_primary.attrs['class']\n",
    "    assert \"badge-soft\" in soft_primary.attrs['class']\n",
    "    assert \"badge-primary\" in soft_primary.attrs['class']\n",
    "    assert soft_primary.children[0] == \"Primary\"\n",
    "    \n",
    "    soft_secondary = Div(\"Secondary\", cls=combine_classes(badge, badge_styles.soft, badge_colors.secondary))\n",
    "    assert \"badge-soft\" in soft_secondary.attrs['class']\n",
    "    assert \"badge-secondary\" in soft_secondary.attrs['class']\n",
    "    \n",
    "    soft_accent = Div(\"Accent\", cls=combine_classes(badge, badge_styles.soft, badge_colors.accent))\n",
    "    assert \"badge-soft\" in soft_accent.attrs['class']\n",
    "    assert \"badge-accent\" in soft_accent.attrs['class']\n",
    "    \n",
    "    soft_info = Div(\"Info\", cls=combine_classes(badge, badge_styles.soft, badge_colors.info))\n",
    "    assert \"badge-soft\" in soft_info.attrs['class']\n",
    "    assert \"badge-info\" in soft_info.attrs['class']\n",
    "    \n",
    "    soft_success = Div(\"Success\", cls=combine_classes(badge, badge_styles.soft, badge_colors.success))\n",
    "    assert \"badge-soft\" in soft_success.attrs['class']\n",
    "    assert \"badge-success\" in soft_success.attrs['class']\n",
    "    \n",
    "    soft_warning = Div(\"Warning\", cls=combine_classes(badge, badge_styles.soft, badge_colors.warning))\n",
    "    assert \"badge-soft\" in soft_warning.attrs['class']\n",
    "    assert \"badge-warning\" in soft_warning.attrs['class']\n",
    "    \n",
    "    soft_error = Div(\"Error\", cls=combine_classes(badge, badge_styles.soft, badge_colors.error))\n",
    "    assert \"badge-soft\" in soft_error.attrs['class']\n",
    "    assert \"badge-error\" in soft_error.attrs['class']\n",
    "    \n",
    "    # Badge with outline style\n",
    "    outline_primary = Div(\"Primary\", cls=combine_classes(badge, badge_styles.outline, badge_colors.primary))\n",
    "    assert \"badge-outline\" in outline_primary.attrs['class']\n",
    "    assert \"badge-primary\" in outline_primary.attrs['class']\n",
    "    \n",
    "    outline_secondary = Div(\"Secondary\", cls=combine_classes(badge, badge_styles.outline, badge_colors.secondary))\n",
    "    assert \"badge-outline\" in outline_secondary.attrs['class']\n",
    "    assert \"badge-secondary\" in outline_secondary.attrs['class']\n",
    "    \n",
    "    outline_accent = Div(\"Accent\", cls=combine_classes(badge, badge_styles.outline, badge_colors.accent))\n",
    "    assert \"badge-outline\" in outline_accent.attrs['class']\n",
    "    assert \"badge-accent\" in outline_accent.attrs['class']\n",
    "    \n",
    "    outline_info = Div(\"Info\", cls=combine_classes(badge, badge_styles.outline, badge_colors.info))\n",
    "    assert \"badge-outline\" in outline_info.attrs['class']\n",
    "    assert \"badge-info\" in outline_info.attrs['class']\n",
    "    \n",
    "    outline_success = Div(\"Success\", cls=combine_classes(badge, badge_styles.outline, badge_colors.success))\n",
    "    assert \"badge-outline\" in outline_success.attrs['class']\n",
    "    assert \"badge-success\" in outline_success.attrs['class']\n",
    "    \n",
    "    outline_warning = Div(\"Warning\", cls=combine_classes(badge, badge_styles.outline, badge_colors.warning))\n",
    "    assert \"badge-outline\" in outline_warning.attrs['class']\n",
    "    assert \"badge-warning\" in outline_warning.attrs['class']\n",
    "    \n",
    "    outline_error = Div(\"Error\", cls=combine_classes(badge, badge_styles.outline, badge_colors.error))\n",
    "    assert \"badge-outline\" in outline_error.attrs['class']\n",
    "    assert \"badge-error\" in outline_error.attrs['class']\n",
    "    \n",
    "    # Badge with dash style\n",
    "    dash_primary = Div(\"Primary\", cls=combine_classes(badge, badge_styles.dash, badge_colors.primary))\n",
    "    assert \"badge-dash\" in dash_primary.attrs['class']\n",
    "    assert \"badge-primary\" in dash_primary.attrs['class']\n",
    "    \n",
    "    dash_secondary = Div(\"Secondary\", cls=combine_classes(badge, badge_styles.dash, badge_colors.secondary))\n",
    "    assert \"badge-dash\" in dash_secondary.attrs['class']\n",
    "    assert \"badge-secondary\" in dash_secondary.attrs['class']\n",
    "    \n",
    "    dash_accent = Div(\"Accent\", cls=combine_classes(badge, badge_styles.dash, badge_colors.accent))\n",
    "    assert \"badge-dash\" in dash_accent.attrs['class']\n",
    "    assert \"badge-accent\" in dash_accent.attrs['class']\n",
    "    \n",
    "    dash_info = Div(\"Info\", cls=combine_classes(badge, badge_styles.dash, badge_colors.info))\n",
    "    assert \"badge-dash\" in dash_info.attrs['class']\n",
    "    assert \"badge-info\" in dash_info.attrs['class']\n",
    "    \n",
    "    dash_success = Div(\"Success\", cls=combine_classes(badge, badge_styles.dash, badge_colors.success))\n",
    "    assert \"badge-dash\" in dash_success.attrs['class']\n",
    "    assert \"badge-success\" in dash_success.attrs['class']\n",
    "    \n",
    "    dash_warning = Div(\"Warning\", cls=combine_classes(badge, badge_styles.dash, badge_colors.warning))\n",
    "    assert \"badge-dash\" in dash_warning.attrs['class']\n",
    "    assert \"badge-warning\" in dash_warning.attrs['class']\n",
    "    \n",
    "    dash_error = Div(\"Error\", cls=combine_classes(badge, badge_styles.dash, badge_colors.error))\n",
    "    assert \"badge-dash\" in dash_error.attrs['class']\n",
    "    assert \"badge-error\" in dash_error.attrs['class']\n",
    "    \n",
    "    # Neutral badge with outline/dash style on white background\n",
    "    neutral_badges_container = Div(\n",
    "        Div(\"Outline\", cls=combine_classes(badge, badge_colors.neutral, badge_styles.outline)),\n",
    "        Div(\"Dash\", cls=combine_classes(badge, badge_colors.neutral, badge_styles.dash)),\n",
    "        cls=combine_classes(bg.white, p._6)\n",
    "    )\n",
    "    assert \"bg-white\" in neutral_badges_container.attrs['class']\n",
    "    assert \"p-6\" in neutral_badges_container.attrs['class']\n",
    "    assert \"badge-neutral\" in neutral_badges_container.children[0].attrs['class']\n",
    "    assert \"badge-outline\" in neutral_badges_container.children[0].attrs['class']\n",
    "    assert \"badge-neutral\" in neutral_badges_container.children[1].attrs['class']\n",
    "    assert \"badge-dash\" in neutral_badges_container.children[1].attrs['class']\n",
    "    \n",
    "    # Badge ghost\n",
    "    ghost_badge = Div(\"ghost\", cls=combine_classes(badge, badge_styles.ghost))\n",
    "    assert \"badge\" in ghost_badge.attrs['class']\n",
    "    assert \"badge-ghost\" in ghost_badge.attrs['class']\n",
    "    assert ghost_badge.children[0] == \"ghost\"\n",
    "    \n",
    "    # Empty badges\n",
    "    empty_lg = Div(cls=combine_classes(badge, badge_colors.primary, badge_sizes.lg))\n",
    "    assert \"badge\" in empty_lg.attrs['class']\n",
    "    assert \"badge-primary\" in empty_lg.attrs['class']\n",
    "    assert \"badge-lg\" in empty_lg.attrs['class']\n",
    "    assert empty_lg.children == ()\n",
    "    \n",
    "    empty_md = Div(cls=combine_classes(badge, badge_colors.primary, badge_sizes.md))\n",
    "    assert \"badge-md\" in empty_md.attrs['class']\n",
    "    assert empty_md.children == ()\n",
    "    \n",
    "    empty_sm = Div(cls=combine_classes(badge, badge_colors.primary, badge_sizes.sm))\n",
    "    assert \"badge-sm\" in empty_sm.attrs['class']\n",
    "    assert empty_sm.children == ()\n",
    "    \n",
    "    empty_xs = Div(cls=combine_classes(badge, badge_colors.primary, badge_sizes.xs))\n",
    "    assert \"badge-xs\" in empty_xs.attrs['class']\n",
    "    assert empty_xs.children == ()\n",
    "    \n",
    "    # Return all elements in a Div\n",
    "    return Div(\n",
    "        # Soft style badges\n",
    "        Div(\n",
    "            soft_primary,\n",
    "            soft_secondary,\n",
    "            soft_accent,\n",
    "            soft_info,\n",
    "            soft_success,\n",
    "            soft_warning,\n",
    "            soft_error\n",
    "        ),\n",
    "        # Outline style badges\n",
    "        Div(\n",
    "            outline_primary,\n",
    "            outline_secondary,\n",
    "            outline_accent,\n",
    "            outline_info,\n",
    "            outline_success,\n",
    "            outline_warning,\n",
    "            outline_error\n",
    "        ),\n",
    "        # Dash style badges\n",
    "        Div(\n",
    "            dash_primary,\n",
    "            dash_secondary,\n",
    "            dash_accent,\n",
    "            dash_info,\n",
    "            dash_success,\n",
    "            dash_warning,\n",
    "            dash_error\n",
    "        ),\n",
    "        # Neutral badges container\n",
    "        neutral_badges_container,\n",
    "        # Ghost badge\n",
    "        ghost_badge,\n",
    "        # Empty badges\n",
    "        Div(\n",
    "            empty_lg,\n",
    "            empty_md,\n",
    "            empty_sm,\n",
    "            empty_xs\n",
    "        )\n",
    "    )\n",
    "\n",
    "# Run the tests\n",
    "test_badge_style_fasthtml_examples()"
   ]
  },
  {
   "cell_type": "code",
   "execution_count": null,
   "id": "60016015-bcaa-4434-b7c5-139204f3c99e",
   "metadata": {},
   "outputs": [
    {
     "data": {
      "text/html": [
       "\n",
       "<script>\n",
       "document.body.addEventListener('htmx:configRequest', (event) => {\n",
       "    if(event.detail.path.includes('://')) return;\n",
       "    htmx.config.selfRequestsOnly=false;\n",
       "    event.detail.path = `${location.protocol}//${location.hostname}:8000${event.detail.path}`;\n",
       "});\n",
       "</script>"
      ],
      "text/plain": [
       "<IPython.core.display.HTML object>"
      ]
     },
     "metadata": {},
     "output_type": "display_data"
    },
    {
     "data": {
      "text/html": [
       "<iframe src=\"http://localhost:8000/\" style=\"width: 100%; height: auto; border: none;\" onload=\"{\n",
       "        let frame = this;\n",
       "        window.addEventListener('message', function(e) {\n",
       "            if (e.source !== frame.contentWindow) return; // Only proceed if the message is from this iframe\n",
       "            if (e.data.height) frame.style.height = (e.data.height+1) + 'px';\n",
       "        }, false);\n",
       "    }\" allow=\"accelerometer; autoplay; camera; clipboard-read; clipboard-write; display-capture; encrypted-media; fullscreen; gamepad; geolocation; gyroscope; hid; identity-credentials-get; idle-detection; magnetometer; microphone; midi; payment; picture-in-picture; publickey-credentials-get; screen-wake-lock; serial; usb; web-share; xr-spatial-tracking\"></iframe> "
      ],
      "text/plain": [
       "<IPython.core.display.HTML object>"
      ]
     },
     "metadata": {},
     "output_type": "display_data"
    }
   ],
   "source": [
    "#| eval: false\n",
    "test_func = test_badge_style_fasthtml_examples\n",
    "app, rt = create_test_app(theme=DaisyUITheme.LIGHT)\n",
    "\n",
    "@rt\n",
    "def index():\n",
    "    return create_test_page(test_func.__doc__.title().replace('.', ''), test_func())\n",
    "server = start_test_server(app)\n",
    "display(HTMX())\n",
    "server.stop()"
   ]
  },
  {
   "cell_type": "code",
   "execution_count": null,
   "id": "8dq24c8x7jf",
   "metadata": {},
   "outputs": [
    {
     "data": {
      "text/markdown": [
       "```html\n",
       "<div>\n",
       "  <div class=\"badge badge-info\">\n",
       "<svg xmlns=\"http://www.w3.org/2000/svg\" viewbox=\"0 0 24 24\" class=\"size-[1em]\"><g fill=\"currentColor\" stroke-linejoin=\"miter\" stroke-linecap=\"butt\"><circle r=\"10\" cx=\"12\" cy=\"12\" fill=\"none\" stroke=\"currentColor\" stroke-width=\"2\" stroke-linecap=\"square\" stroke-miterlimit=\"10\"></circle><path d=\"m12,17v-5.5c0-.276-.224-.5-.5-.5h-1.5\" fill=\"none\" stroke=\"currentColor\" stroke-width=\"2\" stroke-linecap=\"square\" stroke-miterlimit=\"10\"></path><circle r=\"1.25\" cx=\"12\" cy=\"7.25\" fill=\"currentColor\" stroke-width=\"2\"></circle></g></svg>Info  </div>\n",
       "  <div class=\"badge badge-success\">\n",
       "<svg xmlns=\"http://www.w3.org/2000/svg\" viewbox=\"0 0 24 24\" class=\"size-[1em]\"><g fill=\"currentColor\" stroke-linejoin=\"miter\" stroke-linecap=\"butt\"><circle r=\"10\" cx=\"12\" cy=\"12\" fill=\"none\" stroke=\"currentColor\" stroke-width=\"2\" stroke-linecap=\"square\" stroke-miterlimit=\"10\"></circle><polyline points=\"7 13 10 16 17 8\" fill=\"none\" stroke=\"currentColor\" stroke-width=\"2\" stroke-linecap=\"square\" stroke-miterlimit=\"10\"></polyline></g></svg>Success  </div>\n",
       "  <div class=\"badge badge-warning\">\n",
       "<svg xmlns=\"http://www.w3.org/2000/svg\" viewbox=\"0 0 18 18\" class=\"size-[1em]\"><g fill=\"currentColor\"><path d=\"M7.638,3.495L2.213,12.891c-.605,1.048,.151,2.359,1.362,2.359H14.425c1.211,0,1.967-1.31,1.362-2.359L10.362,3.495c-.605-1.048-2.119-1.048-2.724,0Z\" fill=\"none\" stroke=\"currentColor\" stroke-width=\"1.5\" stroke-linecap=\"round\" stroke-linejoin=\"round\"></path><line x1=\"9\" y1=\"6.5\" x2=\"9\" y2=\"10\" stroke=\"currentColor\" stroke-width=\"1.5\" fill=\"none\" stroke-linecap=\"round\" stroke-linejoin=\"round\"></line><path d=\"M9,13.569c-.552,0-1-.449-1-1s.448-1,1-1,1,.449,1,1-.448,1-1,1Z\" fill=\"currentColor\" stroke=\"none\" data-stroke=\"none\"></path></g></svg>Warning  </div>\n",
       "  <div class=\"badge badge-error\">\n",
       "<svg xmlns=\"http://www.w3.org/2000/svg\" viewbox=\"0 0 24 24\" class=\"size-[1em]\"><g fill=\"currentColor\"><rect transform=\"translate(-4.971 12) rotate(-45)\" width=\"20.056\" height=\"2\" x=\"1.972\" y=\"11\" fill=\"currentColor\" stroke-width=\"0\"></rect><path d=\"m12,23c-6.065,0-11-4.935-11-11S5.935,1,12,1s11,4.935,11,11-4.935,11-11,11Zm0-20C7.038,3,3,7.037,3,12s4.038,9,9,9,9-4.037,9-9S16.962,3,12,3Z\" fill=\"currentColor\" stroke-width=\"0\"></path></g></svg>Error  </div>\n",
       "</div>\n",
       "\n",
       "```"
      ],
      "text/plain": [
       "div((div((svg((g((circle((),{'r': '10', 'cx': '12', 'cy': '12', 'fill': 'none', 'stroke': 'currentColor', 'stroke-width': '2', 'stroke-linecap': 'square', 'stroke-miterlimit': '10'}), path((),{'d': 'm12,17v-5.5c0-.276-.224-.5-.5-.5h-1.5', 'fill': 'none', 'stroke': 'currentColor', 'stroke-width': '2', 'stroke-linecap': 'square', 'stroke-miterlimit': '10'}), circle((),{'r': '1.25', 'cx': '12', 'cy': '7.25', 'fill': 'currentColor', 'stroke-width': '2'})),{'fill': 'currentColor', 'stroke-linejoin': 'miter', 'stroke-linecap': 'butt'}),),{'xmlns': 'http://www.w3.org/2000/svg', 'viewbox': '0 0 24 24', 'class': 'size-[1em]'}), 'Info'),{'class': 'badge badge-info'}), div((svg((g((circle((),{'r': '10', 'cx': '12', 'cy': '12', 'fill': 'none', 'stroke': 'currentColor', 'stroke-width': '2', 'stroke-linecap': 'square', 'stroke-miterlimit': '10'}), polyline((),{'points': '7 13 10 16 17 8', 'fill': 'none', 'stroke': 'currentColor', 'stroke-width': '2', 'stroke-linecap': 'square', 'stroke-miterlimit': '10'})),{'fill': 'currentColor', 'stroke-linejoin': 'miter', 'stroke-linecap': 'butt'}),),{'xmlns': 'http://www.w3.org/2000/svg', 'viewbox': '0 0 24 24', 'class': 'size-[1em]'}), 'Success'),{'class': 'badge badge-success'}), div((svg((g((path((),{'d': 'M7.638,3.495L2.213,12.891c-.605,1.048,.151,2.359,1.362,2.359H14.425c1.211,0,1.967-1.31,1.362-2.359L10.362,3.495c-.605-1.048-2.119-1.048-2.724,0Z', 'fill': 'none', 'stroke': 'currentColor', 'stroke-width': '1.5', 'stroke-linecap': 'round', 'stroke-linejoin': 'round'}), line((),{'x1': '9', 'y1': '6.5', 'x2': '9', 'y2': '10', 'stroke': 'currentColor', 'stroke-width': '1.5', 'fill': 'none', 'stroke-linecap': 'round', 'stroke-linejoin': 'round'}), path((),{'d': 'M9,13.569c-.552,0-1-.449-1-1s.448-1,1-1,1,.449,1,1-.448,1-1,1Z', 'fill': 'currentColor', 'stroke': 'none', 'data-stroke': 'none'})),{'fill': 'currentColor'}),),{'xmlns': 'http://www.w3.org/2000/svg', 'viewbox': '0 0 18 18', 'class': 'size-[1em]'}), 'Warning'),{'class': 'badge badge-warning'}), div((svg((g((rect((),{'transform': 'translate(-4.971 12) rotate(-45)', 'width': '20.056', 'height': '2', 'x': '1.972', 'y': '11', 'fill': 'currentColor', 'stroke-width': '0'}), path((),{'d': 'm12,23c-6.065,0-11-4.935-11-11S5.935,1,12,1s11,4.935,11,11-4.935,11-11,11Zm0-20C7.038,3,3,7.037,3,12s4.038,9,9,9,9-4.037,9-9S16.962,3,12,3Z', 'fill': 'currentColor', 'stroke-width': '0'})),{'fill': 'currentColor'}),),{'xmlns': 'http://www.w3.org/2000/svg', 'viewbox': '0 0 24 24', 'class': 'size-[1em]'}), 'Error'),{'class': 'badge badge-error'})),{})"
      ]
     },
     "execution_count": null,
     "metadata": {},
     "output_type": "execute_result"
    }
   ],
   "source": [
    "#| export\n",
    "def test_badge_icon_fasthtml_examples():\n",
    "    \"\"\"Test badge with icon from daisyUI v5 documentation.\"\"\"\n",
    "    from fasthtml.common import Div\n",
    "    from fasthtml.svg import Svg, G, Circle, Path, Polyline, Rect, Line\n",
    "    from cjm_fasthtml_tailwind.utilities.sizing import size_util\n",
    "    from cjm_fasthtml_tailwind.utilities.svg import fill, stroke, stroke_width\n",
    "    \n",
    "    # Create reusable SVG icons\n",
    "    info_icon = Svg(\n",
    "        G(\n",
    "            Circle(cx=\"12\", cy=\"12\", r=\"10\", fill=\"none\", stroke=\"currentColor\", \n",
    "                   stroke_linecap=\"square\", stroke_miterlimit=\"10\", stroke_width=\"2\"),\n",
    "            Path(d=\"m12,17v-5.5c0-.276-.224-.5-.5-.5h-1.5\", fill=\"none\", stroke=\"currentColor\", \n",
    "                 stroke_linecap=\"square\", stroke_miterlimit=\"10\", stroke_width=\"2\"),\n",
    "            Circle(cx=\"12\", cy=\"7.25\", r=\"1.25\", fill=\"currentColor\", stroke_width=\"2\"),\n",
    "            fill=\"currentColor\", stroke_linejoin=\"miter\", stroke_linecap=\"butt\"\n",
    "        ),\n",
    "        cls=str(size_util(\"[1em]\")), xmlns=\"http://www.w3.org/2000/svg\", viewBox=\"0 0 24 24\"\n",
    "    )\n",
    "    \n",
    "    success_icon = Svg(\n",
    "        G(\n",
    "            Circle(cx=\"12\", cy=\"12\", r=\"10\", fill=\"none\", stroke=\"currentColor\", \n",
    "                   stroke_linecap=\"square\", stroke_miterlimit=\"10\", stroke_width=\"2\"),\n",
    "            Polyline(points=\"7 13 10 16 17 8\", fill=\"none\", stroke=\"currentColor\", \n",
    "                      stroke_linecap=\"square\", stroke_miterlimit=\"10\", stroke_width=\"2\"),\n",
    "            fill=\"currentColor\", stroke_linejoin=\"miter\", stroke_linecap=\"butt\"\n",
    "        ),\n",
    "        cls=str(size_util(\"[1em]\")), xmlns=\"http://www.w3.org/2000/svg\", viewBox=\"0 0 24 24\"\n",
    "    )\n",
    "    \n",
    "    warning_icon = Svg(\n",
    "        G(\n",
    "            Path(d=\"M7.638,3.495L2.213,12.891c-.605,1.048,.151,2.359,1.362,2.359H14.425c1.211,0,1.967-1.31,1.362-2.359L10.362,3.495c-.605-1.048-2.119-1.048-2.724,0Z\", \n",
    "                 fill=\"none\", stroke=\"currentColor\", stroke_linecap=\"round\", stroke_linejoin=\"round\", stroke_width=\"1.5\"),\n",
    "            Line(x1=\"9\", y1=\"6.5\", x2=\"9\", y2=\"10\", fill=\"none\", stroke=\"currentColor\", \n",
    "                 stroke_linecap=\"round\", stroke_linejoin=\"round\", stroke_width=\"1.5\"),\n",
    "            Path(d=\"M9,13.569c-.552,0-1-.449-1-1s.448-1,1-1,1,.449,1,1-.448,1-1,1Z\", \n",
    "                 fill=\"currentColor\", data_stroke=\"none\", stroke=\"none\"),\n",
    "            fill=\"currentColor\"\n",
    "        ),\n",
    "        cls=str(size_util(\"[1em]\")), xmlns=\"http://www.w3.org/2000/svg\", viewBox=\"0 0 18 18\"\n",
    "    )\n",
    "    \n",
    "    error_icon = Svg(\n",
    "        G(\n",
    "            Rect(x=\"1.972\", y=\"11\", width=\"20.056\", height=\"2\", \n",
    "                 transform=\"translate(-4.971 12) rotate(-45)\", fill=\"currentColor\", stroke_width=\"0\"),\n",
    "            Path(d=\"m12,23c-6.065,0-11-4.935-11-11S5.935,1,12,1s11,4.935,11,11-4.935,11-11,11Zm0-20C7.038,3,3,7.037,3,12s4.038,9,9,9,9-4.037,9-9S16.962,3,12,3Z\", \n",
    "                 stroke_width=\"0\", fill=\"currentColor\"),\n",
    "            fill=\"currentColor\"\n",
    "        ),\n",
    "        cls=str(size_util(\"[1em]\")), xmlns=\"http://www.w3.org/2000/svg\", viewBox=\"0 0 24 24\"\n",
    "    )\n",
    "    \n",
    "    # Badge with icon\n",
    "    info_badge = Div(\n",
    "        info_icon,\n",
    "        \"Info\",\n",
    "        cls=combine_classes(badge, badge_colors.info)\n",
    "    )\n",
    "    assert info_badge.tag == \"div\"\n",
    "    assert \"badge\" in info_badge.attrs['class']\n",
    "    assert \"badge-info\" in info_badge.attrs['class']\n",
    "    assert info_badge.children[0].tag == \"svg\"\n",
    "    assert info_badge.children[1] == \"Info\"\n",
    "    \n",
    "    success_badge = Div(\n",
    "        success_icon,\n",
    "        \"Success\",\n",
    "        cls=combine_classes(badge, badge_colors.success)\n",
    "    )\n",
    "    assert \"badge-success\" in success_badge.attrs['class']\n",
    "    assert success_badge.children[0].tag == \"svg\"\n",
    "    assert success_badge.children[1] == \"Success\"\n",
    "    \n",
    "    warning_badge = Div(\n",
    "        warning_icon,\n",
    "        \"Warning\",\n",
    "        cls=combine_classes(badge, badge_colors.warning)\n",
    "    )\n",
    "    assert \"badge-warning\" in warning_badge.attrs['class']\n",
    "    assert warning_badge.children[0].tag == \"svg\"\n",
    "    assert warning_badge.children[1] == \"Warning\"\n",
    "    \n",
    "    error_badge = Div(\n",
    "        error_icon,\n",
    "        \"Error\",\n",
    "        cls=combine_classes(badge, badge_colors.error)\n",
    "    )\n",
    "    assert \"badge-error\" in error_badge.attrs['class']\n",
    "    assert error_badge.children[0].tag == \"svg\"\n",
    "    assert error_badge.children[1] == \"Error\"\n",
    "    \n",
    "    # Return all elements in a Div\n",
    "    return Div(\n",
    "        info_badge,\n",
    "        success_badge,\n",
    "        warning_badge,\n",
    "        error_badge\n",
    "    )\n",
    "\n",
    "# Run the tests\n",
    "test_badge_icon_fasthtml_examples()"
   ]
  },
  {
   "cell_type": "code",
   "execution_count": null,
   "id": "fc7f8bdc-9211-4bfa-b4cc-40c982a362a2",
   "metadata": {},
   "outputs": [
    {
     "data": {
      "text/html": [
       "\n",
       "<script>\n",
       "document.body.addEventListener('htmx:configRequest', (event) => {\n",
       "    if(event.detail.path.includes('://')) return;\n",
       "    htmx.config.selfRequestsOnly=false;\n",
       "    event.detail.path = `${location.protocol}//${location.hostname}:8000${event.detail.path}`;\n",
       "});\n",
       "</script>"
      ],
      "text/plain": [
       "<IPython.core.display.HTML object>"
      ]
     },
     "metadata": {},
     "output_type": "display_data"
    },
    {
     "data": {
      "text/html": [
       "<iframe src=\"http://localhost:8000/\" style=\"width: 100%; height: auto; border: none;\" onload=\"{\n",
       "        let frame = this;\n",
       "        window.addEventListener('message', function(e) {\n",
       "            if (e.source !== frame.contentWindow) return; // Only proceed if the message is from this iframe\n",
       "            if (e.data.height) frame.style.height = (e.data.height+1) + 'px';\n",
       "        }, false);\n",
       "    }\" allow=\"accelerometer; autoplay; camera; clipboard-read; clipboard-write; display-capture; encrypted-media; fullscreen; gamepad; geolocation; gyroscope; hid; identity-credentials-get; idle-detection; magnetometer; microphone; midi; payment; picture-in-picture; publickey-credentials-get; screen-wake-lock; serial; usb; web-share; xr-spatial-tracking\"></iframe> "
      ],
      "text/plain": [
       "<IPython.core.display.HTML object>"
      ]
     },
     "metadata": {},
     "output_type": "display_data"
    }
   ],
   "source": [
    "#| eval: false\n",
    "test_func = test_badge_icon_fasthtml_examples\n",
    "app, rt = create_test_app(theme=DaisyUITheme.LIGHT)\n",
    "\n",
    "@rt\n",
    "def index():\n",
    "    return create_test_page(test_func.__doc__.title().replace('.', ''), test_func())\n",
    "server = start_test_server(app)\n",
    "display(HTMX())\n",
    "server.stop()"
   ]
  },
  {
   "cell_type": "code",
   "execution_count": null,
   "id": "bwa8eiabvur",
   "metadata": {},
   "outputs": [
    {
     "data": {
      "text/markdown": [
       "```html\n",
       "<div>\n",
       "  <h1 class=\"text-xl font-semibold\">\n",
       "Heading 1 <span class=\"badge badge-xl\">Badge</span>  </h1>\n",
       "  <h2 class=\"text-lg font-semibold\">\n",
       "Heading 2 <span class=\"badge badge-lg\">Badge</span>  </h2>\n",
       "  <h3 class=\"text-base font-semibold\">\n",
       "Heading 3 <span class=\"badge badge-md\">Badge</span>  </h3>\n",
       "  <h4 class=\"text-sm font-semibold\">\n",
       "Heading 4 <span class=\"badge badge-sm\">Badge</span>  </h4>\n",
       "  <h5 class=\"text-xs font-semibold\">\n",
       "Heading 5 <span class=\"badge badge-xs\">Badge</span>  </h5>\n",
       "  <p class=\"text-xs\">\n",
       "Paragraph <span class=\"badge badge-xs\">Badge</span>  </p>\n",
       "</div>\n",
       "\n",
       "```"
      ],
      "text/plain": [
       "div((h1(('Heading 1 ', span(('Badge',),{'class': 'badge badge-xl'})),{'class': 'text-xl font-semibold'}), h2(('Heading 2 ', span(('Badge',),{'class': 'badge badge-lg'})),{'class': 'text-lg font-semibold'}), h3(('Heading 3 ', span(('Badge',),{'class': 'badge badge-md'})),{'class': 'text-base font-semibold'}), h4(('Heading 4 ', span(('Badge',),{'class': 'badge badge-sm'})),{'class': 'text-sm font-semibold'}), h5(('Heading 5 ', span(('Badge',),{'class': 'badge badge-xs'})),{'class': 'text-xs font-semibold'}), p(('Paragraph ', span(('Badge',),{'class': 'badge badge-xs'})),{'class': 'text-xs'})),{})"
      ]
     },
     "execution_count": null,
     "metadata": {},
     "output_type": "execute_result"
    }
   ],
   "source": [
    "#| export\n",
    "def test_badge_in_text_fasthtml_examples():\n",
    "    \"\"\"Test badge in text from daisyUI v5 documentation.\"\"\"\n",
    "    from fasthtml.common import H1, H2, H3, H4, H5, P, Span, Div\n",
    "    from cjm_fasthtml_tailwind.utilities.typography import text, font\n",
    "    \n",
    "    # Badge in a text\n",
    "    h1 = H1(\n",
    "        \"Heading 1 \",\n",
    "        Span(\"Badge\", cls=combine_classes(badge, badge_sizes.xl)),\n",
    "        cls=combine_classes(text.xl, font.semibold)\n",
    "    )\n",
    "    assert h1.tag == \"h1\"\n",
    "    assert \"text-xl\" in h1.attrs['class']\n",
    "    assert \"font-semibold\" in h1.attrs['class']\n",
    "    assert h1.children[0] == \"Heading 1 \"\n",
    "    assert h1.children[1].tag == \"span\"\n",
    "    assert \"badge\" in h1.children[1].attrs['class']\n",
    "    assert \"badge-xl\" in h1.children[1].attrs['class']\n",
    "    \n",
    "    h2 = H2(\n",
    "        \"Heading 2 \",\n",
    "        Span(\"Badge\", cls=combine_classes(badge, badge_sizes.lg)),\n",
    "        cls=combine_classes(text.lg, font.semibold)\n",
    "    )\n",
    "    assert h2.tag == \"h2\"\n",
    "    assert \"text-lg\" in h2.attrs['class']\n",
    "    assert \"badge-lg\" in h2.children[1].attrs['class']\n",
    "    \n",
    "    h3 = H3(\n",
    "        \"Heading 3 \",\n",
    "        Span(\"Badge\", cls=combine_classes(badge, badge_sizes.md)),\n",
    "        cls=combine_classes(text.base, font.semibold)\n",
    "    )\n",
    "    assert h3.tag == \"h3\"\n",
    "    assert \"text-base\" in h3.attrs['class']\n",
    "    assert \"badge-md\" in h3.children[1].attrs['class']\n",
    "    \n",
    "    h4 = H4(\n",
    "        \"Heading 4 \",\n",
    "        Span(\"Badge\", cls=combine_classes(badge, badge_sizes.sm)),\n",
    "        cls=combine_classes(text.sm, font.semibold)\n",
    "    )\n",
    "    assert h4.tag == \"h4\"\n",
    "    assert \"text-sm\" in h4.attrs['class']\n",
    "    assert \"badge-sm\" in h4.children[1].attrs['class']\n",
    "    \n",
    "    h5 = H5(\n",
    "        \"Heading 5 \",\n",
    "        Span(\"Badge\", cls=combine_classes(badge, badge_sizes.xs)),\n",
    "        cls=combine_classes(text.xs, font.semibold)\n",
    "    )\n",
    "    assert h5.tag == \"h5\"\n",
    "    assert \"text-xs\" in h5.attrs['class']\n",
    "    assert \"badge-xs\" in h5.children[1].attrs['class']\n",
    "    \n",
    "    p = P(\n",
    "        \"Paragraph \",\n",
    "        Span(\"Badge\", cls=combine_classes(badge, badge_sizes.xs)),\n",
    "        cls=str(text.xs)\n",
    "    )\n",
    "    assert p.tag == \"p\"\n",
    "    assert p.attrs['class'] == \"text-xs\"\n",
    "    assert \"badge-xs\" in p.children[1].attrs['class']\n",
    "    \n",
    "    # Return all elements in a Div\n",
    "    return Div(\n",
    "        h1,\n",
    "        h2,\n",
    "        h3,\n",
    "        h4,\n",
    "        h5,\n",
    "        p\n",
    "    )\n",
    "\n",
    "# Run the tests\n",
    "test_badge_in_text_fasthtml_examples()"
   ]
  },
  {
   "cell_type": "code",
   "execution_count": null,
   "id": "fd4633d1-a0fb-4e28-b5a3-4b06d89449d0",
   "metadata": {},
   "outputs": [
    {
     "data": {
      "text/html": [
       "\n",
       "<script>\n",
       "document.body.addEventListener('htmx:configRequest', (event) => {\n",
       "    if(event.detail.path.includes('://')) return;\n",
       "    htmx.config.selfRequestsOnly=false;\n",
       "    event.detail.path = `${location.protocol}//${location.hostname}:8000${event.detail.path}`;\n",
       "});\n",
       "</script>"
      ],
      "text/plain": [
       "<IPython.core.display.HTML object>"
      ]
     },
     "metadata": {},
     "output_type": "display_data"
    },
    {
     "data": {
      "text/html": [
       "<iframe src=\"http://localhost:8000/\" style=\"width: 100%; height: auto; border: none;\" onload=\"{\n",
       "        let frame = this;\n",
       "        window.addEventListener('message', function(e) {\n",
       "            if (e.source !== frame.contentWindow) return; // Only proceed if the message is from this iframe\n",
       "            if (e.data.height) frame.style.height = (e.data.height+1) + 'px';\n",
       "        }, false);\n",
       "    }\" allow=\"accelerometer; autoplay; camera; clipboard-read; clipboard-write; display-capture; encrypted-media; fullscreen; gamepad; geolocation; gyroscope; hid; identity-credentials-get; idle-detection; magnetometer; microphone; midi; payment; picture-in-picture; publickey-credentials-get; screen-wake-lock; serial; usb; web-share; xr-spatial-tracking\"></iframe> "
      ],
      "text/plain": [
       "<IPython.core.display.HTML object>"
      ]
     },
     "metadata": {},
     "output_type": "display_data"
    }
   ],
   "source": [
    "#| eval: false\n",
    "test_func = test_badge_in_text_fasthtml_examples\n",
    "app, rt = create_test_app(theme=DaisyUITheme.LIGHT)\n",
    "\n",
    "@rt\n",
    "def index():\n",
    "    return create_test_page(test_func.__doc__.title().replace('.', ''), test_func())\n",
    "server = start_test_server(app)\n",
    "display(HTMX())\n",
    "server.stop()"
   ]
  },
  {
   "cell_type": "code",
   "execution_count": null,
   "id": "wl5snvb7an",
   "metadata": {},
   "outputs": [
    {
     "data": {
      "text/markdown": [
       "```html\n",
       "<div>\n",
       "<button class=\"btn\">Inbox     <div class=\"badge badge-sm\">+99</div>\n",
       "</button><button class=\"btn\">Inbox     <div class=\"badge badge-sm badge-secondary\">+99</div>\n",
       "</button></div>\n",
       "\n",
       "```"
      ],
      "text/plain": [
       "div((button(('Inbox ', div(('+99',),{'class': 'badge badge-sm'})),{'class': 'btn'}), button(('Inbox ', div(('+99',),{'class': 'badge badge-sm badge-secondary'})),{'class': 'btn'})),{})"
      ]
     },
     "execution_count": null,
     "metadata": {},
     "output_type": "execute_result"
    }
   ],
   "source": [
    "#| export\n",
    "def test_badge_in_button_fasthtml_examples():\n",
    "    \"\"\"Test badge in button from daisyUI v5 documentation.\"\"\"\n",
    "    from fasthtml.common import Button, Div\n",
    "    from cjm_fasthtml_daisyui.components.actions.button import btn\n",
    "    \n",
    "    # Badge in a button\n",
    "    button1 = Button(\n",
    "        \"Inbox \",\n",
    "        Div(\"+99\", cls=combine_classes(badge, badge_sizes.sm)),\n",
    "        cls=str(btn)\n",
    "    )\n",
    "    assert button1.tag == \"button\"\n",
    "    assert button1.attrs['class'] == \"btn\"\n",
    "    assert button1.children[0] == \"Inbox \"\n",
    "    assert button1.children[1].tag == \"div\"\n",
    "    assert \"badge\" in button1.children[1].attrs['class']\n",
    "    assert \"badge-sm\" in button1.children[1].attrs['class']\n",
    "    assert button1.children[1].children[0] == \"+99\"\n",
    "    \n",
    "    button2 = Button(\n",
    "        \"Inbox \",\n",
    "        Div(\"+99\", cls=combine_classes(badge, badge_sizes.sm, badge_colors.secondary)),\n",
    "        cls=str(btn)\n",
    "    )\n",
    "    assert button2.tag == \"button\"\n",
    "    assert button2.attrs['class'] == \"btn\"\n",
    "    assert \"badge\" in button2.children[1].attrs['class']\n",
    "    assert \"badge-sm\" in button2.children[1].attrs['class']\n",
    "    assert \"badge-secondary\" in button2.children[1].attrs['class']\n",
    "    assert button2.children[1].children[0] == \"+99\"\n",
    "    \n",
    "    # Return all elements in a Div\n",
    "    return Div(\n",
    "        button1,\n",
    "        button2\n",
    "    )\n",
    "\n",
    "# Run the tests\n",
    "test_badge_in_button_fasthtml_examples()"
   ]
  },
  {
   "cell_type": "code",
   "execution_count": null,
   "id": "ad805d0b-b088-4506-a3d8-18ec0968d48d",
   "metadata": {},
   "outputs": [
    {
     "data": {
      "text/html": [
       "\n",
       "<script>\n",
       "document.body.addEventListener('htmx:configRequest', (event) => {\n",
       "    if(event.detail.path.includes('://')) return;\n",
       "    htmx.config.selfRequestsOnly=false;\n",
       "    event.detail.path = `${location.protocol}//${location.hostname}:8000${event.detail.path}`;\n",
       "});\n",
       "</script>"
      ],
      "text/plain": [
       "<IPython.core.display.HTML object>"
      ]
     },
     "metadata": {},
     "output_type": "display_data"
    },
    {
     "data": {
      "text/html": [
       "<iframe src=\"http://localhost:8000/\" style=\"width: 100%; height: auto; border: none;\" onload=\"{\n",
       "        let frame = this;\n",
       "        window.addEventListener('message', function(e) {\n",
       "            if (e.source !== frame.contentWindow) return; // Only proceed if the message is from this iframe\n",
       "            if (e.data.height) frame.style.height = (e.data.height+1) + 'px';\n",
       "        }, false);\n",
       "    }\" allow=\"accelerometer; autoplay; camera; clipboard-read; clipboard-write; display-capture; encrypted-media; fullscreen; gamepad; geolocation; gyroscope; hid; identity-credentials-get; idle-detection; magnetometer; microphone; midi; payment; picture-in-picture; publickey-credentials-get; screen-wake-lock; serial; usb; web-share; xr-spatial-tracking\"></iframe> "
      ],
      "text/plain": [
       "<IPython.core.display.HTML object>"
      ]
     },
     "metadata": {},
     "output_type": "display_data"
    }
   ],
   "source": [
    "#| eval: false\n",
    "test_func = test_badge_in_button_fasthtml_examples\n",
    "app, rt = create_test_app(theme=DaisyUITheme.LIGHT)\n",
    "\n",
    "@rt\n",
    "def index():\n",
    "    return create_test_page(test_func.__doc__.title().replace('.', ''), test_func())\n",
    "server = start_test_server(app)\n",
    "display(HTMX())\n",
    "server.stop()"
   ]
  },
  {
   "cell_type": "code",
   "execution_count": null,
   "id": "5198290f-49cb-4e41-95ee-714a8475790d",
   "metadata": {},
   "outputs": [],
   "source": []
  },
  {
   "cell_type": "code",
   "execution_count": null,
   "id": "666d93aa-d198-4dae-b2aa-2f2ebb3f2527",
   "metadata": {},
   "outputs": [],
   "source": []
  },
  {
   "cell_type": "code",
   "execution_count": null,
   "id": "ac5b0729-71c6-48d2-8282-4921e005ce96",
   "metadata": {},
   "outputs": [],
   "source": [
    "#| hide\n",
    "import nbdev; nbdev.nbdev_export()"
   ]
  }
 ],
 "metadata": {
  "kernelspec": {
   "display_name": "python3",
   "language": "python",
   "name": "python3"
  }
 },
 "nbformat": 4,
 "nbformat_minor": 5
}
