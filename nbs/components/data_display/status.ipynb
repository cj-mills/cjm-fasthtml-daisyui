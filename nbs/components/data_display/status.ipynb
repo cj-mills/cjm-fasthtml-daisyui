{
 "cells": [
  {
   "cell_type": "markdown",
   "id": "8eaf45ad-23c2-425d-8f44-4082fe4a6808",
   "metadata": {},
   "source": [
    "# status\n",
    "\n",
    "> Status is a really small icon to visually show the current status of an element, like online, offline, error, etc."
   ]
  },
  {
   "cell_type": "code",
   "execution_count": null,
   "id": "34f1a79e-39bf-4113-a9db-9578c2330e44",
   "metadata": {},
   "outputs": [],
   "source": [
    "#| default_exp components.data_display.status"
   ]
  },
  {
   "cell_type": "code",
   "execution_count": null,
   "id": "419459f4-3493-4d75-a579-135c0eab2128",
   "metadata": {},
   "outputs": [],
   "source": [
    "#| hide\n",
    "from nbdev.showdoc import *"
   ]
  },
  {
   "cell_type": "code",
   "execution_count": null,
   "id": "17fd66d1-e06b-443f-ac55-99c2a58eb0c2",
   "metadata": {},
   "outputs": [],
   "source": [
    "#| export\n",
    "from typing import Optional, Dict, Any, Union, List\n",
    "from cjm_fasthtml_tailwind.core.base import (\n",
    "    SingleValueFactory, BaseFactory, combine_classes\n",
    ")\n",
    "from cjm_fasthtml_tailwind.builders.scales import SimpleFactory, ScaledFactory, enums_to_simple_factory\n",
    "\n",
    "from cjm_fasthtml_daisyui.builders.colors import SemanticColorBrand, SemanticColorStatus\n",
    "from cjm_fasthtml_daisyui.builders.sizes import DaisyUINamedSize\n",
    "\n",
    "from fasthtml.jupyter import JupyUvi, HTMX\n",
    "from cjm_fasthtml_daisyui.core.testing import create_test_app, create_test_page, start_test_server\n",
    "\n",
    "from fasthtml.common import Div\n",
    "from cjm_fasthtml_daisyui.core.themes import DaisyUITheme\n",
    "from IPython.display import display"
   ]
  },
  {
   "cell_type": "markdown",
   "id": "5c5be9e1-650c-4434-bcfc-78f8446d7340",
   "metadata": {},
   "source": [
    "### Base Status\n",
    "\n",
    "The base status component:"
   ]
  },
  {
   "cell_type": "code",
   "execution_count": null,
   "id": "2ec0386a-f63e-4741-b77c-f1477f66ac67",
   "metadata": {},
   "outputs": [],
   "source": [
    "#| export\n",
    "status = SingleValueFactory(\"status\", \"Status icon component\") # Status icon"
   ]
  },
  {
   "cell_type": "markdown",
   "id": "ea0153b9-6b86-41d3-bce3-cf978f6b77b5",
   "metadata": {},
   "source": [
    "### Status Colors\n",
    "\n",
    "Status color variants using daisyUI semantic colors:"
   ]
  },
  {
   "cell_type": "code",
   "execution_count": null,
   "id": "b4756e80-1583-476f-aca3-c303a14dbf8b",
   "metadata": {},
   "outputs": [],
   "source": [
    "#| export\n",
    "status_colors = enums_to_simple_factory(status, [SemanticColorBrand, SemanticColorStatus], \"Status color variants using daisyUI semantic colors\") # Status color variants"
   ]
  },
  {
   "cell_type": "markdown",
   "id": "3eea52cc-ca45-43c4-8694-fae8699bb598",
   "metadata": {},
   "source": [
    "### Status Sizes\n",
    "\n",
    "Status size variants:"
   ]
  },
  {
   "cell_type": "code",
   "execution_count": null,
   "id": "2777a6e7-eb7c-4f4d-b1d8-42c96eafeefb",
   "metadata": {},
   "outputs": [],
   "source": [
    "#| export\n",
    "status_sizes = enums_to_simple_factory(status, [DaisyUINamedSize], \"Status size variants from extra small to extra large\") # Status size variants"
   ]
  },
  {
   "cell_type": "code",
   "execution_count": null,
   "id": "f2e5aada-b3f6-4df2-9c56-da9eb74312cf",
   "metadata": {},
   "outputs": [],
   "source": []
  },
  {
   "cell_type": "markdown",
   "id": "d866991d-5723-4016-a8ec-a58e7784c427",
   "metadata": {},
   "source": [
    "### Status Test Examples"
   ]
  },
  {
   "cell_type": "code",
   "execution_count": null,
   "id": "9f645267-cec3-4ce1-a146-797c4e0a1c22",
   "metadata": {},
   "outputs": [],
   "source": [
    "#| export\n",
    "def test_status_basic_examples():\n",
    "    \"\"\"Test basic status utilities.\"\"\"\n",
    "    # Basic status\n",
    "    assert str(status) == \"status\"\n",
    "    \n",
    "    # With modifiers\n",
    "    assert str(status.hover) == \"hover:status\"\n",
    "    assert str(status.md) == \"md:status\"\n",
    "    assert str(status.dark) == \"dark:status\"\n",
    "\n",
    "# Run the tests\n",
    "test_status_basic_examples()"
   ]
  },
  {
   "cell_type": "code",
   "execution_count": null,
   "id": "d61eef2f-b9b9-481a-ae66-4028084e37cc",
   "metadata": {},
   "outputs": [],
   "source": [
    "#| export\n",
    "def test_status_colors_examples():\n",
    "    \"\"\"Test status color variants.\"\"\"\n",
    "    # All color variants\n",
    "    assert str(status_colors.neutral) == \"status-neutral\"\n",
    "    assert str(status_colors.primary) == \"status-primary\"\n",
    "    assert str(status_colors.secondary) == \"status-secondary\"\n",
    "    assert str(status_colors.accent) == \"status-accent\"\n",
    "    assert str(status_colors.info) == \"status-info\"\n",
    "    assert str(status_colors.success) == \"status-success\"\n",
    "    assert str(status_colors.warning) == \"status-warning\"\n",
    "    assert str(status_colors.error) == \"status-error\"\n",
    "    \n",
    "    # With modifiers\n",
    "    assert str(status_colors.primary.hover) == \"hover:status-primary\"\n",
    "    assert str(status_colors.success.focus) == \"focus:status-success\"\n",
    "\n",
    "# Run the tests\n",
    "test_status_colors_examples()"
   ]
  },
  {
   "cell_type": "code",
   "execution_count": null,
   "id": "8c94ee05-bd72-4aa7-8092-f22e58b5f4a1",
   "metadata": {},
   "outputs": [],
   "source": [
    "#| export\n",
    "def test_status_sizes_examples():\n",
    "    \"\"\"Test status size variants.\"\"\"\n",
    "    assert str(status_sizes.xs) == \"status-xs\"\n",
    "    assert str(status_sizes.sm) == \"status-sm\"\n",
    "    assert str(status_sizes.md) == \"status-md\"\n",
    "    assert str(status_sizes.lg) == \"status-lg\"\n",
    "    assert str(status_sizes.xl) == \"status-xl\"\n",
    "    \n",
    "    # With responsive modifiers\n",
    "    assert str(status_sizes.xs.sm) == \"sm:status-xs\"\n",
    "    assert str(status_sizes.lg.md) == \"md:status-lg\"\n",
    "\n",
    "# Run the tests\n",
    "test_status_sizes_examples()"
   ]
  },
  {
   "cell_type": "code",
   "execution_count": null,
   "id": "6a951112-ae76-4a35-bd3b-e3cb721e6cf9",
   "metadata": {},
   "outputs": [
    {
     "data": {
      "text/markdown": [
       "```html\n",
       "<div>\n",
       "<span class=\"status\"></span></div>\n",
       "\n",
       "```"
      ],
      "text/plain": [
       "div((span((),{'class': 'status'}),),{})"
      ]
     },
     "execution_count": null,
     "metadata": {},
     "output_type": "execute_result"
    }
   ],
   "source": [
    "#| export\n",
    "def test_status_basic_fasthtml_examples():\n",
    "    \"\"\"Test basic status from daisyUI v5 documentation.\"\"\"\n",
    "    from fasthtml.common import Span, Div\n",
    "    \n",
    "    # Basic status\n",
    "    basic_status = Span(cls=str(status))\n",
    "    assert basic_status.tag == \"span\"\n",
    "    assert basic_status.attrs['class'] == \"status\"\n",
    "    assert basic_status.children == ()  # Empty\n",
    "    \n",
    "    # Return elements in a Div\n",
    "    return Div(basic_status)\n",
    "\n",
    "# Run the tests\n",
    "test_status_basic_fasthtml_examples()"
   ]
  },
  {
   "cell_type": "code",
   "execution_count": null,
   "id": "c1d63bf0-198e-4db8-91ad-787399f34dc6",
   "metadata": {},
   "outputs": [
    {
     "data": {
      "text/html": [
       "\n",
       "<script>\n",
       "document.body.addEventListener('htmx:configRequest', (event) => {\n",
       "    if(event.detail.path.includes('://')) return;\n",
       "    htmx.config.selfRequestsOnly=false;\n",
       "    event.detail.path = `${location.protocol}//${location.hostname}:8000${event.detail.path}`;\n",
       "});\n",
       "</script>"
      ],
      "text/plain": [
       "<IPython.core.display.HTML object>"
      ]
     },
     "metadata": {},
     "output_type": "display_data"
    },
    {
     "data": {
      "text/html": [
       "<iframe src=\"http://localhost:8000/\" style=\"width: 100%; height: auto; border: none;\" onload=\"{\n",
       "        let frame = this;\n",
       "        window.addEventListener('message', function(e) {\n",
       "            if (e.source !== frame.contentWindow) return; // Only proceed if the message is from this iframe\n",
       "            if (e.data.height) frame.style.height = (e.data.height+1) + 'px';\n",
       "        }, false);\n",
       "    }\" allow=\"accelerometer; autoplay; camera; clipboard-read; clipboard-write; display-capture; encrypted-media; fullscreen; gamepad; geolocation; gyroscope; hid; identity-credentials-get; idle-detection; magnetometer; microphone; midi; payment; picture-in-picture; publickey-credentials-get; screen-wake-lock; serial; usb; web-share; xr-spatial-tracking\"></iframe> "
      ],
      "text/plain": [
       "<IPython.core.display.HTML object>"
      ]
     },
     "metadata": {},
     "output_type": "display_data"
    }
   ],
   "source": [
    "#| eval: false\n",
    "test_func = test_status_basic_fasthtml_examples\n",
    "app, rt = create_test_app(theme=DaisyUITheme.LIGHT)\n",
    "\n",
    "@rt\n",
    "def index():\n",
    "    return create_test_page(test_func.__doc__.title().replace('.', ''), test_func())\n",
    "server = start_test_server(app)\n",
    "display(HTMX())\n",
    "server.stop()"
   ]
  },
  {
   "cell_type": "code",
   "execution_count": null,
   "id": "0bx4l1v4rzaw",
   "metadata": {},
   "outputs": [
    {
     "data": {
      "text/markdown": [
       "```html\n",
       "<div>\n",
       "  <div aria-label=\"status\" class=\"status status-xs\"></div>\n",
       "  <div aria-label=\"status\" class=\"status status-sm\"></div>\n",
       "  <div aria-label=\"status\" class=\"status status-md\"></div>\n",
       "  <div aria-label=\"status\" class=\"status status-lg\"></div>\n",
       "  <div aria-label=\"status\" class=\"status status-xl\"></div>\n",
       "</div>\n",
       "\n",
       "```"
      ],
      "text/plain": [
       "div((div((),{'aria-label': 'status', 'class': 'status status-xs'}), div((),{'aria-label': 'status', 'class': 'status status-sm'}), div((),{'aria-label': 'status', 'class': 'status status-md'}), div((),{'aria-label': 'status', 'class': 'status status-lg'}), div((),{'aria-label': 'status', 'class': 'status status-xl'})),{})"
      ]
     },
     "execution_count": null,
     "metadata": {},
     "output_type": "execute_result"
    }
   ],
   "source": [
    "#| export\n",
    "def test_status_sizes_fasthtml_examples():\n",
    "    \"\"\"Test status sizes from daisyUI v5 documentation.\"\"\"\n",
    "    from fasthtml.common import Div\n",
    "    \n",
    "    # Status sizes\n",
    "    xs_status = Div(aria_label=\"status\", cls=combine_classes(status, status_sizes.xs))\n",
    "    assert xs_status.tag == \"div\"\n",
    "    assert xs_status.attrs['aria-label'] == \"status\"\n",
    "    assert \"status\" in xs_status.attrs['class']\n",
    "    assert \"status-xs\" in xs_status.attrs['class']\n",
    "    assert xs_status.children == ()\n",
    "    \n",
    "    sm_status = Div(aria_label=\"status\", cls=combine_classes(status, status_sizes.sm))\n",
    "    assert sm_status.tag == \"div\"\n",
    "    assert sm_status.attrs['aria-label'] == \"status\"\n",
    "    assert \"status\" in sm_status.attrs['class']\n",
    "    assert \"status-sm\" in sm_status.attrs['class']\n",
    "    assert sm_status.children == ()\n",
    "    \n",
    "    md_status = Div(aria_label=\"status\", cls=combine_classes(status, status_sizes.md))\n",
    "    assert md_status.tag == \"div\"\n",
    "    assert md_status.attrs['aria-label'] == \"status\"\n",
    "    assert \"status\" in md_status.attrs['class']\n",
    "    assert \"status-md\" in md_status.attrs['class']\n",
    "    assert md_status.children == ()\n",
    "    \n",
    "    lg_status = Div(aria_label=\"status\", cls=combine_classes(status, status_sizes.lg))\n",
    "    assert lg_status.tag == \"div\"\n",
    "    assert lg_status.attrs['aria-label'] == \"status\"\n",
    "    assert \"status\" in lg_status.attrs['class']\n",
    "    assert \"status-lg\" in lg_status.attrs['class']\n",
    "    assert lg_status.children == ()\n",
    "    \n",
    "    xl_status = Div(aria_label=\"status\", cls=combine_classes(status, status_sizes.xl))\n",
    "    assert xl_status.tag == \"div\"\n",
    "    assert xl_status.attrs['aria-label'] == \"status\"\n",
    "    assert \"status\" in xl_status.attrs['class']\n",
    "    assert \"status-xl\" in xl_status.attrs['class']\n",
    "    assert xl_status.children == ()\n",
    "    \n",
    "    # Return all elements in a Div\n",
    "    return Div(xs_status, sm_status, md_status, lg_status, xl_status)\n",
    "\n",
    "# Run the tests\n",
    "test_status_sizes_fasthtml_examples()"
   ]
  },
  {
   "cell_type": "code",
   "execution_count": null,
   "id": "b70faa35-e423-4f48-ae32-8eca73ed3945",
   "metadata": {},
   "outputs": [
    {
     "data": {
      "text/html": [
       "\n",
       "<script>\n",
       "document.body.addEventListener('htmx:configRequest', (event) => {\n",
       "    if(event.detail.path.includes('://')) return;\n",
       "    htmx.config.selfRequestsOnly=false;\n",
       "    event.detail.path = `${location.protocol}//${location.hostname}:8000${event.detail.path}`;\n",
       "});\n",
       "</script>"
      ],
      "text/plain": [
       "<IPython.core.display.HTML object>"
      ]
     },
     "metadata": {},
     "output_type": "display_data"
    },
    {
     "data": {
      "text/html": [
       "<iframe src=\"http://localhost:8000/\" style=\"width: 100%; height: auto; border: none;\" onload=\"{\n",
       "        let frame = this;\n",
       "        window.addEventListener('message', function(e) {\n",
       "            if (e.source !== frame.contentWindow) return; // Only proceed if the message is from this iframe\n",
       "            if (e.data.height) frame.style.height = (e.data.height+1) + 'px';\n",
       "        }, false);\n",
       "    }\" allow=\"accelerometer; autoplay; camera; clipboard-read; clipboard-write; display-capture; encrypted-media; fullscreen; gamepad; geolocation; gyroscope; hid; identity-credentials-get; idle-detection; magnetometer; microphone; midi; payment; picture-in-picture; publickey-credentials-get; screen-wake-lock; serial; usb; web-share; xr-spatial-tracking\"></iframe> "
      ],
      "text/plain": [
       "<IPython.core.display.HTML object>"
      ]
     },
     "metadata": {},
     "output_type": "display_data"
    }
   ],
   "source": [
    "#| eval: false\n",
    "test_func = test_status_sizes_fasthtml_examples\n",
    "app, rt = create_test_app(theme=DaisyUITheme.LIGHT)\n",
    "\n",
    "@rt\n",
    "def index():\n",
    "    return create_test_page(test_func.__doc__.title().replace('.', ''), test_func())\n",
    "server = start_test_server(app)\n",
    "display(HTMX())\n",
    "server.stop()"
   ]
  },
  {
   "cell_type": "code",
   "execution_count": null,
   "id": "uqwkc0i3w69",
   "metadata": {},
   "outputs": [
    {
     "data": {
      "text/markdown": [
       "```html\n",
       "<div>\n",
       "  <div aria-label=\"status\" class=\"status status-primary\"></div>\n",
       "  <div aria-label=\"status\" class=\"status status-secondary\"></div>\n",
       "  <div aria-label=\"status\" class=\"status status-accent\"></div>\n",
       "  <div aria-label=\"status\" class=\"status status-neutral\"></div>\n",
       "  <div aria-label=\"info\" class=\"status status-info\"></div>\n",
       "  <div aria-label=\"success\" class=\"status status-success\"></div>\n",
       "  <div aria-label=\"warning\" class=\"status status-warning\"></div>\n",
       "  <div aria-label=\"error\" class=\"status status-error\"></div>\n",
       "</div>\n",
       "\n",
       "```"
      ],
      "text/plain": [
       "div((div((),{'aria-label': 'status', 'class': 'status status-primary'}), div((),{'aria-label': 'status', 'class': 'status status-secondary'}), div((),{'aria-label': 'status', 'class': 'status status-accent'}), div((),{'aria-label': 'status', 'class': 'status status-neutral'}), div((),{'aria-label': 'info', 'class': 'status status-info'}), div((),{'aria-label': 'success', 'class': 'status status-success'}), div((),{'aria-label': 'warning', 'class': 'status status-warning'}), div((),{'aria-label': 'error', 'class': 'status status-error'})),{})"
      ]
     },
     "execution_count": null,
     "metadata": {},
     "output_type": "execute_result"
    }
   ],
   "source": [
    "#| export\n",
    "def test_status_colors_fasthtml_examples():\n",
    "    \"\"\"Test status with colors from daisyUI v5 documentation.\"\"\"\n",
    "    from fasthtml.common import Div\n",
    "    \n",
    "    # Status with colors\n",
    "    primary_status = Div(aria_label=\"status\", cls=combine_classes(status, status_colors.primary))\n",
    "    assert primary_status.tag == \"div\"\n",
    "    assert primary_status.attrs['aria-label'] == \"status\"\n",
    "    assert \"status\" in primary_status.attrs['class']\n",
    "    assert \"status-primary\" in primary_status.attrs['class']\n",
    "    assert primary_status.children == ()\n",
    "    \n",
    "    secondary_status = Div(aria_label=\"status\", cls=combine_classes(status, status_colors.secondary))\n",
    "    assert secondary_status.tag == \"div\"\n",
    "    assert secondary_status.attrs['aria-label'] == \"status\"\n",
    "    assert \"status\" in secondary_status.attrs['class']\n",
    "    assert \"status-secondary\" in secondary_status.attrs['class']\n",
    "    assert secondary_status.children == ()\n",
    "    \n",
    "    accent_status = Div(aria_label=\"status\", cls=combine_classes(status, status_colors.accent))\n",
    "    assert accent_status.tag == \"div\"\n",
    "    assert accent_status.attrs['aria-label'] == \"status\"\n",
    "    assert \"status\" in accent_status.attrs['class']\n",
    "    assert \"status-accent\" in accent_status.attrs['class']\n",
    "    assert accent_status.children == ()\n",
    "    \n",
    "    neutral_status = Div(aria_label=\"status\", cls=combine_classes(status, status_colors.neutral))\n",
    "    assert neutral_status.tag == \"div\"\n",
    "    assert neutral_status.attrs['aria-label'] == \"status\"\n",
    "    assert \"status\" in neutral_status.attrs['class']\n",
    "    assert \"status-neutral\" in neutral_status.attrs['class']\n",
    "    assert neutral_status.children == ()\n",
    "    \n",
    "    info_status = Div(aria_label=\"info\", cls=combine_classes(status, status_colors.info))\n",
    "    assert info_status.tag == \"div\"\n",
    "    assert info_status.attrs['aria-label'] == \"info\"\n",
    "    assert \"status\" in info_status.attrs['class']\n",
    "    assert \"status-info\" in info_status.attrs['class']\n",
    "    assert info_status.children == ()\n",
    "    \n",
    "    success_status = Div(aria_label=\"success\", cls=combine_classes(status, status_colors.success))\n",
    "    assert success_status.tag == \"div\"\n",
    "    assert success_status.attrs['aria-label'] == \"success\"\n",
    "    assert \"status\" in success_status.attrs['class']\n",
    "    assert \"status-success\" in success_status.attrs['class']\n",
    "    assert success_status.children == ()\n",
    "    \n",
    "    warning_status = Div(aria_label=\"warning\", cls=combine_classes(status, status_colors.warning))\n",
    "    assert warning_status.tag == \"div\"\n",
    "    assert warning_status.attrs['aria-label'] == \"warning\"\n",
    "    assert \"status\" in warning_status.attrs['class']\n",
    "    assert \"status-warning\" in warning_status.attrs['class']\n",
    "    assert warning_status.children == ()\n",
    "    \n",
    "    error_status = Div(aria_label=\"error\", cls=combine_classes(status, status_colors.error))\n",
    "    assert error_status.tag == \"div\"\n",
    "    assert error_status.attrs['aria-label'] == \"error\"\n",
    "    assert \"status\" in error_status.attrs['class']\n",
    "    assert \"status-error\" in error_status.attrs['class']\n",
    "    assert error_status.children == ()\n",
    "    \n",
    "    # Return all elements in a Div\n",
    "    return Div(\n",
    "        primary_status, secondary_status, accent_status, neutral_status,\n",
    "        info_status, success_status, warning_status, error_status\n",
    "    )\n",
    "\n",
    "# Run the tests\n",
    "test_status_colors_fasthtml_examples()"
   ]
  },
  {
   "cell_type": "code",
   "execution_count": null,
   "id": "ec46f508-dbe5-42af-a8e4-37a19bda067f",
   "metadata": {},
   "outputs": [
    {
     "data": {
      "text/html": [
       "\n",
       "<script>\n",
       "document.body.addEventListener('htmx:configRequest', (event) => {\n",
       "    if(event.detail.path.includes('://')) return;\n",
       "    htmx.config.selfRequestsOnly=false;\n",
       "    event.detail.path = `${location.protocol}//${location.hostname}:8000${event.detail.path}`;\n",
       "});\n",
       "</script>"
      ],
      "text/plain": [
       "<IPython.core.display.HTML object>"
      ]
     },
     "metadata": {},
     "output_type": "display_data"
    },
    {
     "data": {
      "text/html": [
       "<iframe src=\"http://localhost:8000/\" style=\"width: 100%; height: auto; border: none;\" onload=\"{\n",
       "        let frame = this;\n",
       "        window.addEventListener('message', function(e) {\n",
       "            if (e.source !== frame.contentWindow) return; // Only proceed if the message is from this iframe\n",
       "            if (e.data.height) frame.style.height = (e.data.height+1) + 'px';\n",
       "        }, false);\n",
       "    }\" allow=\"accelerometer; autoplay; camera; clipboard-read; clipboard-write; display-capture; encrypted-media; fullscreen; gamepad; geolocation; gyroscope; hid; identity-credentials-get; idle-detection; magnetometer; microphone; midi; payment; picture-in-picture; publickey-credentials-get; screen-wake-lock; serial; usb; web-share; xr-spatial-tracking\"></iframe> "
      ],
      "text/plain": [
       "<IPython.core.display.HTML object>"
      ]
     },
     "metadata": {},
     "output_type": "display_data"
    }
   ],
   "source": [
    "#| eval: false\n",
    "test_func = test_status_colors_fasthtml_examples\n",
    "app, rt = create_test_app(theme=DaisyUITheme.LIGHT)\n",
    "\n",
    "@rt\n",
    "def index():\n",
    "    return create_test_page(test_func.__doc__.title().replace('.', ''), test_func())\n",
    "server = start_test_server(app)\n",
    "display(HTMX())\n",
    "server.stop()"
   ]
  },
  {
   "cell_type": "code",
   "execution_count": null,
   "id": "77uwwncrgu8",
   "metadata": {},
   "outputs": [
    {
     "data": {
      "text/markdown": [
       "```html\n",
       "<div>\n",
       "  <div class=\"inline-grid *:[grid-area:1/1]\">\n",
       "    <div class=\"status status-error animate-ping\"></div>\n",
       "    <div class=\"status status-error\"></div>\n",
       " Server is down  </div>\n",
       "  <div>\n",
       "    <div class=\"status status-info animate-bounce\"></div>\n",
       " Unread messages  </div>\n",
       "</div>\n",
       "\n",
       "```"
      ],
      "text/plain": [
       "div((div((div((),{'class': 'status status-error animate-ping'}), div((),{'class': 'status status-error'}), ' Server is down'),{'class': 'inline-grid *:[grid-area:1/1]'}), div((div((),{'class': 'status status-info animate-bounce'}), ' Unread messages'),{})),{})"
      ]
     },
     "execution_count": null,
     "metadata": {},
     "output_type": "execute_result"
    }
   ],
   "source": [
    "#| export\n",
    "def test_status_animation_fasthtml_examples():\n",
    "    \"\"\"Test status with ping and bounce animations from daisyUI v5 documentation.\"\"\"\n",
    "    from fasthtml.common import Div\n",
    "    from cjm_fasthtml_tailwind.utilities.layout import display_tw\n",
    "    from cjm_fasthtml_tailwind.utilities.transitions_and_animation import animate\n",
    "    \n",
    "    # Status with ping animation\n",
    "    ping_container = Div(\n",
    "        Div(cls=combine_classes(status, status_colors.error, animate.ping)),\n",
    "        Div(cls=combine_classes(status, status_colors.error)),\n",
    "        \" Server is down\",\n",
    "        cls=combine_classes(display_tw.inline_grid, \"*:[grid-area:1/1]\")\n",
    "    )\n",
    "    assert ping_container.tag == \"div\"\n",
    "    assert \"inline-grid\" in ping_container.attrs['class']\n",
    "    assert \"*:[grid-area:1/1]\" in ping_container.attrs['class']\n",
    "    assert len(ping_container.children) == 3\n",
    "    \n",
    "    # First child - status with ping\n",
    "    ping_status = ping_container.children[0]\n",
    "    assert ping_status.tag == \"div\"\n",
    "    assert \"status\" in ping_status.attrs['class']\n",
    "    assert \"status-error\" in ping_status.attrs['class']\n",
    "    assert \"animate-ping\" in ping_status.attrs['class']\n",
    "    assert ping_status.children == ()\n",
    "    \n",
    "    # Second child - static status\n",
    "    static_status = ping_container.children[1]\n",
    "    assert static_status.tag == \"div\"\n",
    "    assert \"status\" in static_status.attrs['class']\n",
    "    assert \"status-error\" in static_status.attrs['class']\n",
    "    assert \"animate-ping\" not in static_status.attrs['class']\n",
    "    assert static_status.children == ()\n",
    "    \n",
    "    # Third child - text\n",
    "    assert ping_container.children[2] == \" Server is down\"\n",
    "    \n",
    "    # Status with bounce animation\n",
    "    bounce_status = Div(\n",
    "        Div(cls=combine_classes(status, status_colors.info, animate.bounce)),\n",
    "        \" Unread messages\"\n",
    "    )\n",
    "    assert bounce_status.tag == \"div\"\n",
    "    assert len(bounce_status.children) == 2\n",
    "    \n",
    "    # First child - status with bounce\n",
    "    bounce_indicator = bounce_status.children[0]\n",
    "    assert bounce_indicator.tag == \"div\"\n",
    "    assert \"status\" in bounce_indicator.attrs['class']\n",
    "    assert \"status-info\" in bounce_indicator.attrs['class']\n",
    "    assert \"animate-bounce\" in bounce_indicator.attrs['class']\n",
    "    assert bounce_indicator.children == ()\n",
    "    \n",
    "    # Second child - text\n",
    "    assert bounce_status.children[1] == \" Unread messages\"\n",
    "    \n",
    "    # Return all elements in a Div\n",
    "    return Div(ping_container, bounce_status)\n",
    "\n",
    "# Run the tests\n",
    "test_status_animation_fasthtml_examples()"
   ]
  },
  {
   "cell_type": "code",
   "execution_count": null,
   "id": "ad805d0b-b088-4506-a3d8-18ec0968d48d",
   "metadata": {},
   "outputs": [
    {
     "data": {
      "text/html": [
       "\n",
       "<script>\n",
       "document.body.addEventListener('htmx:configRequest', (event) => {\n",
       "    if(event.detail.path.includes('://')) return;\n",
       "    htmx.config.selfRequestsOnly=false;\n",
       "    event.detail.path = `${location.protocol}//${location.hostname}:8000${event.detail.path}`;\n",
       "});\n",
       "</script>"
      ],
      "text/plain": [
       "<IPython.core.display.HTML object>"
      ]
     },
     "metadata": {},
     "output_type": "display_data"
    },
    {
     "data": {
      "text/html": [
       "<iframe src=\"http://localhost:8000/\" style=\"width: 100%; height: auto; border: none;\" onload=\"{\n",
       "        let frame = this;\n",
       "        window.addEventListener('message', function(e) {\n",
       "            if (e.source !== frame.contentWindow) return; // Only proceed if the message is from this iframe\n",
       "            if (e.data.height) frame.style.height = (e.data.height+1) + 'px';\n",
       "        }, false);\n",
       "    }\" allow=\"accelerometer; autoplay; camera; clipboard-read; clipboard-write; display-capture; encrypted-media; fullscreen; gamepad; geolocation; gyroscope; hid; identity-credentials-get; idle-detection; magnetometer; microphone; midi; payment; picture-in-picture; publickey-credentials-get; screen-wake-lock; serial; usb; web-share; xr-spatial-tracking\"></iframe> "
      ],
      "text/plain": [
       "<IPython.core.display.HTML object>"
      ]
     },
     "metadata": {},
     "output_type": "display_data"
    }
   ],
   "source": [
    "#| eval: false\n",
    "test_func = test_status_animation_fasthtml_examples\n",
    "app, rt = create_test_app(theme=DaisyUITheme.LIGHT)\n",
    "\n",
    "@rt\n",
    "def index():\n",
    "    return create_test_page(test_func.__doc__.title().replace('.', ''), test_func())\n",
    "server = start_test_server(app)\n",
    "display(HTMX())\n",
    "server.stop()"
   ]
  },
  {
   "cell_type": "code",
   "execution_count": null,
   "id": "5198290f-49cb-4e41-95ee-714a8475790d",
   "metadata": {},
   "outputs": [],
   "source": []
  },
  {
   "cell_type": "code",
   "execution_count": null,
   "id": "666d93aa-d198-4dae-b2aa-2f2ebb3f2527",
   "metadata": {},
   "outputs": [],
   "source": []
  },
  {
   "cell_type": "code",
   "execution_count": null,
   "id": "ac5b0729-71c6-48d2-8282-4921e005ce96",
   "metadata": {},
   "outputs": [],
   "source": [
    "#| hide\n",
    "import nbdev; nbdev.nbdev_export()"
   ]
  }
 ],
 "metadata": {
  "kernelspec": {
   "display_name": "python3",
   "language": "python",
   "name": "python3"
  }
 },
 "nbformat": 4,
 "nbformat_minor": 5
}
