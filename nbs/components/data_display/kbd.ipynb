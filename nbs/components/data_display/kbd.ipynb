{
 "cells": [
  {
   "cell_type": "markdown",
   "id": "f4f9ffb0-870d-498a-ae5f-8a54d8869081",
   "metadata": {},
   "source": [
    "# kbd\n",
    "\n",
    "> Kbd is used to display keyboard shortcuts."
   ]
  },
  {
   "cell_type": "code",
   "execution_count": null,
   "id": "34f1a79e-39bf-4113-a9db-9578c2330e44",
   "metadata": {},
   "outputs": [],
   "source": [
    "#| default_exp components.data_display.kbd"
   ]
  },
  {
   "cell_type": "code",
   "execution_count": null,
   "id": "419459f4-3493-4d75-a579-135c0eab2128",
   "metadata": {},
   "outputs": [],
   "source": [
    "#| hide\n",
    "from nbdev.showdoc import *"
   ]
  },
  {
   "cell_type": "code",
   "execution_count": null,
   "id": "17fd66d1-e06b-443f-ac55-99c2a58eb0c2",
   "metadata": {},
   "outputs": [],
   "source": [
    "#| export\n",
    "from typing import Optional, Dict, Any, Union, List\n",
    "from cjm_fasthtml_tailwind.core.base import (\n",
    "    SingleValueFactory, BaseFactory, combine_classes\n",
    ")\n",
    "from cjm_fasthtml_tailwind.builders.scales import SimpleFactory, ScaledFactory, enums_to_simple_factory\n",
    "\n",
    "from cjm_fasthtml_daisyui.builders.sizes import DaisyUINamedSize\n",
    "\n",
    "from fasthtml.jupyter import JupyUvi, HTMX\n",
    "from cjm_fasthtml_daisyui.core.testing import create_test_app, create_test_page, start_test_server\n",
    "\n",
    "from fasthtml.common import Div\n",
    "from cjm_fasthtml_daisyui.core.themes import DaisyUITheme\n",
    "from IPython.display import display"
   ]
  },
  {
   "cell_type": "markdown",
   "id": "053fb5eb-6dae-4743-ac2a-bf24a2818921",
   "metadata": {},
   "source": [
    "### Base Kbd\n",
    "\n",
    "The base kbd component:"
   ]
  },
  {
   "cell_type": "code",
   "execution_count": null,
   "id": "6d2080cd-50e1-449c-b3c2-50156f1a2dc5",
   "metadata": {},
   "outputs": [],
   "source": [
    "#| exports\n",
    "kbd = SingleValueFactory(\"kbd\", \"Keyboard key or shortcut display component\") # Kbd component"
   ]
  },
  {
   "cell_type": "markdown",
   "id": "10d4a66a-4d78-4c6b-81f8-2a41331026cd",
   "metadata": {},
   "source": [
    "### Kbd Sizes\n",
    "\n",
    "Kbd size variants:"
   ]
  },
  {
   "cell_type": "code",
   "execution_count": null,
   "id": "da8668a6-763b-4176-8f2f-084423e97e74",
   "metadata": {},
   "outputs": [],
   "source": [
    "#| exports\n",
    "kbd_sizes = enums_to_simple_factory(kbd, [DaisyUINamedSize], \"Kbd size variants from extra small to extra large\") # Kbd size variants"
   ]
  },
  {
   "cell_type": "code",
   "execution_count": null,
   "id": "efdf8855-ba8e-4331-a22e-f2654142f1fb",
   "metadata": {},
   "outputs": [],
   "source": []
  },
  {
   "cell_type": "markdown",
   "id": "9e2d6df3-4e84-48d7-ae38-8ce99bbdd823",
   "metadata": {},
   "source": [
    "### Kbd Test Examples"
   ]
  },
  {
   "cell_type": "code",
   "execution_count": null,
   "id": "f98df667-3b51-4e1e-bc6a-fb69a7c2f509",
   "metadata": {},
   "outputs": [],
   "source": [
    "#|exports\n",
    "def test_kbd_basic_examples():\n",
    "    \"\"\"Test basic kbd utilities.\"\"\"\n",
    "    # Basic kbd\n",
    "    assert str(kbd) == \"kbd\"\n",
    "    \n",
    "    # With modifiers\n",
    "    assert str(kbd.hover) == \"hover:kbd\"\n",
    "    assert str(kbd.md) == \"md:kbd\"\n",
    "    assert str(kbd.dark) == \"dark:kbd\"\n",
    "\n",
    "# Run the tests\n",
    "test_kbd_basic_examples()"
   ]
  },
  {
   "cell_type": "code",
   "execution_count": null,
   "id": "d0046da4-92d3-4f29-8a3e-442f40aef0df",
   "metadata": {},
   "outputs": [],
   "source": [
    "#|exports\n",
    "def test_kbd_sizes_examples():\n",
    "    \"\"\"Test kbd size variants.\"\"\"\n",
    "    assert str(kbd_sizes.xs) == \"kbd-xs\"\n",
    "    assert str(kbd_sizes.sm) == \"kbd-sm\"\n",
    "    assert str(kbd_sizes.md) == \"kbd-md\"\n",
    "    assert str(kbd_sizes.lg) == \"kbd-lg\"\n",
    "    assert str(kbd_sizes.xl) == \"kbd-xl\"\n",
    "    \n",
    "    # With responsive modifiers\n",
    "    assert str(kbd_sizes.xs.sm) == \"sm:kbd-xs\"\n",
    "    assert str(kbd_sizes.lg.md) == \"md:kbd-lg\"\n",
    "\n",
    "# Run the tests\n",
    "test_kbd_sizes_examples()"
   ]
  },
  {
   "cell_type": "code",
   "execution_count": null,
   "id": "d00e768d-9aa4-4293-8c2c-72911e0b234b",
   "metadata": {},
   "outputs": [
    {
     "data": {
      "text/markdown": [
       "```html\n",
       "<div>\n",
       "<kbd class=\"kbd\">K</kbd><kbd class=\"kbd kbd-xs\">Xsmall</kbd><kbd class=\"kbd kbd-sm\">Small</kbd><kbd class=\"kbd kbd-md\">Medium</kbd><kbd class=\"kbd kbd-lg\">Large</kbd><kbd class=\"kbd kbd-xl\">Xlarge</kbd><kbd class=\"kbd kbd-sm\">F</kbd></div>\n",
       "\n",
       "```"
      ],
      "text/plain": [
       "div((kbd(('K',),{'class': 'kbd'}), kbd(('Xsmall',),{'class': 'kbd kbd-xs'}), kbd(('Small',),{'class': 'kbd kbd-sm'}), kbd(('Medium',),{'class': 'kbd kbd-md'}), kbd(('Large',),{'class': 'kbd kbd-lg'}), kbd(('Xlarge',),{'class': 'kbd kbd-xl'}), kbd(('F',),{'class': 'kbd kbd-sm'})),{})"
      ]
     },
     "execution_count": null,
     "metadata": {},
     "output_type": "execute_result"
    }
   ],
   "source": [
    "#|exports\n",
    "def test_kbd_basic_fasthtml_examples():\n",
    "    \"\"\"Test basic kbd and sizes from daisyUI v5 documentation.\"\"\"\n",
    "    from fasthtml.common import Kbd, Div\n",
    "    from cjm_fasthtml_tailwind.core.base import combine_classes\n",
    "    \n",
    "    # Basic kbd\n",
    "    basic_kbd = Kbd(\"K\", cls=str(kbd))\n",
    "    assert basic_kbd.tag == \"kbd\"\n",
    "    assert basic_kbd.attrs['class'] == \"kbd\"\n",
    "    assert basic_kbd.children[0] == \"K\"\n",
    "    \n",
    "    # Kbd sizes\n",
    "    kbd_xs_elem = Kbd(\"Xsmall\", cls=combine_classes(kbd, kbd_sizes.xs))\n",
    "    assert kbd_xs_elem.tag == \"kbd\"\n",
    "    assert \"kbd\" in kbd_xs_elem.attrs['class']\n",
    "    assert \"kbd-xs\" in kbd_xs_elem.attrs['class']\n",
    "    assert kbd_xs_elem.children[0] == \"Xsmall\"\n",
    "    \n",
    "    kbd_sm_elem = Kbd(\"Small\", cls=combine_classes(kbd, kbd_sizes.sm))\n",
    "    assert \"kbd\" in kbd_sm_elem.attrs['class']\n",
    "    assert \"kbd-sm\" in kbd_sm_elem.attrs['class']\n",
    "    assert kbd_sm_elem.children[0] == \"Small\"\n",
    "    \n",
    "    kbd_md_elem = Kbd(\"Medium\", cls=combine_classes(kbd, kbd_sizes.md))\n",
    "    assert \"kbd\" in kbd_md_elem.attrs['class']\n",
    "    assert \"kbd-md\" in kbd_md_elem.attrs['class']\n",
    "    assert kbd_md_elem.children[0] == \"Medium\"\n",
    "    \n",
    "    kbd_lg_elem = Kbd(\"Large\", cls=combine_classes(kbd, kbd_sizes.lg))\n",
    "    assert \"kbd\" in kbd_lg_elem.attrs['class']\n",
    "    assert \"kbd-lg\" in kbd_lg_elem.attrs['class']\n",
    "    assert kbd_lg_elem.children[0] == \"Large\"\n",
    "    \n",
    "    kbd_xl_elem = Kbd(\"Xlarge\", cls=combine_classes(kbd, kbd_sizes.xl))\n",
    "    assert \"kbd\" in kbd_xl_elem.attrs['class']\n",
    "    assert \"kbd-xl\" in kbd_xl_elem.attrs['class']\n",
    "    assert kbd_xl_elem.children[0] == \"Xlarge\"\n",
    "    \n",
    "    # In text example\n",
    "    kbd_in_text = Kbd(\"F\", cls=combine_classes(kbd, kbd_sizes.sm))\n",
    "    assert kbd_in_text.tag == \"kbd\"\n",
    "    assert \"kbd\" in kbd_in_text.attrs['class']\n",
    "    assert \"kbd-sm\" in kbd_in_text.attrs['class']\n",
    "    assert kbd_in_text.children[0] == \"F\"\n",
    "    \n",
    "    # Return all elements in a Div\n",
    "    return Div(\n",
    "        basic_kbd,\n",
    "        kbd_xs_elem,\n",
    "        kbd_sm_elem,\n",
    "        kbd_md_elem,\n",
    "        kbd_lg_elem,\n",
    "        kbd_xl_elem,\n",
    "        kbd_in_text\n",
    "    )\n",
    "\n",
    "# Run the tests\n",
    "test_kbd_basic_fasthtml_examples()"
   ]
  },
  {
   "cell_type": "code",
   "execution_count": null,
   "id": "bb8d88a5-9154-4c26-a280-8fbbb926d3d9",
   "metadata": {},
   "outputs": [
    {
     "data": {
      "text/html": [
       "\n",
       "<script>\n",
       "document.body.addEventListener('htmx:configRequest', (event) => {\n",
       "    if(event.detail.path.includes('://')) return;\n",
       "    htmx.config.selfRequestsOnly=false;\n",
       "    event.detail.path = `${location.protocol}//${location.hostname}:8000${event.detail.path}`;\n",
       "});\n",
       "</script>"
      ],
      "text/plain": [
       "<IPython.core.display.HTML object>"
      ]
     },
     "metadata": {},
     "output_type": "display_data"
    },
    {
     "data": {
      "text/html": [
       "<iframe src=\"http://localhost:8000/\" style=\"width: 100%; height: auto; border: none;\" onload=\"{\n",
       "        let frame = this;\n",
       "        window.addEventListener('message', function(e) {\n",
       "            if (e.source !== frame.contentWindow) return; // Only proceed if the message is from this iframe\n",
       "            if (e.data.height) frame.style.height = (e.data.height+1) + 'px';\n",
       "        }, false);\n",
       "    }\" allow=\"accelerometer; autoplay; camera; clipboard-read; clipboard-write; display-capture; encrypted-media; fullscreen; gamepad; geolocation; gyroscope; hid; identity-credentials-get; idle-detection; magnetometer; microphone; midi; payment; picture-in-picture; publickey-credentials-get; screen-wake-lock; serial; usb; web-share; xr-spatial-tracking\"></iframe> "
      ],
      "text/plain": [
       "<IPython.core.display.HTML object>"
      ]
     },
     "metadata": {},
     "output_type": "display_data"
    }
   ],
   "source": [
    "#| eval: false\n",
    "#| output: false\n",
    "test_func = test_kbd_basic_fasthtml_examples\n",
    "app, rt = create_test_app(theme=DaisyUITheme.LIGHT)\n",
    "\n",
    "@rt\n",
    "def index():\n",
    "    return create_test_page(test_func.__doc__.title().replace('.', ''), test_func())\n",
    "server = start_test_server(app)\n",
    "display(HTMX())\n",
    "server.stop()"
   ]
  },
  {
   "cell_type": "code",
   "execution_count": null,
   "id": "b431ddf6-56cb-42d7-bf63-e2316aa837d5",
   "metadata": {},
   "outputs": [
    {
     "data": {
      "text/markdown": [
       "```html\n",
       "<div>\n",
       "  <div>\n",
       "<kbd class=\"kbd\">ctrl</kbd><kbd class=\"kbd\">shift</kbd><kbd class=\"kbd\">del</kbd>  </div>\n",
       "  <div>\n",
       "<kbd class=\"kbd\">⌘</kbd><kbd class=\"kbd\">⌥</kbd><kbd class=\"kbd\">⇧</kbd><kbd class=\"kbd\">⌃</kbd>  </div>\n",
       "</div>\n",
       "\n",
       "```"
      ],
      "text/plain": [
       "div((div((kbd(('ctrl',),{'class': 'kbd'}), kbd(('shift',),{'class': 'kbd'}), kbd(('del',),{'class': 'kbd'})),{}), div((kbd(('⌘',),{'class': 'kbd'}), kbd(('⌥',),{'class': 'kbd'}), kbd(('⇧',),{'class': 'kbd'}), kbd(('⌃',),{'class': 'kbd'})),{})),{})"
      ]
     },
     "execution_count": null,
     "metadata": {},
     "output_type": "execute_result"
    }
   ],
   "source": [
    "#|exports\n",
    "def test_kbd_combination_fasthtml_examples():\n",
    "    \"\"\"Test key combinations and function keys from daisyUI v5 documentation.\"\"\"\n",
    "    from fasthtml.common import Kbd, Div\n",
    "    from cjm_fasthtml_tailwind.core.base import combine_classes\n",
    "    \n",
    "    # Key combination\n",
    "    ctrl = Kbd(\"ctrl\", cls=str(kbd))\n",
    "    shift = Kbd(\"shift\", cls=str(kbd))\n",
    "    delete = Kbd(\"del\", cls=str(kbd))\n",
    "    \n",
    "    assert ctrl.tag == \"kbd\"\n",
    "    assert ctrl.attrs['class'] == \"kbd\"\n",
    "    assert ctrl.children[0] == \"ctrl\"\n",
    "    \n",
    "    assert shift.tag == \"kbd\"\n",
    "    assert shift.attrs['class'] == \"kbd\"\n",
    "    assert shift.children[0] == \"shift\"\n",
    "    \n",
    "    assert delete.tag == \"kbd\"\n",
    "    assert delete.attrs['class'] == \"kbd\"\n",
    "    assert delete.children[0] == \"del\"\n",
    "    \n",
    "    # Function Keys\n",
    "    cmd = Kbd(\"⌘\", cls=str(kbd))\n",
    "    option = Kbd(\"⌥\", cls=str(kbd))\n",
    "    shift_key = Kbd(\"⇧\", cls=str(kbd))\n",
    "    ctrl_key = Kbd(\"⌃\", cls=str(kbd))\n",
    "    \n",
    "    assert cmd.tag == \"kbd\"\n",
    "    assert cmd.attrs['class'] == \"kbd\"\n",
    "    assert cmd.children[0] == \"⌘\"\n",
    "    \n",
    "    assert option.tag == \"kbd\"\n",
    "    assert option.attrs['class'] == \"kbd\"\n",
    "    assert option.children[0] == \"⌥\"\n",
    "    \n",
    "    assert shift_key.tag == \"kbd\"\n",
    "    assert shift_key.attrs['class'] == \"kbd\"\n",
    "    assert shift_key.children[0] == \"⇧\"\n",
    "    \n",
    "    assert ctrl_key.tag == \"kbd\"\n",
    "    assert ctrl_key.attrs['class'] == \"kbd\"\n",
    "    assert ctrl_key.children[0] == \"⌃\"\n",
    "    \n",
    "    # Return all elements in a Div\n",
    "    return Div(\n",
    "        # Key combination row\n",
    "        Div(ctrl, shift, delete),\n",
    "        # Function keys row\n",
    "        Div(cmd, option, shift_key, ctrl_key)\n",
    "    )\n",
    "\n",
    "# Run the tests\n",
    "test_kbd_combination_fasthtml_examples()"
   ]
  },
  {
   "cell_type": "code",
   "execution_count": null,
   "id": "6d96925d-b61d-4832-a741-660ef415c783",
   "metadata": {},
   "outputs": [
    {
     "data": {
      "text/html": [
       "\n",
       "<script>\n",
       "document.body.addEventListener('htmx:configRequest', (event) => {\n",
       "    if(event.detail.path.includes('://')) return;\n",
       "    htmx.config.selfRequestsOnly=false;\n",
       "    event.detail.path = `${location.protocol}//${location.hostname}:8000${event.detail.path}`;\n",
       "});\n",
       "</script>"
      ],
      "text/plain": [
       "<IPython.core.display.HTML object>"
      ]
     },
     "metadata": {},
     "output_type": "display_data"
    },
    {
     "data": {
      "text/html": [
       "<iframe src=\"http://localhost:8000/\" style=\"width: 100%; height: auto; border: none;\" onload=\"{\n",
       "        let frame = this;\n",
       "        window.addEventListener('message', function(e) {\n",
       "            if (e.source !== frame.contentWindow) return; // Only proceed if the message is from this iframe\n",
       "            if (e.data.height) frame.style.height = (e.data.height+1) + 'px';\n",
       "        }, false);\n",
       "    }\" allow=\"accelerometer; autoplay; camera; clipboard-read; clipboard-write; display-capture; encrypted-media; fullscreen; gamepad; geolocation; gyroscope; hid; identity-credentials-get; idle-detection; magnetometer; microphone; midi; payment; picture-in-picture; publickey-credentials-get; screen-wake-lock; serial; usb; web-share; xr-spatial-tracking\"></iframe> "
      ],
      "text/plain": [
       "<IPython.core.display.HTML object>"
      ]
     },
     "metadata": {},
     "output_type": "display_data"
    }
   ],
   "source": [
    "#| eval: false\n",
    "#| output: false\n",
    "test_func = test_kbd_combination_fasthtml_examples\n",
    "app, rt = create_test_app(theme=DaisyUITheme.LIGHT)\n",
    "\n",
    "@rt\n",
    "def index():\n",
    "    return create_test_page(test_func.__doc__.title().replace('.', ''), test_func())\n",
    "server = start_test_server(app)\n",
    "display(HTMX())\n",
    "server.stop()"
   ]
  },
  {
   "cell_type": "code",
   "execution_count": null,
   "id": "f0cfb96e-a1f3-43d7-b159-02e620cc3d36",
   "metadata": {},
   "outputs": [
    {
     "data": {
      "text/markdown": [
       "```html\n",
       "<div>\n",
       "  <div>\n",
       "    <div class=\"m-y-1 flex w-full justify-center gap-1\">\n",
       "<kbd class=\"kbd\">q</kbd><kbd class=\"kbd\">w</kbd><kbd class=\"kbd\">e</kbd><kbd class=\"kbd\">r</kbd><kbd class=\"kbd\">t</kbd><kbd class=\"kbd\">y</kbd><kbd class=\"kbd\">u</kbd><kbd class=\"kbd\">i</kbd><kbd class=\"kbd\">o</kbd><kbd class=\"kbd\">p</kbd>    </div>\n",
       "    <div class=\"m-y-1 flex w-full justify-center gap-1\">\n",
       "<kbd class=\"kbd\">a</kbd><kbd class=\"kbd\">s</kbd><kbd class=\"kbd\">d</kbd><kbd class=\"kbd\">f</kbd><kbd class=\"kbd\">g</kbd><kbd class=\"kbd\">h</kbd><kbd class=\"kbd\">j</kbd><kbd class=\"kbd\">k</kbd><kbd class=\"kbd\">l</kbd>    </div>\n",
       "    <div class=\"m-y-1 flex w-full justify-center gap-1\">\n",
       "<kbd class=\"kbd\">z</kbd><kbd class=\"kbd\">x</kbd><kbd class=\"kbd\">c</kbd><kbd class=\"kbd\">v</kbd><kbd class=\"kbd\">b</kbd><kbd class=\"kbd\">n</kbd><kbd class=\"kbd\">m</kbd><kbd class=\"kbd\">/</kbd>    </div>\n",
       "  </div>\n",
       "  <div>\n",
       "    <div class=\"flex w-full justify-center\">\n",
       "<kbd class=\"kbd\">▲</kbd>    </div>\n",
       "    <div class=\"flex w-full justify-center gap-12\">\n",
       "<kbd class=\"kbd\">◀︎</kbd><kbd class=\"kbd\">▶︎</kbd>    </div>\n",
       "    <div class=\"flex w-full justify-center\">\n",
       "<kbd class=\"kbd\">▼</kbd>    </div>\n",
       "  </div>\n",
       "</div>\n",
       "\n",
       "```"
      ],
      "text/plain": [
       "div((div((div((kbd(('q',),{'class': 'kbd'}), kbd(('w',),{'class': 'kbd'}), kbd(('e',),{'class': 'kbd'}), kbd(('r',),{'class': 'kbd'}), kbd(('t',),{'class': 'kbd'}), kbd(('y',),{'class': 'kbd'}), kbd(('u',),{'class': 'kbd'}), kbd(('i',),{'class': 'kbd'}), kbd(('o',),{'class': 'kbd'}), kbd(('p',),{'class': 'kbd'})),{'class': 'm-y-1 flex w-full justify-center gap-1'}), div((kbd(('a',),{'class': 'kbd'}), kbd(('s',),{'class': 'kbd'}), kbd(('d',),{'class': 'kbd'}), kbd(('f',),{'class': 'kbd'}), kbd(('g',),{'class': 'kbd'}), kbd(('h',),{'class': 'kbd'}), kbd(('j',),{'class': 'kbd'}), kbd(('k',),{'class': 'kbd'}), kbd(('l',),{'class': 'kbd'})),{'class': 'm-y-1 flex w-full justify-center gap-1'}), div((kbd(('z',),{'class': 'kbd'}), kbd(('x',),{'class': 'kbd'}), kbd(('c',),{'class': 'kbd'}), kbd(('v',),{'class': 'kbd'}), kbd(('b',),{'class': 'kbd'}), kbd(('n',),{'class': 'kbd'}), kbd(('m',),{'class': 'kbd'}), kbd(('/',),{'class': 'kbd'})),{'class': 'm-y-1 flex w-full justify-center gap-1'})),{}), div((div((kbd(('▲',),{'class': 'kbd'}),),{'class': 'flex w-full justify-center'}), div((kbd(('◀︎',),{'class': 'kbd'}), kbd(('▶︎',),{'class': 'kbd'})),{'class': 'flex w-full justify-center gap-12'}), div((kbd(('▼',),{'class': 'kbd'}),),{'class': 'flex w-full justify-center'})),{})),{})"
      ]
     },
     "execution_count": null,
     "metadata": {},
     "output_type": "execute_result"
    }
   ],
   "source": [
    "#|exports\n",
    "def test_kbd_keyboard_fasthtml_examples():\n",
    "    \"\"\"Test full keyboard and arrow keys from daisyUI v5 documentation.\"\"\"\n",
    "    from fasthtml.common import Kbd, Div\n",
    "    from cjm_fasthtml_tailwind.utilities.spacing import m\n",
    "    from cjm_fasthtml_tailwind.utilities.flexbox_and_grid import gap, justify\n",
    "    from cjm_fasthtml_tailwind.utilities.sizing import w\n",
    "    from cjm_fasthtml_tailwind.utilities.layout import display_tw\n",
    "    from cjm_fasthtml_tailwind.core.base import combine_classes\n",
    "    \n",
    "    # Full keyboard - first row\n",
    "    row1 = Div(\n",
    "        Kbd(\"q\", cls=str(kbd)),\n",
    "        Kbd(\"w\", cls=str(kbd)),\n",
    "        Kbd(\"e\", cls=str(kbd)),\n",
    "        Kbd(\"r\", cls=str(kbd)),\n",
    "        Kbd(\"t\", cls=str(kbd)),\n",
    "        Kbd(\"y\", cls=str(kbd)),\n",
    "        Kbd(\"u\", cls=str(kbd)),\n",
    "        Kbd(\"i\", cls=str(kbd)),\n",
    "        Kbd(\"o\", cls=str(kbd)),\n",
    "        Kbd(\"p\", cls=str(kbd)),\n",
    "        cls=combine_classes(m.y_1, display_tw.flex, w.full, justify.center, gap._1)\n",
    "    )\n",
    "    assert row1.tag == \"div\"\n",
    "    assert \"m-y-1\" in row1.attrs['class']\n",
    "    assert \"flex\" in row1.attrs['class']\n",
    "    assert \"w-full\" in row1.attrs['class']\n",
    "    assert \"justify-center\" in row1.attrs['class']\n",
    "    assert \"gap-1\" in row1.attrs['class']\n",
    "    assert len(row1.children) == 10\n",
    "    for i, letter in enumerate(\"qwertyuiop\"):\n",
    "        assert row1.children[i].tag == \"kbd\"\n",
    "        assert row1.children[i].attrs['class'] == \"kbd\"\n",
    "        assert row1.children[i].children[0] == letter\n",
    "    \n",
    "    # Second row\n",
    "    row2 = Div(\n",
    "        Kbd(\"a\", cls=str(kbd)),\n",
    "        Kbd(\"s\", cls=str(kbd)),\n",
    "        Kbd(\"d\", cls=str(kbd)),\n",
    "        Kbd(\"f\", cls=str(kbd)),\n",
    "        Kbd(\"g\", cls=str(kbd)),\n",
    "        Kbd(\"h\", cls=str(kbd)),\n",
    "        Kbd(\"j\", cls=str(kbd)),\n",
    "        Kbd(\"k\", cls=str(kbd)),\n",
    "        Kbd(\"l\", cls=str(kbd)),\n",
    "        cls=combine_classes(m.y_1, display_tw.flex, w.full, justify.center, gap._1)\n",
    "    )\n",
    "    assert len(row2.children) == 9\n",
    "    for i, letter in enumerate(\"asdfghjkl\"):\n",
    "        assert row2.children[i].children[0] == letter\n",
    "    \n",
    "    # Third row\n",
    "    row3 = Div(\n",
    "        Kbd(\"z\", cls=str(kbd)),\n",
    "        Kbd(\"x\", cls=str(kbd)),\n",
    "        Kbd(\"c\", cls=str(kbd)),\n",
    "        Kbd(\"v\", cls=str(kbd)),\n",
    "        Kbd(\"b\", cls=str(kbd)),\n",
    "        Kbd(\"n\", cls=str(kbd)),\n",
    "        Kbd(\"m\", cls=str(kbd)),\n",
    "        Kbd(\"/\", cls=str(kbd)),\n",
    "        cls=combine_classes(m.y_1, display_tw.flex, w.full, justify.center, gap._1)\n",
    "    )\n",
    "    assert len(row3.children) == 8\n",
    "    for i, char in enumerate(\"zxcvbnm/\"):\n",
    "        assert row3.children[i].children[0] == char\n",
    "    \n",
    "    # Arrow Keys\n",
    "    # Up arrow\n",
    "    up_row = Div(\n",
    "        Kbd(\"▲\", cls=str(kbd)),\n",
    "        cls=combine_classes(display_tw.flex, w.full, justify.center)\n",
    "    )\n",
    "    assert up_row.tag == \"div\"\n",
    "    assert \"flex\" in up_row.attrs['class']\n",
    "    assert \"w-full\" in up_row.attrs['class']\n",
    "    assert \"justify-center\" in up_row.attrs['class']\n",
    "    assert len(up_row.children) == 1\n",
    "    assert up_row.children[0].children[0] == \"▲\"\n",
    "    \n",
    "    # Left and right arrows\n",
    "    middle_row = Div(\n",
    "        Kbd(\"◀︎\", cls=str(kbd)),\n",
    "        Kbd(\"▶︎\", cls=str(kbd)),\n",
    "        cls=combine_classes(display_tw.flex, w.full, justify.center, gap._12)\n",
    "    )\n",
    "    assert \"gap-12\" in middle_row.attrs['class']\n",
    "    assert len(middle_row.children) == 2\n",
    "    assert middle_row.children[0].children[0] == \"◀︎\"\n",
    "    assert middle_row.children[1].children[0] == \"▶︎\"\n",
    "    \n",
    "    # Down arrow\n",
    "    down_row = Div(\n",
    "        Kbd(\"▼\", cls=str(kbd)),\n",
    "        cls=combine_classes(display_tw.flex, w.full, justify.center)\n",
    "    )\n",
    "    assert len(down_row.children) == 1\n",
    "    assert down_row.children[0].children[0] == \"▼\"\n",
    "    \n",
    "    # Return all elements in a Div\n",
    "    return Div(\n",
    "        # Full keyboard\n",
    "        Div(row1, row2, row3),\n",
    "        # Arrow keys\n",
    "        Div(up_row, middle_row, down_row)\n",
    "    )\n",
    "\n",
    "# Run the tests\n",
    "test_kbd_keyboard_fasthtml_examples()"
   ]
  },
  {
   "cell_type": "code",
   "execution_count": null,
   "id": "3f2bac72-6afc-4f35-bcd5-650dd0a3abe4",
   "metadata": {},
   "outputs": [
    {
     "data": {
      "text/html": [
       "\n",
       "<script>\n",
       "document.body.addEventListener('htmx:configRequest', (event) => {\n",
       "    if(event.detail.path.includes('://')) return;\n",
       "    htmx.config.selfRequestsOnly=false;\n",
       "    event.detail.path = `${location.protocol}//${location.hostname}:8000${event.detail.path}`;\n",
       "});\n",
       "</script>"
      ],
      "text/plain": [
       "<IPython.core.display.HTML object>"
      ]
     },
     "metadata": {},
     "output_type": "display_data"
    },
    {
     "data": {
      "text/html": [
       "<iframe src=\"http://localhost:8000/\" style=\"width: 100%; height: auto; border: none;\" onload=\"{\n",
       "        let frame = this;\n",
       "        window.addEventListener('message', function(e) {\n",
       "            if (e.source !== frame.contentWindow) return; // Only proceed if the message is from this iframe\n",
       "            if (e.data.height) frame.style.height = (e.data.height+1) + 'px';\n",
       "        }, false);\n",
       "    }\" allow=\"accelerometer; autoplay; camera; clipboard-read; clipboard-write; display-capture; encrypted-media; fullscreen; gamepad; geolocation; gyroscope; hid; identity-credentials-get; idle-detection; magnetometer; microphone; midi; payment; picture-in-picture; publickey-credentials-get; screen-wake-lock; serial; usb; web-share; xr-spatial-tracking\"></iframe> "
      ],
      "text/plain": [
       "<IPython.core.display.HTML object>"
      ]
     },
     "metadata": {},
     "output_type": "display_data"
    }
   ],
   "source": [
    "#| eval: false\n",
    "#| output: false\n",
    "test_func = test_kbd_keyboard_fasthtml_examples\n",
    "app, rt = create_test_app(theme=DaisyUITheme.LIGHT)\n",
    "\n",
    "@rt\n",
    "def index():\n",
    "    return create_test_page(test_func.__doc__.title().replace('.', ''), test_func())\n",
    "server = start_test_server(app)\n",
    "display(HTMX())\n",
    "server.stop()"
   ]
  },
  {
   "cell_type": "code",
   "execution_count": null,
   "id": "ad805d0b-b088-4506-a3d8-18ec0968d48d",
   "metadata": {},
   "outputs": [],
   "source": []
  },
  {
   "cell_type": "code",
   "execution_count": null,
   "id": "5198290f-49cb-4e41-95ee-714a8475790d",
   "metadata": {},
   "outputs": [],
   "source": []
  },
  {
   "cell_type": "code",
   "execution_count": null,
   "id": "666d93aa-d198-4dae-b2aa-2f2ebb3f2527",
   "metadata": {},
   "outputs": [],
   "source": []
  },
  {
   "cell_type": "code",
   "execution_count": null,
   "id": "ac5b0729-71c6-48d2-8282-4921e005ce96",
   "metadata": {},
   "outputs": [],
   "source": [
    "#| hide\n",
    "import nbdev; nbdev.nbdev_export()"
   ]
  }
 ],
 "metadata": {
  "kernelspec": {
   "display_name": "python3",
   "language": "python",
   "name": "python3"
  }
 },
 "nbformat": 4,
 "nbformat_minor": 5
}
