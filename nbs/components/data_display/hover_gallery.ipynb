{
 "cells": [
  {
   "cell_type": "markdown",
   "id": "02a0114a-b0a1-4277-ba02-e959d39f966b",
   "metadata": {},
   "source": [
    "# hover gallery\n",
    "\n",
    "> Hover Gallery is container of images. The first image is visible be default and when we hover it horizontally, other images show up. Hover Gallery is useful for product cards in ecommerce sites, portfoilios or in image galleries. Hover Gallery can include up to 10 images."
   ]
  },
  {
   "cell_type": "code",
   "execution_count": null,
   "id": "34f1a79e-39bf-4113-a9db-9578c2330e44",
   "metadata": {},
   "outputs": [],
   "source": [
    "#| default_exp components.data_display.hover_gallery"
   ]
  },
  {
   "cell_type": "code",
   "execution_count": null,
   "id": "419459f4-3493-4d75-a579-135c0eab2128",
   "metadata": {},
   "outputs": [],
   "source": [
    "#| hide\n",
    "from nbdev.showdoc import *"
   ]
  },
  {
   "cell_type": "code",
   "execution_count": null,
   "id": "17fd66d1-e06b-443f-ac55-99c2a58eb0c2",
   "metadata": {},
   "outputs": [],
   "source": [
    "#| export\n",
    "from typing import Optional, Dict, Any, Union, List\n",
    "from cjm_fasthtml_tailwind.core.base import (\n",
    "    SingleValueFactory, BaseFactory, combine_classes\n",
    ")\n",
    "from cjm_fasthtml_tailwind.builders.scales import SimpleFactory\n",
    "\n",
    "from fasthtml.jupyter import JupyUvi, HTMX\n",
    "from cjm_fasthtml_daisyui.core.testing import create_test_app, create_test_page, start_test_server\n",
    "\n",
    "from fasthtml.common import Div\n",
    "from cjm_fasthtml_daisyui.core.themes import DaisyUITheme\n",
    "from IPython.display import display"
   ]
  },
  {
   "cell_type": "markdown",
   "id": "1548cadf-59a5-4aba-8bca-41030dcc7f62",
   "metadata": {},
   "source": [
    "### Base Hover Gallery Component\n",
    "\n",
    "The base hover gallery components:"
   ]
  },
  {
   "cell_type": "code",
   "execution_count": null,
   "id": "34dd03b2-d2df-4eda-b9fa-bea19b3704e0",
   "metadata": {},
   "outputs": [],
   "source": [
    "#| exports\n",
    "hover_gallery = SingleValueFactory(\"hover-gallery\", \"Container <div> or <figure> that includes images \") # Hover gallery container"
   ]
  },
  {
   "cell_type": "markdown",
   "id": "e56b37db-94e7-4197-b3ac-11e0bc89746c",
   "metadata": {},
   "source": [
    "### Hover Gallery Test Examples"
   ]
  },
  {
   "cell_type": "code",
   "execution_count": null,
   "id": "aa6f6056-38de-4b47-ad16-54ead6ce21d9",
   "metadata": {},
   "outputs": [],
   "source": [
    "#|exports\n",
    "def test_hover_gallery_basic_examples():\n",
    "    \"\"\"Test basic hover gallery utilities.\"\"\"\n",
    "    # Basic components\n",
    "    assert str(hover_gallery) == \"hover-gallery\"\n",
    "    \n",
    "    # With modifiers\n",
    "    assert str(hover_gallery.hover) == \"hover:hover-gallery\"\n",
    "    assert str(hover_gallery.md) == \"md:hover-gallery\"\n",
    "    assert str(hover_gallery.dark) == \"dark:hover-gallery\"\n",
    "\n",
    "# Run the tests\n",
    "test_hover_gallery_basic_examples()"
   ]
  },
  {
   "cell_type": "code",
   "execution_count": null,
   "id": "82948d34-da0d-4654-9d4e-648744e2f35f",
   "metadata": {},
   "outputs": [
    {
     "data": {
      "text/markdown": [
       "```html\n",
       "<div>\n",
       "<figure class=\"hover-gallery max-w-60\"><img src=\"https://img.daisyui.com/images/stock/daisyui-hat-1.webp\"><img src=\"https://img.daisyui.com/images/stock/daisyui-hat-2.webp\"><img src=\"https://img.daisyui.com/images/stock/daisyui-hat-3.webp\"><img src=\"https://img.daisyui.com/images/stock/daisyui-hat-4.webp\"></figure></div>\n",
       "\n",
       "```"
      ],
      "text/plain": [
       "div((figure((img((),{'src': 'https://img.daisyui.com/images/stock/daisyui-hat-1.webp'}), img((),{'src': 'https://img.daisyui.com/images/stock/daisyui-hat-2.webp'}), img((),{'src': 'https://img.daisyui.com/images/stock/daisyui-hat-3.webp'}), img((),{'src': 'https://img.daisyui.com/images/stock/daisyui-hat-4.webp'})),{'class': 'hover-gallery max-w-60'}),),{})"
      ]
     },
     "execution_count": null,
     "metadata": {},
     "output_type": "execute_result"
    }
   ],
   "source": [
    "#|exports\n",
    "def test_hover_gallery_basic_fasthtml_examples():\n",
    "    \"\"\"Test basic hover gallery from daisyUI v5 documentation.\"\"\"\n",
    "    from fasthtml.common import Figure, Div, Img\n",
    "    from cjm_fasthtml_tailwind.utilities.layout import aspect\n",
    "    from cjm_fasthtml_tailwind.utilities.sizing import max_w\n",
    "    from cjm_fasthtml_tailwind.utilities.typography import font_size, font_weight, font_family, text_color\n",
    "    from cjm_fasthtml_tailwind.utilities.flexbox_and_grid import place_content, grid_display\n",
    "    from cjm_fasthtml_tailwind.utilities.layout import display_tw\n",
    "    from cjm_fasthtml_tailwind.core.base import combine_classes\n",
    "    from cjm_fasthtml_daisyui.utilities.semantic_colors import bg_dui, text_dui\n",
    "    \n",
    "    # Basic hover gallery\n",
    "    img_gallery = Figure(\n",
    "        Img(src=\"https://img.daisyui.com/images/stock/daisyui-hat-1.webp\"),\n",
    "        Img(src=\"https://img.daisyui.com/images/stock/daisyui-hat-2.webp\"),\n",
    "        Img(src=\"https://img.daisyui.com/images/stock/daisyui-hat-3.webp\"),\n",
    "        Img(src=\"https://img.daisyui.com/images/stock/daisyui-hat-4.webp\"),\n",
    "        cls=combine_classes(hover_gallery, max_w(60))\n",
    "    )\n",
    "    assert img_gallery.tag == \"figure\"\n",
    "    assert \"hover-gallery\" in img_gallery.attrs['class']\n",
    "    \n",
    "    # Return the components in a Div\n",
    "    return Div(img_gallery)\n",
    "\n",
    "# Run the tests\n",
    "test_hover_gallery_basic_fasthtml_examples()"
   ]
  },
  {
   "cell_type": "code",
   "execution_count": null,
   "id": "24c9e236-8877-47da-8b1e-44aa41417eff",
   "metadata": {},
   "outputs": [
    {
     "data": {
      "text/html": [
       "\n",
       "<script>\n",
       "document.body.addEventListener('htmx:configRequest', (event) => {\n",
       "    if(event.detail.path.includes('://')) return;\n",
       "    htmx.config.selfRequestsOnly=false;\n",
       "    event.detail.path = `${location.protocol}//${location.hostname}:8000${event.detail.path}`;\n",
       "});\n",
       "</script>"
      ],
      "text/plain": [
       "<IPython.core.display.HTML object>"
      ]
     },
     "metadata": {},
     "output_type": "display_data"
    },
    {
     "data": {
      "text/html": [
       "<iframe src=\"http://localhost:8000/\" style=\"width: 100%; height: auto; border: none;\" onload=\"{\n",
       "        let frame = this;\n",
       "        window.addEventListener('message', function(e) {\n",
       "            if (e.source !== frame.contentWindow) return; // Only proceed if the message is from this iframe\n",
       "            if (e.data.height) frame.style.height = (e.data.height+1) + 'px';\n",
       "        }, false);\n",
       "    }\" allow=\"accelerometer; autoplay; camera; clipboard-read; clipboard-write; display-capture; encrypted-media; fullscreen; gamepad; geolocation; gyroscope; hid; identity-credentials-get; idle-detection; magnetometer; microphone; midi; payment; picture-in-picture; publickey-credentials-get; screen-wake-lock; serial; usb; web-share; xr-spatial-tracking\"></iframe> "
      ],
      "text/plain": [
       "<IPython.core.display.HTML object>"
      ]
     },
     "metadata": {},
     "output_type": "display_data"
    }
   ],
   "source": [
    "#| eval: false\n",
    "#| output: false\n",
    "test_func = test_hover_gallery_basic_fasthtml_examples\n",
    "app, rt = create_test_app(theme=DaisyUITheme.LIGHT)\n",
    "\n",
    "@rt\n",
    "def index():\n",
    "    return create_test_page(test_func.__doc__.title().replace('.', ''), test_func())\n",
    "server = start_test_server(app)\n",
    "display(HTMX())\n",
    "server.stop()"
   ]
  },
  {
   "cell_type": "code",
   "execution_count": null,
   "id": "1c1b0638-49b0-43a6-91a9-640260aaf3d6",
   "metadata": {},
   "outputs": [
    {
     "data": {
      "text/markdown": [
       "```html\n",
       "<div>\n",
       "  <div class=\"card max-w-60 card-sm bg-base-200 shadow\">\n",
       "<figure class=\"hover-gallery\"><img src=\"https://img.daisyui.com/images/stock/daisyui-hat-1.webp\"><img src=\"https://img.daisyui.com/images/stock/daisyui-hat-2.webp\"><img src=\"https://img.daisyui.com/images/stock/daisyui-hat-3.webp\"><img src=\"https://img.daisyui.com/images/stock/daisyui-hat-4.webp\"></figure>    <div class=\"card-body\">\n",
       "      <h2 class=\"card-title flex justify-between\">\n",
       "daisyUI Hat<span class=\"font-normal\">$25</span>      </h2>\n",
       "      <p>High Quality classic cap hat with stitch logo</p>\n",
       "    </div>\n",
       "  </div>\n",
       "</div>\n",
       "\n",
       "```"
      ],
      "text/plain": [
       "div((div((figure((img((),{'src': 'https://img.daisyui.com/images/stock/daisyui-hat-1.webp'}), img((),{'src': 'https://img.daisyui.com/images/stock/daisyui-hat-2.webp'}), img((),{'src': 'https://img.daisyui.com/images/stock/daisyui-hat-3.webp'}), img((),{'src': 'https://img.daisyui.com/images/stock/daisyui-hat-4.webp'})),{'class': 'hover-gallery'}), div((h2(('daisyUI Hat', span(('$25',),{'class': 'font-normal'})),{'class': 'card-title flex justify-between'}), p(('High Quality classic cap hat with stitch logo',),{})),{'class': 'card-body'})),{'class': 'card max-w-60 card-sm bg-base-200 shadow'}),),{})"
      ]
     },
     "execution_count": null,
     "metadata": {},
     "output_type": "execute_result"
    }
   ],
   "source": [
    "#|exports\n",
    "def test_hover_gallery_card_fasthtml_examples():\n",
    "    \"\"\"Test basic hover gallery in card from daisyUI v5 documentation.\"\"\"\n",
    "    from fasthtml.common import Figure, Div, Img, H2, Span, P\n",
    "    from cjm_fasthtml_tailwind.utilities.layout import aspect\n",
    "    from cjm_fasthtml_tailwind.utilities.sizing import max_w\n",
    "    from cjm_fasthtml_tailwind.utilities.typography import font_size, font_weight, font_family, text_color\n",
    "    from cjm_fasthtml_tailwind.utilities.flexbox_and_grid import place_content, grid_display, flex_display, justify\n",
    "    from cjm_fasthtml_tailwind.utilities.layout import display_tw\n",
    "    from cjm_fasthtml_tailwind.utilities.effects import shadow\n",
    "    from cjm_fasthtml_tailwind.core.base import combine_classes\n",
    "    from cjm_fasthtml_daisyui.utilities.semantic_colors import bg_dui, text_dui\n",
    "    from cjm_fasthtml_daisyui.components.data_display.card import card, card_title, card_sizes, card_body\n",
    "\n",
    "    # Basic hover gallery\n",
    "    img_gallery = Figure(\n",
    "        Img(src=\"https://img.daisyui.com/images/stock/daisyui-hat-1.webp\"),\n",
    "        Img(src=\"https://img.daisyui.com/images/stock/daisyui-hat-2.webp\"),\n",
    "        Img(src=\"https://img.daisyui.com/images/stock/daisyui-hat-3.webp\"),\n",
    "        Img(src=\"https://img.daisyui.com/images/stock/daisyui-hat-4.webp\"),\n",
    "        cls=combine_classes(hover_gallery)\n",
    "    )\n",
    "    assert img_gallery.tag == \"figure\"\n",
    "    assert \"hover-gallery\" in img_gallery.attrs['class']\n",
    "\n",
    "    img_gallery_card = Div(\n",
    "        img_gallery,\n",
    "        Div(\n",
    "            H2(\n",
    "                \"daisyUI Hat\", \n",
    "                Span(\"$25\", cls=combine_classes(font_weight.normal)), \n",
    "                cls=combine_classes(card_title, flex_display, justify.between)),\n",
    "            P(\"High Quality classic cap hat with stitch logo\"),\n",
    "            cls=combine_classes(card_body)\n",
    "        ),\n",
    "        cls=combine_classes(card, max_w(60), card_sizes.sm, bg_dui.base_200, shadow())\n",
    "    )\n",
    "    # Return the components in a Div\n",
    "    return Div(img_gallery_card)\n",
    "\n",
    "# Run the tests\n",
    "test_hover_gallery_card_fasthtml_examples()"
   ]
  },
  {
   "cell_type": "code",
   "execution_count": null,
   "id": "cf8684d1-bf5d-4df0-a103-956073a128ef",
   "metadata": {},
   "outputs": [
    {
     "data": {
      "text/html": [
       "\n",
       "<script>\n",
       "document.body.addEventListener('htmx:configRequest', (event) => {\n",
       "    if(event.detail.path.includes('://')) return;\n",
       "    htmx.config.selfRequestsOnly=false;\n",
       "    event.detail.path = `${location.protocol}//${location.hostname}:8000${event.detail.path}`;\n",
       "});\n",
       "</script>"
      ],
      "text/plain": [
       "<IPython.core.display.HTML object>"
      ]
     },
     "metadata": {},
     "output_type": "display_data"
    },
    {
     "data": {
      "text/html": [
       "<iframe src=\"http://localhost:8000/\" style=\"width: 100%; height: auto; border: none;\" onload=\"{\n",
       "        let frame = this;\n",
       "        window.addEventListener('message', function(e) {\n",
       "            if (e.source !== frame.contentWindow) return; // Only proceed if the message is from this iframe\n",
       "            if (e.data.height) frame.style.height = (e.data.height+1) + 'px';\n",
       "        }, false);\n",
       "    }\" allow=\"accelerometer; autoplay; camera; clipboard-read; clipboard-write; display-capture; encrypted-media; fullscreen; gamepad; geolocation; gyroscope; hid; identity-credentials-get; idle-detection; magnetometer; microphone; midi; payment; picture-in-picture; publickey-credentials-get; screen-wake-lock; serial; usb; web-share; xr-spatial-tracking\"></iframe> "
      ],
      "text/plain": [
       "<IPython.core.display.HTML object>"
      ]
     },
     "metadata": {},
     "output_type": "display_data"
    }
   ],
   "source": [
    "#| eval: false\n",
    "#| output: false\n",
    "test_func = test_hover_gallery_card_fasthtml_examples\n",
    "app, rt = create_test_app(theme=DaisyUITheme.LIGHT)\n",
    "\n",
    "@rt\n",
    "def index():\n",
    "    return create_test_page(test_func.__doc__.title().replace('.', ''), test_func())\n",
    "server = start_test_server(app)\n",
    "display(HTMX())\n",
    "server.stop()"
   ]
  },
  {
   "cell_type": "code",
   "execution_count": null,
   "id": "ad805d0b-b088-4506-a3d8-18ec0968d48d",
   "metadata": {},
   "outputs": [],
   "source": []
  },
  {
   "cell_type": "code",
   "execution_count": null,
   "id": "5198290f-49cb-4e41-95ee-714a8475790d",
   "metadata": {},
   "outputs": [],
   "source": []
  },
  {
   "cell_type": "code",
   "execution_count": null,
   "id": "666d93aa-d198-4dae-b2aa-2f2ebb3f2527",
   "metadata": {},
   "outputs": [],
   "source": []
  },
  {
   "cell_type": "code",
   "execution_count": null,
   "id": "ac5b0729-71c6-48d2-8282-4921e005ce96",
   "metadata": {},
   "outputs": [],
   "source": [
    "#| hide\n",
    "import nbdev; nbdev.nbdev_export()"
   ]
  }
 ],
 "metadata": {
  "kernelspec": {
   "display_name": "python3",
   "language": "python",
   "name": "python3"
  }
 },
 "nbformat": 4,
 "nbformat_minor": 5
}
