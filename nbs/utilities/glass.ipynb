{
 "cells": [
  {
   "cell_type": "markdown",
   "id": "cd8f276b-7a54-454a-a8bf-84b33720bc95",
   "metadata": {},
   "source": [
    "# Glass Effect Utility\n",
    "\n",
    "> The glass utility creates a glass morphism effect on elements:"
   ]
  },
  {
   "cell_type": "code",
   "execution_count": null,
   "id": "55907c5d-82e0-4be1-a990-554b158f071c",
   "metadata": {},
   "outputs": [],
   "source": [
    "#| default_exp utilities.glass"
   ]
  },
  {
   "cell_type": "code",
   "execution_count": null,
   "id": "03a1fb99-299c-4376-9a86-0bb6eed34cc9",
   "metadata": {},
   "outputs": [],
   "source": [
    "#| hide\n",
    "from nbdev.showdoc import *"
   ]
  },
  {
   "cell_type": "code",
   "execution_count": null,
   "id": "b54097c6-95d2-4d26-bffa-0831045387a3",
   "metadata": {},
   "outputs": [],
   "source": [
    "#| export\n",
    "from typing import Optional, Union, Dict, Any\n",
    "from cjm_fasthtml_tailwind.core.base import SingleValueFactory\n",
    "from cjm_fasthtml_tailwind.builders.scales import SimpleFactory\n",
    "# from cjm_fasthtml_tailwind.builders.colors import ColoredUtility\n",
    "from cjm_fasthtml_tailwind.utilities.backgrounds import GradientStopUtility\n",
    "from cjm_fasthtml_daisyui.builders.colors import ColoredFactoryDaisyUI, SemanticColorValue, ColoredUtilityDaisyUI\n",
    "\n",
    "from fasthtml.common import Div\n",
    "from fasthtml.jupyter import JupyUvi, HTMX\n",
    "from cjm_fasthtml_daisyui.core.testing import create_test_app, create_test_page, start_test_server\n",
    "from cjm_fasthtml_daisyui.core.themes import DaisyUITheme\n",
    "from IPython.display import display"
   ]
  },
  {
   "cell_type": "code",
   "execution_count": null,
   "id": "c52f3790-a39d-4c05-a126-f88a04450015",
   "metadata": {},
   "outputs": [],
   "source": [
    "#| exports\n",
    "# Glass effect utility\n",
    "glass = SingleValueFactory(\"glass\", \"Creates a glass morphism effect on the element with backdrop blur and semi-transparent background\")  # Glass morphism effect"
   ]
  },
  {
   "cell_type": "code",
   "execution_count": null,
   "id": "d79c7b49-a34f-4b4f-82d8-aab0796ef3e0",
   "metadata": {},
   "outputs": [],
   "source": [
    "#| exports\n",
    "def test_glass_basic_examples():\n",
    "    \"\"\"Test glass morphism effect utility.\"\"\"\n",
    "    # Test basic usage\n",
    "    assert str(glass) == \"glass\"\n",
    "    \n",
    "    # Test calling syntax\n",
    "    assert str(glass()) == \"glass\"\n",
    "    \n",
    "    # Test with modifiers\n",
    "    assert str(glass.hover) == \"hover:glass\"\n",
    "    assert str(glass.lg) == \"lg:glass\"\n",
    "    assert str(glass.dark) == \"dark:glass\"\n",
    "    \n",
    "    # Test chained modifiers\n",
    "    assert str(glass.hover.md) == \"md:hover:glass\"\n",
    "    assert str(glass.dark.hover.lg) == \"lg:hover:dark:glass\"\n",
    "    \n",
    "    # Test group and peer modifiers\n",
    "    assert str(glass.group(\"hover\")) == \"group-hover:glass\"\n",
    "    assert str(glass.peer(\"checked\")) == \"peer-checked:glass\"\n",
    "\n",
    "# Run the test\n",
    "test_glass_basic_examples()"
   ]
  },
  {
   "cell_type": "markdown",
   "id": "21ef9116-2d75-4c00-862f-f42cc3e8a272",
   "metadata": {},
   "source": [
    "## Practical Examples\n",
    "\n",
    "Test with FastHTML components to show practical usage:"
   ]
  },
  {
   "cell_type": "code",
   "execution_count": null,
   "id": "a4a12604-992e-43b0-aedd-ca581ab75dfe",
   "metadata": {},
   "outputs": [
    {
     "data": {
      "text/markdown": [
       "```html\n",
       "<div style=\"background-image: url(https://img.daisyui.com/images/stock/photo-1507358522600-9f71e620c44e.webp\">\n",
       "  <div class=\"glass bg-base-100/30 text-base-content p-6\">\n",
       "    <p>Glass morphism effect</p>\n",
       "  </div>\n",
       "  <div class=\"glass bg-base-100/30 text-base-content p-6 opacity-95\">\n",
       "    <p>Glass morphism effect with opacity</p>\n",
       "  </div>\n",
       "</div>\n",
       "\n",
       "```"
      ],
      "text/plain": [
       "div((div((p(('Glass morphism effect',),{}),),{'class': 'glass bg-base-100/30 text-base-content p-6'}), div((p(('Glass morphism effect with opacity',),{}),),{'class': 'glass bg-base-100/30 text-base-content p-6 opacity-95'})),{'style': 'background-image: url(https://img.daisyui.com/images/stock/photo-1507358522600-9f71e620c44e.webp'})"
      ]
     },
     "execution_count": null,
     "metadata": {},
     "output_type": "execute_result"
    }
   ],
   "source": [
    "#| exports\n",
    "def test_glass_fasthtml_examples():\n",
    "    \"\"\"Test practical usage patterns with FastHTML components.\"\"\"\n",
    "    from fasthtml.common import Div, Button, H1, P, Span\n",
    "    from cjm_fasthtml_tailwind.core.base import combine_classes\n",
    "    from cjm_fasthtml_tailwind.utilities.borders import border\n",
    "    from cjm_fasthtml_tailwind.utilities.effects import shadow, opacity\n",
    "    from cjm_fasthtml_tailwind.utilities.spacing import p\n",
    "    from cjm_fasthtml_tailwind.utilities.backgrounds import bg_linear\n",
    "    from cjm_fasthtml_daisyui.components.actions.button import btn\n",
    "    from cjm_fasthtml_daisyui.components.data_display.card import card\n",
    "    from cjm_fasthtml_daisyui.utilities.semantic_colors import bg_dui, text_dui\n",
    "    \n",
    "    # Create a glass card with dark mode support\n",
    "    glass_card = Div(\n",
    "        P(\"Glass morphism effect\"),\n",
    "        cls=combine_classes(\n",
    "            glass,\n",
    "            bg_dui.base_100.opacity(30),\n",
    "            text_dui.base_content,\n",
    "            p(6)\n",
    "        )\n",
    "    )\n",
    "    assert \"glass\" in glass_card.attrs['class']\n",
    "\n",
    "    # Create a glass card with opacity\n",
    "    glass_card_opacity = Div(\n",
    "        P(\"Glass morphism effect with opacity\"),\n",
    "        cls=combine_classes(\n",
    "            glass,\n",
    "            bg_dui.base_100.opacity(30),\n",
    "            text_dui.base_content,\n",
    "            p(6),\n",
    "            opacity(95)\n",
    "        )\n",
    "    )\n",
    "    assert \"glass\" in glass_card_opacity.attrs['class']\n",
    "    assert \"opacity-95\" in glass_card_opacity.attrs['class']\n",
    "\n",
    "    return Div(\n",
    "        glass_card,\n",
    "        glass_card_opacity,\n",
    "        style=\"background-image: url(https://img.daisyui.com/images/stock/photo-1507358522600-9f71e620c44e.webp\"\n",
    "    )\n",
    "\n",
    "# Run the test\n",
    "test_glass_fasthtml_examples()"
   ]
  },
  {
   "cell_type": "code",
   "execution_count": null,
   "id": "ee81ea93-2972-40de-9c7f-81236e63a410",
   "metadata": {},
   "outputs": [
    {
     "data": {
      "text/html": [
       "\n",
       "<script>\n",
       "document.body.addEventListener('htmx:configRequest', (event) => {\n",
       "    if(event.detail.path.includes('://')) return;\n",
       "    htmx.config.selfRequestsOnly=false;\n",
       "    event.detail.path = `${location.protocol}//${location.hostname}:8000${event.detail.path}`;\n",
       "});\n",
       "</script>"
      ],
      "text/plain": [
       "<IPython.core.display.HTML object>"
      ]
     },
     "metadata": {},
     "output_type": "display_data"
    },
    {
     "data": {
      "text/html": [
       "<iframe src=\"http://localhost:8000/\" style=\"width: 100%; height: auto; border: none;\" onload=\"{\n",
       "        let frame = this;\n",
       "        window.addEventListener('message', function(e) {\n",
       "            if (e.source !== frame.contentWindow) return; // Only proceed if the message is from this iframe\n",
       "            if (e.data.height) frame.style.height = (e.data.height+1) + 'px';\n",
       "        }, false);\n",
       "    }\" allow=\"accelerometer; autoplay; camera; clipboard-read; clipboard-write; display-capture; encrypted-media; fullscreen; gamepad; geolocation; gyroscope; hid; identity-credentials-get; idle-detection; magnetometer; microphone; midi; payment; picture-in-picture; publickey-credentials-get; screen-wake-lock; serial; usb; web-share; xr-spatial-tracking\"></iframe> "
      ],
      "text/plain": [
       "<IPython.core.display.HTML object>"
      ]
     },
     "metadata": {},
     "output_type": "display_data"
    }
   ],
   "source": [
    "#| eval: false\n",
    "#| output: false\n",
    "test_func = test_glass_fasthtml_examples\n",
    "app, rt = create_test_app(theme=DaisyUITheme.LIGHT)\n",
    "\n",
    "@rt\n",
    "def index():\n",
    "    return create_test_page(test_func.__doc__.title().replace('.', ''), test_func())\n",
    "server = start_test_server(app)\n",
    "display(HTMX())\n",
    "server.stop()"
   ]
  },
  {
   "cell_type": "code",
   "execution_count": null,
   "id": "c4b25b63-c6f9-48a4-9892-f86cd688f4fa",
   "metadata": {},
   "outputs": [],
   "source": []
  },
  {
   "cell_type": "code",
   "execution_count": null,
   "id": "248fa6aa-4ae0-4053-9881-d4667cd91092",
   "metadata": {},
   "outputs": [],
   "source": []
  },
  {
   "cell_type": "code",
   "execution_count": null,
   "id": "4da43cf7-2e01-41a0-b0e2-8292c9afeb41",
   "metadata": {},
   "outputs": [],
   "source": []
  },
  {
   "cell_type": "code",
   "execution_count": null,
   "id": "e7131f29-582f-4f7a-a697-7069256a1142",
   "metadata": {},
   "outputs": [],
   "source": [
    "#| hide\n",
    "import nbdev; nbdev.nbdev_export()"
   ]
  }
 ],
 "metadata": {
  "kernelspec": {
   "display_name": "python3",
   "language": "python",
   "name": "python3"
  }
 },
 "nbformat": 4,
 "nbformat_minor": 5
}
