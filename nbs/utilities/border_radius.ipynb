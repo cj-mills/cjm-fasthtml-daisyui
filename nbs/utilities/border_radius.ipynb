{
 "cells": [
  {
   "cell_type": "markdown",
   "id": "3ceae71b-5345-40c4-af2b-12f3fea08d11",
   "metadata": {},
   "source": [
    "# Border Radius Utilities\n",
    "\n",
    "> daisyUI provides additional tokenized border radius values that can be customized based on the theme:"
   ]
  },
  {
   "cell_type": "code",
   "execution_count": null,
   "id": "55907c5d-82e0-4be1-a990-554b158f071c",
   "metadata": {},
   "outputs": [],
   "source": [
    "#| default_exp utilities.border_radius"
   ]
  },
  {
   "cell_type": "code",
   "execution_count": null,
   "id": "03a1fb99-299c-4376-9a86-0bb6eed34cc9",
   "metadata": {},
   "outputs": [],
   "source": [
    "#| hide\n",
    "from nbdev.showdoc import *"
   ]
  },
  {
   "cell_type": "code",
   "execution_count": null,
   "id": "b54097c6-95d2-4d26-bffa-0831045387a3",
   "metadata": {},
   "outputs": [],
   "source": [
    "#| export\n",
    "from typing import Optional, Union, Dict, Any\n",
    "from cjm_fasthtml_tailwind.core.base import SingleValueFactory\n",
    "from cjm_fasthtml_tailwind.builders.scales import SimpleFactory\n",
    "from cjm_fasthtml_tailwind.utilities.backgrounds import GradientStopUtility\n",
    "from cjm_fasthtml_daisyui.builders.colors import ColoredFactoryDaisyUI, SemanticColorValue, ColoredUtilityDaisyUI\n",
    "\n",
    "from fasthtml.common import Div\n",
    "from fasthtml.jupyter import JupyUvi, HTMX\n",
    "from cjm_fasthtml_daisyui.core.testing import create_test_app, create_test_page, start_test_server\n",
    "from cjm_fasthtml_daisyui.core.themes import DaisyUITheme\n",
    "from IPython.display import display"
   ]
  },
  {
   "cell_type": "code",
   "execution_count": null,
   "id": "ec8f01ab-f706-4986-94cd-c40113c17277",
   "metadata": {},
   "outputs": [],
   "source": [
    "#| exports\n",
    "# Border radius utilities\n",
    "BORDER_RADIUS_VALUES = {\n",
    "    \"box\": \"rounded-box\",          # For large sized components like card, modal, alert, etc.\n",
    "    \"field\": \"rounded-field\",      # For medium sized components like button, input, select, tab, etc.\n",
    "    \"selector\": \"rounded-selector\" # For small sized components like checkbox, toggle, badge, etc.\n",
    "}\n",
    "\n",
    "border_radius = SimpleFactory(BORDER_RADIUS_VALUES, \"Tokenized border radius values that can be customized based on theme.\") # The daisyUI border radius factory"
   ]
  },
  {
   "cell_type": "code",
   "execution_count": null,
   "id": "5894e88e-cf46-49c6-88bf-c9b7c3e1a5a7",
   "metadata": {},
   "outputs": [],
   "source": [
    "#| exports\n",
    "def test_border_radius_basic_examples():\n",
    "    \"\"\"Test daisyUI's tokenized border radius utilities.\"\"\"\n",
    "    # Test basic usage\n",
    "    assert str(border_radius.box) == \"rounded-box\"\n",
    "    assert str(border_radius.field) == \"rounded-field\"\n",
    "    assert str(border_radius.selector) == \"rounded-selector\"\n",
    "    \n",
    "    # Test with modifiers\n",
    "    assert str(border_radius.box.hover) == \"hover:rounded-box\"\n",
    "    assert str(border_radius.field.md) == \"md:rounded-field\"\n",
    "    assert str(border_radius.selector.dark) == \"dark:rounded-selector\"\n",
    "    \n",
    "    # Test chained modifiers\n",
    "    assert str(border_radius.box.hover.lg) == \"lg:hover:rounded-box\"\n",
    "    assert str(border_radius.field.dark.md) == \"md:dark:rounded-field\"\n",
    "\n",
    "# Run the test\n",
    "test_border_radius_basic_examples()"
   ]
  },
  {
   "cell_type": "markdown",
   "id": "21ef9116-2d75-4c00-862f-f42cc3e8a272",
   "metadata": {},
   "source": [
    "## Practical Examples\n",
    "\n",
    "Test with FastHTML components to show practical usage:"
   ]
  },
  {
   "cell_type": "code",
   "execution_count": null,
   "id": "a4a12604-992e-43b0-aedd-ca581ab75dfe",
   "metadata": {},
   "outputs": [
    {
     "data": {
      "text/markdown": [
       "```html\n",
       "<div>\n",
       "  <div class=\"card bg-base-100 border-base-300 rounded-box p-6 border shadow-lg\">\n",
       "    <h1 class=\"text-primary\">Welcome to daisyUI</h1>\n",
       "    <p class=\"text-base-content\">This card uses semantic colors</p>\n",
       "  </div>\n",
       "</div>\n",
       "\n",
       "```"
      ],
      "text/plain": [
       "div((div((h1(('Welcome to daisyUI',),{'class': 'text-primary'}), p(('This card uses semantic colors',),{'class': 'text-base-content'})),{'class': 'card bg-base-100 border-base-300 rounded-box p-6 border shadow-lg'}),),{})"
      ]
     },
     "execution_count": null,
     "metadata": {},
     "output_type": "execute_result"
    }
   ],
   "source": [
    "#| exports\n",
    "def test_border_radius_fasthtml_examples():\n",
    "    \"\"\"Test practical usage patterns with FastHTML components.\"\"\"\n",
    "    from fasthtml.common import Div, Button, H1, P, Span\n",
    "    from cjm_fasthtml_tailwind.core.base import combine_classes\n",
    "    from cjm_fasthtml_tailwind.utilities.borders import border\n",
    "    from cjm_fasthtml_tailwind.utilities.effects import shadow\n",
    "    from cjm_fasthtml_tailwind.utilities.spacing import p\n",
    "    from cjm_fasthtml_tailwind.utilities.backgrounds import bg_linear\n",
    "    from cjm_fasthtml_daisyui.components.actions.button import btn\n",
    "    from cjm_fasthtml_daisyui.components.data_display.card import card\n",
    "    from cjm_fasthtml_daisyui.utilities.semantic_colors import bg_dui, border_dui, text_dui\n",
    "    \n",
    "    # Create a card with semantic colors and tokenized border radius\n",
    "    card = Div(\n",
    "        H1(\"Welcome to daisyUI\", cls=str(text_dui.primary)),\n",
    "        P(\"This card uses semantic colors\", cls=str(text_dui.base_content)),\n",
    "        cls=combine_classes(\n",
    "            card,\n",
    "            bg_dui.base_100,\n",
    "            border_dui.base_300,\n",
    "            border_radius.box,\n",
    "            p(6), border(), shadow.lg\n",
    "        )\n",
    "    )\n",
    "    \n",
    "    # Verify classes\n",
    "    assert \"bg-base-100\" in card.attrs['class']\n",
    "    assert \"border-base-300\" in card.attrs['class']\n",
    "    assert \"rounded-box\" in card.attrs['class']\n",
    "    assert card.children[0].attrs['class'] == \"text-primary\"\n",
    "\n",
    "    return Div(\n",
    "        card\n",
    "    )\n",
    "\n",
    "# Run the test\n",
    "test_border_radius_fasthtml_examples()"
   ]
  },
  {
   "cell_type": "code",
   "execution_count": null,
   "id": "ee81ea93-2972-40de-9c7f-81236e63a410",
   "metadata": {},
   "outputs": [
    {
     "data": {
      "text/html": [
       "\n",
       "<script>\n",
       "document.body.addEventListener('htmx:configRequest', (event) => {\n",
       "    if(event.detail.path.includes('://')) return;\n",
       "    htmx.config.selfRequestsOnly=false;\n",
       "    event.detail.path = `${location.protocol}//${location.hostname}:8000${event.detail.path}`;\n",
       "});\n",
       "</script>"
      ],
      "text/plain": [
       "<IPython.core.display.HTML object>"
      ]
     },
     "metadata": {},
     "output_type": "display_data"
    },
    {
     "data": {
      "text/html": [
       "<iframe src=\"http://localhost:8000/\" style=\"width: 100%; height: auto; border: none;\" onload=\"{\n",
       "        let frame = this;\n",
       "        window.addEventListener('message', function(e) {\n",
       "            if (e.source !== frame.contentWindow) return; // Only proceed if the message is from this iframe\n",
       "            if (e.data.height) frame.style.height = (e.data.height+1) + 'px';\n",
       "        }, false);\n",
       "    }\" allow=\"accelerometer; autoplay; camera; clipboard-read; clipboard-write; display-capture; encrypted-media; fullscreen; gamepad; geolocation; gyroscope; hid; identity-credentials-get; idle-detection; magnetometer; microphone; midi; payment; picture-in-picture; publickey-credentials-get; screen-wake-lock; serial; usb; web-share; xr-spatial-tracking\"></iframe> "
      ],
      "text/plain": [
       "<IPython.core.display.HTML object>"
      ]
     },
     "metadata": {},
     "output_type": "display_data"
    }
   ],
   "source": [
    "#| eval: false\n",
    "#| output: false\n",
    "test_func = test_border_radius_fasthtml_examples\n",
    "app, rt = create_test_app(theme=DaisyUITheme.LIGHT)\n",
    "\n",
    "@rt\n",
    "def index():\n",
    "    return create_test_page(test_func.__doc__.title().replace('.', ''), test_func())\n",
    "server = start_test_server(app)\n",
    "display(HTMX())\n",
    "server.stop()"
   ]
  },
  {
   "cell_type": "code",
   "execution_count": null,
   "id": "c4b25b63-c6f9-48a4-9892-f86cd688f4fa",
   "metadata": {},
   "outputs": [],
   "source": []
  },
  {
   "cell_type": "code",
   "execution_count": null,
   "id": "248fa6aa-4ae0-4053-9881-d4667cd91092",
   "metadata": {},
   "outputs": [],
   "source": []
  },
  {
   "cell_type": "code",
   "execution_count": null,
   "id": "4da43cf7-2e01-41a0-b0e2-8292c9afeb41",
   "metadata": {},
   "outputs": [],
   "source": []
  },
  {
   "cell_type": "code",
   "execution_count": null,
   "id": "e7131f29-582f-4f7a-a697-7069256a1142",
   "metadata": {},
   "outputs": [],
   "source": [
    "#| hide\n",
    "import nbdev; nbdev.nbdev_export()"
   ]
  }
 ],
 "metadata": {
  "kernelspec": {
   "display_name": "python3",
   "language": "python",
   "name": "python3"
  }
 },
 "nbformat": 4,
 "nbformat_minor": 5
}
