{
 "cells": [
  {
   "cell_type": "markdown",
   "id": "26214429-8b21-4d3f-b9a6-be4256566836",
   "metadata": {},
   "source": [
    "# Semantic Color Utility Classes\n",
    "\n",
    "> daisyUI extends many Tailwind CSS utility classes to support semantic colors. These factories provide type-safe access to semantic color utilities with full modifier support:"
   ]
  },
  {
   "cell_type": "code",
   "execution_count": null,
   "id": "55907c5d-82e0-4be1-a990-554b158f071c",
   "metadata": {},
   "outputs": [],
   "source": [
    "#| default_exp utilities.semantic_colors"
   ]
  },
  {
   "cell_type": "code",
   "execution_count": null,
   "id": "03a1fb99-299c-4376-9a86-0bb6eed34cc9",
   "metadata": {},
   "outputs": [],
   "source": [
    "#| hide\n",
    "from nbdev.showdoc import *"
   ]
  },
  {
   "cell_type": "code",
   "execution_count": null,
   "id": "b54097c6-95d2-4d26-bffa-0831045387a3",
   "metadata": {},
   "outputs": [],
   "source": [
    "#| export\n",
    "from typing import Optional, Union, Dict, Any\n",
    "from cjm_fasthtml_tailwind.core.base import SingleValueFactory\n",
    "from cjm_fasthtml_tailwind.builders.scales import SimpleFactory\n",
    "from cjm_fasthtml_tailwind.utilities.backgrounds import GradientStopUtility\n",
    "from cjm_fasthtml_daisyui.builders.colors import ColoredFactoryDaisyUI, SemanticColorValue, ColoredUtilityDaisyUI\n",
    "\n",
    "from fasthtml.common import Div\n",
    "from fasthtml.jupyter import JupyUvi, HTMX\n",
    "from cjm_fasthtml_daisyui.core.testing import create_test_app, create_test_page, start_test_server\n",
    "from cjm_fasthtml_daisyui.core.themes import DaisyUITheme\n",
    "from IPython.display import display"
   ]
  },
  {
   "cell_type": "code",
   "execution_count": null,
   "id": "e32cf821-0974-4499-81ea-ec74cb13918c",
   "metadata": {},
   "outputs": [],
   "source": [
    "#| exports\n",
    "# Background color with semantic colors\n",
    "bg_dui = ColoredFactoryDaisyUI(\"bg\", \"Background color utilities for controlling an element's semantic background color\") # The semantic background color factory\n",
    "\n",
    "# Text color with semantic colors  \n",
    "text_dui = ColoredFactoryDaisyUI(\"text\", \"Text color utilities for controlling an element's semantic text color\") # The semantic text color factory\n",
    "\n",
    "# Border color with semantic colors\n",
    "border_dui = ColoredFactoryDaisyUI(\"border\", \"Border color utilities for controlling an element's semantic border color\") # The semantic border color factory\n",
    "\n",
    "# Ring color with semantic colors\n",
    "ring_dui = ColoredFactoryDaisyUI(\"ring\", \"Ring color utilities for controlling an element's semantic ring color\") # The semantic ring color factory\n",
    "\n",
    "# Fill color with semantic colors (for SVG)\n",
    "fill_dui = ColoredFactoryDaisyUI(\"fill\", \"Fill color utilities for controlling SVG element's semantic fill color\") # The semantic fill color factory\n",
    "\n",
    "# Stroke color with semantic colors (for SVG)  \n",
    "stroke_dui = ColoredFactoryDaisyUI(\"stroke\", \"Stroke color utilities for controlling SVG element's semantic stroke color\") # The semantic stroke color factory\n",
    "\n",
    "# Caret color with semantic colors\n",
    "caret_dui = ColoredFactoryDaisyUI(\"caret\", \"Caret color utilities for controlling the caret's semantic color\") # The semantic caret color factory\n",
    "\n",
    "# Accent color with semantic colors\n",
    "accent_dui = ColoredFactoryDaisyUI(\"accent\", \"Accent color utilities for controlling form accent semantic color\") # The semantic accent color factory\n",
    "\n",
    "# Shadow color with semantic colors\n",
    "shadow_dui = ColoredFactoryDaisyUI(\"shadow\", \"Shadow color utilities for controlling shadow's semantic color\") # The semantic shadow color factory\n",
    "\n",
    "# Outline color with semantic colors\n",
    "outline_dui = ColoredFactoryDaisyUI(\"outline\", \"Outline color utilities for controlling outline's semantic color\") # The semantic outline color factory\n",
    "\n",
    "# Text decoration color with semantic colors\n",
    "decoration_dui = ColoredFactoryDaisyUI(\"decoration\", \"Text decoration color utilities for controlling decoration's semantic color\") # The semantic decoration color factory\n",
    "\n",
    "# Placeholder color with semantic colors\n",
    "placeholder_dui = ColoredFactoryDaisyUI(\"placeholder\", \"Placeholder color utilities for controlling placeholder text's semantic color\") # The semantic placeholder color factory\n",
    "\n",
    "# Divide color with semantic colors\n",
    "divide_dui = ColoredFactoryDaisyUI(\"divide\", \"Divide color utilities for controlling divider's semantic color\") # The semantic divide color factory\n",
    "\n",
    "# Ring offset color with semantic colors\n",
    "ring_offset_dui = ColoredFactoryDaisyUI(\"ring-offset\", \"Ring offset color utilities for controlling ring offset's semantic color\") # The semantic ring offset color factory"
   ]
  },
  {
   "cell_type": "code",
   "execution_count": null,
   "id": "e1366aa5-acdb-4cb7-8cfe-0067ee6f456d",
   "metadata": {},
   "outputs": [],
   "source": []
  },
  {
   "cell_type": "code",
   "execution_count": null,
   "id": "046b6246-9a3b-442c-bc7a-d35fbbb40fd5",
   "metadata": {},
   "outputs": [],
   "source": [
    "#| exports\n",
    "def test_semantic_colors_basic_examples():\n",
    "    \"\"\"Test semantic color utility classes for various CSS properties.\"\"\"\n",
    "    # Test background colors\n",
    "    assert str(bg_dui.primary) == \"bg-primary\"\n",
    "    assert str(bg_dui.secondary) == \"bg-secondary\"\n",
    "    assert str(bg_dui.accent) == \"bg-accent\"\n",
    "    assert str(bg_dui.neutral) == \"bg-neutral\"\n",
    "    assert str(bg_dui.base_100) == \"bg-base-100\"\n",
    "    assert str(bg_dui.base_200) == \"bg-base-200\"\n",
    "    assert str(bg_dui.base_300) == \"bg-base-300\"\n",
    "    assert str(bg_dui.base_content) == \"bg-base-content\"\n",
    "    assert str(bg_dui.info) == \"bg-info\"\n",
    "    assert str(bg_dui.success) == \"bg-success\"\n",
    "    assert str(bg_dui.warning) == \"bg-warning\"\n",
    "    assert str(bg_dui.error) == \"bg-error\"\n",
    "    \n",
    "    # Test text colors\n",
    "    assert str(text_dui.primary) == \"text-primary\"\n",
    "    assert str(text_dui.primary_content) == \"text-primary-content\"\n",
    "    assert str(text_dui.secondary_content) == \"text-secondary-content\"\n",
    "    assert str(text_dui.base_content) == \"text-base-content\"\n",
    "    \n",
    "    # Test border colors\n",
    "    assert str(border_dui.primary) == \"border-primary\"\n",
    "    assert str(border_dui.base_300) == \"border-base-300\"\n",
    "    assert str(border_dui.error) == \"border-error\"\n",
    "    \n",
    "    # Test ring colors\n",
    "    assert str(ring_dui.primary) == \"ring-primary\"\n",
    "    assert str(ring_dui.accent) == \"ring-accent\"\n",
    "    \n",
    "    # Test fill and stroke colors (for SVG)\n",
    "    assert str(fill_dui.primary) == \"fill-primary\"\n",
    "    assert str(stroke_dui.secondary) == \"stroke-secondary\"\n",
    "    \n",
    "    # Test other color utilities\n",
    "    assert str(caret_dui.primary) == \"caret-primary\"\n",
    "    assert str(accent_dui.secondary) == \"accent-secondary\"\n",
    "    assert str(shadow_dui.neutral) == \"shadow-neutral\"\n",
    "    assert str(outline_dui.error) == \"outline-error\"\n",
    "    assert str(decoration_dui.primary) == \"decoration-primary\"\n",
    "    assert str(placeholder_dui.base_content) == \"placeholder-base-content\"\n",
    "    assert str(divide_dui.base_300) == \"divide-base-300\"\n",
    "    assert str(ring_offset_dui.base_100) == \"ring-offset-base-100\"\n",
    "\n",
    "# Run the test\n",
    "test_semantic_colors_basic_examples()"
   ]
  },
  {
   "cell_type": "code",
   "execution_count": null,
   "id": "95536558-39a8-45f7-a73f-794441a1bef9",
   "metadata": {},
   "outputs": [],
   "source": [
    "#| exports\n",
    "def test_semantic_colors_opacity_examples():\n",
    "    \"\"\"Test semantic color utilities with opacity modifiers.\"\"\"\n",
    "    # Test various utilities with opacity\n",
    "    assert str(bg_dui.primary.opacity(50)) == \"bg-primary/50\"\n",
    "    assert str(text_dui.base_content.opacity(70)) == \"text-base-content/70\"\n",
    "    assert str(border_dui.error.opacity(25)) == \"border-error/25\"\n",
    "    assert str(ring_dui.accent.opacity(90)) == \"ring-accent/90\"\n",
    "    \n",
    "    # Test arbitrary opacity values\n",
    "    assert str(bg_dui.primary.opacity(\"[0.87]\")) == \"bg-primary/[0.87]\"\n",
    "    assert str(text_dui.error.opacity(\"(--my-opacity)\")) == \"text-error/(--my-opacity)\"\n",
    "\n",
    "# Run the test\n",
    "test_semantic_colors_opacity_examples()"
   ]
  },
  {
   "cell_type": "markdown",
   "id": "21ef9116-2d75-4c00-862f-f42cc3e8a272",
   "metadata": {},
   "source": [
    "## Practical Examples\n",
    "\n",
    "Test with FastHTML components to show practical usage:"
   ]
  },
  {
   "cell_type": "code",
   "execution_count": null,
   "id": "a4a12604-992e-43b0-aedd-ca581ab75dfe",
   "metadata": {},
   "outputs": [
    {
     "data": {
      "text/markdown": [
       "```html\n",
       "<div>\n",
       "  <div class=\"card bg-primary border-accent rounded-box p-6 border shadow-lg\">\n",
       "    <h1 class=\"text-primary-content\">Welcome to daisyUI</h1>\n",
       "    <p class=\"text-primary-content\">This card uses semantic colors</p>\n",
       "  </div>\n",
       "<button class=\"btn bg-primary text-primary-content rounded-field px-4 py-2\">Click me</button></div>\n",
       "\n",
       "```"
      ],
      "text/plain": [
       "div((div((h1(('Welcome to daisyUI',),{'class': 'text-primary-content'}), p(('This card uses semantic colors',),{'class': 'text-primary-content'})),{'class': 'card bg-primary border-accent rounded-box p-6 border shadow-lg'}), button(('Click me',),{'class': 'btn bg-primary text-primary-content rounded-field px-4 py-2'})),{})"
      ]
     },
     "execution_count": null,
     "metadata": {},
     "output_type": "execute_result"
    }
   ],
   "source": [
    "#| exports\n",
    "def test_semantic_color_fasthtml_examples():\n",
    "    \"\"\"Test practical usage patterns with FastHTML components.\"\"\"\n",
    "    from fasthtml.common import Div, Button, H1, P, Span\n",
    "    from cjm_fasthtml_tailwind.core.base import combine_classes\n",
    "    from cjm_fasthtml_tailwind.utilities.borders import border\n",
    "    from cjm_fasthtml_tailwind.utilities.effects import shadow\n",
    "    from cjm_fasthtml_tailwind.utilities.spacing import p\n",
    "    from cjm_fasthtml_tailwind.utilities.backgrounds import bg_linear\n",
    "    from cjm_fasthtml_daisyui.components.actions.button import btn\n",
    "    from cjm_fasthtml_daisyui.components.data_display.card import card\n",
    "    from cjm_fasthtml_daisyui.utilities.border_radius import border_radius\n",
    "    from cjm_fasthtml_daisyui.utilities.glass import glass\n",
    "    \n",
    "    # Create a card with semantic colors and tokenized border radius\n",
    "    card = Div(\n",
    "        H1(\"Welcome to daisyUI\", cls=str(text_dui.primary_content)),\n",
    "        P(\"This card uses semantic colors\", cls=str(text_dui.primary_content)),\n",
    "        cls=combine_classes(\n",
    "            card,\n",
    "            bg_dui.primary,\n",
    "            border_dui.accent,\n",
    "            border_radius.box,\n",
    "            p(6), border(), shadow.lg\n",
    "        )\n",
    "    )\n",
    "    \n",
    "    # Verify classes\n",
    "    assert \"bg-primary\" in card.attrs['class']\n",
    "    assert \"border-accent\" in card.attrs['class']\n",
    "    assert \"rounded-box\" in card.attrs['class']\n",
    "    assert card.children[0].attrs['class'] == \"text-primary-content\"\n",
    "    \n",
    "    # Create a button with semantic colors\n",
    "    button = Button(\n",
    "        \"Click me\",\n",
    "        cls=combine_classes(\n",
    "            btn,\n",
    "            bg_dui.primary,\n",
    "            text_dui.primary_content,\n",
    "            border_radius.field,\n",
    "            p.x(4), p.y(2)\n",
    "        )\n",
    "    )\n",
    "    assert \"bg-primary\" in button.attrs['class']\n",
    "    assert \"text-primary-content\" in button.attrs['class']\n",
    "    assert \"rounded-field\" in button.attrs['class']\n",
    "\n",
    "    return Div(\n",
    "        card,\n",
    "        button\n",
    "    )\n",
    "\n",
    "# Run the test\n",
    "test_semantic_color_fasthtml_examples()"
   ]
  },
  {
   "cell_type": "code",
   "execution_count": null,
   "id": "ee81ea93-2972-40de-9c7f-81236e63a410",
   "metadata": {},
   "outputs": [
    {
     "data": {
      "text/html": [
       "\n",
       "<script>\n",
       "document.body.addEventListener('htmx:configRequest', (event) => {\n",
       "    if(event.detail.path.includes('://')) return;\n",
       "    htmx.config.selfRequestsOnly=false;\n",
       "    event.detail.path = `${location.protocol}//${location.hostname}:8000${event.detail.path}`;\n",
       "});\n",
       "</script>"
      ],
      "text/plain": [
       "<IPython.core.display.HTML object>"
      ]
     },
     "metadata": {},
     "output_type": "display_data"
    },
    {
     "data": {
      "text/html": [
       "<iframe src=\"http://localhost:8000/\" style=\"width: 100%; height: auto; border: none;\" onload=\"{\n",
       "        let frame = this;\n",
       "        window.addEventListener('message', function(e) {\n",
       "            if (e.source !== frame.contentWindow) return; // Only proceed if the message is from this iframe\n",
       "            if (e.data.height) frame.style.height = (e.data.height+1) + 'px';\n",
       "        }, false);\n",
       "    }\" allow=\"accelerometer; autoplay; camera; clipboard-read; clipboard-write; display-capture; encrypted-media; fullscreen; gamepad; geolocation; gyroscope; hid; identity-credentials-get; idle-detection; magnetometer; microphone; midi; payment; picture-in-picture; publickey-credentials-get; screen-wake-lock; serial; usb; web-share; xr-spatial-tracking\"></iframe> "
      ],
      "text/plain": [
       "<IPython.core.display.HTML object>"
      ]
     },
     "metadata": {},
     "output_type": "display_data"
    }
   ],
   "source": [
    "#| eval: false\n",
    "#| output: false\n",
    "test_func = test_semantic_color_fasthtml_examples\n",
    "app, rt = create_test_app(theme=DaisyUITheme.LIGHT)\n",
    "\n",
    "@rt\n",
    "def index():\n",
    "    return create_test_page(test_func.__doc__.title().replace('.', ''), test_func())\n",
    "server = start_test_server(app)\n",
    "display(HTMX())\n",
    "server.stop()"
   ]
  },
  {
   "cell_type": "code",
   "execution_count": null,
   "id": "c4b25b63-c6f9-48a4-9892-f86cd688f4fa",
   "metadata": {},
   "outputs": [],
   "source": []
  },
  {
   "cell_type": "code",
   "execution_count": null,
   "id": "248fa6aa-4ae0-4053-9881-d4667cd91092",
   "metadata": {},
   "outputs": [],
   "source": []
  },
  {
   "cell_type": "code",
   "execution_count": null,
   "id": "4da43cf7-2e01-41a0-b0e2-8292c9afeb41",
   "metadata": {},
   "outputs": [],
   "source": []
  },
  {
   "cell_type": "code",
   "execution_count": null,
   "id": "e7131f29-582f-4f7a-a697-7069256a1142",
   "metadata": {},
   "outputs": [],
   "source": [
    "#| hide\n",
    "import nbdev; nbdev.nbdev_export()"
   ]
  }
 ],
 "metadata": {
  "kernelspec": {
   "display_name": "python3",
   "language": "python",
   "name": "python3"
  }
 },
 "nbformat": 4,
 "nbformat_minor": 5
}
