{
 "cells": [
  {
   "cell_type": "markdown",
   "id": "a25c6b21-ede1-454e-9273-64c56dd243f0",
   "metadata": {},
   "source": [
    "# Gradient Stop Utilities\n",
    "\n",
    "> For Tailwind CSS gradient utilities, daisyUI extends the from, via, and to utilities with semantic color support:"
   ]
  },
  {
   "cell_type": "code",
   "execution_count": null,
   "id": "55907c5d-82e0-4be1-a990-554b158f071c",
   "metadata": {},
   "outputs": [],
   "source": [
    "#| default_exp utilities.semantic_gradients"
   ]
  },
  {
   "cell_type": "code",
   "execution_count": null,
   "id": "03a1fb99-299c-4376-9a86-0bb6eed34cc9",
   "metadata": {},
   "outputs": [],
   "source": [
    "#| hide\n",
    "from nbdev.showdoc import *"
   ]
  },
  {
   "cell_type": "code",
   "execution_count": null,
   "id": "b54097c6-95d2-4d26-bffa-0831045387a3",
   "metadata": {},
   "outputs": [],
   "source": [
    "#| export\n",
    "from typing import Optional, Union, Dict, Any\n",
    "from cjm_fasthtml_tailwind.core.base import SingleValueFactory\n",
    "from cjm_fasthtml_tailwind.builders.scales import SimpleFactory\n",
    "from cjm_fasthtml_tailwind.utilities.backgrounds import GradientStopUtility\n",
    "from cjm_fasthtml_daisyui.builders.colors import ColoredFactoryDaisyUI, SemanticColorValue, ColoredUtilityDaisyUI\n",
    "\n",
    "from fasthtml.common import Div\n",
    "from fasthtml.jupyter import JupyUvi, HTMX\n",
    "from cjm_fasthtml_daisyui.core.testing import create_test_app, create_test_page, start_test_server\n",
    "from cjm_fasthtml_daisyui.core.themes import DaisyUITheme\n",
    "from IPython.display import display"
   ]
  },
  {
   "cell_type": "code",
   "execution_count": null,
   "id": "3470c768-60eb-4fd1-bb36-2669ed29682e",
   "metadata": {},
   "outputs": [],
   "source": [
    "#| export\n",
    "class GradientStopFactoryDaisyUI(ColoredFactoryDaisyUI):\n",
    "    \"\"\"Enhanced factory for gradient color stops with semantic color support.\"\"\"\n",
    "    \n",
    "    def __init__(\n",
    "        self,\n",
    "        stop_type: str,  # Type of stop (from, via, to)\n",
    "        doc: Optional[str] = None  # Documentation\n",
    "    ):\n",
    "        \"\"\"Initialize gradient stop factory.\"\"\"\n",
    "        doc = doc or f\"Gradient {stop_type} color utilities for defining the {stop_type} color of a gradient with semantic colors\"\n",
    "        super().__init__(stop_type, doc)\n",
    "        self.stop_type = stop_type\n",
    "\n",
    "    def __call__(\n",
    "        self,\n",
    "        value: Union[SemanticColorValue, str, int],  # Color, percentage, or custom value\n",
    "        opacity: Optional[Union[int, str]] = None  # Optional opacity for colors\n",
    "    ) -> Union[ColoredUtilityDaisyUI, GradientStopUtility]:  # Appropriate utility instance\n",
    "        \"\"\"Create gradient stop with color or percentage.\"\"\"\n",
    "        value_str = str(value)\n",
    "        \n",
    "        # Check if it's a percentage\n",
    "        if value_str.endswith('%') or (isinstance(value, int) and 0 <= value <= 100):\n",
    "            return GradientStopUtility(self.stop_type, value)\n",
    "        \n",
    "        # Check if it's a custom property or arbitrary value (non-color)\n",
    "        if is_custom_property(value_str) or (is_arbitrary_value(value_str) and not any(c in value_str for c in ['#', 'rgb', 'hsl'])):\n",
    "            return GradientStopUtility(self.stop_type, value)\n",
    "        \n",
    "        # Otherwise, treat as color\n",
    "        return super().__call__(value, opacity)\n",
    "    \n",
    "    def __getattr__(\n",
    "        self,\n",
    "        name: str  # Attribute name\n",
    "    ) -> Union[ColoredUtilityDaisyUI, GradientStopUtility]:  # Appropriate utility\n",
    "        \"\"\"Handle attribute access for percentages and colors.\"\"\"\n",
    "        # Handle percentage values (e.g., from._0, from._50, from._100)\n",
    "        if name.startswith(\"_\") and name[1:].isdigit():\n",
    "            percentage = name[1:]\n",
    "            return GradientStopUtility(self.stop_type, f\"{percentage}%\")\n",
    "        \n",
    "        # Otherwise, use parent's color handling\n",
    "        return super().__getattr__(name)"
   ]
  },
  {
   "cell_type": "code",
   "execution_count": null,
   "id": "3f9706e1-0dc1-435c-ba7a-1188488f1e15",
   "metadata": {},
   "outputs": [],
   "source": [
    "#| exports\n",
    "# Create gradient stop factories with semantic color support\n",
    "from_dui = GradientStopFactoryDaisyUI(\"from\", \"Gradient from color utilities for defining the starting color of a gradient with semantic colors\") # Semantic gradient from color factory\n",
    "via_dui = GradientStopFactoryDaisyUI(\"via\", \"Gradient via color utilities for defining the middle color of a gradient with semantic colors\") # Semantic gradient via color factory\n",
    "to_dui = GradientStopFactoryDaisyUI(\"to\", \"Gradient to color utilities for defining the ending color of a gradient with semantic colors\") # Semantic gradient to color factory"
   ]
  },
  {
   "cell_type": "code",
   "execution_count": null,
   "id": "6b887470-a3eb-42e9-976b-7f7923f2778a",
   "metadata": {},
   "outputs": [],
   "source": [
    "#| exports\n",
    "def test_semantic_gradients_basic_examples():\n",
    "    \"\"\"Test gradient utilities with semantic colors.\"\"\"\n",
    "    # Test gradient from colors\n",
    "    assert str(from_dui.primary) == \"from-primary\"\n",
    "    assert str(from_dui.secondary) == \"from-secondary\"\n",
    "    assert str(from_dui.base_100) == \"from-base-100\"\n",
    "    assert str(from_dui.error) == \"from-error\"\n",
    "    \n",
    "    # Test gradient via colors\n",
    "    assert str(via_dui.accent) == \"via-accent\"\n",
    "    assert str(via_dui.neutral) == \"via-neutral\"\n",
    "    assert str(via_dui.info) == \"via-info\"\n",
    "    \n",
    "    # Test gradient to colors\n",
    "    assert str(to_dui.success) == \"to-success\"\n",
    "    assert str(to_dui.warning) == \"to-warning\"\n",
    "    assert str(to_dui.base_content) == \"to-base-content\"\n",
    "    \n",
    "    # Test with opacity\n",
    "    assert str(from_dui.primary.opacity(50)) == \"from-primary/50\"\n",
    "    assert str(via_dui.secondary.opacity(75)) == \"via-secondary/75\"\n",
    "    assert str(to_dui.base_content.opacity(30)) == \"to-base-content/30\"\n",
    "\n",
    "     # Test with percentages\n",
    "    assert str(from_dui._0) == \"from-0%\"\n",
    "    assert str(from_dui._50) == \"from-50%\"\n",
    "    assert str(from_dui._100) == \"from-100%\"\n",
    "    assert str(from_dui(25)) == \"from-25%\"\n",
    "    assert str(from_dui(\"33%\")) == \"from-33%\"\n",
    "    assert str(via_dui._50) == \"via-50%\"\n",
    "    assert str(via_dui(75)) == \"via-75%\"\n",
    "    assert str(to_dui._100) == \"to-100%\"\n",
    "    assert str(to_dui(90)) == \"to-90%\"\n",
    "    \n",
    "    # Test with modifiers\n",
    "    assert str(from_dui.primary.hover) == \"hover:from-primary\"\n",
    "    assert str(to_dui.error.dark) == \"dark:to-error\"\n",
    "\n",
    "# Run the test\n",
    "test_semantic_gradients_basic_examples()"
   ]
  },
  {
   "cell_type": "markdown",
   "id": "21ef9116-2d75-4c00-862f-f42cc3e8a272",
   "metadata": {},
   "source": [
    "## Practical Examples\n",
    "\n",
    "Test with FastHTML components to show practical usage:"
   ]
  },
  {
   "cell_type": "code",
   "execution_count": null,
   "id": "a4a12604-992e-43b0-aedd-ca581ab75dfe",
   "metadata": {},
   "outputs": [
    {
     "data": {
      "text/markdown": [
       "```html\n",
       "<div>\n",
       "  <div class=\"bg-linear-to-r from-primary to-secondary p-8\">\n",
       "    <h1 class=\"text-primary-content\">Gradient Header</h1>\n",
       "  </div>\n",
       "</div>\n",
       "\n",
       "```"
      ],
      "text/plain": [
       "div((div((h1(('Gradient Header',),{'class': 'text-primary-content'}),),{'class': 'bg-linear-to-r from-primary to-secondary p-8'}),),{})"
      ]
     },
     "execution_count": null,
     "metadata": {},
     "output_type": "execute_result"
    }
   ],
   "source": [
    "#| exports\n",
    "def test_semantic_gradients_fasthtml_examples():\n",
    "    \"\"\"Test practical usage patterns with FastHTML components.\"\"\"\n",
    "    from fasthtml.common import Div, Button, H1, P, Span\n",
    "    from cjm_fasthtml_tailwind.core.base import combine_classes\n",
    "    from cjm_fasthtml_tailwind.utilities.borders import border\n",
    "    from cjm_fasthtml_tailwind.utilities.effects import shadow\n",
    "    from cjm_fasthtml_tailwind.utilities.spacing import p\n",
    "    from cjm_fasthtml_tailwind.utilities.backgrounds import bg_linear\n",
    "    from cjm_fasthtml_daisyui.components.actions.button import btn\n",
    "    from cjm_fasthtml_daisyui.components.data_display.card import card\n",
    "    from cjm_fasthtml_daisyui.utilities.semantic_colors import text_dui\n",
    "    \n",
    "    # Create a gradient header with semantic colors\n",
    "    gradient_header = Div(\n",
    "        H1(\"Gradient Header\", cls=str(text_dui.primary_content)),\n",
    "        cls=combine_classes(\n",
    "            bg_linear.to_r,\n",
    "            from_dui.primary,\n",
    "            to_dui.secondary,\n",
    "            p(8)\n",
    "        )\n",
    "    )\n",
    "    assert \"from-primary\" in gradient_header.attrs['class']\n",
    "    assert \"to-secondary\" in gradient_header.attrs['class']\n",
    "\n",
    "    return Div(\n",
    "        gradient_header\n",
    "    )\n",
    "\n",
    "# Run the test\n",
    "test_semantic_gradients_fasthtml_examples()"
   ]
  },
  {
   "cell_type": "code",
   "execution_count": null,
   "id": "ee81ea93-2972-40de-9c7f-81236e63a410",
   "metadata": {},
   "outputs": [
    {
     "data": {
      "text/html": [
       "\n",
       "<script>\n",
       "document.body.addEventListener('htmx:configRequest', (event) => {\n",
       "    if(event.detail.path.includes('://')) return;\n",
       "    htmx.config.selfRequestsOnly=false;\n",
       "    event.detail.path = `${location.protocol}//${location.hostname}:8000${event.detail.path}`;\n",
       "});\n",
       "</script>"
      ],
      "text/plain": [
       "<IPython.core.display.HTML object>"
      ]
     },
     "metadata": {},
     "output_type": "display_data"
    },
    {
     "data": {
      "text/html": [
       "<iframe src=\"http://localhost:8000/\" style=\"width: 100%; height: auto; border: none;\" onload=\"{\n",
       "        let frame = this;\n",
       "        window.addEventListener('message', function(e) {\n",
       "            if (e.source !== frame.contentWindow) return; // Only proceed if the message is from this iframe\n",
       "            if (e.data.height) frame.style.height = (e.data.height+1) + 'px';\n",
       "        }, false);\n",
       "    }\" allow=\"accelerometer; autoplay; camera; clipboard-read; clipboard-write; display-capture; encrypted-media; fullscreen; gamepad; geolocation; gyroscope; hid; identity-credentials-get; idle-detection; magnetometer; microphone; midi; payment; picture-in-picture; publickey-credentials-get; screen-wake-lock; serial; usb; web-share; xr-spatial-tracking\"></iframe> "
      ],
      "text/plain": [
       "<IPython.core.display.HTML object>"
      ]
     },
     "metadata": {},
     "output_type": "display_data"
    }
   ],
   "source": [
    "#| eval: false\n",
    "#| output: false\n",
    "test_func = test_semantic_gradients_fasthtml_examples\n",
    "app, rt = create_test_app(theme=DaisyUITheme.LIGHT)\n",
    "\n",
    "@rt\n",
    "def index():\n",
    "    return create_test_page(test_func.__doc__.title().replace('.', ''), test_func())\n",
    "server = start_test_server(app)\n",
    "display(HTMX())\n",
    "server.stop()"
   ]
  },
  {
   "cell_type": "code",
   "execution_count": null,
   "id": "c4b25b63-c6f9-48a4-9892-f86cd688f4fa",
   "metadata": {},
   "outputs": [],
   "source": []
  },
  {
   "cell_type": "code",
   "execution_count": null,
   "id": "248fa6aa-4ae0-4053-9881-d4667cd91092",
   "metadata": {},
   "outputs": [],
   "source": []
  },
  {
   "cell_type": "code",
   "execution_count": null,
   "id": "4da43cf7-2e01-41a0-b0e2-8292c9afeb41",
   "metadata": {},
   "outputs": [],
   "source": []
  },
  {
   "cell_type": "code",
   "execution_count": null,
   "id": "e7131f29-582f-4f7a-a697-7069256a1142",
   "metadata": {},
   "outputs": [],
   "source": [
    "#| hide\n",
    "import nbdev; nbdev.nbdev_export()"
   ]
  }
 ],
 "metadata": {
  "kernelspec": {
   "display_name": "python3",
   "language": "python",
   "name": "python3"
  }
 },
 "nbformat": 4,
 "nbformat_minor": 5
}
