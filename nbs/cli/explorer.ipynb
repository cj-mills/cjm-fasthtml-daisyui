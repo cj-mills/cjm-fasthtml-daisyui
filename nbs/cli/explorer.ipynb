{
 "cells": [
  {
   "cell_type": "markdown",
   "id": "7d973d5a",
   "metadata": {},
   "source": [
    "# DaisyUI Explorer\n",
    "\n",
    "> CLI tool for exploring cjm-fasthtml-daisyui components and builders"
   ]
  },
  {
   "cell_type": "code",
   "execution_count": null,
   "id": "94174f5a",
   "metadata": {},
   "outputs": [],
   "source": [
    "#| default_exp cli.explorer"
   ]
  },
  {
   "cell_type": "code",
   "execution_count": null,
   "id": "93be2186",
   "metadata": {},
   "outputs": [],
   "source": [
    "#| hide\n",
    "from nbdev.showdoc import *"
   ]
  },
  {
   "cell_type": "code",
   "execution_count": null,
   "id": "8f990222-1f62-4ce2-abfc-ba0866b5899a",
   "metadata": {},
   "outputs": [],
   "source": [
    "#| export\n",
    "import argparse"
   ]
  },
  {
   "cell_type": "code",
   "execution_count": null,
   "id": "0005c5b8-8111-41dc-87f9-789cd8b08c8e",
   "metadata": {},
   "outputs": [],
   "source": [
    "#| export\n",
    "# Import all the CLI functionality from the cjm-fasthtml-tailwind package\n",
    "from typing import Optional\n",
    "from cjm_fasthtml_tailwind.cli.utils import load_code_from_file\n",
    "from cjm_fasthtml_tailwind.cli.search import search_all\n",
    "from cjm_fasthtml_tailwind.cli.test_code import execute_test_code\n",
    "from cjm_fasthtml_tailwind.cli.pattern_scanner import (\n",
    "    analyze_and_suggest_input, display_input_analysis, \n",
    "    InputType\n",
    ")\n",
    "from cjm_fasthtml_tailwind.cli.cli_config import LibraryConfig, get_active_config\n",
    "\n",
    "from cjm_fasthtml_tailwind.cli.display import (\n",
    "    display_modules, display_module_factories, display_all_factories, \n",
    "    display_module_examples, display_all_examples, display_example_source, \n",
    "    display_module_helpers, display_helper_source,\n",
    "    display_all_helpers, display_factory_info, display_search_results, \n",
    "    display_core_utility_source, display_core_utilities, display_imports, display_test_code_result\n",
    ")\n",
    "\n",
    "from cjm_fasthtml_tailwind.cli.dynamic_examples import (\n",
    "    get_example_modules, get_example_factories, get_example_features, get_example_helpers, \n",
    "    get_example_core_utils, get_combine_classes_example, get_example_test_code\n",
    ")\n",
    "\n",
    "from cjm_fasthtml_tailwind.cli.explorer import (\n",
    "    dispatch_command, handle_search_command, handle_test_code_command,\n",
    "    handle_scan_command, create_help_description, create_example_usage_flow, create_help_epilogue, \n",
    ")\n",
    "\n",
    "from cjm_fasthtml_tailwind.cli.explorer import ( \n",
    "    add_modules_parser, add_factories_parser, add_factory_parser, \n",
    "    add_examples_parser, add_example_parser, add_helpers_parser, \n",
    "    add_helper_parser, add_search_parser, add_test_code_parser,\n",
    "    add_core_utils_parser, add_core_util_parser, add_imports_parser, \n",
    "    add_scan_parser\n",
    ")"
   ]
  },
  {
   "cell_type": "code",
   "execution_count": null,
   "id": "4217581f-19b2-425d-ade4-d162a6c765a9",
   "metadata": {},
   "outputs": [],
   "source": [
    "#| export\n",
    "# Import configuration management from tailwind\n",
    "from cjm_fasthtml_tailwind.cli.cli_config import set_active_config, get_tailwind_config\n",
    "\n",
    "# Import our local DaisyUI configuration\n",
    "from cjm_fasthtml_daisyui.cli.cli_config import get_daisyui_config"
   ]
  },
  {
   "cell_type": "markdown",
   "id": "781f36f9",
   "metadata": {},
   "source": [
    "## DaisyUI-Specific Configuration\n",
    "\n",
    "Set up the DaisyUI configuration for the CLI:"
   ]
  },
  {
   "cell_type": "code",
   "execution_count": null,
   "id": "5f2a9d49",
   "metadata": {},
   "outputs": [],
   "source": "#| export\ndef initialize_daisyui_cli() -> LibraryConfig: # Configuration for the CLI\n    \"\"\"Initialize the CLI with DaisyUI configuration.\"\"\"\n    config = get_daisyui_config()\n    set_active_config(config)\n    return config"
  },
  {
   "cell_type": "code",
   "execution_count": null,
   "id": "7f2446bb-f3f5-4423-bef8-b9ad48fec697",
   "metadata": {},
   "outputs": [],
   "source": []
  },
  {
   "cell_type": "code",
   "execution_count": null,
   "id": "040de0ad-1556-4bda-ac85-ad6f2aad7681",
   "metadata": {},
   "outputs": [],
   "source": "#| export\ndef setup_argument_parser(\n    config: Optional[LibraryConfig] = None  # Optional configuration to use\n) -> argparse.ArgumentParser: # Main argument parser with all subcommands\n    \"\"\"Set up the main argument parser with all subcommands.\"\"\"\n    if config is None:\n        config = get_active_config()\n\n    tailwind_config = get_tailwind_config()\n\n    description = create_help_description()\n    epilog = create_help_epilogue()\n    epilog += f\"\\n\\n{tailwind_config.display_name} Usage:\"\n    epilog += f\"\\n⚠️  Important: Use the {tailwind_config.package_name} library for adding {tailwind_config.display_name} utility classes.\"\n    epilog += f\"\\nYou can learn about the {tailwind_config.package_name} library with the {tailwind_config.cli_command} CLI tool.\"\n    \n    parser = argparse.ArgumentParser(\n        description=description,\n        epilog=epilog,\n        formatter_class=argparse.RawDescriptionHelpFormatter,\n        prog=config.cli_command\n    )\n    \n    # Create subcommands\n    subparsers = parser.add_subparsers(dest='command', help='Available commands')\n    \n    # Add all subcommand parsers\n    add_modules_parser(subparsers)\n    add_factories_parser(subparsers)\n    add_factory_parser(subparsers)\n    add_examples_parser(subparsers)\n    add_example_parser(subparsers)\n    # add_helpers_parser(subparsers)\n    # add_helper_parser(subparsers)\n    add_search_parser(subparsers)\n    add_test_code_parser(subparsers)\n    add_core_utils_parser(subparsers)\n    add_core_util_parser(subparsers)\n    add_imports_parser(subparsers)\n    add_scan_parser(subparsers)\n    \n    return parser"
  },
  {
   "cell_type": "code",
   "execution_count": null,
   "id": "325e08f6-ab40-401c-a880-3db90dfe5817",
   "metadata": {},
   "outputs": [],
   "source": []
  },
  {
   "cell_type": "markdown",
   "id": "5d87fb38",
   "metadata": {},
   "source": [
    "## CLI Entry Point\n",
    "\n",
    "Main function for the DaisyUI console script:"
   ]
  },
  {
   "cell_type": "code",
   "execution_count": null,
   "id": "9eb8e3d5",
   "metadata": {},
   "outputs": [],
   "source": "#| export\ndef main() -> None: # CLI entry point\n    \"\"\"CLI entry point for exploring cjm-fasthtml-daisyui components.\"\"\"\n    # Initialize with DaisyUI configuration\n    initialize_daisyui_cli();\n    \n    # Set up the argument parser (will use DaisyUI config)\n    parser = setup_argument_parser()\n    \n    # Parse arguments\n    args = parser.parse_args()\n    \n    # If no command specified, show help\n    if args.command is None:\n        parser.print_help()\n        return\n    \n    # Dispatch to the appropriate command handler\n    dispatch_command(args)"
  },
  {
   "cell_type": "code",
   "execution_count": null,
   "id": "8e850844-939a-4b86-9238-a5e630a518e9",
   "metadata": {},
   "outputs": [],
   "source": []
  },
  {
   "cell_type": "code",
   "execution_count": null,
   "id": "627b1d4a-59e8-4a8b-a39b-d40c6bac620a",
   "metadata": {},
   "outputs": [],
   "source": []
  },
  {
   "cell_type": "code",
   "execution_count": null,
   "id": "224a2b42-63ba-4271-b0e9-da4dc3cb6512",
   "metadata": {},
   "outputs": [],
   "source": []
  },
  {
   "cell_type": "code",
   "execution_count": null,
   "id": "f390effb-214e-4414-94c6-5cef1b82e9bf",
   "metadata": {},
   "outputs": [],
   "source": []
  },
  {
   "cell_type": "markdown",
   "id": "c1ba7c80",
   "metadata": {},
   "source": [
    "## Export"
   ]
  },
  {
   "cell_type": "code",
   "execution_count": null,
   "id": "c0591cc8",
   "metadata": {},
   "outputs": [],
   "source": [
    "#| hide\n",
    "import nbdev; nbdev.nbdev_export()"
   ]
  }
 ],
 "metadata": {
  "kernelspec": {
   "display_name": "python3",
   "language": "python",
   "name": "python3"
  }
 },
 "nbformat": 4,
 "nbformat_minor": 5
}
