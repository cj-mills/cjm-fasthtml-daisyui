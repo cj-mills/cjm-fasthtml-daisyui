{
 "cells": [
  {
   "cell_type": "markdown",
   "id": "7d973d5a",
   "metadata": {},
   "source": [
    "# DaisyUI Explorer\n",
    "\n",
    "> CLI tool for exploring cjm-fasthtml-daisyui components and builders"
   ]
  },
  {
   "cell_type": "code",
   "execution_count": null,
   "id": "94174f5a",
   "metadata": {},
   "outputs": [],
   "source": [
    "#| default_exp cli.explorer"
   ]
  },
  {
   "cell_type": "code",
   "execution_count": null,
   "id": "93be2186",
   "metadata": {},
   "outputs": [],
   "source": [
    "#| hide\n",
    "from nbdev.showdoc import *"
   ]
  },
  {
   "cell_type": "code",
   "execution_count": null,
   "id": "e3365a80",
   "metadata": {},
   "outputs": [],
   "source": [
    "#| export\n",
    "# Import all the CLI functionality from the installed cjm-fasthtml-tailwind package\n",
    "from cjm_fasthtml_tailwind.cli.explorer import (\n",
    "    display_modules, display_module_factories, display_all_factories,\n",
    "    display_module_examples, display_all_examples, display_example_source,\n",
    "    display_module_helpers, display_helper_source, display_all_helpers,\n",
    "    display_factory_info, display_search_results, display_core_utility_source,\n",
    "    display_core_utilities, display_imports, display_test_code_result,\n",
    "    dispatch_command, handle_search_command, handle_test_code_command,\n",
    "    handle_scan_command, setup_argument_parser\n",
    ")\n",
    "\n",
    "# Import configuration management from tailwind\n",
    "from cjm_fasthtml_tailwind.cli.cli_config import set_active_config\n",
    "\n",
    "# Import our local DaisyUI configuration\n",
    "from cjm_fasthtml_daisyui.cli.cli_config import get_daisyui_config\n",
    "\n",
    "import argparse"
   ]
  },
  {
   "cell_type": "markdown",
   "id": "781f36f9",
   "metadata": {},
   "source": [
    "## DaisyUI-Specific Configuration\n",
    "\n",
    "Set up the DaisyUI configuration for the CLI:"
   ]
  },
  {
   "cell_type": "code",
   "execution_count": null,
   "id": "5f2a9d49",
   "metadata": {},
   "outputs": [],
   "source": [
    "#| export\n",
    "def initialize_daisyui_cli():\n",
    "    \"\"\"Initialize the CLI with DaisyUI configuration.\"\"\"\n",
    "    config = get_daisyui_config()\n",
    "    set_active_config(config)\n",
    "    return config"
   ]
  },
  {
   "cell_type": "markdown",
   "id": "5d87fb38",
   "metadata": {},
   "source": [
    "## CLI Entry Point\n",
    "\n",
    "Main function for the DaisyUI console script:"
   ]
  },
  {
   "cell_type": "code",
   "execution_count": null,
   "id": "9eb8e3d5",
   "metadata": {},
   "outputs": [],
   "source": [
    "#| export\n",
    "def main():\n",
    "    \"\"\"CLI entry point for exploring cjm-fasthtml-daisyui components.\"\"\"\n",
    "    # Initialize with DaisyUI configuration\n",
    "    initialize_daisyui_cli();\n",
    "    \n",
    "    # Set up the argument parser (will use DaisyUI config)\n",
    "    parser = setup_argument_parser()\n",
    "\n",
    "    \n",
    "    \n",
    "    # Update the program name and description for DaisyUI\n",
    "    # parser.prog = \"cjm-daisyui-explore\"\n",
    "    # parser.description = parser.description.replace(\n",
    "    #     \"cjm-fasthtml-tailwind\", \"cjm-fasthtml-daisyui\"\n",
    "    # ).replace(\n",
    "    #     \"Tailwind CSS v4 utility class builders\",\n",
    "    #     \"DaisyUI component builders and utilities\"\n",
    "    # )\n",
    "    \n",
    "    # Parse arguments\n",
    "    args = parser.parse_args()\n",
    "    \n",
    "    # If no command specified, show help\n",
    "    if args.command is None:\n",
    "        parser.print_help()\n",
    "        return\n",
    "    \n",
    "    # Dispatch to the appropriate command handler\n",
    "    dispatch_command(args)"
   ]
  },
  {
   "cell_type": "markdown",
   "id": "b0baed45",
   "metadata": {},
   "source": [
    "## CLI Usage\n",
    "\n",
    "Once installed, you can use the DaisyUI CLI tool from the command line:\n",
    "\n",
    "```bash\n",
    "# Show help\n",
    "cjm-daisyui-explore --help\n",
    "\n",
    "# List all component and builder modules\n",
    "cjm-daisyui-explore modules\n",
    "\n",
    "# List all factories/components\n",
    "cjm-daisyui-explore factories\n",
    "\n",
    "# List components for a specific module (e.g., actions)\n",
    "cjm-daisyui-explore factories --module actions\n",
    "cjm-daisyui-explore factories -m data_display\n",
    "\n",
    "# Show detailed info for a specific component\n",
    "cjm-daisyui-explore factory actions button\n",
    "cjm-daisyui-explore factory data_display card\n",
    "\n",
    "# Show usage examples\n",
    "cjm-daisyui-explore examples\n",
    "cjm-daisyui-explore examples --module actions\n",
    "\n",
    "# Show helper functions\n",
    "cjm-daisyui-explore helpers\n",
    "cjm-daisyui-explore helpers --module builders\n",
    "\n",
    "# Search across all components\n",
    "cjm-daisyui-explore search button\n",
    "cjm-daisyui-explore search modal\n",
    "cjm-daisyui-explore search theme\n",
    "\n",
    "# Test code snippets\n",
    "cjm-daisyui-explore test-code \"print(button('Click me'))\"\n",
    "cjm-daisyui-explore test-code \"print(card(title='Hello', content='World'))\"\n",
    "\n",
    "# Get recommended imports\n",
    "cjm-daisyui-explore imports\n",
    "cjm-daisyui-explore imports --modules actions data_display\n",
    "\n",
    "# Scan code for replaceable patterns\n",
    "cjm-daisyui-explore scan app.py\n",
    "cjm-daisyui-explore scan 'Div(\"Hello\", cls=\"btn btn-primary\")'\n",
    "```"
   ]
  },
  {
   "cell_type": "markdown",
   "id": "c1ba7c80",
   "metadata": {},
   "source": [
    "## Export"
   ]
  },
  {
   "cell_type": "code",
   "execution_count": null,
   "id": "c0591cc8",
   "metadata": {},
   "outputs": [],
   "source": [
    "#| hide\n",
    "import nbdev; nbdev.nbdev_export()"
   ]
  }
 ],
 "metadata": {
  "kernelspec": {
   "display_name": "python3",
   "language": "python",
   "name": "python3"
  }
 },
 "nbformat": 4,
 "nbformat_minor": 5
}
