{
 "cells": [
  {
   "cell_type": "markdown",
   "id": "98382fb1",
   "metadata": {},
   "source": [
    "# DaisyUI CLI Configuration\n",
    "\n",
    "> Configuration for the DaisyUI CLI tool"
   ]
  },
  {
   "cell_type": "code",
   "execution_count": null,
   "id": "25b36aff",
   "metadata": {},
   "outputs": [],
   "source": [
    "#| default_exp cli.cli_config"
   ]
  },
  {
   "cell_type": "code",
   "execution_count": null,
   "id": "976cb463",
   "metadata": {},
   "outputs": [],
   "source": [
    "#| hide\n",
    "from nbdev.showdoc import *"
   ]
  },
  {
   "cell_type": "code",
   "execution_count": null,
   "id": "dbe09d85",
   "metadata": {},
   "outputs": [],
   "source": [
    "#| export\n",
    "# Import the base configuration class from the installed tailwind package\n",
    "from cjm_fasthtml_tailwind.cli.cli_config import LibraryConfig, get_tailwind_config"
   ]
  },
  {
   "cell_type": "markdown",
   "id": "854e6f8a",
   "metadata": {},
   "source": [
    "## DaisyUI Configuration\n",
    "\n",
    "Define the configuration specific to the DaisyUI library:"
   ]
  },
  {
   "cell_type": "code",
   "execution_count": null,
   "id": "0c3215a8",
   "metadata": {},
   "outputs": [],
   "source": [
    "#| export\n",
    "def get_daisyui_config() -> LibraryConfig:\n",
    "    \"\"\"Get configuration for cjm-fasthtml-daisyui library.\n",
    "    \n",
    "    This configuration defines:\n",
    "    - Module discovery paths (components and builders)\n",
    "    - Core utilities specific to DaisyUI\n",
    "    - CLI command name\n",
    "    - Import paths\n",
    "    \"\"\"\n",
    "\n",
    "    tailwind_config = get_tailwind_config()\n",
    "    \n",
    "    return LibraryConfig(\n",
    "        package_name='cjm_fasthtml_daisyui',\n",
    "        cli_command='cjm-daisyui-explore',\n",
    "        display_name='DaisyUI v5',\n",
    "        module_discovery_paths=[\n",
    "            'components', \n",
    "            'utilities'\n",
    "        ],\n",
    "        core_package='cjm_fasthtml_daisyui.core',\n",
    "        core_utilities=[\n",
    "            ('combine_classes', 'cjm_fasthtml_tailwind.core.base'),\n",
    "            ('get_daisyui_headers', 'cjm_fasthtml_daisyui.core.resources')\n",
    "        ],\n",
    "        base_imports=['from fasthtml.common import *'],\n",
    "        # tailwind_config=tailwind_config,\n",
    "    )"
   ]
  },
  {
   "cell_type": "markdown",
   "id": "31dbd620",
   "metadata": {},
   "source": [
    "## Export"
   ]
  },
  {
   "cell_type": "code",
   "execution_count": null,
   "id": "6ad474ad",
   "metadata": {},
   "outputs": [],
   "source": [
    "#| hide\n",
    "import nbdev; nbdev.nbdev_export()"
   ]
  }
 ],
 "metadata": {
  "kernelspec": {
   "display_name": "python3",
   "language": "python",
   "name": "python3"
  }
 },
 "nbformat": 4,
 "nbformat_minor": 5
}
